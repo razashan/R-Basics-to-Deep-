{
 "cells": [
  {
   "cell_type": "markdown",
   "metadata": {},
   "source": [
    "#  which() function "
   ]
  },
  {
   "cell_type": "markdown",
   "metadata": {},
   "source": [
    "The which() function in R returns the position or the index of the value which satisfies the given condition. The Which() function in R gives you the position of the value in a logical vector. The position can be of anything like rows, columns and even vector as well"
   ]
  },
  {
   "cell_type": "markdown",
   "metadata": {},
   "source": [
    "### Syntax of which() function"
   ]
  },
  {
   "cell_type": "markdown",
   "metadata": {},
   "source": [
    "which(): The which function in R returns the position of the values in the logical vector."
   ]
  },
  {
   "cell_type": "markdown",
   "metadata": {},
   "source": [
    "**which(x,arr.ind = F,useNames = F)**"
   ]
  },
  {
   "cell_type": "markdown",
   "metadata": {},
   "source": [
    "* **X =** An input logical vector.\n",
    "* **Arr.ind =** Returns the array indices if x is an array.\n",
    "* **useNames =**Indicates the dimension names of an array."
   ]
  },
  {
   "cell_type": "code",
   "execution_count": 1,
   "metadata": {},
   "outputs": [
    {
     "data": {
      "text/html": [
       "16"
      ],
      "text/latex": [
       "16"
      ],
      "text/markdown": [
       "16"
      ],
      "text/plain": [
       "[1] 16"
      ]
     },
     "metadata": {},
     "output_type": "display_data"
    }
   ],
   "source": [
    "which(letters==\"p\")"
   ]
  },
  {
   "cell_type": "code",
   "execution_count": 3,
   "metadata": {},
   "outputs": [
    {
     "data": {
      "text/html": [
       "15"
      ],
      "text/latex": [
       "15"
      ],
      "text/markdown": [
       "15"
      ],
      "text/plain": [
       "[1] 15"
      ]
     },
     "metadata": {},
     "output_type": "display_data"
    }
   ],
   "source": [
    "which(letters==\"o\")"
   ]
  },
  {
   "cell_type": "code",
   "execution_count": 4,
   "metadata": {},
   "outputs": [
    {
     "data": {
      "text/html": [
       "16"
      ],
      "text/latex": [
       "16"
      ],
      "text/markdown": [
       "16"
      ],
      "text/plain": [
       "[1] 16"
      ]
     },
     "metadata": {},
     "output_type": "display_data"
    }
   ],
   "source": [
    "which(LETTERS==\"P\")"
   ]
  },
  {
   "cell_type": "code",
   "execution_count": 8,
   "metadata": {},
   "outputs": [
    {
     "data": {
      "text/html": [
       "13"
      ],
      "text/latex": [
       "13"
      ],
      "text/markdown": [
       "13"
      ],
      "text/plain": [
       "[1] 13"
      ]
     },
     "metadata": {},
     "output_type": "display_data"
    }
   ],
   "source": [
    "which(letters==\"m\")"
   ]
  },
  {
   "cell_type": "markdown",
   "metadata": {},
   "source": [
    "#### Using the which() function with vectors"
   ]
  },
  {
   "cell_type": "code",
   "execution_count": 1,
   "metadata": {},
   "outputs": [
    {
     "data": {
      "text/html": [
       "4"
      ],
      "text/latex": [
       "4"
      ],
      "text/markdown": [
       "4"
      ],
      "text/plain": [
       "[1] 4"
      ]
     },
     "metadata": {},
     "output_type": "display_data"
    }
   ],
   "source": [
    "df<- c(5,4,3,2,1)\n",
    "which(df ==2)"
   ]
  },
  {
   "cell_type": "code",
   "execution_count": 3,
   "metadata": {},
   "outputs": [],
   "source": [
    "dfa <- c(\"Kon\",\"Shan\",\"James\",\"Johns\")"
   ]
  },
  {
   "cell_type": "code",
   "execution_count": 4,
   "metadata": {},
   "outputs": [
    {
     "data": {
      "text/html": [],
      "text/latex": [],
      "text/markdown": [],
      "text/plain": [
       "integer(0)"
      ]
     },
     "metadata": {},
     "output_type": "display_data"
    }
   ],
   "source": [
    "which(dfa==\"Smith\")"
   ]
  },
  {
   "cell_type": "code",
   "execution_count": 5,
   "metadata": {},
   "outputs": [
    {
     "data": {
      "text/html": [
       "1"
      ],
      "text/latex": [
       "1"
      ],
      "text/markdown": [
       "1"
      ],
      "text/plain": [
       "[1] 1"
      ]
     },
     "metadata": {},
     "output_type": "display_data"
    }
   ],
   "source": [
    "which(df==5)"
   ]
  },
  {
   "cell_type": "code",
   "execution_count": 9,
   "metadata": {},
   "outputs": [
    {
     "data": {
      "text/html": [
       "5"
      ],
      "text/latex": [
       "5"
      ],
      "text/markdown": [
       "5"
      ],
      "text/plain": [
       "[1] 5"
      ]
     },
     "metadata": {},
     "output_type": "display_data"
    }
   ],
   "source": [
    "which(df==1)"
   ]
  },
  {
   "cell_type": "code",
   "execution_count": 10,
   "metadata": {},
   "outputs": [
    {
     "data": {
      "text/html": [
       "<ol class=list-inline>\n",
       "\t<li>1</li>\n",
       "\t<li>2</li>\n",
       "\t<li>3</li>\n",
       "</ol>\n"
      ],
      "text/latex": [
       "\\begin{enumerate*}\n",
       "\\item 1\n",
       "\\item 2\n",
       "\\item 3\n",
       "\\end{enumerate*}\n"
      ],
      "text/markdown": [
       "1. 1\n",
       "2. 2\n",
       "3. 3\n",
       "\n",
       "\n"
      ],
      "text/plain": [
       "[1] 1 2 3"
      ]
     },
     "metadata": {},
     "output_type": "display_data"
    }
   ],
   "source": [
    "which(df>2)"
   ]
  },
  {
   "cell_type": "markdown",
   "metadata": {},
   "source": [
    "#### Using the which() function with dataframes"
   ]
  },
  {
   "cell_type": "code",
   "execution_count": 6,
   "metadata": {},
   "outputs": [
    {
     "data": {
      "text/html": [
       "<table>\n",
       "<thead><tr><th scope=col>Time</th><th scope=col>demand</th></tr></thead>\n",
       "<tbody>\n",
       "\t<tr><td>1   </td><td> 8.3</td></tr>\n",
       "\t<tr><td>2   </td><td>10.3</td></tr>\n",
       "\t<tr><td>3   </td><td>19.0</td></tr>\n",
       "\t<tr><td>4   </td><td>16.0</td></tr>\n",
       "\t<tr><td>5   </td><td>15.6</td></tr>\n",
       "\t<tr><td>7   </td><td>19.8</td></tr>\n",
       "</tbody>\n",
       "</table>\n"
      ],
      "text/latex": [
       "\\begin{tabular}{r|ll}\n",
       " Time & demand\\\\\n",
       "\\hline\n",
       "\t 1    &  8.3\\\\\n",
       "\t 2    & 10.3\\\\\n",
       "\t 3    & 19.0\\\\\n",
       "\t 4    & 16.0\\\\\n",
       "\t 5    & 15.6\\\\\n",
       "\t 7    & 19.8\\\\\n",
       "\\end{tabular}\n"
      ],
      "text/markdown": [
       "\n",
       "| Time | demand |\n",
       "|---|---|\n",
       "| 1    |  8.3 |\n",
       "| 2    | 10.3 |\n",
       "| 3    | 19.0 |\n",
       "| 4    | 16.0 |\n",
       "| 5    | 15.6 |\n",
       "| 7    | 19.8 |\n",
       "\n"
      ],
      "text/plain": [
       "  Time demand\n",
       "1 1     8.3  \n",
       "2 2    10.3  \n",
       "3 3    19.0  \n",
       "4 4    16.0  \n",
       "5 5    15.6  \n",
       "6 7    19.8  "
      ]
     },
     "metadata": {},
     "output_type": "display_data"
    }
   ],
   "source": [
    "df<-datasets::BOD\n",
    "df"
   ]
  },
  {
   "cell_type": "code",
   "execution_count": 7,
   "metadata": {},
   "outputs": [
    {
     "data": {
      "text/html": [
       "2"
      ],
      "text/latex": [
       "2"
      ],
      "text/markdown": [
       "2"
      ],
      "text/plain": [
       "[1] 2"
      ]
     },
     "metadata": {},
     "output_type": "display_data"
    }
   ],
   "source": [
    "which(df['demand']=='10.3')"
   ]
  },
  {
   "cell_type": "code",
   "execution_count": 11,
   "metadata": {},
   "outputs": [
    {
     "data": {
      "text/html": [
       "2"
      ],
      "text/latex": [
       "2"
      ],
      "text/markdown": [
       "2"
      ],
      "text/plain": [
       "[1] 2"
      ]
     },
     "metadata": {},
     "output_type": "display_data"
    }
   ],
   "source": [
    "which(df$demand== 10.3)"
   ]
  },
  {
   "cell_type": "code",
   "execution_count": 12,
   "metadata": {},
   "outputs": [
    {
     "data": {
      "text/html": [
       "<table>\n",
       "<thead><tr><th scope=col>Sepal.Length</th><th scope=col>Sepal.Width</th><th scope=col>Petal.Length</th><th scope=col>Petal.Width</th><th scope=col>Species</th></tr></thead>\n",
       "<tbody>\n",
       "\t<tr><td>5.1   </td><td>3.5   </td><td>1.4   </td><td>0.2   </td><td>setosa</td></tr>\n",
       "\t<tr><td>4.9   </td><td>3.0   </td><td>1.4   </td><td>0.2   </td><td>setosa</td></tr>\n",
       "\t<tr><td>4.7   </td><td>3.2   </td><td>1.3   </td><td>0.2   </td><td>setosa</td></tr>\n",
       "\t<tr><td>4.6   </td><td>3.1   </td><td>1.5   </td><td>0.2   </td><td>setosa</td></tr>\n",
       "\t<tr><td>5.0   </td><td>3.6   </td><td>1.4   </td><td>0.2   </td><td>setosa</td></tr>\n",
       "\t<tr><td>5.4   </td><td>3.9   </td><td>1.7   </td><td>0.4   </td><td>setosa</td></tr>\n",
       "\t<tr><td>4.6   </td><td>3.4   </td><td>1.4   </td><td>0.3   </td><td>setosa</td></tr>\n",
       "\t<tr><td>5.0   </td><td>3.4   </td><td>1.5   </td><td>0.2   </td><td>setosa</td></tr>\n",
       "\t<tr><td>4.4   </td><td>2.9   </td><td>1.4   </td><td>0.2   </td><td>setosa</td></tr>\n",
       "\t<tr><td>4.9   </td><td>3.1   </td><td>1.5   </td><td>0.1   </td><td>setosa</td></tr>\n",
       "\t<tr><td>5.4   </td><td>3.7   </td><td>1.5   </td><td>0.2   </td><td>setosa</td></tr>\n",
       "\t<tr><td>4.8   </td><td>3.4   </td><td>1.6   </td><td>0.2   </td><td>setosa</td></tr>\n",
       "\t<tr><td>4.8   </td><td>3.0   </td><td>1.4   </td><td>0.1   </td><td>setosa</td></tr>\n",
       "\t<tr><td>4.3   </td><td>3.0   </td><td>1.1   </td><td>0.1   </td><td>setosa</td></tr>\n",
       "\t<tr><td>5.8   </td><td>4.0   </td><td>1.2   </td><td>0.2   </td><td>setosa</td></tr>\n",
       "\t<tr><td>5.7   </td><td>4.4   </td><td>1.5   </td><td>0.4   </td><td>setosa</td></tr>\n",
       "\t<tr><td>5.4   </td><td>3.9   </td><td>1.3   </td><td>0.4   </td><td>setosa</td></tr>\n",
       "\t<tr><td>5.1   </td><td>3.5   </td><td>1.4   </td><td>0.3   </td><td>setosa</td></tr>\n",
       "\t<tr><td>5.7   </td><td>3.8   </td><td>1.7   </td><td>0.3   </td><td>setosa</td></tr>\n",
       "\t<tr><td>5.1   </td><td>3.8   </td><td>1.5   </td><td>0.3   </td><td>setosa</td></tr>\n",
       "\t<tr><td>5.4   </td><td>3.4   </td><td>1.7   </td><td>0.2   </td><td>setosa</td></tr>\n",
       "\t<tr><td>5.1   </td><td>3.7   </td><td>1.5   </td><td>0.4   </td><td>setosa</td></tr>\n",
       "\t<tr><td>4.6   </td><td>3.6   </td><td>1.0   </td><td>0.2   </td><td>setosa</td></tr>\n",
       "\t<tr><td>5.1   </td><td>3.3   </td><td>1.7   </td><td>0.5   </td><td>setosa</td></tr>\n",
       "\t<tr><td>4.8   </td><td>3.4   </td><td>1.9   </td><td>0.2   </td><td>setosa</td></tr>\n",
       "\t<tr><td>5.0   </td><td>3.0   </td><td>1.6   </td><td>0.2   </td><td>setosa</td></tr>\n",
       "\t<tr><td>5.0   </td><td>3.4   </td><td>1.6   </td><td>0.4   </td><td>setosa</td></tr>\n",
       "\t<tr><td>5.2   </td><td>3.5   </td><td>1.5   </td><td>0.2   </td><td>setosa</td></tr>\n",
       "\t<tr><td>5.2   </td><td>3.4   </td><td>1.4   </td><td>0.2   </td><td>setosa</td></tr>\n",
       "\t<tr><td>4.7   </td><td>3.2   </td><td>1.6   </td><td>0.2   </td><td>setosa</td></tr>\n",
       "\t<tr><td>...</td><td>...</td><td>...</td><td>...</td><td>...</td></tr>\n",
       "\t<tr><td>6.9      </td><td>3.2      </td><td>5.7      </td><td>2.3      </td><td>virginica</td></tr>\n",
       "\t<tr><td>5.6      </td><td>2.8      </td><td>4.9      </td><td>2.0      </td><td>virginica</td></tr>\n",
       "\t<tr><td>7.7      </td><td>2.8      </td><td>6.7      </td><td>2.0      </td><td>virginica</td></tr>\n",
       "\t<tr><td>6.3      </td><td>2.7      </td><td>4.9      </td><td>1.8      </td><td>virginica</td></tr>\n",
       "\t<tr><td>6.7      </td><td>3.3      </td><td>5.7      </td><td>2.1      </td><td>virginica</td></tr>\n",
       "\t<tr><td>7.2      </td><td>3.2      </td><td>6.0      </td><td>1.8      </td><td>virginica</td></tr>\n",
       "\t<tr><td>6.2      </td><td>2.8      </td><td>4.8      </td><td>1.8      </td><td>virginica</td></tr>\n",
       "\t<tr><td>6.1      </td><td>3.0      </td><td>4.9      </td><td>1.8      </td><td>virginica</td></tr>\n",
       "\t<tr><td>6.4      </td><td>2.8      </td><td>5.6      </td><td>2.1      </td><td>virginica</td></tr>\n",
       "\t<tr><td>7.2      </td><td>3.0      </td><td>5.8      </td><td>1.6      </td><td>virginica</td></tr>\n",
       "\t<tr><td>7.4      </td><td>2.8      </td><td>6.1      </td><td>1.9      </td><td>virginica</td></tr>\n",
       "\t<tr><td>7.9      </td><td>3.8      </td><td>6.4      </td><td>2.0      </td><td>virginica</td></tr>\n",
       "\t<tr><td>6.4      </td><td>2.8      </td><td>5.6      </td><td>2.2      </td><td>virginica</td></tr>\n",
       "\t<tr><td>6.3      </td><td>2.8      </td><td>5.1      </td><td>1.5      </td><td>virginica</td></tr>\n",
       "\t<tr><td>6.1      </td><td>2.6      </td><td>5.6      </td><td>1.4      </td><td>virginica</td></tr>\n",
       "\t<tr><td>7.7      </td><td>3.0      </td><td>6.1      </td><td>2.3      </td><td>virginica</td></tr>\n",
       "\t<tr><td>6.3      </td><td>3.4      </td><td>5.6      </td><td>2.4      </td><td>virginica</td></tr>\n",
       "\t<tr><td>6.4      </td><td>3.1      </td><td>5.5      </td><td>1.8      </td><td>virginica</td></tr>\n",
       "\t<tr><td>6.0      </td><td>3.0      </td><td>4.8      </td><td>1.8      </td><td>virginica</td></tr>\n",
       "\t<tr><td>6.9      </td><td>3.1      </td><td>5.4      </td><td>2.1      </td><td>virginica</td></tr>\n",
       "\t<tr><td>6.7      </td><td>3.1      </td><td>5.6      </td><td>2.4      </td><td>virginica</td></tr>\n",
       "\t<tr><td>6.9      </td><td>3.1      </td><td>5.1      </td><td>2.3      </td><td>virginica</td></tr>\n",
       "\t<tr><td>5.8      </td><td>2.7      </td><td>5.1      </td><td>1.9      </td><td>virginica</td></tr>\n",
       "\t<tr><td>6.8      </td><td>3.2      </td><td>5.9      </td><td>2.3      </td><td>virginica</td></tr>\n",
       "\t<tr><td>6.7      </td><td>3.3      </td><td>5.7      </td><td>2.5      </td><td>virginica</td></tr>\n",
       "\t<tr><td>6.7      </td><td>3.0      </td><td>5.2      </td><td>2.3      </td><td>virginica</td></tr>\n",
       "\t<tr><td>6.3      </td><td>2.5      </td><td>5.0      </td><td>1.9      </td><td>virginica</td></tr>\n",
       "\t<tr><td>6.5      </td><td>3.0      </td><td>5.2      </td><td>2.0      </td><td>virginica</td></tr>\n",
       "\t<tr><td>6.2      </td><td>3.4      </td><td>5.4      </td><td>2.3      </td><td>virginica</td></tr>\n",
       "\t<tr><td>5.9      </td><td>3.0      </td><td>5.1      </td><td>1.8      </td><td>virginica</td></tr>\n",
       "</tbody>\n",
       "</table>\n"
      ],
      "text/latex": [
       "\\begin{tabular}{r|lllll}\n",
       " Sepal.Length & Sepal.Width & Petal.Length & Petal.Width & Species\\\\\n",
       "\\hline\n",
       "\t 5.1    & 3.5    & 1.4    & 0.2    & setosa\\\\\n",
       "\t 4.9    & 3.0    & 1.4    & 0.2    & setosa\\\\\n",
       "\t 4.7    & 3.2    & 1.3    & 0.2    & setosa\\\\\n",
       "\t 4.6    & 3.1    & 1.5    & 0.2    & setosa\\\\\n",
       "\t 5.0    & 3.6    & 1.4    & 0.2    & setosa\\\\\n",
       "\t 5.4    & 3.9    & 1.7    & 0.4    & setosa\\\\\n",
       "\t 4.6    & 3.4    & 1.4    & 0.3    & setosa\\\\\n",
       "\t 5.0    & 3.4    & 1.5    & 0.2    & setosa\\\\\n",
       "\t 4.4    & 2.9    & 1.4    & 0.2    & setosa\\\\\n",
       "\t 4.9    & 3.1    & 1.5    & 0.1    & setosa\\\\\n",
       "\t 5.4    & 3.7    & 1.5    & 0.2    & setosa\\\\\n",
       "\t 4.8    & 3.4    & 1.6    & 0.2    & setosa\\\\\n",
       "\t 4.8    & 3.0    & 1.4    & 0.1    & setosa\\\\\n",
       "\t 4.3    & 3.0    & 1.1    & 0.1    & setosa\\\\\n",
       "\t 5.8    & 4.0    & 1.2    & 0.2    & setosa\\\\\n",
       "\t 5.7    & 4.4    & 1.5    & 0.4    & setosa\\\\\n",
       "\t 5.4    & 3.9    & 1.3    & 0.4    & setosa\\\\\n",
       "\t 5.1    & 3.5    & 1.4    & 0.3    & setosa\\\\\n",
       "\t 5.7    & 3.8    & 1.7    & 0.3    & setosa\\\\\n",
       "\t 5.1    & 3.8    & 1.5    & 0.3    & setosa\\\\\n",
       "\t 5.4    & 3.4    & 1.7    & 0.2    & setosa\\\\\n",
       "\t 5.1    & 3.7    & 1.5    & 0.4    & setosa\\\\\n",
       "\t 4.6    & 3.6    & 1.0    & 0.2    & setosa\\\\\n",
       "\t 5.1    & 3.3    & 1.7    & 0.5    & setosa\\\\\n",
       "\t 4.8    & 3.4    & 1.9    & 0.2    & setosa\\\\\n",
       "\t 5.0    & 3.0    & 1.6    & 0.2    & setosa\\\\\n",
       "\t 5.0    & 3.4    & 1.6    & 0.4    & setosa\\\\\n",
       "\t 5.2    & 3.5    & 1.5    & 0.2    & setosa\\\\\n",
       "\t 5.2    & 3.4    & 1.4    & 0.2    & setosa\\\\\n",
       "\t 4.7    & 3.2    & 1.6    & 0.2    & setosa\\\\\n",
       "\t ... & ... & ... & ... & ...\\\\\n",
       "\t 6.9       & 3.2       & 5.7       & 2.3       & virginica\\\\\n",
       "\t 5.6       & 2.8       & 4.9       & 2.0       & virginica\\\\\n",
       "\t 7.7       & 2.8       & 6.7       & 2.0       & virginica\\\\\n",
       "\t 6.3       & 2.7       & 4.9       & 1.8       & virginica\\\\\n",
       "\t 6.7       & 3.3       & 5.7       & 2.1       & virginica\\\\\n",
       "\t 7.2       & 3.2       & 6.0       & 1.8       & virginica\\\\\n",
       "\t 6.2       & 2.8       & 4.8       & 1.8       & virginica\\\\\n",
       "\t 6.1       & 3.0       & 4.9       & 1.8       & virginica\\\\\n",
       "\t 6.4       & 2.8       & 5.6       & 2.1       & virginica\\\\\n",
       "\t 7.2       & 3.0       & 5.8       & 1.6       & virginica\\\\\n",
       "\t 7.4       & 2.8       & 6.1       & 1.9       & virginica\\\\\n",
       "\t 7.9       & 3.8       & 6.4       & 2.0       & virginica\\\\\n",
       "\t 6.4       & 2.8       & 5.6       & 2.2       & virginica\\\\\n",
       "\t 6.3       & 2.8       & 5.1       & 1.5       & virginica\\\\\n",
       "\t 6.1       & 2.6       & 5.6       & 1.4       & virginica\\\\\n",
       "\t 7.7       & 3.0       & 6.1       & 2.3       & virginica\\\\\n",
       "\t 6.3       & 3.4       & 5.6       & 2.4       & virginica\\\\\n",
       "\t 6.4       & 3.1       & 5.5       & 1.8       & virginica\\\\\n",
       "\t 6.0       & 3.0       & 4.8       & 1.8       & virginica\\\\\n",
       "\t 6.9       & 3.1       & 5.4       & 2.1       & virginica\\\\\n",
       "\t 6.7       & 3.1       & 5.6       & 2.4       & virginica\\\\\n",
       "\t 6.9       & 3.1       & 5.1       & 2.3       & virginica\\\\\n",
       "\t 5.8       & 2.7       & 5.1       & 1.9       & virginica\\\\\n",
       "\t 6.8       & 3.2       & 5.9       & 2.3       & virginica\\\\\n",
       "\t 6.7       & 3.3       & 5.7       & 2.5       & virginica\\\\\n",
       "\t 6.7       & 3.0       & 5.2       & 2.3       & virginica\\\\\n",
       "\t 6.3       & 2.5       & 5.0       & 1.9       & virginica\\\\\n",
       "\t 6.5       & 3.0       & 5.2       & 2.0       & virginica\\\\\n",
       "\t 6.2       & 3.4       & 5.4       & 2.3       & virginica\\\\\n",
       "\t 5.9       & 3.0       & 5.1       & 1.8       & virginica\\\\\n",
       "\\end{tabular}\n"
      ],
      "text/markdown": [
       "\n",
       "| Sepal.Length | Sepal.Width | Petal.Length | Petal.Width | Species |\n",
       "|---|---|---|---|---|\n",
       "| 5.1    | 3.5    | 1.4    | 0.2    | setosa |\n",
       "| 4.9    | 3.0    | 1.4    | 0.2    | setosa |\n",
       "| 4.7    | 3.2    | 1.3    | 0.2    | setosa |\n",
       "| 4.6    | 3.1    | 1.5    | 0.2    | setosa |\n",
       "| 5.0    | 3.6    | 1.4    | 0.2    | setosa |\n",
       "| 5.4    | 3.9    | 1.7    | 0.4    | setosa |\n",
       "| 4.6    | 3.4    | 1.4    | 0.3    | setosa |\n",
       "| 5.0    | 3.4    | 1.5    | 0.2    | setosa |\n",
       "| 4.4    | 2.9    | 1.4    | 0.2    | setosa |\n",
       "| 4.9    | 3.1    | 1.5    | 0.1    | setosa |\n",
       "| 5.4    | 3.7    | 1.5    | 0.2    | setosa |\n",
       "| 4.8    | 3.4    | 1.6    | 0.2    | setosa |\n",
       "| 4.8    | 3.0    | 1.4    | 0.1    | setosa |\n",
       "| 4.3    | 3.0    | 1.1    | 0.1    | setosa |\n",
       "| 5.8    | 4.0    | 1.2    | 0.2    | setosa |\n",
       "| 5.7    | 4.4    | 1.5    | 0.4    | setosa |\n",
       "| 5.4    | 3.9    | 1.3    | 0.4    | setosa |\n",
       "| 5.1    | 3.5    | 1.4    | 0.3    | setosa |\n",
       "| 5.7    | 3.8    | 1.7    | 0.3    | setosa |\n",
       "| 5.1    | 3.8    | 1.5    | 0.3    | setosa |\n",
       "| 5.4    | 3.4    | 1.7    | 0.2    | setosa |\n",
       "| 5.1    | 3.7    | 1.5    | 0.4    | setosa |\n",
       "| 4.6    | 3.6    | 1.0    | 0.2    | setosa |\n",
       "| 5.1    | 3.3    | 1.7    | 0.5    | setosa |\n",
       "| 4.8    | 3.4    | 1.9    | 0.2    | setosa |\n",
       "| 5.0    | 3.0    | 1.6    | 0.2    | setosa |\n",
       "| 5.0    | 3.4    | 1.6    | 0.4    | setosa |\n",
       "| 5.2    | 3.5    | 1.5    | 0.2    | setosa |\n",
       "| 5.2    | 3.4    | 1.4    | 0.2    | setosa |\n",
       "| 4.7    | 3.2    | 1.6    | 0.2    | setosa |\n",
       "| ... | ... | ... | ... | ... |\n",
       "| 6.9       | 3.2       | 5.7       | 2.3       | virginica |\n",
       "| 5.6       | 2.8       | 4.9       | 2.0       | virginica |\n",
       "| 7.7       | 2.8       | 6.7       | 2.0       | virginica |\n",
       "| 6.3       | 2.7       | 4.9       | 1.8       | virginica |\n",
       "| 6.7       | 3.3       | 5.7       | 2.1       | virginica |\n",
       "| 7.2       | 3.2       | 6.0       | 1.8       | virginica |\n",
       "| 6.2       | 2.8       | 4.8       | 1.8       | virginica |\n",
       "| 6.1       | 3.0       | 4.9       | 1.8       | virginica |\n",
       "| 6.4       | 2.8       | 5.6       | 2.1       | virginica |\n",
       "| 7.2       | 3.0       | 5.8       | 1.6       | virginica |\n",
       "| 7.4       | 2.8       | 6.1       | 1.9       | virginica |\n",
       "| 7.9       | 3.8       | 6.4       | 2.0       | virginica |\n",
       "| 6.4       | 2.8       | 5.6       | 2.2       | virginica |\n",
       "| 6.3       | 2.8       | 5.1       | 1.5       | virginica |\n",
       "| 6.1       | 2.6       | 5.6       | 1.4       | virginica |\n",
       "| 7.7       | 3.0       | 6.1       | 2.3       | virginica |\n",
       "| 6.3       | 3.4       | 5.6       | 2.4       | virginica |\n",
       "| 6.4       | 3.1       | 5.5       | 1.8       | virginica |\n",
       "| 6.0       | 3.0       | 4.8       | 1.8       | virginica |\n",
       "| 6.9       | 3.1       | 5.4       | 2.1       | virginica |\n",
       "| 6.7       | 3.1       | 5.6       | 2.4       | virginica |\n",
       "| 6.9       | 3.1       | 5.1       | 2.3       | virginica |\n",
       "| 5.8       | 2.7       | 5.1       | 1.9       | virginica |\n",
       "| 6.8       | 3.2       | 5.9       | 2.3       | virginica |\n",
       "| 6.7       | 3.3       | 5.7       | 2.5       | virginica |\n",
       "| 6.7       | 3.0       | 5.2       | 2.3       | virginica |\n",
       "| 6.3       | 2.5       | 5.0       | 1.9       | virginica |\n",
       "| 6.5       | 3.0       | 5.2       | 2.0       | virginica |\n",
       "| 6.2       | 3.4       | 5.4       | 2.3       | virginica |\n",
       "| 5.9       | 3.0       | 5.1       | 1.8       | virginica |\n",
       "\n"
      ],
      "text/plain": [
       "    Sepal.Length Sepal.Width Petal.Length Petal.Width Species  \n",
       "1   5.1          3.5         1.4          0.2         setosa   \n",
       "2   4.9          3.0         1.4          0.2         setosa   \n",
       "3   4.7          3.2         1.3          0.2         setosa   \n",
       "4   4.6          3.1         1.5          0.2         setosa   \n",
       "5   5.0          3.6         1.4          0.2         setosa   \n",
       "6   5.4          3.9         1.7          0.4         setosa   \n",
       "7   4.6          3.4         1.4          0.3         setosa   \n",
       "8   5.0          3.4         1.5          0.2         setosa   \n",
       "9   4.4          2.9         1.4          0.2         setosa   \n",
       "10  4.9          3.1         1.5          0.1         setosa   \n",
       "11  5.4          3.7         1.5          0.2         setosa   \n",
       "12  4.8          3.4         1.6          0.2         setosa   \n",
       "13  4.8          3.0         1.4          0.1         setosa   \n",
       "14  4.3          3.0         1.1          0.1         setosa   \n",
       "15  5.8          4.0         1.2          0.2         setosa   \n",
       "16  5.7          4.4         1.5          0.4         setosa   \n",
       "17  5.4          3.9         1.3          0.4         setosa   \n",
       "18  5.1          3.5         1.4          0.3         setosa   \n",
       "19  5.7          3.8         1.7          0.3         setosa   \n",
       "20  5.1          3.8         1.5          0.3         setosa   \n",
       "21  5.4          3.4         1.7          0.2         setosa   \n",
       "22  5.1          3.7         1.5          0.4         setosa   \n",
       "23  4.6          3.6         1.0          0.2         setosa   \n",
       "24  5.1          3.3         1.7          0.5         setosa   \n",
       "25  4.8          3.4         1.9          0.2         setosa   \n",
       "26  5.0          3.0         1.6          0.2         setosa   \n",
       "27  5.0          3.4         1.6          0.4         setosa   \n",
       "28  5.2          3.5         1.5          0.2         setosa   \n",
       "29  5.2          3.4         1.4          0.2         setosa   \n",
       "30  4.7          3.2         1.6          0.2         setosa   \n",
       "... ...          ...         ...          ...         ...      \n",
       "121 6.9          3.2         5.7          2.3         virginica\n",
       "122 5.6          2.8         4.9          2.0         virginica\n",
       "123 7.7          2.8         6.7          2.0         virginica\n",
       "124 6.3          2.7         4.9          1.8         virginica\n",
       "125 6.7          3.3         5.7          2.1         virginica\n",
       "126 7.2          3.2         6.0          1.8         virginica\n",
       "127 6.2          2.8         4.8          1.8         virginica\n",
       "128 6.1          3.0         4.9          1.8         virginica\n",
       "129 6.4          2.8         5.6          2.1         virginica\n",
       "130 7.2          3.0         5.8          1.6         virginica\n",
       "131 7.4          2.8         6.1          1.9         virginica\n",
       "132 7.9          3.8         6.4          2.0         virginica\n",
       "133 6.4          2.8         5.6          2.2         virginica\n",
       "134 6.3          2.8         5.1          1.5         virginica\n",
       "135 6.1          2.6         5.6          1.4         virginica\n",
       "136 7.7          3.0         6.1          2.3         virginica\n",
       "137 6.3          3.4         5.6          2.4         virginica\n",
       "138 6.4          3.1         5.5          1.8         virginica\n",
       "139 6.0          3.0         4.8          1.8         virginica\n",
       "140 6.9          3.1         5.4          2.1         virginica\n",
       "141 6.7          3.1         5.6          2.4         virginica\n",
       "142 6.9          3.1         5.1          2.3         virginica\n",
       "143 5.8          2.7         5.1          1.9         virginica\n",
       "144 6.8          3.2         5.9          2.3         virginica\n",
       "145 6.7          3.3         5.7          2.5         virginica\n",
       "146 6.7          3.0         5.2          2.3         virginica\n",
       "147 6.3          2.5         5.0          1.9         virginica\n",
       "148 6.5          3.0         5.2          2.0         virginica\n",
       "149 6.2          3.4         5.4          2.3         virginica\n",
       "150 5.9          3.0         5.1          1.8         virginica"
      ]
     },
     "metadata": {},
     "output_type": "display_data"
    }
   ],
   "source": [
    "df<-datasets::iris\n",
    "df"
   ]
  },
  {
   "cell_type": "markdown",
   "metadata": {},
   "source": [
    "**is.numeric()** function in R Language is used to check if the object passed to it as argument is of numeric type."
   ]
  },
  {
   "cell_type": "code",
   "execution_count": 15,
   "metadata": {},
   "outputs": [
    {
     "data": {
      "text/html": [
       "<ol class=list-inline>\n",
       "\t<li>'Sepal.Length'</li>\n",
       "\t<li>'Sepal.Width'</li>\n",
       "\t<li>'Petal.Length'</li>\n",
       "\t<li>'Petal.Width'</li>\n",
       "</ol>\n"
      ],
      "text/latex": [
       "\\begin{enumerate*}\n",
       "\\item 'Sepal.Length'\n",
       "\\item 'Sepal.Width'\n",
       "\\item 'Petal.Length'\n",
       "\\item 'Petal.Width'\n",
       "\\end{enumerate*}\n"
      ],
      "text/markdown": [
       "1. 'Sepal.Length'\n",
       "2. 'Sepal.Width'\n",
       "3. 'Petal.Length'\n",
       "4. 'Petal.Width'\n",
       "\n",
       "\n"
      ],
      "text/plain": [
       "[1] \"Sepal.Length\" \"Sepal.Width\"  \"Petal.Length\" \"Petal.Width\" "
      ]
     },
     "metadata": {},
     "output_type": "display_data"
    }
   ],
   "source": [
    "test<-which(sapply(df,is.numeric))\n",
    "colnames(df)[test]\n",
    "#test"
   ]
  },
  {
   "cell_type": "code",
   "execution_count": 16,
   "metadata": {},
   "outputs": [],
   "source": [
    "dfa <- read.csv('marvel-wikia-data.csv')"
   ]
  },
  {
   "cell_type": "code",
   "execution_count": 18,
   "metadata": {},
   "outputs": [
    {
     "data": {
      "text/html": [
       "<ol class=list-inline>\n",
       "\t<li>'page_id'</li>\n",
       "\t<li>'APPEARANCES'</li>\n",
       "\t<li>'Year'</li>\n",
       "</ol>\n"
      ],
      "text/latex": [
       "\\begin{enumerate*}\n",
       "\\item 'page\\_id'\n",
       "\\item 'APPEARANCES'\n",
       "\\item 'Year'\n",
       "\\end{enumerate*}\n"
      ],
      "text/markdown": [
       "1. 'page_id'\n",
       "2. 'APPEARANCES'\n",
       "3. 'Year'\n",
       "\n",
       "\n"
      ],
      "text/plain": [
       "[1] \"page_id\"     \"APPEARANCES\" \"Year\"       "
      ]
     },
     "metadata": {},
     "output_type": "display_data"
    }
   ],
   "source": [
    "testa <- which(sapply(dfa,is.numeric))\n",
    "colnames(dfa)[testa]"
   ]
  },
  {
   "cell_type": "code",
   "execution_count": 19,
   "metadata": {},
   "outputs": [
    {
     "data": {
      "text/html": [
       "<dl class=dl-horizontal>\n",
       "\t<dt>page_id</dt>\n",
       "\t\t<dd>1</dd>\n",
       "\t<dt>APPEARANCES</dt>\n",
       "\t\t<dd>11</dd>\n",
       "\t<dt>Year</dt>\n",
       "\t\t<dd>13</dd>\n",
       "</dl>\n"
      ],
      "text/latex": [
       "\\begin{description*}\n",
       "\\item[page\\textbackslash{}\\_id] 1\n",
       "\\item[APPEARANCES] 11\n",
       "\\item[Year] 13\n",
       "\\end{description*}\n"
      ],
      "text/markdown": [
       "page_id\n",
       ":   1APPEARANCES\n",
       ":   11Year\n",
       ":   13\n",
       "\n"
      ],
      "text/plain": [
       "    page_id APPEARANCES        Year \n",
       "          1          11          13 "
      ]
     },
     "metadata": {},
     "output_type": "display_data"
    }
   ],
   "source": [
    "testa\n"
   ]
  },
  {
   "cell_type": "markdown",
   "metadata": {},
   "source": [
    "#### Which function with Matrix in R"
   ]
  },
  {
   "cell_type": "code",
   "execution_count": 24,
   "metadata": {},
   "outputs": [
    {
     "data": {
      "text/html": [
       "<table>\n",
       "<tbody>\n",
       "\t<tr><td>1</td><td>0</td><td>1</td></tr>\n",
       "\t<tr><td>0</td><td>1</td><td>1</td></tr>\n",
       "\t<tr><td>1</td><td>1</td><td>0</td></tr>\n",
       "\t<tr><td>1</td><td>0</td><td>1</td></tr>\n",
       "</tbody>\n",
       "</table>\n"
      ],
      "text/latex": [
       "\\begin{tabular}{lll}\n",
       "\t 1 & 0 & 1\\\\\n",
       "\t 0 & 1 & 1\\\\\n",
       "\t 1 & 1 & 0\\\\\n",
       "\t 1 & 0 & 1\\\\\n",
       "\\end{tabular}\n"
      ],
      "text/markdown": [
       "\n",
       "| 1 | 0 | 1 |\n",
       "| 0 | 1 | 1 |\n",
       "| 1 | 1 | 0 |\n",
       "| 1 | 0 | 1 |\n",
       "\n"
      ],
      "text/plain": [
       "     [,1] [,2] [,3]\n",
       "[1,] 1    0    1   \n",
       "[2,] 0    1    1   \n",
       "[3,] 1    1    0   \n",
       "[4,] 1    0    1   "
      ]
     },
     "metadata": {},
     "output_type": "display_data"
    }
   ],
   "source": [
    "df<-matrix(rep(c(1,0,1),4),nrow = 4)\n",
    "df"
   ]
  },
  {
   "cell_type": "code",
   "execution_count": 17,
   "metadata": {},
   "outputs": [
    {
     "data": {
      "text/html": [
       "<table>\n",
       "<thead><tr><th scope=col>row</th><th scope=col>col</th></tr></thead>\n",
       "<tbody>\n",
       "\t<tr><td>2</td><td>1</td></tr>\n",
       "\t<tr><td>1</td><td>2</td></tr>\n",
       "\t<tr><td>4</td><td>2</td></tr>\n",
       "\t<tr><td>3</td><td>3</td></tr>\n",
       "</tbody>\n",
       "</table>\n"
      ],
      "text/latex": [
       "\\begin{tabular}{ll}\n",
       " row & col\\\\\n",
       "\\hline\n",
       "\t 2 & 1\\\\\n",
       "\t 1 & 2\\\\\n",
       "\t 4 & 2\\\\\n",
       "\t 3 & 3\\\\\n",
       "\\end{tabular}\n"
      ],
      "text/markdown": [
       "\n",
       "| row | col |\n",
       "|---|---|\n",
       "| 2 | 1 |\n",
       "| 1 | 2 |\n",
       "| 4 | 2 |\n",
       "| 3 | 3 |\n",
       "\n"
      ],
      "text/plain": [
       "     row col\n",
       "[1,] 2   1  \n",
       "[2,] 1   2  \n",
       "[3,] 4   2  \n",
       "[4,] 3   3  "
      ]
     },
     "metadata": {},
     "output_type": "display_data"
    }
   ],
   "source": [
    "which(df==0,arr.ind = T)"
   ]
  },
  {
   "cell_type": "code",
   "execution_count": 18,
   "metadata": {},
   "outputs": [
    {
     "data": {
      "text/html": [
       "<table>\n",
       "<thead><tr><th scope=col>block</th><th scope=col>N</th><th scope=col>P</th><th scope=col>K</th><th scope=col>yield</th></tr></thead>\n",
       "<tbody>\n",
       "\t<tr><td>1   </td><td>0   </td><td>1   </td><td>1   </td><td>49.5</td></tr>\n",
       "\t<tr><td>1   </td><td>1   </td><td>1   </td><td>0   </td><td>62.8</td></tr>\n",
       "\t<tr><td>1   </td><td>0   </td><td>0   </td><td>0   </td><td>46.8</td></tr>\n",
       "\t<tr><td>1   </td><td>1   </td><td>0   </td><td>1   </td><td>57.0</td></tr>\n",
       "\t<tr><td>2   </td><td>1   </td><td>0   </td><td>0   </td><td>59.8</td></tr>\n",
       "\t<tr><td>2   </td><td>1   </td><td>1   </td><td>1   </td><td>58.5</td></tr>\n",
       "\t<tr><td>2   </td><td>0   </td><td>0   </td><td>1   </td><td>55.5</td></tr>\n",
       "\t<tr><td>2   </td><td>0   </td><td>1   </td><td>0   </td><td>56.0</td></tr>\n",
       "\t<tr><td>3   </td><td>0   </td><td>1   </td><td>0   </td><td>62.8</td></tr>\n",
       "\t<tr><td>3   </td><td>1   </td><td>1   </td><td>1   </td><td>55.8</td></tr>\n",
       "\t<tr><td>3   </td><td>1   </td><td>0   </td><td>0   </td><td>69.5</td></tr>\n",
       "\t<tr><td>3   </td><td>0   </td><td>0   </td><td>1   </td><td>55.0</td></tr>\n",
       "\t<tr><td>4   </td><td>1   </td><td>0   </td><td>0   </td><td>62.0</td></tr>\n",
       "\t<tr><td>4   </td><td>1   </td><td>1   </td><td>1   </td><td>48.8</td></tr>\n",
       "\t<tr><td>4   </td><td>0   </td><td>0   </td><td>1   </td><td>45.5</td></tr>\n",
       "\t<tr><td>4   </td><td>0   </td><td>1   </td><td>0   </td><td>44.2</td></tr>\n",
       "\t<tr><td>5   </td><td>1   </td><td>1   </td><td>0   </td><td>52.0</td></tr>\n",
       "\t<tr><td>5   </td><td>0   </td><td>0   </td><td>0   </td><td>51.5</td></tr>\n",
       "\t<tr><td>5   </td><td>1   </td><td>0   </td><td>1   </td><td>49.8</td></tr>\n",
       "\t<tr><td>5   </td><td>0   </td><td>1   </td><td>1   </td><td>48.8</td></tr>\n",
       "\t<tr><td>6   </td><td>1   </td><td>0   </td><td>1   </td><td>57.2</td></tr>\n",
       "\t<tr><td>6   </td><td>1   </td><td>1   </td><td>0   </td><td>59.0</td></tr>\n",
       "\t<tr><td>6   </td><td>0   </td><td>1   </td><td>1   </td><td>53.2</td></tr>\n",
       "\t<tr><td>6   </td><td>0   </td><td>0   </td><td>0   </td><td>56.0</td></tr>\n",
       "</tbody>\n",
       "</table>\n"
      ],
      "text/latex": [
       "\\begin{tabular}{r|lllll}\n",
       " block & N & P & K & yield\\\\\n",
       "\\hline\n",
       "\t 1    & 0    & 1    & 1    & 49.5\\\\\n",
       "\t 1    & 1    & 1    & 0    & 62.8\\\\\n",
       "\t 1    & 0    & 0    & 0    & 46.8\\\\\n",
       "\t 1    & 1    & 0    & 1    & 57.0\\\\\n",
       "\t 2    & 1    & 0    & 0    & 59.8\\\\\n",
       "\t 2    & 1    & 1    & 1    & 58.5\\\\\n",
       "\t 2    & 0    & 0    & 1    & 55.5\\\\\n",
       "\t 2    & 0    & 1    & 0    & 56.0\\\\\n",
       "\t 3    & 0    & 1    & 0    & 62.8\\\\\n",
       "\t 3    & 1    & 1    & 1    & 55.8\\\\\n",
       "\t 3    & 1    & 0    & 0    & 69.5\\\\\n",
       "\t 3    & 0    & 0    & 1    & 55.0\\\\\n",
       "\t 4    & 1    & 0    & 0    & 62.0\\\\\n",
       "\t 4    & 1    & 1    & 1    & 48.8\\\\\n",
       "\t 4    & 0    & 0    & 1    & 45.5\\\\\n",
       "\t 4    & 0    & 1    & 0    & 44.2\\\\\n",
       "\t 5    & 1    & 1    & 0    & 52.0\\\\\n",
       "\t 5    & 0    & 0    & 0    & 51.5\\\\\n",
       "\t 5    & 1    & 0    & 1    & 49.8\\\\\n",
       "\t 5    & 0    & 1    & 1    & 48.8\\\\\n",
       "\t 6    & 1    & 0    & 1    & 57.2\\\\\n",
       "\t 6    & 1    & 1    & 0    & 59.0\\\\\n",
       "\t 6    & 0    & 1    & 1    & 53.2\\\\\n",
       "\t 6    & 0    & 0    & 0    & 56.0\\\\\n",
       "\\end{tabular}\n"
      ],
      "text/markdown": [
       "\n",
       "| block | N | P | K | yield |\n",
       "|---|---|---|---|---|\n",
       "| 1    | 0    | 1    | 1    | 49.5 |\n",
       "| 1    | 1    | 1    | 0    | 62.8 |\n",
       "| 1    | 0    | 0    | 0    | 46.8 |\n",
       "| 1    | 1    | 0    | 1    | 57.0 |\n",
       "| 2    | 1    | 0    | 0    | 59.8 |\n",
       "| 2    | 1    | 1    | 1    | 58.5 |\n",
       "| 2    | 0    | 0    | 1    | 55.5 |\n",
       "| 2    | 0    | 1    | 0    | 56.0 |\n",
       "| 3    | 0    | 1    | 0    | 62.8 |\n",
       "| 3    | 1    | 1    | 1    | 55.8 |\n",
       "| 3    | 1    | 0    | 0    | 69.5 |\n",
       "| 3    | 0    | 0    | 1    | 55.0 |\n",
       "| 4    | 1    | 0    | 0    | 62.0 |\n",
       "| 4    | 1    | 1    | 1    | 48.8 |\n",
       "| 4    | 0    | 0    | 1    | 45.5 |\n",
       "| 4    | 0    | 1    | 0    | 44.2 |\n",
       "| 5    | 1    | 1    | 0    | 52.0 |\n",
       "| 5    | 0    | 0    | 0    | 51.5 |\n",
       "| 5    | 1    | 0    | 1    | 49.8 |\n",
       "| 5    | 0    | 1    | 1    | 48.8 |\n",
       "| 6    | 1    | 0    | 1    | 57.2 |\n",
       "| 6    | 1    | 1    | 0    | 59.0 |\n",
       "| 6    | 0    | 1    | 1    | 53.2 |\n",
       "| 6    | 0    | 0    | 0    | 56.0 |\n",
       "\n"
      ],
      "text/plain": [
       "   block N P K yield\n",
       "1  1     0 1 1 49.5 \n",
       "2  1     1 1 0 62.8 \n",
       "3  1     0 0 0 46.8 \n",
       "4  1     1 0 1 57.0 \n",
       "5  2     1 0 0 59.8 \n",
       "6  2     1 1 1 58.5 \n",
       "7  2     0 0 1 55.5 \n",
       "8  2     0 1 0 56.0 \n",
       "9  3     0 1 0 62.8 \n",
       "10 3     1 1 1 55.8 \n",
       "11 3     1 0 0 69.5 \n",
       "12 3     0 0 1 55.0 \n",
       "13 4     1 0 0 62.0 \n",
       "14 4     1 1 1 48.8 \n",
       "15 4     0 0 1 45.5 \n",
       "16 4     0 1 0 44.2 \n",
       "17 5     1 1 0 52.0 \n",
       "18 5     0 0 0 51.5 \n",
       "19 5     1 0 1 49.8 \n",
       "20 5     0 1 1 48.8 \n",
       "21 6     1 0 1 57.2 \n",
       "22 6     1 1 0 59.0 \n",
       "23 6     0 1 1 53.2 \n",
       "24 6     0 0 0 56.0 "
      ]
     },
     "metadata": {},
     "output_type": "display_data"
    }
   ],
   "source": [
    "datasets::npk"
   ]
  },
  {
   "cell_type": "code",
   "execution_count": 19,
   "metadata": {},
   "outputs": [
    {
     "data": {
      "text/html": [
       "13"
      ],
      "text/latex": [
       "13"
      ],
      "text/markdown": [
       "13"
      ],
      "text/plain": [
       "[1] 13"
      ]
     },
     "metadata": {},
     "output_type": "display_data"
    }
   ],
   "source": [
    "which(npk$yield == 62)"
   ]
  },
  {
   "cell_type": "code",
   "execution_count": 20,
   "metadata": {},
   "outputs": [
    {
     "data": {
      "text/html": [
       "14"
      ],
      "text/latex": [
       "14"
      ],
      "text/markdown": [
       "14"
      ],
      "text/plain": [
       "[1] 14"
      ]
     },
     "metadata": {},
     "output_type": "display_data"
    }
   ],
   "source": [
    "which((npk$yield == 48.8) & (npk$N == 1))"
   ]
  },
  {
   "cell_type": "code",
   "execution_count": 21,
   "metadata": {},
   "outputs": [
    {
     "data": {
      "text/html": [
       "11"
      ],
      "text/latex": [
       "11"
      ],
      "text/markdown": [
       "11"
      ],
      "text/plain": [
       "[1] 11"
      ]
     },
     "metadata": {},
     "output_type": "display_data"
    }
   ],
   "source": [
    "which(npk$yield == max(npk$yield))"
   ]
  },
  {
   "cell_type": "markdown",
   "metadata": {},
   "source": [
    "# Exploring Categorical Variables"
   ]
  },
  {
   "cell_type": "code",
   "execution_count": 22,
   "metadata": {},
   "outputs": [],
   "source": [
    "df <- datasets::iris"
   ]
  },
  {
   "cell_type": "code",
   "execution_count": 23,
   "metadata": {},
   "outputs": [
    {
     "data": {
      "text/html": [
       "<table>\n",
       "<thead><tr><th scope=col>Sepal.Length</th><th scope=col>Sepal.Width</th><th scope=col>Petal.Length</th><th scope=col>Petal.Width</th><th scope=col>Species</th></tr></thead>\n",
       "<tbody>\n",
       "\t<tr><td>5.1   </td><td>3.5   </td><td>1.4   </td><td>0.2   </td><td>setosa</td></tr>\n",
       "\t<tr><td>4.9   </td><td>3.0   </td><td>1.4   </td><td>0.2   </td><td>setosa</td></tr>\n",
       "\t<tr><td>4.7   </td><td>3.2   </td><td>1.3   </td><td>0.2   </td><td>setosa</td></tr>\n",
       "\t<tr><td>4.6   </td><td>3.1   </td><td>1.5   </td><td>0.2   </td><td>setosa</td></tr>\n",
       "\t<tr><td>5.0   </td><td>3.6   </td><td>1.4   </td><td>0.2   </td><td>setosa</td></tr>\n",
       "\t<tr><td>5.4   </td><td>3.9   </td><td>1.7   </td><td>0.4   </td><td>setosa</td></tr>\n",
       "\t<tr><td>4.6   </td><td>3.4   </td><td>1.4   </td><td>0.3   </td><td>setosa</td></tr>\n",
       "\t<tr><td>5.0   </td><td>3.4   </td><td>1.5   </td><td>0.2   </td><td>setosa</td></tr>\n",
       "\t<tr><td>4.4   </td><td>2.9   </td><td>1.4   </td><td>0.2   </td><td>setosa</td></tr>\n",
       "\t<tr><td>4.9   </td><td>3.1   </td><td>1.5   </td><td>0.1   </td><td>setosa</td></tr>\n",
       "\t<tr><td>5.4   </td><td>3.7   </td><td>1.5   </td><td>0.2   </td><td>setosa</td></tr>\n",
       "\t<tr><td>4.8   </td><td>3.4   </td><td>1.6   </td><td>0.2   </td><td>setosa</td></tr>\n",
       "\t<tr><td>4.8   </td><td>3.0   </td><td>1.4   </td><td>0.1   </td><td>setosa</td></tr>\n",
       "\t<tr><td>4.3   </td><td>3.0   </td><td>1.1   </td><td>0.1   </td><td>setosa</td></tr>\n",
       "\t<tr><td>5.8   </td><td>4.0   </td><td>1.2   </td><td>0.2   </td><td>setosa</td></tr>\n",
       "\t<tr><td>5.7   </td><td>4.4   </td><td>1.5   </td><td>0.4   </td><td>setosa</td></tr>\n",
       "\t<tr><td>5.4   </td><td>3.9   </td><td>1.3   </td><td>0.4   </td><td>setosa</td></tr>\n",
       "\t<tr><td>5.1   </td><td>3.5   </td><td>1.4   </td><td>0.3   </td><td>setosa</td></tr>\n",
       "\t<tr><td>5.7   </td><td>3.8   </td><td>1.7   </td><td>0.3   </td><td>setosa</td></tr>\n",
       "\t<tr><td>5.1   </td><td>3.8   </td><td>1.5   </td><td>0.3   </td><td>setosa</td></tr>\n",
       "\t<tr><td>5.4   </td><td>3.4   </td><td>1.7   </td><td>0.2   </td><td>setosa</td></tr>\n",
       "\t<tr><td>5.1   </td><td>3.7   </td><td>1.5   </td><td>0.4   </td><td>setosa</td></tr>\n",
       "\t<tr><td>4.6   </td><td>3.6   </td><td>1.0   </td><td>0.2   </td><td>setosa</td></tr>\n",
       "\t<tr><td>5.1   </td><td>3.3   </td><td>1.7   </td><td>0.5   </td><td>setosa</td></tr>\n",
       "\t<tr><td>4.8   </td><td>3.4   </td><td>1.9   </td><td>0.2   </td><td>setosa</td></tr>\n",
       "\t<tr><td>5.0   </td><td>3.0   </td><td>1.6   </td><td>0.2   </td><td>setosa</td></tr>\n",
       "\t<tr><td>5.0   </td><td>3.4   </td><td>1.6   </td><td>0.4   </td><td>setosa</td></tr>\n",
       "\t<tr><td>5.2   </td><td>3.5   </td><td>1.5   </td><td>0.2   </td><td>setosa</td></tr>\n",
       "\t<tr><td>5.2   </td><td>3.4   </td><td>1.4   </td><td>0.2   </td><td>setosa</td></tr>\n",
       "\t<tr><td>4.7   </td><td>3.2   </td><td>1.6   </td><td>0.2   </td><td>setosa</td></tr>\n",
       "\t<tr><td>...</td><td>...</td><td>...</td><td>...</td><td>...</td></tr>\n",
       "\t<tr><td>6.9      </td><td>3.2      </td><td>5.7      </td><td>2.3      </td><td>virginica</td></tr>\n",
       "\t<tr><td>5.6      </td><td>2.8      </td><td>4.9      </td><td>2.0      </td><td>virginica</td></tr>\n",
       "\t<tr><td>7.7      </td><td>2.8      </td><td>6.7      </td><td>2.0      </td><td>virginica</td></tr>\n",
       "\t<tr><td>6.3      </td><td>2.7      </td><td>4.9      </td><td>1.8      </td><td>virginica</td></tr>\n",
       "\t<tr><td>6.7      </td><td>3.3      </td><td>5.7      </td><td>2.1      </td><td>virginica</td></tr>\n",
       "\t<tr><td>7.2      </td><td>3.2      </td><td>6.0      </td><td>1.8      </td><td>virginica</td></tr>\n",
       "\t<tr><td>6.2      </td><td>2.8      </td><td>4.8      </td><td>1.8      </td><td>virginica</td></tr>\n",
       "\t<tr><td>6.1      </td><td>3.0      </td><td>4.9      </td><td>1.8      </td><td>virginica</td></tr>\n",
       "\t<tr><td>6.4      </td><td>2.8      </td><td>5.6      </td><td>2.1      </td><td>virginica</td></tr>\n",
       "\t<tr><td>7.2      </td><td>3.0      </td><td>5.8      </td><td>1.6      </td><td>virginica</td></tr>\n",
       "\t<tr><td>7.4      </td><td>2.8      </td><td>6.1      </td><td>1.9      </td><td>virginica</td></tr>\n",
       "\t<tr><td>7.9      </td><td>3.8      </td><td>6.4      </td><td>2.0      </td><td>virginica</td></tr>\n",
       "\t<tr><td>6.4      </td><td>2.8      </td><td>5.6      </td><td>2.2      </td><td>virginica</td></tr>\n",
       "\t<tr><td>6.3      </td><td>2.8      </td><td>5.1      </td><td>1.5      </td><td>virginica</td></tr>\n",
       "\t<tr><td>6.1      </td><td>2.6      </td><td>5.6      </td><td>1.4      </td><td>virginica</td></tr>\n",
       "\t<tr><td>7.7      </td><td>3.0      </td><td>6.1      </td><td>2.3      </td><td>virginica</td></tr>\n",
       "\t<tr><td>6.3      </td><td>3.4      </td><td>5.6      </td><td>2.4      </td><td>virginica</td></tr>\n",
       "\t<tr><td>6.4      </td><td>3.1      </td><td>5.5      </td><td>1.8      </td><td>virginica</td></tr>\n",
       "\t<tr><td>6.0      </td><td>3.0      </td><td>4.8      </td><td>1.8      </td><td>virginica</td></tr>\n",
       "\t<tr><td>6.9      </td><td>3.1      </td><td>5.4      </td><td>2.1      </td><td>virginica</td></tr>\n",
       "\t<tr><td>6.7      </td><td>3.1      </td><td>5.6      </td><td>2.4      </td><td>virginica</td></tr>\n",
       "\t<tr><td>6.9      </td><td>3.1      </td><td>5.1      </td><td>2.3      </td><td>virginica</td></tr>\n",
       "\t<tr><td>5.8      </td><td>2.7      </td><td>5.1      </td><td>1.9      </td><td>virginica</td></tr>\n",
       "\t<tr><td>6.8      </td><td>3.2      </td><td>5.9      </td><td>2.3      </td><td>virginica</td></tr>\n",
       "\t<tr><td>6.7      </td><td>3.3      </td><td>5.7      </td><td>2.5      </td><td>virginica</td></tr>\n",
       "\t<tr><td>6.7      </td><td>3.0      </td><td>5.2      </td><td>2.3      </td><td>virginica</td></tr>\n",
       "\t<tr><td>6.3      </td><td>2.5      </td><td>5.0      </td><td>1.9      </td><td>virginica</td></tr>\n",
       "\t<tr><td>6.5      </td><td>3.0      </td><td>5.2      </td><td>2.0      </td><td>virginica</td></tr>\n",
       "\t<tr><td>6.2      </td><td>3.4      </td><td>5.4      </td><td>2.3      </td><td>virginica</td></tr>\n",
       "\t<tr><td>5.9      </td><td>3.0      </td><td>5.1      </td><td>1.8      </td><td>virginica</td></tr>\n",
       "</tbody>\n",
       "</table>\n"
      ],
      "text/latex": [
       "\\begin{tabular}{r|lllll}\n",
       " Sepal.Length & Sepal.Width & Petal.Length & Petal.Width & Species\\\\\n",
       "\\hline\n",
       "\t 5.1    & 3.5    & 1.4    & 0.2    & setosa\\\\\n",
       "\t 4.9    & 3.0    & 1.4    & 0.2    & setosa\\\\\n",
       "\t 4.7    & 3.2    & 1.3    & 0.2    & setosa\\\\\n",
       "\t 4.6    & 3.1    & 1.5    & 0.2    & setosa\\\\\n",
       "\t 5.0    & 3.6    & 1.4    & 0.2    & setosa\\\\\n",
       "\t 5.4    & 3.9    & 1.7    & 0.4    & setosa\\\\\n",
       "\t 4.6    & 3.4    & 1.4    & 0.3    & setosa\\\\\n",
       "\t 5.0    & 3.4    & 1.5    & 0.2    & setosa\\\\\n",
       "\t 4.4    & 2.9    & 1.4    & 0.2    & setosa\\\\\n",
       "\t 4.9    & 3.1    & 1.5    & 0.1    & setosa\\\\\n",
       "\t 5.4    & 3.7    & 1.5    & 0.2    & setosa\\\\\n",
       "\t 4.8    & 3.4    & 1.6    & 0.2    & setosa\\\\\n",
       "\t 4.8    & 3.0    & 1.4    & 0.1    & setosa\\\\\n",
       "\t 4.3    & 3.0    & 1.1    & 0.1    & setosa\\\\\n",
       "\t 5.8    & 4.0    & 1.2    & 0.2    & setosa\\\\\n",
       "\t 5.7    & 4.4    & 1.5    & 0.4    & setosa\\\\\n",
       "\t 5.4    & 3.9    & 1.3    & 0.4    & setosa\\\\\n",
       "\t 5.1    & 3.5    & 1.4    & 0.3    & setosa\\\\\n",
       "\t 5.7    & 3.8    & 1.7    & 0.3    & setosa\\\\\n",
       "\t 5.1    & 3.8    & 1.5    & 0.3    & setosa\\\\\n",
       "\t 5.4    & 3.4    & 1.7    & 0.2    & setosa\\\\\n",
       "\t 5.1    & 3.7    & 1.5    & 0.4    & setosa\\\\\n",
       "\t 4.6    & 3.6    & 1.0    & 0.2    & setosa\\\\\n",
       "\t 5.1    & 3.3    & 1.7    & 0.5    & setosa\\\\\n",
       "\t 4.8    & 3.4    & 1.9    & 0.2    & setosa\\\\\n",
       "\t 5.0    & 3.0    & 1.6    & 0.2    & setosa\\\\\n",
       "\t 5.0    & 3.4    & 1.6    & 0.4    & setosa\\\\\n",
       "\t 5.2    & 3.5    & 1.5    & 0.2    & setosa\\\\\n",
       "\t 5.2    & 3.4    & 1.4    & 0.2    & setosa\\\\\n",
       "\t 4.7    & 3.2    & 1.6    & 0.2    & setosa\\\\\n",
       "\t ... & ... & ... & ... & ...\\\\\n",
       "\t 6.9       & 3.2       & 5.7       & 2.3       & virginica\\\\\n",
       "\t 5.6       & 2.8       & 4.9       & 2.0       & virginica\\\\\n",
       "\t 7.7       & 2.8       & 6.7       & 2.0       & virginica\\\\\n",
       "\t 6.3       & 2.7       & 4.9       & 1.8       & virginica\\\\\n",
       "\t 6.7       & 3.3       & 5.7       & 2.1       & virginica\\\\\n",
       "\t 7.2       & 3.2       & 6.0       & 1.8       & virginica\\\\\n",
       "\t 6.2       & 2.8       & 4.8       & 1.8       & virginica\\\\\n",
       "\t 6.1       & 3.0       & 4.9       & 1.8       & virginica\\\\\n",
       "\t 6.4       & 2.8       & 5.6       & 2.1       & virginica\\\\\n",
       "\t 7.2       & 3.0       & 5.8       & 1.6       & virginica\\\\\n",
       "\t 7.4       & 2.8       & 6.1       & 1.9       & virginica\\\\\n",
       "\t 7.9       & 3.8       & 6.4       & 2.0       & virginica\\\\\n",
       "\t 6.4       & 2.8       & 5.6       & 2.2       & virginica\\\\\n",
       "\t 6.3       & 2.8       & 5.1       & 1.5       & virginica\\\\\n",
       "\t 6.1       & 2.6       & 5.6       & 1.4       & virginica\\\\\n",
       "\t 7.7       & 3.0       & 6.1       & 2.3       & virginica\\\\\n",
       "\t 6.3       & 3.4       & 5.6       & 2.4       & virginica\\\\\n",
       "\t 6.4       & 3.1       & 5.5       & 1.8       & virginica\\\\\n",
       "\t 6.0       & 3.0       & 4.8       & 1.8       & virginica\\\\\n",
       "\t 6.9       & 3.1       & 5.4       & 2.1       & virginica\\\\\n",
       "\t 6.7       & 3.1       & 5.6       & 2.4       & virginica\\\\\n",
       "\t 6.9       & 3.1       & 5.1       & 2.3       & virginica\\\\\n",
       "\t 5.8       & 2.7       & 5.1       & 1.9       & virginica\\\\\n",
       "\t 6.8       & 3.2       & 5.9       & 2.3       & virginica\\\\\n",
       "\t 6.7       & 3.3       & 5.7       & 2.5       & virginica\\\\\n",
       "\t 6.7       & 3.0       & 5.2       & 2.3       & virginica\\\\\n",
       "\t 6.3       & 2.5       & 5.0       & 1.9       & virginica\\\\\n",
       "\t 6.5       & 3.0       & 5.2       & 2.0       & virginica\\\\\n",
       "\t 6.2       & 3.4       & 5.4       & 2.3       & virginica\\\\\n",
       "\t 5.9       & 3.0       & 5.1       & 1.8       & virginica\\\\\n",
       "\\end{tabular}\n"
      ],
      "text/markdown": [
       "\n",
       "| Sepal.Length | Sepal.Width | Petal.Length | Petal.Width | Species |\n",
       "|---|---|---|---|---|\n",
       "| 5.1    | 3.5    | 1.4    | 0.2    | setosa |\n",
       "| 4.9    | 3.0    | 1.4    | 0.2    | setosa |\n",
       "| 4.7    | 3.2    | 1.3    | 0.2    | setosa |\n",
       "| 4.6    | 3.1    | 1.5    | 0.2    | setosa |\n",
       "| 5.0    | 3.6    | 1.4    | 0.2    | setosa |\n",
       "| 5.4    | 3.9    | 1.7    | 0.4    | setosa |\n",
       "| 4.6    | 3.4    | 1.4    | 0.3    | setosa |\n",
       "| 5.0    | 3.4    | 1.5    | 0.2    | setosa |\n",
       "| 4.4    | 2.9    | 1.4    | 0.2    | setosa |\n",
       "| 4.9    | 3.1    | 1.5    | 0.1    | setosa |\n",
       "| 5.4    | 3.7    | 1.5    | 0.2    | setosa |\n",
       "| 4.8    | 3.4    | 1.6    | 0.2    | setosa |\n",
       "| 4.8    | 3.0    | 1.4    | 0.1    | setosa |\n",
       "| 4.3    | 3.0    | 1.1    | 0.1    | setosa |\n",
       "| 5.8    | 4.0    | 1.2    | 0.2    | setosa |\n",
       "| 5.7    | 4.4    | 1.5    | 0.4    | setosa |\n",
       "| 5.4    | 3.9    | 1.3    | 0.4    | setosa |\n",
       "| 5.1    | 3.5    | 1.4    | 0.3    | setosa |\n",
       "| 5.7    | 3.8    | 1.7    | 0.3    | setosa |\n",
       "| 5.1    | 3.8    | 1.5    | 0.3    | setosa |\n",
       "| 5.4    | 3.4    | 1.7    | 0.2    | setosa |\n",
       "| 5.1    | 3.7    | 1.5    | 0.4    | setosa |\n",
       "| 4.6    | 3.6    | 1.0    | 0.2    | setosa |\n",
       "| 5.1    | 3.3    | 1.7    | 0.5    | setosa |\n",
       "| 4.8    | 3.4    | 1.9    | 0.2    | setosa |\n",
       "| 5.0    | 3.0    | 1.6    | 0.2    | setosa |\n",
       "| 5.0    | 3.4    | 1.6    | 0.4    | setosa |\n",
       "| 5.2    | 3.5    | 1.5    | 0.2    | setosa |\n",
       "| 5.2    | 3.4    | 1.4    | 0.2    | setosa |\n",
       "| 4.7    | 3.2    | 1.6    | 0.2    | setosa |\n",
       "| ... | ... | ... | ... | ... |\n",
       "| 6.9       | 3.2       | 5.7       | 2.3       | virginica |\n",
       "| 5.6       | 2.8       | 4.9       | 2.0       | virginica |\n",
       "| 7.7       | 2.8       | 6.7       | 2.0       | virginica |\n",
       "| 6.3       | 2.7       | 4.9       | 1.8       | virginica |\n",
       "| 6.7       | 3.3       | 5.7       | 2.1       | virginica |\n",
       "| 7.2       | 3.2       | 6.0       | 1.8       | virginica |\n",
       "| 6.2       | 2.8       | 4.8       | 1.8       | virginica |\n",
       "| 6.1       | 3.0       | 4.9       | 1.8       | virginica |\n",
       "| 6.4       | 2.8       | 5.6       | 2.1       | virginica |\n",
       "| 7.2       | 3.0       | 5.8       | 1.6       | virginica |\n",
       "| 7.4       | 2.8       | 6.1       | 1.9       | virginica |\n",
       "| 7.9       | 3.8       | 6.4       | 2.0       | virginica |\n",
       "| 6.4       | 2.8       | 5.6       | 2.2       | virginica |\n",
       "| 6.3       | 2.8       | 5.1       | 1.5       | virginica |\n",
       "| 6.1       | 2.6       | 5.6       | 1.4       | virginica |\n",
       "| 7.7       | 3.0       | 6.1       | 2.3       | virginica |\n",
       "| 6.3       | 3.4       | 5.6       | 2.4       | virginica |\n",
       "| 6.4       | 3.1       | 5.5       | 1.8       | virginica |\n",
       "| 6.0       | 3.0       | 4.8       | 1.8       | virginica |\n",
       "| 6.9       | 3.1       | 5.4       | 2.1       | virginica |\n",
       "| 6.7       | 3.1       | 5.6       | 2.4       | virginica |\n",
       "| 6.9       | 3.1       | 5.1       | 2.3       | virginica |\n",
       "| 5.8       | 2.7       | 5.1       | 1.9       | virginica |\n",
       "| 6.8       | 3.2       | 5.9       | 2.3       | virginica |\n",
       "| 6.7       | 3.3       | 5.7       | 2.5       | virginica |\n",
       "| 6.7       | 3.0       | 5.2       | 2.3       | virginica |\n",
       "| 6.3       | 2.5       | 5.0       | 1.9       | virginica |\n",
       "| 6.5       | 3.0       | 5.2       | 2.0       | virginica |\n",
       "| 6.2       | 3.4       | 5.4       | 2.3       | virginica |\n",
       "| 5.9       | 3.0       | 5.1       | 1.8       | virginica |\n",
       "\n"
      ],
      "text/plain": [
       "    Sepal.Length Sepal.Width Petal.Length Petal.Width Species  \n",
       "1   5.1          3.5         1.4          0.2         setosa   \n",
       "2   4.9          3.0         1.4          0.2         setosa   \n",
       "3   4.7          3.2         1.3          0.2         setosa   \n",
       "4   4.6          3.1         1.5          0.2         setosa   \n",
       "5   5.0          3.6         1.4          0.2         setosa   \n",
       "6   5.4          3.9         1.7          0.4         setosa   \n",
       "7   4.6          3.4         1.4          0.3         setosa   \n",
       "8   5.0          3.4         1.5          0.2         setosa   \n",
       "9   4.4          2.9         1.4          0.2         setosa   \n",
       "10  4.9          3.1         1.5          0.1         setosa   \n",
       "11  5.4          3.7         1.5          0.2         setosa   \n",
       "12  4.8          3.4         1.6          0.2         setosa   \n",
       "13  4.8          3.0         1.4          0.1         setosa   \n",
       "14  4.3          3.0         1.1          0.1         setosa   \n",
       "15  5.8          4.0         1.2          0.2         setosa   \n",
       "16  5.7          4.4         1.5          0.4         setosa   \n",
       "17  5.4          3.9         1.3          0.4         setosa   \n",
       "18  5.1          3.5         1.4          0.3         setosa   \n",
       "19  5.7          3.8         1.7          0.3         setosa   \n",
       "20  5.1          3.8         1.5          0.3         setosa   \n",
       "21  5.4          3.4         1.7          0.2         setosa   \n",
       "22  5.1          3.7         1.5          0.4         setosa   \n",
       "23  4.6          3.6         1.0          0.2         setosa   \n",
       "24  5.1          3.3         1.7          0.5         setosa   \n",
       "25  4.8          3.4         1.9          0.2         setosa   \n",
       "26  5.0          3.0         1.6          0.2         setosa   \n",
       "27  5.0          3.4         1.6          0.4         setosa   \n",
       "28  5.2          3.5         1.5          0.2         setosa   \n",
       "29  5.2          3.4         1.4          0.2         setosa   \n",
       "30  4.7          3.2         1.6          0.2         setosa   \n",
       "... ...          ...         ...          ...         ...      \n",
       "121 6.9          3.2         5.7          2.3         virginica\n",
       "122 5.6          2.8         4.9          2.0         virginica\n",
       "123 7.7          2.8         6.7          2.0         virginica\n",
       "124 6.3          2.7         4.9          1.8         virginica\n",
       "125 6.7          3.3         5.7          2.1         virginica\n",
       "126 7.2          3.2         6.0          1.8         virginica\n",
       "127 6.2          2.8         4.8          1.8         virginica\n",
       "128 6.1          3.0         4.9          1.8         virginica\n",
       "129 6.4          2.8         5.6          2.1         virginica\n",
       "130 7.2          3.0         5.8          1.6         virginica\n",
       "131 7.4          2.8         6.1          1.9         virginica\n",
       "132 7.9          3.8         6.4          2.0         virginica\n",
       "133 6.4          2.8         5.6          2.2         virginica\n",
       "134 6.3          2.8         5.1          1.5         virginica\n",
       "135 6.1          2.6         5.6          1.4         virginica\n",
       "136 7.7          3.0         6.1          2.3         virginica\n",
       "137 6.3          3.4         5.6          2.4         virginica\n",
       "138 6.4          3.1         5.5          1.8         virginica\n",
       "139 6.0          3.0         4.8          1.8         virginica\n",
       "140 6.9          3.1         5.4          2.1         virginica\n",
       "141 6.7          3.1         5.6          2.4         virginica\n",
       "142 6.9          3.1         5.1          2.3         virginica\n",
       "143 5.8          2.7         5.1          1.9         virginica\n",
       "144 6.8          3.2         5.9          2.3         virginica\n",
       "145 6.7          3.3         5.7          2.5         virginica\n",
       "146 6.7          3.0         5.2          2.3         virginica\n",
       "147 6.3          2.5         5.0          1.9         virginica\n",
       "148 6.5          3.0         5.2          2.0         virginica\n",
       "149 6.2          3.4         5.4          2.3         virginica\n",
       "150 5.9          3.0         5.1          1.8         virginica"
      ]
     },
     "metadata": {},
     "output_type": "display_data"
    }
   ],
   "source": [
    "df"
   ]
  },
  {
   "cell_type": "code",
   "execution_count": 24,
   "metadata": {},
   "outputs": [
    {
     "data": {
      "text/plain": [
       "\n",
       "4.3 4.4 4.5 4.6 4.7 4.8 4.9   5 5.1 5.2 5.3 5.4 5.5 5.6 5.7 5.8 5.9   6 6.1 6.2 \n",
       "  1   3   1   4   2   5   6  10   9   4   1   6   7   6   8   7   3   6   6   4 \n",
       "6.3 6.4 6.5 6.6 6.7 6.8 6.9   7 7.1 7.2 7.3 7.4 7.6 7.7 7.9 \n",
       "  9   7   5   2   8   3   4   1   1   3   1   1   1   4   1 "
      ]
     },
     "metadata": {},
     "output_type": "display_data"
    }
   ],
   "source": [
    "#Returns the number of occurrences of data points  \n",
    "table(iris$Sepal.Length)"
   ]
  },
  {
   "cell_type": "code",
   "execution_count": 25,
   "metadata": {},
   "outputs": [
    {
     "data": {
      "text/plain": [
       "\n",
       "0.1 0.2 0.3 0.4 0.5 0.6   1 1.1 1.2 1.3 1.4 1.5 1.6 1.7 1.8 1.9   2 2.1 2.2 2.3 \n",
       "  5  29   7   7   1   1   7   3   5  13   8  12   4   2  12   5   6   6   3   8 \n",
       "2.4 2.5 \n",
       "  3   3 "
      ]
     },
     "metadata": {},
     "output_type": "display_data"
    }
   ],
   "source": [
    "#Returns the number of occurrences of data points\n",
    "table(iris$Petal.Width)"
   ]
  },
  {
   "cell_type": "code",
   "execution_count": 26,
   "metadata": {},
   "outputs": [
    {
     "data": {
      "text/plain": [
       "\n",
       "    setosa versicolor  virginica \n",
       "        50         50         50 "
      ]
     },
     "metadata": {},
     "output_type": "display_data"
    }
   ],
   "source": [
    "#Returns the number of occurrences of data points\n",
    "table(iris$Species)"
   ]
  },
  {
   "cell_type": "markdown",
   "metadata": {},
   "source": [
    "As we know R is supreme in data analysis, it can also perform the calculations of the table proportions directly with the help of a function prop.table()."
   ]
  },
  {
   "cell_type": "code",
   "execution_count": 28,
   "metadata": {},
   "outputs": [],
   "source": [
    "#Assigning the data\n",
    "props_data <- table(iris$Species)"
   ]
  },
  {
   "cell_type": "code",
   "execution_count": 29,
   "metadata": {},
   "outputs": [],
   "source": [
    "#Calculates the proportions of categories \n",
    "props_data <- prop.table(props_data) * 100"
   ]
  },
  {
   "cell_type": "code",
   "execution_count": 30,
   "metadata": {},
   "outputs": [
    {
     "data": {
      "text/plain": [
       "\n",
       "    setosa versicolor  virginica \n",
       "  33.33333   33.33333   33.33333 "
      ]
     },
     "metadata": {},
     "output_type": "display_data"
    }
   ],
   "source": [
    "props_data"
   ]
  },
  {
   "cell_type": "code",
   "execution_count": 31,
   "metadata": {},
   "outputs": [
    {
     "data": {
      "text/plain": [
       "\n",
       "    setosa versicolor  virginica \n",
       "      33.3       33.3       33.3 "
      ]
     },
     "metadata": {},
     "output_type": "display_data"
    }
   ],
   "source": [
    "#rounds off the decimal values to standard values\n",
    "round(props_data,1)"
   ]
  },
  {
   "cell_type": "markdown",
   "metadata": {},
   "source": [
    "# Handling Missing Values in R – Omit() function"
   ]
  },
  {
   "cell_type": "markdown",
   "metadata": {},
   "source": [
    "**syntax of na.omit()**"
   ]
  },
  {
   "cell_type": "code",
   "execution_count": 32,
   "metadata": {},
   "outputs": [
    {
     "data": {
      "text/html": [
       "<pre class=language-r><code>function (..., list = character(), package = NULL, lib.loc = NULL, \n",
       "<span style=white-space:pre-wrap>    verbose = getOption(\"verbose\"), envir = .GlobalEnv, overwrite = TRUE) </span>\n",
       "{\n",
       "<span style=white-space:pre-wrap>    fileExt &lt;- function(x) {</span>\n",
       "<span style=white-space:pre-wrap>        db &lt;- grepl(\"\\\\.[^.]+\\\\.(gz|bz2|xz)$\", x)</span>\n",
       "<span style=white-space:pre-wrap>        ans &lt;- sub(\".*\\\\.\", \"\", x)</span>\n",
       "<span style=white-space:pre-wrap>        ans[db] &lt;- sub(\".*\\\\.([^.]+\\\\.)(gz|bz2|xz)$\", \"\\\\1\\\\2\", </span>\n",
       "<span style=white-space:pre-wrap>            x[db])</span>\n",
       "<span style=white-space:pre-wrap>        ans</span>\n",
       "<span style=white-space:pre-wrap>    }</span>\n",
       "<span style=white-space:pre-wrap>    names &lt;- c(as.character(substitute(list(...))[-1L]), list)</span>\n",
       "<span style=white-space:pre-wrap>    if (!is.null(package)) {</span>\n",
       "<span style=white-space:pre-wrap>        if (!is.character(package)) </span>\n",
       "<span style=white-space:pre-wrap>            stop(\"'package' must be a character string or NULL\")</span>\n",
       "<span style=white-space:pre-wrap>        if (any(package %in% \"base\")) </span>\n",
       "<span style=white-space:pre-wrap>            warning(\"datasets have been moved from package 'base' to package 'datasets'\")</span>\n",
       "<span style=white-space:pre-wrap>        if (any(package %in% \"stats\")) </span>\n",
       "<span style=white-space:pre-wrap>            warning(\"datasets have been moved from package 'stats' to package 'datasets'\")</span>\n",
       "<span style=white-space:pre-wrap>        package[package %in% c(\"base\", \"stats\")] &lt;- \"datasets\"</span>\n",
       "<span style=white-space:pre-wrap>    }</span>\n",
       "<span style=white-space:pre-wrap>    paths &lt;- find.package(package, lib.loc, verbose = verbose)</span>\n",
       "<span style=white-space:pre-wrap>    if (is.null(lib.loc)) </span>\n",
       "<span style=white-space:pre-wrap>        paths &lt;- c(path.package(package, TRUE), if (!length(package)) getwd(), </span>\n",
       "<span style=white-space:pre-wrap>            paths)</span>\n",
       "<span style=white-space:pre-wrap>    paths &lt;- unique(normalizePath(paths[file.exists(paths)]))</span>\n",
       "<span style=white-space:pre-wrap>    paths &lt;- paths[dir.exists(file.path(paths, \"data\"))]</span>\n",
       "<span style=white-space:pre-wrap>    dataExts &lt;- tools:::.make_file_exts(\"data\")</span>\n",
       "<span style=white-space:pre-wrap>    if (length(names) == 0L) {</span>\n",
       "<span style=white-space:pre-wrap>        db &lt;- matrix(character(), nrow = 0L, ncol = 4L)</span>\n",
       "<span style=white-space:pre-wrap>        for (path in paths) {</span>\n",
       "<span style=white-space:pre-wrap>            entries &lt;- NULL</span>\n",
       "<span style=white-space:pre-wrap>            packageName &lt;- if (file_test(\"-f\", file.path(path, </span>\n",
       "<span style=white-space:pre-wrap>                \"DESCRIPTION\"))) </span>\n",
       "<span style=white-space:pre-wrap>                basename(path)</span>\n",
       "<span style=white-space:pre-wrap>            else \".\"</span>\n",
       "<span style=white-space:pre-wrap>            if (file_test(\"-f\", INDEX &lt;- file.path(path, \"Meta\", </span>\n",
       "<span style=white-space:pre-wrap>                \"data.rds\"))) {</span>\n",
       "<span style=white-space:pre-wrap>                entries &lt;- readRDS(INDEX)</span>\n",
       "<span style=white-space:pre-wrap>            }</span>\n",
       "<span style=white-space:pre-wrap>            else {</span>\n",
       "<span style=white-space:pre-wrap>                dataDir &lt;- file.path(path, \"data\")</span>\n",
       "<span style=white-space:pre-wrap>                entries &lt;- tools::list_files_with_type(dataDir, </span>\n",
       "<span style=white-space:pre-wrap>                  \"data\")</span>\n",
       "<span style=white-space:pre-wrap>                if (length(entries)) {</span>\n",
       "<span style=white-space:pre-wrap>                  entries &lt;- unique(tools::file_path_sans_ext(basename(entries)))</span>\n",
       "<span style=white-space:pre-wrap>                  entries &lt;- cbind(entries, \"\")</span>\n",
       "<span style=white-space:pre-wrap>                }</span>\n",
       "<span style=white-space:pre-wrap>            }</span>\n",
       "<span style=white-space:pre-wrap>            if (NROW(entries)) {</span>\n",
       "<span style=white-space:pre-wrap>                if (is.matrix(entries) &amp;&amp; ncol(entries) == 2L) </span>\n",
       "<span style=white-space:pre-wrap>                  db &lt;- rbind(db, cbind(packageName, dirname(path), </span>\n",
       "<span style=white-space:pre-wrap>                    entries))</span>\n",
       "<span style=white-space:pre-wrap>                else warning(gettextf(\"data index for package %s is invalid and will be ignored\", </span>\n",
       "<span style=white-space:pre-wrap>                  sQuote(packageName)), domain = NA, call. = FALSE)</span>\n",
       "<span style=white-space:pre-wrap>            }</span>\n",
       "<span style=white-space:pre-wrap>        }</span>\n",
       "<span style=white-space:pre-wrap>        colnames(db) &lt;- c(\"Package\", \"LibPath\", \"Item\", \"Title\")</span>\n",
       "<span style=white-space:pre-wrap>        footer &lt;- if (missing(package)) </span>\n",
       "<span style=white-space:pre-wrap>            paste0(\"Use \", sQuote(paste(\"data(package =\", \".packages(all.available = TRUE))\")), </span>\n",
       "<span style=white-space:pre-wrap>                \"\\n\", \"to list the data sets in all *available* packages.\")</span>\n",
       "<span style=white-space:pre-wrap>        else NULL</span>\n",
       "<span style=white-space:pre-wrap>        y &lt;- list(title = \"Data sets\", header = NULL, results = db, </span>\n",
       "<span style=white-space:pre-wrap>            footer = footer)</span>\n",
       "<span style=white-space:pre-wrap>        class(y) &lt;- \"packageIQR\"</span>\n",
       "<span style=white-space:pre-wrap>        return(y)</span>\n",
       "<span style=white-space:pre-wrap>    }</span>\n",
       "<span style=white-space:pre-wrap>    paths &lt;- file.path(paths, \"data\")</span>\n",
       "<span style=white-space:pre-wrap>    for (name in names) {</span>\n",
       "<span style=white-space:pre-wrap>        found &lt;- FALSE</span>\n",
       "<span style=white-space:pre-wrap>        for (p in paths) {</span>\n",
       "<span style=white-space:pre-wrap>            tmp_env &lt;- if (overwrite) </span>\n",
       "<span style=white-space:pre-wrap>                envir</span>\n",
       "<span style=white-space:pre-wrap>            else new.env()</span>\n",
       "<span style=white-space:pre-wrap>            if (file_test(\"-f\", file.path(p, \"Rdata.rds\"))) {</span>\n",
       "<span style=white-space:pre-wrap>                rds &lt;- readRDS(file.path(p, \"Rdata.rds\"))</span>\n",
       "<span style=white-space:pre-wrap>                if (name %in% names(rds)) {</span>\n",
       "<span style=white-space:pre-wrap>                  found &lt;- TRUE</span>\n",
       "<span style=white-space:pre-wrap>                  if (verbose) </span>\n",
       "<span style=white-space:pre-wrap>                    message(sprintf(\"name=%s:\\t found in Rdata.rds\", </span>\n",
       "<span style=white-space:pre-wrap>                      name), domain = NA)</span>\n",
       "<span style=white-space:pre-wrap>                  thispkg &lt;- sub(\".*/([^/]*)/data$\", \"\\\\1\", p)</span>\n",
       "<span style=white-space:pre-wrap>                  thispkg &lt;- sub(\"_.*$\", \"\", thispkg)</span>\n",
       "<span style=white-space:pre-wrap>                  thispkg &lt;- paste0(\"package:\", thispkg)</span>\n",
       "<span style=white-space:pre-wrap>                  objs &lt;- rds[[name]]</span>\n",
       "<span style=white-space:pre-wrap>                  lazyLoad(file.path(p, \"Rdata\"), envir = tmp_env, </span>\n",
       "<span style=white-space:pre-wrap>                    filter = function(x) x %in% objs)</span>\n",
       "<span style=white-space:pre-wrap>                  break</span>\n",
       "<span style=white-space:pre-wrap>                }</span>\n",
       "<span style=white-space:pre-wrap>                else if (verbose) </span>\n",
       "<span style=white-space:pre-wrap>                  message(sprintf(\"name=%s:\\t NOT found in names() of Rdata.rds, i.e.,\\n\\t%s\\n\", </span>\n",
       "<span style=white-space:pre-wrap>                    name, paste(names(rds), collapse = \",\")), </span>\n",
       "<span style=white-space:pre-wrap>                    domain = NA)</span>\n",
       "<span style=white-space:pre-wrap>            }</span>\n",
       "<span style=white-space:pre-wrap>            if (file_test(\"-f\", file.path(p, \"Rdata.zip\"))) {</span>\n",
       "<span style=white-space:pre-wrap>                warning(\"zipped data found for package \", sQuote(basename(dirname(p))), </span>\n",
       "<span style=white-space:pre-wrap>                  \".\\nThat is defunct, so please re-install the package.\", </span>\n",
       "<span style=white-space:pre-wrap>                  domain = NA)</span>\n",
       "<span style=white-space:pre-wrap>                if (file_test(\"-f\", fp &lt;- file.path(p, \"filelist\"))) </span>\n",
       "<span style=white-space:pre-wrap>                  files &lt;- file.path(p, scan(fp, what = \"\", quiet = TRUE))</span>\n",
       "<span style=white-space:pre-wrap>                else {</span>\n",
       "<span style=white-space:pre-wrap>                  warning(gettextf(\"file 'filelist' is missing for directory %s\", </span>\n",
       "<span style=white-space:pre-wrap>                    sQuote(p)), domain = NA)</span>\n",
       "<span style=white-space:pre-wrap>                  next</span>\n",
       "<span style=white-space:pre-wrap>                }</span>\n",
       "<span style=white-space:pre-wrap>            }</span>\n",
       "<span style=white-space:pre-wrap>            else {</span>\n",
       "<span style=white-space:pre-wrap>                files &lt;- list.files(p, full.names = TRUE)</span>\n",
       "<span style=white-space:pre-wrap>            }</span>\n",
       "<span style=white-space:pre-wrap>            files &lt;- files[grep(name, files, fixed = TRUE)]</span>\n",
       "<span style=white-space:pre-wrap>            if (length(files) &gt; 1L) {</span>\n",
       "<span style=white-space:pre-wrap>                o &lt;- match(fileExt(files), dataExts, nomatch = 100L)</span>\n",
       "<span style=white-space:pre-wrap>                paths0 &lt;- dirname(files)</span>\n",
       "<span style=white-space:pre-wrap>                paths0 &lt;- factor(paths0, levels = unique(paths0))</span>\n",
       "<span style=white-space:pre-wrap>                files &lt;- files[order(paths0, o)]</span>\n",
       "<span style=white-space:pre-wrap>            }</span>\n",
       "<span style=white-space:pre-wrap>            if (length(files)) {</span>\n",
       "<span style=white-space:pre-wrap>                for (file in files) {</span>\n",
       "<span style=white-space:pre-wrap>                  if (verbose) </span>\n",
       "<span style=white-space:pre-wrap>                    message(\"name=\", name, \":\\t file= ...\", .Platform$file.sep, </span>\n",
       "<span style=white-space:pre-wrap>                      basename(file), \"::\\t\", appendLF = FALSE, </span>\n",
       "<span style=white-space:pre-wrap>                      domain = NA)</span>\n",
       "<span style=white-space:pre-wrap>                  ext &lt;- fileExt(file)</span>\n",
       "<span style=white-space:pre-wrap>                  if (basename(file) != paste0(name, \".\", ext)) </span>\n",
       "<span style=white-space:pre-wrap>                    found &lt;- FALSE</span>\n",
       "<span style=white-space:pre-wrap>                  else {</span>\n",
       "<span style=white-space:pre-wrap>                    found &lt;- TRUE</span>\n",
       "<span style=white-space:pre-wrap>                    zfile &lt;- file</span>\n",
       "<span style=white-space:pre-wrap>                    zipname &lt;- file.path(dirname(file), \"Rdata.zip\")</span>\n",
       "<span style=white-space:pre-wrap>                    if (file.exists(zipname)) {</span>\n",
       "<span style=white-space:pre-wrap>                      Rdatadir &lt;- tempfile(\"Rdata\")</span>\n",
       "<span style=white-space:pre-wrap>                      dir.create(Rdatadir, showWarnings = FALSE)</span>\n",
       "<span style=white-space:pre-wrap>                      topic &lt;- basename(file)</span>\n",
       "<span style=white-space:pre-wrap>                      rc &lt;- .External(C_unzip, zipname, topic, </span>\n",
       "<span style=white-space:pre-wrap>                        Rdatadir, FALSE, TRUE, FALSE, FALSE)</span>\n",
       "<span style=white-space:pre-wrap>                      if (rc == 0L) </span>\n",
       "<span style=white-space:pre-wrap>                        zfile &lt;- file.path(Rdatadir, topic)</span>\n",
       "<span style=white-space:pre-wrap>                    }</span>\n",
       "<span style=white-space:pre-wrap>                    if (zfile != file) </span>\n",
       "<span style=white-space:pre-wrap>                      on.exit(unlink(zfile))</span>\n",
       "<span style=white-space:pre-wrap>                    switch(ext, R = , r = {</span>\n",
       "<span style=white-space:pre-wrap>                      library(\"utils\")</span>\n",
       "<span style=white-space:pre-wrap>                      sys.source(zfile, chdir = TRUE, envir = tmp_env)</span>\n",
       "<span style=white-space:pre-wrap>                    }, RData = , rdata = , rda = load(zfile, </span>\n",
       "<span style=white-space:pre-wrap>                      envir = tmp_env), TXT = , txt = , tab = , </span>\n",
       "<span style=white-space:pre-wrap>                      tab.gz = , tab.bz2 = , tab.xz = , txt.gz = , </span>\n",
       "<span style=white-space:pre-wrap>                      txt.bz2 = , txt.xz = assign(name, read.table(zfile, </span>\n",
       "<span style=white-space:pre-wrap>                        header = TRUE, as.is = FALSE), envir = tmp_env), </span>\n",
       "<span style=white-space:pre-wrap>                      CSV = , csv = , csv.gz = , csv.bz2 = , </span>\n",
       "<span style=white-space:pre-wrap>                      csv.xz = assign(name, read.table(zfile, </span>\n",
       "<span style=white-space:pre-wrap>                        header = TRUE, sep = \";\", as.is = FALSE), </span>\n",
       "<span style=white-space:pre-wrap>                        envir = tmp_env), found &lt;- FALSE)</span>\n",
       "<span style=white-space:pre-wrap>                  }</span>\n",
       "<span style=white-space:pre-wrap>                  if (found) </span>\n",
       "<span style=white-space:pre-wrap>                    break</span>\n",
       "<span style=white-space:pre-wrap>                }</span>\n",
       "<span style=white-space:pre-wrap>                if (verbose) </span>\n",
       "<span style=white-space:pre-wrap>                  message(if (!found) </span>\n",
       "<span style=white-space:pre-wrap>                    \"*NOT* \", \"found\", domain = NA)</span>\n",
       "<span style=white-space:pre-wrap>            }</span>\n",
       "<span style=white-space:pre-wrap>            if (found) </span>\n",
       "<span style=white-space:pre-wrap>                break</span>\n",
       "<span style=white-space:pre-wrap>        }</span>\n",
       "<span style=white-space:pre-wrap>        if (!found) {</span>\n",
       "<span style=white-space:pre-wrap>            warning(gettextf(\"data set %s not found\", sQuote(name)), </span>\n",
       "<span style=white-space:pre-wrap>                domain = NA)</span>\n",
       "<span style=white-space:pre-wrap>        }</span>\n",
       "<span style=white-space:pre-wrap>        else if (!overwrite) {</span>\n",
       "<span style=white-space:pre-wrap>            for (o in ls(envir = tmp_env, all.names = TRUE)) {</span>\n",
       "<span style=white-space:pre-wrap>                if (exists(o, envir = envir, inherits = FALSE)) </span>\n",
       "<span style=white-space:pre-wrap>                  warning(gettextf(\"an object named %s already exists and will not be overwritten\", </span>\n",
       "<span style=white-space:pre-wrap>                    sQuote(o)))</span>\n",
       "<span style=white-space:pre-wrap>                else assign(o, get(o, envir = tmp_env, inherits = FALSE), </span>\n",
       "<span style=white-space:pre-wrap>                  envir = envir)</span>\n",
       "<span style=white-space:pre-wrap>            }</span>\n",
       "<span style=white-space:pre-wrap>            rm(tmp_env)</span>\n",
       "<span style=white-space:pre-wrap>        }</span>\n",
       "<span style=white-space:pre-wrap>    }</span>\n",
       "<span style=white-space:pre-wrap>    invisible(names)</span>\n",
       "}</code></pre>"
      ],
      "text/latex": [
       "\\begin{minted}{r}\n",
       "function (..., list = character(), package = NULL, lib.loc = NULL, \n",
       "    verbose = getOption(\"verbose\"), envir = .GlobalEnv, overwrite = TRUE) \n",
       "\\{\n",
       "    fileExt <- function(x) \\{\n",
       "        db <- grepl(\"\\textbackslash{}\\textbackslash{}.{[}\\textasciicircum{}.{]}+\\textbackslash{}\\textbackslash{}.(gz\\textbar{}bz2\\textbar{}xz)\\$\", x)\n",
       "        ans <- sub(\".*\\textbackslash{}\\textbackslash{}.\", \"\", x)\n",
       "        ans{[}db{]} <- sub(\".*\\textbackslash{}\\textbackslash{}.({[}\\textasciicircum{}.{]}+\\textbackslash{}\\textbackslash{}.)(gz\\textbar{}bz2\\textbar{}xz)\\$\", \"\\textbackslash{}\\textbackslash{}1\\textbackslash{}\\textbackslash{}2\", \n",
       "            x{[}db{]})\n",
       "        ans\n",
       "    \\}\n",
       "    names <- c(as.character(substitute(list(...)){[}-1L{]}), list)\n",
       "    if (!is.null(package)) \\{\n",
       "        if (!is.character(package)) \n",
       "            stop(\"'package' must be a character string or NULL\")\n",
       "        if (any(package \\%in\\% \"base\")) \n",
       "            warning(\"datasets have been moved from package 'base' to package 'datasets'\")\n",
       "        if (any(package \\%in\\% \"stats\")) \n",
       "            warning(\"datasets have been moved from package 'stats' to package 'datasets'\")\n",
       "        package{[}package \\%in\\% c(\"base\", \"stats\"){]} <- \"datasets\"\n",
       "    \\}\n",
       "    paths <- find.package(package, lib.loc, verbose = verbose)\n",
       "    if (is.null(lib.loc)) \n",
       "        paths <- c(path.package(package, TRUE), if (!length(package)) getwd(), \n",
       "            paths)\n",
       "    paths <- unique(normalizePath(paths{[}file.exists(paths){]}))\n",
       "    paths <- paths{[}dir.exists(file.path(paths, \"data\")){]}\n",
       "    dataExts <- tools:::.make\\_file\\_exts(\"data\")\n",
       "    if (length(names) == 0L) \\{\n",
       "        db <- matrix(character(), nrow = 0L, ncol = 4L)\n",
       "        for (path in paths) \\{\n",
       "            entries <- NULL\n",
       "            packageName <- if (file\\_test(\"-f\", file.path(path, \n",
       "                \"DESCRIPTION\"))) \n",
       "                basename(path)\n",
       "            else \".\"\n",
       "            if (file\\_test(\"-f\", INDEX <- file.path(path, \"Meta\", \n",
       "                \"data.rds\"))) \\{\n",
       "                entries <- readRDS(INDEX)\n",
       "            \\}\n",
       "            else \\{\n",
       "                dataDir <- file.path(path, \"data\")\n",
       "                entries <- tools::list\\_files\\_with\\_type(dataDir, \n",
       "                  \"data\")\n",
       "                if (length(entries)) \\{\n",
       "                  entries <- unique(tools::file\\_path\\_sans\\_ext(basename(entries)))\n",
       "                  entries <- cbind(entries, \"\")\n",
       "                \\}\n",
       "            \\}\n",
       "            if (NROW(entries)) \\{\n",
       "                if (is.matrix(entries) \\&\\& ncol(entries) == 2L) \n",
       "                  db <- rbind(db, cbind(packageName, dirname(path), \n",
       "                    entries))\n",
       "                else warning(gettextf(\"data index for package \\%s is invalid and will be ignored\", \n",
       "                  sQuote(packageName)), domain = NA, call. = FALSE)\n",
       "            \\}\n",
       "        \\}\n",
       "        colnames(db) <- c(\"Package\", \"LibPath\", \"Item\", \"Title\")\n",
       "        footer <- if (missing(package)) \n",
       "            paste0(\"Use \", sQuote(paste(\"data(package =\", \".packages(all.available = TRUE))\")), \n",
       "                \"\\textbackslash{}n\", \"to list the data sets in all *available* packages.\")\n",
       "        else NULL\n",
       "        y <- list(title = \"Data sets\", header = NULL, results = db, \n",
       "            footer = footer)\n",
       "        class(y) <- \"packageIQR\"\n",
       "        return(y)\n",
       "    \\}\n",
       "    paths <- file.path(paths, \"data\")\n",
       "    for (name in names) \\{\n",
       "        found <- FALSE\n",
       "        for (p in paths) \\{\n",
       "            tmp\\_env <- if (overwrite) \n",
       "                envir\n",
       "            else new.env()\n",
       "            if (file\\_test(\"-f\", file.path(p, \"Rdata.rds\"))) \\{\n",
       "                rds <- readRDS(file.path(p, \"Rdata.rds\"))\n",
       "                if (name \\%in\\% names(rds)) \\{\n",
       "                  found <- TRUE\n",
       "                  if (verbose) \n",
       "                    message(sprintf(\"name=\\%s:\\textbackslash{}t found in Rdata.rds\", \n",
       "                      name), domain = NA)\n",
       "                  thispkg <- sub(\".*/({[}\\textasciicircum{}/{]}*)/data\\$\", \"\\textbackslash{}\\textbackslash{}1\", p)\n",
       "                  thispkg <- sub(\"\\_.*\\$\", \"\", thispkg)\n",
       "                  thispkg <- paste0(\"package:\", thispkg)\n",
       "                  objs <- rds{[}{[}name{]}{]}\n",
       "                  lazyLoad(file.path(p, \"Rdata\"), envir = tmp\\_env, \n",
       "                    filter = function(x) x \\%in\\% objs)\n",
       "                  break\n",
       "                \\}\n",
       "                else if (verbose) \n",
       "                  message(sprintf(\"name=\\%s:\\textbackslash{}t NOT found in names() of Rdata.rds, i.e.,\\textbackslash{}n\\textbackslash{}t\\%s\\textbackslash{}n\", \n",
       "                    name, paste(names(rds), collapse = \",\")), \n",
       "                    domain = NA)\n",
       "            \\}\n",
       "            if (file\\_test(\"-f\", file.path(p, \"Rdata.zip\"))) \\{\n",
       "                warning(\"zipped data found for package \", sQuote(basename(dirname(p))), \n",
       "                  \".\\textbackslash{}nThat is defunct, so please re-install the package.\", \n",
       "                  domain = NA)\n",
       "                if (file\\_test(\"-f\", fp <- file.path(p, \"filelist\"))) \n",
       "                  files <- file.path(p, scan(fp, what = \"\", quiet = TRUE))\n",
       "                else \\{\n",
       "                  warning(gettextf(\"file 'filelist' is missing for directory \\%s\", \n",
       "                    sQuote(p)), domain = NA)\n",
       "                  next\n",
       "                \\}\n",
       "            \\}\n",
       "            else \\{\n",
       "                files <- list.files(p, full.names = TRUE)\n",
       "            \\}\n",
       "            files <- files{[}grep(name, files, fixed = TRUE){]}\n",
       "            if (length(files) > 1L) \\{\n",
       "                o <- match(fileExt(files), dataExts, nomatch = 100L)\n",
       "                paths0 <- dirname(files)\n",
       "                paths0 <- factor(paths0, levels = unique(paths0))\n",
       "                files <- files{[}order(paths0, o){]}\n",
       "            \\}\n",
       "            if (length(files)) \\{\n",
       "                for (file in files) \\{\n",
       "                  if (verbose) \n",
       "                    message(\"name=\", name, \":\\textbackslash{}t file= ...\", .Platform\\$file.sep, \n",
       "                      basename(file), \"::\\textbackslash{}t\", appendLF = FALSE, \n",
       "                      domain = NA)\n",
       "                  ext <- fileExt(file)\n",
       "                  if (basename(file) != paste0(name, \".\", ext)) \n",
       "                    found <- FALSE\n",
       "                  else \\{\n",
       "                    found <- TRUE\n",
       "                    zfile <- file\n",
       "                    zipname <- file.path(dirname(file), \"Rdata.zip\")\n",
       "                    if (file.exists(zipname)) \\{\n",
       "                      Rdatadir <- tempfile(\"Rdata\")\n",
       "                      dir.create(Rdatadir, showWarnings = FALSE)\n",
       "                      topic <- basename(file)\n",
       "                      rc <- .External(C\\_unzip, zipname, topic, \n",
       "                        Rdatadir, FALSE, TRUE, FALSE, FALSE)\n",
       "                      if (rc == 0L) \n",
       "                        zfile <- file.path(Rdatadir, topic)\n",
       "                    \\}\n",
       "                    if (zfile != file) \n",
       "                      on.exit(unlink(zfile))\n",
       "                    switch(ext, R = , r = \\{\n",
       "                      library(\"utils\")\n",
       "                      sys.source(zfile, chdir = TRUE, envir = tmp\\_env)\n",
       "                    \\}, RData = , rdata = , rda = load(zfile, \n",
       "                      envir = tmp\\_env), TXT = , txt = , tab = , \n",
       "                      tab.gz = , tab.bz2 = , tab.xz = , txt.gz = , \n",
       "                      txt.bz2 = , txt.xz = assign(name, read.table(zfile, \n",
       "                        header = TRUE, as.is = FALSE), envir = tmp\\_env), \n",
       "                      CSV = , csv = , csv.gz = , csv.bz2 = , \n",
       "                      csv.xz = assign(name, read.table(zfile, \n",
       "                        header = TRUE, sep = \";\", as.is = FALSE), \n",
       "                        envir = tmp\\_env), found <- FALSE)\n",
       "                  \\}\n",
       "                  if (found) \n",
       "                    break\n",
       "                \\}\n",
       "                if (verbose) \n",
       "                  message(if (!found) \n",
       "                    \"*NOT* \", \"found\", domain = NA)\n",
       "            \\}\n",
       "            if (found) \n",
       "                break\n",
       "        \\}\n",
       "        if (!found) \\{\n",
       "            warning(gettextf(\"data set \\%s not found\", sQuote(name)), \n",
       "                domain = NA)\n",
       "        \\}\n",
       "        else if (!overwrite) \\{\n",
       "            for (o in ls(envir = tmp\\_env, all.names = TRUE)) \\{\n",
       "                if (exists(o, envir = envir, inherits = FALSE)) \n",
       "                  warning(gettextf(\"an object named \\%s already exists and will not be overwritten\", \n",
       "                    sQuote(o)))\n",
       "                else assign(o, get(o, envir = tmp\\_env, inherits = FALSE), \n",
       "                  envir = envir)\n",
       "            \\}\n",
       "            rm(tmp\\_env)\n",
       "        \\}\n",
       "    \\}\n",
       "    invisible(names)\n",
       "\\}\n",
       "\\end{minted}"
      ],
      "text/markdown": [
       "```r\n",
       "function (..., list = character(), package = NULL, lib.loc = NULL, \n",
       "    verbose = getOption(\"verbose\"), envir = .GlobalEnv, overwrite = TRUE) \n",
       "{\n",
       "    fileExt <- function(x) {\n",
       "        db <- grepl(\"\\\\.[^.]+\\\\.(gz|bz2|xz)$\", x)\n",
       "        ans <- sub(\".*\\\\.\", \"\", x)\n",
       "        ans[db] <- sub(\".*\\\\.([^.]+\\\\.)(gz|bz2|xz)$\", \"\\\\1\\\\2\", \n",
       "            x[db])\n",
       "        ans\n",
       "    }\n",
       "    names <- c(as.character(substitute(list(...))[-1L]), list)\n",
       "    if (!is.null(package)) {\n",
       "        if (!is.character(package)) \n",
       "            stop(\"'package' must be a character string or NULL\")\n",
       "        if (any(package %in% \"base\")) \n",
       "            warning(\"datasets have been moved from package 'base' to package 'datasets'\")\n",
       "        if (any(package %in% \"stats\")) \n",
       "            warning(\"datasets have been moved from package 'stats' to package 'datasets'\")\n",
       "        package[package %in% c(\"base\", \"stats\")] <- \"datasets\"\n",
       "    }\n",
       "    paths <- find.package(package, lib.loc, verbose = verbose)\n",
       "    if (is.null(lib.loc)) \n",
       "        paths <- c(path.package(package, TRUE), if (!length(package)) getwd(), \n",
       "            paths)\n",
       "    paths <- unique(normalizePath(paths[file.exists(paths)]))\n",
       "    paths <- paths[dir.exists(file.path(paths, \"data\"))]\n",
       "    dataExts <- tools:::.make_file_exts(\"data\")\n",
       "    if (length(names) == 0L) {\n",
       "        db <- matrix(character(), nrow = 0L, ncol = 4L)\n",
       "        for (path in paths) {\n",
       "            entries <- NULL\n",
       "            packageName <- if (file_test(\"-f\", file.path(path, \n",
       "                \"DESCRIPTION\"))) \n",
       "                basename(path)\n",
       "            else \".\"\n",
       "            if (file_test(\"-f\", INDEX <- file.path(path, \"Meta\", \n",
       "                \"data.rds\"))) {\n",
       "                entries <- readRDS(INDEX)\n",
       "            }\n",
       "            else {\n",
       "                dataDir <- file.path(path, \"data\")\n",
       "                entries <- tools::list_files_with_type(dataDir, \n",
       "                  \"data\")\n",
       "                if (length(entries)) {\n",
       "                  entries <- unique(tools::file_path_sans_ext(basename(entries)))\n",
       "                  entries <- cbind(entries, \"\")\n",
       "                }\n",
       "            }\n",
       "            if (NROW(entries)) {\n",
       "                if (is.matrix(entries) && ncol(entries) == 2L) \n",
       "                  db <- rbind(db, cbind(packageName, dirname(path), \n",
       "                    entries))\n",
       "                else warning(gettextf(\"data index for package %s is invalid and will be ignored\", \n",
       "                  sQuote(packageName)), domain = NA, call. = FALSE)\n",
       "            }\n",
       "        }\n",
       "        colnames(db) <- c(\"Package\", \"LibPath\", \"Item\", \"Title\")\n",
       "        footer <- if (missing(package)) \n",
       "            paste0(\"Use \", sQuote(paste(\"data(package =\", \".packages(all.available = TRUE))\")), \n",
       "                \"\\n\", \"to list the data sets in all *available* packages.\")\n",
       "        else NULL\n",
       "        y <- list(title = \"Data sets\", header = NULL, results = db, \n",
       "            footer = footer)\n",
       "        class(y) <- \"packageIQR\"\n",
       "        return(y)\n",
       "    }\n",
       "    paths <- file.path(paths, \"data\")\n",
       "    for (name in names) {\n",
       "        found <- FALSE\n",
       "        for (p in paths) {\n",
       "            tmp_env <- if (overwrite) \n",
       "                envir\n",
       "            else new.env()\n",
       "            if (file_test(\"-f\", file.path(p, \"Rdata.rds\"))) {\n",
       "                rds <- readRDS(file.path(p, \"Rdata.rds\"))\n",
       "                if (name %in% names(rds)) {\n",
       "                  found <- TRUE\n",
       "                  if (verbose) \n",
       "                    message(sprintf(\"name=%s:\\t found in Rdata.rds\", \n",
       "                      name), domain = NA)\n",
       "                  thispkg <- sub(\".*/([^/]*)/data$\", \"\\\\1\", p)\n",
       "                  thispkg <- sub(\"_.*$\", \"\", thispkg)\n",
       "                  thispkg <- paste0(\"package:\", thispkg)\n",
       "                  objs <- rds[[name]]\n",
       "                  lazyLoad(file.path(p, \"Rdata\"), envir = tmp_env, \n",
       "                    filter = function(x) x %in% objs)\n",
       "                  break\n",
       "                }\n",
       "                else if (verbose) \n",
       "                  message(sprintf(\"name=%s:\\t NOT found in names() of Rdata.rds, i.e.,\\n\\t%s\\n\", \n",
       "                    name, paste(names(rds), collapse = \",\")), \n",
       "                    domain = NA)\n",
       "            }\n",
       "            if (file_test(\"-f\", file.path(p, \"Rdata.zip\"))) {\n",
       "                warning(\"zipped data found for package \", sQuote(basename(dirname(p))), \n",
       "                  \".\\nThat is defunct, so please re-install the package.\", \n",
       "                  domain = NA)\n",
       "                if (file_test(\"-f\", fp <- file.path(p, \"filelist\"))) \n",
       "                  files <- file.path(p, scan(fp, what = \"\", quiet = TRUE))\n",
       "                else {\n",
       "                  warning(gettextf(\"file 'filelist' is missing for directory %s\", \n",
       "                    sQuote(p)), domain = NA)\n",
       "                  next\n",
       "                }\n",
       "            }\n",
       "            else {\n",
       "                files <- list.files(p, full.names = TRUE)\n",
       "            }\n",
       "            files <- files[grep(name, files, fixed = TRUE)]\n",
       "            if (length(files) > 1L) {\n",
       "                o <- match(fileExt(files), dataExts, nomatch = 100L)\n",
       "                paths0 <- dirname(files)\n",
       "                paths0 <- factor(paths0, levels = unique(paths0))\n",
       "                files <- files[order(paths0, o)]\n",
       "            }\n",
       "            if (length(files)) {\n",
       "                for (file in files) {\n",
       "                  if (verbose) \n",
       "                    message(\"name=\", name, \":\\t file= ...\", .Platform$file.sep, \n",
       "                      basename(file), \"::\\t\", appendLF = FALSE, \n",
       "                      domain = NA)\n",
       "                  ext <- fileExt(file)\n",
       "                  if (basename(file) != paste0(name, \".\", ext)) \n",
       "                    found <- FALSE\n",
       "                  else {\n",
       "                    found <- TRUE\n",
       "                    zfile <- file\n",
       "                    zipname <- file.path(dirname(file), \"Rdata.zip\")\n",
       "                    if (file.exists(zipname)) {\n",
       "                      Rdatadir <- tempfile(\"Rdata\")\n",
       "                      dir.create(Rdatadir, showWarnings = FALSE)\n",
       "                      topic <- basename(file)\n",
       "                      rc <- .External(C_unzip, zipname, topic, \n",
       "                        Rdatadir, FALSE, TRUE, FALSE, FALSE)\n",
       "                      if (rc == 0L) \n",
       "                        zfile <- file.path(Rdatadir, topic)\n",
       "                    }\n",
       "                    if (zfile != file) \n",
       "                      on.exit(unlink(zfile))\n",
       "                    switch(ext, R = , r = {\n",
       "                      library(\"utils\")\n",
       "                      sys.source(zfile, chdir = TRUE, envir = tmp_env)\n",
       "                    }, RData = , rdata = , rda = load(zfile, \n",
       "                      envir = tmp_env), TXT = , txt = , tab = , \n",
       "                      tab.gz = , tab.bz2 = , tab.xz = , txt.gz = , \n",
       "                      txt.bz2 = , txt.xz = assign(name, read.table(zfile, \n",
       "                        header = TRUE, as.is = FALSE), envir = tmp_env), \n",
       "                      CSV = , csv = , csv.gz = , csv.bz2 = , \n",
       "                      csv.xz = assign(name, read.table(zfile, \n",
       "                        header = TRUE, sep = \";\", as.is = FALSE), \n",
       "                        envir = tmp_env), found <- FALSE)\n",
       "                  }\n",
       "                  if (found) \n",
       "                    break\n",
       "                }\n",
       "                if (verbose) \n",
       "                  message(if (!found) \n",
       "                    \"*NOT* \", \"found\", domain = NA)\n",
       "            }\n",
       "            if (found) \n",
       "                break\n",
       "        }\n",
       "        if (!found) {\n",
       "            warning(gettextf(\"data set %s not found\", sQuote(name)), \n",
       "                domain = NA)\n",
       "        }\n",
       "        else if (!overwrite) {\n",
       "            for (o in ls(envir = tmp_env, all.names = TRUE)) {\n",
       "                if (exists(o, envir = envir, inherits = FALSE)) \n",
       "                  warning(gettextf(\"an object named %s already exists and will not be overwritten\", \n",
       "                    sQuote(o)))\n",
       "                else assign(o, get(o, envir = tmp_env, inherits = FALSE), \n",
       "                  envir = envir)\n",
       "            }\n",
       "            rm(tmp_env)\n",
       "        }\n",
       "    }\n",
       "    invisible(names)\n",
       "}\n",
       "```"
      ],
      "text/plain": [
       "function (..., list = character(), package = NULL, lib.loc = NULL, \n",
       "    verbose = getOption(\"verbose\"), envir = .GlobalEnv, overwrite = TRUE) \n",
       "{\n",
       "    fileExt <- function(x) {\n",
       "        db <- grepl(\"\\\\.[^.]+\\\\.(gz|bz2|xz)$\", x)\n",
       "        ans <- sub(\".*\\\\.\", \"\", x)\n",
       "        ans[db] <- sub(\".*\\\\.([^.]+\\\\.)(gz|bz2|xz)$\", \"\\\\1\\\\2\", \n",
       "            x[db])\n",
       "        ans\n",
       "    }\n",
       "    names <- c(as.character(substitute(list(...))[-1L]), list)\n",
       "    if (!is.null(package)) {\n",
       "        if (!is.character(package)) \n",
       "            stop(\"'package' must be a character string or NULL\")\n",
       "        if (any(package %in% \"base\")) \n",
       "            warning(\"datasets have been moved from package 'base' to package 'datasets'\")\n",
       "        if (any(package %in% \"stats\")) \n",
       "            warning(\"datasets have been moved from package 'stats' to package 'datasets'\")\n",
       "        package[package %in% c(\"base\", \"stats\")] <- \"datasets\"\n",
       "    }\n",
       "    paths <- find.package(package, lib.loc, verbose = verbose)\n",
       "    if (is.null(lib.loc)) \n",
       "        paths <- c(path.package(package, TRUE), if (!length(package)) getwd(), \n",
       "            paths)\n",
       "    paths <- unique(normalizePath(paths[file.exists(paths)]))\n",
       "    paths <- paths[dir.exists(file.path(paths, \"data\"))]\n",
       "    dataExts <- tools:::.make_file_exts(\"data\")\n",
       "    if (length(names) == 0L) {\n",
       "        db <- matrix(character(), nrow = 0L, ncol = 4L)\n",
       "        for (path in paths) {\n",
       "            entries <- NULL\n",
       "            packageName <- if (file_test(\"-f\", file.path(path, \n",
       "                \"DESCRIPTION\"))) \n",
       "                basename(path)\n",
       "            else \".\"\n",
       "            if (file_test(\"-f\", INDEX <- file.path(path, \"Meta\", \n",
       "                \"data.rds\"))) {\n",
       "                entries <- readRDS(INDEX)\n",
       "            }\n",
       "            else {\n",
       "                dataDir <- file.path(path, \"data\")\n",
       "                entries <- tools::list_files_with_type(dataDir, \n",
       "                  \"data\")\n",
       "                if (length(entries)) {\n",
       "                  entries <- unique(tools::file_path_sans_ext(basename(entries)))\n",
       "                  entries <- cbind(entries, \"\")\n",
       "                }\n",
       "            }\n",
       "            if (NROW(entries)) {\n",
       "                if (is.matrix(entries) && ncol(entries) == 2L) \n",
       "                  db <- rbind(db, cbind(packageName, dirname(path), \n",
       "                    entries))\n",
       "                else warning(gettextf(\"data index for package %s is invalid and will be ignored\", \n",
       "                  sQuote(packageName)), domain = NA, call. = FALSE)\n",
       "            }\n",
       "        }\n",
       "        colnames(db) <- c(\"Package\", \"LibPath\", \"Item\", \"Title\")\n",
       "        footer <- if (missing(package)) \n",
       "            paste0(\"Use \", sQuote(paste(\"data(package =\", \".packages(all.available = TRUE))\")), \n",
       "                \"\\n\", \"to list the data sets in all *available* packages.\")\n",
       "        else NULL\n",
       "        y <- list(title = \"Data sets\", header = NULL, results = db, \n",
       "            footer = footer)\n",
       "        class(y) <- \"packageIQR\"\n",
       "        return(y)\n",
       "    }\n",
       "    paths <- file.path(paths, \"data\")\n",
       "    for (name in names) {\n",
       "        found <- FALSE\n",
       "        for (p in paths) {\n",
       "            tmp_env <- if (overwrite) \n",
       "                envir\n",
       "            else new.env()\n",
       "            if (file_test(\"-f\", file.path(p, \"Rdata.rds\"))) {\n",
       "                rds <- readRDS(file.path(p, \"Rdata.rds\"))\n",
       "                if (name %in% names(rds)) {\n",
       "                  found <- TRUE\n",
       "                  if (verbose) \n",
       "                    message(sprintf(\"name=%s:\\t found in Rdata.rds\", \n",
       "                      name), domain = NA)\n",
       "                  thispkg <- sub(\".*/([^/]*)/data$\", \"\\\\1\", p)\n",
       "                  thispkg <- sub(\"_.*$\", \"\", thispkg)\n",
       "                  thispkg <- paste0(\"package:\", thispkg)\n",
       "                  objs <- rds[[name]]\n",
       "                  lazyLoad(file.path(p, \"Rdata\"), envir = tmp_env, \n",
       "                    filter = function(x) x %in% objs)\n",
       "                  break\n",
       "                }\n",
       "                else if (verbose) \n",
       "                  message(sprintf(\"name=%s:\\t NOT found in names() of Rdata.rds, i.e.,\\n\\t%s\\n\", \n",
       "                    name, paste(names(rds), collapse = \",\")), \n",
       "                    domain = NA)\n",
       "            }\n",
       "            if (file_test(\"-f\", file.path(p, \"Rdata.zip\"))) {\n",
       "                warning(\"zipped data found for package \", sQuote(basename(dirname(p))), \n",
       "                  \".\\nThat is defunct, so please re-install the package.\", \n",
       "                  domain = NA)\n",
       "                if (file_test(\"-f\", fp <- file.path(p, \"filelist\"))) \n",
       "                  files <- file.path(p, scan(fp, what = \"\", quiet = TRUE))\n",
       "                else {\n",
       "                  warning(gettextf(\"file 'filelist' is missing for directory %s\", \n",
       "                    sQuote(p)), domain = NA)\n",
       "                  next\n",
       "                }\n",
       "            }\n",
       "            else {\n",
       "                files <- list.files(p, full.names = TRUE)\n",
       "            }\n",
       "            files <- files[grep(name, files, fixed = TRUE)]\n",
       "            if (length(files) > 1L) {\n",
       "                o <- match(fileExt(files), dataExts, nomatch = 100L)\n",
       "                paths0 <- dirname(files)\n",
       "                paths0 <- factor(paths0, levels = unique(paths0))\n",
       "                files <- files[order(paths0, o)]\n",
       "            }\n",
       "            if (length(files)) {\n",
       "                for (file in files) {\n",
       "                  if (verbose) \n",
       "                    message(\"name=\", name, \":\\t file= ...\", .Platform$file.sep, \n",
       "                      basename(file), \"::\\t\", appendLF = FALSE, \n",
       "                      domain = NA)\n",
       "                  ext <- fileExt(file)\n",
       "                  if (basename(file) != paste0(name, \".\", ext)) \n",
       "                    found <- FALSE\n",
       "                  else {\n",
       "                    found <- TRUE\n",
       "                    zfile <- file\n",
       "                    zipname <- file.path(dirname(file), \"Rdata.zip\")\n",
       "                    if (file.exists(zipname)) {\n",
       "                      Rdatadir <- tempfile(\"Rdata\")\n",
       "                      dir.create(Rdatadir, showWarnings = FALSE)\n",
       "                      topic <- basename(file)\n",
       "                      rc <- .External(C_unzip, zipname, topic, \n",
       "                        Rdatadir, FALSE, TRUE, FALSE, FALSE)\n",
       "                      if (rc == 0L) \n",
       "                        zfile <- file.path(Rdatadir, topic)\n",
       "                    }\n",
       "                    if (zfile != file) \n",
       "                      on.exit(unlink(zfile))\n",
       "                    switch(ext, R = , r = {\n",
       "                      library(\"utils\")\n",
       "                      sys.source(zfile, chdir = TRUE, envir = tmp_env)\n",
       "                    }, RData = , rdata = , rda = load(zfile, \n",
       "                      envir = tmp_env), TXT = , txt = , tab = , \n",
       "                      tab.gz = , tab.bz2 = , tab.xz = , txt.gz = , \n",
       "                      txt.bz2 = , txt.xz = assign(name, read.table(zfile, \n",
       "                        header = TRUE, as.is = FALSE), envir = tmp_env), \n",
       "                      CSV = , csv = , csv.gz = , csv.bz2 = , \n",
       "                      csv.xz = assign(name, read.table(zfile, \n",
       "                        header = TRUE, sep = \";\", as.is = FALSE), \n",
       "                        envir = tmp_env), found <- FALSE)\n",
       "                  }\n",
       "                  if (found) \n",
       "                    break\n",
       "                }\n",
       "                if (verbose) \n",
       "                  message(if (!found) \n",
       "                    \"*NOT* \", \"found\", domain = NA)\n",
       "            }\n",
       "            if (found) \n",
       "                break\n",
       "        }\n",
       "        if (!found) {\n",
       "            warning(gettextf(\"data set %s not found\", sQuote(name)), \n",
       "                domain = NA)\n",
       "        }\n",
       "        else if (!overwrite) {\n",
       "            for (o in ls(envir = tmp_env, all.names = TRUE)) {\n",
       "                if (exists(o, envir = envir, inherits = FALSE)) \n",
       "                  warning(gettextf(\"an object named %s already exists and will not be overwritten\", \n",
       "                    sQuote(o)))\n",
       "                else assign(o, get(o, envir = tmp_env, inherits = FALSE), \n",
       "                  envir = envir)\n",
       "            }\n",
       "            rm(tmp_env)\n",
       "        }\n",
       "    }\n",
       "    invisible(names)\n",
       "}\n",
       "<bytecode: 0x0000000026e6b3f0>\n",
       "<environment: namespace:utils>"
      ]
     },
     "metadata": {},
     "output_type": "display_data"
    }
   ],
   "source": [
    "na.omit(data)"
   ]
  },
  {
   "cell_type": "code",
   "execution_count": 34,
   "metadata": {},
   "outputs": [],
   "source": [
    "#Creates a vector with NA values in it\n",
    "df <- c(34,'We25',67,NA,56,87,NA,34,56)"
   ]
  },
  {
   "cell_type": "code",
   "execution_count": 35,
   "metadata": {},
   "outputs": [
    {
     "data": {
      "text/html": [
       "<ol class=list-inline>\n",
       "\t<li>'34'</li>\n",
       "\t<li>'We25'</li>\n",
       "\t<li>'67'</li>\n",
       "\t<li>'56'</li>\n",
       "\t<li>'87'</li>\n",
       "\t<li>'34'</li>\n",
       "\t<li>'56'</li>\n",
       "</ol>\n"
      ],
      "text/latex": [
       "\\begin{enumerate*}\n",
       "\\item '34'\n",
       "\\item 'We25'\n",
       "\\item '67'\n",
       "\\item '56'\n",
       "\\item '87'\n",
       "\\item '34'\n",
       "\\item '56'\n",
       "\\end{enumerate*}\n"
      ],
      "text/markdown": [
       "1. '34'\n",
       "2. 'We25'\n",
       "3. '67'\n",
       "4. '56'\n",
       "5. '87'\n",
       "6. '34'\n",
       "7. '56'\n",
       "\n",
       "\n"
      ],
      "text/plain": [
       "[1] \"34\"   \"We25\" \"67\"   \"56\"   \"87\"   \"34\"   \"56\"  \n",
       "attr(,\"na.action\")\n",
       "[1] 4 7\n",
       "attr(,\"class\")\n",
       "[1] \"omit\""
      ]
     },
     "metadata": {},
     "output_type": "display_data"
    }
   ],
   "source": [
    "na.omit(df)"
   ]
  },
  {
   "cell_type": "code",
   "execution_count": 36,
   "metadata": {},
   "outputs": [],
   "source": [
    "df <- c(34,67,NA,56,87,NA,34,56)"
   ]
  },
  {
   "cell_type": "code",
   "execution_count": 37,
   "metadata": {},
   "outputs": [
    {
     "data": {
      "text/html": [
       "<ol class=list-inline>\n",
       "\t<li>34</li>\n",
       "\t<li>67</li>\n",
       "\t<li>&lt;NA&gt;</li>\n",
       "\t<li>56</li>\n",
       "\t<li>87</li>\n",
       "\t<li>&lt;NA&gt;</li>\n",
       "\t<li>34</li>\n",
       "\t<li>56</li>\n",
       "</ol>\n"
      ],
      "text/latex": [
       "\\begin{enumerate*}\n",
       "\\item 34\n",
       "\\item 67\n",
       "\\item <NA>\n",
       "\\item 56\n",
       "\\item 87\n",
       "\\item <NA>\n",
       "\\item 34\n",
       "\\item 56\n",
       "\\end{enumerate*}\n"
      ],
      "text/markdown": [
       "1. 34\n",
       "2. 67\n",
       "3. &lt;NA&gt;\n",
       "4. 56\n",
       "5. 87\n",
       "6. &lt;NA&gt;\n",
       "7. 34\n",
       "8. 56\n",
       "\n",
       "\n"
      ],
      "text/plain": [
       "[1] 34 67 NA 56 87 NA 34 56"
      ]
     },
     "metadata": {},
     "output_type": "display_data"
    }
   ],
   "source": [
    "df"
   ]
  },
  {
   "cell_type": "markdown",
   "metadata": {},
   "source": [
    "#### na.omit() function with a dataframe"
   ]
  },
  {
   "cell_type": "code",
   "execution_count": 38,
   "metadata": {},
   "outputs": [],
   "source": [
    "#Importing the dataset\n",
    "df <- datasets::airquality"
   ]
  },
  {
   "cell_type": "code",
   "execution_count": 39,
   "metadata": {},
   "outputs": [
    {
     "data": {
      "text/html": [
       "<table>\n",
       "<thead><tr><th scope=col>Ozone</th><th scope=col>Solar.R</th><th scope=col>Wind</th><th scope=col>Temp</th><th scope=col>Month</th><th scope=col>Day</th></tr></thead>\n",
       "<tbody>\n",
       "\t<tr><td> 41 </td><td>190 </td><td> 7.4</td><td>67  </td><td>5   </td><td> 1  </td></tr>\n",
       "\t<tr><td> 36 </td><td>118 </td><td> 8.0</td><td>72  </td><td>5   </td><td> 2  </td></tr>\n",
       "\t<tr><td> 12 </td><td>149 </td><td>12.6</td><td>74  </td><td>5   </td><td> 3  </td></tr>\n",
       "\t<tr><td> 18 </td><td>313 </td><td>11.5</td><td>62  </td><td>5   </td><td> 4  </td></tr>\n",
       "\t<tr><td> NA </td><td> NA </td><td>14.3</td><td>56  </td><td>5   </td><td> 5  </td></tr>\n",
       "\t<tr><td> 28 </td><td> NA </td><td>14.9</td><td>66  </td><td>5   </td><td> 6  </td></tr>\n",
       "\t<tr><td> 23 </td><td>299 </td><td> 8.6</td><td>65  </td><td>5   </td><td> 7  </td></tr>\n",
       "\t<tr><td> 19 </td><td> 99 </td><td>13.8</td><td>59  </td><td>5   </td><td> 8  </td></tr>\n",
       "\t<tr><td>  8 </td><td> 19 </td><td>20.1</td><td>61  </td><td>5   </td><td> 9  </td></tr>\n",
       "\t<tr><td> NA </td><td>194 </td><td> 8.6</td><td>69  </td><td>5   </td><td>10  </td></tr>\n",
       "\t<tr><td>  7 </td><td> NA </td><td> 6.9</td><td>74  </td><td>5   </td><td>11  </td></tr>\n",
       "\t<tr><td> 16 </td><td>256 </td><td> 9.7</td><td>69  </td><td>5   </td><td>12  </td></tr>\n",
       "\t<tr><td> 11 </td><td>290 </td><td> 9.2</td><td>66  </td><td>5   </td><td>13  </td></tr>\n",
       "\t<tr><td> 14 </td><td>274 </td><td>10.9</td><td>68  </td><td>5   </td><td>14  </td></tr>\n",
       "\t<tr><td> 18 </td><td> 65 </td><td>13.2</td><td>58  </td><td>5   </td><td>15  </td></tr>\n",
       "\t<tr><td> 14 </td><td>334 </td><td>11.5</td><td>64  </td><td>5   </td><td>16  </td></tr>\n",
       "\t<tr><td> 34 </td><td>307 </td><td>12.0</td><td>66  </td><td>5   </td><td>17  </td></tr>\n",
       "\t<tr><td>  6 </td><td> 78 </td><td>18.4</td><td>57  </td><td>5   </td><td>18  </td></tr>\n",
       "\t<tr><td> 30 </td><td>322 </td><td>11.5</td><td>68  </td><td>5   </td><td>19  </td></tr>\n",
       "\t<tr><td> 11 </td><td> 44 </td><td> 9.7</td><td>62  </td><td>5   </td><td>20  </td></tr>\n",
       "\t<tr><td>  1 </td><td>  8 </td><td> 9.7</td><td>59  </td><td>5   </td><td>21  </td></tr>\n",
       "\t<tr><td> 11 </td><td>320 </td><td>16.6</td><td>73  </td><td>5   </td><td>22  </td></tr>\n",
       "\t<tr><td>  4 </td><td> 25 </td><td> 9.7</td><td>61  </td><td>5   </td><td>23  </td></tr>\n",
       "\t<tr><td> 32 </td><td> 92 </td><td>12.0</td><td>61  </td><td>5   </td><td>24  </td></tr>\n",
       "\t<tr><td> NA </td><td> 66 </td><td>16.6</td><td>57  </td><td>5   </td><td>25  </td></tr>\n",
       "\t<tr><td> NA </td><td>266 </td><td>14.9</td><td>58  </td><td>5   </td><td>26  </td></tr>\n",
       "\t<tr><td> NA </td><td> NA </td><td> 8.0</td><td>57  </td><td>5   </td><td>27  </td></tr>\n",
       "\t<tr><td> 23 </td><td> 13 </td><td>12.0</td><td>67  </td><td>5   </td><td>28  </td></tr>\n",
       "\t<tr><td> 45 </td><td>252 </td><td>14.9</td><td>81  </td><td>5   </td><td>29  </td></tr>\n",
       "\t<tr><td>115 </td><td>223 </td><td> 5.7</td><td>79  </td><td>5   </td><td>30  </td></tr>\n",
       "\t<tr><td>...</td><td>...</td><td>...</td><td>...</td><td>...</td><td>...</td></tr>\n",
       "\t<tr><td>96  </td><td>167 </td><td> 6.9</td><td>91  </td><td>9   </td><td> 1  </td></tr>\n",
       "\t<tr><td>78  </td><td>197 </td><td> 5.1</td><td>92  </td><td>9   </td><td> 2  </td></tr>\n",
       "\t<tr><td>73  </td><td>183 </td><td> 2.8</td><td>93  </td><td>9   </td><td> 3  </td></tr>\n",
       "\t<tr><td>91  </td><td>189 </td><td> 4.6</td><td>93  </td><td>9   </td><td> 4  </td></tr>\n",
       "\t<tr><td>47  </td><td> 95 </td><td> 7.4</td><td>87  </td><td>9   </td><td> 5  </td></tr>\n",
       "\t<tr><td>32  </td><td> 92 </td><td>15.5</td><td>84  </td><td>9   </td><td> 6  </td></tr>\n",
       "\t<tr><td>20  </td><td>252 </td><td>10.9</td><td>80  </td><td>9   </td><td> 7  </td></tr>\n",
       "\t<tr><td>23  </td><td>220 </td><td>10.3</td><td>78  </td><td>9   </td><td> 8  </td></tr>\n",
       "\t<tr><td>21  </td><td>230 </td><td>10.9</td><td>75  </td><td>9   </td><td> 9  </td></tr>\n",
       "\t<tr><td>24  </td><td>259 </td><td> 9.7</td><td>73  </td><td>9   </td><td>10  </td></tr>\n",
       "\t<tr><td>44  </td><td>236 </td><td>14.9</td><td>81  </td><td>9   </td><td>11  </td></tr>\n",
       "\t<tr><td>21  </td><td>259 </td><td>15.5</td><td>76  </td><td>9   </td><td>12  </td></tr>\n",
       "\t<tr><td>28  </td><td>238 </td><td> 6.3</td><td>77  </td><td>9   </td><td>13  </td></tr>\n",
       "\t<tr><td> 9  </td><td> 24 </td><td>10.9</td><td>71  </td><td>9   </td><td>14  </td></tr>\n",
       "\t<tr><td>13  </td><td>112 </td><td>11.5</td><td>71  </td><td>9   </td><td>15  </td></tr>\n",
       "\t<tr><td>46  </td><td>237 </td><td> 6.9</td><td>78  </td><td>9   </td><td>16  </td></tr>\n",
       "\t<tr><td>18  </td><td>224 </td><td>13.8</td><td>67  </td><td>9   </td><td>17  </td></tr>\n",
       "\t<tr><td>13  </td><td> 27 </td><td>10.3</td><td>76  </td><td>9   </td><td>18  </td></tr>\n",
       "\t<tr><td>24  </td><td>238 </td><td>10.3</td><td>68  </td><td>9   </td><td>19  </td></tr>\n",
       "\t<tr><td>16  </td><td>201 </td><td> 8.0</td><td>82  </td><td>9   </td><td>20  </td></tr>\n",
       "\t<tr><td>13  </td><td>238 </td><td>12.6</td><td>64  </td><td>9   </td><td>21  </td></tr>\n",
       "\t<tr><td>23  </td><td> 14 </td><td> 9.2</td><td>71  </td><td>9   </td><td>22  </td></tr>\n",
       "\t<tr><td>36  </td><td>139 </td><td>10.3</td><td>81  </td><td>9   </td><td>23  </td></tr>\n",
       "\t<tr><td> 7  </td><td> 49 </td><td>10.3</td><td>69  </td><td>9   </td><td>24  </td></tr>\n",
       "\t<tr><td>14  </td><td> 20 </td><td>16.6</td><td>63  </td><td>9   </td><td>25  </td></tr>\n",
       "\t<tr><td>30  </td><td>193 </td><td> 6.9</td><td>70  </td><td>9   </td><td>26  </td></tr>\n",
       "\t<tr><td>NA  </td><td>145 </td><td>13.2</td><td>77  </td><td>9   </td><td>27  </td></tr>\n",
       "\t<tr><td>14  </td><td>191 </td><td>14.3</td><td>75  </td><td>9   </td><td>28  </td></tr>\n",
       "\t<tr><td>18  </td><td>131 </td><td> 8.0</td><td>76  </td><td>9   </td><td>29  </td></tr>\n",
       "\t<tr><td>20  </td><td>223 </td><td>11.5</td><td>68  </td><td>9   </td><td>30  </td></tr>\n",
       "</tbody>\n",
       "</table>\n"
      ],
      "text/latex": [
       "\\begin{tabular}{r|llllll}\n",
       " Ozone & Solar.R & Wind & Temp & Month & Day\\\\\n",
       "\\hline\n",
       "\t  41  & 190  &  7.4 & 67   & 5    &  1  \\\\\n",
       "\t  36  & 118  &  8.0 & 72   & 5    &  2  \\\\\n",
       "\t  12  & 149  & 12.6 & 74   & 5    &  3  \\\\\n",
       "\t  18  & 313  & 11.5 & 62   & 5    &  4  \\\\\n",
       "\t  NA  &  NA  & 14.3 & 56   & 5    &  5  \\\\\n",
       "\t  28  &  NA  & 14.9 & 66   & 5    &  6  \\\\\n",
       "\t  23  & 299  &  8.6 & 65   & 5    &  7  \\\\\n",
       "\t  19  &  99  & 13.8 & 59   & 5    &  8  \\\\\n",
       "\t   8  &  19  & 20.1 & 61   & 5    &  9  \\\\\n",
       "\t  NA  & 194  &  8.6 & 69   & 5    & 10  \\\\\n",
       "\t   7  &  NA  &  6.9 & 74   & 5    & 11  \\\\\n",
       "\t  16  & 256  &  9.7 & 69   & 5    & 12  \\\\\n",
       "\t  11  & 290  &  9.2 & 66   & 5    & 13  \\\\\n",
       "\t  14  & 274  & 10.9 & 68   & 5    & 14  \\\\\n",
       "\t  18  &  65  & 13.2 & 58   & 5    & 15  \\\\\n",
       "\t  14  & 334  & 11.5 & 64   & 5    & 16  \\\\\n",
       "\t  34  & 307  & 12.0 & 66   & 5    & 17  \\\\\n",
       "\t   6  &  78  & 18.4 & 57   & 5    & 18  \\\\\n",
       "\t  30  & 322  & 11.5 & 68   & 5    & 19  \\\\\n",
       "\t  11  &  44  &  9.7 & 62   & 5    & 20  \\\\\n",
       "\t   1  &   8  &  9.7 & 59   & 5    & 21  \\\\\n",
       "\t  11  & 320  & 16.6 & 73   & 5    & 22  \\\\\n",
       "\t   4  &  25  &  9.7 & 61   & 5    & 23  \\\\\n",
       "\t  32  &  92  & 12.0 & 61   & 5    & 24  \\\\\n",
       "\t  NA  &  66  & 16.6 & 57   & 5    & 25  \\\\\n",
       "\t  NA  & 266  & 14.9 & 58   & 5    & 26  \\\\\n",
       "\t  NA  &  NA  &  8.0 & 57   & 5    & 27  \\\\\n",
       "\t  23  &  13  & 12.0 & 67   & 5    & 28  \\\\\n",
       "\t  45  & 252  & 14.9 & 81   & 5    & 29  \\\\\n",
       "\t 115  & 223  &  5.7 & 79   & 5    & 30  \\\\\n",
       "\t ... & ... & ... & ... & ... & ...\\\\\n",
       "\t 96   & 167  &  6.9 & 91   & 9    &  1  \\\\\n",
       "\t 78   & 197  &  5.1 & 92   & 9    &  2  \\\\\n",
       "\t 73   & 183  &  2.8 & 93   & 9    &  3  \\\\\n",
       "\t 91   & 189  &  4.6 & 93   & 9    &  4  \\\\\n",
       "\t 47   &  95  &  7.4 & 87   & 9    &  5  \\\\\n",
       "\t 32   &  92  & 15.5 & 84   & 9    &  6  \\\\\n",
       "\t 20   & 252  & 10.9 & 80   & 9    &  7  \\\\\n",
       "\t 23   & 220  & 10.3 & 78   & 9    &  8  \\\\\n",
       "\t 21   & 230  & 10.9 & 75   & 9    &  9  \\\\\n",
       "\t 24   & 259  &  9.7 & 73   & 9    & 10  \\\\\n",
       "\t 44   & 236  & 14.9 & 81   & 9    & 11  \\\\\n",
       "\t 21   & 259  & 15.5 & 76   & 9    & 12  \\\\\n",
       "\t 28   & 238  &  6.3 & 77   & 9    & 13  \\\\\n",
       "\t  9   &  24  & 10.9 & 71   & 9    & 14  \\\\\n",
       "\t 13   & 112  & 11.5 & 71   & 9    & 15  \\\\\n",
       "\t 46   & 237  &  6.9 & 78   & 9    & 16  \\\\\n",
       "\t 18   & 224  & 13.8 & 67   & 9    & 17  \\\\\n",
       "\t 13   &  27  & 10.3 & 76   & 9    & 18  \\\\\n",
       "\t 24   & 238  & 10.3 & 68   & 9    & 19  \\\\\n",
       "\t 16   & 201  &  8.0 & 82   & 9    & 20  \\\\\n",
       "\t 13   & 238  & 12.6 & 64   & 9    & 21  \\\\\n",
       "\t 23   &  14  &  9.2 & 71   & 9    & 22  \\\\\n",
       "\t 36   & 139  & 10.3 & 81   & 9    & 23  \\\\\n",
       "\t  7   &  49  & 10.3 & 69   & 9    & 24  \\\\\n",
       "\t 14   &  20  & 16.6 & 63   & 9    & 25  \\\\\n",
       "\t 30   & 193  &  6.9 & 70   & 9    & 26  \\\\\n",
       "\t NA   & 145  & 13.2 & 77   & 9    & 27  \\\\\n",
       "\t 14   & 191  & 14.3 & 75   & 9    & 28  \\\\\n",
       "\t 18   & 131  &  8.0 & 76   & 9    & 29  \\\\\n",
       "\t 20   & 223  & 11.5 & 68   & 9    & 30  \\\\\n",
       "\\end{tabular}\n"
      ],
      "text/markdown": [
       "\n",
       "| Ozone | Solar.R | Wind | Temp | Month | Day |\n",
       "|---|---|---|---|---|---|\n",
       "|  41  | 190  |  7.4 | 67   | 5    |  1   |\n",
       "|  36  | 118  |  8.0 | 72   | 5    |  2   |\n",
       "|  12  | 149  | 12.6 | 74   | 5    |  3   |\n",
       "|  18  | 313  | 11.5 | 62   | 5    |  4   |\n",
       "|  NA  |  NA  | 14.3 | 56   | 5    |  5   |\n",
       "|  28  |  NA  | 14.9 | 66   | 5    |  6   |\n",
       "|  23  | 299  |  8.6 | 65   | 5    |  7   |\n",
       "|  19  |  99  | 13.8 | 59   | 5    |  8   |\n",
       "|   8  |  19  | 20.1 | 61   | 5    |  9   |\n",
       "|  NA  | 194  |  8.6 | 69   | 5    | 10   |\n",
       "|   7  |  NA  |  6.9 | 74   | 5    | 11   |\n",
       "|  16  | 256  |  9.7 | 69   | 5    | 12   |\n",
       "|  11  | 290  |  9.2 | 66   | 5    | 13   |\n",
       "|  14  | 274  | 10.9 | 68   | 5    | 14   |\n",
       "|  18  |  65  | 13.2 | 58   | 5    | 15   |\n",
       "|  14  | 334  | 11.5 | 64   | 5    | 16   |\n",
       "|  34  | 307  | 12.0 | 66   | 5    | 17   |\n",
       "|   6  |  78  | 18.4 | 57   | 5    | 18   |\n",
       "|  30  | 322  | 11.5 | 68   | 5    | 19   |\n",
       "|  11  |  44  |  9.7 | 62   | 5    | 20   |\n",
       "|   1  |   8  |  9.7 | 59   | 5    | 21   |\n",
       "|  11  | 320  | 16.6 | 73   | 5    | 22   |\n",
       "|   4  |  25  |  9.7 | 61   | 5    | 23   |\n",
       "|  32  |  92  | 12.0 | 61   | 5    | 24   |\n",
       "|  NA  |  66  | 16.6 | 57   | 5    | 25   |\n",
       "|  NA  | 266  | 14.9 | 58   | 5    | 26   |\n",
       "|  NA  |  NA  |  8.0 | 57   | 5    | 27   |\n",
       "|  23  |  13  | 12.0 | 67   | 5    | 28   |\n",
       "|  45  | 252  | 14.9 | 81   | 5    | 29   |\n",
       "| 115  | 223  |  5.7 | 79   | 5    | 30   |\n",
       "| ... | ... | ... | ... | ... | ... |\n",
       "| 96   | 167  |  6.9 | 91   | 9    |  1   |\n",
       "| 78   | 197  |  5.1 | 92   | 9    |  2   |\n",
       "| 73   | 183  |  2.8 | 93   | 9    |  3   |\n",
       "| 91   | 189  |  4.6 | 93   | 9    |  4   |\n",
       "| 47   |  95  |  7.4 | 87   | 9    |  5   |\n",
       "| 32   |  92  | 15.5 | 84   | 9    |  6   |\n",
       "| 20   | 252  | 10.9 | 80   | 9    |  7   |\n",
       "| 23   | 220  | 10.3 | 78   | 9    |  8   |\n",
       "| 21   | 230  | 10.9 | 75   | 9    |  9   |\n",
       "| 24   | 259  |  9.7 | 73   | 9    | 10   |\n",
       "| 44   | 236  | 14.9 | 81   | 9    | 11   |\n",
       "| 21   | 259  | 15.5 | 76   | 9    | 12   |\n",
       "| 28   | 238  |  6.3 | 77   | 9    | 13   |\n",
       "|  9   |  24  | 10.9 | 71   | 9    | 14   |\n",
       "| 13   | 112  | 11.5 | 71   | 9    | 15   |\n",
       "| 46   | 237  |  6.9 | 78   | 9    | 16   |\n",
       "| 18   | 224  | 13.8 | 67   | 9    | 17   |\n",
       "| 13   |  27  | 10.3 | 76   | 9    | 18   |\n",
       "| 24   | 238  | 10.3 | 68   | 9    | 19   |\n",
       "| 16   | 201  |  8.0 | 82   | 9    | 20   |\n",
       "| 13   | 238  | 12.6 | 64   | 9    | 21   |\n",
       "| 23   |  14  |  9.2 | 71   | 9    | 22   |\n",
       "| 36   | 139  | 10.3 | 81   | 9    | 23   |\n",
       "|  7   |  49  | 10.3 | 69   | 9    | 24   |\n",
       "| 14   |  20  | 16.6 | 63   | 9    | 25   |\n",
       "| 30   | 193  |  6.9 | 70   | 9    | 26   |\n",
       "| NA   | 145  | 13.2 | 77   | 9    | 27   |\n",
       "| 14   | 191  | 14.3 | 75   | 9    | 28   |\n",
       "| 18   | 131  |  8.0 | 76   | 9    | 29   |\n",
       "| 20   | 223  | 11.5 | 68   | 9    | 30   |\n",
       "\n"
      ],
      "text/plain": [
       "    Ozone Solar.R Wind Temp Month Day\n",
       "1    41   190      7.4 67   5      1 \n",
       "2    36   118      8.0 72   5      2 \n",
       "3    12   149     12.6 74   5      3 \n",
       "4    18   313     11.5 62   5      4 \n",
       "5    NA    NA     14.3 56   5      5 \n",
       "6    28    NA     14.9 66   5      6 \n",
       "7    23   299      8.6 65   5      7 \n",
       "8    19    99     13.8 59   5      8 \n",
       "9     8    19     20.1 61   5      9 \n",
       "10   NA   194      8.6 69   5     10 \n",
       "11    7    NA      6.9 74   5     11 \n",
       "12   16   256      9.7 69   5     12 \n",
       "13   11   290      9.2 66   5     13 \n",
       "14   14   274     10.9 68   5     14 \n",
       "15   18    65     13.2 58   5     15 \n",
       "16   14   334     11.5 64   5     16 \n",
       "17   34   307     12.0 66   5     17 \n",
       "18    6    78     18.4 57   5     18 \n",
       "19   30   322     11.5 68   5     19 \n",
       "20   11    44      9.7 62   5     20 \n",
       "21    1     8      9.7 59   5     21 \n",
       "22   11   320     16.6 73   5     22 \n",
       "23    4    25      9.7 61   5     23 \n",
       "24   32    92     12.0 61   5     24 \n",
       "25   NA    66     16.6 57   5     25 \n",
       "26   NA   266     14.9 58   5     26 \n",
       "27   NA    NA      8.0 57   5     27 \n",
       "28   23    13     12.0 67   5     28 \n",
       "29   45   252     14.9 81   5     29 \n",
       "30  115   223      5.7 79   5     30 \n",
       "... ...   ...     ...  ...  ...   ...\n",
       "124 96    167      6.9 91   9      1 \n",
       "125 78    197      5.1 92   9      2 \n",
       "126 73    183      2.8 93   9      3 \n",
       "127 91    189      4.6 93   9      4 \n",
       "128 47     95      7.4 87   9      5 \n",
       "129 32     92     15.5 84   9      6 \n",
       "130 20    252     10.9 80   9      7 \n",
       "131 23    220     10.3 78   9      8 \n",
       "132 21    230     10.9 75   9      9 \n",
       "133 24    259      9.7 73   9     10 \n",
       "134 44    236     14.9 81   9     11 \n",
       "135 21    259     15.5 76   9     12 \n",
       "136 28    238      6.3 77   9     13 \n",
       "137  9     24     10.9 71   9     14 \n",
       "138 13    112     11.5 71   9     15 \n",
       "139 46    237      6.9 78   9     16 \n",
       "140 18    224     13.8 67   9     17 \n",
       "141 13     27     10.3 76   9     18 \n",
       "142 24    238     10.3 68   9     19 \n",
       "143 16    201      8.0 82   9     20 \n",
       "144 13    238     12.6 64   9     21 \n",
       "145 23     14      9.2 71   9     22 \n",
       "146 36    139     10.3 81   9     23 \n",
       "147  7     49     10.3 69   9     24 \n",
       "148 14     20     16.6 63   9     25 \n",
       "149 30    193      6.9 70   9     26 \n",
       "150 NA    145     13.2 77   9     27 \n",
       "151 14    191     14.3 75   9     28 \n",
       "152 18    131      8.0 76   9     29 \n",
       "153 20    223     11.5 68   9     30 "
      ]
     },
     "metadata": {},
     "output_type": "display_data"
    }
   ],
   "source": [
    "df"
   ]
  },
  {
   "cell_type": "code",
   "execution_count": 40,
   "metadata": {},
   "outputs": [
    {
     "data": {
      "text/html": [
       "<table>\n",
       "<thead><tr><th></th><th scope=col>Ozone</th><th scope=col>Solar.R</th><th scope=col>Wind</th><th scope=col>Temp</th><th scope=col>Month</th><th scope=col>Day</th></tr></thead>\n",
       "<tbody>\n",
       "\t<tr><th scope=row>1</th><td> 41 </td><td>190 </td><td> 7.4</td><td>67  </td><td>5   </td><td> 1  </td></tr>\n",
       "\t<tr><th scope=row>2</th><td> 36 </td><td>118 </td><td> 8.0</td><td>72  </td><td>5   </td><td> 2  </td></tr>\n",
       "\t<tr><th scope=row>3</th><td> 12 </td><td>149 </td><td>12.6</td><td>74  </td><td>5   </td><td> 3  </td></tr>\n",
       "\t<tr><th scope=row>4</th><td> 18 </td><td>313 </td><td>11.5</td><td>62  </td><td>5   </td><td> 4  </td></tr>\n",
       "\t<tr><th scope=row>7</th><td> 23 </td><td>299 </td><td> 8.6</td><td>65  </td><td>5   </td><td> 7  </td></tr>\n",
       "\t<tr><th scope=row>8</th><td> 19 </td><td> 99 </td><td>13.8</td><td>59  </td><td>5   </td><td> 8  </td></tr>\n",
       "\t<tr><th scope=row>9</th><td>  8 </td><td> 19 </td><td>20.1</td><td>61  </td><td>5   </td><td> 9  </td></tr>\n",
       "\t<tr><th scope=row>12</th><td> 16 </td><td>256 </td><td> 9.7</td><td>69  </td><td>5   </td><td>12  </td></tr>\n",
       "\t<tr><th scope=row>13</th><td> 11 </td><td>290 </td><td> 9.2</td><td>66  </td><td>5   </td><td>13  </td></tr>\n",
       "\t<tr><th scope=row>14</th><td> 14 </td><td>274 </td><td>10.9</td><td>68  </td><td>5   </td><td>14  </td></tr>\n",
       "\t<tr><th scope=row>15</th><td> 18 </td><td> 65 </td><td>13.2</td><td>58  </td><td>5   </td><td>15  </td></tr>\n",
       "\t<tr><th scope=row>16</th><td> 14 </td><td>334 </td><td>11.5</td><td>64  </td><td>5   </td><td>16  </td></tr>\n",
       "\t<tr><th scope=row>17</th><td> 34 </td><td>307 </td><td>12.0</td><td>66  </td><td>5   </td><td>17  </td></tr>\n",
       "\t<tr><th scope=row>18</th><td>  6 </td><td> 78 </td><td>18.4</td><td>57  </td><td>5   </td><td>18  </td></tr>\n",
       "\t<tr><th scope=row>19</th><td> 30 </td><td>322 </td><td>11.5</td><td>68  </td><td>5   </td><td>19  </td></tr>\n",
       "\t<tr><th scope=row>20</th><td> 11 </td><td> 44 </td><td> 9.7</td><td>62  </td><td>5   </td><td>20  </td></tr>\n",
       "\t<tr><th scope=row>21</th><td>  1 </td><td>  8 </td><td> 9.7</td><td>59  </td><td>5   </td><td>21  </td></tr>\n",
       "\t<tr><th scope=row>22</th><td> 11 </td><td>320 </td><td>16.6</td><td>73  </td><td>5   </td><td>22  </td></tr>\n",
       "\t<tr><th scope=row>23</th><td>  4 </td><td> 25 </td><td> 9.7</td><td>61  </td><td>5   </td><td>23  </td></tr>\n",
       "\t<tr><th scope=row>24</th><td> 32 </td><td> 92 </td><td>12.0</td><td>61  </td><td>5   </td><td>24  </td></tr>\n",
       "\t<tr><th scope=row>28</th><td> 23 </td><td> 13 </td><td>12.0</td><td>67  </td><td>5   </td><td>28  </td></tr>\n",
       "\t<tr><th scope=row>29</th><td> 45 </td><td>252 </td><td>14.9</td><td>81  </td><td>5   </td><td>29  </td></tr>\n",
       "\t<tr><th scope=row>30</th><td>115 </td><td>223 </td><td> 5.7</td><td>79  </td><td>5   </td><td>30  </td></tr>\n",
       "\t<tr><th scope=row>31</th><td> 37 </td><td>279 </td><td> 7.4</td><td>76  </td><td>5   </td><td>31  </td></tr>\n",
       "\t<tr><th scope=row>38</th><td> 29 </td><td>127 </td><td> 9.7</td><td>82  </td><td>6   </td><td> 7  </td></tr>\n",
       "\t<tr><th scope=row>40</th><td> 71 </td><td>291 </td><td>13.8</td><td>90  </td><td>6   </td><td> 9  </td></tr>\n",
       "\t<tr><th scope=row>41</th><td> 39 </td><td>323 </td><td>11.5</td><td>87  </td><td>6   </td><td>10  </td></tr>\n",
       "\t<tr><th scope=row>44</th><td> 23 </td><td>148 </td><td> 8.0</td><td>82  </td><td>6   </td><td>13  </td></tr>\n",
       "\t<tr><th scope=row>47</th><td> 21 </td><td>191 </td><td>14.9</td><td>77  </td><td>6   </td><td>16  </td></tr>\n",
       "\t<tr><th scope=row>48</th><td> 37 </td><td>284 </td><td>20.7</td><td>72  </td><td>6   </td><td>17  </td></tr>\n",
       "\t<tr><th scope=row>...</th><td>...</td><td>...</td><td>...</td><td>...</td><td>...</td><td>...</td></tr>\n",
       "\t<tr><th scope=row>123</th><td>85  </td><td>188 </td><td> 6.3</td><td>94  </td><td>8   </td><td>31  </td></tr>\n",
       "\t<tr><th scope=row>124</th><td>96  </td><td>167 </td><td> 6.9</td><td>91  </td><td>9   </td><td> 1  </td></tr>\n",
       "\t<tr><th scope=row>125</th><td>78  </td><td>197 </td><td> 5.1</td><td>92  </td><td>9   </td><td> 2  </td></tr>\n",
       "\t<tr><th scope=row>126</th><td>73  </td><td>183 </td><td> 2.8</td><td>93  </td><td>9   </td><td> 3  </td></tr>\n",
       "\t<tr><th scope=row>127</th><td>91  </td><td>189 </td><td> 4.6</td><td>93  </td><td>9   </td><td> 4  </td></tr>\n",
       "\t<tr><th scope=row>128</th><td>47  </td><td> 95 </td><td> 7.4</td><td>87  </td><td>9   </td><td> 5  </td></tr>\n",
       "\t<tr><th scope=row>129</th><td>32  </td><td> 92 </td><td>15.5</td><td>84  </td><td>9   </td><td> 6  </td></tr>\n",
       "\t<tr><th scope=row>130</th><td>20  </td><td>252 </td><td>10.9</td><td>80  </td><td>9   </td><td> 7  </td></tr>\n",
       "\t<tr><th scope=row>131</th><td>23  </td><td>220 </td><td>10.3</td><td>78  </td><td>9   </td><td> 8  </td></tr>\n",
       "\t<tr><th scope=row>132</th><td>21  </td><td>230 </td><td>10.9</td><td>75  </td><td>9   </td><td> 9  </td></tr>\n",
       "\t<tr><th scope=row>133</th><td>24  </td><td>259 </td><td> 9.7</td><td>73  </td><td>9   </td><td>10  </td></tr>\n",
       "\t<tr><th scope=row>134</th><td>44  </td><td>236 </td><td>14.9</td><td>81  </td><td>9   </td><td>11  </td></tr>\n",
       "\t<tr><th scope=row>135</th><td>21  </td><td>259 </td><td>15.5</td><td>76  </td><td>9   </td><td>12  </td></tr>\n",
       "\t<tr><th scope=row>136</th><td>28  </td><td>238 </td><td> 6.3</td><td>77  </td><td>9   </td><td>13  </td></tr>\n",
       "\t<tr><th scope=row>137</th><td> 9  </td><td> 24 </td><td>10.9</td><td>71  </td><td>9   </td><td>14  </td></tr>\n",
       "\t<tr><th scope=row>138</th><td>13  </td><td>112 </td><td>11.5</td><td>71  </td><td>9   </td><td>15  </td></tr>\n",
       "\t<tr><th scope=row>139</th><td>46  </td><td>237 </td><td> 6.9</td><td>78  </td><td>9   </td><td>16  </td></tr>\n",
       "\t<tr><th scope=row>140</th><td>18  </td><td>224 </td><td>13.8</td><td>67  </td><td>9   </td><td>17  </td></tr>\n",
       "\t<tr><th scope=row>141</th><td>13  </td><td> 27 </td><td>10.3</td><td>76  </td><td>9   </td><td>18  </td></tr>\n",
       "\t<tr><th scope=row>142</th><td>24  </td><td>238 </td><td>10.3</td><td>68  </td><td>9   </td><td>19  </td></tr>\n",
       "\t<tr><th scope=row>143</th><td>16  </td><td>201 </td><td> 8.0</td><td>82  </td><td>9   </td><td>20  </td></tr>\n",
       "\t<tr><th scope=row>144</th><td>13  </td><td>238 </td><td>12.6</td><td>64  </td><td>9   </td><td>21  </td></tr>\n",
       "\t<tr><th scope=row>145</th><td>23  </td><td> 14 </td><td> 9.2</td><td>71  </td><td>9   </td><td>22  </td></tr>\n",
       "\t<tr><th scope=row>146</th><td>36  </td><td>139 </td><td>10.3</td><td>81  </td><td>9   </td><td>23  </td></tr>\n",
       "\t<tr><th scope=row>147</th><td> 7  </td><td> 49 </td><td>10.3</td><td>69  </td><td>9   </td><td>24  </td></tr>\n",
       "\t<tr><th scope=row>148</th><td>14  </td><td> 20 </td><td>16.6</td><td>63  </td><td>9   </td><td>25  </td></tr>\n",
       "\t<tr><th scope=row>149</th><td>30  </td><td>193 </td><td> 6.9</td><td>70  </td><td>9   </td><td>26  </td></tr>\n",
       "\t<tr><th scope=row>151</th><td>14  </td><td>191 </td><td>14.3</td><td>75  </td><td>9   </td><td>28  </td></tr>\n",
       "\t<tr><th scope=row>152</th><td>18  </td><td>131 </td><td> 8.0</td><td>76  </td><td>9   </td><td>29  </td></tr>\n",
       "\t<tr><th scope=row>153</th><td>20  </td><td>223 </td><td>11.5</td><td>68  </td><td>9   </td><td>30  </td></tr>\n",
       "</tbody>\n",
       "</table>\n"
      ],
      "text/latex": [
       "\\begin{tabular}{r|llllll}\n",
       "  & Ozone & Solar.R & Wind & Temp & Month & Day\\\\\n",
       "\\hline\n",
       "\t1 &  41  & 190  &  7.4 & 67   & 5    &  1  \\\\\n",
       "\t2 &  36  & 118  &  8.0 & 72   & 5    &  2  \\\\\n",
       "\t3 &  12  & 149  & 12.6 & 74   & 5    &  3  \\\\\n",
       "\t4 &  18  & 313  & 11.5 & 62   & 5    &  4  \\\\\n",
       "\t7 &  23  & 299  &  8.6 & 65   & 5    &  7  \\\\\n",
       "\t8 &  19  &  99  & 13.8 & 59   & 5    &  8  \\\\\n",
       "\t9 &   8  &  19  & 20.1 & 61   & 5    &  9  \\\\\n",
       "\t12 &  16  & 256  &  9.7 & 69   & 5    & 12  \\\\\n",
       "\t13 &  11  & 290  &  9.2 & 66   & 5    & 13  \\\\\n",
       "\t14 &  14  & 274  & 10.9 & 68   & 5    & 14  \\\\\n",
       "\t15 &  18  &  65  & 13.2 & 58   & 5    & 15  \\\\\n",
       "\t16 &  14  & 334  & 11.5 & 64   & 5    & 16  \\\\\n",
       "\t17 &  34  & 307  & 12.0 & 66   & 5    & 17  \\\\\n",
       "\t18 &   6  &  78  & 18.4 & 57   & 5    & 18  \\\\\n",
       "\t19 &  30  & 322  & 11.5 & 68   & 5    & 19  \\\\\n",
       "\t20 &  11  &  44  &  9.7 & 62   & 5    & 20  \\\\\n",
       "\t21 &   1  &   8  &  9.7 & 59   & 5    & 21  \\\\\n",
       "\t22 &  11  & 320  & 16.6 & 73   & 5    & 22  \\\\\n",
       "\t23 &   4  &  25  &  9.7 & 61   & 5    & 23  \\\\\n",
       "\t24 &  32  &  92  & 12.0 & 61   & 5    & 24  \\\\\n",
       "\t28 &  23  &  13  & 12.0 & 67   & 5    & 28  \\\\\n",
       "\t29 &  45  & 252  & 14.9 & 81   & 5    & 29  \\\\\n",
       "\t30 & 115  & 223  &  5.7 & 79   & 5    & 30  \\\\\n",
       "\t31 &  37  & 279  &  7.4 & 76   & 5    & 31  \\\\\n",
       "\t38 &  29  & 127  &  9.7 & 82   & 6    &  7  \\\\\n",
       "\t40 &  71  & 291  & 13.8 & 90   & 6    &  9  \\\\\n",
       "\t41 &  39  & 323  & 11.5 & 87   & 6    & 10  \\\\\n",
       "\t44 &  23  & 148  &  8.0 & 82   & 6    & 13  \\\\\n",
       "\t47 &  21  & 191  & 14.9 & 77   & 6    & 16  \\\\\n",
       "\t48 &  37  & 284  & 20.7 & 72   & 6    & 17  \\\\\n",
       "\t... & ... & ... & ... & ... & ... & ...\\\\\n",
       "\t123 & 85   & 188  &  6.3 & 94   & 8    & 31  \\\\\n",
       "\t124 & 96   & 167  &  6.9 & 91   & 9    &  1  \\\\\n",
       "\t125 & 78   & 197  &  5.1 & 92   & 9    &  2  \\\\\n",
       "\t126 & 73   & 183  &  2.8 & 93   & 9    &  3  \\\\\n",
       "\t127 & 91   & 189  &  4.6 & 93   & 9    &  4  \\\\\n",
       "\t128 & 47   &  95  &  7.4 & 87   & 9    &  5  \\\\\n",
       "\t129 & 32   &  92  & 15.5 & 84   & 9    &  6  \\\\\n",
       "\t130 & 20   & 252  & 10.9 & 80   & 9    &  7  \\\\\n",
       "\t131 & 23   & 220  & 10.3 & 78   & 9    &  8  \\\\\n",
       "\t132 & 21   & 230  & 10.9 & 75   & 9    &  9  \\\\\n",
       "\t133 & 24   & 259  &  9.7 & 73   & 9    & 10  \\\\\n",
       "\t134 & 44   & 236  & 14.9 & 81   & 9    & 11  \\\\\n",
       "\t135 & 21   & 259  & 15.5 & 76   & 9    & 12  \\\\\n",
       "\t136 & 28   & 238  &  6.3 & 77   & 9    & 13  \\\\\n",
       "\t137 &  9   &  24  & 10.9 & 71   & 9    & 14  \\\\\n",
       "\t138 & 13   & 112  & 11.5 & 71   & 9    & 15  \\\\\n",
       "\t139 & 46   & 237  &  6.9 & 78   & 9    & 16  \\\\\n",
       "\t140 & 18   & 224  & 13.8 & 67   & 9    & 17  \\\\\n",
       "\t141 & 13   &  27  & 10.3 & 76   & 9    & 18  \\\\\n",
       "\t142 & 24   & 238  & 10.3 & 68   & 9    & 19  \\\\\n",
       "\t143 & 16   & 201  &  8.0 & 82   & 9    & 20  \\\\\n",
       "\t144 & 13   & 238  & 12.6 & 64   & 9    & 21  \\\\\n",
       "\t145 & 23   &  14  &  9.2 & 71   & 9    & 22  \\\\\n",
       "\t146 & 36   & 139  & 10.3 & 81   & 9    & 23  \\\\\n",
       "\t147 &  7   &  49  & 10.3 & 69   & 9    & 24  \\\\\n",
       "\t148 & 14   &  20  & 16.6 & 63   & 9    & 25  \\\\\n",
       "\t149 & 30   & 193  &  6.9 & 70   & 9    & 26  \\\\\n",
       "\t151 & 14   & 191  & 14.3 & 75   & 9    & 28  \\\\\n",
       "\t152 & 18   & 131  &  8.0 & 76   & 9    & 29  \\\\\n",
       "\t153 & 20   & 223  & 11.5 & 68   & 9    & 30  \\\\\n",
       "\\end{tabular}\n"
      ],
      "text/markdown": [
       "\n",
       "| <!--/--> | Ozone | Solar.R | Wind | Temp | Month | Day |\n",
       "|---|---|---|---|---|---|---|\n",
       "| 1 |  41  | 190  |  7.4 | 67   | 5    |  1   |\n",
       "| 2 |  36  | 118  |  8.0 | 72   | 5    |  2   |\n",
       "| 3 |  12  | 149  | 12.6 | 74   | 5    |  3   |\n",
       "| 4 |  18  | 313  | 11.5 | 62   | 5    |  4   |\n",
       "| 7 |  23  | 299  |  8.6 | 65   | 5    |  7   |\n",
       "| 8 |  19  |  99  | 13.8 | 59   | 5    |  8   |\n",
       "| 9 |   8  |  19  | 20.1 | 61   | 5    |  9   |\n",
       "| 12 |  16  | 256  |  9.7 | 69   | 5    | 12   |\n",
       "| 13 |  11  | 290  |  9.2 | 66   | 5    | 13   |\n",
       "| 14 |  14  | 274  | 10.9 | 68   | 5    | 14   |\n",
       "| 15 |  18  |  65  | 13.2 | 58   | 5    | 15   |\n",
       "| 16 |  14  | 334  | 11.5 | 64   | 5    | 16   |\n",
       "| 17 |  34  | 307  | 12.0 | 66   | 5    | 17   |\n",
       "| 18 |   6  |  78  | 18.4 | 57   | 5    | 18   |\n",
       "| 19 |  30  | 322  | 11.5 | 68   | 5    | 19   |\n",
       "| 20 |  11  |  44  |  9.7 | 62   | 5    | 20   |\n",
       "| 21 |   1  |   8  |  9.7 | 59   | 5    | 21   |\n",
       "| 22 |  11  | 320  | 16.6 | 73   | 5    | 22   |\n",
       "| 23 |   4  |  25  |  9.7 | 61   | 5    | 23   |\n",
       "| 24 |  32  |  92  | 12.0 | 61   | 5    | 24   |\n",
       "| 28 |  23  |  13  | 12.0 | 67   | 5    | 28   |\n",
       "| 29 |  45  | 252  | 14.9 | 81   | 5    | 29   |\n",
       "| 30 | 115  | 223  |  5.7 | 79   | 5    | 30   |\n",
       "| 31 |  37  | 279  |  7.4 | 76   | 5    | 31   |\n",
       "| 38 |  29  | 127  |  9.7 | 82   | 6    |  7   |\n",
       "| 40 |  71  | 291  | 13.8 | 90   | 6    |  9   |\n",
       "| 41 |  39  | 323  | 11.5 | 87   | 6    | 10   |\n",
       "| 44 |  23  | 148  |  8.0 | 82   | 6    | 13   |\n",
       "| 47 |  21  | 191  | 14.9 | 77   | 6    | 16   |\n",
       "| 48 |  37  | 284  | 20.7 | 72   | 6    | 17   |\n",
       "| ... | ... | ... | ... | ... | ... | ... |\n",
       "| 123 | 85   | 188  |  6.3 | 94   | 8    | 31   |\n",
       "| 124 | 96   | 167  |  6.9 | 91   | 9    |  1   |\n",
       "| 125 | 78   | 197  |  5.1 | 92   | 9    |  2   |\n",
       "| 126 | 73   | 183  |  2.8 | 93   | 9    |  3   |\n",
       "| 127 | 91   | 189  |  4.6 | 93   | 9    |  4   |\n",
       "| 128 | 47   |  95  |  7.4 | 87   | 9    |  5   |\n",
       "| 129 | 32   |  92  | 15.5 | 84   | 9    |  6   |\n",
       "| 130 | 20   | 252  | 10.9 | 80   | 9    |  7   |\n",
       "| 131 | 23   | 220  | 10.3 | 78   | 9    |  8   |\n",
       "| 132 | 21   | 230  | 10.9 | 75   | 9    |  9   |\n",
       "| 133 | 24   | 259  |  9.7 | 73   | 9    | 10   |\n",
       "| 134 | 44   | 236  | 14.9 | 81   | 9    | 11   |\n",
       "| 135 | 21   | 259  | 15.5 | 76   | 9    | 12   |\n",
       "| 136 | 28   | 238  |  6.3 | 77   | 9    | 13   |\n",
       "| 137 |  9   |  24  | 10.9 | 71   | 9    | 14   |\n",
       "| 138 | 13   | 112  | 11.5 | 71   | 9    | 15   |\n",
       "| 139 | 46   | 237  |  6.9 | 78   | 9    | 16   |\n",
       "| 140 | 18   | 224  | 13.8 | 67   | 9    | 17   |\n",
       "| 141 | 13   |  27  | 10.3 | 76   | 9    | 18   |\n",
       "| 142 | 24   | 238  | 10.3 | 68   | 9    | 19   |\n",
       "| 143 | 16   | 201  |  8.0 | 82   | 9    | 20   |\n",
       "| 144 | 13   | 238  | 12.6 | 64   | 9    | 21   |\n",
       "| 145 | 23   |  14  |  9.2 | 71   | 9    | 22   |\n",
       "| 146 | 36   | 139  | 10.3 | 81   | 9    | 23   |\n",
       "| 147 |  7   |  49  | 10.3 | 69   | 9    | 24   |\n",
       "| 148 | 14   |  20  | 16.6 | 63   | 9    | 25   |\n",
       "| 149 | 30   | 193  |  6.9 | 70   | 9    | 26   |\n",
       "| 151 | 14   | 191  | 14.3 | 75   | 9    | 28   |\n",
       "| 152 | 18   | 131  |  8.0 | 76   | 9    | 29   |\n",
       "| 153 | 20   | 223  | 11.5 | 68   | 9    | 30   |\n",
       "\n"
      ],
      "text/plain": [
       "    Ozone Solar.R Wind Temp Month Day\n",
       "1    41   190      7.4 67   5      1 \n",
       "2    36   118      8.0 72   5      2 \n",
       "3    12   149     12.6 74   5      3 \n",
       "4    18   313     11.5 62   5      4 \n",
       "7    23   299      8.6 65   5      7 \n",
       "8    19    99     13.8 59   5      8 \n",
       "9     8    19     20.1 61   5      9 \n",
       "12   16   256      9.7 69   5     12 \n",
       "13   11   290      9.2 66   5     13 \n",
       "14   14   274     10.9 68   5     14 \n",
       "15   18    65     13.2 58   5     15 \n",
       "16   14   334     11.5 64   5     16 \n",
       "17   34   307     12.0 66   5     17 \n",
       "18    6    78     18.4 57   5     18 \n",
       "19   30   322     11.5 68   5     19 \n",
       "20   11    44      9.7 62   5     20 \n",
       "21    1     8      9.7 59   5     21 \n",
       "22   11   320     16.6 73   5     22 \n",
       "23    4    25      9.7 61   5     23 \n",
       "24   32    92     12.0 61   5     24 \n",
       "28   23    13     12.0 67   5     28 \n",
       "29   45   252     14.9 81   5     29 \n",
       "30  115   223      5.7 79   5     30 \n",
       "31   37   279      7.4 76   5     31 \n",
       "38   29   127      9.7 82   6      7 \n",
       "40   71   291     13.8 90   6      9 \n",
       "41   39   323     11.5 87   6     10 \n",
       "44   23   148      8.0 82   6     13 \n",
       "47   21   191     14.9 77   6     16 \n",
       "48   37   284     20.7 72   6     17 \n",
       "... ...   ...     ...  ...  ...   ...\n",
       "123 85    188      6.3 94   8     31 \n",
       "124 96    167      6.9 91   9      1 \n",
       "125 78    197      5.1 92   9      2 \n",
       "126 73    183      2.8 93   9      3 \n",
       "127 91    189      4.6 93   9      4 \n",
       "128 47     95      7.4 87   9      5 \n",
       "129 32     92     15.5 84   9      6 \n",
       "130 20    252     10.9 80   9      7 \n",
       "131 23    220     10.3 78   9      8 \n",
       "132 21    230     10.9 75   9      9 \n",
       "133 24    259      9.7 73   9     10 \n",
       "134 44    236     14.9 81   9     11 \n",
       "135 21    259     15.5 76   9     12 \n",
       "136 28    238      6.3 77   9     13 \n",
       "137  9     24     10.9 71   9     14 \n",
       "138 13    112     11.5 71   9     15 \n",
       "139 46    237      6.9 78   9     16 \n",
       "140 18    224     13.8 67   9     17 \n",
       "141 13     27     10.3 76   9     18 \n",
       "142 24    238     10.3 68   9     19 \n",
       "143 16    201      8.0 82   9     20 \n",
       "144 13    238     12.6 64   9     21 \n",
       "145 23     14      9.2 71   9     22 \n",
       "146 36    139     10.3 81   9     23 \n",
       "147  7     49     10.3 69   9     24 \n",
       "148 14     20     16.6 63   9     25 \n",
       "149 30    193      6.9 70   9     26 \n",
       "151 14    191     14.3 75   9     28 \n",
       "152 18    131      8.0 76   9     29 \n",
       "153 20    223     11.5 68   9     30 "
      ]
     },
     "metadata": {},
     "output_type": "display_data"
    }
   ],
   "source": [
    "na.omit(df)"
   ]
  },
  {
   "cell_type": "markdown",
   "metadata": {},
   "source": [
    "#### na.omit() function with specific column of the data"
   ]
  },
  {
   "cell_type": "code",
   "execution_count": 41,
   "metadata": {},
   "outputs": [],
   "source": [
    "dfa <- na.omit(df$Ozone)"
   ]
  },
  {
   "cell_type": "code",
   "execution_count": 42,
   "metadata": {},
   "outputs": [
    {
     "data": {
      "text/html": [
       "<ol class=list-inline>\n",
       "\t<li>41</li>\n",
       "\t<li>36</li>\n",
       "\t<li>12</li>\n",
       "\t<li>18</li>\n",
       "\t<li>28</li>\n",
       "\t<li>23</li>\n",
       "\t<li>19</li>\n",
       "\t<li>8</li>\n",
       "\t<li>7</li>\n",
       "\t<li>16</li>\n",
       "\t<li>11</li>\n",
       "\t<li>14</li>\n",
       "\t<li>18</li>\n",
       "\t<li>14</li>\n",
       "\t<li>34</li>\n",
       "\t<li>6</li>\n",
       "\t<li>30</li>\n",
       "\t<li>11</li>\n",
       "\t<li>1</li>\n",
       "\t<li>11</li>\n",
       "\t<li>4</li>\n",
       "\t<li>32</li>\n",
       "\t<li>23</li>\n",
       "\t<li>45</li>\n",
       "\t<li>115</li>\n",
       "\t<li>37</li>\n",
       "\t<li>29</li>\n",
       "\t<li>71</li>\n",
       "\t<li>39</li>\n",
       "\t<li>23</li>\n",
       "\t<li>21</li>\n",
       "\t<li>37</li>\n",
       "\t<li>20</li>\n",
       "\t<li>12</li>\n",
       "\t<li>13</li>\n",
       "\t<li>135</li>\n",
       "\t<li>49</li>\n",
       "\t<li>32</li>\n",
       "\t<li>64</li>\n",
       "\t<li>40</li>\n",
       "\t<li>77</li>\n",
       "\t<li>97</li>\n",
       "\t<li>97</li>\n",
       "\t<li>85</li>\n",
       "\t<li>10</li>\n",
       "\t<li>27</li>\n",
       "\t<li>7</li>\n",
       "\t<li>48</li>\n",
       "\t<li>35</li>\n",
       "\t<li>61</li>\n",
       "\t<li>79</li>\n",
       "\t<li>63</li>\n",
       "\t<li>16</li>\n",
       "\t<li>80</li>\n",
       "\t<li>108</li>\n",
       "\t<li>20</li>\n",
       "\t<li>52</li>\n",
       "\t<li>82</li>\n",
       "\t<li>50</li>\n",
       "\t<li>64</li>\n",
       "\t<li>59</li>\n",
       "\t<li>39</li>\n",
       "\t<li>9</li>\n",
       "\t<li>16</li>\n",
       "\t<li>78</li>\n",
       "\t<li>35</li>\n",
       "\t<li>66</li>\n",
       "\t<li>122</li>\n",
       "\t<li>89</li>\n",
       "\t<li>110</li>\n",
       "\t<li>44</li>\n",
       "\t<li>28</li>\n",
       "\t<li>65</li>\n",
       "\t<li>22</li>\n",
       "\t<li>59</li>\n",
       "\t<li>23</li>\n",
       "\t<li>31</li>\n",
       "\t<li>44</li>\n",
       "\t<li>21</li>\n",
       "\t<li>9</li>\n",
       "\t<li>45</li>\n",
       "\t<li>168</li>\n",
       "\t<li>73</li>\n",
       "\t<li>76</li>\n",
       "\t<li>118</li>\n",
       "\t<li>84</li>\n",
       "\t<li>85</li>\n",
       "\t<li>96</li>\n",
       "\t<li>78</li>\n",
       "\t<li>73</li>\n",
       "\t<li>91</li>\n",
       "\t<li>47</li>\n",
       "\t<li>32</li>\n",
       "\t<li>20</li>\n",
       "\t<li>23</li>\n",
       "\t<li>21</li>\n",
       "\t<li>24</li>\n",
       "\t<li>44</li>\n",
       "\t<li>21</li>\n",
       "\t<li>28</li>\n",
       "\t<li>9</li>\n",
       "\t<li>13</li>\n",
       "\t<li>46</li>\n",
       "\t<li>18</li>\n",
       "\t<li>13</li>\n",
       "\t<li>24</li>\n",
       "\t<li>16</li>\n",
       "\t<li>13</li>\n",
       "\t<li>23</li>\n",
       "\t<li>36</li>\n",
       "\t<li>7</li>\n",
       "\t<li>14</li>\n",
       "\t<li>30</li>\n",
       "\t<li>14</li>\n",
       "\t<li>18</li>\n",
       "\t<li>20</li>\n",
       "</ol>\n"
      ],
      "text/latex": [
       "\\begin{enumerate*}\n",
       "\\item 41\n",
       "\\item 36\n",
       "\\item 12\n",
       "\\item 18\n",
       "\\item 28\n",
       "\\item 23\n",
       "\\item 19\n",
       "\\item 8\n",
       "\\item 7\n",
       "\\item 16\n",
       "\\item 11\n",
       "\\item 14\n",
       "\\item 18\n",
       "\\item 14\n",
       "\\item 34\n",
       "\\item 6\n",
       "\\item 30\n",
       "\\item 11\n",
       "\\item 1\n",
       "\\item 11\n",
       "\\item 4\n",
       "\\item 32\n",
       "\\item 23\n",
       "\\item 45\n",
       "\\item 115\n",
       "\\item 37\n",
       "\\item 29\n",
       "\\item 71\n",
       "\\item 39\n",
       "\\item 23\n",
       "\\item 21\n",
       "\\item 37\n",
       "\\item 20\n",
       "\\item 12\n",
       "\\item 13\n",
       "\\item 135\n",
       "\\item 49\n",
       "\\item 32\n",
       "\\item 64\n",
       "\\item 40\n",
       "\\item 77\n",
       "\\item 97\n",
       "\\item 97\n",
       "\\item 85\n",
       "\\item 10\n",
       "\\item 27\n",
       "\\item 7\n",
       "\\item 48\n",
       "\\item 35\n",
       "\\item 61\n",
       "\\item 79\n",
       "\\item 63\n",
       "\\item 16\n",
       "\\item 80\n",
       "\\item 108\n",
       "\\item 20\n",
       "\\item 52\n",
       "\\item 82\n",
       "\\item 50\n",
       "\\item 64\n",
       "\\item 59\n",
       "\\item 39\n",
       "\\item 9\n",
       "\\item 16\n",
       "\\item 78\n",
       "\\item 35\n",
       "\\item 66\n",
       "\\item 122\n",
       "\\item 89\n",
       "\\item 110\n",
       "\\item 44\n",
       "\\item 28\n",
       "\\item 65\n",
       "\\item 22\n",
       "\\item 59\n",
       "\\item 23\n",
       "\\item 31\n",
       "\\item 44\n",
       "\\item 21\n",
       "\\item 9\n",
       "\\item 45\n",
       "\\item 168\n",
       "\\item 73\n",
       "\\item 76\n",
       "\\item 118\n",
       "\\item 84\n",
       "\\item 85\n",
       "\\item 96\n",
       "\\item 78\n",
       "\\item 73\n",
       "\\item 91\n",
       "\\item 47\n",
       "\\item 32\n",
       "\\item 20\n",
       "\\item 23\n",
       "\\item 21\n",
       "\\item 24\n",
       "\\item 44\n",
       "\\item 21\n",
       "\\item 28\n",
       "\\item 9\n",
       "\\item 13\n",
       "\\item 46\n",
       "\\item 18\n",
       "\\item 13\n",
       "\\item 24\n",
       "\\item 16\n",
       "\\item 13\n",
       "\\item 23\n",
       "\\item 36\n",
       "\\item 7\n",
       "\\item 14\n",
       "\\item 30\n",
       "\\item 14\n",
       "\\item 18\n",
       "\\item 20\n",
       "\\end{enumerate*}\n"
      ],
      "text/markdown": [
       "1. 41\n",
       "2. 36\n",
       "3. 12\n",
       "4. 18\n",
       "5. 28\n",
       "6. 23\n",
       "7. 19\n",
       "8. 8\n",
       "9. 7\n",
       "10. 16\n",
       "11. 11\n",
       "12. 14\n",
       "13. 18\n",
       "14. 14\n",
       "15. 34\n",
       "16. 6\n",
       "17. 30\n",
       "18. 11\n",
       "19. 1\n",
       "20. 11\n",
       "21. 4\n",
       "22. 32\n",
       "23. 23\n",
       "24. 45\n",
       "25. 115\n",
       "26. 37\n",
       "27. 29\n",
       "28. 71\n",
       "29. 39\n",
       "30. 23\n",
       "31. 21\n",
       "32. 37\n",
       "33. 20\n",
       "34. 12\n",
       "35. 13\n",
       "36. 135\n",
       "37. 49\n",
       "38. 32\n",
       "39. 64\n",
       "40. 40\n",
       "41. 77\n",
       "42. 97\n",
       "43. 97\n",
       "44. 85\n",
       "45. 10\n",
       "46. 27\n",
       "47. 7\n",
       "48. 48\n",
       "49. 35\n",
       "50. 61\n",
       "51. 79\n",
       "52. 63\n",
       "53. 16\n",
       "54. 80\n",
       "55. 108\n",
       "56. 20\n",
       "57. 52\n",
       "58. 82\n",
       "59. 50\n",
       "60. 64\n",
       "61. 59\n",
       "62. 39\n",
       "63. 9\n",
       "64. 16\n",
       "65. 78\n",
       "66. 35\n",
       "67. 66\n",
       "68. 122\n",
       "69. 89\n",
       "70. 110\n",
       "71. 44\n",
       "72. 28\n",
       "73. 65\n",
       "74. 22\n",
       "75. 59\n",
       "76. 23\n",
       "77. 31\n",
       "78. 44\n",
       "79. 21\n",
       "80. 9\n",
       "81. 45\n",
       "82. 168\n",
       "83. 73\n",
       "84. 76\n",
       "85. 118\n",
       "86. 84\n",
       "87. 85\n",
       "88. 96\n",
       "89. 78\n",
       "90. 73\n",
       "91. 91\n",
       "92. 47\n",
       "93. 32\n",
       "94. 20\n",
       "95. 23\n",
       "96. 21\n",
       "97. 24\n",
       "98. 44\n",
       "99. 21\n",
       "100. 28\n",
       "101. 9\n",
       "102. 13\n",
       "103. 46\n",
       "104. 18\n",
       "105. 13\n",
       "106. 24\n",
       "107. 16\n",
       "108. 13\n",
       "109. 23\n",
       "110. 36\n",
       "111. 7\n",
       "112. 14\n",
       "113. 30\n",
       "114. 14\n",
       "115. 18\n",
       "116. 20\n",
       "\n",
       "\n"
      ],
      "text/plain": [
       "  [1]  41  36  12  18  28  23  19   8   7  16  11  14  18  14  34   6  30  11\n",
       " [19]   1  11   4  32  23  45 115  37  29  71  39  23  21  37  20  12  13 135\n",
       " [37]  49  32  64  40  77  97  97  85  10  27   7  48  35  61  79  63  16  80\n",
       " [55] 108  20  52  82  50  64  59  39   9  16  78  35  66 122  89 110  44  28\n",
       " [73]  65  22  59  23  31  44  21   9  45 168  73  76 118  84  85  96  78  73\n",
       " [91]  91  47  32  20  23  21  24  44  21  28   9  13  46  18  13  24  16  13\n",
       "[109]  23  36   7  14  30  14  18  20\n",
       "attr(,\"na.action\")\n",
       " [1]   5  10  25  26  27  32  33  34  35  36  37  39  42  43  45  46  52  53  54\n",
       "[20]  55  56  57  58  59  60  61  65  72  75  83  84 102 103 107 115 119 150\n",
       "attr(,\"class\")\n",
       "[1] \"omit\""
      ]
     },
     "metadata": {},
     "output_type": "display_data"
    }
   ],
   "source": [
    "dfa"
   ]
  },
  {
   "cell_type": "markdown",
   "metadata": {},
   "source": [
    "# Log() and Log10() Functions in R"
   ]
  },
  {
   "cell_type": "markdown",
   "metadata": {},
   "source": [
    "**Syntax of log() function**"
   ]
  },
  {
   "cell_type": "markdown",
   "metadata": {},
   "source": [
    "log() and log10(): The log function computes the natural log (Ln) and if the base is given, it will compute with base. On the other hand, the log10() function computes the common log (Lg)."
   ]
  },
  {
   "cell_type": "markdown",
   "metadata": {},
   "source": [
    "**log(x,base=b)**"
   ]
  },
  {
   "cell_type": "markdown",
   "metadata": {},
   "source": [
    "X = Input value.\n",
    "<br>\n",
    "Base = If mentioned, log value will be computed with base."
   ]
  },
  {
   "cell_type": "code",
   "execution_count": 43,
   "metadata": {},
   "outputs": [
    {
     "data": {
      "text/html": [
       "0.693147180559945"
      ],
      "text/latex": [
       "0.693147180559945"
      ],
      "text/markdown": [
       "0.693147180559945"
      ],
      "text/plain": [
       "[1] 0.6931472"
      ]
     },
     "metadata": {},
     "output_type": "display_data"
    }
   ],
   "source": [
    "#Computes the logarithmic value of an input number\n",
    "log(2)"
   ]
  },
  {
   "cell_type": "code",
   "execution_count": 44,
   "metadata": {},
   "outputs": [
    {
     "data": {
      "text/html": [
       "1.64865862558738"
      ],
      "text/latex": [
       "1.64865862558738"
      ],
      "text/markdown": [
       "1.64865862558738"
      ],
      "text/plain": [
       "[1] 1.648659"
      ]
     },
     "metadata": {},
     "output_type": "display_data"
    }
   ],
   "source": [
    "log(5.2)"
   ]
  },
  {
   "cell_type": "code",
   "execution_count": 45,
   "metadata": {},
   "outputs": [
    {
     "data": {
      "text/html": [
       "4"
      ],
      "text/latex": [
       "4"
      ],
      "text/markdown": [
       "4"
      ],
      "text/plain": [
       "[1] 4"
      ]
     },
     "metadata": {},
     "output_type": "display_data"
    }
   ],
   "source": [
    "log(16,base=2)"
   ]
  },
  {
   "cell_type": "markdown",
   "metadata": {},
   "source": [
    "#### A simple log10() function"
   ]
  },
  {
   "cell_type": "code",
   "execution_count": 46,
   "metadata": {},
   "outputs": [
    {
     "data": {
      "text/html": [
       "0.698970004336019"
      ],
      "text/latex": [
       "0.698970004336019"
      ],
      "text/markdown": [
       "0.698970004336019"
      ],
      "text/plain": [
       "[1] 0.69897"
      ]
     },
     "metadata": {},
     "output_type": "display_data"
    }
   ],
   "source": [
    "log10(5)"
   ]
  },
  {
   "cell_type": "code",
   "execution_count": 47,
   "metadata": {},
   "outputs": [
    {
     "data": {
      "text/html": [
       "2.09190250286074"
      ],
      "text/latex": [
       "2.09190250286074"
      ],
      "text/markdown": [
       "2.09190250286074"
      ],
      "text/plain": [
       "[1] 2.091903"
      ]
     },
     "metadata": {},
     "output_type": "display_data"
    }
   ],
   "source": [
    "#Computes the common log for the input values (decimal)\n",
    "log10(123.567)"
   ]
  },
  {
   "cell_type": "code",
   "execution_count": 48,
   "metadata": {},
   "outputs": [
    {
     "data": {
      "text/html": [
       "<ol class=list-inline>\n",
       "\t<li>3.13549421592915</li>\n",
       "\t<li>3.80666248977032</li>\n",
       "\t<li>1.90210752639692</li>\n",
       "\t<li>4.00733318523247</li>\n",
       "\t<li>4.48751214251986</li>\n",
       "\t<li>1.38629436111989</li>\n",
       "\t<li>1.33210213203646</li>\n",
       "</ol>\n"
      ],
      "text/latex": [
       "\\begin{enumerate*}\n",
       "\\item 3.13549421592915\n",
       "\\item 3.80666248977032\n",
       "\\item 1.90210752639692\n",
       "\\item 4.00733318523247\n",
       "\\item 4.48751214251986\n",
       "\\item 1.38629436111989\n",
       "\\item 1.33210213203646\n",
       "\\end{enumerate*}\n"
      ],
      "text/markdown": [
       "1. 3.13549421592915\n",
       "2. 3.80666248977032\n",
       "3. 1.90210752639692\n",
       "4. 4.00733318523247\n",
       "5. 4.48751214251986\n",
       "6. 1.38629436111989\n",
       "7. 1.33210213203646\n",
       "\n",
       "\n"
      ],
      "text/plain": [
       "[1] 3.135494 3.806662 1.902108 4.007333 4.487512 1.386294 1.332102"
      ]
     },
     "metadata": {},
     "output_type": "display_data"
    }
   ],
   "source": [
    "df<-c(23,45,6.7,55,88.9,4,3.789)\n",
    " \n",
    "#Computes the log value \n",
    "log(df)"
   ]
  },
  {
   "cell_type": "code",
   "execution_count": 49,
   "metadata": {},
   "outputs": [
    {
     "data": {
      "text/html": [
       "<ol class=list-inline>\n",
       "\t<li>4.52356195605701</li>\n",
       "\t<li>5.49185309632967</li>\n",
       "\t<li>2.74416109557041</li>\n",
       "\t<li>5.78135971352466</li>\n",
       "\t<li>6.47411151394241</li>\n",
       "\t<li>2</li>\n",
       "\t<li>1.92181713984662</li>\n",
       "</ol>\n"
      ],
      "text/latex": [
       "\\begin{enumerate*}\n",
       "\\item 4.52356195605701\n",
       "\\item 5.49185309632967\n",
       "\\item 2.74416109557041\n",
       "\\item 5.78135971352466\n",
       "\\item 6.47411151394241\n",
       "\\item 2\n",
       "\\item 1.92181713984662\n",
       "\\end{enumerate*}\n"
      ],
      "text/markdown": [
       "1. 4.52356195605701\n",
       "2. 5.49185309632967\n",
       "3. 2.74416109557041\n",
       "4. 5.78135971352466\n",
       "5. 6.47411151394241\n",
       "6. 2\n",
       "7. 1.92181713984662\n",
       "\n",
       "\n"
      ],
      "text/plain": [
       "[1] 4.523562 5.491853 2.744161 5.781360 6.474112 2.000000 1.921817"
      ]
     },
     "metadata": {},
     "output_type": "display_data"
    }
   ],
   "source": [
    "df<-c(23,45,6.7,55,88.9,4,3.789)\n",
    " \n",
    "#Computes the log value \n",
    "log(df,base=2)"
   ]
  },
  {
   "cell_type": "code",
   "execution_count": 50,
   "metadata": {},
   "outputs": [
    {
     "data": {
      "text/html": [
       "<ol class=list-inline>\n",
       "\t<li>1.36172783601759</li>\n",
       "\t<li>1.65321251377534</li>\n",
       "\t<li>0.826074802700826</li>\n",
       "\t<li>1.74036268949424</li>\n",
       "\t<li>1.94890176097021</li>\n",
       "\t<li>0.602059991327962</li>\n",
       "\t<li>0.578524605274993</li>\n",
       "</ol>\n"
      ],
      "text/latex": [
       "\\begin{enumerate*}\n",
       "\\item 1.36172783601759\n",
       "\\item 1.65321251377534\n",
       "\\item 0.826074802700826\n",
       "\\item 1.74036268949424\n",
       "\\item 1.94890176097021\n",
       "\\item 0.602059991327962\n",
       "\\item 0.578524605274993\n",
       "\\end{enumerate*}\n"
      ],
      "text/markdown": [
       "1. 1.36172783601759\n",
       "2. 1.65321251377534\n",
       "3. 0.826074802700826\n",
       "4. 1.74036268949424\n",
       "5. 1.94890176097021\n",
       "6. 0.602059991327962\n",
       "7. 0.578524605274993\n",
       "\n",
       "\n"
      ],
      "text/plain": [
       "[1] 1.3617278 1.6532125 0.8260748 1.7403627 1.9489018 0.6020600 0.5785246"
      ]
     },
     "metadata": {},
     "output_type": "display_data"
    }
   ],
   "source": [
    "#Creates a vector with values \n",
    "df<-c(23,45,6.7,55,88.9,4,3.789)\n",
    " \n",
    "#Computes the log value \n",
    "log10(df)"
   ]
  },
  {
   "cell_type": "markdown",
   "metadata": {},
   "source": [
    "#### log() and log10() functions with a dataframe"
   ]
  },
  {
   "cell_type": "code",
   "execution_count": 51,
   "metadata": {},
   "outputs": [
    {
     "data": {
      "text/html": [
       "<table>\n",
       "<thead><tr><th scope=col>Ozone</th><th scope=col>Solar.R</th><th scope=col>Wind</th><th scope=col>Temp</th><th scope=col>Month</th><th scope=col>Day</th></tr></thead>\n",
       "<tbody>\n",
       "\t<tr><td> 41 </td><td>190 </td><td> 7.4</td><td>67  </td><td>5   </td><td> 1  </td></tr>\n",
       "\t<tr><td> 36 </td><td>118 </td><td> 8.0</td><td>72  </td><td>5   </td><td> 2  </td></tr>\n",
       "\t<tr><td> 12 </td><td>149 </td><td>12.6</td><td>74  </td><td>5   </td><td> 3  </td></tr>\n",
       "\t<tr><td> 18 </td><td>313 </td><td>11.5</td><td>62  </td><td>5   </td><td> 4  </td></tr>\n",
       "\t<tr><td> NA </td><td> NA </td><td>14.3</td><td>56  </td><td>5   </td><td> 5  </td></tr>\n",
       "\t<tr><td> 28 </td><td> NA </td><td>14.9</td><td>66  </td><td>5   </td><td> 6  </td></tr>\n",
       "\t<tr><td> 23 </td><td>299 </td><td> 8.6</td><td>65  </td><td>5   </td><td> 7  </td></tr>\n",
       "\t<tr><td> 19 </td><td> 99 </td><td>13.8</td><td>59  </td><td>5   </td><td> 8  </td></tr>\n",
       "\t<tr><td>  8 </td><td> 19 </td><td>20.1</td><td>61  </td><td>5   </td><td> 9  </td></tr>\n",
       "\t<tr><td> NA </td><td>194 </td><td> 8.6</td><td>69  </td><td>5   </td><td>10  </td></tr>\n",
       "\t<tr><td>  7 </td><td> NA </td><td> 6.9</td><td>74  </td><td>5   </td><td>11  </td></tr>\n",
       "\t<tr><td> 16 </td><td>256 </td><td> 9.7</td><td>69  </td><td>5   </td><td>12  </td></tr>\n",
       "\t<tr><td> 11 </td><td>290 </td><td> 9.2</td><td>66  </td><td>5   </td><td>13  </td></tr>\n",
       "\t<tr><td> 14 </td><td>274 </td><td>10.9</td><td>68  </td><td>5   </td><td>14  </td></tr>\n",
       "\t<tr><td> 18 </td><td> 65 </td><td>13.2</td><td>58  </td><td>5   </td><td>15  </td></tr>\n",
       "\t<tr><td> 14 </td><td>334 </td><td>11.5</td><td>64  </td><td>5   </td><td>16  </td></tr>\n",
       "\t<tr><td> 34 </td><td>307 </td><td>12.0</td><td>66  </td><td>5   </td><td>17  </td></tr>\n",
       "\t<tr><td>  6 </td><td> 78 </td><td>18.4</td><td>57  </td><td>5   </td><td>18  </td></tr>\n",
       "\t<tr><td> 30 </td><td>322 </td><td>11.5</td><td>68  </td><td>5   </td><td>19  </td></tr>\n",
       "\t<tr><td> 11 </td><td> 44 </td><td> 9.7</td><td>62  </td><td>5   </td><td>20  </td></tr>\n",
       "\t<tr><td>  1 </td><td>  8 </td><td> 9.7</td><td>59  </td><td>5   </td><td>21  </td></tr>\n",
       "\t<tr><td> 11 </td><td>320 </td><td>16.6</td><td>73  </td><td>5   </td><td>22  </td></tr>\n",
       "\t<tr><td>  4 </td><td> 25 </td><td> 9.7</td><td>61  </td><td>5   </td><td>23  </td></tr>\n",
       "\t<tr><td> 32 </td><td> 92 </td><td>12.0</td><td>61  </td><td>5   </td><td>24  </td></tr>\n",
       "\t<tr><td> NA </td><td> 66 </td><td>16.6</td><td>57  </td><td>5   </td><td>25  </td></tr>\n",
       "\t<tr><td> NA </td><td>266 </td><td>14.9</td><td>58  </td><td>5   </td><td>26  </td></tr>\n",
       "\t<tr><td> NA </td><td> NA </td><td> 8.0</td><td>57  </td><td>5   </td><td>27  </td></tr>\n",
       "\t<tr><td> 23 </td><td> 13 </td><td>12.0</td><td>67  </td><td>5   </td><td>28  </td></tr>\n",
       "\t<tr><td> 45 </td><td>252 </td><td>14.9</td><td>81  </td><td>5   </td><td>29  </td></tr>\n",
       "\t<tr><td>115 </td><td>223 </td><td> 5.7</td><td>79  </td><td>5   </td><td>30  </td></tr>\n",
       "\t<tr><td>...</td><td>...</td><td>...</td><td>...</td><td>...</td><td>...</td></tr>\n",
       "\t<tr><td>96  </td><td>167 </td><td> 6.9</td><td>91  </td><td>9   </td><td> 1  </td></tr>\n",
       "\t<tr><td>78  </td><td>197 </td><td> 5.1</td><td>92  </td><td>9   </td><td> 2  </td></tr>\n",
       "\t<tr><td>73  </td><td>183 </td><td> 2.8</td><td>93  </td><td>9   </td><td> 3  </td></tr>\n",
       "\t<tr><td>91  </td><td>189 </td><td> 4.6</td><td>93  </td><td>9   </td><td> 4  </td></tr>\n",
       "\t<tr><td>47  </td><td> 95 </td><td> 7.4</td><td>87  </td><td>9   </td><td> 5  </td></tr>\n",
       "\t<tr><td>32  </td><td> 92 </td><td>15.5</td><td>84  </td><td>9   </td><td> 6  </td></tr>\n",
       "\t<tr><td>20  </td><td>252 </td><td>10.9</td><td>80  </td><td>9   </td><td> 7  </td></tr>\n",
       "\t<tr><td>23  </td><td>220 </td><td>10.3</td><td>78  </td><td>9   </td><td> 8  </td></tr>\n",
       "\t<tr><td>21  </td><td>230 </td><td>10.9</td><td>75  </td><td>9   </td><td> 9  </td></tr>\n",
       "\t<tr><td>24  </td><td>259 </td><td> 9.7</td><td>73  </td><td>9   </td><td>10  </td></tr>\n",
       "\t<tr><td>44  </td><td>236 </td><td>14.9</td><td>81  </td><td>9   </td><td>11  </td></tr>\n",
       "\t<tr><td>21  </td><td>259 </td><td>15.5</td><td>76  </td><td>9   </td><td>12  </td></tr>\n",
       "\t<tr><td>28  </td><td>238 </td><td> 6.3</td><td>77  </td><td>9   </td><td>13  </td></tr>\n",
       "\t<tr><td> 9  </td><td> 24 </td><td>10.9</td><td>71  </td><td>9   </td><td>14  </td></tr>\n",
       "\t<tr><td>13  </td><td>112 </td><td>11.5</td><td>71  </td><td>9   </td><td>15  </td></tr>\n",
       "\t<tr><td>46  </td><td>237 </td><td> 6.9</td><td>78  </td><td>9   </td><td>16  </td></tr>\n",
       "\t<tr><td>18  </td><td>224 </td><td>13.8</td><td>67  </td><td>9   </td><td>17  </td></tr>\n",
       "\t<tr><td>13  </td><td> 27 </td><td>10.3</td><td>76  </td><td>9   </td><td>18  </td></tr>\n",
       "\t<tr><td>24  </td><td>238 </td><td>10.3</td><td>68  </td><td>9   </td><td>19  </td></tr>\n",
       "\t<tr><td>16  </td><td>201 </td><td> 8.0</td><td>82  </td><td>9   </td><td>20  </td></tr>\n",
       "\t<tr><td>13  </td><td>238 </td><td>12.6</td><td>64  </td><td>9   </td><td>21  </td></tr>\n",
       "\t<tr><td>23  </td><td> 14 </td><td> 9.2</td><td>71  </td><td>9   </td><td>22  </td></tr>\n",
       "\t<tr><td>36  </td><td>139 </td><td>10.3</td><td>81  </td><td>9   </td><td>23  </td></tr>\n",
       "\t<tr><td> 7  </td><td> 49 </td><td>10.3</td><td>69  </td><td>9   </td><td>24  </td></tr>\n",
       "\t<tr><td>14  </td><td> 20 </td><td>16.6</td><td>63  </td><td>9   </td><td>25  </td></tr>\n",
       "\t<tr><td>30  </td><td>193 </td><td> 6.9</td><td>70  </td><td>9   </td><td>26  </td></tr>\n",
       "\t<tr><td>NA  </td><td>145 </td><td>13.2</td><td>77  </td><td>9   </td><td>27  </td></tr>\n",
       "\t<tr><td>14  </td><td>191 </td><td>14.3</td><td>75  </td><td>9   </td><td>28  </td></tr>\n",
       "\t<tr><td>18  </td><td>131 </td><td> 8.0</td><td>76  </td><td>9   </td><td>29  </td></tr>\n",
       "\t<tr><td>20  </td><td>223 </td><td>11.5</td><td>68  </td><td>9   </td><td>30  </td></tr>\n",
       "</tbody>\n",
       "</table>\n"
      ],
      "text/latex": [
       "\\begin{tabular}{r|llllll}\n",
       " Ozone & Solar.R & Wind & Temp & Month & Day\\\\\n",
       "\\hline\n",
       "\t  41  & 190  &  7.4 & 67   & 5    &  1  \\\\\n",
       "\t  36  & 118  &  8.0 & 72   & 5    &  2  \\\\\n",
       "\t  12  & 149  & 12.6 & 74   & 5    &  3  \\\\\n",
       "\t  18  & 313  & 11.5 & 62   & 5    &  4  \\\\\n",
       "\t  NA  &  NA  & 14.3 & 56   & 5    &  5  \\\\\n",
       "\t  28  &  NA  & 14.9 & 66   & 5    &  6  \\\\\n",
       "\t  23  & 299  &  8.6 & 65   & 5    &  7  \\\\\n",
       "\t  19  &  99  & 13.8 & 59   & 5    &  8  \\\\\n",
       "\t   8  &  19  & 20.1 & 61   & 5    &  9  \\\\\n",
       "\t  NA  & 194  &  8.6 & 69   & 5    & 10  \\\\\n",
       "\t   7  &  NA  &  6.9 & 74   & 5    & 11  \\\\\n",
       "\t  16  & 256  &  9.7 & 69   & 5    & 12  \\\\\n",
       "\t  11  & 290  &  9.2 & 66   & 5    & 13  \\\\\n",
       "\t  14  & 274  & 10.9 & 68   & 5    & 14  \\\\\n",
       "\t  18  &  65  & 13.2 & 58   & 5    & 15  \\\\\n",
       "\t  14  & 334  & 11.5 & 64   & 5    & 16  \\\\\n",
       "\t  34  & 307  & 12.0 & 66   & 5    & 17  \\\\\n",
       "\t   6  &  78  & 18.4 & 57   & 5    & 18  \\\\\n",
       "\t  30  & 322  & 11.5 & 68   & 5    & 19  \\\\\n",
       "\t  11  &  44  &  9.7 & 62   & 5    & 20  \\\\\n",
       "\t   1  &   8  &  9.7 & 59   & 5    & 21  \\\\\n",
       "\t  11  & 320  & 16.6 & 73   & 5    & 22  \\\\\n",
       "\t   4  &  25  &  9.7 & 61   & 5    & 23  \\\\\n",
       "\t  32  &  92  & 12.0 & 61   & 5    & 24  \\\\\n",
       "\t  NA  &  66  & 16.6 & 57   & 5    & 25  \\\\\n",
       "\t  NA  & 266  & 14.9 & 58   & 5    & 26  \\\\\n",
       "\t  NA  &  NA  &  8.0 & 57   & 5    & 27  \\\\\n",
       "\t  23  &  13  & 12.0 & 67   & 5    & 28  \\\\\n",
       "\t  45  & 252  & 14.9 & 81   & 5    & 29  \\\\\n",
       "\t 115  & 223  &  5.7 & 79   & 5    & 30  \\\\\n",
       "\t ... & ... & ... & ... & ... & ...\\\\\n",
       "\t 96   & 167  &  6.9 & 91   & 9    &  1  \\\\\n",
       "\t 78   & 197  &  5.1 & 92   & 9    &  2  \\\\\n",
       "\t 73   & 183  &  2.8 & 93   & 9    &  3  \\\\\n",
       "\t 91   & 189  &  4.6 & 93   & 9    &  4  \\\\\n",
       "\t 47   &  95  &  7.4 & 87   & 9    &  5  \\\\\n",
       "\t 32   &  92  & 15.5 & 84   & 9    &  6  \\\\\n",
       "\t 20   & 252  & 10.9 & 80   & 9    &  7  \\\\\n",
       "\t 23   & 220  & 10.3 & 78   & 9    &  8  \\\\\n",
       "\t 21   & 230  & 10.9 & 75   & 9    &  9  \\\\\n",
       "\t 24   & 259  &  9.7 & 73   & 9    & 10  \\\\\n",
       "\t 44   & 236  & 14.9 & 81   & 9    & 11  \\\\\n",
       "\t 21   & 259  & 15.5 & 76   & 9    & 12  \\\\\n",
       "\t 28   & 238  &  6.3 & 77   & 9    & 13  \\\\\n",
       "\t  9   &  24  & 10.9 & 71   & 9    & 14  \\\\\n",
       "\t 13   & 112  & 11.5 & 71   & 9    & 15  \\\\\n",
       "\t 46   & 237  &  6.9 & 78   & 9    & 16  \\\\\n",
       "\t 18   & 224  & 13.8 & 67   & 9    & 17  \\\\\n",
       "\t 13   &  27  & 10.3 & 76   & 9    & 18  \\\\\n",
       "\t 24   & 238  & 10.3 & 68   & 9    & 19  \\\\\n",
       "\t 16   & 201  &  8.0 & 82   & 9    & 20  \\\\\n",
       "\t 13   & 238  & 12.6 & 64   & 9    & 21  \\\\\n",
       "\t 23   &  14  &  9.2 & 71   & 9    & 22  \\\\\n",
       "\t 36   & 139  & 10.3 & 81   & 9    & 23  \\\\\n",
       "\t  7   &  49  & 10.3 & 69   & 9    & 24  \\\\\n",
       "\t 14   &  20  & 16.6 & 63   & 9    & 25  \\\\\n",
       "\t 30   & 193  &  6.9 & 70   & 9    & 26  \\\\\n",
       "\t NA   & 145  & 13.2 & 77   & 9    & 27  \\\\\n",
       "\t 14   & 191  & 14.3 & 75   & 9    & 28  \\\\\n",
       "\t 18   & 131  &  8.0 & 76   & 9    & 29  \\\\\n",
       "\t 20   & 223  & 11.5 & 68   & 9    & 30  \\\\\n",
       "\\end{tabular}\n"
      ],
      "text/markdown": [
       "\n",
       "| Ozone | Solar.R | Wind | Temp | Month | Day |\n",
       "|---|---|---|---|---|---|\n",
       "|  41  | 190  |  7.4 | 67   | 5    |  1   |\n",
       "|  36  | 118  |  8.0 | 72   | 5    |  2   |\n",
       "|  12  | 149  | 12.6 | 74   | 5    |  3   |\n",
       "|  18  | 313  | 11.5 | 62   | 5    |  4   |\n",
       "|  NA  |  NA  | 14.3 | 56   | 5    |  5   |\n",
       "|  28  |  NA  | 14.9 | 66   | 5    |  6   |\n",
       "|  23  | 299  |  8.6 | 65   | 5    |  7   |\n",
       "|  19  |  99  | 13.8 | 59   | 5    |  8   |\n",
       "|   8  |  19  | 20.1 | 61   | 5    |  9   |\n",
       "|  NA  | 194  |  8.6 | 69   | 5    | 10   |\n",
       "|   7  |  NA  |  6.9 | 74   | 5    | 11   |\n",
       "|  16  | 256  |  9.7 | 69   | 5    | 12   |\n",
       "|  11  | 290  |  9.2 | 66   | 5    | 13   |\n",
       "|  14  | 274  | 10.9 | 68   | 5    | 14   |\n",
       "|  18  |  65  | 13.2 | 58   | 5    | 15   |\n",
       "|  14  | 334  | 11.5 | 64   | 5    | 16   |\n",
       "|  34  | 307  | 12.0 | 66   | 5    | 17   |\n",
       "|   6  |  78  | 18.4 | 57   | 5    | 18   |\n",
       "|  30  | 322  | 11.5 | 68   | 5    | 19   |\n",
       "|  11  |  44  |  9.7 | 62   | 5    | 20   |\n",
       "|   1  |   8  |  9.7 | 59   | 5    | 21   |\n",
       "|  11  | 320  | 16.6 | 73   | 5    | 22   |\n",
       "|   4  |  25  |  9.7 | 61   | 5    | 23   |\n",
       "|  32  |  92  | 12.0 | 61   | 5    | 24   |\n",
       "|  NA  |  66  | 16.6 | 57   | 5    | 25   |\n",
       "|  NA  | 266  | 14.9 | 58   | 5    | 26   |\n",
       "|  NA  |  NA  |  8.0 | 57   | 5    | 27   |\n",
       "|  23  |  13  | 12.0 | 67   | 5    | 28   |\n",
       "|  45  | 252  | 14.9 | 81   | 5    | 29   |\n",
       "| 115  | 223  |  5.7 | 79   | 5    | 30   |\n",
       "| ... | ... | ... | ... | ... | ... |\n",
       "| 96   | 167  |  6.9 | 91   | 9    |  1   |\n",
       "| 78   | 197  |  5.1 | 92   | 9    |  2   |\n",
       "| 73   | 183  |  2.8 | 93   | 9    |  3   |\n",
       "| 91   | 189  |  4.6 | 93   | 9    |  4   |\n",
       "| 47   |  95  |  7.4 | 87   | 9    |  5   |\n",
       "| 32   |  92  | 15.5 | 84   | 9    |  6   |\n",
       "| 20   | 252  | 10.9 | 80   | 9    |  7   |\n",
       "| 23   | 220  | 10.3 | 78   | 9    |  8   |\n",
       "| 21   | 230  | 10.9 | 75   | 9    |  9   |\n",
       "| 24   | 259  |  9.7 | 73   | 9    | 10   |\n",
       "| 44   | 236  | 14.9 | 81   | 9    | 11   |\n",
       "| 21   | 259  | 15.5 | 76   | 9    | 12   |\n",
       "| 28   | 238  |  6.3 | 77   | 9    | 13   |\n",
       "|  9   |  24  | 10.9 | 71   | 9    | 14   |\n",
       "| 13   | 112  | 11.5 | 71   | 9    | 15   |\n",
       "| 46   | 237  |  6.9 | 78   | 9    | 16   |\n",
       "| 18   | 224  | 13.8 | 67   | 9    | 17   |\n",
       "| 13   |  27  | 10.3 | 76   | 9    | 18   |\n",
       "| 24   | 238  | 10.3 | 68   | 9    | 19   |\n",
       "| 16   | 201  |  8.0 | 82   | 9    | 20   |\n",
       "| 13   | 238  | 12.6 | 64   | 9    | 21   |\n",
       "| 23   |  14  |  9.2 | 71   | 9    | 22   |\n",
       "| 36   | 139  | 10.3 | 81   | 9    | 23   |\n",
       "|  7   |  49  | 10.3 | 69   | 9    | 24   |\n",
       "| 14   |  20  | 16.6 | 63   | 9    | 25   |\n",
       "| 30   | 193  |  6.9 | 70   | 9    | 26   |\n",
       "| NA   | 145  | 13.2 | 77   | 9    | 27   |\n",
       "| 14   | 191  | 14.3 | 75   | 9    | 28   |\n",
       "| 18   | 131  |  8.0 | 76   | 9    | 29   |\n",
       "| 20   | 223  | 11.5 | 68   | 9    | 30   |\n",
       "\n"
      ],
      "text/plain": [
       "    Ozone Solar.R Wind Temp Month Day\n",
       "1    41   190      7.4 67   5      1 \n",
       "2    36   118      8.0 72   5      2 \n",
       "3    12   149     12.6 74   5      3 \n",
       "4    18   313     11.5 62   5      4 \n",
       "5    NA    NA     14.3 56   5      5 \n",
       "6    28    NA     14.9 66   5      6 \n",
       "7    23   299      8.6 65   5      7 \n",
       "8    19    99     13.8 59   5      8 \n",
       "9     8    19     20.1 61   5      9 \n",
       "10   NA   194      8.6 69   5     10 \n",
       "11    7    NA      6.9 74   5     11 \n",
       "12   16   256      9.7 69   5     12 \n",
       "13   11   290      9.2 66   5     13 \n",
       "14   14   274     10.9 68   5     14 \n",
       "15   18    65     13.2 58   5     15 \n",
       "16   14   334     11.5 64   5     16 \n",
       "17   34   307     12.0 66   5     17 \n",
       "18    6    78     18.4 57   5     18 \n",
       "19   30   322     11.5 68   5     19 \n",
       "20   11    44      9.7 62   5     20 \n",
       "21    1     8      9.7 59   5     21 \n",
       "22   11   320     16.6 73   5     22 \n",
       "23    4    25      9.7 61   5     23 \n",
       "24   32    92     12.0 61   5     24 \n",
       "25   NA    66     16.6 57   5     25 \n",
       "26   NA   266     14.9 58   5     26 \n",
       "27   NA    NA      8.0 57   5     27 \n",
       "28   23    13     12.0 67   5     28 \n",
       "29   45   252     14.9 81   5     29 \n",
       "30  115   223      5.7 79   5     30 \n",
       "... ...   ...     ...  ...  ...   ...\n",
       "124 96    167      6.9 91   9      1 \n",
       "125 78    197      5.1 92   9      2 \n",
       "126 73    183      2.8 93   9      3 \n",
       "127 91    189      4.6 93   9      4 \n",
       "128 47     95      7.4 87   9      5 \n",
       "129 32     92     15.5 84   9      6 \n",
       "130 20    252     10.9 80   9      7 \n",
       "131 23    220     10.3 78   9      8 \n",
       "132 21    230     10.9 75   9      9 \n",
       "133 24    259      9.7 73   9     10 \n",
       "134 44    236     14.9 81   9     11 \n",
       "135 21    259     15.5 76   9     12 \n",
       "136 28    238      6.3 77   9     13 \n",
       "137  9     24     10.9 71   9     14 \n",
       "138 13    112     11.5 71   9     15 \n",
       "139 46    237      6.9 78   9     16 \n",
       "140 18    224     13.8 67   9     17 \n",
       "141 13     27     10.3 76   9     18 \n",
       "142 24    238     10.3 68   9     19 \n",
       "143 16    201      8.0 82   9     20 \n",
       "144 13    238     12.6 64   9     21 \n",
       "145 23     14      9.2 71   9     22 \n",
       "146 36    139     10.3 81   9     23 \n",
       "147  7     49     10.3 69   9     24 \n",
       "148 14     20     16.6 63   9     25 \n",
       "149 30    193      6.9 70   9     26 \n",
       "150 NA    145     13.2 77   9     27 \n",
       "151 14    191     14.3 75   9     28 \n",
       "152 18    131      8.0 76   9     29 \n",
       "153 20    223     11.5 68   9     30 "
      ]
     },
     "metadata": {},
     "output_type": "display_data"
    }
   ],
   "source": [
    "datasets::airquality"
   ]
  },
  {
   "cell_type": "code",
   "execution_count": 52,
   "metadata": {},
   "outputs": [
    {
     "data": {
      "text/html": [
       "<ol class=list-inline>\n",
       "\t<li>4.20469261939097</li>\n",
       "\t<li>4.27666611901606</li>\n",
       "\t<li>4.30406509320417</li>\n",
       "\t<li>4.12713438504509</li>\n",
       "\t<li>4.02535169073515</li>\n",
       "\t<li>4.18965474202643</li>\n",
       "\t<li>4.17438726989564</li>\n",
       "\t<li>4.07753744390572</li>\n",
       "\t<li>4.11087386417331</li>\n",
       "\t<li>4.23410650459726</li>\n",
       "</ol>\n"
      ],
      "text/latex": [
       "\\begin{enumerate*}\n",
       "\\item 4.20469261939097\n",
       "\\item 4.27666611901606\n",
       "\\item 4.30406509320417\n",
       "\\item 4.12713438504509\n",
       "\\item 4.02535169073515\n",
       "\\item 4.18965474202643\n",
       "\\item 4.17438726989564\n",
       "\\item 4.07753744390572\n",
       "\\item 4.11087386417331\n",
       "\\item 4.23410650459726\n",
       "\\end{enumerate*}\n"
      ],
      "text/markdown": [
       "1. 4.20469261939097\n",
       "2. 4.27666611901606\n",
       "3. 4.30406509320417\n",
       "4. 4.12713438504509\n",
       "5. 4.02535169073515\n",
       "6. 4.18965474202643\n",
       "7. 4.17438726989564\n",
       "8. 4.07753744390572\n",
       "9. 4.11087386417331\n",
       "10. 4.23410650459726\n",
       "\n",
       "\n"
      ],
      "text/plain": [
       " [1] 4.204693 4.276666 4.304065 4.127134 4.025352 4.189655 4.174387 4.077537\n",
       " [9] 4.110874 4.234107"
      ]
     },
     "metadata": {},
     "output_type": "display_data"
    }
   ],
   "source": [
    "log(airquality$Temp[1:10])"
   ]
  },
  {
   "cell_type": "markdown",
   "metadata": {},
   "source": [
    " top 10 values in the “Temp” column and the log() function returned the log values of the same. Let’s do the same using the log10()"
   ]
  },
  {
   "cell_type": "code",
   "execution_count": 53,
   "metadata": {},
   "outputs": [
    {
     "data": {
      "text/html": [
       "<ol class=list-inline>\n",
       "\t<li>1.82607480270083</li>\n",
       "\t<li>1.85733249643127</li>\n",
       "\t<li>1.86923171973098</li>\n",
       "\t<li>1.79239168949825</li>\n",
       "\t<li>1.7481880270062</li>\n",
       "\t<li>1.81954393554187</li>\n",
       "\t<li>1.81291335664286</li>\n",
       "\t<li>1.77085201164214</li>\n",
       "\t<li>1.78532983501077</li>\n",
       "\t<li>1.83884909073726</li>\n",
       "</ol>\n"
      ],
      "text/latex": [
       "\\begin{enumerate*}\n",
       "\\item 1.82607480270083\n",
       "\\item 1.85733249643127\n",
       "\\item 1.86923171973098\n",
       "\\item 1.79239168949825\n",
       "\\item 1.7481880270062\n",
       "\\item 1.81954393554187\n",
       "\\item 1.81291335664286\n",
       "\\item 1.77085201164214\n",
       "\\item 1.78532983501077\n",
       "\\item 1.83884909073726\n",
       "\\end{enumerate*}\n"
      ],
      "text/markdown": [
       "1. 1.82607480270083\n",
       "2. 1.85733249643127\n",
       "3. 1.86923171973098\n",
       "4. 1.79239168949825\n",
       "5. 1.7481880270062\n",
       "6. 1.81954393554187\n",
       "7. 1.81291335664286\n",
       "8. 1.77085201164214\n",
       "9. 1.78532983501077\n",
       "10. 1.83884909073726\n",
       "\n",
       "\n"
      ],
      "text/plain": [
       " [1] 1.826075 1.857332 1.869232 1.792392 1.748188 1.819544 1.812913 1.770852\n",
       " [9] 1.785330 1.838849"
      ]
     },
     "metadata": {},
     "output_type": "display_data"
    }
   ],
   "source": [
    "log10(airquality$Temp[1:10])"
   ]
  },
  {
   "cell_type": "markdown",
   "metadata": {},
   "source": [
    "# Arrays in R"
   ]
  },
  {
   "cell_type": "markdown",
   "metadata": {},
   "source": [
    "Arrays are data objects that can store data of multiple dimensions. In contrast to a matrix, arrays will store only one data type."
   ]
  },
  {
   "cell_type": "code",
   "execution_count": 57,
   "metadata": {},
   "outputs": [],
   "source": [
    "df1<- c(1,2,3)\n",
    "df2<-c(2,4,6,8,10)\n",
    " "
   ]
  },
  {
   "cell_type": "code",
   "execution_count": 62,
   "metadata": {},
   "outputs": [
    {
     "data": {
      "text/html": [
       "<ol class=list-inline>\n",
       "\t<li>1</li>\n",
       "\t<li>2</li>\n",
       "\t<li>3</li>\n",
       "\t<li>2</li>\n",
       "\t<li>4</li>\n",
       "\t<li>6</li>\n",
       "\t<li>8</li>\n",
       "\t<li>10</li>\n",
       "\t<li>1</li>\n",
       "\t<li>2</li>\n",
       "\t<li>3</li>\n",
       "\t<li>2</li>\n",
       "\t<li>4</li>\n",
       "\t<li>6</li>\n",
       "\t<li>8</li>\n",
       "\t<li>10</li>\n",
       "\t<li>1</li>\n",
       "\t<li>2</li>\n",
       "</ol>\n"
      ],
      "text/latex": [
       "\\begin{enumerate*}\n",
       "\\item 1\n",
       "\\item 2\n",
       "\\item 3\n",
       "\\item 2\n",
       "\\item 4\n",
       "\\item 6\n",
       "\\item 8\n",
       "\\item 10\n",
       "\\item 1\n",
       "\\item 2\n",
       "\\item 3\n",
       "\\item 2\n",
       "\\item 4\n",
       "\\item 6\n",
       "\\item 8\n",
       "\\item 10\n",
       "\\item 1\n",
       "\\item 2\n",
       "\\end{enumerate*}\n"
      ],
      "text/markdown": [
       "1. 1\n",
       "2. 2\n",
       "3. 3\n",
       "4. 2\n",
       "5. 4\n",
       "6. 6\n",
       "7. 8\n",
       "8. 10\n",
       "9. 1\n",
       "10. 2\n",
       "11. 3\n",
       "12. 2\n",
       "13. 4\n",
       "14. 6\n",
       "15. 8\n",
       "16. 10\n",
       "17. 1\n",
       "18. 2\n",
       "\n",
       "\n"
      ],
      "text/plain": [
       ", , 1\n",
       "\n",
       "     [,1] [,2] [,3]\n",
       "[1,]    1    2    8\n",
       "[2,]    2    4   10\n",
       "[3,]    3    6    1\n",
       "\n",
       ", , 2\n",
       "\n",
       "     [,1] [,2] [,3]\n",
       "[1,]    2    4   10\n",
       "[2,]    3    6    1\n",
       "[3,]    2    8    2\n"
      ]
     },
     "metadata": {},
     "output_type": "display_data"
    }
   ],
   "source": [
    "#creating 2 vectors\n",
    "df1<- c(1,2,3)\n",
    "df2<-c(2,4,6,8,10)\n",
    " \n",
    "#Creating an array with dim parameter\n",
    "df<- array(c(df1,df2),dim = c(3,3,2))\n",
    " \n",
    "#display array\n",
    "df"
   ]
  },
  {
   "cell_type": "code",
   "execution_count": 63,
   "metadata": {},
   "outputs": [
    {
     "data": {
      "text/html": [
       "<ol class=list-inline>\n",
       "\t<li>1</li>\n",
       "\t<li>2</li>\n",
       "\t<li>3</li>\n",
       "\t<li>2</li>\n",
       "\t<li>4</li>\n",
       "\t<li>6</li>\n",
       "\t<li>8</li>\n",
       "\t<li>10</li>\n",
       "\t<li>1</li>\n",
       "\t<li>2</li>\n",
       "\t<li>3</li>\n",
       "\t<li>2</li>\n",
       "\t<li>4</li>\n",
       "\t<li>6</li>\n",
       "\t<li>8</li>\n",
       "\t<li>10</li>\n",
       "\t<li>1</li>\n",
       "\t<li>2</li>\n",
       "</ol>\n"
      ],
      "text/latex": [
       "\\begin{enumerate*}\n",
       "\\item 1\n",
       "\\item 2\n",
       "\\item 3\n",
       "\\item 2\n",
       "\\item 4\n",
       "\\item 6\n",
       "\\item 8\n",
       "\\item 10\n",
       "\\item 1\n",
       "\\item 2\n",
       "\\item 3\n",
       "\\item 2\n",
       "\\item 4\n",
       "\\item 6\n",
       "\\item 8\n",
       "\\item 10\n",
       "\\item 1\n",
       "\\item 2\n",
       "\\end{enumerate*}\n"
      ],
      "text/markdown": [
       "1. 1\n",
       "2. 2\n",
       "3. 3\n",
       "4. 2\n",
       "5. 4\n",
       "6. 6\n",
       "7. 8\n",
       "8. 10\n",
       "9. 1\n",
       "10. 2\n",
       "11. 3\n",
       "12. 2\n",
       "13. 4\n",
       "14. 6\n",
       "15. 8\n",
       "16. 10\n",
       "17. 1\n",
       "18. 2\n",
       "\n",
       "\n"
      ],
      "text/plain": [
       ", , 1\n",
       "\n",
       "     [,1] [,2] [,3]\n",
       "[1,]    1    2    8\n",
       "[2,]    2    4   10\n",
       "[3,]    3    6    1\n",
       "\n",
       ", , 2\n",
       "\n",
       "     [,1] [,2] [,3]\n",
       "[1,]    2    4   10\n",
       "[2,]    3    6    1\n",
       "[3,]    2    8    2\n"
      ]
     },
     "metadata": {},
     "output_type": "display_data"
    }
   ],
   "source": [
    "dfx"
   ]
  },
  {
   "cell_type": "code",
   "execution_count": 64,
   "metadata": {},
   "outputs": [
    {
     "data": {
      "text/html": [
       "<ol class=list-inline>\n",
       "\t<li>1</li>\n",
       "\t<li>2</li>\n",
       "\t<li>8</li>\n",
       "</ol>\n"
      ],
      "text/latex": [
       "\\begin{enumerate*}\n",
       "\\item 1\n",
       "\\item 2\n",
       "\\item 8\n",
       "\\end{enumerate*}\n"
      ],
      "text/markdown": [
       "1. 1\n",
       "2. 2\n",
       "3. 8\n",
       "\n",
       "\n"
      ],
      "text/plain": [
       "[1] 1 2 8"
      ]
     },
     "metadata": {},
     "output_type": "display_data"
    }
   ],
   "source": [
    "df[1,,1]"
   ]
  },
  {
   "cell_type": "code",
   "execution_count": 65,
   "metadata": {},
   "outputs": [
    {
     "data": {
      "text/html": [
       "4"
      ],
      "text/latex": [
       "4"
      ],
      "text/markdown": [
       "4"
      ],
      "text/plain": [
       "[1] 4"
      ]
     },
     "metadata": {},
     "output_type": "display_data"
    }
   ],
   "source": [
    "#return element present in first row, second column\n",
    "df[1,2,2]"
   ]
  },
  {
   "cell_type": "code",
   "execution_count": 66,
   "metadata": {},
   "outputs": [
    {
     "data": {
      "text/html": [
       "<table>\n",
       "<tbody>\n",
       "\t<tr><td>1 </td><td>2 </td><td> 8</td></tr>\n",
       "\t<tr><td>2 </td><td>4 </td><td>10</td></tr>\n",
       "\t<tr><td>3 </td><td>6 </td><td> 1</td></tr>\n",
       "</tbody>\n",
       "</table>\n"
      ],
      "text/latex": [
       "\\begin{tabular}{lll}\n",
       "\t 1  & 2  &  8\\\\\n",
       "\t 2  & 4  & 10\\\\\n",
       "\t 3  & 6  &  1\\\\\n",
       "\\end{tabular}\n"
      ],
      "text/markdown": [
       "\n",
       "| 1  | 2  |  8 |\n",
       "| 2  | 4  | 10 |\n",
       "| 3  | 6  |  1 |\n",
       "\n"
      ],
      "text/plain": [
       "     [,1] [,2] [,3]\n",
       "[1,] 1    2     8  \n",
       "[2,] 2    4    10  \n",
       "[3,] 3    6     1  "
      ]
     },
     "metadata": {},
     "output_type": "display_data"
    }
   ],
   "source": [
    "#Return first array\n",
    "df[,,1]"
   ]
  },
  {
   "cell_type": "code",
   "execution_count": 67,
   "metadata": {},
   "outputs": [],
   "source": [
    "#Returs the sum of first rows of all arrays\n",
    "x <- apply(df, c(1), sum)"
   ]
  },
  {
   "cell_type": "code",
   "execution_count": 68,
   "metadata": {},
   "outputs": [
    {
     "data": {
      "text/html": [
       "<ol class=list-inline>\n",
       "\t<li>27</li>\n",
       "\t<li>26</li>\n",
       "\t<li>22</li>\n",
       "</ol>\n"
      ],
      "text/latex": [
       "\\begin{enumerate*}\n",
       "\\item 27\n",
       "\\item 26\n",
       "\\item 22\n",
       "\\end{enumerate*}\n"
      ],
      "text/markdown": [
       "1. 27\n",
       "2. 26\n",
       "3. 22\n",
       "\n",
       "\n"
      ],
      "text/plain": [
       "[1] 27 26 22"
      ]
     },
     "metadata": {},
     "output_type": "display_data"
    }
   ],
   "source": [
    "x"
   ]
  },
  {
   "cell_type": "code",
   "execution_count": null,
   "metadata": {},
   "outputs": [],
   "source": []
  }
 ],
 "metadata": {
  "kernelspec": {
   "display_name": "R",
   "language": "R",
   "name": "ir"
  },
  "language_info": {
   "codemirror_mode": "r",
   "file_extension": ".r",
   "mimetype": "text/x-r-source",
   "name": "R",
   "pygments_lexer": "r",
   "version": "3.6.1"
  }
 },
 "nbformat": 4,
 "nbformat_minor": 2
}
