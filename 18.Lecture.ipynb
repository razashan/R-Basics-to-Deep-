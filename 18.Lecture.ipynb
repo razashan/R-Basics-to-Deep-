{
 "cells": [
  {
   "cell_type": "markdown",
   "metadata": {},
   "source": [
    "# Joining tables"
   ]
  },
  {
   "cell_type": "code",
   "execution_count": 3,
   "metadata": {},
   "outputs": [],
   "source": [
    "library(tidyverse)\n"
   ]
  },
  {
   "cell_type": "code",
   "execution_count": 2,
   "metadata": {},
   "outputs": [
    {
     "name": "stdout",
     "output_type": "stream",
     "text": [
      "package 'dslabs' successfully unpacked and MD5 sums checked\n",
      "\n",
      "The downloaded binary packages are in\n",
      "\tC:\\Users\\Microsoft\\AppData\\Local\\Temp\\RtmpGcjZOX\\downloaded_packages\n"
     ]
    }
   ],
   "source": [
    "install.packages(\"dslabs\")"
   ]
  },
  {
   "cell_type": "code",
   "execution_count": 4,
   "metadata": {},
   "outputs": [
    {
     "name": "stderr",
     "output_type": "stream",
     "text": [
      "Warning message:\n",
      "\"package 'dslabs' was built under R version 3.6.3\""
     ]
    },
    {
     "data": {
      "text/html": [
       "<table>\n",
       "<thead><tr><th scope=col>state</th><th scope=col>abb</th><th scope=col>region</th><th scope=col>population</th><th scope=col>total</th></tr></thead>\n",
       "<tbody>\n",
       "\t<tr><td>Alabama   </td><td>AL        </td><td>South     </td><td> 4779736  </td><td> 135      </td></tr>\n",
       "\t<tr><td>Alaska    </td><td>AK        </td><td>West      </td><td>  710231  </td><td>  19      </td></tr>\n",
       "\t<tr><td>Arizona   </td><td>AZ        </td><td>West      </td><td> 6392017  </td><td> 232      </td></tr>\n",
       "\t<tr><td>Arkansas  </td><td>AR        </td><td>South     </td><td> 2915918  </td><td>  93      </td></tr>\n",
       "\t<tr><td>California</td><td>CA        </td><td>West      </td><td>37253956  </td><td>1257      </td></tr>\n",
       "\t<tr><td>Colorado  </td><td>CO        </td><td>West      </td><td> 5029196  </td><td>  65      </td></tr>\n",
       "</tbody>\n",
       "</table>\n"
      ],
      "text/latex": [
       "\\begin{tabular}{r|lllll}\n",
       " state & abb & region & population & total\\\\\n",
       "\\hline\n",
       "\t Alabama    & AL         & South      &  4779736   &  135      \\\\\n",
       "\t Alaska     & AK         & West       &   710231   &   19      \\\\\n",
       "\t Arizona    & AZ         & West       &  6392017   &  232      \\\\\n",
       "\t Arkansas   & AR         & South      &  2915918   &   93      \\\\\n",
       "\t California & CA         & West       & 37253956   & 1257      \\\\\n",
       "\t Colorado   & CO         & West       &  5029196   &   65      \\\\\n",
       "\\end{tabular}\n"
      ],
      "text/markdown": [
       "\n",
       "| state | abb | region | population | total |\n",
       "|---|---|---|---|---|\n",
       "| Alabama    | AL         | South      |  4779736   |  135       |\n",
       "| Alaska     | AK         | West       |   710231   |   19       |\n",
       "| Arizona    | AZ         | West       |  6392017   |  232       |\n",
       "| Arkansas   | AR         | South      |  2915918   |   93       |\n",
       "| California | CA         | West       | 37253956   | 1257       |\n",
       "| Colorado   | CO         | West       |  5029196   |   65       |\n",
       "\n"
      ],
      "text/plain": [
       "  state      abb region population total\n",
       "1 Alabama    AL  South   4779736    135 \n",
       "2 Alaska     AK  West     710231     19 \n",
       "3 Arizona    AZ  West    6392017    232 \n",
       "4 Arkansas   AR  South   2915918     93 \n",
       "5 California CA  West   37253956   1257 \n",
       "6 Colorado   CO  West    5029196     65 "
      ]
     },
     "metadata": {},
     "output_type": "display_data"
    }
   ],
   "source": [
    "library(dslabs)\n",
    "data(murders)\n",
    "head(murders)"
   ]
  },
  {
   "cell_type": "code",
   "execution_count": 5,
   "metadata": {},
   "outputs": [
    {
     "data": {
      "text/html": [
       "<table>\n",
       "<thead><tr><th scope=col>state</th><th scope=col>electoral_votes</th><th scope=col>clinton</th><th scope=col>trump</th><th scope=col>others</th></tr></thead>\n",
       "<tbody>\n",
       "\t<tr><td>California  </td><td>55          </td><td>61.7        </td><td>31.6        </td><td>6.7         </td></tr>\n",
       "\t<tr><td>Texas       </td><td>38          </td><td>43.2        </td><td>52.2        </td><td>4.5         </td></tr>\n",
       "\t<tr><td>Florida     </td><td>29          </td><td>47.8        </td><td>49.0        </td><td>3.2         </td></tr>\n",
       "\t<tr><td>New York    </td><td>29          </td><td>59.0        </td><td>36.5        </td><td>4.5         </td></tr>\n",
       "\t<tr><td>Illinois    </td><td>20          </td><td>55.8        </td><td>38.8        </td><td>5.4         </td></tr>\n",
       "\t<tr><td>Pennsylvania</td><td>20          </td><td>47.9        </td><td>48.6        </td><td>3.6         </td></tr>\n",
       "</tbody>\n",
       "</table>\n"
      ],
      "text/latex": [
       "\\begin{tabular}{r|lllll}\n",
       " state & electoral\\_votes & clinton & trump & others\\\\\n",
       "\\hline\n",
       "\t California   & 55           & 61.7         & 31.6         & 6.7         \\\\\n",
       "\t Texas        & 38           & 43.2         & 52.2         & 4.5         \\\\\n",
       "\t Florida      & 29           & 47.8         & 49.0         & 3.2         \\\\\n",
       "\t New York     & 29           & 59.0         & 36.5         & 4.5         \\\\\n",
       "\t Illinois     & 20           & 55.8         & 38.8         & 5.4         \\\\\n",
       "\t Pennsylvania & 20           & 47.9         & 48.6         & 3.6         \\\\\n",
       "\\end{tabular}\n"
      ],
      "text/markdown": [
       "\n",
       "| state | electoral_votes | clinton | trump | others |\n",
       "|---|---|---|---|---|\n",
       "| California   | 55           | 61.7         | 31.6         | 6.7          |\n",
       "| Texas        | 38           | 43.2         | 52.2         | 4.5          |\n",
       "| Florida      | 29           | 47.8         | 49.0         | 3.2          |\n",
       "| New York     | 29           | 59.0         | 36.5         | 4.5          |\n",
       "| Illinois     | 20           | 55.8         | 38.8         | 5.4          |\n",
       "| Pennsylvania | 20           | 47.9         | 48.6         | 3.6          |\n",
       "\n"
      ],
      "text/plain": [
       "  state        electoral_votes clinton trump others\n",
       "1 California   55              61.7    31.6  6.7   \n",
       "2 Texas        38              43.2    52.2  4.5   \n",
       "3 Florida      29              47.8    49.0  3.2   \n",
       "4 New York     29              59.0    36.5  4.5   \n",
       "5 Illinois     20              55.8    38.8  5.4   \n",
       "6 Pennsylvania 20              47.9    48.6  3.6   "
      ]
     },
     "metadata": {},
     "output_type": "display_data"
    }
   ],
   "source": [
    "data(polls_us_election_2016)\n",
    "head(results_us_election_2016)"
   ]
  },
  {
   "cell_type": "markdown",
   "metadata": {},
   "source": [
    "Just concatenating these two tables together will not work since the order of the states is not the same."
   ]
  },
  {
   "cell_type": "code",
   "execution_count": 7,
   "metadata": {},
   "outputs": [
    {
     "data": {
      "text/html": [
       "FALSE"
      ],
      "text/latex": [
       "FALSE"
      ],
      "text/markdown": [
       "FALSE"
      ],
      "text/plain": [
       "[1] FALSE"
      ]
     },
     "metadata": {},
     "output_type": "display_data"
    }
   ],
   "source": [
    "identical(results_us_election_2016$state, murders$state)"
   ]
  },
  {
   "cell_type": "code",
   "execution_count": 9,
   "metadata": {},
   "outputs": [],
   "source": [
    "tab <- left_join(murders,results_us_election_2016,by =\"state\")%>%\n",
    "select(-others)%>%\n",
    "rename(cv = electoral_votes)"
   ]
  },
  {
   "cell_type": "code",
   "execution_count": 10,
   "metadata": {},
   "outputs": [
    {
     "data": {
      "text/html": [
       "<table>\n",
       "<thead><tr><th scope=col>state</th><th scope=col>abb</th><th scope=col>region</th><th scope=col>population</th><th scope=col>total</th><th scope=col>cv</th><th scope=col>clinton</th><th scope=col>trump</th></tr></thead>\n",
       "<tbody>\n",
       "\t<tr><td>Alabama   </td><td>AL        </td><td>South     </td><td> 4779736  </td><td> 135      </td><td> 9        </td><td>34.4      </td><td>62.1      </td></tr>\n",
       "\t<tr><td>Alaska    </td><td>AK        </td><td>West      </td><td>  710231  </td><td>  19      </td><td> 3        </td><td>36.6      </td><td>51.3      </td></tr>\n",
       "\t<tr><td>Arizona   </td><td>AZ        </td><td>West      </td><td> 6392017  </td><td> 232      </td><td>11        </td><td>45.1      </td><td>48.7      </td></tr>\n",
       "\t<tr><td>Arkansas  </td><td>AR        </td><td>South     </td><td> 2915918  </td><td>  93      </td><td> 6        </td><td>33.7      </td><td>60.6      </td></tr>\n",
       "\t<tr><td>California</td><td>CA        </td><td>West      </td><td>37253956  </td><td>1257      </td><td>55        </td><td>61.7      </td><td>31.6      </td></tr>\n",
       "\t<tr><td>Colorado  </td><td>CO        </td><td>West      </td><td> 5029196  </td><td>  65      </td><td> 9        </td><td>48.2      </td><td>43.3      </td></tr>\n",
       "</tbody>\n",
       "</table>\n"
      ],
      "text/latex": [
       "\\begin{tabular}{r|llllllll}\n",
       " state & abb & region & population & total & cv & clinton & trump\\\\\n",
       "\\hline\n",
       "\t Alabama    & AL         & South      &  4779736   &  135       &  9         & 34.4       & 62.1      \\\\\n",
       "\t Alaska     & AK         & West       &   710231   &   19       &  3         & 36.6       & 51.3      \\\\\n",
       "\t Arizona    & AZ         & West       &  6392017   &  232       & 11         & 45.1       & 48.7      \\\\\n",
       "\t Arkansas   & AR         & South      &  2915918   &   93       &  6         & 33.7       & 60.6      \\\\\n",
       "\t California & CA         & West       & 37253956   & 1257       & 55         & 61.7       & 31.6      \\\\\n",
       "\t Colorado   & CO         & West       &  5029196   &   65       &  9         & 48.2       & 43.3      \\\\\n",
       "\\end{tabular}\n"
      ],
      "text/markdown": [
       "\n",
       "| state | abb | region | population | total | cv | clinton | trump |\n",
       "|---|---|---|---|---|---|---|---|\n",
       "| Alabama    | AL         | South      |  4779736   |  135       |  9         | 34.4       | 62.1       |\n",
       "| Alaska     | AK         | West       |   710231   |   19       |  3         | 36.6       | 51.3       |\n",
       "| Arizona    | AZ         | West       |  6392017   |  232       | 11         | 45.1       | 48.7       |\n",
       "| Arkansas   | AR         | South      |  2915918   |   93       |  6         | 33.7       | 60.6       |\n",
       "| California | CA         | West       | 37253956   | 1257       | 55         | 61.7       | 31.6       |\n",
       "| Colorado   | CO         | West       |  5029196   |   65       |  9         | 48.2       | 43.3       |\n",
       "\n"
      ],
      "text/plain": [
       "  state      abb region population total cv clinton trump\n",
       "1 Alabama    AL  South   4779736    135   9 34.4    62.1 \n",
       "2 Alaska     AK  West     710231     19   3 36.6    51.3 \n",
       "3 Arizona    AZ  West    6392017    232  11 45.1    48.7 \n",
       "4 Arkansas   AR  South   2915918     93   6 33.7    60.6 \n",
       "5 California CA  West   37253956   1257  55 61.7    31.6 \n",
       "6 Colorado   CO  West    5029196     65   9 48.2    43.3 "
      ]
     },
     "metadata": {},
     "output_type": "display_data"
    }
   ],
   "source": [
    "head(tab)"
   ]
  },
  {
   "cell_type": "code",
   "execution_count": 11,
   "metadata": {},
   "outputs": [
    {
     "data": {
      "text/html": [
       "<table>\n",
       "<thead><tr><th scope=col>state</th><th scope=col>abb</th><th scope=col>region</th><th scope=col>population</th><th scope=col>total</th><th scope=col>cv</th><th scope=col>clinton</th><th scope=col>trump</th></tr></thead>\n",
       "<tbody>\n",
       "\t<tr><td>Alabama             </td><td>AL                  </td><td>South               </td><td> 4779736            </td><td> 135                </td><td> 9                  </td><td>34.4                </td><td>62.1                </td></tr>\n",
       "\t<tr><td>Alaska              </td><td>AK                  </td><td>West                </td><td>  710231            </td><td>  19                </td><td> 3                  </td><td>36.6                </td><td>51.3                </td></tr>\n",
       "\t<tr><td>Arizona             </td><td>AZ                  </td><td>West                </td><td> 6392017            </td><td> 232                </td><td>11                  </td><td>45.1                </td><td>48.7                </td></tr>\n",
       "\t<tr><td>Arkansas            </td><td>AR                  </td><td>South               </td><td> 2915918            </td><td>  93                </td><td> 6                  </td><td>33.7                </td><td>60.6                </td></tr>\n",
       "\t<tr><td>California          </td><td>CA                  </td><td>West                </td><td>37253956            </td><td>1257                </td><td>55                  </td><td>61.7                </td><td>31.6                </td></tr>\n",
       "\t<tr><td>Colorado            </td><td>CO                  </td><td>West                </td><td> 5029196            </td><td>  65                </td><td> 9                  </td><td>48.2                </td><td>43.3                </td></tr>\n",
       "\t<tr><td>Connecticut         </td><td>CT                  </td><td>Northeast           </td><td> 3574097            </td><td>  97                </td><td> 7                  </td><td>54.6                </td><td>40.9                </td></tr>\n",
       "\t<tr><td>Delaware            </td><td>DE                  </td><td>South               </td><td>  897934            </td><td>  38                </td><td> 3                  </td><td>53.4                </td><td>41.9                </td></tr>\n",
       "\t<tr><td>District of Columbia</td><td>DC                  </td><td>South               </td><td>  601723            </td><td>  99                </td><td> 3                  </td><td>90.9                </td><td> 4.1                </td></tr>\n",
       "\t<tr><td>Florida             </td><td>FL                  </td><td>South               </td><td>19687653            </td><td> 669                </td><td>29                  </td><td>47.8                </td><td>49.0                </td></tr>\n",
       "\t<tr><td>Georgia             </td><td>GA                  </td><td>South               </td><td> 9920000            </td><td> 376                </td><td>16                  </td><td>45.9                </td><td>51.0                </td></tr>\n",
       "\t<tr><td>Hawaii              </td><td>HI                  </td><td>West                </td><td> 1360301            </td><td>   7                </td><td> 4                  </td><td>62.2                </td><td>30.0                </td></tr>\n",
       "\t<tr><td>Idaho               </td><td>ID                  </td><td>West                </td><td> 1567582            </td><td>  12                </td><td> 4                  </td><td>27.5                </td><td>59.3                </td></tr>\n",
       "\t<tr><td>Illinois            </td><td>IL                  </td><td>North Central       </td><td>12830632            </td><td> 364                </td><td>20                  </td><td>55.8                </td><td>38.8                </td></tr>\n",
       "\t<tr><td>Indiana             </td><td>IN                  </td><td>North Central       </td><td> 6483802            </td><td> 142                </td><td>11                  </td><td>37.8                </td><td>56.9                </td></tr>\n",
       "\t<tr><td>Iowa                </td><td>IA                  </td><td>North Central       </td><td> 3046355            </td><td>  21                </td><td> 6                  </td><td>41.7                </td><td>51.1                </td></tr>\n",
       "\t<tr><td>Kansas              </td><td>KS                  </td><td>North Central       </td><td> 2853118            </td><td>  63                </td><td> 6                  </td><td>36.1                </td><td>56.7                </td></tr>\n",
       "\t<tr><td>Kentucky            </td><td>KY                  </td><td>South               </td><td> 4339367            </td><td> 116                </td><td> 8                  </td><td>32.7                </td><td>62.5                </td></tr>\n",
       "\t<tr><td>Louisiana           </td><td>LA                  </td><td>South               </td><td> 4533372            </td><td> 351                </td><td> 8                  </td><td>38.4                </td><td>58.1                </td></tr>\n",
       "\t<tr><td>Maine               </td><td>ME                  </td><td>Northeast           </td><td> 1328361            </td><td>  11                </td><td> 4                  </td><td>48.0                </td><td>45.0                </td></tr>\n",
       "\t<tr><td>Maryland            </td><td>MD                  </td><td>South               </td><td> 5773552            </td><td> 293                </td><td>10                  </td><td>60.3                </td><td>33.9                </td></tr>\n",
       "\t<tr><td>Massachusetts       </td><td>MA                  </td><td>Northeast           </td><td> 6547629            </td><td> 118                </td><td>11                  </td><td>60.0                </td><td>32.8                </td></tr>\n",
       "\t<tr><td>Michigan            </td><td>MI                  </td><td>North Central       </td><td> 9883640            </td><td> 413                </td><td>16                  </td><td>47.3                </td><td>47.5                </td></tr>\n",
       "\t<tr><td>Minnesota           </td><td>MN                  </td><td>North Central       </td><td> 5303925            </td><td>  53                </td><td>10                  </td><td>46.4                </td><td>44.9                </td></tr>\n",
       "\t<tr><td>Mississippi         </td><td>MS                  </td><td>South               </td><td> 2967297            </td><td> 120                </td><td> 6                  </td><td>40.1                </td><td>57.9                </td></tr>\n",
       "\t<tr><td>Missouri            </td><td>MO                  </td><td>North Central       </td><td> 5988927            </td><td> 321                </td><td>10                  </td><td>38.1                </td><td>56.8                </td></tr>\n",
       "\t<tr><td>Montana             </td><td>MT                  </td><td>West                </td><td>  989415            </td><td>  12                </td><td> 3                  </td><td>35.9                </td><td>56.5                </td></tr>\n",
       "\t<tr><td>Nebraska            </td><td>NE                  </td><td>North Central       </td><td> 1826341            </td><td>  32                </td><td> 5                  </td><td>34.3                </td><td>59.9                </td></tr>\n",
       "\t<tr><td>Nevada              </td><td>NV                  </td><td>West                </td><td> 2700551            </td><td>  84                </td><td> 6                  </td><td>47.9                </td><td>45.5                </td></tr>\n",
       "\t<tr><td>New Hampshire       </td><td>NH                  </td><td>Northeast           </td><td> 1316470            </td><td>   5                </td><td> 4                  </td><td>46.8                </td><td>46.5                </td></tr>\n",
       "\t<tr><td>New Jersey          </td><td>NJ                  </td><td>Northeast           </td><td> 8791894            </td><td> 246                </td><td>14                  </td><td>55.5                </td><td>41.4                </td></tr>\n",
       "\t<tr><td>New Mexico          </td><td>NM                  </td><td>West                </td><td> 2059179            </td><td>  67                </td><td> 5                  </td><td>48.3                </td><td>40.0                </td></tr>\n",
       "\t<tr><td>New York            </td><td>NY                  </td><td>Northeast           </td><td>19378102            </td><td> 517                </td><td>29                  </td><td>59.0                </td><td>36.5                </td></tr>\n",
       "\t<tr><td>North Carolina      </td><td>NC                  </td><td>South               </td><td> 9535483            </td><td> 286                </td><td>15                  </td><td>46.2                </td><td>49.8                </td></tr>\n",
       "\t<tr><td>North Dakota        </td><td>ND                  </td><td>North Central       </td><td>  672591            </td><td>   4                </td><td> 3                  </td><td>27.2                </td><td>63.0                </td></tr>\n",
       "\t<tr><td>Ohio                </td><td>OH                  </td><td>North Central       </td><td>11536504            </td><td> 310                </td><td>18                  </td><td>43.5                </td><td>51.7                </td></tr>\n",
       "\t<tr><td>Oklahoma            </td><td>OK                  </td><td>South               </td><td> 3751351            </td><td> 111                </td><td> 7                  </td><td>28.9                </td><td>65.3                </td></tr>\n",
       "\t<tr><td>Oregon              </td><td>OR                  </td><td>West                </td><td> 3831074            </td><td>  36                </td><td> 7                  </td><td>50.1                </td><td>39.1                </td></tr>\n",
       "\t<tr><td>Pennsylvania        </td><td>PA                  </td><td>Northeast           </td><td>12702379            </td><td> 457                </td><td>20                  </td><td>47.9                </td><td>48.6                </td></tr>\n",
       "\t<tr><td>Rhode Island        </td><td>RI                  </td><td>Northeast           </td><td> 1052567            </td><td>  16                </td><td> 4                  </td><td>54.4                </td><td>38.9                </td></tr>\n",
       "\t<tr><td>South Carolina      </td><td>SC                  </td><td>South               </td><td> 4625364            </td><td> 207                </td><td> 9                  </td><td>40.7                </td><td>54.9                </td></tr>\n",
       "\t<tr><td>South Dakota        </td><td>SD                  </td><td>North Central       </td><td>  814180            </td><td>   8                </td><td> 3                  </td><td>31.7                </td><td>61.5                </td></tr>\n",
       "\t<tr><td>Tennessee           </td><td>TN                  </td><td>South               </td><td> 6346105            </td><td> 219                </td><td>11                  </td><td>34.7                </td><td>60.7                </td></tr>\n",
       "\t<tr><td>Texas               </td><td>TX                  </td><td>South               </td><td>25145561            </td><td> 805                </td><td>38                  </td><td>43.2                </td><td>52.2                </td></tr>\n",
       "\t<tr><td>Utah                </td><td>UT                  </td><td>West                </td><td> 2763885            </td><td>  22                </td><td> 6                  </td><td>27.5                </td><td>45.5                </td></tr>\n",
       "\t<tr><td>Vermont             </td><td>VT                  </td><td>Northeast           </td><td>  625741            </td><td>   2                </td><td> 3                  </td><td>56.7                </td><td>30.3                </td></tr>\n",
       "\t<tr><td>Virginia            </td><td>VA                  </td><td>South               </td><td> 8001024            </td><td> 250                </td><td>13                  </td><td>49.8                </td><td>44.4                </td></tr>\n",
       "\t<tr><td>Washington          </td><td>WA                  </td><td>West                </td><td> 6724540            </td><td>  93                </td><td>12                  </td><td>54.3                </td><td>38.1                </td></tr>\n",
       "\t<tr><td>West Virginia       </td><td>WV                  </td><td>South               </td><td> 1852994            </td><td>  27                </td><td> 5                  </td><td>26.5                </td><td>68.6                </td></tr>\n",
       "\t<tr><td>Wisconsin           </td><td>WI                  </td><td>North Central       </td><td> 5686986            </td><td>  97                </td><td>10                  </td><td>46.5                </td><td>47.2                </td></tr>\n",
       "\t<tr><td>Wyoming             </td><td>WY                  </td><td>West                </td><td>  563626            </td><td>   5                </td><td> 3                  </td><td>21.9                </td><td>68.2                </td></tr>\n",
       "</tbody>\n",
       "</table>\n"
      ],
      "text/latex": [
       "\\begin{tabular}{r|llllllll}\n",
       " state & abb & region & population & total & cv & clinton & trump\\\\\n",
       "\\hline\n",
       "\t Alabama              & AL                   & South                &  4779736             &  135                 &  9                   & 34.4                 & 62.1                \\\\\n",
       "\t Alaska               & AK                   & West                 &   710231             &   19                 &  3                   & 36.6                 & 51.3                \\\\\n",
       "\t Arizona              & AZ                   & West                 &  6392017             &  232                 & 11                   & 45.1                 & 48.7                \\\\\n",
       "\t Arkansas             & AR                   & South                &  2915918             &   93                 &  6                   & 33.7                 & 60.6                \\\\\n",
       "\t California           & CA                   & West                 & 37253956             & 1257                 & 55                   & 61.7                 & 31.6                \\\\\n",
       "\t Colorado             & CO                   & West                 &  5029196             &   65                 &  9                   & 48.2                 & 43.3                \\\\\n",
       "\t Connecticut          & CT                   & Northeast            &  3574097             &   97                 &  7                   & 54.6                 & 40.9                \\\\\n",
       "\t Delaware             & DE                   & South                &   897934             &   38                 &  3                   & 53.4                 & 41.9                \\\\\n",
       "\t District of Columbia & DC                   & South                &   601723             &   99                 &  3                   & 90.9                 &  4.1                \\\\\n",
       "\t Florida              & FL                   & South                & 19687653             &  669                 & 29                   & 47.8                 & 49.0                \\\\\n",
       "\t Georgia              & GA                   & South                &  9920000             &  376                 & 16                   & 45.9                 & 51.0                \\\\\n",
       "\t Hawaii               & HI                   & West                 &  1360301             &    7                 &  4                   & 62.2                 & 30.0                \\\\\n",
       "\t Idaho                & ID                   & West                 &  1567582             &   12                 &  4                   & 27.5                 & 59.3                \\\\\n",
       "\t Illinois             & IL                   & North Central        & 12830632             &  364                 & 20                   & 55.8                 & 38.8                \\\\\n",
       "\t Indiana              & IN                   & North Central        &  6483802             &  142                 & 11                   & 37.8                 & 56.9                \\\\\n",
       "\t Iowa                 & IA                   & North Central        &  3046355             &   21                 &  6                   & 41.7                 & 51.1                \\\\\n",
       "\t Kansas               & KS                   & North Central        &  2853118             &   63                 &  6                   & 36.1                 & 56.7                \\\\\n",
       "\t Kentucky             & KY                   & South                &  4339367             &  116                 &  8                   & 32.7                 & 62.5                \\\\\n",
       "\t Louisiana            & LA                   & South                &  4533372             &  351                 &  8                   & 38.4                 & 58.1                \\\\\n",
       "\t Maine                & ME                   & Northeast            &  1328361             &   11                 &  4                   & 48.0                 & 45.0                \\\\\n",
       "\t Maryland             & MD                   & South                &  5773552             &  293                 & 10                   & 60.3                 & 33.9                \\\\\n",
       "\t Massachusetts        & MA                   & Northeast            &  6547629             &  118                 & 11                   & 60.0                 & 32.8                \\\\\n",
       "\t Michigan             & MI                   & North Central        &  9883640             &  413                 & 16                   & 47.3                 & 47.5                \\\\\n",
       "\t Minnesota            & MN                   & North Central        &  5303925             &   53                 & 10                   & 46.4                 & 44.9                \\\\\n",
       "\t Mississippi          & MS                   & South                &  2967297             &  120                 &  6                   & 40.1                 & 57.9                \\\\\n",
       "\t Missouri             & MO                   & North Central        &  5988927             &  321                 & 10                   & 38.1                 & 56.8                \\\\\n",
       "\t Montana              & MT                   & West                 &   989415             &   12                 &  3                   & 35.9                 & 56.5                \\\\\n",
       "\t Nebraska             & NE                   & North Central        &  1826341             &   32                 &  5                   & 34.3                 & 59.9                \\\\\n",
       "\t Nevada               & NV                   & West                 &  2700551             &   84                 &  6                   & 47.9                 & 45.5                \\\\\n",
       "\t New Hampshire        & NH                   & Northeast            &  1316470             &    5                 &  4                   & 46.8                 & 46.5                \\\\\n",
       "\t New Jersey           & NJ                   & Northeast            &  8791894             &  246                 & 14                   & 55.5                 & 41.4                \\\\\n",
       "\t New Mexico           & NM                   & West                 &  2059179             &   67                 &  5                   & 48.3                 & 40.0                \\\\\n",
       "\t New York             & NY                   & Northeast            & 19378102             &  517                 & 29                   & 59.0                 & 36.5                \\\\\n",
       "\t North Carolina       & NC                   & South                &  9535483             &  286                 & 15                   & 46.2                 & 49.8                \\\\\n",
       "\t North Dakota         & ND                   & North Central        &   672591             &    4                 &  3                   & 27.2                 & 63.0                \\\\\n",
       "\t Ohio                 & OH                   & North Central        & 11536504             &  310                 & 18                   & 43.5                 & 51.7                \\\\\n",
       "\t Oklahoma             & OK                   & South                &  3751351             &  111                 &  7                   & 28.9                 & 65.3                \\\\\n",
       "\t Oregon               & OR                   & West                 &  3831074             &   36                 &  7                   & 50.1                 & 39.1                \\\\\n",
       "\t Pennsylvania         & PA                   & Northeast            & 12702379             &  457                 & 20                   & 47.9                 & 48.6                \\\\\n",
       "\t Rhode Island         & RI                   & Northeast            &  1052567             &   16                 &  4                   & 54.4                 & 38.9                \\\\\n",
       "\t South Carolina       & SC                   & South                &  4625364             &  207                 &  9                   & 40.7                 & 54.9                \\\\\n",
       "\t South Dakota         & SD                   & North Central        &   814180             &    8                 &  3                   & 31.7                 & 61.5                \\\\\n",
       "\t Tennessee            & TN                   & South                &  6346105             &  219                 & 11                   & 34.7                 & 60.7                \\\\\n",
       "\t Texas                & TX                   & South                & 25145561             &  805                 & 38                   & 43.2                 & 52.2                \\\\\n",
       "\t Utah                 & UT                   & West                 &  2763885             &   22                 &  6                   & 27.5                 & 45.5                \\\\\n",
       "\t Vermont              & VT                   & Northeast            &   625741             &    2                 &  3                   & 56.7                 & 30.3                \\\\\n",
       "\t Virginia             & VA                   & South                &  8001024             &  250                 & 13                   & 49.8                 & 44.4                \\\\\n",
       "\t Washington           & WA                   & West                 &  6724540             &   93                 & 12                   & 54.3                 & 38.1                \\\\\n",
       "\t West Virginia        & WV                   & South                &  1852994             &   27                 &  5                   & 26.5                 & 68.6                \\\\\n",
       "\t Wisconsin            & WI                   & North Central        &  5686986             &   97                 & 10                   & 46.5                 & 47.2                \\\\\n",
       "\t Wyoming              & WY                   & West                 &   563626             &    5                 &  3                   & 21.9                 & 68.2                \\\\\n",
       "\\end{tabular}\n"
      ],
      "text/markdown": [
       "\n",
       "| state | abb | region | population | total | cv | clinton | trump |\n",
       "|---|---|---|---|---|---|---|---|\n",
       "| Alabama              | AL                   | South                |  4779736             |  135                 |  9                   | 34.4                 | 62.1                 |\n",
       "| Alaska               | AK                   | West                 |   710231             |   19                 |  3                   | 36.6                 | 51.3                 |\n",
       "| Arizona              | AZ                   | West                 |  6392017             |  232                 | 11                   | 45.1                 | 48.7                 |\n",
       "| Arkansas             | AR                   | South                |  2915918             |   93                 |  6                   | 33.7                 | 60.6                 |\n",
       "| California           | CA                   | West                 | 37253956             | 1257                 | 55                   | 61.7                 | 31.6                 |\n",
       "| Colorado             | CO                   | West                 |  5029196             |   65                 |  9                   | 48.2                 | 43.3                 |\n",
       "| Connecticut          | CT                   | Northeast            |  3574097             |   97                 |  7                   | 54.6                 | 40.9                 |\n",
       "| Delaware             | DE                   | South                |   897934             |   38                 |  3                   | 53.4                 | 41.9                 |\n",
       "| District of Columbia | DC                   | South                |   601723             |   99                 |  3                   | 90.9                 |  4.1                 |\n",
       "| Florida              | FL                   | South                | 19687653             |  669                 | 29                   | 47.8                 | 49.0                 |\n",
       "| Georgia              | GA                   | South                |  9920000             |  376                 | 16                   | 45.9                 | 51.0                 |\n",
       "| Hawaii               | HI                   | West                 |  1360301             |    7                 |  4                   | 62.2                 | 30.0                 |\n",
       "| Idaho                | ID                   | West                 |  1567582             |   12                 |  4                   | 27.5                 | 59.3                 |\n",
       "| Illinois             | IL                   | North Central        | 12830632             |  364                 | 20                   | 55.8                 | 38.8                 |\n",
       "| Indiana              | IN                   | North Central        |  6483802             |  142                 | 11                   | 37.8                 | 56.9                 |\n",
       "| Iowa                 | IA                   | North Central        |  3046355             |   21                 |  6                   | 41.7                 | 51.1                 |\n",
       "| Kansas               | KS                   | North Central        |  2853118             |   63                 |  6                   | 36.1                 | 56.7                 |\n",
       "| Kentucky             | KY                   | South                |  4339367             |  116                 |  8                   | 32.7                 | 62.5                 |\n",
       "| Louisiana            | LA                   | South                |  4533372             |  351                 |  8                   | 38.4                 | 58.1                 |\n",
       "| Maine                | ME                   | Northeast            |  1328361             |   11                 |  4                   | 48.0                 | 45.0                 |\n",
       "| Maryland             | MD                   | South                |  5773552             |  293                 | 10                   | 60.3                 | 33.9                 |\n",
       "| Massachusetts        | MA                   | Northeast            |  6547629             |  118                 | 11                   | 60.0                 | 32.8                 |\n",
       "| Michigan             | MI                   | North Central        |  9883640             |  413                 | 16                   | 47.3                 | 47.5                 |\n",
       "| Minnesota            | MN                   | North Central        |  5303925             |   53                 | 10                   | 46.4                 | 44.9                 |\n",
       "| Mississippi          | MS                   | South                |  2967297             |  120                 |  6                   | 40.1                 | 57.9                 |\n",
       "| Missouri             | MO                   | North Central        |  5988927             |  321                 | 10                   | 38.1                 | 56.8                 |\n",
       "| Montana              | MT                   | West                 |   989415             |   12                 |  3                   | 35.9                 | 56.5                 |\n",
       "| Nebraska             | NE                   | North Central        |  1826341             |   32                 |  5                   | 34.3                 | 59.9                 |\n",
       "| Nevada               | NV                   | West                 |  2700551             |   84                 |  6                   | 47.9                 | 45.5                 |\n",
       "| New Hampshire        | NH                   | Northeast            |  1316470             |    5                 |  4                   | 46.8                 | 46.5                 |\n",
       "| New Jersey           | NJ                   | Northeast            |  8791894             |  246                 | 14                   | 55.5                 | 41.4                 |\n",
       "| New Mexico           | NM                   | West                 |  2059179             |   67                 |  5                   | 48.3                 | 40.0                 |\n",
       "| New York             | NY                   | Northeast            | 19378102             |  517                 | 29                   | 59.0                 | 36.5                 |\n",
       "| North Carolina       | NC                   | South                |  9535483             |  286                 | 15                   | 46.2                 | 49.8                 |\n",
       "| North Dakota         | ND                   | North Central        |   672591             |    4                 |  3                   | 27.2                 | 63.0                 |\n",
       "| Ohio                 | OH                   | North Central        | 11536504             |  310                 | 18                   | 43.5                 | 51.7                 |\n",
       "| Oklahoma             | OK                   | South                |  3751351             |  111                 |  7                   | 28.9                 | 65.3                 |\n",
       "| Oregon               | OR                   | West                 |  3831074             |   36                 |  7                   | 50.1                 | 39.1                 |\n",
       "| Pennsylvania         | PA                   | Northeast            | 12702379             |  457                 | 20                   | 47.9                 | 48.6                 |\n",
       "| Rhode Island         | RI                   | Northeast            |  1052567             |   16                 |  4                   | 54.4                 | 38.9                 |\n",
       "| South Carolina       | SC                   | South                |  4625364             |  207                 |  9                   | 40.7                 | 54.9                 |\n",
       "| South Dakota         | SD                   | North Central        |   814180             |    8                 |  3                   | 31.7                 | 61.5                 |\n",
       "| Tennessee            | TN                   | South                |  6346105             |  219                 | 11                   | 34.7                 | 60.7                 |\n",
       "| Texas                | TX                   | South                | 25145561             |  805                 | 38                   | 43.2                 | 52.2                 |\n",
       "| Utah                 | UT                   | West                 |  2763885             |   22                 |  6                   | 27.5                 | 45.5                 |\n",
       "| Vermont              | VT                   | Northeast            |   625741             |    2                 |  3                   | 56.7                 | 30.3                 |\n",
       "| Virginia             | VA                   | South                |  8001024             |  250                 | 13                   | 49.8                 | 44.4                 |\n",
       "| Washington           | WA                   | West                 |  6724540             |   93                 | 12                   | 54.3                 | 38.1                 |\n",
       "| West Virginia        | WV                   | South                |  1852994             |   27                 |  5                   | 26.5                 | 68.6                 |\n",
       "| Wisconsin            | WI                   | North Central        |  5686986             |   97                 | 10                   | 46.5                 | 47.2                 |\n",
       "| Wyoming              | WY                   | West                 |   563626             |    5                 |  3                   | 21.9                 | 68.2                 |\n",
       "\n"
      ],
      "text/plain": [
       "   state                abb region        population total cv clinton trump\n",
       "1  Alabama              AL  South          4779736    135   9 34.4    62.1 \n",
       "2  Alaska               AK  West            710231     19   3 36.6    51.3 \n",
       "3  Arizona              AZ  West           6392017    232  11 45.1    48.7 \n",
       "4  Arkansas             AR  South          2915918     93   6 33.7    60.6 \n",
       "5  California           CA  West          37253956   1257  55 61.7    31.6 \n",
       "6  Colorado             CO  West           5029196     65   9 48.2    43.3 \n",
       "7  Connecticut          CT  Northeast      3574097     97   7 54.6    40.9 \n",
       "8  Delaware             DE  South           897934     38   3 53.4    41.9 \n",
       "9  District of Columbia DC  South           601723     99   3 90.9     4.1 \n",
       "10 Florida              FL  South         19687653    669  29 47.8    49.0 \n",
       "11 Georgia              GA  South          9920000    376  16 45.9    51.0 \n",
       "12 Hawaii               HI  West           1360301      7   4 62.2    30.0 \n",
       "13 Idaho                ID  West           1567582     12   4 27.5    59.3 \n",
       "14 Illinois             IL  North Central 12830632    364  20 55.8    38.8 \n",
       "15 Indiana              IN  North Central  6483802    142  11 37.8    56.9 \n",
       "16 Iowa                 IA  North Central  3046355     21   6 41.7    51.1 \n",
       "17 Kansas               KS  North Central  2853118     63   6 36.1    56.7 \n",
       "18 Kentucky             KY  South          4339367    116   8 32.7    62.5 \n",
       "19 Louisiana            LA  South          4533372    351   8 38.4    58.1 \n",
       "20 Maine                ME  Northeast      1328361     11   4 48.0    45.0 \n",
       "21 Maryland             MD  South          5773552    293  10 60.3    33.9 \n",
       "22 Massachusetts        MA  Northeast      6547629    118  11 60.0    32.8 \n",
       "23 Michigan             MI  North Central  9883640    413  16 47.3    47.5 \n",
       "24 Minnesota            MN  North Central  5303925     53  10 46.4    44.9 \n",
       "25 Mississippi          MS  South          2967297    120   6 40.1    57.9 \n",
       "26 Missouri             MO  North Central  5988927    321  10 38.1    56.8 \n",
       "27 Montana              MT  West            989415     12   3 35.9    56.5 \n",
       "28 Nebraska             NE  North Central  1826341     32   5 34.3    59.9 \n",
       "29 Nevada               NV  West           2700551     84   6 47.9    45.5 \n",
       "30 New Hampshire        NH  Northeast      1316470      5   4 46.8    46.5 \n",
       "31 New Jersey           NJ  Northeast      8791894    246  14 55.5    41.4 \n",
       "32 New Mexico           NM  West           2059179     67   5 48.3    40.0 \n",
       "33 New York             NY  Northeast     19378102    517  29 59.0    36.5 \n",
       "34 North Carolina       NC  South          9535483    286  15 46.2    49.8 \n",
       "35 North Dakota         ND  North Central   672591      4   3 27.2    63.0 \n",
       "36 Ohio                 OH  North Central 11536504    310  18 43.5    51.7 \n",
       "37 Oklahoma             OK  South          3751351    111   7 28.9    65.3 \n",
       "38 Oregon               OR  West           3831074     36   7 50.1    39.1 \n",
       "39 Pennsylvania         PA  Northeast     12702379    457  20 47.9    48.6 \n",
       "40 Rhode Island         RI  Northeast      1052567     16   4 54.4    38.9 \n",
       "41 South Carolina       SC  South          4625364    207   9 40.7    54.9 \n",
       "42 South Dakota         SD  North Central   814180      8   3 31.7    61.5 \n",
       "43 Tennessee            TN  South          6346105    219  11 34.7    60.7 \n",
       "44 Texas                TX  South         25145561    805  38 43.2    52.2 \n",
       "45 Utah                 UT  West           2763885     22   6 27.5    45.5 \n",
       "46 Vermont              VT  Northeast       625741      2   3 56.7    30.3 \n",
       "47 Virginia             VA  South          8001024    250  13 49.8    44.4 \n",
       "48 Washington           WA  West           6724540     93  12 54.3    38.1 \n",
       "49 West Virginia        WV  South          1852994     27   5 26.5    68.6 \n",
       "50 Wisconsin            WI  North Central  5686986     97  10 46.5    47.2 \n",
       "51 Wyoming              WY  West            563626      5   3 21.9    68.2 "
      ]
     },
     "metadata": {},
     "output_type": "display_data"
    }
   ],
   "source": [
    "tab"
   ]
  },
  {
   "cell_type": "code",
   "execution_count": 12,
   "metadata": {},
   "outputs": [
    {
     "data": {
      "text/html": [
       "0"
      ],
      "text/latex": [
       "0"
      ],
      "text/markdown": [
       "0"
      ],
      "text/plain": [
       "[1] 0"
      ]
     },
     "metadata": {},
     "output_type": "display_data"
    }
   ],
   "source": [
    "sum(is.na(tab))"
   ]
  },
  {
   "cell_type": "code",
   "execution_count": 13,
   "metadata": {},
   "outputs": [
    {
     "name": "stderr",
     "output_type": "stream",
     "text": [
      "Warning message:\n",
      "\"package 'ggrepel' was built under R version 3.6.3\""
     ]
    }
   ],
   "source": [
    "library(ggrepel)"
   ]
  },
  {
   "cell_type": "markdown",
   "metadata": {},
   "source": [
    "In practice, it is not always the case that each row in one table has a matching row in the other. For this reason, we have several versions of join. To illustrate this challenge, we will take subsets of the tables above. We create the tables tab1 and tab2 so that they have some states in common but not all:"
   ]
  },
  {
   "cell_type": "code",
   "execution_count": 16,
   "metadata": {},
   "outputs": [],
   "source": [
    "tab_1 <- slice(murders,1:6)%>%\n",
    "select(state,population)"
   ]
  },
  {
   "cell_type": "code",
   "execution_count": 17,
   "metadata": {},
   "outputs": [
    {
     "data": {
      "text/html": [
       "<table>\n",
       "<thead><tr><th scope=col>state</th><th scope=col>population</th></tr></thead>\n",
       "<tbody>\n",
       "\t<tr><td>Alabama   </td><td> 4779736  </td></tr>\n",
       "\t<tr><td>Alaska    </td><td>  710231  </td></tr>\n",
       "\t<tr><td>Arizona   </td><td> 6392017  </td></tr>\n",
       "\t<tr><td>Arkansas  </td><td> 2915918  </td></tr>\n",
       "\t<tr><td>California</td><td>37253956  </td></tr>\n",
       "\t<tr><td>Colorado  </td><td> 5029196  </td></tr>\n",
       "</tbody>\n",
       "</table>\n"
      ],
      "text/latex": [
       "\\begin{tabular}{r|ll}\n",
       " state & population\\\\\n",
       "\\hline\n",
       "\t Alabama    &  4779736  \\\\\n",
       "\t Alaska     &   710231  \\\\\n",
       "\t Arizona    &  6392017  \\\\\n",
       "\t Arkansas   &  2915918  \\\\\n",
       "\t California & 37253956  \\\\\n",
       "\t Colorado   &  5029196  \\\\\n",
       "\\end{tabular}\n"
      ],
      "text/markdown": [
       "\n",
       "| state | population |\n",
       "|---|---|\n",
       "| Alabama    |  4779736   |\n",
       "| Alaska     |   710231   |\n",
       "| Arizona    |  6392017   |\n",
       "| Arkansas   |  2915918   |\n",
       "| California | 37253956   |\n",
       "| Colorado   |  5029196   |\n",
       "\n"
      ],
      "text/plain": [
       "  state      population\n",
       "1 Alabama     4779736  \n",
       "2 Alaska       710231  \n",
       "3 Arizona     6392017  \n",
       "4 Arkansas    2915918  \n",
       "5 California 37253956  \n",
       "6 Colorado    5029196  "
      ]
     },
     "metadata": {},
     "output_type": "display_data"
    }
   ],
   "source": [
    "tab_1"
   ]
  },
  {
   "cell_type": "code",
   "execution_count": 19,
   "metadata": {},
   "outputs": [],
   "source": [
    "tab_2 <- results_us_election_2016 %>%\n",
    "filter(state%in%c(\"Alabama\",\"Alaska\",\"Arizona\",\"Arkansas\",\"California\",\"Delaware\"))%>%\n",
    "select(state,electoral_votes) %>%\n",
    "rename(ev = electoral_votes)"
   ]
  },
  {
   "cell_type": "code",
   "execution_count": 20,
   "metadata": {},
   "outputs": [
    {
     "data": {
      "text/html": [
       "<table>\n",
       "<thead><tr><th scope=col>state</th><th scope=col>ev</th></tr></thead>\n",
       "<tbody>\n",
       "\t<tr><td>California</td><td>55        </td></tr>\n",
       "\t<tr><td>Arizona   </td><td>11        </td></tr>\n",
       "\t<tr><td>Alabama   </td><td> 9        </td></tr>\n",
       "\t<tr><td>Arkansas  </td><td> 6        </td></tr>\n",
       "\t<tr><td>Alaska    </td><td> 3        </td></tr>\n",
       "\t<tr><td>Delaware  </td><td> 3        </td></tr>\n",
       "</tbody>\n",
       "</table>\n"
      ],
      "text/latex": [
       "\\begin{tabular}{r|ll}\n",
       " state & ev\\\\\n",
       "\\hline\n",
       "\t California & 55        \\\\\n",
       "\t Arizona    & 11        \\\\\n",
       "\t Alabama    &  9        \\\\\n",
       "\t Arkansas   &  6        \\\\\n",
       "\t Alaska     &  3        \\\\\n",
       "\t Delaware   &  3        \\\\\n",
       "\\end{tabular}\n"
      ],
      "text/markdown": [
       "\n",
       "| state | ev |\n",
       "|---|---|\n",
       "| California | 55         |\n",
       "| Arizona    | 11         |\n",
       "| Alabama    |  9         |\n",
       "| Arkansas   |  6         |\n",
       "| Alaska     |  3         |\n",
       "| Delaware   |  3         |\n",
       "\n"
      ],
      "text/plain": [
       "  state      ev\n",
       "1 California 55\n",
       "2 Arizona    11\n",
       "3 Alabama     9\n",
       "4 Arkansas    6\n",
       "5 Alaska      3\n",
       "6 Delaware    3"
      ]
     },
     "metadata": {},
     "output_type": "display_data"
    }
   ],
   "source": [
    "tab_2"
   ]
  },
  {
   "cell_type": "code",
   "execution_count": 21,
   "metadata": {},
   "outputs": [
    {
     "data": {
      "text/html": [
       "<table>\n",
       "<thead><tr><th scope=col>state</th><th scope=col>population</th><th scope=col>ev</th></tr></thead>\n",
       "<tbody>\n",
       "\t<tr><td>Alabama   </td><td> 4779736  </td><td> 9        </td></tr>\n",
       "\t<tr><td>Alaska    </td><td>  710231  </td><td> 3        </td></tr>\n",
       "\t<tr><td>Arizona   </td><td> 6392017  </td><td>11        </td></tr>\n",
       "\t<tr><td>Arkansas  </td><td> 2915918  </td><td> 6        </td></tr>\n",
       "\t<tr><td>California</td><td>37253956  </td><td>55        </td></tr>\n",
       "\t<tr><td>Colorado  </td><td> 5029196  </td><td>NA        </td></tr>\n",
       "</tbody>\n",
       "</table>\n"
      ],
      "text/latex": [
       "\\begin{tabular}{r|lll}\n",
       " state & population & ev\\\\\n",
       "\\hline\n",
       "\t Alabama    &  4779736   &  9        \\\\\n",
       "\t Alaska     &   710231   &  3        \\\\\n",
       "\t Arizona    &  6392017   & 11        \\\\\n",
       "\t Arkansas   &  2915918   &  6        \\\\\n",
       "\t California & 37253956   & 55        \\\\\n",
       "\t Colorado   &  5029196   & NA        \\\\\n",
       "\\end{tabular}\n"
      ],
      "text/markdown": [
       "\n",
       "| state | population | ev |\n",
       "|---|---|---|\n",
       "| Alabama    |  4779736   |  9         |\n",
       "| Alaska     |   710231   |  3         |\n",
       "| Arizona    |  6392017   | 11         |\n",
       "| Arkansas   |  2915918   |  6         |\n",
       "| California | 37253956   | 55         |\n",
       "| Colorado   |  5029196   | NA         |\n",
       "\n"
      ],
      "text/plain": [
       "  state      population ev\n",
       "1 Alabama     4779736    9\n",
       "2 Alaska       710231    3\n",
       "3 Arizona     6392017   11\n",
       "4 Arkansas    2915918    6\n",
       "5 California 37253956   55\n",
       "6 Colorado    5029196   NA"
      ]
     },
     "metadata": {},
     "output_type": "display_data"
    }
   ],
   "source": [
    "left_join(tab_1,tab_2,by=\"state\")"
   ]
  },
  {
   "cell_type": "code",
   "execution_count": 22,
   "metadata": {},
   "outputs": [
    {
     "data": {
      "text/html": [
       "<table>\n",
       "<thead><tr><th scope=col>state</th><th scope=col>population</th><th scope=col>ev</th></tr></thead>\n",
       "<tbody>\n",
       "\t<tr><td>Alabama   </td><td> 4779736  </td><td> 9        </td></tr>\n",
       "\t<tr><td>Alaska    </td><td>  710231  </td><td> 3        </td></tr>\n",
       "\t<tr><td>Arizona   </td><td> 6392017  </td><td>11        </td></tr>\n",
       "\t<tr><td>Arkansas  </td><td> 2915918  </td><td> 6        </td></tr>\n",
       "\t<tr><td>California</td><td>37253956  </td><td>55        </td></tr>\n",
       "\t<tr><td>Colorado  </td><td> 5029196  </td><td>NA        </td></tr>\n",
       "</tbody>\n",
       "</table>\n"
      ],
      "text/latex": [
       "\\begin{tabular}{r|lll}\n",
       " state & population & ev\\\\\n",
       "\\hline\n",
       "\t Alabama    &  4779736   &  9        \\\\\n",
       "\t Alaska     &   710231   &  3        \\\\\n",
       "\t Arizona    &  6392017   & 11        \\\\\n",
       "\t Arkansas   &  2915918   &  6        \\\\\n",
       "\t California & 37253956   & 55        \\\\\n",
       "\t Colorado   &  5029196   & NA        \\\\\n",
       "\\end{tabular}\n"
      ],
      "text/markdown": [
       "\n",
       "| state | population | ev |\n",
       "|---|---|---|\n",
       "| Alabama    |  4779736   |  9         |\n",
       "| Alaska     |   710231   |  3         |\n",
       "| Arizona    |  6392017   | 11         |\n",
       "| Arkansas   |  2915918   |  6         |\n",
       "| California | 37253956   | 55         |\n",
       "| Colorado   |  5029196   | NA         |\n",
       "\n"
      ],
      "text/plain": [
       "  state      population ev\n",
       "1 Alabama     4779736    9\n",
       "2 Alaska       710231    3\n",
       "3 Arizona     6392017   11\n",
       "4 Arkansas    2915918    6\n",
       "5 California 37253956   55\n",
       "6 Colorado    5029196   NA"
      ]
     },
     "metadata": {},
     "output_type": "display_data"
    }
   ],
   "source": [
    "tab_1 %>%\n",
    "left_join(tab_2,by=\"state\")"
   ]
  },
  {
   "cell_type": "markdown",
   "metadata": {},
   "source": [
    "# Right join"
   ]
  },
  {
   "cell_type": "code",
   "execution_count": 23,
   "metadata": {},
   "outputs": [
    {
     "data": {
      "text/html": [
       "<table>\n",
       "<thead><tr><th scope=col>state</th><th scope=col>population</th><th scope=col>ev</th></tr></thead>\n",
       "<tbody>\n",
       "\t<tr><td>Alabama   </td><td> 4779736  </td><td> 9        </td></tr>\n",
       "\t<tr><td>Alaska    </td><td>  710231  </td><td> 3        </td></tr>\n",
       "\t<tr><td>Arizona   </td><td> 6392017  </td><td>11        </td></tr>\n",
       "\t<tr><td>Arkansas  </td><td> 2915918  </td><td> 6        </td></tr>\n",
       "\t<tr><td>California</td><td>37253956  </td><td>55        </td></tr>\n",
       "\t<tr><td>Delaware  </td><td>      NA  </td><td> 3        </td></tr>\n",
       "</tbody>\n",
       "</table>\n"
      ],
      "text/latex": [
       "\\begin{tabular}{r|lll}\n",
       " state & population & ev\\\\\n",
       "\\hline\n",
       "\t Alabama    &  4779736   &  9        \\\\\n",
       "\t Alaska     &   710231   &  3        \\\\\n",
       "\t Arizona    &  6392017   & 11        \\\\\n",
       "\t Arkansas   &  2915918   &  6        \\\\\n",
       "\t California & 37253956   & 55        \\\\\n",
       "\t Delaware   &       NA   &  3        \\\\\n",
       "\\end{tabular}\n"
      ],
      "text/markdown": [
       "\n",
       "| state | population | ev |\n",
       "|---|---|---|\n",
       "| Alabama    |  4779736   |  9         |\n",
       "| Alaska     |   710231   |  3         |\n",
       "| Arizona    |  6392017   | 11         |\n",
       "| Arkansas   |  2915918   |  6         |\n",
       "| California | 37253956   | 55         |\n",
       "| Delaware   |       NA   |  3         |\n",
       "\n"
      ],
      "text/plain": [
       "  state      population ev\n",
       "1 Alabama     4779736    9\n",
       "2 Alaska       710231    3\n",
       "3 Arizona     6392017   11\n",
       "4 Arkansas    2915918    6\n",
       "5 California 37253956   55\n",
       "6 Delaware         NA    3"
      ]
     },
     "metadata": {},
     "output_type": "display_data"
    }
   ],
   "source": [
    "tab_1 %>% right_join(tab_2,by=\"state\")"
   ]
  },
  {
   "cell_type": "markdown",
   "metadata": {},
   "source": [
    "# Inner join"
   ]
  },
  {
   "cell_type": "code",
   "execution_count": 24,
   "metadata": {},
   "outputs": [
    {
     "data": {
      "text/html": [
       "<table>\n",
       "<thead><tr><th scope=col>state</th><th scope=col>population</th><th scope=col>ev</th></tr></thead>\n",
       "<tbody>\n",
       "\t<tr><td>Alabama   </td><td> 4779736  </td><td> 9        </td></tr>\n",
       "\t<tr><td>Alaska    </td><td>  710231  </td><td> 3        </td></tr>\n",
       "\t<tr><td>Arizona   </td><td> 6392017  </td><td>11        </td></tr>\n",
       "\t<tr><td>Arkansas  </td><td> 2915918  </td><td> 6        </td></tr>\n",
       "\t<tr><td>California</td><td>37253956  </td><td>55        </td></tr>\n",
       "</tbody>\n",
       "</table>\n"
      ],
      "text/latex": [
       "\\begin{tabular}{r|lll}\n",
       " state & population & ev\\\\\n",
       "\\hline\n",
       "\t Alabama    &  4779736   &  9        \\\\\n",
       "\t Alaska     &   710231   &  3        \\\\\n",
       "\t Arizona    &  6392017   & 11        \\\\\n",
       "\t Arkansas   &  2915918   &  6        \\\\\n",
       "\t California & 37253956   & 55        \\\\\n",
       "\\end{tabular}\n"
      ],
      "text/markdown": [
       "\n",
       "| state | population | ev |\n",
       "|---|---|---|\n",
       "| Alabama    |  4779736   |  9         |\n",
       "| Alaska     |   710231   |  3         |\n",
       "| Arizona    |  6392017   | 11         |\n",
       "| Arkansas   |  2915918   |  6         |\n",
       "| California | 37253956   | 55         |\n",
       "\n"
      ],
      "text/plain": [
       "  state      population ev\n",
       "1 Alabama     4779736    9\n",
       "2 Alaska       710231    3\n",
       "3 Arizona     6392017   11\n",
       "4 Arkansas    2915918    6\n",
       "5 California 37253956   55"
      ]
     },
     "metadata": {},
     "output_type": "display_data"
    }
   ],
   "source": [
    "inner_join(tab_1,tab_2,by=\"state\")"
   ]
  },
  {
   "cell_type": "markdown",
   "metadata": {},
   "source": [
    "# Full join"
   ]
  },
  {
   "cell_type": "code",
   "execution_count": 25,
   "metadata": {},
   "outputs": [
    {
     "data": {
      "text/html": [
       "<table>\n",
       "<thead><tr><th scope=col>state</th><th scope=col>population</th><th scope=col>ev</th></tr></thead>\n",
       "<tbody>\n",
       "\t<tr><td>Alabama   </td><td> 4779736  </td><td> 9        </td></tr>\n",
       "\t<tr><td>Alaska    </td><td>  710231  </td><td> 3        </td></tr>\n",
       "\t<tr><td>Arizona   </td><td> 6392017  </td><td>11        </td></tr>\n",
       "\t<tr><td>Arkansas  </td><td> 2915918  </td><td> 6        </td></tr>\n",
       "\t<tr><td>California</td><td>37253956  </td><td>55        </td></tr>\n",
       "\t<tr><td>Colorado  </td><td> 5029196  </td><td>NA        </td></tr>\n",
       "\t<tr><td>Delaware  </td><td>      NA  </td><td> 3        </td></tr>\n",
       "</tbody>\n",
       "</table>\n"
      ],
      "text/latex": [
       "\\begin{tabular}{r|lll}\n",
       " state & population & ev\\\\\n",
       "\\hline\n",
       "\t Alabama    &  4779736   &  9        \\\\\n",
       "\t Alaska     &   710231   &  3        \\\\\n",
       "\t Arizona    &  6392017   & 11        \\\\\n",
       "\t Arkansas   &  2915918   &  6        \\\\\n",
       "\t California & 37253956   & 55        \\\\\n",
       "\t Colorado   &  5029196   & NA        \\\\\n",
       "\t Delaware   &       NA   &  3        \\\\\n",
       "\\end{tabular}\n"
      ],
      "text/markdown": [
       "\n",
       "| state | population | ev |\n",
       "|---|---|---|\n",
       "| Alabama    |  4779736   |  9         |\n",
       "| Alaska     |   710231   |  3         |\n",
       "| Arizona    |  6392017   | 11         |\n",
       "| Arkansas   |  2915918   |  6         |\n",
       "| California | 37253956   | 55         |\n",
       "| Colorado   |  5029196   | NA         |\n",
       "| Delaware   |       NA   |  3         |\n",
       "\n"
      ],
      "text/plain": [
       "  state      population ev\n",
       "1 Alabama     4779736    9\n",
       "2 Alaska       710231    3\n",
       "3 Arizona     6392017   11\n",
       "4 Arkansas    2915918    6\n",
       "5 California 37253956   55\n",
       "6 Colorado    5029196   NA\n",
       "7 Delaware         NA    3"
      ]
     },
     "metadata": {},
     "output_type": "display_data"
    }
   ],
   "source": [
    "full_join(tab_1,tab_2,by=\"state\")"
   ]
  },
  {
   "cell_type": "markdown",
   "metadata": {},
   "source": [
    "# Semi join"
   ]
  },
  {
   "cell_type": "code",
   "execution_count": 26,
   "metadata": {},
   "outputs": [
    {
     "data": {
      "text/html": [
       "<table>\n",
       "<thead><tr><th scope=col>state</th><th scope=col>population</th></tr></thead>\n",
       "<tbody>\n",
       "\t<tr><td>Alabama   </td><td> 4779736  </td></tr>\n",
       "\t<tr><td>Alaska    </td><td>  710231  </td></tr>\n",
       "\t<tr><td>Arizona   </td><td> 6392017  </td></tr>\n",
       "\t<tr><td>Arkansas  </td><td> 2915918  </td></tr>\n",
       "\t<tr><td>California</td><td>37253956  </td></tr>\n",
       "</tbody>\n",
       "</table>\n"
      ],
      "text/latex": [
       "\\begin{tabular}{r|ll}\n",
       " state & population\\\\\n",
       "\\hline\n",
       "\t Alabama    &  4779736  \\\\\n",
       "\t Alaska     &   710231  \\\\\n",
       "\t Arizona    &  6392017  \\\\\n",
       "\t Arkansas   &  2915918  \\\\\n",
       "\t California & 37253956  \\\\\n",
       "\\end{tabular}\n"
      ],
      "text/markdown": [
       "\n",
       "| state | population |\n",
       "|---|---|\n",
       "| Alabama    |  4779736   |\n",
       "| Alaska     |   710231   |\n",
       "| Arizona    |  6392017   |\n",
       "| Arkansas   |  2915918   |\n",
       "| California | 37253956   |\n",
       "\n"
      ],
      "text/plain": [
       "  state      population\n",
       "1 Alabama     4779736  \n",
       "2 Alaska       710231  \n",
       "3 Arizona     6392017  \n",
       "4 Arkansas    2915918  \n",
       "5 California 37253956  "
      ]
     },
     "metadata": {},
     "output_type": "display_data"
    }
   ],
   "source": [
    "semi_join(tab_1,tab_2,by=\"state\")"
   ]
  },
  {
   "cell_type": "markdown",
   "metadata": {},
   "source": [
    "# Anti join"
   ]
  },
  {
   "cell_type": "code",
   "execution_count": 27,
   "metadata": {},
   "outputs": [
    {
     "data": {
      "text/html": [
       "<table>\n",
       "<thead><tr><th scope=col>state</th><th scope=col>population</th></tr></thead>\n",
       "<tbody>\n",
       "\t<tr><td>Colorado</td><td>5029196 </td></tr>\n",
       "</tbody>\n",
       "</table>\n"
      ],
      "text/latex": [
       "\\begin{tabular}{r|ll}\n",
       " state & population\\\\\n",
       "\\hline\n",
       "\t Colorado & 5029196 \\\\\n",
       "\\end{tabular}\n"
      ],
      "text/markdown": [
       "\n",
       "| state | population |\n",
       "|---|---|\n",
       "| Colorado | 5029196  |\n",
       "\n"
      ],
      "text/plain": [
       "  state    population\n",
       "1 Colorado 5029196   "
      ]
     },
     "metadata": {},
     "output_type": "display_data"
    }
   ],
   "source": [
    "anti_join(tab_1,tab_2,by=\"state\")"
   ]
  },
  {
   "cell_type": "code",
   "execution_count": 28,
   "metadata": {},
   "outputs": [
    {
     "data": {
      "image/png": "[encoded data removed]"
     },
     "metadata": {
      "height": 200,
      "width": 700
     },
     "output_type": "display_data"
    }
   ],
   "source": [
    "library(\"IRdisplay\")\n",
    "display_png(file='kjn.png',width = 700,height=200)"
   ]
  },
  {
   "cell_type": "markdown",
   "metadata": {},
   "source": [
    "# Binding"
   ]
  },
  {
   "cell_type": "markdown",
   "metadata": {},
   "source": [
    " Unlike the join function, the binding functions do not try to match by a variable, but instead simply combine datasets. If the datasets don’t match by the appropriate dimensions, one obtains an error."
   ]
  },
  {
   "cell_type": "markdown",
   "metadata": {},
   "source": [
    "## Binding columns\n",
    "The dplyr function bind_cols binds two objects by making them columns in a tibble. For example, we quickly want to make a data frame consisting of numbers we can use"
   ]
  },
  {
   "cell_type": "code",
   "execution_count": 29,
   "metadata": {},
   "outputs": [
    {
     "data": {
      "text/html": [
       "<table>\n",
       "<thead><tr><th scope=col>a</th><th scope=col>b</th></tr></thead>\n",
       "<tbody>\n",
       "\t<tr><td>1</td><td>4</td></tr>\n",
       "\t<tr><td>2</td><td>5</td></tr>\n",
       "\t<tr><td>3</td><td>6</td></tr>\n",
       "</tbody>\n",
       "</table>\n"
      ],
      "text/latex": [
       "\\begin{tabular}{r|ll}\n",
       " a & b\\\\\n",
       "\\hline\n",
       "\t 1 & 4\\\\\n",
       "\t 2 & 5\\\\\n",
       "\t 3 & 6\\\\\n",
       "\\end{tabular}\n"
      ],
      "text/markdown": [
       "\n",
       "| a | b |\n",
       "|---|---|\n",
       "| 1 | 4 |\n",
       "| 2 | 5 |\n",
       "| 3 | 6 |\n",
       "\n"
      ],
      "text/plain": [
       "  a b\n",
       "1 1 4\n",
       "2 2 5\n",
       "3 3 6"
      ]
     },
     "metadata": {},
     "output_type": "display_data"
    }
   ],
   "source": [
    "bind_cols(a = 1:3, b= 4:6)"
   ]
  },
  {
   "cell_type": "markdown",
   "metadata": {},
   "source": [
    "Note that there is an R-base function cbind with the exact same functionality. An important difference is that cbind can create different types of objects, while bind_cols always produces a data frame."
   ]
  },
  {
   "cell_type": "markdown",
   "metadata": {},
   "source": [
    "bind_cols can also bind two different data frames. For example, here we break up the tab data frame and then bind them back together:"
   ]
  },
  {
   "cell_type": "code",
   "execution_count": 31,
   "metadata": {},
   "outputs": [],
   "source": [
    "tab_1 <- tab[,1:3]\n",
    "tab_2 <- tab[,4:6]\n",
    "tab_3 <- tab[,7:8]"
   ]
  },
  {
   "cell_type": "code",
   "execution_count": 32,
   "metadata": {},
   "outputs": [
    {
     "data": {
      "text/html": [
       "<table>\n",
       "<thead><tr><th scope=col>state</th><th scope=col>abb</th><th scope=col>region</th><th scope=col>population</th><th scope=col>total</th><th scope=col>cv</th><th scope=col>clinton</th><th scope=col>trump</th></tr></thead>\n",
       "<tbody>\n",
       "\t<tr><td>Alabama   </td><td>AL        </td><td>South     </td><td> 4779736  </td><td> 135      </td><td> 9        </td><td>34.4      </td><td>62.1      </td></tr>\n",
       "\t<tr><td>Alaska    </td><td>AK        </td><td>West      </td><td>  710231  </td><td>  19      </td><td> 3        </td><td>36.6      </td><td>51.3      </td></tr>\n",
       "\t<tr><td>Arizona   </td><td>AZ        </td><td>West      </td><td> 6392017  </td><td> 232      </td><td>11        </td><td>45.1      </td><td>48.7      </td></tr>\n",
       "\t<tr><td>Arkansas  </td><td>AR        </td><td>South     </td><td> 2915918  </td><td>  93      </td><td> 6        </td><td>33.7      </td><td>60.6      </td></tr>\n",
       "\t<tr><td>California</td><td>CA        </td><td>West      </td><td>37253956  </td><td>1257      </td><td>55        </td><td>61.7      </td><td>31.6      </td></tr>\n",
       "\t<tr><td>Colorado  </td><td>CO        </td><td>West      </td><td> 5029196  </td><td>  65      </td><td> 9        </td><td>48.2      </td><td>43.3      </td></tr>\n",
       "</tbody>\n",
       "</table>\n"
      ],
      "text/latex": [
       "\\begin{tabular}{r|llllllll}\n",
       " state & abb & region & population & total & cv & clinton & trump\\\\\n",
       "\\hline\n",
       "\t Alabama    & AL         & South      &  4779736   &  135       &  9         & 34.4       & 62.1      \\\\\n",
       "\t Alaska     & AK         & West       &   710231   &   19       &  3         & 36.6       & 51.3      \\\\\n",
       "\t Arizona    & AZ         & West       &  6392017   &  232       & 11         & 45.1       & 48.7      \\\\\n",
       "\t Arkansas   & AR         & South      &  2915918   &   93       &  6         & 33.7       & 60.6      \\\\\n",
       "\t California & CA         & West       & 37253956   & 1257       & 55         & 61.7       & 31.6      \\\\\n",
       "\t Colorado   & CO         & West       &  5029196   &   65       &  9         & 48.2       & 43.3      \\\\\n",
       "\\end{tabular}\n"
      ],
      "text/markdown": [
       "\n",
       "| state | abb | region | population | total | cv | clinton | trump |\n",
       "|---|---|---|---|---|---|---|---|\n",
       "| Alabama    | AL         | South      |  4779736   |  135       |  9         | 34.4       | 62.1       |\n",
       "| Alaska     | AK         | West       |   710231   |   19       |  3         | 36.6       | 51.3       |\n",
       "| Arizona    | AZ         | West       |  6392017   |  232       | 11         | 45.1       | 48.7       |\n",
       "| Arkansas   | AR         | South      |  2915918   |   93       |  6         | 33.7       | 60.6       |\n",
       "| California | CA         | West       | 37253956   | 1257       | 55         | 61.7       | 31.6       |\n",
       "| Colorado   | CO         | West       |  5029196   |   65       |  9         | 48.2       | 43.3       |\n",
       "\n"
      ],
      "text/plain": [
       "  state      abb region population total cv clinton trump\n",
       "1 Alabama    AL  South   4779736    135   9 34.4    62.1 \n",
       "2 Alaska     AK  West     710231     19   3 36.6    51.3 \n",
       "3 Arizona    AZ  West    6392017    232  11 45.1    48.7 \n",
       "4 Arkansas   AR  South   2915918     93   6 33.7    60.6 \n",
       "5 California CA  West   37253956   1257  55 61.7    31.6 \n",
       "6 Colorado   CO  West    5029196     65   9 48.2    43.3 "
      ]
     },
     "metadata": {},
     "output_type": "display_data"
    }
   ],
   "source": [
    "new_tab <- bind_cols(tab_1,tab_2,tab_3)\n",
    "head(new_tab)"
   ]
  },
  {
   "cell_type": "code",
   "execution_count": 33,
   "metadata": {},
   "outputs": [
    {
     "data": {
      "text/html": [
       "<table>\n",
       "<thead><tr><th scope=col>state</th><th scope=col>abb</th><th scope=col>region</th><th scope=col>population</th><th scope=col>total</th><th scope=col>cv</th><th scope=col>clinton</th><th scope=col>trump</th></tr></thead>\n",
       "<tbody>\n",
       "\t<tr><td>Alabama             </td><td>AL                  </td><td>South               </td><td> 4779736            </td><td> 135                </td><td> 9                  </td><td>34.4                </td><td>62.1                </td></tr>\n",
       "\t<tr><td>Alaska              </td><td>AK                  </td><td>West                </td><td>  710231            </td><td>  19                </td><td> 3                  </td><td>36.6                </td><td>51.3                </td></tr>\n",
       "\t<tr><td>Arizona             </td><td>AZ                  </td><td>West                </td><td> 6392017            </td><td> 232                </td><td>11                  </td><td>45.1                </td><td>48.7                </td></tr>\n",
       "\t<tr><td>Arkansas            </td><td>AR                  </td><td>South               </td><td> 2915918            </td><td>  93                </td><td> 6                  </td><td>33.7                </td><td>60.6                </td></tr>\n",
       "\t<tr><td>California          </td><td>CA                  </td><td>West                </td><td>37253956            </td><td>1257                </td><td>55                  </td><td>61.7                </td><td>31.6                </td></tr>\n",
       "\t<tr><td>Colorado            </td><td>CO                  </td><td>West                </td><td> 5029196            </td><td>  65                </td><td> 9                  </td><td>48.2                </td><td>43.3                </td></tr>\n",
       "\t<tr><td>Connecticut         </td><td>CT                  </td><td>Northeast           </td><td> 3574097            </td><td>  97                </td><td> 7                  </td><td>54.6                </td><td>40.9                </td></tr>\n",
       "\t<tr><td>Delaware            </td><td>DE                  </td><td>South               </td><td>  897934            </td><td>  38                </td><td> 3                  </td><td>53.4                </td><td>41.9                </td></tr>\n",
       "\t<tr><td>District of Columbia</td><td>DC                  </td><td>South               </td><td>  601723            </td><td>  99                </td><td> 3                  </td><td>90.9                </td><td> 4.1                </td></tr>\n",
       "\t<tr><td>Florida             </td><td>FL                  </td><td>South               </td><td>19687653            </td><td> 669                </td><td>29                  </td><td>47.8                </td><td>49.0                </td></tr>\n",
       "\t<tr><td>Georgia             </td><td>GA                  </td><td>South               </td><td> 9920000            </td><td> 376                </td><td>16                  </td><td>45.9                </td><td>51.0                </td></tr>\n",
       "\t<tr><td>Hawaii              </td><td>HI                  </td><td>West                </td><td> 1360301            </td><td>   7                </td><td> 4                  </td><td>62.2                </td><td>30.0                </td></tr>\n",
       "\t<tr><td>Idaho               </td><td>ID                  </td><td>West                </td><td> 1567582            </td><td>  12                </td><td> 4                  </td><td>27.5                </td><td>59.3                </td></tr>\n",
       "\t<tr><td>Illinois            </td><td>IL                  </td><td>North Central       </td><td>12830632            </td><td> 364                </td><td>20                  </td><td>55.8                </td><td>38.8                </td></tr>\n",
       "\t<tr><td>Indiana             </td><td>IN                  </td><td>North Central       </td><td> 6483802            </td><td> 142                </td><td>11                  </td><td>37.8                </td><td>56.9                </td></tr>\n",
       "\t<tr><td>Iowa                </td><td>IA                  </td><td>North Central       </td><td> 3046355            </td><td>  21                </td><td> 6                  </td><td>41.7                </td><td>51.1                </td></tr>\n",
       "\t<tr><td>Kansas              </td><td>KS                  </td><td>North Central       </td><td> 2853118            </td><td>  63                </td><td> 6                  </td><td>36.1                </td><td>56.7                </td></tr>\n",
       "\t<tr><td>Kentucky            </td><td>KY                  </td><td>South               </td><td> 4339367            </td><td> 116                </td><td> 8                  </td><td>32.7                </td><td>62.5                </td></tr>\n",
       "\t<tr><td>Louisiana           </td><td>LA                  </td><td>South               </td><td> 4533372            </td><td> 351                </td><td> 8                  </td><td>38.4                </td><td>58.1                </td></tr>\n",
       "\t<tr><td>Maine               </td><td>ME                  </td><td>Northeast           </td><td> 1328361            </td><td>  11                </td><td> 4                  </td><td>48.0                </td><td>45.0                </td></tr>\n",
       "\t<tr><td>Maryland            </td><td>MD                  </td><td>South               </td><td> 5773552            </td><td> 293                </td><td>10                  </td><td>60.3                </td><td>33.9                </td></tr>\n",
       "\t<tr><td>Massachusetts       </td><td>MA                  </td><td>Northeast           </td><td> 6547629            </td><td> 118                </td><td>11                  </td><td>60.0                </td><td>32.8                </td></tr>\n",
       "\t<tr><td>Michigan            </td><td>MI                  </td><td>North Central       </td><td> 9883640            </td><td> 413                </td><td>16                  </td><td>47.3                </td><td>47.5                </td></tr>\n",
       "\t<tr><td>Minnesota           </td><td>MN                  </td><td>North Central       </td><td> 5303925            </td><td>  53                </td><td>10                  </td><td>46.4                </td><td>44.9                </td></tr>\n",
       "\t<tr><td>Mississippi         </td><td>MS                  </td><td>South               </td><td> 2967297            </td><td> 120                </td><td> 6                  </td><td>40.1                </td><td>57.9                </td></tr>\n",
       "\t<tr><td>Missouri            </td><td>MO                  </td><td>North Central       </td><td> 5988927            </td><td> 321                </td><td>10                  </td><td>38.1                </td><td>56.8                </td></tr>\n",
       "\t<tr><td>Montana             </td><td>MT                  </td><td>West                </td><td>  989415            </td><td>  12                </td><td> 3                  </td><td>35.9                </td><td>56.5                </td></tr>\n",
       "\t<tr><td>Nebraska            </td><td>NE                  </td><td>North Central       </td><td> 1826341            </td><td>  32                </td><td> 5                  </td><td>34.3                </td><td>59.9                </td></tr>\n",
       "\t<tr><td>Nevada              </td><td>NV                  </td><td>West                </td><td> 2700551            </td><td>  84                </td><td> 6                  </td><td>47.9                </td><td>45.5                </td></tr>\n",
       "\t<tr><td>New Hampshire       </td><td>NH                  </td><td>Northeast           </td><td> 1316470            </td><td>   5                </td><td> 4                  </td><td>46.8                </td><td>46.5                </td></tr>\n",
       "\t<tr><td>New Jersey          </td><td>NJ                  </td><td>Northeast           </td><td> 8791894            </td><td> 246                </td><td>14                  </td><td>55.5                </td><td>41.4                </td></tr>\n",
       "\t<tr><td>New Mexico          </td><td>NM                  </td><td>West                </td><td> 2059179            </td><td>  67                </td><td> 5                  </td><td>48.3                </td><td>40.0                </td></tr>\n",
       "\t<tr><td>New York            </td><td>NY                  </td><td>Northeast           </td><td>19378102            </td><td> 517                </td><td>29                  </td><td>59.0                </td><td>36.5                </td></tr>\n",
       "\t<tr><td>North Carolina      </td><td>NC                  </td><td>South               </td><td> 9535483            </td><td> 286                </td><td>15                  </td><td>46.2                </td><td>49.8                </td></tr>\n",
       "\t<tr><td>North Dakota        </td><td>ND                  </td><td>North Central       </td><td>  672591            </td><td>   4                </td><td> 3                  </td><td>27.2                </td><td>63.0                </td></tr>\n",
       "\t<tr><td>Ohio                </td><td>OH                  </td><td>North Central       </td><td>11536504            </td><td> 310                </td><td>18                  </td><td>43.5                </td><td>51.7                </td></tr>\n",
       "\t<tr><td>Oklahoma            </td><td>OK                  </td><td>South               </td><td> 3751351            </td><td> 111                </td><td> 7                  </td><td>28.9                </td><td>65.3                </td></tr>\n",
       "\t<tr><td>Oregon              </td><td>OR                  </td><td>West                </td><td> 3831074            </td><td>  36                </td><td> 7                  </td><td>50.1                </td><td>39.1                </td></tr>\n",
       "\t<tr><td>Pennsylvania        </td><td>PA                  </td><td>Northeast           </td><td>12702379            </td><td> 457                </td><td>20                  </td><td>47.9                </td><td>48.6                </td></tr>\n",
       "\t<tr><td>Rhode Island        </td><td>RI                  </td><td>Northeast           </td><td> 1052567            </td><td>  16                </td><td> 4                  </td><td>54.4                </td><td>38.9                </td></tr>\n",
       "\t<tr><td>South Carolina      </td><td>SC                  </td><td>South               </td><td> 4625364            </td><td> 207                </td><td> 9                  </td><td>40.7                </td><td>54.9                </td></tr>\n",
       "\t<tr><td>South Dakota        </td><td>SD                  </td><td>North Central       </td><td>  814180            </td><td>   8                </td><td> 3                  </td><td>31.7                </td><td>61.5                </td></tr>\n",
       "\t<tr><td>Tennessee           </td><td>TN                  </td><td>South               </td><td> 6346105            </td><td> 219                </td><td>11                  </td><td>34.7                </td><td>60.7                </td></tr>\n",
       "\t<tr><td>Texas               </td><td>TX                  </td><td>South               </td><td>25145561            </td><td> 805                </td><td>38                  </td><td>43.2                </td><td>52.2                </td></tr>\n",
       "\t<tr><td>Utah                </td><td>UT                  </td><td>West                </td><td> 2763885            </td><td>  22                </td><td> 6                  </td><td>27.5                </td><td>45.5                </td></tr>\n",
       "\t<tr><td>Vermont             </td><td>VT                  </td><td>Northeast           </td><td>  625741            </td><td>   2                </td><td> 3                  </td><td>56.7                </td><td>30.3                </td></tr>\n",
       "\t<tr><td>Virginia            </td><td>VA                  </td><td>South               </td><td> 8001024            </td><td> 250                </td><td>13                  </td><td>49.8                </td><td>44.4                </td></tr>\n",
       "\t<tr><td>Washington          </td><td>WA                  </td><td>West                </td><td> 6724540            </td><td>  93                </td><td>12                  </td><td>54.3                </td><td>38.1                </td></tr>\n",
       "\t<tr><td>West Virginia       </td><td>WV                  </td><td>South               </td><td> 1852994            </td><td>  27                </td><td> 5                  </td><td>26.5                </td><td>68.6                </td></tr>\n",
       "\t<tr><td>Wisconsin           </td><td>WI                  </td><td>North Central       </td><td> 5686986            </td><td>  97                </td><td>10                  </td><td>46.5                </td><td>47.2                </td></tr>\n",
       "\t<tr><td>Wyoming             </td><td>WY                  </td><td>West                </td><td>  563626            </td><td>   5                </td><td> 3                  </td><td>21.9                </td><td>68.2                </td></tr>\n",
       "</tbody>\n",
       "</table>\n"
      ],
      "text/latex": [
       "\\begin{tabular}{r|llllllll}\n",
       " state & abb & region & population & total & cv & clinton & trump\\\\\n",
       "\\hline\n",
       "\t Alabama              & AL                   & South                &  4779736             &  135                 &  9                   & 34.4                 & 62.1                \\\\\n",
       "\t Alaska               & AK                   & West                 &   710231             &   19                 &  3                   & 36.6                 & 51.3                \\\\\n",
       "\t Arizona              & AZ                   & West                 &  6392017             &  232                 & 11                   & 45.1                 & 48.7                \\\\\n",
       "\t Arkansas             & AR                   & South                &  2915918             &   93                 &  6                   & 33.7                 & 60.6                \\\\\n",
       "\t California           & CA                   & West                 & 37253956             & 1257                 & 55                   & 61.7                 & 31.6                \\\\\n",
       "\t Colorado             & CO                   & West                 &  5029196             &   65                 &  9                   & 48.2                 & 43.3                \\\\\n",
       "\t Connecticut          & CT                   & Northeast            &  3574097             &   97                 &  7                   & 54.6                 & 40.9                \\\\\n",
       "\t Delaware             & DE                   & South                &   897934             &   38                 &  3                   & 53.4                 & 41.9                \\\\\n",
       "\t District of Columbia & DC                   & South                &   601723             &   99                 &  3                   & 90.9                 &  4.1                \\\\\n",
       "\t Florida              & FL                   & South                & 19687653             &  669                 & 29                   & 47.8                 & 49.0                \\\\\n",
       "\t Georgia              & GA                   & South                &  9920000             &  376                 & 16                   & 45.9                 & 51.0                \\\\\n",
       "\t Hawaii               & HI                   & West                 &  1360301             &    7                 &  4                   & 62.2                 & 30.0                \\\\\n",
       "\t Idaho                & ID                   & West                 &  1567582             &   12                 &  4                   & 27.5                 & 59.3                \\\\\n",
       "\t Illinois             & IL                   & North Central        & 12830632             &  364                 & 20                   & 55.8                 & 38.8                \\\\\n",
       "\t Indiana              & IN                   & North Central        &  6483802             &  142                 & 11                   & 37.8                 & 56.9                \\\\\n",
       "\t Iowa                 & IA                   & North Central        &  3046355             &   21                 &  6                   & 41.7                 & 51.1                \\\\\n",
       "\t Kansas               & KS                   & North Central        &  2853118             &   63                 &  6                   & 36.1                 & 56.7                \\\\\n",
       "\t Kentucky             & KY                   & South                &  4339367             &  116                 &  8                   & 32.7                 & 62.5                \\\\\n",
       "\t Louisiana            & LA                   & South                &  4533372             &  351                 &  8                   & 38.4                 & 58.1                \\\\\n",
       "\t Maine                & ME                   & Northeast            &  1328361             &   11                 &  4                   & 48.0                 & 45.0                \\\\\n",
       "\t Maryland             & MD                   & South                &  5773552             &  293                 & 10                   & 60.3                 & 33.9                \\\\\n",
       "\t Massachusetts        & MA                   & Northeast            &  6547629             &  118                 & 11                   & 60.0                 & 32.8                \\\\\n",
       "\t Michigan             & MI                   & North Central        &  9883640             &  413                 & 16                   & 47.3                 & 47.5                \\\\\n",
       "\t Minnesota            & MN                   & North Central        &  5303925             &   53                 & 10                   & 46.4                 & 44.9                \\\\\n",
       "\t Mississippi          & MS                   & South                &  2967297             &  120                 &  6                   & 40.1                 & 57.9                \\\\\n",
       "\t Missouri             & MO                   & North Central        &  5988927             &  321                 & 10                   & 38.1                 & 56.8                \\\\\n",
       "\t Montana              & MT                   & West                 &   989415             &   12                 &  3                   & 35.9                 & 56.5                \\\\\n",
       "\t Nebraska             & NE                   & North Central        &  1826341             &   32                 &  5                   & 34.3                 & 59.9                \\\\\n",
       "\t Nevada               & NV                   & West                 &  2700551             &   84                 &  6                   & 47.9                 & 45.5                \\\\\n",
       "\t New Hampshire        & NH                   & Northeast            &  1316470             &    5                 &  4                   & 46.8                 & 46.5                \\\\\n",
       "\t New Jersey           & NJ                   & Northeast            &  8791894             &  246                 & 14                   & 55.5                 & 41.4                \\\\\n",
       "\t New Mexico           & NM                   & West                 &  2059179             &   67                 &  5                   & 48.3                 & 40.0                \\\\\n",
       "\t New York             & NY                   & Northeast            & 19378102             &  517                 & 29                   & 59.0                 & 36.5                \\\\\n",
       "\t North Carolina       & NC                   & South                &  9535483             &  286                 & 15                   & 46.2                 & 49.8                \\\\\n",
       "\t North Dakota         & ND                   & North Central        &   672591             &    4                 &  3                   & 27.2                 & 63.0                \\\\\n",
       "\t Ohio                 & OH                   & North Central        & 11536504             &  310                 & 18                   & 43.5                 & 51.7                \\\\\n",
       "\t Oklahoma             & OK                   & South                &  3751351             &  111                 &  7                   & 28.9                 & 65.3                \\\\\n",
       "\t Oregon               & OR                   & West                 &  3831074             &   36                 &  7                   & 50.1                 & 39.1                \\\\\n",
       "\t Pennsylvania         & PA                   & Northeast            & 12702379             &  457                 & 20                   & 47.9                 & 48.6                \\\\\n",
       "\t Rhode Island         & RI                   & Northeast            &  1052567             &   16                 &  4                   & 54.4                 & 38.9                \\\\\n",
       "\t South Carolina       & SC                   & South                &  4625364             &  207                 &  9                   & 40.7                 & 54.9                \\\\\n",
       "\t South Dakota         & SD                   & North Central        &   814180             &    8                 &  3                   & 31.7                 & 61.5                \\\\\n",
       "\t Tennessee            & TN                   & South                &  6346105             &  219                 & 11                   & 34.7                 & 60.7                \\\\\n",
       "\t Texas                & TX                   & South                & 25145561             &  805                 & 38                   & 43.2                 & 52.2                \\\\\n",
       "\t Utah                 & UT                   & West                 &  2763885             &   22                 &  6                   & 27.5                 & 45.5                \\\\\n",
       "\t Vermont              & VT                   & Northeast            &   625741             &    2                 &  3                   & 56.7                 & 30.3                \\\\\n",
       "\t Virginia             & VA                   & South                &  8001024             &  250                 & 13                   & 49.8                 & 44.4                \\\\\n",
       "\t Washington           & WA                   & West                 &  6724540             &   93                 & 12                   & 54.3                 & 38.1                \\\\\n",
       "\t West Virginia        & WV                   & South                &  1852994             &   27                 &  5                   & 26.5                 & 68.6                \\\\\n",
       "\t Wisconsin            & WI                   & North Central        &  5686986             &   97                 & 10                   & 46.5                 & 47.2                \\\\\n",
       "\t Wyoming              & WY                   & West                 &   563626             &    5                 &  3                   & 21.9                 & 68.2                \\\\\n",
       "\\end{tabular}\n"
      ],
      "text/markdown": [
       "\n",
       "| state | abb | region | population | total | cv | clinton | trump |\n",
       "|---|---|---|---|---|---|---|---|\n",
       "| Alabama              | AL                   | South                |  4779736             |  135                 |  9                   | 34.4                 | 62.1                 |\n",
       "| Alaska               | AK                   | West                 |   710231             |   19                 |  3                   | 36.6                 | 51.3                 |\n",
       "| Arizona              | AZ                   | West                 |  6392017             |  232                 | 11                   | 45.1                 | 48.7                 |\n",
       "| Arkansas             | AR                   | South                |  2915918             |   93                 |  6                   | 33.7                 | 60.6                 |\n",
       "| California           | CA                   | West                 | 37253956             | 1257                 | 55                   | 61.7                 | 31.6                 |\n",
       "| Colorado             | CO                   | West                 |  5029196             |   65                 |  9                   | 48.2                 | 43.3                 |\n",
       "| Connecticut          | CT                   | Northeast            |  3574097             |   97                 |  7                   | 54.6                 | 40.9                 |\n",
       "| Delaware             | DE                   | South                |   897934             |   38                 |  3                   | 53.4                 | 41.9                 |\n",
       "| District of Columbia | DC                   | South                |   601723             |   99                 |  3                   | 90.9                 |  4.1                 |\n",
       "| Florida              | FL                   | South                | 19687653             |  669                 | 29                   | 47.8                 | 49.0                 |\n",
       "| Georgia              | GA                   | South                |  9920000             |  376                 | 16                   | 45.9                 | 51.0                 |\n",
       "| Hawaii               | HI                   | West                 |  1360301             |    7                 |  4                   | 62.2                 | 30.0                 |\n",
       "| Idaho                | ID                   | West                 |  1567582             |   12                 |  4                   | 27.5                 | 59.3                 |\n",
       "| Illinois             | IL                   | North Central        | 12830632             |  364                 | 20                   | 55.8                 | 38.8                 |\n",
       "| Indiana              | IN                   | North Central        |  6483802             |  142                 | 11                   | 37.8                 | 56.9                 |\n",
       "| Iowa                 | IA                   | North Central        |  3046355             |   21                 |  6                   | 41.7                 | 51.1                 |\n",
       "| Kansas               | KS                   | North Central        |  2853118             |   63                 |  6                   | 36.1                 | 56.7                 |\n",
       "| Kentucky             | KY                   | South                |  4339367             |  116                 |  8                   | 32.7                 | 62.5                 |\n",
       "| Louisiana            | LA                   | South                |  4533372             |  351                 |  8                   | 38.4                 | 58.1                 |\n",
       "| Maine                | ME                   | Northeast            |  1328361             |   11                 |  4                   | 48.0                 | 45.0                 |\n",
       "| Maryland             | MD                   | South                |  5773552             |  293                 | 10                   | 60.3                 | 33.9                 |\n",
       "| Massachusetts        | MA                   | Northeast            |  6547629             |  118                 | 11                   | 60.0                 | 32.8                 |\n",
       "| Michigan             | MI                   | North Central        |  9883640             |  413                 | 16                   | 47.3                 | 47.5                 |\n",
       "| Minnesota            | MN                   | North Central        |  5303925             |   53                 | 10                   | 46.4                 | 44.9                 |\n",
       "| Mississippi          | MS                   | South                |  2967297             |  120                 |  6                   | 40.1                 | 57.9                 |\n",
       "| Missouri             | MO                   | North Central        |  5988927             |  321                 | 10                   | 38.1                 | 56.8                 |\n",
       "| Montana              | MT                   | West                 |   989415             |   12                 |  3                   | 35.9                 | 56.5                 |\n",
       "| Nebraska             | NE                   | North Central        |  1826341             |   32                 |  5                   | 34.3                 | 59.9                 |\n",
       "| Nevada               | NV                   | West                 |  2700551             |   84                 |  6                   | 47.9                 | 45.5                 |\n",
       "| New Hampshire        | NH                   | Northeast            |  1316470             |    5                 |  4                   | 46.8                 | 46.5                 |\n",
       "| New Jersey           | NJ                   | Northeast            |  8791894             |  246                 | 14                   | 55.5                 | 41.4                 |\n",
       "| New Mexico           | NM                   | West                 |  2059179             |   67                 |  5                   | 48.3                 | 40.0                 |\n",
       "| New York             | NY                   | Northeast            | 19378102             |  517                 | 29                   | 59.0                 | 36.5                 |\n",
       "| North Carolina       | NC                   | South                |  9535483             |  286                 | 15                   | 46.2                 | 49.8                 |\n",
       "| North Dakota         | ND                   | North Central        |   672591             |    4                 |  3                   | 27.2                 | 63.0                 |\n",
       "| Ohio                 | OH                   | North Central        | 11536504             |  310                 | 18                   | 43.5                 | 51.7                 |\n",
       "| Oklahoma             | OK                   | South                |  3751351             |  111                 |  7                   | 28.9                 | 65.3                 |\n",
       "| Oregon               | OR                   | West                 |  3831074             |   36                 |  7                   | 50.1                 | 39.1                 |\n",
       "| Pennsylvania         | PA                   | Northeast            | 12702379             |  457                 | 20                   | 47.9                 | 48.6                 |\n",
       "| Rhode Island         | RI                   | Northeast            |  1052567             |   16                 |  4                   | 54.4                 | 38.9                 |\n",
       "| South Carolina       | SC                   | South                |  4625364             |  207                 |  9                   | 40.7                 | 54.9                 |\n",
       "| South Dakota         | SD                   | North Central        |   814180             |    8                 |  3                   | 31.7                 | 61.5                 |\n",
       "| Tennessee            | TN                   | South                |  6346105             |  219                 | 11                   | 34.7                 | 60.7                 |\n",
       "| Texas                | TX                   | South                | 25145561             |  805                 | 38                   | 43.2                 | 52.2                 |\n",
       "| Utah                 | UT                   | West                 |  2763885             |   22                 |  6                   | 27.5                 | 45.5                 |\n",
       "| Vermont              | VT                   | Northeast            |   625741             |    2                 |  3                   | 56.7                 | 30.3                 |\n",
       "| Virginia             | VA                   | South                |  8001024             |  250                 | 13                   | 49.8                 | 44.4                 |\n",
       "| Washington           | WA                   | West                 |  6724540             |   93                 | 12                   | 54.3                 | 38.1                 |\n",
       "| West Virginia        | WV                   | South                |  1852994             |   27                 |  5                   | 26.5                 | 68.6                 |\n",
       "| Wisconsin            | WI                   | North Central        |  5686986             |   97                 | 10                   | 46.5                 | 47.2                 |\n",
       "| Wyoming              | WY                   | West                 |   563626             |    5                 |  3                   | 21.9                 | 68.2                 |\n",
       "\n"
      ],
      "text/plain": [
       "   state                abb region        population total cv clinton trump\n",
       "1  Alabama              AL  South          4779736    135   9 34.4    62.1 \n",
       "2  Alaska               AK  West            710231     19   3 36.6    51.3 \n",
       "3  Arizona              AZ  West           6392017    232  11 45.1    48.7 \n",
       "4  Arkansas             AR  South          2915918     93   6 33.7    60.6 \n",
       "5  California           CA  West          37253956   1257  55 61.7    31.6 \n",
       "6  Colorado             CO  West           5029196     65   9 48.2    43.3 \n",
       "7  Connecticut          CT  Northeast      3574097     97   7 54.6    40.9 \n",
       "8  Delaware             DE  South           897934     38   3 53.4    41.9 \n",
       "9  District of Columbia DC  South           601723     99   3 90.9     4.1 \n",
       "10 Florida              FL  South         19687653    669  29 47.8    49.0 \n",
       "11 Georgia              GA  South          9920000    376  16 45.9    51.0 \n",
       "12 Hawaii               HI  West           1360301      7   4 62.2    30.0 \n",
       "13 Idaho                ID  West           1567582     12   4 27.5    59.3 \n",
       "14 Illinois             IL  North Central 12830632    364  20 55.8    38.8 \n",
       "15 Indiana              IN  North Central  6483802    142  11 37.8    56.9 \n",
       "16 Iowa                 IA  North Central  3046355     21   6 41.7    51.1 \n",
       "17 Kansas               KS  North Central  2853118     63   6 36.1    56.7 \n",
       "18 Kentucky             KY  South          4339367    116   8 32.7    62.5 \n",
       "19 Louisiana            LA  South          4533372    351   8 38.4    58.1 \n",
       "20 Maine                ME  Northeast      1328361     11   4 48.0    45.0 \n",
       "21 Maryland             MD  South          5773552    293  10 60.3    33.9 \n",
       "22 Massachusetts        MA  Northeast      6547629    118  11 60.0    32.8 \n",
       "23 Michigan             MI  North Central  9883640    413  16 47.3    47.5 \n",
       "24 Minnesota            MN  North Central  5303925     53  10 46.4    44.9 \n",
       "25 Mississippi          MS  South          2967297    120   6 40.1    57.9 \n",
       "26 Missouri             MO  North Central  5988927    321  10 38.1    56.8 \n",
       "27 Montana              MT  West            989415     12   3 35.9    56.5 \n",
       "28 Nebraska             NE  North Central  1826341     32   5 34.3    59.9 \n",
       "29 Nevada               NV  West           2700551     84   6 47.9    45.5 \n",
       "30 New Hampshire        NH  Northeast      1316470      5   4 46.8    46.5 \n",
       "31 New Jersey           NJ  Northeast      8791894    246  14 55.5    41.4 \n",
       "32 New Mexico           NM  West           2059179     67   5 48.3    40.0 \n",
       "33 New York             NY  Northeast     19378102    517  29 59.0    36.5 \n",
       "34 North Carolina       NC  South          9535483    286  15 46.2    49.8 \n",
       "35 North Dakota         ND  North Central   672591      4   3 27.2    63.0 \n",
       "36 Ohio                 OH  North Central 11536504    310  18 43.5    51.7 \n",
       "37 Oklahoma             OK  South          3751351    111   7 28.9    65.3 \n",
       "38 Oregon               OR  West           3831074     36   7 50.1    39.1 \n",
       "39 Pennsylvania         PA  Northeast     12702379    457  20 47.9    48.6 \n",
       "40 Rhode Island         RI  Northeast      1052567     16   4 54.4    38.9 \n",
       "41 South Carolina       SC  South          4625364    207   9 40.7    54.9 \n",
       "42 South Dakota         SD  North Central   814180      8   3 31.7    61.5 \n",
       "43 Tennessee            TN  South          6346105    219  11 34.7    60.7 \n",
       "44 Texas                TX  South         25145561    805  38 43.2    52.2 \n",
       "45 Utah                 UT  West           2763885     22   6 27.5    45.5 \n",
       "46 Vermont              VT  Northeast       625741      2   3 56.7    30.3 \n",
       "47 Virginia             VA  South          8001024    250  13 49.8    44.4 \n",
       "48 Washington           WA  West           6724540     93  12 54.3    38.1 \n",
       "49 West Virginia        WV  South          1852994     27   5 26.5    68.6 \n",
       "50 Wisconsin            WI  North Central  5686986     97  10 46.5    47.2 \n",
       "51 Wyoming              WY  West            563626      5   3 21.9    68.2 "
      ]
     },
     "metadata": {},
     "output_type": "display_data"
    }
   ],
   "source": [
    "tab"
   ]
  },
  {
   "cell_type": "markdown",
   "metadata": {},
   "source": [
    "# Binding by rows\n",
    "The bind_rows function is similar to bind_cols, but binds rows instead of columns:"
   ]
  },
  {
   "cell_type": "code",
   "execution_count": 34,
   "metadata": {},
   "outputs": [],
   "source": [
    "tab_1 <- tab[1:2,]\n",
    "tab_2 <- tab[3:4,]"
   ]
  },
  {
   "cell_type": "code",
   "execution_count": 35,
   "metadata": {},
   "outputs": [
    {
     "data": {
      "text/html": [
       "<table>\n",
       "<thead><tr><th scope=col>state</th><th scope=col>abb</th><th scope=col>region</th><th scope=col>population</th><th scope=col>total</th><th scope=col>cv</th><th scope=col>clinton</th><th scope=col>trump</th></tr></thead>\n",
       "<tbody>\n",
       "\t<tr><td>Alabama </td><td>AL      </td><td>South   </td><td>4779736 </td><td>135     </td><td> 9      </td><td>34.4    </td><td>62.1    </td></tr>\n",
       "\t<tr><td>Alaska  </td><td>AK      </td><td>West    </td><td> 710231 </td><td> 19     </td><td> 3      </td><td>36.6    </td><td>51.3    </td></tr>\n",
       "\t<tr><td>Arizona </td><td>AZ      </td><td>West    </td><td>6392017 </td><td>232     </td><td>11      </td><td>45.1    </td><td>48.7    </td></tr>\n",
       "\t<tr><td>Arkansas</td><td>AR      </td><td>South   </td><td>2915918 </td><td> 93     </td><td> 6      </td><td>33.7    </td><td>60.6    </td></tr>\n",
       "</tbody>\n",
       "</table>\n"
      ],
      "text/latex": [
       "\\begin{tabular}{r|llllllll}\n",
       " state & abb & region & population & total & cv & clinton & trump\\\\\n",
       "\\hline\n",
       "\t Alabama  & AL       & South    & 4779736  & 135      &  9       & 34.4     & 62.1    \\\\\n",
       "\t Alaska   & AK       & West     &  710231  &  19      &  3       & 36.6     & 51.3    \\\\\n",
       "\t Arizona  & AZ       & West     & 6392017  & 232      & 11       & 45.1     & 48.7    \\\\\n",
       "\t Arkansas & AR       & South    & 2915918  &  93      &  6       & 33.7     & 60.6    \\\\\n",
       "\\end{tabular}\n"
      ],
      "text/markdown": [
       "\n",
       "| state | abb | region | population | total | cv | clinton | trump |\n",
       "|---|---|---|---|---|---|---|---|\n",
       "| Alabama  | AL       | South    | 4779736  | 135      |  9       | 34.4     | 62.1     |\n",
       "| Alaska   | AK       | West     |  710231  |  19      |  3       | 36.6     | 51.3     |\n",
       "| Arizona  | AZ       | West     | 6392017  | 232      | 11       | 45.1     | 48.7     |\n",
       "| Arkansas | AR       | South    | 2915918  |  93      |  6       | 33.7     | 60.6     |\n",
       "\n"
      ],
      "text/plain": [
       "  state    abb region population total cv clinton trump\n",
       "1 Alabama  AL  South  4779736    135    9 34.4    62.1 \n",
       "2 Alaska   AK  West    710231     19    3 36.6    51.3 \n",
       "3 Arizona  AZ  West   6392017    232   11 45.1    48.7 \n",
       "4 Arkansas AR  South  2915918     93    6 33.7    60.6 "
      ]
     },
     "metadata": {},
     "output_type": "display_data"
    }
   ],
   "source": [
    "bind_rows(tab_1,tab_2)"
   ]
  },
  {
   "cell_type": "markdown",
   "metadata": {},
   "source": [
    "# Set operators"
   ]
  },
  {
   "cell_type": "markdown",
   "metadata": {},
   "source": [
    "Another set of commands useful for combining datasets are the set operators. When applied to vectors, these behave as their names suggest. Examples are intersect, union, setdiff, and setequal"
   ]
  },
  {
   "cell_type": "markdown",
   "metadata": {},
   "source": [
    "## Intersect"
   ]
  },
  {
   "cell_type": "code",
   "execution_count": 36,
   "metadata": {},
   "outputs": [
    {
     "data": {
      "text/html": [
       "<ol class=list-inline>\n",
       "\t<li>6</li>\n",
       "\t<li>7</li>\n",
       "\t<li>8</li>\n",
       "\t<li>9</li>\n",
       "\t<li>10</li>\n",
       "</ol>\n"
      ],
      "text/latex": [
       "\\begin{enumerate*}\n",
       "\\item 6\n",
       "\\item 7\n",
       "\\item 8\n",
       "\\item 9\n",
       "\\item 10\n",
       "\\end{enumerate*}\n"
      ],
      "text/markdown": [
       "1. 6\n",
       "2. 7\n",
       "3. 8\n",
       "4. 9\n",
       "5. 10\n",
       "\n",
       "\n"
      ],
      "text/plain": [
       "[1]  6  7  8  9 10"
      ]
     },
     "metadata": {},
     "output_type": "display_data"
    }
   ],
   "source": [
    "intersect(1:10,6:15)"
   ]
  },
  {
   "cell_type": "code",
   "execution_count": 37,
   "metadata": {},
   "outputs": [
    {
     "data": {
      "text/html": [
       "<ol class=list-inline>\n",
       "\t<li>'b'</li>\n",
       "\t<li>'c'</li>\n",
       "\t<li>'d'</li>\n",
       "</ol>\n"
      ],
      "text/latex": [
       "\\begin{enumerate*}\n",
       "\\item 'b'\n",
       "\\item 'c'\n",
       "\\item 'd'\n",
       "\\end{enumerate*}\n"
      ],
      "text/markdown": [
       "1. 'b'\n",
       "2. 'c'\n",
       "3. 'd'\n",
       "\n",
       "\n"
      ],
      "text/plain": [
       "[1] \"b\" \"c\" \"d\""
      ]
     },
     "metadata": {},
     "output_type": "display_data"
    }
   ],
   "source": [
    "intersect(c(\"a\",\"b\",\"c\",\"d\"),c(\"b\",\"c\",\"d\",\"e\"))"
   ]
  },
  {
   "cell_type": "code",
   "execution_count": 40,
   "metadata": {},
   "outputs": [
    {
     "data": {
      "text/html": [
       "<table>\n",
       "<thead><tr><th scope=col>state</th><th scope=col>abb</th><th scope=col>region</th><th scope=col>population</th><th scope=col>total</th><th scope=col>cv</th><th scope=col>clinton</th><th scope=col>trump</th></tr></thead>\n",
       "<tbody>\n",
       "\t<tr><td>Arizona   </td><td>AZ        </td><td>West      </td><td> 6392017  </td><td> 232      </td><td>11        </td><td>45.1      </td><td>48.7      </td></tr>\n",
       "\t<tr><td>Arkansas  </td><td>AR        </td><td>South     </td><td> 2915918  </td><td>  93      </td><td> 6        </td><td>33.7      </td><td>60.6      </td></tr>\n",
       "\t<tr><td>California</td><td>CA        </td><td>West      </td><td>37253956  </td><td>1257      </td><td>55        </td><td>61.7      </td><td>31.6      </td></tr>\n",
       "</tbody>\n",
       "</table>\n"
      ],
      "text/latex": [
       "\\begin{tabular}{r|llllllll}\n",
       " state & abb & region & population & total & cv & clinton & trump\\\\\n",
       "\\hline\n",
       "\t Arizona    & AZ         & West       &  6392017   &  232       & 11         & 45.1       & 48.7      \\\\\n",
       "\t Arkansas   & AR         & South      &  2915918   &   93       &  6         & 33.7       & 60.6      \\\\\n",
       "\t California & CA         & West       & 37253956   & 1257       & 55         & 61.7       & 31.6      \\\\\n",
       "\\end{tabular}\n"
      ],
      "text/markdown": [
       "\n",
       "| state | abb | region | population | total | cv | clinton | trump |\n",
       "|---|---|---|---|---|---|---|---|\n",
       "| Arizona    | AZ         | West       |  6392017   |  232       | 11         | 45.1       | 48.7       |\n",
       "| Arkansas   | AR         | South      |  2915918   |   93       |  6         | 33.7       | 60.6       |\n",
       "| California | CA         | West       | 37253956   | 1257       | 55         | 61.7       | 31.6       |\n",
       "\n"
      ],
      "text/plain": [
       "  state      abb region population total cv clinton trump\n",
       "1 Arizona    AZ  West    6392017    232  11 45.1    48.7 \n",
       "2 Arkansas   AR  South   2915918     93   6 33.7    60.6 \n",
       "3 California CA  West   37253956   1257  55 61.7    31.6 "
      ]
     },
     "metadata": {},
     "output_type": "display_data"
    }
   ],
   "source": [
    "tab_1 <- tab[1:5,]\n",
    "tab_2 <- tab[3:7,]\n",
    "\n",
    "intersect(tab_1,tab_2)"
   ]
  },
  {
   "cell_type": "markdown",
   "metadata": {},
   "source": [
    "# Union"
   ]
  },
  {
   "cell_type": "code",
   "execution_count": 41,
   "metadata": {},
   "outputs": [
    {
     "data": {
      "text/html": [
       "<ol class=list-inline>\n",
       "\t<li>1</li>\n",
       "\t<li>2</li>\n",
       "\t<li>3</li>\n",
       "\t<li>4</li>\n",
       "\t<li>5</li>\n",
       "\t<li>6</li>\n",
       "\t<li>7</li>\n",
       "\t<li>8</li>\n",
       "\t<li>9</li>\n",
       "\t<li>10</li>\n",
       "\t<li>11</li>\n",
       "\t<li>12</li>\n",
       "\t<li>13</li>\n",
       "\t<li>14</li>\n",
       "\t<li>15</li>\n",
       "</ol>\n"
      ],
      "text/latex": [
       "\\begin{enumerate*}\n",
       "\\item 1\n",
       "\\item 2\n",
       "\\item 3\n",
       "\\item 4\n",
       "\\item 5\n",
       "\\item 6\n",
       "\\item 7\n",
       "\\item 8\n",
       "\\item 9\n",
       "\\item 10\n",
       "\\item 11\n",
       "\\item 12\n",
       "\\item 13\n",
       "\\item 14\n",
       "\\item 15\n",
       "\\end{enumerate*}\n"
      ],
      "text/markdown": [
       "1. 1\n",
       "2. 2\n",
       "3. 3\n",
       "4. 4\n",
       "5. 5\n",
       "6. 6\n",
       "7. 7\n",
       "8. 8\n",
       "9. 9\n",
       "10. 10\n",
       "11. 11\n",
       "12. 12\n",
       "13. 13\n",
       "14. 14\n",
       "15. 15\n",
       "\n",
       "\n"
      ],
      "text/plain": [
       " [1]  1  2  3  4  5  6  7  8  9 10 11 12 13 14 15"
      ]
     },
     "metadata": {},
     "output_type": "display_data"
    }
   ],
   "source": [
    "union(1:10, 6:15)"
   ]
  },
  {
   "cell_type": "code",
   "execution_count": 42,
   "metadata": {},
   "outputs": [
    {
     "data": {
      "text/html": [
       "<ol class=list-inline>\n",
       "\t<li>'a'</li>\n",
       "\t<li>'b'</li>\n",
       "\t<li>'c'</li>\n",
       "\t<li>'d'</li>\n",
       "</ol>\n"
      ],
      "text/latex": [
       "\\begin{enumerate*}\n",
       "\\item 'a'\n",
       "\\item 'b'\n",
       "\\item 'c'\n",
       "\\item 'd'\n",
       "\\end{enumerate*}\n"
      ],
      "text/markdown": [
       "1. 'a'\n",
       "2. 'b'\n",
       "3. 'c'\n",
       "4. 'd'\n",
       "\n",
       "\n"
      ],
      "text/plain": [
       "[1] \"a\" \"b\" \"c\" \"d\""
      ]
     },
     "metadata": {},
     "output_type": "display_data"
    }
   ],
   "source": [
    "union(c(\"a\",\"b\",\"c\"), c(\"b\",\"c\",\"d\"))"
   ]
  },
  {
   "cell_type": "code",
   "execution_count": 43,
   "metadata": {},
   "outputs": [],
   "source": [
    "tab_1 <- tab[1:5,]"
   ]
  },
  {
   "cell_type": "code",
   "execution_count": 44,
   "metadata": {},
   "outputs": [],
   "source": [
    "tab_2 <- tab[3:7,]"
   ]
  },
  {
   "cell_type": "code",
   "execution_count": 45,
   "metadata": {},
   "outputs": [
    {
     "data": {
      "text/html": [
       "<table>\n",
       "<thead><tr><th scope=col>state</th><th scope=col>abb</th><th scope=col>region</th><th scope=col>population</th><th scope=col>total</th><th scope=col>cv</th><th scope=col>clinton</th><th scope=col>trump</th></tr></thead>\n",
       "<tbody>\n",
       "\t<tr><td>Alabama    </td><td>AL         </td><td>South      </td><td> 4779736   </td><td> 135       </td><td> 9         </td><td>34.4       </td><td>62.1       </td></tr>\n",
       "\t<tr><td>Alaska     </td><td>AK         </td><td>West       </td><td>  710231   </td><td>  19       </td><td> 3         </td><td>36.6       </td><td>51.3       </td></tr>\n",
       "\t<tr><td>Arizona    </td><td>AZ         </td><td>West       </td><td> 6392017   </td><td> 232       </td><td>11         </td><td>45.1       </td><td>48.7       </td></tr>\n",
       "\t<tr><td>Arkansas   </td><td>AR         </td><td>South      </td><td> 2915918   </td><td>  93       </td><td> 6         </td><td>33.7       </td><td>60.6       </td></tr>\n",
       "\t<tr><td>California </td><td>CA         </td><td>West       </td><td>37253956   </td><td>1257       </td><td>55         </td><td>61.7       </td><td>31.6       </td></tr>\n",
       "\t<tr><td>Colorado   </td><td>CO         </td><td>West       </td><td> 5029196   </td><td>  65       </td><td> 9         </td><td>48.2       </td><td>43.3       </td></tr>\n",
       "\t<tr><td>Connecticut</td><td>CT         </td><td>Northeast  </td><td> 3574097   </td><td>  97       </td><td> 7         </td><td>54.6       </td><td>40.9       </td></tr>\n",
       "</tbody>\n",
       "</table>\n"
      ],
      "text/latex": [
       "\\begin{tabular}{r|llllllll}\n",
       " state & abb & region & population & total & cv & clinton & trump\\\\\n",
       "\\hline\n",
       "\t Alabama     & AL          & South       &  4779736    &  135        &  9          & 34.4        & 62.1       \\\\\n",
       "\t Alaska      & AK          & West        &   710231    &   19        &  3          & 36.6        & 51.3       \\\\\n",
       "\t Arizona     & AZ          & West        &  6392017    &  232        & 11          & 45.1        & 48.7       \\\\\n",
       "\t Arkansas    & AR          & South       &  2915918    &   93        &  6          & 33.7        & 60.6       \\\\\n",
       "\t California  & CA          & West        & 37253956    & 1257        & 55          & 61.7        & 31.6       \\\\\n",
       "\t Colorado    & CO          & West        &  5029196    &   65        &  9          & 48.2        & 43.3       \\\\\n",
       "\t Connecticut & CT          & Northeast   &  3574097    &   97        &  7          & 54.6        & 40.9       \\\\\n",
       "\\end{tabular}\n"
      ],
      "text/markdown": [
       "\n",
       "| state | abb | region | population | total | cv | clinton | trump |\n",
       "|---|---|---|---|---|---|---|---|\n",
       "| Alabama     | AL          | South       |  4779736    |  135        |  9          | 34.4        | 62.1        |\n",
       "| Alaska      | AK          | West        |   710231    |   19        |  3          | 36.6        | 51.3        |\n",
       "| Arizona     | AZ          | West        |  6392017    |  232        | 11          | 45.1        | 48.7        |\n",
       "| Arkansas    | AR          | South       |  2915918    |   93        |  6          | 33.7        | 60.6        |\n",
       "| California  | CA          | West        | 37253956    | 1257        | 55          | 61.7        | 31.6        |\n",
       "| Colorado    | CO          | West        |  5029196    |   65        |  9          | 48.2        | 43.3        |\n",
       "| Connecticut | CT          | Northeast   |  3574097    |   97        |  7          | 54.6        | 40.9        |\n",
       "\n"
      ],
      "text/plain": [
       "  state       abb region    population total cv clinton trump\n",
       "1 Alabama     AL  South      4779736    135   9 34.4    62.1 \n",
       "2 Alaska      AK  West        710231     19   3 36.6    51.3 \n",
       "3 Arizona     AZ  West       6392017    232  11 45.1    48.7 \n",
       "4 Arkansas    AR  South      2915918     93   6 33.7    60.6 \n",
       "5 California  CA  West      37253956   1257  55 61.7    31.6 \n",
       "6 Colorado    CO  West       5029196     65   9 48.2    43.3 \n",
       "7 Connecticut CT  Northeast  3574097     97   7 54.6    40.9 "
      ]
     },
     "metadata": {},
     "output_type": "display_data"
    }
   ],
   "source": [
    "union(tab_1,tab_2)"
   ]
  },
  {
   "cell_type": "markdown",
   "metadata": {},
   "source": [
    "## Setdiff\n",
    "The set difference between a first and second argument can be obtained with setdiff. Unlike intersect and union, this function is not symmetric"
   ]
  },
  {
   "cell_type": "code",
   "execution_count": 46,
   "metadata": {},
   "outputs": [
    {
     "data": {
      "text/html": [
       "<ol class=list-inline>\n",
       "\t<li>1</li>\n",
       "\t<li>2</li>\n",
       "\t<li>3</li>\n",
       "\t<li>4</li>\n",
       "\t<li>5</li>\n",
       "</ol>\n"
      ],
      "text/latex": [
       "\\begin{enumerate*}\n",
       "\\item 1\n",
       "\\item 2\n",
       "\\item 3\n",
       "\\item 4\n",
       "\\item 5\n",
       "\\end{enumerate*}\n"
      ],
      "text/markdown": [
       "1. 1\n",
       "2. 2\n",
       "3. 3\n",
       "4. 4\n",
       "5. 5\n",
       "\n",
       "\n"
      ],
      "text/plain": [
       "[1] 1 2 3 4 5"
      ]
     },
     "metadata": {},
     "output_type": "display_data"
    }
   ],
   "source": [
    "setdiff(1:10, 6:15)"
   ]
  },
  {
   "cell_type": "code",
   "execution_count": 47,
   "metadata": {},
   "outputs": [
    {
     "data": {
      "text/html": [
       "<ol class=list-inline>\n",
       "\t<li>11</li>\n",
       "\t<li>12</li>\n",
       "\t<li>13</li>\n",
       "\t<li>14</li>\n",
       "\t<li>15</li>\n",
       "</ol>\n"
      ],
      "text/latex": [
       "\\begin{enumerate*}\n",
       "\\item 11\n",
       "\\item 12\n",
       "\\item 13\n",
       "\\item 14\n",
       "\\item 15\n",
       "\\end{enumerate*}\n"
      ],
      "text/markdown": [
       "1. 11\n",
       "2. 12\n",
       "3. 13\n",
       "4. 14\n",
       "5. 15\n",
       "\n",
       "\n"
      ],
      "text/plain": [
       "[1] 11 12 13 14 15"
      ]
     },
     "metadata": {},
     "output_type": "display_data"
    }
   ],
   "source": [
    "setdiff(6:15, 1:10)"
   ]
  },
  {
   "cell_type": "code",
   "execution_count": 50,
   "metadata": {},
   "outputs": [
    {
     "data": {
      "text/html": [
       "<table>\n",
       "<thead><tr><th scope=col>state</th><th scope=col>abb</th><th scope=col>region</th><th scope=col>population</th><th scope=col>total</th><th scope=col>cv</th><th scope=col>clinton</th><th scope=col>trump</th></tr></thead>\n",
       "<tbody>\n",
       "\t<tr><td>Alabama</td><td>AL     </td><td>South  </td><td>4779736</td><td>135    </td><td>9      </td><td>34.4   </td><td>62.1   </td></tr>\n",
       "\t<tr><td>Alaska </td><td>AK     </td><td>West   </td><td> 710231</td><td> 19    </td><td>3      </td><td>36.6   </td><td>51.3   </td></tr>\n",
       "</tbody>\n",
       "</table>\n"
      ],
      "text/latex": [
       "\\begin{tabular}{r|llllllll}\n",
       " state & abb & region & population & total & cv & clinton & trump\\\\\n",
       "\\hline\n",
       "\t Alabama & AL      & South   & 4779736 & 135     & 9       & 34.4    & 62.1   \\\\\n",
       "\t Alaska  & AK      & West    &  710231 &  19     & 3       & 36.6    & 51.3   \\\\\n",
       "\\end{tabular}\n"
      ],
      "text/markdown": [
       "\n",
       "| state | abb | region | population | total | cv | clinton | trump |\n",
       "|---|---|---|---|---|---|---|---|\n",
       "| Alabama | AL      | South   | 4779736 | 135     | 9       | 34.4    | 62.1    |\n",
       "| Alaska  | AK      | West    |  710231 |  19     | 3       | 36.6    | 51.3    |\n",
       "\n"
      ],
      "text/plain": [
       "  state   abb region population total cv clinton trump\n",
       "1 Alabama AL  South  4779736    135   9  34.4    62.1 \n",
       "2 Alaska  AK  West    710231     19   3  36.6    51.3 "
      ]
     },
     "metadata": {},
     "output_type": "display_data"
    }
   ],
   "source": [
    "tab_1 <- tab[1:5,]\n",
    "tab_2 <- tab[3:7,]\n",
    "dplyr::setdiff(tab_1, tab_2)"
   ]
  },
  {
   "cell_type": "markdown",
   "metadata": {},
   "source": [
    "## Setequal\n",
    "Finally, the function setequal tells us if two sets are the same, regardless of order."
   ]
  },
  {
   "cell_type": "code",
   "execution_count": 51,
   "metadata": {},
   "outputs": [
    {
     "data": {
      "text/html": [
       "FALSE"
      ],
      "text/latex": [
       "FALSE"
      ],
      "text/markdown": [
       "FALSE"
      ],
      "text/plain": [
       "[1] FALSE"
      ]
     },
     "metadata": {},
     "output_type": "display_data"
    }
   ],
   "source": [
    "setequal(1:5, 1:6)"
   ]
  },
  {
   "cell_type": "code",
   "execution_count": 52,
   "metadata": {},
   "outputs": [
    {
     "data": {
      "text/html": [
       "TRUE"
      ],
      "text/latex": [
       "TRUE"
      ],
      "text/markdown": [
       "TRUE"
      ],
      "text/plain": [
       "[1] TRUE"
      ]
     },
     "metadata": {},
     "output_type": "display_data"
    }
   ],
   "source": [
    "setequal(1:5, 5:1)"
   ]
  },
  {
   "cell_type": "code",
   "execution_count": 53,
   "metadata": {},
   "outputs": [
    {
     "data": {
      "text/html": [
       "FALSE"
      ],
      "text/latex": [
       "FALSE"
      ],
      "text/markdown": [
       "FALSE"
      ],
      "text/plain": [
       "[1] FALSE"
      ]
     },
     "metadata": {},
     "output_type": "display_data"
    }
   ],
   "source": [
    "setequal(tab_1, tab_2)"
   ]
  },
  {
   "cell_type": "markdown",
   "metadata": {},
   "source": [
    "# Exercises"
   ]
  },
  {
   "cell_type": "markdown",
   "metadata": {},
   "source": [
    "1. Install and load the Lahman library. This database includes data related to baseball teams. It includes summary statistics about how the players performed on offense and defense for several years. It also includes personal information about the players.\n",
    "\n",
    "The Batting data frame contains the offensive statistics for all players for many years. You can see, for example, the top 10 hitters by running this code"
   ]
  },
  {
   "cell_type": "code",
   "execution_count": 55,
   "metadata": {},
   "outputs": [
    {
     "name": "stdout",
     "output_type": "stream",
     "text": [
      "package 'Lahman' successfully unpacked and MD5 sums checked\n",
      "\n",
      "The downloaded binary packages are in\n",
      "\tC:\\Users\\Microsoft\\AppData\\Local\\Temp\\RtmpGcjZOX\\downloaded_packages\n"
     ]
    }
   ],
   "source": [
    "install.packages(\"Lahman\")"
   ]
  },
  {
   "cell_type": "code",
   "execution_count": 56,
   "metadata": {},
   "outputs": [
    {
     "name": "stderr",
     "output_type": "stream",
     "text": [
      "Warning message:\n",
      "\"package 'Lahman' was built under R version 3.6.3\""
     ]
    }
   ],
   "source": [
    "library(Lahman)"
   ]
  },
  {
   "cell_type": "code",
   "execution_count": 57,
   "metadata": {},
   "outputs": [],
   "source": [
    "top <- Batting %>%\n",
    "filter(yearID == 2016)%>%\n",
    "arrange(desc(HR))%>%\n",
    "slice(1:10)"
   ]
  },
  {
   "cell_type": "code",
   "execution_count": 58,
   "metadata": {},
   "outputs": [
    {
     "data": {
      "text/html": [
       "<table>\n",
       "<thead><tr><th scope=col>playerID</th><th scope=col>yearID</th><th scope=col>stint</th><th scope=col>teamID</th><th scope=col>lgID</th><th scope=col>G</th><th scope=col>AB</th><th scope=col>R</th><th scope=col>H</th><th scope=col>X2B</th><th scope=col>...</th><th scope=col>RBI</th><th scope=col>SB</th><th scope=col>CS</th><th scope=col>BB</th><th scope=col>SO</th><th scope=col>IBB</th><th scope=col>HBP</th><th scope=col>SH</th><th scope=col>SF</th><th scope=col>GIDP</th></tr></thead>\n",
       "<tbody>\n",
       "\t<tr><td>trumbma01</td><td>2016     </td><td>1        </td><td>BAL      </td><td>AL       </td><td>159      </td><td>613      </td><td> 94      </td><td>157      </td><td>27       </td><td>...      </td><td>108      </td><td> 2       </td><td>0        </td><td>51       </td><td>170      </td><td> 1       </td><td> 3       </td><td>0        </td><td> 0       </td><td>14       </td></tr>\n",
       "\t<tr><td>cruzne02 </td><td>2016     </td><td>1        </td><td>SEA      </td><td>AL       </td><td>155      </td><td>589      </td><td> 96      </td><td>169      </td><td>27       </td><td>...      </td><td>105      </td><td> 2       </td><td>0        </td><td>62       </td><td>159      </td><td> 5       </td><td> 9       </td><td>0        </td><td> 7       </td><td>15       </td></tr>\n",
       "\t<tr><td>daviskh01</td><td>2016     </td><td>1        </td><td>OAK      </td><td>AL       </td><td>150      </td><td>555      </td><td> 85      </td><td>137      </td><td>24       </td><td>...      </td><td>102      </td><td> 1       </td><td>2        </td><td>42       </td><td>166      </td><td> 0       </td><td> 8       </td><td>0        </td><td> 5       </td><td>19       </td></tr>\n",
       "\t<tr><td>doziebr01</td><td>2016     </td><td>1        </td><td>MIN      </td><td>AL       </td><td>155      </td><td>615      </td><td>104      </td><td>165      </td><td>35       </td><td>...      </td><td> 99      </td><td>18       </td><td>2        </td><td>61       </td><td>138      </td><td> 6       </td><td> 8       </td><td>2        </td><td> 5       </td><td>12       </td></tr>\n",
       "\t<tr><td>encared01</td><td>2016     </td><td>1        </td><td>TOR      </td><td>AL       </td><td>160      </td><td>601      </td><td> 99      </td><td>158      </td><td>34       </td><td>...      </td><td>127      </td><td> 2       </td><td>0        </td><td>87       </td><td>138      </td><td> 3       </td><td> 5       </td><td>0        </td><td> 8       </td><td>22       </td></tr>\n",
       "\t<tr><td>arenano01</td><td>2016     </td><td>1        </td><td>COL      </td><td>NL       </td><td>160      </td><td>618      </td><td>116      </td><td>182      </td><td>35       </td><td>...      </td><td>133      </td><td> 2       </td><td>3        </td><td>68       </td><td>103      </td><td>10       </td><td> 2       </td><td>0        </td><td> 8       </td><td>17       </td></tr>\n",
       "\t<tr><td>cartech02</td><td>2016     </td><td>1        </td><td>MIL      </td><td>NL       </td><td>160      </td><td>549      </td><td> 84      </td><td>122      </td><td>27       </td><td>...      </td><td> 94      </td><td> 3       </td><td>1        </td><td>76       </td><td>206      </td><td> 1       </td><td> 9       </td><td>0        </td><td>10       </td><td>18       </td></tr>\n",
       "\t<tr><td>frazito01</td><td>2016     </td><td>1        </td><td>CHA      </td><td>AL       </td><td>158      </td><td>590      </td><td> 89      </td><td>133      </td><td>21       </td><td>...      </td><td> 98      </td><td>15       </td><td>5        </td><td>64       </td><td>163      </td><td> 1       </td><td> 4       </td><td>1        </td><td> 7       </td><td>11       </td></tr>\n",
       "\t<tr><td>bryankr01</td><td>2016     </td><td>1        </td><td>CHN      </td><td>NL       </td><td>155      </td><td>603      </td><td>121      </td><td>176      </td><td>35       </td><td>...      </td><td>102      </td><td> 8       </td><td>5        </td><td>75       </td><td>154      </td><td> 5       </td><td>18       </td><td>0        </td><td> 3       </td><td> 3       </td></tr>\n",
       "\t<tr><td>canoro01 </td><td>2016     </td><td>1        </td><td>SEA      </td><td>AL       </td><td>161      </td><td>655      </td><td>107      </td><td>195      </td><td>33       </td><td>...      </td><td>103      </td><td> 0       </td><td>1        </td><td>47       </td><td>100      </td><td> 8       </td><td> 8       </td><td>0        </td><td> 5       </td><td>18       </td></tr>\n",
       "</tbody>\n",
       "</table>\n"
      ],
      "text/latex": [
       "\\begin{tabular}{r|llllllllllllllllllllll}\n",
       " playerID & yearID & stint & teamID & lgID & G & AB & R & H & X2B & ... & RBI & SB & CS & BB & SO & IBB & HBP & SH & SF & GIDP\\\\\n",
       "\\hline\n",
       "\t trumbma01 & 2016      & 1         & BAL       & AL        & 159       & 613       &  94       & 157       & 27        & ...       & 108       &  2        & 0         & 51        & 170       &  1        &  3        & 0         &  0        & 14       \\\\\n",
       "\t cruzne02  & 2016      & 1         & SEA       & AL        & 155       & 589       &  96       & 169       & 27        & ...       & 105       &  2        & 0         & 62        & 159       &  5        &  9        & 0         &  7        & 15       \\\\\n",
       "\t daviskh01 & 2016      & 1         & OAK       & AL        & 150       & 555       &  85       & 137       & 24        & ...       & 102       &  1        & 2         & 42        & 166       &  0        &  8        & 0         &  5        & 19       \\\\\n",
       "\t doziebr01 & 2016      & 1         & MIN       & AL        & 155       & 615       & 104       & 165       & 35        & ...       &  99       & 18        & 2         & 61        & 138       &  6        &  8        & 2         &  5        & 12       \\\\\n",
       "\t encared01 & 2016      & 1         & TOR       & AL        & 160       & 601       &  99       & 158       & 34        & ...       & 127       &  2        & 0         & 87        & 138       &  3        &  5        & 0         &  8        & 22       \\\\\n",
       "\t arenano01 & 2016      & 1         & COL       & NL        & 160       & 618       & 116       & 182       & 35        & ...       & 133       &  2        & 3         & 68        & 103       & 10        &  2        & 0         &  8        & 17       \\\\\n",
       "\t cartech02 & 2016      & 1         & MIL       & NL        & 160       & 549       &  84       & 122       & 27        & ...       &  94       &  3        & 1         & 76        & 206       &  1        &  9        & 0         & 10        & 18       \\\\\n",
       "\t frazito01 & 2016      & 1         & CHA       & AL        & 158       & 590       &  89       & 133       & 21        & ...       &  98       & 15        & 5         & 64        & 163       &  1        &  4        & 1         &  7        & 11       \\\\\n",
       "\t bryankr01 & 2016      & 1         & CHN       & NL        & 155       & 603       & 121       & 176       & 35        & ...       & 102       &  8        & 5         & 75        & 154       &  5        & 18        & 0         &  3        &  3       \\\\\n",
       "\t canoro01  & 2016      & 1         & SEA       & AL        & 161       & 655       & 107       & 195       & 33        & ...       & 103       &  0        & 1         & 47        & 100       &  8        &  8        & 0         &  5        & 18       \\\\\n",
       "\\end{tabular}\n"
      ],
      "text/markdown": [
       "\n",
       "| playerID | yearID | stint | teamID | lgID | G | AB | R | H | X2B | ... | RBI | SB | CS | BB | SO | IBB | HBP | SH | SF | GIDP |\n",
       "|---|---|---|---|---|---|---|---|---|---|---|---|---|---|---|---|---|---|---|---|---|\n",
       "| trumbma01 | 2016      | 1         | BAL       | AL        | 159       | 613       |  94       | 157       | 27        | ...       | 108       |  2        | 0         | 51        | 170       |  1        |  3        | 0         |  0        | 14        |\n",
       "| cruzne02  | 2016      | 1         | SEA       | AL        | 155       | 589       |  96       | 169       | 27        | ...       | 105       |  2        | 0         | 62        | 159       |  5        |  9        | 0         |  7        | 15        |\n",
       "| daviskh01 | 2016      | 1         | OAK       | AL        | 150       | 555       |  85       | 137       | 24        | ...       | 102       |  1        | 2         | 42        | 166       |  0        |  8        | 0         |  5        | 19        |\n",
       "| doziebr01 | 2016      | 1         | MIN       | AL        | 155       | 615       | 104       | 165       | 35        | ...       |  99       | 18        | 2         | 61        | 138       |  6        |  8        | 2         |  5        | 12        |\n",
       "| encared01 | 2016      | 1         | TOR       | AL        | 160       | 601       |  99       | 158       | 34        | ...       | 127       |  2        | 0         | 87        | 138       |  3        |  5        | 0         |  8        | 22        |\n",
       "| arenano01 | 2016      | 1         | COL       | NL        | 160       | 618       | 116       | 182       | 35        | ...       | 133       |  2        | 3         | 68        | 103       | 10        |  2        | 0         |  8        | 17        |\n",
       "| cartech02 | 2016      | 1         | MIL       | NL        | 160       | 549       |  84       | 122       | 27        | ...       |  94       |  3        | 1         | 76        | 206       |  1        |  9        | 0         | 10        | 18        |\n",
       "| frazito01 | 2016      | 1         | CHA       | AL        | 158       | 590       |  89       | 133       | 21        | ...       |  98       | 15        | 5         | 64        | 163       |  1        |  4        | 1         |  7        | 11        |\n",
       "| bryankr01 | 2016      | 1         | CHN       | NL        | 155       | 603       | 121       | 176       | 35        | ...       | 102       |  8        | 5         | 75        | 154       |  5        | 18        | 0         |  3        |  3        |\n",
       "| canoro01  | 2016      | 1         | SEA       | AL        | 161       | 655       | 107       | 195       | 33        | ...       | 103       |  0        | 1         | 47        | 100       |  8        |  8        | 0         |  5        | 18        |\n",
       "\n"
      ],
      "text/plain": [
       "   playerID  yearID stint teamID lgID G   AB  R   H   X2B ... RBI SB CS BB SO \n",
       "1  trumbma01 2016   1     BAL    AL   159 613  94 157 27  ... 108  2 0  51 170\n",
       "2  cruzne02  2016   1     SEA    AL   155 589  96 169 27  ... 105  2 0  62 159\n",
       "3  daviskh01 2016   1     OAK    AL   150 555  85 137 24  ... 102  1 2  42 166\n",
       "4  doziebr01 2016   1     MIN    AL   155 615 104 165 35  ...  99 18 2  61 138\n",
       "5  encared01 2016   1     TOR    AL   160 601  99 158 34  ... 127  2 0  87 138\n",
       "6  arenano01 2016   1     COL    NL   160 618 116 182 35  ... 133  2 3  68 103\n",
       "7  cartech02 2016   1     MIL    NL   160 549  84 122 27  ...  94  3 1  76 206\n",
       "8  frazito01 2016   1     CHA    AL   158 590  89 133 21  ...  98 15 5  64 163\n",
       "9  bryankr01 2016   1     CHN    NL   155 603 121 176 35  ... 102  8 5  75 154\n",
       "10 canoro01  2016   1     SEA    AL   161 655 107 195 33  ... 103  0 1  47 100\n",
       "   IBB HBP SH SF GIDP\n",
       "1   1   3  0   0 14  \n",
       "2   5   9  0   7 15  \n",
       "3   0   8  0   5 19  \n",
       "4   6   8  2   5 12  \n",
       "5   3   5  0   8 22  \n",
       "6  10   2  0   8 17  \n",
       "7   1   9  0  10 18  \n",
       "8   1   4  1   7 11  \n",
       "9   5  18  0   3  3  \n",
       "10  8   8  0   5 18  "
      ]
     },
     "metadata": {},
     "output_type": "display_data"
    }
   ],
   "source": [
    "top"
   ]
  },
  {
   "cell_type": "code",
   "execution_count": 59,
   "metadata": {},
   "outputs": [
    {
     "data": {
      "text/html": [
       "<table>\n",
       "<thead><tr><th scope=col>playerID</th><th scope=col>yearID</th><th scope=col>stint</th><th scope=col>teamID</th><th scope=col>lgID</th><th scope=col>G</th><th scope=col>AB</th><th scope=col>R</th><th scope=col>H</th><th scope=col>X2B</th><th scope=col>...</th><th scope=col>RBI</th><th scope=col>SB</th><th scope=col>CS</th><th scope=col>BB</th><th scope=col>SO</th><th scope=col>IBB</th><th scope=col>HBP</th><th scope=col>SH</th><th scope=col>SF</th><th scope=col>GIDP</th></tr></thead>\n",
       "<tbody>\n",
       "\t<tr><td>trumbma01</td><td>2016     </td><td>1        </td><td>BAL      </td><td>AL       </td><td>159      </td><td>613      </td><td> 94      </td><td>157      </td><td>27       </td><td>...      </td><td>108      </td><td> 2       </td><td>0        </td><td>51       </td><td>170      </td><td> 1       </td><td> 3       </td><td>0        </td><td> 0       </td><td>14       </td></tr>\n",
       "\t<tr><td>cruzne02 </td><td>2016     </td><td>1        </td><td>SEA      </td><td>AL       </td><td>155      </td><td>589      </td><td> 96      </td><td>169      </td><td>27       </td><td>...      </td><td>105      </td><td> 2       </td><td>0        </td><td>62       </td><td>159      </td><td> 5       </td><td> 9       </td><td>0        </td><td> 7       </td><td>15       </td></tr>\n",
       "\t<tr><td>daviskh01</td><td>2016     </td><td>1        </td><td>OAK      </td><td>AL       </td><td>150      </td><td>555      </td><td> 85      </td><td>137      </td><td>24       </td><td>...      </td><td>102      </td><td> 1       </td><td>2        </td><td>42       </td><td>166      </td><td> 0       </td><td> 8       </td><td>0        </td><td> 5       </td><td>19       </td></tr>\n",
       "\t<tr><td>doziebr01</td><td>2016     </td><td>1        </td><td>MIN      </td><td>AL       </td><td>155      </td><td>615      </td><td>104      </td><td>165      </td><td>35       </td><td>...      </td><td> 99      </td><td>18       </td><td>2        </td><td>61       </td><td>138      </td><td> 6       </td><td> 8       </td><td>2        </td><td> 5       </td><td>12       </td></tr>\n",
       "\t<tr><td>encared01</td><td>2016     </td><td>1        </td><td>TOR      </td><td>AL       </td><td>160      </td><td>601      </td><td> 99      </td><td>158      </td><td>34       </td><td>...      </td><td>127      </td><td> 2       </td><td>0        </td><td>87       </td><td>138      </td><td> 3       </td><td> 5       </td><td>0        </td><td> 8       </td><td>22       </td></tr>\n",
       "\t<tr><td>arenano01</td><td>2016     </td><td>1        </td><td>COL      </td><td>NL       </td><td>160      </td><td>618      </td><td>116      </td><td>182      </td><td>35       </td><td>...      </td><td>133      </td><td> 2       </td><td>3        </td><td>68       </td><td>103      </td><td>10       </td><td> 2       </td><td>0        </td><td> 8       </td><td>17       </td></tr>\n",
       "\t<tr><td>cartech02</td><td>2016     </td><td>1        </td><td>MIL      </td><td>NL       </td><td>160      </td><td>549      </td><td> 84      </td><td>122      </td><td>27       </td><td>...      </td><td> 94      </td><td> 3       </td><td>1        </td><td>76       </td><td>206      </td><td> 1       </td><td> 9       </td><td>0        </td><td>10       </td><td>18       </td></tr>\n",
       "\t<tr><td>frazito01</td><td>2016     </td><td>1        </td><td>CHA      </td><td>AL       </td><td>158      </td><td>590      </td><td> 89      </td><td>133      </td><td>21       </td><td>...      </td><td> 98      </td><td>15       </td><td>5        </td><td>64       </td><td>163      </td><td> 1       </td><td> 4       </td><td>1        </td><td> 7       </td><td>11       </td></tr>\n",
       "\t<tr><td>bryankr01</td><td>2016     </td><td>1        </td><td>CHN      </td><td>NL       </td><td>155      </td><td>603      </td><td>121      </td><td>176      </td><td>35       </td><td>...      </td><td>102      </td><td> 8       </td><td>5        </td><td>75       </td><td>154      </td><td> 5       </td><td>18       </td><td>0        </td><td> 3       </td><td> 3       </td></tr>\n",
       "\t<tr><td>canoro01 </td><td>2016     </td><td>1        </td><td>SEA      </td><td>AL       </td><td>161      </td><td>655      </td><td>107      </td><td>195      </td><td>33       </td><td>...      </td><td>103      </td><td> 0       </td><td>1        </td><td>47       </td><td>100      </td><td> 8       </td><td> 8       </td><td>0        </td><td> 5       </td><td>18       </td></tr>\n",
       "</tbody>\n",
       "</table>\n"
      ],
      "text/latex": [
       "\\begin{tabular}{r|llllllllllllllllllllll}\n",
       " playerID & yearID & stint & teamID & lgID & G & AB & R & H & X2B & ... & RBI & SB & CS & BB & SO & IBB & HBP & SH & SF & GIDP\\\\\n",
       "\\hline\n",
       "\t trumbma01 & 2016      & 1         & BAL       & AL        & 159       & 613       &  94       & 157       & 27        & ...       & 108       &  2        & 0         & 51        & 170       &  1        &  3        & 0         &  0        & 14       \\\\\n",
       "\t cruzne02  & 2016      & 1         & SEA       & AL        & 155       & 589       &  96       & 169       & 27        & ...       & 105       &  2        & 0         & 62        & 159       &  5        &  9        & 0         &  7        & 15       \\\\\n",
       "\t daviskh01 & 2016      & 1         & OAK       & AL        & 150       & 555       &  85       & 137       & 24        & ...       & 102       &  1        & 2         & 42        & 166       &  0        &  8        & 0         &  5        & 19       \\\\\n",
       "\t doziebr01 & 2016      & 1         & MIN       & AL        & 155       & 615       & 104       & 165       & 35        & ...       &  99       & 18        & 2         & 61        & 138       &  6        &  8        & 2         &  5        & 12       \\\\\n",
       "\t encared01 & 2016      & 1         & TOR       & AL        & 160       & 601       &  99       & 158       & 34        & ...       & 127       &  2        & 0         & 87        & 138       &  3        &  5        & 0         &  8        & 22       \\\\\n",
       "\t arenano01 & 2016      & 1         & COL       & NL        & 160       & 618       & 116       & 182       & 35        & ...       & 133       &  2        & 3         & 68        & 103       & 10        &  2        & 0         &  8        & 17       \\\\\n",
       "\t cartech02 & 2016      & 1         & MIL       & NL        & 160       & 549       &  84       & 122       & 27        & ...       &  94       &  3        & 1         & 76        & 206       &  1        &  9        & 0         & 10        & 18       \\\\\n",
       "\t frazito01 & 2016      & 1         & CHA       & AL        & 158       & 590       &  89       & 133       & 21        & ...       &  98       & 15        & 5         & 64        & 163       &  1        &  4        & 1         &  7        & 11       \\\\\n",
       "\t bryankr01 & 2016      & 1         & CHN       & NL        & 155       & 603       & 121       & 176       & 35        & ...       & 102       &  8        & 5         & 75        & 154       &  5        & 18        & 0         &  3        &  3       \\\\\n",
       "\t canoro01  & 2016      & 1         & SEA       & AL        & 161       & 655       & 107       & 195       & 33        & ...       & 103       &  0        & 1         & 47        & 100       &  8        &  8        & 0         &  5        & 18       \\\\\n",
       "\\end{tabular}\n"
      ],
      "text/markdown": [
       "\n",
       "| playerID | yearID | stint | teamID | lgID | G | AB | R | H | X2B | ... | RBI | SB | CS | BB | SO | IBB | HBP | SH | SF | GIDP |\n",
       "|---|---|---|---|---|---|---|---|---|---|---|---|---|---|---|---|---|---|---|---|---|\n",
       "| trumbma01 | 2016      | 1         | BAL       | AL        | 159       | 613       |  94       | 157       | 27        | ...       | 108       |  2        | 0         | 51        | 170       |  1        |  3        | 0         |  0        | 14        |\n",
       "| cruzne02  | 2016      | 1         | SEA       | AL        | 155       | 589       |  96       | 169       | 27        | ...       | 105       |  2        | 0         | 62        | 159       |  5        |  9        | 0         |  7        | 15        |\n",
       "| daviskh01 | 2016      | 1         | OAK       | AL        | 150       | 555       |  85       | 137       | 24        | ...       | 102       |  1        | 2         | 42        | 166       |  0        |  8        | 0         |  5        | 19        |\n",
       "| doziebr01 | 2016      | 1         | MIN       | AL        | 155       | 615       | 104       | 165       | 35        | ...       |  99       | 18        | 2         | 61        | 138       |  6        |  8        | 2         |  5        | 12        |\n",
       "| encared01 | 2016      | 1         | TOR       | AL        | 160       | 601       |  99       | 158       | 34        | ...       | 127       |  2        | 0         | 87        | 138       |  3        |  5        | 0         |  8        | 22        |\n",
       "| arenano01 | 2016      | 1         | COL       | NL        | 160       | 618       | 116       | 182       | 35        | ...       | 133       |  2        | 3         | 68        | 103       | 10        |  2        | 0         |  8        | 17        |\n",
       "| cartech02 | 2016      | 1         | MIL       | NL        | 160       | 549       |  84       | 122       | 27        | ...       |  94       |  3        | 1         | 76        | 206       |  1        |  9        | 0         | 10        | 18        |\n",
       "| frazito01 | 2016      | 1         | CHA       | AL        | 158       | 590       |  89       | 133       | 21        | ...       |  98       | 15        | 5         | 64        | 163       |  1        |  4        | 1         |  7        | 11        |\n",
       "| bryankr01 | 2016      | 1         | CHN       | NL        | 155       | 603       | 121       | 176       | 35        | ...       | 102       |  8        | 5         | 75        | 154       |  5        | 18        | 0         |  3        |  3        |\n",
       "| canoro01  | 2016      | 1         | SEA       | AL        | 161       | 655       | 107       | 195       | 33        | ...       | 103       |  0        | 1         | 47        | 100       |  8        |  8        | 0         |  5        | 18        |\n",
       "\n"
      ],
      "text/plain": [
       "   playerID  yearID stint teamID lgID G   AB  R   H   X2B ... RBI SB CS BB SO \n",
       "1  trumbma01 2016   1     BAL    AL   159 613  94 157 27  ... 108  2 0  51 170\n",
       "2  cruzne02  2016   1     SEA    AL   155 589  96 169 27  ... 105  2 0  62 159\n",
       "3  daviskh01 2016   1     OAK    AL   150 555  85 137 24  ... 102  1 2  42 166\n",
       "4  doziebr01 2016   1     MIN    AL   155 615 104 165 35  ...  99 18 2  61 138\n",
       "5  encared01 2016   1     TOR    AL   160 601  99 158 34  ... 127  2 0  87 138\n",
       "6  arenano01 2016   1     COL    NL   160 618 116 182 35  ... 133  2 3  68 103\n",
       "7  cartech02 2016   1     MIL    NL   160 549  84 122 27  ...  94  3 1  76 206\n",
       "8  frazito01 2016   1     CHA    AL   158 590  89 133 21  ...  98 15 5  64 163\n",
       "9  bryankr01 2016   1     CHN    NL   155 603 121 176 35  ... 102  8 5  75 154\n",
       "10 canoro01  2016   1     SEA    AL   161 655 107 195 33  ... 103  0 1  47 100\n",
       "   IBB HBP SH SF GIDP\n",
       "1   1   3  0   0 14  \n",
       "2   5   9  0   7 15  \n",
       "3   0   8  0   5 19  \n",
       "4   6   8  2   5 12  \n",
       "5   3   5  0   8 22  \n",
       "6  10   2  0   8 17  \n",
       "7   1   9  0  10 18  \n",
       "8   1   4  1   7 11  \n",
       "9   5  18  0   3  3  \n",
       "10  8   8  0   5 18  "
      ]
     },
     "metadata": {},
     "output_type": "display_data"
    }
   ],
   "source": [
    "top %>% as_tibble()"
   ]
  },
  {
   "cell_type": "code",
   "execution_count": 60,
   "metadata": {},
   "outputs": [
    {
     "data": {
      "text/html": [
       "<table>\n",
       "<thead><tr><th scope=col>playerID</th><th scope=col>birthYear</th><th scope=col>birthMonth</th><th scope=col>birthDay</th><th scope=col>birthCountry</th><th scope=col>birthState</th><th scope=col>birthCity</th><th scope=col>deathYear</th><th scope=col>deathMonth</th><th scope=col>deathDay</th><th scope=col>...</th><th scope=col>weight</th><th scope=col>height</th><th scope=col>bats</th><th scope=col>throws</th><th scope=col>debut</th><th scope=col>finalGame</th><th scope=col>retroID</th><th scope=col>bbrefID</th><th scope=col>deathDate</th><th scope=col>birthDate</th></tr></thead>\n",
       "<tbody>\n",
       "\t<tr><td>aardsda01   </td><td>1981        </td><td>12          </td><td>27          </td><td>USA         </td><td>CO          </td><td>Denver      </td><td>  NA        </td><td>NA          </td><td>NA          </td><td>...         </td><td>215         </td><td>75          </td><td>R           </td><td>R           </td><td>2004-04-06  </td><td>2015-08-23  </td><td>aardd001    </td><td>aardsda01   </td><td>NA          </td><td>1981-12-27  </td></tr>\n",
       "\t<tr><td>aaronha01   </td><td>1934        </td><td> 2          </td><td> 5          </td><td>USA         </td><td>AL          </td><td>Mobile      </td><td>  NA        </td><td>NA          </td><td>NA          </td><td>...         </td><td>180         </td><td>72          </td><td>R           </td><td>R           </td><td>1954-04-13  </td><td>1976-10-03  </td><td>aaroh101    </td><td>aaronha01   </td><td>NA          </td><td>1934-02-05  </td></tr>\n",
       "\t<tr><td>aaronto01   </td><td>1939        </td><td> 8          </td><td> 5          </td><td>USA         </td><td>AL          </td><td>Mobile      </td><td>1984        </td><td> 8          </td><td>16          </td><td>...         </td><td>190         </td><td>75          </td><td>R           </td><td>R           </td><td>1962-04-10  </td><td>1971-09-26  </td><td>aarot101    </td><td>aaronto01   </td><td>1984-08-16  </td><td>1939-08-05  </td></tr>\n",
       "\t<tr><td>aasedo01    </td><td>1954        </td><td> 9          </td><td> 8          </td><td>USA         </td><td>CA          </td><td>Orange      </td><td>  NA        </td><td>NA          </td><td>NA          </td><td>...         </td><td>190         </td><td>75          </td><td>R           </td><td>R           </td><td>1977-07-26  </td><td>1990-10-03  </td><td>aased001    </td><td>aasedo01    </td><td>NA          </td><td>1954-09-08  </td></tr>\n",
       "\t<tr><td>abadan01    </td><td>1972        </td><td> 8          </td><td>25          </td><td>USA         </td><td>FL          </td><td>Palm Beach  </td><td>  NA        </td><td>NA          </td><td>NA          </td><td>...         </td><td>184         </td><td>73          </td><td>L           </td><td>L           </td><td>2001-09-10  </td><td>2006-04-13  </td><td>abada001    </td><td>abadan01    </td><td>NA          </td><td>1972-08-25  </td></tr>\n",
       "\t<tr><td>abadfe01    </td><td>1985        </td><td>12          </td><td>17          </td><td>D.R.        </td><td>La Romana   </td><td>La Romana   </td><td>  NA        </td><td>NA          </td><td>NA          </td><td>...         </td><td>220         </td><td>73          </td><td>L           </td><td>L           </td><td>2010-07-28  </td><td>2019-09-28  </td><td>abadf001    </td><td>abadfe01    </td><td>NA          </td><td>1985-12-17  </td></tr>\n",
       "\t<tr><td>abadijo01   </td><td>1850        </td><td>11          </td><td> 4          </td><td>USA         </td><td>PA          </td><td>Philadelphia</td><td>1905        </td><td> 5          </td><td>17          </td><td>...         </td><td>192         </td><td>72          </td><td>R           </td><td>R           </td><td>1875-04-26  </td><td>1875-06-10  </td><td>abadj101    </td><td>abadijo01   </td><td>1905-05-17  </td><td>1850-11-04  </td></tr>\n",
       "\t<tr><td>abbated01   </td><td>1877        </td><td> 4          </td><td>15          </td><td>USA         </td><td>PA          </td><td>Latrobe     </td><td>1957        </td><td> 1          </td><td> 6          </td><td>...         </td><td>170         </td><td>71          </td><td>R           </td><td>R           </td><td>1897-09-04  </td><td>1910-09-15  </td><td>abbae101    </td><td>abbated01   </td><td>1957-01-06  </td><td>1877-04-15  </td></tr>\n",
       "\t<tr><td>abbeybe01   </td><td>1869        </td><td>11          </td><td>11          </td><td>USA         </td><td>VT          </td><td>Essex       </td><td>1962        </td><td> 6          </td><td>11          </td><td>...         </td><td>175         </td><td>71          </td><td>R           </td><td>R           </td><td>1892-06-14  </td><td>1896-09-23  </td><td>abbeb101    </td><td>abbeybe01   </td><td>1962-06-11  </td><td>1869-11-11  </td></tr>\n",
       "\t<tr><td>abbeych01   </td><td>1866        </td><td>10          </td><td>14          </td><td>USA         </td><td>NE          </td><td>Falls City  </td><td>1926        </td><td> 4          </td><td>27          </td><td>...         </td><td>169         </td><td>68          </td><td>L           </td><td>L           </td><td>1893-08-16  </td><td>1897-08-19  </td><td>abbec101    </td><td>abbeych01   </td><td>1926-04-27  </td><td>1866-10-14  </td></tr>\n",
       "\t<tr><td>abbotda01   </td><td>1862        </td><td> 3          </td><td>16          </td><td>USA         </td><td>OH          </td><td>Portage     </td><td>1930        </td><td> 2          </td><td>13          </td><td>...         </td><td>190         </td><td>71          </td><td>R           </td><td>R           </td><td>1890-04-19  </td><td>1890-05-23  </td><td>abbod101    </td><td>abbotda01   </td><td>1930-02-13  </td><td>1862-03-16  </td></tr>\n",
       "\t<tr><td>abbotfr01   </td><td>1874        </td><td>10          </td><td>22          </td><td>USA         </td><td>OH          </td><td>Versailles  </td><td>1935        </td><td> 6          </td><td>11          </td><td>...         </td><td>180         </td><td>70          </td><td>R           </td><td>R           </td><td>1903-04-25  </td><td>1905-09-20  </td><td>abbof101    </td><td>abbotfr01   </td><td>1935-06-11  </td><td>1874-10-22  </td></tr>\n",
       "\t<tr><td>abbotgl01   </td><td>1951        </td><td> 2          </td><td>16          </td><td>USA         </td><td>AR          </td><td>Little Rock </td><td>  NA        </td><td>NA          </td><td>NA          </td><td>...         </td><td>200         </td><td>78          </td><td>R           </td><td>R           </td><td>1973-07-29  </td><td>1984-08-08  </td><td>abbog001    </td><td>abbotgl01   </td><td>NA          </td><td>1951-02-16  </td></tr>\n",
       "\t<tr><td>abbotje01   </td><td>1972        </td><td> 8          </td><td>17          </td><td>USA         </td><td>GA          </td><td>Atlanta     </td><td>  NA        </td><td>NA          </td><td>NA          </td><td>...         </td><td>190         </td><td>74          </td><td>R           </td><td>L           </td><td>1997-06-10  </td><td>2001-09-29  </td><td>abboj002    </td><td>abbotje01   </td><td>NA          </td><td>1972-08-17  </td></tr>\n",
       "\t<tr><td>abbotji01   </td><td>1967        </td><td> 9          </td><td>19          </td><td>USA         </td><td>MI          </td><td>Flint       </td><td>  NA        </td><td>NA          </td><td>NA          </td><td>...         </td><td>200         </td><td>75          </td><td>L           </td><td>L           </td><td>1989-04-08  </td><td>1999-07-21  </td><td>abboj001    </td><td>abbotji01   </td><td>NA          </td><td>1967-09-19  </td></tr>\n",
       "\t<tr><td>abbotku01   </td><td>1969        </td><td> 6          </td><td> 2          </td><td>USA         </td><td>OH          </td><td>Zanesville  </td><td>  NA        </td><td>NA          </td><td>NA          </td><td>...         </td><td>180         </td><td>71          </td><td>R           </td><td>R           </td><td>1993-09-07  </td><td>2001-04-13  </td><td>abbok002    </td><td>abbotku01   </td><td>NA          </td><td>1969-06-02  </td></tr>\n",
       "\t<tr><td>abbotky01   </td><td>1968        </td><td> 2          </td><td>18          </td><td>USA         </td><td>MA          </td><td>Newburyport </td><td>  NA        </td><td>NA          </td><td>NA          </td><td>...         </td><td>200         </td><td>76          </td><td>L           </td><td>L           </td><td>1991-09-10  </td><td>1996-08-24  </td><td>abbok001    </td><td>abbotky01   </td><td>NA          </td><td>1968-02-18  </td></tr>\n",
       "\t<tr><td>abbotod01   </td><td>1886        </td><td> 9          </td><td> 5          </td><td>USA         </td><td>PA          </td><td>New Eagle   </td><td>1933        </td><td> 4          </td><td>13          </td><td>...         </td><td>165         </td><td>69          </td><td>L           </td><td>R           </td><td>1910-09-10  </td><td>1910-10-15  </td><td>abboo101    </td><td>abbotod01   </td><td>1933-04-13  </td><td>1886-09-05  </td></tr>\n",
       "\t<tr><td>abbotpa01   </td><td>1967        </td><td> 9          </td><td>15          </td><td>USA         </td><td>CA          </td><td>Van Nuys    </td><td>  NA        </td><td>NA          </td><td>NA          </td><td>...         </td><td>185         </td><td>75          </td><td>R           </td><td>R           </td><td>1990-08-21  </td><td>2004-08-07  </td><td>abbop001    </td><td>abbotpa01   </td><td>NA          </td><td>1967-09-15  </td></tr>\n",
       "\t<tr><td>aberal01    </td><td>1927        </td><td> 7          </td><td>31          </td><td>USA         </td><td>OH          </td><td>Cleveland   </td><td>1993        </td><td> 5          </td><td>20          </td><td>...         </td><td>195         </td><td>74          </td><td>L           </td><td>L           </td><td>1950-09-15  </td><td>1957-09-11  </td><td>abera101    </td><td>aberal01    </td><td>1993-05-20  </td><td>1927-07-31  </td></tr>\n",
       "\t<tr><td>abercda01   </td><td>1850        </td><td> 1          </td><td> 2          </td><td>USA         </td><td>OK          </td><td>Fort Towson </td><td>1939        </td><td>11          </td><td>11          </td><td>...         </td><td> NA         </td><td>NA          </td><td>NA          </td><td>NA          </td><td>1871-10-21  </td><td>1871-10-21  </td><td>aberd101    </td><td>abercda01   </td><td>1939-11-11  </td><td>1850-01-02  </td></tr>\n",
       "\t<tr><td>abercre01   </td><td>1980        </td><td> 7          </td><td>15          </td><td>USA         </td><td>GA          </td><td>Columbus    </td><td>  NA        </td><td>NA          </td><td>NA          </td><td>...         </td><td>215         </td><td>75          </td><td>R           </td><td>R           </td><td>2006-04-04  </td><td>2008-09-28  </td><td>aberr001    </td><td>abercre01   </td><td>NA          </td><td>1980-07-15  </td></tr>\n",
       "\t<tr><td>abernbi01   </td><td>1929        </td><td> 1          </td><td>30          </td><td>USA         </td><td>CA          </td><td>Torrance    </td><td>2006        </td><td> 2          </td><td>19          </td><td>...         </td><td>190         </td><td>70          </td><td>R           </td><td>R           </td><td>1952-09-27  </td><td>1952-09-27  </td><td>aberb101    </td><td>abernbi01   </td><td>2006-02-19  </td><td>1929-01-30  </td></tr>\n",
       "\t<tr><td>abernbr01   </td><td>1977        </td><td> 9          </td><td>23          </td><td>USA         </td><td>GA          </td><td>Atlanta     </td><td>  NA        </td><td>NA          </td><td>NA          </td><td>...         </td><td>185         </td><td>73          </td><td>R           </td><td>R           </td><td>2001-06-25  </td><td>2005-09-29  </td><td>aberb001    </td><td>abernbr01   </td><td>NA          </td><td>1977-09-23  </td></tr>\n",
       "\t<tr><td>abernte01   </td><td>1921        </td><td>10          </td><td>30          </td><td>USA         </td><td>NC          </td><td>Bynum       </td><td>2001        </td><td>11          </td><td>16          </td><td>...         </td><td>210         </td><td>74          </td><td>R           </td><td>L           </td><td>1942-09-19  </td><td>1944-04-29  </td><td>abert102    </td><td>abernte01   </td><td>2001-11-16  </td><td>1921-10-30  </td></tr>\n",
       "\t<tr><td>abernte02   </td><td>1933        </td><td> 3          </td><td> 6          </td><td>USA         </td><td>NC          </td><td>Stanley     </td><td>2004        </td><td>12          </td><td>16          </td><td>...         </td><td>215         </td><td>76          </td><td>R           </td><td>R           </td><td>1955-04-13  </td><td>1972-09-30  </td><td>abert101    </td><td>abernte02   </td><td>2004-12-16  </td><td>1933-03-06  </td></tr>\n",
       "\t<tr><td>abernwo01   </td><td>1915        </td><td> 2          </td><td> 1          </td><td>USA         </td><td>NC          </td><td>Forest City </td><td>1994        </td><td>12          </td><td> 5          </td><td>...         </td><td>170         </td><td>72          </td><td>L           </td><td>L           </td><td>1946-07-28  </td><td>1947-04-17  </td><td>aberw101    </td><td>abernwo01   </td><td>1994-12-05  </td><td>1915-02-01  </td></tr>\n",
       "\t<tr><td>aberscl01   </td><td>1921        </td><td> 8          </td><td>28          </td><td>USA         </td><td>IL          </td><td>Chicago     </td><td>1973        </td><td> 6          </td><td>23          </td><td>...         </td><td>200         </td><td>72          </td><td>R           </td><td>R           </td><td>1947-07-18  </td><td>1949-05-09  </td><td>aberc101    </td><td>aberscl01   </td><td>1973-06-23  </td><td>1921-08-28  </td></tr>\n",
       "\t<tr><td>ablesha01   </td><td>1883        </td><td>10          </td><td> 4          </td><td>USA         </td><td>TX          </td><td>Terrell     </td><td>1951        </td><td> 2          </td><td> 8          </td><td>...         </td><td>200         </td><td>74          </td><td>R           </td><td>L           </td><td>1905-09-02  </td><td>1911-05-05  </td><td>ableh101    </td><td>ablesha01   </td><td>1951-02-08  </td><td>1883-10-04  </td></tr>\n",
       "\t<tr><td>abnersh01   </td><td>1966        </td><td> 6          </td><td>17          </td><td>USA         </td><td>OH          </td><td>Hamilton    </td><td>  NA        </td><td>NA          </td><td>NA          </td><td>...         </td><td>190         </td><td>73          </td><td>R           </td><td>R           </td><td>1987-09-08  </td><td>1992-10-03  </td><td>abnes001    </td><td>abnersh01   </td><td>NA          </td><td>1966-06-17  </td></tr>\n",
       "\t<tr><td>...</td><td>...</td><td>...</td><td>...</td><td>...</td><td>...</td><td>...</td><td>...</td><td>...</td><td>...</td><td>   </td><td>...</td><td>...</td><td>...</td><td>...</td><td>...</td><td>...</td><td>...</td><td>...</td><td>...</td><td>...</td></tr>\n",
       "\t<tr><td>zimmeky01       </td><td>1991            </td><td> 9              </td><td>13              </td><td>USA             </td><td>CA              </td><td>San Francisco   </td><td>  NA            </td><td>NA              </td><td>NA              </td><td>...             </td><td>225             </td><td>75              </td><td>R               </td><td>R               </td><td>2019-03-31      </td><td>2019-09-27      </td><td>zimmk001        </td><td>zimmeky01       </td><td>NA              </td><td>1991-09-13      </td></tr>\n",
       "\t<tr><td>zimmero01       </td><td>1913            </td><td> 9              </td><td>13              </td><td>USA             </td><td>PA              </td><td>Pine Grove      </td><td>1991            </td><td>11              </td><td>22              </td><td>...             </td><td>187             </td><td>74              </td><td>L               </td><td>L               </td><td>1945-08-27      </td><td>1945-09-30      </td><td>zimmr101        </td><td>zimmero01       </td><td>1991-11-22      </td><td>1913-09-13      </td></tr>\n",
       "\t<tr><td>zimmery01       </td><td>1984            </td><td> 9              </td><td>28              </td><td>USA             </td><td>NC              </td><td>Washington      </td><td>  NA            </td><td>NA              </td><td>NA              </td><td>...             </td><td>215             </td><td>75              </td><td>R               </td><td>R               </td><td>2005-09-01      </td><td>2019-09-29      </td><td>zimmr001        </td><td>zimmery01       </td><td>NA              </td><td>1984-09-28      </td></tr>\n",
       "\t<tr><td>zinkch01        </td><td>1979            </td><td> 8              </td><td>26              </td><td>USA             </td><td>CA              </td><td>Carmichael      </td><td>  NA            </td><td>NA              </td><td>NA              </td><td>...             </td><td>190             </td><td>73              </td><td>R               </td><td>R               </td><td>2008-08-12      </td><td>2008-08-12      </td><td>zinkc001        </td><td>zinkch01        </td><td>NA              </td><td>1979-08-26      </td></tr>\n",
       "\t<tr><td>zinkwa01        </td><td>1898            </td><td>11              </td><td>21              </td><td>USA             </td><td>MA              </td><td>Pittsfield      </td><td>1964            </td><td> 6              </td><td>12              </td><td>...             </td><td>165             </td><td>72              </td><td>R               </td><td>R               </td><td>1921-07-06      </td><td>1921-07-19      </td><td>zinkw101        </td><td>zinkwa01        </td><td>1964-06-12      </td><td>1898-11-21      </td></tr>\n",
       "\t<tr><td>zinnfr01        </td><td>1865            </td><td>12              </td><td>21              </td><td>USA             </td><td>PA              </td><td>Phoenixville    </td><td>1936            </td><td> 5              </td><td>12              </td><td>...             </td><td>150             </td><td>68              </td><td>NA              </td><td>NA              </td><td>1888-04-18      </td><td>1888-05-03      </td><td>zinnf101        </td><td>zinnfr01        </td><td>1936-05-12      </td><td>1865-12-21      </td></tr>\n",
       "\t<tr><td>zinngu01        </td><td>1887            </td><td> 2              </td><td>13              </td><td>USA             </td><td>WV              </td><td>Holbrook        </td><td>1949            </td><td>10              </td><td> 6              </td><td>...             </td><td>170             </td><td>70              </td><td>L               </td><td>R               </td><td>1911-09-11      </td><td>1915-09-16      </td><td>zinng101        </td><td>zinngu01        </td><td>1949-10-06      </td><td>1887-02-13      </td></tr>\n",
       "\t<tr><td>zinnji01        </td><td>1895            </td><td> 1              </td><td>31              </td><td>USA             </td><td>AR              </td><td>Benton          </td><td>1991            </td><td> 2              </td><td>26              </td><td>...             </td><td>195             </td><td>72              </td><td>L               </td><td>R               </td><td>1919-09-04      </td><td>1929-08-25      </td><td>zinnj101        </td><td>zinnji01        </td><td>1991-02-26      </td><td>1895-01-31      </td></tr>\n",
       "\t<tr><td>zinsebi01       </td><td>1918            </td><td> 1              </td><td> 6              </td><td>USA             </td><td>NY              </td><td>Astoria         </td><td>1993            </td><td> 2              </td><td>16              </td><td>...             </td><td>185             </td><td>73              </td><td>R               </td><td>R               </td><td>1944-08-19      </td><td>1944-08-26      </td><td>zinsb101        </td><td>zinsebi01       </td><td>1993-02-16      </td><td>1918-01-06      </td></tr>\n",
       "\t<tr><td>zinteal01       </td><td>1968            </td><td> 5              </td><td>19              </td><td>USA             </td><td>TX              </td><td>El Paso         </td><td>  NA            </td><td>NA              </td><td>NA              </td><td>...             </td><td>200             </td><td>74              </td><td>B               </td><td>R               </td><td>2002-06-18      </td><td>2004-10-03      </td><td>zinta001        </td><td>zinteal01       </td><td>NA              </td><td>1968-05-19      </td></tr>\n",
       "\t<tr><td>zipfebu01       </td><td>1938            </td><td>11              </td><td>18              </td><td>USA             </td><td>IL              </td><td>Belleville      </td><td>  NA            </td><td>NA              </td><td>NA              </td><td>...             </td><td>200             </td><td>75              </td><td>L               </td><td>R               </td><td>1961-07-26      </td><td>1962-09-30      </td><td>zipfb101        </td><td>zipfebu01       </td><td>NA              </td><td>1938-11-18      </td></tr>\n",
       "\t<tr><td>ziskri01        </td><td>1949            </td><td> 2              </td><td> 6              </td><td>USA             </td><td>NY              </td><td>Brooklyn        </td><td>  NA            </td><td>NA              </td><td>NA              </td><td>...             </td><td>200             </td><td>73              </td><td>R               </td><td>R               </td><td>1971-09-08      </td><td>1983-09-21      </td><td>ziskr101        </td><td>ziskri01        </td><td>NA              </td><td>1949-02-06      </td></tr>\n",
       "\t<tr><td>zitoba01        </td><td>1978            </td><td> 5              </td><td>13              </td><td>USA             </td><td>NV              </td><td>Las Vegas       </td><td>  NA            </td><td>NA              </td><td>NA              </td><td>...             </td><td>205             </td><td>74              </td><td>L               </td><td>L               </td><td>2000-07-22      </td><td>2015-09-30      </td><td>zitob001        </td><td>zitoba01        </td><td>NA              </td><td>1978-05-13      </td></tr>\n",
       "\t<tr><td>zitzmbi01       </td><td>1895            </td><td>11              </td><td>19              </td><td>USA             </td><td>NY              </td><td>Long Island City</td><td>1985            </td><td> 5              </td><td>29              </td><td>...             </td><td>175             </td><td>70              </td><td>R               </td><td>R               </td><td>1919-04-27      </td><td>1929-09-25      </td><td>zitzb101        </td><td>zitzmbi01       </td><td>1985-05-29      </td><td>1895-11-19      </td></tr>\n",
       "\t<tr><td>zmiched01       </td><td>1884            </td><td>10              </td><td> 1              </td><td>USA             </td><td>OH              </td><td>Cleveland       </td><td>1950            </td><td> 8              </td><td>20              </td><td>...             </td><td>180             </td><td>72              </td><td>L               </td><td>L               </td><td>1910-07-23      </td><td>1911-06-01      </td><td>zmice101        </td><td>zmiched01       </td><td>1950-08-20      </td><td>1884-10-01      </td></tr>\n",
       "\t<tr><td>zobribe01       </td><td>1981            </td><td> 5              </td><td>26              </td><td>USA             </td><td>IL              </td><td>Eureka          </td><td>  NA            </td><td>NA              </td><td>NA              </td><td>...             </td><td>210             </td><td>75              </td><td>B               </td><td>R               </td><td>2006-08-01      </td><td>2019-09-29      </td><td>zobrb001        </td><td>zobribe01       </td><td>NA              </td><td>1981-05-26      </td></tr>\n",
       "\t<tr><td>zoccope01       </td><td>1977            </td><td> 2              </td><td> 6              </td><td>USA             </td><td>NY              </td><td>Bronx           </td><td>  NA            </td><td>NA              </td><td>NA              </td><td>...             </td><td>200             </td><td>74              </td><td>L               </td><td>R               </td><td>2003-09-05      </td><td>2003-09-28      </td><td>zoccp001        </td><td>zoccope01       </td><td>NA              </td><td>1977-02-06      </td></tr>\n",
       "\t<tr><td>zoldasa01       </td><td>1918            </td><td>12              </td><td> 8              </td><td>USA             </td><td>NY              </td><td>Brooklyn        </td><td>1966            </td><td> 8              </td><td>25              </td><td>...             </td><td>185             </td><td>71              </td><td>L               </td><td>L               </td><td>1944-05-13      </td><td>1952-08-26      </td><td>zolds101        </td><td>zoldasa01       </td><td>1966-08-25      </td><td>1918-12-08      </td></tr>\n",
       "\t<tr><td>zoskyed01       </td><td>1968            </td><td> 2              </td><td>10              </td><td>USA             </td><td>CA              </td><td>Whittier        </td><td>  NA            </td><td>NA              </td><td>NA              </td><td>...             </td><td>175             </td><td>72              </td><td>R               </td><td>R               </td><td>1991-09-02      </td><td>2000-10-01      </td><td>zoske001        </td><td>zoskyed01       </td><td>NA              </td><td>1968-02-10      </td></tr>\n",
       "\t<tr><td>zuberbi01       </td><td>1913            </td><td> 3              </td><td>26              </td><td>USA             </td><td>IA              </td><td>Middle Amana    </td><td>1982            </td><td>11              </td><td> 2              </td><td>...             </td><td>195             </td><td>74              </td><td>R               </td><td>R               </td><td>1936-09-16      </td><td>1947-09-23      </td><td>zubeb101        </td><td>zuberbi01       </td><td>1982-11-02      </td><td>1913-03-26      </td></tr>\n",
       "\t<tr><td>zuberjo01       </td><td>1969            </td><td>12              </td><td>10              </td><td>USA             </td><td>CA              </td><td>Encino          </td><td>  NA            </td><td>NA              </td><td>NA              </td><td>...             </td><td>190             </td><td>73              </td><td>L               </td><td>L               </td><td>1996-04-19      </td><td>1998-09-27      </td><td>zubej001        </td><td>zuberjo01       </td><td>NA              </td><td>1969-12-10      </td></tr>\n",
       "\t<tr><td>zuletju01       </td><td>1975            </td><td> 3              </td><td>28              </td><td>Panama          </td><td>Panama          </td><td>Panama          </td><td>  NA            </td><td>NA              </td><td>NA              </td><td>...             </td><td>230             </td><td>78              </td><td>R               </td><td>R               </td><td>2000-04-06      </td><td>2001-06-25      </td><td>zulej001        </td><td>zuletju01       </td><td>NA              </td><td>1975-03-28      </td></tr>\n",
       "\t<tr><td>zumayjo01       </td><td>1984            </td><td>11              </td><td> 9              </td><td>USA             </td><td>CA              </td><td>Chula Vista     </td><td>  NA            </td><td>NA              </td><td>NA              </td><td>...             </td><td>215             </td><td>75              </td><td>R               </td><td>R               </td><td>2006-04-03      </td><td>2010-06-28      </td><td>zumaj001        </td><td>zumayjo01       </td><td>NA              </td><td>1984-11-09      </td></tr>\n",
       "\t<tr><td>zuninmi01       </td><td>1991            </td><td> 3              </td><td>25              </td><td>USA             </td><td>FL              </td><td>Cape Coral      </td><td>  NA            </td><td>NA              </td><td>NA              </td><td>...             </td><td>235             </td><td>74              </td><td>R               </td><td>R               </td><td>2013-06-12      </td><td>2019-09-29      </td><td>zunim001        </td><td>zuninmi01       </td><td>NA              </td><td>1991-03-25      </td></tr>\n",
       "\t<tr><td>zupcibo01       </td><td>1966            </td><td> 8              </td><td>18              </td><td>USA             </td><td>PA              </td><td>Pittsburgh      </td><td>  NA            </td><td>NA              </td><td>NA              </td><td>...             </td><td>220             </td><td>76              </td><td>R               </td><td>R               </td><td>1991-09-07      </td><td>1994-08-04      </td><td>zupcb001        </td><td>zupcibo01       </td><td>NA              </td><td>1966-08-18      </td></tr>\n",
       "\t<tr><td>zupofr01        </td><td>1939            </td><td> 8              </td><td>29              </td><td>USA             </td><td>CA              </td><td>San Francisco   </td><td>2005            </td><td> 3              </td><td>25              </td><td>...             </td><td>182             </td><td>71              </td><td>L               </td><td>R               </td><td>1957-07-01      </td><td>1961-05-09      </td><td>zupof101        </td><td>zupofr01        </td><td>2005-03-25      </td><td>1939-08-29      </td></tr>\n",
       "\t<tr><td>zuvelpa01       </td><td>1958            </td><td>10              </td><td>31              </td><td>USA             </td><td>CA              </td><td>San Mateo       </td><td>  NA            </td><td>NA              </td><td>NA              </td><td>...             </td><td>173             </td><td>72              </td><td>R               </td><td>R               </td><td>1982-09-04      </td><td>1991-05-02      </td><td>zuvep001        </td><td>zuvelpa01       </td><td>NA              </td><td>1958-10-31      </td></tr>\n",
       "\t<tr><td>zuverge01       </td><td>1924            </td><td> 8              </td><td>20              </td><td>USA             </td><td>MI              </td><td>Holland         </td><td>2014            </td><td> 9              </td><td> 8              </td><td>...             </td><td>195             </td><td>76              </td><td>R               </td><td>R               </td><td>1951-04-21      </td><td>1959-06-15      </td><td>zuveg101        </td><td>zuverge01       </td><td>2014-09-08      </td><td>1924-08-20      </td></tr>\n",
       "\t<tr><td>zwilldu01       </td><td>1888            </td><td>11              </td><td> 2              </td><td>USA             </td><td>MO              </td><td>St. Louis       </td><td>1978            </td><td> 3              </td><td>27              </td><td>...             </td><td>160             </td><td>66              </td><td>L               </td><td>L               </td><td>1910-08-14      </td><td>1916-07-12      </td><td>zwild101        </td><td>zwilldu01       </td><td>1978-03-27      </td><td>1888-11-02      </td></tr>\n",
       "\t<tr><td>zychto01        </td><td>1990            </td><td> 8              </td><td> 7              </td><td>USA             </td><td>IL              </td><td>Monee           </td><td>  NA            </td><td>NA              </td><td>NA              </td><td>...             </td><td>190             </td><td>75              </td><td>R               </td><td>R               </td><td>2015-09-04      </td><td>2017-08-19      </td><td>zycht001        </td><td>zychto01        </td><td>NA              </td><td>1990-08-07      </td></tr>\n",
       "</tbody>\n",
       "</table>\n"
      ],
      "text/latex": [
       "\\begin{tabular}{r|llllllllllllllllllllllllll}\n",
       " playerID & birthYear & birthMonth & birthDay & birthCountry & birthState & birthCity & deathYear & deathMonth & deathDay & ... & weight & height & bats & throws & debut & finalGame & retroID & bbrefID & deathDate & birthDate\\\\\n",
       "\\hline\n",
       "\t aardsda01    & 1981         & 12           & 27           & USA          & CO           & Denver       &   NA         & NA           & NA           & ...          & 215          & 75           & R            & R            & 2004-04-06   & 2015-08-23   & aardd001     & aardsda01    & NA           & 1981-12-27  \\\\\n",
       "\t aaronha01    & 1934         &  2           &  5           & USA          & AL           & Mobile       &   NA         & NA           & NA           & ...          & 180          & 72           & R            & R            & 1954-04-13   & 1976-10-03   & aaroh101     & aaronha01    & NA           & 1934-02-05  \\\\\n",
       "\t aaronto01    & 1939         &  8           &  5           & USA          & AL           & Mobile       & 1984         &  8           & 16           & ...          & 190          & 75           & R            & R            & 1962-04-10   & 1971-09-26   & aarot101     & aaronto01    & 1984-08-16   & 1939-08-05  \\\\\n",
       "\t aasedo01     & 1954         &  9           &  8           & USA          & CA           & Orange       &   NA         & NA           & NA           & ...          & 190          & 75           & R            & R            & 1977-07-26   & 1990-10-03   & aased001     & aasedo01     & NA           & 1954-09-08  \\\\\n",
       "\t abadan01     & 1972         &  8           & 25           & USA          & FL           & Palm Beach   &   NA         & NA           & NA           & ...          & 184          & 73           & L            & L            & 2001-09-10   & 2006-04-13   & abada001     & abadan01     & NA           & 1972-08-25  \\\\\n",
       "\t abadfe01     & 1985         & 12           & 17           & D.R.         & La Romana    & La Romana    &   NA         & NA           & NA           & ...          & 220          & 73           & L            & L            & 2010-07-28   & 2019-09-28   & abadf001     & abadfe01     & NA           & 1985-12-17  \\\\\n",
       "\t abadijo01    & 1850         & 11           &  4           & USA          & PA           & Philadelphia & 1905         &  5           & 17           & ...          & 192          & 72           & R            & R            & 1875-04-26   & 1875-06-10   & abadj101     & abadijo01    & 1905-05-17   & 1850-11-04  \\\\\n",
       "\t abbated01    & 1877         &  4           & 15           & USA          & PA           & Latrobe      & 1957         &  1           &  6           & ...          & 170          & 71           & R            & R            & 1897-09-04   & 1910-09-15   & abbae101     & abbated01    & 1957-01-06   & 1877-04-15  \\\\\n",
       "\t abbeybe01    & 1869         & 11           & 11           & USA          & VT           & Essex        & 1962         &  6           & 11           & ...          & 175          & 71           & R            & R            & 1892-06-14   & 1896-09-23   & abbeb101     & abbeybe01    & 1962-06-11   & 1869-11-11  \\\\\n",
       "\t abbeych01    & 1866         & 10           & 14           & USA          & NE           & Falls City   & 1926         &  4           & 27           & ...          & 169          & 68           & L            & L            & 1893-08-16   & 1897-08-19   & abbec101     & abbeych01    & 1926-04-27   & 1866-10-14  \\\\\n",
       "\t abbotda01    & 1862         &  3           & 16           & USA          & OH           & Portage      & 1930         &  2           & 13           & ...          & 190          & 71           & R            & R            & 1890-04-19   & 1890-05-23   & abbod101     & abbotda01    & 1930-02-13   & 1862-03-16  \\\\\n",
       "\t abbotfr01    & 1874         & 10           & 22           & USA          & OH           & Versailles   & 1935         &  6           & 11           & ...          & 180          & 70           & R            & R            & 1903-04-25   & 1905-09-20   & abbof101     & abbotfr01    & 1935-06-11   & 1874-10-22  \\\\\n",
       "\t abbotgl01    & 1951         &  2           & 16           & USA          & AR           & Little Rock  &   NA         & NA           & NA           & ...          & 200          & 78           & R            & R            & 1973-07-29   & 1984-08-08   & abbog001     & abbotgl01    & NA           & 1951-02-16  \\\\\n",
       "\t abbotje01    & 1972         &  8           & 17           & USA          & GA           & Atlanta      &   NA         & NA           & NA           & ...          & 190          & 74           & R            & L            & 1997-06-10   & 2001-09-29   & abboj002     & abbotje01    & NA           & 1972-08-17  \\\\\n",
       "\t abbotji01    & 1967         &  9           & 19           & USA          & MI           & Flint        &   NA         & NA           & NA           & ...          & 200          & 75           & L            & L            & 1989-04-08   & 1999-07-21   & abboj001     & abbotji01    & NA           & 1967-09-19  \\\\\n",
       "\t abbotku01    & 1969         &  6           &  2           & USA          & OH           & Zanesville   &   NA         & NA           & NA           & ...          & 180          & 71           & R            & R            & 1993-09-07   & 2001-04-13   & abbok002     & abbotku01    & NA           & 1969-06-02  \\\\\n",
       "\t abbotky01    & 1968         &  2           & 18           & USA          & MA           & Newburyport  &   NA         & NA           & NA           & ...          & 200          & 76           & L            & L            & 1991-09-10   & 1996-08-24   & abbok001     & abbotky01    & NA           & 1968-02-18  \\\\\n",
       "\t abbotod01    & 1886         &  9           &  5           & USA          & PA           & New Eagle    & 1933         &  4           & 13           & ...          & 165          & 69           & L            & R            & 1910-09-10   & 1910-10-15   & abboo101     & abbotod01    & 1933-04-13   & 1886-09-05  \\\\\n",
       "\t abbotpa01    & 1967         &  9           & 15           & USA          & CA           & Van Nuys     &   NA         & NA           & NA           & ...          & 185          & 75           & R            & R            & 1990-08-21   & 2004-08-07   & abbop001     & abbotpa01    & NA           & 1967-09-15  \\\\\n",
       "\t aberal01     & 1927         &  7           & 31           & USA          & OH           & Cleveland    & 1993         &  5           & 20           & ...          & 195          & 74           & L            & L            & 1950-09-15   & 1957-09-11   & abera101     & aberal01     & 1993-05-20   & 1927-07-31  \\\\\n",
       "\t abercda01    & 1850         &  1           &  2           & USA          & OK           & Fort Towson  & 1939         & 11           & 11           & ...          &  NA          & NA           & NA           & NA           & 1871-10-21   & 1871-10-21   & aberd101     & abercda01    & 1939-11-11   & 1850-01-02  \\\\\n",
       "\t abercre01    & 1980         &  7           & 15           & USA          & GA           & Columbus     &   NA         & NA           & NA           & ...          & 215          & 75           & R            & R            & 2006-04-04   & 2008-09-28   & aberr001     & abercre01    & NA           & 1980-07-15  \\\\\n",
       "\t abernbi01    & 1929         &  1           & 30           & USA          & CA           & Torrance     & 2006         &  2           & 19           & ...          & 190          & 70           & R            & R            & 1952-09-27   & 1952-09-27   & aberb101     & abernbi01    & 2006-02-19   & 1929-01-30  \\\\\n",
       "\t abernbr01    & 1977         &  9           & 23           & USA          & GA           & Atlanta      &   NA         & NA           & NA           & ...          & 185          & 73           & R            & R            & 2001-06-25   & 2005-09-29   & aberb001     & abernbr01    & NA           & 1977-09-23  \\\\\n",
       "\t abernte01    & 1921         & 10           & 30           & USA          & NC           & Bynum        & 2001         & 11           & 16           & ...          & 210          & 74           & R            & L            & 1942-09-19   & 1944-04-29   & abert102     & abernte01    & 2001-11-16   & 1921-10-30  \\\\\n",
       "\t abernte02    & 1933         &  3           &  6           & USA          & NC           & Stanley      & 2004         & 12           & 16           & ...          & 215          & 76           & R            & R            & 1955-04-13   & 1972-09-30   & abert101     & abernte02    & 2004-12-16   & 1933-03-06  \\\\\n",
       "\t abernwo01    & 1915         &  2           &  1           & USA          & NC           & Forest City  & 1994         & 12           &  5           & ...          & 170          & 72           & L            & L            & 1946-07-28   & 1947-04-17   & aberw101     & abernwo01    & 1994-12-05   & 1915-02-01  \\\\\n",
       "\t aberscl01    & 1921         &  8           & 28           & USA          & IL           & Chicago      & 1973         &  6           & 23           & ...          & 200          & 72           & R            & R            & 1947-07-18   & 1949-05-09   & aberc101     & aberscl01    & 1973-06-23   & 1921-08-28  \\\\\n",
       "\t ablesha01    & 1883         & 10           &  4           & USA          & TX           & Terrell      & 1951         &  2           &  8           & ...          & 200          & 74           & R            & L            & 1905-09-02   & 1911-05-05   & ableh101     & ablesha01    & 1951-02-08   & 1883-10-04  \\\\\n",
       "\t abnersh01    & 1966         &  6           & 17           & USA          & OH           & Hamilton     &   NA         & NA           & NA           & ...          & 190          & 73           & R            & R            & 1987-09-08   & 1992-10-03   & abnes001     & abnersh01    & NA           & 1966-06-17  \\\\\n",
       "\t ... & ... & ... & ... & ... & ... & ... & ... & ... & ... &     & ... & ... & ... & ... & ... & ... & ... & ... & ... & ...\\\\\n",
       "\t zimmeky01        & 1991             &  9               & 13               & USA              & CA               & San Francisco    &   NA             & NA               & NA               & ...              & 225              & 75               & R                & R                & 2019-03-31       & 2019-09-27       & zimmk001         & zimmeky01        & NA               & 1991-09-13      \\\\\n",
       "\t zimmero01        & 1913             &  9               & 13               & USA              & PA               & Pine Grove       & 1991             & 11               & 22               & ...              & 187              & 74               & L                & L                & 1945-08-27       & 1945-09-30       & zimmr101         & zimmero01        & 1991-11-22       & 1913-09-13      \\\\\n",
       "\t zimmery01        & 1984             &  9               & 28               & USA              & NC               & Washington       &   NA             & NA               & NA               & ...              & 215              & 75               & R                & R                & 2005-09-01       & 2019-09-29       & zimmr001         & zimmery01        & NA               & 1984-09-28      \\\\\n",
       "\t zinkch01         & 1979             &  8               & 26               & USA              & CA               & Carmichael       &   NA             & NA               & NA               & ...              & 190              & 73               & R                & R                & 2008-08-12       & 2008-08-12       & zinkc001         & zinkch01         & NA               & 1979-08-26      \\\\\n",
       "\t zinkwa01         & 1898             & 11               & 21               & USA              & MA               & Pittsfield       & 1964             &  6               & 12               & ...              & 165              & 72               & R                & R                & 1921-07-06       & 1921-07-19       & zinkw101         & zinkwa01         & 1964-06-12       & 1898-11-21      \\\\\n",
       "\t zinnfr01         & 1865             & 12               & 21               & USA              & PA               & Phoenixville     & 1936             &  5               & 12               & ...              & 150              & 68               & NA               & NA               & 1888-04-18       & 1888-05-03       & zinnf101         & zinnfr01         & 1936-05-12       & 1865-12-21      \\\\\n",
       "\t zinngu01         & 1887             &  2               & 13               & USA              & WV               & Holbrook         & 1949             & 10               &  6               & ...              & 170              & 70               & L                & R                & 1911-09-11       & 1915-09-16       & zinng101         & zinngu01         & 1949-10-06       & 1887-02-13      \\\\\n",
       "\t zinnji01         & 1895             &  1               & 31               & USA              & AR               & Benton           & 1991             &  2               & 26               & ...              & 195              & 72               & L                & R                & 1919-09-04       & 1929-08-25       & zinnj101         & zinnji01         & 1991-02-26       & 1895-01-31      \\\\\n",
       "\t zinsebi01        & 1918             &  1               &  6               & USA              & NY               & Astoria          & 1993             &  2               & 16               & ...              & 185              & 73               & R                & R                & 1944-08-19       & 1944-08-26       & zinsb101         & zinsebi01        & 1993-02-16       & 1918-01-06      \\\\\n",
       "\t zinteal01        & 1968             &  5               & 19               & USA              & TX               & El Paso          &   NA             & NA               & NA               & ...              & 200              & 74               & B                & R                & 2002-06-18       & 2004-10-03       & zinta001         & zinteal01        & NA               & 1968-05-19      \\\\\n",
       "\t zipfebu01        & 1938             & 11               & 18               & USA              & IL               & Belleville       &   NA             & NA               & NA               & ...              & 200              & 75               & L                & R                & 1961-07-26       & 1962-09-30       & zipfb101         & zipfebu01        & NA               & 1938-11-18      \\\\\n",
       "\t ziskri01         & 1949             &  2               &  6               & USA              & NY               & Brooklyn         &   NA             & NA               & NA               & ...              & 200              & 73               & R                & R                & 1971-09-08       & 1983-09-21       & ziskr101         & ziskri01         & NA               & 1949-02-06      \\\\\n",
       "\t zitoba01         & 1978             &  5               & 13               & USA              & NV               & Las Vegas        &   NA             & NA               & NA               & ...              & 205              & 74               & L                & L                & 2000-07-22       & 2015-09-30       & zitob001         & zitoba01         & NA               & 1978-05-13      \\\\\n",
       "\t zitzmbi01        & 1895             & 11               & 19               & USA              & NY               & Long Island City & 1985             &  5               & 29               & ...              & 175              & 70               & R                & R                & 1919-04-27       & 1929-09-25       & zitzb101         & zitzmbi01        & 1985-05-29       & 1895-11-19      \\\\\n",
       "\t zmiched01        & 1884             & 10               &  1               & USA              & OH               & Cleveland        & 1950             &  8               & 20               & ...              & 180              & 72               & L                & L                & 1910-07-23       & 1911-06-01       & zmice101         & zmiched01        & 1950-08-20       & 1884-10-01      \\\\\n",
       "\t zobribe01        & 1981             &  5               & 26               & USA              & IL               & Eureka           &   NA             & NA               & NA               & ...              & 210              & 75               & B                & R                & 2006-08-01       & 2019-09-29       & zobrb001         & zobribe01        & NA               & 1981-05-26      \\\\\n",
       "\t zoccope01        & 1977             &  2               &  6               & USA              & NY               & Bronx            &   NA             & NA               & NA               & ...              & 200              & 74               & L                & R                & 2003-09-05       & 2003-09-28       & zoccp001         & zoccope01        & NA               & 1977-02-06      \\\\\n",
       "\t zoldasa01        & 1918             & 12               &  8               & USA              & NY               & Brooklyn         & 1966             &  8               & 25               & ...              & 185              & 71               & L                & L                & 1944-05-13       & 1952-08-26       & zolds101         & zoldasa01        & 1966-08-25       & 1918-12-08      \\\\\n",
       "\t zoskyed01        & 1968             &  2               & 10               & USA              & CA               & Whittier         &   NA             & NA               & NA               & ...              & 175              & 72               & R                & R                & 1991-09-02       & 2000-10-01       & zoske001         & zoskyed01        & NA               & 1968-02-10      \\\\\n",
       "\t zuberbi01        & 1913             &  3               & 26               & USA              & IA               & Middle Amana     & 1982             & 11               &  2               & ...              & 195              & 74               & R                & R                & 1936-09-16       & 1947-09-23       & zubeb101         & zuberbi01        & 1982-11-02       & 1913-03-26      \\\\\n",
       "\t zuberjo01        & 1969             & 12               & 10               & USA              & CA               & Encino           &   NA             & NA               & NA               & ...              & 190              & 73               & L                & L                & 1996-04-19       & 1998-09-27       & zubej001         & zuberjo01        & NA               & 1969-12-10      \\\\\n",
       "\t zuletju01        & 1975             &  3               & 28               & Panama           & Panama           & Panama           &   NA             & NA               & NA               & ...              & 230              & 78               & R                & R                & 2000-04-06       & 2001-06-25       & zulej001         & zuletju01        & NA               & 1975-03-28      \\\\\n",
       "\t zumayjo01        & 1984             & 11               &  9               & USA              & CA               & Chula Vista      &   NA             & NA               & NA               & ...              & 215              & 75               & R                & R                & 2006-04-03       & 2010-06-28       & zumaj001         & zumayjo01        & NA               & 1984-11-09      \\\\\n",
       "\t zuninmi01        & 1991             &  3               & 25               & USA              & FL               & Cape Coral       &   NA             & NA               & NA               & ...              & 235              & 74               & R                & R                & 2013-06-12       & 2019-09-29       & zunim001         & zuninmi01        & NA               & 1991-03-25      \\\\\n",
       "\t zupcibo01        & 1966             &  8               & 18               & USA              & PA               & Pittsburgh       &   NA             & NA               & NA               & ...              & 220              & 76               & R                & R                & 1991-09-07       & 1994-08-04       & zupcb001         & zupcibo01        & NA               & 1966-08-18      \\\\\n",
       "\t zupofr01         & 1939             &  8               & 29               & USA              & CA               & San Francisco    & 2005             &  3               & 25               & ...              & 182              & 71               & L                & R                & 1957-07-01       & 1961-05-09       & zupof101         & zupofr01         & 2005-03-25       & 1939-08-29      \\\\\n",
       "\t zuvelpa01        & 1958             & 10               & 31               & USA              & CA               & San Mateo        &   NA             & NA               & NA               & ...              & 173              & 72               & R                & R                & 1982-09-04       & 1991-05-02       & zuvep001         & zuvelpa01        & NA               & 1958-10-31      \\\\\n",
       "\t zuverge01        & 1924             &  8               & 20               & USA              & MI               & Holland          & 2014             &  9               &  8               & ...              & 195              & 76               & R                & R                & 1951-04-21       & 1959-06-15       & zuveg101         & zuverge01        & 2014-09-08       & 1924-08-20      \\\\\n",
       "\t zwilldu01        & 1888             & 11               &  2               & USA              & MO               & St. Louis        & 1978             &  3               & 27               & ...              & 160              & 66               & L                & L                & 1910-08-14       & 1916-07-12       & zwild101         & zwilldu01        & 1978-03-27       & 1888-11-02      \\\\\n",
       "\t zychto01         & 1990             &  8               &  7               & USA              & IL               & Monee            &   NA             & NA               & NA               & ...              & 190              & 75               & R                & R                & 2015-09-04       & 2017-08-19       & zycht001         & zychto01         & NA               & 1990-08-07      \\\\\n",
       "\\end{tabular}\n"
      ],
      "text/markdown": [
       "\n",
       "| playerID | birthYear | birthMonth | birthDay | birthCountry | birthState | birthCity | deathYear | deathMonth | deathDay | ... | weight | height | bats | throws | debut | finalGame | retroID | bbrefID | deathDate | birthDate |\n",
       "|---|---|---|---|---|---|---|---|---|---|---|---|---|---|---|---|---|---|---|---|---|\n",
       "| aardsda01    | 1981         | 12           | 27           | USA          | CO           | Denver       |   NA         | NA           | NA           | ...          | 215          | 75           | R            | R            | 2004-04-06   | 2015-08-23   | aardd001     | aardsda01    | NA           | 1981-12-27   |\n",
       "| aaronha01    | 1934         |  2           |  5           | USA          | AL           | Mobile       |   NA         | NA           | NA           | ...          | 180          | 72           | R            | R            | 1954-04-13   | 1976-10-03   | aaroh101     | aaronha01    | NA           | 1934-02-05   |\n",
       "| aaronto01    | 1939         |  8           |  5           | USA          | AL           | Mobile       | 1984         |  8           | 16           | ...          | 190          | 75           | R            | R            | 1962-04-10   | 1971-09-26   | aarot101     | aaronto01    | 1984-08-16   | 1939-08-05   |\n",
       "| aasedo01     | 1954         |  9           |  8           | USA          | CA           | Orange       |   NA         | NA           | NA           | ...          | 190          | 75           | R            | R            | 1977-07-26   | 1990-10-03   | aased001     | aasedo01     | NA           | 1954-09-08   |\n",
       "| abadan01     | 1972         |  8           | 25           | USA          | FL           | Palm Beach   |   NA         | NA           | NA           | ...          | 184          | 73           | L            | L            | 2001-09-10   | 2006-04-13   | abada001     | abadan01     | NA           | 1972-08-25   |\n",
       "| abadfe01     | 1985         | 12           | 17           | D.R.         | La Romana    | La Romana    |   NA         | NA           | NA           | ...          | 220          | 73           | L            | L            | 2010-07-28   | 2019-09-28   | abadf001     | abadfe01     | NA           | 1985-12-17   |\n",
       "| abadijo01    | 1850         | 11           |  4           | USA          | PA           | Philadelphia | 1905         |  5           | 17           | ...          | 192          | 72           | R            | R            | 1875-04-26   | 1875-06-10   | abadj101     | abadijo01    | 1905-05-17   | 1850-11-04   |\n",
       "| abbated01    | 1877         |  4           | 15           | USA          | PA           | Latrobe      | 1957         |  1           |  6           | ...          | 170          | 71           | R            | R            | 1897-09-04   | 1910-09-15   | abbae101     | abbated01    | 1957-01-06   | 1877-04-15   |\n",
       "| abbeybe01    | 1869         | 11           | 11           | USA          | VT           | Essex        | 1962         |  6           | 11           | ...          | 175          | 71           | R            | R            | 1892-06-14   | 1896-09-23   | abbeb101     | abbeybe01    | 1962-06-11   | 1869-11-11   |\n",
       "| abbeych01    | 1866         | 10           | 14           | USA          | NE           | Falls City   | 1926         |  4           | 27           | ...          | 169          | 68           | L            | L            | 1893-08-16   | 1897-08-19   | abbec101     | abbeych01    | 1926-04-27   | 1866-10-14   |\n",
       "| abbotda01    | 1862         |  3           | 16           | USA          | OH           | Portage      | 1930         |  2           | 13           | ...          | 190          | 71           | R            | R            | 1890-04-19   | 1890-05-23   | abbod101     | abbotda01    | 1930-02-13   | 1862-03-16   |\n",
       "| abbotfr01    | 1874         | 10           | 22           | USA          | OH           | Versailles   | 1935         |  6           | 11           | ...          | 180          | 70           | R            | R            | 1903-04-25   | 1905-09-20   | abbof101     | abbotfr01    | 1935-06-11   | 1874-10-22   |\n",
       "| abbotgl01    | 1951         |  2           | 16           | USA          | AR           | Little Rock  |   NA         | NA           | NA           | ...          | 200          | 78           | R            | R            | 1973-07-29   | 1984-08-08   | abbog001     | abbotgl01    | NA           | 1951-02-16   |\n",
       "| abbotje01    | 1972         |  8           | 17           | USA          | GA           | Atlanta      |   NA         | NA           | NA           | ...          | 190          | 74           | R            | L            | 1997-06-10   | 2001-09-29   | abboj002     | abbotje01    | NA           | 1972-08-17   |\n",
       "| abbotji01    | 1967         |  9           | 19           | USA          | MI           | Flint        |   NA         | NA           | NA           | ...          | 200          | 75           | L            | L            | 1989-04-08   | 1999-07-21   | abboj001     | abbotji01    | NA           | 1967-09-19   |\n",
       "| abbotku01    | 1969         |  6           |  2           | USA          | OH           | Zanesville   |   NA         | NA           | NA           | ...          | 180          | 71           | R            | R            | 1993-09-07   | 2001-04-13   | abbok002     | abbotku01    | NA           | 1969-06-02   |\n",
       "| abbotky01    | 1968         |  2           | 18           | USA          | MA           | Newburyport  |   NA         | NA           | NA           | ...          | 200          | 76           | L            | L            | 1991-09-10   | 1996-08-24   | abbok001     | abbotky01    | NA           | 1968-02-18   |\n",
       "| abbotod01    | 1886         |  9           |  5           | USA          | PA           | New Eagle    | 1933         |  4           | 13           | ...          | 165          | 69           | L            | R            | 1910-09-10   | 1910-10-15   | abboo101     | abbotod01    | 1933-04-13   | 1886-09-05   |\n",
       "| abbotpa01    | 1967         |  9           | 15           | USA          | CA           | Van Nuys     |   NA         | NA           | NA           | ...          | 185          | 75           | R            | R            | 1990-08-21   | 2004-08-07   | abbop001     | abbotpa01    | NA           | 1967-09-15   |\n",
       "| aberal01     | 1927         |  7           | 31           | USA          | OH           | Cleveland    | 1993         |  5           | 20           | ...          | 195          | 74           | L            | L            | 1950-09-15   | 1957-09-11   | abera101     | aberal01     | 1993-05-20   | 1927-07-31   |\n",
       "| abercda01    | 1850         |  1           |  2           | USA          | OK           | Fort Towson  | 1939         | 11           | 11           | ...          |  NA          | NA           | NA           | NA           | 1871-10-21   | 1871-10-21   | aberd101     | abercda01    | 1939-11-11   | 1850-01-02   |\n",
       "| abercre01    | 1980         |  7           | 15           | USA          | GA           | Columbus     |   NA         | NA           | NA           | ...          | 215          | 75           | R            | R            | 2006-04-04   | 2008-09-28   | aberr001     | abercre01    | NA           | 1980-07-15   |\n",
       "| abernbi01    | 1929         |  1           | 30           | USA          | CA           | Torrance     | 2006         |  2           | 19           | ...          | 190          | 70           | R            | R            | 1952-09-27   | 1952-09-27   | aberb101     | abernbi01    | 2006-02-19   | 1929-01-30   |\n",
       "| abernbr01    | 1977         |  9           | 23           | USA          | GA           | Atlanta      |   NA         | NA           | NA           | ...          | 185          | 73           | R            | R            | 2001-06-25   | 2005-09-29   | aberb001     | abernbr01    | NA           | 1977-09-23   |\n",
       "| abernte01    | 1921         | 10           | 30           | USA          | NC           | Bynum        | 2001         | 11           | 16           | ...          | 210          | 74           | R            | L            | 1942-09-19   | 1944-04-29   | abert102     | abernte01    | 2001-11-16   | 1921-10-30   |\n",
       "| abernte02    | 1933         |  3           |  6           | USA          | NC           | Stanley      | 2004         | 12           | 16           | ...          | 215          | 76           | R            | R            | 1955-04-13   | 1972-09-30   | abert101     | abernte02    | 2004-12-16   | 1933-03-06   |\n",
       "| abernwo01    | 1915         |  2           |  1           | USA          | NC           | Forest City  | 1994         | 12           |  5           | ...          | 170          | 72           | L            | L            | 1946-07-28   | 1947-04-17   | aberw101     | abernwo01    | 1994-12-05   | 1915-02-01   |\n",
       "| aberscl01    | 1921         |  8           | 28           | USA          | IL           | Chicago      | 1973         |  6           | 23           | ...          | 200          | 72           | R            | R            | 1947-07-18   | 1949-05-09   | aberc101     | aberscl01    | 1973-06-23   | 1921-08-28   |\n",
       "| ablesha01    | 1883         | 10           |  4           | USA          | TX           | Terrell      | 1951         |  2           |  8           | ...          | 200          | 74           | R            | L            | 1905-09-02   | 1911-05-05   | ableh101     | ablesha01    | 1951-02-08   | 1883-10-04   |\n",
       "| abnersh01    | 1966         |  6           | 17           | USA          | OH           | Hamilton     |   NA         | NA           | NA           | ...          | 190          | 73           | R            | R            | 1987-09-08   | 1992-10-03   | abnes001     | abnersh01    | NA           | 1966-06-17   |\n",
       "| ... | ... | ... | ... | ... | ... | ... | ... | ... | ... |     | ... | ... | ... | ... | ... | ... | ... | ... | ... | ... |\n",
       "| zimmeky01        | 1991             |  9               | 13               | USA              | CA               | San Francisco    |   NA             | NA               | NA               | ...              | 225              | 75               | R                | R                | 2019-03-31       | 2019-09-27       | zimmk001         | zimmeky01        | NA               | 1991-09-13       |\n",
       "| zimmero01        | 1913             |  9               | 13               | USA              | PA               | Pine Grove       | 1991             | 11               | 22               | ...              | 187              | 74               | L                | L                | 1945-08-27       | 1945-09-30       | zimmr101         | zimmero01        | 1991-11-22       | 1913-09-13       |\n",
       "| zimmery01        | 1984             |  9               | 28               | USA              | NC               | Washington       |   NA             | NA               | NA               | ...              | 215              | 75               | R                | R                | 2005-09-01       | 2019-09-29       | zimmr001         | zimmery01        | NA               | 1984-09-28       |\n",
       "| zinkch01         | 1979             |  8               | 26               | USA              | CA               | Carmichael       |   NA             | NA               | NA               | ...              | 190              | 73               | R                | R                | 2008-08-12       | 2008-08-12       | zinkc001         | zinkch01         | NA               | 1979-08-26       |\n",
       "| zinkwa01         | 1898             | 11               | 21               | USA              | MA               | Pittsfield       | 1964             |  6               | 12               | ...              | 165              | 72               | R                | R                | 1921-07-06       | 1921-07-19       | zinkw101         | zinkwa01         | 1964-06-12       | 1898-11-21       |\n",
       "| zinnfr01         | 1865             | 12               | 21               | USA              | PA               | Phoenixville     | 1936             |  5               | 12               | ...              | 150              | 68               | NA               | NA               | 1888-04-18       | 1888-05-03       | zinnf101         | zinnfr01         | 1936-05-12       | 1865-12-21       |\n",
       "| zinngu01         | 1887             |  2               | 13               | USA              | WV               | Holbrook         | 1949             | 10               |  6               | ...              | 170              | 70               | L                | R                | 1911-09-11       | 1915-09-16       | zinng101         | zinngu01         | 1949-10-06       | 1887-02-13       |\n",
       "| zinnji01         | 1895             |  1               | 31               | USA              | AR               | Benton           | 1991             |  2               | 26               | ...              | 195              | 72               | L                | R                | 1919-09-04       | 1929-08-25       | zinnj101         | zinnji01         | 1991-02-26       | 1895-01-31       |\n",
       "| zinsebi01        | 1918             |  1               |  6               | USA              | NY               | Astoria          | 1993             |  2               | 16               | ...              | 185              | 73               | R                | R                | 1944-08-19       | 1944-08-26       | zinsb101         | zinsebi01        | 1993-02-16       | 1918-01-06       |\n",
       "| zinteal01        | 1968             |  5               | 19               | USA              | TX               | El Paso          |   NA             | NA               | NA               | ...              | 200              | 74               | B                | R                | 2002-06-18       | 2004-10-03       | zinta001         | zinteal01        | NA               | 1968-05-19       |\n",
       "| zipfebu01        | 1938             | 11               | 18               | USA              | IL               | Belleville       |   NA             | NA               | NA               | ...              | 200              | 75               | L                | R                | 1961-07-26       | 1962-09-30       | zipfb101         | zipfebu01        | NA               | 1938-11-18       |\n",
       "| ziskri01         | 1949             |  2               |  6               | USA              | NY               | Brooklyn         |   NA             | NA               | NA               | ...              | 200              | 73               | R                | R                | 1971-09-08       | 1983-09-21       | ziskr101         | ziskri01         | NA               | 1949-02-06       |\n",
       "| zitoba01         | 1978             |  5               | 13               | USA              | NV               | Las Vegas        |   NA             | NA               | NA               | ...              | 205              | 74               | L                | L                | 2000-07-22       | 2015-09-30       | zitob001         | zitoba01         | NA               | 1978-05-13       |\n",
       "| zitzmbi01        | 1895             | 11               | 19               | USA              | NY               | Long Island City | 1985             |  5               | 29               | ...              | 175              | 70               | R                | R                | 1919-04-27       | 1929-09-25       | zitzb101         | zitzmbi01        | 1985-05-29       | 1895-11-19       |\n",
       "| zmiched01        | 1884             | 10               |  1               | USA              | OH               | Cleveland        | 1950             |  8               | 20               | ...              | 180              | 72               | L                | L                | 1910-07-23       | 1911-06-01       | zmice101         | zmiched01        | 1950-08-20       | 1884-10-01       |\n",
       "| zobribe01        | 1981             |  5               | 26               | USA              | IL               | Eureka           |   NA             | NA               | NA               | ...              | 210              | 75               | B                | R                | 2006-08-01       | 2019-09-29       | zobrb001         | zobribe01        | NA               | 1981-05-26       |\n",
       "| zoccope01        | 1977             |  2               |  6               | USA              | NY               | Bronx            |   NA             | NA               | NA               | ...              | 200              | 74               | L                | R                | 2003-09-05       | 2003-09-28       | zoccp001         | zoccope01        | NA               | 1977-02-06       |\n",
       "| zoldasa01        | 1918             | 12               |  8               | USA              | NY               | Brooklyn         | 1966             |  8               | 25               | ...              | 185              | 71               | L                | L                | 1944-05-13       | 1952-08-26       | zolds101         | zoldasa01        | 1966-08-25       | 1918-12-08       |\n",
       "| zoskyed01        | 1968             |  2               | 10               | USA              | CA               | Whittier         |   NA             | NA               | NA               | ...              | 175              | 72               | R                | R                | 1991-09-02       | 2000-10-01       | zoske001         | zoskyed01        | NA               | 1968-02-10       |\n",
       "| zuberbi01        | 1913             |  3               | 26               | USA              | IA               | Middle Amana     | 1982             | 11               |  2               | ...              | 195              | 74               | R                | R                | 1936-09-16       | 1947-09-23       | zubeb101         | zuberbi01        | 1982-11-02       | 1913-03-26       |\n",
       "| zuberjo01        | 1969             | 12               | 10               | USA              | CA               | Encino           |   NA             | NA               | NA               | ...              | 190              | 73               | L                | L                | 1996-04-19       | 1998-09-27       | zubej001         | zuberjo01        | NA               | 1969-12-10       |\n",
       "| zuletju01        | 1975             |  3               | 28               | Panama           | Panama           | Panama           |   NA             | NA               | NA               | ...              | 230              | 78               | R                | R                | 2000-04-06       | 2001-06-25       | zulej001         | zuletju01        | NA               | 1975-03-28       |\n",
       "| zumayjo01        | 1984             | 11               |  9               | USA              | CA               | Chula Vista      |   NA             | NA               | NA               | ...              | 215              | 75               | R                | R                | 2006-04-03       | 2010-06-28       | zumaj001         | zumayjo01        | NA               | 1984-11-09       |\n",
       "| zuninmi01        | 1991             |  3               | 25               | USA              | FL               | Cape Coral       |   NA             | NA               | NA               | ...              | 235              | 74               | R                | R                | 2013-06-12       | 2019-09-29       | zunim001         | zuninmi01        | NA               | 1991-03-25       |\n",
       "| zupcibo01        | 1966             |  8               | 18               | USA              | PA               | Pittsburgh       |   NA             | NA               | NA               | ...              | 220              | 76               | R                | R                | 1991-09-07       | 1994-08-04       | zupcb001         | zupcibo01        | NA               | 1966-08-18       |\n",
       "| zupofr01         | 1939             |  8               | 29               | USA              | CA               | San Francisco    | 2005             |  3               | 25               | ...              | 182              | 71               | L                | R                | 1957-07-01       | 1961-05-09       | zupof101         | zupofr01         | 2005-03-25       | 1939-08-29       |\n",
       "| zuvelpa01        | 1958             | 10               | 31               | USA              | CA               | San Mateo        |   NA             | NA               | NA               | ...              | 173              | 72               | R                | R                | 1982-09-04       | 1991-05-02       | zuvep001         | zuvelpa01        | NA               | 1958-10-31       |\n",
       "| zuverge01        | 1924             |  8               | 20               | USA              | MI               | Holland          | 2014             |  9               |  8               | ...              | 195              | 76               | R                | R                | 1951-04-21       | 1959-06-15       | zuveg101         | zuverge01        | 2014-09-08       | 1924-08-20       |\n",
       "| zwilldu01        | 1888             | 11               |  2               | USA              | MO               | St. Louis        | 1978             |  3               | 27               | ...              | 160              | 66               | L                | L                | 1910-08-14       | 1916-07-12       | zwild101         | zwilldu01        | 1978-03-27       | 1888-11-02       |\n",
       "| zychto01         | 1990             |  8               |  7               | USA              | IL               | Monee            |   NA             | NA               | NA               | ...              | 190              | 75               | R                | R                | 2015-09-04       | 2017-08-19       | zycht001         | zychto01         | NA               | 1990-08-07       |\n",
       "\n"
      ],
      "text/plain": [
       "      playerID  birthYear birthMonth birthDay birthCountry birthState\n",
       "1     aardsda01 1981      12         27       USA          CO        \n",
       "2     aaronha01 1934       2          5       USA          AL        \n",
       "3     aaronto01 1939       8          5       USA          AL        \n",
       "4     aasedo01  1954       9          8       USA          CA        \n",
       "5     abadan01  1972       8         25       USA          FL        \n",
       "6     abadfe01  1985      12         17       D.R.         La Romana \n",
       "7     abadijo01 1850      11          4       USA          PA        \n",
       "8     abbated01 1877       4         15       USA          PA        \n",
       "9     abbeybe01 1869      11         11       USA          VT        \n",
       "10    abbeych01 1866      10         14       USA          NE        \n",
       "11    abbotda01 1862       3         16       USA          OH        \n",
       "12    abbotfr01 1874      10         22       USA          OH        \n",
       "13    abbotgl01 1951       2         16       USA          AR        \n",
       "14    abbotje01 1972       8         17       USA          GA        \n",
       "15    abbotji01 1967       9         19       USA          MI        \n",
       "16    abbotku01 1969       6          2       USA          OH        \n",
       "17    abbotky01 1968       2         18       USA          MA        \n",
       "18    abbotod01 1886       9          5       USA          PA        \n",
       "19    abbotpa01 1967       9         15       USA          CA        \n",
       "20    aberal01  1927       7         31       USA          OH        \n",
       "21    abercda01 1850       1          2       USA          OK        \n",
       "22    abercre01 1980       7         15       USA          GA        \n",
       "23    abernbi01 1929       1         30       USA          CA        \n",
       "24    abernbr01 1977       9         23       USA          GA        \n",
       "25    abernte01 1921      10         30       USA          NC        \n",
       "26    abernte02 1933       3          6       USA          NC        \n",
       "27    abernwo01 1915       2          1       USA          NC        \n",
       "28    aberscl01 1921       8         28       USA          IL        \n",
       "29    ablesha01 1883      10          4       USA          TX        \n",
       "30    abnersh01 1966       6         17       USA          OH        \n",
       "...   ...       ...       ...        ...      ...          ...       \n",
       "19849 zimmeky01 1991       9         13       USA          CA        \n",
       "19850 zimmero01 1913       9         13       USA          PA        \n",
       "19851 zimmery01 1984       9         28       USA          NC        \n",
       "19852 zinkch01  1979       8         26       USA          CA        \n",
       "19853 zinkwa01  1898      11         21       USA          MA        \n",
       "19854 zinnfr01  1865      12         21       USA          PA        \n",
       "19855 zinngu01  1887       2         13       USA          WV        \n",
       "19856 zinnji01  1895       1         31       USA          AR        \n",
       "19857 zinsebi01 1918       1          6       USA          NY        \n",
       "19858 zinteal01 1968       5         19       USA          TX        \n",
       "19859 zipfebu01 1938      11         18       USA          IL        \n",
       "19860 ziskri01  1949       2          6       USA          NY        \n",
       "19861 zitoba01  1978       5         13       USA          NV        \n",
       "19862 zitzmbi01 1895      11         19       USA          NY        \n",
       "19863 zmiched01 1884      10          1       USA          OH        \n",
       "19864 zobribe01 1981       5         26       USA          IL        \n",
       "19865 zoccope01 1977       2          6       USA          NY        \n",
       "19866 zoldasa01 1918      12          8       USA          NY        \n",
       "19867 zoskyed01 1968       2         10       USA          CA        \n",
       "19868 zuberbi01 1913       3         26       USA          IA        \n",
       "19869 zuberjo01 1969      12         10       USA          CA        \n",
       "19870 zuletju01 1975       3         28       Panama       Panama    \n",
       "19871 zumayjo01 1984      11          9       USA          CA        \n",
       "19872 zuninmi01 1991       3         25       USA          FL        \n",
       "19873 zupcibo01 1966       8         18       USA          PA        \n",
       "19874 zupofr01  1939       8         29       USA          CA        \n",
       "19875 zuvelpa01 1958      10         31       USA          CA        \n",
       "19876 zuverge01 1924       8         20       USA          MI        \n",
       "19877 zwilldu01 1888      11          2       USA          MO        \n",
       "19878 zychto01  1990       8          7       USA          IL        \n",
       "      birthCity        deathYear deathMonth deathDay ... weight height bats\n",
       "1     Denver             NA      NA         NA       ... 215    75     R   \n",
       "2     Mobile             NA      NA         NA       ... 180    72     R   \n",
       "3     Mobile           1984       8         16       ... 190    75     R   \n",
       "4     Orange             NA      NA         NA       ... 190    75     R   \n",
       "5     Palm Beach         NA      NA         NA       ... 184    73     L   \n",
       "6     La Romana          NA      NA         NA       ... 220    73     L   \n",
       "7     Philadelphia     1905       5         17       ... 192    72     R   \n",
       "8     Latrobe          1957       1          6       ... 170    71     R   \n",
       "9     Essex            1962       6         11       ... 175    71     R   \n",
       "10    Falls City       1926       4         27       ... 169    68     L   \n",
       "11    Portage          1930       2         13       ... 190    71     R   \n",
       "12    Versailles       1935       6         11       ... 180    70     R   \n",
       "13    Little Rock        NA      NA         NA       ... 200    78     R   \n",
       "14    Atlanta            NA      NA         NA       ... 190    74     R   \n",
       "15    Flint              NA      NA         NA       ... 200    75     L   \n",
       "16    Zanesville         NA      NA         NA       ... 180    71     R   \n",
       "17    Newburyport        NA      NA         NA       ... 200    76     L   \n",
       "18    New Eagle        1933       4         13       ... 165    69     L   \n",
       "19    Van Nuys           NA      NA         NA       ... 185    75     R   \n",
       "20    Cleveland        1993       5         20       ... 195    74     L   \n",
       "21    Fort Towson      1939      11         11       ...  NA    NA     NA  \n",
       "22    Columbus           NA      NA         NA       ... 215    75     R   \n",
       "23    Torrance         2006       2         19       ... 190    70     R   \n",
       "24    Atlanta            NA      NA         NA       ... 185    73     R   \n",
       "25    Bynum            2001      11         16       ... 210    74     R   \n",
       "26    Stanley          2004      12         16       ... 215    76     R   \n",
       "27    Forest City      1994      12          5       ... 170    72     L   \n",
       "28    Chicago          1973       6         23       ... 200    72     R   \n",
       "29    Terrell          1951       2          8       ... 200    74     R   \n",
       "30    Hamilton           NA      NA         NA       ... 190    73     R   \n",
       "...   ...              ...       ...        ...          ...    ...    ... \n",
       "19849 San Francisco      NA      NA         NA       ... 225    75     R   \n",
       "19850 Pine Grove       1991      11         22       ... 187    74     L   \n",
       "19851 Washington         NA      NA         NA       ... 215    75     R   \n",
       "19852 Carmichael         NA      NA         NA       ... 190    73     R   \n",
       "19853 Pittsfield       1964       6         12       ... 165    72     R   \n",
       "19854 Phoenixville     1936       5         12       ... 150    68     NA  \n",
       "19855 Holbrook         1949      10          6       ... 170    70     L   \n",
       "19856 Benton           1991       2         26       ... 195    72     L   \n",
       "19857 Astoria          1993       2         16       ... 185    73     R   \n",
       "19858 El Paso            NA      NA         NA       ... 200    74     B   \n",
       "19859 Belleville         NA      NA         NA       ... 200    75     L   \n",
       "19860 Brooklyn           NA      NA         NA       ... 200    73     R   \n",
       "19861 Las Vegas          NA      NA         NA       ... 205    74     L   \n",
       "19862 Long Island City 1985       5         29       ... 175    70     R   \n",
       "19863 Cleveland        1950       8         20       ... 180    72     L   \n",
       "19864 Eureka             NA      NA         NA       ... 210    75     B   \n",
       "19865 Bronx              NA      NA         NA       ... 200    74     L   \n",
       "19866 Brooklyn         1966       8         25       ... 185    71     L   \n",
       "19867 Whittier           NA      NA         NA       ... 175    72     R   \n",
       "19868 Middle Amana     1982      11          2       ... 195    74     R   \n",
       "19869 Encino             NA      NA         NA       ... 190    73     L   \n",
       "19870 Panama             NA      NA         NA       ... 230    78     R   \n",
       "19871 Chula Vista        NA      NA         NA       ... 215    75     R   \n",
       "19872 Cape Coral         NA      NA         NA       ... 235    74     R   \n",
       "19873 Pittsburgh         NA      NA         NA       ... 220    76     R   \n",
       "19874 San Francisco    2005       3         25       ... 182    71     L   \n",
       "19875 San Mateo          NA      NA         NA       ... 173    72     R   \n",
       "19876 Holland          2014       9          8       ... 195    76     R   \n",
       "19877 St. Louis        1978       3         27       ... 160    66     L   \n",
       "19878 Monee              NA      NA         NA       ... 190    75     R   \n",
       "      throws debut      finalGame  retroID  bbrefID   deathDate  birthDate \n",
       "1     R      2004-04-06 2015-08-23 aardd001 aardsda01 <NA>       1981-12-27\n",
       "2     R      1954-04-13 1976-10-03 aaroh101 aaronha01 <NA>       1934-02-05\n",
       "3     R      1962-04-10 1971-09-26 aarot101 aaronto01 1984-08-16 1939-08-05\n",
       "4     R      1977-07-26 1990-10-03 aased001 aasedo01  <NA>       1954-09-08\n",
       "5     L      2001-09-10 2006-04-13 abada001 abadan01  <NA>       1972-08-25\n",
       "6     L      2010-07-28 2019-09-28 abadf001 abadfe01  <NA>       1985-12-17\n",
       "7     R      1875-04-26 1875-06-10 abadj101 abadijo01 1905-05-17 1850-11-04\n",
       "8     R      1897-09-04 1910-09-15 abbae101 abbated01 1957-01-06 1877-04-15\n",
       "9     R      1892-06-14 1896-09-23 abbeb101 abbeybe01 1962-06-11 1869-11-11\n",
       "10    L      1893-08-16 1897-08-19 abbec101 abbeych01 1926-04-27 1866-10-14\n",
       "11    R      1890-04-19 1890-05-23 abbod101 abbotda01 1930-02-13 1862-03-16\n",
       "12    R      1903-04-25 1905-09-20 abbof101 abbotfr01 1935-06-11 1874-10-22\n",
       "13    R      1973-07-29 1984-08-08 abbog001 abbotgl01 <NA>       1951-02-16\n",
       "14    L      1997-06-10 2001-09-29 abboj002 abbotje01 <NA>       1972-08-17\n",
       "15    L      1989-04-08 1999-07-21 abboj001 abbotji01 <NA>       1967-09-19\n",
       "16    R      1993-09-07 2001-04-13 abbok002 abbotku01 <NA>       1969-06-02\n",
       "17    L      1991-09-10 1996-08-24 abbok001 abbotky01 <NA>       1968-02-18\n",
       "18    R      1910-09-10 1910-10-15 abboo101 abbotod01 1933-04-13 1886-09-05\n",
       "19    R      1990-08-21 2004-08-07 abbop001 abbotpa01 <NA>       1967-09-15\n",
       "20    L      1950-09-15 1957-09-11 abera101 aberal01  1993-05-20 1927-07-31\n",
       "21    NA     1871-10-21 1871-10-21 aberd101 abercda01 1939-11-11 1850-01-02\n",
       "22    R      2006-04-04 2008-09-28 aberr001 abercre01 <NA>       1980-07-15\n",
       "23    R      1952-09-27 1952-09-27 aberb101 abernbi01 2006-02-19 1929-01-30\n",
       "24    R      2001-06-25 2005-09-29 aberb001 abernbr01 <NA>       1977-09-23\n",
       "25    L      1942-09-19 1944-04-29 abert102 abernte01 2001-11-16 1921-10-30\n",
       "26    R      1955-04-13 1972-09-30 abert101 abernte02 2004-12-16 1933-03-06\n",
       "27    L      1946-07-28 1947-04-17 aberw101 abernwo01 1994-12-05 1915-02-01\n",
       "28    R      1947-07-18 1949-05-09 aberc101 aberscl01 1973-06-23 1921-08-28\n",
       "29    L      1905-09-02 1911-05-05 ableh101 ablesha01 1951-02-08 1883-10-04\n",
       "30    R      1987-09-08 1992-10-03 abnes001 abnersh01 <NA>       1966-06-17\n",
       "...   ...    ...        ...        ...      ...       ...        ...       \n",
       "19849 R      2019-03-31 2019-09-27 zimmk001 zimmeky01 <NA>       1991-09-13\n",
       "19850 L      1945-08-27 1945-09-30 zimmr101 zimmero01 1991-11-22 1913-09-13\n",
       "19851 R      2005-09-01 2019-09-29 zimmr001 zimmery01 <NA>       1984-09-28\n",
       "19852 R      2008-08-12 2008-08-12 zinkc001 zinkch01  <NA>       1979-08-26\n",
       "19853 R      1921-07-06 1921-07-19 zinkw101 zinkwa01  1964-06-12 1898-11-21\n",
       "19854 NA     1888-04-18 1888-05-03 zinnf101 zinnfr01  1936-05-12 1865-12-21\n",
       "19855 R      1911-09-11 1915-09-16 zinng101 zinngu01  1949-10-06 1887-02-13\n",
       "19856 R      1919-09-04 1929-08-25 zinnj101 zinnji01  1991-02-26 1895-01-31\n",
       "19857 R      1944-08-19 1944-08-26 zinsb101 zinsebi01 1993-02-16 1918-01-06\n",
       "19858 R      2002-06-18 2004-10-03 zinta001 zinteal01 <NA>       1968-05-19\n",
       "19859 R      1961-07-26 1962-09-30 zipfb101 zipfebu01 <NA>       1938-11-18\n",
       "19860 R      1971-09-08 1983-09-21 ziskr101 ziskri01  <NA>       1949-02-06\n",
       "19861 L      2000-07-22 2015-09-30 zitob001 zitoba01  <NA>       1978-05-13\n",
       "19862 R      1919-04-27 1929-09-25 zitzb101 zitzmbi01 1985-05-29 1895-11-19\n",
       "19863 L      1910-07-23 1911-06-01 zmice101 zmiched01 1950-08-20 1884-10-01\n",
       "19864 R      2006-08-01 2019-09-29 zobrb001 zobribe01 <NA>       1981-05-26\n",
       "19865 R      2003-09-05 2003-09-28 zoccp001 zoccope01 <NA>       1977-02-06\n",
       "19866 L      1944-05-13 1952-08-26 zolds101 zoldasa01 1966-08-25 1918-12-08\n",
       "19867 R      1991-09-02 2000-10-01 zoske001 zoskyed01 <NA>       1968-02-10\n",
       "19868 R      1936-09-16 1947-09-23 zubeb101 zuberbi01 1982-11-02 1913-03-26\n",
       "19869 L      1996-04-19 1998-09-27 zubej001 zuberjo01 <NA>       1969-12-10\n",
       "19870 R      2000-04-06 2001-06-25 zulej001 zuletju01 <NA>       1975-03-28\n",
       "19871 R      2006-04-03 2010-06-28 zumaj001 zumayjo01 <NA>       1984-11-09\n",
       "19872 R      2013-06-12 2019-09-29 zunim001 zuninmi01 <NA>       1991-03-25\n",
       "19873 R      1991-09-07 1994-08-04 zupcb001 zupcibo01 <NA>       1966-08-18\n",
       "19874 R      1957-07-01 1961-05-09 zupof101 zupofr01  2005-03-25 1939-08-29\n",
       "19875 R      1982-09-04 1991-05-02 zuvep001 zuvelpa01 <NA>       1958-10-31\n",
       "19876 R      1951-04-21 1959-06-15 zuveg101 zuverge01 2014-09-08 1924-08-20\n",
       "19877 L      1910-08-14 1916-07-12 zwild101 zwilldu01 1978-03-27 1888-11-02\n",
       "19878 R      2015-09-04 2017-08-19 zycht001 zychto01  <NA>       1990-08-07"
      ]
     },
     "metadata": {},
     "output_type": "display_data"
    }
   ],
   "source": [
    "Master %>% as_tibble()"
   ]
  },
  {
   "cell_type": "code",
   "execution_count": 61,
   "metadata": {},
   "outputs": [
    {
     "data": {
      "text/html": [
       "<ol class=list-inline>\n",
       "\t<li>'playerID'</li>\n",
       "\t<li>'birthYear'</li>\n",
       "\t<li>'birthMonth'</li>\n",
       "\t<li>'birthDay'</li>\n",
       "\t<li>'birthCountry'</li>\n",
       "\t<li>'birthState'</li>\n",
       "\t<li>'birthCity'</li>\n",
       "\t<li>'deathYear'</li>\n",
       "\t<li>'deathMonth'</li>\n",
       "\t<li>'deathDay'</li>\n",
       "\t<li>'deathCountry'</li>\n",
       "\t<li>'deathState'</li>\n",
       "\t<li>'deathCity'</li>\n",
       "\t<li>'nameFirst'</li>\n",
       "\t<li>'nameLast'</li>\n",
       "\t<li>'nameGiven'</li>\n",
       "\t<li>'weight'</li>\n",
       "\t<li>'height'</li>\n",
       "\t<li>'bats'</li>\n",
       "\t<li>'throws'</li>\n",
       "\t<li>'debut'</li>\n",
       "\t<li>'finalGame'</li>\n",
       "\t<li>'retroID'</li>\n",
       "\t<li>'bbrefID'</li>\n",
       "\t<li>'deathDate'</li>\n",
       "\t<li>'birthDate'</li>\n",
       "</ol>\n"
      ],
      "text/latex": [
       "\\begin{enumerate*}\n",
       "\\item 'playerID'\n",
       "\\item 'birthYear'\n",
       "\\item 'birthMonth'\n",
       "\\item 'birthDay'\n",
       "\\item 'birthCountry'\n",
       "\\item 'birthState'\n",
       "\\item 'birthCity'\n",
       "\\item 'deathYear'\n",
       "\\item 'deathMonth'\n",
       "\\item 'deathDay'\n",
       "\\item 'deathCountry'\n",
       "\\item 'deathState'\n",
       "\\item 'deathCity'\n",
       "\\item 'nameFirst'\n",
       "\\item 'nameLast'\n",
       "\\item 'nameGiven'\n",
       "\\item 'weight'\n",
       "\\item 'height'\n",
       "\\item 'bats'\n",
       "\\item 'throws'\n",
       "\\item 'debut'\n",
       "\\item 'finalGame'\n",
       "\\item 'retroID'\n",
       "\\item 'bbrefID'\n",
       "\\item 'deathDate'\n",
       "\\item 'birthDate'\n",
       "\\end{enumerate*}\n"
      ],
      "text/markdown": [
       "1. 'playerID'\n",
       "2. 'birthYear'\n",
       "3. 'birthMonth'\n",
       "4. 'birthDay'\n",
       "5. 'birthCountry'\n",
       "6. 'birthState'\n",
       "7. 'birthCity'\n",
       "8. 'deathYear'\n",
       "9. 'deathMonth'\n",
       "10. 'deathDay'\n",
       "11. 'deathCountry'\n",
       "12. 'deathState'\n",
       "13. 'deathCity'\n",
       "14. 'nameFirst'\n",
       "15. 'nameLast'\n",
       "16. 'nameGiven'\n",
       "17. 'weight'\n",
       "18. 'height'\n",
       "19. 'bats'\n",
       "20. 'throws'\n",
       "21. 'debut'\n",
       "22. 'finalGame'\n",
       "23. 'retroID'\n",
       "24. 'bbrefID'\n",
       "25. 'deathDate'\n",
       "26. 'birthDate'\n",
       "\n",
       "\n"
      ],
      "text/plain": [
       " [1] \"playerID\"     \"birthYear\"    \"birthMonth\"   \"birthDay\"     \"birthCountry\"\n",
       " [6] \"birthState\"   \"birthCity\"    \"deathYear\"    \"deathMonth\"   \"deathDay\"    \n",
       "[11] \"deathCountry\" \"deathState\"   \"deathCity\"    \"nameFirst\"    \"nameLast\"    \n",
       "[16] \"nameGiven\"    \"weight\"       \"height\"       \"bats\"         \"throws\"      \n",
       "[21] \"debut\"        \"finalGame\"    \"retroID\"      \"bbrefID\"      \"deathDate\"   \n",
       "[26] \"birthDate\"   "
      ]
     },
     "metadata": {},
     "output_type": "display_data"
    }
   ],
   "source": [
    "colnames(Master)"
   ]
  },
  {
   "cell_type": "code",
   "execution_count": 62,
   "metadata": {},
   "outputs": [],
   "source": [
    "co2_wide <- data.frame(matrix(co2, ncol = 12, byrow = TRUE)) %>% \n",
    "  setNames(1:12) %>%\n",
    "  mutate(year = 1959:1997) %>%\n",
    "  gather(month, co2, -year, convert = TRUE)"
   ]
  },
  {
   "cell_type": "code",
   "execution_count": 63,
   "metadata": {},
   "outputs": [
    {
     "data": {
      "text/html": [
       "<table>\n",
       "<thead><tr><th scope=col>year</th><th scope=col>month</th><th scope=col>co2</th></tr></thead>\n",
       "<tbody>\n",
       "\t<tr><td>1959  </td><td>1     </td><td>315.42</td></tr>\n",
       "\t<tr><td>1960  </td><td>1     </td><td>316.27</td></tr>\n",
       "\t<tr><td>1961  </td><td>1     </td><td>316.73</td></tr>\n",
       "\t<tr><td>1962  </td><td>1     </td><td>317.78</td></tr>\n",
       "\t<tr><td>1963  </td><td>1     </td><td>318.58</td></tr>\n",
       "\t<tr><td>1964  </td><td>1     </td><td>319.41</td></tr>\n",
       "\t<tr><td>1965  </td><td>1     </td><td>319.27</td></tr>\n",
       "\t<tr><td>1966  </td><td>1     </td><td>320.46</td></tr>\n",
       "\t<tr><td>1967  </td><td>1     </td><td>322.17</td></tr>\n",
       "\t<tr><td>1968  </td><td>1     </td><td>322.40</td></tr>\n",
       "\t<tr><td>1969  </td><td>1     </td><td>323.83</td></tr>\n",
       "\t<tr><td>1970  </td><td>1     </td><td>324.89</td></tr>\n",
       "\t<tr><td>1971  </td><td>1     </td><td>326.01</td></tr>\n",
       "\t<tr><td>1972  </td><td>1     </td><td>326.60</td></tr>\n",
       "\t<tr><td>1973  </td><td>1     </td><td>328.37</td></tr>\n",
       "\t<tr><td>1974  </td><td>1     </td><td>329.18</td></tr>\n",
       "\t<tr><td>1975  </td><td>1     </td><td>330.23</td></tr>\n",
       "\t<tr><td>1976  </td><td>1     </td><td>331.58</td></tr>\n",
       "\t<tr><td>1977  </td><td>1     </td><td>332.75</td></tr>\n",
       "\t<tr><td>1978  </td><td>1     </td><td>334.80</td></tr>\n",
       "\t<tr><td>1979  </td><td>1     </td><td>336.05</td></tr>\n",
       "\t<tr><td>1980  </td><td>1     </td><td>337.84</td></tr>\n",
       "\t<tr><td>1981  </td><td>1     </td><td>339.06</td></tr>\n",
       "\t<tr><td>1982  </td><td>1     </td><td>340.57</td></tr>\n",
       "\t<tr><td>1983  </td><td>1     </td><td>341.20</td></tr>\n",
       "\t<tr><td>1984  </td><td>1     </td><td>343.52</td></tr>\n",
       "\t<tr><td>1985  </td><td>1     </td><td>344.79</td></tr>\n",
       "\t<tr><td>1986  </td><td>1     </td><td>346.11</td></tr>\n",
       "\t<tr><td>1987  </td><td>1     </td><td>347.84</td></tr>\n",
       "\t<tr><td>1988  </td><td>1     </td><td>350.25</td></tr>\n",
       "\t<tr><td>...</td><td>...</td><td>...</td></tr>\n",
       "\t<tr><td>1968  </td><td>12    </td><td>322.74</td></tr>\n",
       "\t<tr><td>1969  </td><td>12    </td><td>323.95</td></tr>\n",
       "\t<tr><td>1970  </td><td>12    </td><td>324.96</td></tr>\n",
       "\t<tr><td>1971  </td><td>12    </td><td>325.85</td></tr>\n",
       "\t<tr><td>1972  </td><td>12    </td><td>327.39</td></tr>\n",
       "\t<tr><td>1973  </td><td>12    </td><td>328.48</td></tr>\n",
       "\t<tr><td>1974  </td><td>12    </td><td>329.41</td></tr>\n",
       "\t<tr><td>1975  </td><td>12    </td><td>330.59</td></tr>\n",
       "\t<tr><td>1976  </td><td>12    </td><td>331.52</td></tr>\n",
       "\t<tr><td>1977  </td><td>12    </td><td>333.68</td></tr>\n",
       "\t<tr><td>1978  </td><td>12    </td><td>334.78</td></tr>\n",
       "\t<tr><td>1979  </td><td>12    </td><td>336.56</td></tr>\n",
       "\t<tr><td>1980  </td><td>12    </td><td>338.04</td></tr>\n",
       "\t<tr><td>1981  </td><td>12    </td><td>339.44</td></tr>\n",
       "\t<tr><td>1982  </td><td>12    </td><td>340.32</td></tr>\n",
       "\t<tr><td>1983  </td><td>12    </td><td>342.82</td></tr>\n",
       "\t<tr><td>1984  </td><td>12    </td><td>344.04</td></tr>\n",
       "\t<tr><td>1985  </td><td>12    </td><td>345.38</td></tr>\n",
       "\t<tr><td>1986  </td><td>12    </td><td>346.72</td></tr>\n",
       "\t<tr><td>1987  </td><td>12    </td><td>348.78</td></tr>\n",
       "\t<tr><td>1988  </td><td>12    </td><td>351.18</td></tr>\n",
       "\t<tr><td>1989  </td><td>12    </td><td>352.37</td></tr>\n",
       "\t<tr><td>1990  </td><td>12    </td><td>354.07</td></tr>\n",
       "\t<tr><td>1991  </td><td>12    </td><td>354.89</td></tr>\n",
       "\t<tr><td>1992  </td><td>12    </td><td>355.33</td></tr>\n",
       "\t<tr><td>1993  </td><td>12    </td><td>356.78</td></tr>\n",
       "\t<tr><td>1994  </td><td>12    </td><td>359.05</td></tr>\n",
       "\t<tr><td>1995  </td><td>12    </td><td>360.74</td></tr>\n",
       "\t<tr><td>1996  </td><td>12    </td><td>362.38</td></tr>\n",
       "\t<tr><td>1997  </td><td>12    </td><td>364.34</td></tr>\n",
       "</tbody>\n",
       "</table>\n"
      ],
      "text/latex": [
       "\\begin{tabular}{r|lll}\n",
       " year & month & co2\\\\\n",
       "\\hline\n",
       "\t 1959   & 1      & 315.42\\\\\n",
       "\t 1960   & 1      & 316.27\\\\\n",
       "\t 1961   & 1      & 316.73\\\\\n",
       "\t 1962   & 1      & 317.78\\\\\n",
       "\t 1963   & 1      & 318.58\\\\\n",
       "\t 1964   & 1      & 319.41\\\\\n",
       "\t 1965   & 1      & 319.27\\\\\n",
       "\t 1966   & 1      & 320.46\\\\\n",
       "\t 1967   & 1      & 322.17\\\\\n",
       "\t 1968   & 1      & 322.40\\\\\n",
       "\t 1969   & 1      & 323.83\\\\\n",
       "\t 1970   & 1      & 324.89\\\\\n",
       "\t 1971   & 1      & 326.01\\\\\n",
       "\t 1972   & 1      & 326.60\\\\\n",
       "\t 1973   & 1      & 328.37\\\\\n",
       "\t 1974   & 1      & 329.18\\\\\n",
       "\t 1975   & 1      & 330.23\\\\\n",
       "\t 1976   & 1      & 331.58\\\\\n",
       "\t 1977   & 1      & 332.75\\\\\n",
       "\t 1978   & 1      & 334.80\\\\\n",
       "\t 1979   & 1      & 336.05\\\\\n",
       "\t 1980   & 1      & 337.84\\\\\n",
       "\t 1981   & 1      & 339.06\\\\\n",
       "\t 1982   & 1      & 340.57\\\\\n",
       "\t 1983   & 1      & 341.20\\\\\n",
       "\t 1984   & 1      & 343.52\\\\\n",
       "\t 1985   & 1      & 344.79\\\\\n",
       "\t 1986   & 1      & 346.11\\\\\n",
       "\t 1987   & 1      & 347.84\\\\\n",
       "\t 1988   & 1      & 350.25\\\\\n",
       "\t ... & ... & ...\\\\\n",
       "\t 1968   & 12     & 322.74\\\\\n",
       "\t 1969   & 12     & 323.95\\\\\n",
       "\t 1970   & 12     & 324.96\\\\\n",
       "\t 1971   & 12     & 325.85\\\\\n",
       "\t 1972   & 12     & 327.39\\\\\n",
       "\t 1973   & 12     & 328.48\\\\\n",
       "\t 1974   & 12     & 329.41\\\\\n",
       "\t 1975   & 12     & 330.59\\\\\n",
       "\t 1976   & 12     & 331.52\\\\\n",
       "\t 1977   & 12     & 333.68\\\\\n",
       "\t 1978   & 12     & 334.78\\\\\n",
       "\t 1979   & 12     & 336.56\\\\\n",
       "\t 1980   & 12     & 338.04\\\\\n",
       "\t 1981   & 12     & 339.44\\\\\n",
       "\t 1982   & 12     & 340.32\\\\\n",
       "\t 1983   & 12     & 342.82\\\\\n",
       "\t 1984   & 12     & 344.04\\\\\n",
       "\t 1985   & 12     & 345.38\\\\\n",
       "\t 1986   & 12     & 346.72\\\\\n",
       "\t 1987   & 12     & 348.78\\\\\n",
       "\t 1988   & 12     & 351.18\\\\\n",
       "\t 1989   & 12     & 352.37\\\\\n",
       "\t 1990   & 12     & 354.07\\\\\n",
       "\t 1991   & 12     & 354.89\\\\\n",
       "\t 1992   & 12     & 355.33\\\\\n",
       "\t 1993   & 12     & 356.78\\\\\n",
       "\t 1994   & 12     & 359.05\\\\\n",
       "\t 1995   & 12     & 360.74\\\\\n",
       "\t 1996   & 12     & 362.38\\\\\n",
       "\t 1997   & 12     & 364.34\\\\\n",
       "\\end{tabular}\n"
      ],
      "text/markdown": [
       "\n",
       "| year | month | co2 |\n",
       "|---|---|---|\n",
       "| 1959   | 1      | 315.42 |\n",
       "| 1960   | 1      | 316.27 |\n",
       "| 1961   | 1      | 316.73 |\n",
       "| 1962   | 1      | 317.78 |\n",
       "| 1963   | 1      | 318.58 |\n",
       "| 1964   | 1      | 319.41 |\n",
       "| 1965   | 1      | 319.27 |\n",
       "| 1966   | 1      | 320.46 |\n",
       "| 1967   | 1      | 322.17 |\n",
       "| 1968   | 1      | 322.40 |\n",
       "| 1969   | 1      | 323.83 |\n",
       "| 1970   | 1      | 324.89 |\n",
       "| 1971   | 1      | 326.01 |\n",
       "| 1972   | 1      | 326.60 |\n",
       "| 1973   | 1      | 328.37 |\n",
       "| 1974   | 1      | 329.18 |\n",
       "| 1975   | 1      | 330.23 |\n",
       "| 1976   | 1      | 331.58 |\n",
       "| 1977   | 1      | 332.75 |\n",
       "| 1978   | 1      | 334.80 |\n",
       "| 1979   | 1      | 336.05 |\n",
       "| 1980   | 1      | 337.84 |\n",
       "| 1981   | 1      | 339.06 |\n",
       "| 1982   | 1      | 340.57 |\n",
       "| 1983   | 1      | 341.20 |\n",
       "| 1984   | 1      | 343.52 |\n",
       "| 1985   | 1      | 344.79 |\n",
       "| 1986   | 1      | 346.11 |\n",
       "| 1987   | 1      | 347.84 |\n",
       "| 1988   | 1      | 350.25 |\n",
       "| ... | ... | ... |\n",
       "| 1968   | 12     | 322.74 |\n",
       "| 1969   | 12     | 323.95 |\n",
       "| 1970   | 12     | 324.96 |\n",
       "| 1971   | 12     | 325.85 |\n",
       "| 1972   | 12     | 327.39 |\n",
       "| 1973   | 12     | 328.48 |\n",
       "| 1974   | 12     | 329.41 |\n",
       "| 1975   | 12     | 330.59 |\n",
       "| 1976   | 12     | 331.52 |\n",
       "| 1977   | 12     | 333.68 |\n",
       "| 1978   | 12     | 334.78 |\n",
       "| 1979   | 12     | 336.56 |\n",
       "| 1980   | 12     | 338.04 |\n",
       "| 1981   | 12     | 339.44 |\n",
       "| 1982   | 12     | 340.32 |\n",
       "| 1983   | 12     | 342.82 |\n",
       "| 1984   | 12     | 344.04 |\n",
       "| 1985   | 12     | 345.38 |\n",
       "| 1986   | 12     | 346.72 |\n",
       "| 1987   | 12     | 348.78 |\n",
       "| 1988   | 12     | 351.18 |\n",
       "| 1989   | 12     | 352.37 |\n",
       "| 1990   | 12     | 354.07 |\n",
       "| 1991   | 12     | 354.89 |\n",
       "| 1992   | 12     | 355.33 |\n",
       "| 1993   | 12     | 356.78 |\n",
       "| 1994   | 12     | 359.05 |\n",
       "| 1995   | 12     | 360.74 |\n",
       "| 1996   | 12     | 362.38 |\n",
       "| 1997   | 12     | 364.34 |\n",
       "\n"
      ],
      "text/plain": [
       "    year month co2   \n",
       "1   1959 1     315.42\n",
       "2   1960 1     316.27\n",
       "3   1961 1     316.73\n",
       "4   1962 1     317.78\n",
       "5   1963 1     318.58\n",
       "6   1964 1     319.41\n",
       "7   1965 1     319.27\n",
       "8   1966 1     320.46\n",
       "9   1967 1     322.17\n",
       "10  1968 1     322.40\n",
       "11  1969 1     323.83\n",
       "12  1970 1     324.89\n",
       "13  1971 1     326.01\n",
       "14  1972 1     326.60\n",
       "15  1973 1     328.37\n",
       "16  1974 1     329.18\n",
       "17  1975 1     330.23\n",
       "18  1976 1     331.58\n",
       "19  1977 1     332.75\n",
       "20  1978 1     334.80\n",
       "21  1979 1     336.05\n",
       "22  1980 1     337.84\n",
       "23  1981 1     339.06\n",
       "24  1982 1     340.57\n",
       "25  1983 1     341.20\n",
       "26  1984 1     343.52\n",
       "27  1985 1     344.79\n",
       "28  1986 1     346.11\n",
       "29  1987 1     347.84\n",
       "30  1988 1     350.25\n",
       "... ...  ...   ...   \n",
       "439 1968 12    322.74\n",
       "440 1969 12    323.95\n",
       "441 1970 12    324.96\n",
       "442 1971 12    325.85\n",
       "443 1972 12    327.39\n",
       "444 1973 12    328.48\n",
       "445 1974 12    329.41\n",
       "446 1975 12    330.59\n",
       "447 1976 12    331.52\n",
       "448 1977 12    333.68\n",
       "449 1978 12    334.78\n",
       "450 1979 12    336.56\n",
       "451 1980 12    338.04\n",
       "452 1981 12    339.44\n",
       "453 1982 12    340.32\n",
       "454 1983 12    342.82\n",
       "455 1984 12    344.04\n",
       "456 1985 12    345.38\n",
       "457 1986 12    346.72\n",
       "458 1987 12    348.78\n",
       "459 1988 12    351.18\n",
       "460 1989 12    352.37\n",
       "461 1990 12    354.07\n",
       "462 1991 12    354.89\n",
       "463 1992 12    355.33\n",
       "464 1993 12    356.78\n",
       "465 1994 12    359.05\n",
       "466 1995 12    360.74\n",
       "467 1996 12    362.38\n",
       "468 1997 12    364.34"
      ]
     },
     "metadata": {},
     "output_type": "display_data"
    }
   ],
   "source": [
    "co2_wide"
   ]
  },
  {
   "cell_type": "code",
   "execution_count": null,
   "metadata": {},
   "outputs": [],
   "source": []
  }
 ],
 "metadata": {
  "kernelspec": {
   "display_name": "R",
   "language": "R",
   "name": "ir"
  },
  "language_info": {
   "codemirror_mode": "r",
   "file_extension": ".r",
   "mimetype": "text/x-r-source",
   "name": "R",
   "pygments_lexer": "r",
   "version": "3.6.1"
  }
 },
 "nbformat": 4,
 "nbformat_minor": 2
}
