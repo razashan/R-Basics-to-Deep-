{
 "cells": [
  {
   "cell_type": "markdown",
   "metadata": {},
   "source": [
    "# CheatSheet for R "
   ]
  },
  {
   "cell_type": "markdown",
   "metadata": {},
   "source": [
    "These are following functions include in this notebook:\n",
    "1. Correlation\n",
    "2. Apply()\n",
    "3. Lapply()\n",
    "4. Sapply()\n",
    "5. Creating Dataframe\n",
    "6. Slice DataFrame\n",
    "7. Append a Column to Data Frame\n",
    "8. Filter\n",
    "9. Factor in R\n",
    "10. cbind function()\n",
    "11. Count()\n",
    "12. Subset()\n",
    "13. tapply()\n",
    "14. Sample() function\n",
    "15. SPLIT FUNCTION IN\n",
    "16. unique() function\n",
    "17. Arrange Function\n",
    "18. Select()\n",
    "19. Mutate()\n",
    "20. Transmute()\n",
    "21. Summarize()\n",
    "22. groupby()\n",
    "23. ifelse\n",
    "24. tabulation()\n",
    "25. which()\n",
    "26. colnames()\n",
    "27. omit()\n",
    "28. log and log10()\n",
    "29. sub() and gsub()\n",
    "30. rbind()\n",
    "31. by()\n",
    "32. trunc() function\n",
    "33. Missing Value Analysis\n",
    "34. Delete missing values\n",
    "35. Impute Missing values\n",
    "36. kNN Imputation\n",
    "37. aggregate()\n",
    "38. nth()\n",
    "39. ungroup()\n",
    "40. Normalize data\n",
    "41. One hot encoding\n",
    "42. Joins in R\n",
    "43. Outlier Analysis\n",
    "44. Hypothesis Testing\n",
    "45. Skim()"
   ]
  },
  {
   "cell_type": "markdown",
   "metadata": {},
   "source": [
    "\n",
    "\n",
    "# 1. Correlation"
   ]
  },
  {
   "cell_type": "code",
   "execution_count": 1,
   "metadata": {},
   "outputs": [
    {
     "name": "stderr",
     "output_type": "stream",
     "text": [
      "corrplot 0.84 loaded\n"
     ]
    },
    {
     "data": {
      "image/png": "[encoded data removed]",
      "text/plain": [
       "Plot with title \"\n",
       "\n",
       " Correlation Plot for Numerical Values\""
      ]
     },
     "metadata": {},
     "output_type": "display_data"
    }
   ],
   "source": [
    "sales <- c(100,121,130,136,140,146,151,160,170,180,188,196,201,211,220)\n",
    "temp <- c(23,24,26,27,28,30,31,32,33,33,34,35,37,39,39)\n",
    "df <- data.frame(sales,temp)\n",
    "library(corrplot)\n",
    "numeric.var <- sapply(df,is.numeric)\n",
    "corr.matrix <- cor(df[,numeric.var])\n",
    "corrplot(corr.matrix,main=\"\\n\\n Correlation Plot for Numerical Values\",order=\"hclust\",tl.col=\"black\",tl.srt=45,tl.cex=0.5,cl.cex=0.5)"
   ]
  },
  {
   "cell_type": "markdown",
   "metadata": {},
   "source": [
    "## 2.Apply Function apply() "
   ]
  },
  {
   "cell_type": "markdown",
   "metadata": {},
   "source": [
    "The **apply()** function in R is used in case of matrices to apply a user-specified function on the rows or columns of the matrix. The following is the general syntax for **apply()** function."
   ]
  },
  {
   "cell_type": "code",
   "execution_count": 2,
   "metadata": {},
   "outputs": [],
   "source": [
    "x <- matrix(c(4,5,6,10,12,16),nrow=2 ,ncol=3)\n",
    "M <- matrix(c(3:14), nrow=4,byrow=TRUE)\n",
    "M <- matrix(c(3:14), nrow=4)\n",
    "rownames = c(\"row1\", \"row2\", \"row3\", \"row4\")\n",
    "colnames = c(\"col1\", \"col2\", \"col3\")"
   ]
  },
  {
   "cell_type": "code",
   "execution_count": 3,
   "metadata": {},
   "outputs": [],
   "source": [
    "p <- matrix(c(3:14),nrow=4,byrow=TRUE, dimnames=list(rownames,colnames))"
   ]
  },
  {
   "cell_type": "code",
   "execution_count": 4,
   "metadata": {},
   "outputs": [],
   "source": [
    "f <- function(x){\n",
    "    return (x^2*3/4)\n",
    "    }\n",
    "fc <- function(x){\n",
    "    return (x-1)\n",
    "}\n"
   ]
  },
  {
   "cell_type": "code",
   "execution_count": 5,
   "metadata": {},
   "outputs": [
    {
     "data": {
      "text/html": [
       "2"
      ],
      "text/latex": [
       "2"
      ],
      "text/markdown": [
       "2"
      ],
      "text/plain": [
       "[1] 2"
      ]
     },
     "metadata": {},
     "output_type": "display_data"
    }
   ],
   "source": [
    "fc(3)"
   ]
  },
  {
   "cell_type": "code",
   "execution_count": 7,
   "metadata": {},
   "outputs": [
    {
     "data": {
      "text/html": [
       "<table>\n",
       "<thead><tr><th></th><th scope=col>col1</th><th scope=col>col2</th><th scope=col>col3</th></tr></thead>\n",
       "<tbody>\n",
       "\t<tr><th scope=row>row1</th><td> 2</td><td> 3</td><td> 4</td></tr>\n",
       "\t<tr><th scope=row>row2</th><td> 5</td><td> 6</td><td> 7</td></tr>\n",
       "\t<tr><th scope=row>row3</th><td> 8</td><td> 9</td><td>10</td></tr>\n",
       "\t<tr><th scope=row>row4</th><td>11</td><td>12</td><td>13</td></tr>\n",
       "</tbody>\n",
       "</table>\n"
      ],
      "text/latex": [
       "\\begin{tabular}{r|lll}\n",
       "  & col1 & col2 & col3\\\\\n",
       "\\hline\n",
       "\trow1 &  2 &  3 &  4\\\\\n",
       "\trow2 &  5 &  6 &  7\\\\\n",
       "\trow3 &  8 &  9 & 10\\\\\n",
       "\trow4 & 11 & 12 & 13\\\\\n",
       "\\end{tabular}\n"
      ],
      "text/markdown": [
       "\n",
       "| <!--/--> | col1 | col2 | col3 |\n",
       "|---|---|---|---|\n",
       "| row1 |  2 |  3 |  4 |\n",
       "| row2 |  5 |  6 |  7 |\n",
       "| row3 |  8 |  9 | 10 |\n",
       "| row4 | 11 | 12 | 13 |\n",
       "\n"
      ],
      "text/plain": [
       "     col1 col2 col3\n",
       "row1  2    3    4  \n",
       "row2  5    6    7  \n",
       "row3  8    9   10  \n",
       "row4 11   12   13  "
      ]
     },
     "metadata": {},
     "output_type": "display_data"
    }
   ],
   "source": [
    "apply(p,2,fc)"
   ]
  },
  {
   "cell_type": "markdown",
   "metadata": {},
   "source": [
    "## 3. Lapply()  "
   ]
  },
  {
   "cell_type": "markdown",
   "metadata": {},
   "source": [
    "The lapply() function in R is short for list apply. This works in a manner similar to the apply() function above, but uses lists instead of matrices."
   ]
  },
  {
   "cell_type": "code",
   "execution_count": 8,
   "metadata": {},
   "outputs": [
    {
     "data": {
      "text/html": [
       "<ol>\n",
       "\t<li>2.5</li>\n",
       "\t<li>25</li>\n",
       "\t<li>5</li>\n",
       "</ol>\n"
      ],
      "text/latex": [
       "\\begin{enumerate}\n",
       "\\item 2.5\n",
       "\\item 25\n",
       "\\item 5\n",
       "\\end{enumerate}\n"
      ],
      "text/markdown": [
       "1. 2.5\n",
       "2. 25\n",
       "3. 5\n",
       "\n",
       "\n"
      ],
      "text/plain": [
       "[[1]]\n",
       "[1] 2.5\n",
       "\n",
       "[[2]]\n",
       "[1] 25\n",
       "\n",
       "[[3]]\n",
       "[1] 5\n"
      ]
     },
     "metadata": {},
     "output_type": "display_data"
    }
   ],
   "source": [
    "mylist <- list(c(1,2,3,4),c(10,20,30,40),c(5,5,5,5))\n",
    "lapply(mylist,mean)"
   ]
  },
  {
   "cell_type": "markdown",
   "metadata": {},
   "source": [
    "## 4. Sapply()"
   ]
  },
  {
   "cell_type": "code",
   "execution_count": 9,
   "metadata": {},
   "outputs": [
    {
     "data": {
      "text/html": [
       "<ol class=list-inline>\n",
       "\t<li>2.5</li>\n",
       "\t<li>25</li>\n",
       "\t<li>5</li>\n",
       "</ol>\n"
      ],
      "text/latex": [
       "\\begin{enumerate*}\n",
       "\\item 2.5\n",
       "\\item 25\n",
       "\\item 5\n",
       "\\end{enumerate*}\n"
      ],
      "text/markdown": [
       "1. 2.5\n",
       "2. 25\n",
       "3. 5\n",
       "\n",
       "\n"
      ],
      "text/plain": [
       "[1]  2.5 25.0  5.0"
      ]
     },
     "metadata": {},
     "output_type": "display_data"
    }
   ],
   "source": [
    "sapply(mylist,mean)"
   ]
  },
  {
   "cell_type": "markdown",
   "metadata": {},
   "source": [
    "sapply() function in R is short for for simplified apply. Instead of obtaining a separate mean value for each vector, sapply returns a vector containing the mean values."
   ]
  },
  {
   "cell_type": "markdown",
   "metadata": {},
   "source": [
    "## 5.Creating Dataframe"
   ]
  },
  {
   "cell_type": "markdown",
   "metadata": {},
   "source": [
    "Since data frames can be treated as a special case of lists, the functions lapply() and sapply() work in both cases. Let us look at an example."
   ]
  },
  {
   "cell_type": "code",
   "execution_count": 10,
   "metadata": {},
   "outputs": [],
   "source": [
    "names <- c(\"Mohammaed\",\"Ali\",\"Raza\",\"Shan\",\"Ahmed\")\n",
    "ages <- c(20,21,23,41,14)\n",
    "data <- data.frame(names,ages)"
   ]
  },
  {
   "cell_type": "code",
   "execution_count": 11,
   "metadata": {},
   "outputs": [
    {
     "data": {
      "text/html": [
       "<table>\n",
       "<thead><tr><th scope=col>names</th><th scope=col>ages</th></tr></thead>\n",
       "<tbody>\n",
       "\t<tr><td>Mohammaed</td><td>20       </td></tr>\n",
       "\t<tr><td>Ali      </td><td>21       </td></tr>\n",
       "\t<tr><td>Raza     </td><td>23       </td></tr>\n",
       "\t<tr><td>Shan     </td><td>41       </td></tr>\n",
       "\t<tr><td>Ahmed    </td><td>14       </td></tr>\n",
       "</tbody>\n",
       "</table>\n"
      ],
      "text/latex": [
       "\\begin{tabular}{r|ll}\n",
       " names & ages\\\\\n",
       "\\hline\n",
       "\t Mohammaed & 20       \\\\\n",
       "\t Ali       & 21       \\\\\n",
       "\t Raza      & 23       \\\\\n",
       "\t Shan      & 41       \\\\\n",
       "\t Ahmed     & 14       \\\\\n",
       "\\end{tabular}\n"
      ],
      "text/markdown": [
       "\n",
       "| names | ages |\n",
       "|---|---|\n",
       "| Mohammaed | 20        |\n",
       "| Ali       | 21        |\n",
       "| Raza      | 23        |\n",
       "| Shan      | 41        |\n",
       "| Ahmed     | 14        |\n",
       "\n"
      ],
      "text/plain": [
       "  names     ages\n",
       "1 Mohammaed 20  \n",
       "2 Ali       21  \n",
       "3 Raza      23  \n",
       "4 Shan      41  \n",
       "5 Ahmed     14  "
      ]
     },
     "metadata": {},
     "output_type": "display_data"
    }
   ],
   "source": [
    "data"
   ]
  },
  {
   "cell_type": "code",
   "execution_count": 12,
   "metadata": {},
   "outputs": [
    {
     "data": {
      "text/html": [
       "<dl>\n",
       "\t<dt>$names</dt>\n",
       "\t\t<dd><ol class=list-inline>\n",
       "\t<li>Ahmed</li>\n",
       "\t<li>Ali</li>\n",
       "\t<li>Mohammaed</li>\n",
       "\t<li>Raza</li>\n",
       "\t<li>Shan</li>\n",
       "</ol>\n",
       "\n",
       "<details>\n",
       "\t<summary style=display:list-item;cursor:pointer>\n",
       "\t\t<strong>Levels</strong>:\n",
       "\t</summary>\n",
       "\t<ol class=list-inline>\n",
       "\t\t<li>'Ahmed'</li>\n",
       "\t\t<li>'Ali'</li>\n",
       "\t\t<li>'Mohammaed'</li>\n",
       "\t\t<li>'Raza'</li>\n",
       "\t\t<li>'Shan'</li>\n",
       "\t</ol>\n",
       "</details></dd>\n",
       "\t<dt>$ages</dt>\n",
       "\t\t<dd><ol class=list-inline>\n",
       "\t<li>14</li>\n",
       "\t<li>20</li>\n",
       "\t<li>21</li>\n",
       "\t<li>23</li>\n",
       "\t<li>41</li>\n",
       "</ol>\n",
       "</dd>\n",
       "</dl>\n"
      ],
      "text/latex": [
       "\\begin{description}\n",
       "\\item[\\$names] \\begin{enumerate*}\n",
       "\\item Ahmed\n",
       "\\item Ali\n",
       "\\item Mohammaed\n",
       "\\item Raza\n",
       "\\item Shan\n",
       "\\end{enumerate*}\n",
       "\n",
       "\\emph{Levels}: \\begin{enumerate*}\n",
       "\\item 'Ahmed'\n",
       "\\item 'Ali'\n",
       "\\item 'Mohammaed'\n",
       "\\item 'Raza'\n",
       "\\item 'Shan'\n",
       "\\end{enumerate*}\n",
       "\n",
       "\\item[\\$ages] \\begin{enumerate*}\n",
       "\\item 14\n",
       "\\item 20\n",
       "\\item 21\n",
       "\\item 23\n",
       "\\item 41\n",
       "\\end{enumerate*}\n",
       "\n",
       "\\end{description}\n"
      ],
      "text/markdown": [
       "$names\n",
       ":   1. Ahmed\n",
       "2. Ali\n",
       "3. Mohammaed\n",
       "4. Raza\n",
       "5. Shan\n",
       "\n",
       "\n",
       "\n",
       "**Levels**: 1. 'Ahmed'\n",
       "2. 'Ali'\n",
       "3. 'Mohammaed'\n",
       "4. 'Raza'\n",
       "5. 'Shan'\n",
       "\n",
       "\n",
       "\n",
       "$ages\n",
       ":   1. 14\n",
       "2. 20\n",
       "3. 21\n",
       "4. 23\n",
       "5. 41\n",
       "\n",
       "\n",
       "\n",
       "\n",
       "\n"
      ],
      "text/plain": [
       "$names\n",
       "[1] Ahmed     Ali       Mohammaed Raza      Shan     \n",
       "Levels: Ahmed Ali Mohammaed Raza Shan\n",
       "\n",
       "$ages\n",
       "[1] 14 20 21 23 41\n"
      ]
     },
     "metadata": {},
     "output_type": "display_data"
    }
   ],
   "source": [
    "lapply(data,sort)"
   ]
  },
  {
   "cell_type": "markdown",
   "metadata": {},
   "source": [
    "# Naming the dataframe"
   ]
  },
  {
   "cell_type": "code",
   "execution_count": 15,
   "metadata": {},
   "outputs": [
    {
     "data": {
      "text/html": [
       "<table>\n",
       "<thead><tr><th scope=col>a</th><th scope=col>b</th><th scope=col>c</th><th scope=col>d</th></tr></thead>\n",
       "<tbody>\n",
       "\t<tr><td>10      </td><td>book    </td><td> TRUE   </td><td> 2.5    </td></tr>\n",
       "\t<tr><td>20      </td><td>chips   </td><td> TRUE   </td><td> 8.0    </td></tr>\n",
       "\t<tr><td>30      </td><td>textbook</td><td>FALSE   </td><td>10.0    </td></tr>\n",
       "\t<tr><td>40      </td><td>pencil  </td><td> TRUE   </td><td> 7.0    </td></tr>\n",
       "</tbody>\n",
       "</table>\n"
      ],
      "text/latex": [
       "\\begin{tabular}{r|llll}\n",
       " a & b & c & d\\\\\n",
       "\\hline\n",
       "\t 10       & book     &  TRUE    &  2.5    \\\\\n",
       "\t 20       & chips    &  TRUE    &  8.0    \\\\\n",
       "\t 30       & textbook & FALSE    & 10.0    \\\\\n",
       "\t 40       & pencil   &  TRUE    &  7.0    \\\\\n",
       "\\end{tabular}\n"
      ],
      "text/markdown": [
       "\n",
       "| a | b | c | d |\n",
       "|---|---|---|---|\n",
       "| 10       | book     |  TRUE    |  2.5     |\n",
       "| 20       | chips    |  TRUE    |  8.0     |\n",
       "| 30       | textbook | FALSE    | 10.0     |\n",
       "| 40       | pencil   |  TRUE    |  7.0     |\n",
       "\n"
      ],
      "text/plain": [
       "  a  b        c     d   \n",
       "1 10 book      TRUE  2.5\n",
       "2 20 chips     TRUE  8.0\n",
       "3 30 textbook FALSE 10.0\n",
       "4 40 pencil    TRUE  7.0"
      ]
     },
     "metadata": {},
     "output_type": "display_data"
    }
   ],
   "source": [
    "a <- c(10,20,30,40)\n",
    "b <- c('book','chips','textbook','pencil')\n",
    "c <- c(TRUE,TRUE,FALSE,TRUE)\n",
    "d <- c(2.5,8,10,7)\n",
    "\n",
    "df <- data.frame(a,b,c,d)\n",
    "df"
   ]
  },
  {
   "cell_type": "code",
   "execution_count": 16,
   "metadata": {},
   "outputs": [],
   "source": [
    "names(df) <-c ('ID','Items','store','price')"
   ]
  },
  {
   "cell_type": "code",
   "execution_count": 17,
   "metadata": {},
   "outputs": [
    {
     "data": {
      "text/html": [
       "<table>\n",
       "<thead><tr><th scope=col>ID</th><th scope=col>Items</th><th scope=col>store</th><th scope=col>price</th></tr></thead>\n",
       "<tbody>\n",
       "\t<tr><td>10      </td><td>book    </td><td> TRUE   </td><td> 2.5    </td></tr>\n",
       "\t<tr><td>20      </td><td>chips   </td><td> TRUE   </td><td> 8.0    </td></tr>\n",
       "\t<tr><td>30      </td><td>textbook</td><td>FALSE   </td><td>10.0    </td></tr>\n",
       "\t<tr><td>40      </td><td>pencil  </td><td> TRUE   </td><td> 7.0    </td></tr>\n",
       "</tbody>\n",
       "</table>\n"
      ],
      "text/latex": [
       "\\begin{tabular}{r|llll}\n",
       " ID & Items & store & price\\\\\n",
       "\\hline\n",
       "\t 10       & book     &  TRUE    &  2.5    \\\\\n",
       "\t 20       & chips    &  TRUE    &  8.0    \\\\\n",
       "\t 30       & textbook & FALSE    & 10.0    \\\\\n",
       "\t 40       & pencil   &  TRUE    &  7.0    \\\\\n",
       "\\end{tabular}\n"
      ],
      "text/markdown": [
       "\n",
       "| ID | Items | store | price |\n",
       "|---|---|---|---|\n",
       "| 10       | book     |  TRUE    |  2.5     |\n",
       "| 20       | chips    |  TRUE    |  8.0     |\n",
       "| 30       | textbook | FALSE    | 10.0     |\n",
       "| 40       | pencil   |  TRUE    |  7.0     |\n",
       "\n"
      ],
      "text/plain": [
       "  ID Items    store price\n",
       "1 10 book      TRUE  2.5 \n",
       "2 20 chips     TRUE  8.0 \n",
       "3 30 textbook FALSE 10.0 \n",
       "4 40 pencil    TRUE  7.0 "
      ]
     },
     "metadata": {},
     "output_type": "display_data"
    }
   ],
   "source": [
    "df"
   ]
  },
  {
   "cell_type": "markdown",
   "metadata": {},
   "source": [
    "## 6.Slice DataFrame"
   ]
  },
  {
   "cell_type": "code",
   "execution_count": 18,
   "metadata": {},
   "outputs": [
    {
     "data": {
      "text/html": [
       "book\n",
       "<details>\n",
       "\t<summary style=display:list-item;cursor:pointer>\n",
       "\t\t<strong>Levels</strong>:\n",
       "\t</summary>\n",
       "\t<ol class=list-inline>\n",
       "\t\t<li>'book'</li>\n",
       "\t\t<li>'chips'</li>\n",
       "\t\t<li>'pencil'</li>\n",
       "\t\t<li>'textbook'</li>\n",
       "\t</ol>\n",
       "</details>"
      ],
      "text/latex": [
       "book\n",
       "\\emph{Levels}: \\begin{enumerate*}\n",
       "\\item 'book'\n",
       "\\item 'chips'\n",
       "\\item 'pencil'\n",
       "\\item 'textbook'\n",
       "\\end{enumerate*}\n"
      ],
      "text/markdown": [
       "book\n",
       "**Levels**: 1. 'book'\n",
       "2. 'chips'\n",
       "3. 'pencil'\n",
       "4. 'textbook'\n",
       "\n",
       "\n"
      ],
      "text/plain": [
       "[1] book\n",
       "Levels: book chips pencil textbook"
      ]
     },
     "metadata": {},
     "output_type": "display_data"
    }
   ],
   "source": [
    "df[1,2]"
   ]
  },
  {
   "cell_type": "code",
   "execution_count": 19,
   "metadata": {},
   "outputs": [
    {
     "data": {
      "text/html": [
       "<table>\n",
       "<thead><tr><th scope=col>ID</th><th scope=col>Items</th><th scope=col>store</th><th scope=col>price</th></tr></thead>\n",
       "<tbody>\n",
       "\t<tr><td>10   </td><td>book </td><td>TRUE </td><td>2.5  </td></tr>\n",
       "\t<tr><td>20   </td><td>chips</td><td>TRUE </td><td>8.0  </td></tr>\n",
       "</tbody>\n",
       "</table>\n"
      ],
      "text/latex": [
       "\\begin{tabular}{r|llll}\n",
       " ID & Items & store & price\\\\\n",
       "\\hline\n",
       "\t 10    & book  & TRUE  & 2.5  \\\\\n",
       "\t 20    & chips & TRUE  & 8.0  \\\\\n",
       "\\end{tabular}\n"
      ],
      "text/markdown": [
       "\n",
       "| ID | Items | store | price |\n",
       "|---|---|---|---|\n",
       "| 10    | book  | TRUE  | 2.5   |\n",
       "| 20    | chips | TRUE  | 8.0   |\n",
       "\n"
      ],
      "text/plain": [
       "  ID Items store price\n",
       "1 10 book  TRUE  2.5  \n",
       "2 20 chips TRUE  8.0  "
      ]
     },
     "metadata": {},
     "output_type": "display_data"
    }
   ],
   "source": [
    "df[1:2,]"
   ]
  },
  {
   "cell_type": "code",
   "execution_count": 20,
   "metadata": {},
   "outputs": [
    {
     "data": {
      "text/html": [
       "<table>\n",
       "<thead><tr><th scope=col>store</th><th scope=col>price</th></tr></thead>\n",
       "<tbody>\n",
       "\t<tr><td> TRUE</td><td> 2.5 </td></tr>\n",
       "\t<tr><td> TRUE</td><td> 8.0 </td></tr>\n",
       "\t<tr><td>FALSE</td><td>10.0 </td></tr>\n",
       "</tbody>\n",
       "</table>\n"
      ],
      "text/latex": [
       "\\begin{tabular}{r|ll}\n",
       " store & price\\\\\n",
       "\\hline\n",
       "\t  TRUE &  2.5 \\\\\n",
       "\t  TRUE &  8.0 \\\\\n",
       "\t FALSE & 10.0 \\\\\n",
       "\\end{tabular}\n"
      ],
      "text/markdown": [
       "\n",
       "| store | price |\n",
       "|---|---|\n",
       "|  TRUE |  2.5  |\n",
       "|  TRUE |  8.0  |\n",
       "| FALSE | 10.0  |\n",
       "\n"
      ],
      "text/plain": [
       "  store price\n",
       "1  TRUE  2.5 \n",
       "2  TRUE  8.0 \n",
       "3 FALSE 10.0 "
      ]
     },
     "metadata": {},
     "output_type": "display_data"
    }
   ],
   "source": [
    "df[1:3, 3:4]"
   ]
  },
  {
   "cell_type": "code",
   "execution_count": 21,
   "metadata": {},
   "outputs": [
    {
     "data": {
      "text/html": [
       "<table>\n",
       "<thead><tr><th scope=col>ID</th><th scope=col>store</th></tr></thead>\n",
       "<tbody>\n",
       "\t<tr><td>10   </td><td> TRUE</td></tr>\n",
       "\t<tr><td>20   </td><td> TRUE</td></tr>\n",
       "\t<tr><td>30   </td><td>FALSE</td></tr>\n",
       "\t<tr><td>40   </td><td> TRUE</td></tr>\n",
       "</tbody>\n",
       "</table>\n"
      ],
      "text/latex": [
       "\\begin{tabular}{r|ll}\n",
       " ID & store\\\\\n",
       "\\hline\n",
       "\t 10    &  TRUE\\\\\n",
       "\t 20    &  TRUE\\\\\n",
       "\t 30    & FALSE\\\\\n",
       "\t 40    &  TRUE\\\\\n",
       "\\end{tabular}\n"
      ],
      "text/markdown": [
       "\n",
       "| ID | store |\n",
       "|---|---|\n",
       "| 10    |  TRUE |\n",
       "| 20    |  TRUE |\n",
       "| 30    | FALSE |\n",
       "| 40    |  TRUE |\n",
       "\n"
      ],
      "text/plain": [
       "  ID store\n",
       "1 10  TRUE\n",
       "2 20  TRUE\n",
       "3 30 FALSE\n",
       "4 40  TRUE"
      ]
     },
     "metadata": {},
     "output_type": "display_data"
    }
   ],
   "source": [
    "df[, c('ID', 'store')]"
   ]
  },
  {
   "cell_type": "markdown",
   "metadata": {},
   "source": [
    "## 7.Append a Column to Data Frame"
   ]
  },
  {
   "cell_type": "code",
   "execution_count": 22,
   "metadata": {},
   "outputs": [],
   "source": [
    "quantity <- c(10, 35, 40, 5)"
   ]
  },
  {
   "cell_type": "code",
   "execution_count": 23,
   "metadata": {},
   "outputs": [
    {
     "data": {
      "text/html": [
       "<table>\n",
       "<thead><tr><th scope=col>ID</th><th scope=col>Items</th><th scope=col>store</th><th scope=col>price</th><th scope=col>quantity</th></tr></thead>\n",
       "<tbody>\n",
       "\t<tr><td>10      </td><td>book    </td><td> TRUE   </td><td> 2.5    </td><td>10      </td></tr>\n",
       "\t<tr><td>20      </td><td>chips   </td><td> TRUE   </td><td> 8.0    </td><td>35      </td></tr>\n",
       "\t<tr><td>30      </td><td>textbook</td><td>FALSE   </td><td>10.0    </td><td>40      </td></tr>\n",
       "\t<tr><td>40      </td><td>pencil  </td><td> TRUE   </td><td> 7.0    </td><td> 5      </td></tr>\n",
       "</tbody>\n",
       "</table>\n"
      ],
      "text/latex": [
       "\\begin{tabular}{r|lllll}\n",
       " ID & Items & store & price & quantity\\\\\n",
       "\\hline\n",
       "\t 10       & book     &  TRUE    &  2.5     & 10      \\\\\n",
       "\t 20       & chips    &  TRUE    &  8.0     & 35      \\\\\n",
       "\t 30       & textbook & FALSE    & 10.0     & 40      \\\\\n",
       "\t 40       & pencil   &  TRUE    &  7.0     &  5      \\\\\n",
       "\\end{tabular}\n"
      ],
      "text/markdown": [
       "\n",
       "| ID | Items | store | price | quantity |\n",
       "|---|---|---|---|---|\n",
       "| 10       | book     |  TRUE    |  2.5     | 10       |\n",
       "| 20       | chips    |  TRUE    |  8.0     | 35       |\n",
       "| 30       | textbook | FALSE    | 10.0     | 40       |\n",
       "| 40       | pencil   |  TRUE    |  7.0     |  5       |\n",
       "\n"
      ],
      "text/plain": [
       "  ID Items    store price quantity\n",
       "1 10 book      TRUE  2.5  10      \n",
       "2 20 chips     TRUE  8.0  35      \n",
       "3 30 textbook FALSE 10.0  40      \n",
       "4 40 pencil    TRUE  7.0   5      "
      ]
     },
     "metadata": {},
     "output_type": "display_data"
    }
   ],
   "source": [
    "df$quantity <- quantity\n",
    "df"
   ]
  },
  {
   "cell_type": "markdown",
   "metadata": {},
   "source": [
    "# Select a Column of a Data Frame"
   ]
  },
  {
   "cell_type": "code",
   "execution_count": 24,
   "metadata": {},
   "outputs": [
    {
     "data": {
      "text/html": [
       "<ol class=list-inline>\n",
       "\t<li>10</li>\n",
       "\t<li>20</li>\n",
       "\t<li>30</li>\n",
       "\t<li>40</li>\n",
       "</ol>\n"
      ],
      "text/latex": [
       "\\begin{enumerate*}\n",
       "\\item 10\n",
       "\\item 20\n",
       "\\item 30\n",
       "\\item 40\n",
       "\\end{enumerate*}\n"
      ],
      "text/markdown": [
       "1. 10\n",
       "2. 20\n",
       "3. 30\n",
       "4. 40\n",
       "\n",
       "\n"
      ],
      "text/plain": [
       "[1] 10 20 30 40"
      ]
     },
     "metadata": {},
     "output_type": "display_data"
    }
   ],
   "source": [
    "df$ID"
   ]
  },
  {
   "cell_type": "code",
   "execution_count": 25,
   "metadata": {},
   "outputs": [
    {
     "name": "stderr",
     "output_type": "stream",
     "text": [
      "Warning message:\n",
      "\"package 'tidyverse' was built under R version 3.6.3\"-- Attaching packages ------------------------------------------------------------------------------- tidyverse 1.3.0 --\n",
      "v ggplot2 3.3.2     v purrr   0.3.4\n",
      "v tibble  3.0.4     v dplyr   1.0.2\n",
      "v tidyr   1.1.2     v stringr 1.4.0\n",
      "v readr   1.3.1     v forcats 0.4.0\n",
      "Warning message:\n",
      "\"package 'ggplot2' was built under R version 3.6.3\"Warning message:\n",
      "\"package 'tibble' was built under R version 3.6.3\"Warning message:\n",
      "\"package 'tidyr' was built under R version 3.6.3\"Warning message:\n",
      "\"package 'purrr' was built under R version 3.6.3\"Warning message:\n",
      "\"package 'dplyr' was built under R version 3.6.3\"-- Conflicts ---------------------------------------------------------------------------------- tidyverse_conflicts() --\n",
      "x dplyr::filter() masks stats::filter()\n",
      "x dplyr::lag()    masks stats::lag()\n"
     ]
    }
   ],
   "source": [
    "library(tidyverse)\n"
   ]
  },
  {
   "cell_type": "code",
   "execution_count": 26,
   "metadata": {},
   "outputs": [
    {
     "name": "stderr",
     "output_type": "stream",
     "text": [
      "Warning message:\n",
      "\"package 'palmerpenguins' was built under R version 3.6.3\""
     ]
    }
   ],
   "source": [
    "library(palmerpenguins)"
   ]
  },
  {
   "cell_type": "code",
   "execution_count": 27,
   "metadata": {},
   "outputs": [
    {
     "data": {
      "text/html": [
       "<table>\n",
       "<thead><tr><th scope=col>species</th><th scope=col>island</th><th scope=col>bill_length_mm</th><th scope=col>bill_depth_mm</th><th scope=col>flipper_length_mm</th><th scope=col>body_mass_g</th><th scope=col>sex</th><th scope=col>year</th></tr></thead>\n",
       "<tbody>\n",
       "\t<tr><td>Adelie   </td><td>Torgersen</td><td>39.1     </td><td>18.7     </td><td>181      </td><td>3750     </td><td>male     </td><td>2007     </td></tr>\n",
       "\t<tr><td>Adelie   </td><td>Torgersen</td><td>39.5     </td><td>17.4     </td><td>186      </td><td>3800     </td><td>female   </td><td>2007     </td></tr>\n",
       "\t<tr><td>Adelie   </td><td>Torgersen</td><td>40.3     </td><td>18.0     </td><td>195      </td><td>3250     </td><td>female   </td><td>2007     </td></tr>\n",
       "\t<tr><td>Adelie   </td><td>Torgersen</td><td>  NA     </td><td>  NA     </td><td> NA      </td><td>  NA     </td><td>NA       </td><td>2007     </td></tr>\n",
       "\t<tr><td>Adelie   </td><td>Torgersen</td><td>36.7     </td><td>19.3     </td><td>193      </td><td>3450     </td><td>female   </td><td>2007     </td></tr>\n",
       "\t<tr><td>Adelie   </td><td>Torgersen</td><td>39.3     </td><td>20.6     </td><td>190      </td><td>3650     </td><td>male     </td><td>2007     </td></tr>\n",
       "\t<tr><td>Adelie   </td><td>Torgersen</td><td>38.9     </td><td>17.8     </td><td>181      </td><td>3625     </td><td>female   </td><td>2007     </td></tr>\n",
       "\t<tr><td>Adelie   </td><td>Torgersen</td><td>39.2     </td><td>19.6     </td><td>195      </td><td>4675     </td><td>male     </td><td>2007     </td></tr>\n",
       "\t<tr><td>Adelie   </td><td>Torgersen</td><td>34.1     </td><td>18.1     </td><td>193      </td><td>3475     </td><td>NA       </td><td>2007     </td></tr>\n",
       "\t<tr><td>Adelie   </td><td>Torgersen</td><td>42.0     </td><td>20.2     </td><td>190      </td><td>4250     </td><td>NA       </td><td>2007     </td></tr>\n",
       "\t<tr><td>Adelie   </td><td>Torgersen</td><td>37.8     </td><td>17.1     </td><td>186      </td><td>3300     </td><td>NA       </td><td>2007     </td></tr>\n",
       "\t<tr><td>Adelie   </td><td>Torgersen</td><td>37.8     </td><td>17.3     </td><td>180      </td><td>3700     </td><td>NA       </td><td>2007     </td></tr>\n",
       "\t<tr><td>Adelie   </td><td>Torgersen</td><td>41.1     </td><td>17.6     </td><td>182      </td><td>3200     </td><td>female   </td><td>2007     </td></tr>\n",
       "\t<tr><td>Adelie   </td><td>Torgersen</td><td>38.6     </td><td>21.2     </td><td>191      </td><td>3800     </td><td>male     </td><td>2007     </td></tr>\n",
       "\t<tr><td>Adelie   </td><td>Torgersen</td><td>34.6     </td><td>21.1     </td><td>198      </td><td>4400     </td><td>male     </td><td>2007     </td></tr>\n",
       "\t<tr><td>Adelie   </td><td>Torgersen</td><td>36.6     </td><td>17.8     </td><td>185      </td><td>3700     </td><td>female   </td><td>2007     </td></tr>\n",
       "\t<tr><td>Adelie   </td><td>Torgersen</td><td>38.7     </td><td>19.0     </td><td>195      </td><td>3450     </td><td>female   </td><td>2007     </td></tr>\n",
       "\t<tr><td>Adelie   </td><td>Torgersen</td><td>42.5     </td><td>20.7     </td><td>197      </td><td>4500     </td><td>male     </td><td>2007     </td></tr>\n",
       "\t<tr><td>Adelie   </td><td>Torgersen</td><td>34.4     </td><td>18.4     </td><td>184      </td><td>3325     </td><td>female   </td><td>2007     </td></tr>\n",
       "\t<tr><td>Adelie   </td><td>Torgersen</td><td>46.0     </td><td>21.5     </td><td>194      </td><td>4200     </td><td>male     </td><td>2007     </td></tr>\n",
       "\t<tr><td>Adelie   </td><td>Biscoe   </td><td>37.8     </td><td>18.3     </td><td>174      </td><td>3400     </td><td>female   </td><td>2007     </td></tr>\n",
       "\t<tr><td>Adelie   </td><td>Biscoe   </td><td>37.7     </td><td>18.7     </td><td>180      </td><td>3600     </td><td>male     </td><td>2007     </td></tr>\n",
       "\t<tr><td>Adelie   </td><td>Biscoe   </td><td>35.9     </td><td>19.2     </td><td>189      </td><td>3800     </td><td>female   </td><td>2007     </td></tr>\n",
       "\t<tr><td>Adelie   </td><td>Biscoe   </td><td>38.2     </td><td>18.1     </td><td>185      </td><td>3950     </td><td>male     </td><td>2007     </td></tr>\n",
       "\t<tr><td>Adelie   </td><td>Biscoe   </td><td>38.8     </td><td>17.2     </td><td>180      </td><td>3800     </td><td>male     </td><td>2007     </td></tr>\n",
       "\t<tr><td>Adelie   </td><td>Biscoe   </td><td>35.3     </td><td>18.9     </td><td>187      </td><td>3800     </td><td>female   </td><td>2007     </td></tr>\n",
       "\t<tr><td>Adelie   </td><td>Biscoe   </td><td>40.6     </td><td>18.6     </td><td>183      </td><td>3550     </td><td>male     </td><td>2007     </td></tr>\n",
       "\t<tr><td>Adelie   </td><td>Biscoe   </td><td>40.5     </td><td>17.9     </td><td>187      </td><td>3200     </td><td>female   </td><td>2007     </td></tr>\n",
       "\t<tr><td>Adelie   </td><td>Biscoe   </td><td>37.9     </td><td>18.6     </td><td>172      </td><td>3150     </td><td>female   </td><td>2007     </td></tr>\n",
       "\t<tr><td>Adelie   </td><td>Biscoe   </td><td>40.5     </td><td>18.9     </td><td>180      </td><td>3950     </td><td>male     </td><td>2007     </td></tr>\n",
       "\t<tr><td>...</td><td>...</td><td>...</td><td>...</td><td>...</td><td>...</td><td>...</td><td>...</td></tr>\n",
       "\t<tr><td>Chinstrap</td><td>Dream    </td><td>46.9     </td><td>16.6     </td><td>192      </td><td>2700     </td><td>female   </td><td>2008     </td></tr>\n",
       "\t<tr><td>Chinstrap</td><td>Dream    </td><td>53.5     </td><td>19.9     </td><td>205      </td><td>4500     </td><td>male     </td><td>2008     </td></tr>\n",
       "\t<tr><td>Chinstrap</td><td>Dream    </td><td>49.0     </td><td>19.5     </td><td>210      </td><td>3950     </td><td>male     </td><td>2008     </td></tr>\n",
       "\t<tr><td>Chinstrap</td><td>Dream    </td><td>46.2     </td><td>17.5     </td><td>187      </td><td>3650     </td><td>female   </td><td>2008     </td></tr>\n",
       "\t<tr><td>Chinstrap</td><td>Dream    </td><td>50.9     </td><td>19.1     </td><td>196      </td><td>3550     </td><td>male     </td><td>2008     </td></tr>\n",
       "\t<tr><td>Chinstrap</td><td>Dream    </td><td>45.5     </td><td>17.0     </td><td>196      </td><td>3500     </td><td>female   </td><td>2008     </td></tr>\n",
       "\t<tr><td>Chinstrap</td><td>Dream    </td><td>50.9     </td><td>17.9     </td><td>196      </td><td>3675     </td><td>female   </td><td>2009     </td></tr>\n",
       "\t<tr><td>Chinstrap</td><td>Dream    </td><td>50.8     </td><td>18.5     </td><td>201      </td><td>4450     </td><td>male     </td><td>2009     </td></tr>\n",
       "\t<tr><td>Chinstrap</td><td>Dream    </td><td>50.1     </td><td>17.9     </td><td>190      </td><td>3400     </td><td>female   </td><td>2009     </td></tr>\n",
       "\t<tr><td>Chinstrap</td><td>Dream    </td><td>49.0     </td><td>19.6     </td><td>212      </td><td>4300     </td><td>male     </td><td>2009     </td></tr>\n",
       "\t<tr><td>Chinstrap</td><td>Dream    </td><td>51.5     </td><td>18.7     </td><td>187      </td><td>3250     </td><td>male     </td><td>2009     </td></tr>\n",
       "\t<tr><td>Chinstrap</td><td>Dream    </td><td>49.8     </td><td>17.3     </td><td>198      </td><td>3675     </td><td>female   </td><td>2009     </td></tr>\n",
       "\t<tr><td>Chinstrap</td><td>Dream    </td><td>48.1     </td><td>16.4     </td><td>199      </td><td>3325     </td><td>female   </td><td>2009     </td></tr>\n",
       "\t<tr><td>Chinstrap</td><td>Dream    </td><td>51.4     </td><td>19.0     </td><td>201      </td><td>3950     </td><td>male     </td><td>2009     </td></tr>\n",
       "\t<tr><td>Chinstrap</td><td>Dream    </td><td>45.7     </td><td>17.3     </td><td>193      </td><td>3600     </td><td>female   </td><td>2009     </td></tr>\n",
       "\t<tr><td>Chinstrap</td><td>Dream    </td><td>50.7     </td><td>19.7     </td><td>203      </td><td>4050     </td><td>male     </td><td>2009     </td></tr>\n",
       "\t<tr><td>Chinstrap</td><td>Dream    </td><td>42.5     </td><td>17.3     </td><td>187      </td><td>3350     </td><td>female   </td><td>2009     </td></tr>\n",
       "\t<tr><td>Chinstrap</td><td>Dream    </td><td>52.2     </td><td>18.8     </td><td>197      </td><td>3450     </td><td>male     </td><td>2009     </td></tr>\n",
       "\t<tr><td>Chinstrap</td><td>Dream    </td><td>45.2     </td><td>16.6     </td><td>191      </td><td>3250     </td><td>female   </td><td>2009     </td></tr>\n",
       "\t<tr><td>Chinstrap</td><td>Dream    </td><td>49.3     </td><td>19.9     </td><td>203      </td><td>4050     </td><td>male     </td><td>2009     </td></tr>\n",
       "\t<tr><td>Chinstrap</td><td>Dream    </td><td>50.2     </td><td>18.8     </td><td>202      </td><td>3800     </td><td>male     </td><td>2009     </td></tr>\n",
       "\t<tr><td>Chinstrap</td><td>Dream    </td><td>45.6     </td><td>19.4     </td><td>194      </td><td>3525     </td><td>female   </td><td>2009     </td></tr>\n",
       "\t<tr><td>Chinstrap</td><td>Dream    </td><td>51.9     </td><td>19.5     </td><td>206      </td><td>3950     </td><td>male     </td><td>2009     </td></tr>\n",
       "\t<tr><td>Chinstrap</td><td>Dream    </td><td>46.8     </td><td>16.5     </td><td>189      </td><td>3650     </td><td>female   </td><td>2009     </td></tr>\n",
       "\t<tr><td>Chinstrap</td><td>Dream    </td><td>45.7     </td><td>17.0     </td><td>195      </td><td>3650     </td><td>female   </td><td>2009     </td></tr>\n",
       "\t<tr><td>Chinstrap</td><td>Dream    </td><td>55.8     </td><td>19.8     </td><td>207      </td><td>4000     </td><td>male     </td><td>2009     </td></tr>\n",
       "\t<tr><td>Chinstrap</td><td>Dream    </td><td>43.5     </td><td>18.1     </td><td>202      </td><td>3400     </td><td>female   </td><td>2009     </td></tr>\n",
       "\t<tr><td>Chinstrap</td><td>Dream    </td><td>49.6     </td><td>18.2     </td><td>193      </td><td>3775     </td><td>male     </td><td>2009     </td></tr>\n",
       "\t<tr><td>Chinstrap</td><td>Dream    </td><td>50.8     </td><td>19.0     </td><td>210      </td><td>4100     </td><td>male     </td><td>2009     </td></tr>\n",
       "\t<tr><td>Chinstrap</td><td>Dream    </td><td>50.2     </td><td>18.7     </td><td>198      </td><td>3775     </td><td>female   </td><td>2009     </td></tr>\n",
       "</tbody>\n",
       "</table>\n"
      ],
      "text/latex": [
       "\\begin{tabular}{r|llllllll}\n",
       " species & island & bill\\_length\\_mm & bill\\_depth\\_mm & flipper\\_length\\_mm & body\\_mass\\_g & sex & year\\\\\n",
       "\\hline\n",
       "\t Adelie    & Torgersen & 39.1      & 18.7      & 181       & 3750      & male      & 2007     \\\\\n",
       "\t Adelie    & Torgersen & 39.5      & 17.4      & 186       & 3800      & female    & 2007     \\\\\n",
       "\t Adelie    & Torgersen & 40.3      & 18.0      & 195       & 3250      & female    & 2007     \\\\\n",
       "\t Adelie    & Torgersen &   NA      &   NA      &  NA       &   NA      & NA        & 2007     \\\\\n",
       "\t Adelie    & Torgersen & 36.7      & 19.3      & 193       & 3450      & female    & 2007     \\\\\n",
       "\t Adelie    & Torgersen & 39.3      & 20.6      & 190       & 3650      & male      & 2007     \\\\\n",
       "\t Adelie    & Torgersen & 38.9      & 17.8      & 181       & 3625      & female    & 2007     \\\\\n",
       "\t Adelie    & Torgersen & 39.2      & 19.6      & 195       & 4675      & male      & 2007     \\\\\n",
       "\t Adelie    & Torgersen & 34.1      & 18.1      & 193       & 3475      & NA        & 2007     \\\\\n",
       "\t Adelie    & Torgersen & 42.0      & 20.2      & 190       & 4250      & NA        & 2007     \\\\\n",
       "\t Adelie    & Torgersen & 37.8      & 17.1      & 186       & 3300      & NA        & 2007     \\\\\n",
       "\t Adelie    & Torgersen & 37.8      & 17.3      & 180       & 3700      & NA        & 2007     \\\\\n",
       "\t Adelie    & Torgersen & 41.1      & 17.6      & 182       & 3200      & female    & 2007     \\\\\n",
       "\t Adelie    & Torgersen & 38.6      & 21.2      & 191       & 3800      & male      & 2007     \\\\\n",
       "\t Adelie    & Torgersen & 34.6      & 21.1      & 198       & 4400      & male      & 2007     \\\\\n",
       "\t Adelie    & Torgersen & 36.6      & 17.8      & 185       & 3700      & female    & 2007     \\\\\n",
       "\t Adelie    & Torgersen & 38.7      & 19.0      & 195       & 3450      & female    & 2007     \\\\\n",
       "\t Adelie    & Torgersen & 42.5      & 20.7      & 197       & 4500      & male      & 2007     \\\\\n",
       "\t Adelie    & Torgersen & 34.4      & 18.4      & 184       & 3325      & female    & 2007     \\\\\n",
       "\t Adelie    & Torgersen & 46.0      & 21.5      & 194       & 4200      & male      & 2007     \\\\\n",
       "\t Adelie    & Biscoe    & 37.8      & 18.3      & 174       & 3400      & female    & 2007     \\\\\n",
       "\t Adelie    & Biscoe    & 37.7      & 18.7      & 180       & 3600      & male      & 2007     \\\\\n",
       "\t Adelie    & Biscoe    & 35.9      & 19.2      & 189       & 3800      & female    & 2007     \\\\\n",
       "\t Adelie    & Biscoe    & 38.2      & 18.1      & 185       & 3950      & male      & 2007     \\\\\n",
       "\t Adelie    & Biscoe    & 38.8      & 17.2      & 180       & 3800      & male      & 2007     \\\\\n",
       "\t Adelie    & Biscoe    & 35.3      & 18.9      & 187       & 3800      & female    & 2007     \\\\\n",
       "\t Adelie    & Biscoe    & 40.6      & 18.6      & 183       & 3550      & male      & 2007     \\\\\n",
       "\t Adelie    & Biscoe    & 40.5      & 17.9      & 187       & 3200      & female    & 2007     \\\\\n",
       "\t Adelie    & Biscoe    & 37.9      & 18.6      & 172       & 3150      & female    & 2007     \\\\\n",
       "\t Adelie    & Biscoe    & 40.5      & 18.9      & 180       & 3950      & male      & 2007     \\\\\n",
       "\t ... & ... & ... & ... & ... & ... & ... & ...\\\\\n",
       "\t Chinstrap & Dream     & 46.9      & 16.6      & 192       & 2700      & female    & 2008     \\\\\n",
       "\t Chinstrap & Dream     & 53.5      & 19.9      & 205       & 4500      & male      & 2008     \\\\\n",
       "\t Chinstrap & Dream     & 49.0      & 19.5      & 210       & 3950      & male      & 2008     \\\\\n",
       "\t Chinstrap & Dream     & 46.2      & 17.5      & 187       & 3650      & female    & 2008     \\\\\n",
       "\t Chinstrap & Dream     & 50.9      & 19.1      & 196       & 3550      & male      & 2008     \\\\\n",
       "\t Chinstrap & Dream     & 45.5      & 17.0      & 196       & 3500      & female    & 2008     \\\\\n",
       "\t Chinstrap & Dream     & 50.9      & 17.9      & 196       & 3675      & female    & 2009     \\\\\n",
       "\t Chinstrap & Dream     & 50.8      & 18.5      & 201       & 4450      & male      & 2009     \\\\\n",
       "\t Chinstrap & Dream     & 50.1      & 17.9      & 190       & 3400      & female    & 2009     \\\\\n",
       "\t Chinstrap & Dream     & 49.0      & 19.6      & 212       & 4300      & male      & 2009     \\\\\n",
       "\t Chinstrap & Dream     & 51.5      & 18.7      & 187       & 3250      & male      & 2009     \\\\\n",
       "\t Chinstrap & Dream     & 49.8      & 17.3      & 198       & 3675      & female    & 2009     \\\\\n",
       "\t Chinstrap & Dream     & 48.1      & 16.4      & 199       & 3325      & female    & 2009     \\\\\n",
       "\t Chinstrap & Dream     & 51.4      & 19.0      & 201       & 3950      & male      & 2009     \\\\\n",
       "\t Chinstrap & Dream     & 45.7      & 17.3      & 193       & 3600      & female    & 2009     \\\\\n",
       "\t Chinstrap & Dream     & 50.7      & 19.7      & 203       & 4050      & male      & 2009     \\\\\n",
       "\t Chinstrap & Dream     & 42.5      & 17.3      & 187       & 3350      & female    & 2009     \\\\\n",
       "\t Chinstrap & Dream     & 52.2      & 18.8      & 197       & 3450      & male      & 2009     \\\\\n",
       "\t Chinstrap & Dream     & 45.2      & 16.6      & 191       & 3250      & female    & 2009     \\\\\n",
       "\t Chinstrap & Dream     & 49.3      & 19.9      & 203       & 4050      & male      & 2009     \\\\\n",
       "\t Chinstrap & Dream     & 50.2      & 18.8      & 202       & 3800      & male      & 2009     \\\\\n",
       "\t Chinstrap & Dream     & 45.6      & 19.4      & 194       & 3525      & female    & 2009     \\\\\n",
       "\t Chinstrap & Dream     & 51.9      & 19.5      & 206       & 3950      & male      & 2009     \\\\\n",
       "\t Chinstrap & Dream     & 46.8      & 16.5      & 189       & 3650      & female    & 2009     \\\\\n",
       "\t Chinstrap & Dream     & 45.7      & 17.0      & 195       & 3650      & female    & 2009     \\\\\n",
       "\t Chinstrap & Dream     & 55.8      & 19.8      & 207       & 4000      & male      & 2009     \\\\\n",
       "\t Chinstrap & Dream     & 43.5      & 18.1      & 202       & 3400      & female    & 2009     \\\\\n",
       "\t Chinstrap & Dream     & 49.6      & 18.2      & 193       & 3775      & male      & 2009     \\\\\n",
       "\t Chinstrap & Dream     & 50.8      & 19.0      & 210       & 4100      & male      & 2009     \\\\\n",
       "\t Chinstrap & Dream     & 50.2      & 18.7      & 198       & 3775      & female    & 2009     \\\\\n",
       "\\end{tabular}\n"
      ],
      "text/markdown": [
       "\n",
       "| species | island | bill_length_mm | bill_depth_mm | flipper_length_mm | body_mass_g | sex | year |\n",
       "|---|---|---|---|---|---|---|---|\n",
       "| Adelie    | Torgersen | 39.1      | 18.7      | 181       | 3750      | male      | 2007      |\n",
       "| Adelie    | Torgersen | 39.5      | 17.4      | 186       | 3800      | female    | 2007      |\n",
       "| Adelie    | Torgersen | 40.3      | 18.0      | 195       | 3250      | female    | 2007      |\n",
       "| Adelie    | Torgersen |   NA      |   NA      |  NA       |   NA      | NA        | 2007      |\n",
       "| Adelie    | Torgersen | 36.7      | 19.3      | 193       | 3450      | female    | 2007      |\n",
       "| Adelie    | Torgersen | 39.3      | 20.6      | 190       | 3650      | male      | 2007      |\n",
       "| Adelie    | Torgersen | 38.9      | 17.8      | 181       | 3625      | female    | 2007      |\n",
       "| Adelie    | Torgersen | 39.2      | 19.6      | 195       | 4675      | male      | 2007      |\n",
       "| Adelie    | Torgersen | 34.1      | 18.1      | 193       | 3475      | NA        | 2007      |\n",
       "| Adelie    | Torgersen | 42.0      | 20.2      | 190       | 4250      | NA        | 2007      |\n",
       "| Adelie    | Torgersen | 37.8      | 17.1      | 186       | 3300      | NA        | 2007      |\n",
       "| Adelie    | Torgersen | 37.8      | 17.3      | 180       | 3700      | NA        | 2007      |\n",
       "| Adelie    | Torgersen | 41.1      | 17.6      | 182       | 3200      | female    | 2007      |\n",
       "| Adelie    | Torgersen | 38.6      | 21.2      | 191       | 3800      | male      | 2007      |\n",
       "| Adelie    | Torgersen | 34.6      | 21.1      | 198       | 4400      | male      | 2007      |\n",
       "| Adelie    | Torgersen | 36.6      | 17.8      | 185       | 3700      | female    | 2007      |\n",
       "| Adelie    | Torgersen | 38.7      | 19.0      | 195       | 3450      | female    | 2007      |\n",
       "| Adelie    | Torgersen | 42.5      | 20.7      | 197       | 4500      | male      | 2007      |\n",
       "| Adelie    | Torgersen | 34.4      | 18.4      | 184       | 3325      | female    | 2007      |\n",
       "| Adelie    | Torgersen | 46.0      | 21.5      | 194       | 4200      | male      | 2007      |\n",
       "| Adelie    | Biscoe    | 37.8      | 18.3      | 174       | 3400      | female    | 2007      |\n",
       "| Adelie    | Biscoe    | 37.7      | 18.7      | 180       | 3600      | male      | 2007      |\n",
       "| Adelie    | Biscoe    | 35.9      | 19.2      | 189       | 3800      | female    | 2007      |\n",
       "| Adelie    | Biscoe    | 38.2      | 18.1      | 185       | 3950      | male      | 2007      |\n",
       "| Adelie    | Biscoe    | 38.8      | 17.2      | 180       | 3800      | male      | 2007      |\n",
       "| Adelie    | Biscoe    | 35.3      | 18.9      | 187       | 3800      | female    | 2007      |\n",
       "| Adelie    | Biscoe    | 40.6      | 18.6      | 183       | 3550      | male      | 2007      |\n",
       "| Adelie    | Biscoe    | 40.5      | 17.9      | 187       | 3200      | female    | 2007      |\n",
       "| Adelie    | Biscoe    | 37.9      | 18.6      | 172       | 3150      | female    | 2007      |\n",
       "| Adelie    | Biscoe    | 40.5      | 18.9      | 180       | 3950      | male      | 2007      |\n",
       "| ... | ... | ... | ... | ... | ... | ... | ... |\n",
       "| Chinstrap | Dream     | 46.9      | 16.6      | 192       | 2700      | female    | 2008      |\n",
       "| Chinstrap | Dream     | 53.5      | 19.9      | 205       | 4500      | male      | 2008      |\n",
       "| Chinstrap | Dream     | 49.0      | 19.5      | 210       | 3950      | male      | 2008      |\n",
       "| Chinstrap | Dream     | 46.2      | 17.5      | 187       | 3650      | female    | 2008      |\n",
       "| Chinstrap | Dream     | 50.9      | 19.1      | 196       | 3550      | male      | 2008      |\n",
       "| Chinstrap | Dream     | 45.5      | 17.0      | 196       | 3500      | female    | 2008      |\n",
       "| Chinstrap | Dream     | 50.9      | 17.9      | 196       | 3675      | female    | 2009      |\n",
       "| Chinstrap | Dream     | 50.8      | 18.5      | 201       | 4450      | male      | 2009      |\n",
       "| Chinstrap | Dream     | 50.1      | 17.9      | 190       | 3400      | female    | 2009      |\n",
       "| Chinstrap | Dream     | 49.0      | 19.6      | 212       | 4300      | male      | 2009      |\n",
       "| Chinstrap | Dream     | 51.5      | 18.7      | 187       | 3250      | male      | 2009      |\n",
       "| Chinstrap | Dream     | 49.8      | 17.3      | 198       | 3675      | female    | 2009      |\n",
       "| Chinstrap | Dream     | 48.1      | 16.4      | 199       | 3325      | female    | 2009      |\n",
       "| Chinstrap | Dream     | 51.4      | 19.0      | 201       | 3950      | male      | 2009      |\n",
       "| Chinstrap | Dream     | 45.7      | 17.3      | 193       | 3600      | female    | 2009      |\n",
       "| Chinstrap | Dream     | 50.7      | 19.7      | 203       | 4050      | male      | 2009      |\n",
       "| Chinstrap | Dream     | 42.5      | 17.3      | 187       | 3350      | female    | 2009      |\n",
       "| Chinstrap | Dream     | 52.2      | 18.8      | 197       | 3450      | male      | 2009      |\n",
       "| Chinstrap | Dream     | 45.2      | 16.6      | 191       | 3250      | female    | 2009      |\n",
       "| Chinstrap | Dream     | 49.3      | 19.9      | 203       | 4050      | male      | 2009      |\n",
       "| Chinstrap | Dream     | 50.2      | 18.8      | 202       | 3800      | male      | 2009      |\n",
       "| Chinstrap | Dream     | 45.6      | 19.4      | 194       | 3525      | female    | 2009      |\n",
       "| Chinstrap | Dream     | 51.9      | 19.5      | 206       | 3950      | male      | 2009      |\n",
       "| Chinstrap | Dream     | 46.8      | 16.5      | 189       | 3650      | female    | 2009      |\n",
       "| Chinstrap | Dream     | 45.7      | 17.0      | 195       | 3650      | female    | 2009      |\n",
       "| Chinstrap | Dream     | 55.8      | 19.8      | 207       | 4000      | male      | 2009      |\n",
       "| Chinstrap | Dream     | 43.5      | 18.1      | 202       | 3400      | female    | 2009      |\n",
       "| Chinstrap | Dream     | 49.6      | 18.2      | 193       | 3775      | male      | 2009      |\n",
       "| Chinstrap | Dream     | 50.8      | 19.0      | 210       | 4100      | male      | 2009      |\n",
       "| Chinstrap | Dream     | 50.2      | 18.7      | 198       | 3775      | female    | 2009      |\n",
       "\n"
      ],
      "text/plain": [
       "    species   island    bill_length_mm bill_depth_mm flipper_length_mm\n",
       "1   Adelie    Torgersen 39.1           18.7          181              \n",
       "2   Adelie    Torgersen 39.5           17.4          186              \n",
       "3   Adelie    Torgersen 40.3           18.0          195              \n",
       "4   Adelie    Torgersen   NA             NA           NA              \n",
       "5   Adelie    Torgersen 36.7           19.3          193              \n",
       "6   Adelie    Torgersen 39.3           20.6          190              \n",
       "7   Adelie    Torgersen 38.9           17.8          181              \n",
       "8   Adelie    Torgersen 39.2           19.6          195              \n",
       "9   Adelie    Torgersen 34.1           18.1          193              \n",
       "10  Adelie    Torgersen 42.0           20.2          190              \n",
       "11  Adelie    Torgersen 37.8           17.1          186              \n",
       "12  Adelie    Torgersen 37.8           17.3          180              \n",
       "13  Adelie    Torgersen 41.1           17.6          182              \n",
       "14  Adelie    Torgersen 38.6           21.2          191              \n",
       "15  Adelie    Torgersen 34.6           21.1          198              \n",
       "16  Adelie    Torgersen 36.6           17.8          185              \n",
       "17  Adelie    Torgersen 38.7           19.0          195              \n",
       "18  Adelie    Torgersen 42.5           20.7          197              \n",
       "19  Adelie    Torgersen 34.4           18.4          184              \n",
       "20  Adelie    Torgersen 46.0           21.5          194              \n",
       "21  Adelie    Biscoe    37.8           18.3          174              \n",
       "22  Adelie    Biscoe    37.7           18.7          180              \n",
       "23  Adelie    Biscoe    35.9           19.2          189              \n",
       "24  Adelie    Biscoe    38.2           18.1          185              \n",
       "25  Adelie    Biscoe    38.8           17.2          180              \n",
       "26  Adelie    Biscoe    35.3           18.9          187              \n",
       "27  Adelie    Biscoe    40.6           18.6          183              \n",
       "28  Adelie    Biscoe    40.5           17.9          187              \n",
       "29  Adelie    Biscoe    37.9           18.6          172              \n",
       "30  Adelie    Biscoe    40.5           18.9          180              \n",
       "... ...       ...       ...            ...           ...              \n",
       "315 Chinstrap Dream     46.9           16.6          192              \n",
       "316 Chinstrap Dream     53.5           19.9          205              \n",
       "317 Chinstrap Dream     49.0           19.5          210              \n",
       "318 Chinstrap Dream     46.2           17.5          187              \n",
       "319 Chinstrap Dream     50.9           19.1          196              \n",
       "320 Chinstrap Dream     45.5           17.0          196              \n",
       "321 Chinstrap Dream     50.9           17.9          196              \n",
       "322 Chinstrap Dream     50.8           18.5          201              \n",
       "323 Chinstrap Dream     50.1           17.9          190              \n",
       "324 Chinstrap Dream     49.0           19.6          212              \n",
       "325 Chinstrap Dream     51.5           18.7          187              \n",
       "326 Chinstrap Dream     49.8           17.3          198              \n",
       "327 Chinstrap Dream     48.1           16.4          199              \n",
       "328 Chinstrap Dream     51.4           19.0          201              \n",
       "329 Chinstrap Dream     45.7           17.3          193              \n",
       "330 Chinstrap Dream     50.7           19.7          203              \n",
       "331 Chinstrap Dream     42.5           17.3          187              \n",
       "332 Chinstrap Dream     52.2           18.8          197              \n",
       "333 Chinstrap Dream     45.2           16.6          191              \n",
       "334 Chinstrap Dream     49.3           19.9          203              \n",
       "335 Chinstrap Dream     50.2           18.8          202              \n",
       "336 Chinstrap Dream     45.6           19.4          194              \n",
       "337 Chinstrap Dream     51.9           19.5          206              \n",
       "338 Chinstrap Dream     46.8           16.5          189              \n",
       "339 Chinstrap Dream     45.7           17.0          195              \n",
       "340 Chinstrap Dream     55.8           19.8          207              \n",
       "341 Chinstrap Dream     43.5           18.1          202              \n",
       "342 Chinstrap Dream     49.6           18.2          193              \n",
       "343 Chinstrap Dream     50.8           19.0          210              \n",
       "344 Chinstrap Dream     50.2           18.7          198              \n",
       "    body_mass_g sex    year\n",
       "1   3750        male   2007\n",
       "2   3800        female 2007\n",
       "3   3250        female 2007\n",
       "4     NA        NA     2007\n",
       "5   3450        female 2007\n",
       "6   3650        male   2007\n",
       "7   3625        female 2007\n",
       "8   4675        male   2007\n",
       "9   3475        NA     2007\n",
       "10  4250        NA     2007\n",
       "11  3300        NA     2007\n",
       "12  3700        NA     2007\n",
       "13  3200        female 2007\n",
       "14  3800        male   2007\n",
       "15  4400        male   2007\n",
       "16  3700        female 2007\n",
       "17  3450        female 2007\n",
       "18  4500        male   2007\n",
       "19  3325        female 2007\n",
       "20  4200        male   2007\n",
       "21  3400        female 2007\n",
       "22  3600        male   2007\n",
       "23  3800        female 2007\n",
       "24  3950        male   2007\n",
       "25  3800        male   2007\n",
       "26  3800        female 2007\n",
       "27  3550        male   2007\n",
       "28  3200        female 2007\n",
       "29  3150        female 2007\n",
       "30  3950        male   2007\n",
       "... ...         ...    ... \n",
       "315 2700        female 2008\n",
       "316 4500        male   2008\n",
       "317 3950        male   2008\n",
       "318 3650        female 2008\n",
       "319 3550        male   2008\n",
       "320 3500        female 2008\n",
       "321 3675        female 2009\n",
       "322 4450        male   2009\n",
       "323 3400        female 2009\n",
       "324 4300        male   2009\n",
       "325 3250        male   2009\n",
       "326 3675        female 2009\n",
       "327 3325        female 2009\n",
       "328 3950        male   2009\n",
       "329 3600        female 2009\n",
       "330 4050        male   2009\n",
       "331 3350        female 2009\n",
       "332 3450        male   2009\n",
       "333 3250        female 2009\n",
       "334 4050        male   2009\n",
       "335 3800        male   2009\n",
       "336 3525        female 2009\n",
       "337 3950        male   2009\n",
       "338 3650        female 2009\n",
       "339 3650        female 2009\n",
       "340 4000        male   2009\n",
       "341 3400        female 2009\n",
       "342 3775        male   2009\n",
       "343 4100        male   2009\n",
       "344 3775        female 2009"
      ]
     },
     "metadata": {},
     "output_type": "display_data"
    }
   ],
   "source": [
    "penguins"
   ]
  },
  {
   "cell_type": "markdown",
   "metadata": {},
   "source": [
    "## 8. Filter()"
   ]
  },
  {
   "cell_type": "code",
   "execution_count": 28,
   "metadata": {},
   "outputs": [],
   "source": [
    "penguins_1 <- filter(penguins, species == \"Adelie\")"
   ]
  },
  {
   "cell_type": "code",
   "execution_count": 29,
   "metadata": {},
   "outputs": [
    {
     "data": {
      "text/html": [
       "<table>\n",
       "<thead><tr><th scope=col>species</th><th scope=col>island</th><th scope=col>bill_length_mm</th><th scope=col>bill_depth_mm</th><th scope=col>flipper_length_mm</th><th scope=col>body_mass_g</th><th scope=col>sex</th><th scope=col>year</th></tr></thead>\n",
       "<tbody>\n",
       "\t<tr><td>Adelie   </td><td>Torgersen</td><td>39.1     </td><td>18.7     </td><td>181      </td><td>3750     </td><td>male     </td><td>2007     </td></tr>\n",
       "\t<tr><td>Adelie   </td><td>Torgersen</td><td>39.5     </td><td>17.4     </td><td>186      </td><td>3800     </td><td>female   </td><td>2007     </td></tr>\n",
       "\t<tr><td>Adelie   </td><td>Torgersen</td><td>40.3     </td><td>18.0     </td><td>195      </td><td>3250     </td><td>female   </td><td>2007     </td></tr>\n",
       "\t<tr><td>Adelie   </td><td>Torgersen</td><td>  NA     </td><td>  NA     </td><td> NA      </td><td>  NA     </td><td>NA       </td><td>2007     </td></tr>\n",
       "\t<tr><td>Adelie   </td><td>Torgersen</td><td>36.7     </td><td>19.3     </td><td>193      </td><td>3450     </td><td>female   </td><td>2007     </td></tr>\n",
       "\t<tr><td>Adelie   </td><td>Torgersen</td><td>39.3     </td><td>20.6     </td><td>190      </td><td>3650     </td><td>male     </td><td>2007     </td></tr>\n",
       "\t<tr><td>Adelie   </td><td>Torgersen</td><td>38.9     </td><td>17.8     </td><td>181      </td><td>3625     </td><td>female   </td><td>2007     </td></tr>\n",
       "\t<tr><td>Adelie   </td><td>Torgersen</td><td>39.2     </td><td>19.6     </td><td>195      </td><td>4675     </td><td>male     </td><td>2007     </td></tr>\n",
       "\t<tr><td>Adelie   </td><td>Torgersen</td><td>34.1     </td><td>18.1     </td><td>193      </td><td>3475     </td><td>NA       </td><td>2007     </td></tr>\n",
       "\t<tr><td>Adelie   </td><td>Torgersen</td><td>42.0     </td><td>20.2     </td><td>190      </td><td>4250     </td><td>NA       </td><td>2007     </td></tr>\n",
       "\t<tr><td>Adelie   </td><td>Torgersen</td><td>37.8     </td><td>17.1     </td><td>186      </td><td>3300     </td><td>NA       </td><td>2007     </td></tr>\n",
       "\t<tr><td>Adelie   </td><td>Torgersen</td><td>37.8     </td><td>17.3     </td><td>180      </td><td>3700     </td><td>NA       </td><td>2007     </td></tr>\n",
       "\t<tr><td>Adelie   </td><td>Torgersen</td><td>41.1     </td><td>17.6     </td><td>182      </td><td>3200     </td><td>female   </td><td>2007     </td></tr>\n",
       "\t<tr><td>Adelie   </td><td>Torgersen</td><td>38.6     </td><td>21.2     </td><td>191      </td><td>3800     </td><td>male     </td><td>2007     </td></tr>\n",
       "\t<tr><td>Adelie   </td><td>Torgersen</td><td>34.6     </td><td>21.1     </td><td>198      </td><td>4400     </td><td>male     </td><td>2007     </td></tr>\n",
       "\t<tr><td>Adelie   </td><td>Torgersen</td><td>36.6     </td><td>17.8     </td><td>185      </td><td>3700     </td><td>female   </td><td>2007     </td></tr>\n",
       "\t<tr><td>Adelie   </td><td>Torgersen</td><td>38.7     </td><td>19.0     </td><td>195      </td><td>3450     </td><td>female   </td><td>2007     </td></tr>\n",
       "\t<tr><td>Adelie   </td><td>Torgersen</td><td>42.5     </td><td>20.7     </td><td>197      </td><td>4500     </td><td>male     </td><td>2007     </td></tr>\n",
       "\t<tr><td>Adelie   </td><td>Torgersen</td><td>34.4     </td><td>18.4     </td><td>184      </td><td>3325     </td><td>female   </td><td>2007     </td></tr>\n",
       "\t<tr><td>Adelie   </td><td>Torgersen</td><td>46.0     </td><td>21.5     </td><td>194      </td><td>4200     </td><td>male     </td><td>2007     </td></tr>\n",
       "\t<tr><td>Adelie   </td><td>Biscoe   </td><td>37.8     </td><td>18.3     </td><td>174      </td><td>3400     </td><td>female   </td><td>2007     </td></tr>\n",
       "\t<tr><td>Adelie   </td><td>Biscoe   </td><td>37.7     </td><td>18.7     </td><td>180      </td><td>3600     </td><td>male     </td><td>2007     </td></tr>\n",
       "\t<tr><td>Adelie   </td><td>Biscoe   </td><td>35.9     </td><td>19.2     </td><td>189      </td><td>3800     </td><td>female   </td><td>2007     </td></tr>\n",
       "\t<tr><td>Adelie   </td><td>Biscoe   </td><td>38.2     </td><td>18.1     </td><td>185      </td><td>3950     </td><td>male     </td><td>2007     </td></tr>\n",
       "\t<tr><td>Adelie   </td><td>Biscoe   </td><td>38.8     </td><td>17.2     </td><td>180      </td><td>3800     </td><td>male     </td><td>2007     </td></tr>\n",
       "\t<tr><td>Adelie   </td><td>Biscoe   </td><td>35.3     </td><td>18.9     </td><td>187      </td><td>3800     </td><td>female   </td><td>2007     </td></tr>\n",
       "\t<tr><td>Adelie   </td><td>Biscoe   </td><td>40.6     </td><td>18.6     </td><td>183      </td><td>3550     </td><td>male     </td><td>2007     </td></tr>\n",
       "\t<tr><td>Adelie   </td><td>Biscoe   </td><td>40.5     </td><td>17.9     </td><td>187      </td><td>3200     </td><td>female   </td><td>2007     </td></tr>\n",
       "\t<tr><td>Adelie   </td><td>Biscoe   </td><td>37.9     </td><td>18.6     </td><td>172      </td><td>3150     </td><td>female   </td><td>2007     </td></tr>\n",
       "\t<tr><td>Adelie   </td><td>Biscoe   </td><td>40.5     </td><td>18.9     </td><td>180      </td><td>3950     </td><td>male     </td><td>2007     </td></tr>\n",
       "\t<tr><td>...</td><td>...</td><td>...</td><td>...</td><td>...</td><td>...</td><td>...</td><td>...</td></tr>\n",
       "\t<tr><td>Adelie   </td><td>Torgersen</td><td>40.2     </td><td>17.0     </td><td>176      </td><td>3450     </td><td>female   </td><td>2009     </td></tr>\n",
       "\t<tr><td>Adelie   </td><td>Torgersen</td><td>41.4     </td><td>18.5     </td><td>202      </td><td>3875     </td><td>male     </td><td>2009     </td></tr>\n",
       "\t<tr><td>Adelie   </td><td>Torgersen</td><td>35.2     </td><td>15.9     </td><td>186      </td><td>3050     </td><td>female   </td><td>2009     </td></tr>\n",
       "\t<tr><td>Adelie   </td><td>Torgersen</td><td>40.6     </td><td>19.0     </td><td>199      </td><td>4000     </td><td>male     </td><td>2009     </td></tr>\n",
       "\t<tr><td>Adelie   </td><td>Torgersen</td><td>38.8     </td><td>17.6     </td><td>191      </td><td>3275     </td><td>female   </td><td>2009     </td></tr>\n",
       "\t<tr><td>Adelie   </td><td>Torgersen</td><td>41.5     </td><td>18.3     </td><td>195      </td><td>4300     </td><td>male     </td><td>2009     </td></tr>\n",
       "\t<tr><td>Adelie   </td><td>Torgersen</td><td>39.0     </td><td>17.1     </td><td>191      </td><td>3050     </td><td>female   </td><td>2009     </td></tr>\n",
       "\t<tr><td>Adelie   </td><td>Torgersen</td><td>44.1     </td><td>18.0     </td><td>210      </td><td>4000     </td><td>male     </td><td>2009     </td></tr>\n",
       "\t<tr><td>Adelie   </td><td>Torgersen</td><td>38.5     </td><td>17.9     </td><td>190      </td><td>3325     </td><td>female   </td><td>2009     </td></tr>\n",
       "\t<tr><td>Adelie   </td><td>Torgersen</td><td>43.1     </td><td>19.2     </td><td>197      </td><td>3500     </td><td>male     </td><td>2009     </td></tr>\n",
       "\t<tr><td>Adelie   </td><td>Dream    </td><td>36.8     </td><td>18.5     </td><td>193      </td><td>3500     </td><td>female   </td><td>2009     </td></tr>\n",
       "\t<tr><td>Adelie   </td><td>Dream    </td><td>37.5     </td><td>18.5     </td><td>199      </td><td>4475     </td><td>male     </td><td>2009     </td></tr>\n",
       "\t<tr><td>Adelie   </td><td>Dream    </td><td>38.1     </td><td>17.6     </td><td>187      </td><td>3425     </td><td>female   </td><td>2009     </td></tr>\n",
       "\t<tr><td>Adelie   </td><td>Dream    </td><td>41.1     </td><td>17.5     </td><td>190      </td><td>3900     </td><td>male     </td><td>2009     </td></tr>\n",
       "\t<tr><td>Adelie   </td><td>Dream    </td><td>35.6     </td><td>17.5     </td><td>191      </td><td>3175     </td><td>female   </td><td>2009     </td></tr>\n",
       "\t<tr><td>Adelie   </td><td>Dream    </td><td>40.2     </td><td>20.1     </td><td>200      </td><td>3975     </td><td>male     </td><td>2009     </td></tr>\n",
       "\t<tr><td>Adelie   </td><td>Dream    </td><td>37.0     </td><td>16.5     </td><td>185      </td><td>3400     </td><td>female   </td><td>2009     </td></tr>\n",
       "\t<tr><td>Adelie   </td><td>Dream    </td><td>39.7     </td><td>17.9     </td><td>193      </td><td>4250     </td><td>male     </td><td>2009     </td></tr>\n",
       "\t<tr><td>Adelie   </td><td>Dream    </td><td>40.2     </td><td>17.1     </td><td>193      </td><td>3400     </td><td>female   </td><td>2009     </td></tr>\n",
       "\t<tr><td>Adelie   </td><td>Dream    </td><td>40.6     </td><td>17.2     </td><td>187      </td><td>3475     </td><td>male     </td><td>2009     </td></tr>\n",
       "\t<tr><td>Adelie   </td><td>Dream    </td><td>32.1     </td><td>15.5     </td><td>188      </td><td>3050     </td><td>female   </td><td>2009     </td></tr>\n",
       "\t<tr><td>Adelie   </td><td>Dream    </td><td>40.7     </td><td>17.0     </td><td>190      </td><td>3725     </td><td>male     </td><td>2009     </td></tr>\n",
       "\t<tr><td>Adelie   </td><td>Dream    </td><td>37.3     </td><td>16.8     </td><td>192      </td><td>3000     </td><td>female   </td><td>2009     </td></tr>\n",
       "\t<tr><td>Adelie   </td><td>Dream    </td><td>39.0     </td><td>18.7     </td><td>185      </td><td>3650     </td><td>male     </td><td>2009     </td></tr>\n",
       "\t<tr><td>Adelie   </td><td>Dream    </td><td>39.2     </td><td>18.6     </td><td>190      </td><td>4250     </td><td>male     </td><td>2009     </td></tr>\n",
       "\t<tr><td>Adelie   </td><td>Dream    </td><td>36.6     </td><td>18.4     </td><td>184      </td><td>3475     </td><td>female   </td><td>2009     </td></tr>\n",
       "\t<tr><td>Adelie   </td><td>Dream    </td><td>36.0     </td><td>17.8     </td><td>195      </td><td>3450     </td><td>female   </td><td>2009     </td></tr>\n",
       "\t<tr><td>Adelie   </td><td>Dream    </td><td>37.8     </td><td>18.1     </td><td>193      </td><td>3750     </td><td>male     </td><td>2009     </td></tr>\n",
       "\t<tr><td>Adelie   </td><td>Dream    </td><td>36.0     </td><td>17.1     </td><td>187      </td><td>3700     </td><td>female   </td><td>2009     </td></tr>\n",
       "\t<tr><td>Adelie   </td><td>Dream    </td><td>41.5     </td><td>18.5     </td><td>201      </td><td>4000     </td><td>male     </td><td>2009     </td></tr>\n",
       "</tbody>\n",
       "</table>\n"
      ],
      "text/latex": [
       "\\begin{tabular}{r|llllllll}\n",
       " species & island & bill\\_length\\_mm & bill\\_depth\\_mm & flipper\\_length\\_mm & body\\_mass\\_g & sex & year\\\\\n",
       "\\hline\n",
       "\t Adelie    & Torgersen & 39.1      & 18.7      & 181       & 3750      & male      & 2007     \\\\\n",
       "\t Adelie    & Torgersen & 39.5      & 17.4      & 186       & 3800      & female    & 2007     \\\\\n",
       "\t Adelie    & Torgersen & 40.3      & 18.0      & 195       & 3250      & female    & 2007     \\\\\n",
       "\t Adelie    & Torgersen &   NA      &   NA      &  NA       &   NA      & NA        & 2007     \\\\\n",
       "\t Adelie    & Torgersen & 36.7      & 19.3      & 193       & 3450      & female    & 2007     \\\\\n",
       "\t Adelie    & Torgersen & 39.3      & 20.6      & 190       & 3650      & male      & 2007     \\\\\n",
       "\t Adelie    & Torgersen & 38.9      & 17.8      & 181       & 3625      & female    & 2007     \\\\\n",
       "\t Adelie    & Torgersen & 39.2      & 19.6      & 195       & 4675      & male      & 2007     \\\\\n",
       "\t Adelie    & Torgersen & 34.1      & 18.1      & 193       & 3475      & NA        & 2007     \\\\\n",
       "\t Adelie    & Torgersen & 42.0      & 20.2      & 190       & 4250      & NA        & 2007     \\\\\n",
       "\t Adelie    & Torgersen & 37.8      & 17.1      & 186       & 3300      & NA        & 2007     \\\\\n",
       "\t Adelie    & Torgersen & 37.8      & 17.3      & 180       & 3700      & NA        & 2007     \\\\\n",
       "\t Adelie    & Torgersen & 41.1      & 17.6      & 182       & 3200      & female    & 2007     \\\\\n",
       "\t Adelie    & Torgersen & 38.6      & 21.2      & 191       & 3800      & male      & 2007     \\\\\n",
       "\t Adelie    & Torgersen & 34.6      & 21.1      & 198       & 4400      & male      & 2007     \\\\\n",
       "\t Adelie    & Torgersen & 36.6      & 17.8      & 185       & 3700      & female    & 2007     \\\\\n",
       "\t Adelie    & Torgersen & 38.7      & 19.0      & 195       & 3450      & female    & 2007     \\\\\n",
       "\t Adelie    & Torgersen & 42.5      & 20.7      & 197       & 4500      & male      & 2007     \\\\\n",
       "\t Adelie    & Torgersen & 34.4      & 18.4      & 184       & 3325      & female    & 2007     \\\\\n",
       "\t Adelie    & Torgersen & 46.0      & 21.5      & 194       & 4200      & male      & 2007     \\\\\n",
       "\t Adelie    & Biscoe    & 37.8      & 18.3      & 174       & 3400      & female    & 2007     \\\\\n",
       "\t Adelie    & Biscoe    & 37.7      & 18.7      & 180       & 3600      & male      & 2007     \\\\\n",
       "\t Adelie    & Biscoe    & 35.9      & 19.2      & 189       & 3800      & female    & 2007     \\\\\n",
       "\t Adelie    & Biscoe    & 38.2      & 18.1      & 185       & 3950      & male      & 2007     \\\\\n",
       "\t Adelie    & Biscoe    & 38.8      & 17.2      & 180       & 3800      & male      & 2007     \\\\\n",
       "\t Adelie    & Biscoe    & 35.3      & 18.9      & 187       & 3800      & female    & 2007     \\\\\n",
       "\t Adelie    & Biscoe    & 40.6      & 18.6      & 183       & 3550      & male      & 2007     \\\\\n",
       "\t Adelie    & Biscoe    & 40.5      & 17.9      & 187       & 3200      & female    & 2007     \\\\\n",
       "\t Adelie    & Biscoe    & 37.9      & 18.6      & 172       & 3150      & female    & 2007     \\\\\n",
       "\t Adelie    & Biscoe    & 40.5      & 18.9      & 180       & 3950      & male      & 2007     \\\\\n",
       "\t ... & ... & ... & ... & ... & ... & ... & ...\\\\\n",
       "\t Adelie    & Torgersen & 40.2      & 17.0      & 176       & 3450      & female    & 2009     \\\\\n",
       "\t Adelie    & Torgersen & 41.4      & 18.5      & 202       & 3875      & male      & 2009     \\\\\n",
       "\t Adelie    & Torgersen & 35.2      & 15.9      & 186       & 3050      & female    & 2009     \\\\\n",
       "\t Adelie    & Torgersen & 40.6      & 19.0      & 199       & 4000      & male      & 2009     \\\\\n",
       "\t Adelie    & Torgersen & 38.8      & 17.6      & 191       & 3275      & female    & 2009     \\\\\n",
       "\t Adelie    & Torgersen & 41.5      & 18.3      & 195       & 4300      & male      & 2009     \\\\\n",
       "\t Adelie    & Torgersen & 39.0      & 17.1      & 191       & 3050      & female    & 2009     \\\\\n",
       "\t Adelie    & Torgersen & 44.1      & 18.0      & 210       & 4000      & male      & 2009     \\\\\n",
       "\t Adelie    & Torgersen & 38.5      & 17.9      & 190       & 3325      & female    & 2009     \\\\\n",
       "\t Adelie    & Torgersen & 43.1      & 19.2      & 197       & 3500      & male      & 2009     \\\\\n",
       "\t Adelie    & Dream     & 36.8      & 18.5      & 193       & 3500      & female    & 2009     \\\\\n",
       "\t Adelie    & Dream     & 37.5      & 18.5      & 199       & 4475      & male      & 2009     \\\\\n",
       "\t Adelie    & Dream     & 38.1      & 17.6      & 187       & 3425      & female    & 2009     \\\\\n",
       "\t Adelie    & Dream     & 41.1      & 17.5      & 190       & 3900      & male      & 2009     \\\\\n",
       "\t Adelie    & Dream     & 35.6      & 17.5      & 191       & 3175      & female    & 2009     \\\\\n",
       "\t Adelie    & Dream     & 40.2      & 20.1      & 200       & 3975      & male      & 2009     \\\\\n",
       "\t Adelie    & Dream     & 37.0      & 16.5      & 185       & 3400      & female    & 2009     \\\\\n",
       "\t Adelie    & Dream     & 39.7      & 17.9      & 193       & 4250      & male      & 2009     \\\\\n",
       "\t Adelie    & Dream     & 40.2      & 17.1      & 193       & 3400      & female    & 2009     \\\\\n",
       "\t Adelie    & Dream     & 40.6      & 17.2      & 187       & 3475      & male      & 2009     \\\\\n",
       "\t Adelie    & Dream     & 32.1      & 15.5      & 188       & 3050      & female    & 2009     \\\\\n",
       "\t Adelie    & Dream     & 40.7      & 17.0      & 190       & 3725      & male      & 2009     \\\\\n",
       "\t Adelie    & Dream     & 37.3      & 16.8      & 192       & 3000      & female    & 2009     \\\\\n",
       "\t Adelie    & Dream     & 39.0      & 18.7      & 185       & 3650      & male      & 2009     \\\\\n",
       "\t Adelie    & Dream     & 39.2      & 18.6      & 190       & 4250      & male      & 2009     \\\\\n",
       "\t Adelie    & Dream     & 36.6      & 18.4      & 184       & 3475      & female    & 2009     \\\\\n",
       "\t Adelie    & Dream     & 36.0      & 17.8      & 195       & 3450      & female    & 2009     \\\\\n",
       "\t Adelie    & Dream     & 37.8      & 18.1      & 193       & 3750      & male      & 2009     \\\\\n",
       "\t Adelie    & Dream     & 36.0      & 17.1      & 187       & 3700      & female    & 2009     \\\\\n",
       "\t Adelie    & Dream     & 41.5      & 18.5      & 201       & 4000      & male      & 2009     \\\\\n",
       "\\end{tabular}\n"
      ],
      "text/markdown": [
       "\n",
       "| species | island | bill_length_mm | bill_depth_mm | flipper_length_mm | body_mass_g | sex | year |\n",
       "|---|---|---|---|---|---|---|---|\n",
       "| Adelie    | Torgersen | 39.1      | 18.7      | 181       | 3750      | male      | 2007      |\n",
       "| Adelie    | Torgersen | 39.5      | 17.4      | 186       | 3800      | female    | 2007      |\n",
       "| Adelie    | Torgersen | 40.3      | 18.0      | 195       | 3250      | female    | 2007      |\n",
       "| Adelie    | Torgersen |   NA      |   NA      |  NA       |   NA      | NA        | 2007      |\n",
       "| Adelie    | Torgersen | 36.7      | 19.3      | 193       | 3450      | female    | 2007      |\n",
       "| Adelie    | Torgersen | 39.3      | 20.6      | 190       | 3650      | male      | 2007      |\n",
       "| Adelie    | Torgersen | 38.9      | 17.8      | 181       | 3625      | female    | 2007      |\n",
       "| Adelie    | Torgersen | 39.2      | 19.6      | 195       | 4675      | male      | 2007      |\n",
       "| Adelie    | Torgersen | 34.1      | 18.1      | 193       | 3475      | NA        | 2007      |\n",
       "| Adelie    | Torgersen | 42.0      | 20.2      | 190       | 4250      | NA        | 2007      |\n",
       "| Adelie    | Torgersen | 37.8      | 17.1      | 186       | 3300      | NA        | 2007      |\n",
       "| Adelie    | Torgersen | 37.8      | 17.3      | 180       | 3700      | NA        | 2007      |\n",
       "| Adelie    | Torgersen | 41.1      | 17.6      | 182       | 3200      | female    | 2007      |\n",
       "| Adelie    | Torgersen | 38.6      | 21.2      | 191       | 3800      | male      | 2007      |\n",
       "| Adelie    | Torgersen | 34.6      | 21.1      | 198       | 4400      | male      | 2007      |\n",
       "| Adelie    | Torgersen | 36.6      | 17.8      | 185       | 3700      | female    | 2007      |\n",
       "| Adelie    | Torgersen | 38.7      | 19.0      | 195       | 3450      | female    | 2007      |\n",
       "| Adelie    | Torgersen | 42.5      | 20.7      | 197       | 4500      | male      | 2007      |\n",
       "| Adelie    | Torgersen | 34.4      | 18.4      | 184       | 3325      | female    | 2007      |\n",
       "| Adelie    | Torgersen | 46.0      | 21.5      | 194       | 4200      | male      | 2007      |\n",
       "| Adelie    | Biscoe    | 37.8      | 18.3      | 174       | 3400      | female    | 2007      |\n",
       "| Adelie    | Biscoe    | 37.7      | 18.7      | 180       | 3600      | male      | 2007      |\n",
       "| Adelie    | Biscoe    | 35.9      | 19.2      | 189       | 3800      | female    | 2007      |\n",
       "| Adelie    | Biscoe    | 38.2      | 18.1      | 185       | 3950      | male      | 2007      |\n",
       "| Adelie    | Biscoe    | 38.8      | 17.2      | 180       | 3800      | male      | 2007      |\n",
       "| Adelie    | Biscoe    | 35.3      | 18.9      | 187       | 3800      | female    | 2007      |\n",
       "| Adelie    | Biscoe    | 40.6      | 18.6      | 183       | 3550      | male      | 2007      |\n",
       "| Adelie    | Biscoe    | 40.5      | 17.9      | 187       | 3200      | female    | 2007      |\n",
       "| Adelie    | Biscoe    | 37.9      | 18.6      | 172       | 3150      | female    | 2007      |\n",
       "| Adelie    | Biscoe    | 40.5      | 18.9      | 180       | 3950      | male      | 2007      |\n",
       "| ... | ... | ... | ... | ... | ... | ... | ... |\n",
       "| Adelie    | Torgersen | 40.2      | 17.0      | 176       | 3450      | female    | 2009      |\n",
       "| Adelie    | Torgersen | 41.4      | 18.5      | 202       | 3875      | male      | 2009      |\n",
       "| Adelie    | Torgersen | 35.2      | 15.9      | 186       | 3050      | female    | 2009      |\n",
       "| Adelie    | Torgersen | 40.6      | 19.0      | 199       | 4000      | male      | 2009      |\n",
       "| Adelie    | Torgersen | 38.8      | 17.6      | 191       | 3275      | female    | 2009      |\n",
       "| Adelie    | Torgersen | 41.5      | 18.3      | 195       | 4300      | male      | 2009      |\n",
       "| Adelie    | Torgersen | 39.0      | 17.1      | 191       | 3050      | female    | 2009      |\n",
       "| Adelie    | Torgersen | 44.1      | 18.0      | 210       | 4000      | male      | 2009      |\n",
       "| Adelie    | Torgersen | 38.5      | 17.9      | 190       | 3325      | female    | 2009      |\n",
       "| Adelie    | Torgersen | 43.1      | 19.2      | 197       | 3500      | male      | 2009      |\n",
       "| Adelie    | Dream     | 36.8      | 18.5      | 193       | 3500      | female    | 2009      |\n",
       "| Adelie    | Dream     | 37.5      | 18.5      | 199       | 4475      | male      | 2009      |\n",
       "| Adelie    | Dream     | 38.1      | 17.6      | 187       | 3425      | female    | 2009      |\n",
       "| Adelie    | Dream     | 41.1      | 17.5      | 190       | 3900      | male      | 2009      |\n",
       "| Adelie    | Dream     | 35.6      | 17.5      | 191       | 3175      | female    | 2009      |\n",
       "| Adelie    | Dream     | 40.2      | 20.1      | 200       | 3975      | male      | 2009      |\n",
       "| Adelie    | Dream     | 37.0      | 16.5      | 185       | 3400      | female    | 2009      |\n",
       "| Adelie    | Dream     | 39.7      | 17.9      | 193       | 4250      | male      | 2009      |\n",
       "| Adelie    | Dream     | 40.2      | 17.1      | 193       | 3400      | female    | 2009      |\n",
       "| Adelie    | Dream     | 40.6      | 17.2      | 187       | 3475      | male      | 2009      |\n",
       "| Adelie    | Dream     | 32.1      | 15.5      | 188       | 3050      | female    | 2009      |\n",
       "| Adelie    | Dream     | 40.7      | 17.0      | 190       | 3725      | male      | 2009      |\n",
       "| Adelie    | Dream     | 37.3      | 16.8      | 192       | 3000      | female    | 2009      |\n",
       "| Adelie    | Dream     | 39.0      | 18.7      | 185       | 3650      | male      | 2009      |\n",
       "| Adelie    | Dream     | 39.2      | 18.6      | 190       | 4250      | male      | 2009      |\n",
       "| Adelie    | Dream     | 36.6      | 18.4      | 184       | 3475      | female    | 2009      |\n",
       "| Adelie    | Dream     | 36.0      | 17.8      | 195       | 3450      | female    | 2009      |\n",
       "| Adelie    | Dream     | 37.8      | 18.1      | 193       | 3750      | male      | 2009      |\n",
       "| Adelie    | Dream     | 36.0      | 17.1      | 187       | 3700      | female    | 2009      |\n",
       "| Adelie    | Dream     | 41.5      | 18.5      | 201       | 4000      | male      | 2009      |\n",
       "\n"
      ],
      "text/plain": [
       "    species island    bill_length_mm bill_depth_mm flipper_length_mm\n",
       "1   Adelie  Torgersen 39.1           18.7          181              \n",
       "2   Adelie  Torgersen 39.5           17.4          186              \n",
       "3   Adelie  Torgersen 40.3           18.0          195              \n",
       "4   Adelie  Torgersen   NA             NA           NA              \n",
       "5   Adelie  Torgersen 36.7           19.3          193              \n",
       "6   Adelie  Torgersen 39.3           20.6          190              \n",
       "7   Adelie  Torgersen 38.9           17.8          181              \n",
       "8   Adelie  Torgersen 39.2           19.6          195              \n",
       "9   Adelie  Torgersen 34.1           18.1          193              \n",
       "10  Adelie  Torgersen 42.0           20.2          190              \n",
       "11  Adelie  Torgersen 37.8           17.1          186              \n",
       "12  Adelie  Torgersen 37.8           17.3          180              \n",
       "13  Adelie  Torgersen 41.1           17.6          182              \n",
       "14  Adelie  Torgersen 38.6           21.2          191              \n",
       "15  Adelie  Torgersen 34.6           21.1          198              \n",
       "16  Adelie  Torgersen 36.6           17.8          185              \n",
       "17  Adelie  Torgersen 38.7           19.0          195              \n",
       "18  Adelie  Torgersen 42.5           20.7          197              \n",
       "19  Adelie  Torgersen 34.4           18.4          184              \n",
       "20  Adelie  Torgersen 46.0           21.5          194              \n",
       "21  Adelie  Biscoe    37.8           18.3          174              \n",
       "22  Adelie  Biscoe    37.7           18.7          180              \n",
       "23  Adelie  Biscoe    35.9           19.2          189              \n",
       "24  Adelie  Biscoe    38.2           18.1          185              \n",
       "25  Adelie  Biscoe    38.8           17.2          180              \n",
       "26  Adelie  Biscoe    35.3           18.9          187              \n",
       "27  Adelie  Biscoe    40.6           18.6          183              \n",
       "28  Adelie  Biscoe    40.5           17.9          187              \n",
       "29  Adelie  Biscoe    37.9           18.6          172              \n",
       "30  Adelie  Biscoe    40.5           18.9          180              \n",
       "... ...     ...       ...            ...           ...              \n",
       "123 Adelie  Torgersen 40.2           17.0          176              \n",
       "124 Adelie  Torgersen 41.4           18.5          202              \n",
       "125 Adelie  Torgersen 35.2           15.9          186              \n",
       "126 Adelie  Torgersen 40.6           19.0          199              \n",
       "127 Adelie  Torgersen 38.8           17.6          191              \n",
       "128 Adelie  Torgersen 41.5           18.3          195              \n",
       "129 Adelie  Torgersen 39.0           17.1          191              \n",
       "130 Adelie  Torgersen 44.1           18.0          210              \n",
       "131 Adelie  Torgersen 38.5           17.9          190              \n",
       "132 Adelie  Torgersen 43.1           19.2          197              \n",
       "133 Adelie  Dream     36.8           18.5          193              \n",
       "134 Adelie  Dream     37.5           18.5          199              \n",
       "135 Adelie  Dream     38.1           17.6          187              \n",
       "136 Adelie  Dream     41.1           17.5          190              \n",
       "137 Adelie  Dream     35.6           17.5          191              \n",
       "138 Adelie  Dream     40.2           20.1          200              \n",
       "139 Adelie  Dream     37.0           16.5          185              \n",
       "140 Adelie  Dream     39.7           17.9          193              \n",
       "141 Adelie  Dream     40.2           17.1          193              \n",
       "142 Adelie  Dream     40.6           17.2          187              \n",
       "143 Adelie  Dream     32.1           15.5          188              \n",
       "144 Adelie  Dream     40.7           17.0          190              \n",
       "145 Adelie  Dream     37.3           16.8          192              \n",
       "146 Adelie  Dream     39.0           18.7          185              \n",
       "147 Adelie  Dream     39.2           18.6          190              \n",
       "148 Adelie  Dream     36.6           18.4          184              \n",
       "149 Adelie  Dream     36.0           17.8          195              \n",
       "150 Adelie  Dream     37.8           18.1          193              \n",
       "151 Adelie  Dream     36.0           17.1          187              \n",
       "152 Adelie  Dream     41.5           18.5          201              \n",
       "    body_mass_g sex    year\n",
       "1   3750        male   2007\n",
       "2   3800        female 2007\n",
       "3   3250        female 2007\n",
       "4     NA        NA     2007\n",
       "5   3450        female 2007\n",
       "6   3650        male   2007\n",
       "7   3625        female 2007\n",
       "8   4675        male   2007\n",
       "9   3475        NA     2007\n",
       "10  4250        NA     2007\n",
       "11  3300        NA     2007\n",
       "12  3700        NA     2007\n",
       "13  3200        female 2007\n",
       "14  3800        male   2007\n",
       "15  4400        male   2007\n",
       "16  3700        female 2007\n",
       "17  3450        female 2007\n",
       "18  4500        male   2007\n",
       "19  3325        female 2007\n",
       "20  4200        male   2007\n",
       "21  3400        female 2007\n",
       "22  3600        male   2007\n",
       "23  3800        female 2007\n",
       "24  3950        male   2007\n",
       "25  3800        male   2007\n",
       "26  3800        female 2007\n",
       "27  3550        male   2007\n",
       "28  3200        female 2007\n",
       "29  3150        female 2007\n",
       "30  3950        male   2007\n",
       "... ...         ...    ... \n",
       "123 3450        female 2009\n",
       "124 3875        male   2009\n",
       "125 3050        female 2009\n",
       "126 4000        male   2009\n",
       "127 3275        female 2009\n",
       "128 4300        male   2009\n",
       "129 3050        female 2009\n",
       "130 4000        male   2009\n",
       "131 3325        female 2009\n",
       "132 3500        male   2009\n",
       "133 3500        female 2009\n",
       "134 4475        male   2009\n",
       "135 3425        female 2009\n",
       "136 3900        male   2009\n",
       "137 3175        female 2009\n",
       "138 3975        male   2009\n",
       "139 3400        female 2009\n",
       "140 4250        male   2009\n",
       "141 3400        female 2009\n",
       "142 3475        male   2009\n",
       "143 3050        female 2009\n",
       "144 3725        male   2009\n",
       "145 3000        female 2009\n",
       "146 3650        male   2009\n",
       "147 4250        male   2009\n",
       "148 3475        female 2009\n",
       "149 3450        female 2009\n",
       "150 3750        male   2009\n",
       "151 3700        female 2009\n",
       "152 4000        male   2009"
      ]
     },
     "metadata": {},
     "output_type": "display_data"
    }
   ],
   "source": [
    "penguins_1"
   ]
  },
  {
   "cell_type": "code",
   "execution_count": 30,
   "metadata": {},
   "outputs": [],
   "source": [
    "penguins_2 <- filter(penguins,island == 'Dream')"
   ]
  },
  {
   "cell_type": "code",
   "execution_count": 31,
   "metadata": {},
   "outputs": [
    {
     "data": {
      "text/html": [
       "<table>\n",
       "<thead><tr><th scope=col>species</th><th scope=col>island</th><th scope=col>bill_length_mm</th><th scope=col>bill_depth_mm</th><th scope=col>flipper_length_mm</th><th scope=col>body_mass_g</th><th scope=col>sex</th><th scope=col>year</th></tr></thead>\n",
       "<tbody>\n",
       "\t<tr><td>Adelie</td><td>Dream </td><td>39.5  </td><td>16.7  </td><td>178   </td><td>3250  </td><td>female</td><td>2007  </td></tr>\n",
       "\t<tr><td>Adelie</td><td>Dream </td><td>37.2  </td><td>18.1  </td><td>178   </td><td>3900  </td><td>male  </td><td>2007  </td></tr>\n",
       "\t<tr><td>Adelie</td><td>Dream </td><td>39.5  </td><td>17.8  </td><td>188   </td><td>3300  </td><td>female</td><td>2007  </td></tr>\n",
       "\t<tr><td>Adelie</td><td>Dream </td><td>40.9  </td><td>18.9  </td><td>184   </td><td>3900  </td><td>male  </td><td>2007  </td></tr>\n",
       "\t<tr><td>Adelie</td><td>Dream </td><td>36.4  </td><td>17.0  </td><td>195   </td><td>3325  </td><td>female</td><td>2007  </td></tr>\n",
       "\t<tr><td>Adelie</td><td>Dream </td><td>39.2  </td><td>21.1  </td><td>196   </td><td>4150  </td><td>male  </td><td>2007  </td></tr>\n",
       "\t<tr><td>Adelie</td><td>Dream </td><td>38.8  </td><td>20.0  </td><td>190   </td><td>3950  </td><td>male  </td><td>2007  </td></tr>\n",
       "\t<tr><td>Adelie</td><td>Dream </td><td>42.2  </td><td>18.5  </td><td>180   </td><td>3550  </td><td>female</td><td>2007  </td></tr>\n",
       "\t<tr><td>Adelie</td><td>Dream </td><td>37.6  </td><td>19.3  </td><td>181   </td><td>3300  </td><td>female</td><td>2007  </td></tr>\n",
       "\t<tr><td>Adelie</td><td>Dream </td><td>39.8  </td><td>19.1  </td><td>184   </td><td>4650  </td><td>male  </td><td>2007  </td></tr>\n",
       "\t<tr><td>Adelie</td><td>Dream </td><td>36.5  </td><td>18.0  </td><td>182   </td><td>3150  </td><td>female</td><td>2007  </td></tr>\n",
       "\t<tr><td>Adelie</td><td>Dream </td><td>40.8  </td><td>18.4  </td><td>195   </td><td>3900  </td><td>male  </td><td>2007  </td></tr>\n",
       "\t<tr><td>Adelie</td><td>Dream </td><td>36.0  </td><td>18.5  </td><td>186   </td><td>3100  </td><td>female</td><td>2007  </td></tr>\n",
       "\t<tr><td>Adelie</td><td>Dream </td><td>44.1  </td><td>19.7  </td><td>196   </td><td>4400  </td><td>male  </td><td>2007  </td></tr>\n",
       "\t<tr><td>Adelie</td><td>Dream </td><td>37.0  </td><td>16.9  </td><td>185   </td><td>3000  </td><td>female</td><td>2007  </td></tr>\n",
       "\t<tr><td>Adelie</td><td>Dream </td><td>39.6  </td><td>18.8  </td><td>190   </td><td>4600  </td><td>male  </td><td>2007  </td></tr>\n",
       "\t<tr><td>Adelie</td><td>Dream </td><td>41.1  </td><td>19.0  </td><td>182   </td><td>3425  </td><td>male  </td><td>2007  </td></tr>\n",
       "\t<tr><td>Adelie</td><td>Dream </td><td>37.5  </td><td>18.9  </td><td>179   </td><td>2975  </td><td>NA    </td><td>2007  </td></tr>\n",
       "\t<tr><td>Adelie</td><td>Dream </td><td>36.0  </td><td>17.9  </td><td>190   </td><td>3450  </td><td>female</td><td>2007  </td></tr>\n",
       "\t<tr><td>Adelie</td><td>Dream </td><td>42.3  </td><td>21.2  </td><td>191   </td><td>4150  </td><td>male  </td><td>2007  </td></tr>\n",
       "\t<tr><td>Adelie</td><td>Dream </td><td>37.3  </td><td>17.8  </td><td>191   </td><td>3350  </td><td>female</td><td>2008  </td></tr>\n",
       "\t<tr><td>Adelie</td><td>Dream </td><td>41.3  </td><td>20.3  </td><td>194   </td><td>3550  </td><td>male  </td><td>2008  </td></tr>\n",
       "\t<tr><td>Adelie</td><td>Dream </td><td>36.3  </td><td>19.5  </td><td>190   </td><td>3800  </td><td>male  </td><td>2008  </td></tr>\n",
       "\t<tr><td>Adelie</td><td>Dream </td><td>36.9  </td><td>18.6  </td><td>189   </td><td>3500  </td><td>female</td><td>2008  </td></tr>\n",
       "\t<tr><td>Adelie</td><td>Dream </td><td>38.3  </td><td>19.2  </td><td>189   </td><td>3950  </td><td>male  </td><td>2008  </td></tr>\n",
       "\t<tr><td>Adelie</td><td>Dream </td><td>38.9  </td><td>18.8  </td><td>190   </td><td>3600  </td><td>female</td><td>2008  </td></tr>\n",
       "\t<tr><td>Adelie</td><td>Dream </td><td>35.7  </td><td>18.0  </td><td>202   </td><td>3550  </td><td>female</td><td>2008  </td></tr>\n",
       "\t<tr><td>Adelie</td><td>Dream </td><td>41.1  </td><td>18.1  </td><td>205   </td><td>4300  </td><td>male  </td><td>2008  </td></tr>\n",
       "\t<tr><td>Adelie</td><td>Dream </td><td>34.0  </td><td>17.1  </td><td>185   </td><td>3400  </td><td>female</td><td>2008  </td></tr>\n",
       "\t<tr><td>Adelie</td><td>Dream </td><td>39.6  </td><td>18.1  </td><td>186   </td><td>4450  </td><td>male  </td><td>2008  </td></tr>\n",
       "\t<tr><td>...</td><td>...</td><td>...</td><td>...</td><td>...</td><td>...</td><td>...</td><td>...</td></tr>\n",
       "\t<tr><td>Chinstrap</td><td>Dream    </td><td>46.9     </td><td>16.6     </td><td>192      </td><td>2700     </td><td>female   </td><td>2008     </td></tr>\n",
       "\t<tr><td>Chinstrap</td><td>Dream    </td><td>53.5     </td><td>19.9     </td><td>205      </td><td>4500     </td><td>male     </td><td>2008     </td></tr>\n",
       "\t<tr><td>Chinstrap</td><td>Dream    </td><td>49.0     </td><td>19.5     </td><td>210      </td><td>3950     </td><td>male     </td><td>2008     </td></tr>\n",
       "\t<tr><td>Chinstrap</td><td>Dream    </td><td>46.2     </td><td>17.5     </td><td>187      </td><td>3650     </td><td>female   </td><td>2008     </td></tr>\n",
       "\t<tr><td>Chinstrap</td><td>Dream    </td><td>50.9     </td><td>19.1     </td><td>196      </td><td>3550     </td><td>male     </td><td>2008     </td></tr>\n",
       "\t<tr><td>Chinstrap</td><td>Dream    </td><td>45.5     </td><td>17.0     </td><td>196      </td><td>3500     </td><td>female   </td><td>2008     </td></tr>\n",
       "\t<tr><td>Chinstrap</td><td>Dream    </td><td>50.9     </td><td>17.9     </td><td>196      </td><td>3675     </td><td>female   </td><td>2009     </td></tr>\n",
       "\t<tr><td>Chinstrap</td><td>Dream    </td><td>50.8     </td><td>18.5     </td><td>201      </td><td>4450     </td><td>male     </td><td>2009     </td></tr>\n",
       "\t<tr><td>Chinstrap</td><td>Dream    </td><td>50.1     </td><td>17.9     </td><td>190      </td><td>3400     </td><td>female   </td><td>2009     </td></tr>\n",
       "\t<tr><td>Chinstrap</td><td>Dream    </td><td>49.0     </td><td>19.6     </td><td>212      </td><td>4300     </td><td>male     </td><td>2009     </td></tr>\n",
       "\t<tr><td>Chinstrap</td><td>Dream    </td><td>51.5     </td><td>18.7     </td><td>187      </td><td>3250     </td><td>male     </td><td>2009     </td></tr>\n",
       "\t<tr><td>Chinstrap</td><td>Dream    </td><td>49.8     </td><td>17.3     </td><td>198      </td><td>3675     </td><td>female   </td><td>2009     </td></tr>\n",
       "\t<tr><td>Chinstrap</td><td>Dream    </td><td>48.1     </td><td>16.4     </td><td>199      </td><td>3325     </td><td>female   </td><td>2009     </td></tr>\n",
       "\t<tr><td>Chinstrap</td><td>Dream    </td><td>51.4     </td><td>19.0     </td><td>201      </td><td>3950     </td><td>male     </td><td>2009     </td></tr>\n",
       "\t<tr><td>Chinstrap</td><td>Dream    </td><td>45.7     </td><td>17.3     </td><td>193      </td><td>3600     </td><td>female   </td><td>2009     </td></tr>\n",
       "\t<tr><td>Chinstrap</td><td>Dream    </td><td>50.7     </td><td>19.7     </td><td>203      </td><td>4050     </td><td>male     </td><td>2009     </td></tr>\n",
       "\t<tr><td>Chinstrap</td><td>Dream    </td><td>42.5     </td><td>17.3     </td><td>187      </td><td>3350     </td><td>female   </td><td>2009     </td></tr>\n",
       "\t<tr><td>Chinstrap</td><td>Dream    </td><td>52.2     </td><td>18.8     </td><td>197      </td><td>3450     </td><td>male     </td><td>2009     </td></tr>\n",
       "\t<tr><td>Chinstrap</td><td>Dream    </td><td>45.2     </td><td>16.6     </td><td>191      </td><td>3250     </td><td>female   </td><td>2009     </td></tr>\n",
       "\t<tr><td>Chinstrap</td><td>Dream    </td><td>49.3     </td><td>19.9     </td><td>203      </td><td>4050     </td><td>male     </td><td>2009     </td></tr>\n",
       "\t<tr><td>Chinstrap</td><td>Dream    </td><td>50.2     </td><td>18.8     </td><td>202      </td><td>3800     </td><td>male     </td><td>2009     </td></tr>\n",
       "\t<tr><td>Chinstrap</td><td>Dream    </td><td>45.6     </td><td>19.4     </td><td>194      </td><td>3525     </td><td>female   </td><td>2009     </td></tr>\n",
       "\t<tr><td>Chinstrap</td><td>Dream    </td><td>51.9     </td><td>19.5     </td><td>206      </td><td>3950     </td><td>male     </td><td>2009     </td></tr>\n",
       "\t<tr><td>Chinstrap</td><td>Dream    </td><td>46.8     </td><td>16.5     </td><td>189      </td><td>3650     </td><td>female   </td><td>2009     </td></tr>\n",
       "\t<tr><td>Chinstrap</td><td>Dream    </td><td>45.7     </td><td>17.0     </td><td>195      </td><td>3650     </td><td>female   </td><td>2009     </td></tr>\n",
       "\t<tr><td>Chinstrap</td><td>Dream    </td><td>55.8     </td><td>19.8     </td><td>207      </td><td>4000     </td><td>male     </td><td>2009     </td></tr>\n",
       "\t<tr><td>Chinstrap</td><td>Dream    </td><td>43.5     </td><td>18.1     </td><td>202      </td><td>3400     </td><td>female   </td><td>2009     </td></tr>\n",
       "\t<tr><td>Chinstrap</td><td>Dream    </td><td>49.6     </td><td>18.2     </td><td>193      </td><td>3775     </td><td>male     </td><td>2009     </td></tr>\n",
       "\t<tr><td>Chinstrap</td><td>Dream    </td><td>50.8     </td><td>19.0     </td><td>210      </td><td>4100     </td><td>male     </td><td>2009     </td></tr>\n",
       "\t<tr><td>Chinstrap</td><td>Dream    </td><td>50.2     </td><td>18.7     </td><td>198      </td><td>3775     </td><td>female   </td><td>2009     </td></tr>\n",
       "</tbody>\n",
       "</table>\n"
      ],
      "text/latex": [
       "\\begin{tabular}{r|llllllll}\n",
       " species & island & bill\\_length\\_mm & bill\\_depth\\_mm & flipper\\_length\\_mm & body\\_mass\\_g & sex & year\\\\\n",
       "\\hline\n",
       "\t Adelie & Dream  & 39.5   & 16.7   & 178    & 3250   & female & 2007  \\\\\n",
       "\t Adelie & Dream  & 37.2   & 18.1   & 178    & 3900   & male   & 2007  \\\\\n",
       "\t Adelie & Dream  & 39.5   & 17.8   & 188    & 3300   & female & 2007  \\\\\n",
       "\t Adelie & Dream  & 40.9   & 18.9   & 184    & 3900   & male   & 2007  \\\\\n",
       "\t Adelie & Dream  & 36.4   & 17.0   & 195    & 3325   & female & 2007  \\\\\n",
       "\t Adelie & Dream  & 39.2   & 21.1   & 196    & 4150   & male   & 2007  \\\\\n",
       "\t Adelie & Dream  & 38.8   & 20.0   & 190    & 3950   & male   & 2007  \\\\\n",
       "\t Adelie & Dream  & 42.2   & 18.5   & 180    & 3550   & female & 2007  \\\\\n",
       "\t Adelie & Dream  & 37.6   & 19.3   & 181    & 3300   & female & 2007  \\\\\n",
       "\t Adelie & Dream  & 39.8   & 19.1   & 184    & 4650   & male   & 2007  \\\\\n",
       "\t Adelie & Dream  & 36.5   & 18.0   & 182    & 3150   & female & 2007  \\\\\n",
       "\t Adelie & Dream  & 40.8   & 18.4   & 195    & 3900   & male   & 2007  \\\\\n",
       "\t Adelie & Dream  & 36.0   & 18.5   & 186    & 3100   & female & 2007  \\\\\n",
       "\t Adelie & Dream  & 44.1   & 19.7   & 196    & 4400   & male   & 2007  \\\\\n",
       "\t Adelie & Dream  & 37.0   & 16.9   & 185    & 3000   & female & 2007  \\\\\n",
       "\t Adelie & Dream  & 39.6   & 18.8   & 190    & 4600   & male   & 2007  \\\\\n",
       "\t Adelie & Dream  & 41.1   & 19.0   & 182    & 3425   & male   & 2007  \\\\\n",
       "\t Adelie & Dream  & 37.5   & 18.9   & 179    & 2975   & NA     & 2007  \\\\\n",
       "\t Adelie & Dream  & 36.0   & 17.9   & 190    & 3450   & female & 2007  \\\\\n",
       "\t Adelie & Dream  & 42.3   & 21.2   & 191    & 4150   & male   & 2007  \\\\\n",
       "\t Adelie & Dream  & 37.3   & 17.8   & 191    & 3350   & female & 2008  \\\\\n",
       "\t Adelie & Dream  & 41.3   & 20.3   & 194    & 3550   & male   & 2008  \\\\\n",
       "\t Adelie & Dream  & 36.3   & 19.5   & 190    & 3800   & male   & 2008  \\\\\n",
       "\t Adelie & Dream  & 36.9   & 18.6   & 189    & 3500   & female & 2008  \\\\\n",
       "\t Adelie & Dream  & 38.3   & 19.2   & 189    & 3950   & male   & 2008  \\\\\n",
       "\t Adelie & Dream  & 38.9   & 18.8   & 190    & 3600   & female & 2008  \\\\\n",
       "\t Adelie & Dream  & 35.7   & 18.0   & 202    & 3550   & female & 2008  \\\\\n",
       "\t Adelie & Dream  & 41.1   & 18.1   & 205    & 4300   & male   & 2008  \\\\\n",
       "\t Adelie & Dream  & 34.0   & 17.1   & 185    & 3400   & female & 2008  \\\\\n",
       "\t Adelie & Dream  & 39.6   & 18.1   & 186    & 4450   & male   & 2008  \\\\\n",
       "\t ... & ... & ... & ... & ... & ... & ... & ...\\\\\n",
       "\t Chinstrap & Dream     & 46.9      & 16.6      & 192       & 2700      & female    & 2008     \\\\\n",
       "\t Chinstrap & Dream     & 53.5      & 19.9      & 205       & 4500      & male      & 2008     \\\\\n",
       "\t Chinstrap & Dream     & 49.0      & 19.5      & 210       & 3950      & male      & 2008     \\\\\n",
       "\t Chinstrap & Dream     & 46.2      & 17.5      & 187       & 3650      & female    & 2008     \\\\\n",
       "\t Chinstrap & Dream     & 50.9      & 19.1      & 196       & 3550      & male      & 2008     \\\\\n",
       "\t Chinstrap & Dream     & 45.5      & 17.0      & 196       & 3500      & female    & 2008     \\\\\n",
       "\t Chinstrap & Dream     & 50.9      & 17.9      & 196       & 3675      & female    & 2009     \\\\\n",
       "\t Chinstrap & Dream     & 50.8      & 18.5      & 201       & 4450      & male      & 2009     \\\\\n",
       "\t Chinstrap & Dream     & 50.1      & 17.9      & 190       & 3400      & female    & 2009     \\\\\n",
       "\t Chinstrap & Dream     & 49.0      & 19.6      & 212       & 4300      & male      & 2009     \\\\\n",
       "\t Chinstrap & Dream     & 51.5      & 18.7      & 187       & 3250      & male      & 2009     \\\\\n",
       "\t Chinstrap & Dream     & 49.8      & 17.3      & 198       & 3675      & female    & 2009     \\\\\n",
       "\t Chinstrap & Dream     & 48.1      & 16.4      & 199       & 3325      & female    & 2009     \\\\\n",
       "\t Chinstrap & Dream     & 51.4      & 19.0      & 201       & 3950      & male      & 2009     \\\\\n",
       "\t Chinstrap & Dream     & 45.7      & 17.3      & 193       & 3600      & female    & 2009     \\\\\n",
       "\t Chinstrap & Dream     & 50.7      & 19.7      & 203       & 4050      & male      & 2009     \\\\\n",
       "\t Chinstrap & Dream     & 42.5      & 17.3      & 187       & 3350      & female    & 2009     \\\\\n",
       "\t Chinstrap & Dream     & 52.2      & 18.8      & 197       & 3450      & male      & 2009     \\\\\n",
       "\t Chinstrap & Dream     & 45.2      & 16.6      & 191       & 3250      & female    & 2009     \\\\\n",
       "\t Chinstrap & Dream     & 49.3      & 19.9      & 203       & 4050      & male      & 2009     \\\\\n",
       "\t Chinstrap & Dream     & 50.2      & 18.8      & 202       & 3800      & male      & 2009     \\\\\n",
       "\t Chinstrap & Dream     & 45.6      & 19.4      & 194       & 3525      & female    & 2009     \\\\\n",
       "\t Chinstrap & Dream     & 51.9      & 19.5      & 206       & 3950      & male      & 2009     \\\\\n",
       "\t Chinstrap & Dream     & 46.8      & 16.5      & 189       & 3650      & female    & 2009     \\\\\n",
       "\t Chinstrap & Dream     & 45.7      & 17.0      & 195       & 3650      & female    & 2009     \\\\\n",
       "\t Chinstrap & Dream     & 55.8      & 19.8      & 207       & 4000      & male      & 2009     \\\\\n",
       "\t Chinstrap & Dream     & 43.5      & 18.1      & 202       & 3400      & female    & 2009     \\\\\n",
       "\t Chinstrap & Dream     & 49.6      & 18.2      & 193       & 3775      & male      & 2009     \\\\\n",
       "\t Chinstrap & Dream     & 50.8      & 19.0      & 210       & 4100      & male      & 2009     \\\\\n",
       "\t Chinstrap & Dream     & 50.2      & 18.7      & 198       & 3775      & female    & 2009     \\\\\n",
       "\\end{tabular}\n"
      ],
      "text/markdown": [
       "\n",
       "| species | island | bill_length_mm | bill_depth_mm | flipper_length_mm | body_mass_g | sex | year |\n",
       "|---|---|---|---|---|---|---|---|\n",
       "| Adelie | Dream  | 39.5   | 16.7   | 178    | 3250   | female | 2007   |\n",
       "| Adelie | Dream  | 37.2   | 18.1   | 178    | 3900   | male   | 2007   |\n",
       "| Adelie | Dream  | 39.5   | 17.8   | 188    | 3300   | female | 2007   |\n",
       "| Adelie | Dream  | 40.9   | 18.9   | 184    | 3900   | male   | 2007   |\n",
       "| Adelie | Dream  | 36.4   | 17.0   | 195    | 3325   | female | 2007   |\n",
       "| Adelie | Dream  | 39.2   | 21.1   | 196    | 4150   | male   | 2007   |\n",
       "| Adelie | Dream  | 38.8   | 20.0   | 190    | 3950   | male   | 2007   |\n",
       "| Adelie | Dream  | 42.2   | 18.5   | 180    | 3550   | female | 2007   |\n",
       "| Adelie | Dream  | 37.6   | 19.3   | 181    | 3300   | female | 2007   |\n",
       "| Adelie | Dream  | 39.8   | 19.1   | 184    | 4650   | male   | 2007   |\n",
       "| Adelie | Dream  | 36.5   | 18.0   | 182    | 3150   | female | 2007   |\n",
       "| Adelie | Dream  | 40.8   | 18.4   | 195    | 3900   | male   | 2007   |\n",
       "| Adelie | Dream  | 36.0   | 18.5   | 186    | 3100   | female | 2007   |\n",
       "| Adelie | Dream  | 44.1   | 19.7   | 196    | 4400   | male   | 2007   |\n",
       "| Adelie | Dream  | 37.0   | 16.9   | 185    | 3000   | female | 2007   |\n",
       "| Adelie | Dream  | 39.6   | 18.8   | 190    | 4600   | male   | 2007   |\n",
       "| Adelie | Dream  | 41.1   | 19.0   | 182    | 3425   | male   | 2007   |\n",
       "| Adelie | Dream  | 37.5   | 18.9   | 179    | 2975   | NA     | 2007   |\n",
       "| Adelie | Dream  | 36.0   | 17.9   | 190    | 3450   | female | 2007   |\n",
       "| Adelie | Dream  | 42.3   | 21.2   | 191    | 4150   | male   | 2007   |\n",
       "| Adelie | Dream  | 37.3   | 17.8   | 191    | 3350   | female | 2008   |\n",
       "| Adelie | Dream  | 41.3   | 20.3   | 194    | 3550   | male   | 2008   |\n",
       "| Adelie | Dream  | 36.3   | 19.5   | 190    | 3800   | male   | 2008   |\n",
       "| Adelie | Dream  | 36.9   | 18.6   | 189    | 3500   | female | 2008   |\n",
       "| Adelie | Dream  | 38.3   | 19.2   | 189    | 3950   | male   | 2008   |\n",
       "| Adelie | Dream  | 38.9   | 18.8   | 190    | 3600   | female | 2008   |\n",
       "| Adelie | Dream  | 35.7   | 18.0   | 202    | 3550   | female | 2008   |\n",
       "| Adelie | Dream  | 41.1   | 18.1   | 205    | 4300   | male   | 2008   |\n",
       "| Adelie | Dream  | 34.0   | 17.1   | 185    | 3400   | female | 2008   |\n",
       "| Adelie | Dream  | 39.6   | 18.1   | 186    | 4450   | male   | 2008   |\n",
       "| ... | ... | ... | ... | ... | ... | ... | ... |\n",
       "| Chinstrap | Dream     | 46.9      | 16.6      | 192       | 2700      | female    | 2008      |\n",
       "| Chinstrap | Dream     | 53.5      | 19.9      | 205       | 4500      | male      | 2008      |\n",
       "| Chinstrap | Dream     | 49.0      | 19.5      | 210       | 3950      | male      | 2008      |\n",
       "| Chinstrap | Dream     | 46.2      | 17.5      | 187       | 3650      | female    | 2008      |\n",
       "| Chinstrap | Dream     | 50.9      | 19.1      | 196       | 3550      | male      | 2008      |\n",
       "| Chinstrap | Dream     | 45.5      | 17.0      | 196       | 3500      | female    | 2008      |\n",
       "| Chinstrap | Dream     | 50.9      | 17.9      | 196       | 3675      | female    | 2009      |\n",
       "| Chinstrap | Dream     | 50.8      | 18.5      | 201       | 4450      | male      | 2009      |\n",
       "| Chinstrap | Dream     | 50.1      | 17.9      | 190       | 3400      | female    | 2009      |\n",
       "| Chinstrap | Dream     | 49.0      | 19.6      | 212       | 4300      | male      | 2009      |\n",
       "| Chinstrap | Dream     | 51.5      | 18.7      | 187       | 3250      | male      | 2009      |\n",
       "| Chinstrap | Dream     | 49.8      | 17.3      | 198       | 3675      | female    | 2009      |\n",
       "| Chinstrap | Dream     | 48.1      | 16.4      | 199       | 3325      | female    | 2009      |\n",
       "| Chinstrap | Dream     | 51.4      | 19.0      | 201       | 3950      | male      | 2009      |\n",
       "| Chinstrap | Dream     | 45.7      | 17.3      | 193       | 3600      | female    | 2009      |\n",
       "| Chinstrap | Dream     | 50.7      | 19.7      | 203       | 4050      | male      | 2009      |\n",
       "| Chinstrap | Dream     | 42.5      | 17.3      | 187       | 3350      | female    | 2009      |\n",
       "| Chinstrap | Dream     | 52.2      | 18.8      | 197       | 3450      | male      | 2009      |\n",
       "| Chinstrap | Dream     | 45.2      | 16.6      | 191       | 3250      | female    | 2009      |\n",
       "| Chinstrap | Dream     | 49.3      | 19.9      | 203       | 4050      | male      | 2009      |\n",
       "| Chinstrap | Dream     | 50.2      | 18.8      | 202       | 3800      | male      | 2009      |\n",
       "| Chinstrap | Dream     | 45.6      | 19.4      | 194       | 3525      | female    | 2009      |\n",
       "| Chinstrap | Dream     | 51.9      | 19.5      | 206       | 3950      | male      | 2009      |\n",
       "| Chinstrap | Dream     | 46.8      | 16.5      | 189       | 3650      | female    | 2009      |\n",
       "| Chinstrap | Dream     | 45.7      | 17.0      | 195       | 3650      | female    | 2009      |\n",
       "| Chinstrap | Dream     | 55.8      | 19.8      | 207       | 4000      | male      | 2009      |\n",
       "| Chinstrap | Dream     | 43.5      | 18.1      | 202       | 3400      | female    | 2009      |\n",
       "| Chinstrap | Dream     | 49.6      | 18.2      | 193       | 3775      | male      | 2009      |\n",
       "| Chinstrap | Dream     | 50.8      | 19.0      | 210       | 4100      | male      | 2009      |\n",
       "| Chinstrap | Dream     | 50.2      | 18.7      | 198       | 3775      | female    | 2009      |\n",
       "\n"
      ],
      "text/plain": [
       "    species   island bill_length_mm bill_depth_mm flipper_length_mm body_mass_g\n",
       "1   Adelie    Dream  39.5           16.7          178               3250       \n",
       "2   Adelie    Dream  37.2           18.1          178               3900       \n",
       "3   Adelie    Dream  39.5           17.8          188               3300       \n",
       "4   Adelie    Dream  40.9           18.9          184               3900       \n",
       "5   Adelie    Dream  36.4           17.0          195               3325       \n",
       "6   Adelie    Dream  39.2           21.1          196               4150       \n",
       "7   Adelie    Dream  38.8           20.0          190               3950       \n",
       "8   Adelie    Dream  42.2           18.5          180               3550       \n",
       "9   Adelie    Dream  37.6           19.3          181               3300       \n",
       "10  Adelie    Dream  39.8           19.1          184               4650       \n",
       "11  Adelie    Dream  36.5           18.0          182               3150       \n",
       "12  Adelie    Dream  40.8           18.4          195               3900       \n",
       "13  Adelie    Dream  36.0           18.5          186               3100       \n",
       "14  Adelie    Dream  44.1           19.7          196               4400       \n",
       "15  Adelie    Dream  37.0           16.9          185               3000       \n",
       "16  Adelie    Dream  39.6           18.8          190               4600       \n",
       "17  Adelie    Dream  41.1           19.0          182               3425       \n",
       "18  Adelie    Dream  37.5           18.9          179               2975       \n",
       "19  Adelie    Dream  36.0           17.9          190               3450       \n",
       "20  Adelie    Dream  42.3           21.2          191               4150       \n",
       "21  Adelie    Dream  37.3           17.8          191               3350       \n",
       "22  Adelie    Dream  41.3           20.3          194               3550       \n",
       "23  Adelie    Dream  36.3           19.5          190               3800       \n",
       "24  Adelie    Dream  36.9           18.6          189               3500       \n",
       "25  Adelie    Dream  38.3           19.2          189               3950       \n",
       "26  Adelie    Dream  38.9           18.8          190               3600       \n",
       "27  Adelie    Dream  35.7           18.0          202               3550       \n",
       "28  Adelie    Dream  41.1           18.1          205               4300       \n",
       "29  Adelie    Dream  34.0           17.1          185               3400       \n",
       "30  Adelie    Dream  39.6           18.1          186               4450       \n",
       "... ...       ...    ...            ...           ...               ...        \n",
       "95  Chinstrap Dream  46.9           16.6          192               2700       \n",
       "96  Chinstrap Dream  53.5           19.9          205               4500       \n",
       "97  Chinstrap Dream  49.0           19.5          210               3950       \n",
       "98  Chinstrap Dream  46.2           17.5          187               3650       \n",
       "99  Chinstrap Dream  50.9           19.1          196               3550       \n",
       "100 Chinstrap Dream  45.5           17.0          196               3500       \n",
       "101 Chinstrap Dream  50.9           17.9          196               3675       \n",
       "102 Chinstrap Dream  50.8           18.5          201               4450       \n",
       "103 Chinstrap Dream  50.1           17.9          190               3400       \n",
       "104 Chinstrap Dream  49.0           19.6          212               4300       \n",
       "105 Chinstrap Dream  51.5           18.7          187               3250       \n",
       "106 Chinstrap Dream  49.8           17.3          198               3675       \n",
       "107 Chinstrap Dream  48.1           16.4          199               3325       \n",
       "108 Chinstrap Dream  51.4           19.0          201               3950       \n",
       "109 Chinstrap Dream  45.7           17.3          193               3600       \n",
       "110 Chinstrap Dream  50.7           19.7          203               4050       \n",
       "111 Chinstrap Dream  42.5           17.3          187               3350       \n",
       "112 Chinstrap Dream  52.2           18.8          197               3450       \n",
       "113 Chinstrap Dream  45.2           16.6          191               3250       \n",
       "114 Chinstrap Dream  49.3           19.9          203               4050       \n",
       "115 Chinstrap Dream  50.2           18.8          202               3800       \n",
       "116 Chinstrap Dream  45.6           19.4          194               3525       \n",
       "117 Chinstrap Dream  51.9           19.5          206               3950       \n",
       "118 Chinstrap Dream  46.8           16.5          189               3650       \n",
       "119 Chinstrap Dream  45.7           17.0          195               3650       \n",
       "120 Chinstrap Dream  55.8           19.8          207               4000       \n",
       "121 Chinstrap Dream  43.5           18.1          202               3400       \n",
       "122 Chinstrap Dream  49.6           18.2          193               3775       \n",
       "123 Chinstrap Dream  50.8           19.0          210               4100       \n",
       "124 Chinstrap Dream  50.2           18.7          198               3775       \n",
       "    sex    year\n",
       "1   female 2007\n",
       "2   male   2007\n",
       "3   female 2007\n",
       "4   male   2007\n",
       "5   female 2007\n",
       "6   male   2007\n",
       "7   male   2007\n",
       "8   female 2007\n",
       "9   female 2007\n",
       "10  male   2007\n",
       "11  female 2007\n",
       "12  male   2007\n",
       "13  female 2007\n",
       "14  male   2007\n",
       "15  female 2007\n",
       "16  male   2007\n",
       "17  male   2007\n",
       "18  NA     2007\n",
       "19  female 2007\n",
       "20  male   2007\n",
       "21  female 2008\n",
       "22  male   2008\n",
       "23  male   2008\n",
       "24  female 2008\n",
       "25  male   2008\n",
       "26  female 2008\n",
       "27  female 2008\n",
       "28  male   2008\n",
       "29  female 2008\n",
       "30  male   2008\n",
       "... ...    ... \n",
       "95  female 2008\n",
       "96  male   2008\n",
       "97  male   2008\n",
       "98  female 2008\n",
       "99  male   2008\n",
       "100 female 2008\n",
       "101 female 2009\n",
       "102 male   2009\n",
       "103 female 2009\n",
       "104 male   2009\n",
       "105 male   2009\n",
       "106 female 2009\n",
       "107 female 2009\n",
       "108 male   2009\n",
       "109 female 2009\n",
       "110 male   2009\n",
       "111 female 2009\n",
       "112 male   2009\n",
       "113 female 2009\n",
       "114 male   2009\n",
       "115 male   2009\n",
       "116 female 2009\n",
       "117 male   2009\n",
       "118 female 2009\n",
       "119 female 2009\n",
       "120 male   2009\n",
       "121 female 2009\n",
       "122 male   2009\n",
       "123 male   2009\n",
       "124 female 2009"
      ]
     },
     "metadata": {},
     "output_type": "display_data"
    }
   ],
   "source": [
    "penguins_2"
   ]
  },
  {
   "cell_type": "code",
   "execution_count": 32,
   "metadata": {},
   "outputs": [],
   "source": [
    "bill <- filter(penguins, bill_length_mm > 39 & bill_length_mm< 45)"
   ]
  },
  {
   "cell_type": "code",
   "execution_count": 33,
   "metadata": {},
   "outputs": [
    {
     "data": {
      "text/html": [
       "<table>\n",
       "<thead><tr><th scope=col>species</th><th scope=col>island</th><th scope=col>bill_length_mm</th><th scope=col>bill_depth_mm</th><th scope=col>flipper_length_mm</th><th scope=col>body_mass_g</th><th scope=col>sex</th><th scope=col>year</th></tr></thead>\n",
       "<tbody>\n",
       "\t<tr><td>Adelie   </td><td>Torgersen</td><td>39.1     </td><td>18.7     </td><td>181      </td><td>3750     </td><td>male     </td><td>2007     </td></tr>\n",
       "\t<tr><td>Adelie   </td><td>Torgersen</td><td>39.5     </td><td>17.4     </td><td>186      </td><td>3800     </td><td>female   </td><td>2007     </td></tr>\n",
       "\t<tr><td>Adelie   </td><td>Torgersen</td><td>40.3     </td><td>18.0     </td><td>195      </td><td>3250     </td><td>female   </td><td>2007     </td></tr>\n",
       "\t<tr><td>Adelie   </td><td>Torgersen</td><td>39.3     </td><td>20.6     </td><td>190      </td><td>3650     </td><td>male     </td><td>2007     </td></tr>\n",
       "\t<tr><td>Adelie   </td><td>Torgersen</td><td>39.2     </td><td>19.6     </td><td>195      </td><td>4675     </td><td>male     </td><td>2007     </td></tr>\n",
       "\t<tr><td>Adelie   </td><td>Torgersen</td><td>42.0     </td><td>20.2     </td><td>190      </td><td>4250     </td><td>NA       </td><td>2007     </td></tr>\n",
       "\t<tr><td>Adelie   </td><td>Torgersen</td><td>41.1     </td><td>17.6     </td><td>182      </td><td>3200     </td><td>female   </td><td>2007     </td></tr>\n",
       "\t<tr><td>Adelie   </td><td>Torgersen</td><td>42.5     </td><td>20.7     </td><td>197      </td><td>4500     </td><td>male     </td><td>2007     </td></tr>\n",
       "\t<tr><td>Adelie   </td><td>Biscoe   </td><td>40.6     </td><td>18.6     </td><td>183      </td><td>3550     </td><td>male     </td><td>2007     </td></tr>\n",
       "\t<tr><td>Adelie   </td><td>Biscoe   </td><td>40.5     </td><td>17.9     </td><td>187      </td><td>3200     </td><td>female   </td><td>2007     </td></tr>\n",
       "\t<tr><td>Adelie   </td><td>Biscoe   </td><td>40.5     </td><td>18.9     </td><td>180      </td><td>3950     </td><td>male     </td><td>2007     </td></tr>\n",
       "\t<tr><td>Adelie   </td><td>Dream    </td><td>39.5     </td><td>16.7     </td><td>178      </td><td>3250     </td><td>female   </td><td>2007     </td></tr>\n",
       "\t<tr><td>Adelie   </td><td>Dream    </td><td>39.5     </td><td>17.8     </td><td>188      </td><td>3300     </td><td>female   </td><td>2007     </td></tr>\n",
       "\t<tr><td>Adelie   </td><td>Dream    </td><td>40.9     </td><td>18.9     </td><td>184      </td><td>3900     </td><td>male     </td><td>2007     </td></tr>\n",
       "\t<tr><td>Adelie   </td><td>Dream    </td><td>39.2     </td><td>21.1     </td><td>196      </td><td>4150     </td><td>male     </td><td>2007     </td></tr>\n",
       "\t<tr><td>Adelie   </td><td>Dream    </td><td>42.2     </td><td>18.5     </td><td>180      </td><td>3550     </td><td>female   </td><td>2007     </td></tr>\n",
       "\t<tr><td>Adelie   </td><td>Dream    </td><td>39.8     </td><td>19.1     </td><td>184      </td><td>4650     </td><td>male     </td><td>2007     </td></tr>\n",
       "\t<tr><td>Adelie   </td><td>Dream    </td><td>40.8     </td><td>18.4     </td><td>195      </td><td>3900     </td><td>male     </td><td>2007     </td></tr>\n",
       "\t<tr><td>Adelie   </td><td>Dream    </td><td>44.1     </td><td>19.7     </td><td>196      </td><td>4400     </td><td>male     </td><td>2007     </td></tr>\n",
       "\t<tr><td>Adelie   </td><td>Dream    </td><td>39.6     </td><td>18.8     </td><td>190      </td><td>4600     </td><td>male     </td><td>2007     </td></tr>\n",
       "\t<tr><td>Adelie   </td><td>Dream    </td><td>41.1     </td><td>19.0     </td><td>182      </td><td>3425     </td><td>male     </td><td>2007     </td></tr>\n",
       "\t<tr><td>Adelie   </td><td>Dream    </td><td>42.3     </td><td>21.2     </td><td>191      </td><td>4150     </td><td>male     </td><td>2007     </td></tr>\n",
       "\t<tr><td>Adelie   </td><td>Biscoe   </td><td>39.6     </td><td>17.7     </td><td>186      </td><td>3500     </td><td>female   </td><td>2008     </td></tr>\n",
       "\t<tr><td>Adelie   </td><td>Biscoe   </td><td>40.1     </td><td>18.9     </td><td>188      </td><td>4300     </td><td>male     </td><td>2008     </td></tr>\n",
       "\t<tr><td>Adelie   </td><td>Biscoe   </td><td>42.0     </td><td>19.5     </td><td>200      </td><td>4050     </td><td>male     </td><td>2008     </td></tr>\n",
       "\t<tr><td>Adelie   </td><td>Biscoe   </td><td>41.4     </td><td>18.6     </td><td>191      </td><td>3700     </td><td>male     </td><td>2008     </td></tr>\n",
       "\t<tr><td>Adelie   </td><td>Biscoe   </td><td>40.6     </td><td>18.8     </td><td>193      </td><td>3800     </td><td>male     </td><td>2008     </td></tr>\n",
       "\t<tr><td>Adelie   </td><td>Biscoe   </td><td>41.3     </td><td>21.1     </td><td>195      </td><td>4400     </td><td>male     </td><td>2008     </td></tr>\n",
       "\t<tr><td>Adelie   </td><td>Biscoe   </td><td>41.1     </td><td>18.2     </td><td>192      </td><td>4050     </td><td>male     </td><td>2008     </td></tr>\n",
       "\t<tr><td>Adelie   </td><td>Biscoe   </td><td>41.6     </td><td>18.0     </td><td>192      </td><td>3950     </td><td>male     </td><td>2008     </td></tr>\n",
       "\t<tr><td>...</td><td>...</td><td>...</td><td>...</td><td>...</td><td>...</td><td>...</td><td>...</td></tr>\n",
       "\t<tr><td>Adelie   </td><td>Dream    </td><td>39.2     </td><td>18.6     </td><td>190      </td><td>4250     </td><td>male     </td><td>2009     </td></tr>\n",
       "\t<tr><td>Adelie   </td><td>Dream    </td><td>41.5     </td><td>18.5     </td><td>201      </td><td>4000     </td><td>male     </td><td>2009     </td></tr>\n",
       "\t<tr><td>Gentoo   </td><td>Biscoe   </td><td>43.3     </td><td>13.4     </td><td>209      </td><td>4400     </td><td>female   </td><td>2007     </td></tr>\n",
       "\t<tr><td>Gentoo   </td><td>Biscoe   </td><td>40.9     </td><td>13.7     </td><td>214      </td><td>4650     </td><td>female   </td><td>2007     </td></tr>\n",
       "\t<tr><td>Gentoo   </td><td>Biscoe   </td><td>42.0     </td><td>13.5     </td><td>210      </td><td>4150     </td><td>female   </td><td>2007     </td></tr>\n",
       "\t<tr><td>Gentoo   </td><td>Biscoe   </td><td>42.9     </td><td>13.1     </td><td>215      </td><td>5000     </td><td>female   </td><td>2007     </td></tr>\n",
       "\t<tr><td>Gentoo   </td><td>Biscoe   </td><td>44.5     </td><td>14.3     </td><td>216      </td><td>4100     </td><td>NA       </td><td>2007     </td></tr>\n",
       "\t<tr><td>Gentoo   </td><td>Biscoe   </td><td>42.8     </td><td>14.2     </td><td>209      </td><td>4700     </td><td>female   </td><td>2007     </td></tr>\n",
       "\t<tr><td>Gentoo   </td><td>Biscoe   </td><td>42.6     </td><td>13.7     </td><td>213      </td><td>4950     </td><td>female   </td><td>2008     </td></tr>\n",
       "\t<tr><td>Gentoo   </td><td>Biscoe   </td><td>44.4     </td><td>17.3     </td><td>219      </td><td>5250     </td><td>male     </td><td>2008     </td></tr>\n",
       "\t<tr><td>Gentoo   </td><td>Biscoe   </td><td>44.0     </td><td>13.6     </td><td>208      </td><td>4350     </td><td>female   </td><td>2008     </td></tr>\n",
       "\t<tr><td>Gentoo   </td><td>Biscoe   </td><td>42.7     </td><td>13.7     </td><td>208      </td><td>3950     </td><td>female   </td><td>2008     </td></tr>\n",
       "\t<tr><td>Gentoo   </td><td>Biscoe   </td><td>43.6     </td><td>13.9     </td><td>217      </td><td>4900     </td><td>female   </td><td>2008     </td></tr>\n",
       "\t<tr><td>Gentoo   </td><td>Biscoe   </td><td>44.9     </td><td>13.3     </td><td>213      </td><td>5100     </td><td>female   </td><td>2008     </td></tr>\n",
       "\t<tr><td>Gentoo   </td><td>Biscoe   </td><td>43.8     </td><td>13.9     </td><td>208      </td><td>4300     </td><td>female   </td><td>2008     </td></tr>\n",
       "\t<tr><td>Gentoo   </td><td>Biscoe   </td><td>43.2     </td><td>14.5     </td><td>208      </td><td>4450     </td><td>female   </td><td>2008     </td></tr>\n",
       "\t<tr><td>Gentoo   </td><td>Biscoe   </td><td>43.5     </td><td>14.2     </td><td>220      </td><td>4700     </td><td>female   </td><td>2008     </td></tr>\n",
       "\t<tr><td>Gentoo   </td><td>Biscoe   </td><td>44.9     </td><td>13.8     </td><td>212      </td><td>4750     </td><td>female   </td><td>2009     </td></tr>\n",
       "\t<tr><td>Gentoo   </td><td>Biscoe   </td><td>43.4     </td><td>14.4     </td><td>218      </td><td>4600     </td><td>female   </td><td>2009     </td></tr>\n",
       "\t<tr><td>Gentoo   </td><td>Biscoe   </td><td>44.5     </td><td>14.7     </td><td>214      </td><td>4850     </td><td>female   </td><td>2009     </td></tr>\n",
       "\t<tr><td>Gentoo   </td><td>Biscoe   </td><td>41.7     </td><td>14.7     </td><td>210      </td><td>4700     </td><td>female   </td><td>2009     </td></tr>\n",
       "\t<tr><td>Gentoo   </td><td>Biscoe   </td><td>43.3     </td><td>14.0     </td><td>208      </td><td>4575     </td><td>female   </td><td>2009     </td></tr>\n",
       "\t<tr><td>Gentoo   </td><td>Biscoe   </td><td>43.5     </td><td>15.2     </td><td>213      </td><td>4650     </td><td>female   </td><td>2009     </td></tr>\n",
       "\t<tr><td>Gentoo   </td><td>Biscoe   </td><td>44.5     </td><td>15.7     </td><td>217      </td><td>4875     </td><td>NA       </td><td>2009     </td></tr>\n",
       "\t<tr><td>Chinstrap</td><td>Dream    </td><td>42.4     </td><td>17.3     </td><td>181      </td><td>3600     </td><td>female   </td><td>2007     </td></tr>\n",
       "\t<tr><td>Chinstrap</td><td>Dream    </td><td>43.2     </td><td>16.6     </td><td>187      </td><td>2900     </td><td>female   </td><td>2007     </td></tr>\n",
       "\t<tr><td>Chinstrap</td><td>Dream    </td><td>40.9     </td><td>16.6     </td><td>187      </td><td>3200     </td><td>female   </td><td>2008     </td></tr>\n",
       "\t<tr><td>Chinstrap</td><td>Dream    </td><td>42.5     </td><td>16.7     </td><td>187      </td><td>3350     </td><td>female   </td><td>2008     </td></tr>\n",
       "\t<tr><td>Chinstrap</td><td>Dream    </td><td>42.5     </td><td>17.3     </td><td>187      </td><td>3350     </td><td>female   </td><td>2009     </td></tr>\n",
       "\t<tr><td>Chinstrap</td><td>Dream    </td><td>43.5     </td><td>18.1     </td><td>202      </td><td>3400     </td><td>female   </td><td>2009     </td></tr>\n",
       "</tbody>\n",
       "</table>\n"
      ],
      "text/latex": [
       "\\begin{tabular}{r|llllllll}\n",
       " species & island & bill\\_length\\_mm & bill\\_depth\\_mm & flipper\\_length\\_mm & body\\_mass\\_g & sex & year\\\\\n",
       "\\hline\n",
       "\t Adelie    & Torgersen & 39.1      & 18.7      & 181       & 3750      & male      & 2007     \\\\\n",
       "\t Adelie    & Torgersen & 39.5      & 17.4      & 186       & 3800      & female    & 2007     \\\\\n",
       "\t Adelie    & Torgersen & 40.3      & 18.0      & 195       & 3250      & female    & 2007     \\\\\n",
       "\t Adelie    & Torgersen & 39.3      & 20.6      & 190       & 3650      & male      & 2007     \\\\\n",
       "\t Adelie    & Torgersen & 39.2      & 19.6      & 195       & 4675      & male      & 2007     \\\\\n",
       "\t Adelie    & Torgersen & 42.0      & 20.2      & 190       & 4250      & NA        & 2007     \\\\\n",
       "\t Adelie    & Torgersen & 41.1      & 17.6      & 182       & 3200      & female    & 2007     \\\\\n",
       "\t Adelie    & Torgersen & 42.5      & 20.7      & 197       & 4500      & male      & 2007     \\\\\n",
       "\t Adelie    & Biscoe    & 40.6      & 18.6      & 183       & 3550      & male      & 2007     \\\\\n",
       "\t Adelie    & Biscoe    & 40.5      & 17.9      & 187       & 3200      & female    & 2007     \\\\\n",
       "\t Adelie    & Biscoe    & 40.5      & 18.9      & 180       & 3950      & male      & 2007     \\\\\n",
       "\t Adelie    & Dream     & 39.5      & 16.7      & 178       & 3250      & female    & 2007     \\\\\n",
       "\t Adelie    & Dream     & 39.5      & 17.8      & 188       & 3300      & female    & 2007     \\\\\n",
       "\t Adelie    & Dream     & 40.9      & 18.9      & 184       & 3900      & male      & 2007     \\\\\n",
       "\t Adelie    & Dream     & 39.2      & 21.1      & 196       & 4150      & male      & 2007     \\\\\n",
       "\t Adelie    & Dream     & 42.2      & 18.5      & 180       & 3550      & female    & 2007     \\\\\n",
       "\t Adelie    & Dream     & 39.8      & 19.1      & 184       & 4650      & male      & 2007     \\\\\n",
       "\t Adelie    & Dream     & 40.8      & 18.4      & 195       & 3900      & male      & 2007     \\\\\n",
       "\t Adelie    & Dream     & 44.1      & 19.7      & 196       & 4400      & male      & 2007     \\\\\n",
       "\t Adelie    & Dream     & 39.6      & 18.8      & 190       & 4600      & male      & 2007     \\\\\n",
       "\t Adelie    & Dream     & 41.1      & 19.0      & 182       & 3425      & male      & 2007     \\\\\n",
       "\t Adelie    & Dream     & 42.3      & 21.2      & 191       & 4150      & male      & 2007     \\\\\n",
       "\t Adelie    & Biscoe    & 39.6      & 17.7      & 186       & 3500      & female    & 2008     \\\\\n",
       "\t Adelie    & Biscoe    & 40.1      & 18.9      & 188       & 4300      & male      & 2008     \\\\\n",
       "\t Adelie    & Biscoe    & 42.0      & 19.5      & 200       & 4050      & male      & 2008     \\\\\n",
       "\t Adelie    & Biscoe    & 41.4      & 18.6      & 191       & 3700      & male      & 2008     \\\\\n",
       "\t Adelie    & Biscoe    & 40.6      & 18.8      & 193       & 3800      & male      & 2008     \\\\\n",
       "\t Adelie    & Biscoe    & 41.3      & 21.1      & 195       & 4400      & male      & 2008     \\\\\n",
       "\t Adelie    & Biscoe    & 41.1      & 18.2      & 192       & 4050      & male      & 2008     \\\\\n",
       "\t Adelie    & Biscoe    & 41.6      & 18.0      & 192       & 3950      & male      & 2008     \\\\\n",
       "\t ... & ... & ... & ... & ... & ... & ... & ...\\\\\n",
       "\t Adelie    & Dream     & 39.2      & 18.6      & 190       & 4250      & male      & 2009     \\\\\n",
       "\t Adelie    & Dream     & 41.5      & 18.5      & 201       & 4000      & male      & 2009     \\\\\n",
       "\t Gentoo    & Biscoe    & 43.3      & 13.4      & 209       & 4400      & female    & 2007     \\\\\n",
       "\t Gentoo    & Biscoe    & 40.9      & 13.7      & 214       & 4650      & female    & 2007     \\\\\n",
       "\t Gentoo    & Biscoe    & 42.0      & 13.5      & 210       & 4150      & female    & 2007     \\\\\n",
       "\t Gentoo    & Biscoe    & 42.9      & 13.1      & 215       & 5000      & female    & 2007     \\\\\n",
       "\t Gentoo    & Biscoe    & 44.5      & 14.3      & 216       & 4100      & NA        & 2007     \\\\\n",
       "\t Gentoo    & Biscoe    & 42.8      & 14.2      & 209       & 4700      & female    & 2007     \\\\\n",
       "\t Gentoo    & Biscoe    & 42.6      & 13.7      & 213       & 4950      & female    & 2008     \\\\\n",
       "\t Gentoo    & Biscoe    & 44.4      & 17.3      & 219       & 5250      & male      & 2008     \\\\\n",
       "\t Gentoo    & Biscoe    & 44.0      & 13.6      & 208       & 4350      & female    & 2008     \\\\\n",
       "\t Gentoo    & Biscoe    & 42.7      & 13.7      & 208       & 3950      & female    & 2008     \\\\\n",
       "\t Gentoo    & Biscoe    & 43.6      & 13.9      & 217       & 4900      & female    & 2008     \\\\\n",
       "\t Gentoo    & Biscoe    & 44.9      & 13.3      & 213       & 5100      & female    & 2008     \\\\\n",
       "\t Gentoo    & Biscoe    & 43.8      & 13.9      & 208       & 4300      & female    & 2008     \\\\\n",
       "\t Gentoo    & Biscoe    & 43.2      & 14.5      & 208       & 4450      & female    & 2008     \\\\\n",
       "\t Gentoo    & Biscoe    & 43.5      & 14.2      & 220       & 4700      & female    & 2008     \\\\\n",
       "\t Gentoo    & Biscoe    & 44.9      & 13.8      & 212       & 4750      & female    & 2009     \\\\\n",
       "\t Gentoo    & Biscoe    & 43.4      & 14.4      & 218       & 4600      & female    & 2009     \\\\\n",
       "\t Gentoo    & Biscoe    & 44.5      & 14.7      & 214       & 4850      & female    & 2009     \\\\\n",
       "\t Gentoo    & Biscoe    & 41.7      & 14.7      & 210       & 4700      & female    & 2009     \\\\\n",
       "\t Gentoo    & Biscoe    & 43.3      & 14.0      & 208       & 4575      & female    & 2009     \\\\\n",
       "\t Gentoo    & Biscoe    & 43.5      & 15.2      & 213       & 4650      & female    & 2009     \\\\\n",
       "\t Gentoo    & Biscoe    & 44.5      & 15.7      & 217       & 4875      & NA        & 2009     \\\\\n",
       "\t Chinstrap & Dream     & 42.4      & 17.3      & 181       & 3600      & female    & 2007     \\\\\n",
       "\t Chinstrap & Dream     & 43.2      & 16.6      & 187       & 2900      & female    & 2007     \\\\\n",
       "\t Chinstrap & Dream     & 40.9      & 16.6      & 187       & 3200      & female    & 2008     \\\\\n",
       "\t Chinstrap & Dream     & 42.5      & 16.7      & 187       & 3350      & female    & 2008     \\\\\n",
       "\t Chinstrap & Dream     & 42.5      & 17.3      & 187       & 3350      & female    & 2009     \\\\\n",
       "\t Chinstrap & Dream     & 43.5      & 18.1      & 202       & 3400      & female    & 2009     \\\\\n",
       "\\end{tabular}\n"
      ],
      "text/markdown": [
       "\n",
       "| species | island | bill_length_mm | bill_depth_mm | flipper_length_mm | body_mass_g | sex | year |\n",
       "|---|---|---|---|---|---|---|---|\n",
       "| Adelie    | Torgersen | 39.1      | 18.7      | 181       | 3750      | male      | 2007      |\n",
       "| Adelie    | Torgersen | 39.5      | 17.4      | 186       | 3800      | female    | 2007      |\n",
       "| Adelie    | Torgersen | 40.3      | 18.0      | 195       | 3250      | female    | 2007      |\n",
       "| Adelie    | Torgersen | 39.3      | 20.6      | 190       | 3650      | male      | 2007      |\n",
       "| Adelie    | Torgersen | 39.2      | 19.6      | 195       | 4675      | male      | 2007      |\n",
       "| Adelie    | Torgersen | 42.0      | 20.2      | 190       | 4250      | NA        | 2007      |\n",
       "| Adelie    | Torgersen | 41.1      | 17.6      | 182       | 3200      | female    | 2007      |\n",
       "| Adelie    | Torgersen | 42.5      | 20.7      | 197       | 4500      | male      | 2007      |\n",
       "| Adelie    | Biscoe    | 40.6      | 18.6      | 183       | 3550      | male      | 2007      |\n",
       "| Adelie    | Biscoe    | 40.5      | 17.9      | 187       | 3200      | female    | 2007      |\n",
       "| Adelie    | Biscoe    | 40.5      | 18.9      | 180       | 3950      | male      | 2007      |\n",
       "| Adelie    | Dream     | 39.5      | 16.7      | 178       | 3250      | female    | 2007      |\n",
       "| Adelie    | Dream     | 39.5      | 17.8      | 188       | 3300      | female    | 2007      |\n",
       "| Adelie    | Dream     | 40.9      | 18.9      | 184       | 3900      | male      | 2007      |\n",
       "| Adelie    | Dream     | 39.2      | 21.1      | 196       | 4150      | male      | 2007      |\n",
       "| Adelie    | Dream     | 42.2      | 18.5      | 180       | 3550      | female    | 2007      |\n",
       "| Adelie    | Dream     | 39.8      | 19.1      | 184       | 4650      | male      | 2007      |\n",
       "| Adelie    | Dream     | 40.8      | 18.4      | 195       | 3900      | male      | 2007      |\n",
       "| Adelie    | Dream     | 44.1      | 19.7      | 196       | 4400      | male      | 2007      |\n",
       "| Adelie    | Dream     | 39.6      | 18.8      | 190       | 4600      | male      | 2007      |\n",
       "| Adelie    | Dream     | 41.1      | 19.0      | 182       | 3425      | male      | 2007      |\n",
       "| Adelie    | Dream     | 42.3      | 21.2      | 191       | 4150      | male      | 2007      |\n",
       "| Adelie    | Biscoe    | 39.6      | 17.7      | 186       | 3500      | female    | 2008      |\n",
       "| Adelie    | Biscoe    | 40.1      | 18.9      | 188       | 4300      | male      | 2008      |\n",
       "| Adelie    | Biscoe    | 42.0      | 19.5      | 200       | 4050      | male      | 2008      |\n",
       "| Adelie    | Biscoe    | 41.4      | 18.6      | 191       | 3700      | male      | 2008      |\n",
       "| Adelie    | Biscoe    | 40.6      | 18.8      | 193       | 3800      | male      | 2008      |\n",
       "| Adelie    | Biscoe    | 41.3      | 21.1      | 195       | 4400      | male      | 2008      |\n",
       "| Adelie    | Biscoe    | 41.1      | 18.2      | 192       | 4050      | male      | 2008      |\n",
       "| Adelie    | Biscoe    | 41.6      | 18.0      | 192       | 3950      | male      | 2008      |\n",
       "| ... | ... | ... | ... | ... | ... | ... | ... |\n",
       "| Adelie    | Dream     | 39.2      | 18.6      | 190       | 4250      | male      | 2009      |\n",
       "| Adelie    | Dream     | 41.5      | 18.5      | 201       | 4000      | male      | 2009      |\n",
       "| Gentoo    | Biscoe    | 43.3      | 13.4      | 209       | 4400      | female    | 2007      |\n",
       "| Gentoo    | Biscoe    | 40.9      | 13.7      | 214       | 4650      | female    | 2007      |\n",
       "| Gentoo    | Biscoe    | 42.0      | 13.5      | 210       | 4150      | female    | 2007      |\n",
       "| Gentoo    | Biscoe    | 42.9      | 13.1      | 215       | 5000      | female    | 2007      |\n",
       "| Gentoo    | Biscoe    | 44.5      | 14.3      | 216       | 4100      | NA        | 2007      |\n",
       "| Gentoo    | Biscoe    | 42.8      | 14.2      | 209       | 4700      | female    | 2007      |\n",
       "| Gentoo    | Biscoe    | 42.6      | 13.7      | 213       | 4950      | female    | 2008      |\n",
       "| Gentoo    | Biscoe    | 44.4      | 17.3      | 219       | 5250      | male      | 2008      |\n",
       "| Gentoo    | Biscoe    | 44.0      | 13.6      | 208       | 4350      | female    | 2008      |\n",
       "| Gentoo    | Biscoe    | 42.7      | 13.7      | 208       | 3950      | female    | 2008      |\n",
       "| Gentoo    | Biscoe    | 43.6      | 13.9      | 217       | 4900      | female    | 2008      |\n",
       "| Gentoo    | Biscoe    | 44.9      | 13.3      | 213       | 5100      | female    | 2008      |\n",
       "| Gentoo    | Biscoe    | 43.8      | 13.9      | 208       | 4300      | female    | 2008      |\n",
       "| Gentoo    | Biscoe    | 43.2      | 14.5      | 208       | 4450      | female    | 2008      |\n",
       "| Gentoo    | Biscoe    | 43.5      | 14.2      | 220       | 4700      | female    | 2008      |\n",
       "| Gentoo    | Biscoe    | 44.9      | 13.8      | 212       | 4750      | female    | 2009      |\n",
       "| Gentoo    | Biscoe    | 43.4      | 14.4      | 218       | 4600      | female    | 2009      |\n",
       "| Gentoo    | Biscoe    | 44.5      | 14.7      | 214       | 4850      | female    | 2009      |\n",
       "| Gentoo    | Biscoe    | 41.7      | 14.7      | 210       | 4700      | female    | 2009      |\n",
       "| Gentoo    | Biscoe    | 43.3      | 14.0      | 208       | 4575      | female    | 2009      |\n",
       "| Gentoo    | Biscoe    | 43.5      | 15.2      | 213       | 4650      | female    | 2009      |\n",
       "| Gentoo    | Biscoe    | 44.5      | 15.7      | 217       | 4875      | NA        | 2009      |\n",
       "| Chinstrap | Dream     | 42.4      | 17.3      | 181       | 3600      | female    | 2007      |\n",
       "| Chinstrap | Dream     | 43.2      | 16.6      | 187       | 2900      | female    | 2007      |\n",
       "| Chinstrap | Dream     | 40.9      | 16.6      | 187       | 3200      | female    | 2008      |\n",
       "| Chinstrap | Dream     | 42.5      | 16.7      | 187       | 3350      | female    | 2008      |\n",
       "| Chinstrap | Dream     | 42.5      | 17.3      | 187       | 3350      | female    | 2009      |\n",
       "| Chinstrap | Dream     | 43.5      | 18.1      | 202       | 3400      | female    | 2009      |\n",
       "\n"
      ],
      "text/plain": [
       "    species   island    bill_length_mm bill_depth_mm flipper_length_mm\n",
       "1   Adelie    Torgersen 39.1           18.7          181              \n",
       "2   Adelie    Torgersen 39.5           17.4          186              \n",
       "3   Adelie    Torgersen 40.3           18.0          195              \n",
       "4   Adelie    Torgersen 39.3           20.6          190              \n",
       "5   Adelie    Torgersen 39.2           19.6          195              \n",
       "6   Adelie    Torgersen 42.0           20.2          190              \n",
       "7   Adelie    Torgersen 41.1           17.6          182              \n",
       "8   Adelie    Torgersen 42.5           20.7          197              \n",
       "9   Adelie    Biscoe    40.6           18.6          183              \n",
       "10  Adelie    Biscoe    40.5           17.9          187              \n",
       "11  Adelie    Biscoe    40.5           18.9          180              \n",
       "12  Adelie    Dream     39.5           16.7          178              \n",
       "13  Adelie    Dream     39.5           17.8          188              \n",
       "14  Adelie    Dream     40.9           18.9          184              \n",
       "15  Adelie    Dream     39.2           21.1          196              \n",
       "16  Adelie    Dream     42.2           18.5          180              \n",
       "17  Adelie    Dream     39.8           19.1          184              \n",
       "18  Adelie    Dream     40.8           18.4          195              \n",
       "19  Adelie    Dream     44.1           19.7          196              \n",
       "20  Adelie    Dream     39.6           18.8          190              \n",
       "21  Adelie    Dream     41.1           19.0          182              \n",
       "22  Adelie    Dream     42.3           21.2          191              \n",
       "23  Adelie    Biscoe    39.6           17.7          186              \n",
       "24  Adelie    Biscoe    40.1           18.9          188              \n",
       "25  Adelie    Biscoe    42.0           19.5          200              \n",
       "26  Adelie    Biscoe    41.4           18.6          191              \n",
       "27  Adelie    Biscoe    40.6           18.8          193              \n",
       "28  Adelie    Biscoe    41.3           21.1          195              \n",
       "29  Adelie    Biscoe    41.1           18.2          192              \n",
       "30  Adelie    Biscoe    41.6           18.0          192              \n",
       "... ...       ...       ...            ...           ...              \n",
       "65  Adelie    Dream     39.2           18.6          190              \n",
       "66  Adelie    Dream     41.5           18.5          201              \n",
       "67  Gentoo    Biscoe    43.3           13.4          209              \n",
       "68  Gentoo    Biscoe    40.9           13.7          214              \n",
       "69  Gentoo    Biscoe    42.0           13.5          210              \n",
       "70  Gentoo    Biscoe    42.9           13.1          215              \n",
       "71  Gentoo    Biscoe    44.5           14.3          216              \n",
       "72  Gentoo    Biscoe    42.8           14.2          209              \n",
       "73  Gentoo    Biscoe    42.6           13.7          213              \n",
       "74  Gentoo    Biscoe    44.4           17.3          219              \n",
       "75  Gentoo    Biscoe    44.0           13.6          208              \n",
       "76  Gentoo    Biscoe    42.7           13.7          208              \n",
       "77  Gentoo    Biscoe    43.6           13.9          217              \n",
       "78  Gentoo    Biscoe    44.9           13.3          213              \n",
       "79  Gentoo    Biscoe    43.8           13.9          208              \n",
       "80  Gentoo    Biscoe    43.2           14.5          208              \n",
       "81  Gentoo    Biscoe    43.5           14.2          220              \n",
       "82  Gentoo    Biscoe    44.9           13.8          212              \n",
       "83  Gentoo    Biscoe    43.4           14.4          218              \n",
       "84  Gentoo    Biscoe    44.5           14.7          214              \n",
       "85  Gentoo    Biscoe    41.7           14.7          210              \n",
       "86  Gentoo    Biscoe    43.3           14.0          208              \n",
       "87  Gentoo    Biscoe    43.5           15.2          213              \n",
       "88  Gentoo    Biscoe    44.5           15.7          217              \n",
       "89  Chinstrap Dream     42.4           17.3          181              \n",
       "90  Chinstrap Dream     43.2           16.6          187              \n",
       "91  Chinstrap Dream     40.9           16.6          187              \n",
       "92  Chinstrap Dream     42.5           16.7          187              \n",
       "93  Chinstrap Dream     42.5           17.3          187              \n",
       "94  Chinstrap Dream     43.5           18.1          202              \n",
       "    body_mass_g sex    year\n",
       "1   3750        male   2007\n",
       "2   3800        female 2007\n",
       "3   3250        female 2007\n",
       "4   3650        male   2007\n",
       "5   4675        male   2007\n",
       "6   4250        NA     2007\n",
       "7   3200        female 2007\n",
       "8   4500        male   2007\n",
       "9   3550        male   2007\n",
       "10  3200        female 2007\n",
       "11  3950        male   2007\n",
       "12  3250        female 2007\n",
       "13  3300        female 2007\n",
       "14  3900        male   2007\n",
       "15  4150        male   2007\n",
       "16  3550        female 2007\n",
       "17  4650        male   2007\n",
       "18  3900        male   2007\n",
       "19  4400        male   2007\n",
       "20  4600        male   2007\n",
       "21  3425        male   2007\n",
       "22  4150        male   2007\n",
       "23  3500        female 2008\n",
       "24  4300        male   2008\n",
       "25  4050        male   2008\n",
       "26  3700        male   2008\n",
       "27  3800        male   2008\n",
       "28  4400        male   2008\n",
       "29  4050        male   2008\n",
       "30  3950        male   2008\n",
       "... ...         ...    ... \n",
       "65  4250        male   2009\n",
       "66  4000        male   2009\n",
       "67  4400        female 2007\n",
       "68  4650        female 2007\n",
       "69  4150        female 2007\n",
       "70  5000        female 2007\n",
       "71  4100        NA     2007\n",
       "72  4700        female 2007\n",
       "73  4950        female 2008\n",
       "74  5250        male   2008\n",
       "75  4350        female 2008\n",
       "76  3950        female 2008\n",
       "77  4900        female 2008\n",
       "78  5100        female 2008\n",
       "79  4300        female 2008\n",
       "80  4450        female 2008\n",
       "81  4700        female 2008\n",
       "82  4750        female 2009\n",
       "83  4600        female 2009\n",
       "84  4850        female 2009\n",
       "85  4700        female 2009\n",
       "86  4575        female 2009\n",
       "87  4650        female 2009\n",
       "88  4875        NA     2009\n",
       "89  3600        female 2007\n",
       "90  2900        female 2007\n",
       "91  3200        female 2008\n",
       "92  3350        female 2008\n",
       "93  3350        female 2009\n",
       "94  3400        female 2009"
      ]
     },
     "metadata": {},
     "output_type": "display_data"
    }
   ],
   "source": [
    "bill"
   ]
  },
  {
   "cell_type": "code",
   "execution_count": 34,
   "metadata": {},
   "outputs": [
    {
     "data": {
      "text/html": [
       "<table>\n",
       "<thead><tr><th scope=col>species</th><th scope=col>island</th><th scope=col>bill_length_mm</th><th scope=col>bill_depth_mm</th><th scope=col>flipper_length_mm</th><th scope=col>body_mass_g</th><th scope=col>sex</th><th scope=col>year</th></tr></thead>\n",
       "<tbody>\n",
       "\t<tr><td>Adelie   </td><td>Torgersen</td><td>39.1     </td><td>18.7     </td><td>181      </td><td>3750     </td><td>male     </td><td>2007     </td></tr>\n",
       "\t<tr><td>Adelie   </td><td>Torgersen</td><td>39.5     </td><td>17.4     </td><td>186      </td><td>3800     </td><td>female   </td><td>2007     </td></tr>\n",
       "\t<tr><td>Adelie   </td><td>Torgersen</td><td>40.3     </td><td>18.0     </td><td>195      </td><td>3250     </td><td>female   </td><td>2007     </td></tr>\n",
       "\t<tr><td>Adelie   </td><td>Torgersen</td><td>39.3     </td><td>20.6     </td><td>190      </td><td>3650     </td><td>male     </td><td>2007     </td></tr>\n",
       "\t<tr><td>Adelie   </td><td>Torgersen</td><td>39.2     </td><td>19.6     </td><td>195      </td><td>4675     </td><td>male     </td><td>2007     </td></tr>\n",
       "\t<tr><td>Adelie   </td><td>Torgersen</td><td>42.0     </td><td>20.2     </td><td>190      </td><td>4250     </td><td>NA       </td><td>2007     </td></tr>\n",
       "\t<tr><td>Adelie   </td><td>Torgersen</td><td>41.1     </td><td>17.6     </td><td>182      </td><td>3200     </td><td>female   </td><td>2007     </td></tr>\n",
       "\t<tr><td>Adelie   </td><td>Torgersen</td><td>42.5     </td><td>20.7     </td><td>197      </td><td>4500     </td><td>male     </td><td>2007     </td></tr>\n",
       "\t<tr><td>Adelie   </td><td>Biscoe   </td><td>40.6     </td><td>18.6     </td><td>183      </td><td>3550     </td><td>male     </td><td>2007     </td></tr>\n",
       "\t<tr><td>Adelie   </td><td>Biscoe   </td><td>40.5     </td><td>17.9     </td><td>187      </td><td>3200     </td><td>female   </td><td>2007     </td></tr>\n",
       "</tbody>\n",
       "</table>\n"
      ],
      "text/latex": [
       "\\begin{tabular}{r|llllllll}\n",
       " species & island & bill\\_length\\_mm & bill\\_depth\\_mm & flipper\\_length\\_mm & body\\_mass\\_g & sex & year\\\\\n",
       "\\hline\n",
       "\t Adelie    & Torgersen & 39.1      & 18.7      & 181       & 3750      & male      & 2007     \\\\\n",
       "\t Adelie    & Torgersen & 39.5      & 17.4      & 186       & 3800      & female    & 2007     \\\\\n",
       "\t Adelie    & Torgersen & 40.3      & 18.0      & 195       & 3250      & female    & 2007     \\\\\n",
       "\t Adelie    & Torgersen & 39.3      & 20.6      & 190       & 3650      & male      & 2007     \\\\\n",
       "\t Adelie    & Torgersen & 39.2      & 19.6      & 195       & 4675      & male      & 2007     \\\\\n",
       "\t Adelie    & Torgersen & 42.0      & 20.2      & 190       & 4250      & NA        & 2007     \\\\\n",
       "\t Adelie    & Torgersen & 41.1      & 17.6      & 182       & 3200      & female    & 2007     \\\\\n",
       "\t Adelie    & Torgersen & 42.5      & 20.7      & 197       & 4500      & male      & 2007     \\\\\n",
       "\t Adelie    & Biscoe    & 40.6      & 18.6      & 183       & 3550      & male      & 2007     \\\\\n",
       "\t Adelie    & Biscoe    & 40.5      & 17.9      & 187       & 3200      & female    & 2007     \\\\\n",
       "\\end{tabular}\n"
      ],
      "text/markdown": [
       "\n",
       "| species | island | bill_length_mm | bill_depth_mm | flipper_length_mm | body_mass_g | sex | year |\n",
       "|---|---|---|---|---|---|---|---|\n",
       "| Adelie    | Torgersen | 39.1      | 18.7      | 181       | 3750      | male      | 2007      |\n",
       "| Adelie    | Torgersen | 39.5      | 17.4      | 186       | 3800      | female    | 2007      |\n",
       "| Adelie    | Torgersen | 40.3      | 18.0      | 195       | 3250      | female    | 2007      |\n",
       "| Adelie    | Torgersen | 39.3      | 20.6      | 190       | 3650      | male      | 2007      |\n",
       "| Adelie    | Torgersen | 39.2      | 19.6      | 195       | 4675      | male      | 2007      |\n",
       "| Adelie    | Torgersen | 42.0      | 20.2      | 190       | 4250      | NA        | 2007      |\n",
       "| Adelie    | Torgersen | 41.1      | 17.6      | 182       | 3200      | female    | 2007      |\n",
       "| Adelie    | Torgersen | 42.5      | 20.7      | 197       | 4500      | male      | 2007      |\n",
       "| Adelie    | Biscoe    | 40.6      | 18.6      | 183       | 3550      | male      | 2007      |\n",
       "| Adelie    | Biscoe    | 40.5      | 17.9      | 187       | 3200      | female    | 2007      |\n",
       "\n"
      ],
      "text/plain": [
       "   species island    bill_length_mm bill_depth_mm flipper_length_mm body_mass_g\n",
       "1  Adelie  Torgersen 39.1           18.7          181               3750       \n",
       "2  Adelie  Torgersen 39.5           17.4          186               3800       \n",
       "3  Adelie  Torgersen 40.3           18.0          195               3250       \n",
       "4  Adelie  Torgersen 39.3           20.6          190               3650       \n",
       "5  Adelie  Torgersen 39.2           19.6          195               4675       \n",
       "6  Adelie  Torgersen 42.0           20.2          190               4250       \n",
       "7  Adelie  Torgersen 41.1           17.6          182               3200       \n",
       "8  Adelie  Torgersen 42.5           20.7          197               4500       \n",
       "9  Adelie  Biscoe    40.6           18.6          183               3550       \n",
       "10 Adelie  Biscoe    40.5           17.9          187               3200       \n",
       "   sex    year\n",
       "1  male   2007\n",
       "2  female 2007\n",
       "3  female 2007\n",
       "4  male   2007\n",
       "5  male   2007\n",
       "6  NA     2007\n",
       "7  female 2007\n",
       "8  male   2007\n",
       "9  male   2007\n",
       "10 female 2007"
      ]
     },
     "metadata": {},
     "output_type": "display_data"
    }
   ],
   "source": [
    "head(bill,10)"
   ]
  },
  {
   "cell_type": "markdown",
   "metadata": {},
   "source": [
    "### 9.Factor in R"
   ]
  },
  {
   "cell_type": "code",
   "execution_count": 35,
   "metadata": {},
   "outputs": [
    {
     "data": {
      "text/html": [
       "'character'"
      ],
      "text/latex": [
       "'character'"
      ],
      "text/markdown": [
       "'character'"
      ],
      "text/plain": [
       "[1] \"character\""
      ]
     },
     "metadata": {},
     "output_type": "display_data"
    },
    {
     "data": {
      "text/html": [
       "'factor'"
      ],
      "text/latex": [
       "'factor'"
      ],
      "text/markdown": [
       "'factor'"
      ],
      "text/plain": [
       "[1] \"factor\""
      ]
     },
     "metadata": {},
     "output_type": "display_data"
    }
   ],
   "source": [
    "# Create gender vector\n",
    "gender_vector <- c(\"Male\", \"Female\", \"Female\", \"Male\", \"Male\")\n",
    "class(gender_vector)\n",
    "# Convert gender_vector to a factor\n",
    "factor_gender_vector <-factor(gender_vector)\n",
    "class(factor_gender_vector)"
   ]
  },
  {
   "cell_type": "code",
   "execution_count": 36,
   "metadata": {},
   "outputs": [
    {
     "data": {
      "text/html": [
       "<ol class=list-inline>\n",
       "\t<li>evening</li>\n",
       "\t<li>morning</li>\n",
       "\t<li>afternoon</li>\n",
       "\t<li>midday</li>\n",
       "\t<li>midnight</li>\n",
       "\t<li>evening</li>\n",
       "</ol>\n",
       "\n",
       "<details>\n",
       "\t<summary style=display:list-item;cursor:pointer>\n",
       "\t\t<strong>Levels</strong>:\n",
       "\t</summary>\n",
       "\t<ol class=list-inline>\n",
       "\t\t<li>'morning'</li>\n",
       "\t\t<li>'midday'</li>\n",
       "\t\t<li>'afternoon'</li>\n",
       "\t\t<li>'evening'</li>\n",
       "\t\t<li>'midnight'</li>\n",
       "\t</ol>\n",
       "</details>"
      ],
      "text/latex": [
       "\\begin{enumerate*}\n",
       "\\item evening\n",
       "\\item morning\n",
       "\\item afternoon\n",
       "\\item midday\n",
       "\\item midnight\n",
       "\\item evening\n",
       "\\end{enumerate*}\n",
       "\n",
       "\\emph{Levels}: \\begin{enumerate*}\n",
       "\\item 'morning'\n",
       "\\item 'midday'\n",
       "\\item 'afternoon'\n",
       "\\item 'evening'\n",
       "\\item 'midnight'\n",
       "\\end{enumerate*}\n"
      ],
      "text/markdown": [
       "1. evening\n",
       "2. morning\n",
       "3. afternoon\n",
       "4. midday\n",
       "5. midnight\n",
       "6. evening\n",
       "\n",
       "\n",
       "\n",
       "**Levels**: 1. 'morning'\n",
       "2. 'midday'\n",
       "3. 'afternoon'\n",
       "4. 'evening'\n",
       "5. 'midnight'\n",
       "\n",
       "\n"
      ],
      "text/plain": [
       "[1] evening   morning   afternoon midday    midnight  evening  \n",
       "Levels: morning < midday < afternoon < evening < midnight"
      ]
     },
     "metadata": {},
     "output_type": "display_data"
    }
   ],
   "source": [
    "day_vector <- c('evening', 'morning', 'afternoon', 'midday', 'midnight', 'evening')\n",
    "# Convert `day_vector` to a factor with ordered level\n",
    "factor_day <- factor(day_vector, order = TRUE, levels =c('morning', 'midday', 'afternoon', 'evening', 'midnight'))\n",
    "# Print the new variable\n",
    "factor_day"
   ]
  },
  {
   "cell_type": "code",
   "execution_count": 37,
   "metadata": {},
   "outputs": [
    {
     "data": {
      "text/html": [
       "<dl class=dl-horizontal>\n",
       "\t<dt>morning</dt>\n",
       "\t\t<dd>1</dd>\n",
       "\t<dt>midday</dt>\n",
       "\t\t<dd>1</dd>\n",
       "\t<dt>afternoon</dt>\n",
       "\t\t<dd>1</dd>\n",
       "\t<dt>evening</dt>\n",
       "\t\t<dd>2</dd>\n",
       "\t<dt>midnight</dt>\n",
       "\t\t<dd>1</dd>\n",
       "</dl>\n"
      ],
      "text/latex": [
       "\\begin{description*}\n",
       "\\item[morning] 1\n",
       "\\item[midday] 1\n",
       "\\item[afternoon] 1\n",
       "\\item[evening] 2\n",
       "\\item[midnight] 1\n",
       "\\end{description*}\n"
      ],
      "text/markdown": [
       "morning\n",
       ":   1midday\n",
       ":   1afternoon\n",
       ":   1evening\n",
       ":   2midnight\n",
       ":   1\n",
       "\n"
      ],
      "text/plain": [
       "  morning    midday afternoon   evening  midnight \n",
       "        1         1         1         2         1 "
      ]
     },
     "metadata": {},
     "output_type": "display_data"
    }
   ],
   "source": [
    "summary(factor_day)"
   ]
  },
  {
   "cell_type": "markdown",
   "metadata": {},
   "source": [
    "### 10. cbind function()"
   ]
  },
  {
   "cell_type": "markdown",
   "metadata": {},
   "source": [
    "A common data manipulation task in R involves merging two data frames together. One of the simplest ways to do this is with the cbind function. The cbind function – short for column bind – is a merge function that can be used to combine two data frames with the same number of multiple rows into a single data frame"
   ]
  },
  {
   "cell_type": "code",
   "execution_count": 38,
   "metadata": {},
   "outputs": [],
   "source": [
    "bevs <- data.frame(cbind(name = c(\"Bill\", \"Llib\"), \n",
    "                         drink = c(\"coffee\", \"tea\", \"cocoa\", \"water\"),\n",
    "                         cost = seq(1:8)))\n",
    "bevs$cost <- as.integer(bevs$cost)"
   ]
  },
  {
   "cell_type": "markdown",
   "metadata": {},
   "source": [
    "as.integer for object of class truncates decimal part of image values and then converts to type integer."
   ]
  },
  {
   "cell_type": "code",
   "execution_count": 39,
   "metadata": {},
   "outputs": [
    {
     "data": {
      "text/html": [
       "<table>\n",
       "<thead><tr><th scope=col>name</th><th scope=col>drink</th><th scope=col>cost</th></tr></thead>\n",
       "<tbody>\n",
       "\t<tr><td>Bill  </td><td>coffee</td><td>1     </td></tr>\n",
       "\t<tr><td>Llib  </td><td>tea   </td><td>2     </td></tr>\n",
       "\t<tr><td>Bill  </td><td>cocoa </td><td>3     </td></tr>\n",
       "\t<tr><td>Llib  </td><td>water </td><td>4     </td></tr>\n",
       "\t<tr><td>Bill  </td><td>coffee</td><td>5     </td></tr>\n",
       "\t<tr><td>Llib  </td><td>tea   </td><td>6     </td></tr>\n",
       "\t<tr><td>Bill  </td><td>cocoa </td><td>7     </td></tr>\n",
       "\t<tr><td>Llib  </td><td>water </td><td>8     </td></tr>\n",
       "</tbody>\n",
       "</table>\n"
      ],
      "text/latex": [
       "\\begin{tabular}{r|lll}\n",
       " name & drink & cost\\\\\n",
       "\\hline\n",
       "\t Bill   & coffee & 1     \\\\\n",
       "\t Llib   & tea    & 2     \\\\\n",
       "\t Bill   & cocoa  & 3     \\\\\n",
       "\t Llib   & water  & 4     \\\\\n",
       "\t Bill   & coffee & 5     \\\\\n",
       "\t Llib   & tea    & 6     \\\\\n",
       "\t Bill   & cocoa  & 7     \\\\\n",
       "\t Llib   & water  & 8     \\\\\n",
       "\\end{tabular}\n"
      ],
      "text/markdown": [
       "\n",
       "| name | drink | cost |\n",
       "|---|---|---|\n",
       "| Bill   | coffee | 1      |\n",
       "| Llib   | tea    | 2      |\n",
       "| Bill   | cocoa  | 3      |\n",
       "| Llib   | water  | 4      |\n",
       "| Bill   | coffee | 5      |\n",
       "| Llib   | tea    | 6      |\n",
       "| Bill   | cocoa  | 7      |\n",
       "| Llib   | water  | 8      |\n",
       "\n"
      ],
      "text/plain": [
       "  name drink  cost\n",
       "1 Bill coffee 1   \n",
       "2 Llib tea    2   \n",
       "3 Bill cocoa  3   \n",
       "4 Llib water  4   \n",
       "5 Bill coffee 5   \n",
       "6 Llib tea    6   \n",
       "7 Bill cocoa  7   \n",
       "8 Llib water  8   "
      ]
     },
     "metadata": {},
     "output_type": "display_data"
    }
   ],
   "source": [
    "bevs"
   ]
  },
  {
   "cell_type": "markdown",
   "metadata": {},
   "source": [
    "### 11. Count()"
   ]
  },
  {
   "cell_type": "code",
   "execution_count": 40,
   "metadata": {},
   "outputs": [
    {
     "name": "stderr",
     "output_type": "stream",
     "text": [
      "------------------------------------------------------------------------------\n",
      "You have loaded plyr after dplyr - this is likely to cause problems.\n",
      "If you need functions from both plyr and dplyr, please load plyr first, then dplyr:\n",
      "library(plyr); library(dplyr)\n",
      "------------------------------------------------------------------------------\n",
      "\n",
      "Attaching package: 'plyr'\n",
      "\n",
      "The following objects are masked from 'package:dplyr':\n",
      "\n",
      "    arrange, count, desc, failwith, id, mutate, rename, summarise,\n",
      "    summarize\n",
      "\n",
      "The following object is masked from 'package:purrr':\n",
      "\n",
      "    compact\n",
      "\n"
     ]
    }
   ],
   "source": [
    "library(plyr)"
   ]
  },
  {
   "cell_type": "code",
   "execution_count": 41,
   "metadata": {},
   "outputs": [
    {
     "data": {
      "text/html": [
       "<table>\n",
       "<thead><tr><th scope=col>name</th><th scope=col>freq</th></tr></thead>\n",
       "<tbody>\n",
       "\t<tr><td>Bill</td><td>4   </td></tr>\n",
       "\t<tr><td>Llib</td><td>4   </td></tr>\n",
       "</tbody>\n",
       "</table>\n"
      ],
      "text/latex": [
       "\\begin{tabular}{r|ll}\n",
       " name & freq\\\\\n",
       "\\hline\n",
       "\t Bill & 4   \\\\\n",
       "\t Llib & 4   \\\\\n",
       "\\end{tabular}\n"
      ],
      "text/markdown": [
       "\n",
       "| name | freq |\n",
       "|---|---|\n",
       "| Bill | 4    |\n",
       "| Llib | 4    |\n",
       "\n"
      ],
      "text/plain": [
       "  name freq\n",
       "1 Bill 4   \n",
       "2 Llib 4   "
      ]
     },
     "metadata": {},
     "output_type": "display_data"
    }
   ],
   "source": [
    "count(bevs,\"name\")"
   ]
  },
  {
   "cell_type": "code",
   "execution_count": 42,
   "metadata": {},
   "outputs": [
    {
     "data": {
      "text/html": [
       "<table>\n",
       "<thead><tr><th scope=col>name</th><th scope=col>drink</th><th scope=col>freq</th></tr></thead>\n",
       "<tbody>\n",
       "\t<tr><td>Bill  </td><td>cocoa </td><td>2     </td></tr>\n",
       "\t<tr><td>Bill  </td><td>coffee</td><td>2     </td></tr>\n",
       "\t<tr><td>Llib  </td><td>tea   </td><td>2     </td></tr>\n",
       "\t<tr><td>Llib  </td><td>water </td><td>2     </td></tr>\n",
       "</tbody>\n",
       "</table>\n"
      ],
      "text/latex": [
       "\\begin{tabular}{r|lll}\n",
       " name & drink & freq\\\\\n",
       "\\hline\n",
       "\t Bill   & cocoa  & 2     \\\\\n",
       "\t Bill   & coffee & 2     \\\\\n",
       "\t Llib   & tea    & 2     \\\\\n",
       "\t Llib   & water  & 2     \\\\\n",
       "\\end{tabular}\n"
      ],
      "text/markdown": [
       "\n",
       "| name | drink | freq |\n",
       "|---|---|---|\n",
       "| Bill   | cocoa  | 2      |\n",
       "| Bill   | coffee | 2      |\n",
       "| Llib   | tea    | 2      |\n",
       "| Llib   | water  | 2      |\n",
       "\n"
      ],
      "text/plain": [
       "  name drink  freq\n",
       "1 Bill cocoa  2   \n",
       "2 Bill coffee 2   \n",
       "3 Llib tea    2   \n",
       "4 Llib water  2   "
      ]
     },
     "metadata": {},
     "output_type": "display_data"
    }
   ],
   "source": [
    "count(bevs,c(\"name\",\"drink\"))"
   ]
  },
  {
   "cell_type": "code",
   "execution_count": 43,
   "metadata": {},
   "outputs": [],
   "source": [
    "cars <- data.frame(cbind(name = c(\"BMW\",\"AUDI\",\"MERCIDES\",\"HONDA\"),\n",
    "                        model = c(2000,2003,2004,2005),\n",
    "                        gear = c(3,4,5,6),\n",
    "                        cyl = c(4,6,6,4),\n",
    "                        freq = c(3,4,5,6)))"
   ]
  },
  {
   "cell_type": "code",
   "execution_count": 44,
   "metadata": {},
   "outputs": [],
   "source": [
    "cars$gear <- as.integer(cars$gear)"
   ]
  },
  {
   "cell_type": "code",
   "execution_count": 45,
   "metadata": {},
   "outputs": [],
   "source": [
    "cars$cyl <- as.integer(cars$cyl)\n",
    "cars$freq <- as.integer(cars$freq)"
   ]
  },
  {
   "cell_type": "code",
   "execution_count": 46,
   "metadata": {},
   "outputs": [
    {
     "name": "stderr",
     "output_type": "stream",
     "text": [
      "Using freq as weighting variable\n"
     ]
    }
   ],
   "source": [
    "x = count(cars,c('cyl','gear'))"
   ]
  },
  {
   "cell_type": "code",
   "execution_count": 47,
   "metadata": {},
   "outputs": [
    {
     "data": {
      "text/html": [
       "<table>\n",
       "<thead><tr><th scope=col>cyl</th><th scope=col>gear</th><th scope=col>freq</th></tr></thead>\n",
       "<tbody>\n",
       "\t<tr><td>1</td><td>1</td><td>1</td></tr>\n",
       "\t<tr><td>1</td><td>4</td><td>4</td></tr>\n",
       "\t<tr><td>2</td><td>2</td><td>2</td></tr>\n",
       "\t<tr><td>2</td><td>3</td><td>3</td></tr>\n",
       "</tbody>\n",
       "</table>\n"
      ],
      "text/latex": [
       "\\begin{tabular}{r|lll}\n",
       " cyl & gear & freq\\\\\n",
       "\\hline\n",
       "\t 1 & 1 & 1\\\\\n",
       "\t 1 & 4 & 4\\\\\n",
       "\t 2 & 2 & 2\\\\\n",
       "\t 2 & 3 & 3\\\\\n",
       "\\end{tabular}\n"
      ],
      "text/markdown": [
       "\n",
       "| cyl | gear | freq |\n",
       "|---|---|---|\n",
       "| 1 | 1 | 1 |\n",
       "| 1 | 4 | 4 |\n",
       "| 2 | 2 | 2 |\n",
       "| 2 | 3 | 3 |\n",
       "\n"
      ],
      "text/plain": [
       "  cyl gear freq\n",
       "1 1   1    1   \n",
       "2 1   4    4   \n",
       "3 2   2    2   \n",
       "4 2   3    3   "
      ]
     },
     "metadata": {},
     "output_type": "display_data"
    }
   ],
   "source": [
    "x"
   ]
  },
  {
   "cell_type": "markdown",
   "metadata": {},
   "source": [
    "### 12. Subset()"
   ]
  },
  {
   "cell_type": "code",
   "execution_count": 48,
   "metadata": {},
   "outputs": [],
   "source": [
    "mydata <- data.frame(cbind(gender = c(\"Man\" ,\"Man\", \"Man\" ,\"Man\" ),\n",
    "                          Language = c(\"HTML/CSS;Java;JavaScript;Python\", \"C++;HTML/CSS;Python\", \"HTML/CSS\", \"C;C++;C#;Python;SQL\"),\n",
    "                          Hobbyist = c(\"Yes\",\"No\",\"Yes\" ,\"No\" ),\n",
    "                          Langgroup = c(\"Python\" ,\"Python\", \"Neither\", \"Python\")))"
   ]
  },
  {
   "cell_type": "code",
   "execution_count": 49,
   "metadata": {},
   "outputs": [
    {
     "data": {
      "text/html": [
       "<table>\n",
       "<thead><tr><th scope=col>gender</th><th scope=col>Language</th><th scope=col>Hobbyist</th><th scope=col>Langgroup</th></tr></thead>\n",
       "<tbody>\n",
       "\t<tr><td>Man                            </td><td>HTML/CSS;Java;JavaScript;Python</td><td>Yes                            </td><td>Python                         </td></tr>\n",
       "\t<tr><td>Man                            </td><td>C++;HTML/CSS;Python            </td><td>No                             </td><td>Python                         </td></tr>\n",
       "\t<tr><td>Man                            </td><td>HTML/CSS                       </td><td>Yes                            </td><td>Neither                        </td></tr>\n",
       "\t<tr><td>Man                            </td><td>C;C++;C#;Python;SQL            </td><td>No                             </td><td>Python                         </td></tr>\n",
       "</tbody>\n",
       "</table>\n"
      ],
      "text/latex": [
       "\\begin{tabular}{r|llll}\n",
       " gender & Language & Hobbyist & Langgroup\\\\\n",
       "\\hline\n",
       "\t Man                             & HTML/CSS;Java;JavaScript;Python & Yes                             & Python                         \\\\\n",
       "\t Man                             & C++;HTML/CSS;Python             & No                              & Python                         \\\\\n",
       "\t Man                             & HTML/CSS                        & Yes                             & Neither                        \\\\\n",
       "\t Man                               & C;C++;C\\#;Python;SQL             & No                                & Python                           \\\\\n",
       "\\end{tabular}\n"
      ],
      "text/markdown": [
       "\n",
       "| gender | Language | Hobbyist | Langgroup |\n",
       "|---|---|---|---|\n",
       "| Man                             | HTML/CSS;Java;JavaScript;Python | Yes                             | Python                          |\n",
       "| Man                             | C++;HTML/CSS;Python             | No                              | Python                          |\n",
       "| Man                             | HTML/CSS                        | Yes                             | Neither                         |\n",
       "| Man                             | C;C++;C#;Python;SQL             | No                              | Python                          |\n",
       "\n"
      ],
      "text/plain": [
       "  gender Language                        Hobbyist Langgroup\n",
       "1 Man    HTML/CSS;Java;JavaScript;Python Yes      Python   \n",
       "2 Man    C++;HTML/CSS;Python             No       Python   \n",
       "3 Man    HTML/CSS                        Yes      Neither  \n",
       "4 Man    C;C++;C#;Python;SQL             No       Python   "
      ]
     },
     "metadata": {},
     "output_type": "display_data"
    }
   ],
   "source": [
    "mydata"
   ]
  },
  {
   "cell_type": "code",
   "execution_count": 50,
   "metadata": {},
   "outputs": [
    {
     "data": {
      "text/html": [
       "<table>\n",
       "<thead><tr><th scope=col>Language</th></tr></thead>\n",
       "<tbody>\n",
       "\t<tr><td>HTML/CSS;Java;JavaScript;Python</td></tr>\n",
       "\t<tr><td>C++;HTML/CSS;Python            </td></tr>\n",
       "\t<tr><td>HTML/CSS                       </td></tr>\n",
       "\t<tr><td>C;C++;C#;Python;SQL            </td></tr>\n",
       "</tbody>\n",
       "</table>\n"
      ],
      "text/latex": [
       "\\begin{tabular}{r|l}\n",
       " Language\\\\\n",
       "\\hline\n",
       "\t HTML/CSS;Java;JavaScript;Python\\\\\n",
       "\t C++;HTML/CSS;Python            \\\\\n",
       "\t HTML/CSS                       \\\\\n",
       "\t C;C++;C\\#;Python;SQL            \\\\\n",
       "\\end{tabular}\n"
      ],
      "text/markdown": [
       "\n",
       "| Language |\n",
       "|---|\n",
       "| HTML/CSS;Java;JavaScript;Python |\n",
       "| C++;HTML/CSS;Python             |\n",
       "| HTML/CSS                        |\n",
       "| C;C++;C#;Python;SQL             |\n",
       "\n"
      ],
      "text/plain": [
       "  Language                       \n",
       "1 HTML/CSS;Java;JavaScript;Python\n",
       "2 C++;HTML/CSS;Python            \n",
       "3 HTML/CSS                       \n",
       "4 C;C++;C#;Python;SQL            "
      ]
     },
     "metadata": {},
     "output_type": "display_data"
    }
   ],
   "source": [
    "subset(mydata,select = \"Language\")"
   ]
  },
  {
   "cell_type": "code",
   "execution_count": 51,
   "metadata": {},
   "outputs": [
    {
     "data": {
      "text/html": [
       "<table>\n",
       "<thead><tr><th scope=col>gender</th></tr></thead>\n",
       "<tbody>\n",
       "\t<tr><td>Man</td></tr>\n",
       "\t<tr><td>Man</td></tr>\n",
       "\t<tr><td>Man</td></tr>\n",
       "\t<tr><td>Man</td></tr>\n",
       "</tbody>\n",
       "</table>\n"
      ],
      "text/latex": [
       "\\begin{tabular}{r|l}\n",
       " gender\\\\\n",
       "\\hline\n",
       "\t Man\\\\\n",
       "\t Man\\\\\n",
       "\t Man\\\\\n",
       "\t Man\\\\\n",
       "\\end{tabular}\n"
      ],
      "text/markdown": [
       "\n",
       "| gender |\n",
       "|---|\n",
       "| Man |\n",
       "| Man |\n",
       "| Man |\n",
       "| Man |\n",
       "\n"
      ],
      "text/plain": [
       "  gender\n",
       "1 Man   \n",
       "2 Man   \n",
       "3 Man   \n",
       "4 Man   "
      ]
     },
     "metadata": {},
     "output_type": "display_data"
    }
   ],
   "source": [
    "subset(mydata,select = \"gender\")"
   ]
  },
  {
   "cell_type": "markdown",
   "metadata": {},
   "source": [
    "# 13.tapply() function"
   ]
  },
  {
   "cell_type": "markdown",
   "metadata": {},
   "source": [
    "tapply() computes a measure (mean, median, min, max, etc..) or a function for each factor variable in a vector. It is a very useful function that lets you create a subset of a vector and then apply some functions to each of the subset."
   ]
  },
  {
   "cell_type": "code",
   "execution_count": 52,
   "metadata": {},
   "outputs": [],
   "source": [
    "salaries <-c(25000,30000,45000,66000,20000,50000,35000,20000,15000)\n",
    "transport <-c('Bus','Car','Bus','Car','Metro','Metro','Bus','Bus','Metro')"
   ]
  },
  {
   "cell_type": "code",
   "execution_count": 53,
   "metadata": {},
   "outputs": [
    {
     "data": {
      "text/html": [
       "<dl class=dl-horizontal>\n",
       "\t<dt>Bus</dt>\n",
       "\t\t<dd>31250</dd>\n",
       "\t<dt>Car</dt>\n",
       "\t\t<dd>48000</dd>\n",
       "\t<dt>Metro</dt>\n",
       "\t\t<dd>28333.3333333333</dd>\n",
       "</dl>\n"
      ],
      "text/latex": [
       "\\begin{description*}\n",
       "\\item[Bus] 31250\n",
       "\\item[Car] 48000\n",
       "\\item[Metro] 28333.3333333333\n",
       "\\end{description*}\n"
      ],
      "text/markdown": [
       "Bus\n",
       ":   31250Car\n",
       ":   48000Metro\n",
       ":   28333.3333333333\n",
       "\n"
      ],
      "text/plain": [
       "     Bus      Car    Metro \n",
       "31250.00 48000.00 28333.33 "
      ]
     },
     "metadata": {},
     "output_type": "display_data"
    }
   ],
   "source": [
    "tapply(salaries,transport,mean)"
   ]
  },
  {
   "cell_type": "markdown",
   "metadata": {},
   "source": [
    "# 14.Sample Function"
   ]
  },
  {
   "cell_type": "code",
   "execution_count": 54,
   "metadata": {},
   "outputs": [],
   "source": [
    "x <- 1:10"
   ]
  },
  {
   "cell_type": "code",
   "execution_count": 55,
   "metadata": {},
   "outputs": [
    {
     "data": {
      "text/html": [
       "<ol class=list-inline>\n",
       "\t<li>6</li>\n",
       "\t<li>5</li>\n",
       "\t<li>2</li>\n",
       "\t<li>10</li>\n",
       "\t<li>4</li>\n",
       "\t<li>8</li>\n",
       "\t<li>7</li>\n",
       "\t<li>1</li>\n",
       "\t<li>9</li>\n",
       "\t<li>3</li>\n",
       "</ol>\n"
      ],
      "text/latex": [
       "\\begin{enumerate*}\n",
       "\\item 6\n",
       "\\item 5\n",
       "\\item 2\n",
       "\\item 10\n",
       "\\item 4\n",
       "\\item 8\n",
       "\\item 7\n",
       "\\item 1\n",
       "\\item 9\n",
       "\\item 3\n",
       "\\end{enumerate*}\n"
      ],
      "text/markdown": [
       "1. 6\n",
       "2. 5\n",
       "3. 2\n",
       "4. 10\n",
       "5. 4\n",
       "6. 8\n",
       "7. 7\n",
       "8. 1\n",
       "9. 9\n",
       "10. 3\n",
       "\n",
       "\n"
      ],
      "text/plain": [
       " [1]  6  5  2 10  4  8  7  1  9  3"
      ]
     },
     "metadata": {},
     "output_type": "display_data"
    }
   ],
   "source": [
    "sample(x)"
   ]
  },
  {
   "cell_type": "markdown",
   "metadata": {},
   "source": [
    "## 15.SPLIT FUNCTION IN"
   ]
  },
  {
   "cell_type": "markdown",
   "metadata": {},
   "source": [
    "The split() function takes a vector or other objects and splits it into groups determined by a factor or list of factors. The basic idea is that you can take a data structure, split it into subsets defined by another variable, and apply a function over those subsets."
   ]
  },
  {
   "cell_type": "code",
   "execution_count": 56,
   "metadata": {},
   "outputs": [],
   "source": [
    "#set.seed(1)\n",
    "x<-runif(20, min=155, max=180) #simulate 20 random heights\n",
    "y<-gl(2, 10, labels = c(\"Male\", \"Female\")) #Generate factors by specifying the pattern of their levels.\n",
    "s<-split(x, y)"
   ]
  },
  {
   "cell_type": "code",
   "execution_count": 57,
   "metadata": {},
   "outputs": [
    {
     "data": {
      "text/html": [
       "<dl>\n",
       "\t<dt>$Male</dt>\n",
       "\t\t<dd><ol class=list-inline>\n",
       "\t<li>169.168956823414</li>\n",
       "\t<li>156.070385443745</li>\n",
       "\t<li>167.001875037095</li>\n",
       "\t<li>162.54004935734</li>\n",
       "\t<li>166.931396217551</li>\n",
       "\t<li>158.254567936528</li>\n",
       "\t<li>169.565433032112</li>\n",
       "\t<li>171.560827073408</li>\n",
       "\t<li>174.60037900717</li>\n",
       "\t<li>156.657639676705</li>\n",
       "</ol>\n",
       "</dd>\n",
       "\t<dt>$Female</dt>\n",
       "\t\t<dd><ol class=list-inline>\n",
       "\t<li>168.484520144993</li>\n",
       "\t<li>169.771203929558</li>\n",
       "\t<li>155.57566962787</li>\n",
       "\t<li>161.028888904257</li>\n",
       "\t<li>170.414389589569</li>\n",
       "\t<li>172.467877507443</li>\n",
       "\t<li>169.824291714467</li>\n",
       "\t<li>169.784227829659</li>\n",
       "\t<li>170.444558707532</li>\n",
       "\t<li>169.423651358811</li>\n",
       "</ol>\n",
       "</dd>\n",
       "</dl>\n"
      ],
      "text/latex": [
       "\\begin{description}\n",
       "\\item[\\$Male] \\begin{enumerate*}\n",
       "\\item 169.168956823414\n",
       "\\item 156.070385443745\n",
       "\\item 167.001875037095\n",
       "\\item 162.54004935734\n",
       "\\item 166.931396217551\n",
       "\\item 158.254567936528\n",
       "\\item 169.565433032112\n",
       "\\item 171.560827073408\n",
       "\\item 174.60037900717\n",
       "\\item 156.657639676705\n",
       "\\end{enumerate*}\n",
       "\n",
       "\\item[\\$Female] \\begin{enumerate*}\n",
       "\\item 168.484520144993\n",
       "\\item 169.771203929558\n",
       "\\item 155.57566962787\n",
       "\\item 161.028888904257\n",
       "\\item 170.414389589569\n",
       "\\item 172.467877507443\n",
       "\\item 169.824291714467\n",
       "\\item 169.784227829659\n",
       "\\item 170.444558707532\n",
       "\\item 169.423651358811\n",
       "\\end{enumerate*}\n",
       "\n",
       "\\end{description}\n"
      ],
      "text/markdown": [
       "$Male\n",
       ":   1. 169.168956823414\n",
       "2. 156.070385443745\n",
       "3. 167.001875037095\n",
       "4. 162.54004935734\n",
       "5. 166.931396217551\n",
       "6. 158.254567936528\n",
       "7. 169.565433032112\n",
       "8. 171.560827073408\n",
       "9. 174.60037900717\n",
       "10. 156.657639676705\n",
       "\n",
       "\n",
       "\n",
       "$Female\n",
       ":   1. 168.484520144993\n",
       "2. 169.771203929558\n",
       "3. 155.57566962787\n",
       "4. 161.028888904257\n",
       "5. 170.414389589569\n",
       "6. 172.467877507443\n",
       "7. 169.824291714467\n",
       "8. 169.784227829659\n",
       "9. 170.444558707532\n",
       "10. 169.423651358811\n",
       "\n",
       "\n",
       "\n",
       "\n",
       "\n"
      ],
      "text/plain": [
       "$Male\n",
       " [1] 169.1690 156.0704 167.0019 162.5400 166.9314 158.2546 169.5654 171.5608\n",
       " [9] 174.6004 156.6576\n",
       "\n",
       "$Female\n",
       " [1] 168.4845 169.7712 155.5757 161.0289 170.4144 172.4679 169.8243 169.7842\n",
       " [9] 170.4446 169.4237\n"
      ]
     },
     "metadata": {},
     "output_type": "display_data"
    }
   ],
   "source": [
    "s"
   ]
  },
  {
   "cell_type": "markdown",
   "metadata": {},
   "source": [
    "# 16.unique() function"
   ]
  },
  {
   "cell_type": "markdown",
   "metadata": {},
   "source": [
    "The unique() function in R is used to eliminate or delete the duplicate values or the rows present in the vector, data frame, or matrix as well.\n",
    "\n",
    "The unique() function found its importance in the EDA (Exploratory Data Analysis) as it directly identifies and eliminates the duplicate values in the data."
   ]
  },
  {
   "cell_type": "code",
   "execution_count": 58,
   "metadata": {},
   "outputs": [],
   "source": [
    "df<-c(1,2,3,2,4,5,1,6,8,9,8,6)"
   ]
  },
  {
   "cell_type": "code",
   "execution_count": 59,
   "metadata": {},
   "outputs": [
    {
     "data": {
      "text/html": [
       "<ol class=list-inline>\n",
       "\t<li>1</li>\n",
       "\t<li>2</li>\n",
       "\t<li>3</li>\n",
       "\t<li>4</li>\n",
       "\t<li>5</li>\n",
       "\t<li>6</li>\n",
       "\t<li>8</li>\n",
       "\t<li>9</li>\n",
       "</ol>\n"
      ],
      "text/latex": [
       "\\begin{enumerate*}\n",
       "\\item 1\n",
       "\\item 2\n",
       "\\item 3\n",
       "\\item 4\n",
       "\\item 5\n",
       "\\item 6\n",
       "\\item 8\n",
       "\\item 9\n",
       "\\end{enumerate*}\n"
      ],
      "text/markdown": [
       "1. 1\n",
       "2. 2\n",
       "3. 3\n",
       "4. 4\n",
       "5. 5\n",
       "6. 6\n",
       "7. 8\n",
       "8. 9\n",
       "\n",
       "\n"
      ],
      "text/plain": [
       "[1] 1 2 3 4 5 6 8 9"
      ]
     },
     "metadata": {},
     "output_type": "display_data"
    }
   ],
   "source": [
    "#An input vector having duplicate values\n",
    "df<-c(1,2,3,2,4,5,1,6,8,9,8,6)\n",
    " \n",
    "#elimnates the duplicate values in the vector \n",
    "unique(df)"
   ]
  },
  {
   "cell_type": "code",
   "execution_count": 60,
   "metadata": {},
   "outputs": [],
   "source": [
    "#creates a 6 x 4 matrix having 24 elements \n",
    "df<-matrix(rep(1:20,length.out=24),nrow = 6,ncol=4,byrow = T)"
   ]
  },
  {
   "cell_type": "code",
   "execution_count": 61,
   "metadata": {},
   "outputs": [
    {
     "data": {
      "text/html": [
       "<table>\n",
       "<tbody>\n",
       "\t<tr><td> 1</td><td> 2</td><td> 3</td><td> 4</td></tr>\n",
       "\t<tr><td> 5</td><td> 6</td><td> 7</td><td> 8</td></tr>\n",
       "\t<tr><td> 9</td><td>10</td><td>11</td><td>12</td></tr>\n",
       "\t<tr><td>13</td><td>14</td><td>15</td><td>16</td></tr>\n",
       "\t<tr><td>17</td><td>18</td><td>19</td><td>20</td></tr>\n",
       "</tbody>\n",
       "</table>\n"
      ],
      "text/latex": [
       "\\begin{tabular}{llll}\n",
       "\t  1 &  2 &  3 &  4\\\\\n",
       "\t  5 &  6 &  7 &  8\\\\\n",
       "\t  9 & 10 & 11 & 12\\\\\n",
       "\t 13 & 14 & 15 & 16\\\\\n",
       "\t 17 & 18 & 19 & 20\\\\\n",
       "\\end{tabular}\n"
      ],
      "text/markdown": [
       "\n",
       "|  1 |  2 |  3 |  4 |\n",
       "|  5 |  6 |  7 |  8 |\n",
       "|  9 | 10 | 11 | 12 |\n",
       "| 13 | 14 | 15 | 16 |\n",
       "| 17 | 18 | 19 | 20 |\n",
       "\n"
      ],
      "text/plain": [
       "     [,1] [,2] [,3] [,4]\n",
       "[1,]  1    2    3    4  \n",
       "[2,]  5    6    7    8  \n",
       "[3,]  9   10   11   12  \n",
       "[4,] 13   14   15   16  \n",
       "[5,] 17   18   19   20  "
      ]
     },
     "metadata": {},
     "output_type": "display_data"
    }
   ],
   "source": [
    "unique(df)"
   ]
  },
  {
   "cell_type": "code",
   "execution_count": 62,
   "metadata": {},
   "outputs": [],
   "source": [
    "Class_data<-data.frame(Student=c('Naman','Megh','Mark','Naman','Megh','Mark'),\n",
    "                       Age=c(22,23,24,22,23,24),\n",
    "                       Gender=c('Male','Female','Male','Male','Female','Male'))"
   ]
  },
  {
   "cell_type": "code",
   "execution_count": 63,
   "metadata": {},
   "outputs": [
    {
     "data": {
      "text/html": [
       "<table>\n",
       "<thead><tr><th scope=col>Student</th><th scope=col>Age</th><th scope=col>Gender</th></tr></thead>\n",
       "<tbody>\n",
       "\t<tr><td>Naman </td><td>22    </td><td>Male  </td></tr>\n",
       "\t<tr><td>Megh  </td><td>23    </td><td>Female</td></tr>\n",
       "\t<tr><td>Mark  </td><td>24    </td><td>Male  </td></tr>\n",
       "</tbody>\n",
       "</table>\n"
      ],
      "text/latex": [
       "\\begin{tabular}{r|lll}\n",
       " Student & Age & Gender\\\\\n",
       "\\hline\n",
       "\t Naman  & 22     & Male  \\\\\n",
       "\t Megh   & 23     & Female\\\\\n",
       "\t Mark   & 24     & Male  \\\\\n",
       "\\end{tabular}\n"
      ],
      "text/markdown": [
       "\n",
       "| Student | Age | Gender |\n",
       "|---|---|---|\n",
       "| Naman  | 22     | Male   |\n",
       "| Megh   | 23     | Female |\n",
       "| Mark   | 24     | Male   |\n",
       "\n"
      ],
      "text/plain": [
       "  Student Age Gender\n",
       "1 Naman   22  Male  \n",
       "2 Megh    23  Female\n",
       "3 Mark    24  Male  "
      ]
     },
     "metadata": {},
     "output_type": "display_data"
    }
   ],
   "source": [
    "unique(Class_data)"
   ]
  },
  {
   "cell_type": "markdown",
   "metadata": {},
   "source": [
    "# 17.Arrange Function"
   ]
  },
  {
   "cell_type": "code",
   "execution_count": 64,
   "metadata": {},
   "outputs": [],
   "source": [
    "library(tidyverse)"
   ]
  },
  {
   "cell_type": "code",
   "execution_count": 65,
   "metadata": {},
   "outputs": [
    {
     "data": {
      "text/html": [
       "<table>\n",
       "<thead><tr><th scope=col>Sepal.Length</th><th scope=col>Sepal.Width</th><th scope=col>Petal.Length</th><th scope=col>Petal.Width</th><th scope=col>Species</th></tr></thead>\n",
       "<tbody>\n",
       "\t<tr><td>5.1   </td><td>3.5   </td><td>1.4   </td><td>0.2   </td><td>setosa</td></tr>\n",
       "\t<tr><td>4.9   </td><td>3.0   </td><td>1.4   </td><td>0.2   </td><td>setosa</td></tr>\n",
       "\t<tr><td>4.7   </td><td>3.2   </td><td>1.3   </td><td>0.2   </td><td>setosa</td></tr>\n",
       "\t<tr><td>4.6   </td><td>3.1   </td><td>1.5   </td><td>0.2   </td><td>setosa</td></tr>\n",
       "\t<tr><td>5.0   </td><td>3.6   </td><td>1.4   </td><td>0.2   </td><td>setosa</td></tr>\n",
       "\t<tr><td>5.4   </td><td>3.9   </td><td>1.7   </td><td>0.4   </td><td>setosa</td></tr>\n",
       "\t<tr><td>4.6   </td><td>3.4   </td><td>1.4   </td><td>0.3   </td><td>setosa</td></tr>\n",
       "\t<tr><td>5.0   </td><td>3.4   </td><td>1.5   </td><td>0.2   </td><td>setosa</td></tr>\n",
       "\t<tr><td>4.4   </td><td>2.9   </td><td>1.4   </td><td>0.2   </td><td>setosa</td></tr>\n",
       "\t<tr><td>4.9   </td><td>3.1   </td><td>1.5   </td><td>0.1   </td><td>setosa</td></tr>\n",
       "\t<tr><td>5.4   </td><td>3.7   </td><td>1.5   </td><td>0.2   </td><td>setosa</td></tr>\n",
       "\t<tr><td>4.8   </td><td>3.4   </td><td>1.6   </td><td>0.2   </td><td>setosa</td></tr>\n",
       "\t<tr><td>4.8   </td><td>3.0   </td><td>1.4   </td><td>0.1   </td><td>setosa</td></tr>\n",
       "\t<tr><td>4.3   </td><td>3.0   </td><td>1.1   </td><td>0.1   </td><td>setosa</td></tr>\n",
       "\t<tr><td>5.8   </td><td>4.0   </td><td>1.2   </td><td>0.2   </td><td>setosa</td></tr>\n",
       "\t<tr><td>5.7   </td><td>4.4   </td><td>1.5   </td><td>0.4   </td><td>setosa</td></tr>\n",
       "\t<tr><td>5.4   </td><td>3.9   </td><td>1.3   </td><td>0.4   </td><td>setosa</td></tr>\n",
       "\t<tr><td>5.1   </td><td>3.5   </td><td>1.4   </td><td>0.3   </td><td>setosa</td></tr>\n",
       "\t<tr><td>5.7   </td><td>3.8   </td><td>1.7   </td><td>0.3   </td><td>setosa</td></tr>\n",
       "\t<tr><td>5.1   </td><td>3.8   </td><td>1.5   </td><td>0.3   </td><td>setosa</td></tr>\n",
       "\t<tr><td>5.4   </td><td>3.4   </td><td>1.7   </td><td>0.2   </td><td>setosa</td></tr>\n",
       "\t<tr><td>5.1   </td><td>3.7   </td><td>1.5   </td><td>0.4   </td><td>setosa</td></tr>\n",
       "\t<tr><td>4.6   </td><td>3.6   </td><td>1.0   </td><td>0.2   </td><td>setosa</td></tr>\n",
       "\t<tr><td>5.1   </td><td>3.3   </td><td>1.7   </td><td>0.5   </td><td>setosa</td></tr>\n",
       "\t<tr><td>4.8   </td><td>3.4   </td><td>1.9   </td><td>0.2   </td><td>setosa</td></tr>\n",
       "\t<tr><td>5.0   </td><td>3.0   </td><td>1.6   </td><td>0.2   </td><td>setosa</td></tr>\n",
       "\t<tr><td>5.0   </td><td>3.4   </td><td>1.6   </td><td>0.4   </td><td>setosa</td></tr>\n",
       "\t<tr><td>5.2   </td><td>3.5   </td><td>1.5   </td><td>0.2   </td><td>setosa</td></tr>\n",
       "\t<tr><td>5.2   </td><td>3.4   </td><td>1.4   </td><td>0.2   </td><td>setosa</td></tr>\n",
       "\t<tr><td>4.7   </td><td>3.2   </td><td>1.6   </td><td>0.2   </td><td>setosa</td></tr>\n",
       "\t<tr><td>...</td><td>...</td><td>...</td><td>...</td><td>...</td></tr>\n",
       "\t<tr><td>6.9      </td><td>3.2      </td><td>5.7      </td><td>2.3      </td><td>virginica</td></tr>\n",
       "\t<tr><td>5.6      </td><td>2.8      </td><td>4.9      </td><td>2.0      </td><td>virginica</td></tr>\n",
       "\t<tr><td>7.7      </td><td>2.8      </td><td>6.7      </td><td>2.0      </td><td>virginica</td></tr>\n",
       "\t<tr><td>6.3      </td><td>2.7      </td><td>4.9      </td><td>1.8      </td><td>virginica</td></tr>\n",
       "\t<tr><td>6.7      </td><td>3.3      </td><td>5.7      </td><td>2.1      </td><td>virginica</td></tr>\n",
       "\t<tr><td>7.2      </td><td>3.2      </td><td>6.0      </td><td>1.8      </td><td>virginica</td></tr>\n",
       "\t<tr><td>6.2      </td><td>2.8      </td><td>4.8      </td><td>1.8      </td><td>virginica</td></tr>\n",
       "\t<tr><td>6.1      </td><td>3.0      </td><td>4.9      </td><td>1.8      </td><td>virginica</td></tr>\n",
       "\t<tr><td>6.4      </td><td>2.8      </td><td>5.6      </td><td>2.1      </td><td>virginica</td></tr>\n",
       "\t<tr><td>7.2      </td><td>3.0      </td><td>5.8      </td><td>1.6      </td><td>virginica</td></tr>\n",
       "\t<tr><td>7.4      </td><td>2.8      </td><td>6.1      </td><td>1.9      </td><td>virginica</td></tr>\n",
       "\t<tr><td>7.9      </td><td>3.8      </td><td>6.4      </td><td>2.0      </td><td>virginica</td></tr>\n",
       "\t<tr><td>6.4      </td><td>2.8      </td><td>5.6      </td><td>2.2      </td><td>virginica</td></tr>\n",
       "\t<tr><td>6.3      </td><td>2.8      </td><td>5.1      </td><td>1.5      </td><td>virginica</td></tr>\n",
       "\t<tr><td>6.1      </td><td>2.6      </td><td>5.6      </td><td>1.4      </td><td>virginica</td></tr>\n",
       "\t<tr><td>7.7      </td><td>3.0      </td><td>6.1      </td><td>2.3      </td><td>virginica</td></tr>\n",
       "\t<tr><td>6.3      </td><td>3.4      </td><td>5.6      </td><td>2.4      </td><td>virginica</td></tr>\n",
       "\t<tr><td>6.4      </td><td>3.1      </td><td>5.5      </td><td>1.8      </td><td>virginica</td></tr>\n",
       "\t<tr><td>6.0      </td><td>3.0      </td><td>4.8      </td><td>1.8      </td><td>virginica</td></tr>\n",
       "\t<tr><td>6.9      </td><td>3.1      </td><td>5.4      </td><td>2.1      </td><td>virginica</td></tr>\n",
       "\t<tr><td>6.7      </td><td>3.1      </td><td>5.6      </td><td>2.4      </td><td>virginica</td></tr>\n",
       "\t<tr><td>6.9      </td><td>3.1      </td><td>5.1      </td><td>2.3      </td><td>virginica</td></tr>\n",
       "\t<tr><td>5.8      </td><td>2.7      </td><td>5.1      </td><td>1.9      </td><td>virginica</td></tr>\n",
       "\t<tr><td>6.8      </td><td>3.2      </td><td>5.9      </td><td>2.3      </td><td>virginica</td></tr>\n",
       "\t<tr><td>6.7      </td><td>3.3      </td><td>5.7      </td><td>2.5      </td><td>virginica</td></tr>\n",
       "\t<tr><td>6.7      </td><td>3.0      </td><td>5.2      </td><td>2.3      </td><td>virginica</td></tr>\n",
       "\t<tr><td>6.3      </td><td>2.5      </td><td>5.0      </td><td>1.9      </td><td>virginica</td></tr>\n",
       "\t<tr><td>6.5      </td><td>3.0      </td><td>5.2      </td><td>2.0      </td><td>virginica</td></tr>\n",
       "\t<tr><td>6.2      </td><td>3.4      </td><td>5.4      </td><td>2.3      </td><td>virginica</td></tr>\n",
       "\t<tr><td>5.9      </td><td>3.0      </td><td>5.1      </td><td>1.8      </td><td>virginica</td></tr>\n",
       "</tbody>\n",
       "</table>\n"
      ],
      "text/latex": [
       "\\begin{tabular}{r|lllll}\n",
       " Sepal.Length & Sepal.Width & Petal.Length & Petal.Width & Species\\\\\n",
       "\\hline\n",
       "\t 5.1    & 3.5    & 1.4    & 0.2    & setosa\\\\\n",
       "\t 4.9    & 3.0    & 1.4    & 0.2    & setosa\\\\\n",
       "\t 4.7    & 3.2    & 1.3    & 0.2    & setosa\\\\\n",
       "\t 4.6    & 3.1    & 1.5    & 0.2    & setosa\\\\\n",
       "\t 5.0    & 3.6    & 1.4    & 0.2    & setosa\\\\\n",
       "\t 5.4    & 3.9    & 1.7    & 0.4    & setosa\\\\\n",
       "\t 4.6    & 3.4    & 1.4    & 0.3    & setosa\\\\\n",
       "\t 5.0    & 3.4    & 1.5    & 0.2    & setosa\\\\\n",
       "\t 4.4    & 2.9    & 1.4    & 0.2    & setosa\\\\\n",
       "\t 4.9    & 3.1    & 1.5    & 0.1    & setosa\\\\\n",
       "\t 5.4    & 3.7    & 1.5    & 0.2    & setosa\\\\\n",
       "\t 4.8    & 3.4    & 1.6    & 0.2    & setosa\\\\\n",
       "\t 4.8    & 3.0    & 1.4    & 0.1    & setosa\\\\\n",
       "\t 4.3    & 3.0    & 1.1    & 0.1    & setosa\\\\\n",
       "\t 5.8    & 4.0    & 1.2    & 0.2    & setosa\\\\\n",
       "\t 5.7    & 4.4    & 1.5    & 0.4    & setosa\\\\\n",
       "\t 5.4    & 3.9    & 1.3    & 0.4    & setosa\\\\\n",
       "\t 5.1    & 3.5    & 1.4    & 0.3    & setosa\\\\\n",
       "\t 5.7    & 3.8    & 1.7    & 0.3    & setosa\\\\\n",
       "\t 5.1    & 3.8    & 1.5    & 0.3    & setosa\\\\\n",
       "\t 5.4    & 3.4    & 1.7    & 0.2    & setosa\\\\\n",
       "\t 5.1    & 3.7    & 1.5    & 0.4    & setosa\\\\\n",
       "\t 4.6    & 3.6    & 1.0    & 0.2    & setosa\\\\\n",
       "\t 5.1    & 3.3    & 1.7    & 0.5    & setosa\\\\\n",
       "\t 4.8    & 3.4    & 1.9    & 0.2    & setosa\\\\\n",
       "\t 5.0    & 3.0    & 1.6    & 0.2    & setosa\\\\\n",
       "\t 5.0    & 3.4    & 1.6    & 0.4    & setosa\\\\\n",
       "\t 5.2    & 3.5    & 1.5    & 0.2    & setosa\\\\\n",
       "\t 5.2    & 3.4    & 1.4    & 0.2    & setosa\\\\\n",
       "\t 4.7    & 3.2    & 1.6    & 0.2    & setosa\\\\\n",
       "\t ... & ... & ... & ... & ...\\\\\n",
       "\t 6.9       & 3.2       & 5.7       & 2.3       & virginica\\\\\n",
       "\t 5.6       & 2.8       & 4.9       & 2.0       & virginica\\\\\n",
       "\t 7.7       & 2.8       & 6.7       & 2.0       & virginica\\\\\n",
       "\t 6.3       & 2.7       & 4.9       & 1.8       & virginica\\\\\n",
       "\t 6.7       & 3.3       & 5.7       & 2.1       & virginica\\\\\n",
       "\t 7.2       & 3.2       & 6.0       & 1.8       & virginica\\\\\n",
       "\t 6.2       & 2.8       & 4.8       & 1.8       & virginica\\\\\n",
       "\t 6.1       & 3.0       & 4.9       & 1.8       & virginica\\\\\n",
       "\t 6.4       & 2.8       & 5.6       & 2.1       & virginica\\\\\n",
       "\t 7.2       & 3.0       & 5.8       & 1.6       & virginica\\\\\n",
       "\t 7.4       & 2.8       & 6.1       & 1.9       & virginica\\\\\n",
       "\t 7.9       & 3.8       & 6.4       & 2.0       & virginica\\\\\n",
       "\t 6.4       & 2.8       & 5.6       & 2.2       & virginica\\\\\n",
       "\t 6.3       & 2.8       & 5.1       & 1.5       & virginica\\\\\n",
       "\t 6.1       & 2.6       & 5.6       & 1.4       & virginica\\\\\n",
       "\t 7.7       & 3.0       & 6.1       & 2.3       & virginica\\\\\n",
       "\t 6.3       & 3.4       & 5.6       & 2.4       & virginica\\\\\n",
       "\t 6.4       & 3.1       & 5.5       & 1.8       & virginica\\\\\n",
       "\t 6.0       & 3.0       & 4.8       & 1.8       & virginica\\\\\n",
       "\t 6.9       & 3.1       & 5.4       & 2.1       & virginica\\\\\n",
       "\t 6.7       & 3.1       & 5.6       & 2.4       & virginica\\\\\n",
       "\t 6.9       & 3.1       & 5.1       & 2.3       & virginica\\\\\n",
       "\t 5.8       & 2.7       & 5.1       & 1.9       & virginica\\\\\n",
       "\t 6.8       & 3.2       & 5.9       & 2.3       & virginica\\\\\n",
       "\t 6.7       & 3.3       & 5.7       & 2.5       & virginica\\\\\n",
       "\t 6.7       & 3.0       & 5.2       & 2.3       & virginica\\\\\n",
       "\t 6.3       & 2.5       & 5.0       & 1.9       & virginica\\\\\n",
       "\t 6.5       & 3.0       & 5.2       & 2.0       & virginica\\\\\n",
       "\t 6.2       & 3.4       & 5.4       & 2.3       & virginica\\\\\n",
       "\t 5.9       & 3.0       & 5.1       & 1.8       & virginica\\\\\n",
       "\\end{tabular}\n"
      ],
      "text/markdown": [
       "\n",
       "| Sepal.Length | Sepal.Width | Petal.Length | Petal.Width | Species |\n",
       "|---|---|---|---|---|\n",
       "| 5.1    | 3.5    | 1.4    | 0.2    | setosa |\n",
       "| 4.9    | 3.0    | 1.4    | 0.2    | setosa |\n",
       "| 4.7    | 3.2    | 1.3    | 0.2    | setosa |\n",
       "| 4.6    | 3.1    | 1.5    | 0.2    | setosa |\n",
       "| 5.0    | 3.6    | 1.4    | 0.2    | setosa |\n",
       "| 5.4    | 3.9    | 1.7    | 0.4    | setosa |\n",
       "| 4.6    | 3.4    | 1.4    | 0.3    | setosa |\n",
       "| 5.0    | 3.4    | 1.5    | 0.2    | setosa |\n",
       "| 4.4    | 2.9    | 1.4    | 0.2    | setosa |\n",
       "| 4.9    | 3.1    | 1.5    | 0.1    | setosa |\n",
       "| 5.4    | 3.7    | 1.5    | 0.2    | setosa |\n",
       "| 4.8    | 3.4    | 1.6    | 0.2    | setosa |\n",
       "| 4.8    | 3.0    | 1.4    | 0.1    | setosa |\n",
       "| 4.3    | 3.0    | 1.1    | 0.1    | setosa |\n",
       "| 5.8    | 4.0    | 1.2    | 0.2    | setosa |\n",
       "| 5.7    | 4.4    | 1.5    | 0.4    | setosa |\n",
       "| 5.4    | 3.9    | 1.3    | 0.4    | setosa |\n",
       "| 5.1    | 3.5    | 1.4    | 0.3    | setosa |\n",
       "| 5.7    | 3.8    | 1.7    | 0.3    | setosa |\n",
       "| 5.1    | 3.8    | 1.5    | 0.3    | setosa |\n",
       "| 5.4    | 3.4    | 1.7    | 0.2    | setosa |\n",
       "| 5.1    | 3.7    | 1.5    | 0.4    | setosa |\n",
       "| 4.6    | 3.6    | 1.0    | 0.2    | setosa |\n",
       "| 5.1    | 3.3    | 1.7    | 0.5    | setosa |\n",
       "| 4.8    | 3.4    | 1.9    | 0.2    | setosa |\n",
       "| 5.0    | 3.0    | 1.6    | 0.2    | setosa |\n",
       "| 5.0    | 3.4    | 1.6    | 0.4    | setosa |\n",
       "| 5.2    | 3.5    | 1.5    | 0.2    | setosa |\n",
       "| 5.2    | 3.4    | 1.4    | 0.2    | setosa |\n",
       "| 4.7    | 3.2    | 1.6    | 0.2    | setosa |\n",
       "| ... | ... | ... | ... | ... |\n",
       "| 6.9       | 3.2       | 5.7       | 2.3       | virginica |\n",
       "| 5.6       | 2.8       | 4.9       | 2.0       | virginica |\n",
       "| 7.7       | 2.8       | 6.7       | 2.0       | virginica |\n",
       "| 6.3       | 2.7       | 4.9       | 1.8       | virginica |\n",
       "| 6.7       | 3.3       | 5.7       | 2.1       | virginica |\n",
       "| 7.2       | 3.2       | 6.0       | 1.8       | virginica |\n",
       "| 6.2       | 2.8       | 4.8       | 1.8       | virginica |\n",
       "| 6.1       | 3.0       | 4.9       | 1.8       | virginica |\n",
       "| 6.4       | 2.8       | 5.6       | 2.1       | virginica |\n",
       "| 7.2       | 3.0       | 5.8       | 1.6       | virginica |\n",
       "| 7.4       | 2.8       | 6.1       | 1.9       | virginica |\n",
       "| 7.9       | 3.8       | 6.4       | 2.0       | virginica |\n",
       "| 6.4       | 2.8       | 5.6       | 2.2       | virginica |\n",
       "| 6.3       | 2.8       | 5.1       | 1.5       | virginica |\n",
       "| 6.1       | 2.6       | 5.6       | 1.4       | virginica |\n",
       "| 7.7       | 3.0       | 6.1       | 2.3       | virginica |\n",
       "| 6.3       | 3.4       | 5.6       | 2.4       | virginica |\n",
       "| 6.4       | 3.1       | 5.5       | 1.8       | virginica |\n",
       "| 6.0       | 3.0       | 4.8       | 1.8       | virginica |\n",
       "| 6.9       | 3.1       | 5.4       | 2.1       | virginica |\n",
       "| 6.7       | 3.1       | 5.6       | 2.4       | virginica |\n",
       "| 6.9       | 3.1       | 5.1       | 2.3       | virginica |\n",
       "| 5.8       | 2.7       | 5.1       | 1.9       | virginica |\n",
       "| 6.8       | 3.2       | 5.9       | 2.3       | virginica |\n",
       "| 6.7       | 3.3       | 5.7       | 2.5       | virginica |\n",
       "| 6.7       | 3.0       | 5.2       | 2.3       | virginica |\n",
       "| 6.3       | 2.5       | 5.0       | 1.9       | virginica |\n",
       "| 6.5       | 3.0       | 5.2       | 2.0       | virginica |\n",
       "| 6.2       | 3.4       | 5.4       | 2.3       | virginica |\n",
       "| 5.9       | 3.0       | 5.1       | 1.8       | virginica |\n",
       "\n"
      ],
      "text/plain": [
       "    Sepal.Length Sepal.Width Petal.Length Petal.Width Species  \n",
       "1   5.1          3.5         1.4          0.2         setosa   \n",
       "2   4.9          3.0         1.4          0.2         setosa   \n",
       "3   4.7          3.2         1.3          0.2         setosa   \n",
       "4   4.6          3.1         1.5          0.2         setosa   \n",
       "5   5.0          3.6         1.4          0.2         setosa   \n",
       "6   5.4          3.9         1.7          0.4         setosa   \n",
       "7   4.6          3.4         1.4          0.3         setosa   \n",
       "8   5.0          3.4         1.5          0.2         setosa   \n",
       "9   4.4          2.9         1.4          0.2         setosa   \n",
       "10  4.9          3.1         1.5          0.1         setosa   \n",
       "11  5.4          3.7         1.5          0.2         setosa   \n",
       "12  4.8          3.4         1.6          0.2         setosa   \n",
       "13  4.8          3.0         1.4          0.1         setosa   \n",
       "14  4.3          3.0         1.1          0.1         setosa   \n",
       "15  5.8          4.0         1.2          0.2         setosa   \n",
       "16  5.7          4.4         1.5          0.4         setosa   \n",
       "17  5.4          3.9         1.3          0.4         setosa   \n",
       "18  5.1          3.5         1.4          0.3         setosa   \n",
       "19  5.7          3.8         1.7          0.3         setosa   \n",
       "20  5.1          3.8         1.5          0.3         setosa   \n",
       "21  5.4          3.4         1.7          0.2         setosa   \n",
       "22  5.1          3.7         1.5          0.4         setosa   \n",
       "23  4.6          3.6         1.0          0.2         setosa   \n",
       "24  5.1          3.3         1.7          0.5         setosa   \n",
       "25  4.8          3.4         1.9          0.2         setosa   \n",
       "26  5.0          3.0         1.6          0.2         setosa   \n",
       "27  5.0          3.4         1.6          0.4         setosa   \n",
       "28  5.2          3.5         1.5          0.2         setosa   \n",
       "29  5.2          3.4         1.4          0.2         setosa   \n",
       "30  4.7          3.2         1.6          0.2         setosa   \n",
       "... ...          ...         ...          ...         ...      \n",
       "121 6.9          3.2         5.7          2.3         virginica\n",
       "122 5.6          2.8         4.9          2.0         virginica\n",
       "123 7.7          2.8         6.7          2.0         virginica\n",
       "124 6.3          2.7         4.9          1.8         virginica\n",
       "125 6.7          3.3         5.7          2.1         virginica\n",
       "126 7.2          3.2         6.0          1.8         virginica\n",
       "127 6.2          2.8         4.8          1.8         virginica\n",
       "128 6.1          3.0         4.9          1.8         virginica\n",
       "129 6.4          2.8         5.6          2.1         virginica\n",
       "130 7.2          3.0         5.8          1.6         virginica\n",
       "131 7.4          2.8         6.1          1.9         virginica\n",
       "132 7.9          3.8         6.4          2.0         virginica\n",
       "133 6.4          2.8         5.6          2.2         virginica\n",
       "134 6.3          2.8         5.1          1.5         virginica\n",
       "135 6.1          2.6         5.6          1.4         virginica\n",
       "136 7.7          3.0         6.1          2.3         virginica\n",
       "137 6.3          3.4         5.6          2.4         virginica\n",
       "138 6.4          3.1         5.5          1.8         virginica\n",
       "139 6.0          3.0         4.8          1.8         virginica\n",
       "140 6.9          3.1         5.4          2.1         virginica\n",
       "141 6.7          3.1         5.6          2.4         virginica\n",
       "142 6.9          3.1         5.1          2.3         virginica\n",
       "143 5.8          2.7         5.1          1.9         virginica\n",
       "144 6.8          3.2         5.9          2.3         virginica\n",
       "145 6.7          3.3         5.7          2.5         virginica\n",
       "146 6.7          3.0         5.2          2.3         virginica\n",
       "147 6.3          2.5         5.0          1.9         virginica\n",
       "148 6.5          3.0         5.2          2.0         virginica\n",
       "149 6.2          3.4         5.4          2.3         virginica\n",
       "150 5.9          3.0         5.1          1.8         virginica"
      ]
     },
     "metadata": {},
     "output_type": "display_data"
    }
   ],
   "source": [
    "my_data <- as_tibble(iris)\n",
    "my_data"
   ]
  },
  {
   "cell_type": "code",
   "execution_count": 66,
   "metadata": {},
   "outputs": [
    {
     "data": {
      "text/html": [
       "<table>\n",
       "<thead><tr><th scope=col>Sepal.Length</th><th scope=col>Sepal.Width</th><th scope=col>Petal.Length</th><th scope=col>Petal.Width</th><th scope=col>Species</th></tr></thead>\n",
       "<tbody>\n",
       "\t<tr><td>4.3       </td><td>3.0       </td><td>1.1       </td><td>0.1       </td><td>setosa    </td></tr>\n",
       "\t<tr><td>4.4       </td><td>2.9       </td><td>1.4       </td><td>0.2       </td><td>setosa    </td></tr>\n",
       "\t<tr><td>4.4       </td><td>3.0       </td><td>1.3       </td><td>0.2       </td><td>setosa    </td></tr>\n",
       "\t<tr><td>4.4       </td><td>3.2       </td><td>1.3       </td><td>0.2       </td><td>setosa    </td></tr>\n",
       "\t<tr><td>4.5       </td><td>2.3       </td><td>1.3       </td><td>0.3       </td><td>setosa    </td></tr>\n",
       "\t<tr><td>4.6       </td><td>3.1       </td><td>1.5       </td><td>0.2       </td><td>setosa    </td></tr>\n",
       "\t<tr><td>4.6       </td><td>3.4       </td><td>1.4       </td><td>0.3       </td><td>setosa    </td></tr>\n",
       "\t<tr><td>4.6       </td><td>3.6       </td><td>1.0       </td><td>0.2       </td><td>setosa    </td></tr>\n",
       "\t<tr><td>4.6       </td><td>3.2       </td><td>1.4       </td><td>0.2       </td><td>setosa    </td></tr>\n",
       "\t<tr><td>4.7       </td><td>3.2       </td><td>1.3       </td><td>0.2       </td><td>setosa    </td></tr>\n",
       "\t<tr><td>4.7       </td><td>3.2       </td><td>1.6       </td><td>0.2       </td><td>setosa    </td></tr>\n",
       "\t<tr><td>4.8       </td><td>3.4       </td><td>1.6       </td><td>0.2       </td><td>setosa    </td></tr>\n",
       "\t<tr><td>4.8       </td><td>3.0       </td><td>1.4       </td><td>0.1       </td><td>setosa    </td></tr>\n",
       "\t<tr><td>4.8       </td><td>3.4       </td><td>1.9       </td><td>0.2       </td><td>setosa    </td></tr>\n",
       "\t<tr><td>4.8       </td><td>3.1       </td><td>1.6       </td><td>0.2       </td><td>setosa    </td></tr>\n",
       "\t<tr><td>4.8       </td><td>3.0       </td><td>1.4       </td><td>0.3       </td><td>setosa    </td></tr>\n",
       "\t<tr><td>4.9       </td><td>3.0       </td><td>1.4       </td><td>0.2       </td><td>setosa    </td></tr>\n",
       "\t<tr><td>4.9       </td><td>3.1       </td><td>1.5       </td><td>0.1       </td><td>setosa    </td></tr>\n",
       "\t<tr><td>4.9       </td><td>3.1       </td><td>1.5       </td><td>0.2       </td><td>setosa    </td></tr>\n",
       "\t<tr><td>4.9       </td><td>3.6       </td><td>1.4       </td><td>0.1       </td><td>setosa    </td></tr>\n",
       "\t<tr><td>4.9       </td><td>2.4       </td><td>3.3       </td><td>1.0       </td><td>versicolor</td></tr>\n",
       "\t<tr><td>4.9       </td><td>2.5       </td><td>4.5       </td><td>1.7       </td><td>virginica </td></tr>\n",
       "\t<tr><td>5.0       </td><td>3.6       </td><td>1.4       </td><td>0.2       </td><td>setosa    </td></tr>\n",
       "\t<tr><td>5.0       </td><td>3.4       </td><td>1.5       </td><td>0.2       </td><td>setosa    </td></tr>\n",
       "\t<tr><td>5.0       </td><td>3.0       </td><td>1.6       </td><td>0.2       </td><td>setosa    </td></tr>\n",
       "\t<tr><td>5.0       </td><td>3.4       </td><td>1.6       </td><td>0.4       </td><td>setosa    </td></tr>\n",
       "\t<tr><td>5.0       </td><td>3.2       </td><td>1.2       </td><td>0.2       </td><td>setosa    </td></tr>\n",
       "\t<tr><td>5.0       </td><td>3.5       </td><td>1.3       </td><td>0.3       </td><td>setosa    </td></tr>\n",
       "\t<tr><td>5.0       </td><td>3.5       </td><td>1.6       </td><td>0.6       </td><td>setosa    </td></tr>\n",
       "\t<tr><td>5.0       </td><td>3.3       </td><td>1.4       </td><td>0.2       </td><td>setosa    </td></tr>\n",
       "\t<tr><td>...</td><td>...</td><td>...</td><td>...</td><td>...</td></tr>\n",
       "\t<tr><td>6.6       </td><td>2.9       </td><td>4.6       </td><td>1.3       </td><td>versicolor</td></tr>\n",
       "\t<tr><td>6.6       </td><td>3.0       </td><td>4.4       </td><td>1.4       </td><td>versicolor</td></tr>\n",
       "\t<tr><td>6.7       </td><td>3.1       </td><td>4.4       </td><td>1.4       </td><td>versicolor</td></tr>\n",
       "\t<tr><td>6.7       </td><td>3.0       </td><td>5.0       </td><td>1.7       </td><td>versicolor</td></tr>\n",
       "\t<tr><td>6.7       </td><td>3.1       </td><td>4.7       </td><td>1.5       </td><td>versicolor</td></tr>\n",
       "\t<tr><td>6.7       </td><td>2.5       </td><td>5.8       </td><td>1.8       </td><td>virginica </td></tr>\n",
       "\t<tr><td>6.7       </td><td>3.3       </td><td>5.7       </td><td>2.1       </td><td>virginica </td></tr>\n",
       "\t<tr><td>6.7       </td><td>3.1       </td><td>5.6       </td><td>2.4       </td><td>virginica </td></tr>\n",
       "\t<tr><td>6.7       </td><td>3.3       </td><td>5.7       </td><td>2.5       </td><td>virginica </td></tr>\n",
       "\t<tr><td>6.7       </td><td>3.0       </td><td>5.2       </td><td>2.3       </td><td>virginica </td></tr>\n",
       "\t<tr><td>6.8       </td><td>2.8       </td><td>4.8       </td><td>1.4       </td><td>versicolor</td></tr>\n",
       "\t<tr><td>6.8       </td><td>3.0       </td><td>5.5       </td><td>2.1       </td><td>virginica </td></tr>\n",
       "\t<tr><td>6.8       </td><td>3.2       </td><td>5.9       </td><td>2.3       </td><td>virginica </td></tr>\n",
       "\t<tr><td>6.9       </td><td>3.1       </td><td>4.9       </td><td>1.5       </td><td>versicolor</td></tr>\n",
       "\t<tr><td>6.9       </td><td>3.2       </td><td>5.7       </td><td>2.3       </td><td>virginica </td></tr>\n",
       "\t<tr><td>6.9       </td><td>3.1       </td><td>5.4       </td><td>2.1       </td><td>virginica </td></tr>\n",
       "\t<tr><td>6.9       </td><td>3.1       </td><td>5.1       </td><td>2.3       </td><td>virginica </td></tr>\n",
       "\t<tr><td>7.0       </td><td>3.2       </td><td>4.7       </td><td>1.4       </td><td>versicolor</td></tr>\n",
       "\t<tr><td>7.1       </td><td>3.0       </td><td>5.9       </td><td>2.1       </td><td>virginica </td></tr>\n",
       "\t<tr><td>7.2       </td><td>3.6       </td><td>6.1       </td><td>2.5       </td><td>virginica </td></tr>\n",
       "\t<tr><td>7.2       </td><td>3.2       </td><td>6.0       </td><td>1.8       </td><td>virginica </td></tr>\n",
       "\t<tr><td>7.2       </td><td>3.0       </td><td>5.8       </td><td>1.6       </td><td>virginica </td></tr>\n",
       "\t<tr><td>7.3       </td><td>2.9       </td><td>6.3       </td><td>1.8       </td><td>virginica </td></tr>\n",
       "\t<tr><td>7.4       </td><td>2.8       </td><td>6.1       </td><td>1.9       </td><td>virginica </td></tr>\n",
       "\t<tr><td>7.6       </td><td>3.0       </td><td>6.6       </td><td>2.1       </td><td>virginica </td></tr>\n",
       "\t<tr><td>7.7       </td><td>3.8       </td><td>6.7       </td><td>2.2       </td><td>virginica </td></tr>\n",
       "\t<tr><td>7.7       </td><td>2.6       </td><td>6.9       </td><td>2.3       </td><td>virginica </td></tr>\n",
       "\t<tr><td>7.7       </td><td>2.8       </td><td>6.7       </td><td>2.0       </td><td>virginica </td></tr>\n",
       "\t<tr><td>7.7       </td><td>3.0       </td><td>6.1       </td><td>2.3       </td><td>virginica </td></tr>\n",
       "\t<tr><td>7.9       </td><td>3.8       </td><td>6.4       </td><td>2.0       </td><td>virginica </td></tr>\n",
       "</tbody>\n",
       "</table>\n"
      ],
      "text/latex": [
       "\\begin{tabular}{r|lllll}\n",
       " Sepal.Length & Sepal.Width & Petal.Length & Petal.Width & Species\\\\\n",
       "\\hline\n",
       "\t 4.3        & 3.0        & 1.1        & 0.1        & setosa    \\\\\n",
       "\t 4.4        & 2.9        & 1.4        & 0.2        & setosa    \\\\\n",
       "\t 4.4        & 3.0        & 1.3        & 0.2        & setosa    \\\\\n",
       "\t 4.4        & 3.2        & 1.3        & 0.2        & setosa    \\\\\n",
       "\t 4.5        & 2.3        & 1.3        & 0.3        & setosa    \\\\\n",
       "\t 4.6        & 3.1        & 1.5        & 0.2        & setosa    \\\\\n",
       "\t 4.6        & 3.4        & 1.4        & 0.3        & setosa    \\\\\n",
       "\t 4.6        & 3.6        & 1.0        & 0.2        & setosa    \\\\\n",
       "\t 4.6        & 3.2        & 1.4        & 0.2        & setosa    \\\\\n",
       "\t 4.7        & 3.2        & 1.3        & 0.2        & setosa    \\\\\n",
       "\t 4.7        & 3.2        & 1.6        & 0.2        & setosa    \\\\\n",
       "\t 4.8        & 3.4        & 1.6        & 0.2        & setosa    \\\\\n",
       "\t 4.8        & 3.0        & 1.4        & 0.1        & setosa    \\\\\n",
       "\t 4.8        & 3.4        & 1.9        & 0.2        & setosa    \\\\\n",
       "\t 4.8        & 3.1        & 1.6        & 0.2        & setosa    \\\\\n",
       "\t 4.8        & 3.0        & 1.4        & 0.3        & setosa    \\\\\n",
       "\t 4.9        & 3.0        & 1.4        & 0.2        & setosa    \\\\\n",
       "\t 4.9        & 3.1        & 1.5        & 0.1        & setosa    \\\\\n",
       "\t 4.9        & 3.1        & 1.5        & 0.2        & setosa    \\\\\n",
       "\t 4.9        & 3.6        & 1.4        & 0.1        & setosa    \\\\\n",
       "\t 4.9        & 2.4        & 3.3        & 1.0        & versicolor\\\\\n",
       "\t 4.9        & 2.5        & 4.5        & 1.7        & virginica \\\\\n",
       "\t 5.0        & 3.6        & 1.4        & 0.2        & setosa    \\\\\n",
       "\t 5.0        & 3.4        & 1.5        & 0.2        & setosa    \\\\\n",
       "\t 5.0        & 3.0        & 1.6        & 0.2        & setosa    \\\\\n",
       "\t 5.0        & 3.4        & 1.6        & 0.4        & setosa    \\\\\n",
       "\t 5.0        & 3.2        & 1.2        & 0.2        & setosa    \\\\\n",
       "\t 5.0        & 3.5        & 1.3        & 0.3        & setosa    \\\\\n",
       "\t 5.0        & 3.5        & 1.6        & 0.6        & setosa    \\\\\n",
       "\t 5.0        & 3.3        & 1.4        & 0.2        & setosa    \\\\\n",
       "\t ... & ... & ... & ... & ...\\\\\n",
       "\t 6.6        & 2.9        & 4.6        & 1.3        & versicolor\\\\\n",
       "\t 6.6        & 3.0        & 4.4        & 1.4        & versicolor\\\\\n",
       "\t 6.7        & 3.1        & 4.4        & 1.4        & versicolor\\\\\n",
       "\t 6.7        & 3.0        & 5.0        & 1.7        & versicolor\\\\\n",
       "\t 6.7        & 3.1        & 4.7        & 1.5        & versicolor\\\\\n",
       "\t 6.7        & 2.5        & 5.8        & 1.8        & virginica \\\\\n",
       "\t 6.7        & 3.3        & 5.7        & 2.1        & virginica \\\\\n",
       "\t 6.7        & 3.1        & 5.6        & 2.4        & virginica \\\\\n",
       "\t 6.7        & 3.3        & 5.7        & 2.5        & virginica \\\\\n",
       "\t 6.7        & 3.0        & 5.2        & 2.3        & virginica \\\\\n",
       "\t 6.8        & 2.8        & 4.8        & 1.4        & versicolor\\\\\n",
       "\t 6.8        & 3.0        & 5.5        & 2.1        & virginica \\\\\n",
       "\t 6.8        & 3.2        & 5.9        & 2.3        & virginica \\\\\n",
       "\t 6.9        & 3.1        & 4.9        & 1.5        & versicolor\\\\\n",
       "\t 6.9        & 3.2        & 5.7        & 2.3        & virginica \\\\\n",
       "\t 6.9        & 3.1        & 5.4        & 2.1        & virginica \\\\\n",
       "\t 6.9        & 3.1        & 5.1        & 2.3        & virginica \\\\\n",
       "\t 7.0        & 3.2        & 4.7        & 1.4        & versicolor\\\\\n",
       "\t 7.1        & 3.0        & 5.9        & 2.1        & virginica \\\\\n",
       "\t 7.2        & 3.6        & 6.1        & 2.5        & virginica \\\\\n",
       "\t 7.2        & 3.2        & 6.0        & 1.8        & virginica \\\\\n",
       "\t 7.2        & 3.0        & 5.8        & 1.6        & virginica \\\\\n",
       "\t 7.3        & 2.9        & 6.3        & 1.8        & virginica \\\\\n",
       "\t 7.4        & 2.8        & 6.1        & 1.9        & virginica \\\\\n",
       "\t 7.6        & 3.0        & 6.6        & 2.1        & virginica \\\\\n",
       "\t 7.7        & 3.8        & 6.7        & 2.2        & virginica \\\\\n",
       "\t 7.7        & 2.6        & 6.9        & 2.3        & virginica \\\\\n",
       "\t 7.7        & 2.8        & 6.7        & 2.0        & virginica \\\\\n",
       "\t 7.7        & 3.0        & 6.1        & 2.3        & virginica \\\\\n",
       "\t 7.9        & 3.8        & 6.4        & 2.0        & virginica \\\\\n",
       "\\end{tabular}\n"
      ],
      "text/markdown": [
       "\n",
       "| Sepal.Length | Sepal.Width | Petal.Length | Petal.Width | Species |\n",
       "|---|---|---|---|---|\n",
       "| 4.3        | 3.0        | 1.1        | 0.1        | setosa     |\n",
       "| 4.4        | 2.9        | 1.4        | 0.2        | setosa     |\n",
       "| 4.4        | 3.0        | 1.3        | 0.2        | setosa     |\n",
       "| 4.4        | 3.2        | 1.3        | 0.2        | setosa     |\n",
       "| 4.5        | 2.3        | 1.3        | 0.3        | setosa     |\n",
       "| 4.6        | 3.1        | 1.5        | 0.2        | setosa     |\n",
       "| 4.6        | 3.4        | 1.4        | 0.3        | setosa     |\n",
       "| 4.6        | 3.6        | 1.0        | 0.2        | setosa     |\n",
       "| 4.6        | 3.2        | 1.4        | 0.2        | setosa     |\n",
       "| 4.7        | 3.2        | 1.3        | 0.2        | setosa     |\n",
       "| 4.7        | 3.2        | 1.6        | 0.2        | setosa     |\n",
       "| 4.8        | 3.4        | 1.6        | 0.2        | setosa     |\n",
       "| 4.8        | 3.0        | 1.4        | 0.1        | setosa     |\n",
       "| 4.8        | 3.4        | 1.9        | 0.2        | setosa     |\n",
       "| 4.8        | 3.1        | 1.6        | 0.2        | setosa     |\n",
       "| 4.8        | 3.0        | 1.4        | 0.3        | setosa     |\n",
       "| 4.9        | 3.0        | 1.4        | 0.2        | setosa     |\n",
       "| 4.9        | 3.1        | 1.5        | 0.1        | setosa     |\n",
       "| 4.9        | 3.1        | 1.5        | 0.2        | setosa     |\n",
       "| 4.9        | 3.6        | 1.4        | 0.1        | setosa     |\n",
       "| 4.9        | 2.4        | 3.3        | 1.0        | versicolor |\n",
       "| 4.9        | 2.5        | 4.5        | 1.7        | virginica  |\n",
       "| 5.0        | 3.6        | 1.4        | 0.2        | setosa     |\n",
       "| 5.0        | 3.4        | 1.5        | 0.2        | setosa     |\n",
       "| 5.0        | 3.0        | 1.6        | 0.2        | setosa     |\n",
       "| 5.0        | 3.4        | 1.6        | 0.4        | setosa     |\n",
       "| 5.0        | 3.2        | 1.2        | 0.2        | setosa     |\n",
       "| 5.0        | 3.5        | 1.3        | 0.3        | setosa     |\n",
       "| 5.0        | 3.5        | 1.6        | 0.6        | setosa     |\n",
       "| 5.0        | 3.3        | 1.4        | 0.2        | setosa     |\n",
       "| ... | ... | ... | ... | ... |\n",
       "| 6.6        | 2.9        | 4.6        | 1.3        | versicolor |\n",
       "| 6.6        | 3.0        | 4.4        | 1.4        | versicolor |\n",
       "| 6.7        | 3.1        | 4.4        | 1.4        | versicolor |\n",
       "| 6.7        | 3.0        | 5.0        | 1.7        | versicolor |\n",
       "| 6.7        | 3.1        | 4.7        | 1.5        | versicolor |\n",
       "| 6.7        | 2.5        | 5.8        | 1.8        | virginica  |\n",
       "| 6.7        | 3.3        | 5.7        | 2.1        | virginica  |\n",
       "| 6.7        | 3.1        | 5.6        | 2.4        | virginica  |\n",
       "| 6.7        | 3.3        | 5.7        | 2.5        | virginica  |\n",
       "| 6.7        | 3.0        | 5.2        | 2.3        | virginica  |\n",
       "| 6.8        | 2.8        | 4.8        | 1.4        | versicolor |\n",
       "| 6.8        | 3.0        | 5.5        | 2.1        | virginica  |\n",
       "| 6.8        | 3.2        | 5.9        | 2.3        | virginica  |\n",
       "| 6.9        | 3.1        | 4.9        | 1.5        | versicolor |\n",
       "| 6.9        | 3.2        | 5.7        | 2.3        | virginica  |\n",
       "| 6.9        | 3.1        | 5.4        | 2.1        | virginica  |\n",
       "| 6.9        | 3.1        | 5.1        | 2.3        | virginica  |\n",
       "| 7.0        | 3.2        | 4.7        | 1.4        | versicolor |\n",
       "| 7.1        | 3.0        | 5.9        | 2.1        | virginica  |\n",
       "| 7.2        | 3.6        | 6.1        | 2.5        | virginica  |\n",
       "| 7.2        | 3.2        | 6.0        | 1.8        | virginica  |\n",
       "| 7.2        | 3.0        | 5.8        | 1.6        | virginica  |\n",
       "| 7.3        | 2.9        | 6.3        | 1.8        | virginica  |\n",
       "| 7.4        | 2.8        | 6.1        | 1.9        | virginica  |\n",
       "| 7.6        | 3.0        | 6.6        | 2.1        | virginica  |\n",
       "| 7.7        | 3.8        | 6.7        | 2.2        | virginica  |\n",
       "| 7.7        | 2.6        | 6.9        | 2.3        | virginica  |\n",
       "| 7.7        | 2.8        | 6.7        | 2.0        | virginica  |\n",
       "| 7.7        | 3.0        | 6.1        | 2.3        | virginica  |\n",
       "| 7.9        | 3.8        | 6.4        | 2.0        | virginica  |\n",
       "\n"
      ],
      "text/plain": [
       "    Sepal.Length Sepal.Width Petal.Length Petal.Width Species   \n",
       "1   4.3          3.0         1.1          0.1         setosa    \n",
       "2   4.4          2.9         1.4          0.2         setosa    \n",
       "3   4.4          3.0         1.3          0.2         setosa    \n",
       "4   4.4          3.2         1.3          0.2         setosa    \n",
       "5   4.5          2.3         1.3          0.3         setosa    \n",
       "6   4.6          3.1         1.5          0.2         setosa    \n",
       "7   4.6          3.4         1.4          0.3         setosa    \n",
       "8   4.6          3.6         1.0          0.2         setosa    \n",
       "9   4.6          3.2         1.4          0.2         setosa    \n",
       "10  4.7          3.2         1.3          0.2         setosa    \n",
       "11  4.7          3.2         1.6          0.2         setosa    \n",
       "12  4.8          3.4         1.6          0.2         setosa    \n",
       "13  4.8          3.0         1.4          0.1         setosa    \n",
       "14  4.8          3.4         1.9          0.2         setosa    \n",
       "15  4.8          3.1         1.6          0.2         setosa    \n",
       "16  4.8          3.0         1.4          0.3         setosa    \n",
       "17  4.9          3.0         1.4          0.2         setosa    \n",
       "18  4.9          3.1         1.5          0.1         setosa    \n",
       "19  4.9          3.1         1.5          0.2         setosa    \n",
       "20  4.9          3.6         1.4          0.1         setosa    \n",
       "21  4.9          2.4         3.3          1.0         versicolor\n",
       "22  4.9          2.5         4.5          1.7         virginica \n",
       "23  5.0          3.6         1.4          0.2         setosa    \n",
       "24  5.0          3.4         1.5          0.2         setosa    \n",
       "25  5.0          3.0         1.6          0.2         setosa    \n",
       "26  5.0          3.4         1.6          0.4         setosa    \n",
       "27  5.0          3.2         1.2          0.2         setosa    \n",
       "28  5.0          3.5         1.3          0.3         setosa    \n",
       "29  5.0          3.5         1.6          0.6         setosa    \n",
       "30  5.0          3.3         1.4          0.2         setosa    \n",
       "... ...          ...         ...          ...         ...       \n",
       "121 6.6          2.9         4.6          1.3         versicolor\n",
       "122 6.6          3.0         4.4          1.4         versicolor\n",
       "123 6.7          3.1         4.4          1.4         versicolor\n",
       "124 6.7          3.0         5.0          1.7         versicolor\n",
       "125 6.7          3.1         4.7          1.5         versicolor\n",
       "126 6.7          2.5         5.8          1.8         virginica \n",
       "127 6.7          3.3         5.7          2.1         virginica \n",
       "128 6.7          3.1         5.6          2.4         virginica \n",
       "129 6.7          3.3         5.7          2.5         virginica \n",
       "130 6.7          3.0         5.2          2.3         virginica \n",
       "131 6.8          2.8         4.8          1.4         versicolor\n",
       "132 6.8          3.0         5.5          2.1         virginica \n",
       "133 6.8          3.2         5.9          2.3         virginica \n",
       "134 6.9          3.1         4.9          1.5         versicolor\n",
       "135 6.9          3.2         5.7          2.3         virginica \n",
       "136 6.9          3.1         5.4          2.1         virginica \n",
       "137 6.9          3.1         5.1          2.3         virginica \n",
       "138 7.0          3.2         4.7          1.4         versicolor\n",
       "139 7.1          3.0         5.9          2.1         virginica \n",
       "140 7.2          3.6         6.1          2.5         virginica \n",
       "141 7.2          3.2         6.0          1.8         virginica \n",
       "142 7.2          3.0         5.8          1.6         virginica \n",
       "143 7.3          2.9         6.3          1.8         virginica \n",
       "144 7.4          2.8         6.1          1.9         virginica \n",
       "145 7.6          3.0         6.6          2.1         virginica \n",
       "146 7.7          3.8         6.7          2.2         virginica \n",
       "147 7.7          2.6         6.9          2.3         virginica \n",
       "148 7.7          2.8         6.7          2.0         virginica \n",
       "149 7.7          3.0         6.1          2.3         virginica \n",
       "150 7.9          3.8         6.4          2.0         virginica "
      ]
     },
     "metadata": {},
     "output_type": "display_data"
    }
   ],
   "source": [
    "## chain \n",
    "my_data %>% arrange(Sepal.Length)\n"
   ]
  },
  {
   "cell_type": "code",
   "execution_count": 67,
   "metadata": {},
   "outputs": [
    {
     "data": {
      "text/html": [
       "<table>\n",
       "<thead><tr><th scope=col>Sepal.Length</th><th scope=col>Sepal.Width</th><th scope=col>Petal.Length</th><th scope=col>Petal.Width</th><th scope=col>Species</th></tr></thead>\n",
       "<tbody>\n",
       "\t<tr><td>7.9       </td><td>3.8       </td><td>6.4       </td><td>2.0       </td><td>virginica </td></tr>\n",
       "\t<tr><td>7.7       </td><td>3.8       </td><td>6.7       </td><td>2.2       </td><td>virginica </td></tr>\n",
       "\t<tr><td>7.7       </td><td>2.6       </td><td>6.9       </td><td>2.3       </td><td>virginica </td></tr>\n",
       "\t<tr><td>7.7       </td><td>2.8       </td><td>6.7       </td><td>2.0       </td><td>virginica </td></tr>\n",
       "\t<tr><td>7.7       </td><td>3.0       </td><td>6.1       </td><td>2.3       </td><td>virginica </td></tr>\n",
       "\t<tr><td>7.6       </td><td>3.0       </td><td>6.6       </td><td>2.1       </td><td>virginica </td></tr>\n",
       "\t<tr><td>7.4       </td><td>2.8       </td><td>6.1       </td><td>1.9       </td><td>virginica </td></tr>\n",
       "\t<tr><td>7.3       </td><td>2.9       </td><td>6.3       </td><td>1.8       </td><td>virginica </td></tr>\n",
       "\t<tr><td>7.2       </td><td>3.6       </td><td>6.1       </td><td>2.5       </td><td>virginica </td></tr>\n",
       "\t<tr><td>7.2       </td><td>3.2       </td><td>6.0       </td><td>1.8       </td><td>virginica </td></tr>\n",
       "\t<tr><td>7.2       </td><td>3.0       </td><td>5.8       </td><td>1.6       </td><td>virginica </td></tr>\n",
       "\t<tr><td>7.1       </td><td>3.0       </td><td>5.9       </td><td>2.1       </td><td>virginica </td></tr>\n",
       "\t<tr><td>7.0       </td><td>3.2       </td><td>4.7       </td><td>1.4       </td><td>versicolor</td></tr>\n",
       "\t<tr><td>6.9       </td><td>3.1       </td><td>4.9       </td><td>1.5       </td><td>versicolor</td></tr>\n",
       "\t<tr><td>6.9       </td><td>3.2       </td><td>5.7       </td><td>2.3       </td><td>virginica </td></tr>\n",
       "\t<tr><td>6.9       </td><td>3.1       </td><td>5.4       </td><td>2.1       </td><td>virginica </td></tr>\n",
       "\t<tr><td>6.9       </td><td>3.1       </td><td>5.1       </td><td>2.3       </td><td>virginica </td></tr>\n",
       "\t<tr><td>6.8       </td><td>2.8       </td><td>4.8       </td><td>1.4       </td><td>versicolor</td></tr>\n",
       "\t<tr><td>6.8       </td><td>3.0       </td><td>5.5       </td><td>2.1       </td><td>virginica </td></tr>\n",
       "\t<tr><td>6.8       </td><td>3.2       </td><td>5.9       </td><td>2.3       </td><td>virginica </td></tr>\n",
       "\t<tr><td>6.7       </td><td>3.1       </td><td>4.4       </td><td>1.4       </td><td>versicolor</td></tr>\n",
       "\t<tr><td>6.7       </td><td>3.0       </td><td>5.0       </td><td>1.7       </td><td>versicolor</td></tr>\n",
       "\t<tr><td>6.7       </td><td>3.1       </td><td>4.7       </td><td>1.5       </td><td>versicolor</td></tr>\n",
       "\t<tr><td>6.7       </td><td>2.5       </td><td>5.8       </td><td>1.8       </td><td>virginica </td></tr>\n",
       "\t<tr><td>6.7       </td><td>3.3       </td><td>5.7       </td><td>2.1       </td><td>virginica </td></tr>\n",
       "\t<tr><td>6.7       </td><td>3.1       </td><td>5.6       </td><td>2.4       </td><td>virginica </td></tr>\n",
       "\t<tr><td>6.7       </td><td>3.3       </td><td>5.7       </td><td>2.5       </td><td>virginica </td></tr>\n",
       "\t<tr><td>6.7       </td><td>3.0       </td><td>5.2       </td><td>2.3       </td><td>virginica </td></tr>\n",
       "\t<tr><td>6.6       </td><td>2.9       </td><td>4.6       </td><td>1.3       </td><td>versicolor</td></tr>\n",
       "\t<tr><td>6.6       </td><td>3.0       </td><td>4.4       </td><td>1.4       </td><td>versicolor</td></tr>\n",
       "\t<tr><td>...</td><td>...</td><td>...</td><td>...</td><td>...</td></tr>\n",
       "\t<tr><td>5.0       </td><td>3.0       </td><td>1.6       </td><td>0.2       </td><td>setosa    </td></tr>\n",
       "\t<tr><td>5.0       </td><td>3.4       </td><td>1.6       </td><td>0.4       </td><td>setosa    </td></tr>\n",
       "\t<tr><td>5.0       </td><td>3.2       </td><td>1.2       </td><td>0.2       </td><td>setosa    </td></tr>\n",
       "\t<tr><td>5.0       </td><td>3.5       </td><td>1.3       </td><td>0.3       </td><td>setosa    </td></tr>\n",
       "\t<tr><td>5.0       </td><td>3.5       </td><td>1.6       </td><td>0.6       </td><td>setosa    </td></tr>\n",
       "\t<tr><td>5.0       </td><td>3.3       </td><td>1.4       </td><td>0.2       </td><td>setosa    </td></tr>\n",
       "\t<tr><td>5.0       </td><td>2.0       </td><td>3.5       </td><td>1.0       </td><td>versicolor</td></tr>\n",
       "\t<tr><td>5.0       </td><td>2.3       </td><td>3.3       </td><td>1.0       </td><td>versicolor</td></tr>\n",
       "\t<tr><td>4.9       </td><td>3.0       </td><td>1.4       </td><td>0.2       </td><td>setosa    </td></tr>\n",
       "\t<tr><td>4.9       </td><td>3.1       </td><td>1.5       </td><td>0.1       </td><td>setosa    </td></tr>\n",
       "\t<tr><td>4.9       </td><td>3.1       </td><td>1.5       </td><td>0.2       </td><td>setosa    </td></tr>\n",
       "\t<tr><td>4.9       </td><td>3.6       </td><td>1.4       </td><td>0.1       </td><td>setosa    </td></tr>\n",
       "\t<tr><td>4.9       </td><td>2.4       </td><td>3.3       </td><td>1.0       </td><td>versicolor</td></tr>\n",
       "\t<tr><td>4.9       </td><td>2.5       </td><td>4.5       </td><td>1.7       </td><td>virginica </td></tr>\n",
       "\t<tr><td>4.8       </td><td>3.4       </td><td>1.6       </td><td>0.2       </td><td>setosa    </td></tr>\n",
       "\t<tr><td>4.8       </td><td>3.0       </td><td>1.4       </td><td>0.1       </td><td>setosa    </td></tr>\n",
       "\t<tr><td>4.8       </td><td>3.4       </td><td>1.9       </td><td>0.2       </td><td>setosa    </td></tr>\n",
       "\t<tr><td>4.8       </td><td>3.1       </td><td>1.6       </td><td>0.2       </td><td>setosa    </td></tr>\n",
       "\t<tr><td>4.8       </td><td>3.0       </td><td>1.4       </td><td>0.3       </td><td>setosa    </td></tr>\n",
       "\t<tr><td>4.7       </td><td>3.2       </td><td>1.3       </td><td>0.2       </td><td>setosa    </td></tr>\n",
       "\t<tr><td>4.7       </td><td>3.2       </td><td>1.6       </td><td>0.2       </td><td>setosa    </td></tr>\n",
       "\t<tr><td>4.6       </td><td>3.1       </td><td>1.5       </td><td>0.2       </td><td>setosa    </td></tr>\n",
       "\t<tr><td>4.6       </td><td>3.4       </td><td>1.4       </td><td>0.3       </td><td>setosa    </td></tr>\n",
       "\t<tr><td>4.6       </td><td>3.6       </td><td>1.0       </td><td>0.2       </td><td>setosa    </td></tr>\n",
       "\t<tr><td>4.6       </td><td>3.2       </td><td>1.4       </td><td>0.2       </td><td>setosa    </td></tr>\n",
       "\t<tr><td>4.5       </td><td>2.3       </td><td>1.3       </td><td>0.3       </td><td>setosa    </td></tr>\n",
       "\t<tr><td>4.4       </td><td>2.9       </td><td>1.4       </td><td>0.2       </td><td>setosa    </td></tr>\n",
       "\t<tr><td>4.4       </td><td>3.0       </td><td>1.3       </td><td>0.2       </td><td>setosa    </td></tr>\n",
       "\t<tr><td>4.4       </td><td>3.2       </td><td>1.3       </td><td>0.2       </td><td>setosa    </td></tr>\n",
       "\t<tr><td>4.3       </td><td>3.0       </td><td>1.1       </td><td>0.1       </td><td>setosa    </td></tr>\n",
       "</tbody>\n",
       "</table>\n"
      ],
      "text/latex": [
       "\\begin{tabular}{r|lllll}\n",
       " Sepal.Length & Sepal.Width & Petal.Length & Petal.Width & Species\\\\\n",
       "\\hline\n",
       "\t 7.9        & 3.8        & 6.4        & 2.0        & virginica \\\\\n",
       "\t 7.7        & 3.8        & 6.7        & 2.2        & virginica \\\\\n",
       "\t 7.7        & 2.6        & 6.9        & 2.3        & virginica \\\\\n",
       "\t 7.7        & 2.8        & 6.7        & 2.0        & virginica \\\\\n",
       "\t 7.7        & 3.0        & 6.1        & 2.3        & virginica \\\\\n",
       "\t 7.6        & 3.0        & 6.6        & 2.1        & virginica \\\\\n",
       "\t 7.4        & 2.8        & 6.1        & 1.9        & virginica \\\\\n",
       "\t 7.3        & 2.9        & 6.3        & 1.8        & virginica \\\\\n",
       "\t 7.2        & 3.6        & 6.1        & 2.5        & virginica \\\\\n",
       "\t 7.2        & 3.2        & 6.0        & 1.8        & virginica \\\\\n",
       "\t 7.2        & 3.0        & 5.8        & 1.6        & virginica \\\\\n",
       "\t 7.1        & 3.0        & 5.9        & 2.1        & virginica \\\\\n",
       "\t 7.0        & 3.2        & 4.7        & 1.4        & versicolor\\\\\n",
       "\t 6.9        & 3.1        & 4.9        & 1.5        & versicolor\\\\\n",
       "\t 6.9        & 3.2        & 5.7        & 2.3        & virginica \\\\\n",
       "\t 6.9        & 3.1        & 5.4        & 2.1        & virginica \\\\\n",
       "\t 6.9        & 3.1        & 5.1        & 2.3        & virginica \\\\\n",
       "\t 6.8        & 2.8        & 4.8        & 1.4        & versicolor\\\\\n",
       "\t 6.8        & 3.0        & 5.5        & 2.1        & virginica \\\\\n",
       "\t 6.8        & 3.2        & 5.9        & 2.3        & virginica \\\\\n",
       "\t 6.7        & 3.1        & 4.4        & 1.4        & versicolor\\\\\n",
       "\t 6.7        & 3.0        & 5.0        & 1.7        & versicolor\\\\\n",
       "\t 6.7        & 3.1        & 4.7        & 1.5        & versicolor\\\\\n",
       "\t 6.7        & 2.5        & 5.8        & 1.8        & virginica \\\\\n",
       "\t 6.7        & 3.3        & 5.7        & 2.1        & virginica \\\\\n",
       "\t 6.7        & 3.1        & 5.6        & 2.4        & virginica \\\\\n",
       "\t 6.7        & 3.3        & 5.7        & 2.5        & virginica \\\\\n",
       "\t 6.7        & 3.0        & 5.2        & 2.3        & virginica \\\\\n",
       "\t 6.6        & 2.9        & 4.6        & 1.3        & versicolor\\\\\n",
       "\t 6.6        & 3.0        & 4.4        & 1.4        & versicolor\\\\\n",
       "\t ... & ... & ... & ... & ...\\\\\n",
       "\t 5.0        & 3.0        & 1.6        & 0.2        & setosa    \\\\\n",
       "\t 5.0        & 3.4        & 1.6        & 0.4        & setosa    \\\\\n",
       "\t 5.0        & 3.2        & 1.2        & 0.2        & setosa    \\\\\n",
       "\t 5.0        & 3.5        & 1.3        & 0.3        & setosa    \\\\\n",
       "\t 5.0        & 3.5        & 1.6        & 0.6        & setosa    \\\\\n",
       "\t 5.0        & 3.3        & 1.4        & 0.2        & setosa    \\\\\n",
       "\t 5.0        & 2.0        & 3.5        & 1.0        & versicolor\\\\\n",
       "\t 5.0        & 2.3        & 3.3        & 1.0        & versicolor\\\\\n",
       "\t 4.9        & 3.0        & 1.4        & 0.2        & setosa    \\\\\n",
       "\t 4.9        & 3.1        & 1.5        & 0.1        & setosa    \\\\\n",
       "\t 4.9        & 3.1        & 1.5        & 0.2        & setosa    \\\\\n",
       "\t 4.9        & 3.6        & 1.4        & 0.1        & setosa    \\\\\n",
       "\t 4.9        & 2.4        & 3.3        & 1.0        & versicolor\\\\\n",
       "\t 4.9        & 2.5        & 4.5        & 1.7        & virginica \\\\\n",
       "\t 4.8        & 3.4        & 1.6        & 0.2        & setosa    \\\\\n",
       "\t 4.8        & 3.0        & 1.4        & 0.1        & setosa    \\\\\n",
       "\t 4.8        & 3.4        & 1.9        & 0.2        & setosa    \\\\\n",
       "\t 4.8        & 3.1        & 1.6        & 0.2        & setosa    \\\\\n",
       "\t 4.8        & 3.0        & 1.4        & 0.3        & setosa    \\\\\n",
       "\t 4.7        & 3.2        & 1.3        & 0.2        & setosa    \\\\\n",
       "\t 4.7        & 3.2        & 1.6        & 0.2        & setosa    \\\\\n",
       "\t 4.6        & 3.1        & 1.5        & 0.2        & setosa    \\\\\n",
       "\t 4.6        & 3.4        & 1.4        & 0.3        & setosa    \\\\\n",
       "\t 4.6        & 3.6        & 1.0        & 0.2        & setosa    \\\\\n",
       "\t 4.6        & 3.2        & 1.4        & 0.2        & setosa    \\\\\n",
       "\t 4.5        & 2.3        & 1.3        & 0.3        & setosa    \\\\\n",
       "\t 4.4        & 2.9        & 1.4        & 0.2        & setosa    \\\\\n",
       "\t 4.4        & 3.0        & 1.3        & 0.2        & setosa    \\\\\n",
       "\t 4.4        & 3.2        & 1.3        & 0.2        & setosa    \\\\\n",
       "\t 4.3        & 3.0        & 1.1        & 0.1        & setosa    \\\\\n",
       "\\end{tabular}\n"
      ],
      "text/markdown": [
       "\n",
       "| Sepal.Length | Sepal.Width | Petal.Length | Petal.Width | Species |\n",
       "|---|---|---|---|---|\n",
       "| 7.9        | 3.8        | 6.4        | 2.0        | virginica  |\n",
       "| 7.7        | 3.8        | 6.7        | 2.2        | virginica  |\n",
       "| 7.7        | 2.6        | 6.9        | 2.3        | virginica  |\n",
       "| 7.7        | 2.8        | 6.7        | 2.0        | virginica  |\n",
       "| 7.7        | 3.0        | 6.1        | 2.3        | virginica  |\n",
       "| 7.6        | 3.0        | 6.6        | 2.1        | virginica  |\n",
       "| 7.4        | 2.8        | 6.1        | 1.9        | virginica  |\n",
       "| 7.3        | 2.9        | 6.3        | 1.8        | virginica  |\n",
       "| 7.2        | 3.6        | 6.1        | 2.5        | virginica  |\n",
       "| 7.2        | 3.2        | 6.0        | 1.8        | virginica  |\n",
       "| 7.2        | 3.0        | 5.8        | 1.6        | virginica  |\n",
       "| 7.1        | 3.0        | 5.9        | 2.1        | virginica  |\n",
       "| 7.0        | 3.2        | 4.7        | 1.4        | versicolor |\n",
       "| 6.9        | 3.1        | 4.9        | 1.5        | versicolor |\n",
       "| 6.9        | 3.2        | 5.7        | 2.3        | virginica  |\n",
       "| 6.9        | 3.1        | 5.4        | 2.1        | virginica  |\n",
       "| 6.9        | 3.1        | 5.1        | 2.3        | virginica  |\n",
       "| 6.8        | 2.8        | 4.8        | 1.4        | versicolor |\n",
       "| 6.8        | 3.0        | 5.5        | 2.1        | virginica  |\n",
       "| 6.8        | 3.2        | 5.9        | 2.3        | virginica  |\n",
       "| 6.7        | 3.1        | 4.4        | 1.4        | versicolor |\n",
       "| 6.7        | 3.0        | 5.0        | 1.7        | versicolor |\n",
       "| 6.7        | 3.1        | 4.7        | 1.5        | versicolor |\n",
       "| 6.7        | 2.5        | 5.8        | 1.8        | virginica  |\n",
       "| 6.7        | 3.3        | 5.7        | 2.1        | virginica  |\n",
       "| 6.7        | 3.1        | 5.6        | 2.4        | virginica  |\n",
       "| 6.7        | 3.3        | 5.7        | 2.5        | virginica  |\n",
       "| 6.7        | 3.0        | 5.2        | 2.3        | virginica  |\n",
       "| 6.6        | 2.9        | 4.6        | 1.3        | versicolor |\n",
       "| 6.6        | 3.0        | 4.4        | 1.4        | versicolor |\n",
       "| ... | ... | ... | ... | ... |\n",
       "| 5.0        | 3.0        | 1.6        | 0.2        | setosa     |\n",
       "| 5.0        | 3.4        | 1.6        | 0.4        | setosa     |\n",
       "| 5.0        | 3.2        | 1.2        | 0.2        | setosa     |\n",
       "| 5.0        | 3.5        | 1.3        | 0.3        | setosa     |\n",
       "| 5.0        | 3.5        | 1.6        | 0.6        | setosa     |\n",
       "| 5.0        | 3.3        | 1.4        | 0.2        | setosa     |\n",
       "| 5.0        | 2.0        | 3.5        | 1.0        | versicolor |\n",
       "| 5.0        | 2.3        | 3.3        | 1.0        | versicolor |\n",
       "| 4.9        | 3.0        | 1.4        | 0.2        | setosa     |\n",
       "| 4.9        | 3.1        | 1.5        | 0.1        | setosa     |\n",
       "| 4.9        | 3.1        | 1.5        | 0.2        | setosa     |\n",
       "| 4.9        | 3.6        | 1.4        | 0.1        | setosa     |\n",
       "| 4.9        | 2.4        | 3.3        | 1.0        | versicolor |\n",
       "| 4.9        | 2.5        | 4.5        | 1.7        | virginica  |\n",
       "| 4.8        | 3.4        | 1.6        | 0.2        | setosa     |\n",
       "| 4.8        | 3.0        | 1.4        | 0.1        | setosa     |\n",
       "| 4.8        | 3.4        | 1.9        | 0.2        | setosa     |\n",
       "| 4.8        | 3.1        | 1.6        | 0.2        | setosa     |\n",
       "| 4.8        | 3.0        | 1.4        | 0.3        | setosa     |\n",
       "| 4.7        | 3.2        | 1.3        | 0.2        | setosa     |\n",
       "| 4.7        | 3.2        | 1.6        | 0.2        | setosa     |\n",
       "| 4.6        | 3.1        | 1.5        | 0.2        | setosa     |\n",
       "| 4.6        | 3.4        | 1.4        | 0.3        | setosa     |\n",
       "| 4.6        | 3.6        | 1.0        | 0.2        | setosa     |\n",
       "| 4.6        | 3.2        | 1.4        | 0.2        | setosa     |\n",
       "| 4.5        | 2.3        | 1.3        | 0.3        | setosa     |\n",
       "| 4.4        | 2.9        | 1.4        | 0.2        | setosa     |\n",
       "| 4.4        | 3.0        | 1.3        | 0.2        | setosa     |\n",
       "| 4.4        | 3.2        | 1.3        | 0.2        | setosa     |\n",
       "| 4.3        | 3.0        | 1.1        | 0.1        | setosa     |\n",
       "\n"
      ],
      "text/plain": [
       "    Sepal.Length Sepal.Width Petal.Length Petal.Width Species   \n",
       "1   7.9          3.8         6.4          2.0         virginica \n",
       "2   7.7          3.8         6.7          2.2         virginica \n",
       "3   7.7          2.6         6.9          2.3         virginica \n",
       "4   7.7          2.8         6.7          2.0         virginica \n",
       "5   7.7          3.0         6.1          2.3         virginica \n",
       "6   7.6          3.0         6.6          2.1         virginica \n",
       "7   7.4          2.8         6.1          1.9         virginica \n",
       "8   7.3          2.9         6.3          1.8         virginica \n",
       "9   7.2          3.6         6.1          2.5         virginica \n",
       "10  7.2          3.2         6.0          1.8         virginica \n",
       "11  7.2          3.0         5.8          1.6         virginica \n",
       "12  7.1          3.0         5.9          2.1         virginica \n",
       "13  7.0          3.2         4.7          1.4         versicolor\n",
       "14  6.9          3.1         4.9          1.5         versicolor\n",
       "15  6.9          3.2         5.7          2.3         virginica \n",
       "16  6.9          3.1         5.4          2.1         virginica \n",
       "17  6.9          3.1         5.1          2.3         virginica \n",
       "18  6.8          2.8         4.8          1.4         versicolor\n",
       "19  6.8          3.0         5.5          2.1         virginica \n",
       "20  6.8          3.2         5.9          2.3         virginica \n",
       "21  6.7          3.1         4.4          1.4         versicolor\n",
       "22  6.7          3.0         5.0          1.7         versicolor\n",
       "23  6.7          3.1         4.7          1.5         versicolor\n",
       "24  6.7          2.5         5.8          1.8         virginica \n",
       "25  6.7          3.3         5.7          2.1         virginica \n",
       "26  6.7          3.1         5.6          2.4         virginica \n",
       "27  6.7          3.3         5.7          2.5         virginica \n",
       "28  6.7          3.0         5.2          2.3         virginica \n",
       "29  6.6          2.9         4.6          1.3         versicolor\n",
       "30  6.6          3.0         4.4          1.4         versicolor\n",
       "... ...          ...         ...          ...         ...       \n",
       "121 5.0          3.0         1.6          0.2         setosa    \n",
       "122 5.0          3.4         1.6          0.4         setosa    \n",
       "123 5.0          3.2         1.2          0.2         setosa    \n",
       "124 5.0          3.5         1.3          0.3         setosa    \n",
       "125 5.0          3.5         1.6          0.6         setosa    \n",
       "126 5.0          3.3         1.4          0.2         setosa    \n",
       "127 5.0          2.0         3.5          1.0         versicolor\n",
       "128 5.0          2.3         3.3          1.0         versicolor\n",
       "129 4.9          3.0         1.4          0.2         setosa    \n",
       "130 4.9          3.1         1.5          0.1         setosa    \n",
       "131 4.9          3.1         1.5          0.2         setosa    \n",
       "132 4.9          3.6         1.4          0.1         setosa    \n",
       "133 4.9          2.4         3.3          1.0         versicolor\n",
       "134 4.9          2.5         4.5          1.7         virginica \n",
       "135 4.8          3.4         1.6          0.2         setosa    \n",
       "136 4.8          3.0         1.4          0.1         setosa    \n",
       "137 4.8          3.4         1.9          0.2         setosa    \n",
       "138 4.8          3.1         1.6          0.2         setosa    \n",
       "139 4.8          3.0         1.4          0.3         setosa    \n",
       "140 4.7          3.2         1.3          0.2         setosa    \n",
       "141 4.7          3.2         1.6          0.2         setosa    \n",
       "142 4.6          3.1         1.5          0.2         setosa    \n",
       "143 4.6          3.4         1.4          0.3         setosa    \n",
       "144 4.6          3.6         1.0          0.2         setosa    \n",
       "145 4.6          3.2         1.4          0.2         setosa    \n",
       "146 4.5          2.3         1.3          0.3         setosa    \n",
       "147 4.4          2.9         1.4          0.2         setosa    \n",
       "148 4.4          3.0         1.3          0.2         setosa    \n",
       "149 4.4          3.2         1.3          0.2         setosa    \n",
       "150 4.3          3.0         1.1          0.1         setosa    "
      ]
     },
     "metadata": {},
     "output_type": "display_data"
    }
   ],
   "source": [
    "my_data %>% arrange(desc(Sepal.Length))"
   ]
  },
  {
   "cell_type": "code",
   "execution_count": 68,
   "metadata": {},
   "outputs": [
    {
     "data": {
      "text/html": [
       "<table>\n",
       "<thead><tr><th scope=col>Sepal.Length</th><th scope=col>Sepal.Width</th><th scope=col>Petal.Length</th><th scope=col>Petal.Width</th><th scope=col>Species</th></tr></thead>\n",
       "<tbody>\n",
       "\t<tr><td>7.9       </td><td>3.8       </td><td>6.4       </td><td>2.0       </td><td>virginica </td></tr>\n",
       "\t<tr><td>7.7       </td><td>3.8       </td><td>6.7       </td><td>2.2       </td><td>virginica </td></tr>\n",
       "\t<tr><td>7.7       </td><td>2.6       </td><td>6.9       </td><td>2.3       </td><td>virginica </td></tr>\n",
       "\t<tr><td>7.7       </td><td>2.8       </td><td>6.7       </td><td>2.0       </td><td>virginica </td></tr>\n",
       "\t<tr><td>7.7       </td><td>3.0       </td><td>6.1       </td><td>2.3       </td><td>virginica </td></tr>\n",
       "\t<tr><td>7.6       </td><td>3.0       </td><td>6.6       </td><td>2.1       </td><td>virginica </td></tr>\n",
       "\t<tr><td>7.4       </td><td>2.8       </td><td>6.1       </td><td>1.9       </td><td>virginica </td></tr>\n",
       "\t<tr><td>7.3       </td><td>2.9       </td><td>6.3       </td><td>1.8       </td><td>virginica </td></tr>\n",
       "\t<tr><td>7.2       </td><td>3.6       </td><td>6.1       </td><td>2.5       </td><td>virginica </td></tr>\n",
       "\t<tr><td>7.2       </td><td>3.2       </td><td>6.0       </td><td>1.8       </td><td>virginica </td></tr>\n",
       "\t<tr><td>7.2       </td><td>3.0       </td><td>5.8       </td><td>1.6       </td><td>virginica </td></tr>\n",
       "\t<tr><td>7.1       </td><td>3.0       </td><td>5.9       </td><td>2.1       </td><td>virginica </td></tr>\n",
       "\t<tr><td>7.0       </td><td>3.2       </td><td>4.7       </td><td>1.4       </td><td>versicolor</td></tr>\n",
       "\t<tr><td>6.9       </td><td>3.1       </td><td>4.9       </td><td>1.5       </td><td>versicolor</td></tr>\n",
       "\t<tr><td>6.9       </td><td>3.2       </td><td>5.7       </td><td>2.3       </td><td>virginica </td></tr>\n",
       "\t<tr><td>6.9       </td><td>3.1       </td><td>5.4       </td><td>2.1       </td><td>virginica </td></tr>\n",
       "\t<tr><td>6.9       </td><td>3.1       </td><td>5.1       </td><td>2.3       </td><td>virginica </td></tr>\n",
       "\t<tr><td>6.8       </td><td>2.8       </td><td>4.8       </td><td>1.4       </td><td>versicolor</td></tr>\n",
       "\t<tr><td>6.8       </td><td>3.0       </td><td>5.5       </td><td>2.1       </td><td>virginica </td></tr>\n",
       "\t<tr><td>6.8       </td><td>3.2       </td><td>5.9       </td><td>2.3       </td><td>virginica </td></tr>\n",
       "\t<tr><td>6.7       </td><td>3.1       </td><td>4.4       </td><td>1.4       </td><td>versicolor</td></tr>\n",
       "\t<tr><td>6.7       </td><td>3.0       </td><td>5.0       </td><td>1.7       </td><td>versicolor</td></tr>\n",
       "\t<tr><td>6.7       </td><td>3.1       </td><td>4.7       </td><td>1.5       </td><td>versicolor</td></tr>\n",
       "\t<tr><td>6.7       </td><td>2.5       </td><td>5.8       </td><td>1.8       </td><td>virginica </td></tr>\n",
       "\t<tr><td>6.7       </td><td>3.3       </td><td>5.7       </td><td>2.1       </td><td>virginica </td></tr>\n",
       "\t<tr><td>6.7       </td><td>3.1       </td><td>5.6       </td><td>2.4       </td><td>virginica </td></tr>\n",
       "\t<tr><td>6.7       </td><td>3.3       </td><td>5.7       </td><td>2.5       </td><td>virginica </td></tr>\n",
       "\t<tr><td>6.7       </td><td>3.0       </td><td>5.2       </td><td>2.3       </td><td>virginica </td></tr>\n",
       "\t<tr><td>6.6       </td><td>2.9       </td><td>4.6       </td><td>1.3       </td><td>versicolor</td></tr>\n",
       "\t<tr><td>6.6       </td><td>3.0       </td><td>4.4       </td><td>1.4       </td><td>versicolor</td></tr>\n",
       "\t<tr><td>...</td><td>...</td><td>...</td><td>...</td><td>...</td></tr>\n",
       "\t<tr><td>5.0       </td><td>3.0       </td><td>1.6       </td><td>0.2       </td><td>setosa    </td></tr>\n",
       "\t<tr><td>5.0       </td><td>3.4       </td><td>1.6       </td><td>0.4       </td><td>setosa    </td></tr>\n",
       "\t<tr><td>5.0       </td><td>3.2       </td><td>1.2       </td><td>0.2       </td><td>setosa    </td></tr>\n",
       "\t<tr><td>5.0       </td><td>3.5       </td><td>1.3       </td><td>0.3       </td><td>setosa    </td></tr>\n",
       "\t<tr><td>5.0       </td><td>3.5       </td><td>1.6       </td><td>0.6       </td><td>setosa    </td></tr>\n",
       "\t<tr><td>5.0       </td><td>3.3       </td><td>1.4       </td><td>0.2       </td><td>setosa    </td></tr>\n",
       "\t<tr><td>5.0       </td><td>2.0       </td><td>3.5       </td><td>1.0       </td><td>versicolor</td></tr>\n",
       "\t<tr><td>5.0       </td><td>2.3       </td><td>3.3       </td><td>1.0       </td><td>versicolor</td></tr>\n",
       "\t<tr><td>4.9       </td><td>3.0       </td><td>1.4       </td><td>0.2       </td><td>setosa    </td></tr>\n",
       "\t<tr><td>4.9       </td><td>3.1       </td><td>1.5       </td><td>0.1       </td><td>setosa    </td></tr>\n",
       "\t<tr><td>4.9       </td><td>3.1       </td><td>1.5       </td><td>0.2       </td><td>setosa    </td></tr>\n",
       "\t<tr><td>4.9       </td><td>3.6       </td><td>1.4       </td><td>0.1       </td><td>setosa    </td></tr>\n",
       "\t<tr><td>4.9       </td><td>2.4       </td><td>3.3       </td><td>1.0       </td><td>versicolor</td></tr>\n",
       "\t<tr><td>4.9       </td><td>2.5       </td><td>4.5       </td><td>1.7       </td><td>virginica </td></tr>\n",
       "\t<tr><td>4.8       </td><td>3.4       </td><td>1.6       </td><td>0.2       </td><td>setosa    </td></tr>\n",
       "\t<tr><td>4.8       </td><td>3.0       </td><td>1.4       </td><td>0.1       </td><td>setosa    </td></tr>\n",
       "\t<tr><td>4.8       </td><td>3.4       </td><td>1.9       </td><td>0.2       </td><td>setosa    </td></tr>\n",
       "\t<tr><td>4.8       </td><td>3.1       </td><td>1.6       </td><td>0.2       </td><td>setosa    </td></tr>\n",
       "\t<tr><td>4.8       </td><td>3.0       </td><td>1.4       </td><td>0.3       </td><td>setosa    </td></tr>\n",
       "\t<tr><td>4.7       </td><td>3.2       </td><td>1.3       </td><td>0.2       </td><td>setosa    </td></tr>\n",
       "\t<tr><td>4.7       </td><td>3.2       </td><td>1.6       </td><td>0.2       </td><td>setosa    </td></tr>\n",
       "\t<tr><td>4.6       </td><td>3.1       </td><td>1.5       </td><td>0.2       </td><td>setosa    </td></tr>\n",
       "\t<tr><td>4.6       </td><td>3.4       </td><td>1.4       </td><td>0.3       </td><td>setosa    </td></tr>\n",
       "\t<tr><td>4.6       </td><td>3.6       </td><td>1.0       </td><td>0.2       </td><td>setosa    </td></tr>\n",
       "\t<tr><td>4.6       </td><td>3.2       </td><td>1.4       </td><td>0.2       </td><td>setosa    </td></tr>\n",
       "\t<tr><td>4.5       </td><td>2.3       </td><td>1.3       </td><td>0.3       </td><td>setosa    </td></tr>\n",
       "\t<tr><td>4.4       </td><td>2.9       </td><td>1.4       </td><td>0.2       </td><td>setosa    </td></tr>\n",
       "\t<tr><td>4.4       </td><td>3.0       </td><td>1.3       </td><td>0.2       </td><td>setosa    </td></tr>\n",
       "\t<tr><td>4.4       </td><td>3.2       </td><td>1.3       </td><td>0.2       </td><td>setosa    </td></tr>\n",
       "\t<tr><td>4.3       </td><td>3.0       </td><td>1.1       </td><td>0.1       </td><td>setosa    </td></tr>\n",
       "</tbody>\n",
       "</table>\n"
      ],
      "text/latex": [
       "\\begin{tabular}{r|lllll}\n",
       " Sepal.Length & Sepal.Width & Petal.Length & Petal.Width & Species\\\\\n",
       "\\hline\n",
       "\t 7.9        & 3.8        & 6.4        & 2.0        & virginica \\\\\n",
       "\t 7.7        & 3.8        & 6.7        & 2.2        & virginica \\\\\n",
       "\t 7.7        & 2.6        & 6.9        & 2.3        & virginica \\\\\n",
       "\t 7.7        & 2.8        & 6.7        & 2.0        & virginica \\\\\n",
       "\t 7.7        & 3.0        & 6.1        & 2.3        & virginica \\\\\n",
       "\t 7.6        & 3.0        & 6.6        & 2.1        & virginica \\\\\n",
       "\t 7.4        & 2.8        & 6.1        & 1.9        & virginica \\\\\n",
       "\t 7.3        & 2.9        & 6.3        & 1.8        & virginica \\\\\n",
       "\t 7.2        & 3.6        & 6.1        & 2.5        & virginica \\\\\n",
       "\t 7.2        & 3.2        & 6.0        & 1.8        & virginica \\\\\n",
       "\t 7.2        & 3.0        & 5.8        & 1.6        & virginica \\\\\n",
       "\t 7.1        & 3.0        & 5.9        & 2.1        & virginica \\\\\n",
       "\t 7.0        & 3.2        & 4.7        & 1.4        & versicolor\\\\\n",
       "\t 6.9        & 3.1        & 4.9        & 1.5        & versicolor\\\\\n",
       "\t 6.9        & 3.2        & 5.7        & 2.3        & virginica \\\\\n",
       "\t 6.9        & 3.1        & 5.4        & 2.1        & virginica \\\\\n",
       "\t 6.9        & 3.1        & 5.1        & 2.3        & virginica \\\\\n",
       "\t 6.8        & 2.8        & 4.8        & 1.4        & versicolor\\\\\n",
       "\t 6.8        & 3.0        & 5.5        & 2.1        & virginica \\\\\n",
       "\t 6.8        & 3.2        & 5.9        & 2.3        & virginica \\\\\n",
       "\t 6.7        & 3.1        & 4.4        & 1.4        & versicolor\\\\\n",
       "\t 6.7        & 3.0        & 5.0        & 1.7        & versicolor\\\\\n",
       "\t 6.7        & 3.1        & 4.7        & 1.5        & versicolor\\\\\n",
       "\t 6.7        & 2.5        & 5.8        & 1.8        & virginica \\\\\n",
       "\t 6.7        & 3.3        & 5.7        & 2.1        & virginica \\\\\n",
       "\t 6.7        & 3.1        & 5.6        & 2.4        & virginica \\\\\n",
       "\t 6.7        & 3.3        & 5.7        & 2.5        & virginica \\\\\n",
       "\t 6.7        & 3.0        & 5.2        & 2.3        & virginica \\\\\n",
       "\t 6.6        & 2.9        & 4.6        & 1.3        & versicolor\\\\\n",
       "\t 6.6        & 3.0        & 4.4        & 1.4        & versicolor\\\\\n",
       "\t ... & ... & ... & ... & ...\\\\\n",
       "\t 5.0        & 3.0        & 1.6        & 0.2        & setosa    \\\\\n",
       "\t 5.0        & 3.4        & 1.6        & 0.4        & setosa    \\\\\n",
       "\t 5.0        & 3.2        & 1.2        & 0.2        & setosa    \\\\\n",
       "\t 5.0        & 3.5        & 1.3        & 0.3        & setosa    \\\\\n",
       "\t 5.0        & 3.5        & 1.6        & 0.6        & setosa    \\\\\n",
       "\t 5.0        & 3.3        & 1.4        & 0.2        & setosa    \\\\\n",
       "\t 5.0        & 2.0        & 3.5        & 1.0        & versicolor\\\\\n",
       "\t 5.0        & 2.3        & 3.3        & 1.0        & versicolor\\\\\n",
       "\t 4.9        & 3.0        & 1.4        & 0.2        & setosa    \\\\\n",
       "\t 4.9        & 3.1        & 1.5        & 0.1        & setosa    \\\\\n",
       "\t 4.9        & 3.1        & 1.5        & 0.2        & setosa    \\\\\n",
       "\t 4.9        & 3.6        & 1.4        & 0.1        & setosa    \\\\\n",
       "\t 4.9        & 2.4        & 3.3        & 1.0        & versicolor\\\\\n",
       "\t 4.9        & 2.5        & 4.5        & 1.7        & virginica \\\\\n",
       "\t 4.8        & 3.4        & 1.6        & 0.2        & setosa    \\\\\n",
       "\t 4.8        & 3.0        & 1.4        & 0.1        & setosa    \\\\\n",
       "\t 4.8        & 3.4        & 1.9        & 0.2        & setosa    \\\\\n",
       "\t 4.8        & 3.1        & 1.6        & 0.2        & setosa    \\\\\n",
       "\t 4.8        & 3.0        & 1.4        & 0.3        & setosa    \\\\\n",
       "\t 4.7        & 3.2        & 1.3        & 0.2        & setosa    \\\\\n",
       "\t 4.7        & 3.2        & 1.6        & 0.2        & setosa    \\\\\n",
       "\t 4.6        & 3.1        & 1.5        & 0.2        & setosa    \\\\\n",
       "\t 4.6        & 3.4        & 1.4        & 0.3        & setosa    \\\\\n",
       "\t 4.6        & 3.6        & 1.0        & 0.2        & setosa    \\\\\n",
       "\t 4.6        & 3.2        & 1.4        & 0.2        & setosa    \\\\\n",
       "\t 4.5        & 2.3        & 1.3        & 0.3        & setosa    \\\\\n",
       "\t 4.4        & 2.9        & 1.4        & 0.2        & setosa    \\\\\n",
       "\t 4.4        & 3.0        & 1.3        & 0.2        & setosa    \\\\\n",
       "\t 4.4        & 3.2        & 1.3        & 0.2        & setosa    \\\\\n",
       "\t 4.3        & 3.0        & 1.1        & 0.1        & setosa    \\\\\n",
       "\\end{tabular}\n"
      ],
      "text/markdown": [
       "\n",
       "| Sepal.Length | Sepal.Width | Petal.Length | Petal.Width | Species |\n",
       "|---|---|---|---|---|\n",
       "| 7.9        | 3.8        | 6.4        | 2.0        | virginica  |\n",
       "| 7.7        | 3.8        | 6.7        | 2.2        | virginica  |\n",
       "| 7.7        | 2.6        | 6.9        | 2.3        | virginica  |\n",
       "| 7.7        | 2.8        | 6.7        | 2.0        | virginica  |\n",
       "| 7.7        | 3.0        | 6.1        | 2.3        | virginica  |\n",
       "| 7.6        | 3.0        | 6.6        | 2.1        | virginica  |\n",
       "| 7.4        | 2.8        | 6.1        | 1.9        | virginica  |\n",
       "| 7.3        | 2.9        | 6.3        | 1.8        | virginica  |\n",
       "| 7.2        | 3.6        | 6.1        | 2.5        | virginica  |\n",
       "| 7.2        | 3.2        | 6.0        | 1.8        | virginica  |\n",
       "| 7.2        | 3.0        | 5.8        | 1.6        | virginica  |\n",
       "| 7.1        | 3.0        | 5.9        | 2.1        | virginica  |\n",
       "| 7.0        | 3.2        | 4.7        | 1.4        | versicolor |\n",
       "| 6.9        | 3.1        | 4.9        | 1.5        | versicolor |\n",
       "| 6.9        | 3.2        | 5.7        | 2.3        | virginica  |\n",
       "| 6.9        | 3.1        | 5.4        | 2.1        | virginica  |\n",
       "| 6.9        | 3.1        | 5.1        | 2.3        | virginica  |\n",
       "| 6.8        | 2.8        | 4.8        | 1.4        | versicolor |\n",
       "| 6.8        | 3.0        | 5.5        | 2.1        | virginica  |\n",
       "| 6.8        | 3.2        | 5.9        | 2.3        | virginica  |\n",
       "| 6.7        | 3.1        | 4.4        | 1.4        | versicolor |\n",
       "| 6.7        | 3.0        | 5.0        | 1.7        | versicolor |\n",
       "| 6.7        | 3.1        | 4.7        | 1.5        | versicolor |\n",
       "| 6.7        | 2.5        | 5.8        | 1.8        | virginica  |\n",
       "| 6.7        | 3.3        | 5.7        | 2.1        | virginica  |\n",
       "| 6.7        | 3.1        | 5.6        | 2.4        | virginica  |\n",
       "| 6.7        | 3.3        | 5.7        | 2.5        | virginica  |\n",
       "| 6.7        | 3.0        | 5.2        | 2.3        | virginica  |\n",
       "| 6.6        | 2.9        | 4.6        | 1.3        | versicolor |\n",
       "| 6.6        | 3.0        | 4.4        | 1.4        | versicolor |\n",
       "| ... | ... | ... | ... | ... |\n",
       "| 5.0        | 3.0        | 1.6        | 0.2        | setosa     |\n",
       "| 5.0        | 3.4        | 1.6        | 0.4        | setosa     |\n",
       "| 5.0        | 3.2        | 1.2        | 0.2        | setosa     |\n",
       "| 5.0        | 3.5        | 1.3        | 0.3        | setosa     |\n",
       "| 5.0        | 3.5        | 1.6        | 0.6        | setosa     |\n",
       "| 5.0        | 3.3        | 1.4        | 0.2        | setosa     |\n",
       "| 5.0        | 2.0        | 3.5        | 1.0        | versicolor |\n",
       "| 5.0        | 2.3        | 3.3        | 1.0        | versicolor |\n",
       "| 4.9        | 3.0        | 1.4        | 0.2        | setosa     |\n",
       "| 4.9        | 3.1        | 1.5        | 0.1        | setosa     |\n",
       "| 4.9        | 3.1        | 1.5        | 0.2        | setosa     |\n",
       "| 4.9        | 3.6        | 1.4        | 0.1        | setosa     |\n",
       "| 4.9        | 2.4        | 3.3        | 1.0        | versicolor |\n",
       "| 4.9        | 2.5        | 4.5        | 1.7        | virginica  |\n",
       "| 4.8        | 3.4        | 1.6        | 0.2        | setosa     |\n",
       "| 4.8        | 3.0        | 1.4        | 0.1        | setosa     |\n",
       "| 4.8        | 3.4        | 1.9        | 0.2        | setosa     |\n",
       "| 4.8        | 3.1        | 1.6        | 0.2        | setosa     |\n",
       "| 4.8        | 3.0        | 1.4        | 0.3        | setosa     |\n",
       "| 4.7        | 3.2        | 1.3        | 0.2        | setosa     |\n",
       "| 4.7        | 3.2        | 1.6        | 0.2        | setosa     |\n",
       "| 4.6        | 3.1        | 1.5        | 0.2        | setosa     |\n",
       "| 4.6        | 3.4        | 1.4        | 0.3        | setosa     |\n",
       "| 4.6        | 3.6        | 1.0        | 0.2        | setosa     |\n",
       "| 4.6        | 3.2        | 1.4        | 0.2        | setosa     |\n",
       "| 4.5        | 2.3        | 1.3        | 0.3        | setosa     |\n",
       "| 4.4        | 2.9        | 1.4        | 0.2        | setosa     |\n",
       "| 4.4        | 3.0        | 1.3        | 0.2        | setosa     |\n",
       "| 4.4        | 3.2        | 1.3        | 0.2        | setosa     |\n",
       "| 4.3        | 3.0        | 1.1        | 0.1        | setosa     |\n",
       "\n"
      ],
      "text/plain": [
       "    Sepal.Length Sepal.Width Petal.Length Petal.Width Species   \n",
       "1   7.9          3.8         6.4          2.0         virginica \n",
       "2   7.7          3.8         6.7          2.2         virginica \n",
       "3   7.7          2.6         6.9          2.3         virginica \n",
       "4   7.7          2.8         6.7          2.0         virginica \n",
       "5   7.7          3.0         6.1          2.3         virginica \n",
       "6   7.6          3.0         6.6          2.1         virginica \n",
       "7   7.4          2.8         6.1          1.9         virginica \n",
       "8   7.3          2.9         6.3          1.8         virginica \n",
       "9   7.2          3.6         6.1          2.5         virginica \n",
       "10  7.2          3.2         6.0          1.8         virginica \n",
       "11  7.2          3.0         5.8          1.6         virginica \n",
       "12  7.1          3.0         5.9          2.1         virginica \n",
       "13  7.0          3.2         4.7          1.4         versicolor\n",
       "14  6.9          3.1         4.9          1.5         versicolor\n",
       "15  6.9          3.2         5.7          2.3         virginica \n",
       "16  6.9          3.1         5.4          2.1         virginica \n",
       "17  6.9          3.1         5.1          2.3         virginica \n",
       "18  6.8          2.8         4.8          1.4         versicolor\n",
       "19  6.8          3.0         5.5          2.1         virginica \n",
       "20  6.8          3.2         5.9          2.3         virginica \n",
       "21  6.7          3.1         4.4          1.4         versicolor\n",
       "22  6.7          3.0         5.0          1.7         versicolor\n",
       "23  6.7          3.1         4.7          1.5         versicolor\n",
       "24  6.7          2.5         5.8          1.8         virginica \n",
       "25  6.7          3.3         5.7          2.1         virginica \n",
       "26  6.7          3.1         5.6          2.4         virginica \n",
       "27  6.7          3.3         5.7          2.5         virginica \n",
       "28  6.7          3.0         5.2          2.3         virginica \n",
       "29  6.6          2.9         4.6          1.3         versicolor\n",
       "30  6.6          3.0         4.4          1.4         versicolor\n",
       "... ...          ...         ...          ...         ...       \n",
       "121 5.0          3.0         1.6          0.2         setosa    \n",
       "122 5.0          3.4         1.6          0.4         setosa    \n",
       "123 5.0          3.2         1.2          0.2         setosa    \n",
       "124 5.0          3.5         1.3          0.3         setosa    \n",
       "125 5.0          3.5         1.6          0.6         setosa    \n",
       "126 5.0          3.3         1.4          0.2         setosa    \n",
       "127 5.0          2.0         3.5          1.0         versicolor\n",
       "128 5.0          2.3         3.3          1.0         versicolor\n",
       "129 4.9          3.0         1.4          0.2         setosa    \n",
       "130 4.9          3.1         1.5          0.1         setosa    \n",
       "131 4.9          3.1         1.5          0.2         setosa    \n",
       "132 4.9          3.6         1.4          0.1         setosa    \n",
       "133 4.9          2.4         3.3          1.0         versicolor\n",
       "134 4.9          2.5         4.5          1.7         virginica \n",
       "135 4.8          3.4         1.6          0.2         setosa    \n",
       "136 4.8          3.0         1.4          0.1         setosa    \n",
       "137 4.8          3.4         1.9          0.2         setosa    \n",
       "138 4.8          3.1         1.6          0.2         setosa    \n",
       "139 4.8          3.0         1.4          0.3         setosa    \n",
       "140 4.7          3.2         1.3          0.2         setosa    \n",
       "141 4.7          3.2         1.6          0.2         setosa    \n",
       "142 4.6          3.1         1.5          0.2         setosa    \n",
       "143 4.6          3.4         1.4          0.3         setosa    \n",
       "144 4.6          3.6         1.0          0.2         setosa    \n",
       "145 4.6          3.2         1.4          0.2         setosa    \n",
       "146 4.5          2.3         1.3          0.3         setosa    \n",
       "147 4.4          2.9         1.4          0.2         setosa    \n",
       "148 4.4          3.0         1.3          0.2         setosa    \n",
       "149 4.4          3.2         1.3          0.2         setosa    \n",
       "150 4.3          3.0         1.1          0.1         setosa    "
      ]
     },
     "metadata": {},
     "output_type": "display_data"
    }
   ],
   "source": [
    "arrange(my_data, -Sepal.Length)"
   ]
  },
  {
   "cell_type": "markdown",
   "metadata": {},
   "source": [
    "# 18.Select"
   ]
  },
  {
   "cell_type": "code",
   "execution_count": 69,
   "metadata": {},
   "outputs": [],
   "source": [
    "?starwars"
   ]
  },
  {
   "cell_type": "code",
   "execution_count": 70,
   "metadata": {},
   "outputs": [],
   "source": [
    "starwars.s <-select(starwars,height,mass,hair_color,skin_color,eye_color,gender)"
   ]
  },
  {
   "cell_type": "code",
   "execution_count": 71,
   "metadata": {},
   "outputs": [
    {
     "data": {
      "text/html": [
       "<table>\n",
       "<thead><tr><th scope=col>height</th><th scope=col>mass</th><th scope=col>hair_color</th><th scope=col>skin_color</th><th scope=col>eye_color</th><th scope=col>gender</th></tr></thead>\n",
       "<tbody>\n",
       "\t<tr><td>172        </td><td> 77        </td><td>blond      </td><td>fair       </td><td>blue       </td><td>masculine  </td></tr>\n",
       "\t<tr><td>167        </td><td> 75        </td><td>NA         </td><td>gold       </td><td>yellow     </td><td>masculine  </td></tr>\n",
       "\t<tr><td> 96        </td><td> 32        </td><td>NA         </td><td>white, blue</td><td>red        </td><td>masculine  </td></tr>\n",
       "\t<tr><td>202        </td><td>136        </td><td>none       </td><td>white      </td><td>yellow     </td><td>masculine  </td></tr>\n",
       "\t<tr><td>150        </td><td> 49        </td><td>brown      </td><td>light      </td><td>brown      </td><td>feminine   </td></tr>\n",
       "\t<tr><td>178        </td><td>120        </td><td>brown, grey</td><td>light      </td><td>blue       </td><td>masculine  </td></tr>\n",
       "</tbody>\n",
       "</table>\n"
      ],
      "text/latex": [
       "\\begin{tabular}{r|llllll}\n",
       " height & mass & hair\\_color & skin\\_color & eye\\_color & gender\\\\\n",
       "\\hline\n",
       "\t 172         &  77         & blond       & fair        & blue        & masculine  \\\\\n",
       "\t 167         &  75         & NA          & gold        & yellow      & masculine  \\\\\n",
       "\t  96         &  32         & NA          & white, blue & red         & masculine  \\\\\n",
       "\t 202         & 136         & none        & white       & yellow      & masculine  \\\\\n",
       "\t 150         &  49         & brown       & light       & brown       & feminine   \\\\\n",
       "\t 178         & 120         & brown, grey & light       & blue        & masculine  \\\\\n",
       "\\end{tabular}\n"
      ],
      "text/markdown": [
       "\n",
       "| height | mass | hair_color | skin_color | eye_color | gender |\n",
       "|---|---|---|---|---|---|\n",
       "| 172         |  77         | blond       | fair        | blue        | masculine   |\n",
       "| 167         |  75         | NA          | gold        | yellow      | masculine   |\n",
       "|  96         |  32         | NA          | white, blue | red         | masculine   |\n",
       "| 202         | 136         | none        | white       | yellow      | masculine   |\n",
       "| 150         |  49         | brown       | light       | brown       | feminine    |\n",
       "| 178         | 120         | brown, grey | light       | blue        | masculine   |\n",
       "\n"
      ],
      "text/plain": [
       "  height mass hair_color  skin_color  eye_color gender   \n",
       "1 172     77  blond       fair        blue      masculine\n",
       "2 167     75  NA          gold        yellow    masculine\n",
       "3  96     32  NA          white, blue red       masculine\n",
       "4 202    136  none        white       yellow    masculine\n",
       "5 150     49  brown       light       brown     feminine \n",
       "6 178    120  brown, grey light       blue      masculine"
      ]
     },
     "metadata": {},
     "output_type": "display_data"
    }
   ],
   "source": [
    "head(starwars.s)"
   ]
  },
  {
   "cell_type": "code",
   "execution_count": 72,
   "metadata": {},
   "outputs": [
    {
     "data": {
      "text/html": [
       "<table>\n",
       "<thead><tr><th scope=col>homeworld</th><th scope=col>height</th><th scope=col>mass</th></tr></thead>\n",
       "<tbody>\n",
       "\t<tr><td>Tatooine  </td><td>172       </td><td>  77.0    </td></tr>\n",
       "\t<tr><td>Tatooine  </td><td>167       </td><td>  75.0    </td></tr>\n",
       "\t<tr><td>Naboo     </td><td> 96       </td><td>  32.0    </td></tr>\n",
       "\t<tr><td>Tatooine  </td><td>202       </td><td> 136.0    </td></tr>\n",
       "\t<tr><td>Alderaan  </td><td>150       </td><td>  49.0    </td></tr>\n",
       "\t<tr><td>Tatooine  </td><td>178       </td><td> 120.0    </td></tr>\n",
       "\t<tr><td>Tatooine  </td><td>165       </td><td>  75.0    </td></tr>\n",
       "\t<tr><td>Tatooine  </td><td> 97       </td><td>  32.0    </td></tr>\n",
       "\t<tr><td>Tatooine  </td><td>183       </td><td>  84.0    </td></tr>\n",
       "\t<tr><td>Stewjon   </td><td>182       </td><td>  77.0    </td></tr>\n",
       "\t<tr><td>Tatooine  </td><td>188       </td><td>  84.0    </td></tr>\n",
       "\t<tr><td>Eriadu    </td><td>180       </td><td>    NA    </td></tr>\n",
       "\t<tr><td>Kashyyyk  </td><td>228       </td><td> 112.0    </td></tr>\n",
       "\t<tr><td>Corellia  </td><td>180       </td><td>  80.0    </td></tr>\n",
       "\t<tr><td>Rodia     </td><td>173       </td><td>  74.0    </td></tr>\n",
       "\t<tr><td>Nal Hutta </td><td>175       </td><td>1358.0    </td></tr>\n",
       "\t<tr><td>Corellia  </td><td>170       </td><td>  77.0    </td></tr>\n",
       "\t<tr><td>Bestine IV</td><td>180       </td><td> 110.0    </td></tr>\n",
       "\t<tr><td>NA        </td><td> 66       </td><td>  17.0    </td></tr>\n",
       "\t<tr><td>Naboo     </td><td>170       </td><td>  75.0    </td></tr>\n",
       "\t<tr><td>Kamino    </td><td>183       </td><td>  78.2    </td></tr>\n",
       "\t<tr><td>NA        </td><td>200       </td><td> 140.0    </td></tr>\n",
       "\t<tr><td>Trandosha </td><td>190       </td><td> 113.0    </td></tr>\n",
       "\t<tr><td>Socorro   </td><td>177       </td><td>  79.0    </td></tr>\n",
       "\t<tr><td>Bespin    </td><td>175       </td><td>  79.0    </td></tr>\n",
       "\t<tr><td>Mon Cala  </td><td>180       </td><td>  83.0    </td></tr>\n",
       "\t<tr><td>Chandrila </td><td>150       </td><td>    NA    </td></tr>\n",
       "\t<tr><td>NA        </td><td> NA       </td><td>    NA    </td></tr>\n",
       "\t<tr><td>Endor     </td><td> 88       </td><td>  20.0    </td></tr>\n",
       "\t<tr><td>Sullust   </td><td>160       </td><td>  68.0    </td></tr>\n",
       "\t<tr><td>...</td><td>...</td><td>...</td></tr>\n",
       "\t<tr><td>Naboo       </td><td>157         </td><td>   NA       </td></tr>\n",
       "\t<tr><td>Tatooine    </td><td>183         </td><td>   NA       </td></tr>\n",
       "\t<tr><td>Geonosis    </td><td>183         </td><td> 80.0       </td></tr>\n",
       "\t<tr><td>Mirial      </td><td>170         </td><td> 56.2       </td></tr>\n",
       "\t<tr><td>Mirial      </td><td>166         </td><td> 50.0       </td></tr>\n",
       "\t<tr><td>Naboo       </td><td>165         </td><td>   NA       </td></tr>\n",
       "\t<tr><td>Serenno     </td><td>193         </td><td> 80.0       </td></tr>\n",
       "\t<tr><td>Alderaan    </td><td>191         </td><td>   NA       </td></tr>\n",
       "\t<tr><td>Concord Dawn</td><td>183         </td><td> 79.0       </td></tr>\n",
       "\t<tr><td>Zolan       </td><td>168         </td><td> 55.0       </td></tr>\n",
       "\t<tr><td>Ojom        </td><td>198         </td><td>102.0       </td></tr>\n",
       "\t<tr><td>Kamino      </td><td>229         </td><td> 88.0       </td></tr>\n",
       "\t<tr><td>Kamino      </td><td>213         </td><td>   NA       </td></tr>\n",
       "\t<tr><td>Coruscant   </td><td>167         </td><td>   NA       </td></tr>\n",
       "\t<tr><td>Aleen Minor </td><td> 79         </td><td> 15.0       </td></tr>\n",
       "\t<tr><td>NA          </td><td> 96         </td><td>   NA       </td></tr>\n",
       "\t<tr><td>Skako       </td><td>193         </td><td> 48.0       </td></tr>\n",
       "\t<tr><td>Muunilinst  </td><td>191         </td><td>   NA       </td></tr>\n",
       "\t<tr><td>Shili       </td><td>178         </td><td> 57.0       </td></tr>\n",
       "\t<tr><td>Kalee       </td><td>216         </td><td>159.0       </td></tr>\n",
       "\t<tr><td>Kashyyyk    </td><td>234         </td><td>136.0       </td></tr>\n",
       "\t<tr><td>Alderaan    </td><td>188         </td><td> 79.0       </td></tr>\n",
       "\t<tr><td>Umbara      </td><td>178         </td><td> 48.0       </td></tr>\n",
       "\t<tr><td>Utapau      </td><td>206         </td><td> 80.0       </td></tr>\n",
       "\t<tr><td>NA          </td><td> NA         </td><td>   NA       </td></tr>\n",
       "\t<tr><td>NA          </td><td> NA         </td><td>   NA       </td></tr>\n",
       "\t<tr><td>NA          </td><td> NA         </td><td>   NA       </td></tr>\n",
       "\t<tr><td>NA          </td><td> NA         </td><td>   NA       </td></tr>\n",
       "\t<tr><td>NA          </td><td> NA         </td><td>   NA       </td></tr>\n",
       "\t<tr><td>Naboo       </td><td>165         </td><td> 45.0       </td></tr>\n",
       "</tbody>\n",
       "</table>\n"
      ],
      "text/latex": [
       "\\begin{tabular}{r|lll}\n",
       " homeworld & height & mass\\\\\n",
       "\\hline\n",
       "\t Tatooine   & 172        &   77.0    \\\\\n",
       "\t Tatooine   & 167        &   75.0    \\\\\n",
       "\t Naboo      &  96        &   32.0    \\\\\n",
       "\t Tatooine   & 202        &  136.0    \\\\\n",
       "\t Alderaan   & 150        &   49.0    \\\\\n",
       "\t Tatooine   & 178        &  120.0    \\\\\n",
       "\t Tatooine   & 165        &   75.0    \\\\\n",
       "\t Tatooine   &  97        &   32.0    \\\\\n",
       "\t Tatooine   & 183        &   84.0    \\\\\n",
       "\t Stewjon    & 182        &   77.0    \\\\\n",
       "\t Tatooine   & 188        &   84.0    \\\\\n",
       "\t Eriadu     & 180        &     NA    \\\\\n",
       "\t Kashyyyk   & 228        &  112.0    \\\\\n",
       "\t Corellia   & 180        &   80.0    \\\\\n",
       "\t Rodia      & 173        &   74.0    \\\\\n",
       "\t Nal Hutta  & 175        & 1358.0    \\\\\n",
       "\t Corellia   & 170        &   77.0    \\\\\n",
       "\t Bestine IV & 180        &  110.0    \\\\\n",
       "\t NA         &  66        &   17.0    \\\\\n",
       "\t Naboo      & 170        &   75.0    \\\\\n",
       "\t Kamino     & 183        &   78.2    \\\\\n",
       "\t NA         & 200        &  140.0    \\\\\n",
       "\t Trandosha  & 190        &  113.0    \\\\\n",
       "\t Socorro    & 177        &   79.0    \\\\\n",
       "\t Bespin     & 175        &   79.0    \\\\\n",
       "\t Mon Cala   & 180        &   83.0    \\\\\n",
       "\t Chandrila  & 150        &     NA    \\\\\n",
       "\t NA         &  NA        &     NA    \\\\\n",
       "\t Endor      &  88        &   20.0    \\\\\n",
       "\t Sullust    & 160        &   68.0    \\\\\n",
       "\t ... & ... & ...\\\\\n",
       "\t Naboo        & 157          &    NA       \\\\\n",
       "\t Tatooine     & 183          &    NA       \\\\\n",
       "\t Geonosis     & 183          &  80.0       \\\\\n",
       "\t Mirial       & 170          &  56.2       \\\\\n",
       "\t Mirial       & 166          &  50.0       \\\\\n",
       "\t Naboo        & 165          &    NA       \\\\\n",
       "\t Serenno      & 193          &  80.0       \\\\\n",
       "\t Alderaan     & 191          &    NA       \\\\\n",
       "\t Concord Dawn & 183          &  79.0       \\\\\n",
       "\t Zolan        & 168          &  55.0       \\\\\n",
       "\t Ojom         & 198          & 102.0       \\\\\n",
       "\t Kamino       & 229          &  88.0       \\\\\n",
       "\t Kamino       & 213          &    NA       \\\\\n",
       "\t Coruscant    & 167          &    NA       \\\\\n",
       "\t Aleen Minor  &  79          &  15.0       \\\\\n",
       "\t NA           &  96          &    NA       \\\\\n",
       "\t Skako        & 193          &  48.0       \\\\\n",
       "\t Muunilinst   & 191          &    NA       \\\\\n",
       "\t Shili        & 178          &  57.0       \\\\\n",
       "\t Kalee        & 216          & 159.0       \\\\\n",
       "\t Kashyyyk     & 234          & 136.0       \\\\\n",
       "\t Alderaan     & 188          &  79.0       \\\\\n",
       "\t Umbara       & 178          &  48.0       \\\\\n",
       "\t Utapau       & 206          &  80.0       \\\\\n",
       "\t NA           &  NA          &    NA       \\\\\n",
       "\t NA           &  NA          &    NA       \\\\\n",
       "\t NA           &  NA          &    NA       \\\\\n",
       "\t NA           &  NA          &    NA       \\\\\n",
       "\t NA           &  NA          &    NA       \\\\\n",
       "\t Naboo        & 165          &  45.0       \\\\\n",
       "\\end{tabular}\n"
      ],
      "text/markdown": [
       "\n",
       "| homeworld | height | mass |\n",
       "|---|---|---|\n",
       "| Tatooine   | 172        |   77.0     |\n",
       "| Tatooine   | 167        |   75.0     |\n",
       "| Naboo      |  96        |   32.0     |\n",
       "| Tatooine   | 202        |  136.0     |\n",
       "| Alderaan   | 150        |   49.0     |\n",
       "| Tatooine   | 178        |  120.0     |\n",
       "| Tatooine   | 165        |   75.0     |\n",
       "| Tatooine   |  97        |   32.0     |\n",
       "| Tatooine   | 183        |   84.0     |\n",
       "| Stewjon    | 182        |   77.0     |\n",
       "| Tatooine   | 188        |   84.0     |\n",
       "| Eriadu     | 180        |     NA     |\n",
       "| Kashyyyk   | 228        |  112.0     |\n",
       "| Corellia   | 180        |   80.0     |\n",
       "| Rodia      | 173        |   74.0     |\n",
       "| Nal Hutta  | 175        | 1358.0     |\n",
       "| Corellia   | 170        |   77.0     |\n",
       "| Bestine IV | 180        |  110.0     |\n",
       "| NA         |  66        |   17.0     |\n",
       "| Naboo      | 170        |   75.0     |\n",
       "| Kamino     | 183        |   78.2     |\n",
       "| NA         | 200        |  140.0     |\n",
       "| Trandosha  | 190        |  113.0     |\n",
       "| Socorro    | 177        |   79.0     |\n",
       "| Bespin     | 175        |   79.0     |\n",
       "| Mon Cala   | 180        |   83.0     |\n",
       "| Chandrila  | 150        |     NA     |\n",
       "| NA         |  NA        |     NA     |\n",
       "| Endor      |  88        |   20.0     |\n",
       "| Sullust    | 160        |   68.0     |\n",
       "| ... | ... | ... |\n",
       "| Naboo        | 157          |    NA        |\n",
       "| Tatooine     | 183          |    NA        |\n",
       "| Geonosis     | 183          |  80.0        |\n",
       "| Mirial       | 170          |  56.2        |\n",
       "| Mirial       | 166          |  50.0        |\n",
       "| Naboo        | 165          |    NA        |\n",
       "| Serenno      | 193          |  80.0        |\n",
       "| Alderaan     | 191          |    NA        |\n",
       "| Concord Dawn | 183          |  79.0        |\n",
       "| Zolan        | 168          |  55.0        |\n",
       "| Ojom         | 198          | 102.0        |\n",
       "| Kamino       | 229          |  88.0        |\n",
       "| Kamino       | 213          |    NA        |\n",
       "| Coruscant    | 167          |    NA        |\n",
       "| Aleen Minor  |  79          |  15.0        |\n",
       "| NA           |  96          |    NA        |\n",
       "| Skako        | 193          |  48.0        |\n",
       "| Muunilinst   | 191          |    NA        |\n",
       "| Shili        | 178          |  57.0        |\n",
       "| Kalee        | 216          | 159.0        |\n",
       "| Kashyyyk     | 234          | 136.0        |\n",
       "| Alderaan     | 188          |  79.0        |\n",
       "| Umbara       | 178          |  48.0        |\n",
       "| Utapau       | 206          |  80.0        |\n",
       "| NA           |  NA          |    NA        |\n",
       "| NA           |  NA          |    NA        |\n",
       "| NA           |  NA          |    NA        |\n",
       "| NA           |  NA          |    NA        |\n",
       "| NA           |  NA          |    NA        |\n",
       "| Naboo        | 165          |  45.0        |\n",
       "\n"
      ],
      "text/plain": [
       "    homeworld    height mass  \n",
       "1   Tatooine     172      77.0\n",
       "2   Tatooine     167      75.0\n",
       "3   Naboo         96      32.0\n",
       "4   Tatooine     202     136.0\n",
       "5   Alderaan     150      49.0\n",
       "6   Tatooine     178     120.0\n",
       "7   Tatooine     165      75.0\n",
       "8   Tatooine      97      32.0\n",
       "9   Tatooine     183      84.0\n",
       "10  Stewjon      182      77.0\n",
       "11  Tatooine     188      84.0\n",
       "12  Eriadu       180        NA\n",
       "13  Kashyyyk     228     112.0\n",
       "14  Corellia     180      80.0\n",
       "15  Rodia        173      74.0\n",
       "16  Nal Hutta    175    1358.0\n",
       "17  Corellia     170      77.0\n",
       "18  Bestine IV   180     110.0\n",
       "19  NA            66      17.0\n",
       "20  Naboo        170      75.0\n",
       "21  Kamino       183      78.2\n",
       "22  NA           200     140.0\n",
       "23  Trandosha    190     113.0\n",
       "24  Socorro      177      79.0\n",
       "25  Bespin       175      79.0\n",
       "26  Mon Cala     180      83.0\n",
       "27  Chandrila    150        NA\n",
       "28  NA            NA        NA\n",
       "29  Endor         88      20.0\n",
       "30  Sullust      160      68.0\n",
       "... ...          ...    ...   \n",
       "58  Naboo        157       NA \n",
       "59  Tatooine     183       NA \n",
       "60  Geonosis     183     80.0 \n",
       "61  Mirial       170     56.2 \n",
       "62  Mirial       166     50.0 \n",
       "63  Naboo        165       NA \n",
       "64  Serenno      193     80.0 \n",
       "65  Alderaan     191       NA \n",
       "66  Concord Dawn 183     79.0 \n",
       "67  Zolan        168     55.0 \n",
       "68  Ojom         198    102.0 \n",
       "69  Kamino       229     88.0 \n",
       "70  Kamino       213       NA \n",
       "71  Coruscant    167       NA \n",
       "72  Aleen Minor   79     15.0 \n",
       "73  NA            96       NA \n",
       "74  Skako        193     48.0 \n",
       "75  Muunilinst   191       NA \n",
       "76  Shili        178     57.0 \n",
       "77  Kalee        216    159.0 \n",
       "78  Kashyyyk     234    136.0 \n",
       "79  Alderaan     188     79.0 \n",
       "80  Umbara       178     48.0 \n",
       "81  Utapau       206     80.0 \n",
       "82  NA            NA       NA \n",
       "83  NA            NA       NA \n",
       "84  NA            NA       NA \n",
       "85  NA            NA       NA \n",
       "86  NA            NA       NA \n",
       "87  Naboo        165     45.0 "
      ]
     },
     "metadata": {},
     "output_type": "display_data"
    }
   ],
   "source": [
    "starwars %>% select(homeworld, height, mass)"
   ]
  },
  {
   "cell_type": "code",
   "execution_count": 73,
   "metadata": {},
   "outputs": [
    {
     "data": {
      "text/html": [
       "<table>\n",
       "<thead><tr><th scope=col>name</th><th scope=col>height</th><th scope=col>mass</th><th scope=col>hair_color</th><th scope=col>skin_color</th><th scope=col>eye_color</th><th scope=col>birth_year</th><th scope=col>sex</th><th scope=col>gender</th><th scope=col>homeworld</th><th scope=col>species</th><th scope=col>films</th><th scope=col>vehicles</th><th scope=col>starships</th></tr></thead>\n",
       "<tbody>\n",
       "\t<tr><td>Luke Skywalker                                                                                                             </td><td>172                                                                                                                        </td><td>  77.0                                                                                                                     </td><td>blond                                                                                                                      </td><td>fair                                                                                                                       </td><td>blue                                                                                                                       </td><td> 19.0                                                                                                                      </td><td>male                                                                                                                       </td><td>masculine                                                                                                                  </td><td>Tatooine                                                                                                                   </td><td>Human                                                                                                                      </td><td>The Empire Strikes Back, Revenge of the Sith    , Return of the Jedi     , A New Hope             , The Force Awakens      </td><td>Snowspeeder          , Imperial Speeder Bike                                                                               </td><td>X-wing          , Imperial shuttle                                                                                         </td></tr>\n",
       "\t<tr><td>C-3PO                                                                                                                                               </td><td>167                                                                                                                                                 </td><td>  75.0                                                                                                                                              </td><td>NA                                                                                                                                                  </td><td>gold                                                                                                                                                </td><td>yellow                                                                                                                                              </td><td>112.0                                                                                                                                               </td><td>none                                                                                                                                                </td><td>masculine                                                                                                                                           </td><td>Tatooine                                                                                                                                            </td><td>Droid                                                                                                                                               </td><td>The Empire Strikes Back, Attack of the Clones   , The Phantom Menace     , Revenge of the Sith    , Return of the Jedi     , A New Hope             </td><td>                                                                                                                                                    </td><td>                                                                                                                                                    </td></tr>\n",
       "\t<tr><td>R2-D2                                                                                                                                                                        </td><td> 96                                                                                                                                                                          </td><td>  32.0                                                                                                                                                                       </td><td>NA                                                                                                                                                                           </td><td>white, blue                                                                                                                                                                  </td><td>red                                                                                                                                                                          </td><td> 33.0                                                                                                                                                                        </td><td>none                                                                                                                                                                         </td><td>masculine                                                                                                                                                                    </td><td>Naboo                                                                                                                                                                        </td><td>Droid                                                                                                                                                                        </td><td>The Empire Strikes Back, Attack of the Clones   , The Phantom Menace     , Revenge of the Sith    , Return of the Jedi     , A New Hope             , The Force Awakens      </td><td>                                                                                                                                                                             </td><td>                                                                                                                                                                             </td></tr>\n",
       "\t<tr><td>Darth Vader                                                                                       </td><td>202                                                                                               </td><td> 136.0                                                                                            </td><td>none                                                                                              </td><td>white                                                                                             </td><td>yellow                                                                                            </td><td> 41.9                                                                                             </td><td>male                                                                                              </td><td>masculine                                                                                         </td><td>Tatooine                                                                                          </td><td>Human                                                                                             </td><td>The Empire Strikes Back, Revenge of the Sith    , Return of the Jedi     , A New Hope             </td><td>                                                                                                  </td><td>TIE Advanced x1                                                                                   </td></tr>\n",
       "\t<tr><td>Leia Organa                                                                                                                </td><td>150                                                                                                                        </td><td>  49.0                                                                                                                     </td><td>brown                                                                                                                      </td><td>light                                                                                                                      </td><td>brown                                                                                                                      </td><td> 19.0                                                                                                                      </td><td>female                                                                                                                     </td><td>feminine                                                                                                                   </td><td>Alderaan                                                                                                                   </td><td>Human                                                                                                                      </td><td>The Empire Strikes Back, Revenge of the Sith    , Return of the Jedi     , A New Hope             , The Force Awakens      </td><td>Imperial Speeder Bike                                                                                                      </td><td>                                                                                                                           </td></tr>\n",
       "\t<tr><td>Owen Lars                                                       </td><td>178                                                             </td><td> 120.0                                                          </td><td>brown, grey                                                     </td><td>light                                                           </td><td>blue                                                            </td><td> 52.0                                                           </td><td>male                                                            </td><td>masculine                                                       </td><td>Tatooine                                                        </td><td>Human                                                           </td><td>Attack of the Clones, Revenge of the Sith , A New Hope          </td><td>                                                                </td><td>                                                                </td></tr>\n",
       "\t<tr><td>Beru Whitesun lars                                              </td><td>165                                                             </td><td>  75.0                                                          </td><td>brown                                                           </td><td>light                                                           </td><td>blue                                                            </td><td> 47.0                                                           </td><td>female                                                          </td><td>feminine                                                        </td><td>Tatooine                                                        </td><td>Human                                                           </td><td>Attack of the Clones, Revenge of the Sith , A New Hope          </td><td>                                                                </td><td>                                                                </td></tr>\n",
       "\t<tr><td>R5-D4                </td><td> 97                  </td><td>  32.0               </td><td>NA                   </td><td>white, red           </td><td>red                  </td><td>   NA                </td><td>none                 </td><td>masculine            </td><td>Tatooine             </td><td>Droid                </td><td>A New Hope           </td><td>                     </td><td>                     </td></tr>\n",
       "\t<tr><td>Biggs Darklighter    </td><td>183                  </td><td>  84.0               </td><td>black                </td><td>light                </td><td>brown                </td><td> 24.0                </td><td>male                 </td><td>masculine            </td><td>Tatooine             </td><td>Human                </td><td>A New Hope           </td><td>                     </td><td>X-wing               </td></tr>\n",
       "\t<tr><td>Obi-Wan Kenobi                                                                                                                                      </td><td>182                                                                                                                                                 </td><td>  77.0                                                                                                                                              </td><td>auburn, white                                                                                                                                       </td><td>fair                                                                                                                                                </td><td>blue-gray                                                                                                                                           </td><td> 57.0                                                                                                                                               </td><td>male                                                                                                                                                </td><td>masculine                                                                                                                                           </td><td>Stewjon                                                                                                                                             </td><td>Human                                                                                                                                               </td><td>The Empire Strikes Back, Attack of the Clones   , The Phantom Menace     , Revenge of the Sith    , Return of the Jedi     , A New Hope             </td><td>Tribubble bongo                                                                                                                                     </td><td>Jedi starfighter        , Trade Federation cruiser, Naboo star skiff        , Jedi Interceptor        , Belbullab-22 starfighter                    </td></tr>\n",
       "\t<tr><td>Anakin Skywalker                                                            </td><td>188                                                                         </td><td>  84.0                                                                      </td><td>blond                                                                       </td><td>fair                                                                        </td><td>blue                                                                        </td><td> 41.9                                                                       </td><td>male                                                                        </td><td>masculine                                                                   </td><td>Tatooine                                                                    </td><td>Human                                                                       </td><td>Attack of the Clones, The Phantom Menace  , Revenge of the Sith             </td><td>Zephyr-G swoop bike, XJ-6 airspeeder                                        </td><td>Trade Federation cruiser, Jedi Interceptor        , Naboo fighter           </td></tr>\n",
       "\t<tr><td>Wilhuff Tarkin                          </td><td>180                                     </td><td>    NA                                  </td><td>auburn, grey                            </td><td>fair                                    </td><td>blue                                    </td><td> 64.0                                   </td><td>male                                    </td><td>masculine                               </td><td>Eriadu                                  </td><td>Human                                   </td><td>Revenge of the Sith, A New Hope         </td><td>                                        </td><td>                                        </td></tr>\n",
       "\t<tr><td>Chewbacca                                                                                                                  </td><td>228                                                                                                                        </td><td> 112.0                                                                                                                     </td><td>brown                                                                                                                      </td><td>unknown                                                                                                                    </td><td>blue                                                                                                                       </td><td>200.0                                                                                                                      </td><td>male                                                                                                                       </td><td>masculine                                                                                                                  </td><td>Kashyyyk                                                                                                                   </td><td>Wookiee                                                                                                                    </td><td>The Empire Strikes Back, Revenge of the Sith    , Return of the Jedi     , A New Hope             , The Force Awakens      </td><td>AT-ST                                                                                                                      </td><td>Millennium Falcon, Imperial shuttle                                                                                        </td></tr>\n",
       "\t<tr><td>Han Solo                                                                                          </td><td>180                                                                                               </td><td>  80.0                                                                                            </td><td>brown                                                                                             </td><td>fair                                                                                              </td><td>brown                                                                                             </td><td> 29.0                                                                                             </td><td>male                                                                                              </td><td>masculine                                                                                         </td><td>Corellia                                                                                          </td><td>Human                                                                                             </td><td>The Empire Strikes Back, Return of the Jedi     , A New Hope             , The Force Awakens      </td><td>                                                                                                  </td><td>Millennium Falcon, Imperial shuttle                                                               </td></tr>\n",
       "\t<tr><td>Greedo               </td><td>173                  </td><td>  74.0               </td><td>NA                   </td><td>green                </td><td>black                </td><td> 44.0                </td><td>male                 </td><td>masculine            </td><td>Rodia                </td><td>Rodian               </td><td>A New Hope           </td><td>                     </td><td>                     </td></tr>\n",
       "\t<tr><td>Jabba Desilijic Tiure                                     </td><td>175                                                       </td><td>1358.0                                                    </td><td>NA                                                        </td><td>green-tan, brown                                          </td><td>orange                                                    </td><td>600.0                                                     </td><td>hermaphroditic                                            </td><td>masculine                                                 </td><td>Nal Hutta                                                 </td><td>Hutt                                                      </td><td>The Phantom Menace, Return of the Jedi, A New Hope        </td><td>                                                          </td><td>                                                          </td></tr>\n",
       "\t<tr><td>Wedge Antilles                                                           </td><td>170                                                                      </td><td>  77.0                                                                   </td><td>brown                                                                    </td><td>fair                                                                     </td><td>hazel                                                                    </td><td> 21.0                                                                    </td><td>male                                                                     </td><td>masculine                                                                </td><td>Corellia                                                                 </td><td>Human                                                                    </td><td>The Empire Strikes Back, Return of the Jedi     , A New Hope             </td><td>Snowspeeder                                                              </td><td>X-wing                                                                   </td></tr>\n",
       "\t<tr><td>Jek Tono Porkins     </td><td>180                  </td><td> 110.0               </td><td>brown                </td><td>fair                 </td><td>blue                 </td><td>   NA                </td><td>male                 </td><td>masculine            </td><td>Bestine IV           </td><td>Human                </td><td>A New Hope           </td><td>                     </td><td>X-wing               </td></tr>\n",
       "\t<tr><td>Yoda                                                                                                                       </td><td> 66                                                                                                                        </td><td>  17.0                                                                                                                     </td><td>white                                                                                                                      </td><td>green                                                                                                                      </td><td>brown                                                                                                                      </td><td>896.0                                                                                                                      </td><td>male                                                                                                                       </td><td>masculine                                                                                                                  </td><td>NA                                                                                                                         </td><td>Yoda's species                                                                                                             </td><td>The Empire Strikes Back, Attack of the Clones   , The Phantom Menace     , Revenge of the Sith    , Return of the Jedi     </td><td>                                                                                                                           </td><td>                                                                                                                           </td></tr>\n",
       "\t<tr><td>Palpatine                                                                                                                  </td><td>170                                                                                                                        </td><td>  75.0                                                                                                                     </td><td>grey                                                                                                                       </td><td>pale                                                                                                                       </td><td>yellow                                                                                                                     </td><td> 82.0                                                                                                                      </td><td>male                                                                                                                       </td><td>masculine                                                                                                                  </td><td>Naboo                                                                                                                      </td><td>Human                                                                                                                      </td><td>The Empire Strikes Back, Attack of the Clones   , The Phantom Menace     , Revenge of the Sith    , Return of the Jedi     </td><td>                                                                                                                           </td><td>                                                                                                                           </td></tr>\n",
       "\t<tr><td>Boba Fett                                                                </td><td>183                                                                      </td><td>  78.2                                                                   </td><td>black                                                                    </td><td>fair                                                                     </td><td>brown                                                                    </td><td> 31.5                                                                    </td><td>male                                                                     </td><td>masculine                                                                </td><td>Kamino                                                                   </td><td>Human                                                                    </td><td>The Empire Strikes Back, Attack of the Clones   , Return of the Jedi     </td><td>                                                                         </td><td>Slave 1                                                                  </td></tr>\n",
       "\t<tr><td>IG-88                  </td><td>200                    </td><td> 140.0                 </td><td>none                   </td><td>metal                  </td><td>red                    </td><td> 15.0                  </td><td>none                   </td><td>masculine              </td><td>NA                     </td><td>Droid                  </td><td>The Empire Strikes Back</td><td>                       </td><td>                       </td></tr>\n",
       "\t<tr><td>Bossk                  </td><td>190                    </td><td> 113.0                 </td><td>none                   </td><td>green                  </td><td>red                    </td><td> 53.0                  </td><td>male                   </td><td>masculine              </td><td>Trandosha              </td><td>Trandoshan             </td><td>The Empire Strikes Back</td><td>                       </td><td>                       </td></tr>\n",
       "\t<tr><td>Lando Calrissian                                </td><td>177                                             </td><td>  79.0                                          </td><td>black                                           </td><td>dark                                            </td><td>brown                                           </td><td> 31.0                                           </td><td>male                                            </td><td>masculine                                       </td><td>Socorro                                         </td><td>Human                                           </td><td>The Empire Strikes Back, Return of the Jedi     </td><td>                                                </td><td>Millennium Falcon                               </td></tr>\n",
       "\t<tr><td>Lobot                  </td><td>175                    </td><td>  79.0                 </td><td>none                   </td><td>light                  </td><td>blue                   </td><td> 37.0                  </td><td>male                   </td><td>masculine              </td><td>Bespin                 </td><td>Human                  </td><td>The Empire Strikes Back</td><td>                       </td><td>                       </td></tr>\n",
       "\t<tr><td>Ackbar                                </td><td>180                                   </td><td>  83.0                                </td><td>none                                  </td><td>brown mottle                          </td><td>orange                                </td><td> 41.0                                 </td><td>male                                  </td><td>masculine                             </td><td>Mon Cala                              </td><td>Mon Calamari                          </td><td>Return of the Jedi, The Force Awakens </td><td>                                      </td><td>                                      </td></tr>\n",
       "\t<tr><td>Mon Mothma           </td><td>150                  </td><td>    NA               </td><td>auburn               </td><td>fair                 </td><td>blue                 </td><td> 48.0                </td><td>female               </td><td>feminine             </td><td>Chandrila            </td><td>Human                </td><td>Return of the Jedi   </td><td>                     </td><td>                     </td></tr>\n",
       "\t<tr><td>Arvel Crynyd         </td><td> NA                  </td><td>    NA               </td><td>brown                </td><td>fair                 </td><td>brown                </td><td>   NA                </td><td>male                 </td><td>masculine            </td><td>NA                   </td><td>Human                </td><td>Return of the Jedi   </td><td>                     </td><td>A-wing               </td></tr>\n",
       "\t<tr><td>Wicket Systri Warrick</td><td> 88                  </td><td>  20.0               </td><td>brown                </td><td>brown                </td><td>brown                </td><td>  8.0                </td><td>male                 </td><td>masculine            </td><td>Endor                </td><td>Ewok                 </td><td>Return of the Jedi   </td><td>                     </td><td>                     </td></tr>\n",
       "\t<tr><td>Nien Nunb            </td><td>160                  </td><td>  68.0               </td><td>none                 </td><td>grey                 </td><td>black                </td><td>   NA                </td><td>male                 </td><td>masculine            </td><td>Sullust              </td><td>Sullustan            </td><td>Return of the Jedi   </td><td>                     </td><td>Millennium Falcon    </td></tr>\n",
       "\t<tr><td>...</td><td>...</td><td>...</td><td>...</td><td>...</td><td>...</td><td>...</td><td>...</td><td>...</td><td>...</td><td>...</td><td>...</td><td>...</td><td>...</td></tr>\n",
       "\t<tr><td>Cordé               </td><td>157                 </td><td>   NA               </td><td>brown               </td><td>light               </td><td>brown               </td><td> NA                 </td><td>female              </td><td>feminine            </td><td>Naboo               </td><td>Human               </td><td>Attack of the Clones</td><td>                    </td><td>                    </td></tr>\n",
       "\t<tr><td>Cliegg Lars         </td><td>183                 </td><td>   NA               </td><td>brown               </td><td>fair                </td><td>blue                </td><td> 82                 </td><td>male                </td><td>masculine           </td><td>Tatooine            </td><td>Human               </td><td>Attack of the Clones</td><td>                    </td><td>                    </td></tr>\n",
       "\t<tr><td>Poggle the Lesser                         </td><td>183                                       </td><td> 80.0                                     </td><td>none                                      </td><td>green                                     </td><td>yellow                                    </td><td> NA                                       </td><td>male                                      </td><td>masculine                                 </td><td>Geonosis                                  </td><td>Geonosian                                 </td><td>Attack of the Clones, Revenge of the Sith </td><td>                                          </td><td>                                          </td></tr>\n",
       "\t<tr><td>Luminara Unduli                           </td><td>170                                       </td><td> 56.2                                     </td><td>black                                     </td><td>yellow                                    </td><td>blue                                      </td><td> 58                                       </td><td>female                                    </td><td>feminine                                  </td><td>Mirial                                    </td><td>Mirialan                                  </td><td>Attack of the Clones, Revenge of the Sith </td><td>                                          </td><td>                                          </td></tr>\n",
       "\t<tr><td>Barriss Offee       </td><td>166                 </td><td> 50.0               </td><td>black               </td><td>yellow              </td><td>blue                </td><td> 40                 </td><td>female              </td><td>feminine            </td><td>Mirial              </td><td>Mirialan            </td><td>Attack of the Clones</td><td>                    </td><td>                    </td></tr>\n",
       "\t<tr><td>Dormé               </td><td>165                 </td><td>   NA               </td><td>brown               </td><td>light               </td><td>brown               </td><td> NA                 </td><td>female              </td><td>feminine            </td><td>Naboo               </td><td>Human               </td><td>Attack of the Clones</td><td>                    </td><td>                    </td></tr>\n",
       "\t<tr><td>Dooku                                     </td><td>193                                       </td><td> 80.0                                     </td><td>white                                     </td><td>fair                                      </td><td>brown                                     </td><td>102                                       </td><td>male                                      </td><td>masculine                                 </td><td>Serenno                                   </td><td>Human                                     </td><td>Attack of the Clones, Revenge of the Sith </td><td>Flitknot speeder                          </td><td>                                          </td></tr>\n",
       "\t<tr><td>Bail Prestor Organa                       </td><td>191                                       </td><td>   NA                                     </td><td>black                                     </td><td>tan                                       </td><td>brown                                     </td><td> 67                                       </td><td>male                                      </td><td>masculine                                 </td><td>Alderaan                                  </td><td>Human                                     </td><td>Attack of the Clones, Revenge of the Sith </td><td>                                          </td><td>                                          </td></tr>\n",
       "\t<tr><td>Jango Fett          </td><td>183                 </td><td> 79.0               </td><td>black               </td><td>tan                 </td><td>brown               </td><td> 66                 </td><td>male                </td><td>masculine           </td><td>Concord Dawn        </td><td>Human               </td><td>Attack of the Clones</td><td>                    </td><td>                    </td></tr>\n",
       "\t<tr><td>Zam Wesell                </td><td>168                       </td><td> 55.0                     </td><td>blonde                    </td><td>fair, green, yellow       </td><td>yellow                    </td><td> NA                       </td><td>female                    </td><td>feminine                  </td><td>Zolan                     </td><td>Clawdite                  </td><td>Attack of the Clones      </td><td>Koro-2 Exodrive airspeeder</td><td>                          </td></tr>\n",
       "\t<tr><td>Dexter Jettster     </td><td>198                 </td><td>102.0               </td><td>none                </td><td>brown               </td><td>yellow              </td><td> NA                 </td><td>male                </td><td>masculine           </td><td>Ojom                </td><td>Besalisk            </td><td>Attack of the Clones</td><td>                    </td><td>                    </td></tr>\n",
       "\t<tr><td>Lama Su             </td><td>229                 </td><td> 88.0               </td><td>none                </td><td>grey                </td><td>black               </td><td> NA                 </td><td>male                </td><td>masculine           </td><td>Kamino              </td><td>Kaminoan            </td><td>Attack of the Clones</td><td>                    </td><td>                    </td></tr>\n",
       "\t<tr><td>Taun We             </td><td>213                 </td><td>   NA               </td><td>none                </td><td>grey                </td><td>black               </td><td> NA                 </td><td>female              </td><td>feminine            </td><td>Kamino              </td><td>Kaminoan            </td><td>Attack of the Clones</td><td>                    </td><td>                    </td></tr>\n",
       "\t<tr><td>Jocasta Nu          </td><td>167                 </td><td>   NA               </td><td>white               </td><td>fair                </td><td>blue                </td><td> NA                 </td><td>female              </td><td>feminine            </td><td>Coruscant           </td><td>Human               </td><td>Attack of the Clones</td><td>                    </td><td>                    </td></tr>\n",
       "\t<tr><td>Ratts Tyerell      </td><td> 79                </td><td> 15.0              </td><td>none               </td><td>grey, blue         </td><td>unknown            </td><td> NA                </td><td>male               </td><td>masculine          </td><td>Aleen Minor        </td><td>Aleena             </td><td>The Phantom Menace </td><td>                   </td><td>                   </td></tr>\n",
       "\t<tr><td>R4-P17                                    </td><td> 96                                       </td><td>   NA                                     </td><td>none                                      </td><td>silver, red                               </td><td>red, blue                                 </td><td> NA                                       </td><td>none                                      </td><td>feminine                                  </td><td>NA                                        </td><td>Droid                                     </td><td>Attack of the Clones, Revenge of the Sith </td><td>                                          </td><td>                                          </td></tr>\n",
       "\t<tr><td>Wat Tambor          </td><td>193                 </td><td> 48.0               </td><td>none                </td><td>green, grey         </td><td>unknown             </td><td> NA                 </td><td>male                </td><td>masculine           </td><td>Skako               </td><td>Skakoan             </td><td>Attack of the Clones</td><td>                    </td><td>                    </td></tr>\n",
       "\t<tr><td>San Hill            </td><td>191                 </td><td>   NA               </td><td>none                </td><td>grey                </td><td>gold                </td><td> NA                 </td><td>male                </td><td>masculine           </td><td>Muunilinst          </td><td>Muun                </td><td>Attack of the Clones</td><td>                    </td><td>                    </td></tr>\n",
       "\t<tr><td>Shaak Ti                                  </td><td>178                                       </td><td> 57.0                                     </td><td>none                                      </td><td>red, blue, white                          </td><td>black                                     </td><td> NA                                       </td><td>female                                    </td><td>feminine                                  </td><td>Shili                                     </td><td>Togruta                                   </td><td>Attack of the Clones, Revenge of the Sith </td><td>                                          </td><td>                                          </td></tr>\n",
       "\t<tr><td>Grievous                   </td><td>216                        </td><td>159.0                      </td><td>none                       </td><td>brown, white               </td><td>green, yellow              </td><td> NA                        </td><td>male                       </td><td>masculine                  </td><td>Kalee                      </td><td>Kaleesh                    </td><td>Revenge of the Sith        </td><td>Tsmeu-6 personal wheel bike</td><td>Belbullab-22 starfighter   </td></tr>\n",
       "\t<tr><td>Tarfful            </td><td>234                </td><td>136.0              </td><td>brown              </td><td>brown              </td><td>blue               </td><td> NA                </td><td>male               </td><td>masculine          </td><td>Kashyyyk           </td><td>Wookiee            </td><td>Revenge of the Sith</td><td>                   </td><td>                   </td></tr>\n",
       "\t<tr><td>Raymus Antilles                         </td><td>188                                     </td><td> 79.0                                   </td><td>brown                                   </td><td>light                                   </td><td>brown                                   </td><td> NA                                     </td><td>male                                    </td><td>masculine                               </td><td>Alderaan                                </td><td>Human                                   </td><td>Revenge of the Sith, A New Hope         </td><td>                                        </td><td>                                        </td></tr>\n",
       "\t<tr><td>Sly Moore                                 </td><td>178                                       </td><td> 48.0                                     </td><td>none                                      </td><td>pale                                      </td><td>white                                     </td><td> NA                                       </td><td>NA                                        </td><td>NA                                        </td><td>Umbara                                    </td><td>NA                                        </td><td>Attack of the Clones, Revenge of the Sith </td><td>                                          </td><td>                                          </td></tr>\n",
       "\t<tr><td>Tion Medon         </td><td>206                </td><td> 80.0              </td><td>none               </td><td>grey               </td><td>black              </td><td> NA                </td><td>male               </td><td>masculine          </td><td>Utapau             </td><td>Pau'an             </td><td>Revenge of the Sith</td><td>                   </td><td>                   </td></tr>\n",
       "\t<tr><td>Finn               </td><td> NA                </td><td>   NA              </td><td>black              </td><td>dark               </td><td>dark               </td><td> NA                </td><td>male               </td><td>masculine          </td><td>NA                 </td><td>Human              </td><td>The Force Awakens  </td><td>                   </td><td>                   </td></tr>\n",
       "\t<tr><td>Rey                </td><td> NA                </td><td>   NA              </td><td>brown              </td><td>light              </td><td>hazel              </td><td> NA                </td><td>female             </td><td>feminine           </td><td>NA                 </td><td>Human              </td><td>The Force Awakens  </td><td>                   </td><td>                   </td></tr>\n",
       "\t<tr><td>Poe Dameron        </td><td> NA                </td><td>   NA              </td><td>brown              </td><td>light              </td><td>brown              </td><td> NA                </td><td>male               </td><td>masculine          </td><td>NA                 </td><td>Human              </td><td>The Force Awakens  </td><td>                   </td><td>T-70 X-wing fighter</td></tr>\n",
       "\t<tr><td>BB8                </td><td> NA                </td><td>   NA              </td><td>none               </td><td>none               </td><td>black              </td><td> NA                </td><td>none               </td><td>masculine          </td><td>NA                 </td><td>Droid              </td><td>The Force Awakens  </td><td>                   </td><td>                   </td></tr>\n",
       "\t<tr><td>Captain Phasma     </td><td> NA                </td><td>   NA              </td><td>unknown            </td><td>unknown            </td><td>unknown            </td><td> NA                </td><td>NA                 </td><td>NA                 </td><td>NA                 </td><td>NA                 </td><td>The Force Awakens  </td><td>                   </td><td>                   </td></tr>\n",
       "\t<tr><td>Padmé Amidala                                                   </td><td>165                                                             </td><td> 45.0                                                           </td><td>brown                                                           </td><td>light                                                           </td><td>brown                                                           </td><td> 46                                                             </td><td>female                                                          </td><td>feminine                                                        </td><td>Naboo                                                           </td><td>Human                                                           </td><td>Attack of the Clones, The Phantom Menace  , Revenge of the Sith </td><td>                                                                </td><td>H-type Nubian yacht, Naboo star skiff   , Naboo fighter         </td></tr>\n",
       "</tbody>\n",
       "</table>\n"
      ],
      "text/latex": [
       "\\begin{tabular}{r|llllllllllllll}\n",
       " name & height & mass & hair\\_color & skin\\_color & eye\\_color & birth\\_year & sex & gender & homeworld & species & films & vehicles & starships\\\\\n",
       "\\hline\n",
       "\t Luke Skywalker                                                                                                              & 172                                                                                                                         &   77.0                                                                                                                      & blond                                                                                                                       & fair                                                                                                                        & blue                                                                                                                        &  19.0                                                                                                                       & male                                                                                                                        & masculine                                                                                                                   & Tatooine                                                                                                                    & Human                                                                                                                       & The Empire Strikes Back, Revenge of the Sith    , Return of the Jedi     , A New Hope             , The Force Awakens       & Snowspeeder          , Imperial Speeder Bike                                                                                & X-wing          , Imperial shuttle                                                                                         \\\\\n",
       "\t C-3PO                                                                                                                                                & 167                                                                                                                                                  &   75.0                                                                                                                                               & NA                                                                                                                                                   & gold                                                                                                                                                 & yellow                                                                                                                                               & 112.0                                                                                                                                                & none                                                                                                                                                 & masculine                                                                                                                                            & Tatooine                                                                                                                                             & Droid                                                                                                                                                & The Empire Strikes Back, Attack of the Clones   , The Phantom Menace     , Revenge of the Sith    , Return of the Jedi     , A New Hope              &                                                                                                                                                      &                                                                                                                                                     \\\\\n",
       "\t R2-D2                                                                                                                                                                         &  96                                                                                                                                                                           &   32.0                                                                                                                                                                        & NA                                                                                                                                                                            & white, blue                                                                                                                                                                   & red                                                                                                                                                                           &  33.0                                                                                                                                                                         & none                                                                                                                                                                          & masculine                                                                                                                                                                     & Naboo                                                                                                                                                                         & Droid                                                                                                                                                                         & The Empire Strikes Back, Attack of the Clones   , The Phantom Menace     , Revenge of the Sith    , Return of the Jedi     , A New Hope             , The Force Awakens       &                                                                                                                                                                               &                                                                                                                                                                              \\\\\n",
       "\t Darth Vader                                                                                        & 202                                                                                                &  136.0                                                                                             & none                                                                                               & white                                                                                              & yellow                                                                                             &  41.9                                                                                              & male                                                                                               & masculine                                                                                          & Tatooine                                                                                           & Human                                                                                              & The Empire Strikes Back, Revenge of the Sith    , Return of the Jedi     , A New Hope              &                                                                                                    & TIE Advanced x1                                                                                   \\\\\n",
       "\t Leia Organa                                                                                                                 & 150                                                                                                                         &   49.0                                                                                                                      & brown                                                                                                                       & light                                                                                                                       & brown                                                                                                                       &  19.0                                                                                                                       & female                                                                                                                      & feminine                                                                                                                    & Alderaan                                                                                                                    & Human                                                                                                                       & The Empire Strikes Back, Revenge of the Sith    , Return of the Jedi     , A New Hope             , The Force Awakens       & Imperial Speeder Bike                                                                                                       &                                                                                                                            \\\\\n",
       "\t Owen Lars                                                        & 178                                                              &  120.0                                                           & brown, grey                                                      & light                                                            & blue                                                             &  52.0                                                            & male                                                             & masculine                                                        & Tatooine                                                         & Human                                                            & Attack of the Clones, Revenge of the Sith , A New Hope           &                                                                  &                                                                 \\\\\n",
       "\t Beru Whitesun lars                                               & 165                                                              &   75.0                                                           & brown                                                            & light                                                            & blue                                                             &  47.0                                                            & female                                                           & feminine                                                         & Tatooine                                                         & Human                                                            & Attack of the Clones, Revenge of the Sith , A New Hope           &                                                                  &                                                                 \\\\\n",
       "\t R5-D4                 &  97                   &   32.0                & NA                    & white, red            & red                   &    NA                 & none                  & masculine             & Tatooine              & Droid                 & A New Hope            &                       &                      \\\\\n",
       "\t Biggs Darklighter     & 183                   &   84.0                & black                 & light                 & brown                 &  24.0                 & male                  & masculine             & Tatooine              & Human                 & A New Hope            &                       & X-wing               \\\\\n",
       "\t Obi-Wan Kenobi                                                                                                                                       & 182                                                                                                                                                  &   77.0                                                                                                                                               & auburn, white                                                                                                                                        & fair                                                                                                                                                 & blue-gray                                                                                                                                            &  57.0                                                                                                                                                & male                                                                                                                                                 & masculine                                                                                                                                            & Stewjon                                                                                                                                              & Human                                                                                                                                                & The Empire Strikes Back, Attack of the Clones   , The Phantom Menace     , Revenge of the Sith    , Return of the Jedi     , A New Hope              & Tribubble bongo                                                                                                                                      & Jedi starfighter        , Trade Federation cruiser, Naboo star skiff        , Jedi Interceptor        , Belbullab-22 starfighter                    \\\\\n",
       "\t Anakin Skywalker                                                             & 188                                                                          &   84.0                                                                       & blond                                                                        & fair                                                                         & blue                                                                         &  41.9                                                                        & male                                                                         & masculine                                                                    & Tatooine                                                                     & Human                                                                        & Attack of the Clones, The Phantom Menace  , Revenge of the Sith              & Zephyr-G swoop bike, XJ-6 airspeeder                                         & Trade Federation cruiser, Jedi Interceptor        , Naboo fighter           \\\\\n",
       "\t Wilhuff Tarkin                           & 180                                      &     NA                                   & auburn, grey                             & fair                                     & blue                                     &  64.0                                    & male                                     & masculine                                & Eriadu                                   & Human                                    & Revenge of the Sith, A New Hope          &                                          &                                         \\\\\n",
       "\t Chewbacca                                                                                                                   & 228                                                                                                                         &  112.0                                                                                                                      & brown                                                                                                                       & unknown                                                                                                                     & blue                                                                                                                        & 200.0                                                                                                                       & male                                                                                                                        & masculine                                                                                                                   & Kashyyyk                                                                                                                    & Wookiee                                                                                                                     & The Empire Strikes Back, Revenge of the Sith    , Return of the Jedi     , A New Hope             , The Force Awakens       & AT-ST                                                                                                                       & Millennium Falcon, Imperial shuttle                                                                                        \\\\\n",
       "\t Han Solo                                                                                           & 180                                                                                                &   80.0                                                                                             & brown                                                                                              & fair                                                                                               & brown                                                                                              &  29.0                                                                                              & male                                                                                               & masculine                                                                                          & Corellia                                                                                           & Human                                                                                              & The Empire Strikes Back, Return of the Jedi     , A New Hope             , The Force Awakens       &                                                                                                    & Millennium Falcon, Imperial shuttle                                                               \\\\\n",
       "\t Greedo                & 173                   &   74.0                & NA                    & green                 & black                 &  44.0                 & male                  & masculine             & Rodia                 & Rodian                & A New Hope            &                       &                      \\\\\n",
       "\t Jabba Desilijic Tiure                                      & 175                                                        & 1358.0                                                     & NA                                                         & green-tan, brown                                           & orange                                                     & 600.0                                                      & hermaphroditic                                             & masculine                                                  & Nal Hutta                                                  & Hutt                                                       & The Phantom Menace, Return of the Jedi, A New Hope         &                                                            &                                                           \\\\\n",
       "\t Wedge Antilles                                                            & 170                                                                       &   77.0                                                                    & brown                                                                     & fair                                                                      & hazel                                                                     &  21.0                                                                     & male                                                                      & masculine                                                                 & Corellia                                                                  & Human                                                                     & The Empire Strikes Back, Return of the Jedi     , A New Hope              & Snowspeeder                                                               & X-wing                                                                   \\\\\n",
       "\t Jek Tono Porkins      & 180                   &  110.0                & brown                 & fair                  & blue                  &    NA                 & male                  & masculine             & Bestine IV            & Human                 & A New Hope            &                       & X-wing               \\\\\n",
       "\t Yoda                                                                                                                        &  66                                                                                                                         &   17.0                                                                                                                      & white                                                                                                                       & green                                                                                                                       & brown                                                                                                                       & 896.0                                                                                                                       & male                                                                                                                        & masculine                                                                                                                   & NA                                                                                                                          & Yoda's species                                                                                                              & The Empire Strikes Back, Attack of the Clones   , The Phantom Menace     , Revenge of the Sith    , Return of the Jedi      &                                                                                                                             &                                                                                                                            \\\\\n",
       "\t Palpatine                                                                                                                   & 170                                                                                                                         &   75.0                                                                                                                      & grey                                                                                                                        & pale                                                                                                                        & yellow                                                                                                                      &  82.0                                                                                                                       & male                                                                                                                        & masculine                                                                                                                   & Naboo                                                                                                                       & Human                                                                                                                       & The Empire Strikes Back, Attack of the Clones   , The Phantom Menace     , Revenge of the Sith    , Return of the Jedi      &                                                                                                                             &                                                                                                                            \\\\\n",
       "\t Boba Fett                                                                 & 183                                                                       &   78.2                                                                    & black                                                                     & fair                                                                      & brown                                                                     &  31.5                                                                     & male                                                                      & masculine                                                                 & Kamino                                                                    & Human                                                                     & The Empire Strikes Back, Attack of the Clones   , Return of the Jedi      &                                                                           & Slave 1                                                                  \\\\\n",
       "\t IG-88                   & 200                     &  140.0                  & none                    & metal                   & red                     &  15.0                   & none                    & masculine               & NA                      & Droid                   & The Empire Strikes Back &                         &                        \\\\\n",
       "\t Bossk                   & 190                     &  113.0                  & none                    & green                   & red                     &  53.0                   & male                    & masculine               & Trandosha               & Trandoshan              & The Empire Strikes Back &                         &                        \\\\\n",
       "\t Lando Calrissian                                 & 177                                              &   79.0                                           & black                                            & dark                                             & brown                                            &  31.0                                            & male                                             & masculine                                        & Socorro                                          & Human                                            & The Empire Strikes Back, Return of the Jedi      &                                                  & Millennium Falcon                               \\\\\n",
       "\t Lobot                   & 175                     &   79.0                  & none                    & light                   & blue                    &  37.0                   & male                    & masculine               & Bespin                  & Human                   & The Empire Strikes Back &                         &                        \\\\\n",
       "\t Ackbar                                 & 180                                    &   83.0                                 & none                                   & brown mottle                           & orange                                 &  41.0                                  & male                                   & masculine                              & Mon Cala                               & Mon Calamari                           & Return of the Jedi, The Force Awakens  &                                        &                                       \\\\\n",
       "\t Mon Mothma            & 150                   &     NA                & auburn                & fair                  & blue                  &  48.0                 & female                & feminine              & Chandrila             & Human                 & Return of the Jedi    &                       &                      \\\\\n",
       "\t Arvel Crynyd          &  NA                   &     NA                & brown                 & fair                  & brown                 &    NA                 & male                  & masculine             & NA                    & Human                 & Return of the Jedi    &                       & A-wing               \\\\\n",
       "\t Wicket Systri Warrick &  88                   &   20.0                & brown                 & brown                 & brown                 &   8.0                 & male                  & masculine             & Endor                 & Ewok                  & Return of the Jedi    &                       &                      \\\\\n",
       "\t Nien Nunb             & 160                   &   68.0                & none                  & grey                  & black                 &    NA                 & male                  & masculine             & Sullust               & Sullustan             & Return of the Jedi    &                       & Millennium Falcon    \\\\\n",
       "\t ... & ... & ... & ... & ... & ... & ... & ... & ... & ... & ... & ... & ... & ...\\\\\n",
       "\t Cordé                & 157                  &    NA                & brown                & light                & brown                &  NA                  & female               & feminine             & Naboo                & Human                & Attack of the Clones &                      &                     \\\\\n",
       "\t Cliegg Lars          & 183                  &    NA                & brown                & fair                 & blue                 &  82                  & male                 & masculine            & Tatooine             & Human                & Attack of the Clones &                      &                     \\\\\n",
       "\t Poggle the Lesser                          & 183                                        &  80.0                                      & none                                       & green                                      & yellow                                     &  NA                                        & male                                       & masculine                                  & Geonosis                                   & Geonosian                                  & Attack of the Clones, Revenge of the Sith  &                                            &                                           \\\\\n",
       "\t Luminara Unduli                            & 170                                        &  56.2                                      & black                                      & yellow                                     & blue                                       &  58                                        & female                                     & feminine                                   & Mirial                                     & Mirialan                                   & Attack of the Clones, Revenge of the Sith  &                                            &                                           \\\\\n",
       "\t Barriss Offee        & 166                  &  50.0                & black                & yellow               & blue                 &  40                  & female               & feminine             & Mirial               & Mirialan             & Attack of the Clones &                      &                     \\\\\n",
       "\t Dormé                & 165                  &    NA                & brown                & light                & brown                &  NA                  & female               & feminine             & Naboo                & Human                & Attack of the Clones &                      &                     \\\\\n",
       "\t Dooku                                      & 193                                        &  80.0                                      & white                                      & fair                                       & brown                                      & 102                                        & male                                       & masculine                                  & Serenno                                    & Human                                      & Attack of the Clones, Revenge of the Sith  & Flitknot speeder                           &                                           \\\\\n",
       "\t Bail Prestor Organa                        & 191                                        &    NA                                      & black                                      & tan                                        & brown                                      &  67                                        & male                                       & masculine                                  & Alderaan                                   & Human                                      & Attack of the Clones, Revenge of the Sith  &                                            &                                           \\\\\n",
       "\t Jango Fett           & 183                  &  79.0                & black                & tan                  & brown                &  66                  & male                 & masculine            & Concord Dawn         & Human                & Attack of the Clones &                      &                     \\\\\n",
       "\t Zam Wesell                 & 168                        &  55.0                      & blonde                     & fair, green, yellow        & yellow                     &  NA                        & female                     & feminine                   & Zolan                      & Clawdite                   & Attack of the Clones       & Koro-2 Exodrive airspeeder &                           \\\\\n",
       "\t Dexter Jettster      & 198                  & 102.0                & none                 & brown                & yellow               &  NA                  & male                 & masculine            & Ojom                 & Besalisk             & Attack of the Clones &                      &                     \\\\\n",
       "\t Lama Su              & 229                  &  88.0                & none                 & grey                 & black                &  NA                  & male                 & masculine            & Kamino               & Kaminoan             & Attack of the Clones &                      &                     \\\\\n",
       "\t Taun We              & 213                  &    NA                & none                 & grey                 & black                &  NA                  & female               & feminine             & Kamino               & Kaminoan             & Attack of the Clones &                      &                     \\\\\n",
       "\t Jocasta Nu           & 167                  &    NA                & white                & fair                 & blue                 &  NA                  & female               & feminine             & Coruscant            & Human                & Attack of the Clones &                      &                     \\\\\n",
       "\t Ratts Tyerell       &  79                 &  15.0               & none                & grey, blue          & unknown             &  NA                 & male                & masculine           & Aleen Minor         & Aleena              & The Phantom Menace  &                     &                    \\\\\n",
       "\t R4-P17                                     &  96                                        &    NA                                      & none                                       & silver, red                                & red, blue                                  &  NA                                        & none                                       & feminine                                   & NA                                         & Droid                                      & Attack of the Clones, Revenge of the Sith  &                                            &                                           \\\\\n",
       "\t Wat Tambor           & 193                  &  48.0                & none                 & green, grey          & unknown              &  NA                  & male                 & masculine            & Skako                & Skakoan              & Attack of the Clones &                      &                     \\\\\n",
       "\t San Hill             & 191                  &    NA                & none                 & grey                 & gold                 &  NA                  & male                 & masculine            & Muunilinst           & Muun                 & Attack of the Clones &                      &                     \\\\\n",
       "\t Shaak Ti                                   & 178                                        &  57.0                                      & none                                       & red, blue, white                           & black                                      &  NA                                        & female                                     & feminine                                   & Shili                                      & Togruta                                    & Attack of the Clones, Revenge of the Sith  &                                            &                                           \\\\\n",
       "\t Grievous                    & 216                         & 159.0                       & none                        & brown, white                & green, yellow               &  NA                         & male                        & masculine                   & Kalee                       & Kaleesh                     & Revenge of the Sith         & Tsmeu-6 personal wheel bike & Belbullab-22 starfighter   \\\\\n",
       "\t Tarfful             & 234                 & 136.0               & brown               & brown               & blue                &  NA                 & male                & masculine           & Kashyyyk            & Wookiee             & Revenge of the Sith &                     &                    \\\\\n",
       "\t Raymus Antilles                          & 188                                      &  79.0                                    & brown                                    & light                                    & brown                                    &  NA                                      & male                                     & masculine                                & Alderaan                                 & Human                                    & Revenge of the Sith, A New Hope          &                                          &                                         \\\\\n",
       "\t Sly Moore                                  & 178                                        &  48.0                                      & none                                       & pale                                       & white                                      &  NA                                        & NA                                         & NA                                         & Umbara                                     & NA                                         & Attack of the Clones, Revenge of the Sith  &                                            &                                           \\\\\n",
       "\t Tion Medon          & 206                 &  80.0               & none                & grey                & black               &  NA                 & male                & masculine           & Utapau              & Pau'an              & Revenge of the Sith &                     &                    \\\\\n",
       "\t Finn                &  NA                 &    NA               & black               & dark                & dark                &  NA                 & male                & masculine           & NA                  & Human               & The Force Awakens   &                     &                    \\\\\n",
       "\t Rey                 &  NA                 &    NA               & brown               & light               & hazel               &  NA                 & female              & feminine            & NA                  & Human               & The Force Awakens   &                     &                    \\\\\n",
       "\t Poe Dameron         &  NA                 &    NA               & brown               & light               & brown               &  NA                 & male                & masculine           & NA                  & Human               & The Force Awakens   &                     & T-70 X-wing fighter\\\\\n",
       "\t BB8                 &  NA                 &    NA               & none                & none                & black               &  NA                 & none                & masculine           & NA                  & Droid               & The Force Awakens   &                     &                    \\\\\n",
       "\t Captain Phasma      &  NA                 &    NA               & unknown             & unknown             & unknown             &  NA                 & NA                  & NA                  & NA                  & NA                  & The Force Awakens   &                     &                    \\\\\n",
       "\t Padmé Amidala                                                    & 165                                                              &  45.0                                                            & brown                                                            & light                                                            & brown                                                            &  46                                                              & female                                                           & feminine                                                         & Naboo                                                            & Human                                                            & Attack of the Clones, The Phantom Menace  , Revenge of the Sith  &                                                                  & H-type Nubian yacht, Naboo star skiff   , Naboo fighter         \\\\\n",
       "\\end{tabular}\n"
      ],
      "text/markdown": [
       "\n",
       "| name | height | mass | hair_color | skin_color | eye_color | birth_year | sex | gender | homeworld | species | films | vehicles | starships |\n",
       "|---|---|---|---|---|---|---|---|---|---|---|---|---|---|\n",
       "| Luke Skywalker                                                                                                              | 172                                                                                                                         |   77.0                                                                                                                      | blond                                                                                                                       | fair                                                                                                                        | blue                                                                                                                        |  19.0                                                                                                                       | male                                                                                                                        | masculine                                                                                                                   | Tatooine                                                                                                                    | Human                                                                                                                       | The Empire Strikes Back, Revenge of the Sith    , Return of the Jedi     , A New Hope             , The Force Awakens       | Snowspeeder          , Imperial Speeder Bike                                                                                | X-wing          , Imperial shuttle                                                                                          |\n",
       "| C-3PO                                                                                                                                                | 167                                                                                                                                                  |   75.0                                                                                                                                               | NA                                                                                                                                                   | gold                                                                                                                                                 | yellow                                                                                                                                               | 112.0                                                                                                                                                | none                                                                                                                                                 | masculine                                                                                                                                            | Tatooine                                                                                                                                             | Droid                                                                                                                                                | The Empire Strikes Back, Attack of the Clones   , The Phantom Menace     , Revenge of the Sith    , Return of the Jedi     , A New Hope              |                                                                                                                                                      |                                                                                                                                                      |\n",
       "| R2-D2                                                                                                                                                                         |  96                                                                                                                                                                           |   32.0                                                                                                                                                                        | NA                                                                                                                                                                            | white, blue                                                                                                                                                                   | red                                                                                                                                                                           |  33.0                                                                                                                                                                         | none                                                                                                                                                                          | masculine                                                                                                                                                                     | Naboo                                                                                                                                                                         | Droid                                                                                                                                                                         | The Empire Strikes Back, Attack of the Clones   , The Phantom Menace     , Revenge of the Sith    , Return of the Jedi     , A New Hope             , The Force Awakens       |                                                                                                                                                                               |                                                                                                                                                                               |\n",
       "| Darth Vader                                                                                        | 202                                                                                                |  136.0                                                                                             | none                                                                                               | white                                                                                              | yellow                                                                                             |  41.9                                                                                              | male                                                                                               | masculine                                                                                          | Tatooine                                                                                           | Human                                                                                              | The Empire Strikes Back, Revenge of the Sith    , Return of the Jedi     , A New Hope              |                                                                                                    | TIE Advanced x1                                                                                    |\n",
       "| Leia Organa                                                                                                                 | 150                                                                                                                         |   49.0                                                                                                                      | brown                                                                                                                       | light                                                                                                                       | brown                                                                                                                       |  19.0                                                                                                                       | female                                                                                                                      | feminine                                                                                                                    | Alderaan                                                                                                                    | Human                                                                                                                       | The Empire Strikes Back, Revenge of the Sith    , Return of the Jedi     , A New Hope             , The Force Awakens       | Imperial Speeder Bike                                                                                                       |                                                                                                                             |\n",
       "| Owen Lars                                                        | 178                                                              |  120.0                                                           | brown, grey                                                      | light                                                            | blue                                                             |  52.0                                                            | male                                                             | masculine                                                        | Tatooine                                                         | Human                                                            | Attack of the Clones, Revenge of the Sith , A New Hope           |                                                                  |                                                                  |\n",
       "| Beru Whitesun lars                                               | 165                                                              |   75.0                                                           | brown                                                            | light                                                            | blue                                                             |  47.0                                                            | female                                                           | feminine                                                         | Tatooine                                                         | Human                                                            | Attack of the Clones, Revenge of the Sith , A New Hope           |                                                                  |                                                                  |\n",
       "| R5-D4                 |  97                   |   32.0                | NA                    | white, red            | red                   |    NA                 | none                  | masculine             | Tatooine              | Droid                 | A New Hope            |                       |                       |\n",
       "| Biggs Darklighter     | 183                   |   84.0                | black                 | light                 | brown                 |  24.0                 | male                  | masculine             | Tatooine              | Human                 | A New Hope            |                       | X-wing                |\n",
       "| Obi-Wan Kenobi                                                                                                                                       | 182                                                                                                                                                  |   77.0                                                                                                                                               | auburn, white                                                                                                                                        | fair                                                                                                                                                 | blue-gray                                                                                                                                            |  57.0                                                                                                                                                | male                                                                                                                                                 | masculine                                                                                                                                            | Stewjon                                                                                                                                              | Human                                                                                                                                                | The Empire Strikes Back, Attack of the Clones   , The Phantom Menace     , Revenge of the Sith    , Return of the Jedi     , A New Hope              | Tribubble bongo                                                                                                                                      | Jedi starfighter        , Trade Federation cruiser, Naboo star skiff        , Jedi Interceptor        , Belbullab-22 starfighter                     |\n",
       "| Anakin Skywalker                                                             | 188                                                                          |   84.0                                                                       | blond                                                                        | fair                                                                         | blue                                                                         |  41.9                                                                        | male                                                                         | masculine                                                                    | Tatooine                                                                     | Human                                                                        | Attack of the Clones, The Phantom Menace  , Revenge of the Sith              | Zephyr-G swoop bike, XJ-6 airspeeder                                         | Trade Federation cruiser, Jedi Interceptor        , Naboo fighter            |\n",
       "| Wilhuff Tarkin                           | 180                                      |     NA                                   | auburn, grey                             | fair                                     | blue                                     |  64.0                                    | male                                     | masculine                                | Eriadu                                   | Human                                    | Revenge of the Sith, A New Hope          |                                          |                                          |\n",
       "| Chewbacca                                                                                                                   | 228                                                                                                                         |  112.0                                                                                                                      | brown                                                                                                                       | unknown                                                                                                                     | blue                                                                                                                        | 200.0                                                                                                                       | male                                                                                                                        | masculine                                                                                                                   | Kashyyyk                                                                                                                    | Wookiee                                                                                                                     | The Empire Strikes Back, Revenge of the Sith    , Return of the Jedi     , A New Hope             , The Force Awakens       | AT-ST                                                                                                                       | Millennium Falcon, Imperial shuttle                                                                                         |\n",
       "| Han Solo                                                                                           | 180                                                                                                |   80.0                                                                                             | brown                                                                                              | fair                                                                                               | brown                                                                                              |  29.0                                                                                              | male                                                                                               | masculine                                                                                          | Corellia                                                                                           | Human                                                                                              | The Empire Strikes Back, Return of the Jedi     , A New Hope             , The Force Awakens       |                                                                                                    | Millennium Falcon, Imperial shuttle                                                                |\n",
       "| Greedo                | 173                   |   74.0                | NA                    | green                 | black                 |  44.0                 | male                  | masculine             | Rodia                 | Rodian                | A New Hope            |                       |                       |\n",
       "| Jabba Desilijic Tiure                                      | 175                                                        | 1358.0                                                     | NA                                                         | green-tan, brown                                           | orange                                                     | 600.0                                                      | hermaphroditic                                             | masculine                                                  | Nal Hutta                                                  | Hutt                                                       | The Phantom Menace, Return of the Jedi, A New Hope         |                                                            |                                                            |\n",
       "| Wedge Antilles                                                            | 170                                                                       |   77.0                                                                    | brown                                                                     | fair                                                                      | hazel                                                                     |  21.0                                                                     | male                                                                      | masculine                                                                 | Corellia                                                                  | Human                                                                     | The Empire Strikes Back, Return of the Jedi     , A New Hope              | Snowspeeder                                                               | X-wing                                                                    |\n",
       "| Jek Tono Porkins      | 180                   |  110.0                | brown                 | fair                  | blue                  |    NA                 | male                  | masculine             | Bestine IV            | Human                 | A New Hope            |                       | X-wing                |\n",
       "| Yoda                                                                                                                        |  66                                                                                                                         |   17.0                                                                                                                      | white                                                                                                                       | green                                                                                                                       | brown                                                                                                                       | 896.0                                                                                                                       | male                                                                                                                        | masculine                                                                                                                   | NA                                                                                                                          | Yoda's species                                                                                                              | The Empire Strikes Back, Attack of the Clones   , The Phantom Menace     , Revenge of the Sith    , Return of the Jedi      |                                                                                                                             |                                                                                                                             |\n",
       "| Palpatine                                                                                                                   | 170                                                                                                                         |   75.0                                                                                                                      | grey                                                                                                                        | pale                                                                                                                        | yellow                                                                                                                      |  82.0                                                                                                                       | male                                                                                                                        | masculine                                                                                                                   | Naboo                                                                                                                       | Human                                                                                                                       | The Empire Strikes Back, Attack of the Clones   , The Phantom Menace     , Revenge of the Sith    , Return of the Jedi      |                                                                                                                             |                                                                                                                             |\n",
       "| Boba Fett                                                                 | 183                                                                       |   78.2                                                                    | black                                                                     | fair                                                                      | brown                                                                     |  31.5                                                                     | male                                                                      | masculine                                                                 | Kamino                                                                    | Human                                                                     | The Empire Strikes Back, Attack of the Clones   , Return of the Jedi      |                                                                           | Slave 1                                                                   |\n",
       "| IG-88                   | 200                     |  140.0                  | none                    | metal                   | red                     |  15.0                   | none                    | masculine               | NA                      | Droid                   | The Empire Strikes Back |                         |                         |\n",
       "| Bossk                   | 190                     |  113.0                  | none                    | green                   | red                     |  53.0                   | male                    | masculine               | Trandosha               | Trandoshan              | The Empire Strikes Back |                         |                         |\n",
       "| Lando Calrissian                                 | 177                                              |   79.0                                           | black                                            | dark                                             | brown                                            |  31.0                                            | male                                             | masculine                                        | Socorro                                          | Human                                            | The Empire Strikes Back, Return of the Jedi      |                                                  | Millennium Falcon                                |\n",
       "| Lobot                   | 175                     |   79.0                  | none                    | light                   | blue                    |  37.0                   | male                    | masculine               | Bespin                  | Human                   | The Empire Strikes Back |                         |                         |\n",
       "| Ackbar                                 | 180                                    |   83.0                                 | none                                   | brown mottle                           | orange                                 |  41.0                                  | male                                   | masculine                              | Mon Cala                               | Mon Calamari                           | Return of the Jedi, The Force Awakens  |                                        |                                        |\n",
       "| Mon Mothma            | 150                   |     NA                | auburn                | fair                  | blue                  |  48.0                 | female                | feminine              | Chandrila             | Human                 | Return of the Jedi    |                       |                       |\n",
       "| Arvel Crynyd          |  NA                   |     NA                | brown                 | fair                  | brown                 |    NA                 | male                  | masculine             | NA                    | Human                 | Return of the Jedi    |                       | A-wing                |\n",
       "| Wicket Systri Warrick |  88                   |   20.0                | brown                 | brown                 | brown                 |   8.0                 | male                  | masculine             | Endor                 | Ewok                  | Return of the Jedi    |                       |                       |\n",
       "| Nien Nunb             | 160                   |   68.0                | none                  | grey                  | black                 |    NA                 | male                  | masculine             | Sullust               | Sullustan             | Return of the Jedi    |                       | Millennium Falcon     |\n",
       "| ... | ... | ... | ... | ... | ... | ... | ... | ... | ... | ... | ... | ... | ... |\n",
       "| Cordé                | 157                  |    NA                | brown                | light                | brown                |  NA                  | female               | feminine             | Naboo                | Human                | Attack of the Clones |                      |                      |\n",
       "| Cliegg Lars          | 183                  |    NA                | brown                | fair                 | blue                 |  82                  | male                 | masculine            | Tatooine             | Human                | Attack of the Clones |                      |                      |\n",
       "| Poggle the Lesser                          | 183                                        |  80.0                                      | none                                       | green                                      | yellow                                     |  NA                                        | male                                       | masculine                                  | Geonosis                                   | Geonosian                                  | Attack of the Clones, Revenge of the Sith  |                                            |                                            |\n",
       "| Luminara Unduli                            | 170                                        |  56.2                                      | black                                      | yellow                                     | blue                                       |  58                                        | female                                     | feminine                                   | Mirial                                     | Mirialan                                   | Attack of the Clones, Revenge of the Sith  |                                            |                                            |\n",
       "| Barriss Offee        | 166                  |  50.0                | black                | yellow               | blue                 |  40                  | female               | feminine             | Mirial               | Mirialan             | Attack of the Clones |                      |                      |\n",
       "| Dormé                | 165                  |    NA                | brown                | light                | brown                |  NA                  | female               | feminine             | Naboo                | Human                | Attack of the Clones |                      |                      |\n",
       "| Dooku                                      | 193                                        |  80.0                                      | white                                      | fair                                       | brown                                      | 102                                        | male                                       | masculine                                  | Serenno                                    | Human                                      | Attack of the Clones, Revenge of the Sith  | Flitknot speeder                           |                                            |\n",
       "| Bail Prestor Organa                        | 191                                        |    NA                                      | black                                      | tan                                        | brown                                      |  67                                        | male                                       | masculine                                  | Alderaan                                   | Human                                      | Attack of the Clones, Revenge of the Sith  |                                            |                                            |\n",
       "| Jango Fett           | 183                  |  79.0                | black                | tan                  | brown                |  66                  | male                 | masculine            | Concord Dawn         | Human                | Attack of the Clones |                      |                      |\n",
       "| Zam Wesell                 | 168                        |  55.0                      | blonde                     | fair, green, yellow        | yellow                     |  NA                        | female                     | feminine                   | Zolan                      | Clawdite                   | Attack of the Clones       | Koro-2 Exodrive airspeeder |                            |\n",
       "| Dexter Jettster      | 198                  | 102.0                | none                 | brown                | yellow               |  NA                  | male                 | masculine            | Ojom                 | Besalisk             | Attack of the Clones |                      |                      |\n",
       "| Lama Su              | 229                  |  88.0                | none                 | grey                 | black                |  NA                  | male                 | masculine            | Kamino               | Kaminoan             | Attack of the Clones |                      |                      |\n",
       "| Taun We              | 213                  |    NA                | none                 | grey                 | black                |  NA                  | female               | feminine             | Kamino               | Kaminoan             | Attack of the Clones |                      |                      |\n",
       "| Jocasta Nu           | 167                  |    NA                | white                | fair                 | blue                 |  NA                  | female               | feminine             | Coruscant            | Human                | Attack of the Clones |                      |                      |\n",
       "| Ratts Tyerell       |  79                 |  15.0               | none                | grey, blue          | unknown             |  NA                 | male                | masculine           | Aleen Minor         | Aleena              | The Phantom Menace  |                     |                     |\n",
       "| R4-P17                                     |  96                                        |    NA                                      | none                                       | silver, red                                | red, blue                                  |  NA                                        | none                                       | feminine                                   | NA                                         | Droid                                      | Attack of the Clones, Revenge of the Sith  |                                            |                                            |\n",
       "| Wat Tambor           | 193                  |  48.0                | none                 | green, grey          | unknown              |  NA                  | male                 | masculine            | Skako                | Skakoan              | Attack of the Clones |                      |                      |\n",
       "| San Hill             | 191                  |    NA                | none                 | grey                 | gold                 |  NA                  | male                 | masculine            | Muunilinst           | Muun                 | Attack of the Clones |                      |                      |\n",
       "| Shaak Ti                                   | 178                                        |  57.0                                      | none                                       | red, blue, white                           | black                                      |  NA                                        | female                                     | feminine                                   | Shili                                      | Togruta                                    | Attack of the Clones, Revenge of the Sith  |                                            |                                            |\n",
       "| Grievous                    | 216                         | 159.0                       | none                        | brown, white                | green, yellow               |  NA                         | male                        | masculine                   | Kalee                       | Kaleesh                     | Revenge of the Sith         | Tsmeu-6 personal wheel bike | Belbullab-22 starfighter    |\n",
       "| Tarfful             | 234                 | 136.0               | brown               | brown               | blue                |  NA                 | male                | masculine           | Kashyyyk            | Wookiee             | Revenge of the Sith |                     |                     |\n",
       "| Raymus Antilles                          | 188                                      |  79.0                                    | brown                                    | light                                    | brown                                    |  NA                                      | male                                     | masculine                                | Alderaan                                 | Human                                    | Revenge of the Sith, A New Hope          |                                          |                                          |\n",
       "| Sly Moore                                  | 178                                        |  48.0                                      | none                                       | pale                                       | white                                      |  NA                                        | NA                                         | NA                                         | Umbara                                     | NA                                         | Attack of the Clones, Revenge of the Sith  |                                            |                                            |\n",
       "| Tion Medon          | 206                 |  80.0               | none                | grey                | black               |  NA                 | male                | masculine           | Utapau              | Pau'an              | Revenge of the Sith |                     |                     |\n",
       "| Finn                |  NA                 |    NA               | black               | dark                | dark                |  NA                 | male                | masculine           | NA                  | Human               | The Force Awakens   |                     |                     |\n",
       "| Rey                 |  NA                 |    NA               | brown               | light               | hazel               |  NA                 | female              | feminine            | NA                  | Human               | The Force Awakens   |                     |                     |\n",
       "| Poe Dameron         |  NA                 |    NA               | brown               | light               | brown               |  NA                 | male                | masculine           | NA                  | Human               | The Force Awakens   |                     | T-70 X-wing fighter |\n",
       "| BB8                 |  NA                 |    NA               | none                | none                | black               |  NA                 | none                | masculine           | NA                  | Droid               | The Force Awakens   |                     |                     |\n",
       "| Captain Phasma      |  NA                 |    NA               | unknown             | unknown             | unknown             |  NA                 | NA                  | NA                  | NA                  | NA                  | The Force Awakens   |                     |                     |\n",
       "| Padmé Amidala                                                    | 165                                                              |  45.0                                                            | brown                                                            | light                                                            | brown                                                            |  46                                                              | female                                                           | feminine                                                         | Naboo                                                            | Human                                                            | Attack of the Clones, The Phantom Menace  , Revenge of the Sith  |                                                                  | H-type Nubian yacht, Naboo star skiff   , Naboo fighter          |\n",
       "\n"
      ],
      "text/plain": [
       "    name                  height mass   hair_color    skin_color         \n",
       "1   Luke Skywalker        172      77.0 blond         fair               \n",
       "2   C-3PO                 167      75.0 NA            gold               \n",
       "3   R2-D2                  96      32.0 NA            white, blue        \n",
       "4   Darth Vader           202     136.0 none          white              \n",
       "5   Leia Organa           150      49.0 brown         light              \n",
       "6   Owen Lars             178     120.0 brown, grey   light              \n",
       "7   Beru Whitesun lars    165      75.0 brown         light              \n",
       "8   R5-D4                  97      32.0 NA            white, red         \n",
       "9   Biggs Darklighter     183      84.0 black         light              \n",
       "10  Obi-Wan Kenobi        182      77.0 auburn, white fair               \n",
       "11  Anakin Skywalker      188      84.0 blond         fair               \n",
       "12  Wilhuff Tarkin        180        NA auburn, grey  fair               \n",
       "13  Chewbacca             228     112.0 brown         unknown            \n",
       "14  Han Solo              180      80.0 brown         fair               \n",
       "15  Greedo                173      74.0 NA            green              \n",
       "16  Jabba Desilijic Tiure 175    1358.0 NA            green-tan, brown   \n",
       "17  Wedge Antilles        170      77.0 brown         fair               \n",
       "18  Jek Tono Porkins      180     110.0 brown         fair               \n",
       "19  Yoda                   66      17.0 white         green              \n",
       "20  Palpatine             170      75.0 grey          pale               \n",
       "21  Boba Fett             183      78.2 black         fair               \n",
       "22  IG-88                 200     140.0 none          metal              \n",
       "23  Bossk                 190     113.0 none          green              \n",
       "24  Lando Calrissian      177      79.0 black         dark               \n",
       "25  Lobot                 175      79.0 none          light              \n",
       "26  Ackbar                180      83.0 none          brown mottle       \n",
       "27  Mon Mothma            150        NA auburn        fair               \n",
       "28  Arvel Crynyd           NA        NA brown         fair               \n",
       "29  Wicket Systri Warrick  88      20.0 brown         brown              \n",
       "30  Nien Nunb             160      68.0 none          grey               \n",
       "... ...                   ...    ...    ...           ...                \n",
       "58  Cordé                 157       NA  brown         light              \n",
       "59  Cliegg Lars           183       NA  brown         fair               \n",
       "60  Poggle the Lesser     183     80.0  none          green              \n",
       "61  Luminara Unduli       170     56.2  black         yellow             \n",
       "62  Barriss Offee         166     50.0  black         yellow             \n",
       "63  Dormé                 165       NA  brown         light              \n",
       "64  Dooku                 193     80.0  white         fair               \n",
       "65  Bail Prestor Organa   191       NA  black         tan                \n",
       "66  Jango Fett            183     79.0  black         tan                \n",
       "67  Zam Wesell            168     55.0  blonde        fair, green, yellow\n",
       "68  Dexter Jettster       198    102.0  none          brown              \n",
       "69  Lama Su               229     88.0  none          grey               \n",
       "70  Taun We               213       NA  none          grey               \n",
       "71  Jocasta Nu            167       NA  white         fair               \n",
       "72  Ratts Tyerell          79     15.0  none          grey, blue         \n",
       "73  R4-P17                 96       NA  none          silver, red        \n",
       "74  Wat Tambor            193     48.0  none          green, grey        \n",
       "75  San Hill              191       NA  none          grey               \n",
       "76  Shaak Ti              178     57.0  none          red, blue, white   \n",
       "77  Grievous              216    159.0  none          brown, white       \n",
       "78  Tarfful               234    136.0  brown         brown              \n",
       "79  Raymus Antilles       188     79.0  brown         light              \n",
       "80  Sly Moore             178     48.0  none          pale               \n",
       "81  Tion Medon            206     80.0  none          grey               \n",
       "82  Finn                   NA       NA  black         dark               \n",
       "83  Rey                    NA       NA  brown         light              \n",
       "84  Poe Dameron            NA       NA  brown         light              \n",
       "85  BB8                    NA       NA  none          none               \n",
       "86  Captain Phasma         NA       NA  unknown       unknown            \n",
       "87  Padmé Amidala         165     45.0  brown         light              \n",
       "    eye_color     birth_year sex            gender    homeworld   \n",
       "1   blue           19.0      male           masculine Tatooine    \n",
       "2   yellow        112.0      none           masculine Tatooine    \n",
       "3   red            33.0      none           masculine Naboo       \n",
       "4   yellow         41.9      male           masculine Tatooine    \n",
       "5   brown          19.0      female         feminine  Alderaan    \n",
       "6   blue           52.0      male           masculine Tatooine    \n",
       "7   blue           47.0      female         feminine  Tatooine    \n",
       "8   red              NA      none           masculine Tatooine    \n",
       "9   brown          24.0      male           masculine Tatooine    \n",
       "10  blue-gray      57.0      male           masculine Stewjon     \n",
       "11  blue           41.9      male           masculine Tatooine    \n",
       "12  blue           64.0      male           masculine Eriadu      \n",
       "13  blue          200.0      male           masculine Kashyyyk    \n",
       "14  brown          29.0      male           masculine Corellia    \n",
       "15  black          44.0      male           masculine Rodia       \n",
       "16  orange        600.0      hermaphroditic masculine Nal Hutta   \n",
       "17  hazel          21.0      male           masculine Corellia    \n",
       "18  blue             NA      male           masculine Bestine IV  \n",
       "19  brown         896.0      male           masculine NA          \n",
       "20  yellow         82.0      male           masculine Naboo       \n",
       "21  brown          31.5      male           masculine Kamino      \n",
       "22  red            15.0      none           masculine NA          \n",
       "23  red            53.0      male           masculine Trandosha   \n",
       "24  brown          31.0      male           masculine Socorro     \n",
       "25  blue           37.0      male           masculine Bespin      \n",
       "26  orange         41.0      male           masculine Mon Cala    \n",
       "27  blue           48.0      female         feminine  Chandrila   \n",
       "28  brown            NA      male           masculine NA          \n",
       "29  brown           8.0      male           masculine Endor       \n",
       "30  black            NA      male           masculine Sullust     \n",
       "... ...           ...        ...            ...       ...         \n",
       "58  brown          NA        female         feminine  Naboo       \n",
       "59  blue           82        male           masculine Tatooine    \n",
       "60  yellow         NA        male           masculine Geonosis    \n",
       "61  blue           58        female         feminine  Mirial      \n",
       "62  blue           40        female         feminine  Mirial      \n",
       "63  brown          NA        female         feminine  Naboo       \n",
       "64  brown         102        male           masculine Serenno     \n",
       "65  brown          67        male           masculine Alderaan    \n",
       "66  brown          66        male           masculine Concord Dawn\n",
       "67  yellow         NA        female         feminine  Zolan       \n",
       "68  yellow         NA        male           masculine Ojom        \n",
       "69  black          NA        male           masculine Kamino      \n",
       "70  black          NA        female         feminine  Kamino      \n",
       "71  blue           NA        female         feminine  Coruscant   \n",
       "72  unknown        NA        male           masculine Aleen Minor \n",
       "73  red, blue      NA        none           feminine  NA          \n",
       "74  unknown        NA        male           masculine Skako       \n",
       "75  gold           NA        male           masculine Muunilinst  \n",
       "76  black          NA        female         feminine  Shili       \n",
       "77  green, yellow  NA        male           masculine Kalee       \n",
       "78  blue           NA        male           masculine Kashyyyk    \n",
       "79  brown          NA        male           masculine Alderaan    \n",
       "80  white          NA        NA             NA        Umbara      \n",
       "81  black          NA        male           masculine Utapau      \n",
       "82  dark           NA        male           masculine NA          \n",
       "83  hazel          NA        female         feminine  NA          \n",
       "84  brown          NA        male           masculine NA          \n",
       "85  black          NA        none           masculine NA          \n",
       "86  unknown        NA        NA             NA        NA          \n",
       "87  brown          46        female         feminine  Naboo       \n",
       "    species       \n",
       "1   Human         \n",
       "2   Droid         \n",
       "3   Droid         \n",
       "4   Human         \n",
       "5   Human         \n",
       "6   Human         \n",
       "7   Human         \n",
       "8   Droid         \n",
       "9   Human         \n",
       "10  Human         \n",
       "11  Human         \n",
       "12  Human         \n",
       "13  Wookiee       \n",
       "14  Human         \n",
       "15  Rodian        \n",
       "16  Hutt          \n",
       "17  Human         \n",
       "18  Human         \n",
       "19  Yoda's species\n",
       "20  Human         \n",
       "21  Human         \n",
       "22  Droid         \n",
       "23  Trandoshan    \n",
       "24  Human         \n",
       "25  Human         \n",
       "26  Mon Calamari  \n",
       "27  Human         \n",
       "28  Human         \n",
       "29  Ewok          \n",
       "30  Sullustan     \n",
       "... ...           \n",
       "58  Human         \n",
       "59  Human         \n",
       "60  Geonosian     \n",
       "61  Mirialan      \n",
       "62  Mirialan      \n",
       "63  Human         \n",
       "64  Human         \n",
       "65  Human         \n",
       "66  Human         \n",
       "67  Clawdite      \n",
       "68  Besalisk      \n",
       "69  Kaminoan      \n",
       "70  Kaminoan      \n",
       "71  Human         \n",
       "72  Aleena        \n",
       "73  Droid         \n",
       "74  Skakoan       \n",
       "75  Muun          \n",
       "76  Togruta       \n",
       "77  Kaleesh       \n",
       "78  Wookiee       \n",
       "79  Human         \n",
       "80  NA            \n",
       "81  Pau'an        \n",
       "82  Human         \n",
       "83  Human         \n",
       "84  Human         \n",
       "85  Droid         \n",
       "86  NA            \n",
       "87  Human         \n",
       "    films                                                                                                                                                                        \n",
       "1   The Empire Strikes Back, Revenge of the Sith    , Return of the Jedi     , A New Hope             , The Force Awakens                                                        \n",
       "2   The Empire Strikes Back, Attack of the Clones   , The Phantom Menace     , Revenge of the Sith    , Return of the Jedi     , A New Hope                                      \n",
       "3   The Empire Strikes Back, Attack of the Clones   , The Phantom Menace     , Revenge of the Sith    , Return of the Jedi     , A New Hope             , The Force Awakens      \n",
       "4   The Empire Strikes Back, Revenge of the Sith    , Return of the Jedi     , A New Hope                                                                                        \n",
       "5   The Empire Strikes Back, Revenge of the Sith    , Return of the Jedi     , A New Hope             , The Force Awakens                                                        \n",
       "6   Attack of the Clones, Revenge of the Sith , A New Hope                                                                                                                       \n",
       "7   Attack of the Clones, Revenge of the Sith , A New Hope                                                                                                                       \n",
       "8   A New Hope                                                                                                                                                                   \n",
       "9   A New Hope                                                                                                                                                                   \n",
       "10  The Empire Strikes Back, Attack of the Clones   , The Phantom Menace     , Revenge of the Sith    , Return of the Jedi     , A New Hope                                      \n",
       "11  Attack of the Clones, The Phantom Menace  , Revenge of the Sith                                                                                                              \n",
       "12  Revenge of the Sith, A New Hope                                                                                                                                              \n",
       "13  The Empire Strikes Back, Revenge of the Sith    , Return of the Jedi     , A New Hope             , The Force Awakens                                                        \n",
       "14  The Empire Strikes Back, Return of the Jedi     , A New Hope             , The Force Awakens                                                                                 \n",
       "15  A New Hope                                                                                                                                                                   \n",
       "16  The Phantom Menace, Return of the Jedi, A New Hope                                                                                                                           \n",
       "17  The Empire Strikes Back, Return of the Jedi     , A New Hope                                                                                                                 \n",
       "18  A New Hope                                                                                                                                                                   \n",
       "19  The Empire Strikes Back, Attack of the Clones   , The Phantom Menace     , Revenge of the Sith    , Return of the Jedi                                                       \n",
       "20  The Empire Strikes Back, Attack of the Clones   , The Phantom Menace     , Revenge of the Sith    , Return of the Jedi                                                       \n",
       "21  The Empire Strikes Back, Attack of the Clones   , Return of the Jedi                                                                                                         \n",
       "22  The Empire Strikes Back                                                                                                                                                      \n",
       "23  The Empire Strikes Back                                                                                                                                                      \n",
       "24  The Empire Strikes Back, Return of the Jedi                                                                                                                                  \n",
       "25  The Empire Strikes Back                                                                                                                                                      \n",
       "26  Return of the Jedi, The Force Awakens                                                                                                                                        \n",
       "27  Return of the Jedi                                                                                                                                                           \n",
       "28  Return of the Jedi                                                                                                                                                           \n",
       "29  Return of the Jedi                                                                                                                                                           \n",
       "30  Return of the Jedi                                                                                                                                                           \n",
       "... ...                                                                                                                                                                          \n",
       "58  Attack of the Clones                                                                                                                                                         \n",
       "59  Attack of the Clones                                                                                                                                                         \n",
       "60  Attack of the Clones, Revenge of the Sith                                                                                                                                    \n",
       "61  Attack of the Clones, Revenge of the Sith                                                                                                                                    \n",
       "62  Attack of the Clones                                                                                                                                                         \n",
       "63  Attack of the Clones                                                                                                                                                         \n",
       "64  Attack of the Clones, Revenge of the Sith                                                                                                                                    \n",
       "65  Attack of the Clones, Revenge of the Sith                                                                                                                                    \n",
       "66  Attack of the Clones                                                                                                                                                         \n",
       "67  Attack of the Clones                                                                                                                                                         \n",
       "68  Attack of the Clones                                                                                                                                                         \n",
       "69  Attack of the Clones                                                                                                                                                         \n",
       "70  Attack of the Clones                                                                                                                                                         \n",
       "71  Attack of the Clones                                                                                                                                                         \n",
       "72  The Phantom Menace                                                                                                                                                           \n",
       "73  Attack of the Clones, Revenge of the Sith                                                                                                                                    \n",
       "74  Attack of the Clones                                                                                                                                                         \n",
       "75  Attack of the Clones                                                                                                                                                         \n",
       "76  Attack of the Clones, Revenge of the Sith                                                                                                                                    \n",
       "77  Revenge of the Sith                                                                                                                                                          \n",
       "78  Revenge of the Sith                                                                                                                                                          \n",
       "79  Revenge of the Sith, A New Hope                                                                                                                                              \n",
       "80  Attack of the Clones, Revenge of the Sith                                                                                                                                    \n",
       "81  Revenge of the Sith                                                                                                                                                          \n",
       "82  The Force Awakens                                                                                                                                                            \n",
       "83  The Force Awakens                                                                                                                                                            \n",
       "84  The Force Awakens                                                                                                                                                            \n",
       "85  The Force Awakens                                                                                                                                                            \n",
       "86  The Force Awakens                                                                                                                                                            \n",
       "87  Attack of the Clones, The Phantom Menace  , Revenge of the Sith                                                                                                              \n",
       "    vehicles                                    \n",
       "1   Snowspeeder          , Imperial Speeder Bike\n",
       "2                                               \n",
       "3                                               \n",
       "4                                               \n",
       "5   Imperial Speeder Bike                       \n",
       "6                                               \n",
       "7                                               \n",
       "8                                               \n",
       "9                                               \n",
       "10  Tribubble bongo                             \n",
       "11  Zephyr-G swoop bike, XJ-6 airspeeder        \n",
       "12                                              \n",
       "13  AT-ST                                       \n",
       "14                                              \n",
       "15                                              \n",
       "16                                              \n",
       "17  Snowspeeder                                 \n",
       "18                                              \n",
       "19                                              \n",
       "20                                              \n",
       "21                                              \n",
       "22                                              \n",
       "23                                              \n",
       "24                                              \n",
       "25                                              \n",
       "26                                              \n",
       "27                                              \n",
       "28                                              \n",
       "29                                              \n",
       "30                                              \n",
       "... ...                                         \n",
       "58                                              \n",
       "59                                              \n",
       "60                                              \n",
       "61                                              \n",
       "62                                              \n",
       "63                                              \n",
       "64  Flitknot speeder                            \n",
       "65                                              \n",
       "66                                              \n",
       "67  Koro-2 Exodrive airspeeder                  \n",
       "68                                              \n",
       "69                                              \n",
       "70                                              \n",
       "71                                              \n",
       "72                                              \n",
       "73                                              \n",
       "74                                              \n",
       "75                                              \n",
       "76                                              \n",
       "77  Tsmeu-6 personal wheel bike                 \n",
       "78                                              \n",
       "79                                              \n",
       "80                                              \n",
       "81                                              \n",
       "82                                              \n",
       "83                                              \n",
       "84                                              \n",
       "85                                              \n",
       "86                                              \n",
       "87                                              \n",
       "    starships                                                                                                                       \n",
       "1   X-wing          , Imperial shuttle                                                                                              \n",
       "2                                                                                                                                   \n",
       "3                                                                                                                                   \n",
       "4   TIE Advanced x1                                                                                                                 \n",
       "5                                                                                                                                   \n",
       "6                                                                                                                                   \n",
       "7                                                                                                                                   \n",
       "8                                                                                                                                   \n",
       "9   X-wing                                                                                                                          \n",
       "10  Jedi starfighter        , Trade Federation cruiser, Naboo star skiff        , Jedi Interceptor        , Belbullab-22 starfighter\n",
       "11  Trade Federation cruiser, Jedi Interceptor        , Naboo fighter                                                               \n",
       "12                                                                                                                                  \n",
       "13  Millennium Falcon, Imperial shuttle                                                                                             \n",
       "14  Millennium Falcon, Imperial shuttle                                                                                             \n",
       "15                                                                                                                                  \n",
       "16                                                                                                                                  \n",
       "17  X-wing                                                                                                                          \n",
       "18  X-wing                                                                                                                          \n",
       "19                                                                                                                                  \n",
       "20                                                                                                                                  \n",
       "21  Slave 1                                                                                                                         \n",
       "22                                                                                                                                  \n",
       "23                                                                                                                                  \n",
       "24  Millennium Falcon                                                                                                               \n",
       "25                                                                                                                                  \n",
       "26                                                                                                                                  \n",
       "27                                                                                                                                  \n",
       "28  A-wing                                                                                                                          \n",
       "29                                                                                                                                  \n",
       "30  Millennium Falcon                                                                                                               \n",
       "... ...                                                                                                                             \n",
       "58                                                                                                                                  \n",
       "59                                                                                                                                  \n",
       "60                                                                                                                                  \n",
       "61                                                                                                                                  \n",
       "62                                                                                                                                  \n",
       "63                                                                                                                                  \n",
       "64                                                                                                                                  \n",
       "65                                                                                                                                  \n",
       "66                                                                                                                                  \n",
       "67                                                                                                                                  \n",
       "68                                                                                                                                  \n",
       "69                                                                                                                                  \n",
       "70                                                                                                                                  \n",
       "71                                                                                                                                  \n",
       "72                                                                                                                                  \n",
       "73                                                                                                                                  \n",
       "74                                                                                                                                  \n",
       "75                                                                                                                                  \n",
       "76                                                                                                                                  \n",
       "77  Belbullab-22 starfighter                                                                                                        \n",
       "78                                                                                                                                  \n",
       "79                                                                                                                                  \n",
       "80                                                                                                                                  \n",
       "81                                                                                                                                  \n",
       "82                                                                                                                                  \n",
       "83                                                                                                                                  \n",
       "84  T-70 X-wing fighter                                                                                                             \n",
       "85                                                                                                                                  \n",
       "86                                                                                                                                  \n",
       "87  H-type Nubian yacht, Naboo star skiff   , Naboo fighter                                                                         "
      ]
     },
     "metadata": {},
     "output_type": "display_data"
    }
   ],
   "source": [
    "mydata <- starwars\n",
    " \n",
    "# Select everything\n",
    "select(mydata,everything())"
   ]
  },
  {
   "cell_type": "markdown",
   "metadata": {},
   "source": [
    "# 19.Mutate Function"
   ]
  },
  {
   "cell_type": "code",
   "execution_count": 74,
   "metadata": {},
   "outputs": [
    {
     "data": {
      "text/html": [
       "<table>\n",
       "<thead><tr><th scope=col>name</th><th scope=col>mass</th><th scope=col>species</th><th scope=col>mass_norm</th></tr></thead>\n",
       "<tbody>\n",
       "\t<tr><td>Luke Skywalker       </td><td>  77.0               </td><td>Human                </td><td> 0.7912704           </td></tr>\n",
       "\t<tr><td>C-3PO                </td><td>  75.0               </td><td>Droid                </td><td> 0.7707179           </td></tr>\n",
       "\t<tr><td>R2-D2                </td><td>  32.0               </td><td>Droid                </td><td> 0.3288397           </td></tr>\n",
       "\t<tr><td>Darth Vader          </td><td> 136.0               </td><td>Human                </td><td> 1.3975685           </td></tr>\n",
       "\t<tr><td>Leia Organa          </td><td>  49.0               </td><td>Human                </td><td> 0.5035357           </td></tr>\n",
       "\t<tr><td>Owen Lars            </td><td> 120.0               </td><td>Human                </td><td> 1.2331487           </td></tr>\n",
       "\t<tr><td>Beru Whitesun lars   </td><td>  75.0               </td><td>Human                </td><td> 0.7707179           </td></tr>\n",
       "\t<tr><td>R5-D4                </td><td>  32.0               </td><td>Droid                </td><td> 0.3288397           </td></tr>\n",
       "\t<tr><td>Biggs Darklighter    </td><td>  84.0               </td><td>Human                </td><td> 0.8632041           </td></tr>\n",
       "\t<tr><td>Obi-Wan Kenobi       </td><td>  77.0               </td><td>Human                </td><td> 0.7912704           </td></tr>\n",
       "\t<tr><td>Anakin Skywalker     </td><td>  84.0               </td><td>Human                </td><td> 0.8632041           </td></tr>\n",
       "\t<tr><td>Wilhuff Tarkin       </td><td>    NA               </td><td>Human                </td><td>        NA           </td></tr>\n",
       "\t<tr><td>Chewbacca            </td><td> 112.0               </td><td>Wookiee              </td><td> 1.1509388           </td></tr>\n",
       "\t<tr><td>Han Solo             </td><td>  80.0               </td><td>Human                </td><td> 0.8220991           </td></tr>\n",
       "\t<tr><td>Greedo               </td><td>  74.0               </td><td>Rodian               </td><td> 0.7604417           </td></tr>\n",
       "\t<tr><td>Jabba Desilijic Tiure</td><td>1358.0               </td><td>Hutt                 </td><td>13.9551329           </td></tr>\n",
       "\t<tr><td>Wedge Antilles       </td><td>  77.0               </td><td>Human                </td><td> 0.7912704           </td></tr>\n",
       "\t<tr><td>Jek Tono Porkins     </td><td> 110.0               </td><td>Human                </td><td> 1.1303863           </td></tr>\n",
       "\t<tr><td>Yoda                 </td><td>  17.0               </td><td>Yoda's species       </td><td> 0.1746961           </td></tr>\n",
       "\t<tr><td>Palpatine            </td><td>  75.0               </td><td>Human                </td><td> 0.7707179           </td></tr>\n",
       "\t<tr><td>Boba Fett            </td><td>  78.2               </td><td>Human                </td><td> 0.8036019           </td></tr>\n",
       "\t<tr><td>IG-88                </td><td> 140.0               </td><td>Droid                </td><td> 1.4386735           </td></tr>\n",
       "\t<tr><td>Bossk                </td><td> 113.0               </td><td>Trandoshan           </td><td> 1.1612150           </td></tr>\n",
       "\t<tr><td>Lando Calrissian     </td><td>  79.0               </td><td>Human                </td><td> 0.8118229           </td></tr>\n",
       "\t<tr><td>Lobot                </td><td>  79.0               </td><td>Human                </td><td> 0.8118229           </td></tr>\n",
       "\t<tr><td>Ackbar               </td><td>  83.0               </td><td>Mon Calamari         </td><td> 0.8529279           </td></tr>\n",
       "\t<tr><td>Mon Mothma           </td><td>    NA               </td><td>Human                </td><td>        NA           </td></tr>\n",
       "\t<tr><td>Arvel Crynyd         </td><td>    NA               </td><td>Human                </td><td>        NA           </td></tr>\n",
       "\t<tr><td>Wicket Systri Warrick</td><td>  20.0               </td><td>Ewok                 </td><td> 0.2055248           </td></tr>\n",
       "\t<tr><td>Nien Nunb            </td><td>  68.0               </td><td>Sullustan            </td><td> 0.6987843           </td></tr>\n",
       "\t<tr><td>...</td><td>...</td><td>...</td><td>...</td></tr>\n",
       "\t<tr><td>Cordé              </td><td>   NA              </td><td>Human              </td><td>       NA          </td></tr>\n",
       "\t<tr><td>Cliegg Lars        </td><td>   NA              </td><td>Human              </td><td>       NA          </td></tr>\n",
       "\t<tr><td>Poggle the Lesser  </td><td> 80.0              </td><td>Geonosian          </td><td>0.8220991          </td></tr>\n",
       "\t<tr><td>Luminara Unduli    </td><td> 56.2              </td><td>Mirialan           </td><td>0.5775246          </td></tr>\n",
       "\t<tr><td>Barriss Offee      </td><td> 50.0              </td><td>Mirialan           </td><td>0.5138120          </td></tr>\n",
       "\t<tr><td>Dormé              </td><td>   NA              </td><td>Human              </td><td>       NA          </td></tr>\n",
       "\t<tr><td>Dooku              </td><td> 80.0              </td><td>Human              </td><td>0.8220991          </td></tr>\n",
       "\t<tr><td>Bail Prestor Organa</td><td>   NA              </td><td>Human              </td><td>       NA          </td></tr>\n",
       "\t<tr><td>Jango Fett         </td><td> 79.0              </td><td>Human              </td><td>0.8118229          </td></tr>\n",
       "\t<tr><td>Zam Wesell         </td><td> 55.0              </td><td>Clawdite           </td><td>0.5651932          </td></tr>\n",
       "\t<tr><td>Dexter Jettster    </td><td>102.0              </td><td>Besalisk           </td><td>1.0481764          </td></tr>\n",
       "\t<tr><td>Lama Su            </td><td> 88.0              </td><td>Kaminoan           </td><td>0.9043091          </td></tr>\n",
       "\t<tr><td>Taun We            </td><td>   NA              </td><td>Kaminoan           </td><td>       NA          </td></tr>\n",
       "\t<tr><td>Jocasta Nu         </td><td>   NA              </td><td>Human              </td><td>       NA          </td></tr>\n",
       "\t<tr><td>Ratts Tyerell      </td><td> 15.0              </td><td>Aleena             </td><td>0.1541436          </td></tr>\n",
       "\t<tr><td>R4-P17             </td><td>   NA              </td><td>Droid              </td><td>       NA          </td></tr>\n",
       "\t<tr><td>Wat Tambor         </td><td> 48.0              </td><td>Skakoan            </td><td>0.4932595          </td></tr>\n",
       "\t<tr><td>San Hill           </td><td>   NA              </td><td>Muun               </td><td>       NA          </td></tr>\n",
       "\t<tr><td>Shaak Ti           </td><td> 57.0              </td><td>Togruta            </td><td>0.5857456          </td></tr>\n",
       "\t<tr><td>Grievous           </td><td>159.0              </td><td>Kaleesh            </td><td>1.6339220          </td></tr>\n",
       "\t<tr><td>Tarfful            </td><td>136.0              </td><td>Wookiee            </td><td>1.3975685          </td></tr>\n",
       "\t<tr><td>Raymus Antilles    </td><td> 79.0              </td><td>Human              </td><td>0.8118229          </td></tr>\n",
       "\t<tr><td>Sly Moore          </td><td> 48.0              </td><td>NA                 </td><td>0.4932595          </td></tr>\n",
       "\t<tr><td>Tion Medon         </td><td> 80.0              </td><td>Pau'an             </td><td>0.8220991          </td></tr>\n",
       "\t<tr><td>Finn               </td><td>   NA              </td><td>Human              </td><td>       NA          </td></tr>\n",
       "\t<tr><td>Rey                </td><td>   NA              </td><td>Human              </td><td>       NA          </td></tr>\n",
       "\t<tr><td>Poe Dameron        </td><td>   NA              </td><td>Human              </td><td>       NA          </td></tr>\n",
       "\t<tr><td>BB8                </td><td>   NA              </td><td>Droid              </td><td>       NA          </td></tr>\n",
       "\t<tr><td>Captain Phasma     </td><td>   NA              </td><td>NA                 </td><td>       NA          </td></tr>\n",
       "\t<tr><td>Padmé Amidala      </td><td> 45.0              </td><td>Human              </td><td>0.4624308          </td></tr>\n",
       "</tbody>\n",
       "</table>\n"
      ],
      "text/latex": [
       "\\begin{tabular}{r|llll}\n",
       " name & mass & species & mass\\_norm\\\\\n",
       "\\hline\n",
       "\t Luke Skywalker        &   77.0                & Human                 &  0.7912704           \\\\\n",
       "\t C-3PO                 &   75.0                & Droid                 &  0.7707179           \\\\\n",
       "\t R2-D2                 &   32.0                & Droid                 &  0.3288397           \\\\\n",
       "\t Darth Vader           &  136.0                & Human                 &  1.3975685           \\\\\n",
       "\t Leia Organa           &   49.0                & Human                 &  0.5035357           \\\\\n",
       "\t Owen Lars             &  120.0                & Human                 &  1.2331487           \\\\\n",
       "\t Beru Whitesun lars    &   75.0                & Human                 &  0.7707179           \\\\\n",
       "\t R5-D4                 &   32.0                & Droid                 &  0.3288397           \\\\\n",
       "\t Biggs Darklighter     &   84.0                & Human                 &  0.8632041           \\\\\n",
       "\t Obi-Wan Kenobi        &   77.0                & Human                 &  0.7912704           \\\\\n",
       "\t Anakin Skywalker      &   84.0                & Human                 &  0.8632041           \\\\\n",
       "\t Wilhuff Tarkin        &     NA                & Human                 &         NA           \\\\\n",
       "\t Chewbacca             &  112.0                & Wookiee               &  1.1509388           \\\\\n",
       "\t Han Solo              &   80.0                & Human                 &  0.8220991           \\\\\n",
       "\t Greedo                &   74.0                & Rodian                &  0.7604417           \\\\\n",
       "\t Jabba Desilijic Tiure & 1358.0                & Hutt                  & 13.9551329           \\\\\n",
       "\t Wedge Antilles        &   77.0                & Human                 &  0.7912704           \\\\\n",
       "\t Jek Tono Porkins      &  110.0                & Human                 &  1.1303863           \\\\\n",
       "\t Yoda                  &   17.0                & Yoda's species        &  0.1746961           \\\\\n",
       "\t Palpatine             &   75.0                & Human                 &  0.7707179           \\\\\n",
       "\t Boba Fett             &   78.2                & Human                 &  0.8036019           \\\\\n",
       "\t IG-88                 &  140.0                & Droid                 &  1.4386735           \\\\\n",
       "\t Bossk                 &  113.0                & Trandoshan            &  1.1612150           \\\\\n",
       "\t Lando Calrissian      &   79.0                & Human                 &  0.8118229           \\\\\n",
       "\t Lobot                 &   79.0                & Human                 &  0.8118229           \\\\\n",
       "\t Ackbar                &   83.0                & Mon Calamari          &  0.8529279           \\\\\n",
       "\t Mon Mothma            &     NA                & Human                 &         NA           \\\\\n",
       "\t Arvel Crynyd          &     NA                & Human                 &         NA           \\\\\n",
       "\t Wicket Systri Warrick &   20.0                & Ewok                  &  0.2055248           \\\\\n",
       "\t Nien Nunb             &   68.0                & Sullustan             &  0.6987843           \\\\\n",
       "\t ... & ... & ... & ...\\\\\n",
       "\t Cordé               &    NA               & Human               &        NA          \\\\\n",
       "\t Cliegg Lars         &    NA               & Human               &        NA          \\\\\n",
       "\t Poggle the Lesser   &  80.0               & Geonosian           & 0.8220991          \\\\\n",
       "\t Luminara Unduli     &  56.2               & Mirialan            & 0.5775246          \\\\\n",
       "\t Barriss Offee       &  50.0               & Mirialan            & 0.5138120          \\\\\n",
       "\t Dormé               &    NA               & Human               &        NA          \\\\\n",
       "\t Dooku               &  80.0               & Human               & 0.8220991          \\\\\n",
       "\t Bail Prestor Organa &    NA               & Human               &        NA          \\\\\n",
       "\t Jango Fett          &  79.0               & Human               & 0.8118229          \\\\\n",
       "\t Zam Wesell          &  55.0               & Clawdite            & 0.5651932          \\\\\n",
       "\t Dexter Jettster     & 102.0               & Besalisk            & 1.0481764          \\\\\n",
       "\t Lama Su             &  88.0               & Kaminoan            & 0.9043091          \\\\\n",
       "\t Taun We             &    NA               & Kaminoan            &        NA          \\\\\n",
       "\t Jocasta Nu          &    NA               & Human               &        NA          \\\\\n",
       "\t Ratts Tyerell       &  15.0               & Aleena              & 0.1541436          \\\\\n",
       "\t R4-P17              &    NA               & Droid               &        NA          \\\\\n",
       "\t Wat Tambor          &  48.0               & Skakoan             & 0.4932595          \\\\\n",
       "\t San Hill            &    NA               & Muun                &        NA          \\\\\n",
       "\t Shaak Ti            &  57.0               & Togruta             & 0.5857456          \\\\\n",
       "\t Grievous            & 159.0               & Kaleesh             & 1.6339220          \\\\\n",
       "\t Tarfful             & 136.0               & Wookiee             & 1.3975685          \\\\\n",
       "\t Raymus Antilles     &  79.0               & Human               & 0.8118229          \\\\\n",
       "\t Sly Moore           &  48.0               & NA                  & 0.4932595          \\\\\n",
       "\t Tion Medon          &  80.0               & Pau'an              & 0.8220991          \\\\\n",
       "\t Finn                &    NA               & Human               &        NA          \\\\\n",
       "\t Rey                 &    NA               & Human               &        NA          \\\\\n",
       "\t Poe Dameron         &    NA               & Human               &        NA          \\\\\n",
       "\t BB8                 &    NA               & Droid               &        NA          \\\\\n",
       "\t Captain Phasma      &    NA               & NA                  &        NA          \\\\\n",
       "\t Padmé Amidala       &  45.0               & Human               & 0.4624308          \\\\\n",
       "\\end{tabular}\n"
      ],
      "text/markdown": [
       "\n",
       "| name | mass | species | mass_norm |\n",
       "|---|---|---|---|\n",
       "| Luke Skywalker        |   77.0                | Human                 |  0.7912704            |\n",
       "| C-3PO                 |   75.0                | Droid                 |  0.7707179            |\n",
       "| R2-D2                 |   32.0                | Droid                 |  0.3288397            |\n",
       "| Darth Vader           |  136.0                | Human                 |  1.3975685            |\n",
       "| Leia Organa           |   49.0                | Human                 |  0.5035357            |\n",
       "| Owen Lars             |  120.0                | Human                 |  1.2331487            |\n",
       "| Beru Whitesun lars    |   75.0                | Human                 |  0.7707179            |\n",
       "| R5-D4                 |   32.0                | Droid                 |  0.3288397            |\n",
       "| Biggs Darklighter     |   84.0                | Human                 |  0.8632041            |\n",
       "| Obi-Wan Kenobi        |   77.0                | Human                 |  0.7912704            |\n",
       "| Anakin Skywalker      |   84.0                | Human                 |  0.8632041            |\n",
       "| Wilhuff Tarkin        |     NA                | Human                 |         NA            |\n",
       "| Chewbacca             |  112.0                | Wookiee               |  1.1509388            |\n",
       "| Han Solo              |   80.0                | Human                 |  0.8220991            |\n",
       "| Greedo                |   74.0                | Rodian                |  0.7604417            |\n",
       "| Jabba Desilijic Tiure | 1358.0                | Hutt                  | 13.9551329            |\n",
       "| Wedge Antilles        |   77.0                | Human                 |  0.7912704            |\n",
       "| Jek Tono Porkins      |  110.0                | Human                 |  1.1303863            |\n",
       "| Yoda                  |   17.0                | Yoda's species        |  0.1746961            |\n",
       "| Palpatine             |   75.0                | Human                 |  0.7707179            |\n",
       "| Boba Fett             |   78.2                | Human                 |  0.8036019            |\n",
       "| IG-88                 |  140.0                | Droid                 |  1.4386735            |\n",
       "| Bossk                 |  113.0                | Trandoshan            |  1.1612150            |\n",
       "| Lando Calrissian      |   79.0                | Human                 |  0.8118229            |\n",
       "| Lobot                 |   79.0                | Human                 |  0.8118229            |\n",
       "| Ackbar                |   83.0                | Mon Calamari          |  0.8529279            |\n",
       "| Mon Mothma            |     NA                | Human                 |         NA            |\n",
       "| Arvel Crynyd          |     NA                | Human                 |         NA            |\n",
       "| Wicket Systri Warrick |   20.0                | Ewok                  |  0.2055248            |\n",
       "| Nien Nunb             |   68.0                | Sullustan             |  0.6987843            |\n",
       "| ... | ... | ... | ... |\n",
       "| Cordé               |    NA               | Human               |        NA           |\n",
       "| Cliegg Lars         |    NA               | Human               |        NA           |\n",
       "| Poggle the Lesser   |  80.0               | Geonosian           | 0.8220991           |\n",
       "| Luminara Unduli     |  56.2               | Mirialan            | 0.5775246           |\n",
       "| Barriss Offee       |  50.0               | Mirialan            | 0.5138120           |\n",
       "| Dormé               |    NA               | Human               |        NA           |\n",
       "| Dooku               |  80.0               | Human               | 0.8220991           |\n",
       "| Bail Prestor Organa |    NA               | Human               |        NA           |\n",
       "| Jango Fett          |  79.0               | Human               | 0.8118229           |\n",
       "| Zam Wesell          |  55.0               | Clawdite            | 0.5651932           |\n",
       "| Dexter Jettster     | 102.0               | Besalisk            | 1.0481764           |\n",
       "| Lama Su             |  88.0               | Kaminoan            | 0.9043091           |\n",
       "| Taun We             |    NA               | Kaminoan            |        NA           |\n",
       "| Jocasta Nu          |    NA               | Human               |        NA           |\n",
       "| Ratts Tyerell       |  15.0               | Aleena              | 0.1541436           |\n",
       "| R4-P17              |    NA               | Droid               |        NA           |\n",
       "| Wat Tambor          |  48.0               | Skakoan             | 0.4932595           |\n",
       "| San Hill            |    NA               | Muun                |        NA           |\n",
       "| Shaak Ti            |  57.0               | Togruta             | 0.5857456           |\n",
       "| Grievous            | 159.0               | Kaleesh             | 1.6339220           |\n",
       "| Tarfful             | 136.0               | Wookiee             | 1.3975685           |\n",
       "| Raymus Antilles     |  79.0               | Human               | 0.8118229           |\n",
       "| Sly Moore           |  48.0               | NA                  | 0.4932595           |\n",
       "| Tion Medon          |  80.0               | Pau'an              | 0.8220991           |\n",
       "| Finn                |    NA               | Human               |        NA           |\n",
       "| Rey                 |    NA               | Human               |        NA           |\n",
       "| Poe Dameron         |    NA               | Human               |        NA           |\n",
       "| BB8                 |    NA               | Droid               |        NA           |\n",
       "| Captain Phasma      |    NA               | NA                  |        NA           |\n",
       "| Padmé Amidala       |  45.0               | Human               | 0.4624308           |\n",
       "\n"
      ],
      "text/plain": [
       "    name                  mass   species        mass_norm \n",
       "1   Luke Skywalker          77.0 Human           0.7912704\n",
       "2   C-3PO                   75.0 Droid           0.7707179\n",
       "3   R2-D2                   32.0 Droid           0.3288397\n",
       "4   Darth Vader            136.0 Human           1.3975685\n",
       "5   Leia Organa             49.0 Human           0.5035357\n",
       "6   Owen Lars              120.0 Human           1.2331487\n",
       "7   Beru Whitesun lars      75.0 Human           0.7707179\n",
       "8   R5-D4                   32.0 Droid           0.3288397\n",
       "9   Biggs Darklighter       84.0 Human           0.8632041\n",
       "10  Obi-Wan Kenobi          77.0 Human           0.7912704\n",
       "11  Anakin Skywalker        84.0 Human           0.8632041\n",
       "12  Wilhuff Tarkin            NA Human                  NA\n",
       "13  Chewbacca              112.0 Wookiee         1.1509388\n",
       "14  Han Solo                80.0 Human           0.8220991\n",
       "15  Greedo                  74.0 Rodian          0.7604417\n",
       "16  Jabba Desilijic Tiure 1358.0 Hutt           13.9551329\n",
       "17  Wedge Antilles          77.0 Human           0.7912704\n",
       "18  Jek Tono Porkins       110.0 Human           1.1303863\n",
       "19  Yoda                    17.0 Yoda's species  0.1746961\n",
       "20  Palpatine               75.0 Human           0.7707179\n",
       "21  Boba Fett               78.2 Human           0.8036019\n",
       "22  IG-88                  140.0 Droid           1.4386735\n",
       "23  Bossk                  113.0 Trandoshan      1.1612150\n",
       "24  Lando Calrissian        79.0 Human           0.8118229\n",
       "25  Lobot                   79.0 Human           0.8118229\n",
       "26  Ackbar                  83.0 Mon Calamari    0.8529279\n",
       "27  Mon Mothma                NA Human                  NA\n",
       "28  Arvel Crynyd              NA Human                  NA\n",
       "29  Wicket Systri Warrick   20.0 Ewok            0.2055248\n",
       "30  Nien Nunb               68.0 Sullustan       0.6987843\n",
       "... ...                   ...    ...            ...       \n",
       "58  Cordé                    NA  Human                 NA \n",
       "59  Cliegg Lars              NA  Human                 NA \n",
       "60  Poggle the Lesser      80.0  Geonosian      0.8220991 \n",
       "61  Luminara Unduli        56.2  Mirialan       0.5775246 \n",
       "62  Barriss Offee          50.0  Mirialan       0.5138120 \n",
       "63  Dormé                    NA  Human                 NA \n",
       "64  Dooku                  80.0  Human          0.8220991 \n",
       "65  Bail Prestor Organa      NA  Human                 NA \n",
       "66  Jango Fett             79.0  Human          0.8118229 \n",
       "67  Zam Wesell             55.0  Clawdite       0.5651932 \n",
       "68  Dexter Jettster       102.0  Besalisk       1.0481764 \n",
       "69  Lama Su                88.0  Kaminoan       0.9043091 \n",
       "70  Taun We                  NA  Kaminoan              NA \n",
       "71  Jocasta Nu               NA  Human                 NA \n",
       "72  Ratts Tyerell          15.0  Aleena         0.1541436 \n",
       "73  R4-P17                   NA  Droid                 NA \n",
       "74  Wat Tambor             48.0  Skakoan        0.4932595 \n",
       "75  San Hill                 NA  Muun                  NA \n",
       "76  Shaak Ti               57.0  Togruta        0.5857456 \n",
       "77  Grievous              159.0  Kaleesh        1.6339220 \n",
       "78  Tarfful               136.0  Wookiee        1.3975685 \n",
       "79  Raymus Antilles        79.0  Human          0.8118229 \n",
       "80  Sly Moore              48.0  NA             0.4932595 \n",
       "81  Tion Medon             80.0  Pau'an         0.8220991 \n",
       "82  Finn                     NA  Human                 NA \n",
       "83  Rey                      NA  Human                 NA \n",
       "84  Poe Dameron              NA  Human                 NA \n",
       "85  BB8                      NA  Droid                 NA \n",
       "86  Captain Phasma           NA  NA                    NA \n",
       "87  Padmé Amidala          45.0  Human          0.4624308 "
      ]
     },
     "metadata": {},
     "output_type": "display_data"
    }
   ],
   "source": [
    "starwars %>%\n",
    "  select(name, mass, species) %>%\n",
    "  mutate(mass_norm = mass / mean(mass, na.rm = TRUE))"
   ]
  },
  {
   "cell_type": "code",
   "execution_count": 75,
   "metadata": {},
   "outputs": [
    {
     "data": {
      "text/html": [
       "<table>\n",
       "<thead><tr><th scope=col>name</th><th scope=col>mass</th><th scope=col>species</th><th scope=col>mass_norm</th></tr></thead>\n",
       "<tbody>\n",
       "\t<tr><td>Luke Skywalker       </td><td>  77.0               </td><td>Human                </td><td> 0.7912704           </td></tr>\n",
       "\t<tr><td>C-3PO                </td><td>  75.0               </td><td>Droid                </td><td> 0.7707179           </td></tr>\n",
       "\t<tr><td>R2-D2                </td><td>  32.0               </td><td>Droid                </td><td> 0.3288397           </td></tr>\n",
       "\t<tr><td>Darth Vader          </td><td> 136.0               </td><td>Human                </td><td> 1.3975685           </td></tr>\n",
       "\t<tr><td>Leia Organa          </td><td>  49.0               </td><td>Human                </td><td> 0.5035357           </td></tr>\n",
       "\t<tr><td>Owen Lars            </td><td> 120.0               </td><td>Human                </td><td> 1.2331487           </td></tr>\n",
       "\t<tr><td>Beru Whitesun lars   </td><td>  75.0               </td><td>Human                </td><td> 0.7707179           </td></tr>\n",
       "\t<tr><td>R5-D4                </td><td>  32.0               </td><td>Droid                </td><td> 0.3288397           </td></tr>\n",
       "\t<tr><td>Biggs Darklighter    </td><td>  84.0               </td><td>Human                </td><td> 0.8632041           </td></tr>\n",
       "\t<tr><td>Obi-Wan Kenobi       </td><td>  77.0               </td><td>Human                </td><td> 0.7912704           </td></tr>\n",
       "\t<tr><td>Anakin Skywalker     </td><td>  84.0               </td><td>Human                </td><td> 0.8632041           </td></tr>\n",
       "\t<tr><td>Wilhuff Tarkin       </td><td>    NA               </td><td>Human                </td><td>        NA           </td></tr>\n",
       "\t<tr><td>Chewbacca            </td><td> 112.0               </td><td>Wookiee              </td><td> 1.1509388           </td></tr>\n",
       "\t<tr><td>Han Solo             </td><td>  80.0               </td><td>Human                </td><td> 0.8220991           </td></tr>\n",
       "\t<tr><td>Greedo               </td><td>  74.0               </td><td>Rodian               </td><td> 0.7604417           </td></tr>\n",
       "\t<tr><td>Jabba Desilijic Tiure</td><td>1358.0               </td><td>Hutt                 </td><td>13.9551329           </td></tr>\n",
       "\t<tr><td>Wedge Antilles       </td><td>  77.0               </td><td>Human                </td><td> 0.7912704           </td></tr>\n",
       "\t<tr><td>Jek Tono Porkins     </td><td> 110.0               </td><td>Human                </td><td> 1.1303863           </td></tr>\n",
       "\t<tr><td>Yoda                 </td><td>  17.0               </td><td>Yoda's species       </td><td> 0.1746961           </td></tr>\n",
       "\t<tr><td>Palpatine            </td><td>  75.0               </td><td>Human                </td><td> 0.7707179           </td></tr>\n",
       "\t<tr><td>Boba Fett            </td><td>  78.2               </td><td>Human                </td><td> 0.8036019           </td></tr>\n",
       "\t<tr><td>IG-88                </td><td> 140.0               </td><td>Droid                </td><td> 1.4386735           </td></tr>\n",
       "\t<tr><td>Bossk                </td><td> 113.0               </td><td>Trandoshan           </td><td> 1.1612150           </td></tr>\n",
       "\t<tr><td>Lando Calrissian     </td><td>  79.0               </td><td>Human                </td><td> 0.8118229           </td></tr>\n",
       "\t<tr><td>Lobot                </td><td>  79.0               </td><td>Human                </td><td> 0.8118229           </td></tr>\n",
       "\t<tr><td>Ackbar               </td><td>  83.0               </td><td>Mon Calamari         </td><td> 0.8529279           </td></tr>\n",
       "\t<tr><td>Mon Mothma           </td><td>    NA               </td><td>Human                </td><td>        NA           </td></tr>\n",
       "\t<tr><td>Arvel Crynyd         </td><td>    NA               </td><td>Human                </td><td>        NA           </td></tr>\n",
       "\t<tr><td>Wicket Systri Warrick</td><td>  20.0               </td><td>Ewok                 </td><td> 0.2055248           </td></tr>\n",
       "\t<tr><td>Nien Nunb            </td><td>  68.0               </td><td>Sullustan            </td><td> 0.6987843           </td></tr>\n",
       "\t<tr><td>...</td><td>...</td><td>...</td><td>...</td></tr>\n",
       "\t<tr><td>Cordé              </td><td>   NA              </td><td>Human              </td><td>       NA          </td></tr>\n",
       "\t<tr><td>Cliegg Lars        </td><td>   NA              </td><td>Human              </td><td>       NA          </td></tr>\n",
       "\t<tr><td>Poggle the Lesser  </td><td> 80.0              </td><td>Geonosian          </td><td>0.8220991          </td></tr>\n",
       "\t<tr><td>Luminara Unduli    </td><td> 56.2              </td><td>Mirialan           </td><td>0.5775246          </td></tr>\n",
       "\t<tr><td>Barriss Offee      </td><td> 50.0              </td><td>Mirialan           </td><td>0.5138120          </td></tr>\n",
       "\t<tr><td>Dormé              </td><td>   NA              </td><td>Human              </td><td>       NA          </td></tr>\n",
       "\t<tr><td>Dooku              </td><td> 80.0              </td><td>Human              </td><td>0.8220991          </td></tr>\n",
       "\t<tr><td>Bail Prestor Organa</td><td>   NA              </td><td>Human              </td><td>       NA          </td></tr>\n",
       "\t<tr><td>Jango Fett         </td><td> 79.0              </td><td>Human              </td><td>0.8118229          </td></tr>\n",
       "\t<tr><td>Zam Wesell         </td><td> 55.0              </td><td>Clawdite           </td><td>0.5651932          </td></tr>\n",
       "\t<tr><td>Dexter Jettster    </td><td>102.0              </td><td>Besalisk           </td><td>1.0481764          </td></tr>\n",
       "\t<tr><td>Lama Su            </td><td> 88.0              </td><td>Kaminoan           </td><td>0.9043091          </td></tr>\n",
       "\t<tr><td>Taun We            </td><td>   NA              </td><td>Kaminoan           </td><td>       NA          </td></tr>\n",
       "\t<tr><td>Jocasta Nu         </td><td>   NA              </td><td>Human              </td><td>       NA          </td></tr>\n",
       "\t<tr><td>Ratts Tyerell      </td><td> 15.0              </td><td>Aleena             </td><td>0.1541436          </td></tr>\n",
       "\t<tr><td>R4-P17             </td><td>   NA              </td><td>Droid              </td><td>       NA          </td></tr>\n",
       "\t<tr><td>Wat Tambor         </td><td> 48.0              </td><td>Skakoan            </td><td>0.4932595          </td></tr>\n",
       "\t<tr><td>San Hill           </td><td>   NA              </td><td>Muun               </td><td>       NA          </td></tr>\n",
       "\t<tr><td>Shaak Ti           </td><td> 57.0              </td><td>Togruta            </td><td>0.5857456          </td></tr>\n",
       "\t<tr><td>Grievous           </td><td>159.0              </td><td>Kaleesh            </td><td>1.6339220          </td></tr>\n",
       "\t<tr><td>Tarfful            </td><td>136.0              </td><td>Wookiee            </td><td>1.3975685          </td></tr>\n",
       "\t<tr><td>Raymus Antilles    </td><td> 79.0              </td><td>Human              </td><td>0.8118229          </td></tr>\n",
       "\t<tr><td>Sly Moore          </td><td> 48.0              </td><td>NA                 </td><td>0.4932595          </td></tr>\n",
       "\t<tr><td>Tion Medon         </td><td> 80.0              </td><td>Pau'an             </td><td>0.8220991          </td></tr>\n",
       "\t<tr><td>Finn               </td><td>   NA              </td><td>Human              </td><td>       NA          </td></tr>\n",
       "\t<tr><td>Rey                </td><td>   NA              </td><td>Human              </td><td>       NA          </td></tr>\n",
       "\t<tr><td>Poe Dameron        </td><td>   NA              </td><td>Human              </td><td>       NA          </td></tr>\n",
       "\t<tr><td>BB8                </td><td>   NA              </td><td>Droid              </td><td>       NA          </td></tr>\n",
       "\t<tr><td>Captain Phasma     </td><td>   NA              </td><td>NA                 </td><td>       NA          </td></tr>\n",
       "\t<tr><td>Padmé Amidala      </td><td> 45.0              </td><td>Human              </td><td>0.4624308          </td></tr>\n",
       "</tbody>\n",
       "</table>\n"
      ],
      "text/latex": [
       "\\begin{tabular}{r|llll}\n",
       " name & mass & species & mass\\_norm\\\\\n",
       "\\hline\n",
       "\t Luke Skywalker        &   77.0                & Human                 &  0.7912704           \\\\\n",
       "\t C-3PO                 &   75.0                & Droid                 &  0.7707179           \\\\\n",
       "\t R2-D2                 &   32.0                & Droid                 &  0.3288397           \\\\\n",
       "\t Darth Vader           &  136.0                & Human                 &  1.3975685           \\\\\n",
       "\t Leia Organa           &   49.0                & Human                 &  0.5035357           \\\\\n",
       "\t Owen Lars             &  120.0                & Human                 &  1.2331487           \\\\\n",
       "\t Beru Whitesun lars    &   75.0                & Human                 &  0.7707179           \\\\\n",
       "\t R5-D4                 &   32.0                & Droid                 &  0.3288397           \\\\\n",
       "\t Biggs Darklighter     &   84.0                & Human                 &  0.8632041           \\\\\n",
       "\t Obi-Wan Kenobi        &   77.0                & Human                 &  0.7912704           \\\\\n",
       "\t Anakin Skywalker      &   84.0                & Human                 &  0.8632041           \\\\\n",
       "\t Wilhuff Tarkin        &     NA                & Human                 &         NA           \\\\\n",
       "\t Chewbacca             &  112.0                & Wookiee               &  1.1509388           \\\\\n",
       "\t Han Solo              &   80.0                & Human                 &  0.8220991           \\\\\n",
       "\t Greedo                &   74.0                & Rodian                &  0.7604417           \\\\\n",
       "\t Jabba Desilijic Tiure & 1358.0                & Hutt                  & 13.9551329           \\\\\n",
       "\t Wedge Antilles        &   77.0                & Human                 &  0.7912704           \\\\\n",
       "\t Jek Tono Porkins      &  110.0                & Human                 &  1.1303863           \\\\\n",
       "\t Yoda                  &   17.0                & Yoda's species        &  0.1746961           \\\\\n",
       "\t Palpatine             &   75.0                & Human                 &  0.7707179           \\\\\n",
       "\t Boba Fett             &   78.2                & Human                 &  0.8036019           \\\\\n",
       "\t IG-88                 &  140.0                & Droid                 &  1.4386735           \\\\\n",
       "\t Bossk                 &  113.0                & Trandoshan            &  1.1612150           \\\\\n",
       "\t Lando Calrissian      &   79.0                & Human                 &  0.8118229           \\\\\n",
       "\t Lobot                 &   79.0                & Human                 &  0.8118229           \\\\\n",
       "\t Ackbar                &   83.0                & Mon Calamari          &  0.8529279           \\\\\n",
       "\t Mon Mothma            &     NA                & Human                 &         NA           \\\\\n",
       "\t Arvel Crynyd          &     NA                & Human                 &         NA           \\\\\n",
       "\t Wicket Systri Warrick &   20.0                & Ewok                  &  0.2055248           \\\\\n",
       "\t Nien Nunb             &   68.0                & Sullustan             &  0.6987843           \\\\\n",
       "\t ... & ... & ... & ...\\\\\n",
       "\t Cordé               &    NA               & Human               &        NA          \\\\\n",
       "\t Cliegg Lars         &    NA               & Human               &        NA          \\\\\n",
       "\t Poggle the Lesser   &  80.0               & Geonosian           & 0.8220991          \\\\\n",
       "\t Luminara Unduli     &  56.2               & Mirialan            & 0.5775246          \\\\\n",
       "\t Barriss Offee       &  50.0               & Mirialan            & 0.5138120          \\\\\n",
       "\t Dormé               &    NA               & Human               &        NA          \\\\\n",
       "\t Dooku               &  80.0               & Human               & 0.8220991          \\\\\n",
       "\t Bail Prestor Organa &    NA               & Human               &        NA          \\\\\n",
       "\t Jango Fett          &  79.0               & Human               & 0.8118229          \\\\\n",
       "\t Zam Wesell          &  55.0               & Clawdite            & 0.5651932          \\\\\n",
       "\t Dexter Jettster     & 102.0               & Besalisk            & 1.0481764          \\\\\n",
       "\t Lama Su             &  88.0               & Kaminoan            & 0.9043091          \\\\\n",
       "\t Taun We             &    NA               & Kaminoan            &        NA          \\\\\n",
       "\t Jocasta Nu          &    NA               & Human               &        NA          \\\\\n",
       "\t Ratts Tyerell       &  15.0               & Aleena              & 0.1541436          \\\\\n",
       "\t R4-P17              &    NA               & Droid               &        NA          \\\\\n",
       "\t Wat Tambor          &  48.0               & Skakoan             & 0.4932595          \\\\\n",
       "\t San Hill            &    NA               & Muun                &        NA          \\\\\n",
       "\t Shaak Ti            &  57.0               & Togruta             & 0.5857456          \\\\\n",
       "\t Grievous            & 159.0               & Kaleesh             & 1.6339220          \\\\\n",
       "\t Tarfful             & 136.0               & Wookiee             & 1.3975685          \\\\\n",
       "\t Raymus Antilles     &  79.0               & Human               & 0.8118229          \\\\\n",
       "\t Sly Moore           &  48.0               & NA                  & 0.4932595          \\\\\n",
       "\t Tion Medon          &  80.0               & Pau'an              & 0.8220991          \\\\\n",
       "\t Finn                &    NA               & Human               &        NA          \\\\\n",
       "\t Rey                 &    NA               & Human               &        NA          \\\\\n",
       "\t Poe Dameron         &    NA               & Human               &        NA          \\\\\n",
       "\t BB8                 &    NA               & Droid               &        NA          \\\\\n",
       "\t Captain Phasma      &    NA               & NA                  &        NA          \\\\\n",
       "\t Padmé Amidala       &  45.0               & Human               & 0.4624308          \\\\\n",
       "\\end{tabular}\n"
      ],
      "text/markdown": [
       "\n",
       "| name | mass | species | mass_norm |\n",
       "|---|---|---|---|\n",
       "| Luke Skywalker        |   77.0                | Human                 |  0.7912704            |\n",
       "| C-3PO                 |   75.0                | Droid                 |  0.7707179            |\n",
       "| R2-D2                 |   32.0                | Droid                 |  0.3288397            |\n",
       "| Darth Vader           |  136.0                | Human                 |  1.3975685            |\n",
       "| Leia Organa           |   49.0                | Human                 |  0.5035357            |\n",
       "| Owen Lars             |  120.0                | Human                 |  1.2331487            |\n",
       "| Beru Whitesun lars    |   75.0                | Human                 |  0.7707179            |\n",
       "| R5-D4                 |   32.0                | Droid                 |  0.3288397            |\n",
       "| Biggs Darklighter     |   84.0                | Human                 |  0.8632041            |\n",
       "| Obi-Wan Kenobi        |   77.0                | Human                 |  0.7912704            |\n",
       "| Anakin Skywalker      |   84.0                | Human                 |  0.8632041            |\n",
       "| Wilhuff Tarkin        |     NA                | Human                 |         NA            |\n",
       "| Chewbacca             |  112.0                | Wookiee               |  1.1509388            |\n",
       "| Han Solo              |   80.0                | Human                 |  0.8220991            |\n",
       "| Greedo                |   74.0                | Rodian                |  0.7604417            |\n",
       "| Jabba Desilijic Tiure | 1358.0                | Hutt                  | 13.9551329            |\n",
       "| Wedge Antilles        |   77.0                | Human                 |  0.7912704            |\n",
       "| Jek Tono Porkins      |  110.0                | Human                 |  1.1303863            |\n",
       "| Yoda                  |   17.0                | Yoda's species        |  0.1746961            |\n",
       "| Palpatine             |   75.0                | Human                 |  0.7707179            |\n",
       "| Boba Fett             |   78.2                | Human                 |  0.8036019            |\n",
       "| IG-88                 |  140.0                | Droid                 |  1.4386735            |\n",
       "| Bossk                 |  113.0                | Trandoshan            |  1.1612150            |\n",
       "| Lando Calrissian      |   79.0                | Human                 |  0.8118229            |\n",
       "| Lobot                 |   79.0                | Human                 |  0.8118229            |\n",
       "| Ackbar                |   83.0                | Mon Calamari          |  0.8529279            |\n",
       "| Mon Mothma            |     NA                | Human                 |         NA            |\n",
       "| Arvel Crynyd          |     NA                | Human                 |         NA            |\n",
       "| Wicket Systri Warrick |   20.0                | Ewok                  |  0.2055248            |\n",
       "| Nien Nunb             |   68.0                | Sullustan             |  0.6987843            |\n",
       "| ... | ... | ... | ... |\n",
       "| Cordé               |    NA               | Human               |        NA           |\n",
       "| Cliegg Lars         |    NA               | Human               |        NA           |\n",
       "| Poggle the Lesser   |  80.0               | Geonosian           | 0.8220991           |\n",
       "| Luminara Unduli     |  56.2               | Mirialan            | 0.5775246           |\n",
       "| Barriss Offee       |  50.0               | Mirialan            | 0.5138120           |\n",
       "| Dormé               |    NA               | Human               |        NA           |\n",
       "| Dooku               |  80.0               | Human               | 0.8220991           |\n",
       "| Bail Prestor Organa |    NA               | Human               |        NA           |\n",
       "| Jango Fett          |  79.0               | Human               | 0.8118229           |\n",
       "| Zam Wesell          |  55.0               | Clawdite            | 0.5651932           |\n",
       "| Dexter Jettster     | 102.0               | Besalisk            | 1.0481764           |\n",
       "| Lama Su             |  88.0               | Kaminoan            | 0.9043091           |\n",
       "| Taun We             |    NA               | Kaminoan            |        NA           |\n",
       "| Jocasta Nu          |    NA               | Human               |        NA           |\n",
       "| Ratts Tyerell       |  15.0               | Aleena              | 0.1541436           |\n",
       "| R4-P17              |    NA               | Droid               |        NA           |\n",
       "| Wat Tambor          |  48.0               | Skakoan             | 0.4932595           |\n",
       "| San Hill            |    NA               | Muun                |        NA           |\n",
       "| Shaak Ti            |  57.0               | Togruta             | 0.5857456           |\n",
       "| Grievous            | 159.0               | Kaleesh             | 1.6339220           |\n",
       "| Tarfful             | 136.0               | Wookiee             | 1.3975685           |\n",
       "| Raymus Antilles     |  79.0               | Human               | 0.8118229           |\n",
       "| Sly Moore           |  48.0               | NA                  | 0.4932595           |\n",
       "| Tion Medon          |  80.0               | Pau'an              | 0.8220991           |\n",
       "| Finn                |    NA               | Human               |        NA           |\n",
       "| Rey                 |    NA               | Human               |        NA           |\n",
       "| Poe Dameron         |    NA               | Human               |        NA           |\n",
       "| BB8                 |    NA               | Droid               |        NA           |\n",
       "| Captain Phasma      |    NA               | NA                  |        NA           |\n",
       "| Padmé Amidala       |  45.0               | Human               | 0.4624308           |\n",
       "\n"
      ],
      "text/plain": [
       "    name                  mass   species        mass_norm \n",
       "1   Luke Skywalker          77.0 Human           0.7912704\n",
       "2   C-3PO                   75.0 Droid           0.7707179\n",
       "3   R2-D2                   32.0 Droid           0.3288397\n",
       "4   Darth Vader            136.0 Human           1.3975685\n",
       "5   Leia Organa             49.0 Human           0.5035357\n",
       "6   Owen Lars              120.0 Human           1.2331487\n",
       "7   Beru Whitesun lars      75.0 Human           0.7707179\n",
       "8   R5-D4                   32.0 Droid           0.3288397\n",
       "9   Biggs Darklighter       84.0 Human           0.8632041\n",
       "10  Obi-Wan Kenobi          77.0 Human           0.7912704\n",
       "11  Anakin Skywalker        84.0 Human           0.8632041\n",
       "12  Wilhuff Tarkin            NA Human                  NA\n",
       "13  Chewbacca              112.0 Wookiee         1.1509388\n",
       "14  Han Solo                80.0 Human           0.8220991\n",
       "15  Greedo                  74.0 Rodian          0.7604417\n",
       "16  Jabba Desilijic Tiure 1358.0 Hutt           13.9551329\n",
       "17  Wedge Antilles          77.0 Human           0.7912704\n",
       "18  Jek Tono Porkins       110.0 Human           1.1303863\n",
       "19  Yoda                    17.0 Yoda's species  0.1746961\n",
       "20  Palpatine               75.0 Human           0.7707179\n",
       "21  Boba Fett               78.2 Human           0.8036019\n",
       "22  IG-88                  140.0 Droid           1.4386735\n",
       "23  Bossk                  113.0 Trandoshan      1.1612150\n",
       "24  Lando Calrissian        79.0 Human           0.8118229\n",
       "25  Lobot                   79.0 Human           0.8118229\n",
       "26  Ackbar                  83.0 Mon Calamari    0.8529279\n",
       "27  Mon Mothma                NA Human                  NA\n",
       "28  Arvel Crynyd              NA Human                  NA\n",
       "29  Wicket Systri Warrick   20.0 Ewok            0.2055248\n",
       "30  Nien Nunb               68.0 Sullustan       0.6987843\n",
       "... ...                   ...    ...            ...       \n",
       "58  Cordé                    NA  Human                 NA \n",
       "59  Cliegg Lars              NA  Human                 NA \n",
       "60  Poggle the Lesser      80.0  Geonosian      0.8220991 \n",
       "61  Luminara Unduli        56.2  Mirialan       0.5775246 \n",
       "62  Barriss Offee          50.0  Mirialan       0.5138120 \n",
       "63  Dormé                    NA  Human                 NA \n",
       "64  Dooku                  80.0  Human          0.8220991 \n",
       "65  Bail Prestor Organa      NA  Human                 NA \n",
       "66  Jango Fett             79.0  Human          0.8118229 \n",
       "67  Zam Wesell             55.0  Clawdite       0.5651932 \n",
       "68  Dexter Jettster       102.0  Besalisk       1.0481764 \n",
       "69  Lama Su                88.0  Kaminoan       0.9043091 \n",
       "70  Taun We                  NA  Kaminoan              NA \n",
       "71  Jocasta Nu               NA  Human                 NA \n",
       "72  Ratts Tyerell          15.0  Aleena         0.1541436 \n",
       "73  R4-P17                   NA  Droid                 NA \n",
       "74  Wat Tambor             48.0  Skakoan        0.4932595 \n",
       "75  San Hill                 NA  Muun                  NA \n",
       "76  Shaak Ti               57.0  Togruta        0.5857456 \n",
       "77  Grievous              159.0  Kaleesh        1.6339220 \n",
       "78  Tarfful               136.0  Wookiee        1.3975685 \n",
       "79  Raymus Antilles        79.0  Human          0.8118229 \n",
       "80  Sly Moore              48.0  NA             0.4932595 \n",
       "81  Tion Medon             80.0  Pau'an         0.8220991 \n",
       "82  Finn                     NA  Human                 NA \n",
       "83  Rey                      NA  Human                 NA \n",
       "84  Poe Dameron              NA  Human                 NA \n",
       "85  BB8                      NA  Droid                 NA \n",
       "86  Captain Phasma           NA  NA                    NA \n",
       "87  Padmé Amidala          45.0  Human          0.4624308 "
      ]
     },
     "metadata": {},
     "output_type": "display_data"
    }
   ],
   "source": [
    "starwars %>%\n",
    "  select(name, mass, species) %>%\n",
    "  group_by(species) %>%\n",
    "  mutate(mass_norm = mass / mean(mass, na.rm = TRUE))"
   ]
  },
  {
   "cell_type": "markdown",
   "metadata": {},
   "source": [
    "# 20.Transmute"
   ]
  },
  {
   "cell_type": "code",
   "execution_count": 76,
   "metadata": {},
   "outputs": [
    {
     "data": {
      "text/html": [
       "<table>\n",
       "<thead><tr><th scope=col>Sepal.Length</th><th scope=col>Sepal.Width</th><th scope=col>Petal.Length</th><th scope=col>Petal.Width</th><th scope=col>Species</th></tr></thead>\n",
       "<tbody>\n",
       "\t<tr><td>5.1   </td><td>3.5   </td><td>1.4   </td><td>0.2   </td><td>setosa</td></tr>\n",
       "\t<tr><td>4.9   </td><td>3.0   </td><td>1.4   </td><td>0.2   </td><td>setosa</td></tr>\n",
       "\t<tr><td>4.7   </td><td>3.2   </td><td>1.3   </td><td>0.2   </td><td>setosa</td></tr>\n",
       "\t<tr><td>4.6   </td><td>3.1   </td><td>1.5   </td><td>0.2   </td><td>setosa</td></tr>\n",
       "\t<tr><td>5.0   </td><td>3.6   </td><td>1.4   </td><td>0.2   </td><td>setosa</td></tr>\n",
       "\t<tr><td>5.4   </td><td>3.9   </td><td>1.7   </td><td>0.4   </td><td>setosa</td></tr>\n",
       "\t<tr><td>4.6   </td><td>3.4   </td><td>1.4   </td><td>0.3   </td><td>setosa</td></tr>\n",
       "\t<tr><td>5.0   </td><td>3.4   </td><td>1.5   </td><td>0.2   </td><td>setosa</td></tr>\n",
       "\t<tr><td>4.4   </td><td>2.9   </td><td>1.4   </td><td>0.2   </td><td>setosa</td></tr>\n",
       "\t<tr><td>4.9   </td><td>3.1   </td><td>1.5   </td><td>0.1   </td><td>setosa</td></tr>\n",
       "\t<tr><td>5.4   </td><td>3.7   </td><td>1.5   </td><td>0.2   </td><td>setosa</td></tr>\n",
       "\t<tr><td>4.8   </td><td>3.4   </td><td>1.6   </td><td>0.2   </td><td>setosa</td></tr>\n",
       "\t<tr><td>4.8   </td><td>3.0   </td><td>1.4   </td><td>0.1   </td><td>setosa</td></tr>\n",
       "\t<tr><td>4.3   </td><td>3.0   </td><td>1.1   </td><td>0.1   </td><td>setosa</td></tr>\n",
       "\t<tr><td>5.8   </td><td>4.0   </td><td>1.2   </td><td>0.2   </td><td>setosa</td></tr>\n",
       "\t<tr><td>5.7   </td><td>4.4   </td><td>1.5   </td><td>0.4   </td><td>setosa</td></tr>\n",
       "\t<tr><td>5.4   </td><td>3.9   </td><td>1.3   </td><td>0.4   </td><td>setosa</td></tr>\n",
       "\t<tr><td>5.1   </td><td>3.5   </td><td>1.4   </td><td>0.3   </td><td>setosa</td></tr>\n",
       "\t<tr><td>5.7   </td><td>3.8   </td><td>1.7   </td><td>0.3   </td><td>setosa</td></tr>\n",
       "\t<tr><td>5.1   </td><td>3.8   </td><td>1.5   </td><td>0.3   </td><td>setosa</td></tr>\n",
       "\t<tr><td>5.4   </td><td>3.4   </td><td>1.7   </td><td>0.2   </td><td>setosa</td></tr>\n",
       "\t<tr><td>5.1   </td><td>3.7   </td><td>1.5   </td><td>0.4   </td><td>setosa</td></tr>\n",
       "\t<tr><td>4.6   </td><td>3.6   </td><td>1.0   </td><td>0.2   </td><td>setosa</td></tr>\n",
       "\t<tr><td>5.1   </td><td>3.3   </td><td>1.7   </td><td>0.5   </td><td>setosa</td></tr>\n",
       "\t<tr><td>4.8   </td><td>3.4   </td><td>1.9   </td><td>0.2   </td><td>setosa</td></tr>\n",
       "\t<tr><td>5.0   </td><td>3.0   </td><td>1.6   </td><td>0.2   </td><td>setosa</td></tr>\n",
       "\t<tr><td>5.0   </td><td>3.4   </td><td>1.6   </td><td>0.4   </td><td>setosa</td></tr>\n",
       "\t<tr><td>5.2   </td><td>3.5   </td><td>1.5   </td><td>0.2   </td><td>setosa</td></tr>\n",
       "\t<tr><td>5.2   </td><td>3.4   </td><td>1.4   </td><td>0.2   </td><td>setosa</td></tr>\n",
       "\t<tr><td>4.7   </td><td>3.2   </td><td>1.6   </td><td>0.2   </td><td>setosa</td></tr>\n",
       "\t<tr><td>...</td><td>...</td><td>...</td><td>...</td><td>...</td></tr>\n",
       "\t<tr><td>6.9      </td><td>3.2      </td><td>5.7      </td><td>2.3      </td><td>virginica</td></tr>\n",
       "\t<tr><td>5.6      </td><td>2.8      </td><td>4.9      </td><td>2.0      </td><td>virginica</td></tr>\n",
       "\t<tr><td>7.7      </td><td>2.8      </td><td>6.7      </td><td>2.0      </td><td>virginica</td></tr>\n",
       "\t<tr><td>6.3      </td><td>2.7      </td><td>4.9      </td><td>1.8      </td><td>virginica</td></tr>\n",
       "\t<tr><td>6.7      </td><td>3.3      </td><td>5.7      </td><td>2.1      </td><td>virginica</td></tr>\n",
       "\t<tr><td>7.2      </td><td>3.2      </td><td>6.0      </td><td>1.8      </td><td>virginica</td></tr>\n",
       "\t<tr><td>6.2      </td><td>2.8      </td><td>4.8      </td><td>1.8      </td><td>virginica</td></tr>\n",
       "\t<tr><td>6.1      </td><td>3.0      </td><td>4.9      </td><td>1.8      </td><td>virginica</td></tr>\n",
       "\t<tr><td>6.4      </td><td>2.8      </td><td>5.6      </td><td>2.1      </td><td>virginica</td></tr>\n",
       "\t<tr><td>7.2      </td><td>3.0      </td><td>5.8      </td><td>1.6      </td><td>virginica</td></tr>\n",
       "\t<tr><td>7.4      </td><td>2.8      </td><td>6.1      </td><td>1.9      </td><td>virginica</td></tr>\n",
       "\t<tr><td>7.9      </td><td>3.8      </td><td>6.4      </td><td>2.0      </td><td>virginica</td></tr>\n",
       "\t<tr><td>6.4      </td><td>2.8      </td><td>5.6      </td><td>2.2      </td><td>virginica</td></tr>\n",
       "\t<tr><td>6.3      </td><td>2.8      </td><td>5.1      </td><td>1.5      </td><td>virginica</td></tr>\n",
       "\t<tr><td>6.1      </td><td>2.6      </td><td>5.6      </td><td>1.4      </td><td>virginica</td></tr>\n",
       "\t<tr><td>7.7      </td><td>3.0      </td><td>6.1      </td><td>2.3      </td><td>virginica</td></tr>\n",
       "\t<tr><td>6.3      </td><td>3.4      </td><td>5.6      </td><td>2.4      </td><td>virginica</td></tr>\n",
       "\t<tr><td>6.4      </td><td>3.1      </td><td>5.5      </td><td>1.8      </td><td>virginica</td></tr>\n",
       "\t<tr><td>6.0      </td><td>3.0      </td><td>4.8      </td><td>1.8      </td><td>virginica</td></tr>\n",
       "\t<tr><td>6.9      </td><td>3.1      </td><td>5.4      </td><td>2.1      </td><td>virginica</td></tr>\n",
       "\t<tr><td>6.7      </td><td>3.1      </td><td>5.6      </td><td>2.4      </td><td>virginica</td></tr>\n",
       "\t<tr><td>6.9      </td><td>3.1      </td><td>5.1      </td><td>2.3      </td><td>virginica</td></tr>\n",
       "\t<tr><td>5.8      </td><td>2.7      </td><td>5.1      </td><td>1.9      </td><td>virginica</td></tr>\n",
       "\t<tr><td>6.8      </td><td>3.2      </td><td>5.9      </td><td>2.3      </td><td>virginica</td></tr>\n",
       "\t<tr><td>6.7      </td><td>3.3      </td><td>5.7      </td><td>2.5      </td><td>virginica</td></tr>\n",
       "\t<tr><td>6.7      </td><td>3.0      </td><td>5.2      </td><td>2.3      </td><td>virginica</td></tr>\n",
       "\t<tr><td>6.3      </td><td>2.5      </td><td>5.0      </td><td>1.9      </td><td>virginica</td></tr>\n",
       "\t<tr><td>6.5      </td><td>3.0      </td><td>5.2      </td><td>2.0      </td><td>virginica</td></tr>\n",
       "\t<tr><td>6.2      </td><td>3.4      </td><td>5.4      </td><td>2.3      </td><td>virginica</td></tr>\n",
       "\t<tr><td>5.9      </td><td>3.0      </td><td>5.1      </td><td>1.8      </td><td>virginica</td></tr>\n",
       "</tbody>\n",
       "</table>\n"
      ],
      "text/latex": [
       "\\begin{tabular}{r|lllll}\n",
       " Sepal.Length & Sepal.Width & Petal.Length & Petal.Width & Species\\\\\n",
       "\\hline\n",
       "\t 5.1    & 3.5    & 1.4    & 0.2    & setosa\\\\\n",
       "\t 4.9    & 3.0    & 1.4    & 0.2    & setosa\\\\\n",
       "\t 4.7    & 3.2    & 1.3    & 0.2    & setosa\\\\\n",
       "\t 4.6    & 3.1    & 1.5    & 0.2    & setosa\\\\\n",
       "\t 5.0    & 3.6    & 1.4    & 0.2    & setosa\\\\\n",
       "\t 5.4    & 3.9    & 1.7    & 0.4    & setosa\\\\\n",
       "\t 4.6    & 3.4    & 1.4    & 0.3    & setosa\\\\\n",
       "\t 5.0    & 3.4    & 1.5    & 0.2    & setosa\\\\\n",
       "\t 4.4    & 2.9    & 1.4    & 0.2    & setosa\\\\\n",
       "\t 4.9    & 3.1    & 1.5    & 0.1    & setosa\\\\\n",
       "\t 5.4    & 3.7    & 1.5    & 0.2    & setosa\\\\\n",
       "\t 4.8    & 3.4    & 1.6    & 0.2    & setosa\\\\\n",
       "\t 4.8    & 3.0    & 1.4    & 0.1    & setosa\\\\\n",
       "\t 4.3    & 3.0    & 1.1    & 0.1    & setosa\\\\\n",
       "\t 5.8    & 4.0    & 1.2    & 0.2    & setosa\\\\\n",
       "\t 5.7    & 4.4    & 1.5    & 0.4    & setosa\\\\\n",
       "\t 5.4    & 3.9    & 1.3    & 0.4    & setosa\\\\\n",
       "\t 5.1    & 3.5    & 1.4    & 0.3    & setosa\\\\\n",
       "\t 5.7    & 3.8    & 1.7    & 0.3    & setosa\\\\\n",
       "\t 5.1    & 3.8    & 1.5    & 0.3    & setosa\\\\\n",
       "\t 5.4    & 3.4    & 1.7    & 0.2    & setosa\\\\\n",
       "\t 5.1    & 3.7    & 1.5    & 0.4    & setosa\\\\\n",
       "\t 4.6    & 3.6    & 1.0    & 0.2    & setosa\\\\\n",
       "\t 5.1    & 3.3    & 1.7    & 0.5    & setosa\\\\\n",
       "\t 4.8    & 3.4    & 1.9    & 0.2    & setosa\\\\\n",
       "\t 5.0    & 3.0    & 1.6    & 0.2    & setosa\\\\\n",
       "\t 5.0    & 3.4    & 1.6    & 0.4    & setosa\\\\\n",
       "\t 5.2    & 3.5    & 1.5    & 0.2    & setosa\\\\\n",
       "\t 5.2    & 3.4    & 1.4    & 0.2    & setosa\\\\\n",
       "\t 4.7    & 3.2    & 1.6    & 0.2    & setosa\\\\\n",
       "\t ... & ... & ... & ... & ...\\\\\n",
       "\t 6.9       & 3.2       & 5.7       & 2.3       & virginica\\\\\n",
       "\t 5.6       & 2.8       & 4.9       & 2.0       & virginica\\\\\n",
       "\t 7.7       & 2.8       & 6.7       & 2.0       & virginica\\\\\n",
       "\t 6.3       & 2.7       & 4.9       & 1.8       & virginica\\\\\n",
       "\t 6.7       & 3.3       & 5.7       & 2.1       & virginica\\\\\n",
       "\t 7.2       & 3.2       & 6.0       & 1.8       & virginica\\\\\n",
       "\t 6.2       & 2.8       & 4.8       & 1.8       & virginica\\\\\n",
       "\t 6.1       & 3.0       & 4.9       & 1.8       & virginica\\\\\n",
       "\t 6.4       & 2.8       & 5.6       & 2.1       & virginica\\\\\n",
       "\t 7.2       & 3.0       & 5.8       & 1.6       & virginica\\\\\n",
       "\t 7.4       & 2.8       & 6.1       & 1.9       & virginica\\\\\n",
       "\t 7.9       & 3.8       & 6.4       & 2.0       & virginica\\\\\n",
       "\t 6.4       & 2.8       & 5.6       & 2.2       & virginica\\\\\n",
       "\t 6.3       & 2.8       & 5.1       & 1.5       & virginica\\\\\n",
       "\t 6.1       & 2.6       & 5.6       & 1.4       & virginica\\\\\n",
       "\t 7.7       & 3.0       & 6.1       & 2.3       & virginica\\\\\n",
       "\t 6.3       & 3.4       & 5.6       & 2.4       & virginica\\\\\n",
       "\t 6.4       & 3.1       & 5.5       & 1.8       & virginica\\\\\n",
       "\t 6.0       & 3.0       & 4.8       & 1.8       & virginica\\\\\n",
       "\t 6.9       & 3.1       & 5.4       & 2.1       & virginica\\\\\n",
       "\t 6.7       & 3.1       & 5.6       & 2.4       & virginica\\\\\n",
       "\t 6.9       & 3.1       & 5.1       & 2.3       & virginica\\\\\n",
       "\t 5.8       & 2.7       & 5.1       & 1.9       & virginica\\\\\n",
       "\t 6.8       & 3.2       & 5.9       & 2.3       & virginica\\\\\n",
       "\t 6.7       & 3.3       & 5.7       & 2.5       & virginica\\\\\n",
       "\t 6.7       & 3.0       & 5.2       & 2.3       & virginica\\\\\n",
       "\t 6.3       & 2.5       & 5.0       & 1.9       & virginica\\\\\n",
       "\t 6.5       & 3.0       & 5.2       & 2.0       & virginica\\\\\n",
       "\t 6.2       & 3.4       & 5.4       & 2.3       & virginica\\\\\n",
       "\t 5.9       & 3.0       & 5.1       & 1.8       & virginica\\\\\n",
       "\\end{tabular}\n"
      ],
      "text/markdown": [
       "\n",
       "| Sepal.Length | Sepal.Width | Petal.Length | Petal.Width | Species |\n",
       "|---|---|---|---|---|\n",
       "| 5.1    | 3.5    | 1.4    | 0.2    | setosa |\n",
       "| 4.9    | 3.0    | 1.4    | 0.2    | setosa |\n",
       "| 4.7    | 3.2    | 1.3    | 0.2    | setosa |\n",
       "| 4.6    | 3.1    | 1.5    | 0.2    | setosa |\n",
       "| 5.0    | 3.6    | 1.4    | 0.2    | setosa |\n",
       "| 5.4    | 3.9    | 1.7    | 0.4    | setosa |\n",
       "| 4.6    | 3.4    | 1.4    | 0.3    | setosa |\n",
       "| 5.0    | 3.4    | 1.5    | 0.2    | setosa |\n",
       "| 4.4    | 2.9    | 1.4    | 0.2    | setosa |\n",
       "| 4.9    | 3.1    | 1.5    | 0.1    | setosa |\n",
       "| 5.4    | 3.7    | 1.5    | 0.2    | setosa |\n",
       "| 4.8    | 3.4    | 1.6    | 0.2    | setosa |\n",
       "| 4.8    | 3.0    | 1.4    | 0.1    | setosa |\n",
       "| 4.3    | 3.0    | 1.1    | 0.1    | setosa |\n",
       "| 5.8    | 4.0    | 1.2    | 0.2    | setosa |\n",
       "| 5.7    | 4.4    | 1.5    | 0.4    | setosa |\n",
       "| 5.4    | 3.9    | 1.3    | 0.4    | setosa |\n",
       "| 5.1    | 3.5    | 1.4    | 0.3    | setosa |\n",
       "| 5.7    | 3.8    | 1.7    | 0.3    | setosa |\n",
       "| 5.1    | 3.8    | 1.5    | 0.3    | setosa |\n",
       "| 5.4    | 3.4    | 1.7    | 0.2    | setosa |\n",
       "| 5.1    | 3.7    | 1.5    | 0.4    | setosa |\n",
       "| 4.6    | 3.6    | 1.0    | 0.2    | setosa |\n",
       "| 5.1    | 3.3    | 1.7    | 0.5    | setosa |\n",
       "| 4.8    | 3.4    | 1.9    | 0.2    | setosa |\n",
       "| 5.0    | 3.0    | 1.6    | 0.2    | setosa |\n",
       "| 5.0    | 3.4    | 1.6    | 0.4    | setosa |\n",
       "| 5.2    | 3.5    | 1.5    | 0.2    | setosa |\n",
       "| 5.2    | 3.4    | 1.4    | 0.2    | setosa |\n",
       "| 4.7    | 3.2    | 1.6    | 0.2    | setosa |\n",
       "| ... | ... | ... | ... | ... |\n",
       "| 6.9       | 3.2       | 5.7       | 2.3       | virginica |\n",
       "| 5.6       | 2.8       | 4.9       | 2.0       | virginica |\n",
       "| 7.7       | 2.8       | 6.7       | 2.0       | virginica |\n",
       "| 6.3       | 2.7       | 4.9       | 1.8       | virginica |\n",
       "| 6.7       | 3.3       | 5.7       | 2.1       | virginica |\n",
       "| 7.2       | 3.2       | 6.0       | 1.8       | virginica |\n",
       "| 6.2       | 2.8       | 4.8       | 1.8       | virginica |\n",
       "| 6.1       | 3.0       | 4.9       | 1.8       | virginica |\n",
       "| 6.4       | 2.8       | 5.6       | 2.1       | virginica |\n",
       "| 7.2       | 3.0       | 5.8       | 1.6       | virginica |\n",
       "| 7.4       | 2.8       | 6.1       | 1.9       | virginica |\n",
       "| 7.9       | 3.8       | 6.4       | 2.0       | virginica |\n",
       "| 6.4       | 2.8       | 5.6       | 2.2       | virginica |\n",
       "| 6.3       | 2.8       | 5.1       | 1.5       | virginica |\n",
       "| 6.1       | 2.6       | 5.6       | 1.4       | virginica |\n",
       "| 7.7       | 3.0       | 6.1       | 2.3       | virginica |\n",
       "| 6.3       | 3.4       | 5.6       | 2.4       | virginica |\n",
       "| 6.4       | 3.1       | 5.5       | 1.8       | virginica |\n",
       "| 6.0       | 3.0       | 4.8       | 1.8       | virginica |\n",
       "| 6.9       | 3.1       | 5.4       | 2.1       | virginica |\n",
       "| 6.7       | 3.1       | 5.6       | 2.4       | virginica |\n",
       "| 6.9       | 3.1       | 5.1       | 2.3       | virginica |\n",
       "| 5.8       | 2.7       | 5.1       | 1.9       | virginica |\n",
       "| 6.8       | 3.2       | 5.9       | 2.3       | virginica |\n",
       "| 6.7       | 3.3       | 5.7       | 2.5       | virginica |\n",
       "| 6.7       | 3.0       | 5.2       | 2.3       | virginica |\n",
       "| 6.3       | 2.5       | 5.0       | 1.9       | virginica |\n",
       "| 6.5       | 3.0       | 5.2       | 2.0       | virginica |\n",
       "| 6.2       | 3.4       | 5.4       | 2.3       | virginica |\n",
       "| 5.9       | 3.0       | 5.1       | 1.8       | virginica |\n",
       "\n"
      ],
      "text/plain": [
       "    Sepal.Length Sepal.Width Petal.Length Petal.Width Species  \n",
       "1   5.1          3.5         1.4          0.2         setosa   \n",
       "2   4.9          3.0         1.4          0.2         setosa   \n",
       "3   4.7          3.2         1.3          0.2         setosa   \n",
       "4   4.6          3.1         1.5          0.2         setosa   \n",
       "5   5.0          3.6         1.4          0.2         setosa   \n",
       "6   5.4          3.9         1.7          0.4         setosa   \n",
       "7   4.6          3.4         1.4          0.3         setosa   \n",
       "8   5.0          3.4         1.5          0.2         setosa   \n",
       "9   4.4          2.9         1.4          0.2         setosa   \n",
       "10  4.9          3.1         1.5          0.1         setosa   \n",
       "11  5.4          3.7         1.5          0.2         setosa   \n",
       "12  4.8          3.4         1.6          0.2         setosa   \n",
       "13  4.8          3.0         1.4          0.1         setosa   \n",
       "14  4.3          3.0         1.1          0.1         setosa   \n",
       "15  5.8          4.0         1.2          0.2         setosa   \n",
       "16  5.7          4.4         1.5          0.4         setosa   \n",
       "17  5.4          3.9         1.3          0.4         setosa   \n",
       "18  5.1          3.5         1.4          0.3         setosa   \n",
       "19  5.7          3.8         1.7          0.3         setosa   \n",
       "20  5.1          3.8         1.5          0.3         setosa   \n",
       "21  5.4          3.4         1.7          0.2         setosa   \n",
       "22  5.1          3.7         1.5          0.4         setosa   \n",
       "23  4.6          3.6         1.0          0.2         setosa   \n",
       "24  5.1          3.3         1.7          0.5         setosa   \n",
       "25  4.8          3.4         1.9          0.2         setosa   \n",
       "26  5.0          3.0         1.6          0.2         setosa   \n",
       "27  5.0          3.4         1.6          0.4         setosa   \n",
       "28  5.2          3.5         1.5          0.2         setosa   \n",
       "29  5.2          3.4         1.4          0.2         setosa   \n",
       "30  4.7          3.2         1.6          0.2         setosa   \n",
       "... ...          ...         ...          ...         ...      \n",
       "121 6.9          3.2         5.7          2.3         virginica\n",
       "122 5.6          2.8         4.9          2.0         virginica\n",
       "123 7.7          2.8         6.7          2.0         virginica\n",
       "124 6.3          2.7         4.9          1.8         virginica\n",
       "125 6.7          3.3         5.7          2.1         virginica\n",
       "126 7.2          3.2         6.0          1.8         virginica\n",
       "127 6.2          2.8         4.8          1.8         virginica\n",
       "128 6.1          3.0         4.9          1.8         virginica\n",
       "129 6.4          2.8         5.6          2.1         virginica\n",
       "130 7.2          3.0         5.8          1.6         virginica\n",
       "131 7.4          2.8         6.1          1.9         virginica\n",
       "132 7.9          3.8         6.4          2.0         virginica\n",
       "133 6.4          2.8         5.6          2.2         virginica\n",
       "134 6.3          2.8         5.1          1.5         virginica\n",
       "135 6.1          2.6         5.6          1.4         virginica\n",
       "136 7.7          3.0         6.1          2.3         virginica\n",
       "137 6.3          3.4         5.6          2.4         virginica\n",
       "138 6.4          3.1         5.5          1.8         virginica\n",
       "139 6.0          3.0         4.8          1.8         virginica\n",
       "140 6.9          3.1         5.4          2.1         virginica\n",
       "141 6.7          3.1         5.6          2.4         virginica\n",
       "142 6.9          3.1         5.1          2.3         virginica\n",
       "143 5.8          2.7         5.1          1.9         virginica\n",
       "144 6.8          3.2         5.9          2.3         virginica\n",
       "145 6.7          3.3         5.7          2.5         virginica\n",
       "146 6.7          3.0         5.2          2.3         virginica\n",
       "147 6.3          2.5         5.0          1.9         virginica\n",
       "148 6.5          3.0         5.2          2.0         virginica\n",
       "149 6.2          3.4         5.4          2.3         virginica\n",
       "150 5.9          3.0         5.1          1.8         virginica"
      ]
     },
     "metadata": {},
     "output_type": "display_data"
    }
   ],
   "source": [
    "my_data <- as_tibble(iris)\n",
    "my_data"
   ]
  },
  {
   "cell_type": "code",
   "execution_count": 77,
   "metadata": {},
   "outputs": [
    {
     "data": {
      "text/html": [
       "<table>\n",
       "<thead><tr><th scope=col>sepal_by_petal_l</th><th scope=col>sepal_by_petal_w</th></tr></thead>\n",
       "<tbody>\n",
       "\t<tr><td>3.642857</td><td>17.50000</td></tr>\n",
       "\t<tr><td>3.500000</td><td>15.00000</td></tr>\n",
       "\t<tr><td>3.615385</td><td>16.00000</td></tr>\n",
       "\t<tr><td>3.066667</td><td>15.50000</td></tr>\n",
       "\t<tr><td>3.571429</td><td>18.00000</td></tr>\n",
       "\t<tr><td>3.176471</td><td> 9.75000</td></tr>\n",
       "\t<tr><td>3.285714</td><td>11.33333</td></tr>\n",
       "\t<tr><td>3.333333</td><td>17.00000</td></tr>\n",
       "\t<tr><td>3.142857</td><td>14.50000</td></tr>\n",
       "\t<tr><td>3.266667</td><td>31.00000</td></tr>\n",
       "\t<tr><td>3.600000</td><td>18.50000</td></tr>\n",
       "\t<tr><td>3.000000</td><td>17.00000</td></tr>\n",
       "\t<tr><td>3.428571</td><td>30.00000</td></tr>\n",
       "\t<tr><td>3.909091</td><td>30.00000</td></tr>\n",
       "\t<tr><td>4.833333</td><td>20.00000</td></tr>\n",
       "\t<tr><td>3.800000</td><td>11.00000</td></tr>\n",
       "\t<tr><td>4.153846</td><td> 9.75000</td></tr>\n",
       "\t<tr><td>3.642857</td><td>11.66667</td></tr>\n",
       "\t<tr><td>3.352941</td><td>12.66667</td></tr>\n",
       "\t<tr><td>3.400000</td><td>12.66667</td></tr>\n",
       "\t<tr><td>3.176471</td><td>17.00000</td></tr>\n",
       "\t<tr><td>3.400000</td><td> 9.25000</td></tr>\n",
       "\t<tr><td>4.600000</td><td>18.00000</td></tr>\n",
       "\t<tr><td>3.000000</td><td> 6.60000</td></tr>\n",
       "\t<tr><td>2.526316</td><td>17.00000</td></tr>\n",
       "\t<tr><td>3.125000</td><td>15.00000</td></tr>\n",
       "\t<tr><td>3.125000</td><td> 8.50000</td></tr>\n",
       "\t<tr><td>3.466667</td><td>17.50000</td></tr>\n",
       "\t<tr><td>3.714286</td><td>17.00000</td></tr>\n",
       "\t<tr><td>2.937500</td><td>16.00000</td></tr>\n",
       "\t<tr><td>...</td><td>...</td></tr>\n",
       "\t<tr><td>1.210526</td><td>1.391304</td></tr>\n",
       "\t<tr><td>1.142857</td><td>1.400000</td></tr>\n",
       "\t<tr><td>1.149254</td><td>1.400000</td></tr>\n",
       "\t<tr><td>1.285714</td><td>1.500000</td></tr>\n",
       "\t<tr><td>1.175439</td><td>1.571429</td></tr>\n",
       "\t<tr><td>1.200000</td><td>1.777778</td></tr>\n",
       "\t<tr><td>1.291667</td><td>1.555556</td></tr>\n",
       "\t<tr><td>1.244898</td><td>1.666667</td></tr>\n",
       "\t<tr><td>1.142857</td><td>1.333333</td></tr>\n",
       "\t<tr><td>1.241379</td><td>1.875000</td></tr>\n",
       "\t<tr><td>1.213115</td><td>1.473684</td></tr>\n",
       "\t<tr><td>1.234375</td><td>1.900000</td></tr>\n",
       "\t<tr><td>1.142857</td><td>1.272727</td></tr>\n",
       "\t<tr><td>1.235294</td><td>1.866667</td></tr>\n",
       "\t<tr><td>1.089286</td><td>1.857143</td></tr>\n",
       "\t<tr><td>1.262295</td><td>1.304348</td></tr>\n",
       "\t<tr><td>1.125000</td><td>1.416667</td></tr>\n",
       "\t<tr><td>1.163636</td><td>1.722222</td></tr>\n",
       "\t<tr><td>1.250000</td><td>1.666667</td></tr>\n",
       "\t<tr><td>1.277778</td><td>1.476190</td></tr>\n",
       "\t<tr><td>1.196429</td><td>1.291667</td></tr>\n",
       "\t<tr><td>1.352941</td><td>1.347826</td></tr>\n",
       "\t<tr><td>1.137255</td><td>1.421053</td></tr>\n",
       "\t<tr><td>1.152542</td><td>1.391304</td></tr>\n",
       "\t<tr><td>1.175439</td><td>1.320000</td></tr>\n",
       "\t<tr><td>1.288462</td><td>1.304348</td></tr>\n",
       "\t<tr><td>1.260000</td><td>1.315789</td></tr>\n",
       "\t<tr><td>1.250000</td><td>1.500000</td></tr>\n",
       "\t<tr><td>1.148148</td><td>1.478261</td></tr>\n",
       "\t<tr><td>1.156863</td><td>1.666667</td></tr>\n",
       "</tbody>\n",
       "</table>\n"
      ],
      "text/latex": [
       "\\begin{tabular}{r|ll}\n",
       " sepal\\_by\\_petal\\_l & sepal\\_by\\_petal\\_w\\\\\n",
       "\\hline\n",
       "\t 3.642857 & 17.50000\\\\\n",
       "\t 3.500000 & 15.00000\\\\\n",
       "\t 3.615385 & 16.00000\\\\\n",
       "\t 3.066667 & 15.50000\\\\\n",
       "\t 3.571429 & 18.00000\\\\\n",
       "\t 3.176471 &  9.75000\\\\\n",
       "\t 3.285714 & 11.33333\\\\\n",
       "\t 3.333333 & 17.00000\\\\\n",
       "\t 3.142857 & 14.50000\\\\\n",
       "\t 3.266667 & 31.00000\\\\\n",
       "\t 3.600000 & 18.50000\\\\\n",
       "\t 3.000000 & 17.00000\\\\\n",
       "\t 3.428571 & 30.00000\\\\\n",
       "\t 3.909091 & 30.00000\\\\\n",
       "\t 4.833333 & 20.00000\\\\\n",
       "\t 3.800000 & 11.00000\\\\\n",
       "\t 4.153846 &  9.75000\\\\\n",
       "\t 3.642857 & 11.66667\\\\\n",
       "\t 3.352941 & 12.66667\\\\\n",
       "\t 3.400000 & 12.66667\\\\\n",
       "\t 3.176471 & 17.00000\\\\\n",
       "\t 3.400000 &  9.25000\\\\\n",
       "\t 4.600000 & 18.00000\\\\\n",
       "\t 3.000000 &  6.60000\\\\\n",
       "\t 2.526316 & 17.00000\\\\\n",
       "\t 3.125000 & 15.00000\\\\\n",
       "\t 3.125000 &  8.50000\\\\\n",
       "\t 3.466667 & 17.50000\\\\\n",
       "\t 3.714286 & 17.00000\\\\\n",
       "\t 2.937500 & 16.00000\\\\\n",
       "\t ... & ...\\\\\n",
       "\t 1.210526 & 1.391304\\\\\n",
       "\t 1.142857 & 1.400000\\\\\n",
       "\t 1.149254 & 1.400000\\\\\n",
       "\t 1.285714 & 1.500000\\\\\n",
       "\t 1.175439 & 1.571429\\\\\n",
       "\t 1.200000 & 1.777778\\\\\n",
       "\t 1.291667 & 1.555556\\\\\n",
       "\t 1.244898 & 1.666667\\\\\n",
       "\t 1.142857 & 1.333333\\\\\n",
       "\t 1.241379 & 1.875000\\\\\n",
       "\t 1.213115 & 1.473684\\\\\n",
       "\t 1.234375 & 1.900000\\\\\n",
       "\t 1.142857 & 1.272727\\\\\n",
       "\t 1.235294 & 1.866667\\\\\n",
       "\t 1.089286 & 1.857143\\\\\n",
       "\t 1.262295 & 1.304348\\\\\n",
       "\t 1.125000 & 1.416667\\\\\n",
       "\t 1.163636 & 1.722222\\\\\n",
       "\t 1.250000 & 1.666667\\\\\n",
       "\t 1.277778 & 1.476190\\\\\n",
       "\t 1.196429 & 1.291667\\\\\n",
       "\t 1.352941 & 1.347826\\\\\n",
       "\t 1.137255 & 1.421053\\\\\n",
       "\t 1.152542 & 1.391304\\\\\n",
       "\t 1.175439 & 1.320000\\\\\n",
       "\t 1.288462 & 1.304348\\\\\n",
       "\t 1.260000 & 1.315789\\\\\n",
       "\t 1.250000 & 1.500000\\\\\n",
       "\t 1.148148 & 1.478261\\\\\n",
       "\t 1.156863 & 1.666667\\\\\n",
       "\\end{tabular}\n"
      ],
      "text/markdown": [
       "\n",
       "| sepal_by_petal_l | sepal_by_petal_w |\n",
       "|---|---|\n",
       "| 3.642857 | 17.50000 |\n",
       "| 3.500000 | 15.00000 |\n",
       "| 3.615385 | 16.00000 |\n",
       "| 3.066667 | 15.50000 |\n",
       "| 3.571429 | 18.00000 |\n",
       "| 3.176471 |  9.75000 |\n",
       "| 3.285714 | 11.33333 |\n",
       "| 3.333333 | 17.00000 |\n",
       "| 3.142857 | 14.50000 |\n",
       "| 3.266667 | 31.00000 |\n",
       "| 3.600000 | 18.50000 |\n",
       "| 3.000000 | 17.00000 |\n",
       "| 3.428571 | 30.00000 |\n",
       "| 3.909091 | 30.00000 |\n",
       "| 4.833333 | 20.00000 |\n",
       "| 3.800000 | 11.00000 |\n",
       "| 4.153846 |  9.75000 |\n",
       "| 3.642857 | 11.66667 |\n",
       "| 3.352941 | 12.66667 |\n",
       "| 3.400000 | 12.66667 |\n",
       "| 3.176471 | 17.00000 |\n",
       "| 3.400000 |  9.25000 |\n",
       "| 4.600000 | 18.00000 |\n",
       "| 3.000000 |  6.60000 |\n",
       "| 2.526316 | 17.00000 |\n",
       "| 3.125000 | 15.00000 |\n",
       "| 3.125000 |  8.50000 |\n",
       "| 3.466667 | 17.50000 |\n",
       "| 3.714286 | 17.00000 |\n",
       "| 2.937500 | 16.00000 |\n",
       "| ... | ... |\n",
       "| 1.210526 | 1.391304 |\n",
       "| 1.142857 | 1.400000 |\n",
       "| 1.149254 | 1.400000 |\n",
       "| 1.285714 | 1.500000 |\n",
       "| 1.175439 | 1.571429 |\n",
       "| 1.200000 | 1.777778 |\n",
       "| 1.291667 | 1.555556 |\n",
       "| 1.244898 | 1.666667 |\n",
       "| 1.142857 | 1.333333 |\n",
       "| 1.241379 | 1.875000 |\n",
       "| 1.213115 | 1.473684 |\n",
       "| 1.234375 | 1.900000 |\n",
       "| 1.142857 | 1.272727 |\n",
       "| 1.235294 | 1.866667 |\n",
       "| 1.089286 | 1.857143 |\n",
       "| 1.262295 | 1.304348 |\n",
       "| 1.125000 | 1.416667 |\n",
       "| 1.163636 | 1.722222 |\n",
       "| 1.250000 | 1.666667 |\n",
       "| 1.277778 | 1.476190 |\n",
       "| 1.196429 | 1.291667 |\n",
       "| 1.352941 | 1.347826 |\n",
       "| 1.137255 | 1.421053 |\n",
       "| 1.152542 | 1.391304 |\n",
       "| 1.175439 | 1.320000 |\n",
       "| 1.288462 | 1.304348 |\n",
       "| 1.260000 | 1.315789 |\n",
       "| 1.250000 | 1.500000 |\n",
       "| 1.148148 | 1.478261 |\n",
       "| 1.156863 | 1.666667 |\n",
       "\n"
      ],
      "text/plain": [
       "    sepal_by_petal_l sepal_by_petal_w\n",
       "1   3.642857         17.50000        \n",
       "2   3.500000         15.00000        \n",
       "3   3.615385         16.00000        \n",
       "4   3.066667         15.50000        \n",
       "5   3.571429         18.00000        \n",
       "6   3.176471          9.75000        \n",
       "7   3.285714         11.33333        \n",
       "8   3.333333         17.00000        \n",
       "9   3.142857         14.50000        \n",
       "10  3.266667         31.00000        \n",
       "11  3.600000         18.50000        \n",
       "12  3.000000         17.00000        \n",
       "13  3.428571         30.00000        \n",
       "14  3.909091         30.00000        \n",
       "15  4.833333         20.00000        \n",
       "16  3.800000         11.00000        \n",
       "17  4.153846          9.75000        \n",
       "18  3.642857         11.66667        \n",
       "19  3.352941         12.66667        \n",
       "20  3.400000         12.66667        \n",
       "21  3.176471         17.00000        \n",
       "22  3.400000          9.25000        \n",
       "23  4.600000         18.00000        \n",
       "24  3.000000          6.60000        \n",
       "25  2.526316         17.00000        \n",
       "26  3.125000         15.00000        \n",
       "27  3.125000          8.50000        \n",
       "28  3.466667         17.50000        \n",
       "29  3.714286         17.00000        \n",
       "30  2.937500         16.00000        \n",
       "... ...              ...             \n",
       "121 1.210526         1.391304        \n",
       "122 1.142857         1.400000        \n",
       "123 1.149254         1.400000        \n",
       "124 1.285714         1.500000        \n",
       "125 1.175439         1.571429        \n",
       "126 1.200000         1.777778        \n",
       "127 1.291667         1.555556        \n",
       "128 1.244898         1.666667        \n",
       "129 1.142857         1.333333        \n",
       "130 1.241379         1.875000        \n",
       "131 1.213115         1.473684        \n",
       "132 1.234375         1.900000        \n",
       "133 1.142857         1.272727        \n",
       "134 1.235294         1.866667        \n",
       "135 1.089286         1.857143        \n",
       "136 1.262295         1.304348        \n",
       "137 1.125000         1.416667        \n",
       "138 1.163636         1.722222        \n",
       "139 1.250000         1.666667        \n",
       "140 1.277778         1.476190        \n",
       "141 1.196429         1.291667        \n",
       "142 1.352941         1.347826        \n",
       "143 1.137255         1.421053        \n",
       "144 1.152542         1.391304        \n",
       "145 1.175439         1.320000        \n",
       "146 1.288462         1.304348        \n",
       "147 1.260000         1.315789        \n",
       "148 1.250000         1.500000        \n",
       "149 1.148148         1.478261        \n",
       "150 1.156863         1.666667        "
      ]
     },
     "metadata": {},
     "output_type": "display_data"
    }
   ],
   "source": [
    "my_data %>%\n",
    "  transmute(sepal_by_petal_l = Sepal.Length/Petal.Length,\n",
    "    sepal_by_petal_w = Sepal.Width/Petal.Width)"
   ]
  },
  {
   "cell_type": "markdown",
   "metadata": {},
   "source": [
    "# 21. Summarize"
   ]
  },
  {
   "cell_type": "code",
   "execution_count": 78,
   "metadata": {},
   "outputs": [
    {
     "data": {
      "text/html": [
       "<table>\n",
       "<thead><tr><th scope=col>name</th><th scope=col>height</th><th scope=col>mass</th><th scope=col>hair_color</th><th scope=col>skin_color</th><th scope=col>eye_color</th><th scope=col>birth_year</th><th scope=col>sex</th><th scope=col>gender</th><th scope=col>homeworld</th><th scope=col>species</th><th scope=col>films</th><th scope=col>vehicles</th><th scope=col>starships</th></tr></thead>\n",
       "<tbody>\n",
       "\t<tr><td>Luke Skywalker                                                                                                             </td><td>172                                                                                                                        </td><td> 77                                                                                                                        </td><td>blond                                                                                                                      </td><td>fair                                                                                                                       </td><td>blue                                                                                                                       </td><td> 19.0                                                                                                                      </td><td>male                                                                                                                       </td><td>masculine                                                                                                                  </td><td>Tatooine                                                                                                                   </td><td>Human                                                                                                                      </td><td>The Empire Strikes Back, Revenge of the Sith    , Return of the Jedi     , A New Hope             , The Force Awakens      </td><td>Snowspeeder          , Imperial Speeder Bike                                                                               </td><td>X-wing          , Imperial shuttle                                                                                         </td></tr>\n",
       "\t<tr><td>C-3PO                                                                                                                                               </td><td>167                                                                                                                                                 </td><td> 75                                                                                                                                                 </td><td>NA                                                                                                                                                  </td><td>gold                                                                                                                                                </td><td>yellow                                                                                                                                              </td><td>112.0                                                                                                                                               </td><td>none                                                                                                                                                </td><td>masculine                                                                                                                                           </td><td>Tatooine                                                                                                                                            </td><td>Droid                                                                                                                                               </td><td>The Empire Strikes Back, Attack of the Clones   , The Phantom Menace     , Revenge of the Sith    , Return of the Jedi     , A New Hope             </td><td>                                                                                                                                                    </td><td>                                                                                                                                                    </td></tr>\n",
       "\t<tr><td>R2-D2                                                                                                                                                                        </td><td> 96                                                                                                                                                                          </td><td> 32                                                                                                                                                                          </td><td>NA                                                                                                                                                                           </td><td>white, blue                                                                                                                                                                  </td><td>red                                                                                                                                                                          </td><td> 33.0                                                                                                                                                                        </td><td>none                                                                                                                                                                         </td><td>masculine                                                                                                                                                                    </td><td>Naboo                                                                                                                                                                        </td><td>Droid                                                                                                                                                                        </td><td>The Empire Strikes Back, Attack of the Clones   , The Phantom Menace     , Revenge of the Sith    , Return of the Jedi     , A New Hope             , The Force Awakens      </td><td>                                                                                                                                                                             </td><td>                                                                                                                                                                             </td></tr>\n",
       "\t<tr><td>Darth Vader                                                                                       </td><td>202                                                                                               </td><td>136                                                                                               </td><td>none                                                                                              </td><td>white                                                                                             </td><td>yellow                                                                                            </td><td> 41.9                                                                                             </td><td>male                                                                                              </td><td>masculine                                                                                         </td><td>Tatooine                                                                                          </td><td>Human                                                                                             </td><td>The Empire Strikes Back, Revenge of the Sith    , Return of the Jedi     , A New Hope             </td><td>                                                                                                  </td><td>TIE Advanced x1                                                                                   </td></tr>\n",
       "\t<tr><td>Leia Organa                                                                                                                </td><td>150                                                                                                                        </td><td> 49                                                                                                                        </td><td>brown                                                                                                                      </td><td>light                                                                                                                      </td><td>brown                                                                                                                      </td><td> 19.0                                                                                                                      </td><td>female                                                                                                                     </td><td>feminine                                                                                                                   </td><td>Alderaan                                                                                                                   </td><td>Human                                                                                                                      </td><td>The Empire Strikes Back, Revenge of the Sith    , Return of the Jedi     , A New Hope             , The Force Awakens      </td><td>Imperial Speeder Bike                                                                                                      </td><td>                                                                                                                           </td></tr>\n",
       "\t<tr><td>Owen Lars                                                       </td><td>178                                                             </td><td>120                                                             </td><td>brown, grey                                                     </td><td>light                                                           </td><td>blue                                                            </td><td> 52.0                                                           </td><td>male                                                            </td><td>masculine                                                       </td><td>Tatooine                                                        </td><td>Human                                                           </td><td>Attack of the Clones, Revenge of the Sith , A New Hope          </td><td>                                                                </td><td>                                                                </td></tr>\n",
       "</tbody>\n",
       "</table>\n"
      ],
      "text/latex": [
       "\\begin{tabular}{r|llllllllllllll}\n",
       " name & height & mass & hair\\_color & skin\\_color & eye\\_color & birth\\_year & sex & gender & homeworld & species & films & vehicles & starships\\\\\n",
       "\\hline\n",
       "\t Luke Skywalker                                                                                                              & 172                                                                                                                         &  77                                                                                                                         & blond                                                                                                                       & fair                                                                                                                        & blue                                                                                                                        &  19.0                                                                                                                       & male                                                                                                                        & masculine                                                                                                                   & Tatooine                                                                                                                    & Human                                                                                                                       & The Empire Strikes Back, Revenge of the Sith    , Return of the Jedi     , A New Hope             , The Force Awakens       & Snowspeeder          , Imperial Speeder Bike                                                                                & X-wing          , Imperial shuttle                                                                                         \\\\\n",
       "\t C-3PO                                                                                                                                                & 167                                                                                                                                                  &  75                                                                                                                                                  & NA                                                                                                                                                   & gold                                                                                                                                                 & yellow                                                                                                                                               & 112.0                                                                                                                                                & none                                                                                                                                                 & masculine                                                                                                                                            & Tatooine                                                                                                                                             & Droid                                                                                                                                                & The Empire Strikes Back, Attack of the Clones   , The Phantom Menace     , Revenge of the Sith    , Return of the Jedi     , A New Hope              &                                                                                                                                                      &                                                                                                                                                     \\\\\n",
       "\t R2-D2                                                                                                                                                                         &  96                                                                                                                                                                           &  32                                                                                                                                                                           & NA                                                                                                                                                                            & white, blue                                                                                                                                                                   & red                                                                                                                                                                           &  33.0                                                                                                                                                                         & none                                                                                                                                                                          & masculine                                                                                                                                                                     & Naboo                                                                                                                                                                         & Droid                                                                                                                                                                         & The Empire Strikes Back, Attack of the Clones   , The Phantom Menace     , Revenge of the Sith    , Return of the Jedi     , A New Hope             , The Force Awakens       &                                                                                                                                                                               &                                                                                                                                                                              \\\\\n",
       "\t Darth Vader                                                                                        & 202                                                                                                & 136                                                                                                & none                                                                                               & white                                                                                              & yellow                                                                                             &  41.9                                                                                              & male                                                                                               & masculine                                                                                          & Tatooine                                                                                           & Human                                                                                              & The Empire Strikes Back, Revenge of the Sith    , Return of the Jedi     , A New Hope              &                                                                                                    & TIE Advanced x1                                                                                   \\\\\n",
       "\t Leia Organa                                                                                                                 & 150                                                                                                                         &  49                                                                                                                         & brown                                                                                                                       & light                                                                                                                       & brown                                                                                                                       &  19.0                                                                                                                       & female                                                                                                                      & feminine                                                                                                                    & Alderaan                                                                                                                    & Human                                                                                                                       & The Empire Strikes Back, Revenge of the Sith    , Return of the Jedi     , A New Hope             , The Force Awakens       & Imperial Speeder Bike                                                                                                       &                                                                                                                            \\\\\n",
       "\t Owen Lars                                                        & 178                                                              & 120                                                              & brown, grey                                                      & light                                                            & blue                                                             &  52.0                                                            & male                                                             & masculine                                                        & Tatooine                                                         & Human                                                            & Attack of the Clones, Revenge of the Sith , A New Hope           &                                                                  &                                                                 \\\\\n",
       "\\end{tabular}\n"
      ],
      "text/markdown": [
       "\n",
       "| name | height | mass | hair_color | skin_color | eye_color | birth_year | sex | gender | homeworld | species | films | vehicles | starships |\n",
       "|---|---|---|---|---|---|---|---|---|---|---|---|---|---|\n",
       "| Luke Skywalker                                                                                                              | 172                                                                                                                         |  77                                                                                                                         | blond                                                                                                                       | fair                                                                                                                        | blue                                                                                                                        |  19.0                                                                                                                       | male                                                                                                                        | masculine                                                                                                                   | Tatooine                                                                                                                    | Human                                                                                                                       | The Empire Strikes Back, Revenge of the Sith    , Return of the Jedi     , A New Hope             , The Force Awakens       | Snowspeeder          , Imperial Speeder Bike                                                                                | X-wing          , Imperial shuttle                                                                                          |\n",
       "| C-3PO                                                                                                                                                | 167                                                                                                                                                  |  75                                                                                                                                                  | NA                                                                                                                                                   | gold                                                                                                                                                 | yellow                                                                                                                                               | 112.0                                                                                                                                                | none                                                                                                                                                 | masculine                                                                                                                                            | Tatooine                                                                                                                                             | Droid                                                                                                                                                | The Empire Strikes Back, Attack of the Clones   , The Phantom Menace     , Revenge of the Sith    , Return of the Jedi     , A New Hope              |                                                                                                                                                      |                                                                                                                                                      |\n",
       "| R2-D2                                                                                                                                                                         |  96                                                                                                                                                                           |  32                                                                                                                                                                           | NA                                                                                                                                                                            | white, blue                                                                                                                                                                   | red                                                                                                                                                                           |  33.0                                                                                                                                                                         | none                                                                                                                                                                          | masculine                                                                                                                                                                     | Naboo                                                                                                                                                                         | Droid                                                                                                                                                                         | The Empire Strikes Back, Attack of the Clones   , The Phantom Menace     , Revenge of the Sith    , Return of the Jedi     , A New Hope             , The Force Awakens       |                                                                                                                                                                               |                                                                                                                                                                               |\n",
       "| Darth Vader                                                                                        | 202                                                                                                | 136                                                                                                | none                                                                                               | white                                                                                              | yellow                                                                                             |  41.9                                                                                              | male                                                                                               | masculine                                                                                          | Tatooine                                                                                           | Human                                                                                              | The Empire Strikes Back, Revenge of the Sith    , Return of the Jedi     , A New Hope              |                                                                                                    | TIE Advanced x1                                                                                    |\n",
       "| Leia Organa                                                                                                                 | 150                                                                                                                         |  49                                                                                                                         | brown                                                                                                                       | light                                                                                                                       | brown                                                                                                                       |  19.0                                                                                                                       | female                                                                                                                      | feminine                                                                                                                    | Alderaan                                                                                                                    | Human                                                                                                                       | The Empire Strikes Back, Revenge of the Sith    , Return of the Jedi     , A New Hope             , The Force Awakens       | Imperial Speeder Bike                                                                                                       |                                                                                                                             |\n",
       "| Owen Lars                                                        | 178                                                              | 120                                                              | brown, grey                                                      | light                                                            | blue                                                             |  52.0                                                            | male                                                             | masculine                                                        | Tatooine                                                         | Human                                                            | Attack of the Clones, Revenge of the Sith , A New Hope           |                                                                  |                                                                  |\n",
       "\n"
      ],
      "text/plain": [
       "  name           height mass hair_color  skin_color  eye_color birth_year\n",
       "1 Luke Skywalker 172     77  blond       fair        blue       19.0     \n",
       "2 C-3PO          167     75  NA          gold        yellow    112.0     \n",
       "3 R2-D2           96     32  NA          white, blue red        33.0     \n",
       "4 Darth Vader    202    136  none        white       yellow     41.9     \n",
       "5 Leia Organa    150     49  brown       light       brown      19.0     \n",
       "6 Owen Lars      178    120  brown, grey light       blue       52.0     \n",
       "  sex    gender    homeworld species\n",
       "1 male   masculine Tatooine  Human  \n",
       "2 none   masculine Tatooine  Droid  \n",
       "3 none   masculine Naboo     Droid  \n",
       "4 male   masculine Tatooine  Human  \n",
       "5 female feminine  Alderaan  Human  \n",
       "6 male   masculine Tatooine  Human  \n",
       "  films                                                                                                                                                                        \n",
       "1 The Empire Strikes Back, Revenge of the Sith    , Return of the Jedi     , A New Hope             , The Force Awakens                                                        \n",
       "2 The Empire Strikes Back, Attack of the Clones   , The Phantom Menace     , Revenge of the Sith    , Return of the Jedi     , A New Hope                                      \n",
       "3 The Empire Strikes Back, Attack of the Clones   , The Phantom Menace     , Revenge of the Sith    , Return of the Jedi     , A New Hope             , The Force Awakens      \n",
       "4 The Empire Strikes Back, Revenge of the Sith    , Return of the Jedi     , A New Hope                                                                                        \n",
       "5 The Empire Strikes Back, Revenge of the Sith    , Return of the Jedi     , A New Hope             , The Force Awakens                                                        \n",
       "6 Attack of the Clones, Revenge of the Sith , A New Hope                                                                                                                       \n",
       "  vehicles                                    \n",
       "1 Snowspeeder          , Imperial Speeder Bike\n",
       "2                                             \n",
       "3                                             \n",
       "4                                             \n",
       "5 Imperial Speeder Bike                       \n",
       "6                                             \n",
       "  starships                         \n",
       "1 X-wing          , Imperial shuttle\n",
       "2                                   \n",
       "3                                   \n",
       "4 TIE Advanced x1                   \n",
       "5                                   \n",
       "6                                   "
      ]
     },
     "metadata": {},
     "output_type": "display_data"
    }
   ],
   "source": [
    "head(starwars)"
   ]
  },
  {
   "cell_type": "code",
   "execution_count": 79,
   "metadata": {},
   "outputs": [
    {
     "data": {
      "text/html": [
       "<table>\n",
       "<thead><tr><th scope=col>mean(height)</th></tr></thead>\n",
       "<tbody>\n",
       "\t<tr><td>NA</td></tr>\n",
       "</tbody>\n",
       "</table>\n"
      ],
      "text/latex": [
       "\\begin{tabular}{r|l}\n",
       " mean(height)\\\\\n",
       "\\hline\n",
       "\t NA\\\\\n",
       "\\end{tabular}\n"
      ],
      "text/markdown": [
       "\n",
       "| mean(height) |\n",
       "|---|\n",
       "| NA |\n",
       "\n"
      ],
      "text/plain": [
       "  mean(height)\n",
       "1 NA          "
      ]
     },
     "metadata": {},
     "output_type": "display_data"
    }
   ],
   "source": [
    "summarize(starwars,mean(height))"
   ]
  },
  {
   "cell_type": "code",
   "execution_count": 80,
   "metadata": {},
   "outputs": [
    {
     "data": {
      "text/html": [
       "<table>\n",
       "<thead><tr><th scope=col>mean(height, na.rm = TRUE)</th></tr></thead>\n",
       "<tbody>\n",
       "\t<tr><td>174.358</td></tr>\n",
       "</tbody>\n",
       "</table>\n"
      ],
      "text/latex": [
       "\\begin{tabular}{r|l}\n",
       " mean(height, na.rm = TRUE)\\\\\n",
       "\\hline\n",
       "\t 174.358\\\\\n",
       "\\end{tabular}\n"
      ],
      "text/markdown": [
       "\n",
       "| mean(height, na.rm = TRUE) |\n",
       "|---|\n",
       "| 174.358 |\n",
       "\n"
      ],
      "text/plain": [
       "  mean(height, na.rm = TRUE)\n",
       "1 174.358                   "
      ]
     },
     "metadata": {},
     "output_type": "display_data"
    }
   ],
   "source": [
    "summarize(starwars,mean(height,na.rm=TRUE))"
   ]
  },
  {
   "cell_type": "code",
   "execution_count": 81,
   "metadata": {},
   "outputs": [
    {
     "data": {
      "text/html": [
       "<table>\n",
       "<thead><tr><th scope=col>avg</th></tr></thead>\n",
       "<tbody>\n",
       "\t<tr><td>174.358</td></tr>\n",
       "</tbody>\n",
       "</table>\n"
      ],
      "text/latex": [
       "\\begin{tabular}{r|l}\n",
       " avg\\\\\n",
       "\\hline\n",
       "\t 174.358\\\\\n",
       "\\end{tabular}\n"
      ],
      "text/markdown": [
       "\n",
       "| avg |\n",
       "|---|\n",
       "| 174.358 |\n",
       "\n"
      ],
      "text/plain": [
       "  avg    \n",
       "1 174.358"
      ]
     },
     "metadata": {},
     "output_type": "display_data"
    }
   ],
   "source": [
    "starwars.g <- group_by(starwars,species)\n",
    "summarize(starwars.g,avg= mean(height,na.rm=TRUE))"
   ]
  },
  {
   "cell_type": "markdown",
   "metadata": {},
   "source": [
    "# 22.Group_by"
   ]
  },
  {
   "cell_type": "code",
   "execution_count": 82,
   "metadata": {},
   "outputs": [],
   "source": [
    "data <- read.csv(\"https://raw.githubusercontent.com/guru99-edu/R-Programming/master/lahman-batting.csv\") "
   ]
  },
  {
   "cell_type": "code",
   "execution_count": 83,
   "metadata": {},
   "outputs": [
    {
     "data": {
      "text/html": [
       "<table>\n",
       "<thead><tr><th scope=col>mean_run</th></tr></thead>\n",
       "<tbody>\n",
       "\t<tr><td>2.831582</td></tr>\n",
       "</tbody>\n",
       "</table>\n"
      ],
      "text/latex": [
       "\\begin{tabular}{r|l}\n",
       " mean\\_run\\\\\n",
       "\\hline\n",
       "\t 2.831582\\\\\n",
       "\\end{tabular}\n"
      ],
      "text/markdown": [
       "\n",
       "| mean_run |\n",
       "|---|\n",
       "| 2.831582 |\n",
       "\n"
      ],
      "text/plain": [
       "  mean_run\n",
       "1 2.831582"
      ]
     },
     "metadata": {},
     "output_type": "display_data"
    }
   ],
   "source": [
    "data %>%\n",
    "group_by(lgID) %>%\n",
    "summarise(mean_run = mean(HR))"
   ]
  },
  {
   "cell_type": "markdown",
   "metadata": {},
   "source": [
    "# 23.ifelse"
   ]
  },
  {
   "cell_type": "code",
   "execution_count": 84,
   "metadata": {},
   "outputs": [],
   "source": [
    "student.df = data.frame( name = c(\"Sue\", \"Eva\", \"Henry\", \"Jan\"),\n",
    "                         sex = c(\"f\", \"f\", \"m\", \"m\"), \n",
    "                         years = c(21,31,29,19))"
   ]
  },
  {
   "cell_type": "code",
   "execution_count": 85,
   "metadata": {},
   "outputs": [
    {
     "data": {
      "text/html": [
       "<table>\n",
       "<thead><tr><th scope=col>name</th><th scope=col>sex</th><th scope=col>years</th></tr></thead>\n",
       "<tbody>\n",
       "\t<tr><td>Sue  </td><td>f    </td><td>21   </td></tr>\n",
       "\t<tr><td>Eva  </td><td>f    </td><td>31   </td></tr>\n",
       "\t<tr><td>Henry</td><td>m    </td><td>29   </td></tr>\n",
       "\t<tr><td>Jan  </td><td>m    </td><td>19   </td></tr>\n",
       "</tbody>\n",
       "</table>\n"
      ],
      "text/latex": [
       "\\begin{tabular}{r|lll}\n",
       " name & sex & years\\\\\n",
       "\\hline\n",
       "\t Sue   & f     & 21   \\\\\n",
       "\t Eva   & f     & 31   \\\\\n",
       "\t Henry & m     & 29   \\\\\n",
       "\t Jan   & m     & 19   \\\\\n",
       "\\end{tabular}\n"
      ],
      "text/markdown": [
       "\n",
       "| name | sex | years |\n",
       "|---|---|---|\n",
       "| Sue   | f     | 21    |\n",
       "| Eva   | f     | 31    |\n",
       "| Henry | m     | 29    |\n",
       "| Jan   | m     | 19    |\n",
       "\n"
      ],
      "text/plain": [
       "  name  sex years\n",
       "1 Sue   f   21   \n",
       "2 Eva   f   31   \n",
       "3 Henry m   29   \n",
       "4 Jan   m   19   "
      ]
     },
     "metadata": {},
     "output_type": "display_data"
    }
   ],
   "source": [
    "student.df"
   ]
  },
  {
   "cell_type": "code",
   "execution_count": 86,
   "metadata": {},
   "outputs": [],
   "source": [
    "student.df$maleteen = ifelse(student.df$sex ==\"m\" &\n",
    "                             student.df$years < 20,\"T\",\"F\")\n",
    "student.df$character = ifelse(student.df$name ==\"Sue\" & \n",
    "                              student.df$years ==21,\"Good\",\"Bad\")"
   ]
  },
  {
   "cell_type": "code",
   "execution_count": 87,
   "metadata": {},
   "outputs": [
    {
     "data": {
      "text/html": [
       "<table>\n",
       "<thead><tr><th scope=col>name</th><th scope=col>sex</th><th scope=col>years</th><th scope=col>maleteen</th><th scope=col>character</th></tr></thead>\n",
       "<tbody>\n",
       "\t<tr><td>Sue  </td><td>f    </td><td>21   </td><td>F    </td><td>Good </td></tr>\n",
       "\t<tr><td>Eva  </td><td>f    </td><td>31   </td><td>F    </td><td>Bad  </td></tr>\n",
       "\t<tr><td>Henry</td><td>m    </td><td>29   </td><td>F    </td><td>Bad  </td></tr>\n",
       "\t<tr><td>Jan  </td><td>m    </td><td>19   </td><td>T    </td><td>Bad  </td></tr>\n",
       "</tbody>\n",
       "</table>\n"
      ],
      "text/latex": [
       "\\begin{tabular}{r|lllll}\n",
       " name & sex & years & maleteen & character\\\\\n",
       "\\hline\n",
       "\t Sue   & f     & 21    & F     & Good \\\\\n",
       "\t Eva   & f     & 31    & F     & Bad  \\\\\n",
       "\t Henry & m     & 29    & F     & Bad  \\\\\n",
       "\t Jan   & m     & 19    & T     & Bad  \\\\\n",
       "\\end{tabular}\n"
      ],
      "text/markdown": [
       "\n",
       "| name | sex | years | maleteen | character |\n",
       "|---|---|---|---|---|\n",
       "| Sue   | f     | 21    | F     | Good  |\n",
       "| Eva   | f     | 31    | F     | Bad   |\n",
       "| Henry | m     | 29    | F     | Bad   |\n",
       "| Jan   | m     | 19    | T     | Bad   |\n",
       "\n"
      ],
      "text/plain": [
       "  name  sex years maleteen character\n",
       "1 Sue   f   21    F        Good     \n",
       "2 Eva   f   31    F        Bad      \n",
       "3 Henry m   29    F        Bad      \n",
       "4 Jan   m   19    T        Bad      "
      ]
     },
     "metadata": {},
     "output_type": "display_data"
    }
   ],
   "source": [
    "student.df"
   ]
  },
  {
   "cell_type": "markdown",
   "metadata": {},
   "source": [
    "# 24.Tabulation"
   ]
  },
  {
   "cell_type": "markdown",
   "metadata": {},
   "source": [
    "tabulate takes the integer-valued vector bin and counts the number of times each integer occurs in it."
   ]
  },
  {
   "cell_type": "code",
   "execution_count": 88,
   "metadata": {},
   "outputs": [
    {
     "data": {
      "text/html": [
       "<ol class=list-inline>\n",
       "\t<li>2</li>\n",
       "\t<li>1</li>\n",
       "\t<li>1</li>\n",
       "\t<li>0</li>\n",
       "\t<li>1</li>\n",
       "</ol>\n"
      ],
      "text/latex": [
       "\\begin{enumerate*}\n",
       "\\item 2\n",
       "\\item 1\n",
       "\\item 1\n",
       "\\item 0\n",
       "\\item 1\n",
       "\\end{enumerate*}\n"
      ],
      "text/markdown": [
       "1. 2\n",
       "2. 1\n",
       "3. 1\n",
       "4. 0\n",
       "5. 1\n",
       "\n",
       "\n"
      ],
      "text/plain": [
       "[1] 2 1 1 0 1"
      ]
     },
     "metadata": {},
     "output_type": "display_data"
    }
   ],
   "source": [
    "tabulate(c(1,1,2,3,5))"
   ]
  },
  {
   "cell_type": "code",
   "execution_count": 89,
   "metadata": {},
   "outputs": [
    {
     "data": {
      "text/html": [
       "<ol class=list-inline>\n",
       "\t<li>0</li>\n",
       "\t<li>1</li>\n",
       "\t<li>2</li>\n",
       "\t<li>0</li>\n",
       "\t<li>1</li>\n",
       "\t<li>0</li>\n",
       "\t<li>0</li>\n",
       "\t<li>0</li>\n",
       "\t<li>0</li>\n",
       "\t<li>0</li>\n",
       "</ol>\n"
      ],
      "text/latex": [
       "\\begin{enumerate*}\n",
       "\\item 0\n",
       "\\item 1\n",
       "\\item 2\n",
       "\\item 0\n",
       "\\item 1\n",
       "\\item 0\n",
       "\\item 0\n",
       "\\item 0\n",
       "\\item 0\n",
       "\\item 0\n",
       "\\end{enumerate*}\n"
      ],
      "text/markdown": [
       "1. 0\n",
       "2. 1\n",
       "3. 2\n",
       "4. 0\n",
       "5. 1\n",
       "6. 0\n",
       "7. 0\n",
       "8. 0\n",
       "9. 0\n",
       "10. 0\n",
       "\n",
       "\n"
      ],
      "text/plain": [
       " [1] 0 1 2 0 1 0 0 0 0 0"
      ]
     },
     "metadata": {},
     "output_type": "display_data"
    }
   ],
   "source": [
    "tabulate(c(2,3,3,5), nbins = 10)"
   ]
  },
  {
   "cell_type": "code",
   "execution_count": 90,
   "metadata": {},
   "outputs": [
    {
     "data": {
      "text/html": [
       "<ol class=list-inline>\n",
       "\t<li>1</li>\n",
       "\t<li>3</li>\n",
       "\t<li>2</li>\n",
       "\t<li>0</li>\n",
       "\t<li>1</li>\n",
       "</ol>\n"
      ],
      "text/latex": [
       "\\begin{enumerate*}\n",
       "\\item 1\n",
       "\\item 3\n",
       "\\item 2\n",
       "\\item 0\n",
       "\\item 1\n",
       "\\end{enumerate*}\n"
      ],
      "text/markdown": [
       "1. 1\n",
       "2. 3\n",
       "3. 2\n",
       "4. 0\n",
       "5. 1\n",
       "\n",
       "\n"
      ],
      "text/plain": [
       "[1] 1 3 2 0 1"
      ]
     },
     "metadata": {},
     "output_type": "display_data"
    }
   ],
   "source": [
    "tabulate(c(-2,1,0,2,2,2,3,3,5))"
   ]
  },
  {
   "cell_type": "markdown",
   "metadata": {},
   "source": [
    "# 25.which() function"
   ]
  },
  {
   "cell_type": "markdown",
   "metadata": {},
   "source": [
    "The which() function in R returns the position or the index of the value which satisfies the given condition. The Which() function in R gives you the position of the value in a logical vector. The position can be of anything like rows, columns and even vector as well"
   ]
  },
  {
   "cell_type": "code",
   "execution_count": 91,
   "metadata": {},
   "outputs": [
    {
     "data": {
      "text/html": [
       "16"
      ],
      "text/latex": [
       "16"
      ],
      "text/markdown": [
       "16"
      ],
      "text/plain": [
       "[1] 16"
      ]
     },
     "metadata": {},
     "output_type": "display_data"
    }
   ],
   "source": [
    "which(letters==\"p\")"
   ]
  },
  {
   "cell_type": "code",
   "execution_count": 92,
   "metadata": {},
   "outputs": [
    {
     "data": {
      "text/html": [
       "15"
      ],
      "text/latex": [
       "15"
      ],
      "text/markdown": [
       "15"
      ],
      "text/plain": [
       "[1] 15"
      ]
     },
     "metadata": {},
     "output_type": "display_data"
    }
   ],
   "source": [
    "which(letters==\"o\")"
   ]
  },
  {
   "cell_type": "code",
   "execution_count": 93,
   "metadata": {},
   "outputs": [
    {
     "data": {
      "text/html": [
       "4"
      ],
      "text/latex": [
       "4"
      ],
      "text/markdown": [
       "4"
      ],
      "text/plain": [
       "[1] 4"
      ]
     },
     "metadata": {},
     "output_type": "display_data"
    }
   ],
   "source": [
    "df<- c(5,4,3,2,1)\n",
    "which(df ==2)"
   ]
  },
  {
   "cell_type": "code",
   "execution_count": 94,
   "metadata": {},
   "outputs": [
    {
     "data": {
      "text/html": [
       "<table>\n",
       "<thead><tr><th scope=col>Time</th><th scope=col>demand</th></tr></thead>\n",
       "<tbody>\n",
       "\t<tr><td>1   </td><td> 8.3</td></tr>\n",
       "\t<tr><td>2   </td><td>10.3</td></tr>\n",
       "\t<tr><td>3   </td><td>19.0</td></tr>\n",
       "\t<tr><td>4   </td><td>16.0</td></tr>\n",
       "\t<tr><td>5   </td><td>15.6</td></tr>\n",
       "\t<tr><td>7   </td><td>19.8</td></tr>\n",
       "</tbody>\n",
       "</table>\n"
      ],
      "text/latex": [
       "\\begin{tabular}{r|ll}\n",
       " Time & demand\\\\\n",
       "\\hline\n",
       "\t 1    &  8.3\\\\\n",
       "\t 2    & 10.3\\\\\n",
       "\t 3    & 19.0\\\\\n",
       "\t 4    & 16.0\\\\\n",
       "\t 5    & 15.6\\\\\n",
       "\t 7    & 19.8\\\\\n",
       "\\end{tabular}\n"
      ],
      "text/markdown": [
       "\n",
       "| Time | demand |\n",
       "|---|---|\n",
       "| 1    |  8.3 |\n",
       "| 2    | 10.3 |\n",
       "| 3    | 19.0 |\n",
       "| 4    | 16.0 |\n",
       "| 5    | 15.6 |\n",
       "| 7    | 19.8 |\n",
       "\n"
      ],
      "text/plain": [
       "  Time demand\n",
       "1 1     8.3  \n",
       "2 2    10.3  \n",
       "3 3    19.0  \n",
       "4 4    16.0  \n",
       "5 5    15.6  \n",
       "6 7    19.8  "
      ]
     },
     "metadata": {},
     "output_type": "display_data"
    }
   ],
   "source": [
    "df<-datasets::BOD\n",
    "df"
   ]
  },
  {
   "cell_type": "code",
   "execution_count": 95,
   "metadata": {},
   "outputs": [
    {
     "data": {
      "text/html": [
       "2"
      ],
      "text/latex": [
       "2"
      ],
      "text/markdown": [
       "2"
      ],
      "text/plain": [
       "[1] 2"
      ]
     },
     "metadata": {},
     "output_type": "display_data"
    }
   ],
   "source": [
    "which(df['demand']=='10.3')"
   ]
  },
  {
   "cell_type": "markdown",
   "metadata": {},
   "source": [
    "# 26. colnames"
   ]
  },
  {
   "cell_type": "code",
   "execution_count": 96,
   "metadata": {},
   "outputs": [
    {
     "data": {
      "text/html": [
       "<table>\n",
       "<thead><tr><th scope=col>Sepal.Length</th><th scope=col>Sepal.Width</th><th scope=col>Petal.Length</th><th scope=col>Petal.Width</th><th scope=col>Species</th></tr></thead>\n",
       "<tbody>\n",
       "\t<tr><td>5.1   </td><td>3.5   </td><td>1.4   </td><td>0.2   </td><td>setosa</td></tr>\n",
       "\t<tr><td>4.9   </td><td>3.0   </td><td>1.4   </td><td>0.2   </td><td>setosa</td></tr>\n",
       "\t<tr><td>4.7   </td><td>3.2   </td><td>1.3   </td><td>0.2   </td><td>setosa</td></tr>\n",
       "\t<tr><td>4.6   </td><td>3.1   </td><td>1.5   </td><td>0.2   </td><td>setosa</td></tr>\n",
       "\t<tr><td>5.0   </td><td>3.6   </td><td>1.4   </td><td>0.2   </td><td>setosa</td></tr>\n",
       "\t<tr><td>5.4   </td><td>3.9   </td><td>1.7   </td><td>0.4   </td><td>setosa</td></tr>\n",
       "\t<tr><td>4.6   </td><td>3.4   </td><td>1.4   </td><td>0.3   </td><td>setosa</td></tr>\n",
       "\t<tr><td>5.0   </td><td>3.4   </td><td>1.5   </td><td>0.2   </td><td>setosa</td></tr>\n",
       "\t<tr><td>4.4   </td><td>2.9   </td><td>1.4   </td><td>0.2   </td><td>setosa</td></tr>\n",
       "\t<tr><td>4.9   </td><td>3.1   </td><td>1.5   </td><td>0.1   </td><td>setosa</td></tr>\n",
       "\t<tr><td>5.4   </td><td>3.7   </td><td>1.5   </td><td>0.2   </td><td>setosa</td></tr>\n",
       "\t<tr><td>4.8   </td><td>3.4   </td><td>1.6   </td><td>0.2   </td><td>setosa</td></tr>\n",
       "\t<tr><td>4.8   </td><td>3.0   </td><td>1.4   </td><td>0.1   </td><td>setosa</td></tr>\n",
       "\t<tr><td>4.3   </td><td>3.0   </td><td>1.1   </td><td>0.1   </td><td>setosa</td></tr>\n",
       "\t<tr><td>5.8   </td><td>4.0   </td><td>1.2   </td><td>0.2   </td><td>setosa</td></tr>\n",
       "\t<tr><td>5.7   </td><td>4.4   </td><td>1.5   </td><td>0.4   </td><td>setosa</td></tr>\n",
       "\t<tr><td>5.4   </td><td>3.9   </td><td>1.3   </td><td>0.4   </td><td>setosa</td></tr>\n",
       "\t<tr><td>5.1   </td><td>3.5   </td><td>1.4   </td><td>0.3   </td><td>setosa</td></tr>\n",
       "\t<tr><td>5.7   </td><td>3.8   </td><td>1.7   </td><td>0.3   </td><td>setosa</td></tr>\n",
       "\t<tr><td>5.1   </td><td>3.8   </td><td>1.5   </td><td>0.3   </td><td>setosa</td></tr>\n",
       "\t<tr><td>5.4   </td><td>3.4   </td><td>1.7   </td><td>0.2   </td><td>setosa</td></tr>\n",
       "\t<tr><td>5.1   </td><td>3.7   </td><td>1.5   </td><td>0.4   </td><td>setosa</td></tr>\n",
       "\t<tr><td>4.6   </td><td>3.6   </td><td>1.0   </td><td>0.2   </td><td>setosa</td></tr>\n",
       "\t<tr><td>5.1   </td><td>3.3   </td><td>1.7   </td><td>0.5   </td><td>setosa</td></tr>\n",
       "\t<tr><td>4.8   </td><td>3.4   </td><td>1.9   </td><td>0.2   </td><td>setosa</td></tr>\n",
       "\t<tr><td>5.0   </td><td>3.0   </td><td>1.6   </td><td>0.2   </td><td>setosa</td></tr>\n",
       "\t<tr><td>5.0   </td><td>3.4   </td><td>1.6   </td><td>0.4   </td><td>setosa</td></tr>\n",
       "\t<tr><td>5.2   </td><td>3.5   </td><td>1.5   </td><td>0.2   </td><td>setosa</td></tr>\n",
       "\t<tr><td>5.2   </td><td>3.4   </td><td>1.4   </td><td>0.2   </td><td>setosa</td></tr>\n",
       "\t<tr><td>4.7   </td><td>3.2   </td><td>1.6   </td><td>0.2   </td><td>setosa</td></tr>\n",
       "\t<tr><td>...</td><td>...</td><td>...</td><td>...</td><td>...</td></tr>\n",
       "\t<tr><td>6.9      </td><td>3.2      </td><td>5.7      </td><td>2.3      </td><td>virginica</td></tr>\n",
       "\t<tr><td>5.6      </td><td>2.8      </td><td>4.9      </td><td>2.0      </td><td>virginica</td></tr>\n",
       "\t<tr><td>7.7      </td><td>2.8      </td><td>6.7      </td><td>2.0      </td><td>virginica</td></tr>\n",
       "\t<tr><td>6.3      </td><td>2.7      </td><td>4.9      </td><td>1.8      </td><td>virginica</td></tr>\n",
       "\t<tr><td>6.7      </td><td>3.3      </td><td>5.7      </td><td>2.1      </td><td>virginica</td></tr>\n",
       "\t<tr><td>7.2      </td><td>3.2      </td><td>6.0      </td><td>1.8      </td><td>virginica</td></tr>\n",
       "\t<tr><td>6.2      </td><td>2.8      </td><td>4.8      </td><td>1.8      </td><td>virginica</td></tr>\n",
       "\t<tr><td>6.1      </td><td>3.0      </td><td>4.9      </td><td>1.8      </td><td>virginica</td></tr>\n",
       "\t<tr><td>6.4      </td><td>2.8      </td><td>5.6      </td><td>2.1      </td><td>virginica</td></tr>\n",
       "\t<tr><td>7.2      </td><td>3.0      </td><td>5.8      </td><td>1.6      </td><td>virginica</td></tr>\n",
       "\t<tr><td>7.4      </td><td>2.8      </td><td>6.1      </td><td>1.9      </td><td>virginica</td></tr>\n",
       "\t<tr><td>7.9      </td><td>3.8      </td><td>6.4      </td><td>2.0      </td><td>virginica</td></tr>\n",
       "\t<tr><td>6.4      </td><td>2.8      </td><td>5.6      </td><td>2.2      </td><td>virginica</td></tr>\n",
       "\t<tr><td>6.3      </td><td>2.8      </td><td>5.1      </td><td>1.5      </td><td>virginica</td></tr>\n",
       "\t<tr><td>6.1      </td><td>2.6      </td><td>5.6      </td><td>1.4      </td><td>virginica</td></tr>\n",
       "\t<tr><td>7.7      </td><td>3.0      </td><td>6.1      </td><td>2.3      </td><td>virginica</td></tr>\n",
       "\t<tr><td>6.3      </td><td>3.4      </td><td>5.6      </td><td>2.4      </td><td>virginica</td></tr>\n",
       "\t<tr><td>6.4      </td><td>3.1      </td><td>5.5      </td><td>1.8      </td><td>virginica</td></tr>\n",
       "\t<tr><td>6.0      </td><td>3.0      </td><td>4.8      </td><td>1.8      </td><td>virginica</td></tr>\n",
       "\t<tr><td>6.9      </td><td>3.1      </td><td>5.4      </td><td>2.1      </td><td>virginica</td></tr>\n",
       "\t<tr><td>6.7      </td><td>3.1      </td><td>5.6      </td><td>2.4      </td><td>virginica</td></tr>\n",
       "\t<tr><td>6.9      </td><td>3.1      </td><td>5.1      </td><td>2.3      </td><td>virginica</td></tr>\n",
       "\t<tr><td>5.8      </td><td>2.7      </td><td>5.1      </td><td>1.9      </td><td>virginica</td></tr>\n",
       "\t<tr><td>6.8      </td><td>3.2      </td><td>5.9      </td><td>2.3      </td><td>virginica</td></tr>\n",
       "\t<tr><td>6.7      </td><td>3.3      </td><td>5.7      </td><td>2.5      </td><td>virginica</td></tr>\n",
       "\t<tr><td>6.7      </td><td>3.0      </td><td>5.2      </td><td>2.3      </td><td>virginica</td></tr>\n",
       "\t<tr><td>6.3      </td><td>2.5      </td><td>5.0      </td><td>1.9      </td><td>virginica</td></tr>\n",
       "\t<tr><td>6.5      </td><td>3.0      </td><td>5.2      </td><td>2.0      </td><td>virginica</td></tr>\n",
       "\t<tr><td>6.2      </td><td>3.4      </td><td>5.4      </td><td>2.3      </td><td>virginica</td></tr>\n",
       "\t<tr><td>5.9      </td><td>3.0      </td><td>5.1      </td><td>1.8      </td><td>virginica</td></tr>\n",
       "</tbody>\n",
       "</table>\n"
      ],
      "text/latex": [
       "\\begin{tabular}{r|lllll}\n",
       " Sepal.Length & Sepal.Width & Petal.Length & Petal.Width & Species\\\\\n",
       "\\hline\n",
       "\t 5.1    & 3.5    & 1.4    & 0.2    & setosa\\\\\n",
       "\t 4.9    & 3.0    & 1.4    & 0.2    & setosa\\\\\n",
       "\t 4.7    & 3.2    & 1.3    & 0.2    & setosa\\\\\n",
       "\t 4.6    & 3.1    & 1.5    & 0.2    & setosa\\\\\n",
       "\t 5.0    & 3.6    & 1.4    & 0.2    & setosa\\\\\n",
       "\t 5.4    & 3.9    & 1.7    & 0.4    & setosa\\\\\n",
       "\t 4.6    & 3.4    & 1.4    & 0.3    & setosa\\\\\n",
       "\t 5.0    & 3.4    & 1.5    & 0.2    & setosa\\\\\n",
       "\t 4.4    & 2.9    & 1.4    & 0.2    & setosa\\\\\n",
       "\t 4.9    & 3.1    & 1.5    & 0.1    & setosa\\\\\n",
       "\t 5.4    & 3.7    & 1.5    & 0.2    & setosa\\\\\n",
       "\t 4.8    & 3.4    & 1.6    & 0.2    & setosa\\\\\n",
       "\t 4.8    & 3.0    & 1.4    & 0.1    & setosa\\\\\n",
       "\t 4.3    & 3.0    & 1.1    & 0.1    & setosa\\\\\n",
       "\t 5.8    & 4.0    & 1.2    & 0.2    & setosa\\\\\n",
       "\t 5.7    & 4.4    & 1.5    & 0.4    & setosa\\\\\n",
       "\t 5.4    & 3.9    & 1.3    & 0.4    & setosa\\\\\n",
       "\t 5.1    & 3.5    & 1.4    & 0.3    & setosa\\\\\n",
       "\t 5.7    & 3.8    & 1.7    & 0.3    & setosa\\\\\n",
       "\t 5.1    & 3.8    & 1.5    & 0.3    & setosa\\\\\n",
       "\t 5.4    & 3.4    & 1.7    & 0.2    & setosa\\\\\n",
       "\t 5.1    & 3.7    & 1.5    & 0.4    & setosa\\\\\n",
       "\t 4.6    & 3.6    & 1.0    & 0.2    & setosa\\\\\n",
       "\t 5.1    & 3.3    & 1.7    & 0.5    & setosa\\\\\n",
       "\t 4.8    & 3.4    & 1.9    & 0.2    & setosa\\\\\n",
       "\t 5.0    & 3.0    & 1.6    & 0.2    & setosa\\\\\n",
       "\t 5.0    & 3.4    & 1.6    & 0.4    & setosa\\\\\n",
       "\t 5.2    & 3.5    & 1.5    & 0.2    & setosa\\\\\n",
       "\t 5.2    & 3.4    & 1.4    & 0.2    & setosa\\\\\n",
       "\t 4.7    & 3.2    & 1.6    & 0.2    & setosa\\\\\n",
       "\t ... & ... & ... & ... & ...\\\\\n",
       "\t 6.9       & 3.2       & 5.7       & 2.3       & virginica\\\\\n",
       "\t 5.6       & 2.8       & 4.9       & 2.0       & virginica\\\\\n",
       "\t 7.7       & 2.8       & 6.7       & 2.0       & virginica\\\\\n",
       "\t 6.3       & 2.7       & 4.9       & 1.8       & virginica\\\\\n",
       "\t 6.7       & 3.3       & 5.7       & 2.1       & virginica\\\\\n",
       "\t 7.2       & 3.2       & 6.0       & 1.8       & virginica\\\\\n",
       "\t 6.2       & 2.8       & 4.8       & 1.8       & virginica\\\\\n",
       "\t 6.1       & 3.0       & 4.9       & 1.8       & virginica\\\\\n",
       "\t 6.4       & 2.8       & 5.6       & 2.1       & virginica\\\\\n",
       "\t 7.2       & 3.0       & 5.8       & 1.6       & virginica\\\\\n",
       "\t 7.4       & 2.8       & 6.1       & 1.9       & virginica\\\\\n",
       "\t 7.9       & 3.8       & 6.4       & 2.0       & virginica\\\\\n",
       "\t 6.4       & 2.8       & 5.6       & 2.2       & virginica\\\\\n",
       "\t 6.3       & 2.8       & 5.1       & 1.5       & virginica\\\\\n",
       "\t 6.1       & 2.6       & 5.6       & 1.4       & virginica\\\\\n",
       "\t 7.7       & 3.0       & 6.1       & 2.3       & virginica\\\\\n",
       "\t 6.3       & 3.4       & 5.6       & 2.4       & virginica\\\\\n",
       "\t 6.4       & 3.1       & 5.5       & 1.8       & virginica\\\\\n",
       "\t 6.0       & 3.0       & 4.8       & 1.8       & virginica\\\\\n",
       "\t 6.9       & 3.1       & 5.4       & 2.1       & virginica\\\\\n",
       "\t 6.7       & 3.1       & 5.6       & 2.4       & virginica\\\\\n",
       "\t 6.9       & 3.1       & 5.1       & 2.3       & virginica\\\\\n",
       "\t 5.8       & 2.7       & 5.1       & 1.9       & virginica\\\\\n",
       "\t 6.8       & 3.2       & 5.9       & 2.3       & virginica\\\\\n",
       "\t 6.7       & 3.3       & 5.7       & 2.5       & virginica\\\\\n",
       "\t 6.7       & 3.0       & 5.2       & 2.3       & virginica\\\\\n",
       "\t 6.3       & 2.5       & 5.0       & 1.9       & virginica\\\\\n",
       "\t 6.5       & 3.0       & 5.2       & 2.0       & virginica\\\\\n",
       "\t 6.2       & 3.4       & 5.4       & 2.3       & virginica\\\\\n",
       "\t 5.9       & 3.0       & 5.1       & 1.8       & virginica\\\\\n",
       "\\end{tabular}\n"
      ],
      "text/markdown": [
       "\n",
       "| Sepal.Length | Sepal.Width | Petal.Length | Petal.Width | Species |\n",
       "|---|---|---|---|---|\n",
       "| 5.1    | 3.5    | 1.4    | 0.2    | setosa |\n",
       "| 4.9    | 3.0    | 1.4    | 0.2    | setosa |\n",
       "| 4.7    | 3.2    | 1.3    | 0.2    | setosa |\n",
       "| 4.6    | 3.1    | 1.5    | 0.2    | setosa |\n",
       "| 5.0    | 3.6    | 1.4    | 0.2    | setosa |\n",
       "| 5.4    | 3.9    | 1.7    | 0.4    | setosa |\n",
       "| 4.6    | 3.4    | 1.4    | 0.3    | setosa |\n",
       "| 5.0    | 3.4    | 1.5    | 0.2    | setosa |\n",
       "| 4.4    | 2.9    | 1.4    | 0.2    | setosa |\n",
       "| 4.9    | 3.1    | 1.5    | 0.1    | setosa |\n",
       "| 5.4    | 3.7    | 1.5    | 0.2    | setosa |\n",
       "| 4.8    | 3.4    | 1.6    | 0.2    | setosa |\n",
       "| 4.8    | 3.0    | 1.4    | 0.1    | setosa |\n",
       "| 4.3    | 3.0    | 1.1    | 0.1    | setosa |\n",
       "| 5.8    | 4.0    | 1.2    | 0.2    | setosa |\n",
       "| 5.7    | 4.4    | 1.5    | 0.4    | setosa |\n",
       "| 5.4    | 3.9    | 1.3    | 0.4    | setosa |\n",
       "| 5.1    | 3.5    | 1.4    | 0.3    | setosa |\n",
       "| 5.7    | 3.8    | 1.7    | 0.3    | setosa |\n",
       "| 5.1    | 3.8    | 1.5    | 0.3    | setosa |\n",
       "| 5.4    | 3.4    | 1.7    | 0.2    | setosa |\n",
       "| 5.1    | 3.7    | 1.5    | 0.4    | setosa |\n",
       "| 4.6    | 3.6    | 1.0    | 0.2    | setosa |\n",
       "| 5.1    | 3.3    | 1.7    | 0.5    | setosa |\n",
       "| 4.8    | 3.4    | 1.9    | 0.2    | setosa |\n",
       "| 5.0    | 3.0    | 1.6    | 0.2    | setosa |\n",
       "| 5.0    | 3.4    | 1.6    | 0.4    | setosa |\n",
       "| 5.2    | 3.5    | 1.5    | 0.2    | setosa |\n",
       "| 5.2    | 3.4    | 1.4    | 0.2    | setosa |\n",
       "| 4.7    | 3.2    | 1.6    | 0.2    | setosa |\n",
       "| ... | ... | ... | ... | ... |\n",
       "| 6.9       | 3.2       | 5.7       | 2.3       | virginica |\n",
       "| 5.6       | 2.8       | 4.9       | 2.0       | virginica |\n",
       "| 7.7       | 2.8       | 6.7       | 2.0       | virginica |\n",
       "| 6.3       | 2.7       | 4.9       | 1.8       | virginica |\n",
       "| 6.7       | 3.3       | 5.7       | 2.1       | virginica |\n",
       "| 7.2       | 3.2       | 6.0       | 1.8       | virginica |\n",
       "| 6.2       | 2.8       | 4.8       | 1.8       | virginica |\n",
       "| 6.1       | 3.0       | 4.9       | 1.8       | virginica |\n",
       "| 6.4       | 2.8       | 5.6       | 2.1       | virginica |\n",
       "| 7.2       | 3.0       | 5.8       | 1.6       | virginica |\n",
       "| 7.4       | 2.8       | 6.1       | 1.9       | virginica |\n",
       "| 7.9       | 3.8       | 6.4       | 2.0       | virginica |\n",
       "| 6.4       | 2.8       | 5.6       | 2.2       | virginica |\n",
       "| 6.3       | 2.8       | 5.1       | 1.5       | virginica |\n",
       "| 6.1       | 2.6       | 5.6       | 1.4       | virginica |\n",
       "| 7.7       | 3.0       | 6.1       | 2.3       | virginica |\n",
       "| 6.3       | 3.4       | 5.6       | 2.4       | virginica |\n",
       "| 6.4       | 3.1       | 5.5       | 1.8       | virginica |\n",
       "| 6.0       | 3.0       | 4.8       | 1.8       | virginica |\n",
       "| 6.9       | 3.1       | 5.4       | 2.1       | virginica |\n",
       "| 6.7       | 3.1       | 5.6       | 2.4       | virginica |\n",
       "| 6.9       | 3.1       | 5.1       | 2.3       | virginica |\n",
       "| 5.8       | 2.7       | 5.1       | 1.9       | virginica |\n",
       "| 6.8       | 3.2       | 5.9       | 2.3       | virginica |\n",
       "| 6.7       | 3.3       | 5.7       | 2.5       | virginica |\n",
       "| 6.7       | 3.0       | 5.2       | 2.3       | virginica |\n",
       "| 6.3       | 2.5       | 5.0       | 1.9       | virginica |\n",
       "| 6.5       | 3.0       | 5.2       | 2.0       | virginica |\n",
       "| 6.2       | 3.4       | 5.4       | 2.3       | virginica |\n",
       "| 5.9       | 3.0       | 5.1       | 1.8       | virginica |\n",
       "\n"
      ],
      "text/plain": [
       "    Sepal.Length Sepal.Width Petal.Length Petal.Width Species  \n",
       "1   5.1          3.5         1.4          0.2         setosa   \n",
       "2   4.9          3.0         1.4          0.2         setosa   \n",
       "3   4.7          3.2         1.3          0.2         setosa   \n",
       "4   4.6          3.1         1.5          0.2         setosa   \n",
       "5   5.0          3.6         1.4          0.2         setosa   \n",
       "6   5.4          3.9         1.7          0.4         setosa   \n",
       "7   4.6          3.4         1.4          0.3         setosa   \n",
       "8   5.0          3.4         1.5          0.2         setosa   \n",
       "9   4.4          2.9         1.4          0.2         setosa   \n",
       "10  4.9          3.1         1.5          0.1         setosa   \n",
       "11  5.4          3.7         1.5          0.2         setosa   \n",
       "12  4.8          3.4         1.6          0.2         setosa   \n",
       "13  4.8          3.0         1.4          0.1         setosa   \n",
       "14  4.3          3.0         1.1          0.1         setosa   \n",
       "15  5.8          4.0         1.2          0.2         setosa   \n",
       "16  5.7          4.4         1.5          0.4         setosa   \n",
       "17  5.4          3.9         1.3          0.4         setosa   \n",
       "18  5.1          3.5         1.4          0.3         setosa   \n",
       "19  5.7          3.8         1.7          0.3         setosa   \n",
       "20  5.1          3.8         1.5          0.3         setosa   \n",
       "21  5.4          3.4         1.7          0.2         setosa   \n",
       "22  5.1          3.7         1.5          0.4         setosa   \n",
       "23  4.6          3.6         1.0          0.2         setosa   \n",
       "24  5.1          3.3         1.7          0.5         setosa   \n",
       "25  4.8          3.4         1.9          0.2         setosa   \n",
       "26  5.0          3.0         1.6          0.2         setosa   \n",
       "27  5.0          3.4         1.6          0.4         setosa   \n",
       "28  5.2          3.5         1.5          0.2         setosa   \n",
       "29  5.2          3.4         1.4          0.2         setosa   \n",
       "30  4.7          3.2         1.6          0.2         setosa   \n",
       "... ...          ...         ...          ...         ...      \n",
       "121 6.9          3.2         5.7          2.3         virginica\n",
       "122 5.6          2.8         4.9          2.0         virginica\n",
       "123 7.7          2.8         6.7          2.0         virginica\n",
       "124 6.3          2.7         4.9          1.8         virginica\n",
       "125 6.7          3.3         5.7          2.1         virginica\n",
       "126 7.2          3.2         6.0          1.8         virginica\n",
       "127 6.2          2.8         4.8          1.8         virginica\n",
       "128 6.1          3.0         4.9          1.8         virginica\n",
       "129 6.4          2.8         5.6          2.1         virginica\n",
       "130 7.2          3.0         5.8          1.6         virginica\n",
       "131 7.4          2.8         6.1          1.9         virginica\n",
       "132 7.9          3.8         6.4          2.0         virginica\n",
       "133 6.4          2.8         5.6          2.2         virginica\n",
       "134 6.3          2.8         5.1          1.5         virginica\n",
       "135 6.1          2.6         5.6          1.4         virginica\n",
       "136 7.7          3.0         6.1          2.3         virginica\n",
       "137 6.3          3.4         5.6          2.4         virginica\n",
       "138 6.4          3.1         5.5          1.8         virginica\n",
       "139 6.0          3.0         4.8          1.8         virginica\n",
       "140 6.9          3.1         5.4          2.1         virginica\n",
       "141 6.7          3.1         5.6          2.4         virginica\n",
       "142 6.9          3.1         5.1          2.3         virginica\n",
       "143 5.8          2.7         5.1          1.9         virginica\n",
       "144 6.8          3.2         5.9          2.3         virginica\n",
       "145 6.7          3.3         5.7          2.5         virginica\n",
       "146 6.7          3.0         5.2          2.3         virginica\n",
       "147 6.3          2.5         5.0          1.9         virginica\n",
       "148 6.5          3.0         5.2          2.0         virginica\n",
       "149 6.2          3.4         5.4          2.3         virginica\n",
       "150 5.9          3.0         5.1          1.8         virginica"
      ]
     },
     "metadata": {},
     "output_type": "display_data"
    }
   ],
   "source": [
    "df<-datasets::iris\n",
    "df"
   ]
  },
  {
   "cell_type": "code",
   "execution_count": 97,
   "metadata": {},
   "outputs": [
    {
     "data": {
      "text/html": [
       "<ol class=list-inline>\n",
       "\t<li>'Sepal.Length'</li>\n",
       "\t<li>'Sepal.Width'</li>\n",
       "\t<li>'Petal.Length'</li>\n",
       "\t<li>'Petal.Width'</li>\n",
       "</ol>\n"
      ],
      "text/latex": [
       "\\begin{enumerate*}\n",
       "\\item 'Sepal.Length'\n",
       "\\item 'Sepal.Width'\n",
       "\\item 'Petal.Length'\n",
       "\\item 'Petal.Width'\n",
       "\\end{enumerate*}\n"
      ],
      "text/markdown": [
       "1. 'Sepal.Length'\n",
       "2. 'Sepal.Width'\n",
       "3. 'Petal.Length'\n",
       "4. 'Petal.Width'\n",
       "\n",
       "\n"
      ],
      "text/plain": [
       "[1] \"Sepal.Length\" \"Sepal.Width\"  \"Petal.Length\" \"Petal.Width\" "
      ]
     },
     "metadata": {},
     "output_type": "display_data"
    }
   ],
   "source": [
    "test<-which(sapply(df,is.numeric))\n",
    "colnames(df)[test]\n",
    "#test"
   ]
  },
  {
   "cell_type": "markdown",
   "metadata": {},
   "source": [
    "# 27.Omit() function"
   ]
  },
  {
   "cell_type": "markdown",
   "metadata": {},
   "source": [
    "Handling Missing Values in R – Omit() function"
   ]
  },
  {
   "cell_type": "code",
   "execution_count": 98,
   "metadata": {},
   "outputs": [],
   "source": [
    "#Creates a vector with NA values in it\n",
    "df <- c(34,'We25',67,NA,56,87,NA,34,56)"
   ]
  },
  {
   "cell_type": "code",
   "execution_count": 99,
   "metadata": {},
   "outputs": [
    {
     "data": {
      "text/html": [
       "<ol class=list-inline>\n",
       "\t<li>'34'</li>\n",
       "\t<li>'We25'</li>\n",
       "\t<li>'67'</li>\n",
       "\t<li>'56'</li>\n",
       "\t<li>'87'</li>\n",
       "\t<li>'34'</li>\n",
       "\t<li>'56'</li>\n",
       "</ol>\n"
      ],
      "text/latex": [
       "\\begin{enumerate*}\n",
       "\\item '34'\n",
       "\\item 'We25'\n",
       "\\item '67'\n",
       "\\item '56'\n",
       "\\item '87'\n",
       "\\item '34'\n",
       "\\item '56'\n",
       "\\end{enumerate*}\n"
      ],
      "text/markdown": [
       "1. '34'\n",
       "2. 'We25'\n",
       "3. '67'\n",
       "4. '56'\n",
       "5. '87'\n",
       "6. '34'\n",
       "7. '56'\n",
       "\n",
       "\n"
      ],
      "text/plain": [
       "[1] \"34\"   \"We25\" \"67\"   \"56\"   \"87\"   \"34\"   \"56\"  \n",
       "attr(,\"na.action\")\n",
       "[1] 4 7\n",
       "attr(,\"class\")\n",
       "[1] \"omit\""
      ]
     },
     "metadata": {},
     "output_type": "display_data"
    }
   ],
   "source": [
    "na.omit(df)"
   ]
  },
  {
   "cell_type": "code",
   "execution_count": 100,
   "metadata": {},
   "outputs": [],
   "source": [
    "df <- c(34,67,NA,56,87,NA,34,56)"
   ]
  },
  {
   "cell_type": "code",
   "execution_count": 101,
   "metadata": {},
   "outputs": [],
   "source": [
    "#Importing the dataset\n",
    "df <- datasets::airquality"
   ]
  },
  {
   "cell_type": "code",
   "execution_count": 102,
   "metadata": {},
   "outputs": [
    {
     "data": {
      "text/html": [
       "<table>\n",
       "<thead><tr><th></th><th scope=col>Ozone</th><th scope=col>Solar.R</th><th scope=col>Wind</th><th scope=col>Temp</th><th scope=col>Month</th><th scope=col>Day</th></tr></thead>\n",
       "<tbody>\n",
       "\t<tr><th scope=row>1</th><td> 41 </td><td>190 </td><td> 7.4</td><td>67  </td><td>5   </td><td> 1  </td></tr>\n",
       "\t<tr><th scope=row>2</th><td> 36 </td><td>118 </td><td> 8.0</td><td>72  </td><td>5   </td><td> 2  </td></tr>\n",
       "\t<tr><th scope=row>3</th><td> 12 </td><td>149 </td><td>12.6</td><td>74  </td><td>5   </td><td> 3  </td></tr>\n",
       "\t<tr><th scope=row>4</th><td> 18 </td><td>313 </td><td>11.5</td><td>62  </td><td>5   </td><td> 4  </td></tr>\n",
       "\t<tr><th scope=row>7</th><td> 23 </td><td>299 </td><td> 8.6</td><td>65  </td><td>5   </td><td> 7  </td></tr>\n",
       "\t<tr><th scope=row>8</th><td> 19 </td><td> 99 </td><td>13.8</td><td>59  </td><td>5   </td><td> 8  </td></tr>\n",
       "\t<tr><th scope=row>9</th><td>  8 </td><td> 19 </td><td>20.1</td><td>61  </td><td>5   </td><td> 9  </td></tr>\n",
       "\t<tr><th scope=row>12</th><td> 16 </td><td>256 </td><td> 9.7</td><td>69  </td><td>5   </td><td>12  </td></tr>\n",
       "\t<tr><th scope=row>13</th><td> 11 </td><td>290 </td><td> 9.2</td><td>66  </td><td>5   </td><td>13  </td></tr>\n",
       "\t<tr><th scope=row>14</th><td> 14 </td><td>274 </td><td>10.9</td><td>68  </td><td>5   </td><td>14  </td></tr>\n",
       "\t<tr><th scope=row>15</th><td> 18 </td><td> 65 </td><td>13.2</td><td>58  </td><td>5   </td><td>15  </td></tr>\n",
       "\t<tr><th scope=row>16</th><td> 14 </td><td>334 </td><td>11.5</td><td>64  </td><td>5   </td><td>16  </td></tr>\n",
       "\t<tr><th scope=row>17</th><td> 34 </td><td>307 </td><td>12.0</td><td>66  </td><td>5   </td><td>17  </td></tr>\n",
       "\t<tr><th scope=row>18</th><td>  6 </td><td> 78 </td><td>18.4</td><td>57  </td><td>5   </td><td>18  </td></tr>\n",
       "\t<tr><th scope=row>19</th><td> 30 </td><td>322 </td><td>11.5</td><td>68  </td><td>5   </td><td>19  </td></tr>\n",
       "\t<tr><th scope=row>20</th><td> 11 </td><td> 44 </td><td> 9.7</td><td>62  </td><td>5   </td><td>20  </td></tr>\n",
       "\t<tr><th scope=row>21</th><td>  1 </td><td>  8 </td><td> 9.7</td><td>59  </td><td>5   </td><td>21  </td></tr>\n",
       "\t<tr><th scope=row>22</th><td> 11 </td><td>320 </td><td>16.6</td><td>73  </td><td>5   </td><td>22  </td></tr>\n",
       "\t<tr><th scope=row>23</th><td>  4 </td><td> 25 </td><td> 9.7</td><td>61  </td><td>5   </td><td>23  </td></tr>\n",
       "\t<tr><th scope=row>24</th><td> 32 </td><td> 92 </td><td>12.0</td><td>61  </td><td>5   </td><td>24  </td></tr>\n",
       "\t<tr><th scope=row>28</th><td> 23 </td><td> 13 </td><td>12.0</td><td>67  </td><td>5   </td><td>28  </td></tr>\n",
       "\t<tr><th scope=row>29</th><td> 45 </td><td>252 </td><td>14.9</td><td>81  </td><td>5   </td><td>29  </td></tr>\n",
       "\t<tr><th scope=row>30</th><td>115 </td><td>223 </td><td> 5.7</td><td>79  </td><td>5   </td><td>30  </td></tr>\n",
       "\t<tr><th scope=row>31</th><td> 37 </td><td>279 </td><td> 7.4</td><td>76  </td><td>5   </td><td>31  </td></tr>\n",
       "\t<tr><th scope=row>38</th><td> 29 </td><td>127 </td><td> 9.7</td><td>82  </td><td>6   </td><td> 7  </td></tr>\n",
       "\t<tr><th scope=row>40</th><td> 71 </td><td>291 </td><td>13.8</td><td>90  </td><td>6   </td><td> 9  </td></tr>\n",
       "\t<tr><th scope=row>41</th><td> 39 </td><td>323 </td><td>11.5</td><td>87  </td><td>6   </td><td>10  </td></tr>\n",
       "\t<tr><th scope=row>44</th><td> 23 </td><td>148 </td><td> 8.0</td><td>82  </td><td>6   </td><td>13  </td></tr>\n",
       "\t<tr><th scope=row>47</th><td> 21 </td><td>191 </td><td>14.9</td><td>77  </td><td>6   </td><td>16  </td></tr>\n",
       "\t<tr><th scope=row>48</th><td> 37 </td><td>284 </td><td>20.7</td><td>72  </td><td>6   </td><td>17  </td></tr>\n",
       "\t<tr><th scope=row>...</th><td>...</td><td>...</td><td>...</td><td>...</td><td>...</td><td>...</td></tr>\n",
       "\t<tr><th scope=row>123</th><td>85  </td><td>188 </td><td> 6.3</td><td>94  </td><td>8   </td><td>31  </td></tr>\n",
       "\t<tr><th scope=row>124</th><td>96  </td><td>167 </td><td> 6.9</td><td>91  </td><td>9   </td><td> 1  </td></tr>\n",
       "\t<tr><th scope=row>125</th><td>78  </td><td>197 </td><td> 5.1</td><td>92  </td><td>9   </td><td> 2  </td></tr>\n",
       "\t<tr><th scope=row>126</th><td>73  </td><td>183 </td><td> 2.8</td><td>93  </td><td>9   </td><td> 3  </td></tr>\n",
       "\t<tr><th scope=row>127</th><td>91  </td><td>189 </td><td> 4.6</td><td>93  </td><td>9   </td><td> 4  </td></tr>\n",
       "\t<tr><th scope=row>128</th><td>47  </td><td> 95 </td><td> 7.4</td><td>87  </td><td>9   </td><td> 5  </td></tr>\n",
       "\t<tr><th scope=row>129</th><td>32  </td><td> 92 </td><td>15.5</td><td>84  </td><td>9   </td><td> 6  </td></tr>\n",
       "\t<tr><th scope=row>130</th><td>20  </td><td>252 </td><td>10.9</td><td>80  </td><td>9   </td><td> 7  </td></tr>\n",
       "\t<tr><th scope=row>131</th><td>23  </td><td>220 </td><td>10.3</td><td>78  </td><td>9   </td><td> 8  </td></tr>\n",
       "\t<tr><th scope=row>132</th><td>21  </td><td>230 </td><td>10.9</td><td>75  </td><td>9   </td><td> 9  </td></tr>\n",
       "\t<tr><th scope=row>133</th><td>24  </td><td>259 </td><td> 9.7</td><td>73  </td><td>9   </td><td>10  </td></tr>\n",
       "\t<tr><th scope=row>134</th><td>44  </td><td>236 </td><td>14.9</td><td>81  </td><td>9   </td><td>11  </td></tr>\n",
       "\t<tr><th scope=row>135</th><td>21  </td><td>259 </td><td>15.5</td><td>76  </td><td>9   </td><td>12  </td></tr>\n",
       "\t<tr><th scope=row>136</th><td>28  </td><td>238 </td><td> 6.3</td><td>77  </td><td>9   </td><td>13  </td></tr>\n",
       "\t<tr><th scope=row>137</th><td> 9  </td><td> 24 </td><td>10.9</td><td>71  </td><td>9   </td><td>14  </td></tr>\n",
       "\t<tr><th scope=row>138</th><td>13  </td><td>112 </td><td>11.5</td><td>71  </td><td>9   </td><td>15  </td></tr>\n",
       "\t<tr><th scope=row>139</th><td>46  </td><td>237 </td><td> 6.9</td><td>78  </td><td>9   </td><td>16  </td></tr>\n",
       "\t<tr><th scope=row>140</th><td>18  </td><td>224 </td><td>13.8</td><td>67  </td><td>9   </td><td>17  </td></tr>\n",
       "\t<tr><th scope=row>141</th><td>13  </td><td> 27 </td><td>10.3</td><td>76  </td><td>9   </td><td>18  </td></tr>\n",
       "\t<tr><th scope=row>142</th><td>24  </td><td>238 </td><td>10.3</td><td>68  </td><td>9   </td><td>19  </td></tr>\n",
       "\t<tr><th scope=row>143</th><td>16  </td><td>201 </td><td> 8.0</td><td>82  </td><td>9   </td><td>20  </td></tr>\n",
       "\t<tr><th scope=row>144</th><td>13  </td><td>238 </td><td>12.6</td><td>64  </td><td>9   </td><td>21  </td></tr>\n",
       "\t<tr><th scope=row>145</th><td>23  </td><td> 14 </td><td> 9.2</td><td>71  </td><td>9   </td><td>22  </td></tr>\n",
       "\t<tr><th scope=row>146</th><td>36  </td><td>139 </td><td>10.3</td><td>81  </td><td>9   </td><td>23  </td></tr>\n",
       "\t<tr><th scope=row>147</th><td> 7  </td><td> 49 </td><td>10.3</td><td>69  </td><td>9   </td><td>24  </td></tr>\n",
       "\t<tr><th scope=row>148</th><td>14  </td><td> 20 </td><td>16.6</td><td>63  </td><td>9   </td><td>25  </td></tr>\n",
       "\t<tr><th scope=row>149</th><td>30  </td><td>193 </td><td> 6.9</td><td>70  </td><td>9   </td><td>26  </td></tr>\n",
       "\t<tr><th scope=row>151</th><td>14  </td><td>191 </td><td>14.3</td><td>75  </td><td>9   </td><td>28  </td></tr>\n",
       "\t<tr><th scope=row>152</th><td>18  </td><td>131 </td><td> 8.0</td><td>76  </td><td>9   </td><td>29  </td></tr>\n",
       "\t<tr><th scope=row>153</th><td>20  </td><td>223 </td><td>11.5</td><td>68  </td><td>9   </td><td>30  </td></tr>\n",
       "</tbody>\n",
       "</table>\n"
      ],
      "text/latex": [
       "\\begin{tabular}{r|llllll}\n",
       "  & Ozone & Solar.R & Wind & Temp & Month & Day\\\\\n",
       "\\hline\n",
       "\t1 &  41  & 190  &  7.4 & 67   & 5    &  1  \\\\\n",
       "\t2 &  36  & 118  &  8.0 & 72   & 5    &  2  \\\\\n",
       "\t3 &  12  & 149  & 12.6 & 74   & 5    &  3  \\\\\n",
       "\t4 &  18  & 313  & 11.5 & 62   & 5    &  4  \\\\\n",
       "\t7 &  23  & 299  &  8.6 & 65   & 5    &  7  \\\\\n",
       "\t8 &  19  &  99  & 13.8 & 59   & 5    &  8  \\\\\n",
       "\t9 &   8  &  19  & 20.1 & 61   & 5    &  9  \\\\\n",
       "\t12 &  16  & 256  &  9.7 & 69   & 5    & 12  \\\\\n",
       "\t13 &  11  & 290  &  9.2 & 66   & 5    & 13  \\\\\n",
       "\t14 &  14  & 274  & 10.9 & 68   & 5    & 14  \\\\\n",
       "\t15 &  18  &  65  & 13.2 & 58   & 5    & 15  \\\\\n",
       "\t16 &  14  & 334  & 11.5 & 64   & 5    & 16  \\\\\n",
       "\t17 &  34  & 307  & 12.0 & 66   & 5    & 17  \\\\\n",
       "\t18 &   6  &  78  & 18.4 & 57   & 5    & 18  \\\\\n",
       "\t19 &  30  & 322  & 11.5 & 68   & 5    & 19  \\\\\n",
       "\t20 &  11  &  44  &  9.7 & 62   & 5    & 20  \\\\\n",
       "\t21 &   1  &   8  &  9.7 & 59   & 5    & 21  \\\\\n",
       "\t22 &  11  & 320  & 16.6 & 73   & 5    & 22  \\\\\n",
       "\t23 &   4  &  25  &  9.7 & 61   & 5    & 23  \\\\\n",
       "\t24 &  32  &  92  & 12.0 & 61   & 5    & 24  \\\\\n",
       "\t28 &  23  &  13  & 12.0 & 67   & 5    & 28  \\\\\n",
       "\t29 &  45  & 252  & 14.9 & 81   & 5    & 29  \\\\\n",
       "\t30 & 115  & 223  &  5.7 & 79   & 5    & 30  \\\\\n",
       "\t31 &  37  & 279  &  7.4 & 76   & 5    & 31  \\\\\n",
       "\t38 &  29  & 127  &  9.7 & 82   & 6    &  7  \\\\\n",
       "\t40 &  71  & 291  & 13.8 & 90   & 6    &  9  \\\\\n",
       "\t41 &  39  & 323  & 11.5 & 87   & 6    & 10  \\\\\n",
       "\t44 &  23  & 148  &  8.0 & 82   & 6    & 13  \\\\\n",
       "\t47 &  21  & 191  & 14.9 & 77   & 6    & 16  \\\\\n",
       "\t48 &  37  & 284  & 20.7 & 72   & 6    & 17  \\\\\n",
       "\t... & ... & ... & ... & ... & ... & ...\\\\\n",
       "\t123 & 85   & 188  &  6.3 & 94   & 8    & 31  \\\\\n",
       "\t124 & 96   & 167  &  6.9 & 91   & 9    &  1  \\\\\n",
       "\t125 & 78   & 197  &  5.1 & 92   & 9    &  2  \\\\\n",
       "\t126 & 73   & 183  &  2.8 & 93   & 9    &  3  \\\\\n",
       "\t127 & 91   & 189  &  4.6 & 93   & 9    &  4  \\\\\n",
       "\t128 & 47   &  95  &  7.4 & 87   & 9    &  5  \\\\\n",
       "\t129 & 32   &  92  & 15.5 & 84   & 9    &  6  \\\\\n",
       "\t130 & 20   & 252  & 10.9 & 80   & 9    &  7  \\\\\n",
       "\t131 & 23   & 220  & 10.3 & 78   & 9    &  8  \\\\\n",
       "\t132 & 21   & 230  & 10.9 & 75   & 9    &  9  \\\\\n",
       "\t133 & 24   & 259  &  9.7 & 73   & 9    & 10  \\\\\n",
       "\t134 & 44   & 236  & 14.9 & 81   & 9    & 11  \\\\\n",
       "\t135 & 21   & 259  & 15.5 & 76   & 9    & 12  \\\\\n",
       "\t136 & 28   & 238  &  6.3 & 77   & 9    & 13  \\\\\n",
       "\t137 &  9   &  24  & 10.9 & 71   & 9    & 14  \\\\\n",
       "\t138 & 13   & 112  & 11.5 & 71   & 9    & 15  \\\\\n",
       "\t139 & 46   & 237  &  6.9 & 78   & 9    & 16  \\\\\n",
       "\t140 & 18   & 224  & 13.8 & 67   & 9    & 17  \\\\\n",
       "\t141 & 13   &  27  & 10.3 & 76   & 9    & 18  \\\\\n",
       "\t142 & 24   & 238  & 10.3 & 68   & 9    & 19  \\\\\n",
       "\t143 & 16   & 201  &  8.0 & 82   & 9    & 20  \\\\\n",
       "\t144 & 13   & 238  & 12.6 & 64   & 9    & 21  \\\\\n",
       "\t145 & 23   &  14  &  9.2 & 71   & 9    & 22  \\\\\n",
       "\t146 & 36   & 139  & 10.3 & 81   & 9    & 23  \\\\\n",
       "\t147 &  7   &  49  & 10.3 & 69   & 9    & 24  \\\\\n",
       "\t148 & 14   &  20  & 16.6 & 63   & 9    & 25  \\\\\n",
       "\t149 & 30   & 193  &  6.9 & 70   & 9    & 26  \\\\\n",
       "\t151 & 14   & 191  & 14.3 & 75   & 9    & 28  \\\\\n",
       "\t152 & 18   & 131  &  8.0 & 76   & 9    & 29  \\\\\n",
       "\t153 & 20   & 223  & 11.5 & 68   & 9    & 30  \\\\\n",
       "\\end{tabular}\n"
      ],
      "text/markdown": [
       "\n",
       "| <!--/--> | Ozone | Solar.R | Wind | Temp | Month | Day |\n",
       "|---|---|---|---|---|---|---|\n",
       "| 1 |  41  | 190  |  7.4 | 67   | 5    |  1   |\n",
       "| 2 |  36  | 118  |  8.0 | 72   | 5    |  2   |\n",
       "| 3 |  12  | 149  | 12.6 | 74   | 5    |  3   |\n",
       "| 4 |  18  | 313  | 11.5 | 62   | 5    |  4   |\n",
       "| 7 |  23  | 299  |  8.6 | 65   | 5    |  7   |\n",
       "| 8 |  19  |  99  | 13.8 | 59   | 5    |  8   |\n",
       "| 9 |   8  |  19  | 20.1 | 61   | 5    |  9   |\n",
       "| 12 |  16  | 256  |  9.7 | 69   | 5    | 12   |\n",
       "| 13 |  11  | 290  |  9.2 | 66   | 5    | 13   |\n",
       "| 14 |  14  | 274  | 10.9 | 68   | 5    | 14   |\n",
       "| 15 |  18  |  65  | 13.2 | 58   | 5    | 15   |\n",
       "| 16 |  14  | 334  | 11.5 | 64   | 5    | 16   |\n",
       "| 17 |  34  | 307  | 12.0 | 66   | 5    | 17   |\n",
       "| 18 |   6  |  78  | 18.4 | 57   | 5    | 18   |\n",
       "| 19 |  30  | 322  | 11.5 | 68   | 5    | 19   |\n",
       "| 20 |  11  |  44  |  9.7 | 62   | 5    | 20   |\n",
       "| 21 |   1  |   8  |  9.7 | 59   | 5    | 21   |\n",
       "| 22 |  11  | 320  | 16.6 | 73   | 5    | 22   |\n",
       "| 23 |   4  |  25  |  9.7 | 61   | 5    | 23   |\n",
       "| 24 |  32  |  92  | 12.0 | 61   | 5    | 24   |\n",
       "| 28 |  23  |  13  | 12.0 | 67   | 5    | 28   |\n",
       "| 29 |  45  | 252  | 14.9 | 81   | 5    | 29   |\n",
       "| 30 | 115  | 223  |  5.7 | 79   | 5    | 30   |\n",
       "| 31 |  37  | 279  |  7.4 | 76   | 5    | 31   |\n",
       "| 38 |  29  | 127  |  9.7 | 82   | 6    |  7   |\n",
       "| 40 |  71  | 291  | 13.8 | 90   | 6    |  9   |\n",
       "| 41 |  39  | 323  | 11.5 | 87   | 6    | 10   |\n",
       "| 44 |  23  | 148  |  8.0 | 82   | 6    | 13   |\n",
       "| 47 |  21  | 191  | 14.9 | 77   | 6    | 16   |\n",
       "| 48 |  37  | 284  | 20.7 | 72   | 6    | 17   |\n",
       "| ... | ... | ... | ... | ... | ... | ... |\n",
       "| 123 | 85   | 188  |  6.3 | 94   | 8    | 31   |\n",
       "| 124 | 96   | 167  |  6.9 | 91   | 9    |  1   |\n",
       "| 125 | 78   | 197  |  5.1 | 92   | 9    |  2   |\n",
       "| 126 | 73   | 183  |  2.8 | 93   | 9    |  3   |\n",
       "| 127 | 91   | 189  |  4.6 | 93   | 9    |  4   |\n",
       "| 128 | 47   |  95  |  7.4 | 87   | 9    |  5   |\n",
       "| 129 | 32   |  92  | 15.5 | 84   | 9    |  6   |\n",
       "| 130 | 20   | 252  | 10.9 | 80   | 9    |  7   |\n",
       "| 131 | 23   | 220  | 10.3 | 78   | 9    |  8   |\n",
       "| 132 | 21   | 230  | 10.9 | 75   | 9    |  9   |\n",
       "| 133 | 24   | 259  |  9.7 | 73   | 9    | 10   |\n",
       "| 134 | 44   | 236  | 14.9 | 81   | 9    | 11   |\n",
       "| 135 | 21   | 259  | 15.5 | 76   | 9    | 12   |\n",
       "| 136 | 28   | 238  |  6.3 | 77   | 9    | 13   |\n",
       "| 137 |  9   |  24  | 10.9 | 71   | 9    | 14   |\n",
       "| 138 | 13   | 112  | 11.5 | 71   | 9    | 15   |\n",
       "| 139 | 46   | 237  |  6.9 | 78   | 9    | 16   |\n",
       "| 140 | 18   | 224  | 13.8 | 67   | 9    | 17   |\n",
       "| 141 | 13   |  27  | 10.3 | 76   | 9    | 18   |\n",
       "| 142 | 24   | 238  | 10.3 | 68   | 9    | 19   |\n",
       "| 143 | 16   | 201  |  8.0 | 82   | 9    | 20   |\n",
       "| 144 | 13   | 238  | 12.6 | 64   | 9    | 21   |\n",
       "| 145 | 23   |  14  |  9.2 | 71   | 9    | 22   |\n",
       "| 146 | 36   | 139  | 10.3 | 81   | 9    | 23   |\n",
       "| 147 |  7   |  49  | 10.3 | 69   | 9    | 24   |\n",
       "| 148 | 14   |  20  | 16.6 | 63   | 9    | 25   |\n",
       "| 149 | 30   | 193  |  6.9 | 70   | 9    | 26   |\n",
       "| 151 | 14   | 191  | 14.3 | 75   | 9    | 28   |\n",
       "| 152 | 18   | 131  |  8.0 | 76   | 9    | 29   |\n",
       "| 153 | 20   | 223  | 11.5 | 68   | 9    | 30   |\n",
       "\n"
      ],
      "text/plain": [
       "    Ozone Solar.R Wind Temp Month Day\n",
       "1    41   190      7.4 67   5      1 \n",
       "2    36   118      8.0 72   5      2 \n",
       "3    12   149     12.6 74   5      3 \n",
       "4    18   313     11.5 62   5      4 \n",
       "7    23   299      8.6 65   5      7 \n",
       "8    19    99     13.8 59   5      8 \n",
       "9     8    19     20.1 61   5      9 \n",
       "12   16   256      9.7 69   5     12 \n",
       "13   11   290      9.2 66   5     13 \n",
       "14   14   274     10.9 68   5     14 \n",
       "15   18    65     13.2 58   5     15 \n",
       "16   14   334     11.5 64   5     16 \n",
       "17   34   307     12.0 66   5     17 \n",
       "18    6    78     18.4 57   5     18 \n",
       "19   30   322     11.5 68   5     19 \n",
       "20   11    44      9.7 62   5     20 \n",
       "21    1     8      9.7 59   5     21 \n",
       "22   11   320     16.6 73   5     22 \n",
       "23    4    25      9.7 61   5     23 \n",
       "24   32    92     12.0 61   5     24 \n",
       "28   23    13     12.0 67   5     28 \n",
       "29   45   252     14.9 81   5     29 \n",
       "30  115   223      5.7 79   5     30 \n",
       "31   37   279      7.4 76   5     31 \n",
       "38   29   127      9.7 82   6      7 \n",
       "40   71   291     13.8 90   6      9 \n",
       "41   39   323     11.5 87   6     10 \n",
       "44   23   148      8.0 82   6     13 \n",
       "47   21   191     14.9 77   6     16 \n",
       "48   37   284     20.7 72   6     17 \n",
       "... ...   ...     ...  ...  ...   ...\n",
       "123 85    188      6.3 94   8     31 \n",
       "124 96    167      6.9 91   9      1 \n",
       "125 78    197      5.1 92   9      2 \n",
       "126 73    183      2.8 93   9      3 \n",
       "127 91    189      4.6 93   9      4 \n",
       "128 47     95      7.4 87   9      5 \n",
       "129 32     92     15.5 84   9      6 \n",
       "130 20    252     10.9 80   9      7 \n",
       "131 23    220     10.3 78   9      8 \n",
       "132 21    230     10.9 75   9      9 \n",
       "133 24    259      9.7 73   9     10 \n",
       "134 44    236     14.9 81   9     11 \n",
       "135 21    259     15.5 76   9     12 \n",
       "136 28    238      6.3 77   9     13 \n",
       "137  9     24     10.9 71   9     14 \n",
       "138 13    112     11.5 71   9     15 \n",
       "139 46    237      6.9 78   9     16 \n",
       "140 18    224     13.8 67   9     17 \n",
       "141 13     27     10.3 76   9     18 \n",
       "142 24    238     10.3 68   9     19 \n",
       "143 16    201      8.0 82   9     20 \n",
       "144 13    238     12.6 64   9     21 \n",
       "145 23     14      9.2 71   9     22 \n",
       "146 36    139     10.3 81   9     23 \n",
       "147  7     49     10.3 69   9     24 \n",
       "148 14     20     16.6 63   9     25 \n",
       "149 30    193      6.9 70   9     26 \n",
       "151 14    191     14.3 75   9     28 \n",
       "152 18    131      8.0 76   9     29 \n",
       "153 20    223     11.5 68   9     30 "
      ]
     },
     "metadata": {},
     "output_type": "display_data"
    }
   ],
   "source": [
    "na.omit(df)"
   ]
  },
  {
   "cell_type": "markdown",
   "metadata": {},
   "source": [
    "# 28.Log() and Log10()"
   ]
  },
  {
   "cell_type": "code",
   "execution_count": 103,
   "metadata": {},
   "outputs": [
    {
     "data": {
      "text/html": [
       "0.693147180559945"
      ],
      "text/latex": [
       "0.693147180559945"
      ],
      "text/markdown": [
       "0.693147180559945"
      ],
      "text/plain": [
       "[1] 0.6931472"
      ]
     },
     "metadata": {},
     "output_type": "display_data"
    }
   ],
   "source": [
    "#Computes the logarithmic value of an input number\n",
    "log(2)"
   ]
  },
  {
   "cell_type": "code",
   "execution_count": 104,
   "metadata": {},
   "outputs": [
    {
     "data": {
      "text/html": [
       "1.64865862558738"
      ],
      "text/latex": [
       "1.64865862558738"
      ],
      "text/markdown": [
       "1.64865862558738"
      ],
      "text/plain": [
       "[1] 1.648659"
      ]
     },
     "metadata": {},
     "output_type": "display_data"
    }
   ],
   "source": [
    "log(5.2)"
   ]
  },
  {
   "cell_type": "code",
   "execution_count": 105,
   "metadata": {},
   "outputs": [
    {
     "data": {
      "text/html": [
       "0.698970004336019"
      ],
      "text/latex": [
       "0.698970004336019"
      ],
      "text/markdown": [
       "0.698970004336019"
      ],
      "text/plain": [
       "[1] 0.69897"
      ]
     },
     "metadata": {},
     "output_type": "display_data"
    }
   ],
   "source": [
    "log10(5)"
   ]
  },
  {
   "cell_type": "markdown",
   "metadata": {},
   "source": [
    "# 29.sub() and gsub() "
   ]
  },
  {
   "cell_type": "markdown",
   "metadata": {},
   "source": [
    "You can replace the string or the characters in a vector or a data frame using the sub() and gsub() function in R.\n",
    "\n",
    "The sub() and gsub() functions in R, will replace the string with a specific string."
   ]
  },
  {
   "cell_type": "code",
   "execution_count": 106,
   "metadata": {},
   "outputs": [
    {
     "data": {
      "text/html": [
       "'R language is a collaborative project with many contributors'"
      ],
      "text/latex": [
       "'R language is a collaborative project with many contributors'"
      ],
      "text/markdown": [
       "'R language is a collaborative project with many contributors'"
      ],
      "text/plain": [
       "[1] \"R language is a collaborative project with many contributors\""
      ]
     },
     "metadata": {},
     "output_type": "display_data"
    }
   ],
   "source": [
    "df<-\"R is a collaborative project with many contributors\"\n",
    " \n",
    "#replaces the string \n",
    "sub('R','R language',df)"
   ]
  },
  {
   "cell_type": "code",
   "execution_count": 107,
   "metadata": {},
   "outputs": [
    {
     "data": {
      "text/html": [
       "'The Earth surface is 71% water covered. Earth has 29 % of land'"
      ],
      "text/latex": [
       "'The Earth surface is 71\\% water covered. Earth has 29 \\% of land'"
      ],
      "text/markdown": [
       "'The Earth surface is 71% water covered. Earth has 29 % of land'"
      ],
      "text/plain": [
       "[1] \"The Earth surface is 71% water covered. Earth has 29 % of land\""
      ]
     },
     "metadata": {},
     "output_type": "display_data"
    }
   ],
   "source": [
    "df<- \"The Earth surface is 71% water covered. Earth has 29 % of land\"\n",
    " \n",
    "#using sub function to substitute \n",
    "sub('Planetary','Earth',df)"
   ]
  },
  {
   "cell_type": "code",
   "execution_count": 108,
   "metadata": {},
   "outputs": [],
   "source": [
    "df<-data.frame(Column_1 = c('Florida','Germany','Georgia','Geniva','Istanbul','NewZealand','Australia'), Column_2=c(1,2,3,4,5,6,7))"
   ]
  },
  {
   "cell_type": "code",
   "execution_count": 109,
   "metadata": {},
   "outputs": [
    {
     "data": {
      "text/html": [
       "<table>\n",
       "<thead><tr><th scope=col>Column_1</th><th scope=col>Column_2</th></tr></thead>\n",
       "<tbody>\n",
       "\t<tr><td>Florida   </td><td>1         </td></tr>\n",
       "\t<tr><td>Germany   </td><td>2         </td></tr>\n",
       "\t<tr><td>Georgia   </td><td>3         </td></tr>\n",
       "\t<tr><td>Geniva    </td><td>4         </td></tr>\n",
       "\t<tr><td>Istanbul  </td><td>5         </td></tr>\n",
       "\t<tr><td>NewZealand</td><td>6         </td></tr>\n",
       "\t<tr><td>Australia </td><td>7         </td></tr>\n",
       "</tbody>\n",
       "</table>\n"
      ],
      "text/latex": [
       "\\begin{tabular}{r|ll}\n",
       " Column\\_1 & Column\\_2\\\\\n",
       "\\hline\n",
       "\t Florida    & 1         \\\\\n",
       "\t Germany    & 2         \\\\\n",
       "\t Georgia    & 3         \\\\\n",
       "\t Geniva     & 4         \\\\\n",
       "\t Istanbul   & 5         \\\\\n",
       "\t NewZealand & 6         \\\\\n",
       "\t Australia  & 7         \\\\\n",
       "\\end{tabular}\n"
      ],
      "text/markdown": [
       "\n",
       "| Column_1 | Column_2 |\n",
       "|---|---|\n",
       "| Florida    | 1          |\n",
       "| Germany    | 2          |\n",
       "| Georgia    | 3          |\n",
       "| Geniva     | 4          |\n",
       "| Istanbul   | 5          |\n",
       "| NewZealand | 6          |\n",
       "| Australia  | 7          |\n",
       "\n"
      ],
      "text/plain": [
       "  Column_1   Column_2\n",
       "1 Florida    1       \n",
       "2 Germany    2       \n",
       "3 Georgia    3       \n",
       "4 Geniva     4       \n",
       "5 Istanbul   5       \n",
       "6 NewZealand 6       \n",
       "7 Australia  7       "
      ]
     },
     "metadata": {},
     "output_type": "display_data"
    }
   ],
   "source": [
    "df"
   ]
  },
  {
   "cell_type": "code",
   "execution_count": 110,
   "metadata": {},
   "outputs": [],
   "source": [
    "df<-(\"I love R. The R is a statistical analysis language\")"
   ]
  },
  {
   "cell_type": "code",
   "execution_count": 111,
   "metadata": {},
   "outputs": [
    {
     "data": {
      "text/html": [
       "'I love R programming. The R programming is a statistical analysis language'"
      ],
      "text/latex": [
       "'I love R programming. The R programming is a statistical analysis language'"
      ],
      "text/markdown": [
       "'I love R programming. The R programming is a statistical analysis language'"
      ],
      "text/plain": [
       "[1] \"I love R programming. The R programming is a statistical analysis language\""
      ]
     },
     "metadata": {},
     "output_type": "display_data"
    }
   ],
   "source": [
    "#substituting the values using gsub()\n",
    "gsub('R','R programming',df)"
   ]
  },
  {
   "cell_type": "markdown",
   "metadata": {},
   "source": [
    "# 30.rbind()"
   ]
  },
  {
   "cell_type": "code",
   "execution_count": 112,
   "metadata": {},
   "outputs": [
    {
     "data": {
      "text/html": [
       "<table>\n",
       "<thead><tr><th scope=col>Student_class</th><th scope=col>Student_details</th></tr></thead>\n",
       "<tbody>\n",
       "\t<tr><td>High school</td><td>Mark       </td></tr>\n",
       "\t<tr><td>College    </td><td>John       </td></tr>\n",
       "\t<tr><td>High school</td><td>Fredrick   </td></tr>\n",
       "\t<tr><td>High school</td><td>Floyd      </td></tr>\n",
       "\t<tr><td>College    </td><td>George     </td></tr>\n",
       "</tbody>\n",
       "</table>\n"
      ],
      "text/latex": [
       "\\begin{tabular}{r|ll}\n",
       " Student\\_class & Student\\_details\\\\\n",
       "\\hline\n",
       "\t High school & Mark       \\\\\n",
       "\t College     & John       \\\\\n",
       "\t High school & Fredrick   \\\\\n",
       "\t High school & Floyd      \\\\\n",
       "\t College     & George     \\\\\n",
       "\\end{tabular}\n"
      ],
      "text/markdown": [
       "\n",
       "| Student_class | Student_details |\n",
       "|---|---|\n",
       "| High school | Mark        |\n",
       "| College     | John        |\n",
       "| High school | Fredrick    |\n",
       "| High school | Floyd       |\n",
       "| College     | George      |\n",
       "\n"
      ],
      "text/plain": [
       "  Student_class Student_details\n",
       "1 High school   Mark           \n",
       "2 College       John           \n",
       "3 High school   Fredrick       \n",
       "4 High school   Floyd          \n",
       "5 College       George         "
      ]
     },
     "metadata": {},
     "output_type": "display_data"
    }
   ],
   "source": [
    "#creating a data frame \n",
    " \n",
    "Student_details<-c(\"Mark\",\"John\",\"Fredrick\",\"Floyd\",\"George\")\n",
    "Student_class<-c(\"High school\",\"College\",\"High school\",\"High school\",\"College\")\n",
    "df1<-data.frame(Student_class,Student_details)\n",
    " \n",
    "df1"
   ]
  },
  {
   "cell_type": "code",
   "execution_count": 113,
   "metadata": {},
   "outputs": [
    {
     "data": {
      "text/html": [
       "<table>\n",
       "<thead><tr><th scope=col>Student_class</th><th scope=col>Student_details</th><th scope=col>Student_rank</th></tr></thead>\n",
       "<tbody>\n",
       "\t<tr><td>High school</td><td>Bracy      </td><td>A          </td></tr>\n",
       "\t<tr><td>College    </td><td>Evin       </td><td>A+         </td></tr>\n",
       "</tbody>\n",
       "</table>\n"
      ],
      "text/latex": [
       "\\begin{tabular}{r|lll}\n",
       " Student\\_class & Student\\_details & Student\\_rank\\\\\n",
       "\\hline\n",
       "\t High school & Bracy       & A          \\\\\n",
       "\t College     & Evin        & A+         \\\\\n",
       "\\end{tabular}\n"
      ],
      "text/markdown": [
       "\n",
       "| Student_class | Student_details | Student_rank |\n",
       "|---|---|---|\n",
       "| High school | Bracy       | A           |\n",
       "| College     | Evin        | A+          |\n",
       "\n"
      ],
      "text/plain": [
       "  Student_class Student_details Student_rank\n",
       "1 High school   Bracy           A           \n",
       "2 College       Evin            A+          "
      ]
     },
     "metadata": {},
     "output_type": "display_data"
    }
   ],
   "source": [
    "Student_details<-c(\"Bracy\",\"Evin\")\n",
    "Student_class<-c(\"High school\",\"College\")\n",
    "Student_rank<-c(\"A\",\"A+\")\n",
    "df2<-data.frame(Student_class,Student_details,Student_rank)\n",
    " \n",
    "df2"
   ]
  },
  {
   "cell_type": "code",
   "execution_count": 114,
   "metadata": {},
   "outputs": [
    {
     "data": {
      "text/html": [
       "<table>\n",
       "<thead><tr><th scope=col>Student_class</th><th scope=col>Student_details</th><th scope=col>Student_rank</th></tr></thead>\n",
       "<tbody>\n",
       "\t<tr><td>High school</td><td>Mark       </td><td>NA         </td></tr>\n",
       "\t<tr><td>College    </td><td>John       </td><td>NA         </td></tr>\n",
       "\t<tr><td>High school</td><td>Fredrick   </td><td>NA         </td></tr>\n",
       "\t<tr><td>High school</td><td>Floyd      </td><td>NA         </td></tr>\n",
       "\t<tr><td>College    </td><td>George     </td><td>NA         </td></tr>\n",
       "\t<tr><td>High school</td><td>Bracy      </td><td>A          </td></tr>\n",
       "\t<tr><td>College    </td><td>Evin       </td><td>A+         </td></tr>\n",
       "</tbody>\n",
       "</table>\n"
      ],
      "text/latex": [
       "\\begin{tabular}{r|lll}\n",
       " Student\\_class & Student\\_details & Student\\_rank\\\\\n",
       "\\hline\n",
       "\t High school & Mark        & NA         \\\\\n",
       "\t College     & John        & NA         \\\\\n",
       "\t High school & Fredrick    & NA         \\\\\n",
       "\t High school & Floyd       & NA         \\\\\n",
       "\t College     & George      & NA         \\\\\n",
       "\t High school & Bracy       & A          \\\\\n",
       "\t College     & Evin        & A+         \\\\\n",
       "\\end{tabular}\n"
      ],
      "text/markdown": [
       "\n",
       "| Student_class | Student_details | Student_rank |\n",
       "|---|---|---|\n",
       "| High school | Mark        | NA          |\n",
       "| College     | John        | NA          |\n",
       "| High school | Fredrick    | NA          |\n",
       "| High school | Floyd       | NA          |\n",
       "| College     | George      | NA          |\n",
       "| High school | Bracy       | A           |\n",
       "| College     | Evin        | A+          |\n",
       "\n"
      ],
      "text/plain": [
       "  Student_class Student_details Student_rank\n",
       "1 High school   Mark            NA          \n",
       "2 College       John            NA          \n",
       "3 High school   Fredrick        NA          \n",
       "4 High school   Floyd           NA          \n",
       "5 College       George          NA          \n",
       "6 High school   Bracy           A           \n",
       "7 College       Evin            A+          "
      ]
     },
     "metadata": {},
     "output_type": "display_data"
    }
   ],
   "source": [
    "library(dplyr)\n",
    "bind_rows(df1,df2)"
   ]
  },
  {
   "cell_type": "markdown",
   "metadata": {},
   "source": [
    "# 31.by() function"
   ]
  },
  {
   "cell_type": "code",
   "execution_count": 115,
   "metadata": {},
   "outputs": [
    {
     "data": {
      "text/plain": [
       ": setosa\n",
       "[1] 0.246\n",
       "------------------------------------------------------------ \n",
       ": versicolor\n",
       "[1] 1.326\n",
       "------------------------------------------------------------ \n",
       ": virginica\n",
       "[1] 2.026"
      ]
     },
     "metadata": {},
     "output_type": "display_data"
    }
   ],
   "source": [
    "df<-iris\n",
    " \n",
    "#computes the mean for species categories in terms of petal.width \n",
    "by(df$Petal.Width,list(df$Species),mean)"
   ]
  },
  {
   "cell_type": "code",
   "execution_count": 116,
   "metadata": {},
   "outputs": [
    {
     "data": {
      "text/plain": [
       ": setosa\n",
       "[1] 0.2\n",
       "------------------------------------------------------------ \n",
       ": versicolor\n",
       "[1] 1.3\n",
       "------------------------------------------------------------ \n",
       ": virginica\n",
       "[1] 2"
      ]
     },
     "metadata": {},
     "output_type": "display_data"
    }
   ],
   "source": [
    "df<-iris\n",
    " \n",
    "by(df$Petal.Width,list(df$Species),median)"
   ]
  },
  {
   "cell_type": "code",
   "execution_count": 117,
   "metadata": {},
   "outputs": [
    {
     "data": {
      "text/plain": [
       ": OJ\n",
       ": 0.5\n",
       "[1] 13.23\n",
       "------------------------------------------------------------ \n",
       ": VC\n",
       ": 0.5\n",
       "[1] 7.98\n",
       "------------------------------------------------------------ \n",
       ": OJ\n",
       ": 1\n",
       "[1] 22.7\n",
       "------------------------------------------------------------ \n",
       ": VC\n",
       ": 1\n",
       "[1] 16.77\n",
       "------------------------------------------------------------ \n",
       ": OJ\n",
       ": 2\n",
       "[1] 26.06\n",
       "------------------------------------------------------------ \n",
       ": VC\n",
       ": 2\n",
       "[1] 26.14"
      ]
     },
     "metadata": {},
     "output_type": "display_data"
    }
   ],
   "source": [
    "df<-ToothGrowth\n",
    " \n",
    "#passing multiple columns \n",
    "by(df$len,list(df$supp,df$dose),mean)"
   ]
  },
  {
   "cell_type": "markdown",
   "metadata": {},
   "source": [
    "# 32.trunc() function in R"
   ]
  },
  {
   "cell_type": "markdown",
   "metadata": {},
   "source": [
    "trunc() function in R is more often used by the programmers to round the values to zero decimal points. In other words, you can convert float values into an int using trunc() function."
   ]
  },
  {
   "cell_type": "code",
   "execution_count": 118,
   "metadata": {},
   "outputs": [
    {
     "data": {
      "text/html": [
       "989"
      ],
      "text/latex": [
       "989"
      ],
      "text/markdown": [
       "989"
      ],
      "text/plain": [
       "[1] 989"
      ]
     },
     "metadata": {},
     "output_type": "display_data"
    }
   ],
   "source": [
    "trunc(989.5678)"
   ]
  },
  {
   "cell_type": "code",
   "execution_count": 119,
   "metadata": {},
   "outputs": [
    {
     "data": {
      "text/html": [
       "<dl>\n",
       "\t<dt>$cov</dt>\n",
       "\t\t<dd><table>\n",
       "<thead><tr><th></th><th scope=col>general</th><th scope=col>picture</th><th scope=col>blocks</th><th scope=col>maze</th><th scope=col>reading</th><th scope=col>vocab</th></tr></thead>\n",
       "<tbody>\n",
       "\t<tr><th scope=row>general</th><td>24.641 </td><td> 5.991 </td><td> 33.520</td><td> 6.023 </td><td>20.755 </td><td> 29.701</td></tr>\n",
       "\t<tr><th scope=row>picture</th><td> 5.991 </td><td> 6.700 </td><td> 18.137</td><td> 1.782 </td><td> 4.936 </td><td>  7.204</td></tr>\n",
       "\t<tr><th scope=row>blocks</th><td>33.520 </td><td>18.137 </td><td>149.831</td><td>19.424 </td><td>31.430 </td><td> 50.753</td></tr>\n",
       "\t<tr><th scope=row>maze</th><td> 6.023 </td><td> 1.782 </td><td> 19.424</td><td>12.711 </td><td> 4.757 </td><td>  9.075</td></tr>\n",
       "\t<tr><th scope=row>reading</th><td>20.755 </td><td> 4.936 </td><td> 31.430</td><td> 4.757 </td><td>52.604 </td><td> 66.762</td></tr>\n",
       "\t<tr><th scope=row>vocab</th><td>29.701 </td><td> 7.204 </td><td> 50.753</td><td> 9.075 </td><td>66.762 </td><td>135.292</td></tr>\n",
       "</tbody>\n",
       "</table>\n",
       "</dd>\n",
       "\t<dt>$center</dt>\n",
       "\t\t<dd><ol class=list-inline>\n",
       "\t<li>0</li>\n",
       "\t<li>0</li>\n",
       "\t<li>0</li>\n",
       "\t<li>0</li>\n",
       "\t<li>0</li>\n",
       "\t<li>0</li>\n",
       "</ol>\n",
       "</dd>\n",
       "\t<dt>$n.obs</dt>\n",
       "\t\t<dd>112</dd>\n",
       "</dl>\n"
      ],
      "text/latex": [
       "\\begin{description}\n",
       "\\item[\\$cov] \\begin{tabular}{r|llllll}\n",
       "  & general & picture & blocks & maze & reading & vocab\\\\\n",
       "\\hline\n",
       "\tgeneral & 24.641  &  5.991  &  33.520 &  6.023  & 20.755  &  29.701\\\\\n",
       "\tpicture &  5.991  &  6.700  &  18.137 &  1.782  &  4.936  &   7.204\\\\\n",
       "\tblocks & 33.520  & 18.137  & 149.831 & 19.424  & 31.430  &  50.753\\\\\n",
       "\tmaze &  6.023  &  1.782  &  19.424 & 12.711  &  4.757  &   9.075\\\\\n",
       "\treading & 20.755  &  4.936  &  31.430 &  4.757  & 52.604  &  66.762\\\\\n",
       "\tvocab & 29.701  &  7.204  &  50.753 &  9.075  & 66.762  & 135.292\\\\\n",
       "\\end{tabular}\n",
       "\n",
       "\\item[\\$center] \\begin{enumerate*}\n",
       "\\item 0\n",
       "\\item 0\n",
       "\\item 0\n",
       "\\item 0\n",
       "\\item 0\n",
       "\\item 0\n",
       "\\end{enumerate*}\n",
       "\n",
       "\\item[\\$n.obs] 112\n",
       "\\end{description}\n"
      ],
      "text/markdown": [
       "$cov\n",
       ":   \n",
       "| <!--/--> | general | picture | blocks | maze | reading | vocab |\n",
       "|---|---|---|---|---|---|---|\n",
       "| general | 24.641  |  5.991  |  33.520 |  6.023  | 20.755  |  29.701 |\n",
       "| picture |  5.991  |  6.700  |  18.137 |  1.782  |  4.936  |   7.204 |\n",
       "| blocks | 33.520  | 18.137  | 149.831 | 19.424  | 31.430  |  50.753 |\n",
       "| maze |  6.023  |  1.782  |  19.424 | 12.711  |  4.757  |   9.075 |\n",
       "| reading | 20.755  |  4.936  |  31.430 |  4.757  | 52.604  |  66.762 |\n",
       "| vocab | 29.701  |  7.204  |  50.753 |  9.075  | 66.762  | 135.292 |\n",
       "\n",
       "\n",
       "$center\n",
       ":   1. 0\n",
       "2. 0\n",
       "3. 0\n",
       "4. 0\n",
       "5. 0\n",
       "6. 0\n",
       "\n",
       "\n",
       "\n",
       "$n.obs\n",
       ":   112\n",
       "\n",
       "\n"
      ],
      "text/plain": [
       "$cov\n",
       "        general picture  blocks   maze reading   vocab\n",
       "general  24.641   5.991  33.520  6.023  20.755  29.701\n",
       "picture   5.991   6.700  18.137  1.782   4.936   7.204\n",
       "blocks   33.520  18.137 149.831 19.424  31.430  50.753\n",
       "maze      6.023   1.782  19.424 12.711   4.757   9.075\n",
       "reading  20.755   4.936  31.430  4.757  52.604  66.762\n",
       "vocab    29.701   7.204  50.753  9.075  66.762 135.292\n",
       "\n",
       "$center\n",
       "[1] 0 0 0 0 0 0\n",
       "\n",
       "$n.obs\n",
       "[1] 112\n"
      ]
     },
     "metadata": {},
     "output_type": "display_data"
    }
   ],
   "source": [
    "datasets::ability.cov"
   ]
  },
  {
   "cell_type": "code",
   "execution_count": 120,
   "metadata": {},
   "outputs": [
    {
     "data": {
      "text/html": [
       "<table>\n",
       "<thead><tr><th></th><th scope=col>general</th><th scope=col>picture</th><th scope=col>blocks</th><th scope=col>maze</th><th scope=col>reading</th><th scope=col>vocab</th></tr></thead>\n",
       "<tbody>\n",
       "\t<tr><th scope=row>general</th><td>24 </td><td> 5 </td><td> 33</td><td> 6 </td><td>20 </td><td> 29</td></tr>\n",
       "\t<tr><th scope=row>picture</th><td> 5 </td><td> 6 </td><td> 18</td><td> 1 </td><td> 4 </td><td>  7</td></tr>\n",
       "\t<tr><th scope=row>blocks</th><td>33 </td><td>18 </td><td>149</td><td>19 </td><td>31 </td><td> 50</td></tr>\n",
       "\t<tr><th scope=row>maze</th><td> 6 </td><td> 1 </td><td> 19</td><td>12 </td><td> 4 </td><td>  9</td></tr>\n",
       "\t<tr><th scope=row>reading</th><td>20 </td><td> 4 </td><td> 31</td><td> 4 </td><td>52 </td><td> 66</td></tr>\n",
       "\t<tr><th scope=row>vocab</th><td>29 </td><td> 7 </td><td> 50</td><td> 9 </td><td>66 </td><td>135</td></tr>\n",
       "</tbody>\n",
       "</table>\n"
      ],
      "text/latex": [
       "\\begin{tabular}{r|llllll}\n",
       "  & general & picture & blocks & maze & reading & vocab\\\\\n",
       "\\hline\n",
       "\tgeneral & 24  &  5  &  33 &  6  & 20  &  29\\\\\n",
       "\tpicture &  5  &  6  &  18 &  1  &  4  &   7\\\\\n",
       "\tblocks & 33  & 18  & 149 & 19  & 31  &  50\\\\\n",
       "\tmaze &  6  &  1  &  19 & 12  &  4  &   9\\\\\n",
       "\treading & 20  &  4  &  31 &  4  & 52  &  66\\\\\n",
       "\tvocab & 29  &  7  &  50 &  9  & 66  & 135\\\\\n",
       "\\end{tabular}\n"
      ],
      "text/markdown": [
       "\n",
       "| <!--/--> | general | picture | blocks | maze | reading | vocab |\n",
       "|---|---|---|---|---|---|---|\n",
       "| general | 24  |  5  |  33 |  6  | 20  |  29 |\n",
       "| picture |  5  |  6  |  18 |  1  |  4  |   7 |\n",
       "| blocks | 33  | 18  | 149 | 19  | 31  |  50 |\n",
       "| maze |  6  |  1  |  19 | 12  |  4  |   9 |\n",
       "| reading | 20  |  4  |  31 |  4  | 52  |  66 |\n",
       "| vocab | 29  |  7  |  50 |  9  | 66  | 135 |\n",
       "\n"
      ],
      "text/plain": [
       "        general picture blocks maze reading vocab\n",
       "general 24       5       33     6   20       29  \n",
       "picture  5       6       18     1    4        7  \n",
       "blocks  33      18      149    19   31       50  \n",
       "maze     6       1       19    12    4        9  \n",
       "reading 20       4       31     4   52       66  \n",
       "vocab   29       7       50     9   66      135  "
      ]
     },
     "metadata": {},
     "output_type": "display_data"
    }
   ],
   "source": [
    "trunc(ability.cov$cov)"
   ]
  },
  {
   "cell_type": "markdown",
   "metadata": {},
   "source": [
    "# 33.Missing value analysis"
   ]
  },
  {
   "cell_type": "code",
   "execution_count": 121,
   "metadata": {},
   "outputs": [],
   "source": [
    "dfa <- read.csv('Dataset/click_rates.csv')"
   ]
  },
  {
   "cell_type": "code",
   "execution_count": 122,
   "metadata": {},
   "outputs": [
    {
     "data": {
      "text/html": [
       "<table>\n",
       "<thead><tr><th scope=col>Headline</th><th scope=col>Click</th><th scope=col>Rate</th></tr></thead>\n",
       "<tbody>\n",
       "\t<tr><td>Headline A</td><td>Click     </td><td> 14       </td></tr>\n",
       "\t<tr><td>Headline A</td><td>No-click  </td><td>986       </td></tr>\n",
       "\t<tr><td>Headline B</td><td>Click     </td><td>  8       </td></tr>\n",
       "\t<tr><td>Headline B</td><td>No-click  </td><td>992       </td></tr>\n",
       "\t<tr><td>Headline C</td><td>Click     </td><td> 12       </td></tr>\n",
       "\t<tr><td>Headline C</td><td>No-click  </td><td>988       </td></tr>\n",
       "</tbody>\n",
       "</table>\n"
      ],
      "text/latex": [
       "\\begin{tabular}{r|lll}\n",
       " Headline & Click & Rate\\\\\n",
       "\\hline\n",
       "\t Headline A & Click      &  14       \\\\\n",
       "\t Headline A & No-click   & 986       \\\\\n",
       "\t Headline B & Click      &   8       \\\\\n",
       "\t Headline B & No-click   & 992       \\\\\n",
       "\t Headline C & Click      &  12       \\\\\n",
       "\t Headline C & No-click   & 988       \\\\\n",
       "\\end{tabular}\n"
      ],
      "text/markdown": [
       "\n",
       "| Headline | Click | Rate |\n",
       "|---|---|---|\n",
       "| Headline A | Click      |  14        |\n",
       "| Headline A | No-click   | 986        |\n",
       "| Headline B | Click      |   8        |\n",
       "| Headline B | No-click   | 992        |\n",
       "| Headline C | Click      |  12        |\n",
       "| Headline C | No-click   | 988        |\n",
       "\n"
      ],
      "text/plain": [
       "  Headline   Click    Rate\n",
       "1 Headline A Click     14 \n",
       "2 Headline A No-click 986 \n",
       "3 Headline B Click      8 \n",
       "4 Headline B No-click 992 \n",
       "5 Headline C Click     12 \n",
       "6 Headline C No-click 988 "
      ]
     },
     "metadata": {},
     "output_type": "display_data"
    }
   ],
   "source": [
    "dfa"
   ]
  },
  {
   "cell_type": "code",
   "execution_count": 123,
   "metadata": {},
   "outputs": [
    {
     "data": {
      "text/html": [
       "<table>\n",
       "<thead><tr><th scope=col>Headline</th><th scope=col>Click</th><th scope=col>Rate</th></tr></thead>\n",
       "<tbody>\n",
       "\t<tr><td>FALSE</td><td>FALSE</td><td>FALSE</td></tr>\n",
       "\t<tr><td>FALSE</td><td>FALSE</td><td>FALSE</td></tr>\n",
       "\t<tr><td>FALSE</td><td>FALSE</td><td>FALSE</td></tr>\n",
       "\t<tr><td>FALSE</td><td>FALSE</td><td>FALSE</td></tr>\n",
       "\t<tr><td>FALSE</td><td>FALSE</td><td>FALSE</td></tr>\n",
       "\t<tr><td>FALSE</td><td>FALSE</td><td>FALSE</td></tr>\n",
       "</tbody>\n",
       "</table>\n"
      ],
      "text/latex": [
       "\\begin{tabular}{lll}\n",
       " Headline & Click & Rate\\\\\n",
       "\\hline\n",
       "\t FALSE & FALSE & FALSE\\\\\n",
       "\t FALSE & FALSE & FALSE\\\\\n",
       "\t FALSE & FALSE & FALSE\\\\\n",
       "\t FALSE & FALSE & FALSE\\\\\n",
       "\t FALSE & FALSE & FALSE\\\\\n",
       "\t FALSE & FALSE & FALSE\\\\\n",
       "\\end{tabular}\n"
      ],
      "text/markdown": [
       "\n",
       "| Headline | Click | Rate |\n",
       "|---|---|---|\n",
       "| FALSE | FALSE | FALSE |\n",
       "| FALSE | FALSE | FALSE |\n",
       "| FALSE | FALSE | FALSE |\n",
       "| FALSE | FALSE | FALSE |\n",
       "| FALSE | FALSE | FALSE |\n",
       "| FALSE | FALSE | FALSE |\n",
       "\n"
      ],
      "text/plain": [
       "     Headline Click Rate \n",
       "[1,] FALSE    FALSE FALSE\n",
       "[2,] FALSE    FALSE FALSE\n",
       "[3,] FALSE    FALSE FALSE\n",
       "[4,] FALSE    FALSE FALSE\n",
       "[5,] FALSE    FALSE FALSE\n",
       "[6,] FALSE    FALSE FALSE"
      ]
     },
     "metadata": {},
     "output_type": "display_data"
    }
   ],
   "source": [
    "is.na(dfa)"
   ]
  },
  {
   "cell_type": "code",
   "execution_count": 124,
   "metadata": {},
   "outputs": [
    {
     "data": {
      "text/plain": [
       "  Headline         Click            Rate        \n",
       " Mode :logical   Mode :logical   Mode :logical  \n",
       " FALSE:6         FALSE:6         FALSE:6        "
      ]
     },
     "metadata": {},
     "output_type": "display_data"
    }
   ],
   "source": [
    "summary(is.na(dfa))"
   ]
  },
  {
   "cell_type": "markdown",
   "metadata": {},
   "source": [
    "# 34.Impute missing values with statistical values"
   ]
  },
  {
   "cell_type": "code",
   "execution_count": 125,
   "metadata": {},
   "outputs": [
    {
     "data": {
      "text/html": [
       "&lt;NA&gt;"
      ],
      "text/latex": [
       "<NA>"
      ],
      "text/markdown": [
       "&lt;NA&gt;"
      ],
      "text/plain": [
       "[1] NA"
      ]
     },
     "metadata": {},
     "output_type": "display_data"
    },
    {
     "data": {
      "text/html": [
       "227.625"
      ],
      "text/latex": [
       "227.625"
      ],
      "text/markdown": [
       "227.625"
      ],
      "text/plain": [
       "[1] 227.625"
      ]
     },
     "metadata": {},
     "output_type": "display_data"
    }
   ],
   "source": [
    "v <-c(100,101,102,104,106,108,NA,NA)\n",
    "mean(v)\n",
    "vc <- c(100,101,102,104,106,108,200,1000)\n",
    "mean(vc)\n",
    "\n",
    "#mean(v,na.rm=T)\n",
    "#print(v)"
   ]
  },
  {
   "cell_type": "code",
   "execution_count": 127,
   "metadata": {},
   "outputs": [],
   "source": [
    "dfc <- read.csv('Dataset/four_sessions.csv')"
   ]
  },
  {
   "cell_type": "code",
   "execution_count": 128,
   "metadata": {},
   "outputs": [],
   "source": [
    "dfc$Time[is.na(dfc$Time)] <- mean(dfc$Time, na.rm = T)"
   ]
  },
  {
   "cell_type": "code",
   "execution_count": 129,
   "metadata": {},
   "outputs": [
    {
     "data": {
      "text/html": [
       "<table>\n",
       "<thead><tr><th scope=col>Page</th><th scope=col>Time</th></tr></thead>\n",
       "<tbody>\n",
       "\t<tr><td>Page 1  </td><td>164.0000</td></tr>\n",
       "\t<tr><td>Page 2  </td><td>178.0000</td></tr>\n",
       "\t<tr><td>Page 3  </td><td>175.0000</td></tr>\n",
       "\t<tr><td>Page 4  </td><td>155.0000</td></tr>\n",
       "\t<tr><td>Page 1  </td><td>173.6667</td></tr>\n",
       "\t<tr><td>Page 2  </td><td>191.0000</td></tr>\n",
       "\t<tr><td>Page 3  </td><td>193.0000</td></tr>\n",
       "\t<tr><td>Page 4  </td><td>166.0000</td></tr>\n",
       "\t<tr><td>Page 1  </td><td>177.0000</td></tr>\n",
       "\t<tr><td>Page 2  </td><td>173.6667</td></tr>\n",
       "\t<tr><td>Page 3  </td><td>171.0000</td></tr>\n",
       "\t<tr><td>Page 4  </td><td>164.0000</td></tr>\n",
       "\t<tr><td>Page 1  </td><td>173.6667</td></tr>\n",
       "\t<tr><td>Page 2  </td><td>185.0000</td></tr>\n",
       "\t<tr><td>Page 3  </td><td>163.0000</td></tr>\n",
       "\t<tr><td>Page 4  </td><td>170.0000</td></tr>\n",
       "\t<tr><td>Page 1  </td><td>173.6667</td></tr>\n",
       "\t<tr><td>Page 2  </td><td>177.0000</td></tr>\n",
       "\t<tr><td>Page 3  </td><td>176.0000</td></tr>\n",
       "\t<tr><td>Page 4  </td><td>173.6667</td></tr>\n",
       "</tbody>\n",
       "</table>\n"
      ],
      "text/latex": [
       "\\begin{tabular}{r|ll}\n",
       " Page & Time\\\\\n",
       "\\hline\n",
       "\t Page 1   & 164.0000\\\\\n",
       "\t Page 2   & 178.0000\\\\\n",
       "\t Page 3   & 175.0000\\\\\n",
       "\t Page 4   & 155.0000\\\\\n",
       "\t Page 1   & 173.6667\\\\\n",
       "\t Page 2   & 191.0000\\\\\n",
       "\t Page 3   & 193.0000\\\\\n",
       "\t Page 4   & 166.0000\\\\\n",
       "\t Page 1   & 177.0000\\\\\n",
       "\t Page 2   & 173.6667\\\\\n",
       "\t Page 3   & 171.0000\\\\\n",
       "\t Page 4   & 164.0000\\\\\n",
       "\t Page 1   & 173.6667\\\\\n",
       "\t Page 2   & 185.0000\\\\\n",
       "\t Page 3   & 163.0000\\\\\n",
       "\t Page 4   & 170.0000\\\\\n",
       "\t Page 1   & 173.6667\\\\\n",
       "\t Page 2   & 177.0000\\\\\n",
       "\t Page 3   & 176.0000\\\\\n",
       "\t Page 4   & 173.6667\\\\\n",
       "\\end{tabular}\n"
      ],
      "text/markdown": [
       "\n",
       "| Page | Time |\n",
       "|---|---|\n",
       "| Page 1   | 164.0000 |\n",
       "| Page 2   | 178.0000 |\n",
       "| Page 3   | 175.0000 |\n",
       "| Page 4   | 155.0000 |\n",
       "| Page 1   | 173.6667 |\n",
       "| Page 2   | 191.0000 |\n",
       "| Page 3   | 193.0000 |\n",
       "| Page 4   | 166.0000 |\n",
       "| Page 1   | 177.0000 |\n",
       "| Page 2   | 173.6667 |\n",
       "| Page 3   | 171.0000 |\n",
       "| Page 4   | 164.0000 |\n",
       "| Page 1   | 173.6667 |\n",
       "| Page 2   | 185.0000 |\n",
       "| Page 3   | 163.0000 |\n",
       "| Page 4   | 170.0000 |\n",
       "| Page 1   | 173.6667 |\n",
       "| Page 2   | 177.0000 |\n",
       "| Page 3   | 176.0000 |\n",
       "| Page 4   | 173.6667 |\n",
       "\n"
      ],
      "text/plain": [
       "   Page   Time    \n",
       "1  Page 1 164.0000\n",
       "2  Page 2 178.0000\n",
       "3  Page 3 175.0000\n",
       "4  Page 4 155.0000\n",
       "5  Page 1 173.6667\n",
       "6  Page 2 191.0000\n",
       "7  Page 3 193.0000\n",
       "8  Page 4 166.0000\n",
       "9  Page 1 177.0000\n",
       "10 Page 2 173.6667\n",
       "11 Page 3 171.0000\n",
       "12 Page 4 164.0000\n",
       "13 Page 1 173.6667\n",
       "14 Page 2 185.0000\n",
       "15 Page 3 163.0000\n",
       "16 Page 4 170.0000\n",
       "17 Page 1 173.6667\n",
       "18 Page 2 177.0000\n",
       "19 Page 3 176.0000\n",
       "20 Page 4 173.6667"
      ]
     },
     "metadata": {},
     "output_type": "display_data"
    }
   ],
   "source": [
    "dfc"
   ]
  },
  {
   "cell_type": "code",
   "execution_count": 130,
   "metadata": {},
   "outputs": [
    {
     "data": {
      "text/html": [
       "<table>\n",
       "<thead><tr><th></th><th scope=col>colSums(is.na(dfc))</th></tr></thead>\n",
       "<tbody>\n",
       "\t<tr><th scope=row>Page</th><td>0</td></tr>\n",
       "\t<tr><th scope=row>Time</th><td>0</td></tr>\n",
       "</tbody>\n",
       "</table>\n"
      ],
      "text/latex": [
       "\\begin{tabular}{r|l}\n",
       "  & colSums(is.na(dfc))\\\\\n",
       "\\hline\n",
       "\tPage & 0\\\\\n",
       "\tTime & 0\\\\\n",
       "\\end{tabular}\n"
      ],
      "text/markdown": [
       "\n",
       "| <!--/--> | colSums(is.na(dfc)) |\n",
       "|---|---|\n",
       "| Page | 0 |\n",
       "| Time | 0 |\n",
       "\n"
      ],
      "text/plain": [
       "     colSums(is.na(dfc))\n",
       "Page 0                  \n",
       "Time 0                  "
      ]
     },
     "metadata": {},
     "output_type": "display_data"
    }
   ],
   "source": [
    "as.data.frame(colSums(is.na(dfc)))"
   ]
  },
  {
   "cell_type": "markdown",
   "metadata": {},
   "source": [
    "# 35.Delete the missing values"
   ]
  },
  {
   "cell_type": "code",
   "execution_count": 131,
   "metadata": {},
   "outputs": [],
   "source": [
    "dfc = drop_na(dfc)\n"
   ]
  },
  {
   "cell_type": "code",
   "execution_count": 132,
   "metadata": {},
   "outputs": [
    {
     "data": {
      "text/html": [
       "<table>\n",
       "<thead><tr><th scope=col>Page</th><th scope=col>Time</th></tr></thead>\n",
       "<tbody>\n",
       "\t<tr><td>FALSE</td><td>FALSE</td></tr>\n",
       "\t<tr><td>FALSE</td><td>FALSE</td></tr>\n",
       "\t<tr><td>FALSE</td><td>FALSE</td></tr>\n",
       "\t<tr><td>FALSE</td><td>FALSE</td></tr>\n",
       "\t<tr><td>FALSE</td><td>FALSE</td></tr>\n",
       "\t<tr><td>FALSE</td><td>FALSE</td></tr>\n",
       "\t<tr><td>FALSE</td><td>FALSE</td></tr>\n",
       "\t<tr><td>FALSE</td><td>FALSE</td></tr>\n",
       "\t<tr><td>FALSE</td><td>FALSE</td></tr>\n",
       "\t<tr><td>FALSE</td><td>FALSE</td></tr>\n",
       "\t<tr><td>FALSE</td><td>FALSE</td></tr>\n",
       "\t<tr><td>FALSE</td><td>FALSE</td></tr>\n",
       "\t<tr><td>FALSE</td><td>FALSE</td></tr>\n",
       "\t<tr><td>FALSE</td><td>FALSE</td></tr>\n",
       "\t<tr><td>FALSE</td><td>FALSE</td></tr>\n",
       "\t<tr><td>FALSE</td><td>FALSE</td></tr>\n",
       "\t<tr><td>FALSE</td><td>FALSE</td></tr>\n",
       "\t<tr><td>FALSE</td><td>FALSE</td></tr>\n",
       "\t<tr><td>FALSE</td><td>FALSE</td></tr>\n",
       "\t<tr><td>FALSE</td><td>FALSE</td></tr>\n",
       "</tbody>\n",
       "</table>\n"
      ],
      "text/latex": [
       "\\begin{tabular}{ll}\n",
       " Page & Time\\\\\n",
       "\\hline\n",
       "\t FALSE & FALSE\\\\\n",
       "\t FALSE & FALSE\\\\\n",
       "\t FALSE & FALSE\\\\\n",
       "\t FALSE & FALSE\\\\\n",
       "\t FALSE & FALSE\\\\\n",
       "\t FALSE & FALSE\\\\\n",
       "\t FALSE & FALSE\\\\\n",
       "\t FALSE & FALSE\\\\\n",
       "\t FALSE & FALSE\\\\\n",
       "\t FALSE & FALSE\\\\\n",
       "\t FALSE & FALSE\\\\\n",
       "\t FALSE & FALSE\\\\\n",
       "\t FALSE & FALSE\\\\\n",
       "\t FALSE & FALSE\\\\\n",
       "\t FALSE & FALSE\\\\\n",
       "\t FALSE & FALSE\\\\\n",
       "\t FALSE & FALSE\\\\\n",
       "\t FALSE & FALSE\\\\\n",
       "\t FALSE & FALSE\\\\\n",
       "\t FALSE & FALSE\\\\\n",
       "\\end{tabular}\n"
      ],
      "text/markdown": [
       "\n",
       "| Page | Time |\n",
       "|---|---|\n",
       "| FALSE | FALSE |\n",
       "| FALSE | FALSE |\n",
       "| FALSE | FALSE |\n",
       "| FALSE | FALSE |\n",
       "| FALSE | FALSE |\n",
       "| FALSE | FALSE |\n",
       "| FALSE | FALSE |\n",
       "| FALSE | FALSE |\n",
       "| FALSE | FALSE |\n",
       "| FALSE | FALSE |\n",
       "| FALSE | FALSE |\n",
       "| FALSE | FALSE |\n",
       "| FALSE | FALSE |\n",
       "| FALSE | FALSE |\n",
       "| FALSE | FALSE |\n",
       "| FALSE | FALSE |\n",
       "| FALSE | FALSE |\n",
       "| FALSE | FALSE |\n",
       "| FALSE | FALSE |\n",
       "| FALSE | FALSE |\n",
       "\n"
      ],
      "text/plain": [
       "      Page  Time \n",
       " [1,] FALSE FALSE\n",
       " [2,] FALSE FALSE\n",
       " [3,] FALSE FALSE\n",
       " [4,] FALSE FALSE\n",
       " [5,] FALSE FALSE\n",
       " [6,] FALSE FALSE\n",
       " [7,] FALSE FALSE\n",
       " [8,] FALSE FALSE\n",
       " [9,] FALSE FALSE\n",
       "[10,] FALSE FALSE\n",
       "[11,] FALSE FALSE\n",
       "[12,] FALSE FALSE\n",
       "[13,] FALSE FALSE\n",
       "[14,] FALSE FALSE\n",
       "[15,] FALSE FALSE\n",
       "[16,] FALSE FALSE\n",
       "[17,] FALSE FALSE\n",
       "[18,] FALSE FALSE\n",
       "[19,] FALSE FALSE\n",
       "[20,] FALSE FALSE"
      ]
     },
     "metadata": {},
     "output_type": "display_data"
    }
   ],
   "source": [
    "is.na(dfc)"
   ]
  },
  {
   "cell_type": "code",
   "execution_count": 133,
   "metadata": {},
   "outputs": [
    {
     "data": {
      "text/html": [
       "<table>\n",
       "<thead><tr><th></th><th scope=col>colSums(is.na(dfc))</th></tr></thead>\n",
       "<tbody>\n",
       "\t<tr><th scope=row>Page</th><td>0</td></tr>\n",
       "\t<tr><th scope=row>Time</th><td>0</td></tr>\n",
       "</tbody>\n",
       "</table>\n"
      ],
      "text/latex": [
       "\\begin{tabular}{r|l}\n",
       "  & colSums(is.na(dfc))\\\\\n",
       "\\hline\n",
       "\tPage & 0\\\\\n",
       "\tTime & 0\\\\\n",
       "\\end{tabular}\n"
      ],
      "text/markdown": [
       "\n",
       "| <!--/--> | colSums(is.na(dfc)) |\n",
       "|---|---|\n",
       "| Page | 0 |\n",
       "| Time | 0 |\n",
       "\n"
      ],
      "text/plain": [
       "     colSums(is.na(dfc))\n",
       "Page 0                  \n",
       "Time 0                  "
      ]
     },
     "metadata": {},
     "output_type": "display_data"
    }
   ],
   "source": [
    "as.data.frame(colSums(is.na(dfc)))"
   ]
  },
  {
   "cell_type": "markdown",
   "metadata": {},
   "source": [
    "# 36.kNN Imputation"
   ]
  },
  {
   "cell_type": "code",
   "execution_count": 134,
   "metadata": {},
   "outputs": [
    {
     "name": "stderr",
     "output_type": "stream",
     "text": [
      "Warning message:\n",
      "\"package 'DMwR' was built under R version 3.6.3\"Loading required package: lattice\n",
      "Loading required package: grid\n",
      "Registered S3 method overwritten by 'xts':\n",
      "  method     from\n",
      "  as.zoo.xts zoo \n",
      "Registered S3 method overwritten by 'quantmod':\n",
      "  method            from\n",
      "  as.zoo.data.frame zoo \n",
      "\n",
      "Attaching package: 'DMwR'\n",
      "\n",
      "The following object is masked _by_ '.GlobalEnv':\n",
      "\n",
      "    sales\n",
      "\n",
      "The following object is masked from 'package:plyr':\n",
      "\n",
      "    join\n",
      "\n",
      "Warning message in knnImputation(dfc):\n",
      "\"No case has missing values. Stopping as there is nothing to do.\""
     ]
    },
    {
     "data": {
      "text/html": [
       "FALSE"
      ],
      "text/latex": [
       "FALSE"
      ],
      "text/markdown": [
       "FALSE"
      ],
      "text/plain": [
       "[1] FALSE"
      ]
     },
     "metadata": {},
     "output_type": "display_data"
    }
   ],
   "source": [
    "library(DMwR)\n",
    "knn_res <- knnImputation(dfc)  # perform knn imputation.\n",
    "anyNA(knn_res)"
   ]
  },
  {
   "cell_type": "markdown",
   "metadata": {},
   "source": [
    "# 37.aggregate() function"
   ]
  },
  {
   "cell_type": "code",
   "execution_count": 135,
   "metadata": {},
   "outputs": [],
   "source": [
    "values <- data.frame(value = c(\"a\", \"a\", \"a\", \"a\", \"a\", \n",
    "                               \"b\", \"b\", \"b\", \n",
    "                               \"c\", \"c\", \"c\", \"c\"))\n",
    "nr.of.appearances <- aggregate(x = values, \n",
    "                               by = list(unique.values = values$value), \n",
    "                               FUN = length)"
   ]
  },
  {
   "cell_type": "code",
   "execution_count": 136,
   "metadata": {},
   "outputs": [
    {
     "data": {
      "text/html": [
       "<table>\n",
       "<thead><tr><th scope=col>unique.values</th><th scope=col>value</th></tr></thead>\n",
       "<tbody>\n",
       "\t<tr><td>a</td><td>5</td></tr>\n",
       "\t<tr><td>b</td><td>3</td></tr>\n",
       "\t<tr><td>c</td><td>4</td></tr>\n",
       "</tbody>\n",
       "</table>\n"
      ],
      "text/latex": [
       "\\begin{tabular}{r|ll}\n",
       " unique.values & value\\\\\n",
       "\\hline\n",
       "\t a & 5\\\\\n",
       "\t b & 3\\\\\n",
       "\t c & 4\\\\\n",
       "\\end{tabular}\n"
      ],
      "text/markdown": [
       "\n",
       "| unique.values | value |\n",
       "|---|---|\n",
       "| a | 5 |\n",
       "| b | 3 |\n",
       "| c | 4 |\n",
       "\n"
      ],
      "text/plain": [
       "  unique.values value\n",
       "1 a             5    \n",
       "2 b             3    \n",
       "3 c             4    "
      ]
     },
     "metadata": {},
     "output_type": "display_data"
    }
   ],
   "source": [
    "nr.of.appearances"
   ]
  },
  {
   "cell_type": "code",
   "execution_count": 137,
   "metadata": {},
   "outputs": [
    {
     "data": {
      "text/html": [
       "<table>\n",
       "<thead><tr><th scope=col>playerID</th><th scope=col>yearID</th><th scope=col>stint</th><th scope=col>teamID</th><th scope=col>lgID</th><th scope=col>G</th><th scope=col>AB</th><th scope=col>R</th><th scope=col>H</th><th scope=col>X2B</th><th scope=col>...</th><th scope=col>RBI</th><th scope=col>SB</th><th scope=col>CS</th><th scope=col>BB</th><th scope=col>SO</th><th scope=col>IBB</th><th scope=col>HBP</th><th scope=col>SH</th><th scope=col>SF</th><th scope=col>GIDP</th></tr></thead>\n",
       "<tbody>\n",
       "\t<tr><td>abercda01</td><td>1871     </td><td>1        </td><td>TRO      </td><td>NA       </td><td> 1       </td><td>  4      </td><td> 0       </td><td> 0       </td><td> 0       </td><td>...      </td><td> 0       </td><td>0        </td><td>0        </td><td>0        </td><td>0        </td><td>NA       </td><td>NA       </td><td>NA       </td><td>NA       </td><td>0        </td></tr>\n",
       "\t<tr><td>addybo01 </td><td>1871     </td><td>1        </td><td>RC1      </td><td>NA       </td><td>25       </td><td>118      </td><td>30       </td><td>32       </td><td> 6       </td><td>...      </td><td>13       </td><td>8        </td><td>1        </td><td>4        </td><td>0        </td><td>NA       </td><td>NA       </td><td>NA       </td><td>NA       </td><td>0        </td></tr>\n",
       "\t<tr><td>allisar01</td><td>1871     </td><td>1        </td><td>CL1      </td><td>NA       </td><td>29       </td><td>137      </td><td>28       </td><td>40       </td><td> 4       </td><td>...      </td><td>19       </td><td>3        </td><td>1        </td><td>2        </td><td>5        </td><td>NA       </td><td>NA       </td><td>NA       </td><td>NA       </td><td>1        </td></tr>\n",
       "\t<tr><td>allisdo01</td><td>1871     </td><td>1        </td><td>WS3      </td><td>NA       </td><td>27       </td><td>133      </td><td>28       </td><td>44       </td><td>10       </td><td>...      </td><td>27       </td><td>1        </td><td>1        </td><td>0        </td><td>2        </td><td>NA       </td><td>NA       </td><td>NA       </td><td>NA       </td><td>0        </td></tr>\n",
       "\t<tr><td>ansonca01</td><td>1871     </td><td>1        </td><td>RC1      </td><td>NA       </td><td>25       </td><td>120      </td><td>29       </td><td>39       </td><td>11       </td><td>...      </td><td>16       </td><td>6        </td><td>2        </td><td>2        </td><td>1        </td><td>NA       </td><td>NA       </td><td>NA       </td><td>NA       </td><td>0        </td></tr>\n",
       "\t<tr><td>armstbo01</td><td>1871     </td><td>1        </td><td>FW1      </td><td>NA       </td><td>12       </td><td> 49      </td><td> 9       </td><td>11       </td><td> 2       </td><td>...      </td><td> 5       </td><td>0        </td><td>1        </td><td>0        </td><td>1        </td><td>NA       </td><td>NA       </td><td>NA       </td><td>NA       </td><td>0        </td></tr>\n",
       "</tbody>\n",
       "</table>\n"
      ],
      "text/latex": [
       "\\begin{tabular}{r|llllllllllllllllllllll}\n",
       " playerID & yearID & stint & teamID & lgID & G & AB & R & H & X2B & ... & RBI & SB & CS & BB & SO & IBB & HBP & SH & SF & GIDP\\\\\n",
       "\\hline\n",
       "\t abercda01 & 1871      & 1         & TRO       & NA        &  1        &   4       &  0        &  0        &  0        & ...       &  0        & 0         & 0         & 0         & 0         & NA        & NA        & NA        & NA        & 0        \\\\\n",
       "\t addybo01  & 1871      & 1         & RC1       & NA        & 25        & 118       & 30        & 32        &  6        & ...       & 13        & 8         & 1         & 4         & 0         & NA        & NA        & NA        & NA        & 0        \\\\\n",
       "\t allisar01 & 1871      & 1         & CL1       & NA        & 29        & 137       & 28        & 40        &  4        & ...       & 19        & 3         & 1         & 2         & 5         & NA        & NA        & NA        & NA        & 1        \\\\\n",
       "\t allisdo01 & 1871      & 1         & WS3       & NA        & 27        & 133       & 28        & 44        & 10        & ...       & 27        & 1         & 1         & 0         & 2         & NA        & NA        & NA        & NA        & 0        \\\\\n",
       "\t ansonca01 & 1871      & 1         & RC1       & NA        & 25        & 120       & 29        & 39        & 11        & ...       & 16        & 6         & 2         & 2         & 1         & NA        & NA        & NA        & NA        & 0        \\\\\n",
       "\t armstbo01 & 1871      & 1         & FW1       & NA        & 12        &  49       &  9        & 11        &  2        & ...       &  5        & 0         & 1         & 0         & 1         & NA        & NA        & NA        & NA        & 0        \\\\\n",
       "\\end{tabular}\n"
      ],
      "text/markdown": [
       "\n",
       "| playerID | yearID | stint | teamID | lgID | G | AB | R | H | X2B | ... | RBI | SB | CS | BB | SO | IBB | HBP | SH | SF | GIDP |\n",
       "|---|---|---|---|---|---|---|---|---|---|---|---|---|---|---|---|---|---|---|---|---|\n",
       "| abercda01 | 1871      | 1         | TRO       | NA        |  1        |   4       |  0        |  0        |  0        | ...       |  0        | 0         | 0         | 0         | 0         | NA        | NA        | NA        | NA        | 0         |\n",
       "| addybo01  | 1871      | 1         | RC1       | NA        | 25        | 118       | 30        | 32        |  6        | ...       | 13        | 8         | 1         | 4         | 0         | NA        | NA        | NA        | NA        | 0         |\n",
       "| allisar01 | 1871      | 1         | CL1       | NA        | 29        | 137       | 28        | 40        |  4        | ...       | 19        | 3         | 1         | 2         | 5         | NA        | NA        | NA        | NA        | 1         |\n",
       "| allisdo01 | 1871      | 1         | WS3       | NA        | 27        | 133       | 28        | 44        | 10        | ...       | 27        | 1         | 1         | 0         | 2         | NA        | NA        | NA        | NA        | 0         |\n",
       "| ansonca01 | 1871      | 1         | RC1       | NA        | 25        | 120       | 29        | 39        | 11        | ...       | 16        | 6         | 2         | 2         | 1         | NA        | NA        | NA        | NA        | 0         |\n",
       "| armstbo01 | 1871      | 1         | FW1       | NA        | 12        |  49       |  9        | 11        |  2        | ...       |  5        | 0         | 1         | 0         | 1         | NA        | NA        | NA        | NA        | 0         |\n",
       "\n"
      ],
      "text/plain": [
       "  playerID  yearID stint teamID lgID G  AB  R  H  X2B ... RBI SB CS BB SO IBB\n",
       "1 abercda01 1871   1     TRO    NA    1   4  0  0  0  ...  0  0  0  0  0  NA \n",
       "2 addybo01  1871   1     RC1    NA   25 118 30 32  6  ... 13  8  1  4  0  NA \n",
       "3 allisar01 1871   1     CL1    NA   29 137 28 40  4  ... 19  3  1  2  5  NA \n",
       "4 allisdo01 1871   1     WS3    NA   27 133 28 44 10  ... 27  1  1  0  2  NA \n",
       "5 ansonca01 1871   1     RC1    NA   25 120 29 39 11  ... 16  6  2  2  1  NA \n",
       "6 armstbo01 1871   1     FW1    NA   12  49  9 11  2  ...  5  0  1  0  1  NA \n",
       "  HBP SH SF GIDP\n",
       "1 NA  NA NA 0   \n",
       "2 NA  NA NA 0   \n",
       "3 NA  NA NA 1   \n",
       "4 NA  NA NA 0   \n",
       "5 NA  NA NA 0   \n",
       "6 NA  NA NA 0   "
      ]
     },
     "metadata": {},
     "output_type": "display_data"
    }
   ],
   "source": [
    "df <-  read.csv(\"https://raw.githubusercontent.com/guru99-edu/R-Programming/master/lahman-batting.csv\")\n",
    "head(df)"
   ]
  },
  {
   "cell_type": "code",
   "execution_count": 138,
   "metadata": {},
   "outputs": [],
   "source": [
    "data <- read.csv(\"https://raw.githubusercontent.com/guru99-edu/R-Programming/master/lahman-batting.csv\")%>%\n",
    "select(c(playerID, yearID, AB, teamID, lgID, G, R, HR, SH))%>%\n",
    "arrange(playerID, teamID, yearID)"
   ]
  },
  {
   "cell_type": "code",
   "execution_count": 139,
   "metadata": {},
   "outputs": [
    {
     "data": {
      "text/html": [
       "<table>\n",
       "<thead><tr><th scope=col>mean_run</th></tr></thead>\n",
       "<tbody>\n",
       "\t<tr><td>18.7621</td></tr>\n",
       "</tbody>\n",
       "</table>\n"
      ],
      "text/latex": [
       "\\begin{tabular}{r|l}\n",
       " mean\\_run\\\\\n",
       "\\hline\n",
       "\t 18.7621\\\\\n",
       "\\end{tabular}\n"
      ],
      "text/markdown": [
       "\n",
       "| mean_run |\n",
       "|---|\n",
       "| 18.7621 |\n",
       "\n"
      ],
      "text/plain": [
       "  mean_run\n",
       "1 18.7621 "
      ]
     },
     "metadata": {},
     "output_type": "display_data"
    }
   ],
   "source": [
    "summarise(data, mean_run =mean(R))"
   ]
  },
  {
   "cell_type": "code",
   "execution_count": 140,
   "metadata": {},
   "outputs": [
    {
     "data": {
      "text/html": [
       "<table>\n",
       "<thead><tr><th scope=col>mean_games</th><th scope=col>mean_SH</th></tr></thead>\n",
       "<tbody>\n",
       "\t<tr><td>51.28215</td><td>2.279202</td></tr>\n",
       "</tbody>\n",
       "</table>\n"
      ],
      "text/latex": [
       "\\begin{tabular}{r|ll}\n",
       " mean\\_games & mean\\_SH\\\\\n",
       "\\hline\n",
       "\t 51.28215 & 2.279202\\\\\n",
       "\\end{tabular}\n"
      ],
      "text/markdown": [
       "\n",
       "| mean_games | mean_SH |\n",
       "|---|---|\n",
       "| 51.28215 | 2.279202 |\n",
       "\n"
      ],
      "text/plain": [
       "  mean_games mean_SH \n",
       "1 51.28215   2.279202"
      ]
     },
     "metadata": {},
     "output_type": "display_data"
    }
   ],
   "source": [
    "summarise(data, mean_games = mean(G),\n",
    "    mean_SH = mean(SH, na.rm = TRUE))"
   ]
  },
  {
   "cell_type": "code",
   "execution_count": 141,
   "metadata": {},
   "outputs": [
    {
     "data": {
      "text/html": [
       "<table>\n",
       "<thead><tr><th scope=col>min_G</th><th scope=col>max_G</th></tr></thead>\n",
       "<tbody>\n",
       "\t<tr><td>1  </td><td>165</td></tr>\n",
       "</tbody>\n",
       "</table>\n"
      ],
      "text/latex": [
       "\\begin{tabular}{r|ll}\n",
       " min\\_G & max\\_G\\\\\n",
       "\\hline\n",
       "\t 1   & 165\\\\\n",
       "\\end{tabular}\n"
      ],
      "text/markdown": [
       "\n",
       "| min_G | max_G |\n",
       "|---|---|\n",
       "| 1   | 165 |\n",
       "\n"
      ],
      "text/plain": [
       "  min_G max_G\n",
       "1 1     165  "
      ]
     },
     "metadata": {},
     "output_type": "display_data"
    }
   ],
   "source": [
    "data %>%\n",
    "group_by(playerID) %>%\n",
    "summarise(min_G = min(G),\n",
    "max_G = max(G))"
   ]
  },
  {
   "cell_type": "code",
   "execution_count": 144,
   "metadata": {},
   "outputs": [
    {
     "data": {
      "text/html": [
       "<table>\n",
       "<thead><tr><th scope=col>first_appearance</th><th scope=col>last_appearance</th></tr></thead>\n",
       "<tbody>\n",
       "\t<tr><td>2015</td><td>2017</td></tr>\n",
       "</tbody>\n",
       "</table>\n"
      ],
      "text/latex": [
       "\\begin{tabular}{r|ll}\n",
       " first\\_appearance & last\\_appearance\\\\\n",
       "\\hline\n",
       "\t 2015 & 2017\\\\\n",
       "\\end{tabular}\n"
      ],
      "text/markdown": [
       "\n",
       "| first_appearance | last_appearance |\n",
       "|---|---|\n",
       "| 2015 | 2017 |\n",
       "\n"
      ],
      "text/plain": [
       "  first_appearance last_appearance\n",
       "1 2015             2017           "
      ]
     },
     "metadata": {},
     "output_type": "display_data"
    }
   ],
   "source": [
    "data %>%\n",
    "group_by(playerID) %>%\n",
    "summarise(first_appearance = first(yearID),\n",
    "last_appearance = last(yearID))"
   ]
  },
  {
   "cell_type": "markdown",
   "metadata": {},
   "source": [
    "# 38.nth observation"
   ]
  },
  {
   "cell_type": "markdown",
   "metadata": {},
   "source": [
    "The fonction nth() is complementary to first() and last(). You can access the nth observation within a group with the index to return"
   ]
  },
  {
   "cell_type": "code",
   "execution_count": 145,
   "metadata": {},
   "outputs": [
    {
     "data": {
      "text/html": [
       "<table>\n",
       "<thead><tr><th scope=col>second_game</th></tr></thead>\n",
       "<tbody>\n",
       "\t<tr><td>2008</td></tr>\n",
       "</tbody>\n",
       "</table>\n"
      ],
      "text/latex": [
       "\\begin{tabular}{r|l}\n",
       " second\\_game\\\\\n",
       "\\hline\n",
       "\t 2008\\\\\n",
       "\\end{tabular}\n"
      ],
      "text/markdown": [
       "\n",
       "| second_game |\n",
       "|---|\n",
       "| 2008 |\n",
       "\n"
      ],
      "text/plain": [
       "  second_game\n",
       "1 2008       "
      ]
     },
     "metadata": {},
     "output_type": "display_data"
    }
   ],
   "source": [
    "library(dplyr)\n",
    "data %>%\n",
    "group_by(teamID) %>%\n",
    "summarise(second_game = nth(yearID, 2)) %>%\n",
    "arrange(second_game)"
   ]
  },
  {
   "cell_type": "markdown",
   "metadata": {},
   "source": [
    "### Distinct number of observation\n",
    "The function n() returns the number of observations in a current group. A closed function to n() is n_distinct(), which count the number of unique values.\n",
    "\n",
    "In the next example, you add up the total of players a team recruited during the all periods."
   ]
  },
  {
   "cell_type": "code",
   "execution_count": 146,
   "metadata": {},
   "outputs": [
    {
     "data": {
      "text/html": [
       "<table>\n",
       "<thead><tr><th scope=col>number_player</th></tr></thead>\n",
       "<tbody>\n",
       "\t<tr><td>19182</td></tr>\n",
       "</tbody>\n",
       "</table>\n"
      ],
      "text/latex": [
       "\\begin{tabular}{r|l}\n",
       " number\\_player\\\\\n",
       "\\hline\n",
       "\t 19182\\\\\n",
       "\\end{tabular}\n"
      ],
      "text/markdown": [
       "\n",
       "| number_player |\n",
       "|---|\n",
       "| 19182 |\n",
       "\n"
      ],
      "text/plain": [
       "  number_player\n",
       "1 19182        "
      ]
     },
     "metadata": {},
     "output_type": "display_data"
    }
   ],
   "source": [
    "data %>%\n",
    "group_by(teamID) %>%\n",
    "summarise(number_player = n_distinct(playerID)) %>%\n",
    "arrange(desc(number_player))"
   ]
  },
  {
   "cell_type": "markdown",
   "metadata": {},
   "source": [
    "# Multiple groups"
   ]
  },
  {
   "cell_type": "code",
   "execution_count": 147,
   "metadata": {},
   "outputs": [
    {
     "ename": "ERROR",
     "evalue": "Error in desc(teamID, yearID): unused argument (yearID)\n",
     "output_type": "error",
     "traceback": [
      "Error in desc(teamID, yearID): unused argument (yearID)\nTraceback:\n",
      "1. data %>% group_by(yearID, teamID) %>% summarise(mean_games = mean(G)) %>% \n .     arrange(desc(teamID, yearID))",
      "2. withVisible(eval(quote(`_fseq`(`_lhs`)), env, env))",
      "3. eval(quote(`_fseq`(`_lhs`)), env, env)",
      "4. eval(quote(`_fseq`(`_lhs`)), env, env)",
      "5. `_fseq`(`_lhs`)",
      "6. freduce(value, `_function_list`)",
      "7. withVisible(function_list[[k]](value))",
      "8. function_list[[k]](value)",
      "9. arrange(., desc(teamID, yearID))",
      "10. eval(substitute(order(...)), df, parent.frame())",
      "11. eval(substitute(order(...)), df, parent.frame())",
      "12. order(desc(teamID, yearID))"
     ]
    }
   ],
   "source": [
    "data %>%\n",
    "group_by(yearID, teamID) %>%\n",
    "summarise(mean_games = mean(G)) %>%\n",
    "arrange(desc(teamID, yearID))"
   ]
  },
  {
   "cell_type": "markdown",
   "metadata": {},
   "source": [
    "# 39.Ungroup"
   ]
  },
  {
   "cell_type": "code",
   "execution_count": 148,
   "metadata": {},
   "outputs": [
    {
     "data": {
      "text/html": [
       "<table>\n",
       "<thead><tr><th scope=col>total_average_homerun</th></tr></thead>\n",
       "<tbody>\n",
       "\t<tr><td>0.07951972</td></tr>\n",
       "</tbody>\n",
       "</table>\n"
      ],
      "text/latex": [
       "\\begin{tabular}{r|l}\n",
       " total\\_average\\_homerun\\\\\n",
       "\\hline\n",
       "\t 0.07951972\\\\\n",
       "\\end{tabular}\n"
      ],
      "text/markdown": [
       "\n",
       "| total_average_homerun |\n",
       "|---|\n",
       "| 0.07951972 |\n",
       "\n"
      ],
      "text/plain": [
       "  total_average_homerun\n",
       "1 0.07951972           "
      ]
     },
     "metadata": {},
     "output_type": "display_data"
    }
   ],
   "source": [
    "data %>%\n",
    "filter(HR > 0) %>%\n",
    "group_by(playerID) %>%\n",
    "summarise(average_HR_game = sum(HR) / sum(G)) %>%\n",
    "ungroup() %>%\n",
    "summarise(total_average_homerun = mean(average_HR_game))"
   ]
  },
  {
   "cell_type": "markdown",
   "metadata": {},
   "source": [
    "# 40.Normalize data"
   ]
  },
  {
   "cell_type": "markdown",
   "metadata": {},
   "source": [
    "Feature Scaling is an essential step prior to modeling while solving prediction problems in Data Science. Machine Learning algorithms work well with the data that belongs to a smaller and standard scale.\n",
    "\n",
    "This is when Normalization comes into picture. Normalization techniques enables us to reduce the scale of the variables and thus it affects the statistical distribution of the data in a positive manner.\n",
    "\n",
    "In the subsequent sections, we will be having a look at some of the techniques to perform Normalization on the data values"
   ]
  },
  {
   "cell_type": "markdown",
   "metadata": {},
   "source": [
    "## 1. Normalize data in R – Log Transformation"
   ]
  },
  {
   "cell_type": "code",
   "execution_count": 149,
   "metadata": {},
   "outputs": [
    {
     "data": {
      "text/plain": [
       "   Min. 1st Qu.  Median    Mean 3rd Qu.    Max. \n",
       "     12    1092    1211    6412    3456   34567 "
      ]
     },
     "metadata": {},
     "output_type": "display_data"
    }
   ],
   "source": [
    "data = c(1200,34567,3456,12,3456,0985,1211)\n",
    "summary(data)\n",
    "log_scale = log(as.data.frame(data))"
   ]
  },
  {
   "cell_type": "code",
   "execution_count": 150,
   "metadata": {},
   "outputs": [
    {
     "data": {
      "text/html": [
       "<table>\n",
       "<thead><tr><th scope=col>data</th></tr></thead>\n",
       "<tbody>\n",
       "\t<tr><td> 7.090077</td></tr>\n",
       "\t<tr><td>10.450655</td></tr>\n",
       "\t<tr><td> 8.147867</td></tr>\n",
       "\t<tr><td> 2.484907</td></tr>\n",
       "\t<tr><td> 8.147867</td></tr>\n",
       "\t<tr><td> 6.892642</td></tr>\n",
       "\t<tr><td> 7.099202</td></tr>\n",
       "</tbody>\n",
       "</table>\n"
      ],
      "text/latex": [
       "\\begin{tabular}{r|l}\n",
       " data\\\\\n",
       "\\hline\n",
       "\t  7.090077\\\\\n",
       "\t 10.450655\\\\\n",
       "\t  8.147867\\\\\n",
       "\t  2.484907\\\\\n",
       "\t  8.147867\\\\\n",
       "\t  6.892642\\\\\n",
       "\t  7.099202\\\\\n",
       "\\end{tabular}\n"
      ],
      "text/markdown": [
       "\n",
       "| data |\n",
       "|---|\n",
       "|  7.090077 |\n",
       "| 10.450655 |\n",
       "|  8.147867 |\n",
       "|  2.484907 |\n",
       "|  8.147867 |\n",
       "|  6.892642 |\n",
       "|  7.099202 |\n",
       "\n"
      ],
      "text/plain": [
       "  data     \n",
       "1  7.090077\n",
       "2 10.450655\n",
       "3  8.147867\n",
       "4  2.484907\n",
       "5  8.147867\n",
       "6  6.892642\n",
       "7  7.099202"
      ]
     },
     "metadata": {},
     "output_type": "display_data"
    }
   ],
   "source": [
    "log_scale"
   ]
  },
  {
   "cell_type": "markdown",
   "metadata": {},
   "source": [
    "### 2. Normalize Data with Min-Max Scaling in R"
   ]
  },
  {
   "cell_type": "code",
   "execution_count": 151,
   "metadata": {},
   "outputs": [
    {
     "data": {
      "text/plain": [
       "   Min. 1st Qu.  Median    Mean 3rd Qu.    Max. \n",
       "     12    1092    1211    6412    3456   34567 "
      ]
     },
     "metadata": {},
     "output_type": "display_data"
    },
    {
     "name": "stderr",
     "output_type": "stream",
     "text": [
      "\n",
      "Attaching package: 'caret'\n",
      "\n",
      "The following object is masked from 'package:purrr':\n",
      "\n",
      "    lift\n",
      "\n"
     ]
    }
   ],
   "source": [
    "rm(list = ls())\n",
    " \n",
    "data = c(1200,34567,3456,12,3456,0985,1211)\n",
    "summary(data)\n",
    "library(caret)\n",
    "process <- preProcess(as.data.frame(data), method=c(\"range\"))\n",
    " \n",
    "norm_scale <- predict(process, as.data.frame(data))"
   ]
  },
  {
   "cell_type": "code",
   "execution_count": 152,
   "metadata": {},
   "outputs": [
    {
     "data": {
      "text/html": [
       "<table>\n",
       "<thead><tr><th scope=col>data</th></tr></thead>\n",
       "<tbody>\n",
       "\t<tr><td>0.03437997</td></tr>\n",
       "\t<tr><td>1.00000000</td></tr>\n",
       "\t<tr><td>0.09966720</td></tr>\n",
       "\t<tr><td>0.00000000</td></tr>\n",
       "\t<tr><td>0.09966720</td></tr>\n",
       "\t<tr><td>0.02815801</td></tr>\n",
       "\t<tr><td>0.03469831</td></tr>\n",
       "</tbody>\n",
       "</table>\n"
      ],
      "text/latex": [
       "\\begin{tabular}{r|l}\n",
       " data\\\\\n",
       "\\hline\n",
       "\t 0.03437997\\\\\n",
       "\t 1.00000000\\\\\n",
       "\t 0.09966720\\\\\n",
       "\t 0.00000000\\\\\n",
       "\t 0.09966720\\\\\n",
       "\t 0.02815801\\\\\n",
       "\t 0.03469831\\\\\n",
       "\\end{tabular}\n"
      ],
      "text/markdown": [
       "\n",
       "| data |\n",
       "|---|\n",
       "| 0.03437997 |\n",
       "| 1.00000000 |\n",
       "| 0.09966720 |\n",
       "| 0.00000000 |\n",
       "| 0.09966720 |\n",
       "| 0.02815801 |\n",
       "| 0.03469831 |\n",
       "\n"
      ],
      "text/plain": [
       "  data      \n",
       "1 0.03437997\n",
       "2 1.00000000\n",
       "3 0.09966720\n",
       "4 0.00000000\n",
       "5 0.09966720\n",
       "6 0.02815801\n",
       "7 0.03469831"
      ]
     },
     "metadata": {},
     "output_type": "display_data"
    }
   ],
   "source": [
    "norm_scale"
   ]
  },
  {
   "cell_type": "markdown",
   "metadata": {},
   "source": [
    "### 3. Normalize Data with Standard Scaling in R"
   ]
  },
  {
   "cell_type": "code",
   "execution_count": 153,
   "metadata": {},
   "outputs": [
    {
     "data": {
      "text/plain": [
       "   Min. 1st Qu.  Median    Mean 3rd Qu.    Max. \n",
       "     12    1092    1211    6412    3456   34567 "
      ]
     },
     "metadata": {},
     "output_type": "display_data"
    }
   ],
   "source": [
    "data = c(1200,34567,3456,12,3456,0985,1211)\n",
    "summary(data)\n",
    "scale_data <- as.data.frame(scale(data))"
   ]
  },
  {
   "cell_type": "code",
   "execution_count": 154,
   "metadata": {},
   "outputs": [
    {
     "data": {
      "text/html": [
       "<table>\n",
       "<thead><tr><th scope=col>V1</th></tr></thead>\n",
       "<tbody>\n",
       "\t<tr><td>-0.4175944</td></tr>\n",
       "\t<tr><td> 2.2556070</td></tr>\n",
       "\t<tr><td>-0.2368546</td></tr>\n",
       "\t<tr><td>-0.5127711</td></tr>\n",
       "\t<tr><td>-0.2368546</td></tr>\n",
       "\t<tr><td>-0.4348191</td></tr>\n",
       "\t<tr><td>-0.4167131</td></tr>\n",
       "</tbody>\n",
       "</table>\n"
      ],
      "text/latex": [
       "\\begin{tabular}{r|l}\n",
       " V1\\\\\n",
       "\\hline\n",
       "\t -0.4175944\\\\\n",
       "\t  2.2556070\\\\\n",
       "\t -0.2368546\\\\\n",
       "\t -0.5127711\\\\\n",
       "\t -0.2368546\\\\\n",
       "\t -0.4348191\\\\\n",
       "\t -0.4167131\\\\\n",
       "\\end{tabular}\n"
      ],
      "text/markdown": [
       "\n",
       "| V1 |\n",
       "|---|\n",
       "| -0.4175944 |\n",
       "|  2.2556070 |\n",
       "| -0.2368546 |\n",
       "| -0.5127711 |\n",
       "| -0.2368546 |\n",
       "| -0.4348191 |\n",
       "| -0.4167131 |\n",
       "\n"
      ],
      "text/plain": [
       "  V1        \n",
       "1 -0.4175944\n",
       "2  2.2556070\n",
       "3 -0.2368546\n",
       "4 -0.5127711\n",
       "5 -0.2368546\n",
       "6 -0.4348191\n",
       "7 -0.4167131"
      ]
     },
     "metadata": {},
     "output_type": "display_data"
    }
   ],
   "source": [
    "scale_data"
   ]
  },
  {
   "cell_type": "markdown",
   "metadata": {},
   "source": [
    "# 41.One-hot encoding"
   ]
  },
  {
   "cell_type": "markdown",
   "metadata": {},
   "source": [
    "Cleaning and preparing data is one of the most effective ways of boosting the accuracy of predictions through machine learning. If you’re working with categorical variables, you’ll probably want to recode them to a format more friendly to machine learning algorithms."
   ]
  },
  {
   "cell_type": "code",
   "execution_count": 155,
   "metadata": {},
   "outputs": [],
   "source": [
    "data <- data.frame(\n",
    "  Outcome = seq(1,100,by=1),\n",
    "  Variable = sample(c(\"Red\",\"Green\",\"Blue\"), 100, replace = TRUE)\n",
    ")"
   ]
  },
  {
   "cell_type": "code",
   "execution_count": 156,
   "metadata": {},
   "outputs": [
    {
     "data": {
      "text/html": [
       "<table>\n",
       "<thead><tr><th scope=col>Outcome</th><th scope=col>Variable</th></tr></thead>\n",
       "<tbody>\n",
       "\t<tr><td>1    </td><td>Blue </td></tr>\n",
       "\t<tr><td>2    </td><td>Green</td></tr>\n",
       "\t<tr><td>3    </td><td>Red  </td></tr>\n",
       "\t<tr><td>4    </td><td>Red  </td></tr>\n",
       "\t<tr><td>5    </td><td>Green</td></tr>\n",
       "\t<tr><td>6    </td><td>Red  </td></tr>\n",
       "</tbody>\n",
       "</table>\n"
      ],
      "text/latex": [
       "\\begin{tabular}{r|ll}\n",
       " Outcome & Variable\\\\\n",
       "\\hline\n",
       "\t 1     & Blue \\\\\n",
       "\t 2     & Green\\\\\n",
       "\t 3     & Red  \\\\\n",
       "\t 4     & Red  \\\\\n",
       "\t 5     & Green\\\\\n",
       "\t 6     & Red  \\\\\n",
       "\\end{tabular}\n"
      ],
      "text/markdown": [
       "\n",
       "| Outcome | Variable |\n",
       "|---|---|\n",
       "| 1     | Blue  |\n",
       "| 2     | Green |\n",
       "| 3     | Red   |\n",
       "| 4     | Red   |\n",
       "| 5     | Green |\n",
       "| 6     | Red   |\n",
       "\n"
      ],
      "text/plain": [
       "  Outcome Variable\n",
       "1 1       Blue    \n",
       "2 2       Green   \n",
       "3 3       Red     \n",
       "4 4       Red     \n",
       "5 5       Green   \n",
       "6 6       Red     "
      ]
     },
     "metadata": {},
     "output_type": "display_data"
    }
   ],
   "source": [
    "head(data)"
   ]
  },
  {
   "cell_type": "code",
   "execution_count": 157,
   "metadata": {},
   "outputs": [
    {
     "name": "stderr",
     "output_type": "stream",
     "text": [
      "Warning message:\n",
      "\"package 'mltools' was built under R version 3.6.3\"\n",
      "Attaching package: 'mltools'\n",
      "\n",
      "The following object is masked from 'package:tidyr':\n",
      "\n",
      "    replace_na\n",
      "\n",
      "\n",
      "Attaching package: 'data.table'\n",
      "\n",
      "The following objects are masked from 'package:dplyr':\n",
      "\n",
      "    between, first, last\n",
      "\n",
      "The following object is masked from 'package:purrr':\n",
      "\n",
      "    transpose\n",
      "\n"
     ]
    }
   ],
   "source": [
    "#install.packages(\"mltools\")\n",
    "library(mltools)\n",
    "library(data.table)\n",
    "\n"
   ]
  },
  {
   "cell_type": "code",
   "execution_count": 158,
   "metadata": {},
   "outputs": [],
   "source": [
    "library(mltools)\n",
    "library(data.table)"
   ]
  },
  {
   "cell_type": "code",
   "execution_count": 159,
   "metadata": {},
   "outputs": [],
   "source": [
    "newdata <- one_hot(as.data.table(data))"
   ]
  },
  {
   "cell_type": "code",
   "execution_count": 160,
   "metadata": {},
   "outputs": [
    {
     "data": {
      "text/html": [
       "<table>\n",
       "<thead><tr><th scope=col>Outcome</th><th scope=col>Variable_Blue</th><th scope=col>Variable_Green</th><th scope=col>Variable_Red</th></tr></thead>\n",
       "<tbody>\n",
       "\t<tr><td> 1</td><td>1 </td><td>0 </td><td>0 </td></tr>\n",
       "\t<tr><td> 2</td><td>0 </td><td>1 </td><td>0 </td></tr>\n",
       "\t<tr><td> 3</td><td>0 </td><td>0 </td><td>1 </td></tr>\n",
       "\t<tr><td> 4</td><td>0 </td><td>0 </td><td>1 </td></tr>\n",
       "\t<tr><td> 5</td><td>0 </td><td>1 </td><td>0 </td></tr>\n",
       "\t<tr><td> 6</td><td>0 </td><td>0 </td><td>1 </td></tr>\n",
       "\t<tr><td> 7</td><td>1 </td><td>0 </td><td>0 </td></tr>\n",
       "\t<tr><td> 8</td><td>0 </td><td>0 </td><td>1 </td></tr>\n",
       "\t<tr><td> 9</td><td>0 </td><td>1 </td><td>0 </td></tr>\n",
       "\t<tr><td>10</td><td>0 </td><td>0 </td><td>1 </td></tr>\n",
       "\t<tr><td>11</td><td>1 </td><td>0 </td><td>0 </td></tr>\n",
       "\t<tr><td>12</td><td>1 </td><td>0 </td><td>0 </td></tr>\n",
       "\t<tr><td>13</td><td>0 </td><td>1 </td><td>0 </td></tr>\n",
       "\t<tr><td>14</td><td>0 </td><td>0 </td><td>1 </td></tr>\n",
       "\t<tr><td>15</td><td>0 </td><td>1 </td><td>0 </td></tr>\n",
       "\t<tr><td>16</td><td>0 </td><td>0 </td><td>1 </td></tr>\n",
       "\t<tr><td>17</td><td>0 </td><td>0 </td><td>1 </td></tr>\n",
       "\t<tr><td>18</td><td>0 </td><td>0 </td><td>1 </td></tr>\n",
       "\t<tr><td>19</td><td>0 </td><td>0 </td><td>1 </td></tr>\n",
       "\t<tr><td>20</td><td>0 </td><td>0 </td><td>1 </td></tr>\n",
       "\t<tr><td>21</td><td>1 </td><td>0 </td><td>0 </td></tr>\n",
       "\t<tr><td>22</td><td>1 </td><td>0 </td><td>0 </td></tr>\n",
       "\t<tr><td>23</td><td>0 </td><td>0 </td><td>1 </td></tr>\n",
       "\t<tr><td>24</td><td>0 </td><td>0 </td><td>1 </td></tr>\n",
       "\t<tr><td>25</td><td>0 </td><td>1 </td><td>0 </td></tr>\n",
       "\t<tr><td>26</td><td>0 </td><td>1 </td><td>0 </td></tr>\n",
       "\t<tr><td>27</td><td>0 </td><td>1 </td><td>0 </td></tr>\n",
       "\t<tr><td>28</td><td>1 </td><td>0 </td><td>0 </td></tr>\n",
       "\t<tr><td>29</td><td>0 </td><td>0 </td><td>1 </td></tr>\n",
       "\t<tr><td>30</td><td>0 </td><td>1 </td><td>0 </td></tr>\n",
       "\t<tr><td>...</td><td>...</td><td>...</td><td>...</td></tr>\n",
       "\t<tr><td> 71</td><td>0  </td><td>1  </td><td>0  </td></tr>\n",
       "\t<tr><td> 72</td><td>1  </td><td>0  </td><td>0  </td></tr>\n",
       "\t<tr><td> 73</td><td>0  </td><td>1  </td><td>0  </td></tr>\n",
       "\t<tr><td> 74</td><td>0  </td><td>0  </td><td>1  </td></tr>\n",
       "\t<tr><td> 75</td><td>0  </td><td>1  </td><td>0  </td></tr>\n",
       "\t<tr><td> 76</td><td>0  </td><td>1  </td><td>0  </td></tr>\n",
       "\t<tr><td> 77</td><td>1  </td><td>0  </td><td>0  </td></tr>\n",
       "\t<tr><td> 78</td><td>0  </td><td>1  </td><td>0  </td></tr>\n",
       "\t<tr><td> 79</td><td>0  </td><td>1  </td><td>0  </td></tr>\n",
       "\t<tr><td> 80</td><td>0  </td><td>1  </td><td>0  </td></tr>\n",
       "\t<tr><td> 81</td><td>1  </td><td>0  </td><td>0  </td></tr>\n",
       "\t<tr><td> 82</td><td>1  </td><td>0  </td><td>0  </td></tr>\n",
       "\t<tr><td> 83</td><td>0  </td><td>0  </td><td>1  </td></tr>\n",
       "\t<tr><td> 84</td><td>1  </td><td>0  </td><td>0  </td></tr>\n",
       "\t<tr><td> 85</td><td>0  </td><td>0  </td><td>1  </td></tr>\n",
       "\t<tr><td> 86</td><td>1  </td><td>0  </td><td>0  </td></tr>\n",
       "\t<tr><td> 87</td><td>0  </td><td>1  </td><td>0  </td></tr>\n",
       "\t<tr><td> 88</td><td>1  </td><td>0  </td><td>0  </td></tr>\n",
       "\t<tr><td> 89</td><td>1  </td><td>0  </td><td>0  </td></tr>\n",
       "\t<tr><td> 90</td><td>0  </td><td>0  </td><td>1  </td></tr>\n",
       "\t<tr><td> 91</td><td>1  </td><td>0  </td><td>0  </td></tr>\n",
       "\t<tr><td> 92</td><td>0  </td><td>1  </td><td>0  </td></tr>\n",
       "\t<tr><td> 93</td><td>0  </td><td>1  </td><td>0  </td></tr>\n",
       "\t<tr><td> 94</td><td>0  </td><td>1  </td><td>0  </td></tr>\n",
       "\t<tr><td> 95</td><td>0  </td><td>0  </td><td>1  </td></tr>\n",
       "\t<tr><td> 96</td><td>0  </td><td>0  </td><td>1  </td></tr>\n",
       "\t<tr><td> 97</td><td>0  </td><td>0  </td><td>1  </td></tr>\n",
       "\t<tr><td> 98</td><td>0  </td><td>1  </td><td>0  </td></tr>\n",
       "\t<tr><td> 99</td><td>1  </td><td>0  </td><td>0  </td></tr>\n",
       "\t<tr><td>100</td><td>0  </td><td>0  </td><td>1  </td></tr>\n",
       "</tbody>\n",
       "</table>\n"
      ],
      "text/latex": [
       "\\begin{tabular}{r|llll}\n",
       " Outcome & Variable\\_Blue & Variable\\_Green & Variable\\_Red\\\\\n",
       "\\hline\n",
       "\t  1 & 1  & 0  & 0 \\\\\n",
       "\t  2 & 0  & 1  & 0 \\\\\n",
       "\t  3 & 0  & 0  & 1 \\\\\n",
       "\t  4 & 0  & 0  & 1 \\\\\n",
       "\t  5 & 0  & 1  & 0 \\\\\n",
       "\t  6 & 0  & 0  & 1 \\\\\n",
       "\t  7 & 1  & 0  & 0 \\\\\n",
       "\t  8 & 0  & 0  & 1 \\\\\n",
       "\t  9 & 0  & 1  & 0 \\\\\n",
       "\t 10 & 0  & 0  & 1 \\\\\n",
       "\t 11 & 1  & 0  & 0 \\\\\n",
       "\t 12 & 1  & 0  & 0 \\\\\n",
       "\t 13 & 0  & 1  & 0 \\\\\n",
       "\t 14 & 0  & 0  & 1 \\\\\n",
       "\t 15 & 0  & 1  & 0 \\\\\n",
       "\t 16 & 0  & 0  & 1 \\\\\n",
       "\t 17 & 0  & 0  & 1 \\\\\n",
       "\t 18 & 0  & 0  & 1 \\\\\n",
       "\t 19 & 0  & 0  & 1 \\\\\n",
       "\t 20 & 0  & 0  & 1 \\\\\n",
       "\t 21 & 1  & 0  & 0 \\\\\n",
       "\t 22 & 1  & 0  & 0 \\\\\n",
       "\t 23 & 0  & 0  & 1 \\\\\n",
       "\t 24 & 0  & 0  & 1 \\\\\n",
       "\t 25 & 0  & 1  & 0 \\\\\n",
       "\t 26 & 0  & 1  & 0 \\\\\n",
       "\t 27 & 0  & 1  & 0 \\\\\n",
       "\t 28 & 1  & 0  & 0 \\\\\n",
       "\t 29 & 0  & 0  & 1 \\\\\n",
       "\t 30 & 0  & 1  & 0 \\\\\n",
       "\t ... & ... & ... & ...\\\\\n",
       "\t  71 & 0   & 1   & 0  \\\\\n",
       "\t  72 & 1   & 0   & 0  \\\\\n",
       "\t  73 & 0   & 1   & 0  \\\\\n",
       "\t  74 & 0   & 0   & 1  \\\\\n",
       "\t  75 & 0   & 1   & 0  \\\\\n",
       "\t  76 & 0   & 1   & 0  \\\\\n",
       "\t  77 & 1   & 0   & 0  \\\\\n",
       "\t  78 & 0   & 1   & 0  \\\\\n",
       "\t  79 & 0   & 1   & 0  \\\\\n",
       "\t  80 & 0   & 1   & 0  \\\\\n",
       "\t  81 & 1   & 0   & 0  \\\\\n",
       "\t  82 & 1   & 0   & 0  \\\\\n",
       "\t  83 & 0   & 0   & 1  \\\\\n",
       "\t  84 & 1   & 0   & 0  \\\\\n",
       "\t  85 & 0   & 0   & 1  \\\\\n",
       "\t  86 & 1   & 0   & 0  \\\\\n",
       "\t  87 & 0   & 1   & 0  \\\\\n",
       "\t  88 & 1   & 0   & 0  \\\\\n",
       "\t  89 & 1   & 0   & 0  \\\\\n",
       "\t  90 & 0   & 0   & 1  \\\\\n",
       "\t  91 & 1   & 0   & 0  \\\\\n",
       "\t  92 & 0   & 1   & 0  \\\\\n",
       "\t  93 & 0   & 1   & 0  \\\\\n",
       "\t  94 & 0   & 1   & 0  \\\\\n",
       "\t  95 & 0   & 0   & 1  \\\\\n",
       "\t  96 & 0   & 0   & 1  \\\\\n",
       "\t  97 & 0   & 0   & 1  \\\\\n",
       "\t  98 & 0   & 1   & 0  \\\\\n",
       "\t  99 & 1   & 0   & 0  \\\\\n",
       "\t 100 & 0   & 0   & 1  \\\\\n",
       "\\end{tabular}\n"
      ],
      "text/markdown": [
       "\n",
       "| Outcome | Variable_Blue | Variable_Green | Variable_Red |\n",
       "|---|---|---|---|\n",
       "|  1 | 1  | 0  | 0  |\n",
       "|  2 | 0  | 1  | 0  |\n",
       "|  3 | 0  | 0  | 1  |\n",
       "|  4 | 0  | 0  | 1  |\n",
       "|  5 | 0  | 1  | 0  |\n",
       "|  6 | 0  | 0  | 1  |\n",
       "|  7 | 1  | 0  | 0  |\n",
       "|  8 | 0  | 0  | 1  |\n",
       "|  9 | 0  | 1  | 0  |\n",
       "| 10 | 0  | 0  | 1  |\n",
       "| 11 | 1  | 0  | 0  |\n",
       "| 12 | 1  | 0  | 0  |\n",
       "| 13 | 0  | 1  | 0  |\n",
       "| 14 | 0  | 0  | 1  |\n",
       "| 15 | 0  | 1  | 0  |\n",
       "| 16 | 0  | 0  | 1  |\n",
       "| 17 | 0  | 0  | 1  |\n",
       "| 18 | 0  | 0  | 1  |\n",
       "| 19 | 0  | 0  | 1  |\n",
       "| 20 | 0  | 0  | 1  |\n",
       "| 21 | 1  | 0  | 0  |\n",
       "| 22 | 1  | 0  | 0  |\n",
       "| 23 | 0  | 0  | 1  |\n",
       "| 24 | 0  | 0  | 1  |\n",
       "| 25 | 0  | 1  | 0  |\n",
       "| 26 | 0  | 1  | 0  |\n",
       "| 27 | 0  | 1  | 0  |\n",
       "| 28 | 1  | 0  | 0  |\n",
       "| 29 | 0  | 0  | 1  |\n",
       "| 30 | 0  | 1  | 0  |\n",
       "| ... | ... | ... | ... |\n",
       "|  71 | 0   | 1   | 0   |\n",
       "|  72 | 1   | 0   | 0   |\n",
       "|  73 | 0   | 1   | 0   |\n",
       "|  74 | 0   | 0   | 1   |\n",
       "|  75 | 0   | 1   | 0   |\n",
       "|  76 | 0   | 1   | 0   |\n",
       "|  77 | 1   | 0   | 0   |\n",
       "|  78 | 0   | 1   | 0   |\n",
       "|  79 | 0   | 1   | 0   |\n",
       "|  80 | 0   | 1   | 0   |\n",
       "|  81 | 1   | 0   | 0   |\n",
       "|  82 | 1   | 0   | 0   |\n",
       "|  83 | 0   | 0   | 1   |\n",
       "|  84 | 1   | 0   | 0   |\n",
       "|  85 | 0   | 0   | 1   |\n",
       "|  86 | 1   | 0   | 0   |\n",
       "|  87 | 0   | 1   | 0   |\n",
       "|  88 | 1   | 0   | 0   |\n",
       "|  89 | 1   | 0   | 0   |\n",
       "|  90 | 0   | 0   | 1   |\n",
       "|  91 | 1   | 0   | 0   |\n",
       "|  92 | 0   | 1   | 0   |\n",
       "|  93 | 0   | 1   | 0   |\n",
       "|  94 | 0   | 1   | 0   |\n",
       "|  95 | 0   | 0   | 1   |\n",
       "|  96 | 0   | 0   | 1   |\n",
       "|  97 | 0   | 0   | 1   |\n",
       "|  98 | 0   | 1   | 0   |\n",
       "|  99 | 1   | 0   | 0   |\n",
       "| 100 | 0   | 0   | 1   |\n",
       "\n"
      ],
      "text/plain": [
       "    Outcome Variable_Blue Variable_Green Variable_Red\n",
       "1    1      1             0              0           \n",
       "2    2      0             1              0           \n",
       "3    3      0             0              1           \n",
       "4    4      0             0              1           \n",
       "5    5      0             1              0           \n",
       "6    6      0             0              1           \n",
       "7    7      1             0              0           \n",
       "8    8      0             0              1           \n",
       "9    9      0             1              0           \n",
       "10  10      0             0              1           \n",
       "11  11      1             0              0           \n",
       "12  12      1             0              0           \n",
       "13  13      0             1              0           \n",
       "14  14      0             0              1           \n",
       "15  15      0             1              0           \n",
       "16  16      0             0              1           \n",
       "17  17      0             0              1           \n",
       "18  18      0             0              1           \n",
       "19  19      0             0              1           \n",
       "20  20      0             0              1           \n",
       "21  21      1             0              0           \n",
       "22  22      1             0              0           \n",
       "23  23      0             0              1           \n",
       "24  24      0             0              1           \n",
       "25  25      0             1              0           \n",
       "26  26      0             1              0           \n",
       "27  27      0             1              0           \n",
       "28  28      1             0              0           \n",
       "29  29      0             0              1           \n",
       "30  30      0             1              0           \n",
       "... ...     ...           ...            ...         \n",
       "71   71     0             1              0           \n",
       "72   72     1             0              0           \n",
       "73   73     0             1              0           \n",
       "74   74     0             0              1           \n",
       "75   75     0             1              0           \n",
       "76   76     0             1              0           \n",
       "77   77     1             0              0           \n",
       "78   78     0             1              0           \n",
       "79   79     0             1              0           \n",
       "80   80     0             1              0           \n",
       "81   81     1             0              0           \n",
       "82   82     1             0              0           \n",
       "83   83     0             0              1           \n",
       "84   84     1             0              0           \n",
       "85   85     0             0              1           \n",
       "86   86     1             0              0           \n",
       "87   87     0             1              0           \n",
       "88   88     1             0              0           \n",
       "89   89     1             0              0           \n",
       "90   90     0             0              1           \n",
       "91   91     1             0              0           \n",
       "92   92     0             1              0           \n",
       "93   93     0             1              0           \n",
       "94   94     0             1              0           \n",
       "95   95     0             0              1           \n",
       "96   96     0             0              1           \n",
       "97   97     0             0              1           \n",
       "98   98     0             1              0           \n",
       "99   99     1             0              0           \n",
       "100 100     0             0              1           "
      ]
     },
     "metadata": {},
     "output_type": "display_data"
    }
   ],
   "source": [
    "newdata"
   ]
  },
  {
   "cell_type": "code",
   "execution_count": 161,
   "metadata": {},
   "outputs": [],
   "source": [
    "data <- data.frame(ID = seq(1,100,by=1),\n",
    "  Colour = sample(c(\"Red\",\"Green\",\"Blue\"), 100, replace = TRUE),\n",
    "  Quality = sample(c(\"Poor\",\"Average\",\"Good\"), 100, replace = TRUE)\n",
    "  )"
   ]
  },
  {
   "cell_type": "code",
   "execution_count": 162,
   "metadata": {},
   "outputs": [],
   "source": [
    "newdata <- one_hot(as.data.table(data))"
   ]
  },
  {
   "cell_type": "code",
   "execution_count": 163,
   "metadata": {},
   "outputs": [
    {
     "data": {
      "text/html": [
       "<table>\n",
       "<thead><tr><th scope=col>ID</th><th scope=col>Colour_Blue</th><th scope=col>Colour_Green</th><th scope=col>Colour_Red</th><th scope=col>Quality_Average</th><th scope=col>Quality_Good</th><th scope=col>Quality_Poor</th></tr></thead>\n",
       "<tbody>\n",
       "\t<tr><td>1</td><td>0</td><td>1</td><td>0</td><td>1</td><td>0</td><td>0</td></tr>\n",
       "\t<tr><td>2</td><td>0</td><td>1</td><td>0</td><td>0</td><td>0</td><td>1</td></tr>\n",
       "\t<tr><td>3</td><td>0</td><td>1</td><td>0</td><td>1</td><td>0</td><td>0</td></tr>\n",
       "\t<tr><td>4</td><td>0</td><td>1</td><td>0</td><td>1</td><td>0</td><td>0</td></tr>\n",
       "\t<tr><td>5</td><td>0</td><td>0</td><td>1</td><td>0</td><td>1</td><td>0</td></tr>\n",
       "\t<tr><td>6</td><td>1</td><td>0</td><td>0</td><td>0</td><td>0</td><td>1</td></tr>\n",
       "</tbody>\n",
       "</table>\n"
      ],
      "text/latex": [
       "\\begin{tabular}{r|lllllll}\n",
       " ID & Colour\\_Blue & Colour\\_Green & Colour\\_Red & Quality\\_Average & Quality\\_Good & Quality\\_Poor\\\\\n",
       "\\hline\n",
       "\t 1 & 0 & 1 & 0 & 1 & 0 & 0\\\\\n",
       "\t 2 & 0 & 1 & 0 & 0 & 0 & 1\\\\\n",
       "\t 3 & 0 & 1 & 0 & 1 & 0 & 0\\\\\n",
       "\t 4 & 0 & 1 & 0 & 1 & 0 & 0\\\\\n",
       "\t 5 & 0 & 0 & 1 & 0 & 1 & 0\\\\\n",
       "\t 6 & 1 & 0 & 0 & 0 & 0 & 1\\\\\n",
       "\\end{tabular}\n"
      ],
      "text/markdown": [
       "\n",
       "| ID | Colour_Blue | Colour_Green | Colour_Red | Quality_Average | Quality_Good | Quality_Poor |\n",
       "|---|---|---|---|---|---|---|\n",
       "| 1 | 0 | 1 | 0 | 1 | 0 | 0 |\n",
       "| 2 | 0 | 1 | 0 | 0 | 0 | 1 |\n",
       "| 3 | 0 | 1 | 0 | 1 | 0 | 0 |\n",
       "| 4 | 0 | 1 | 0 | 1 | 0 | 0 |\n",
       "| 5 | 0 | 0 | 1 | 0 | 1 | 0 |\n",
       "| 6 | 1 | 0 | 0 | 0 | 0 | 1 |\n",
       "\n"
      ],
      "text/plain": [
       "  ID Colour_Blue Colour_Green Colour_Red Quality_Average Quality_Good\n",
       "1 1  0           1            0          1               0           \n",
       "2 2  0           1            0          0               0           \n",
       "3 3  0           1            0          1               0           \n",
       "4 4  0           1            0          1               0           \n",
       "5 5  0           0            1          0               1           \n",
       "6 6  1           0            0          0               0           \n",
       "  Quality_Poor\n",
       "1 0           \n",
       "2 1           \n",
       "3 0           \n",
       "4 0           \n",
       "5 0           \n",
       "6 1           "
      ]
     },
     "metadata": {},
     "output_type": "display_data"
    }
   ],
   "source": [
    "head(newdata)"
   ]
  },
  {
   "cell_type": "markdown",
   "metadata": {},
   "source": [
    "# 42. Joins in R"
   ]
  },
  {
   "cell_type": "code",
   "execution_count": 164,
   "metadata": {},
   "outputs": [],
   "source": [
    "data1 <- data.frame(ID = 1:2,\n",
    "                   x1 = c(\"a1\",\"a2\"),\n",
    "                   stringsAsFactors=FALSE)\n",
    "data2 <- data.frame(ID = 2:3,\n",
    "                   x1 = c(\"b1\",\"b2\"),\n",
    "                   stringsAsFactors=FALSE)\n"
   ]
  },
  {
   "cell_type": "code",
   "execution_count": 165,
   "metadata": {},
   "outputs": [
    {
     "data": {
      "text/html": [
       "<table>\n",
       "<thead><tr><th scope=col>ID</th><th scope=col>x1.x</th><th scope=col>x1.y</th></tr></thead>\n",
       "<tbody>\n",
       "\t<tr><td>2 </td><td>a2</td><td>b1</td></tr>\n",
       "</tbody>\n",
       "</table>\n"
      ],
      "text/latex": [
       "\\begin{tabular}{r|lll}\n",
       " ID & x1.x & x1.y\\\\\n",
       "\\hline\n",
       "\t 2  & a2 & b1\\\\\n",
       "\\end{tabular}\n"
      ],
      "text/markdown": [
       "\n",
       "| ID | x1.x | x1.y |\n",
       "|---|---|---|\n",
       "| 2  | a2 | b1 |\n",
       "\n"
      ],
      "text/plain": [
       "  ID x1.x x1.y\n",
       "1 2  a2   b1  "
      ]
     },
     "metadata": {},
     "output_type": "display_data"
    }
   ],
   "source": [
    "inner_join(data1,data2,by=\"ID\")"
   ]
  },
  {
   "cell_type": "code",
   "execution_count": 166,
   "metadata": {},
   "outputs": [
    {
     "data": {
      "text/html": [
       "<table>\n",
       "<thead><tr><th scope=col>ID</th><th scope=col>x1.x</th><th scope=col>x1.y</th></tr></thead>\n",
       "<tbody>\n",
       "\t<tr><td>1 </td><td>a1</td><td>NA</td></tr>\n",
       "\t<tr><td>2 </td><td>a2</td><td>b1</td></tr>\n",
       "</tbody>\n",
       "</table>\n"
      ],
      "text/latex": [
       "\\begin{tabular}{r|lll}\n",
       " ID & x1.x & x1.y\\\\\n",
       "\\hline\n",
       "\t 1  & a1 & NA\\\\\n",
       "\t 2  & a2 & b1\\\\\n",
       "\\end{tabular}\n"
      ],
      "text/markdown": [
       "\n",
       "| ID | x1.x | x1.y |\n",
       "|---|---|---|\n",
       "| 1  | a1 | NA |\n",
       "| 2  | a2 | b1 |\n",
       "\n"
      ],
      "text/plain": [
       "  ID x1.x x1.y\n",
       "1 1  a1   NA  \n",
       "2 2  a2   b1  "
      ]
     },
     "metadata": {},
     "output_type": "display_data"
    }
   ],
   "source": [
    "left_join(data1,data2,by=\"ID\")"
   ]
  },
  {
   "cell_type": "code",
   "execution_count": 167,
   "metadata": {},
   "outputs": [
    {
     "data": {
      "text/html": [
       "<table>\n",
       "<thead><tr><th scope=col>ID</th><th scope=col>x1.x</th><th scope=col>x1.y</th></tr></thead>\n",
       "<tbody>\n",
       "\t<tr><td>2 </td><td>a2</td><td>b1</td></tr>\n",
       "\t<tr><td>3 </td><td>NA</td><td>b2</td></tr>\n",
       "</tbody>\n",
       "</table>\n"
      ],
      "text/latex": [
       "\\begin{tabular}{r|lll}\n",
       " ID & x1.x & x1.y\\\\\n",
       "\\hline\n",
       "\t 2  & a2 & b1\\\\\n",
       "\t 3  & NA & b2\\\\\n",
       "\\end{tabular}\n"
      ],
      "text/markdown": [
       "\n",
       "| ID | x1.x | x1.y |\n",
       "|---|---|---|\n",
       "| 2  | a2 | b1 |\n",
       "| 3  | NA | b2 |\n",
       "\n"
      ],
      "text/plain": [
       "  ID x1.x x1.y\n",
       "1 2  a2   b1  \n",
       "2 3  NA   b2  "
      ]
     },
     "metadata": {},
     "output_type": "display_data"
    }
   ],
   "source": [
    "right_join(data1,data2,by=\"ID\")"
   ]
  },
  {
   "cell_type": "code",
   "execution_count": 168,
   "metadata": {},
   "outputs": [
    {
     "data": {
      "text/html": [
       "<table>\n",
       "<thead><tr><th scope=col>ID</th><th scope=col>x1.x</th><th scope=col>x1.y</th></tr></thead>\n",
       "<tbody>\n",
       "\t<tr><td>1 </td><td>a1</td><td>NA</td></tr>\n",
       "\t<tr><td>2 </td><td>a2</td><td>b1</td></tr>\n",
       "\t<tr><td>3 </td><td>NA</td><td>b2</td></tr>\n",
       "</tbody>\n",
       "</table>\n"
      ],
      "text/latex": [
       "\\begin{tabular}{r|lll}\n",
       " ID & x1.x & x1.y\\\\\n",
       "\\hline\n",
       "\t 1  & a1 & NA\\\\\n",
       "\t 2  & a2 & b1\\\\\n",
       "\t 3  & NA & b2\\\\\n",
       "\\end{tabular}\n"
      ],
      "text/markdown": [
       "\n",
       "| ID | x1.x | x1.y |\n",
       "|---|---|---|\n",
       "| 1  | a1 | NA |\n",
       "| 2  | a2 | b1 |\n",
       "| 3  | NA | b2 |\n",
       "\n"
      ],
      "text/plain": [
       "  ID x1.x x1.y\n",
       "1 1  a1   NA  \n",
       "2 2  a2   b1  \n",
       "3 3  NA   b2  "
      ]
     },
     "metadata": {},
     "output_type": "display_data"
    }
   ],
   "source": [
    "full_join(data1,data2,by=\"ID\")"
   ]
  },
  {
   "cell_type": "code",
   "execution_count": 169,
   "metadata": {},
   "outputs": [
    {
     "data": {
      "text/html": [
       "<table>\n",
       "<thead><tr><th scope=col>ID</th><th scope=col>x1</th></tr></thead>\n",
       "<tbody>\n",
       "\t<tr><td>2 </td><td>a2</td></tr>\n",
       "</tbody>\n",
       "</table>\n"
      ],
      "text/latex": [
       "\\begin{tabular}{r|ll}\n",
       " ID & x1\\\\\n",
       "\\hline\n",
       "\t 2  & a2\\\\\n",
       "\\end{tabular}\n"
      ],
      "text/markdown": [
       "\n",
       "| ID | x1 |\n",
       "|---|---|\n",
       "| 2  | a2 |\n",
       "\n"
      ],
      "text/plain": [
       "  ID x1\n",
       "1 2  a2"
      ]
     },
     "metadata": {},
     "output_type": "display_data"
    }
   ],
   "source": [
    "semi_join(data1,data2,by=\"ID\")"
   ]
  },
  {
   "cell_type": "code",
   "execution_count": 170,
   "metadata": {},
   "outputs": [
    {
     "data": {
      "text/html": [
       "<table>\n",
       "<thead><tr><th scope=col>ID</th><th scope=col>x1</th></tr></thead>\n",
       "<tbody>\n",
       "\t<tr><td>1 </td><td>a1</td></tr>\n",
       "</tbody>\n",
       "</table>\n"
      ],
      "text/latex": [
       "\\begin{tabular}{r|ll}\n",
       " ID & x1\\\\\n",
       "\\hline\n",
       "\t 1  & a1\\\\\n",
       "\\end{tabular}\n"
      ],
      "text/markdown": [
       "\n",
       "| ID | x1 |\n",
       "|---|---|\n",
       "| 1  | a1 |\n",
       "\n"
      ],
      "text/plain": [
       "  ID x1\n",
       "1 1  a1"
      ]
     },
     "metadata": {},
     "output_type": "display_data"
    }
   ],
   "source": [
    "anti_join(data1,data2,by=\"ID\")"
   ]
  },
  {
   "cell_type": "markdown",
   "metadata": {},
   "source": [
    "# 43.Outlier Analysis"
   ]
  },
  {
   "cell_type": "code",
   "execution_count": 171,
   "metadata": {},
   "outputs": [
    {
     "data": {
      "text/plain": [
       "   Min. 1st Qu.  Median    Mean 3rd Qu.    Max. \n",
       "  12.00   18.00   24.00   23.44   27.00   44.00 "
      ]
     },
     "metadata": {},
     "output_type": "display_data"
    }
   ],
   "source": [
    "dat <- ggplot2::mpg\n",
    "summary(dat$hwy)"
   ]
  },
  {
   "cell_type": "code",
   "execution_count": 172,
   "metadata": {},
   "outputs": [
    {
     "data": {
      "text/html": [
       "12"
      ],
      "text/latex": [
       "12"
      ],
      "text/markdown": [
       "12"
      ],
      "text/plain": [
       "[1] 12"
      ]
     },
     "metadata": {},
     "output_type": "display_data"
    }
   ],
   "source": [
    "min(dat$hwy)"
   ]
  },
  {
   "cell_type": "code",
   "execution_count": 173,
   "metadata": {},
   "outputs": [
    {
     "data": {
      "text/html": [
       "44"
      ],
      "text/latex": [
       "44"
      ],
      "text/markdown": [
       "44"
      ],
      "text/plain": [
       "[1] 44"
      ]
     },
     "metadata": {},
     "output_type": "display_data"
    }
   ],
   "source": [
    "max(dat$hwy)"
   ]
  },
  {
   "cell_type": "code",
   "execution_count": 174,
   "metadata": {},
   "outputs": [
    {
     "data": {
      "image/png": "[encoded data removed]",
      "text/plain": [
       "Plot with title \"Histogram to Check Outliers\""
      ]
     },
     "metadata": {},
     "output_type": "display_data"
    }
   ],
   "source": [
    "hist(dat$hwy,\n",
    "    xlab = \"hwy\",\n",
    "    main = \"Histogram to Check Outliers\",\n",
    "    breaks = sqrt(nrow(dat)))"
   ]
  },
  {
   "cell_type": "code",
   "execution_count": 175,
   "metadata": {},
   "outputs": [
    {
     "data": {
      "image/png": "[encoded data removed]",
      "text/plain": [
       "Plot with title \"Histogram to Check Outliers\""
      ]
     },
     "metadata": {},
     "output_type": "display_data"
    }
   ],
   "source": [
    "hist(dat$hwy,\n",
    "    xlab = \"hwy\",\n",
    "    main = \"Histogram to Check Outliers\")"
   ]
  },
  {
   "cell_type": "code",
   "execution_count": 176,
   "metadata": {},
   "outputs": [
    {
     "data": {
      "image/png": "[encoded data removed]",
      "text/plain": [
       "plot without title"
      ]
     },
     "metadata": {},
     "output_type": "display_data"
    }
   ],
   "source": [
    "boxplot(dat$hwy,\n",
    "  ylab = \"hwy\"\n",
    ")"
   ]
  },
  {
   "cell_type": "code",
   "execution_count": 177,
   "metadata": {},
   "outputs": [
    {
     "data": {
      "image/png": "[encoded data removed]",
      "text/plain": [
       "plot without title"
      ]
     },
     "metadata": {},
     "output_type": "display_data"
    }
   ],
   "source": [
    "ggplot(dat) +\n",
    "  aes(x = \"\", y = hwy) +\n",
    "  geom_boxplot(fill = \"#0c4c8a\") +\n",
    "  theme_minimal()"
   ]
  },
  {
   "cell_type": "code",
   "execution_count": 178,
   "metadata": {},
   "outputs": [
    {
     "data": {
      "text/html": [
       "<ol class=list-inline>\n",
       "\t<li>44</li>\n",
       "\t<li>44</li>\n",
       "\t<li>41</li>\n",
       "</ol>\n"
      ],
      "text/latex": [
       "\\begin{enumerate*}\n",
       "\\item 44\n",
       "\\item 44\n",
       "\\item 41\n",
       "\\end{enumerate*}\n"
      ],
      "text/markdown": [
       "1. 44\n",
       "2. 44\n",
       "3. 41\n",
       "\n",
       "\n"
      ],
      "text/plain": [
       "[1] 44 44 41"
      ]
     },
     "metadata": {},
     "output_type": "display_data"
    }
   ],
   "source": [
    "boxplot.stats(dat$hwy)$out"
   ]
  },
  {
   "cell_type": "markdown",
   "metadata": {},
   "source": [
    "# 44.Hypothesis Testing"
   ]
  },
  {
   "cell_type": "markdown",
   "metadata": {},
   "source": [
    "# T Test"
   ]
  },
  {
   "cell_type": "code",
   "execution_count": 179,
   "metadata": {},
   "outputs": [],
   "source": [
    "set.seed(123) \n",
    "sugar_cookie <- rnorm(30,mean = 9.99,sd = 0.04)"
   ]
  },
  {
   "cell_type": "code",
   "execution_count": 180,
   "metadata": {},
   "outputs": [
    {
     "data": {
      "text/html": [
       "<ol class=list-inline>\n",
       "\t<li>9.96758097413791</li>\n",
       "\t<li>9.98079290042067</li>\n",
       "\t<li>10.052348332566</li>\n",
       "\t<li>9.99282033565698</li>\n",
       "\t<li>9.99517150940644</li>\n",
       "\t<li>10.0586025994753</li>\n",
       "</ol>\n"
      ],
      "text/latex": [
       "\\begin{enumerate*}\n",
       "\\item 9.96758097413791\n",
       "\\item 9.98079290042067\n",
       "\\item 10.052348332566\n",
       "\\item 9.99282033565698\n",
       "\\item 9.99517150940644\n",
       "\\item 10.0586025994753\n",
       "\\end{enumerate*}\n"
      ],
      "text/markdown": [
       "1. 9.96758097413791\n",
       "2. 9.98079290042067\n",
       "3. 10.052348332566\n",
       "4. 9.99282033565698\n",
       "5. 9.99517150940644\n",
       "6. 10.0586025994753\n",
       "\n",
       "\n"
      ],
      "text/plain": [
       "[1]  9.967581  9.980793 10.052348  9.992820  9.995172 10.058603"
      ]
     },
     "metadata": {},
     "output_type": "display_data"
    }
   ],
   "source": [
    "head(sugar_cookie)"
   ]
  },
  {
   "cell_type": "code",
   "execution_count": 181,
   "metadata": {},
   "outputs": [
    {
     "data": {
      "text/plain": [
       "\n",
       "\tOne Sample t-test\n",
       "\n",
       "data:  sugar_cookie\n",
       "t = -1.6588, df = 29, p-value = 0.1079\n",
       "alternative hypothesis: true mean is not equal to 10\n",
       "95 percent confidence interval:\n",
       "  9.973463 10.002769\n",
       "sample estimates:\n",
       "mean of x \n",
       " 9.988116 \n"
      ]
     },
     "metadata": {},
     "output_type": "display_data"
    }
   ],
   "source": [
    "t.test(sugar_cookie,mu = 10)"
   ]
  },
  {
   "cell_type": "markdown",
   "metadata": {},
   "source": [
    "# Paired t-test"
   ]
  },
  {
   "cell_type": "code",
   "execution_count": 182,
   "metadata": {},
   "outputs": [
    {
     "data": {
      "text/plain": [
       "\n",
       "\tTwo Sample t-test\n",
       "\n",
       "data:  sales_before and sales_after\n",
       "t = 19865, df = 12, p-value < 2.2e-16\n",
       "alternative hypothesis: true difference in means is not equal to 0\n",
       "95 percent confidence interval:\n",
       " 449900.3 449999.0\n",
       "sample estimates:\n",
       "mean of x mean of y \n",
       "500022.46  50072.84 \n"
      ]
     },
     "metadata": {},
     "output_type": "display_data"
    }
   ],
   "source": [
    "set.seed(123)\n",
    "sales_before <- rnorm(7,mean = 500000, sd = 50)\n",
    "sales_after <- rnorm(7,mean = 50075, sd = 50)\n",
    "t.test(sales_before,sales_after,var.equal = TRUE)"
   ]
  },
  {
   "cell_type": "markdown",
   "metadata": {},
   "source": [
    "# ANOVA"
   ]
  },
  {
   "cell_type": "code",
   "execution_count": 183,
   "metadata": {},
   "outputs": [],
   "source": [
    "library(dplyr)\n",
    "PATH <- \"https://raw.githubusercontent.com/guru99-edu/R-Programming/master/poisons.csv\""
   ]
  },
  {
   "cell_type": "code",
   "execution_count": 184,
   "metadata": {},
   "outputs": [],
   "source": [
    "df <- read.csv(PATH)"
   ]
  },
  {
   "cell_type": "code",
   "execution_count": 185,
   "metadata": {},
   "outputs": [
    {
     "data": {
      "text/html": [
       "<table>\n",
       "<thead><tr><th scope=col>X</th><th scope=col>time</th><th scope=col>poison</th><th scope=col>treat</th></tr></thead>\n",
       "<tbody>\n",
       "\t<tr><td>1   </td><td>0.31</td><td>1   </td><td>A   </td></tr>\n",
       "\t<tr><td>2   </td><td>0.45</td><td>1   </td><td>A   </td></tr>\n",
       "\t<tr><td>3   </td><td>0.46</td><td>1   </td><td>A   </td></tr>\n",
       "\t<tr><td>4   </td><td>0.43</td><td>1   </td><td>A   </td></tr>\n",
       "\t<tr><td>5   </td><td>0.36</td><td>2   </td><td>A   </td></tr>\n",
       "\t<tr><td>6   </td><td>0.29</td><td>2   </td><td>A   </td></tr>\n",
       "</tbody>\n",
       "</table>\n"
      ],
      "text/latex": [
       "\\begin{tabular}{r|llll}\n",
       " X & time & poison & treat\\\\\n",
       "\\hline\n",
       "\t 1    & 0.31 & 1    & A   \\\\\n",
       "\t 2    & 0.45 & 1    & A   \\\\\n",
       "\t 3    & 0.46 & 1    & A   \\\\\n",
       "\t 4    & 0.43 & 1    & A   \\\\\n",
       "\t 5    & 0.36 & 2    & A   \\\\\n",
       "\t 6    & 0.29 & 2    & A   \\\\\n",
       "\\end{tabular}\n"
      ],
      "text/markdown": [
       "\n",
       "| X | time | poison | treat |\n",
       "|---|---|---|---|\n",
       "| 1    | 0.31 | 1    | A    |\n",
       "| 2    | 0.45 | 1    | A    |\n",
       "| 3    | 0.46 | 1    | A    |\n",
       "| 4    | 0.43 | 1    | A    |\n",
       "| 5    | 0.36 | 2    | A    |\n",
       "| 6    | 0.29 | 2    | A    |\n",
       "\n"
      ],
      "text/plain": [
       "  X time poison treat\n",
       "1 1 0.31 1      A    \n",
       "2 2 0.45 1      A    \n",
       "3 3 0.46 1      A    \n",
       "4 4 0.43 1      A    \n",
       "5 5 0.36 2      A    \n",
       "6 6 0.29 2      A    "
      ]
     },
     "metadata": {},
     "output_type": "display_data"
    }
   ],
   "source": [
    "head(df)"
   ]
  },
  {
   "cell_type": "code",
   "execution_count": 186,
   "metadata": {},
   "outputs": [
    {
     "name": "stdout",
     "output_type": "stream",
     "text": [
      "Rows: 48\n",
      "Columns: 3\n",
      "$ time   <dbl> 0.31, 0.45, 0.46, 0.43, 0.36, 0.29, 0.40, 0.23, 0.22, 0.21, ...\n",
      "$ poison <ord> 1, 1, 1, 1, 2, 2, 2, 2, 3, 3, 3, 3, 1, 1, 1, 1, 2, 2, 2, 2, ...\n",
      "$ treat  <fct> A, A, A, A, A, A, A, A, A, A, A, A, B, B, B, B, B, B, B, B, ...\n"
     ]
    }
   ],
   "source": [
    "PATH <- \"https://raw.githubusercontent.com/guru99-edu/R-Programming/master/poisons.csv\"\n",
    "df <- read.csv(PATH) %>%\n",
    "select(-X) %>% \n",
    "mutate(poison = factor(poison, ordered = TRUE))\n",
    "glimpse(df)"
   ]
  },
  {
   "cell_type": "code",
   "execution_count": 187,
   "metadata": {},
   "outputs": [
    {
     "data": {
      "text/html": [
       "<ol class=list-inline>\n",
       "\t<li>'1'</li>\n",
       "\t<li>'2'</li>\n",
       "\t<li>'3'</li>\n",
       "</ol>\n"
      ],
      "text/latex": [
       "\\begin{enumerate*}\n",
       "\\item '1'\n",
       "\\item '2'\n",
       "\\item '3'\n",
       "\\end{enumerate*}\n"
      ],
      "text/markdown": [
       "1. '1'\n",
       "2. '2'\n",
       "3. '3'\n",
       "\n",
       "\n"
      ],
      "text/plain": [
       "[1] \"1\" \"2\" \"3\""
      ]
     },
     "metadata": {},
     "output_type": "display_data"
    }
   ],
   "source": [
    "levels(df$poison)"
   ]
  },
  {
   "cell_type": "code",
   "execution_count": 188,
   "metadata": {},
   "outputs": [
    {
     "ename": "ERROR",
     "evalue": "Error: `n()` must only be used inside dplyr verbs.\n",
     "output_type": "error",
     "traceback": [
      "Error: `n()` must only be used inside dplyr verbs.\nTraceback:\n",
      "1. df %>% group_by(poison) %>% summarise(count_poison = n(), mean_time = mean(time, \n .     na.rm = TRUE), sd_time = sd(time, na.rm = TRUE))",
      "2. withVisible(eval(quote(`_fseq`(`_lhs`)), env, env))",
      "3. eval(quote(`_fseq`(`_lhs`)), env, env)",
      "4. eval(quote(`_fseq`(`_lhs`)), env, env)",
      "5. `_fseq`(`_lhs`)",
      "6. freduce(value, `_function_list`)",
      "7. withVisible(function_list[[k]](value))",
      "8. function_list[[k]](value)",
      "9. summarise(., count_poison = n(), mean_time = mean(time, na.rm = TRUE), \n .     sd_time = sd(time, na.rm = TRUE))",
      "10. eval(cols[[col]], .data, parent.frame())",
      "11. eval(cols[[col]], .data, parent.frame())",
      "12. n()",
      "13. peek_mask(\"n()\")",
      "14. context_peek(\"mask\", fun)",
      "15. context_peek_bare(name) %||% abort(glue(\"`{fun}` must only be used inside {location}.\"))",
      "16. abort(glue(\"`{fun}` must only be used inside {location}.\"))",
      "17. signal_abort(cnd)"
     ]
    }
   ],
   "source": [
    "df %>%\n",
    "group_by(poison) %>%\n",
    "summarise(\n",
    "    count_poison = n(),\n",
    "    mean_time = mean(time,na.rm = TRUE),\n",
    "    sd_time = sd(time,na.rm = TRUE))"
   ]
  },
  {
   "cell_type": "code",
   "execution_count": 189,
   "metadata": {},
   "outputs": [],
   "source": [
    "library(ggplot2)"
   ]
  },
  {
   "cell_type": "code",
   "execution_count": 190,
   "metadata": {},
   "outputs": [
    {
     "data": {
      "image/png": "[encoded data removed]",
      "text/plain": [
       "plot without title"
      ]
     },
     "metadata": {},
     "output_type": "display_data"
    }
   ],
   "source": [
    "ggplot(df, aes(x = poison, y = time, fill = poison)) +\n",
    "    geom_boxplot() +\n",
    "    geom_jitter(shape = 15,\n",
    "        color = \"steelblue\",\n",
    "        position = position_jitter(0.21)) +\n",
    "    theme_classic()"
   ]
  },
  {
   "cell_type": "code",
   "execution_count": 191,
   "metadata": {},
   "outputs": [
    {
     "data": {
      "text/plain": [
       "            Df Sum Sq Mean Sq F value   Pr(>F)    \n",
       "poison       2  1.033  0.5165   11.79 7.66e-05 ***\n",
       "Residuals   45  1.972  0.0438                     \n",
       "---\n",
       "Signif. codes:  0 '***' 0.001 '**' 0.01 '*' 0.05 '.' 0.1 ' ' 1"
      ]
     },
     "metadata": {},
     "output_type": "display_data"
    }
   ],
   "source": [
    "anova_one_way <- aov(time~poison, data = df)\n",
    "summary(anova_one_way)"
   ]
  },
  {
   "cell_type": "code",
   "execution_count": 192,
   "metadata": {},
   "outputs": [
    {
     "data": {
      "text/plain": [
       "  Tukey multiple comparisons of means\n",
       "    95% family-wise confidence level\n",
       "\n",
       "Fit: aov(formula = time ~ poison, data = df)\n",
       "\n",
       "$poison\n",
       "         diff        lwr         upr     p adj\n",
       "2-1 -0.073125 -0.2525046  0.10625464 0.5881654\n",
       "3-1 -0.341250 -0.5206296 -0.16187036 0.0000971\n",
       "3-2 -0.268125 -0.4475046 -0.08874536 0.0020924\n"
      ]
     },
     "metadata": {},
     "output_type": "display_data"
    }
   ],
   "source": [
    "TukeyHSD(anova_one_way)"
   ]
  },
  {
   "cell_type": "code",
   "execution_count": 193,
   "metadata": {},
   "outputs": [
    {
     "data": {
      "text/plain": [
       "            Df Sum Sq Mean Sq F value  Pr(>F)    \n",
       "poison       2 1.0330  0.5165   20.64 5.7e-07 ***\n",
       "treat        3 0.9212  0.3071   12.27 6.7e-06 ***\n",
       "Residuals   42 1.0509  0.0250                    \n",
       "---\n",
       "Signif. codes:  0 '***' 0.001 '**' 0.01 '*' 0.05 '.' 0.1 ' ' 1"
      ]
     },
     "metadata": {},
     "output_type": "display_data"
    }
   ],
   "source": [
    "anova_two_way <- aov(time~poison + treat, data = df)\n",
    "summary(anova_two_way)"
   ]
  },
  {
   "cell_type": "markdown",
   "metadata": {},
   "source": [
    "# 45.skim() function"
   ]
  },
  {
   "cell_type": "code",
   "execution_count": 195,
   "metadata": {},
   "outputs": [
    {
     "name": "stderr",
     "output_type": "stream",
     "text": [
      "Warning message:\n",
      "\"package 'skimr' was built under R version 3.6.3\""
     ]
    },
    {
     "name": "stdout",
     "output_type": "stream",
     "text": [
      "-- Data Summary ------------------------\n",
      "                           Values\n",
      "Name                       iris  \n",
      "Number of rows             150   \n",
      "Number of columns          5     \n",
      "_______________________          \n",
      "Column type frequency:           \n",
      "  factor                   1     \n",
      "  numeric                  4     \n",
      "________________________         \n",
      "Group variables            None  \n",
      "\n",
      "-- Variable type: factor -------------------------------------------------------\n",
      "# A tibble: 1 x 6\n",
      "  skim_variable n_missing complete_rate ordered n_unique\n",
      "* <chr>             <int>         <dbl> <lgl>      <int>\n",
      "1 Species               0             1 FALSE          3\n",
      "  top_counts               \n",
      "* <chr>                    \n",
      "1 set: 50, ver: 50, vir: 50\n",
      "\n",
      "-- Variable type: numeric ------------------------------------------------------\n",
      "# A tibble: 4 x 11\n",
      "  skim_variable n_missing complete_rate  mean    sd    p0   p25   p50   p75\n",
      "* <chr>             <int>         <dbl> <dbl> <dbl> <dbl> <dbl> <dbl> <dbl>\n",
      "1 Sepal.Length          0             1  5.84 0.828   4.3   5.1  5.8    6.4\n",
      "2 Sepal.Width           0             1  3.06 0.436   2     2.8  3      3.3\n",
      "3 Petal.Length          0             1  3.76 1.77    1     1.6  4.35   5.1\n",
      "4 Petal.Width           0             1  1.20 0.762   0.1   0.3  1.3    1.8\n",
      "   p100 hist \n",
      "* <dbl> <chr>\n",
      "1   7.9 <U+2586><U+2587><U+2587><U+2585><U+2582>\n",
      "2   4.4 <U+2581><U+2586><U+2587><U+2582><U+2581>\n",
      "3   6.9 <U+2587><U+2581><U+2586><U+2587><U+2582>\n",
      "4   2.5 <U+2587><U+2581><U+2587><U+2585><U+2583>\n"
     ]
    }
   ],
   "source": [
    "library(skimr)\n",
    "\n",
    "skim(iris)"
   ]
  },
  {
   "cell_type": "code",
   "execution_count": 196,
   "metadata": {},
   "outputs": [
    {
     "name": "stdout",
     "output_type": "stream",
     "text": [
      "-- Data Summary ------------------------\n",
      "                           Values\n",
      "Name                       iris  \n",
      "Number of rows             150   \n",
      "Number of columns          5     \n",
      "_______________________          \n",
      "Column type frequency:           \n",
      "  numeric                  1     \n",
      "________________________         \n",
      "Group variables            None  \n",
      "\n",
      "-- Variable type: numeric ------------------------------------------------------\n",
      "# A tibble: 1 x 11\n",
      "  skim_variable n_missing complete_rate  mean    sd    p0   p25   p50   p75\n",
      "* <chr>             <int>         <dbl> <dbl> <dbl> <dbl> <dbl> <dbl> <dbl>\n",
      "1 Petal.Length          0             1  3.76  1.77     1   1.6  4.35   5.1\n",
      "   p100 hist \n",
      "* <dbl> <chr>\n",
      "1   6.9 <U+2587><U+2581><U+2586><U+2587><U+2582>\n"
     ]
    }
   ],
   "source": [
    "skim(iris)%>%\n",
    "dplyr::filter(skim_variable == \"Petal.Length\")"
   ]
  },
  {
   "cell_type": "code",
   "execution_count": 197,
   "metadata": {},
   "outputs": [
    {
     "name": "stdout",
     "output_type": "stream",
     "text": [
      "\n",
      "-- Variable type: numeric ------------------------------------------------------\n",
      "# A tibble: 4 x 11\n",
      "  skim_variable n_missing complete_rate  mean    sd    p0   p25   p50   p75\n",
      "* <chr>             <int>         <dbl> <dbl> <dbl> <dbl> <dbl> <dbl> <dbl>\n",
      "1 Sepal.Length          0             1  5.84 0.828   4.3   5.1  5.8    6.4\n",
      "2 Sepal.Width           0             1  3.06 0.436   2     2.8  3      3.3\n",
      "3 Petal.Length          0             1  3.76 1.77    1     1.6  4.35   5.1\n",
      "4 Petal.Width           0             1  1.20 0.762   0.1   0.3  1.3    1.8\n",
      "   p100 hist \n",
      "* <dbl> <chr>\n",
      "1   7.9 <U+2586><U+2587><U+2587><U+2585><U+2582>\n",
      "2   4.4 <U+2581><U+2586><U+2587><U+2582><U+2581>\n",
      "3   6.9 <U+2587><U+2581><U+2586><U+2587><U+2582>\n",
      "4   2.5 <U+2587><U+2581><U+2587><U+2585><U+2583>\n"
     ]
    }
   ],
   "source": [
    "iris %>%\n",
    "skim()%>%\n",
    "yank(\"numeric\")"
   ]
  },
  {
   "cell_type": "code",
   "execution_count": 198,
   "metadata": {},
   "outputs": [
    {
     "data": {
      "text/html": [
       "<table>\n",
       "<thead><tr><th scope=col>skim_type</th><th scope=col>skim_variable</th><th scope=col>stat</th><th scope=col>formatted</th></tr></thead>\n",
       "<tbody>\n",
       "\t<tr><td>factor       </td><td>Species      </td><td>n_missing    </td><td>0            </td></tr>\n",
       "\t<tr><td>numeric      </td><td>Sepal.Length </td><td>n_missing    </td><td>0            </td></tr>\n",
       "\t<tr><td>numeric      </td><td>Sepal.Width  </td><td>n_missing    </td><td>0            </td></tr>\n",
       "\t<tr><td>numeric      </td><td>Petal.Length </td><td>n_missing    </td><td>0            </td></tr>\n",
       "\t<tr><td>numeric      </td><td>Petal.Width  </td><td>n_missing    </td><td>0            </td></tr>\n",
       "\t<tr><td>factor       </td><td>Species      </td><td>complete_rate</td><td>1            </td></tr>\n",
       "</tbody>\n",
       "</table>\n"
      ],
      "text/latex": [
       "\\begin{tabular}{r|llll}\n",
       " skim\\_type & skim\\_variable & stat & formatted\\\\\n",
       "\\hline\n",
       "\t factor          & Species         & n\\_missing     & 0              \\\\\n",
       "\t numeric         & Sepal.Length    & n\\_missing     & 0              \\\\\n",
       "\t numeric         & Sepal.Width     & n\\_missing     & 0              \\\\\n",
       "\t numeric         & Petal.Length    & n\\_missing     & 0              \\\\\n",
       "\t numeric         & Petal.Width     & n\\_missing     & 0              \\\\\n",
       "\t factor          & Species         & complete\\_rate & 1              \\\\\n",
       "\\end{tabular}\n"
      ],
      "text/markdown": [
       "\n",
       "| skim_type | skim_variable | stat | formatted |\n",
       "|---|---|---|---|\n",
       "| factor        | Species       | n_missing     | 0             |\n",
       "| numeric       | Sepal.Length  | n_missing     | 0             |\n",
       "| numeric       | Sepal.Width   | n_missing     | 0             |\n",
       "| numeric       | Petal.Length  | n_missing     | 0             |\n",
       "| numeric       | Petal.Width   | n_missing     | 0             |\n",
       "| factor        | Species       | complete_rate | 1             |\n",
       "\n"
      ],
      "text/plain": [
       "  skim_type skim_variable stat          formatted\n",
       "1 factor    Species       n_missing     0        \n",
       "2 numeric   Sepal.Length  n_missing     0        \n",
       "3 numeric   Sepal.Width   n_missing     0        \n",
       "4 numeric   Petal.Length  n_missing     0        \n",
       "5 numeric   Petal.Width   n_missing     0        \n",
       "6 factor    Species       complete_rate 1        "
      ]
     },
     "metadata": {},
     "output_type": "display_data"
    }
   ],
   "source": [
    "iris %>%\n",
    "skim()%>%\n",
    "to_long()%>%\n",
    "head()"
   ]
  },
  {
   "cell_type": "code",
   "execution_count": null,
   "metadata": {},
   "outputs": [],
   "source": []
  }
 ],
 "metadata": {
  "kernelspec": {
   "display_name": "R",
   "language": "R",
   "name": "ir"
  },
  "language_info": {
   "codemirror_mode": "r",
   "file_extension": ".r",
   "mimetype": "text/x-r-source",
   "name": "R",
   "pygments_lexer": "r",
   "version": "3.6.1"
  }
 },
 "nbformat": 4,
 "nbformat_minor": 2
}
