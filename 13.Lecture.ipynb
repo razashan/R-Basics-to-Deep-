{
 "cells": [
  {
   "cell_type": "markdown",
   "metadata": {},
   "source": [
    "# Renaming Column Names"
   ]
  },
  {
   "cell_type": "code",
   "execution_count": 1,
   "metadata": {},
   "outputs": [
    {
     "data": {
      "text/html": [
       "<table>\n",
       "<thead><tr><th scope=col>State</th><th scope=col>code</th><th scope=col>Score</th></tr></thead>\n",
       "<tbody>\n",
       "\t<tr><td>Arizona   </td><td>AZ        </td><td>62        </td></tr>\n",
       "\t<tr><td>Georgia   </td><td>GA        </td><td>47        </td></tr>\n",
       "\t<tr><td>Newyork   </td><td>NY        </td><td>55        </td></tr>\n",
       "\t<tr><td>Indiana   </td><td>IN        </td><td>74        </td></tr>\n",
       "\t<tr><td>seattle   </td><td>ST        </td><td>31        </td></tr>\n",
       "\t<tr><td>washington</td><td>WT        </td><td>77        </td></tr>\n",
       "\t<tr><td>Texas     </td><td>TX        </td><td>85        </td></tr>\n",
       "</tbody>\n",
       "</table>\n"
      ],
      "text/latex": [
       "\\begin{tabular}{r|lll}\n",
       " State & code & Score\\\\\n",
       "\\hline\n",
       "\t Arizona    & AZ         & 62        \\\\\n",
       "\t Georgia    & GA         & 47        \\\\\n",
       "\t Newyork    & NY         & 55        \\\\\n",
       "\t Indiana    & IN         & 74        \\\\\n",
       "\t seattle    & ST         & 31        \\\\\n",
       "\t washington & WT         & 77        \\\\\n",
       "\t Texas      & TX         & 85        \\\\\n",
       "\\end{tabular}\n"
      ],
      "text/markdown": [
       "\n",
       "| State | code | Score |\n",
       "|---|---|---|\n",
       "| Arizona    | AZ         | 62         |\n",
       "| Georgia    | GA         | 47         |\n",
       "| Newyork    | NY         | 55         |\n",
       "| Indiana    | IN         | 74         |\n",
       "| seattle    | ST         | 31         |\n",
       "| washington | WT         | 77         |\n",
       "| Texas      | TX         | 85         |\n",
       "\n"
      ],
      "text/plain": [
       "  State      code Score\n",
       "1 Arizona    AZ   62   \n",
       "2 Georgia    GA   47   \n",
       "3 Newyork    NY   55   \n",
       "4 Indiana    IN   74   \n",
       "5 seattle    ST   31   \n",
       "6 washington WT   77   \n",
       "7 Texas      TX   85   "
      ]
     },
     "metadata": {},
     "output_type": "display_data"
    }
   ],
   "source": [
    "df1=data.frame(State=c('Arizona','Georgia', 'Newyork','Indiana','seattle','washington','Texas'),\n",
    "               code=c('AZ','GA','NY','IN','ST','WT','TX'),\n",
    "               Score=c(62,47,55,74,31,77,85))\n",
    "df1"
   ]
  },
  {
   "cell_type": "markdown",
   "metadata": {},
   "source": [
    "### Rename all the column in R:"
   ]
  },
  {
   "cell_type": "code",
   "execution_count": 2,
   "metadata": {},
   "outputs": [
    {
     "data": {
      "text/html": [
       "<table>\n",
       "<thead><tr><th scope=col>State_Name</th><th scope=col>State_code</th><th scope=col>Hindex_Score</th></tr></thead>\n",
       "<tbody>\n",
       "\t<tr><td>Arizona   </td><td>AZ        </td><td>62        </td></tr>\n",
       "\t<tr><td>Georgia   </td><td>GA        </td><td>47        </td></tr>\n",
       "\t<tr><td>Newyork   </td><td>NY        </td><td>55        </td></tr>\n",
       "\t<tr><td>Indiana   </td><td>IN        </td><td>74        </td></tr>\n",
       "\t<tr><td>seattle   </td><td>ST        </td><td>31        </td></tr>\n",
       "\t<tr><td>washington</td><td>WT        </td><td>77        </td></tr>\n",
       "\t<tr><td>Texas     </td><td>TX        </td><td>85        </td></tr>\n",
       "</tbody>\n",
       "</table>\n"
      ],
      "text/latex": [
       "\\begin{tabular}{r|lll}\n",
       " State\\_Name & State\\_code & Hindex\\_Score\\\\\n",
       "\\hline\n",
       "\t Arizona    & AZ         & 62        \\\\\n",
       "\t Georgia    & GA         & 47        \\\\\n",
       "\t Newyork    & NY         & 55        \\\\\n",
       "\t Indiana    & IN         & 74        \\\\\n",
       "\t seattle    & ST         & 31        \\\\\n",
       "\t washington & WT         & 77        \\\\\n",
       "\t Texas      & TX         & 85        \\\\\n",
       "\\end{tabular}\n"
      ],
      "text/markdown": [
       "\n",
       "| State_Name | State_code | Hindex_Score |\n",
       "|---|---|---|\n",
       "| Arizona    | AZ         | 62         |\n",
       "| Georgia    | GA         | 47         |\n",
       "| Newyork    | NY         | 55         |\n",
       "| Indiana    | IN         | 74         |\n",
       "| seattle    | ST         | 31         |\n",
       "| washington | WT         | 77         |\n",
       "| Texas      | TX         | 85         |\n",
       "\n"
      ],
      "text/plain": [
       "  State_Name State_code Hindex_Score\n",
       "1 Arizona    AZ         62          \n",
       "2 Georgia    GA         47          \n",
       "3 Newyork    NY         55          \n",
       "4 Indiana    IN         74          \n",
       "5 seattle    ST         31          \n",
       "6 washington WT         77          \n",
       "7 Texas      TX         85          "
      ]
     },
     "metadata": {},
     "output_type": "display_data"
    }
   ],
   "source": [
    "# rename all the column in R\n",
    "\n",
    "colnames(df1) <- c(\"State_Name\", \"State_code\",\"Hindex_Score\")\n",
    "df1"
   ]
  },
  {
   "cell_type": "markdown",
   "metadata": {},
   "source": [
    "### Rename a specific column in R – Method 1:"
   ]
  },
  {
   "cell_type": "code",
   "execution_count": 3,
   "metadata": {},
   "outputs": [
    {
     "data": {
      "text/html": [
       "<table>\n",
       "<thead><tr><th scope=col>US_State_Name</th><th scope=col>State_code</th><th scope=col>Hindex_Score</th></tr></thead>\n",
       "<tbody>\n",
       "\t<tr><td>Arizona   </td><td>AZ        </td><td>62        </td></tr>\n",
       "\t<tr><td>Georgia   </td><td>GA        </td><td>47        </td></tr>\n",
       "\t<tr><td>Newyork   </td><td>NY        </td><td>55        </td></tr>\n",
       "\t<tr><td>Indiana   </td><td>IN        </td><td>74        </td></tr>\n",
       "\t<tr><td>seattle   </td><td>ST        </td><td>31        </td></tr>\n",
       "\t<tr><td>washington</td><td>WT        </td><td>77        </td></tr>\n",
       "\t<tr><td>Texas     </td><td>TX        </td><td>85        </td></tr>\n",
       "</tbody>\n",
       "</table>\n"
      ],
      "text/latex": [
       "\\begin{tabular}{r|lll}\n",
       " US\\_State\\_Name & State\\_code & Hindex\\_Score\\\\\n",
       "\\hline\n",
       "\t Arizona    & AZ         & 62        \\\\\n",
       "\t Georgia    & GA         & 47        \\\\\n",
       "\t Newyork    & NY         & 55        \\\\\n",
       "\t Indiana    & IN         & 74        \\\\\n",
       "\t seattle    & ST         & 31        \\\\\n",
       "\t washington & WT         & 77        \\\\\n",
       "\t Texas      & TX         & 85        \\\\\n",
       "\\end{tabular}\n"
      ],
      "text/markdown": [
       "\n",
       "| US_State_Name | State_code | Hindex_Score |\n",
       "|---|---|---|\n",
       "| Arizona    | AZ         | 62         |\n",
       "| Georgia    | GA         | 47         |\n",
       "| Newyork    | NY         | 55         |\n",
       "| Indiana    | IN         | 74         |\n",
       "| seattle    | ST         | 31         |\n",
       "| washington | WT         | 77         |\n",
       "| Texas      | TX         | 85         |\n",
       "\n"
      ],
      "text/plain": [
       "  US_State_Name State_code Hindex_Score\n",
       "1 Arizona       AZ         62          \n",
       "2 Georgia       GA         47          \n",
       "3 Newyork       NY         55          \n",
       "4 Indiana       IN         74          \n",
       "5 seattle       ST         31          \n",
       "6 washington    WT         77          \n",
       "7 Texas         TX         85          "
      ]
     },
     "metadata": {},
     "output_type": "display_data"
    }
   ],
   "source": [
    "# rename a specific column in R\n",
    "\n",
    "names(df1)[1]<-\"US_State_Name\"\n",
    "df1"
   ]
  },
  {
   "cell_type": "markdown",
   "metadata": {},
   "source": [
    "### Rename a specific column in R – Method 2:"
   ]
  },
  {
   "cell_type": "code",
   "execution_count": 4,
   "metadata": {},
   "outputs": [
    {
     "data": {
      "text/html": [
       "<table>\n",
       "<thead><tr><th scope=col>US_State_Name</th><th scope=col>State_code</th><th scope=col>Hindex_Score</th></tr></thead>\n",
       "<tbody>\n",
       "\t<tr><td>Arizona   </td><td>AZ        </td><td>62        </td></tr>\n",
       "\t<tr><td>Georgia   </td><td>GA        </td><td>47        </td></tr>\n",
       "\t<tr><td>Newyork   </td><td>NY        </td><td>55        </td></tr>\n",
       "\t<tr><td>Indiana   </td><td>IN        </td><td>74        </td></tr>\n",
       "\t<tr><td>seattle   </td><td>ST        </td><td>31        </td></tr>\n",
       "\t<tr><td>washington</td><td>WT        </td><td>77        </td></tr>\n",
       "\t<tr><td>Texas     </td><td>TX        </td><td>85        </td></tr>\n",
       "</tbody>\n",
       "</table>\n"
      ],
      "text/latex": [
       "\\begin{tabular}{r|lll}\n",
       " US\\_State\\_Name & State\\_code & Hindex\\_Score\\\\\n",
       "\\hline\n",
       "\t Arizona    & AZ         & 62        \\\\\n",
       "\t Georgia    & GA         & 47        \\\\\n",
       "\t Newyork    & NY         & 55        \\\\\n",
       "\t Indiana    & IN         & 74        \\\\\n",
       "\t seattle    & ST         & 31        \\\\\n",
       "\t washington & WT         & 77        \\\\\n",
       "\t Texas      & TX         & 85        \\\\\n",
       "\\end{tabular}\n"
      ],
      "text/markdown": [
       "\n",
       "| US_State_Name | State_code | Hindex_Score |\n",
       "|---|---|---|\n",
       "| Arizona    | AZ         | 62         |\n",
       "| Georgia    | GA         | 47         |\n",
       "| Newyork    | NY         | 55         |\n",
       "| Indiana    | IN         | 74         |\n",
       "| seattle    | ST         | 31         |\n",
       "| washington | WT         | 77         |\n",
       "| Texas      | TX         | 85         |\n",
       "\n"
      ],
      "text/plain": [
       "  US_State_Name State_code Hindex_Score\n",
       "1 Arizona       AZ         62          \n",
       "2 Georgia       GA         47          \n",
       "3 Newyork       NY         55          \n",
       "4 Indiana       IN         74          \n",
       "5 seattle       ST         31          \n",
       "6 washington    WT         77          \n",
       "7 Texas         TX         85          "
      ]
     },
     "metadata": {},
     "output_type": "display_data"
    }
   ],
   "source": [
    "# rename a specific column in R\n",
    "\n",
    "names(df1)[names(df1) == \"State\"] <- \"US_State_Name\" \n",
    "df1"
   ]
  },
  {
   "cell_type": "markdown",
   "metadata": {},
   "source": [
    "# CONVERT TO TITLE CASE IN R DATAFRAME COLUMN"
   ]
  },
  {
   "cell_type": "code",
   "execution_count": 5,
   "metadata": {},
   "outputs": [
    {
     "data": {
      "text/html": [
       "<table>\n",
       "<thead><tr><th scope=col>State</th><th scope=col>Score</th></tr></thead>\n",
       "<tbody>\n",
       "\t<tr><td>Arizona AZ</td><td>62        </td></tr>\n",
       "\t<tr><td>Georgia GG</td><td>47        </td></tr>\n",
       "\t<tr><td>Newyork NY</td><td>55        </td></tr>\n",
       "\t<tr><td>Indiana IN</td><td>74        </td></tr>\n",
       "\t<tr><td>Florida FL</td><td>31        </td></tr>\n",
       "</tbody>\n",
       "</table>\n"
      ],
      "text/latex": [
       "\\begin{tabular}{r|ll}\n",
       " State & Score\\\\\n",
       "\\hline\n",
       "\t Arizona AZ & 62        \\\\\n",
       "\t Georgia GG & 47        \\\\\n",
       "\t Newyork NY & 55        \\\\\n",
       "\t Indiana IN & 74        \\\\\n",
       "\t Florida FL & 31        \\\\\n",
       "\\end{tabular}\n"
      ],
      "text/markdown": [
       "\n",
       "| State | Score |\n",
       "|---|---|\n",
       "| Arizona AZ | 62         |\n",
       "| Georgia GG | 47         |\n",
       "| Newyork NY | 55         |\n",
       "| Indiana IN | 74         |\n",
       "| Florida FL | 31         |\n",
       "\n"
      ],
      "text/plain": [
       "  State      Score\n",
       "1 Arizona AZ 62   \n",
       "2 Georgia GG 47   \n",
       "3 Newyork NY 55   \n",
       "4 Indiana IN 74   \n",
       "5 Florida FL 31   "
      ]
     },
     "metadata": {},
     "output_type": "display_data"
    }
   ],
   "source": [
    "df1 = data.frame(State = c('Arizona AZ','Georgia GG', 'Newyork NY','Indiana IN','Florida FL'), \n",
    "                 Score=c(62,47,55,74,31))\n",
    "df1"
   ]
  },
  {
   "cell_type": "markdown",
   "metadata": {},
   "source": [
    "### Convert to title case or proper case in R dataframe:"
   ]
  },
  {
   "cell_type": "code",
   "execution_count": 6,
   "metadata": {},
   "outputs": [
    {
     "data": {
      "text/html": [
       "<table>\n",
       "<thead><tr><th scope=col>State</th><th scope=col>Score</th><th scope=col>state_title_case</th></tr></thead>\n",
       "<tbody>\n",
       "\t<tr><td>Arizona AZ</td><td>62        </td><td>Arizona Az</td></tr>\n",
       "\t<tr><td>Georgia GG</td><td>47        </td><td>Georgia Gg</td></tr>\n",
       "\t<tr><td>Newyork NY</td><td>55        </td><td>Newyork Ny</td></tr>\n",
       "\t<tr><td>Indiana IN</td><td>74        </td><td>Indiana In</td></tr>\n",
       "\t<tr><td>Florida FL</td><td>31        </td><td>Florida Fl</td></tr>\n",
       "</tbody>\n",
       "</table>\n"
      ],
      "text/latex": [
       "\\begin{tabular}{r|lll}\n",
       " State & Score & state\\_title\\_case\\\\\n",
       "\\hline\n",
       "\t Arizona AZ & 62         & Arizona Az\\\\\n",
       "\t Georgia GG & 47         & Georgia Gg\\\\\n",
       "\t Newyork NY & 55         & Newyork Ny\\\\\n",
       "\t Indiana IN & 74         & Indiana In\\\\\n",
       "\t Florida FL & 31         & Florida Fl\\\\\n",
       "\\end{tabular}\n"
      ],
      "text/markdown": [
       "\n",
       "| State | Score | state_title_case |\n",
       "|---|---|---|\n",
       "| Arizona AZ | 62         | Arizona Az |\n",
       "| Georgia GG | 47         | Georgia Gg |\n",
       "| Newyork NY | 55         | Newyork Ny |\n",
       "| Indiana IN | 74         | Indiana In |\n",
       "| Florida FL | 31         | Florida Fl |\n",
       "\n"
      ],
      "text/plain": [
       "  State      Score state_title_case\n",
       "1 Arizona AZ 62    Arizona Az      \n",
       "2 Georgia GG 47    Georgia Gg      \n",
       "3 Newyork NY 55    Newyork Ny      \n",
       "4 Indiana IN 74    Indiana In      \n",
       "5 Florida FL 31    Florida Fl      "
      ]
     },
     "metadata": {},
     "output_type": "display_data"
    }
   ],
   "source": [
    "library(stringr)\n",
    "df1$state_title_case = str_to_title(df1$State)\n",
    "df1"
   ]
  },
  {
   "cell_type": "markdown",
   "metadata": {},
   "source": [
    "### CONVERT COLUMN TO CATEGORICAL IN R"
   ]
  },
  {
   "cell_type": "code",
   "execution_count": 7,
   "metadata": {},
   "outputs": [
    {
     "data": {
      "text/html": [
       "<table>\n",
       "<thead><tr><th scope=col>Name</th><th scope=col>Mathematics_score</th><th scope=col>IS_PASS</th></tr></thead>\n",
       "<tbody>\n",
       "\t<tr><td>George </td><td>45     </td><td>0      </td></tr>\n",
       "\t<tr><td>Andrea </td><td>78     </td><td>1      </td></tr>\n",
       "\t<tr><td>Micheal</td><td>34     </td><td>0      </td></tr>\n",
       "\t<tr><td>Maggie </td><td>89     </td><td>1      </td></tr>\n",
       "\t<tr><td>Ravi   </td><td>66     </td><td>1      </td></tr>\n",
       "\t<tr><td>Xien   </td><td>72     </td><td>1      </td></tr>\n",
       "\t<tr><td>Jalpa  </td><td>87     </td><td>1      </td></tr>\n",
       "</tbody>\n",
       "</table>\n"
      ],
      "text/latex": [
       "\\begin{tabular}{r|lll}\n",
       " Name & Mathematics\\_score & IS\\_PASS\\\\\n",
       "\\hline\n",
       "\t George  & 45      & 0      \\\\\n",
       "\t Andrea  & 78      & 1      \\\\\n",
       "\t Micheal & 34      & 0      \\\\\n",
       "\t Maggie  & 89      & 1      \\\\\n",
       "\t Ravi    & 66      & 1      \\\\\n",
       "\t Xien    & 72      & 1      \\\\\n",
       "\t Jalpa   & 87      & 1      \\\\\n",
       "\\end{tabular}\n"
      ],
      "text/markdown": [
       "\n",
       "| Name | Mathematics_score | IS_PASS |\n",
       "|---|---|---|\n",
       "| George  | 45      | 0       |\n",
       "| Andrea  | 78      | 1       |\n",
       "| Micheal | 34      | 0       |\n",
       "| Maggie  | 89      | 1       |\n",
       "| Ravi    | 66      | 1       |\n",
       "| Xien    | 72      | 1       |\n",
       "| Jalpa   | 87      | 1       |\n",
       "\n"
      ],
      "text/plain": [
       "  Name    Mathematics_score IS_PASS\n",
       "1 George  45                0      \n",
       "2 Andrea  78                1      \n",
       "3 Micheal 34                0      \n",
       "4 Maggie  89                1      \n",
       "5 Ravi    66                1      \n",
       "6 Xien    72                1      \n",
       "7 Jalpa   87                1      "
      ]
     },
     "metadata": {},
     "output_type": "display_data"
    }
   ],
   "source": [
    "df1 = data.frame(Name = c('George','Andrea', 'Micheal','Maggie','Ravi','Xien','Jalpa'), \n",
    "                 Mathematics_score=c(45,78,34,89,66,72,87),\n",
    "                 IS_PASS=c(0,1,0,1,1,1,1))\n",
    "df1"
   ]
  },
  {
   "cell_type": "code",
   "execution_count": 11,
   "metadata": {},
   "outputs": [
    {
     "data": {
      "text/html": [
       "<table>\n",
       "<thead><tr><th scope=col>Name</th><th scope=col>Mathematics_score</th><th scope=col>IS_PASS</th></tr></thead>\n",
       "<tbody>\n",
       "\t<tr><td>George </td><td>45     </td><td>0      </td></tr>\n",
       "\t<tr><td>Andrea </td><td>78     </td><td>1      </td></tr>\n",
       "\t<tr><td>Micheal</td><td>34     </td><td>0      </td></tr>\n",
       "\t<tr><td>Maggie </td><td>89     </td><td>1      </td></tr>\n",
       "\t<tr><td>Ravi   </td><td>66     </td><td>1      </td></tr>\n",
       "\t<tr><td>Xien   </td><td>72     </td><td>1      </td></tr>\n",
       "</tbody>\n",
       "</table>\n"
      ],
      "text/latex": [
       "\\begin{tabular}{r|lll}\n",
       " Name & Mathematics\\_score & IS\\_PASS\\\\\n",
       "\\hline\n",
       "\t George  & 45      & 0      \\\\\n",
       "\t Andrea  & 78      & 1      \\\\\n",
       "\t Micheal & 34      & 0      \\\\\n",
       "\t Maggie  & 89      & 1      \\\\\n",
       "\t Ravi    & 66      & 1      \\\\\n",
       "\t Xien    & 72      & 1      \\\\\n",
       "\\end{tabular}\n"
      ],
      "text/markdown": [
       "\n",
       "| Name | Mathematics_score | IS_PASS |\n",
       "|---|---|---|\n",
       "| George  | 45      | 0       |\n",
       "| Andrea  | 78      | 1       |\n",
       "| Micheal | 34      | 0       |\n",
       "| Maggie  | 89      | 1       |\n",
       "| Ravi    | 66      | 1       |\n",
       "| Xien    | 72      | 1       |\n",
       "\n"
      ],
      "text/plain": [
       "  Name    Mathematics_score IS_PASS\n",
       "1 George  45                0      \n",
       "2 Andrea  78                1      \n",
       "3 Micheal 34                0      \n",
       "4 Maggie  89                1      \n",
       "5 Ravi    66                1      \n",
       "6 Xien    72                1      "
      ]
     },
     "metadata": {},
     "output_type": "display_data"
    },
    {
     "name": "stdout",
     "output_type": "stream",
     "text": [
      "'data.frame':\t7 obs. of  3 variables:\n",
      " $ Name             : Factor w/ 7 levels \"Andrea\",\"George\",..: 2 1 5 4 6 7 3\n",
      " $ Mathematics_score: num  45 78 34 89 66 72 87\n",
      " $ IS_PASS          : Factor w/ 2 levels \"0\",\"1\": 1 2 1 2 2 2 2\n"
     ]
    }
   ],
   "source": [
    "df1$IS_PASS = as.factor(df1$IS_PASS) # converting to categorical\n",
    "head(df1)\n",
    "str(df1)"
   ]
  },
  {
   "cell_type": "markdown",
   "metadata": {},
   "source": [
    "### PERCENTAGE OF THE COLUMN IN R"
   ]
  },
  {
   "cell_type": "code",
   "execution_count": 12,
   "metadata": {},
   "outputs": [
    {
     "data": {
      "text/html": [
       "<table>\n",
       "<thead><tr><th scope=col>State</th><th scope=col>Score</th></tr></thead>\n",
       "<tbody>\n",
       "\t<tr><td>Arizona AZ</td><td>62        </td></tr>\n",
       "\t<tr><td>Georgia GG</td><td>47        </td></tr>\n",
       "\t<tr><td>Newyork NY</td><td>55        </td></tr>\n",
       "\t<tr><td>Indiana IN</td><td>74        </td></tr>\n",
       "\t<tr><td>Florida FL</td><td>31        </td></tr>\n",
       "</tbody>\n",
       "</table>\n"
      ],
      "text/latex": [
       "\\begin{tabular}{r|ll}\n",
       " State & Score\\\\\n",
       "\\hline\n",
       "\t Arizona AZ & 62        \\\\\n",
       "\t Georgia GG & 47        \\\\\n",
       "\t Newyork NY & 55        \\\\\n",
       "\t Indiana IN & 74        \\\\\n",
       "\t Florida FL & 31        \\\\\n",
       "\\end{tabular}\n"
      ],
      "text/markdown": [
       "\n",
       "| State | Score |\n",
       "|---|---|\n",
       "| Arizona AZ | 62         |\n",
       "| Georgia GG | 47         |\n",
       "| Newyork NY | 55         |\n",
       "| Indiana IN | 74         |\n",
       "| Florida FL | 31         |\n",
       "\n"
      ],
      "text/plain": [
       "  State      Score\n",
       "1 Arizona AZ 62   \n",
       "2 Georgia GG 47   \n",
       "3 Newyork NY 55   \n",
       "4 Indiana IN 74   \n",
       "5 Florida FL 31   "
      ]
     },
     "metadata": {},
     "output_type": "display_data"
    }
   ],
   "source": [
    "df1 = data.frame(State = c('Arizona AZ','Georgia GG', 'Newyork NY','Indiana IN','Florida FL'), Score=c(62,47,55,74,31))\n",
    "df1"
   ]
  },
  {
   "cell_type": "code",
   "execution_count": 13,
   "metadata": {},
   "outputs": [
    {
     "data": {
      "text/html": [
       "<table>\n",
       "<thead><tr><th scope=col>State</th><th scope=col>Score</th><th scope=col>score_percen</th></tr></thead>\n",
       "<tbody>\n",
       "\t<tr><td>Arizona AZ</td><td>62        </td><td>23.04833  </td></tr>\n",
       "\t<tr><td>Georgia GG</td><td>47        </td><td>17.47212  </td></tr>\n",
       "\t<tr><td>Newyork NY</td><td>55        </td><td>20.44610  </td></tr>\n",
       "\t<tr><td>Indiana IN</td><td>74        </td><td>27.50929  </td></tr>\n",
       "\t<tr><td>Florida FL</td><td>31        </td><td>11.52416  </td></tr>\n",
       "</tbody>\n",
       "</table>\n"
      ],
      "text/latex": [
       "\\begin{tabular}{r|lll}\n",
       " State & Score & score\\_percen\\\\\n",
       "\\hline\n",
       "\t Arizona AZ & 62         & 23.04833  \\\\\n",
       "\t Georgia GG & 47         & 17.47212  \\\\\n",
       "\t Newyork NY & 55         & 20.44610  \\\\\n",
       "\t Indiana IN & 74         & 27.50929  \\\\\n",
       "\t Florida FL & 31         & 11.52416  \\\\\n",
       "\\end{tabular}\n"
      ],
      "text/markdown": [
       "\n",
       "| State | Score | score_percen |\n",
       "|---|---|---|\n",
       "| Arizona AZ | 62         | 23.04833   |\n",
       "| Georgia GG | 47         | 17.47212   |\n",
       "| Newyork NY | 55         | 20.44610   |\n",
       "| Indiana IN | 74         | 27.50929   |\n",
       "| Florida FL | 31         | 11.52416   |\n",
       "\n"
      ],
      "text/plain": [
       "  State      Score score_percen\n",
       "1 Arizona AZ 62    23.04833    \n",
       "2 Georgia GG 47    17.47212    \n",
       "3 Newyork NY 55    20.44610    \n",
       "4 Indiana IN 74    27.50929    \n",
       "5 Florida FL 31    11.52416    "
      ]
     },
     "metadata": {},
     "output_type": "display_data"
    }
   ],
   "source": [
    "df1$score_percen= 100*(df1$Score/sum(df1$Score))\n",
    "df1"
   ]
  },
  {
   "cell_type": "markdown",
   "metadata": {},
   "source": [
    "### REVERSE THE COLUMN ORDER OF THE DATAFRAME IN R"
   ]
  },
  {
   "cell_type": "code",
   "execution_count": 14,
   "metadata": {},
   "outputs": [],
   "source": [
    "df1 = data.frame( Name = c('George','Andrea', 'Micheal','Maggie','Ravi','Xien','Jalpa'), \n",
    "                  Grade_score=c(4,6,2,9,5,7,8),\n",
    "                  Mathematics1_score=c(45,78,44,89,66,49,72),\n",
    "                  Science_score=c(56,52,45,88,33,90,47))"
   ]
  },
  {
   "cell_type": "code",
   "execution_count": 15,
   "metadata": {},
   "outputs": [
    {
     "data": {
      "text/html": [
       "<table>\n",
       "<thead><tr><th scope=col>Science_score</th><th scope=col>Mathematics1_score</th><th scope=col>Grade_score</th><th scope=col>Name</th></tr></thead>\n",
       "<tbody>\n",
       "\t<tr><td>56     </td><td>45     </td><td>4      </td><td>George </td></tr>\n",
       "\t<tr><td>52     </td><td>78     </td><td>6      </td><td>Andrea </td></tr>\n",
       "\t<tr><td>45     </td><td>44     </td><td>2      </td><td>Micheal</td></tr>\n",
       "\t<tr><td>88     </td><td>89     </td><td>9      </td><td>Maggie </td></tr>\n",
       "\t<tr><td>33     </td><td>66     </td><td>5      </td><td>Ravi   </td></tr>\n",
       "\t<tr><td>90     </td><td>49     </td><td>7      </td><td>Xien   </td></tr>\n",
       "\t<tr><td>47     </td><td>72     </td><td>8      </td><td>Jalpa  </td></tr>\n",
       "</tbody>\n",
       "</table>\n"
      ],
      "text/latex": [
       "\\begin{tabular}{r|llll}\n",
       " Science\\_score & Mathematics1\\_score & Grade\\_score & Name\\\\\n",
       "\\hline\n",
       "\t 56      & 45      & 4       & George \\\\\n",
       "\t 52      & 78      & 6       & Andrea \\\\\n",
       "\t 45      & 44      & 2       & Micheal\\\\\n",
       "\t 88      & 89      & 9       & Maggie \\\\\n",
       "\t 33      & 66      & 5       & Ravi   \\\\\n",
       "\t 90      & 49      & 7       & Xien   \\\\\n",
       "\t 47      & 72      & 8       & Jalpa  \\\\\n",
       "\\end{tabular}\n"
      ],
      "text/markdown": [
       "\n",
       "| Science_score | Mathematics1_score | Grade_score | Name |\n",
       "|---|---|---|---|\n",
       "| 56      | 45      | 4       | George  |\n",
       "| 52      | 78      | 6       | Andrea  |\n",
       "| 45      | 44      | 2       | Micheal |\n",
       "| 88      | 89      | 9       | Maggie  |\n",
       "| 33      | 66      | 5       | Ravi    |\n",
       "| 90      | 49      | 7       | Xien    |\n",
       "| 47      | 72      | 8       | Jalpa   |\n",
       "\n"
      ],
      "text/plain": [
       "  Science_score Mathematics1_score Grade_score Name   \n",
       "1 56            45                 4           George \n",
       "2 52            78                 6           Andrea \n",
       "3 45            44                 2           Micheal\n",
       "4 88            89                 9           Maggie \n",
       "5 33            66                 5           Ravi   \n",
       "6 90            49                 7           Xien   \n",
       "7 47            72                 8           Jalpa  "
      ]
     },
     "metadata": {},
     "output_type": "display_data"
    }
   ],
   "source": [
    "## invert the column order in R\n",
    "\n",
    "df2=df1[,order(ncol(df1):1)]\n",
    "df2"
   ]
  },
  {
   "cell_type": "markdown",
   "metadata": {},
   "source": [
    "#### FILTERING WITH MULTIPLE CONDITIONS IN R"
   ]
  },
  {
   "cell_type": "code",
   "execution_count": 1,
   "metadata": {},
   "outputs": [
    {
     "data": {
      "text/html": [
       "<table>\n",
       "<thead><tr><th scope=col>Name</th><th scope=col>Grade_score</th><th scope=col>Mathematics1_score</th><th scope=col>Science_score</th></tr></thead>\n",
       "<tbody>\n",
       "\t<tr><td>George </td><td>4      </td><td>45     </td><td>56     </td></tr>\n",
       "\t<tr><td>Andrea </td><td>6      </td><td>78     </td><td>52     </td></tr>\n",
       "\t<tr><td>Micheal</td><td>2      </td><td>44     </td><td>45     </td></tr>\n",
       "\t<tr><td>Maggie </td><td>9      </td><td>89     </td><td>88     </td></tr>\n",
       "\t<tr><td>Ravi   </td><td>5      </td><td>66     </td><td>33     </td></tr>\n",
       "\t<tr><td>Xien   </td><td>7      </td><td>49     </td><td>90     </td></tr>\n",
       "\t<tr><td>Jalpa  </td><td>8      </td><td>72     </td><td>47     </td></tr>\n",
       "</tbody>\n",
       "</table>\n"
      ],
      "text/latex": [
       "\\begin{tabular}{r|llll}\n",
       " Name & Grade\\_score & Mathematics1\\_score & Science\\_score\\\\\n",
       "\\hline\n",
       "\t George  & 4       & 45      & 56     \\\\\n",
       "\t Andrea  & 6       & 78      & 52     \\\\\n",
       "\t Micheal & 2       & 44      & 45     \\\\\n",
       "\t Maggie  & 9       & 89      & 88     \\\\\n",
       "\t Ravi    & 5       & 66      & 33     \\\\\n",
       "\t Xien    & 7       & 49      & 90     \\\\\n",
       "\t Jalpa   & 8       & 72      & 47     \\\\\n",
       "\\end{tabular}\n"
      ],
      "text/markdown": [
       "\n",
       "| Name | Grade_score | Mathematics1_score | Science_score |\n",
       "|---|---|---|---|\n",
       "| George  | 4       | 45      | 56      |\n",
       "| Andrea  | 6       | 78      | 52      |\n",
       "| Micheal | 2       | 44      | 45      |\n",
       "| Maggie  | 9       | 89      | 88      |\n",
       "| Ravi    | 5       | 66      | 33      |\n",
       "| Xien    | 7       | 49      | 90      |\n",
       "| Jalpa   | 8       | 72      | 47      |\n",
       "\n"
      ],
      "text/plain": [
       "  Name    Grade_score Mathematics1_score Science_score\n",
       "1 George  4           45                 56           \n",
       "2 Andrea  6           78                 52           \n",
       "3 Micheal 2           44                 45           \n",
       "4 Maggie  9           89                 88           \n",
       "5 Ravi    5           66                 33           \n",
       "6 Xien    7           49                 90           \n",
       "7 Jalpa   8           72                 47           "
      ]
     },
     "metadata": {},
     "output_type": "display_data"
    }
   ],
   "source": [
    "### Create Data Frame\n",
    "df1 = data.frame(Name = c('George','Andrea', 'Micheal','Maggie','Ravi','Xien','Jalpa'), \n",
    "                 Grade_score=c(4,6,2,9,5,7,8),\n",
    "                 Mathematics1_score=c(45,78,44,89,66,49,72),\n",
    "                 Science_score=c(56,52,45,88,33,90,47))\n",
    "df1"
   ]
  },
  {
   "cell_type": "code",
   "execution_count": 17,
   "metadata": {},
   "outputs": [
    {
     "name": "stderr",
     "output_type": "stream",
     "text": [
      "Warning message:\n",
      "\"package 'dplyr' was built under R version 3.6.3\"\n",
      "Attaching package: 'dplyr'\n",
      "\n",
      "The following objects are masked from 'package:stats':\n",
      "\n",
      "    filter, lag\n",
      "\n",
      "The following objects are masked from 'package:base':\n",
      "\n",
      "    intersect, setdiff, setequal, union\n",
      "\n"
     ]
    },
    {
     "data": {
      "text/html": [
       "<table>\n",
       "<thead><tr><th scope=col>Name</th><th scope=col>Grade_score</th><th scope=col>Mathematics1_score</th><th scope=col>Science_score</th></tr></thead>\n",
       "<tbody>\n",
       "\t<tr><td>George</td><td>4     </td><td>45    </td><td>56    </td></tr>\n",
       "\t<tr><td>Andrea</td><td>6     </td><td>78    </td><td>52    </td></tr>\n",
       "\t<tr><td>Maggie</td><td>9     </td><td>89    </td><td>88    </td></tr>\n",
       "\t<tr><td>Ravi  </td><td>5     </td><td>66    </td><td>33    </td></tr>\n",
       "\t<tr><td>Xien  </td><td>7     </td><td>49    </td><td>90    </td></tr>\n",
       "\t<tr><td>Jalpa </td><td>8     </td><td>72    </td><td>47    </td></tr>\n",
       "</tbody>\n",
       "</table>\n"
      ],
      "text/latex": [
       "\\begin{tabular}{r|llll}\n",
       " Name & Grade\\_score & Mathematics1\\_score & Science\\_score\\\\\n",
       "\\hline\n",
       "\t George & 4      & 45     & 56    \\\\\n",
       "\t Andrea & 6      & 78     & 52    \\\\\n",
       "\t Maggie & 9      & 89     & 88    \\\\\n",
       "\t Ravi   & 5      & 66     & 33    \\\\\n",
       "\t Xien   & 7      & 49     & 90    \\\\\n",
       "\t Jalpa  & 8      & 72     & 47    \\\\\n",
       "\\end{tabular}\n"
      ],
      "text/markdown": [
       "\n",
       "| Name | Grade_score | Mathematics1_score | Science_score |\n",
       "|---|---|---|---|\n",
       "| George | 4      | 45     | 56     |\n",
       "| Andrea | 6      | 78     | 52     |\n",
       "| Maggie | 9      | 89     | 88     |\n",
       "| Ravi   | 5      | 66     | 33     |\n",
       "| Xien   | 7      | 49     | 90     |\n",
       "| Jalpa  | 8      | 72     | 47     |\n",
       "\n"
      ],
      "text/plain": [
       "  Name   Grade_score Mathematics1_score Science_score\n",
       "1 George 4           45                 56           \n",
       "2 Andrea 6           78                 52           \n",
       "3 Maggie 9           89                 88           \n",
       "4 Ravi   5           66                 33           \n",
       "5 Xien   7           49                 90           \n",
       "6 Jalpa  8           72                 47           "
      ]
     },
     "metadata": {},
     "output_type": "display_data"
    }
   ],
   "source": [
    "library(dplyr)\n",
    "result_or <- df1 %>% filter(Mathematics1_score>45 | Science_score>45)\n",
    "result_or"
   ]
  },
  {
   "cell_type": "code",
   "execution_count": 4,
   "metadata": {},
   "outputs": [
    {
     "data": {
      "text/html": [
       "<table>\n",
       "<thead><tr><th scope=col>Name</th><th scope=col>Grade_score</th><th scope=col>Mathematics1_score</th><th scope=col>Science_score</th></tr></thead>\n",
       "<tbody>\n",
       "\t<tr><td>Andrea</td><td>6     </td><td>78    </td><td>52    </td></tr>\n",
       "\t<tr><td>Maggie</td><td>9     </td><td>89    </td><td>88    </td></tr>\n",
       "\t<tr><td>Xien  </td><td>7     </td><td>49    </td><td>90    </td></tr>\n",
       "\t<tr><td>Jalpa </td><td>8     </td><td>72    </td><td>47    </td></tr>\n",
       "</tbody>\n",
       "</table>\n"
      ],
      "text/latex": [
       "\\begin{tabular}{r|llll}\n",
       " Name & Grade\\_score & Mathematics1\\_score & Science\\_score\\\\\n",
       "\\hline\n",
       "\t Andrea & 6      & 78     & 52    \\\\\n",
       "\t Maggie & 9      & 89     & 88    \\\\\n",
       "\t Xien   & 7      & 49     & 90    \\\\\n",
       "\t Jalpa  & 8      & 72     & 47    \\\\\n",
       "\\end{tabular}\n"
      ],
      "text/markdown": [
       "\n",
       "| Name | Grade_score | Mathematics1_score | Science_score |\n",
       "|---|---|---|---|\n",
       "| Andrea | 6      | 78     | 52     |\n",
       "| Maggie | 9      | 89     | 88     |\n",
       "| Xien   | 7      | 49     | 90     |\n",
       "| Jalpa  | 8      | 72     | 47     |\n",
       "\n"
      ],
      "text/plain": [
       "  Name   Grade_score Mathematics1_score Science_score\n",
       "1 Andrea 6           78                 52           \n",
       "2 Maggie 9           89                 88           \n",
       "3 Xien   7           49                 90           \n",
       "4 Jalpa  8           72                 47           "
      ]
     },
     "metadata": {},
     "output_type": "display_data"
    }
   ],
   "source": [
    "library(dplyr)\n",
    "result_and <- df1 %>% filter(Mathematics1_score>45 & Science_score>45)\n",
    "result_and"
   ]
  },
  {
   "cell_type": "code",
   "execution_count": 6,
   "metadata": {},
   "outputs": [
    {
     "data": {
      "text/html": [
       "<table>\n",
       "<thead><tr><th scope=col>Name</th><th scope=col>Grade_score</th><th scope=col>Mathematics1_score</th><th scope=col>Science_score</th></tr></thead>\n",
       "<tbody>\n",
       "\t<tr><td>Maggie</td><td>9     </td><td>89    </td><td>88    </td></tr>\n",
       "</tbody>\n",
       "</table>\n"
      ],
      "text/latex": [
       "\\begin{tabular}{r|llll}\n",
       " Name & Grade\\_score & Mathematics1\\_score & Science\\_score\\\\\n",
       "\\hline\n",
       "\t Maggie & 9      & 89     & 88    \\\\\n",
       "\\end{tabular}\n"
      ],
      "text/markdown": [
       "\n",
       "| Name | Grade_score | Mathematics1_score | Science_score |\n",
       "|---|---|---|---|\n",
       "| Maggie | 9      | 89     | 88     |\n",
       "\n"
      ],
      "text/plain": [
       "  Name   Grade_score Mathematics1_score Science_score\n",
       "1 Maggie 9           89                 88           "
      ]
     },
     "metadata": {},
     "output_type": "display_data"
    }
   ],
   "source": [
    "library(dplyr)\n",
    "result_and <- df1 %>% filter(Mathematics1_score>45 & Science_score>45 & Grade_score > 6 & Name == \"Maggie\")\n",
    "result_and"
   ]
  },
  {
   "cell_type": "code",
   "execution_count": 7,
   "metadata": {},
   "outputs": [],
   "source": [
    "df <- read.csv('Dataset/state.csv')"
   ]
  },
  {
   "cell_type": "code",
   "execution_count": 8,
   "metadata": {},
   "outputs": [
    {
     "data": {
      "text/html": [
       "<table>\n",
       "<thead><tr><th scope=col>State</th><th scope=col>Population</th><th scope=col>Murder.Rate</th><th scope=col>Abbreviation</th></tr></thead>\n",
       "<tbody>\n",
       "\t<tr><td>Alabama   </td><td> 4779736  </td><td>5.7       </td><td>AL        </td></tr>\n",
       "\t<tr><td>Alaska    </td><td>  710231  </td><td>5.6       </td><td>AK        </td></tr>\n",
       "\t<tr><td>Arizona   </td><td> 6392017  </td><td>4.7       </td><td>AZ        </td></tr>\n",
       "\t<tr><td>Arkansas  </td><td> 2915918  </td><td>5.6       </td><td>AR        </td></tr>\n",
       "\t<tr><td>California</td><td>37253956  </td><td>4.4       </td><td>CA        </td></tr>\n",
       "\t<tr><td>Colorado  </td><td> 5029196  </td><td>2.8       </td><td>CO        </td></tr>\n",
       "</tbody>\n",
       "</table>\n"
      ],
      "text/latex": [
       "\\begin{tabular}{r|llll}\n",
       " State & Population & Murder.Rate & Abbreviation\\\\\n",
       "\\hline\n",
       "\t Alabama    &  4779736   & 5.7        & AL        \\\\\n",
       "\t Alaska     &   710231   & 5.6        & AK        \\\\\n",
       "\t Arizona    &  6392017   & 4.7        & AZ        \\\\\n",
       "\t Arkansas   &  2915918   & 5.6        & AR        \\\\\n",
       "\t California & 37253956   & 4.4        & CA        \\\\\n",
       "\t Colorado   &  5029196   & 2.8        & CO        \\\\\n",
       "\\end{tabular}\n"
      ],
      "text/markdown": [
       "\n",
       "| State | Population | Murder.Rate | Abbreviation |\n",
       "|---|---|---|---|\n",
       "| Alabama    |  4779736   | 5.7        | AL         |\n",
       "| Alaska     |   710231   | 5.6        | AK         |\n",
       "| Arizona    |  6392017   | 4.7        | AZ         |\n",
       "| Arkansas   |  2915918   | 5.6        | AR         |\n",
       "| California | 37253956   | 4.4        | CA         |\n",
       "| Colorado   |  5029196   | 2.8        | CO         |\n",
       "\n"
      ],
      "text/plain": [
       "  State      Population Murder.Rate Abbreviation\n",
       "1 Alabama     4779736   5.7         AL          \n",
       "2 Alaska       710231   5.6         AK          \n",
       "3 Arizona     6392017   4.7         AZ          \n",
       "4 Arkansas    2915918   5.6         AR          \n",
       "5 California 37253956   4.4         CA          \n",
       "6 Colorado    5029196   2.8         CO          "
      ]
     },
     "metadata": {},
     "output_type": "display_data"
    }
   ],
   "source": [
    "head(df) "
   ]
  },
  {
   "cell_type": "code",
   "execution_count": 11,
   "metadata": {},
   "outputs": [
    {
     "data": {
      "text/html": [
       "<table>\n",
       "<thead><tr><th scope=col>State</th><th scope=col>Population</th><th scope=col>Murder.Rate</th><th scope=col>Abbreviation</th></tr></thead>\n",
       "<tbody>\n",
       "\t<tr><td>Alaska  </td><td> 710231 </td><td>5.6     </td><td>AK      </td></tr>\n",
       "\t<tr><td>Arkansas</td><td>2915918 </td><td>5.6     </td><td>AR      </td></tr>\n",
       "\t<tr><td>Delaware</td><td> 897934 </td><td>5.8     </td><td>DE      </td></tr>\n",
       "\t<tr><td>Nevada  </td><td>2700551 </td><td>6.0     </td><td>NV      </td></tr>\n",
       "</tbody>\n",
       "</table>\n"
      ],
      "text/latex": [
       "\\begin{tabular}{r|llll}\n",
       " State & Population & Murder.Rate & Abbreviation\\\\\n",
       "\\hline\n",
       "\t Alaska   &  710231  & 5.6      & AK      \\\\\n",
       "\t Arkansas & 2915918  & 5.6      & AR      \\\\\n",
       "\t Delaware &  897934  & 5.8      & DE      \\\\\n",
       "\t Nevada   & 2700551  & 6.0      & NV      \\\\\n",
       "\\end{tabular}\n"
      ],
      "text/markdown": [
       "\n",
       "| State | Population | Murder.Rate | Abbreviation |\n",
       "|---|---|---|---|\n",
       "| Alaska   |  710231  | 5.6      | AK       |\n",
       "| Arkansas | 2915918  | 5.6      | AR       |\n",
       "| Delaware |  897934  | 5.8      | DE       |\n",
       "| Nevada   | 2700551  | 6.0      | NV       |\n",
       "\n"
      ],
      "text/plain": [
       "  State    Population Murder.Rate Abbreviation\n",
       "1 Alaska    710231    5.6         AK          \n",
       "2 Arkansas 2915918    5.6         AR          \n",
       "3 Delaware  897934    5.8         DE          \n",
       "4 Nevada   2700551    6.0         NV          "
      ]
     },
     "metadata": {},
     "output_type": "display_data"
    }
   ],
   "source": [
    "res <- df %>% filter(Population <=2915918 & Murder.Rate > 5.0)\n",
    "head(res)"
   ]
  },
  {
   "cell_type": "code",
   "execution_count": 31,
   "metadata": {},
   "outputs": [],
   "source": [
    "result <- df %>% filter(State == \"Alaska\")"
   ]
  },
  {
   "cell_type": "code",
   "execution_count": 32,
   "metadata": {},
   "outputs": [
    {
     "data": {
      "text/html": [
       "<table>\n",
       "<thead><tr><th scope=col>State</th><th scope=col>Population</th><th scope=col>Murder.Rate</th><th scope=col>Abbreviation</th></tr></thead>\n",
       "<tbody>\n",
       "\t<tr><td>Alaska</td><td>710231</td><td>5.6   </td><td>AK    </td></tr>\n",
       "</tbody>\n",
       "</table>\n"
      ],
      "text/latex": [
       "\\begin{tabular}{r|llll}\n",
       " State & Population & Murder.Rate & Abbreviation\\\\\n",
       "\\hline\n",
       "\t Alaska & 710231 & 5.6    & AK    \\\\\n",
       "\\end{tabular}\n"
      ],
      "text/markdown": [
       "\n",
       "| State | Population | Murder.Rate | Abbreviation |\n",
       "|---|---|---|---|\n",
       "| Alaska | 710231 | 5.6    | AK     |\n",
       "\n"
      ],
      "text/plain": [
       "  State  Population Murder.Rate Abbreviation\n",
       "1 Alaska 710231     5.6         AK          "
      ]
     },
     "metadata": {},
     "output_type": "display_data"
    }
   ],
   "source": [
    "result"
   ]
  },
  {
   "cell_type": "code",
   "execution_count": 33,
   "metadata": {},
   "outputs": [],
   "source": [
    "result <- df %>% filter(State == \"Alaska \")"
   ]
  },
  {
   "cell_type": "code",
   "execution_count": 34,
   "metadata": {},
   "outputs": [
    {
     "data": {
      "text/html": [
       "<table>\n",
       "<thead><tr><th scope=col>State</th><th scope=col>Population</th><th scope=col>Murder.Rate</th><th scope=col>Abbreviation</th></tr></thead>\n",
       "<tbody>\n",
       "</tbody>\n",
       "</table>\n"
      ],
      "text/latex": [
       "\\begin{tabular}{r|llll}\n",
       " State & Population & Murder.Rate & Abbreviation\\\\\n",
       "\\hline\n",
       "\\end{tabular}\n"
      ],
      "text/markdown": [
       "\n",
       "| State | Population | Murder.Rate | Abbreviation |\n",
       "|---|---|---|---|\n",
       "\n"
      ],
      "text/plain": [
       "     State Population Murder.Rate Abbreviation"
      ]
     },
     "metadata": {},
     "output_type": "display_data"
    }
   ],
   "source": [
    "result"
   ]
  },
  {
   "cell_type": "code",
   "execution_count": 35,
   "metadata": {},
   "outputs": [],
   "source": [
    "result <- df %>% filter(State == \"Alaska\" & Abbreviation == \"AK\")"
   ]
  },
  {
   "cell_type": "code",
   "execution_count": 36,
   "metadata": {},
   "outputs": [
    {
     "data": {
      "text/html": [
       "<table>\n",
       "<thead><tr><th scope=col>State</th><th scope=col>Population</th><th scope=col>Murder.Rate</th><th scope=col>Abbreviation</th></tr></thead>\n",
       "<tbody>\n",
       "\t<tr><td>Alaska</td><td>710231</td><td>5.6   </td><td>AK    </td></tr>\n",
       "</tbody>\n",
       "</table>\n"
      ],
      "text/latex": [
       "\\begin{tabular}{r|llll}\n",
       " State & Population & Murder.Rate & Abbreviation\\\\\n",
       "\\hline\n",
       "\t Alaska & 710231 & 5.6    & AK    \\\\\n",
       "\\end{tabular}\n"
      ],
      "text/markdown": [
       "\n",
       "| State | Population | Murder.Rate | Abbreviation |\n",
       "|---|---|---|---|\n",
       "| Alaska | 710231 | 5.6    | AK     |\n",
       "\n"
      ],
      "text/plain": [
       "  State  Population Murder.Rate Abbreviation\n",
       "1 Alaska 710231     5.6         AK          "
      ]
     },
     "metadata": {},
     "output_type": "display_data"
    }
   ],
   "source": [
    "result"
   ]
  },
  {
   "cell_type": "code",
   "execution_count": null,
   "metadata": {},
   "outputs": [],
   "source": []
  }
 ],
 "metadata": {
  "kernelspec": {
   "display_name": "R",
   "language": "R",
   "name": "ir"
  },
  "language_info": {
   "codemirror_mode": "r",
   "file_extension": ".r",
   "mimetype": "text/x-r-source",
   "name": "R",
   "pygments_lexer": "r",
   "version": "3.6.1"
  }
 },
 "nbformat": 4,
 "nbformat_minor": 2
}
