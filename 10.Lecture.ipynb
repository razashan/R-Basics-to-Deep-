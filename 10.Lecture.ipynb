{
 "cells": [
  {
   "cell_type": "markdown",
   "metadata": {},
   "source": [
    "# Missing value analysis"
   ]
  },
  {
   "cell_type": "code",
   "execution_count": 5,
   "metadata": {},
   "outputs": [],
   "source": [
    "dfa <- read.csv('Dataset/click_rates.csv')"
   ]
  },
  {
   "cell_type": "code",
   "execution_count": 6,
   "metadata": {},
   "outputs": [
    {
     "data": {
      "text/html": [
       "<table>\n",
       "<thead><tr><th scope=col>Headline</th><th scope=col>Click</th><th scope=col>Rate</th></tr></thead>\n",
       "<tbody>\n",
       "\t<tr><td>Headline A</td><td>Click     </td><td> 14       </td></tr>\n",
       "\t<tr><td>Headline A</td><td>No-click  </td><td>986       </td></tr>\n",
       "\t<tr><td>Headline B</td><td>Click     </td><td>  8       </td></tr>\n",
       "\t<tr><td>Headline B</td><td>No-click  </td><td>992       </td></tr>\n",
       "\t<tr><td>Headline C</td><td>Click     </td><td> 12       </td></tr>\n",
       "\t<tr><td>Headline C</td><td>No-click  </td><td>988       </td></tr>\n",
       "</tbody>\n",
       "</table>\n"
      ],
      "text/latex": [
       "\\begin{tabular}{r|lll}\n",
       " Headline & Click & Rate\\\\\n",
       "\\hline\n",
       "\t Headline A & Click      &  14       \\\\\n",
       "\t Headline A & No-click   & 986       \\\\\n",
       "\t Headline B & Click      &   8       \\\\\n",
       "\t Headline B & No-click   & 992       \\\\\n",
       "\t Headline C & Click      &  12       \\\\\n",
       "\t Headline C & No-click   & 988       \\\\\n",
       "\\end{tabular}\n"
      ],
      "text/markdown": [
       "\n",
       "| Headline | Click | Rate |\n",
       "|---|---|---|\n",
       "| Headline A | Click      |  14        |\n",
       "| Headline A | No-click   | 986        |\n",
       "| Headline B | Click      |   8        |\n",
       "| Headline B | No-click   | 992        |\n",
       "| Headline C | Click      |  12        |\n",
       "| Headline C | No-click   | 988        |\n",
       "\n"
      ],
      "text/plain": [
       "  Headline   Click    Rate\n",
       "1 Headline A Click     14 \n",
       "2 Headline A No-click 986 \n",
       "3 Headline B Click      8 \n",
       "4 Headline B No-click 992 \n",
       "5 Headline C Click     12 \n",
       "6 Headline C No-click 988 "
      ]
     },
     "metadata": {},
     "output_type": "display_data"
    }
   ],
   "source": [
    "dfa"
   ]
  },
  {
   "cell_type": "code",
   "execution_count": 7,
   "metadata": {},
   "outputs": [
    {
     "data": {
      "text/html": [
       "<table>\n",
       "<thead><tr><th scope=col>Headline</th><th scope=col>Click</th><th scope=col>Rate</th></tr></thead>\n",
       "<tbody>\n",
       "\t<tr><td>FALSE</td><td>FALSE</td><td>FALSE</td></tr>\n",
       "\t<tr><td>FALSE</td><td>FALSE</td><td>FALSE</td></tr>\n",
       "\t<tr><td>FALSE</td><td>FALSE</td><td>FALSE</td></tr>\n",
       "\t<tr><td>FALSE</td><td>FALSE</td><td>FALSE</td></tr>\n",
       "\t<tr><td>FALSE</td><td>FALSE</td><td>FALSE</td></tr>\n",
       "\t<tr><td>FALSE</td><td>FALSE</td><td>FALSE</td></tr>\n",
       "</tbody>\n",
       "</table>\n"
      ],
      "text/latex": [
       "\\begin{tabular}{lll}\n",
       " Headline & Click & Rate\\\\\n",
       "\\hline\n",
       "\t FALSE & FALSE & FALSE\\\\\n",
       "\t FALSE & FALSE & FALSE\\\\\n",
       "\t FALSE & FALSE & FALSE\\\\\n",
       "\t FALSE & FALSE & FALSE\\\\\n",
       "\t FALSE & FALSE & FALSE\\\\\n",
       "\t FALSE & FALSE & FALSE\\\\\n",
       "\\end{tabular}\n"
      ],
      "text/markdown": [
       "\n",
       "| Headline | Click | Rate |\n",
       "|---|---|---|\n",
       "| FALSE | FALSE | FALSE |\n",
       "| FALSE | FALSE | FALSE |\n",
       "| FALSE | FALSE | FALSE |\n",
       "| FALSE | FALSE | FALSE |\n",
       "| FALSE | FALSE | FALSE |\n",
       "| FALSE | FALSE | FALSE |\n",
       "\n"
      ],
      "text/plain": [
       "     Headline Click Rate \n",
       "[1,] FALSE    FALSE FALSE\n",
       "[2,] FALSE    FALSE FALSE\n",
       "[3,] FALSE    FALSE FALSE\n",
       "[4,] FALSE    FALSE FALSE\n",
       "[5,] FALSE    FALSE FALSE\n",
       "[6,] FALSE    FALSE FALSE"
      ]
     },
     "metadata": {},
     "output_type": "display_data"
    }
   ],
   "source": [
    "is.na(dfa)"
   ]
  },
  {
   "cell_type": "code",
   "execution_count": 8,
   "metadata": {},
   "outputs": [
    {
     "data": {
      "text/plain": [
       "  Headline         Click            Rate        \n",
       " Mode :logical   Mode :logical   Mode :logical  \n",
       " FALSE:6         FALSE:6         FALSE:6        "
      ]
     },
     "metadata": {},
     "output_type": "display_data"
    }
   ],
   "source": [
    "summary(is.na(dfa))"
   ]
  },
  {
   "cell_type": "code",
   "execution_count": 9,
   "metadata": {},
   "outputs": [],
   "source": [
    "dfb <- read.csv('Dataset/dfw_airline.csv')"
   ]
  },
  {
   "cell_type": "code",
   "execution_count": 10,
   "metadata": {},
   "outputs": [
    {
     "data": {
      "text/html": [
       "<table>\n",
       "<thead><tr><th scope=col>Carrier</th><th scope=col>ATC</th><th scope=col>Weather</th><th scope=col>Security</th><th scope=col>Inbound</th></tr></thead>\n",
       "<tbody>\n",
       "\t<tr><td>64263.16</td><td>84856.5 </td><td>11235.42</td><td>343.15  </td><td>118427.8</td></tr>\n",
       "</tbody>\n",
       "</table>\n"
      ],
      "text/latex": [
       "\\begin{tabular}{r|lllll}\n",
       " Carrier & ATC & Weather & Security & Inbound\\\\\n",
       "\\hline\n",
       "\t 64263.16 & 84856.5  & 11235.42 & 343.15   & 118427.8\\\\\n",
       "\\end{tabular}\n"
      ],
      "text/markdown": [
       "\n",
       "| Carrier | ATC | Weather | Security | Inbound |\n",
       "|---|---|---|---|---|\n",
       "| 64263.16 | 84856.5  | 11235.42 | 343.15   | 118427.8 |\n",
       "\n"
      ],
      "text/plain": [
       "  Carrier  ATC     Weather  Security Inbound \n",
       "1 64263.16 84856.5 11235.42 343.15   118427.8"
      ]
     },
     "metadata": {},
     "output_type": "display_data"
    }
   ],
   "source": [
    "dfb"
   ]
  },
  {
   "cell_type": "code",
   "execution_count": 11,
   "metadata": {},
   "outputs": [
    {
     "data": {
      "text/html": [
       "<table>\n",
       "<thead><tr><th scope=col>Carrier</th><th scope=col>ATC</th><th scope=col>Weather</th><th scope=col>Security</th><th scope=col>Inbound</th></tr></thead>\n",
       "<tbody>\n",
       "\t<tr><td>FALSE</td><td>FALSE</td><td>FALSE</td><td>FALSE</td><td>FALSE</td></tr>\n",
       "</tbody>\n",
       "</table>\n"
      ],
      "text/latex": [
       "\\begin{tabular}{lllll}\n",
       " Carrier & ATC & Weather & Security & Inbound\\\\\n",
       "\\hline\n",
       "\t FALSE & FALSE & FALSE & FALSE & FALSE\\\\\n",
       "\\end{tabular}\n"
      ],
      "text/markdown": [
       "\n",
       "| Carrier | ATC | Weather | Security | Inbound |\n",
       "|---|---|---|---|---|\n",
       "| FALSE | FALSE | FALSE | FALSE | FALSE |\n",
       "\n"
      ],
      "text/plain": [
       "     Carrier ATC   Weather Security Inbound\n",
       "[1,] FALSE   FALSE FALSE   FALSE    FALSE  "
      ]
     },
     "metadata": {},
     "output_type": "display_data"
    }
   ],
   "source": [
    "is.na(dfb)"
   ]
  },
  {
   "cell_type": "code",
   "execution_count": 12,
   "metadata": {},
   "outputs": [
    {
     "data": {
      "text/plain": [
       "  Carrier           ATC           Weather         Security      \n",
       " Mode :logical   Mode :logical   Mode :logical   Mode :logical  \n",
       " FALSE:1         FALSE:1         FALSE:1         FALSE:1        \n",
       "  Inbound       \n",
       " Mode :logical  \n",
       " FALSE:1        "
      ]
     },
     "metadata": {},
     "output_type": "display_data"
    }
   ],
   "source": [
    "summary(is.na(dfb))"
   ]
  },
  {
   "cell_type": "code",
   "execution_count": 13,
   "metadata": {},
   "outputs": [],
   "source": [
    "dfc <- read.csv('Dataset/four_sessions.csv')"
   ]
  },
  {
   "cell_type": "code",
   "execution_count": 14,
   "metadata": {},
   "outputs": [
    {
     "data": {
      "text/html": [
       "<table>\n",
       "<thead><tr><th scope=col>Page</th><th scope=col>Time</th></tr></thead>\n",
       "<tbody>\n",
       "\t<tr><td>Page 1</td><td>164   </td></tr>\n",
       "\t<tr><td>Page 2</td><td>178   </td></tr>\n",
       "\t<tr><td>Page 3</td><td>175   </td></tr>\n",
       "\t<tr><td>Page 4</td><td>155   </td></tr>\n",
       "\t<tr><td>Page 1</td><td> NA   </td></tr>\n",
       "\t<tr><td>Page 2</td><td>191   </td></tr>\n",
       "\t<tr><td>Page 3</td><td>193   </td></tr>\n",
       "\t<tr><td>Page 4</td><td>166   </td></tr>\n",
       "\t<tr><td>Page 1</td><td>177   </td></tr>\n",
       "\t<tr><td>Page 2</td><td> NA   </td></tr>\n",
       "\t<tr><td>Page 3</td><td>171   </td></tr>\n",
       "\t<tr><td>Page 4</td><td>164   </td></tr>\n",
       "\t<tr><td>Page 1</td><td> NA   </td></tr>\n",
       "\t<tr><td>Page 2</td><td>185   </td></tr>\n",
       "\t<tr><td>Page 3</td><td>163   </td></tr>\n",
       "\t<tr><td>Page 4</td><td>170   </td></tr>\n",
       "\t<tr><td>Page 1</td><td> NA   </td></tr>\n",
       "\t<tr><td>Page 2</td><td>177   </td></tr>\n",
       "\t<tr><td>Page 3</td><td>176   </td></tr>\n",
       "\t<tr><td>Page 4</td><td> NA   </td></tr>\n",
       "</tbody>\n",
       "</table>\n"
      ],
      "text/latex": [
       "\\begin{tabular}{r|ll}\n",
       " Page & Time\\\\\n",
       "\\hline\n",
       "\t Page 1 & 164   \\\\\n",
       "\t Page 2 & 178   \\\\\n",
       "\t Page 3 & 175   \\\\\n",
       "\t Page 4 & 155   \\\\\n",
       "\t Page 1 &  NA   \\\\\n",
       "\t Page 2 & 191   \\\\\n",
       "\t Page 3 & 193   \\\\\n",
       "\t Page 4 & 166   \\\\\n",
       "\t Page 1 & 177   \\\\\n",
       "\t Page 2 &  NA   \\\\\n",
       "\t Page 3 & 171   \\\\\n",
       "\t Page 4 & 164   \\\\\n",
       "\t Page 1 &  NA   \\\\\n",
       "\t Page 2 & 185   \\\\\n",
       "\t Page 3 & 163   \\\\\n",
       "\t Page 4 & 170   \\\\\n",
       "\t Page 1 &  NA   \\\\\n",
       "\t Page 2 & 177   \\\\\n",
       "\t Page 3 & 176   \\\\\n",
       "\t Page 4 &  NA   \\\\\n",
       "\\end{tabular}\n"
      ],
      "text/markdown": [
       "\n",
       "| Page | Time |\n",
       "|---|---|\n",
       "| Page 1 | 164    |\n",
       "| Page 2 | 178    |\n",
       "| Page 3 | 175    |\n",
       "| Page 4 | 155    |\n",
       "| Page 1 |  NA    |\n",
       "| Page 2 | 191    |\n",
       "| Page 3 | 193    |\n",
       "| Page 4 | 166    |\n",
       "| Page 1 | 177    |\n",
       "| Page 2 |  NA    |\n",
       "| Page 3 | 171    |\n",
       "| Page 4 | 164    |\n",
       "| Page 1 |  NA    |\n",
       "| Page 2 | 185    |\n",
       "| Page 3 | 163    |\n",
       "| Page 4 | 170    |\n",
       "| Page 1 |  NA    |\n",
       "| Page 2 | 177    |\n",
       "| Page 3 | 176    |\n",
       "| Page 4 |  NA    |\n",
       "\n"
      ],
      "text/plain": [
       "   Page   Time\n",
       "1  Page 1 164 \n",
       "2  Page 2 178 \n",
       "3  Page 3 175 \n",
       "4  Page 4 155 \n",
       "5  Page 1  NA \n",
       "6  Page 2 191 \n",
       "7  Page 3 193 \n",
       "8  Page 4 166 \n",
       "9  Page 1 177 \n",
       "10 Page 2  NA \n",
       "11 Page 3 171 \n",
       "12 Page 4 164 \n",
       "13 Page 1  NA \n",
       "14 Page 2 185 \n",
       "15 Page 3 163 \n",
       "16 Page 4 170 \n",
       "17 Page 1  NA \n",
       "18 Page 2 177 \n",
       "19 Page 3 176 \n",
       "20 Page 4  NA "
      ]
     },
     "metadata": {},
     "output_type": "display_data"
    }
   ],
   "source": [
    "dfc"
   ]
  },
  {
   "cell_type": "code",
   "execution_count": 15,
   "metadata": {},
   "outputs": [
    {
     "data": {
      "text/html": [
       "<table>\n",
       "<thead><tr><th scope=col>Page</th><th scope=col>Time</th></tr></thead>\n",
       "<tbody>\n",
       "\t<tr><td>FALSE</td><td>FALSE</td></tr>\n",
       "\t<tr><td>FALSE</td><td>FALSE</td></tr>\n",
       "\t<tr><td>FALSE</td><td>FALSE</td></tr>\n",
       "\t<tr><td>FALSE</td><td>FALSE</td></tr>\n",
       "\t<tr><td>FALSE</td><td> TRUE</td></tr>\n",
       "\t<tr><td>FALSE</td><td>FALSE</td></tr>\n",
       "\t<tr><td>FALSE</td><td>FALSE</td></tr>\n",
       "\t<tr><td>FALSE</td><td>FALSE</td></tr>\n",
       "\t<tr><td>FALSE</td><td>FALSE</td></tr>\n",
       "\t<tr><td>FALSE</td><td> TRUE</td></tr>\n",
       "\t<tr><td>FALSE</td><td>FALSE</td></tr>\n",
       "\t<tr><td>FALSE</td><td>FALSE</td></tr>\n",
       "\t<tr><td>FALSE</td><td> TRUE</td></tr>\n",
       "\t<tr><td>FALSE</td><td>FALSE</td></tr>\n",
       "\t<tr><td>FALSE</td><td>FALSE</td></tr>\n",
       "\t<tr><td>FALSE</td><td>FALSE</td></tr>\n",
       "\t<tr><td>FALSE</td><td> TRUE</td></tr>\n",
       "\t<tr><td>FALSE</td><td>FALSE</td></tr>\n",
       "\t<tr><td>FALSE</td><td>FALSE</td></tr>\n",
       "\t<tr><td>FALSE</td><td> TRUE</td></tr>\n",
       "</tbody>\n",
       "</table>\n"
      ],
      "text/latex": [
       "\\begin{tabular}{ll}\n",
       " Page & Time\\\\\n",
       "\\hline\n",
       "\t FALSE & FALSE\\\\\n",
       "\t FALSE & FALSE\\\\\n",
       "\t FALSE & FALSE\\\\\n",
       "\t FALSE & FALSE\\\\\n",
       "\t FALSE &  TRUE\\\\\n",
       "\t FALSE & FALSE\\\\\n",
       "\t FALSE & FALSE\\\\\n",
       "\t FALSE & FALSE\\\\\n",
       "\t FALSE & FALSE\\\\\n",
       "\t FALSE &  TRUE\\\\\n",
       "\t FALSE & FALSE\\\\\n",
       "\t FALSE & FALSE\\\\\n",
       "\t FALSE &  TRUE\\\\\n",
       "\t FALSE & FALSE\\\\\n",
       "\t FALSE & FALSE\\\\\n",
       "\t FALSE & FALSE\\\\\n",
       "\t FALSE &  TRUE\\\\\n",
       "\t FALSE & FALSE\\\\\n",
       "\t FALSE & FALSE\\\\\n",
       "\t FALSE &  TRUE\\\\\n",
       "\\end{tabular}\n"
      ],
      "text/markdown": [
       "\n",
       "| Page | Time |\n",
       "|---|---|\n",
       "| FALSE | FALSE |\n",
       "| FALSE | FALSE |\n",
       "| FALSE | FALSE |\n",
       "| FALSE | FALSE |\n",
       "| FALSE |  TRUE |\n",
       "| FALSE | FALSE |\n",
       "| FALSE | FALSE |\n",
       "| FALSE | FALSE |\n",
       "| FALSE | FALSE |\n",
       "| FALSE |  TRUE |\n",
       "| FALSE | FALSE |\n",
       "| FALSE | FALSE |\n",
       "| FALSE |  TRUE |\n",
       "| FALSE | FALSE |\n",
       "| FALSE | FALSE |\n",
       "| FALSE | FALSE |\n",
       "| FALSE |  TRUE |\n",
       "| FALSE | FALSE |\n",
       "| FALSE | FALSE |\n",
       "| FALSE |  TRUE |\n",
       "\n"
      ],
      "text/plain": [
       "      Page  Time \n",
       " [1,] FALSE FALSE\n",
       " [2,] FALSE FALSE\n",
       " [3,] FALSE FALSE\n",
       " [4,] FALSE FALSE\n",
       " [5,] FALSE  TRUE\n",
       " [6,] FALSE FALSE\n",
       " [7,] FALSE FALSE\n",
       " [8,] FALSE FALSE\n",
       " [9,] FALSE FALSE\n",
       "[10,] FALSE  TRUE\n",
       "[11,] FALSE FALSE\n",
       "[12,] FALSE FALSE\n",
       "[13,] FALSE  TRUE\n",
       "[14,] FALSE FALSE\n",
       "[15,] FALSE FALSE\n",
       "[16,] FALSE FALSE\n",
       "[17,] FALSE  TRUE\n",
       "[18,] FALSE FALSE\n",
       "[19,] FALSE FALSE\n",
       "[20,] FALSE  TRUE"
      ]
     },
     "metadata": {},
     "output_type": "display_data"
    }
   ],
   "source": [
    "is.na(dfc)"
   ]
  },
  {
   "cell_type": "code",
   "execution_count": 16,
   "metadata": {},
   "outputs": [
    {
     "data": {
      "text/plain": [
       "    Page            Time        \n",
       " Mode :logical   Mode :logical  \n",
       " FALSE:20        FALSE:15       \n",
       "                 TRUE :5        "
      ]
     },
     "metadata": {},
     "output_type": "display_data"
    }
   ],
   "source": [
    "summary(is.na(dfc))"
   ]
  },
  {
   "cell_type": "markdown",
   "metadata": {},
   "source": [
    "# Impute missing values with statistical values"
   ]
  },
  {
   "cell_type": "code",
   "execution_count": 6,
   "metadata": {},
   "outputs": [
    {
     "data": {
      "text/html": [
       "&lt;NA&gt;"
      ],
      "text/latex": [
       "<NA>"
      ],
      "text/markdown": [
       "&lt;NA&gt;"
      ],
      "text/plain": [
       "[1] NA"
      ]
     },
     "metadata": {},
     "output_type": "display_data"
    },
    {
     "data": {
      "text/html": [
       "227.625"
      ],
      "text/latex": [
       "227.625"
      ],
      "text/markdown": [
       "227.625"
      ],
      "text/plain": [
       "[1] 227.625"
      ]
     },
     "metadata": {},
     "output_type": "display_data"
    }
   ],
   "source": [
    "v <-c(100,101,102,104,106,108,NA,NA)\n",
    "mean(v)\n",
    "vc <- c(100,101,102,104,106,108,200,1000)\n",
    "mean(vc)\n",
    "\n",
    "#mean(v,na.rm=T)\n",
    "#print(v)"
   ]
  },
  {
   "cell_type": "code",
   "execution_count": 17,
   "metadata": {},
   "outputs": [],
   "source": [
    "dfc$Time[is.na(dfc$Time)] <- mean(dfc$Time, na.rm = T)"
   ]
  },
  {
   "cell_type": "code",
   "execution_count": 18,
   "metadata": {},
   "outputs": [
    {
     "data": {
      "text/html": [
       "<table>\n",
       "<thead><tr><th scope=col>Page</th><th scope=col>Time</th></tr></thead>\n",
       "<tbody>\n",
       "\t<tr><td>Page 1  </td><td>164.0000</td></tr>\n",
       "\t<tr><td>Page 2  </td><td>178.0000</td></tr>\n",
       "\t<tr><td>Page 3  </td><td>175.0000</td></tr>\n",
       "\t<tr><td>Page 4  </td><td>155.0000</td></tr>\n",
       "\t<tr><td>Page 1  </td><td>173.6667</td></tr>\n",
       "\t<tr><td>Page 2  </td><td>191.0000</td></tr>\n",
       "\t<tr><td>Page 3  </td><td>193.0000</td></tr>\n",
       "\t<tr><td>Page 4  </td><td>166.0000</td></tr>\n",
       "\t<tr><td>Page 1  </td><td>177.0000</td></tr>\n",
       "\t<tr><td>Page 2  </td><td>173.6667</td></tr>\n",
       "\t<tr><td>Page 3  </td><td>171.0000</td></tr>\n",
       "\t<tr><td>Page 4  </td><td>164.0000</td></tr>\n",
       "\t<tr><td>Page 1  </td><td>173.6667</td></tr>\n",
       "\t<tr><td>Page 2  </td><td>185.0000</td></tr>\n",
       "\t<tr><td>Page 3  </td><td>163.0000</td></tr>\n",
       "\t<tr><td>Page 4  </td><td>170.0000</td></tr>\n",
       "\t<tr><td>Page 1  </td><td>173.6667</td></tr>\n",
       "\t<tr><td>Page 2  </td><td>177.0000</td></tr>\n",
       "\t<tr><td>Page 3  </td><td>176.0000</td></tr>\n",
       "\t<tr><td>Page 4  </td><td>173.6667</td></tr>\n",
       "</tbody>\n",
       "</table>\n"
      ],
      "text/latex": [
       "\\begin{tabular}{r|ll}\n",
       " Page & Time\\\\\n",
       "\\hline\n",
       "\t Page 1   & 164.0000\\\\\n",
       "\t Page 2   & 178.0000\\\\\n",
       "\t Page 3   & 175.0000\\\\\n",
       "\t Page 4   & 155.0000\\\\\n",
       "\t Page 1   & 173.6667\\\\\n",
       "\t Page 2   & 191.0000\\\\\n",
       "\t Page 3   & 193.0000\\\\\n",
       "\t Page 4   & 166.0000\\\\\n",
       "\t Page 1   & 177.0000\\\\\n",
       "\t Page 2   & 173.6667\\\\\n",
       "\t Page 3   & 171.0000\\\\\n",
       "\t Page 4   & 164.0000\\\\\n",
       "\t Page 1   & 173.6667\\\\\n",
       "\t Page 2   & 185.0000\\\\\n",
       "\t Page 3   & 163.0000\\\\\n",
       "\t Page 4   & 170.0000\\\\\n",
       "\t Page 1   & 173.6667\\\\\n",
       "\t Page 2   & 177.0000\\\\\n",
       "\t Page 3   & 176.0000\\\\\n",
       "\t Page 4   & 173.6667\\\\\n",
       "\\end{tabular}\n"
      ],
      "text/markdown": [
       "\n",
       "| Page | Time |\n",
       "|---|---|\n",
       "| Page 1   | 164.0000 |\n",
       "| Page 2   | 178.0000 |\n",
       "| Page 3   | 175.0000 |\n",
       "| Page 4   | 155.0000 |\n",
       "| Page 1   | 173.6667 |\n",
       "| Page 2   | 191.0000 |\n",
       "| Page 3   | 193.0000 |\n",
       "| Page 4   | 166.0000 |\n",
       "| Page 1   | 177.0000 |\n",
       "| Page 2   | 173.6667 |\n",
       "| Page 3   | 171.0000 |\n",
       "| Page 4   | 164.0000 |\n",
       "| Page 1   | 173.6667 |\n",
       "| Page 2   | 185.0000 |\n",
       "| Page 3   | 163.0000 |\n",
       "| Page 4   | 170.0000 |\n",
       "| Page 1   | 173.6667 |\n",
       "| Page 2   | 177.0000 |\n",
       "| Page 3   | 176.0000 |\n",
       "| Page 4   | 173.6667 |\n",
       "\n"
      ],
      "text/plain": [
       "   Page   Time    \n",
       "1  Page 1 164.0000\n",
       "2  Page 2 178.0000\n",
       "3  Page 3 175.0000\n",
       "4  Page 4 155.0000\n",
       "5  Page 1 173.6667\n",
       "6  Page 2 191.0000\n",
       "7  Page 3 193.0000\n",
       "8  Page 4 166.0000\n",
       "9  Page 1 177.0000\n",
       "10 Page 2 173.6667\n",
       "11 Page 3 171.0000\n",
       "12 Page 4 164.0000\n",
       "13 Page 1 173.6667\n",
       "14 Page 2 185.0000\n",
       "15 Page 3 163.0000\n",
       "16 Page 4 170.0000\n",
       "17 Page 1 173.6667\n",
       "18 Page 2 177.0000\n",
       "19 Page 3 176.0000\n",
       "20 Page 4 173.6667"
      ]
     },
     "metadata": {},
     "output_type": "display_data"
    }
   ],
   "source": [
    "dfc"
   ]
  },
  {
   "cell_type": "code",
   "execution_count": 19,
   "metadata": {},
   "outputs": [
    {
     "data": {
      "text/html": [
       "<table>\n",
       "<thead><tr><th></th><th scope=col>colSums(is.na(dfc))</th></tr></thead>\n",
       "<tbody>\n",
       "\t<tr><th scope=row>Page</th><td>0</td></tr>\n",
       "\t<tr><th scope=row>Time</th><td>0</td></tr>\n",
       "</tbody>\n",
       "</table>\n"
      ],
      "text/latex": [
       "\\begin{tabular}{r|l}\n",
       "  & colSums(is.na(dfc))\\\\\n",
       "\\hline\n",
       "\tPage & 0\\\\\n",
       "\tTime & 0\\\\\n",
       "\\end{tabular}\n"
      ],
      "text/markdown": [
       "\n",
       "| <!--/--> | colSums(is.na(dfc)) |\n",
       "|---|---|\n",
       "| Page | 0 |\n",
       "| Time | 0 |\n",
       "\n"
      ],
      "text/plain": [
       "     colSums(is.na(dfc))\n",
       "Page 0                  \n",
       "Time 0                  "
      ]
     },
     "metadata": {},
     "output_type": "display_data"
    }
   ],
   "source": [
    "as.data.frame(colSums(is.na(dfc)))"
   ]
  },
  {
   "cell_type": "markdown",
   "metadata": {},
   "source": [
    "# Delete the missing values"
   ]
  },
  {
   "cell_type": "code",
   "execution_count": 20,
   "metadata": {},
   "outputs": [
    {
     "name": "stderr",
     "output_type": "stream",
     "text": [
      "Warning message:\n",
      "\"package 'tidyr' was built under R version 3.6.3\""
     ]
    }
   ],
   "source": [
    "library(tidyr)"
   ]
  },
  {
   "cell_type": "code",
   "execution_count": 21,
   "metadata": {},
   "outputs": [],
   "source": [
    "dfc = drop_na(dfc)\n"
   ]
  },
  {
   "cell_type": "code",
   "execution_count": 22,
   "metadata": {},
   "outputs": [
    {
     "data": {
      "text/html": [
       "<table>\n",
       "<thead><tr><th scope=col>Page</th><th scope=col>Time</th></tr></thead>\n",
       "<tbody>\n",
       "\t<tr><td>FALSE</td><td>FALSE</td></tr>\n",
       "\t<tr><td>FALSE</td><td>FALSE</td></tr>\n",
       "\t<tr><td>FALSE</td><td>FALSE</td></tr>\n",
       "\t<tr><td>FALSE</td><td>FALSE</td></tr>\n",
       "\t<tr><td>FALSE</td><td>FALSE</td></tr>\n",
       "\t<tr><td>FALSE</td><td>FALSE</td></tr>\n",
       "\t<tr><td>FALSE</td><td>FALSE</td></tr>\n",
       "\t<tr><td>FALSE</td><td>FALSE</td></tr>\n",
       "\t<tr><td>FALSE</td><td>FALSE</td></tr>\n",
       "\t<tr><td>FALSE</td><td>FALSE</td></tr>\n",
       "\t<tr><td>FALSE</td><td>FALSE</td></tr>\n",
       "\t<tr><td>FALSE</td><td>FALSE</td></tr>\n",
       "\t<tr><td>FALSE</td><td>FALSE</td></tr>\n",
       "\t<tr><td>FALSE</td><td>FALSE</td></tr>\n",
       "\t<tr><td>FALSE</td><td>FALSE</td></tr>\n",
       "\t<tr><td>FALSE</td><td>FALSE</td></tr>\n",
       "\t<tr><td>FALSE</td><td>FALSE</td></tr>\n",
       "\t<tr><td>FALSE</td><td>FALSE</td></tr>\n",
       "\t<tr><td>FALSE</td><td>FALSE</td></tr>\n",
       "\t<tr><td>FALSE</td><td>FALSE</td></tr>\n",
       "</tbody>\n",
       "</table>\n"
      ],
      "text/latex": [
       "\\begin{tabular}{ll}\n",
       " Page & Time\\\\\n",
       "\\hline\n",
       "\t FALSE & FALSE\\\\\n",
       "\t FALSE & FALSE\\\\\n",
       "\t FALSE & FALSE\\\\\n",
       "\t FALSE & FALSE\\\\\n",
       "\t FALSE & FALSE\\\\\n",
       "\t FALSE & FALSE\\\\\n",
       "\t FALSE & FALSE\\\\\n",
       "\t FALSE & FALSE\\\\\n",
       "\t FALSE & FALSE\\\\\n",
       "\t FALSE & FALSE\\\\\n",
       "\t FALSE & FALSE\\\\\n",
       "\t FALSE & FALSE\\\\\n",
       "\t FALSE & FALSE\\\\\n",
       "\t FALSE & FALSE\\\\\n",
       "\t FALSE & FALSE\\\\\n",
       "\t FALSE & FALSE\\\\\n",
       "\t FALSE & FALSE\\\\\n",
       "\t FALSE & FALSE\\\\\n",
       "\t FALSE & FALSE\\\\\n",
       "\t FALSE & FALSE\\\\\n",
       "\\end{tabular}\n"
      ],
      "text/markdown": [
       "\n",
       "| Page | Time |\n",
       "|---|---|\n",
       "| FALSE | FALSE |\n",
       "| FALSE | FALSE |\n",
       "| FALSE | FALSE |\n",
       "| FALSE | FALSE |\n",
       "| FALSE | FALSE |\n",
       "| FALSE | FALSE |\n",
       "| FALSE | FALSE |\n",
       "| FALSE | FALSE |\n",
       "| FALSE | FALSE |\n",
       "| FALSE | FALSE |\n",
       "| FALSE | FALSE |\n",
       "| FALSE | FALSE |\n",
       "| FALSE | FALSE |\n",
       "| FALSE | FALSE |\n",
       "| FALSE | FALSE |\n",
       "| FALSE | FALSE |\n",
       "| FALSE | FALSE |\n",
       "| FALSE | FALSE |\n",
       "| FALSE | FALSE |\n",
       "| FALSE | FALSE |\n",
       "\n"
      ],
      "text/plain": [
       "      Page  Time \n",
       " [1,] FALSE FALSE\n",
       " [2,] FALSE FALSE\n",
       " [3,] FALSE FALSE\n",
       " [4,] FALSE FALSE\n",
       " [5,] FALSE FALSE\n",
       " [6,] FALSE FALSE\n",
       " [7,] FALSE FALSE\n",
       " [8,] FALSE FALSE\n",
       " [9,] FALSE FALSE\n",
       "[10,] FALSE FALSE\n",
       "[11,] FALSE FALSE\n",
       "[12,] FALSE FALSE\n",
       "[13,] FALSE FALSE\n",
       "[14,] FALSE FALSE\n",
       "[15,] FALSE FALSE\n",
       "[16,] FALSE FALSE\n",
       "[17,] FALSE FALSE\n",
       "[18,] FALSE FALSE\n",
       "[19,] FALSE FALSE\n",
       "[20,] FALSE FALSE"
      ]
     },
     "metadata": {},
     "output_type": "display_data"
    }
   ],
   "source": [
    "is.na(dfc)"
   ]
  },
  {
   "cell_type": "code",
   "execution_count": 23,
   "metadata": {},
   "outputs": [
    {
     "data": {
      "text/html": [
       "<table>\n",
       "<thead><tr><th></th><th scope=col>colSums(is.na(dfc))</th></tr></thead>\n",
       "<tbody>\n",
       "\t<tr><th scope=row>Page</th><td>0</td></tr>\n",
       "\t<tr><th scope=row>Time</th><td>0</td></tr>\n",
       "</tbody>\n",
       "</table>\n"
      ],
      "text/latex": [
       "\\begin{tabular}{r|l}\n",
       "  & colSums(is.na(dfc))\\\\\n",
       "\\hline\n",
       "\tPage & 0\\\\\n",
       "\tTime & 0\\\\\n",
       "\\end{tabular}\n"
      ],
      "text/markdown": [
       "\n",
       "| <!--/--> | colSums(is.na(dfc)) |\n",
       "|---|---|\n",
       "| Page | 0 |\n",
       "| Time | 0 |\n",
       "\n"
      ],
      "text/plain": [
       "     colSums(is.na(dfc))\n",
       "Page 0                  \n",
       "Time 0                  "
      ]
     },
     "metadata": {},
     "output_type": "display_data"
    }
   ],
   "source": [
    "as.data.frame(colSums(is.na(dfc)))"
   ]
  },
  {
   "cell_type": "markdown",
   "metadata": {},
   "source": [
    "# kNN Imputation"
   ]
  },
  {
   "cell_type": "markdown",
   "metadata": {},
   "source": [
    "Another crucial way of imputing the missing values is through kNN imputation.\n",
    "\n",
    "In kNN imputation, the algorithm chooses ‘k’ values and uses the concept of distance values.\n",
    "\n",
    "That is, it measures and identifies ‘k’ values based on the Euclidian distance formula and then replaces the missing values with the nearest one.\n",
    "\n",
    "In the below example, we have used knnImputation() method from ‘DMwR‘ library to perform kNN imputation on the missing values."
   ]
  },
  {
   "cell_type": "code",
   "execution_count": 24,
   "metadata": {},
   "outputs": [
    {
     "name": "stdout",
     "output_type": "stream",
     "text": [
      "package 'DMwR' successfully unpacked and MD5 sums checked\n",
      "\n",
      "The downloaded binary packages are in\n",
      "\tC:\\Users\\Microsoft\\AppData\\Local\\Temp\\RtmpiwDUti\\downloaded_packages\n"
     ]
    }
   ],
   "source": [
    "##install.packages(\"DMwR\")"
   ]
  },
  {
   "cell_type": "code",
   "execution_count": 25,
   "metadata": {},
   "outputs": [
    {
     "name": "stderr",
     "output_type": "stream",
     "text": [
      "Warning message:\n",
      "\"package 'DMwR' was built under R version 3.6.3\"Loading required package: lattice\n",
      "Loading required package: grid\n",
      "Registered S3 method overwritten by 'xts':\n",
      "  method     from\n",
      "  as.zoo.xts zoo \n",
      "Registered S3 method overwritten by 'quantmod':\n",
      "  method            from\n",
      "  as.zoo.data.frame zoo \n",
      "Warning message in knnImputation(dfc):\n",
      "\"No case has missing values. Stopping as there is nothing to do.\""
     ]
    },
    {
     "data": {
      "text/html": [
       "FALSE"
      ],
      "text/latex": [
       "FALSE"
      ],
      "text/markdown": [
       "FALSE"
      ],
      "text/plain": [
       "[1] FALSE"
      ]
     },
     "metadata": {},
     "output_type": "display_data"
    }
   ],
   "source": [
    "library(DMwR)\n",
    "knn_res <- knnImputation(dfc)  # perform knn imputation.\n",
    "anyNA(knn_res)"
   ]
  },
  {
   "cell_type": "code",
   "execution_count": 26,
   "metadata": {},
   "outputs": [],
   "source": [
    "dfd <-read.csv('heartdata.csv')"
   ]
  },
  {
   "cell_type": "code",
   "execution_count": 27,
   "metadata": {},
   "outputs": [
    {
     "data": {
      "text/html": [
       "<table>\n",
       "<thead><tr><th scope=col>X</th><th scope=col>biking</th><th scope=col>smoking</th><th scope=col>heart.disease</th></tr></thead>\n",
       "<tbody>\n",
       "\t<tr><td> 1       </td><td>30.801246</td><td>10.896608</td><td>11.769423</td></tr>\n",
       "\t<tr><td> 2       </td><td>65.129215</td><td> 2.219563</td><td> 2.854081</td></tr>\n",
       "\t<tr><td> 3       </td><td> 1.959665</td><td>17.588331</td><td>17.177803</td></tr>\n",
       "\t<tr><td> 4       </td><td>44.800196</td><td> 2.802559</td><td> 6.816647</td></tr>\n",
       "\t<tr><td> 5       </td><td>69.428454</td><td>15.974505</td><td> 4.062224</td></tr>\n",
       "\t<tr><td> 6       </td><td>54.403626</td><td>29.333176</td><td> 9.550046</td></tr>\n",
       "\t<tr><td> 7       </td><td>49.056162</td><td> 9.060846</td><td> 7.624507</td></tr>\n",
       "\t<tr><td> 8       </td><td> 4.784604</td><td>12.835021</td><td>       NA</td></tr>\n",
       "\t<tr><td> 9       </td><td>65.730788</td><td>11.991297</td><td> 3.067462</td></tr>\n",
       "\t<tr><td>10       </td><td>35.257449</td><td>23.277683</td><td>12.098484</td></tr>\n",
       "\t<tr><td>11       </td><td>51.825567</td><td>14.435118</td><td> 6.430248</td></tr>\n",
       "\t<tr><td>12       </td><td>52.936197</td><td>25.074869</td><td> 8.608272</td></tr>\n",
       "\t<tr><td>13       </td><td>48.767478</td><td>11.023271</td><td>       NA</td></tr>\n",
       "\t<tr><td>14       </td><td>26.166801</td><td> 6.645750</td><td>10.597807</td></tr>\n",
       "\t<tr><td>15       </td><td>10.553075</td><td> 5.990506</td><td>14.079478</td></tr>\n",
       "\t<tr><td>16       </td><td>47.163716</td><td>14.097837</td><td> 8.744845</td></tr>\n",
       "\t<tr><td>17       </td><td>61.685256</td><td>16.840817</td><td> 5.443342</td></tr>\n",
       "\t<tr><td>18       </td><td>33.944394</td><td> 5.758595</td><td>       NA</td></tr>\n",
       "\t<tr><td>19       </td><td>39.697624</td><td>12.662869</td><td> 9.747186</td></tr>\n",
       "\t<tr><td>20       </td><td>63.124698</td><td>22.917480</td><td> 5.858278</td></tr>\n",
       "\t<tr><td>21       </td><td>28.510129</td><td>14.855106</td><td>11.724742</td></tr>\n",
       "\t<tr><td>22       </td><td>18.525973</td><td>26.404977</td><td>       NA</td></tr>\n",
       "\t<tr><td>23       </td><td>24.479470</td><td>26.924961</td><td>       NA</td></tr>\n",
       "\t<tr><td>24       </td><td>18.358646</td><td>23.431957</td><td>16.488206</td></tr>\n",
       "\t<tr><td>25       </td><td>30.388184</td><td>16.986086</td><td>12.356608</td></tr>\n",
       "\t<tr><td>26       </td><td>52.985220</td><td>27.689027</td><td> 9.088445</td></tr>\n",
       "\t<tr><td>27       </td><td>60.509448</td><td> 3.981962</td><td> 3.217214</td></tr>\n",
       "\t<tr><td>28       </td><td>45.247110</td><td> 2.137475</td><td> 6.593719</td></tr>\n",
       "\t<tr><td>29       </td><td>48.597044</td><td>10.388426</td><td> 6.659420</td></tr>\n",
       "\t<tr><td>30       </td><td>25.139771</td><td> 5.836373</td><td>11.482937</td></tr>\n",
       "\t<tr><td>...</td><td>...</td><td>...</td><td>...</td></tr>\n",
       "\t<tr><td>469       </td><td>11.658029 </td><td>26.7341762</td><td>17.473940 </td></tr>\n",
       "\t<tr><td>470       </td><td> 6.295051 </td><td>19.4351915</td><td>17.762115 </td></tr>\n",
       "\t<tr><td>471       </td><td>60.587355 </td><td> 8.1735868</td><td> 4.938059 </td></tr>\n",
       "\t<tr><td>472       </td><td>56.151543 </td><td>28.3524443</td><td>10.161202 </td></tr>\n",
       "\t<tr><td>473       </td><td>74.221991 </td><td>26.0782411</td><td> 4.631398 </td></tr>\n",
       "\t<tr><td>474       </td><td>25.443047 </td><td>13.2003989</td><td>12.358035 </td></tr>\n",
       "\t<tr><td>475       </td><td>36.368318 </td><td>23.6979059</td><td>11.282946 </td></tr>\n",
       "\t<tr><td>476       </td><td>25.887693 </td><td> 8.1590235</td><td>10.887413 </td></tr>\n",
       "\t<tr><td>477       </td><td>59.350253 </td><td>20.3678154</td><td> 7.665346 </td></tr>\n",
       "\t<tr><td>478       </td><td>11.883447 </td><td> 1.1427967</td><td>12.788451 </td></tr>\n",
       "\t<tr><td>479       </td><td> 4.817058 </td><td>27.5778350</td><td>18.503664 </td></tr>\n",
       "\t<tr><td>480       </td><td> 7.582143 </td><td>29.6442147</td><td>18.081268 </td></tr>\n",
       "\t<tr><td>481       </td><td>54.181002 </td><td> 5.9596483</td><td> 5.351619 </td></tr>\n",
       "\t<tr><td>482       </td><td>33.262015 </td><td> 6.8121297</td><td>10.372329 </td></tr>\n",
       "\t<tr><td>483       </td><td>36.086220 </td><td>13.7865545</td><td> 9.731545 </td></tr>\n",
       "\t<tr><td>484       </td><td>55.663943 </td><td>14.9632192</td><td> 6.916259 </td></tr>\n",
       "\t<tr><td>485       </td><td>22.719661 </td><td> 1.0247563</td><td>10.893894 </td></tr>\n",
       "\t<tr><td>486       </td><td>41.178991 </td><td> 7.5752679</td><td> 7.831385 </td></tr>\n",
       "\t<tr><td>487       </td><td>22.021893 </td><td>19.4992577</td><td>13.770639 </td></tr>\n",
       "\t<tr><td>488       </td><td>69.927963 </td><td>25.9843899</td><td> 6.756015 </td></tr>\n",
       "\t<tr><td>489       </td><td>41.642072 </td><td> 0.5330593</td><td> 5.925680 </td></tr>\n",
       "\t<tr><td>490       </td><td>70.194411 </td><td>16.2928029</td><td> 4.707009 </td></tr>\n",
       "\t<tr><td>491       </td><td>50.831908 </td><td> 6.0260661</td><td> 5.585493 </td></tr>\n",
       "\t<tr><td>492       </td><td>68.884065 </td><td>10.5429959</td><td> 3.109338 </td></tr>\n",
       "\t<tr><td>493       </td><td>21.599230 </td><td> 7.6043297</td><td>12.373691 </td></tr>\n",
       "\t<tr><td>494       </td><td>47.660440 </td><td>27.5624638</td><td>11.294392 </td></tr>\n",
       "\t<tr><td>495       </td><td>45.097203 </td><td>21.3856201</td><td> 9.616762 </td></tr>\n",
       "\t<tr><td>496       </td><td> 8.279743 </td><td> 6.4237195</td><td>13.495168 </td></tr>\n",
       "\t<tr><td>497       </td><td>42.345863 </td><td>20.7413275</td><td>10.115865 </td></tr>\n",
       "\t<tr><td>498       </td><td>30.774254 </td><td>23.6101750</td><td>11.843556 </td></tr>\n",
       "</tbody>\n",
       "</table>\n"
      ],
      "text/latex": [
       "\\begin{tabular}{r|llll}\n",
       " X & biking & smoking & heart.disease\\\\\n",
       "\\hline\n",
       "\t  1        & 30.801246 & 10.896608 & 11.769423\\\\\n",
       "\t  2        & 65.129215 &  2.219563 &  2.854081\\\\\n",
       "\t  3        &  1.959665 & 17.588331 & 17.177803\\\\\n",
       "\t  4        & 44.800196 &  2.802559 &  6.816647\\\\\n",
       "\t  5        & 69.428454 & 15.974505 &  4.062224\\\\\n",
       "\t  6        & 54.403626 & 29.333176 &  9.550046\\\\\n",
       "\t  7        & 49.056162 &  9.060846 &  7.624507\\\\\n",
       "\t  8        &  4.784604 & 12.835021 &        NA\\\\\n",
       "\t  9        & 65.730788 & 11.991297 &  3.067462\\\\\n",
       "\t 10        & 35.257449 & 23.277683 & 12.098484\\\\\n",
       "\t 11        & 51.825567 & 14.435118 &  6.430248\\\\\n",
       "\t 12        & 52.936197 & 25.074869 &  8.608272\\\\\n",
       "\t 13        & 48.767478 & 11.023271 &        NA\\\\\n",
       "\t 14        & 26.166801 &  6.645750 & 10.597807\\\\\n",
       "\t 15        & 10.553075 &  5.990506 & 14.079478\\\\\n",
       "\t 16        & 47.163716 & 14.097837 &  8.744845\\\\\n",
       "\t 17        & 61.685256 & 16.840817 &  5.443342\\\\\n",
       "\t 18        & 33.944394 &  5.758595 &        NA\\\\\n",
       "\t 19        & 39.697624 & 12.662869 &  9.747186\\\\\n",
       "\t 20        & 63.124698 & 22.917480 &  5.858278\\\\\n",
       "\t 21        & 28.510129 & 14.855106 & 11.724742\\\\\n",
       "\t 22        & 18.525973 & 26.404977 &        NA\\\\\n",
       "\t 23        & 24.479470 & 26.924961 &        NA\\\\\n",
       "\t 24        & 18.358646 & 23.431957 & 16.488206\\\\\n",
       "\t 25        & 30.388184 & 16.986086 & 12.356608\\\\\n",
       "\t 26        & 52.985220 & 27.689027 &  9.088445\\\\\n",
       "\t 27        & 60.509448 &  3.981962 &  3.217214\\\\\n",
       "\t 28        & 45.247110 &  2.137475 &  6.593719\\\\\n",
       "\t 29        & 48.597044 & 10.388426 &  6.659420\\\\\n",
       "\t 30        & 25.139771 &  5.836373 & 11.482937\\\\\n",
       "\t ... & ... & ... & ...\\\\\n",
       "\t 469        & 11.658029  & 26.7341762 & 17.473940 \\\\\n",
       "\t 470        &  6.295051  & 19.4351915 & 17.762115 \\\\\n",
       "\t 471        & 60.587355  &  8.1735868 &  4.938059 \\\\\n",
       "\t 472        & 56.151543  & 28.3524443 & 10.161202 \\\\\n",
       "\t 473        & 74.221991  & 26.0782411 &  4.631398 \\\\\n",
       "\t 474        & 25.443047  & 13.2003989 & 12.358035 \\\\\n",
       "\t 475        & 36.368318  & 23.6979059 & 11.282946 \\\\\n",
       "\t 476        & 25.887693  &  8.1590235 & 10.887413 \\\\\n",
       "\t 477        & 59.350253  & 20.3678154 &  7.665346 \\\\\n",
       "\t 478        & 11.883447  &  1.1427967 & 12.788451 \\\\\n",
       "\t 479        &  4.817058  & 27.5778350 & 18.503664 \\\\\n",
       "\t 480        &  7.582143  & 29.6442147 & 18.081268 \\\\\n",
       "\t 481        & 54.181002  &  5.9596483 &  5.351619 \\\\\n",
       "\t 482        & 33.262015  &  6.8121297 & 10.372329 \\\\\n",
       "\t 483        & 36.086220  & 13.7865545 &  9.731545 \\\\\n",
       "\t 484        & 55.663943  & 14.9632192 &  6.916259 \\\\\n",
       "\t 485        & 22.719661  &  1.0247563 & 10.893894 \\\\\n",
       "\t 486        & 41.178991  &  7.5752679 &  7.831385 \\\\\n",
       "\t 487        & 22.021893  & 19.4992577 & 13.770639 \\\\\n",
       "\t 488        & 69.927963  & 25.9843899 &  6.756015 \\\\\n",
       "\t 489        & 41.642072  &  0.5330593 &  5.925680 \\\\\n",
       "\t 490        & 70.194411  & 16.2928029 &  4.707009 \\\\\n",
       "\t 491        & 50.831908  &  6.0260661 &  5.585493 \\\\\n",
       "\t 492        & 68.884065  & 10.5429959 &  3.109338 \\\\\n",
       "\t 493        & 21.599230  &  7.6043297 & 12.373691 \\\\\n",
       "\t 494        & 47.660440  & 27.5624638 & 11.294392 \\\\\n",
       "\t 495        & 45.097203  & 21.3856201 &  9.616762 \\\\\n",
       "\t 496        &  8.279743  &  6.4237195 & 13.495168 \\\\\n",
       "\t 497        & 42.345863  & 20.7413275 & 10.115865 \\\\\n",
       "\t 498        & 30.774254  & 23.6101750 & 11.843556 \\\\\n",
       "\\end{tabular}\n"
      ],
      "text/markdown": [
       "\n",
       "| X | biking | smoking | heart.disease |\n",
       "|---|---|---|---|\n",
       "|  1        | 30.801246 | 10.896608 | 11.769423 |\n",
       "|  2        | 65.129215 |  2.219563 |  2.854081 |\n",
       "|  3        |  1.959665 | 17.588331 | 17.177803 |\n",
       "|  4        | 44.800196 |  2.802559 |  6.816647 |\n",
       "|  5        | 69.428454 | 15.974505 |  4.062224 |\n",
       "|  6        | 54.403626 | 29.333176 |  9.550046 |\n",
       "|  7        | 49.056162 |  9.060846 |  7.624507 |\n",
       "|  8        |  4.784604 | 12.835021 |        NA |\n",
       "|  9        | 65.730788 | 11.991297 |  3.067462 |\n",
       "| 10        | 35.257449 | 23.277683 | 12.098484 |\n",
       "| 11        | 51.825567 | 14.435118 |  6.430248 |\n",
       "| 12        | 52.936197 | 25.074869 |  8.608272 |\n",
       "| 13        | 48.767478 | 11.023271 |        NA |\n",
       "| 14        | 26.166801 |  6.645750 | 10.597807 |\n",
       "| 15        | 10.553075 |  5.990506 | 14.079478 |\n",
       "| 16        | 47.163716 | 14.097837 |  8.744845 |\n",
       "| 17        | 61.685256 | 16.840817 |  5.443342 |\n",
       "| 18        | 33.944394 |  5.758595 |        NA |\n",
       "| 19        | 39.697624 | 12.662869 |  9.747186 |\n",
       "| 20        | 63.124698 | 22.917480 |  5.858278 |\n",
       "| 21        | 28.510129 | 14.855106 | 11.724742 |\n",
       "| 22        | 18.525973 | 26.404977 |        NA |\n",
       "| 23        | 24.479470 | 26.924961 |        NA |\n",
       "| 24        | 18.358646 | 23.431957 | 16.488206 |\n",
       "| 25        | 30.388184 | 16.986086 | 12.356608 |\n",
       "| 26        | 52.985220 | 27.689027 |  9.088445 |\n",
       "| 27        | 60.509448 |  3.981962 |  3.217214 |\n",
       "| 28        | 45.247110 |  2.137475 |  6.593719 |\n",
       "| 29        | 48.597044 | 10.388426 |  6.659420 |\n",
       "| 30        | 25.139771 |  5.836373 | 11.482937 |\n",
       "| ... | ... | ... | ... |\n",
       "| 469        | 11.658029  | 26.7341762 | 17.473940  |\n",
       "| 470        |  6.295051  | 19.4351915 | 17.762115  |\n",
       "| 471        | 60.587355  |  8.1735868 |  4.938059  |\n",
       "| 472        | 56.151543  | 28.3524443 | 10.161202  |\n",
       "| 473        | 74.221991  | 26.0782411 |  4.631398  |\n",
       "| 474        | 25.443047  | 13.2003989 | 12.358035  |\n",
       "| 475        | 36.368318  | 23.6979059 | 11.282946  |\n",
       "| 476        | 25.887693  |  8.1590235 | 10.887413  |\n",
       "| 477        | 59.350253  | 20.3678154 |  7.665346  |\n",
       "| 478        | 11.883447  |  1.1427967 | 12.788451  |\n",
       "| 479        |  4.817058  | 27.5778350 | 18.503664  |\n",
       "| 480        |  7.582143  | 29.6442147 | 18.081268  |\n",
       "| 481        | 54.181002  |  5.9596483 |  5.351619  |\n",
       "| 482        | 33.262015  |  6.8121297 | 10.372329  |\n",
       "| 483        | 36.086220  | 13.7865545 |  9.731545  |\n",
       "| 484        | 55.663943  | 14.9632192 |  6.916259  |\n",
       "| 485        | 22.719661  |  1.0247563 | 10.893894  |\n",
       "| 486        | 41.178991  |  7.5752679 |  7.831385  |\n",
       "| 487        | 22.021893  | 19.4992577 | 13.770639  |\n",
       "| 488        | 69.927963  | 25.9843899 |  6.756015  |\n",
       "| 489        | 41.642072  |  0.5330593 |  5.925680  |\n",
       "| 490        | 70.194411  | 16.2928029 |  4.707009  |\n",
       "| 491        | 50.831908  |  6.0260661 |  5.585493  |\n",
       "| 492        | 68.884065  | 10.5429959 |  3.109338  |\n",
       "| 493        | 21.599230  |  7.6043297 | 12.373691  |\n",
       "| 494        | 47.660440  | 27.5624638 | 11.294392  |\n",
       "| 495        | 45.097203  | 21.3856201 |  9.616762  |\n",
       "| 496        |  8.279743  |  6.4237195 | 13.495168  |\n",
       "| 497        | 42.345863  | 20.7413275 | 10.115865  |\n",
       "| 498        | 30.774254  | 23.6101750 | 11.843556  |\n",
       "\n"
      ],
      "text/plain": [
       "    X   biking    smoking    heart.disease\n",
       "1    1  30.801246 10.896608  11.769423    \n",
       "2    2  65.129215  2.219563   2.854081    \n",
       "3    3   1.959665 17.588331  17.177803    \n",
       "4    4  44.800196  2.802559   6.816647    \n",
       "5    5  69.428454 15.974505   4.062224    \n",
       "6    6  54.403626 29.333176   9.550046    \n",
       "7    7  49.056162  9.060846   7.624507    \n",
       "8    8   4.784604 12.835021         NA    \n",
       "9    9  65.730788 11.991297   3.067462    \n",
       "10  10  35.257449 23.277683  12.098484    \n",
       "11  11  51.825567 14.435118   6.430248    \n",
       "12  12  52.936197 25.074869   8.608272    \n",
       "13  13  48.767478 11.023271         NA    \n",
       "14  14  26.166801  6.645750  10.597807    \n",
       "15  15  10.553075  5.990506  14.079478    \n",
       "16  16  47.163716 14.097837   8.744845    \n",
       "17  17  61.685256 16.840817   5.443342    \n",
       "18  18  33.944394  5.758595         NA    \n",
       "19  19  39.697624 12.662869   9.747186    \n",
       "20  20  63.124698 22.917480   5.858278    \n",
       "21  21  28.510129 14.855106  11.724742    \n",
       "22  22  18.525973 26.404977         NA    \n",
       "23  23  24.479470 26.924961         NA    \n",
       "24  24  18.358646 23.431957  16.488206    \n",
       "25  25  30.388184 16.986086  12.356608    \n",
       "26  26  52.985220 27.689027   9.088445    \n",
       "27  27  60.509448  3.981962   3.217214    \n",
       "28  28  45.247110  2.137475   6.593719    \n",
       "29  29  48.597044 10.388426   6.659420    \n",
       "30  30  25.139771  5.836373  11.482937    \n",
       "... ... ...       ...        ...          \n",
       "469 469 11.658029 26.7341762 17.473940    \n",
       "470 470  6.295051 19.4351915 17.762115    \n",
       "471 471 60.587355  8.1735868  4.938059    \n",
       "472 472 56.151543 28.3524443 10.161202    \n",
       "473 473 74.221991 26.0782411  4.631398    \n",
       "474 474 25.443047 13.2003989 12.358035    \n",
       "475 475 36.368318 23.6979059 11.282946    \n",
       "476 476 25.887693  8.1590235 10.887413    \n",
       "477 477 59.350253 20.3678154  7.665346    \n",
       "478 478 11.883447  1.1427967 12.788451    \n",
       "479 479  4.817058 27.5778350 18.503664    \n",
       "480 480  7.582143 29.6442147 18.081268    \n",
       "481 481 54.181002  5.9596483  5.351619    \n",
       "482 482 33.262015  6.8121297 10.372329    \n",
       "483 483 36.086220 13.7865545  9.731545    \n",
       "484 484 55.663943 14.9632192  6.916259    \n",
       "485 485 22.719661  1.0247563 10.893894    \n",
       "486 486 41.178991  7.5752679  7.831385    \n",
       "487 487 22.021893 19.4992577 13.770639    \n",
       "488 488 69.927963 25.9843899  6.756015    \n",
       "489 489 41.642072  0.5330593  5.925680    \n",
       "490 490 70.194411 16.2928029  4.707009    \n",
       "491 491 50.831908  6.0260661  5.585493    \n",
       "492 492 68.884065 10.5429959  3.109338    \n",
       "493 493 21.599230  7.6043297 12.373691    \n",
       "494 494 47.660440 27.5624638 11.294392    \n",
       "495 495 45.097203 21.3856201  9.616762    \n",
       "496 496  8.279743  6.4237195 13.495168    \n",
       "497 497 42.345863 20.7413275 10.115865    \n",
       "498 498 30.774254 23.6101750 11.843556    "
      ]
     },
     "metadata": {},
     "output_type": "display_data"
    }
   ],
   "source": [
    "dfd"
   ]
  },
  {
   "cell_type": "code",
   "execution_count": 28,
   "metadata": {},
   "outputs": [
    {
     "data": {
      "text/html": [
       "<table>\n",
       "<thead><tr><th scope=col>X</th><th scope=col>biking</th><th scope=col>smoking</th><th scope=col>heart.disease</th></tr></thead>\n",
       "<tbody>\n",
       "\t<tr><td>FALSE</td><td>FALSE</td><td>FALSE</td><td>FALSE</td></tr>\n",
       "\t<tr><td>FALSE</td><td>FALSE</td><td>FALSE</td><td>FALSE</td></tr>\n",
       "\t<tr><td>FALSE</td><td>FALSE</td><td>FALSE</td><td>FALSE</td></tr>\n",
       "\t<tr><td>FALSE</td><td>FALSE</td><td>FALSE</td><td>FALSE</td></tr>\n",
       "\t<tr><td>FALSE</td><td>FALSE</td><td>FALSE</td><td>FALSE</td></tr>\n",
       "\t<tr><td>FALSE</td><td>FALSE</td><td>FALSE</td><td>FALSE</td></tr>\n",
       "\t<tr><td>FALSE</td><td>FALSE</td><td>FALSE</td><td>FALSE</td></tr>\n",
       "\t<tr><td>FALSE</td><td>FALSE</td><td>FALSE</td><td> TRUE</td></tr>\n",
       "\t<tr><td>FALSE</td><td>FALSE</td><td>FALSE</td><td>FALSE</td></tr>\n",
       "\t<tr><td>FALSE</td><td>FALSE</td><td>FALSE</td><td>FALSE</td></tr>\n",
       "\t<tr><td>FALSE</td><td>FALSE</td><td>FALSE</td><td>FALSE</td></tr>\n",
       "\t<tr><td>FALSE</td><td>FALSE</td><td>FALSE</td><td>FALSE</td></tr>\n",
       "\t<tr><td>FALSE</td><td>FALSE</td><td>FALSE</td><td> TRUE</td></tr>\n",
       "\t<tr><td>FALSE</td><td>FALSE</td><td>FALSE</td><td>FALSE</td></tr>\n",
       "\t<tr><td>FALSE</td><td>FALSE</td><td>FALSE</td><td>FALSE</td></tr>\n",
       "\t<tr><td>FALSE</td><td>FALSE</td><td>FALSE</td><td>FALSE</td></tr>\n",
       "\t<tr><td>FALSE</td><td>FALSE</td><td>FALSE</td><td>FALSE</td></tr>\n",
       "\t<tr><td>FALSE</td><td>FALSE</td><td>FALSE</td><td> TRUE</td></tr>\n",
       "\t<tr><td>FALSE</td><td>FALSE</td><td>FALSE</td><td>FALSE</td></tr>\n",
       "\t<tr><td>FALSE</td><td>FALSE</td><td>FALSE</td><td>FALSE</td></tr>\n",
       "\t<tr><td>FALSE</td><td>FALSE</td><td>FALSE</td><td>FALSE</td></tr>\n",
       "\t<tr><td>FALSE</td><td>FALSE</td><td>FALSE</td><td> TRUE</td></tr>\n",
       "\t<tr><td>FALSE</td><td>FALSE</td><td>FALSE</td><td> TRUE</td></tr>\n",
       "\t<tr><td>FALSE</td><td>FALSE</td><td>FALSE</td><td>FALSE</td></tr>\n",
       "\t<tr><td>FALSE</td><td>FALSE</td><td>FALSE</td><td>FALSE</td></tr>\n",
       "\t<tr><td>FALSE</td><td>FALSE</td><td>FALSE</td><td>FALSE</td></tr>\n",
       "\t<tr><td>FALSE</td><td>FALSE</td><td>FALSE</td><td>FALSE</td></tr>\n",
       "\t<tr><td>FALSE</td><td>FALSE</td><td>FALSE</td><td>FALSE</td></tr>\n",
       "\t<tr><td>FALSE</td><td>FALSE</td><td>FALSE</td><td>FALSE</td></tr>\n",
       "\t<tr><td>FALSE</td><td>FALSE</td><td>FALSE</td><td>FALSE</td></tr>\n",
       "\t<tr><td>...</td><td>...</td><td>...</td><td>...</td></tr>\n",
       "\t<tr><td>FALSE</td><td>FALSE</td><td>FALSE</td><td>FALSE</td></tr>\n",
       "\t<tr><td>FALSE</td><td>FALSE</td><td>FALSE</td><td>FALSE</td></tr>\n",
       "\t<tr><td>FALSE</td><td>FALSE</td><td>FALSE</td><td>FALSE</td></tr>\n",
       "\t<tr><td>FALSE</td><td>FALSE</td><td>FALSE</td><td>FALSE</td></tr>\n",
       "\t<tr><td>FALSE</td><td>FALSE</td><td>FALSE</td><td>FALSE</td></tr>\n",
       "\t<tr><td>FALSE</td><td>FALSE</td><td>FALSE</td><td>FALSE</td></tr>\n",
       "\t<tr><td>FALSE</td><td>FALSE</td><td>FALSE</td><td>FALSE</td></tr>\n",
       "\t<tr><td>FALSE</td><td>FALSE</td><td>FALSE</td><td>FALSE</td></tr>\n",
       "\t<tr><td>FALSE</td><td>FALSE</td><td>FALSE</td><td>FALSE</td></tr>\n",
       "\t<tr><td>FALSE</td><td>FALSE</td><td>FALSE</td><td>FALSE</td></tr>\n",
       "\t<tr><td>FALSE</td><td>FALSE</td><td>FALSE</td><td>FALSE</td></tr>\n",
       "\t<tr><td>FALSE</td><td>FALSE</td><td>FALSE</td><td>FALSE</td></tr>\n",
       "\t<tr><td>FALSE</td><td>FALSE</td><td>FALSE</td><td>FALSE</td></tr>\n",
       "\t<tr><td>FALSE</td><td>FALSE</td><td>FALSE</td><td>FALSE</td></tr>\n",
       "\t<tr><td>FALSE</td><td>FALSE</td><td>FALSE</td><td>FALSE</td></tr>\n",
       "\t<tr><td>FALSE</td><td>FALSE</td><td>FALSE</td><td>FALSE</td></tr>\n",
       "\t<tr><td>FALSE</td><td>FALSE</td><td>FALSE</td><td>FALSE</td></tr>\n",
       "\t<tr><td>FALSE</td><td>FALSE</td><td>FALSE</td><td>FALSE</td></tr>\n",
       "\t<tr><td>FALSE</td><td>FALSE</td><td>FALSE</td><td>FALSE</td></tr>\n",
       "\t<tr><td>FALSE</td><td>FALSE</td><td>FALSE</td><td>FALSE</td></tr>\n",
       "\t<tr><td>FALSE</td><td>FALSE</td><td>FALSE</td><td>FALSE</td></tr>\n",
       "\t<tr><td>FALSE</td><td>FALSE</td><td>FALSE</td><td>FALSE</td></tr>\n",
       "\t<tr><td>FALSE</td><td>FALSE</td><td>FALSE</td><td>FALSE</td></tr>\n",
       "\t<tr><td>FALSE</td><td>FALSE</td><td>FALSE</td><td>FALSE</td></tr>\n",
       "\t<tr><td>FALSE</td><td>FALSE</td><td>FALSE</td><td>FALSE</td></tr>\n",
       "\t<tr><td>FALSE</td><td>FALSE</td><td>FALSE</td><td>FALSE</td></tr>\n",
       "\t<tr><td>FALSE</td><td>FALSE</td><td>FALSE</td><td>FALSE</td></tr>\n",
       "\t<tr><td>FALSE</td><td>FALSE</td><td>FALSE</td><td>FALSE</td></tr>\n",
       "\t<tr><td>FALSE</td><td>FALSE</td><td>FALSE</td><td>FALSE</td></tr>\n",
       "\t<tr><td>FALSE</td><td>FALSE</td><td>FALSE</td><td>FALSE</td></tr>\n",
       "</tbody>\n",
       "</table>\n"
      ],
      "text/latex": [
       "\\begin{tabular}{llll}\n",
       " X & biking & smoking & heart.disease\\\\\n",
       "\\hline\n",
       "\t FALSE & FALSE & FALSE & FALSE\\\\\n",
       "\t FALSE & FALSE & FALSE & FALSE\\\\\n",
       "\t FALSE & FALSE & FALSE & FALSE\\\\\n",
       "\t FALSE & FALSE & FALSE & FALSE\\\\\n",
       "\t FALSE & FALSE & FALSE & FALSE\\\\\n",
       "\t FALSE & FALSE & FALSE & FALSE\\\\\n",
       "\t FALSE & FALSE & FALSE & FALSE\\\\\n",
       "\t FALSE & FALSE & FALSE &  TRUE\\\\\n",
       "\t FALSE & FALSE & FALSE & FALSE\\\\\n",
       "\t FALSE & FALSE & FALSE & FALSE\\\\\n",
       "\t FALSE & FALSE & FALSE & FALSE\\\\\n",
       "\t FALSE & FALSE & FALSE & FALSE\\\\\n",
       "\t FALSE & FALSE & FALSE &  TRUE\\\\\n",
       "\t FALSE & FALSE & FALSE & FALSE\\\\\n",
       "\t FALSE & FALSE & FALSE & FALSE\\\\\n",
       "\t FALSE & FALSE & FALSE & FALSE\\\\\n",
       "\t FALSE & FALSE & FALSE & FALSE\\\\\n",
       "\t FALSE & FALSE & FALSE &  TRUE\\\\\n",
       "\t FALSE & FALSE & FALSE & FALSE\\\\\n",
       "\t FALSE & FALSE & FALSE & FALSE\\\\\n",
       "\t FALSE & FALSE & FALSE & FALSE\\\\\n",
       "\t FALSE & FALSE & FALSE &  TRUE\\\\\n",
       "\t FALSE & FALSE & FALSE &  TRUE\\\\\n",
       "\t FALSE & FALSE & FALSE & FALSE\\\\\n",
       "\t FALSE & FALSE & FALSE & FALSE\\\\\n",
       "\t FALSE & FALSE & FALSE & FALSE\\\\\n",
       "\t FALSE & FALSE & FALSE & FALSE\\\\\n",
       "\t FALSE & FALSE & FALSE & FALSE\\\\\n",
       "\t FALSE & FALSE & FALSE & FALSE\\\\\n",
       "\t FALSE & FALSE & FALSE & FALSE\\\\\n",
       "\t ... & ... & ... & ...\\\\\n",
       "\t FALSE & FALSE & FALSE & FALSE\\\\\n",
       "\t FALSE & FALSE & FALSE & FALSE\\\\\n",
       "\t FALSE & FALSE & FALSE & FALSE\\\\\n",
       "\t FALSE & FALSE & FALSE & FALSE\\\\\n",
       "\t FALSE & FALSE & FALSE & FALSE\\\\\n",
       "\t FALSE & FALSE & FALSE & FALSE\\\\\n",
       "\t FALSE & FALSE & FALSE & FALSE\\\\\n",
       "\t FALSE & FALSE & FALSE & FALSE\\\\\n",
       "\t FALSE & FALSE & FALSE & FALSE\\\\\n",
       "\t FALSE & FALSE & FALSE & FALSE\\\\\n",
       "\t FALSE & FALSE & FALSE & FALSE\\\\\n",
       "\t FALSE & FALSE & FALSE & FALSE\\\\\n",
       "\t FALSE & FALSE & FALSE & FALSE\\\\\n",
       "\t FALSE & FALSE & FALSE & FALSE\\\\\n",
       "\t FALSE & FALSE & FALSE & FALSE\\\\\n",
       "\t FALSE & FALSE & FALSE & FALSE\\\\\n",
       "\t FALSE & FALSE & FALSE & FALSE\\\\\n",
       "\t FALSE & FALSE & FALSE & FALSE\\\\\n",
       "\t FALSE & FALSE & FALSE & FALSE\\\\\n",
       "\t FALSE & FALSE & FALSE & FALSE\\\\\n",
       "\t FALSE & FALSE & FALSE & FALSE\\\\\n",
       "\t FALSE & FALSE & FALSE & FALSE\\\\\n",
       "\t FALSE & FALSE & FALSE & FALSE\\\\\n",
       "\t FALSE & FALSE & FALSE & FALSE\\\\\n",
       "\t FALSE & FALSE & FALSE & FALSE\\\\\n",
       "\t FALSE & FALSE & FALSE & FALSE\\\\\n",
       "\t FALSE & FALSE & FALSE & FALSE\\\\\n",
       "\t FALSE & FALSE & FALSE & FALSE\\\\\n",
       "\t FALSE & FALSE & FALSE & FALSE\\\\\n",
       "\t FALSE & FALSE & FALSE & FALSE\\\\\n",
       "\\end{tabular}\n"
      ],
      "text/markdown": [
       "\n",
       "| X | biking | smoking | heart.disease |\n",
       "|---|---|---|---|\n",
       "| FALSE | FALSE | FALSE | FALSE |\n",
       "| FALSE | FALSE | FALSE | FALSE |\n",
       "| FALSE | FALSE | FALSE | FALSE |\n",
       "| FALSE | FALSE | FALSE | FALSE |\n",
       "| FALSE | FALSE | FALSE | FALSE |\n",
       "| FALSE | FALSE | FALSE | FALSE |\n",
       "| FALSE | FALSE | FALSE | FALSE |\n",
       "| FALSE | FALSE | FALSE |  TRUE |\n",
       "| FALSE | FALSE | FALSE | FALSE |\n",
       "| FALSE | FALSE | FALSE | FALSE |\n",
       "| FALSE | FALSE | FALSE | FALSE |\n",
       "| FALSE | FALSE | FALSE | FALSE |\n",
       "| FALSE | FALSE | FALSE |  TRUE |\n",
       "| FALSE | FALSE | FALSE | FALSE |\n",
       "| FALSE | FALSE | FALSE | FALSE |\n",
       "| FALSE | FALSE | FALSE | FALSE |\n",
       "| FALSE | FALSE | FALSE | FALSE |\n",
       "| FALSE | FALSE | FALSE |  TRUE |\n",
       "| FALSE | FALSE | FALSE | FALSE |\n",
       "| FALSE | FALSE | FALSE | FALSE |\n",
       "| FALSE | FALSE | FALSE | FALSE |\n",
       "| FALSE | FALSE | FALSE |  TRUE |\n",
       "| FALSE | FALSE | FALSE |  TRUE |\n",
       "| FALSE | FALSE | FALSE | FALSE |\n",
       "| FALSE | FALSE | FALSE | FALSE |\n",
       "| FALSE | FALSE | FALSE | FALSE |\n",
       "| FALSE | FALSE | FALSE | FALSE |\n",
       "| FALSE | FALSE | FALSE | FALSE |\n",
       "| FALSE | FALSE | FALSE | FALSE |\n",
       "| FALSE | FALSE | FALSE | FALSE |\n",
       "| ... | ... | ... | ... |\n",
       "| FALSE | FALSE | FALSE | FALSE |\n",
       "| FALSE | FALSE | FALSE | FALSE |\n",
       "| FALSE | FALSE | FALSE | FALSE |\n",
       "| FALSE | FALSE | FALSE | FALSE |\n",
       "| FALSE | FALSE | FALSE | FALSE |\n",
       "| FALSE | FALSE | FALSE | FALSE |\n",
       "| FALSE | FALSE | FALSE | FALSE |\n",
       "| FALSE | FALSE | FALSE | FALSE |\n",
       "| FALSE | FALSE | FALSE | FALSE |\n",
       "| FALSE | FALSE | FALSE | FALSE |\n",
       "| FALSE | FALSE | FALSE | FALSE |\n",
       "| FALSE | FALSE | FALSE | FALSE |\n",
       "| FALSE | FALSE | FALSE | FALSE |\n",
       "| FALSE | FALSE | FALSE | FALSE |\n",
       "| FALSE | FALSE | FALSE | FALSE |\n",
       "| FALSE | FALSE | FALSE | FALSE |\n",
       "| FALSE | FALSE | FALSE | FALSE |\n",
       "| FALSE | FALSE | FALSE | FALSE |\n",
       "| FALSE | FALSE | FALSE | FALSE |\n",
       "| FALSE | FALSE | FALSE | FALSE |\n",
       "| FALSE | FALSE | FALSE | FALSE |\n",
       "| FALSE | FALSE | FALSE | FALSE |\n",
       "| FALSE | FALSE | FALSE | FALSE |\n",
       "| FALSE | FALSE | FALSE | FALSE |\n",
       "| FALSE | FALSE | FALSE | FALSE |\n",
       "| FALSE | FALSE | FALSE | FALSE |\n",
       "| FALSE | FALSE | FALSE | FALSE |\n",
       "| FALSE | FALSE | FALSE | FALSE |\n",
       "| FALSE | FALSE | FALSE | FALSE |\n",
       "| FALSE | FALSE | FALSE | FALSE |\n",
       "\n"
      ],
      "text/plain": [
       "      X     biking smoking heart.disease\n",
       " [1,] FALSE FALSE  FALSE   FALSE        \n",
       " [2,] FALSE FALSE  FALSE   FALSE        \n",
       " [3,] FALSE FALSE  FALSE   FALSE        \n",
       " [4,] FALSE FALSE  FALSE   FALSE        \n",
       " [5,] FALSE FALSE  FALSE   FALSE        \n",
       " [6,] FALSE FALSE  FALSE   FALSE        \n",
       " [7,] FALSE FALSE  FALSE   FALSE        \n",
       " [8,] FALSE FALSE  FALSE    TRUE        \n",
       " [9,] FALSE FALSE  FALSE   FALSE        \n",
       "[10,] FALSE FALSE  FALSE   FALSE        \n",
       "[11,] FALSE FALSE  FALSE   FALSE        \n",
       "[12,] FALSE FALSE  FALSE   FALSE        \n",
       "[13,] FALSE FALSE  FALSE    TRUE        \n",
       "[14,] FALSE FALSE  FALSE   FALSE        \n",
       "[15,] FALSE FALSE  FALSE   FALSE        \n",
       "[16,] FALSE FALSE  FALSE   FALSE        \n",
       "[17,] FALSE FALSE  FALSE   FALSE        \n",
       "[18,] FALSE FALSE  FALSE    TRUE        \n",
       "[19,] FALSE FALSE  FALSE   FALSE        \n",
       "[20,] FALSE FALSE  FALSE   FALSE        \n",
       "[21,] FALSE FALSE  FALSE   FALSE        \n",
       "[22,] FALSE FALSE  FALSE    TRUE        \n",
       "[23,] FALSE FALSE  FALSE    TRUE        \n",
       "[24,] FALSE FALSE  FALSE   FALSE        \n",
       "[25,] FALSE FALSE  FALSE   FALSE        \n",
       "[26,] FALSE FALSE  FALSE   FALSE        \n",
       "[27,] FALSE FALSE  FALSE   FALSE        \n",
       "[28,] FALSE FALSE  FALSE   FALSE        \n",
       "[29,] FALSE FALSE  FALSE   FALSE        \n",
       "[30,] FALSE FALSE  FALSE   FALSE        \n",
       "[31,] ...   ...    ...     ...          \n",
       "[32,] FALSE FALSE  FALSE   FALSE        \n",
       "[33,] FALSE FALSE  FALSE   FALSE        \n",
       "[34,] FALSE FALSE  FALSE   FALSE        \n",
       "[35,] FALSE FALSE  FALSE   FALSE        \n",
       "[36,] FALSE FALSE  FALSE   FALSE        \n",
       "[37,] FALSE FALSE  FALSE   FALSE        \n",
       "[38,] FALSE FALSE  FALSE   FALSE        \n",
       "[39,] FALSE FALSE  FALSE   FALSE        \n",
       "[40,] FALSE FALSE  FALSE   FALSE        \n",
       "[41,] FALSE FALSE  FALSE   FALSE        \n",
       "[42,] FALSE FALSE  FALSE   FALSE        \n",
       "[43,] FALSE FALSE  FALSE   FALSE        \n",
       "[44,] FALSE FALSE  FALSE   FALSE        \n",
       "[45,] FALSE FALSE  FALSE   FALSE        \n",
       "[46,] FALSE FALSE  FALSE   FALSE        \n",
       "[47,] FALSE FALSE  FALSE   FALSE        \n",
       "[48,] FALSE FALSE  FALSE   FALSE        \n",
       "[49,] FALSE FALSE  FALSE   FALSE        \n",
       "[50,] FALSE FALSE  FALSE   FALSE        \n",
       "[51,] FALSE FALSE  FALSE   FALSE        \n",
       "[52,] FALSE FALSE  FALSE   FALSE        \n",
       "[53,] FALSE FALSE  FALSE   FALSE        \n",
       "[54,] FALSE FALSE  FALSE   FALSE        \n",
       "[55,] FALSE FALSE  FALSE   FALSE        \n",
       "[56,] FALSE FALSE  FALSE   FALSE        \n",
       "[57,] FALSE FALSE  FALSE   FALSE        \n",
       "[58,] FALSE FALSE  FALSE   FALSE        \n",
       "[59,] FALSE FALSE  FALSE   FALSE        \n",
       "[60,] FALSE FALSE  FALSE   FALSE        \n",
       "[61,] FALSE FALSE  FALSE   FALSE        "
      ]
     },
     "metadata": {},
     "output_type": "display_data"
    }
   ],
   "source": [
    "is.na(dfd)"
   ]
  },
  {
   "cell_type": "code",
   "execution_count": 29,
   "metadata": {},
   "outputs": [
    {
     "data": {
      "text/plain": [
       "     X             biking         smoking        heart.disease  \n",
       " Mode :logical   Mode :logical   Mode :logical   Mode :logical  \n",
       " FALSE:498       FALSE:480       FALSE:482       FALSE:476      \n",
       "                 TRUE :18        TRUE :16        TRUE :22       "
      ]
     },
     "metadata": {},
     "output_type": "display_data"
    }
   ],
   "source": [
    "summary(is.na(dfd))"
   ]
  },
  {
   "cell_type": "code",
   "execution_count": 30,
   "metadata": {},
   "outputs": [],
   "source": [
    "dfd$biking[is.na(dfd$biking)] <- mean(dfd$biking, na.rm = T)"
   ]
  },
  {
   "cell_type": "code",
   "execution_count": 31,
   "metadata": {},
   "outputs": [
    {
     "data": {
      "text/html": [
       "<table>\n",
       "<thead><tr><th scope=col>X</th><th scope=col>biking</th><th scope=col>smoking</th><th scope=col>heart.disease</th></tr></thead>\n",
       "<tbody>\n",
       "\t<tr><td>FALSE</td><td>FALSE</td><td>FALSE</td><td>FALSE</td></tr>\n",
       "\t<tr><td>FALSE</td><td>FALSE</td><td>FALSE</td><td>FALSE</td></tr>\n",
       "\t<tr><td>FALSE</td><td>FALSE</td><td>FALSE</td><td>FALSE</td></tr>\n",
       "\t<tr><td>FALSE</td><td>FALSE</td><td>FALSE</td><td>FALSE</td></tr>\n",
       "\t<tr><td>FALSE</td><td>FALSE</td><td>FALSE</td><td>FALSE</td></tr>\n",
       "\t<tr><td>FALSE</td><td>FALSE</td><td>FALSE</td><td>FALSE</td></tr>\n",
       "\t<tr><td>FALSE</td><td>FALSE</td><td>FALSE</td><td>FALSE</td></tr>\n",
       "\t<tr><td>FALSE</td><td>FALSE</td><td>FALSE</td><td> TRUE</td></tr>\n",
       "\t<tr><td>FALSE</td><td>FALSE</td><td>FALSE</td><td>FALSE</td></tr>\n",
       "\t<tr><td>FALSE</td><td>FALSE</td><td>FALSE</td><td>FALSE</td></tr>\n",
       "\t<tr><td>FALSE</td><td>FALSE</td><td>FALSE</td><td>FALSE</td></tr>\n",
       "\t<tr><td>FALSE</td><td>FALSE</td><td>FALSE</td><td>FALSE</td></tr>\n",
       "\t<tr><td>FALSE</td><td>FALSE</td><td>FALSE</td><td> TRUE</td></tr>\n",
       "\t<tr><td>FALSE</td><td>FALSE</td><td>FALSE</td><td>FALSE</td></tr>\n",
       "\t<tr><td>FALSE</td><td>FALSE</td><td>FALSE</td><td>FALSE</td></tr>\n",
       "\t<tr><td>FALSE</td><td>FALSE</td><td>FALSE</td><td>FALSE</td></tr>\n",
       "\t<tr><td>FALSE</td><td>FALSE</td><td>FALSE</td><td>FALSE</td></tr>\n",
       "\t<tr><td>FALSE</td><td>FALSE</td><td>FALSE</td><td> TRUE</td></tr>\n",
       "\t<tr><td>FALSE</td><td>FALSE</td><td>FALSE</td><td>FALSE</td></tr>\n",
       "\t<tr><td>FALSE</td><td>FALSE</td><td>FALSE</td><td>FALSE</td></tr>\n",
       "\t<tr><td>FALSE</td><td>FALSE</td><td>FALSE</td><td>FALSE</td></tr>\n",
       "\t<tr><td>FALSE</td><td>FALSE</td><td>FALSE</td><td> TRUE</td></tr>\n",
       "\t<tr><td>FALSE</td><td>FALSE</td><td>FALSE</td><td> TRUE</td></tr>\n",
       "\t<tr><td>FALSE</td><td>FALSE</td><td>FALSE</td><td>FALSE</td></tr>\n",
       "\t<tr><td>FALSE</td><td>FALSE</td><td>FALSE</td><td>FALSE</td></tr>\n",
       "\t<tr><td>FALSE</td><td>FALSE</td><td>FALSE</td><td>FALSE</td></tr>\n",
       "\t<tr><td>FALSE</td><td>FALSE</td><td>FALSE</td><td>FALSE</td></tr>\n",
       "\t<tr><td>FALSE</td><td>FALSE</td><td>FALSE</td><td>FALSE</td></tr>\n",
       "\t<tr><td>FALSE</td><td>FALSE</td><td>FALSE</td><td>FALSE</td></tr>\n",
       "\t<tr><td>FALSE</td><td>FALSE</td><td>FALSE</td><td>FALSE</td></tr>\n",
       "\t<tr><td>...</td><td>...</td><td>...</td><td>...</td></tr>\n",
       "\t<tr><td>FALSE</td><td>FALSE</td><td>FALSE</td><td>FALSE</td></tr>\n",
       "\t<tr><td>FALSE</td><td>FALSE</td><td>FALSE</td><td>FALSE</td></tr>\n",
       "\t<tr><td>FALSE</td><td>FALSE</td><td>FALSE</td><td>FALSE</td></tr>\n",
       "\t<tr><td>FALSE</td><td>FALSE</td><td>FALSE</td><td>FALSE</td></tr>\n",
       "\t<tr><td>FALSE</td><td>FALSE</td><td>FALSE</td><td>FALSE</td></tr>\n",
       "\t<tr><td>FALSE</td><td>FALSE</td><td>FALSE</td><td>FALSE</td></tr>\n",
       "\t<tr><td>FALSE</td><td>FALSE</td><td>FALSE</td><td>FALSE</td></tr>\n",
       "\t<tr><td>FALSE</td><td>FALSE</td><td>FALSE</td><td>FALSE</td></tr>\n",
       "\t<tr><td>FALSE</td><td>FALSE</td><td>FALSE</td><td>FALSE</td></tr>\n",
       "\t<tr><td>FALSE</td><td>FALSE</td><td>FALSE</td><td>FALSE</td></tr>\n",
       "\t<tr><td>FALSE</td><td>FALSE</td><td>FALSE</td><td>FALSE</td></tr>\n",
       "\t<tr><td>FALSE</td><td>FALSE</td><td>FALSE</td><td>FALSE</td></tr>\n",
       "\t<tr><td>FALSE</td><td>FALSE</td><td>FALSE</td><td>FALSE</td></tr>\n",
       "\t<tr><td>FALSE</td><td>FALSE</td><td>FALSE</td><td>FALSE</td></tr>\n",
       "\t<tr><td>FALSE</td><td>FALSE</td><td>FALSE</td><td>FALSE</td></tr>\n",
       "\t<tr><td>FALSE</td><td>FALSE</td><td>FALSE</td><td>FALSE</td></tr>\n",
       "\t<tr><td>FALSE</td><td>FALSE</td><td>FALSE</td><td>FALSE</td></tr>\n",
       "\t<tr><td>FALSE</td><td>FALSE</td><td>FALSE</td><td>FALSE</td></tr>\n",
       "\t<tr><td>FALSE</td><td>FALSE</td><td>FALSE</td><td>FALSE</td></tr>\n",
       "\t<tr><td>FALSE</td><td>FALSE</td><td>FALSE</td><td>FALSE</td></tr>\n",
       "\t<tr><td>FALSE</td><td>FALSE</td><td>FALSE</td><td>FALSE</td></tr>\n",
       "\t<tr><td>FALSE</td><td>FALSE</td><td>FALSE</td><td>FALSE</td></tr>\n",
       "\t<tr><td>FALSE</td><td>FALSE</td><td>FALSE</td><td>FALSE</td></tr>\n",
       "\t<tr><td>FALSE</td><td>FALSE</td><td>FALSE</td><td>FALSE</td></tr>\n",
       "\t<tr><td>FALSE</td><td>FALSE</td><td>FALSE</td><td>FALSE</td></tr>\n",
       "\t<tr><td>FALSE</td><td>FALSE</td><td>FALSE</td><td>FALSE</td></tr>\n",
       "\t<tr><td>FALSE</td><td>FALSE</td><td>FALSE</td><td>FALSE</td></tr>\n",
       "\t<tr><td>FALSE</td><td>FALSE</td><td>FALSE</td><td>FALSE</td></tr>\n",
       "\t<tr><td>FALSE</td><td>FALSE</td><td>FALSE</td><td>FALSE</td></tr>\n",
       "\t<tr><td>FALSE</td><td>FALSE</td><td>FALSE</td><td>FALSE</td></tr>\n",
       "</tbody>\n",
       "</table>\n"
      ],
      "text/latex": [
       "\\begin{tabular}{llll}\n",
       " X & biking & smoking & heart.disease\\\\\n",
       "\\hline\n",
       "\t FALSE & FALSE & FALSE & FALSE\\\\\n",
       "\t FALSE & FALSE & FALSE & FALSE\\\\\n",
       "\t FALSE & FALSE & FALSE & FALSE\\\\\n",
       "\t FALSE & FALSE & FALSE & FALSE\\\\\n",
       "\t FALSE & FALSE & FALSE & FALSE\\\\\n",
       "\t FALSE & FALSE & FALSE & FALSE\\\\\n",
       "\t FALSE & FALSE & FALSE & FALSE\\\\\n",
       "\t FALSE & FALSE & FALSE &  TRUE\\\\\n",
       "\t FALSE & FALSE & FALSE & FALSE\\\\\n",
       "\t FALSE & FALSE & FALSE & FALSE\\\\\n",
       "\t FALSE & FALSE & FALSE & FALSE\\\\\n",
       "\t FALSE & FALSE & FALSE & FALSE\\\\\n",
       "\t FALSE & FALSE & FALSE &  TRUE\\\\\n",
       "\t FALSE & FALSE & FALSE & FALSE\\\\\n",
       "\t FALSE & FALSE & FALSE & FALSE\\\\\n",
       "\t FALSE & FALSE & FALSE & FALSE\\\\\n",
       "\t FALSE & FALSE & FALSE & FALSE\\\\\n",
       "\t FALSE & FALSE & FALSE &  TRUE\\\\\n",
       "\t FALSE & FALSE & FALSE & FALSE\\\\\n",
       "\t FALSE & FALSE & FALSE & FALSE\\\\\n",
       "\t FALSE & FALSE & FALSE & FALSE\\\\\n",
       "\t FALSE & FALSE & FALSE &  TRUE\\\\\n",
       "\t FALSE & FALSE & FALSE &  TRUE\\\\\n",
       "\t FALSE & FALSE & FALSE & FALSE\\\\\n",
       "\t FALSE & FALSE & FALSE & FALSE\\\\\n",
       "\t FALSE & FALSE & FALSE & FALSE\\\\\n",
       "\t FALSE & FALSE & FALSE & FALSE\\\\\n",
       "\t FALSE & FALSE & FALSE & FALSE\\\\\n",
       "\t FALSE & FALSE & FALSE & FALSE\\\\\n",
       "\t FALSE & FALSE & FALSE & FALSE\\\\\n",
       "\t ... & ... & ... & ...\\\\\n",
       "\t FALSE & FALSE & FALSE & FALSE\\\\\n",
       "\t FALSE & FALSE & FALSE & FALSE\\\\\n",
       "\t FALSE & FALSE & FALSE & FALSE\\\\\n",
       "\t FALSE & FALSE & FALSE & FALSE\\\\\n",
       "\t FALSE & FALSE & FALSE & FALSE\\\\\n",
       "\t FALSE & FALSE & FALSE & FALSE\\\\\n",
       "\t FALSE & FALSE & FALSE & FALSE\\\\\n",
       "\t FALSE & FALSE & FALSE & FALSE\\\\\n",
       "\t FALSE & FALSE & FALSE & FALSE\\\\\n",
       "\t FALSE & FALSE & FALSE & FALSE\\\\\n",
       "\t FALSE & FALSE & FALSE & FALSE\\\\\n",
       "\t FALSE & FALSE & FALSE & FALSE\\\\\n",
       "\t FALSE & FALSE & FALSE & FALSE\\\\\n",
       "\t FALSE & FALSE & FALSE & FALSE\\\\\n",
       "\t FALSE & FALSE & FALSE & FALSE\\\\\n",
       "\t FALSE & FALSE & FALSE & FALSE\\\\\n",
       "\t FALSE & FALSE & FALSE & FALSE\\\\\n",
       "\t FALSE & FALSE & FALSE & FALSE\\\\\n",
       "\t FALSE & FALSE & FALSE & FALSE\\\\\n",
       "\t FALSE & FALSE & FALSE & FALSE\\\\\n",
       "\t FALSE & FALSE & FALSE & FALSE\\\\\n",
       "\t FALSE & FALSE & FALSE & FALSE\\\\\n",
       "\t FALSE & FALSE & FALSE & FALSE\\\\\n",
       "\t FALSE & FALSE & FALSE & FALSE\\\\\n",
       "\t FALSE & FALSE & FALSE & FALSE\\\\\n",
       "\t FALSE & FALSE & FALSE & FALSE\\\\\n",
       "\t FALSE & FALSE & FALSE & FALSE\\\\\n",
       "\t FALSE & FALSE & FALSE & FALSE\\\\\n",
       "\t FALSE & FALSE & FALSE & FALSE\\\\\n",
       "\t FALSE & FALSE & FALSE & FALSE\\\\\n",
       "\\end{tabular}\n"
      ],
      "text/markdown": [
       "\n",
       "| X | biking | smoking | heart.disease |\n",
       "|---|---|---|---|\n",
       "| FALSE | FALSE | FALSE | FALSE |\n",
       "| FALSE | FALSE | FALSE | FALSE |\n",
       "| FALSE | FALSE | FALSE | FALSE |\n",
       "| FALSE | FALSE | FALSE | FALSE |\n",
       "| FALSE | FALSE | FALSE | FALSE |\n",
       "| FALSE | FALSE | FALSE | FALSE |\n",
       "| FALSE | FALSE | FALSE | FALSE |\n",
       "| FALSE | FALSE | FALSE |  TRUE |\n",
       "| FALSE | FALSE | FALSE | FALSE |\n",
       "| FALSE | FALSE | FALSE | FALSE |\n",
       "| FALSE | FALSE | FALSE | FALSE |\n",
       "| FALSE | FALSE | FALSE | FALSE |\n",
       "| FALSE | FALSE | FALSE |  TRUE |\n",
       "| FALSE | FALSE | FALSE | FALSE |\n",
       "| FALSE | FALSE | FALSE | FALSE |\n",
       "| FALSE | FALSE | FALSE | FALSE |\n",
       "| FALSE | FALSE | FALSE | FALSE |\n",
       "| FALSE | FALSE | FALSE |  TRUE |\n",
       "| FALSE | FALSE | FALSE | FALSE |\n",
       "| FALSE | FALSE | FALSE | FALSE |\n",
       "| FALSE | FALSE | FALSE | FALSE |\n",
       "| FALSE | FALSE | FALSE |  TRUE |\n",
       "| FALSE | FALSE | FALSE |  TRUE |\n",
       "| FALSE | FALSE | FALSE | FALSE |\n",
       "| FALSE | FALSE | FALSE | FALSE |\n",
       "| FALSE | FALSE | FALSE | FALSE |\n",
       "| FALSE | FALSE | FALSE | FALSE |\n",
       "| FALSE | FALSE | FALSE | FALSE |\n",
       "| FALSE | FALSE | FALSE | FALSE |\n",
       "| FALSE | FALSE | FALSE | FALSE |\n",
       "| ... | ... | ... | ... |\n",
       "| FALSE | FALSE | FALSE | FALSE |\n",
       "| FALSE | FALSE | FALSE | FALSE |\n",
       "| FALSE | FALSE | FALSE | FALSE |\n",
       "| FALSE | FALSE | FALSE | FALSE |\n",
       "| FALSE | FALSE | FALSE | FALSE |\n",
       "| FALSE | FALSE | FALSE | FALSE |\n",
       "| FALSE | FALSE | FALSE | FALSE |\n",
       "| FALSE | FALSE | FALSE | FALSE |\n",
       "| FALSE | FALSE | FALSE | FALSE |\n",
       "| FALSE | FALSE | FALSE | FALSE |\n",
       "| FALSE | FALSE | FALSE | FALSE |\n",
       "| FALSE | FALSE | FALSE | FALSE |\n",
       "| FALSE | FALSE | FALSE | FALSE |\n",
       "| FALSE | FALSE | FALSE | FALSE |\n",
       "| FALSE | FALSE | FALSE | FALSE |\n",
       "| FALSE | FALSE | FALSE | FALSE |\n",
       "| FALSE | FALSE | FALSE | FALSE |\n",
       "| FALSE | FALSE | FALSE | FALSE |\n",
       "| FALSE | FALSE | FALSE | FALSE |\n",
       "| FALSE | FALSE | FALSE | FALSE |\n",
       "| FALSE | FALSE | FALSE | FALSE |\n",
       "| FALSE | FALSE | FALSE | FALSE |\n",
       "| FALSE | FALSE | FALSE | FALSE |\n",
       "| FALSE | FALSE | FALSE | FALSE |\n",
       "| FALSE | FALSE | FALSE | FALSE |\n",
       "| FALSE | FALSE | FALSE | FALSE |\n",
       "| FALSE | FALSE | FALSE | FALSE |\n",
       "| FALSE | FALSE | FALSE | FALSE |\n",
       "| FALSE | FALSE | FALSE | FALSE |\n",
       "| FALSE | FALSE | FALSE | FALSE |\n",
       "\n"
      ],
      "text/plain": [
       "      X     biking smoking heart.disease\n",
       " [1,] FALSE FALSE  FALSE   FALSE        \n",
       " [2,] FALSE FALSE  FALSE   FALSE        \n",
       " [3,] FALSE FALSE  FALSE   FALSE        \n",
       " [4,] FALSE FALSE  FALSE   FALSE        \n",
       " [5,] FALSE FALSE  FALSE   FALSE        \n",
       " [6,] FALSE FALSE  FALSE   FALSE        \n",
       " [7,] FALSE FALSE  FALSE   FALSE        \n",
       " [8,] FALSE FALSE  FALSE    TRUE        \n",
       " [9,] FALSE FALSE  FALSE   FALSE        \n",
       "[10,] FALSE FALSE  FALSE   FALSE        \n",
       "[11,] FALSE FALSE  FALSE   FALSE        \n",
       "[12,] FALSE FALSE  FALSE   FALSE        \n",
       "[13,] FALSE FALSE  FALSE    TRUE        \n",
       "[14,] FALSE FALSE  FALSE   FALSE        \n",
       "[15,] FALSE FALSE  FALSE   FALSE        \n",
       "[16,] FALSE FALSE  FALSE   FALSE        \n",
       "[17,] FALSE FALSE  FALSE   FALSE        \n",
       "[18,] FALSE FALSE  FALSE    TRUE        \n",
       "[19,] FALSE FALSE  FALSE   FALSE        \n",
       "[20,] FALSE FALSE  FALSE   FALSE        \n",
       "[21,] FALSE FALSE  FALSE   FALSE        \n",
       "[22,] FALSE FALSE  FALSE    TRUE        \n",
       "[23,] FALSE FALSE  FALSE    TRUE        \n",
       "[24,] FALSE FALSE  FALSE   FALSE        \n",
       "[25,] FALSE FALSE  FALSE   FALSE        \n",
       "[26,] FALSE FALSE  FALSE   FALSE        \n",
       "[27,] FALSE FALSE  FALSE   FALSE        \n",
       "[28,] FALSE FALSE  FALSE   FALSE        \n",
       "[29,] FALSE FALSE  FALSE   FALSE        \n",
       "[30,] FALSE FALSE  FALSE   FALSE        \n",
       "[31,] ...   ...    ...     ...          \n",
       "[32,] FALSE FALSE  FALSE   FALSE        \n",
       "[33,] FALSE FALSE  FALSE   FALSE        \n",
       "[34,] FALSE FALSE  FALSE   FALSE        \n",
       "[35,] FALSE FALSE  FALSE   FALSE        \n",
       "[36,] FALSE FALSE  FALSE   FALSE        \n",
       "[37,] FALSE FALSE  FALSE   FALSE        \n",
       "[38,] FALSE FALSE  FALSE   FALSE        \n",
       "[39,] FALSE FALSE  FALSE   FALSE        \n",
       "[40,] FALSE FALSE  FALSE   FALSE        \n",
       "[41,] FALSE FALSE  FALSE   FALSE        \n",
       "[42,] FALSE FALSE  FALSE   FALSE        \n",
       "[43,] FALSE FALSE  FALSE   FALSE        \n",
       "[44,] FALSE FALSE  FALSE   FALSE        \n",
       "[45,] FALSE FALSE  FALSE   FALSE        \n",
       "[46,] FALSE FALSE  FALSE   FALSE        \n",
       "[47,] FALSE FALSE  FALSE   FALSE        \n",
       "[48,] FALSE FALSE  FALSE   FALSE        \n",
       "[49,] FALSE FALSE  FALSE   FALSE        \n",
       "[50,] FALSE FALSE  FALSE   FALSE        \n",
       "[51,] FALSE FALSE  FALSE   FALSE        \n",
       "[52,] FALSE FALSE  FALSE   FALSE        \n",
       "[53,] FALSE FALSE  FALSE   FALSE        \n",
       "[54,] FALSE FALSE  FALSE   FALSE        \n",
       "[55,] FALSE FALSE  FALSE   FALSE        \n",
       "[56,] FALSE FALSE  FALSE   FALSE        \n",
       "[57,] FALSE FALSE  FALSE   FALSE        \n",
       "[58,] FALSE FALSE  FALSE   FALSE        \n",
       "[59,] FALSE FALSE  FALSE   FALSE        \n",
       "[60,] FALSE FALSE  FALSE   FALSE        \n",
       "[61,] FALSE FALSE  FALSE   FALSE        "
      ]
     },
     "metadata": {},
     "output_type": "display_data"
    }
   ],
   "source": [
    "is.na(dfd)"
   ]
  },
  {
   "cell_type": "code",
   "execution_count": 40,
   "metadata": {},
   "outputs": [
    {
     "data": {
      "text/html": [
       "<table>\n",
       "<thead><tr><th scope=col>X</th><th scope=col>biking</th><th scope=col>smoking</th><th scope=col>heart.disease</th></tr></thead>\n",
       "<tbody>\n",
       "\t<tr><td> 1       </td><td>30.801246</td><td>10.896608</td><td>11.769423</td></tr>\n",
       "\t<tr><td> 2       </td><td>65.129215</td><td> 2.219563</td><td> 2.854081</td></tr>\n",
       "\t<tr><td> 3       </td><td> 1.959665</td><td>17.588331</td><td>17.177803</td></tr>\n",
       "\t<tr><td> 4       </td><td>44.800196</td><td> 2.802559</td><td> 6.816647</td></tr>\n",
       "\t<tr><td> 5       </td><td>69.428454</td><td>15.974505</td><td> 4.062224</td></tr>\n",
       "\t<tr><td> 6       </td><td>54.403626</td><td>29.333176</td><td> 9.550046</td></tr>\n",
       "\t<tr><td> 7       </td><td>49.056162</td><td> 9.060846</td><td> 7.624507</td></tr>\n",
       "\t<tr><td> 8       </td><td> 4.784604</td><td>12.835021</td><td>10.107345</td></tr>\n",
       "\t<tr><td> 9       </td><td>65.730788</td><td>11.991297</td><td> 3.067462</td></tr>\n",
       "\t<tr><td>10       </td><td>35.257449</td><td>23.277683</td><td>12.098484</td></tr>\n",
       "</tbody>\n",
       "</table>\n"
      ],
      "text/latex": [
       "\\begin{tabular}{r|llll}\n",
       " X & biking & smoking & heart.disease\\\\\n",
       "\\hline\n",
       "\t  1        & 30.801246 & 10.896608 & 11.769423\\\\\n",
       "\t  2        & 65.129215 &  2.219563 &  2.854081\\\\\n",
       "\t  3        &  1.959665 & 17.588331 & 17.177803\\\\\n",
       "\t  4        & 44.800196 &  2.802559 &  6.816647\\\\\n",
       "\t  5        & 69.428454 & 15.974505 &  4.062224\\\\\n",
       "\t  6        & 54.403626 & 29.333176 &  9.550046\\\\\n",
       "\t  7        & 49.056162 &  9.060846 &  7.624507\\\\\n",
       "\t  8        &  4.784604 & 12.835021 & 10.107345\\\\\n",
       "\t  9        & 65.730788 & 11.991297 &  3.067462\\\\\n",
       "\t 10        & 35.257449 & 23.277683 & 12.098484\\\\\n",
       "\\end{tabular}\n"
      ],
      "text/markdown": [
       "\n",
       "| X | biking | smoking | heart.disease |\n",
       "|---|---|---|---|\n",
       "|  1        | 30.801246 | 10.896608 | 11.769423 |\n",
       "|  2        | 65.129215 |  2.219563 |  2.854081 |\n",
       "|  3        |  1.959665 | 17.588331 | 17.177803 |\n",
       "|  4        | 44.800196 |  2.802559 |  6.816647 |\n",
       "|  5        | 69.428454 | 15.974505 |  4.062224 |\n",
       "|  6        | 54.403626 | 29.333176 |  9.550046 |\n",
       "|  7        | 49.056162 |  9.060846 |  7.624507 |\n",
       "|  8        |  4.784604 | 12.835021 | 10.107345 |\n",
       "|  9        | 65.730788 | 11.991297 |  3.067462 |\n",
       "| 10        | 35.257449 | 23.277683 | 12.098484 |\n",
       "\n"
      ],
      "text/plain": [
       "   X  biking    smoking   heart.disease\n",
       "1   1 30.801246 10.896608 11.769423    \n",
       "2   2 65.129215  2.219563  2.854081    \n",
       "3   3  1.959665 17.588331 17.177803    \n",
       "4   4 44.800196  2.802559  6.816647    \n",
       "5   5 69.428454 15.974505  4.062224    \n",
       "6   6 54.403626 29.333176  9.550046    \n",
       "7   7 49.056162  9.060846  7.624507    \n",
       "8   8  4.784604 12.835021 10.107345    \n",
       "9   9 65.730788 11.991297  3.067462    \n",
       "10 10 35.257449 23.277683 12.098484    "
      ]
     },
     "metadata": {},
     "output_type": "display_data"
    }
   ],
   "source": [
    "head(dfd,10)"
   ]
  },
  {
   "cell_type": "code",
   "execution_count": 32,
   "metadata": {},
   "outputs": [
    {
     "data": {
      "text/plain": [
       "     X             biking         smoking        heart.disease  \n",
       " Mode :logical   Mode :logical   Mode :logical   Mode :logical  \n",
       " FALSE:498       FALSE:498       FALSE:482       FALSE:476      \n",
       "                                 TRUE :16        TRUE :22       "
      ]
     },
     "metadata": {},
     "output_type": "display_data"
    }
   ],
   "source": [
    "summary(is.na(dfd))"
   ]
  },
  {
   "cell_type": "code",
   "execution_count": 33,
   "metadata": {},
   "outputs": [],
   "source": [
    "dfd$smoking[is.na(dfd$smoking)] <- mean(dfd$smoking, na.rm = T)"
   ]
  },
  {
   "cell_type": "code",
   "execution_count": 34,
   "metadata": {},
   "outputs": [],
   "source": [
    "dfd$heart.disease[is.na(dfd$heart.disease)] <- mean(dfd$heart.disease, na.rm = T)"
   ]
  },
  {
   "cell_type": "code",
   "execution_count": 35,
   "metadata": {},
   "outputs": [
    {
     "data": {
      "text/plain": [
       "     X             biking         smoking        heart.disease  \n",
       " Mode :logical   Mode :logical   Mode :logical   Mode :logical  \n",
       " FALSE:498       FALSE:498       FALSE:498       FALSE:498      "
      ]
     },
     "metadata": {},
     "output_type": "display_data"
    }
   ],
   "source": [
    "summary(is.na(dfd))"
   ]
  },
  {
   "cell_type": "markdown",
   "metadata": {},
   "source": [
    "# kNN Imputation"
   ]
  },
  {
   "cell_type": "code",
   "execution_count": 41,
   "metadata": {},
   "outputs": [
    {
     "data": {
      "text/html": [
       "<table>\n",
       "<thead><tr><th scope=col>X</th><th scope=col>biking</th><th scope=col>smoking</th><th scope=col>heart.disease</th></tr></thead>\n",
       "<tbody>\n",
       "\t<tr><td>1        </td><td>30.801246</td><td>10.896608</td><td>11.769423</td></tr>\n",
       "\t<tr><td>2        </td><td>65.129215</td><td> 2.219563</td><td> 2.854081</td></tr>\n",
       "\t<tr><td>3        </td><td> 1.959665</td><td>17.588331</td><td>17.177803</td></tr>\n",
       "\t<tr><td>4        </td><td>44.800196</td><td> 2.802559</td><td> 6.816647</td></tr>\n",
       "\t<tr><td>5        </td><td>69.428454</td><td>15.974505</td><td> 4.062224</td></tr>\n",
       "\t<tr><td>6        </td><td>54.403626</td><td>29.333176</td><td> 9.550046</td></tr>\n",
       "</tbody>\n",
       "</table>\n"
      ],
      "text/latex": [
       "\\begin{tabular}{r|llll}\n",
       " X & biking & smoking & heart.disease\\\\\n",
       "\\hline\n",
       "\t 1         & 30.801246 & 10.896608 & 11.769423\\\\\n",
       "\t 2         & 65.129215 &  2.219563 &  2.854081\\\\\n",
       "\t 3         &  1.959665 & 17.588331 & 17.177803\\\\\n",
       "\t 4         & 44.800196 &  2.802559 &  6.816647\\\\\n",
       "\t 5         & 69.428454 & 15.974505 &  4.062224\\\\\n",
       "\t 6         & 54.403626 & 29.333176 &  9.550046\\\\\n",
       "\\end{tabular}\n"
      ],
      "text/markdown": [
       "\n",
       "| X | biking | smoking | heart.disease |\n",
       "|---|---|---|---|\n",
       "| 1         | 30.801246 | 10.896608 | 11.769423 |\n",
       "| 2         | 65.129215 |  2.219563 |  2.854081 |\n",
       "| 3         |  1.959665 | 17.588331 | 17.177803 |\n",
       "| 4         | 44.800196 |  2.802559 |  6.816647 |\n",
       "| 5         | 69.428454 | 15.974505 |  4.062224 |\n",
       "| 6         | 54.403626 | 29.333176 |  9.550046 |\n",
       "\n"
      ],
      "text/plain": [
       "  X biking    smoking   heart.disease\n",
       "1 1 30.801246 10.896608 11.769423    \n",
       "2 2 65.129215  2.219563  2.854081    \n",
       "3 3  1.959665 17.588331 17.177803    \n",
       "4 4 44.800196  2.802559  6.816647    \n",
       "5 5 69.428454 15.974505  4.062224    \n",
       "6 6 54.403626 29.333176  9.550046    "
      ]
     },
     "metadata": {},
     "output_type": "display_data"
    }
   ],
   "source": [
    "head(dfd)"
   ]
  },
  {
   "cell_type": "code",
   "execution_count": 36,
   "metadata": {},
   "outputs": [
    {
     "name": "stderr",
     "output_type": "stream",
     "text": [
      "Warning message in knnImputation(dfd):\n",
      "\"No case has missing values. Stopping as there is nothing to do.\""
     ]
    },
    {
     "data": {
      "text/html": [
       "FALSE"
      ],
      "text/latex": [
       "FALSE"
      ],
      "text/markdown": [
       "FALSE"
      ],
      "text/plain": [
       "[1] FALSE"
      ]
     },
     "metadata": {},
     "output_type": "display_data"
    }
   ],
   "source": [
    "knn_res <- knnImputation(dfd)  # perform knn imputation.\n",
    "anyNA(knn_res)"
   ]
  },
  {
   "cell_type": "code",
   "execution_count": 37,
   "metadata": {},
   "outputs": [
    {
     "data": {
      "text/html": [
       "FALSE"
      ],
      "text/latex": [
       "FALSE"
      ],
      "text/markdown": [
       "FALSE"
      ],
      "text/plain": [
       "[1] FALSE"
      ]
     },
     "metadata": {},
     "output_type": "display_data"
    }
   ],
   "source": [
    "anyNA(dfd)"
   ]
  },
  {
   "cell_type": "code",
   "execution_count": 38,
   "metadata": {},
   "outputs": [
    {
     "data": {
      "text/html": [
       "<table>\n",
       "<thead><tr><th></th><th scope=col>colSums(is.na(dfd))</th></tr></thead>\n",
       "<tbody>\n",
       "\t<tr><th scope=row>X</th><td>0</td></tr>\n",
       "\t<tr><th scope=row>biking</th><td>0</td></tr>\n",
       "\t<tr><th scope=row>smoking</th><td>0</td></tr>\n",
       "\t<tr><th scope=row>heart.disease</th><td>0</td></tr>\n",
       "</tbody>\n",
       "</table>\n"
      ],
      "text/latex": [
       "\\begin{tabular}{r|l}\n",
       "  & colSums(is.na(dfd))\\\\\n",
       "\\hline\n",
       "\tX & 0\\\\\n",
       "\tbiking & 0\\\\\n",
       "\tsmoking & 0\\\\\n",
       "\theart.disease & 0\\\\\n",
       "\\end{tabular}\n"
      ],
      "text/markdown": [
       "\n",
       "| <!--/--> | colSums(is.na(dfd)) |\n",
       "|---|---|\n",
       "| X | 0 |\n",
       "| biking | 0 |\n",
       "| smoking | 0 |\n",
       "| heart.disease | 0 |\n",
       "\n"
      ],
      "text/plain": [
       "              colSums(is.na(dfd))\n",
       "X             0                  \n",
       "biking        0                  \n",
       "smoking       0                  \n",
       "heart.disease 0                  "
      ]
     },
     "metadata": {},
     "output_type": "display_data"
    }
   ],
   "source": [
    "as.data.frame(colSums(is.na(dfd)))"
   ]
  },
  {
   "cell_type": "code",
   "execution_count": 42,
   "metadata": {},
   "outputs": [
    {
     "data": {
      "text/html": [
       "<table>\n",
       "<thead><tr><th scope=col>X</th><th scope=col>biking</th><th scope=col>smoking</th><th scope=col>heart.disease</th></tr></thead>\n",
       "<tbody>\n",
       "\t<tr><td> 1       </td><td>30.801246</td><td>10.896608</td><td>11.769423</td></tr>\n",
       "\t<tr><td> 2       </td><td>65.129215</td><td> 2.219563</td><td> 2.854081</td></tr>\n",
       "\t<tr><td> 3       </td><td> 1.959665</td><td>17.588331</td><td>17.177803</td></tr>\n",
       "\t<tr><td> 4       </td><td>44.800196</td><td> 2.802559</td><td> 6.816647</td></tr>\n",
       "\t<tr><td> 5       </td><td>69.428454</td><td>15.974505</td><td> 4.062224</td></tr>\n",
       "\t<tr><td> 6       </td><td>54.403626</td><td>29.333176</td><td> 9.550046</td></tr>\n",
       "\t<tr><td> 7       </td><td>49.056162</td><td> 9.060846</td><td> 7.624507</td></tr>\n",
       "\t<tr><td> 8       </td><td> 4.784604</td><td>12.835021</td><td>10.107345</td></tr>\n",
       "\t<tr><td> 9       </td><td>65.730788</td><td>11.991297</td><td> 3.067462</td></tr>\n",
       "\t<tr><td>10       </td><td>35.257449</td><td>23.277683</td><td>12.098484</td></tr>\n",
       "\t<tr><td>11       </td><td>51.825567</td><td>14.435118</td><td> 6.430248</td></tr>\n",
       "\t<tr><td>12       </td><td>52.936197</td><td>25.074869</td><td> 8.608272</td></tr>\n",
       "\t<tr><td>13       </td><td>48.767478</td><td>11.023271</td><td>10.107345</td></tr>\n",
       "\t<tr><td>14       </td><td>26.166801</td><td> 6.645750</td><td>10.597807</td></tr>\n",
       "\t<tr><td>15       </td><td>10.553075</td><td> 5.990506</td><td>14.079478</td></tr>\n",
       "\t<tr><td>16       </td><td>47.163716</td><td>14.097837</td><td> 8.744845</td></tr>\n",
       "</tbody>\n",
       "</table>\n"
      ],
      "text/latex": [
       "\\begin{tabular}{r|llll}\n",
       " X & biking & smoking & heart.disease\\\\\n",
       "\\hline\n",
       "\t  1        & 30.801246 & 10.896608 & 11.769423\\\\\n",
       "\t  2        & 65.129215 &  2.219563 &  2.854081\\\\\n",
       "\t  3        &  1.959665 & 17.588331 & 17.177803\\\\\n",
       "\t  4        & 44.800196 &  2.802559 &  6.816647\\\\\n",
       "\t  5        & 69.428454 & 15.974505 &  4.062224\\\\\n",
       "\t  6        & 54.403626 & 29.333176 &  9.550046\\\\\n",
       "\t  7        & 49.056162 &  9.060846 &  7.624507\\\\\n",
       "\t  8        &  4.784604 & 12.835021 & 10.107345\\\\\n",
       "\t  9        & 65.730788 & 11.991297 &  3.067462\\\\\n",
       "\t 10        & 35.257449 & 23.277683 & 12.098484\\\\\n",
       "\t 11        & 51.825567 & 14.435118 &  6.430248\\\\\n",
       "\t 12        & 52.936197 & 25.074869 &  8.608272\\\\\n",
       "\t 13        & 48.767478 & 11.023271 & 10.107345\\\\\n",
       "\t 14        & 26.166801 &  6.645750 & 10.597807\\\\\n",
       "\t 15        & 10.553075 &  5.990506 & 14.079478\\\\\n",
       "\t 16        & 47.163716 & 14.097837 &  8.744845\\\\\n",
       "\\end{tabular}\n"
      ],
      "text/markdown": [
       "\n",
       "| X | biking | smoking | heart.disease |\n",
       "|---|---|---|---|\n",
       "|  1        | 30.801246 | 10.896608 | 11.769423 |\n",
       "|  2        | 65.129215 |  2.219563 |  2.854081 |\n",
       "|  3        |  1.959665 | 17.588331 | 17.177803 |\n",
       "|  4        | 44.800196 |  2.802559 |  6.816647 |\n",
       "|  5        | 69.428454 | 15.974505 |  4.062224 |\n",
       "|  6        | 54.403626 | 29.333176 |  9.550046 |\n",
       "|  7        | 49.056162 |  9.060846 |  7.624507 |\n",
       "|  8        |  4.784604 | 12.835021 | 10.107345 |\n",
       "|  9        | 65.730788 | 11.991297 |  3.067462 |\n",
       "| 10        | 35.257449 | 23.277683 | 12.098484 |\n",
       "| 11        | 51.825567 | 14.435118 |  6.430248 |\n",
       "| 12        | 52.936197 | 25.074869 |  8.608272 |\n",
       "| 13        | 48.767478 | 11.023271 | 10.107345 |\n",
       "| 14        | 26.166801 |  6.645750 | 10.597807 |\n",
       "| 15        | 10.553075 |  5.990506 | 14.079478 |\n",
       "| 16        | 47.163716 | 14.097837 |  8.744845 |\n",
       "\n"
      ],
      "text/plain": [
       "   X  biking    smoking   heart.disease\n",
       "1   1 30.801246 10.896608 11.769423    \n",
       "2   2 65.129215  2.219563  2.854081    \n",
       "3   3  1.959665 17.588331 17.177803    \n",
       "4   4 44.800196  2.802559  6.816647    \n",
       "5   5 69.428454 15.974505  4.062224    \n",
       "6   6 54.403626 29.333176  9.550046    \n",
       "7   7 49.056162  9.060846  7.624507    \n",
       "8   8  4.784604 12.835021 10.107345    \n",
       "9   9 65.730788 11.991297  3.067462    \n",
       "10 10 35.257449 23.277683 12.098484    \n",
       "11 11 51.825567 14.435118  6.430248    \n",
       "12 12 52.936197 25.074869  8.608272    \n",
       "13 13 48.767478 11.023271 10.107345    \n",
       "14 14 26.166801  6.645750 10.597807    \n",
       "15 15 10.553075  5.990506 14.079478    \n",
       "16 16 47.163716 14.097837  8.744845    "
      ]
     },
     "metadata": {},
     "output_type": "display_data"
    }
   ],
   "source": [
    "head(dfd,16)"
   ]
  },
  {
   "cell_type": "code",
   "execution_count": 43,
   "metadata": {},
   "outputs": [],
   "source": [
    "dfv <- read.csv('Dataset/Loan_Modelling.csv')"
   ]
  },
  {
   "cell_type": "code",
   "execution_count": 44,
   "metadata": {},
   "outputs": [
    {
     "data": {
      "text/html": [
       "<table>\n",
       "<thead><tr><th scope=col>ID</th><th scope=col>Age</th><th scope=col>Experience</th><th scope=col>Income</th><th scope=col>ZIPCode</th><th scope=col>Family</th><th scope=col>CCAvg</th><th scope=col>Education</th><th scope=col>Mortgage</th><th scope=col>Personal_Loan</th><th scope=col>Securities_Account</th><th scope=col>CD_Account</th><th scope=col>Online</th><th scope=col>CreditCard</th></tr></thead>\n",
       "<tbody>\n",
       "\t<tr><td> 1   </td><td>25   </td><td> 1   </td><td> 49  </td><td>91107</td><td>4    </td><td>1.6  </td><td>1    </td><td>  0  </td><td>0    </td><td> 1   </td><td>0    </td><td>0    </td><td>0    </td></tr>\n",
       "\t<tr><td> 2   </td><td>45   </td><td>19   </td><td> NA  </td><td>90089</td><td>3    </td><td>1.5  </td><td>1    </td><td>  0  </td><td>0    </td><td> 1   </td><td>0    </td><td>0    </td><td>0    </td></tr>\n",
       "\t<tr><td> 3   </td><td>39   </td><td>15   </td><td> 11  </td><td>94720</td><td>1    </td><td>1.0  </td><td>1    </td><td>  0  </td><td>0    </td><td>NA   </td><td>0    </td><td>0    </td><td>0    </td></tr>\n",
       "\t<tr><td>NA   </td><td>35   </td><td> 9   </td><td>100  </td><td>   NA</td><td>1    </td><td>2.7  </td><td>2    </td><td>  0  </td><td>0    </td><td> 0   </td><td>0    </td><td>0    </td><td>0    </td></tr>\n",
       "\t<tr><td> 5   </td><td>35   </td><td>NA   </td><td> 45  </td><td>91330</td><td>4    </td><td>1.0  </td><td>2    </td><td>  0  </td><td>0    </td><td> 0   </td><td>0    </td><td>0    </td><td>1    </td></tr>\n",
       "\t<tr><td>NA   </td><td>37   </td><td>13   </td><td> 29  </td><td>   NA</td><td>4    </td><td>0.4  </td><td>2    </td><td>155  </td><td>0    </td><td> 0   </td><td>0    </td><td>1    </td><td>0    </td></tr>\n",
       "</tbody>\n",
       "</table>\n"
      ],
      "text/latex": [
       "\\begin{tabular}{r|llllllllllllll}\n",
       " ID & Age & Experience & Income & ZIPCode & Family & CCAvg & Education & Mortgage & Personal\\_Loan & Securities\\_Account & CD\\_Account & Online & CreditCard\\\\\n",
       "\\hline\n",
       "\t  1    & 25    &  1    &  49   & 91107 & 4     & 1.6   & 1     &   0   & 0     &  1    & 0     & 0     & 0    \\\\\n",
       "\t  2    & 45    & 19    &  NA   & 90089 & 3     & 1.5   & 1     &   0   & 0     &  1    & 0     & 0     & 0    \\\\\n",
       "\t  3    & 39    & 15    &  11   & 94720 & 1     & 1.0   & 1     &   0   & 0     & NA    & 0     & 0     & 0    \\\\\n",
       "\t NA    & 35    &  9    & 100   &    NA & 1     & 2.7   & 2     &   0   & 0     &  0    & 0     & 0     & 0    \\\\\n",
       "\t  5    & 35    & NA    &  45   & 91330 & 4     & 1.0   & 2     &   0   & 0     &  0    & 0     & 0     & 1    \\\\\n",
       "\t NA    & 37    & 13    &  29   &    NA & 4     & 0.4   & 2     & 155   & 0     &  0    & 0     & 1     & 0    \\\\\n",
       "\\end{tabular}\n"
      ],
      "text/markdown": [
       "\n",
       "| ID | Age | Experience | Income | ZIPCode | Family | CCAvg | Education | Mortgage | Personal_Loan | Securities_Account | CD_Account | Online | CreditCard |\n",
       "|---|---|---|---|---|---|---|---|---|---|---|---|---|---|\n",
       "|  1    | 25    |  1    |  49   | 91107 | 4     | 1.6   | 1     |   0   | 0     |  1    | 0     | 0     | 0     |\n",
       "|  2    | 45    | 19    |  NA   | 90089 | 3     | 1.5   | 1     |   0   | 0     |  1    | 0     | 0     | 0     |\n",
       "|  3    | 39    | 15    |  11   | 94720 | 1     | 1.0   | 1     |   0   | 0     | NA    | 0     | 0     | 0     |\n",
       "| NA    | 35    |  9    | 100   |    NA | 1     | 2.7   | 2     |   0   | 0     |  0    | 0     | 0     | 0     |\n",
       "|  5    | 35    | NA    |  45   | 91330 | 4     | 1.0   | 2     |   0   | 0     |  0    | 0     | 0     | 1     |\n",
       "| NA    | 37    | 13    |  29   |    NA | 4     | 0.4   | 2     | 155   | 0     |  0    | 0     | 1     | 0     |\n",
       "\n"
      ],
      "text/plain": [
       "  ID Age Experience Income ZIPCode Family CCAvg Education Mortgage\n",
       "1  1 25   1          49    91107   4      1.6   1           0     \n",
       "2  2 45  19          NA    90089   3      1.5   1           0     \n",
       "3  3 39  15          11    94720   1      1.0   1           0     \n",
       "4 NA 35   9         100       NA   1      2.7   2           0     \n",
       "5  5 35  NA          45    91330   4      1.0   2           0     \n",
       "6 NA 37  13          29       NA   4      0.4   2         155     \n",
       "  Personal_Loan Securities_Account CD_Account Online CreditCard\n",
       "1 0              1                 0          0      0         \n",
       "2 0              1                 0          0      0         \n",
       "3 0             NA                 0          0      0         \n",
       "4 0              0                 0          0      0         \n",
       "5 0              0                 0          0      1         \n",
       "6 0              0                 0          1      0         "
      ]
     },
     "metadata": {},
     "output_type": "display_data"
    }
   ],
   "source": [
    "head(dfv)"
   ]
  },
  {
   "cell_type": "code",
   "execution_count": 45,
   "metadata": {},
   "outputs": [
    {
     "data": {
      "text/html": [
       "<table>\n",
       "<thead><tr><th scope=col>ID</th><th scope=col>Age</th><th scope=col>Experience</th><th scope=col>Income</th><th scope=col>ZIPCode</th><th scope=col>Family</th><th scope=col>CCAvg</th><th scope=col>Education</th><th scope=col>Mortgage</th><th scope=col>Personal_Loan</th><th scope=col>Securities_Account</th><th scope=col>CD_Account</th><th scope=col>Online</th><th scope=col>CreditCard</th></tr></thead>\n",
       "<tbody>\n",
       "\t<tr><td>FALSE</td><td>FALSE</td><td>FALSE</td><td>FALSE</td><td>FALSE</td><td>FALSE</td><td>FALSE</td><td>FALSE</td><td>FALSE</td><td>FALSE</td><td>FALSE</td><td>FALSE</td><td>FALSE</td><td>FALSE</td></tr>\n",
       "\t<tr><td>FALSE</td><td>FALSE</td><td>FALSE</td><td> TRUE</td><td>FALSE</td><td>FALSE</td><td>FALSE</td><td>FALSE</td><td>FALSE</td><td>FALSE</td><td>FALSE</td><td>FALSE</td><td>FALSE</td><td>FALSE</td></tr>\n",
       "\t<tr><td>FALSE</td><td>FALSE</td><td>FALSE</td><td>FALSE</td><td>FALSE</td><td>FALSE</td><td>FALSE</td><td>FALSE</td><td>FALSE</td><td>FALSE</td><td> TRUE</td><td>FALSE</td><td>FALSE</td><td>FALSE</td></tr>\n",
       "\t<tr><td> TRUE</td><td>FALSE</td><td>FALSE</td><td>FALSE</td><td> TRUE</td><td>FALSE</td><td>FALSE</td><td>FALSE</td><td>FALSE</td><td>FALSE</td><td>FALSE</td><td>FALSE</td><td>FALSE</td><td>FALSE</td></tr>\n",
       "\t<tr><td>FALSE</td><td>FALSE</td><td> TRUE</td><td>FALSE</td><td>FALSE</td><td>FALSE</td><td>FALSE</td><td>FALSE</td><td>FALSE</td><td>FALSE</td><td>FALSE</td><td>FALSE</td><td>FALSE</td><td>FALSE</td></tr>\n",
       "\t<tr><td> TRUE</td><td>FALSE</td><td>FALSE</td><td>FALSE</td><td> TRUE</td><td>FALSE</td><td>FALSE</td><td>FALSE</td><td>FALSE</td><td>FALSE</td><td>FALSE</td><td>FALSE</td><td>FALSE</td><td>FALSE</td></tr>\n",
       "\t<tr><td>FALSE</td><td>FALSE</td><td>FALSE</td><td>FALSE</td><td>FALSE</td><td>FALSE</td><td>FALSE</td><td>FALSE</td><td>FALSE</td><td>FALSE</td><td>FALSE</td><td>FALSE</td><td>FALSE</td><td>FALSE</td></tr>\n",
       "\t<tr><td>FALSE</td><td>FALSE</td><td>FALSE</td><td>FALSE</td><td>FALSE</td><td> TRUE</td><td> TRUE</td><td>FALSE</td><td>FALSE</td><td>FALSE</td><td>FALSE</td><td>FALSE</td><td>FALSE</td><td>FALSE</td></tr>\n",
       "\t<tr><td>FALSE</td><td> TRUE</td><td> TRUE</td><td>FALSE</td><td> TRUE</td><td>FALSE</td><td>FALSE</td><td>FALSE</td><td>FALSE</td><td>FALSE</td><td>FALSE</td><td>FALSE</td><td>FALSE</td><td>FALSE</td></tr>\n",
       "\t<tr><td>FALSE</td><td>FALSE</td><td>FALSE</td><td>FALSE</td><td>FALSE</td><td>FALSE</td><td> TRUE</td><td>FALSE</td><td>FALSE</td><td>FALSE</td><td>FALSE</td><td>FALSE</td><td>FALSE</td><td>FALSE</td></tr>\n",
       "\t<tr><td>FALSE</td><td>FALSE</td><td> TRUE</td><td>FALSE</td><td>FALSE</td><td>FALSE</td><td>FALSE</td><td>FALSE</td><td> TRUE</td><td>FALSE</td><td>FALSE</td><td>FALSE</td><td>FALSE</td><td>FALSE</td></tr>\n",
       "\t<tr><td>FALSE</td><td>FALSE</td><td>FALSE</td><td>FALSE</td><td>FALSE</td><td> TRUE</td><td>FALSE</td><td>FALSE</td><td>FALSE</td><td>FALSE</td><td>FALSE</td><td>FALSE</td><td>FALSE</td><td>FALSE</td></tr>\n",
       "\t<tr><td>FALSE</td><td>FALSE</td><td>FALSE</td><td>FALSE</td><td>FALSE</td><td>FALSE</td><td>FALSE</td><td>FALSE</td><td>FALSE</td><td>FALSE</td><td>FALSE</td><td>FALSE</td><td>FALSE</td><td>FALSE</td></tr>\n",
       "\t<tr><td>FALSE</td><td>FALSE</td><td>FALSE</td><td>FALSE</td><td>FALSE</td><td>FALSE</td><td>FALSE</td><td>FALSE</td><td>FALSE</td><td>FALSE</td><td>FALSE</td><td>FALSE</td><td>FALSE</td><td>FALSE</td></tr>\n",
       "\t<tr><td>FALSE</td><td>FALSE</td><td>FALSE</td><td>FALSE</td><td>FALSE</td><td>FALSE</td><td>FALSE</td><td>FALSE</td><td>FALSE</td><td>FALSE</td><td>FALSE</td><td>FALSE</td><td>FALSE</td><td>FALSE</td></tr>\n",
       "\t<tr><td>FALSE</td><td>FALSE</td><td>FALSE</td><td>FALSE</td><td>FALSE</td><td>FALSE</td><td>FALSE</td><td>FALSE</td><td>FALSE</td><td>FALSE</td><td>FALSE</td><td>FALSE</td><td>FALSE</td><td>FALSE</td></tr>\n",
       "\t<tr><td>FALSE</td><td>FALSE</td><td>FALSE</td><td>FALSE</td><td>FALSE</td><td>FALSE</td><td>FALSE</td><td>FALSE</td><td>FALSE</td><td>FALSE</td><td>FALSE</td><td>FALSE</td><td>FALSE</td><td>FALSE</td></tr>\n",
       "\t<tr><td>FALSE</td><td>FALSE</td><td>FALSE</td><td>FALSE</td><td>FALSE</td><td>FALSE</td><td>FALSE</td><td>FALSE</td><td>FALSE</td><td>FALSE</td><td>FALSE</td><td>FALSE</td><td>FALSE</td><td>FALSE</td></tr>\n",
       "\t<tr><td>FALSE</td><td>FALSE</td><td>FALSE</td><td>FALSE</td><td>FALSE</td><td>FALSE</td><td>FALSE</td><td>FALSE</td><td>FALSE</td><td>FALSE</td><td>FALSE</td><td>FALSE</td><td>FALSE</td><td>FALSE</td></tr>\n",
       "\t<tr><td>FALSE</td><td>FALSE</td><td>FALSE</td><td>FALSE</td><td>FALSE</td><td>FALSE</td><td>FALSE</td><td>FALSE</td><td>FALSE</td><td>FALSE</td><td>FALSE</td><td>FALSE</td><td>FALSE</td><td>FALSE</td></tr>\n",
       "\t<tr><td>FALSE</td><td>FALSE</td><td>FALSE</td><td>FALSE</td><td>FALSE</td><td>FALSE</td><td>FALSE</td><td>FALSE</td><td>FALSE</td><td>FALSE</td><td>FALSE</td><td>FALSE</td><td>FALSE</td><td>FALSE</td></tr>\n",
       "\t<tr><td>FALSE</td><td>FALSE</td><td>FALSE</td><td>FALSE</td><td>FALSE</td><td>FALSE</td><td>FALSE</td><td>FALSE</td><td>FALSE</td><td>FALSE</td><td>FALSE</td><td>FALSE</td><td>FALSE</td><td>FALSE</td></tr>\n",
       "\t<tr><td>FALSE</td><td>FALSE</td><td>FALSE</td><td>FALSE</td><td>FALSE</td><td>FALSE</td><td>FALSE</td><td>FALSE</td><td>FALSE</td><td>FALSE</td><td>FALSE</td><td>FALSE</td><td>FALSE</td><td>FALSE</td></tr>\n",
       "\t<tr><td>FALSE</td><td>FALSE</td><td>FALSE</td><td>FALSE</td><td>FALSE</td><td>FALSE</td><td>FALSE</td><td>FALSE</td><td>FALSE</td><td>FALSE</td><td>FALSE</td><td>FALSE</td><td>FALSE</td><td>FALSE</td></tr>\n",
       "\t<tr><td>FALSE</td><td>FALSE</td><td>FALSE</td><td>FALSE</td><td>FALSE</td><td>FALSE</td><td>FALSE</td><td>FALSE</td><td>FALSE</td><td>FALSE</td><td>FALSE</td><td>FALSE</td><td>FALSE</td><td>FALSE</td></tr>\n",
       "\t<tr><td>FALSE</td><td>FALSE</td><td>FALSE</td><td>FALSE</td><td>FALSE</td><td>FALSE</td><td>FALSE</td><td>FALSE</td><td>FALSE</td><td>FALSE</td><td>FALSE</td><td>FALSE</td><td>FALSE</td><td>FALSE</td></tr>\n",
       "\t<tr><td>FALSE</td><td>FALSE</td><td>FALSE</td><td>FALSE</td><td>FALSE</td><td>FALSE</td><td>FALSE</td><td>FALSE</td><td>FALSE</td><td>FALSE</td><td>FALSE</td><td>FALSE</td><td>FALSE</td><td>FALSE</td></tr>\n",
       "\t<tr><td>FALSE</td><td>FALSE</td><td>FALSE</td><td>FALSE</td><td>FALSE</td><td>FALSE</td><td>FALSE</td><td>FALSE</td><td>FALSE</td><td>FALSE</td><td>FALSE</td><td>FALSE</td><td>FALSE</td><td>FALSE</td></tr>\n",
       "\t<tr><td>FALSE</td><td>FALSE</td><td>FALSE</td><td>FALSE</td><td>FALSE</td><td>FALSE</td><td>FALSE</td><td>FALSE</td><td>FALSE</td><td>FALSE</td><td>FALSE</td><td>FALSE</td><td>FALSE</td><td>FALSE</td></tr>\n",
       "\t<tr><td>FALSE</td><td>FALSE</td><td>FALSE</td><td>FALSE</td><td>FALSE</td><td>FALSE</td><td>FALSE</td><td>FALSE</td><td>FALSE</td><td>FALSE</td><td>FALSE</td><td>FALSE</td><td>FALSE</td><td>FALSE</td></tr>\n",
       "\t<tr><td>...</td><td>...</td><td>...</td><td>...</td><td>...</td><td>...</td><td>...</td><td>...</td><td>...</td><td>...</td><td>...</td><td>...</td><td>...</td><td>...</td></tr>\n",
       "\t<tr><td>FALSE</td><td>FALSE</td><td>FALSE</td><td>FALSE</td><td>FALSE</td><td>FALSE</td><td>FALSE</td><td>FALSE</td><td>FALSE</td><td>FALSE</td><td>FALSE</td><td>FALSE</td><td>FALSE</td><td>FALSE</td></tr>\n",
       "\t<tr><td>FALSE</td><td>FALSE</td><td>FALSE</td><td>FALSE</td><td>FALSE</td><td>FALSE</td><td>FALSE</td><td>FALSE</td><td>FALSE</td><td>FALSE</td><td>FALSE</td><td>FALSE</td><td>FALSE</td><td>FALSE</td></tr>\n",
       "\t<tr><td>FALSE</td><td>FALSE</td><td>FALSE</td><td>FALSE</td><td>FALSE</td><td>FALSE</td><td>FALSE</td><td>FALSE</td><td>FALSE</td><td>FALSE</td><td>FALSE</td><td>FALSE</td><td>FALSE</td><td>FALSE</td></tr>\n",
       "\t<tr><td>FALSE</td><td>FALSE</td><td>FALSE</td><td>FALSE</td><td>FALSE</td><td>FALSE</td><td>FALSE</td><td>FALSE</td><td>FALSE</td><td>FALSE</td><td>FALSE</td><td>FALSE</td><td>FALSE</td><td>FALSE</td></tr>\n",
       "\t<tr><td>FALSE</td><td>FALSE</td><td>FALSE</td><td>FALSE</td><td>FALSE</td><td>FALSE</td><td>FALSE</td><td>FALSE</td><td>FALSE</td><td>FALSE</td><td>FALSE</td><td>FALSE</td><td>FALSE</td><td>FALSE</td></tr>\n",
       "\t<tr><td>FALSE</td><td>FALSE</td><td>FALSE</td><td>FALSE</td><td>FALSE</td><td>FALSE</td><td>FALSE</td><td>FALSE</td><td>FALSE</td><td>FALSE</td><td>FALSE</td><td>FALSE</td><td>FALSE</td><td>FALSE</td></tr>\n",
       "\t<tr><td>FALSE</td><td>FALSE</td><td>FALSE</td><td>FALSE</td><td>FALSE</td><td>FALSE</td><td>FALSE</td><td>FALSE</td><td>FALSE</td><td>FALSE</td><td>FALSE</td><td>FALSE</td><td>FALSE</td><td>FALSE</td></tr>\n",
       "\t<tr><td>FALSE</td><td>FALSE</td><td>FALSE</td><td>FALSE</td><td>FALSE</td><td>FALSE</td><td>FALSE</td><td>FALSE</td><td>FALSE</td><td>FALSE</td><td>FALSE</td><td>FALSE</td><td>FALSE</td><td>FALSE</td></tr>\n",
       "\t<tr><td>FALSE</td><td>FALSE</td><td>FALSE</td><td>FALSE</td><td>FALSE</td><td>FALSE</td><td>FALSE</td><td>FALSE</td><td>FALSE</td><td>FALSE</td><td>FALSE</td><td>FALSE</td><td>FALSE</td><td>FALSE</td></tr>\n",
       "\t<tr><td>FALSE</td><td>FALSE</td><td>FALSE</td><td>FALSE</td><td>FALSE</td><td>FALSE</td><td>FALSE</td><td>FALSE</td><td>FALSE</td><td>FALSE</td><td>FALSE</td><td>FALSE</td><td>FALSE</td><td>FALSE</td></tr>\n",
       "\t<tr><td>FALSE</td><td>FALSE</td><td>FALSE</td><td>FALSE</td><td>FALSE</td><td>FALSE</td><td>FALSE</td><td>FALSE</td><td>FALSE</td><td>FALSE</td><td>FALSE</td><td>FALSE</td><td>FALSE</td><td>FALSE</td></tr>\n",
       "\t<tr><td>FALSE</td><td>FALSE</td><td>FALSE</td><td>FALSE</td><td>FALSE</td><td>FALSE</td><td>FALSE</td><td>FALSE</td><td>FALSE</td><td>FALSE</td><td>FALSE</td><td>FALSE</td><td>FALSE</td><td>FALSE</td></tr>\n",
       "\t<tr><td>FALSE</td><td>FALSE</td><td>FALSE</td><td>FALSE</td><td>FALSE</td><td>FALSE</td><td>FALSE</td><td>FALSE</td><td>FALSE</td><td>FALSE</td><td>FALSE</td><td>FALSE</td><td>FALSE</td><td>FALSE</td></tr>\n",
       "\t<tr><td>FALSE</td><td>FALSE</td><td>FALSE</td><td>FALSE</td><td>FALSE</td><td>FALSE</td><td>FALSE</td><td>FALSE</td><td>FALSE</td><td>FALSE</td><td>FALSE</td><td>FALSE</td><td>FALSE</td><td>FALSE</td></tr>\n",
       "\t<tr><td>FALSE</td><td>FALSE</td><td>FALSE</td><td>FALSE</td><td>FALSE</td><td>FALSE</td><td>FALSE</td><td>FALSE</td><td>FALSE</td><td>FALSE</td><td>FALSE</td><td>FALSE</td><td>FALSE</td><td>FALSE</td></tr>\n",
       "\t<tr><td>FALSE</td><td>FALSE</td><td>FALSE</td><td>FALSE</td><td>FALSE</td><td>FALSE</td><td>FALSE</td><td>FALSE</td><td>FALSE</td><td>FALSE</td><td>FALSE</td><td>FALSE</td><td>FALSE</td><td>FALSE</td></tr>\n",
       "\t<tr><td>FALSE</td><td>FALSE</td><td>FALSE</td><td>FALSE</td><td>FALSE</td><td>FALSE</td><td>FALSE</td><td>FALSE</td><td>FALSE</td><td>FALSE</td><td>FALSE</td><td>FALSE</td><td>FALSE</td><td>FALSE</td></tr>\n",
       "\t<tr><td>FALSE</td><td>FALSE</td><td>FALSE</td><td>FALSE</td><td>FALSE</td><td>FALSE</td><td>FALSE</td><td>FALSE</td><td>FALSE</td><td>FALSE</td><td>FALSE</td><td>FALSE</td><td>FALSE</td><td>FALSE</td></tr>\n",
       "\t<tr><td>FALSE</td><td>FALSE</td><td>FALSE</td><td>FALSE</td><td>FALSE</td><td>FALSE</td><td>FALSE</td><td>FALSE</td><td>FALSE</td><td>FALSE</td><td>FALSE</td><td>FALSE</td><td>FALSE</td><td>FALSE</td></tr>\n",
       "\t<tr><td>FALSE</td><td>FALSE</td><td>FALSE</td><td>FALSE</td><td>FALSE</td><td>FALSE</td><td>FALSE</td><td>FALSE</td><td>FALSE</td><td>FALSE</td><td>FALSE</td><td>FALSE</td><td>FALSE</td><td>FALSE</td></tr>\n",
       "\t<tr><td>FALSE</td><td>FALSE</td><td>FALSE</td><td>FALSE</td><td>FALSE</td><td>FALSE</td><td>FALSE</td><td>FALSE</td><td>FALSE</td><td>FALSE</td><td>FALSE</td><td>FALSE</td><td>FALSE</td><td>FALSE</td></tr>\n",
       "\t<tr><td>FALSE</td><td>FALSE</td><td>FALSE</td><td>FALSE</td><td>FALSE</td><td>FALSE</td><td>FALSE</td><td>FALSE</td><td>FALSE</td><td>FALSE</td><td>FALSE</td><td>FALSE</td><td>FALSE</td><td>FALSE</td></tr>\n",
       "\t<tr><td>FALSE</td><td>FALSE</td><td>FALSE</td><td>FALSE</td><td>FALSE</td><td>FALSE</td><td>FALSE</td><td>FALSE</td><td>FALSE</td><td>FALSE</td><td>FALSE</td><td>FALSE</td><td>FALSE</td><td>FALSE</td></tr>\n",
       "\t<tr><td>FALSE</td><td>FALSE</td><td>FALSE</td><td>FALSE</td><td>FALSE</td><td>FALSE</td><td>FALSE</td><td>FALSE</td><td>FALSE</td><td>FALSE</td><td>FALSE</td><td>FALSE</td><td>FALSE</td><td>FALSE</td></tr>\n",
       "\t<tr><td>FALSE</td><td>FALSE</td><td>FALSE</td><td>FALSE</td><td>FALSE</td><td>FALSE</td><td>FALSE</td><td>FALSE</td><td>FALSE</td><td>FALSE</td><td>FALSE</td><td>FALSE</td><td>FALSE</td><td>FALSE</td></tr>\n",
       "\t<tr><td>FALSE</td><td>FALSE</td><td>FALSE</td><td>FALSE</td><td>FALSE</td><td>FALSE</td><td>FALSE</td><td>FALSE</td><td>FALSE</td><td>FALSE</td><td>FALSE</td><td>FALSE</td><td>FALSE</td><td>FALSE</td></tr>\n",
       "\t<tr><td>FALSE</td><td>FALSE</td><td>FALSE</td><td>FALSE</td><td>FALSE</td><td>FALSE</td><td>FALSE</td><td>FALSE</td><td>FALSE</td><td>FALSE</td><td>FALSE</td><td>FALSE</td><td>FALSE</td><td>FALSE</td></tr>\n",
       "\t<tr><td>FALSE</td><td>FALSE</td><td>FALSE</td><td>FALSE</td><td>FALSE</td><td>FALSE</td><td>FALSE</td><td>FALSE</td><td>FALSE</td><td>FALSE</td><td>FALSE</td><td>FALSE</td><td>FALSE</td><td>FALSE</td></tr>\n",
       "\t<tr><td>FALSE</td><td>FALSE</td><td>FALSE</td><td>FALSE</td><td>FALSE</td><td>FALSE</td><td>FALSE</td><td>FALSE</td><td>FALSE</td><td>FALSE</td><td>FALSE</td><td>FALSE</td><td>FALSE</td><td>FALSE</td></tr>\n",
       "\t<tr><td>FALSE</td><td>FALSE</td><td>FALSE</td><td>FALSE</td><td>FALSE</td><td>FALSE</td><td>FALSE</td><td>FALSE</td><td>FALSE</td><td>FALSE</td><td>FALSE</td><td>FALSE</td><td>FALSE</td><td>FALSE</td></tr>\n",
       "</tbody>\n",
       "</table>\n"
      ],
      "text/latex": [
       "\\begin{tabular}{llllllllllllll}\n",
       " ID & Age & Experience & Income & ZIPCode & Family & CCAvg & Education & Mortgage & Personal\\_Loan & Securities\\_Account & CD\\_Account & Online & CreditCard\\\\\n",
       "\\hline\n",
       "\t FALSE & FALSE & FALSE & FALSE & FALSE & FALSE & FALSE & FALSE & FALSE & FALSE & FALSE & FALSE & FALSE & FALSE\\\\\n",
       "\t FALSE & FALSE & FALSE &  TRUE & FALSE & FALSE & FALSE & FALSE & FALSE & FALSE & FALSE & FALSE & FALSE & FALSE\\\\\n",
       "\t FALSE & FALSE & FALSE & FALSE & FALSE & FALSE & FALSE & FALSE & FALSE & FALSE &  TRUE & FALSE & FALSE & FALSE\\\\\n",
       "\t  TRUE & FALSE & FALSE & FALSE &  TRUE & FALSE & FALSE & FALSE & FALSE & FALSE & FALSE & FALSE & FALSE & FALSE\\\\\n",
       "\t FALSE & FALSE &  TRUE & FALSE & FALSE & FALSE & FALSE & FALSE & FALSE & FALSE & FALSE & FALSE & FALSE & FALSE\\\\\n",
       "\t  TRUE & FALSE & FALSE & FALSE &  TRUE & FALSE & FALSE & FALSE & FALSE & FALSE & FALSE & FALSE & FALSE & FALSE\\\\\n",
       "\t FALSE & FALSE & FALSE & FALSE & FALSE & FALSE & FALSE & FALSE & FALSE & FALSE & FALSE & FALSE & FALSE & FALSE\\\\\n",
       "\t FALSE & FALSE & FALSE & FALSE & FALSE &  TRUE &  TRUE & FALSE & FALSE & FALSE & FALSE & FALSE & FALSE & FALSE\\\\\n",
       "\t FALSE &  TRUE &  TRUE & FALSE &  TRUE & FALSE & FALSE & FALSE & FALSE & FALSE & FALSE & FALSE & FALSE & FALSE\\\\\n",
       "\t FALSE & FALSE & FALSE & FALSE & FALSE & FALSE &  TRUE & FALSE & FALSE & FALSE & FALSE & FALSE & FALSE & FALSE\\\\\n",
       "\t FALSE & FALSE &  TRUE & FALSE & FALSE & FALSE & FALSE & FALSE &  TRUE & FALSE & FALSE & FALSE & FALSE & FALSE\\\\\n",
       "\t FALSE & FALSE & FALSE & FALSE & FALSE &  TRUE & FALSE & FALSE & FALSE & FALSE & FALSE & FALSE & FALSE & FALSE\\\\\n",
       "\t FALSE & FALSE & FALSE & FALSE & FALSE & FALSE & FALSE & FALSE & FALSE & FALSE & FALSE & FALSE & FALSE & FALSE\\\\\n",
       "\t FALSE & FALSE & FALSE & FALSE & FALSE & FALSE & FALSE & FALSE & FALSE & FALSE & FALSE & FALSE & FALSE & FALSE\\\\\n",
       "\t FALSE & FALSE & FALSE & FALSE & FALSE & FALSE & FALSE & FALSE & FALSE & FALSE & FALSE & FALSE & FALSE & FALSE\\\\\n",
       "\t FALSE & FALSE & FALSE & FALSE & FALSE & FALSE & FALSE & FALSE & FALSE & FALSE & FALSE & FALSE & FALSE & FALSE\\\\\n",
       "\t FALSE & FALSE & FALSE & FALSE & FALSE & FALSE & FALSE & FALSE & FALSE & FALSE & FALSE & FALSE & FALSE & FALSE\\\\\n",
       "\t FALSE & FALSE & FALSE & FALSE & FALSE & FALSE & FALSE & FALSE & FALSE & FALSE & FALSE & FALSE & FALSE & FALSE\\\\\n",
       "\t FALSE & FALSE & FALSE & FALSE & FALSE & FALSE & FALSE & FALSE & FALSE & FALSE & FALSE & FALSE & FALSE & FALSE\\\\\n",
       "\t FALSE & FALSE & FALSE & FALSE & FALSE & FALSE & FALSE & FALSE & FALSE & FALSE & FALSE & FALSE & FALSE & FALSE\\\\\n",
       "\t FALSE & FALSE & FALSE & FALSE & FALSE & FALSE & FALSE & FALSE & FALSE & FALSE & FALSE & FALSE & FALSE & FALSE\\\\\n",
       "\t FALSE & FALSE & FALSE & FALSE & FALSE & FALSE & FALSE & FALSE & FALSE & FALSE & FALSE & FALSE & FALSE & FALSE\\\\\n",
       "\t FALSE & FALSE & FALSE & FALSE & FALSE & FALSE & FALSE & FALSE & FALSE & FALSE & FALSE & FALSE & FALSE & FALSE\\\\\n",
       "\t FALSE & FALSE & FALSE & FALSE & FALSE & FALSE & FALSE & FALSE & FALSE & FALSE & FALSE & FALSE & FALSE & FALSE\\\\\n",
       "\t FALSE & FALSE & FALSE & FALSE & FALSE & FALSE & FALSE & FALSE & FALSE & FALSE & FALSE & FALSE & FALSE & FALSE\\\\\n",
       "\t FALSE & FALSE & FALSE & FALSE & FALSE & FALSE & FALSE & FALSE & FALSE & FALSE & FALSE & FALSE & FALSE & FALSE\\\\\n",
       "\t FALSE & FALSE & FALSE & FALSE & FALSE & FALSE & FALSE & FALSE & FALSE & FALSE & FALSE & FALSE & FALSE & FALSE\\\\\n",
       "\t FALSE & FALSE & FALSE & FALSE & FALSE & FALSE & FALSE & FALSE & FALSE & FALSE & FALSE & FALSE & FALSE & FALSE\\\\\n",
       "\t FALSE & FALSE & FALSE & FALSE & FALSE & FALSE & FALSE & FALSE & FALSE & FALSE & FALSE & FALSE & FALSE & FALSE\\\\\n",
       "\t FALSE & FALSE & FALSE & FALSE & FALSE & FALSE & FALSE & FALSE & FALSE & FALSE & FALSE & FALSE & FALSE & FALSE\\\\\n",
       "\t ... & ... & ... & ... & ... & ... & ... & ... & ... & ... & ... & ... & ... & ...\\\\\n",
       "\t FALSE & FALSE & FALSE & FALSE & FALSE & FALSE & FALSE & FALSE & FALSE & FALSE & FALSE & FALSE & FALSE & FALSE\\\\\n",
       "\t FALSE & FALSE & FALSE & FALSE & FALSE & FALSE & FALSE & FALSE & FALSE & FALSE & FALSE & FALSE & FALSE & FALSE\\\\\n",
       "\t FALSE & FALSE & FALSE & FALSE & FALSE & FALSE & FALSE & FALSE & FALSE & FALSE & FALSE & FALSE & FALSE & FALSE\\\\\n",
       "\t FALSE & FALSE & FALSE & FALSE & FALSE & FALSE & FALSE & FALSE & FALSE & FALSE & FALSE & FALSE & FALSE & FALSE\\\\\n",
       "\t FALSE & FALSE & FALSE & FALSE & FALSE & FALSE & FALSE & FALSE & FALSE & FALSE & FALSE & FALSE & FALSE & FALSE\\\\\n",
       "\t FALSE & FALSE & FALSE & FALSE & FALSE & FALSE & FALSE & FALSE & FALSE & FALSE & FALSE & FALSE & FALSE & FALSE\\\\\n",
       "\t FALSE & FALSE & FALSE & FALSE & FALSE & FALSE & FALSE & FALSE & FALSE & FALSE & FALSE & FALSE & FALSE & FALSE\\\\\n",
       "\t FALSE & FALSE & FALSE & FALSE & FALSE & FALSE & FALSE & FALSE & FALSE & FALSE & FALSE & FALSE & FALSE & FALSE\\\\\n",
       "\t FALSE & FALSE & FALSE & FALSE & FALSE & FALSE & FALSE & FALSE & FALSE & FALSE & FALSE & FALSE & FALSE & FALSE\\\\\n",
       "\t FALSE & FALSE & FALSE & FALSE & FALSE & FALSE & FALSE & FALSE & FALSE & FALSE & FALSE & FALSE & FALSE & FALSE\\\\\n",
       "\t FALSE & FALSE & FALSE & FALSE & FALSE & FALSE & FALSE & FALSE & FALSE & FALSE & FALSE & FALSE & FALSE & FALSE\\\\\n",
       "\t FALSE & FALSE & FALSE & FALSE & FALSE & FALSE & FALSE & FALSE & FALSE & FALSE & FALSE & FALSE & FALSE & FALSE\\\\\n",
       "\t FALSE & FALSE & FALSE & FALSE & FALSE & FALSE & FALSE & FALSE & FALSE & FALSE & FALSE & FALSE & FALSE & FALSE\\\\\n",
       "\t FALSE & FALSE & FALSE & FALSE & FALSE & FALSE & FALSE & FALSE & FALSE & FALSE & FALSE & FALSE & FALSE & FALSE\\\\\n",
       "\t FALSE & FALSE & FALSE & FALSE & FALSE & FALSE & FALSE & FALSE & FALSE & FALSE & FALSE & FALSE & FALSE & FALSE\\\\\n",
       "\t FALSE & FALSE & FALSE & FALSE & FALSE & FALSE & FALSE & FALSE & FALSE & FALSE & FALSE & FALSE & FALSE & FALSE\\\\\n",
       "\t FALSE & FALSE & FALSE & FALSE & FALSE & FALSE & FALSE & FALSE & FALSE & FALSE & FALSE & FALSE & FALSE & FALSE\\\\\n",
       "\t FALSE & FALSE & FALSE & FALSE & FALSE & FALSE & FALSE & FALSE & FALSE & FALSE & FALSE & FALSE & FALSE & FALSE\\\\\n",
       "\t FALSE & FALSE & FALSE & FALSE & FALSE & FALSE & FALSE & FALSE & FALSE & FALSE & FALSE & FALSE & FALSE & FALSE\\\\\n",
       "\t FALSE & FALSE & FALSE & FALSE & FALSE & FALSE & FALSE & FALSE & FALSE & FALSE & FALSE & FALSE & FALSE & FALSE\\\\\n",
       "\t FALSE & FALSE & FALSE & FALSE & FALSE & FALSE & FALSE & FALSE & FALSE & FALSE & FALSE & FALSE & FALSE & FALSE\\\\\n",
       "\t FALSE & FALSE & FALSE & FALSE & FALSE & FALSE & FALSE & FALSE & FALSE & FALSE & FALSE & FALSE & FALSE & FALSE\\\\\n",
       "\t FALSE & FALSE & FALSE & FALSE & FALSE & FALSE & FALSE & FALSE & FALSE & FALSE & FALSE & FALSE & FALSE & FALSE\\\\\n",
       "\t FALSE & FALSE & FALSE & FALSE & FALSE & FALSE & FALSE & FALSE & FALSE & FALSE & FALSE & FALSE & FALSE & FALSE\\\\\n",
       "\t FALSE & FALSE & FALSE & FALSE & FALSE & FALSE & FALSE & FALSE & FALSE & FALSE & FALSE & FALSE & FALSE & FALSE\\\\\n",
       "\t FALSE & FALSE & FALSE & FALSE & FALSE & FALSE & FALSE & FALSE & FALSE & FALSE & FALSE & FALSE & FALSE & FALSE\\\\\n",
       "\t FALSE & FALSE & FALSE & FALSE & FALSE & FALSE & FALSE & FALSE & FALSE & FALSE & FALSE & FALSE & FALSE & FALSE\\\\\n",
       "\t FALSE & FALSE & FALSE & FALSE & FALSE & FALSE & FALSE & FALSE & FALSE & FALSE & FALSE & FALSE & FALSE & FALSE\\\\\n",
       "\t FALSE & FALSE & FALSE & FALSE & FALSE & FALSE & FALSE & FALSE & FALSE & FALSE & FALSE & FALSE & FALSE & FALSE\\\\\n",
       "\t FALSE & FALSE & FALSE & FALSE & FALSE & FALSE & FALSE & FALSE & FALSE & FALSE & FALSE & FALSE & FALSE & FALSE\\\\\n",
       "\\end{tabular}\n"
      ],
      "text/markdown": [
       "\n",
       "| ID | Age | Experience | Income | ZIPCode | Family | CCAvg | Education | Mortgage | Personal_Loan | Securities_Account | CD_Account | Online | CreditCard |\n",
       "|---|---|---|---|---|---|---|---|---|---|---|---|---|---|\n",
       "| FALSE | FALSE | FALSE | FALSE | FALSE | FALSE | FALSE | FALSE | FALSE | FALSE | FALSE | FALSE | FALSE | FALSE |\n",
       "| FALSE | FALSE | FALSE |  TRUE | FALSE | FALSE | FALSE | FALSE | FALSE | FALSE | FALSE | FALSE | FALSE | FALSE |\n",
       "| FALSE | FALSE | FALSE | FALSE | FALSE | FALSE | FALSE | FALSE | FALSE | FALSE |  TRUE | FALSE | FALSE | FALSE |\n",
       "|  TRUE | FALSE | FALSE | FALSE |  TRUE | FALSE | FALSE | FALSE | FALSE | FALSE | FALSE | FALSE | FALSE | FALSE |\n",
       "| FALSE | FALSE |  TRUE | FALSE | FALSE | FALSE | FALSE | FALSE | FALSE | FALSE | FALSE | FALSE | FALSE | FALSE |\n",
       "|  TRUE | FALSE | FALSE | FALSE |  TRUE | FALSE | FALSE | FALSE | FALSE | FALSE | FALSE | FALSE | FALSE | FALSE |\n",
       "| FALSE | FALSE | FALSE | FALSE | FALSE | FALSE | FALSE | FALSE | FALSE | FALSE | FALSE | FALSE | FALSE | FALSE |\n",
       "| FALSE | FALSE | FALSE | FALSE | FALSE |  TRUE |  TRUE | FALSE | FALSE | FALSE | FALSE | FALSE | FALSE | FALSE |\n",
       "| FALSE |  TRUE |  TRUE | FALSE |  TRUE | FALSE | FALSE | FALSE | FALSE | FALSE | FALSE | FALSE | FALSE | FALSE |\n",
       "| FALSE | FALSE | FALSE | FALSE | FALSE | FALSE |  TRUE | FALSE | FALSE | FALSE | FALSE | FALSE | FALSE | FALSE |\n",
       "| FALSE | FALSE |  TRUE | FALSE | FALSE | FALSE | FALSE | FALSE |  TRUE | FALSE | FALSE | FALSE | FALSE | FALSE |\n",
       "| FALSE | FALSE | FALSE | FALSE | FALSE |  TRUE | FALSE | FALSE | FALSE | FALSE | FALSE | FALSE | FALSE | FALSE |\n",
       "| FALSE | FALSE | FALSE | FALSE | FALSE | FALSE | FALSE | FALSE | FALSE | FALSE | FALSE | FALSE | FALSE | FALSE |\n",
       "| FALSE | FALSE | FALSE | FALSE | FALSE | FALSE | FALSE | FALSE | FALSE | FALSE | FALSE | FALSE | FALSE | FALSE |\n",
       "| FALSE | FALSE | FALSE | FALSE | FALSE | FALSE | FALSE | FALSE | FALSE | FALSE | FALSE | FALSE | FALSE | FALSE |\n",
       "| FALSE | FALSE | FALSE | FALSE | FALSE | FALSE | FALSE | FALSE | FALSE | FALSE | FALSE | FALSE | FALSE | FALSE |\n",
       "| FALSE | FALSE | FALSE | FALSE | FALSE | FALSE | FALSE | FALSE | FALSE | FALSE | FALSE | FALSE | FALSE | FALSE |\n",
       "| FALSE | FALSE | FALSE | FALSE | FALSE | FALSE | FALSE | FALSE | FALSE | FALSE | FALSE | FALSE | FALSE | FALSE |\n",
       "| FALSE | FALSE | FALSE | FALSE | FALSE | FALSE | FALSE | FALSE | FALSE | FALSE | FALSE | FALSE | FALSE | FALSE |\n",
       "| FALSE | FALSE | FALSE | FALSE | FALSE | FALSE | FALSE | FALSE | FALSE | FALSE | FALSE | FALSE | FALSE | FALSE |\n",
       "| FALSE | FALSE | FALSE | FALSE | FALSE | FALSE | FALSE | FALSE | FALSE | FALSE | FALSE | FALSE | FALSE | FALSE |\n",
       "| FALSE | FALSE | FALSE | FALSE | FALSE | FALSE | FALSE | FALSE | FALSE | FALSE | FALSE | FALSE | FALSE | FALSE |\n",
       "| FALSE | FALSE | FALSE | FALSE | FALSE | FALSE | FALSE | FALSE | FALSE | FALSE | FALSE | FALSE | FALSE | FALSE |\n",
       "| FALSE | FALSE | FALSE | FALSE | FALSE | FALSE | FALSE | FALSE | FALSE | FALSE | FALSE | FALSE | FALSE | FALSE |\n",
       "| FALSE | FALSE | FALSE | FALSE | FALSE | FALSE | FALSE | FALSE | FALSE | FALSE | FALSE | FALSE | FALSE | FALSE |\n",
       "| FALSE | FALSE | FALSE | FALSE | FALSE | FALSE | FALSE | FALSE | FALSE | FALSE | FALSE | FALSE | FALSE | FALSE |\n",
       "| FALSE | FALSE | FALSE | FALSE | FALSE | FALSE | FALSE | FALSE | FALSE | FALSE | FALSE | FALSE | FALSE | FALSE |\n",
       "| FALSE | FALSE | FALSE | FALSE | FALSE | FALSE | FALSE | FALSE | FALSE | FALSE | FALSE | FALSE | FALSE | FALSE |\n",
       "| FALSE | FALSE | FALSE | FALSE | FALSE | FALSE | FALSE | FALSE | FALSE | FALSE | FALSE | FALSE | FALSE | FALSE |\n",
       "| FALSE | FALSE | FALSE | FALSE | FALSE | FALSE | FALSE | FALSE | FALSE | FALSE | FALSE | FALSE | FALSE | FALSE |\n",
       "| ... | ... | ... | ... | ... | ... | ... | ... | ... | ... | ... | ... | ... | ... |\n",
       "| FALSE | FALSE | FALSE | FALSE | FALSE | FALSE | FALSE | FALSE | FALSE | FALSE | FALSE | FALSE | FALSE | FALSE |\n",
       "| FALSE | FALSE | FALSE | FALSE | FALSE | FALSE | FALSE | FALSE | FALSE | FALSE | FALSE | FALSE | FALSE | FALSE |\n",
       "| FALSE | FALSE | FALSE | FALSE | FALSE | FALSE | FALSE | FALSE | FALSE | FALSE | FALSE | FALSE | FALSE | FALSE |\n",
       "| FALSE | FALSE | FALSE | FALSE | FALSE | FALSE | FALSE | FALSE | FALSE | FALSE | FALSE | FALSE | FALSE | FALSE |\n",
       "| FALSE | FALSE | FALSE | FALSE | FALSE | FALSE | FALSE | FALSE | FALSE | FALSE | FALSE | FALSE | FALSE | FALSE |\n",
       "| FALSE | FALSE | FALSE | FALSE | FALSE | FALSE | FALSE | FALSE | FALSE | FALSE | FALSE | FALSE | FALSE | FALSE |\n",
       "| FALSE | FALSE | FALSE | FALSE | FALSE | FALSE | FALSE | FALSE | FALSE | FALSE | FALSE | FALSE | FALSE | FALSE |\n",
       "| FALSE | FALSE | FALSE | FALSE | FALSE | FALSE | FALSE | FALSE | FALSE | FALSE | FALSE | FALSE | FALSE | FALSE |\n",
       "| FALSE | FALSE | FALSE | FALSE | FALSE | FALSE | FALSE | FALSE | FALSE | FALSE | FALSE | FALSE | FALSE | FALSE |\n",
       "| FALSE | FALSE | FALSE | FALSE | FALSE | FALSE | FALSE | FALSE | FALSE | FALSE | FALSE | FALSE | FALSE | FALSE |\n",
       "| FALSE | FALSE | FALSE | FALSE | FALSE | FALSE | FALSE | FALSE | FALSE | FALSE | FALSE | FALSE | FALSE | FALSE |\n",
       "| FALSE | FALSE | FALSE | FALSE | FALSE | FALSE | FALSE | FALSE | FALSE | FALSE | FALSE | FALSE | FALSE | FALSE |\n",
       "| FALSE | FALSE | FALSE | FALSE | FALSE | FALSE | FALSE | FALSE | FALSE | FALSE | FALSE | FALSE | FALSE | FALSE |\n",
       "| FALSE | FALSE | FALSE | FALSE | FALSE | FALSE | FALSE | FALSE | FALSE | FALSE | FALSE | FALSE | FALSE | FALSE |\n",
       "| FALSE | FALSE | FALSE | FALSE | FALSE | FALSE | FALSE | FALSE | FALSE | FALSE | FALSE | FALSE | FALSE | FALSE |\n",
       "| FALSE | FALSE | FALSE | FALSE | FALSE | FALSE | FALSE | FALSE | FALSE | FALSE | FALSE | FALSE | FALSE | FALSE |\n",
       "| FALSE | FALSE | FALSE | FALSE | FALSE | FALSE | FALSE | FALSE | FALSE | FALSE | FALSE | FALSE | FALSE | FALSE |\n",
       "| FALSE | FALSE | FALSE | FALSE | FALSE | FALSE | FALSE | FALSE | FALSE | FALSE | FALSE | FALSE | FALSE | FALSE |\n",
       "| FALSE | FALSE | FALSE | FALSE | FALSE | FALSE | FALSE | FALSE | FALSE | FALSE | FALSE | FALSE | FALSE | FALSE |\n",
       "| FALSE | FALSE | FALSE | FALSE | FALSE | FALSE | FALSE | FALSE | FALSE | FALSE | FALSE | FALSE | FALSE | FALSE |\n",
       "| FALSE | FALSE | FALSE | FALSE | FALSE | FALSE | FALSE | FALSE | FALSE | FALSE | FALSE | FALSE | FALSE | FALSE |\n",
       "| FALSE | FALSE | FALSE | FALSE | FALSE | FALSE | FALSE | FALSE | FALSE | FALSE | FALSE | FALSE | FALSE | FALSE |\n",
       "| FALSE | FALSE | FALSE | FALSE | FALSE | FALSE | FALSE | FALSE | FALSE | FALSE | FALSE | FALSE | FALSE | FALSE |\n",
       "| FALSE | FALSE | FALSE | FALSE | FALSE | FALSE | FALSE | FALSE | FALSE | FALSE | FALSE | FALSE | FALSE | FALSE |\n",
       "| FALSE | FALSE | FALSE | FALSE | FALSE | FALSE | FALSE | FALSE | FALSE | FALSE | FALSE | FALSE | FALSE | FALSE |\n",
       "| FALSE | FALSE | FALSE | FALSE | FALSE | FALSE | FALSE | FALSE | FALSE | FALSE | FALSE | FALSE | FALSE | FALSE |\n",
       "| FALSE | FALSE | FALSE | FALSE | FALSE | FALSE | FALSE | FALSE | FALSE | FALSE | FALSE | FALSE | FALSE | FALSE |\n",
       "| FALSE | FALSE | FALSE | FALSE | FALSE | FALSE | FALSE | FALSE | FALSE | FALSE | FALSE | FALSE | FALSE | FALSE |\n",
       "| FALSE | FALSE | FALSE | FALSE | FALSE | FALSE | FALSE | FALSE | FALSE | FALSE | FALSE | FALSE | FALSE | FALSE |\n",
       "| FALSE | FALSE | FALSE | FALSE | FALSE | FALSE | FALSE | FALSE | FALSE | FALSE | FALSE | FALSE | FALSE | FALSE |\n",
       "\n"
      ],
      "text/plain": [
       "      ID    Age   Experience Income ZIPCode Family CCAvg Education Mortgage\n",
       " [1,] FALSE FALSE FALSE      FALSE  FALSE   FALSE  FALSE FALSE     FALSE   \n",
       " [2,] FALSE FALSE FALSE       TRUE  FALSE   FALSE  FALSE FALSE     FALSE   \n",
       " [3,] FALSE FALSE FALSE      FALSE  FALSE   FALSE  FALSE FALSE     FALSE   \n",
       " [4,]  TRUE FALSE FALSE      FALSE   TRUE   FALSE  FALSE FALSE     FALSE   \n",
       " [5,] FALSE FALSE  TRUE      FALSE  FALSE   FALSE  FALSE FALSE     FALSE   \n",
       " [6,]  TRUE FALSE FALSE      FALSE   TRUE   FALSE  FALSE FALSE     FALSE   \n",
       " [7,] FALSE FALSE FALSE      FALSE  FALSE   FALSE  FALSE FALSE     FALSE   \n",
       " [8,] FALSE FALSE FALSE      FALSE  FALSE    TRUE   TRUE FALSE     FALSE   \n",
       " [9,] FALSE  TRUE  TRUE      FALSE   TRUE   FALSE  FALSE FALSE     FALSE   \n",
       "[10,] FALSE FALSE FALSE      FALSE  FALSE   FALSE   TRUE FALSE     FALSE   \n",
       "[11,] FALSE FALSE  TRUE      FALSE  FALSE   FALSE  FALSE FALSE      TRUE   \n",
       "[12,] FALSE FALSE FALSE      FALSE  FALSE    TRUE  FALSE FALSE     FALSE   \n",
       "[13,] FALSE FALSE FALSE      FALSE  FALSE   FALSE  FALSE FALSE     FALSE   \n",
       "[14,] FALSE FALSE FALSE      FALSE  FALSE   FALSE  FALSE FALSE     FALSE   \n",
       "[15,] FALSE FALSE FALSE      FALSE  FALSE   FALSE  FALSE FALSE     FALSE   \n",
       "[16,] FALSE FALSE FALSE      FALSE  FALSE   FALSE  FALSE FALSE     FALSE   \n",
       "[17,] FALSE FALSE FALSE      FALSE  FALSE   FALSE  FALSE FALSE     FALSE   \n",
       "[18,] FALSE FALSE FALSE      FALSE  FALSE   FALSE  FALSE FALSE     FALSE   \n",
       "[19,] FALSE FALSE FALSE      FALSE  FALSE   FALSE  FALSE FALSE     FALSE   \n",
       "[20,] FALSE FALSE FALSE      FALSE  FALSE   FALSE  FALSE FALSE     FALSE   \n",
       "[21,] FALSE FALSE FALSE      FALSE  FALSE   FALSE  FALSE FALSE     FALSE   \n",
       "[22,] FALSE FALSE FALSE      FALSE  FALSE   FALSE  FALSE FALSE     FALSE   \n",
       "[23,] FALSE FALSE FALSE      FALSE  FALSE   FALSE  FALSE FALSE     FALSE   \n",
       "[24,] FALSE FALSE FALSE      FALSE  FALSE   FALSE  FALSE FALSE     FALSE   \n",
       "[25,] FALSE FALSE FALSE      FALSE  FALSE   FALSE  FALSE FALSE     FALSE   \n",
       "[26,] FALSE FALSE FALSE      FALSE  FALSE   FALSE  FALSE FALSE     FALSE   \n",
       "[27,] FALSE FALSE FALSE      FALSE  FALSE   FALSE  FALSE FALSE     FALSE   \n",
       "[28,] FALSE FALSE FALSE      FALSE  FALSE   FALSE  FALSE FALSE     FALSE   \n",
       "[29,] FALSE FALSE FALSE      FALSE  FALSE   FALSE  FALSE FALSE     FALSE   \n",
       "[30,] FALSE FALSE FALSE      FALSE  FALSE   FALSE  FALSE FALSE     FALSE   \n",
       "[31,] ...   ...   ...        ...    ...     ...    ...   ...       ...     \n",
       "[32,] FALSE FALSE FALSE      FALSE  FALSE   FALSE  FALSE FALSE     FALSE   \n",
       "[33,] FALSE FALSE FALSE      FALSE  FALSE   FALSE  FALSE FALSE     FALSE   \n",
       "[34,] FALSE FALSE FALSE      FALSE  FALSE   FALSE  FALSE FALSE     FALSE   \n",
       "[35,] FALSE FALSE FALSE      FALSE  FALSE   FALSE  FALSE FALSE     FALSE   \n",
       "[36,] FALSE FALSE FALSE      FALSE  FALSE   FALSE  FALSE FALSE     FALSE   \n",
       "[37,] FALSE FALSE FALSE      FALSE  FALSE   FALSE  FALSE FALSE     FALSE   \n",
       "[38,] FALSE FALSE FALSE      FALSE  FALSE   FALSE  FALSE FALSE     FALSE   \n",
       "[39,] FALSE FALSE FALSE      FALSE  FALSE   FALSE  FALSE FALSE     FALSE   \n",
       "[40,] FALSE FALSE FALSE      FALSE  FALSE   FALSE  FALSE FALSE     FALSE   \n",
       "[41,] FALSE FALSE FALSE      FALSE  FALSE   FALSE  FALSE FALSE     FALSE   \n",
       "[42,] FALSE FALSE FALSE      FALSE  FALSE   FALSE  FALSE FALSE     FALSE   \n",
       "[43,] FALSE FALSE FALSE      FALSE  FALSE   FALSE  FALSE FALSE     FALSE   \n",
       "[44,] FALSE FALSE FALSE      FALSE  FALSE   FALSE  FALSE FALSE     FALSE   \n",
       "[45,] FALSE FALSE FALSE      FALSE  FALSE   FALSE  FALSE FALSE     FALSE   \n",
       "[46,] FALSE FALSE FALSE      FALSE  FALSE   FALSE  FALSE FALSE     FALSE   \n",
       "[47,] FALSE FALSE FALSE      FALSE  FALSE   FALSE  FALSE FALSE     FALSE   \n",
       "[48,] FALSE FALSE FALSE      FALSE  FALSE   FALSE  FALSE FALSE     FALSE   \n",
       "[49,] FALSE FALSE FALSE      FALSE  FALSE   FALSE  FALSE FALSE     FALSE   \n",
       "[50,] FALSE FALSE FALSE      FALSE  FALSE   FALSE  FALSE FALSE     FALSE   \n",
       "[51,] FALSE FALSE FALSE      FALSE  FALSE   FALSE  FALSE FALSE     FALSE   \n",
       "[52,] FALSE FALSE FALSE      FALSE  FALSE   FALSE  FALSE FALSE     FALSE   \n",
       "[53,] FALSE FALSE FALSE      FALSE  FALSE   FALSE  FALSE FALSE     FALSE   \n",
       "[54,] FALSE FALSE FALSE      FALSE  FALSE   FALSE  FALSE FALSE     FALSE   \n",
       "[55,] FALSE FALSE FALSE      FALSE  FALSE   FALSE  FALSE FALSE     FALSE   \n",
       "[56,] FALSE FALSE FALSE      FALSE  FALSE   FALSE  FALSE FALSE     FALSE   \n",
       "[57,] FALSE FALSE FALSE      FALSE  FALSE   FALSE  FALSE FALSE     FALSE   \n",
       "[58,] FALSE FALSE FALSE      FALSE  FALSE   FALSE  FALSE FALSE     FALSE   \n",
       "[59,] FALSE FALSE FALSE      FALSE  FALSE   FALSE  FALSE FALSE     FALSE   \n",
       "[60,] FALSE FALSE FALSE      FALSE  FALSE   FALSE  FALSE FALSE     FALSE   \n",
       "[61,] FALSE FALSE FALSE      FALSE  FALSE   FALSE  FALSE FALSE     FALSE   \n",
       "      Personal_Loan Securities_Account CD_Account Online CreditCard\n",
       " [1,] FALSE         FALSE              FALSE      FALSE  FALSE     \n",
       " [2,] FALSE         FALSE              FALSE      FALSE  FALSE     \n",
       " [3,] FALSE          TRUE              FALSE      FALSE  FALSE     \n",
       " [4,] FALSE         FALSE              FALSE      FALSE  FALSE     \n",
       " [5,] FALSE         FALSE              FALSE      FALSE  FALSE     \n",
       " [6,] FALSE         FALSE              FALSE      FALSE  FALSE     \n",
       " [7,] FALSE         FALSE              FALSE      FALSE  FALSE     \n",
       " [8,] FALSE         FALSE              FALSE      FALSE  FALSE     \n",
       " [9,] FALSE         FALSE              FALSE      FALSE  FALSE     \n",
       "[10,] FALSE         FALSE              FALSE      FALSE  FALSE     \n",
       "[11,] FALSE         FALSE              FALSE      FALSE  FALSE     \n",
       "[12,] FALSE         FALSE              FALSE      FALSE  FALSE     \n",
       "[13,] FALSE         FALSE              FALSE      FALSE  FALSE     \n",
       "[14,] FALSE         FALSE              FALSE      FALSE  FALSE     \n",
       "[15,] FALSE         FALSE              FALSE      FALSE  FALSE     \n",
       "[16,] FALSE         FALSE              FALSE      FALSE  FALSE     \n",
       "[17,] FALSE         FALSE              FALSE      FALSE  FALSE     \n",
       "[18,] FALSE         FALSE              FALSE      FALSE  FALSE     \n",
       "[19,] FALSE         FALSE              FALSE      FALSE  FALSE     \n",
       "[20,] FALSE         FALSE              FALSE      FALSE  FALSE     \n",
       "[21,] FALSE         FALSE              FALSE      FALSE  FALSE     \n",
       "[22,] FALSE         FALSE              FALSE      FALSE  FALSE     \n",
       "[23,] FALSE         FALSE              FALSE      FALSE  FALSE     \n",
       "[24,] FALSE         FALSE              FALSE      FALSE  FALSE     \n",
       "[25,] FALSE         FALSE              FALSE      FALSE  FALSE     \n",
       "[26,] FALSE         FALSE              FALSE      FALSE  FALSE     \n",
       "[27,] FALSE         FALSE              FALSE      FALSE  FALSE     \n",
       "[28,] FALSE         FALSE              FALSE      FALSE  FALSE     \n",
       "[29,] FALSE         FALSE              FALSE      FALSE  FALSE     \n",
       "[30,] FALSE         FALSE              FALSE      FALSE  FALSE     \n",
       "[31,] ...           ...                ...        ...    ...       \n",
       "[32,] FALSE         FALSE              FALSE      FALSE  FALSE     \n",
       "[33,] FALSE         FALSE              FALSE      FALSE  FALSE     \n",
       "[34,] FALSE         FALSE              FALSE      FALSE  FALSE     \n",
       "[35,] FALSE         FALSE              FALSE      FALSE  FALSE     \n",
       "[36,] FALSE         FALSE              FALSE      FALSE  FALSE     \n",
       "[37,] FALSE         FALSE              FALSE      FALSE  FALSE     \n",
       "[38,] FALSE         FALSE              FALSE      FALSE  FALSE     \n",
       "[39,] FALSE         FALSE              FALSE      FALSE  FALSE     \n",
       "[40,] FALSE         FALSE              FALSE      FALSE  FALSE     \n",
       "[41,] FALSE         FALSE              FALSE      FALSE  FALSE     \n",
       "[42,] FALSE         FALSE              FALSE      FALSE  FALSE     \n",
       "[43,] FALSE         FALSE              FALSE      FALSE  FALSE     \n",
       "[44,] FALSE         FALSE              FALSE      FALSE  FALSE     \n",
       "[45,] FALSE         FALSE              FALSE      FALSE  FALSE     \n",
       "[46,] FALSE         FALSE              FALSE      FALSE  FALSE     \n",
       "[47,] FALSE         FALSE              FALSE      FALSE  FALSE     \n",
       "[48,] FALSE         FALSE              FALSE      FALSE  FALSE     \n",
       "[49,] FALSE         FALSE              FALSE      FALSE  FALSE     \n",
       "[50,] FALSE         FALSE              FALSE      FALSE  FALSE     \n",
       "[51,] FALSE         FALSE              FALSE      FALSE  FALSE     \n",
       "[52,] FALSE         FALSE              FALSE      FALSE  FALSE     \n",
       "[53,] FALSE         FALSE              FALSE      FALSE  FALSE     \n",
       "[54,] FALSE         FALSE              FALSE      FALSE  FALSE     \n",
       "[55,] FALSE         FALSE              FALSE      FALSE  FALSE     \n",
       "[56,] FALSE         FALSE              FALSE      FALSE  FALSE     \n",
       "[57,] FALSE         FALSE              FALSE      FALSE  FALSE     \n",
       "[58,] FALSE         FALSE              FALSE      FALSE  FALSE     \n",
       "[59,] FALSE         FALSE              FALSE      FALSE  FALSE     \n",
       "[60,] FALSE         FALSE              FALSE      FALSE  FALSE     \n",
       "[61,] FALSE         FALSE              FALSE      FALSE  FALSE     "
      ]
     },
     "metadata": {},
     "output_type": "display_data"
    }
   ],
   "source": [
    "is.na(dfv)"
   ]
  },
  {
   "cell_type": "code",
   "execution_count": 46,
   "metadata": {},
   "outputs": [
    {
     "data": {
      "text/plain": [
       "     ID             Age          Experience        Income       \n",
       " Mode :logical   Mode :logical   Mode :logical   Mode :logical  \n",
       " FALSE:4998      FALSE:4999      FALSE:4997      FALSE:4999     \n",
       " TRUE :2         TRUE :1         TRUE :3         TRUE :1        \n",
       "  ZIPCode          Family          CCAvg         Education      \n",
       " Mode :logical   Mode :logical   Mode :logical   Mode :logical  \n",
       " FALSE:4997      FALSE:4998      FALSE:4998      FALSE:5000     \n",
       " TRUE :3         TRUE :2         TRUE :2                        \n",
       "  Mortgage       Personal_Loan   Securities_Account CD_Account     \n",
       " Mode :logical   Mode :logical   Mode :logical      Mode :logical  \n",
       " FALSE:4999      FALSE:5000      FALSE:4999         FALSE:5000     \n",
       " TRUE :1                         TRUE :1                           \n",
       "   Online        CreditCard     \n",
       " Mode :logical   Mode :logical  \n",
       " FALSE:5000      FALSE:5000     \n",
       "                                "
      ]
     },
     "metadata": {},
     "output_type": "display_data"
    }
   ],
   "source": [
    "summary(is.na(dfv))"
   ]
  },
  {
   "cell_type": "code",
   "execution_count": 47,
   "metadata": {},
   "outputs": [
    {
     "data": {
      "text/html": [
       "FALSE"
      ],
      "text/latex": [
       "FALSE"
      ],
      "text/markdown": [
       "FALSE"
      ],
      "text/plain": [
       "[1] FALSE"
      ]
     },
     "metadata": {},
     "output_type": "display_data"
    }
   ],
   "source": [
    "knn_rese <- knnImputation(dfv)  # perform knn imputation.\n",
    "anyNA(knn_rese)"
   ]
  },
  {
   "cell_type": "code",
   "execution_count": 48,
   "metadata": {},
   "outputs": [
    {
     "data": {
      "text/html": [
       "<table>\n",
       "<thead><tr><th scope=col>ID</th><th scope=col>Age</th><th scope=col>Experience</th><th scope=col>Income</th><th scope=col>ZIPCode</th><th scope=col>Family</th><th scope=col>CCAvg</th><th scope=col>Education</th><th scope=col>Mortgage</th><th scope=col>Personal_Loan</th><th scope=col>Securities_Account</th><th scope=col>CD_Account</th><th scope=col>Online</th><th scope=col>CreditCard</th></tr></thead>\n",
       "<tbody>\n",
       "\t<tr><td>FALSE</td><td>FALSE</td><td>FALSE</td><td>FALSE</td><td>FALSE</td><td>FALSE</td><td>FALSE</td><td>FALSE</td><td>FALSE</td><td>FALSE</td><td>FALSE</td><td>FALSE</td><td>FALSE</td><td>FALSE</td></tr>\n",
       "\t<tr><td>FALSE</td><td>FALSE</td><td>FALSE</td><td>FALSE</td><td>FALSE</td><td>FALSE</td><td>FALSE</td><td>FALSE</td><td>FALSE</td><td>FALSE</td><td>FALSE</td><td>FALSE</td><td>FALSE</td><td>FALSE</td></tr>\n",
       "\t<tr><td>FALSE</td><td>FALSE</td><td>FALSE</td><td>FALSE</td><td>FALSE</td><td>FALSE</td><td>FALSE</td><td>FALSE</td><td>FALSE</td><td>FALSE</td><td>FALSE</td><td>FALSE</td><td>FALSE</td><td>FALSE</td></tr>\n",
       "\t<tr><td>FALSE</td><td>FALSE</td><td>FALSE</td><td>FALSE</td><td>FALSE</td><td>FALSE</td><td>FALSE</td><td>FALSE</td><td>FALSE</td><td>FALSE</td><td>FALSE</td><td>FALSE</td><td>FALSE</td><td>FALSE</td></tr>\n",
       "\t<tr><td>FALSE</td><td>FALSE</td><td>FALSE</td><td>FALSE</td><td>FALSE</td><td>FALSE</td><td>FALSE</td><td>FALSE</td><td>FALSE</td><td>FALSE</td><td>FALSE</td><td>FALSE</td><td>FALSE</td><td>FALSE</td></tr>\n",
       "\t<tr><td>FALSE</td><td>FALSE</td><td>FALSE</td><td>FALSE</td><td>FALSE</td><td>FALSE</td><td>FALSE</td><td>FALSE</td><td>FALSE</td><td>FALSE</td><td>FALSE</td><td>FALSE</td><td>FALSE</td><td>FALSE</td></tr>\n",
       "\t<tr><td>FALSE</td><td>FALSE</td><td>FALSE</td><td>FALSE</td><td>FALSE</td><td>FALSE</td><td>FALSE</td><td>FALSE</td><td>FALSE</td><td>FALSE</td><td>FALSE</td><td>FALSE</td><td>FALSE</td><td>FALSE</td></tr>\n",
       "\t<tr><td>FALSE</td><td>FALSE</td><td>FALSE</td><td>FALSE</td><td>FALSE</td><td>FALSE</td><td>FALSE</td><td>FALSE</td><td>FALSE</td><td>FALSE</td><td>FALSE</td><td>FALSE</td><td>FALSE</td><td>FALSE</td></tr>\n",
       "\t<tr><td>FALSE</td><td>FALSE</td><td>FALSE</td><td>FALSE</td><td>FALSE</td><td>FALSE</td><td>FALSE</td><td>FALSE</td><td>FALSE</td><td>FALSE</td><td>FALSE</td><td>FALSE</td><td>FALSE</td><td>FALSE</td></tr>\n",
       "\t<tr><td>FALSE</td><td>FALSE</td><td>FALSE</td><td>FALSE</td><td>FALSE</td><td>FALSE</td><td>FALSE</td><td>FALSE</td><td>FALSE</td><td>FALSE</td><td>FALSE</td><td>FALSE</td><td>FALSE</td><td>FALSE</td></tr>\n",
       "\t<tr><td>FALSE</td><td>FALSE</td><td>FALSE</td><td>FALSE</td><td>FALSE</td><td>FALSE</td><td>FALSE</td><td>FALSE</td><td>FALSE</td><td>FALSE</td><td>FALSE</td><td>FALSE</td><td>FALSE</td><td>FALSE</td></tr>\n",
       "\t<tr><td>FALSE</td><td>FALSE</td><td>FALSE</td><td>FALSE</td><td>FALSE</td><td>FALSE</td><td>FALSE</td><td>FALSE</td><td>FALSE</td><td>FALSE</td><td>FALSE</td><td>FALSE</td><td>FALSE</td><td>FALSE</td></tr>\n",
       "\t<tr><td>FALSE</td><td>FALSE</td><td>FALSE</td><td>FALSE</td><td>FALSE</td><td>FALSE</td><td>FALSE</td><td>FALSE</td><td>FALSE</td><td>FALSE</td><td>FALSE</td><td>FALSE</td><td>FALSE</td><td>FALSE</td></tr>\n",
       "\t<tr><td>FALSE</td><td>FALSE</td><td>FALSE</td><td>FALSE</td><td>FALSE</td><td>FALSE</td><td>FALSE</td><td>FALSE</td><td>FALSE</td><td>FALSE</td><td>FALSE</td><td>FALSE</td><td>FALSE</td><td>FALSE</td></tr>\n",
       "\t<tr><td>FALSE</td><td>FALSE</td><td>FALSE</td><td>FALSE</td><td>FALSE</td><td>FALSE</td><td>FALSE</td><td>FALSE</td><td>FALSE</td><td>FALSE</td><td>FALSE</td><td>FALSE</td><td>FALSE</td><td>FALSE</td></tr>\n",
       "\t<tr><td>FALSE</td><td>FALSE</td><td>FALSE</td><td>FALSE</td><td>FALSE</td><td>FALSE</td><td>FALSE</td><td>FALSE</td><td>FALSE</td><td>FALSE</td><td>FALSE</td><td>FALSE</td><td>FALSE</td><td>FALSE</td></tr>\n",
       "\t<tr><td>FALSE</td><td>FALSE</td><td>FALSE</td><td>FALSE</td><td>FALSE</td><td>FALSE</td><td>FALSE</td><td>FALSE</td><td>FALSE</td><td>FALSE</td><td>FALSE</td><td>FALSE</td><td>FALSE</td><td>FALSE</td></tr>\n",
       "\t<tr><td>FALSE</td><td>FALSE</td><td>FALSE</td><td>FALSE</td><td>FALSE</td><td>FALSE</td><td>FALSE</td><td>FALSE</td><td>FALSE</td><td>FALSE</td><td>FALSE</td><td>FALSE</td><td>FALSE</td><td>FALSE</td></tr>\n",
       "\t<tr><td>FALSE</td><td>FALSE</td><td>FALSE</td><td>FALSE</td><td>FALSE</td><td>FALSE</td><td>FALSE</td><td>FALSE</td><td>FALSE</td><td>FALSE</td><td>FALSE</td><td>FALSE</td><td>FALSE</td><td>FALSE</td></tr>\n",
       "\t<tr><td>FALSE</td><td>FALSE</td><td>FALSE</td><td>FALSE</td><td>FALSE</td><td>FALSE</td><td>FALSE</td><td>FALSE</td><td>FALSE</td><td>FALSE</td><td>FALSE</td><td>FALSE</td><td>FALSE</td><td>FALSE</td></tr>\n",
       "\t<tr><td>FALSE</td><td>FALSE</td><td>FALSE</td><td>FALSE</td><td>FALSE</td><td>FALSE</td><td>FALSE</td><td>FALSE</td><td>FALSE</td><td>FALSE</td><td>FALSE</td><td>FALSE</td><td>FALSE</td><td>FALSE</td></tr>\n",
       "\t<tr><td>FALSE</td><td>FALSE</td><td>FALSE</td><td>FALSE</td><td>FALSE</td><td>FALSE</td><td>FALSE</td><td>FALSE</td><td>FALSE</td><td>FALSE</td><td>FALSE</td><td>FALSE</td><td>FALSE</td><td>FALSE</td></tr>\n",
       "\t<tr><td>FALSE</td><td>FALSE</td><td>FALSE</td><td>FALSE</td><td>FALSE</td><td>FALSE</td><td>FALSE</td><td>FALSE</td><td>FALSE</td><td>FALSE</td><td>FALSE</td><td>FALSE</td><td>FALSE</td><td>FALSE</td></tr>\n",
       "\t<tr><td>FALSE</td><td>FALSE</td><td>FALSE</td><td>FALSE</td><td>FALSE</td><td>FALSE</td><td>FALSE</td><td>FALSE</td><td>FALSE</td><td>FALSE</td><td>FALSE</td><td>FALSE</td><td>FALSE</td><td>FALSE</td></tr>\n",
       "\t<tr><td>FALSE</td><td>FALSE</td><td>FALSE</td><td>FALSE</td><td>FALSE</td><td>FALSE</td><td>FALSE</td><td>FALSE</td><td>FALSE</td><td>FALSE</td><td>FALSE</td><td>FALSE</td><td>FALSE</td><td>FALSE</td></tr>\n",
       "\t<tr><td>FALSE</td><td>FALSE</td><td>FALSE</td><td>FALSE</td><td>FALSE</td><td>FALSE</td><td>FALSE</td><td>FALSE</td><td>FALSE</td><td>FALSE</td><td>FALSE</td><td>FALSE</td><td>FALSE</td><td>FALSE</td></tr>\n",
       "\t<tr><td>FALSE</td><td>FALSE</td><td>FALSE</td><td>FALSE</td><td>FALSE</td><td>FALSE</td><td>FALSE</td><td>FALSE</td><td>FALSE</td><td>FALSE</td><td>FALSE</td><td>FALSE</td><td>FALSE</td><td>FALSE</td></tr>\n",
       "\t<tr><td>FALSE</td><td>FALSE</td><td>FALSE</td><td>FALSE</td><td>FALSE</td><td>FALSE</td><td>FALSE</td><td>FALSE</td><td>FALSE</td><td>FALSE</td><td>FALSE</td><td>FALSE</td><td>FALSE</td><td>FALSE</td></tr>\n",
       "\t<tr><td>FALSE</td><td>FALSE</td><td>FALSE</td><td>FALSE</td><td>FALSE</td><td>FALSE</td><td>FALSE</td><td>FALSE</td><td>FALSE</td><td>FALSE</td><td>FALSE</td><td>FALSE</td><td>FALSE</td><td>FALSE</td></tr>\n",
       "\t<tr><td>FALSE</td><td>FALSE</td><td>FALSE</td><td>FALSE</td><td>FALSE</td><td>FALSE</td><td>FALSE</td><td>FALSE</td><td>FALSE</td><td>FALSE</td><td>FALSE</td><td>FALSE</td><td>FALSE</td><td>FALSE</td></tr>\n",
       "\t<tr><td>...</td><td>...</td><td>...</td><td>...</td><td>...</td><td>...</td><td>...</td><td>...</td><td>...</td><td>...</td><td>...</td><td>...</td><td>...</td><td>...</td></tr>\n",
       "\t<tr><td>FALSE</td><td>FALSE</td><td>FALSE</td><td>FALSE</td><td>FALSE</td><td>FALSE</td><td>FALSE</td><td>FALSE</td><td>FALSE</td><td>FALSE</td><td>FALSE</td><td>FALSE</td><td>FALSE</td><td>FALSE</td></tr>\n",
       "\t<tr><td>FALSE</td><td>FALSE</td><td>FALSE</td><td>FALSE</td><td>FALSE</td><td>FALSE</td><td>FALSE</td><td>FALSE</td><td>FALSE</td><td>FALSE</td><td>FALSE</td><td>FALSE</td><td>FALSE</td><td>FALSE</td></tr>\n",
       "\t<tr><td>FALSE</td><td>FALSE</td><td>FALSE</td><td>FALSE</td><td>FALSE</td><td>FALSE</td><td>FALSE</td><td>FALSE</td><td>FALSE</td><td>FALSE</td><td>FALSE</td><td>FALSE</td><td>FALSE</td><td>FALSE</td></tr>\n",
       "\t<tr><td>FALSE</td><td>FALSE</td><td>FALSE</td><td>FALSE</td><td>FALSE</td><td>FALSE</td><td>FALSE</td><td>FALSE</td><td>FALSE</td><td>FALSE</td><td>FALSE</td><td>FALSE</td><td>FALSE</td><td>FALSE</td></tr>\n",
       "\t<tr><td>FALSE</td><td>FALSE</td><td>FALSE</td><td>FALSE</td><td>FALSE</td><td>FALSE</td><td>FALSE</td><td>FALSE</td><td>FALSE</td><td>FALSE</td><td>FALSE</td><td>FALSE</td><td>FALSE</td><td>FALSE</td></tr>\n",
       "\t<tr><td>FALSE</td><td>FALSE</td><td>FALSE</td><td>FALSE</td><td>FALSE</td><td>FALSE</td><td>FALSE</td><td>FALSE</td><td>FALSE</td><td>FALSE</td><td>FALSE</td><td>FALSE</td><td>FALSE</td><td>FALSE</td></tr>\n",
       "\t<tr><td>FALSE</td><td>FALSE</td><td>FALSE</td><td>FALSE</td><td>FALSE</td><td>FALSE</td><td>FALSE</td><td>FALSE</td><td>FALSE</td><td>FALSE</td><td>FALSE</td><td>FALSE</td><td>FALSE</td><td>FALSE</td></tr>\n",
       "\t<tr><td>FALSE</td><td>FALSE</td><td>FALSE</td><td>FALSE</td><td>FALSE</td><td>FALSE</td><td>FALSE</td><td>FALSE</td><td>FALSE</td><td>FALSE</td><td>FALSE</td><td>FALSE</td><td>FALSE</td><td>FALSE</td></tr>\n",
       "\t<tr><td>FALSE</td><td>FALSE</td><td>FALSE</td><td>FALSE</td><td>FALSE</td><td>FALSE</td><td>FALSE</td><td>FALSE</td><td>FALSE</td><td>FALSE</td><td>FALSE</td><td>FALSE</td><td>FALSE</td><td>FALSE</td></tr>\n",
       "\t<tr><td>FALSE</td><td>FALSE</td><td>FALSE</td><td>FALSE</td><td>FALSE</td><td>FALSE</td><td>FALSE</td><td>FALSE</td><td>FALSE</td><td>FALSE</td><td>FALSE</td><td>FALSE</td><td>FALSE</td><td>FALSE</td></tr>\n",
       "\t<tr><td>FALSE</td><td>FALSE</td><td>FALSE</td><td>FALSE</td><td>FALSE</td><td>FALSE</td><td>FALSE</td><td>FALSE</td><td>FALSE</td><td>FALSE</td><td>FALSE</td><td>FALSE</td><td>FALSE</td><td>FALSE</td></tr>\n",
       "\t<tr><td>FALSE</td><td>FALSE</td><td>FALSE</td><td>FALSE</td><td>FALSE</td><td>FALSE</td><td>FALSE</td><td>FALSE</td><td>FALSE</td><td>FALSE</td><td>FALSE</td><td>FALSE</td><td>FALSE</td><td>FALSE</td></tr>\n",
       "\t<tr><td>FALSE</td><td>FALSE</td><td>FALSE</td><td>FALSE</td><td>FALSE</td><td>FALSE</td><td>FALSE</td><td>FALSE</td><td>FALSE</td><td>FALSE</td><td>FALSE</td><td>FALSE</td><td>FALSE</td><td>FALSE</td></tr>\n",
       "\t<tr><td>FALSE</td><td>FALSE</td><td>FALSE</td><td>FALSE</td><td>FALSE</td><td>FALSE</td><td>FALSE</td><td>FALSE</td><td>FALSE</td><td>FALSE</td><td>FALSE</td><td>FALSE</td><td>FALSE</td><td>FALSE</td></tr>\n",
       "\t<tr><td>FALSE</td><td>FALSE</td><td>FALSE</td><td>FALSE</td><td>FALSE</td><td>FALSE</td><td>FALSE</td><td>FALSE</td><td>FALSE</td><td>FALSE</td><td>FALSE</td><td>FALSE</td><td>FALSE</td><td>FALSE</td></tr>\n",
       "\t<tr><td>FALSE</td><td>FALSE</td><td>FALSE</td><td>FALSE</td><td>FALSE</td><td>FALSE</td><td>FALSE</td><td>FALSE</td><td>FALSE</td><td>FALSE</td><td>FALSE</td><td>FALSE</td><td>FALSE</td><td>FALSE</td></tr>\n",
       "\t<tr><td>FALSE</td><td>FALSE</td><td>FALSE</td><td>FALSE</td><td>FALSE</td><td>FALSE</td><td>FALSE</td><td>FALSE</td><td>FALSE</td><td>FALSE</td><td>FALSE</td><td>FALSE</td><td>FALSE</td><td>FALSE</td></tr>\n",
       "\t<tr><td>FALSE</td><td>FALSE</td><td>FALSE</td><td>FALSE</td><td>FALSE</td><td>FALSE</td><td>FALSE</td><td>FALSE</td><td>FALSE</td><td>FALSE</td><td>FALSE</td><td>FALSE</td><td>FALSE</td><td>FALSE</td></tr>\n",
       "\t<tr><td>FALSE</td><td>FALSE</td><td>FALSE</td><td>FALSE</td><td>FALSE</td><td>FALSE</td><td>FALSE</td><td>FALSE</td><td>FALSE</td><td>FALSE</td><td>FALSE</td><td>FALSE</td><td>FALSE</td><td>FALSE</td></tr>\n",
       "\t<tr><td>FALSE</td><td>FALSE</td><td>FALSE</td><td>FALSE</td><td>FALSE</td><td>FALSE</td><td>FALSE</td><td>FALSE</td><td>FALSE</td><td>FALSE</td><td>FALSE</td><td>FALSE</td><td>FALSE</td><td>FALSE</td></tr>\n",
       "\t<tr><td>FALSE</td><td>FALSE</td><td>FALSE</td><td>FALSE</td><td>FALSE</td><td>FALSE</td><td>FALSE</td><td>FALSE</td><td>FALSE</td><td>FALSE</td><td>FALSE</td><td>FALSE</td><td>FALSE</td><td>FALSE</td></tr>\n",
       "\t<tr><td>FALSE</td><td>FALSE</td><td>FALSE</td><td>FALSE</td><td>FALSE</td><td>FALSE</td><td>FALSE</td><td>FALSE</td><td>FALSE</td><td>FALSE</td><td>FALSE</td><td>FALSE</td><td>FALSE</td><td>FALSE</td></tr>\n",
       "\t<tr><td>FALSE</td><td>FALSE</td><td>FALSE</td><td>FALSE</td><td>FALSE</td><td>FALSE</td><td>FALSE</td><td>FALSE</td><td>FALSE</td><td>FALSE</td><td>FALSE</td><td>FALSE</td><td>FALSE</td><td>FALSE</td></tr>\n",
       "\t<tr><td>FALSE</td><td>FALSE</td><td>FALSE</td><td>FALSE</td><td>FALSE</td><td>FALSE</td><td>FALSE</td><td>FALSE</td><td>FALSE</td><td>FALSE</td><td>FALSE</td><td>FALSE</td><td>FALSE</td><td>FALSE</td></tr>\n",
       "\t<tr><td>FALSE</td><td>FALSE</td><td>FALSE</td><td>FALSE</td><td>FALSE</td><td>FALSE</td><td>FALSE</td><td>FALSE</td><td>FALSE</td><td>FALSE</td><td>FALSE</td><td>FALSE</td><td>FALSE</td><td>FALSE</td></tr>\n",
       "\t<tr><td>FALSE</td><td>FALSE</td><td>FALSE</td><td>FALSE</td><td>FALSE</td><td>FALSE</td><td>FALSE</td><td>FALSE</td><td>FALSE</td><td>FALSE</td><td>FALSE</td><td>FALSE</td><td>FALSE</td><td>FALSE</td></tr>\n",
       "\t<tr><td>FALSE</td><td>FALSE</td><td>FALSE</td><td>FALSE</td><td>FALSE</td><td>FALSE</td><td>FALSE</td><td>FALSE</td><td>FALSE</td><td>FALSE</td><td>FALSE</td><td>FALSE</td><td>FALSE</td><td>FALSE</td></tr>\n",
       "\t<tr><td>FALSE</td><td>FALSE</td><td>FALSE</td><td>FALSE</td><td>FALSE</td><td>FALSE</td><td>FALSE</td><td>FALSE</td><td>FALSE</td><td>FALSE</td><td>FALSE</td><td>FALSE</td><td>FALSE</td><td>FALSE</td></tr>\n",
       "\t<tr><td>FALSE</td><td>FALSE</td><td>FALSE</td><td>FALSE</td><td>FALSE</td><td>FALSE</td><td>FALSE</td><td>FALSE</td><td>FALSE</td><td>FALSE</td><td>FALSE</td><td>FALSE</td><td>FALSE</td><td>FALSE</td></tr>\n",
       "\t<tr><td>FALSE</td><td>FALSE</td><td>FALSE</td><td>FALSE</td><td>FALSE</td><td>FALSE</td><td>FALSE</td><td>FALSE</td><td>FALSE</td><td>FALSE</td><td>FALSE</td><td>FALSE</td><td>FALSE</td><td>FALSE</td></tr>\n",
       "</tbody>\n",
       "</table>\n"
      ],
      "text/latex": [
       "\\begin{tabular}{r|llllllllllllll}\n",
       " ID & Age & Experience & Income & ZIPCode & Family & CCAvg & Education & Mortgage & Personal\\_Loan & Securities\\_Account & CD\\_Account & Online & CreditCard\\\\\n",
       "\\hline\n",
       "\t FALSE & FALSE & FALSE & FALSE & FALSE & FALSE & FALSE & FALSE & FALSE & FALSE & FALSE & FALSE & FALSE & FALSE\\\\\n",
       "\t FALSE & FALSE & FALSE & FALSE & FALSE & FALSE & FALSE & FALSE & FALSE & FALSE & FALSE & FALSE & FALSE & FALSE\\\\\n",
       "\t FALSE & FALSE & FALSE & FALSE & FALSE & FALSE & FALSE & FALSE & FALSE & FALSE & FALSE & FALSE & FALSE & FALSE\\\\\n",
       "\t FALSE & FALSE & FALSE & FALSE & FALSE & FALSE & FALSE & FALSE & FALSE & FALSE & FALSE & FALSE & FALSE & FALSE\\\\\n",
       "\t FALSE & FALSE & FALSE & FALSE & FALSE & FALSE & FALSE & FALSE & FALSE & FALSE & FALSE & FALSE & FALSE & FALSE\\\\\n",
       "\t FALSE & FALSE & FALSE & FALSE & FALSE & FALSE & FALSE & FALSE & FALSE & FALSE & FALSE & FALSE & FALSE & FALSE\\\\\n",
       "\t FALSE & FALSE & FALSE & FALSE & FALSE & FALSE & FALSE & FALSE & FALSE & FALSE & FALSE & FALSE & FALSE & FALSE\\\\\n",
       "\t FALSE & FALSE & FALSE & FALSE & FALSE & FALSE & FALSE & FALSE & FALSE & FALSE & FALSE & FALSE & FALSE & FALSE\\\\\n",
       "\t FALSE & FALSE & FALSE & FALSE & FALSE & FALSE & FALSE & FALSE & FALSE & FALSE & FALSE & FALSE & FALSE & FALSE\\\\\n",
       "\t FALSE & FALSE & FALSE & FALSE & FALSE & FALSE & FALSE & FALSE & FALSE & FALSE & FALSE & FALSE & FALSE & FALSE\\\\\n",
       "\t FALSE & FALSE & FALSE & FALSE & FALSE & FALSE & FALSE & FALSE & FALSE & FALSE & FALSE & FALSE & FALSE & FALSE\\\\\n",
       "\t FALSE & FALSE & FALSE & FALSE & FALSE & FALSE & FALSE & FALSE & FALSE & FALSE & FALSE & FALSE & FALSE & FALSE\\\\\n",
       "\t FALSE & FALSE & FALSE & FALSE & FALSE & FALSE & FALSE & FALSE & FALSE & FALSE & FALSE & FALSE & FALSE & FALSE\\\\\n",
       "\t FALSE & FALSE & FALSE & FALSE & FALSE & FALSE & FALSE & FALSE & FALSE & FALSE & FALSE & FALSE & FALSE & FALSE\\\\\n",
       "\t FALSE & FALSE & FALSE & FALSE & FALSE & FALSE & FALSE & FALSE & FALSE & FALSE & FALSE & FALSE & FALSE & FALSE\\\\\n",
       "\t FALSE & FALSE & FALSE & FALSE & FALSE & FALSE & FALSE & FALSE & FALSE & FALSE & FALSE & FALSE & FALSE & FALSE\\\\\n",
       "\t FALSE & FALSE & FALSE & FALSE & FALSE & FALSE & FALSE & FALSE & FALSE & FALSE & FALSE & FALSE & FALSE & FALSE\\\\\n",
       "\t FALSE & FALSE & FALSE & FALSE & FALSE & FALSE & FALSE & FALSE & FALSE & FALSE & FALSE & FALSE & FALSE & FALSE\\\\\n",
       "\t FALSE & FALSE & FALSE & FALSE & FALSE & FALSE & FALSE & FALSE & FALSE & FALSE & FALSE & FALSE & FALSE & FALSE\\\\\n",
       "\t FALSE & FALSE & FALSE & FALSE & FALSE & FALSE & FALSE & FALSE & FALSE & FALSE & FALSE & FALSE & FALSE & FALSE\\\\\n",
       "\t FALSE & FALSE & FALSE & FALSE & FALSE & FALSE & FALSE & FALSE & FALSE & FALSE & FALSE & FALSE & FALSE & FALSE\\\\\n",
       "\t FALSE & FALSE & FALSE & FALSE & FALSE & FALSE & FALSE & FALSE & FALSE & FALSE & FALSE & FALSE & FALSE & FALSE\\\\\n",
       "\t FALSE & FALSE & FALSE & FALSE & FALSE & FALSE & FALSE & FALSE & FALSE & FALSE & FALSE & FALSE & FALSE & FALSE\\\\\n",
       "\t FALSE & FALSE & FALSE & FALSE & FALSE & FALSE & FALSE & FALSE & FALSE & FALSE & FALSE & FALSE & FALSE & FALSE\\\\\n",
       "\t FALSE & FALSE & FALSE & FALSE & FALSE & FALSE & FALSE & FALSE & FALSE & FALSE & FALSE & FALSE & FALSE & FALSE\\\\\n",
       "\t FALSE & FALSE & FALSE & FALSE & FALSE & FALSE & FALSE & FALSE & FALSE & FALSE & FALSE & FALSE & FALSE & FALSE\\\\\n",
       "\t FALSE & FALSE & FALSE & FALSE & FALSE & FALSE & FALSE & FALSE & FALSE & FALSE & FALSE & FALSE & FALSE & FALSE\\\\\n",
       "\t FALSE & FALSE & FALSE & FALSE & FALSE & FALSE & FALSE & FALSE & FALSE & FALSE & FALSE & FALSE & FALSE & FALSE\\\\\n",
       "\t FALSE & FALSE & FALSE & FALSE & FALSE & FALSE & FALSE & FALSE & FALSE & FALSE & FALSE & FALSE & FALSE & FALSE\\\\\n",
       "\t FALSE & FALSE & FALSE & FALSE & FALSE & FALSE & FALSE & FALSE & FALSE & FALSE & FALSE & FALSE & FALSE & FALSE\\\\\n",
       "\t ... & ... & ... & ... & ... & ... & ... & ... & ... & ... & ... & ... & ... & ...\\\\\n",
       "\t FALSE & FALSE & FALSE & FALSE & FALSE & FALSE & FALSE & FALSE & FALSE & FALSE & FALSE & FALSE & FALSE & FALSE\\\\\n",
       "\t FALSE & FALSE & FALSE & FALSE & FALSE & FALSE & FALSE & FALSE & FALSE & FALSE & FALSE & FALSE & FALSE & FALSE\\\\\n",
       "\t FALSE & FALSE & FALSE & FALSE & FALSE & FALSE & FALSE & FALSE & FALSE & FALSE & FALSE & FALSE & FALSE & FALSE\\\\\n",
       "\t FALSE & FALSE & FALSE & FALSE & FALSE & FALSE & FALSE & FALSE & FALSE & FALSE & FALSE & FALSE & FALSE & FALSE\\\\\n",
       "\t FALSE & FALSE & FALSE & FALSE & FALSE & FALSE & FALSE & FALSE & FALSE & FALSE & FALSE & FALSE & FALSE & FALSE\\\\\n",
       "\t FALSE & FALSE & FALSE & FALSE & FALSE & FALSE & FALSE & FALSE & FALSE & FALSE & FALSE & FALSE & FALSE & FALSE\\\\\n",
       "\t FALSE & FALSE & FALSE & FALSE & FALSE & FALSE & FALSE & FALSE & FALSE & FALSE & FALSE & FALSE & FALSE & FALSE\\\\\n",
       "\t FALSE & FALSE & FALSE & FALSE & FALSE & FALSE & FALSE & FALSE & FALSE & FALSE & FALSE & FALSE & FALSE & FALSE\\\\\n",
       "\t FALSE & FALSE & FALSE & FALSE & FALSE & FALSE & FALSE & FALSE & FALSE & FALSE & FALSE & FALSE & FALSE & FALSE\\\\\n",
       "\t FALSE & FALSE & FALSE & FALSE & FALSE & FALSE & FALSE & FALSE & FALSE & FALSE & FALSE & FALSE & FALSE & FALSE\\\\\n",
       "\t FALSE & FALSE & FALSE & FALSE & FALSE & FALSE & FALSE & FALSE & FALSE & FALSE & FALSE & FALSE & FALSE & FALSE\\\\\n",
       "\t FALSE & FALSE & FALSE & FALSE & FALSE & FALSE & FALSE & FALSE & FALSE & FALSE & FALSE & FALSE & FALSE & FALSE\\\\\n",
       "\t FALSE & FALSE & FALSE & FALSE & FALSE & FALSE & FALSE & FALSE & FALSE & FALSE & FALSE & FALSE & FALSE & FALSE\\\\\n",
       "\t FALSE & FALSE & FALSE & FALSE & FALSE & FALSE & FALSE & FALSE & FALSE & FALSE & FALSE & FALSE & FALSE & FALSE\\\\\n",
       "\t FALSE & FALSE & FALSE & FALSE & FALSE & FALSE & FALSE & FALSE & FALSE & FALSE & FALSE & FALSE & FALSE & FALSE\\\\\n",
       "\t FALSE & FALSE & FALSE & FALSE & FALSE & FALSE & FALSE & FALSE & FALSE & FALSE & FALSE & FALSE & FALSE & FALSE\\\\\n",
       "\t FALSE & FALSE & FALSE & FALSE & FALSE & FALSE & FALSE & FALSE & FALSE & FALSE & FALSE & FALSE & FALSE & FALSE\\\\\n",
       "\t FALSE & FALSE & FALSE & FALSE & FALSE & FALSE & FALSE & FALSE & FALSE & FALSE & FALSE & FALSE & FALSE & FALSE\\\\\n",
       "\t FALSE & FALSE & FALSE & FALSE & FALSE & FALSE & FALSE & FALSE & FALSE & FALSE & FALSE & FALSE & FALSE & FALSE\\\\\n",
       "\t FALSE & FALSE & FALSE & FALSE & FALSE & FALSE & FALSE & FALSE & FALSE & FALSE & FALSE & FALSE & FALSE & FALSE\\\\\n",
       "\t FALSE & FALSE & FALSE & FALSE & FALSE & FALSE & FALSE & FALSE & FALSE & FALSE & FALSE & FALSE & FALSE & FALSE\\\\\n",
       "\t FALSE & FALSE & FALSE & FALSE & FALSE & FALSE & FALSE & FALSE & FALSE & FALSE & FALSE & FALSE & FALSE & FALSE\\\\\n",
       "\t FALSE & FALSE & FALSE & FALSE & FALSE & FALSE & FALSE & FALSE & FALSE & FALSE & FALSE & FALSE & FALSE & FALSE\\\\\n",
       "\t FALSE & FALSE & FALSE & FALSE & FALSE & FALSE & FALSE & FALSE & FALSE & FALSE & FALSE & FALSE & FALSE & FALSE\\\\\n",
       "\t FALSE & FALSE & FALSE & FALSE & FALSE & FALSE & FALSE & FALSE & FALSE & FALSE & FALSE & FALSE & FALSE & FALSE\\\\\n",
       "\t FALSE & FALSE & FALSE & FALSE & FALSE & FALSE & FALSE & FALSE & FALSE & FALSE & FALSE & FALSE & FALSE & FALSE\\\\\n",
       "\t FALSE & FALSE & FALSE & FALSE & FALSE & FALSE & FALSE & FALSE & FALSE & FALSE & FALSE & FALSE & FALSE & FALSE\\\\\n",
       "\t FALSE & FALSE & FALSE & FALSE & FALSE & FALSE & FALSE & FALSE & FALSE & FALSE & FALSE & FALSE & FALSE & FALSE\\\\\n",
       "\t FALSE & FALSE & FALSE & FALSE & FALSE & FALSE & FALSE & FALSE & FALSE & FALSE & FALSE & FALSE & FALSE & FALSE\\\\\n",
       "\t FALSE & FALSE & FALSE & FALSE & FALSE & FALSE & FALSE & FALSE & FALSE & FALSE & FALSE & FALSE & FALSE & FALSE\\\\\n",
       "\\end{tabular}\n"
      ],
      "text/markdown": [
       "\n",
       "| ID | Age | Experience | Income | ZIPCode | Family | CCAvg | Education | Mortgage | Personal_Loan | Securities_Account | CD_Account | Online | CreditCard |\n",
       "|---|---|---|---|---|---|---|---|---|---|---|---|---|---|\n",
       "| FALSE | FALSE | FALSE | FALSE | FALSE | FALSE | FALSE | FALSE | FALSE | FALSE | FALSE | FALSE | FALSE | FALSE |\n",
       "| FALSE | FALSE | FALSE | FALSE | FALSE | FALSE | FALSE | FALSE | FALSE | FALSE | FALSE | FALSE | FALSE | FALSE |\n",
       "| FALSE | FALSE | FALSE | FALSE | FALSE | FALSE | FALSE | FALSE | FALSE | FALSE | FALSE | FALSE | FALSE | FALSE |\n",
       "| FALSE | FALSE | FALSE | FALSE | FALSE | FALSE | FALSE | FALSE | FALSE | FALSE | FALSE | FALSE | FALSE | FALSE |\n",
       "| FALSE | FALSE | FALSE | FALSE | FALSE | FALSE | FALSE | FALSE | FALSE | FALSE | FALSE | FALSE | FALSE | FALSE |\n",
       "| FALSE | FALSE | FALSE | FALSE | FALSE | FALSE | FALSE | FALSE | FALSE | FALSE | FALSE | FALSE | FALSE | FALSE |\n",
       "| FALSE | FALSE | FALSE | FALSE | FALSE | FALSE | FALSE | FALSE | FALSE | FALSE | FALSE | FALSE | FALSE | FALSE |\n",
       "| FALSE | FALSE | FALSE | FALSE | FALSE | FALSE | FALSE | FALSE | FALSE | FALSE | FALSE | FALSE | FALSE | FALSE |\n",
       "| FALSE | FALSE | FALSE | FALSE | FALSE | FALSE | FALSE | FALSE | FALSE | FALSE | FALSE | FALSE | FALSE | FALSE |\n",
       "| FALSE | FALSE | FALSE | FALSE | FALSE | FALSE | FALSE | FALSE | FALSE | FALSE | FALSE | FALSE | FALSE | FALSE |\n",
       "| FALSE | FALSE | FALSE | FALSE | FALSE | FALSE | FALSE | FALSE | FALSE | FALSE | FALSE | FALSE | FALSE | FALSE |\n",
       "| FALSE | FALSE | FALSE | FALSE | FALSE | FALSE | FALSE | FALSE | FALSE | FALSE | FALSE | FALSE | FALSE | FALSE |\n",
       "| FALSE | FALSE | FALSE | FALSE | FALSE | FALSE | FALSE | FALSE | FALSE | FALSE | FALSE | FALSE | FALSE | FALSE |\n",
       "| FALSE | FALSE | FALSE | FALSE | FALSE | FALSE | FALSE | FALSE | FALSE | FALSE | FALSE | FALSE | FALSE | FALSE |\n",
       "| FALSE | FALSE | FALSE | FALSE | FALSE | FALSE | FALSE | FALSE | FALSE | FALSE | FALSE | FALSE | FALSE | FALSE |\n",
       "| FALSE | FALSE | FALSE | FALSE | FALSE | FALSE | FALSE | FALSE | FALSE | FALSE | FALSE | FALSE | FALSE | FALSE |\n",
       "| FALSE | FALSE | FALSE | FALSE | FALSE | FALSE | FALSE | FALSE | FALSE | FALSE | FALSE | FALSE | FALSE | FALSE |\n",
       "| FALSE | FALSE | FALSE | FALSE | FALSE | FALSE | FALSE | FALSE | FALSE | FALSE | FALSE | FALSE | FALSE | FALSE |\n",
       "| FALSE | FALSE | FALSE | FALSE | FALSE | FALSE | FALSE | FALSE | FALSE | FALSE | FALSE | FALSE | FALSE | FALSE |\n",
       "| FALSE | FALSE | FALSE | FALSE | FALSE | FALSE | FALSE | FALSE | FALSE | FALSE | FALSE | FALSE | FALSE | FALSE |\n",
       "| FALSE | FALSE | FALSE | FALSE | FALSE | FALSE | FALSE | FALSE | FALSE | FALSE | FALSE | FALSE | FALSE | FALSE |\n",
       "| FALSE | FALSE | FALSE | FALSE | FALSE | FALSE | FALSE | FALSE | FALSE | FALSE | FALSE | FALSE | FALSE | FALSE |\n",
       "| FALSE | FALSE | FALSE | FALSE | FALSE | FALSE | FALSE | FALSE | FALSE | FALSE | FALSE | FALSE | FALSE | FALSE |\n",
       "| FALSE | FALSE | FALSE | FALSE | FALSE | FALSE | FALSE | FALSE | FALSE | FALSE | FALSE | FALSE | FALSE | FALSE |\n",
       "| FALSE | FALSE | FALSE | FALSE | FALSE | FALSE | FALSE | FALSE | FALSE | FALSE | FALSE | FALSE | FALSE | FALSE |\n",
       "| FALSE | FALSE | FALSE | FALSE | FALSE | FALSE | FALSE | FALSE | FALSE | FALSE | FALSE | FALSE | FALSE | FALSE |\n",
       "| FALSE | FALSE | FALSE | FALSE | FALSE | FALSE | FALSE | FALSE | FALSE | FALSE | FALSE | FALSE | FALSE | FALSE |\n",
       "| FALSE | FALSE | FALSE | FALSE | FALSE | FALSE | FALSE | FALSE | FALSE | FALSE | FALSE | FALSE | FALSE | FALSE |\n",
       "| FALSE | FALSE | FALSE | FALSE | FALSE | FALSE | FALSE | FALSE | FALSE | FALSE | FALSE | FALSE | FALSE | FALSE |\n",
       "| FALSE | FALSE | FALSE | FALSE | FALSE | FALSE | FALSE | FALSE | FALSE | FALSE | FALSE | FALSE | FALSE | FALSE |\n",
       "| ... | ... | ... | ... | ... | ... | ... | ... | ... | ... | ... | ... | ... | ... |\n",
       "| FALSE | FALSE | FALSE | FALSE | FALSE | FALSE | FALSE | FALSE | FALSE | FALSE | FALSE | FALSE | FALSE | FALSE |\n",
       "| FALSE | FALSE | FALSE | FALSE | FALSE | FALSE | FALSE | FALSE | FALSE | FALSE | FALSE | FALSE | FALSE | FALSE |\n",
       "| FALSE | FALSE | FALSE | FALSE | FALSE | FALSE | FALSE | FALSE | FALSE | FALSE | FALSE | FALSE | FALSE | FALSE |\n",
       "| FALSE | FALSE | FALSE | FALSE | FALSE | FALSE | FALSE | FALSE | FALSE | FALSE | FALSE | FALSE | FALSE | FALSE |\n",
       "| FALSE | FALSE | FALSE | FALSE | FALSE | FALSE | FALSE | FALSE | FALSE | FALSE | FALSE | FALSE | FALSE | FALSE |\n",
       "| FALSE | FALSE | FALSE | FALSE | FALSE | FALSE | FALSE | FALSE | FALSE | FALSE | FALSE | FALSE | FALSE | FALSE |\n",
       "| FALSE | FALSE | FALSE | FALSE | FALSE | FALSE | FALSE | FALSE | FALSE | FALSE | FALSE | FALSE | FALSE | FALSE |\n",
       "| FALSE | FALSE | FALSE | FALSE | FALSE | FALSE | FALSE | FALSE | FALSE | FALSE | FALSE | FALSE | FALSE | FALSE |\n",
       "| FALSE | FALSE | FALSE | FALSE | FALSE | FALSE | FALSE | FALSE | FALSE | FALSE | FALSE | FALSE | FALSE | FALSE |\n",
       "| FALSE | FALSE | FALSE | FALSE | FALSE | FALSE | FALSE | FALSE | FALSE | FALSE | FALSE | FALSE | FALSE | FALSE |\n",
       "| FALSE | FALSE | FALSE | FALSE | FALSE | FALSE | FALSE | FALSE | FALSE | FALSE | FALSE | FALSE | FALSE | FALSE |\n",
       "| FALSE | FALSE | FALSE | FALSE | FALSE | FALSE | FALSE | FALSE | FALSE | FALSE | FALSE | FALSE | FALSE | FALSE |\n",
       "| FALSE | FALSE | FALSE | FALSE | FALSE | FALSE | FALSE | FALSE | FALSE | FALSE | FALSE | FALSE | FALSE | FALSE |\n",
       "| FALSE | FALSE | FALSE | FALSE | FALSE | FALSE | FALSE | FALSE | FALSE | FALSE | FALSE | FALSE | FALSE | FALSE |\n",
       "| FALSE | FALSE | FALSE | FALSE | FALSE | FALSE | FALSE | FALSE | FALSE | FALSE | FALSE | FALSE | FALSE | FALSE |\n",
       "| FALSE | FALSE | FALSE | FALSE | FALSE | FALSE | FALSE | FALSE | FALSE | FALSE | FALSE | FALSE | FALSE | FALSE |\n",
       "| FALSE | FALSE | FALSE | FALSE | FALSE | FALSE | FALSE | FALSE | FALSE | FALSE | FALSE | FALSE | FALSE | FALSE |\n",
       "| FALSE | FALSE | FALSE | FALSE | FALSE | FALSE | FALSE | FALSE | FALSE | FALSE | FALSE | FALSE | FALSE | FALSE |\n",
       "| FALSE | FALSE | FALSE | FALSE | FALSE | FALSE | FALSE | FALSE | FALSE | FALSE | FALSE | FALSE | FALSE | FALSE |\n",
       "| FALSE | FALSE | FALSE | FALSE | FALSE | FALSE | FALSE | FALSE | FALSE | FALSE | FALSE | FALSE | FALSE | FALSE |\n",
       "| FALSE | FALSE | FALSE | FALSE | FALSE | FALSE | FALSE | FALSE | FALSE | FALSE | FALSE | FALSE | FALSE | FALSE |\n",
       "| FALSE | FALSE | FALSE | FALSE | FALSE | FALSE | FALSE | FALSE | FALSE | FALSE | FALSE | FALSE | FALSE | FALSE |\n",
       "| FALSE | FALSE | FALSE | FALSE | FALSE | FALSE | FALSE | FALSE | FALSE | FALSE | FALSE | FALSE | FALSE | FALSE |\n",
       "| FALSE | FALSE | FALSE | FALSE | FALSE | FALSE | FALSE | FALSE | FALSE | FALSE | FALSE | FALSE | FALSE | FALSE |\n",
       "| FALSE | FALSE | FALSE | FALSE | FALSE | FALSE | FALSE | FALSE | FALSE | FALSE | FALSE | FALSE | FALSE | FALSE |\n",
       "| FALSE | FALSE | FALSE | FALSE | FALSE | FALSE | FALSE | FALSE | FALSE | FALSE | FALSE | FALSE | FALSE | FALSE |\n",
       "| FALSE | FALSE | FALSE | FALSE | FALSE | FALSE | FALSE | FALSE | FALSE | FALSE | FALSE | FALSE | FALSE | FALSE |\n",
       "| FALSE | FALSE | FALSE | FALSE | FALSE | FALSE | FALSE | FALSE | FALSE | FALSE | FALSE | FALSE | FALSE | FALSE |\n",
       "| FALSE | FALSE | FALSE | FALSE | FALSE | FALSE | FALSE | FALSE | FALSE | FALSE | FALSE | FALSE | FALSE | FALSE |\n",
       "| FALSE | FALSE | FALSE | FALSE | FALSE | FALSE | FALSE | FALSE | FALSE | FALSE | FALSE | FALSE | FALSE | FALSE |\n",
       "\n"
      ],
      "text/plain": [
       "     ID    Age   Experience Income ZIPCode Family CCAvg Education Mortgage\n",
       "1    FALSE FALSE FALSE      FALSE  FALSE   FALSE  FALSE FALSE     FALSE   \n",
       "2    FALSE FALSE FALSE      FALSE  FALSE   FALSE  FALSE FALSE     FALSE   \n",
       "3    FALSE FALSE FALSE      FALSE  FALSE   FALSE  FALSE FALSE     FALSE   \n",
       "4    FALSE FALSE FALSE      FALSE  FALSE   FALSE  FALSE FALSE     FALSE   \n",
       "5    FALSE FALSE FALSE      FALSE  FALSE   FALSE  FALSE FALSE     FALSE   \n",
       "6    FALSE FALSE FALSE      FALSE  FALSE   FALSE  FALSE FALSE     FALSE   \n",
       "7    FALSE FALSE FALSE      FALSE  FALSE   FALSE  FALSE FALSE     FALSE   \n",
       "8    FALSE FALSE FALSE      FALSE  FALSE   FALSE  FALSE FALSE     FALSE   \n",
       "9    FALSE FALSE FALSE      FALSE  FALSE   FALSE  FALSE FALSE     FALSE   \n",
       "10   FALSE FALSE FALSE      FALSE  FALSE   FALSE  FALSE FALSE     FALSE   \n",
       "11   FALSE FALSE FALSE      FALSE  FALSE   FALSE  FALSE FALSE     FALSE   \n",
       "12   FALSE FALSE FALSE      FALSE  FALSE   FALSE  FALSE FALSE     FALSE   \n",
       "13   FALSE FALSE FALSE      FALSE  FALSE   FALSE  FALSE FALSE     FALSE   \n",
       "14   FALSE FALSE FALSE      FALSE  FALSE   FALSE  FALSE FALSE     FALSE   \n",
       "15   FALSE FALSE FALSE      FALSE  FALSE   FALSE  FALSE FALSE     FALSE   \n",
       "16   FALSE FALSE FALSE      FALSE  FALSE   FALSE  FALSE FALSE     FALSE   \n",
       "17   FALSE FALSE FALSE      FALSE  FALSE   FALSE  FALSE FALSE     FALSE   \n",
       "18   FALSE FALSE FALSE      FALSE  FALSE   FALSE  FALSE FALSE     FALSE   \n",
       "19   FALSE FALSE FALSE      FALSE  FALSE   FALSE  FALSE FALSE     FALSE   \n",
       "20   FALSE FALSE FALSE      FALSE  FALSE   FALSE  FALSE FALSE     FALSE   \n",
       "21   FALSE FALSE FALSE      FALSE  FALSE   FALSE  FALSE FALSE     FALSE   \n",
       "22   FALSE FALSE FALSE      FALSE  FALSE   FALSE  FALSE FALSE     FALSE   \n",
       "23   FALSE FALSE FALSE      FALSE  FALSE   FALSE  FALSE FALSE     FALSE   \n",
       "24   FALSE FALSE FALSE      FALSE  FALSE   FALSE  FALSE FALSE     FALSE   \n",
       "25   FALSE FALSE FALSE      FALSE  FALSE   FALSE  FALSE FALSE     FALSE   \n",
       "26   FALSE FALSE FALSE      FALSE  FALSE   FALSE  FALSE FALSE     FALSE   \n",
       "27   FALSE FALSE FALSE      FALSE  FALSE   FALSE  FALSE FALSE     FALSE   \n",
       "28   FALSE FALSE FALSE      FALSE  FALSE   FALSE  FALSE FALSE     FALSE   \n",
       "29   FALSE FALSE FALSE      FALSE  FALSE   FALSE  FALSE FALSE     FALSE   \n",
       "30   FALSE FALSE FALSE      FALSE  FALSE   FALSE  FALSE FALSE     FALSE   \n",
       "...  ...   ...   ...        ...    ...     ...    ...   ...       ...     \n",
       "4971 FALSE FALSE FALSE      FALSE  FALSE   FALSE  FALSE FALSE     FALSE   \n",
       "4972 FALSE FALSE FALSE      FALSE  FALSE   FALSE  FALSE FALSE     FALSE   \n",
       "4973 FALSE FALSE FALSE      FALSE  FALSE   FALSE  FALSE FALSE     FALSE   \n",
       "4974 FALSE FALSE FALSE      FALSE  FALSE   FALSE  FALSE FALSE     FALSE   \n",
       "4975 FALSE FALSE FALSE      FALSE  FALSE   FALSE  FALSE FALSE     FALSE   \n",
       "4976 FALSE FALSE FALSE      FALSE  FALSE   FALSE  FALSE FALSE     FALSE   \n",
       "4977 FALSE FALSE FALSE      FALSE  FALSE   FALSE  FALSE FALSE     FALSE   \n",
       "4978 FALSE FALSE FALSE      FALSE  FALSE   FALSE  FALSE FALSE     FALSE   \n",
       "4979 FALSE FALSE FALSE      FALSE  FALSE   FALSE  FALSE FALSE     FALSE   \n",
       "4980 FALSE FALSE FALSE      FALSE  FALSE   FALSE  FALSE FALSE     FALSE   \n",
       "4981 FALSE FALSE FALSE      FALSE  FALSE   FALSE  FALSE FALSE     FALSE   \n",
       "4982 FALSE FALSE FALSE      FALSE  FALSE   FALSE  FALSE FALSE     FALSE   \n",
       "4983 FALSE FALSE FALSE      FALSE  FALSE   FALSE  FALSE FALSE     FALSE   \n",
       "4984 FALSE FALSE FALSE      FALSE  FALSE   FALSE  FALSE FALSE     FALSE   \n",
       "4985 FALSE FALSE FALSE      FALSE  FALSE   FALSE  FALSE FALSE     FALSE   \n",
       "4986 FALSE FALSE FALSE      FALSE  FALSE   FALSE  FALSE FALSE     FALSE   \n",
       "4987 FALSE FALSE FALSE      FALSE  FALSE   FALSE  FALSE FALSE     FALSE   \n",
       "4988 FALSE FALSE FALSE      FALSE  FALSE   FALSE  FALSE FALSE     FALSE   \n",
       "4989 FALSE FALSE FALSE      FALSE  FALSE   FALSE  FALSE FALSE     FALSE   \n",
       "4990 FALSE FALSE FALSE      FALSE  FALSE   FALSE  FALSE FALSE     FALSE   \n",
       "4991 FALSE FALSE FALSE      FALSE  FALSE   FALSE  FALSE FALSE     FALSE   \n",
       "4992 FALSE FALSE FALSE      FALSE  FALSE   FALSE  FALSE FALSE     FALSE   \n",
       "4993 FALSE FALSE FALSE      FALSE  FALSE   FALSE  FALSE FALSE     FALSE   \n",
       "4994 FALSE FALSE FALSE      FALSE  FALSE   FALSE  FALSE FALSE     FALSE   \n",
       "4995 FALSE FALSE FALSE      FALSE  FALSE   FALSE  FALSE FALSE     FALSE   \n",
       "4996 FALSE FALSE FALSE      FALSE  FALSE   FALSE  FALSE FALSE     FALSE   \n",
       "4997 FALSE FALSE FALSE      FALSE  FALSE   FALSE  FALSE FALSE     FALSE   \n",
       "4998 FALSE FALSE FALSE      FALSE  FALSE   FALSE  FALSE FALSE     FALSE   \n",
       "4999 FALSE FALSE FALSE      FALSE  FALSE   FALSE  FALSE FALSE     FALSE   \n",
       "5000 FALSE FALSE FALSE      FALSE  FALSE   FALSE  FALSE FALSE     FALSE   \n",
       "     Personal_Loan Securities_Account CD_Account Online CreditCard\n",
       "1    FALSE         FALSE              FALSE      FALSE  FALSE     \n",
       "2    FALSE         FALSE              FALSE      FALSE  FALSE     \n",
       "3    FALSE         FALSE              FALSE      FALSE  FALSE     \n",
       "4    FALSE         FALSE              FALSE      FALSE  FALSE     \n",
       "5    FALSE         FALSE              FALSE      FALSE  FALSE     \n",
       "6    FALSE         FALSE              FALSE      FALSE  FALSE     \n",
       "7    FALSE         FALSE              FALSE      FALSE  FALSE     \n",
       "8    FALSE         FALSE              FALSE      FALSE  FALSE     \n",
       "9    FALSE         FALSE              FALSE      FALSE  FALSE     \n",
       "10   FALSE         FALSE              FALSE      FALSE  FALSE     \n",
       "11   FALSE         FALSE              FALSE      FALSE  FALSE     \n",
       "12   FALSE         FALSE              FALSE      FALSE  FALSE     \n",
       "13   FALSE         FALSE              FALSE      FALSE  FALSE     \n",
       "14   FALSE         FALSE              FALSE      FALSE  FALSE     \n",
       "15   FALSE         FALSE              FALSE      FALSE  FALSE     \n",
       "16   FALSE         FALSE              FALSE      FALSE  FALSE     \n",
       "17   FALSE         FALSE              FALSE      FALSE  FALSE     \n",
       "18   FALSE         FALSE              FALSE      FALSE  FALSE     \n",
       "19   FALSE         FALSE              FALSE      FALSE  FALSE     \n",
       "20   FALSE         FALSE              FALSE      FALSE  FALSE     \n",
       "21   FALSE         FALSE              FALSE      FALSE  FALSE     \n",
       "22   FALSE         FALSE              FALSE      FALSE  FALSE     \n",
       "23   FALSE         FALSE              FALSE      FALSE  FALSE     \n",
       "24   FALSE         FALSE              FALSE      FALSE  FALSE     \n",
       "25   FALSE         FALSE              FALSE      FALSE  FALSE     \n",
       "26   FALSE         FALSE              FALSE      FALSE  FALSE     \n",
       "27   FALSE         FALSE              FALSE      FALSE  FALSE     \n",
       "28   FALSE         FALSE              FALSE      FALSE  FALSE     \n",
       "29   FALSE         FALSE              FALSE      FALSE  FALSE     \n",
       "30   FALSE         FALSE              FALSE      FALSE  FALSE     \n",
       "...  ...           ...                ...        ...    ...       \n",
       "4971 FALSE         FALSE              FALSE      FALSE  FALSE     \n",
       "4972 FALSE         FALSE              FALSE      FALSE  FALSE     \n",
       "4973 FALSE         FALSE              FALSE      FALSE  FALSE     \n",
       "4974 FALSE         FALSE              FALSE      FALSE  FALSE     \n",
       "4975 FALSE         FALSE              FALSE      FALSE  FALSE     \n",
       "4976 FALSE         FALSE              FALSE      FALSE  FALSE     \n",
       "4977 FALSE         FALSE              FALSE      FALSE  FALSE     \n",
       "4978 FALSE         FALSE              FALSE      FALSE  FALSE     \n",
       "4979 FALSE         FALSE              FALSE      FALSE  FALSE     \n",
       "4980 FALSE         FALSE              FALSE      FALSE  FALSE     \n",
       "4981 FALSE         FALSE              FALSE      FALSE  FALSE     \n",
       "4982 FALSE         FALSE              FALSE      FALSE  FALSE     \n",
       "4983 FALSE         FALSE              FALSE      FALSE  FALSE     \n",
       "4984 FALSE         FALSE              FALSE      FALSE  FALSE     \n",
       "4985 FALSE         FALSE              FALSE      FALSE  FALSE     \n",
       "4986 FALSE         FALSE              FALSE      FALSE  FALSE     \n",
       "4987 FALSE         FALSE              FALSE      FALSE  FALSE     \n",
       "4988 FALSE         FALSE              FALSE      FALSE  FALSE     \n",
       "4989 FALSE         FALSE              FALSE      FALSE  FALSE     \n",
       "4990 FALSE         FALSE              FALSE      FALSE  FALSE     \n",
       "4991 FALSE         FALSE              FALSE      FALSE  FALSE     \n",
       "4992 FALSE         FALSE              FALSE      FALSE  FALSE     \n",
       "4993 FALSE         FALSE              FALSE      FALSE  FALSE     \n",
       "4994 FALSE         FALSE              FALSE      FALSE  FALSE     \n",
       "4995 FALSE         FALSE              FALSE      FALSE  FALSE     \n",
       "4996 FALSE         FALSE              FALSE      FALSE  FALSE     \n",
       "4997 FALSE         FALSE              FALSE      FALSE  FALSE     \n",
       "4998 FALSE         FALSE              FALSE      FALSE  FALSE     \n",
       "4999 FALSE         FALSE              FALSE      FALSE  FALSE     \n",
       "5000 FALSE         FALSE              FALSE      FALSE  FALSE     "
      ]
     },
     "metadata": {},
     "output_type": "display_data"
    }
   ],
   "source": [
    "is.na(knn_rese)"
   ]
  },
  {
   "cell_type": "code",
   "execution_count": 49,
   "metadata": {},
   "outputs": [
    {
     "data": {
      "text/html": [
       "<table>\n",
       "<thead><tr><th scope=col>ID</th><th scope=col>Age</th><th scope=col>Experience</th><th scope=col>Income</th><th scope=col>ZIPCode</th><th scope=col>Family</th><th scope=col>CCAvg</th><th scope=col>Education</th><th scope=col>Mortgage</th><th scope=col>Personal_Loan</th><th scope=col>Securities_Account</th><th scope=col>CD_Account</th><th scope=col>Online</th><th scope=col>CreditCard</th></tr></thead>\n",
       "<tbody>\n",
       "\t<tr><td>   1.000 </td><td>25       </td><td> 1.00000 </td><td> 49.00000</td><td>91107.00 </td><td>4        </td><td>1.6      </td><td>1        </td><td>  0      </td><td>0        </td><td>1        </td><td>0        </td><td>0        </td><td>0        </td></tr>\n",
       "\t<tr><td>   2.000 </td><td>45       </td><td>19.00000 </td><td> 54.13027</td><td>90089.00 </td><td>3        </td><td>1.5      </td><td>1        </td><td>  0      </td><td>0        </td><td>1        </td><td>0        </td><td>0        </td><td>0        </td></tr>\n",
       "\t<tr><td>   3.000 </td><td>39       </td><td>15.00000 </td><td> 11.00000</td><td>94720.00 </td><td>1        </td><td>1.0      </td><td>1        </td><td>  0      </td><td>0        </td><td>0        </td><td>0        </td><td>0        </td><td>0        </td></tr>\n",
       "\t<tr><td>2320.558 </td><td>35       </td><td> 9.00000 </td><td>100.00000</td><td>92383.99 </td><td>1        </td><td>2.7      </td><td>2        </td><td>  0      </td><td>0        </td><td>0        </td><td>0        </td><td>0        </td><td>0        </td></tr>\n",
       "\t<tr><td>   5.000 </td><td>35       </td><td>10.56222 </td><td> 45.00000</td><td>91330.00 </td><td>4        </td><td>1.0      </td><td>2        </td><td>  0      </td><td>0        </td><td>0        </td><td>0        </td><td>0        </td><td>1        </td></tr>\n",
       "\t<tr><td>2122.200 </td><td>37       </td><td>13.00000 </td><td> 29.00000</td><td>93758.31 </td><td>4        </td><td>0.4      </td><td>2        </td><td>155      </td><td>0        </td><td>0        </td><td>0        </td><td>1        </td><td>0        </td></tr>\n",
       "</tbody>\n",
       "</table>\n"
      ],
      "text/latex": [
       "\\begin{tabular}{r|llllllllllllll}\n",
       " ID & Age & Experience & Income & ZIPCode & Family & CCAvg & Education & Mortgage & Personal\\_Loan & Securities\\_Account & CD\\_Account & Online & CreditCard\\\\\n",
       "\\hline\n",
       "\t    1.000  & 25        &  1.00000  &  49.00000 & 91107.00  & 4         & 1.6       & 1         &   0       & 0         & 1         & 0         & 0         & 0        \\\\\n",
       "\t    2.000  & 45        & 19.00000  &  54.13027 & 90089.00  & 3         & 1.5       & 1         &   0       & 0         & 1         & 0         & 0         & 0        \\\\\n",
       "\t    3.000  & 39        & 15.00000  &  11.00000 & 94720.00  & 1         & 1.0       & 1         &   0       & 0         & 0         & 0         & 0         & 0        \\\\\n",
       "\t 2320.558  & 35        &  9.00000  & 100.00000 & 92383.99  & 1         & 2.7       & 2         &   0       & 0         & 0         & 0         & 0         & 0        \\\\\n",
       "\t    5.000  & 35        & 10.56222  &  45.00000 & 91330.00  & 4         & 1.0       & 2         &   0       & 0         & 0         & 0         & 0         & 1        \\\\\n",
       "\t 2122.200  & 37        & 13.00000  &  29.00000 & 93758.31  & 4         & 0.4       & 2         & 155       & 0         & 0         & 0         & 1         & 0        \\\\\n",
       "\\end{tabular}\n"
      ],
      "text/markdown": [
       "\n",
       "| ID | Age | Experience | Income | ZIPCode | Family | CCAvg | Education | Mortgage | Personal_Loan | Securities_Account | CD_Account | Online | CreditCard |\n",
       "|---|---|---|---|---|---|---|---|---|---|---|---|---|---|\n",
       "|    1.000  | 25        |  1.00000  |  49.00000 | 91107.00  | 4         | 1.6       | 1         |   0       | 0         | 1         | 0         | 0         | 0         |\n",
       "|    2.000  | 45        | 19.00000  |  54.13027 | 90089.00  | 3         | 1.5       | 1         |   0       | 0         | 1         | 0         | 0         | 0         |\n",
       "|    3.000  | 39        | 15.00000  |  11.00000 | 94720.00  | 1         | 1.0       | 1         |   0       | 0         | 0         | 0         | 0         | 0         |\n",
       "| 2320.558  | 35        |  9.00000  | 100.00000 | 92383.99  | 1         | 2.7       | 2         |   0       | 0         | 0         | 0         | 0         | 0         |\n",
       "|    5.000  | 35        | 10.56222  |  45.00000 | 91330.00  | 4         | 1.0       | 2         |   0       | 0         | 0         | 0         | 0         | 1         |\n",
       "| 2122.200  | 37        | 13.00000  |  29.00000 | 93758.31  | 4         | 0.4       | 2         | 155       | 0         | 0         | 0         | 1         | 0         |\n",
       "\n"
      ],
      "text/plain": [
       "  ID       Age Experience Income    ZIPCode  Family CCAvg Education Mortgage\n",
       "1    1.000 25   1.00000    49.00000 91107.00 4      1.6   1           0     \n",
       "2    2.000 45  19.00000    54.13027 90089.00 3      1.5   1           0     \n",
       "3    3.000 39  15.00000    11.00000 94720.00 1      1.0   1           0     \n",
       "4 2320.558 35   9.00000   100.00000 92383.99 1      2.7   2           0     \n",
       "5    5.000 35  10.56222    45.00000 91330.00 4      1.0   2           0     \n",
       "6 2122.200 37  13.00000    29.00000 93758.31 4      0.4   2         155     \n",
       "  Personal_Loan Securities_Account CD_Account Online CreditCard\n",
       "1 0             1                  0          0      0         \n",
       "2 0             1                  0          0      0         \n",
       "3 0             0                  0          0      0         \n",
       "4 0             0                  0          0      0         \n",
       "5 0             0                  0          0      1         \n",
       "6 0             0                  0          1      0         "
      ]
     },
     "metadata": {},
     "output_type": "display_data"
    }
   ],
   "source": [
    "head(knn_rese)"
   ]
  },
  {
   "cell_type": "code",
   "execution_count": null,
   "metadata": {},
   "outputs": [],
   "source": []
  }
 ],
 "metadata": {
  "kernelspec": {
   "display_name": "R",
   "language": "R",
   "name": "ir"
  },
  "language_info": {
   "codemirror_mode": "r",
   "file_extension": ".r",
   "mimetype": "text/x-r-source",
   "name": "R",
   "pygments_lexer": "r",
   "version": "3.6.1"
  }
 },
 "nbformat": 4,
 "nbformat_minor": 2
}
