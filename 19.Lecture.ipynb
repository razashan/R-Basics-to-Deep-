{
 "cells": [
  {
   "cell_type": "markdown",
   "metadata": {},
   "source": [
    "# Data Preprocessing"
   ]
  },
  {
   "cell_type": "markdown",
   "metadata": {},
   "source": [
    "Data preprocessing process is divided into the following steps:\n",
    "1. Importing the dataset.\n",
    "2. Completing missing data.\n",
    "3. Encoding categorical data.\n",
    "4. Splitting the dataset.\n",
    "5. Feature scaling."
   ]
  },
  {
   "cell_type": "code",
   "execution_count": 1,
   "metadata": {},
   "outputs": [],
   "source": [
    "dataset <- read.csv(\"Dataset/datasetComplete.csv\")"
   ]
  },
  {
   "cell_type": "code",
   "execution_count": 2,
   "metadata": {},
   "outputs": [
    {
     "data": {
      "text/html": [
       "<table>\n",
       "<thead><tr><th scope=col>Age</th><th scope=col>Income</th><th scope=col>Graduate</th></tr></thead>\n",
       "<tbody>\n",
       "\t<tr><td>24   </td><td>35000</td><td>no   </td></tr>\n",
       "\t<tr><td>26   </td><td>48000</td><td>no   </td></tr>\n",
       "\t<tr><td>35   </td><td>54000</td><td>yes  </td></tr>\n",
       "\t<tr><td>40   </td><td>61000</td><td>yes  </td></tr>\n",
       "\t<tr><td>50   </td><td>49600</td><td>no   </td></tr>\n",
       "\t<tr><td>35   </td><td>50000</td><td>yes  </td></tr>\n",
       "</tbody>\n",
       "</table>\n"
      ],
      "text/latex": [
       "\\begin{tabular}{r|lll}\n",
       " Age & Income & Graduate\\\\\n",
       "\\hline\n",
       "\t 24    & 35000 & no   \\\\\n",
       "\t 26    & 48000 & no   \\\\\n",
       "\t 35    & 54000 & yes  \\\\\n",
       "\t 40    & 61000 & yes  \\\\\n",
       "\t 50    & 49600 & no   \\\\\n",
       "\t 35    & 50000 & yes  \\\\\n",
       "\\end{tabular}\n"
      ],
      "text/markdown": [
       "\n",
       "| Age | Income | Graduate |\n",
       "|---|---|---|\n",
       "| 24    | 35000 | no    |\n",
       "| 26    | 48000 | no    |\n",
       "| 35    | 54000 | yes   |\n",
       "| 40    | 61000 | yes   |\n",
       "| 50    | 49600 | no    |\n",
       "| 35    | 50000 | yes   |\n",
       "\n"
      ],
      "text/plain": [
       "  Age Income Graduate\n",
       "1 24  35000  no      \n",
       "2 26  48000  no      \n",
       "3 35  54000  yes     \n",
       "4 40  61000  yes     \n",
       "5 50  49600  no      \n",
       "6 35  50000  yes     "
      ]
     },
     "metadata": {},
     "output_type": "display_data"
    }
   ],
   "source": [
    "head(dataset)"
   ]
  },
  {
   "cell_type": "markdown",
   "metadata": {},
   "source": [
    "### Completing Missing Data\n",
    "Completing missing data is optional. If your dataset is complete you obviously will not have to do this part. But sometimes you will find datasets with some missing cells, in that case, you could do 2 things,\n",
    "Remove a complete row (not recommended, you could delete crucial information).\n",
    "Complete that missing information with the mean of the column."
   ]
  },
  {
   "cell_type": "code",
   "execution_count": 4,
   "metadata": {},
   "outputs": [],
   "source": [
    "dataset$Age = ifelse(is.na(dataset$Age), ave(dataset$Age, FUN = function(x) mean(x, na.rm = TRUE )), dataset$Age)"
   ]
  },
  {
   "cell_type": "code",
   "execution_count": 5,
   "metadata": {},
   "outputs": [],
   "source": [
    "dataset$Income = ifelse(is.na(dataset$Income), ave(dataset$Income, FUN = function(x) mean(x, na.rm = TRUE )), dataset$Income)"
   ]
  },
  {
   "cell_type": "markdown",
   "metadata": {},
   "source": [
    "ave by default does a mean by group and is used to create a new column as it returns an output with the same length as input and the order remains the same"
   ]
  },
  {
   "cell_type": "code",
   "execution_count": 6,
   "metadata": {},
   "outputs": [
    {
     "data": {
      "text/html": [
       "<table>\n",
       "<thead><tr><th scope=col>Age</th><th scope=col>Income</th><th scope=col>Graduate</th></tr></thead>\n",
       "<tbody>\n",
       "\t<tr><td>24   </td><td>35000</td><td>no   </td></tr>\n",
       "\t<tr><td>26   </td><td>48000</td><td>no   </td></tr>\n",
       "\t<tr><td>35   </td><td>54000</td><td>yes  </td></tr>\n",
       "\t<tr><td>40   </td><td>61000</td><td>yes  </td></tr>\n",
       "\t<tr><td>50   </td><td>49600</td><td>no   </td></tr>\n",
       "\t<tr><td>35   </td><td>50000</td><td>yes  </td></tr>\n",
       "</tbody>\n",
       "</table>\n"
      ],
      "text/latex": [
       "\\begin{tabular}{r|lll}\n",
       " Age & Income & Graduate\\\\\n",
       "\\hline\n",
       "\t 24    & 35000 & no   \\\\\n",
       "\t 26    & 48000 & no   \\\\\n",
       "\t 35    & 54000 & yes  \\\\\n",
       "\t 40    & 61000 & yes  \\\\\n",
       "\t 50    & 49600 & no   \\\\\n",
       "\t 35    & 50000 & yes  \\\\\n",
       "\\end{tabular}\n"
      ],
      "text/markdown": [
       "\n",
       "| Age | Income | Graduate |\n",
       "|---|---|---|\n",
       "| 24    | 35000 | no    |\n",
       "| 26    | 48000 | no    |\n",
       "| 35    | 54000 | yes   |\n",
       "| 40    | 61000 | yes   |\n",
       "| 50    | 49600 | no    |\n",
       "| 35    | 50000 | yes   |\n",
       "\n"
      ],
      "text/plain": [
       "  Age Income Graduate\n",
       "1 24  35000  no      \n",
       "2 26  48000  no      \n",
       "3 35  54000  yes     \n",
       "4 40  61000  yes     \n",
       "5 50  49600  no      \n",
       "6 35  50000  yes     "
      ]
     },
     "metadata": {},
     "output_type": "display_data"
    }
   ],
   "source": [
    "head(dataset)"
   ]
  },
  {
   "cell_type": "markdown",
   "metadata": {},
   "source": [
    "### Encoding Categorical Data\n",
    "This step is also optional. Depending on your dataset, you might have from beginning on, a dataset with already encoded categorical data. In that case you won’t need to do this.\n",
    "In our case, we have the Graduate column, this column has 2 possible values, either yes or no. In order to be able to work with this data, we have to encode it, that means, changing the labels to numbers. Doing this in R is really simple, you just have to do the following,"
   ]
  },
  {
   "cell_type": "code",
   "execution_count": 7,
   "metadata": {},
   "outputs": [],
   "source": [
    "dataset$Graduate <- factor(dataset$Graduate,\n",
    "                          levels = c('yes','no'),\n",
    "                          labels = c(1,0))"
   ]
  },
  {
   "cell_type": "code",
   "execution_count": 8,
   "metadata": {},
   "outputs": [
    {
     "data": {
      "text/html": [
       "<table>\n",
       "<thead><tr><th scope=col>Age</th><th scope=col>Income</th><th scope=col>Graduate</th></tr></thead>\n",
       "<tbody>\n",
       "\t<tr><td>24   </td><td>35000</td><td>0    </td></tr>\n",
       "\t<tr><td>26   </td><td>48000</td><td>0    </td></tr>\n",
       "\t<tr><td>35   </td><td>54000</td><td>1    </td></tr>\n",
       "\t<tr><td>40   </td><td>61000</td><td>1    </td></tr>\n",
       "\t<tr><td>50   </td><td>49600</td><td>0    </td></tr>\n",
       "\t<tr><td>35   </td><td>50000</td><td>1    </td></tr>\n",
       "</tbody>\n",
       "</table>\n"
      ],
      "text/latex": [
       "\\begin{tabular}{r|lll}\n",
       " Age & Income & Graduate\\\\\n",
       "\\hline\n",
       "\t 24    & 35000 & 0    \\\\\n",
       "\t 26    & 48000 & 0    \\\\\n",
       "\t 35    & 54000 & 1    \\\\\n",
       "\t 40    & 61000 & 1    \\\\\n",
       "\t 50    & 49600 & 0    \\\\\n",
       "\t 35    & 50000 & 1    \\\\\n",
       "\\end{tabular}\n"
      ],
      "text/markdown": [
       "\n",
       "| Age | Income | Graduate |\n",
       "|---|---|---|\n",
       "| 24    | 35000 | 0     |\n",
       "| 26    | 48000 | 0     |\n",
       "| 35    | 54000 | 1     |\n",
       "| 40    | 61000 | 1     |\n",
       "| 50    | 49600 | 0     |\n",
       "| 35    | 50000 | 1     |\n",
       "\n"
      ],
      "text/plain": [
       "  Age Income Graduate\n",
       "1 24  35000  0       \n",
       "2 26  48000  0       \n",
       "3 35  54000  1       \n",
       "4 40  61000  1       \n",
       "5 50  49600  0       \n",
       "6 35  50000  1       "
      ]
     },
     "metadata": {},
     "output_type": "display_data"
    }
   ],
   "source": [
    "head(dataset)"
   ]
  },
  {
   "cell_type": "markdown",
   "metadata": {},
   "source": [
    "### Feature Scaling\n",
    "This last step is also not always necessary. In the dataset there are some values that are not on the same scale, for example the Age and the Income have a very different scale."
   ]
  },
  {
   "cell_type": "code",
   "execution_count": 18,
   "metadata": {},
   "outputs": [],
   "source": [
    "dataset[, 1:2] = scale(dataset[, 1:2])\n"
   ]
  },
  {
   "cell_type": "code",
   "execution_count": 19,
   "metadata": {},
   "outputs": [
    {
     "data": {
      "text/html": [
       "<table>\n",
       "<thead><tr><th scope=col>Age</th><th scope=col>Income</th><th scope=col>Graduate</th></tr></thead>\n",
       "<tbody>\n",
       "\t<tr><td>-1.1569337 </td><td>-1.70833278</td><td>0          </td></tr>\n",
       "\t<tr><td>-0.9465821 </td><td>-0.18721455</td><td>0          </td></tr>\n",
       "\t<tr><td> 0.0000000 </td><td> 0.51484001</td><td>1          </td></tr>\n",
       "\t<tr><td> 0.5258790 </td><td> 1.33390368</td><td>1          </td></tr>\n",
       "\t<tr><td> 1.5776369 </td><td> 0.00000000</td><td>0          </td></tr>\n",
       "\t<tr><td> 0.0000000 </td><td> 0.04680364</td><td>1          </td></tr>\n",
       "</tbody>\n",
       "</table>\n"
      ],
      "text/latex": [
       "\\begin{tabular}{r|lll}\n",
       " Age & Income & Graduate\\\\\n",
       "\\hline\n",
       "\t -1.1569337  & -1.70833278 & 0          \\\\\n",
       "\t -0.9465821  & -0.18721455 & 0          \\\\\n",
       "\t  0.0000000  &  0.51484001 & 1          \\\\\n",
       "\t  0.5258790  &  1.33390368 & 1          \\\\\n",
       "\t  1.5776369  &  0.00000000 & 0          \\\\\n",
       "\t  0.0000000  &  0.04680364 & 1          \\\\\n",
       "\\end{tabular}\n"
      ],
      "text/markdown": [
       "\n",
       "| Age | Income | Graduate |\n",
       "|---|---|---|\n",
       "| -1.1569337  | -1.70833278 | 0           |\n",
       "| -0.9465821  | -0.18721455 | 0           |\n",
       "|  0.0000000  |  0.51484001 | 1           |\n",
       "|  0.5258790  |  1.33390368 | 1           |\n",
       "|  1.5776369  |  0.00000000 | 0           |\n",
       "|  0.0000000  |  0.04680364 | 1           |\n",
       "\n"
      ],
      "text/plain": [
       "  Age        Income      Graduate\n",
       "1 -1.1569337 -1.70833278 0       \n",
       "2 -0.9465821 -0.18721455 0       \n",
       "3  0.0000000  0.51484001 1       \n",
       "4  0.5258790  1.33390368 1       \n",
       "5  1.5776369  0.00000000 0       \n",
       "6  0.0000000  0.04680364 1       "
      ]
     },
     "metadata": {},
     "output_type": "display_data"
    }
   ],
   "source": [
    "dataset"
   ]
  },
  {
   "cell_type": "markdown",
   "metadata": {},
   "source": [
    "# Aggregating and analyzing data "
   ]
  },
  {
   "cell_type": "code",
   "execution_count": 1,
   "metadata": {},
   "outputs": [
    {
     "name": "stderr",
     "output_type": "stream",
     "text": [
      "Warning message:\n",
      "\"package 'dplyr' was built under R version 3.6.3\"\n",
      "Attaching package: 'dplyr'\n",
      "\n",
      "The following objects are masked from 'package:stats':\n",
      "\n",
      "    filter, lag\n",
      "\n",
      "The following objects are masked from 'package:base':\n",
      "\n",
      "    intersect, setdiff, setequal, union\n",
      "\n"
     ]
    }
   ],
   "source": [
    "library(\"dplyr\")  "
   ]
  },
  {
   "cell_type": "code",
   "execution_count": 5,
   "metadata": {},
   "outputs": [],
   "source": [
    "dat <- read.csv(\"http://mgimond.github.io/ES218/Data/FAO_grains_NA.csv\", header=TRUE)"
   ]
  },
  {
   "cell_type": "code",
   "execution_count": 6,
   "metadata": {},
   "outputs": [
    {
     "data": {
      "text/html": [
       "<table>\n",
       "<thead><tr><th scope=col>Country</th><th scope=col>Crop</th><th scope=col>Information</th><th scope=col>Year</th><th scope=col>Value</th><th scope=col>Source</th></tr></thead>\n",
       "<tbody>\n",
       "\t<tr><td>Canada             </td><td>Barley             </td><td>Area harvested (Ha)</td><td>2012               </td><td>2060000.00         </td><td>Official data      </td></tr>\n",
       "\t<tr><td>Canada             </td><td>Barley             </td><td>Yield (Hg/Ha)      </td><td>2012               </td><td>  38894.66         </td><td>Calculated data    </td></tr>\n",
       "\t<tr><td>Canada             </td><td>Buckwheat          </td><td>Area harvested (Ha)</td><td>2012               </td><td>      0.00         </td><td>FAO estimate       </td></tr>\n",
       "\t<tr><td>Canada             </td><td>Canary seed        </td><td>Area harvested (Ha)</td><td>2012               </td><td> 101900.00         </td><td>Official data      </td></tr>\n",
       "\t<tr><td>Canada             </td><td>Canary seed        </td><td>Yield (Hg/Ha)      </td><td>2012               </td><td>  12161.92         </td><td>Calculated data    </td></tr>\n",
       "\t<tr><td>Canada             </td><td>Grain, mixed       </td><td>Area harvested (Ha)</td><td>2012               </td><td>  57900.00         </td><td>Official data      </td></tr>\n",
       "</tbody>\n",
       "</table>\n"
      ],
      "text/latex": [
       "\\begin{tabular}{r|llllll}\n",
       " Country & Crop & Information & Year & Value & Source\\\\\n",
       "\\hline\n",
       "\t Canada              & Barley              & Area harvested (Ha) & 2012                & 2060000.00          & Official data      \\\\\n",
       "\t Canada              & Barley              & Yield (Hg/Ha)       & 2012                &   38894.66          & Calculated data    \\\\\n",
       "\t Canada              & Buckwheat           & Area harvested (Ha) & 2012                &       0.00          & FAO estimate       \\\\\n",
       "\t Canada              & Canary seed         & Area harvested (Ha) & 2012                &  101900.00          & Official data      \\\\\n",
       "\t Canada              & Canary seed         & Yield (Hg/Ha)       & 2012                &   12161.92          & Calculated data    \\\\\n",
       "\t Canada              & Grain, mixed        & Area harvested (Ha) & 2012                &   57900.00          & Official data      \\\\\n",
       "\\end{tabular}\n"
      ],
      "text/markdown": [
       "\n",
       "| Country | Crop | Information | Year | Value | Source |\n",
       "|---|---|---|---|---|---|\n",
       "| Canada              | Barley              | Area harvested (Ha) | 2012                | 2060000.00          | Official data       |\n",
       "| Canada              | Barley              | Yield (Hg/Ha)       | 2012                |   38894.66          | Calculated data     |\n",
       "| Canada              | Buckwheat           | Area harvested (Ha) | 2012                |       0.00          | FAO estimate        |\n",
       "| Canada              | Canary seed         | Area harvested (Ha) | 2012                |  101900.00          | Official data       |\n",
       "| Canada              | Canary seed         | Yield (Hg/Ha)       | 2012                |   12161.92          | Calculated data     |\n",
       "| Canada              | Grain, mixed        | Area harvested (Ha) | 2012                |   57900.00          | Official data       |\n",
       "\n"
      ],
      "text/plain": [
       "  Country Crop         Information         Year Value      Source         \n",
       "1 Canada  Barley       Area harvested (Ha) 2012 2060000.00 Official data  \n",
       "2 Canada  Barley       Yield (Hg/Ha)       2012   38894.66 Calculated data\n",
       "3 Canada  Buckwheat    Area harvested (Ha) 2012       0.00 FAO estimate   \n",
       "4 Canada  Canary seed  Area harvested (Ha) 2012  101900.00 Official data  \n",
       "5 Canada  Canary seed  Yield (Hg/Ha)       2012   12161.92 Calculated data\n",
       "6 Canada  Grain, mixed Area harvested (Ha) 2012   57900.00 Official data  "
      ]
     },
     "metadata": {},
     "output_type": "display_data"
    }
   ],
   "source": [
    "head(dat)"
   ]
  },
  {
   "cell_type": "code",
   "execution_count": 7,
   "metadata": {},
   "outputs": [
    {
     "name": "stderr",
     "output_type": "stream",
     "text": [
      "`summarise()` ungrouping output (override with `.groups` argument)\n"
     ]
    },
    {
     "data": {
      "text/html": [
       "<table>\n",
       "<thead><tr><th scope=col>Country</th><th scope=col>yr_min</th><th scope=col>yr_max</th></tr></thead>\n",
       "<tbody>\n",
       "\t<tr><td>Canada                  </td><td>1961                    </td><td>2012                    </td></tr>\n",
       "\t<tr><td>United States of America</td><td>1961                    </td><td>2012                    </td></tr>\n",
       "</tbody>\n",
       "</table>\n"
      ],
      "text/latex": [
       "\\begin{tabular}{r|lll}\n",
       " Country & yr\\_min & yr\\_max\\\\\n",
       "\\hline\n",
       "\t Canada                   & 1961                     & 2012                    \\\\\n",
       "\t United States of America & 1961                     & 2012                    \\\\\n",
       "\\end{tabular}\n"
      ],
      "text/markdown": [
       "\n",
       "| Country | yr_min | yr_max |\n",
       "|---|---|---|\n",
       "| Canada                   | 1961                     | 2012                     |\n",
       "| United States of America | 1961                     | 2012                     |\n",
       "\n"
      ],
      "text/plain": [
       "  Country                  yr_min yr_max\n",
       "1 Canada                   1961   2012  \n",
       "2 United States of America 1961   2012  "
      ]
     },
     "metadata": {},
     "output_type": "display_data"
    }
   ],
   "source": [
    "dat %>%\n",
    "group_by(Country)%>%\n",
    "summarise(yr_min = min(Year),yr_max = max(Year))"
   ]
  },
  {
   "cell_type": "code",
   "execution_count": 8,
   "metadata": {},
   "outputs": [
    {
     "name": "stderr",
     "output_type": "stream",
     "text": [
      "`summarise()` ungrouping output (override with `.groups` argument)\n"
     ]
    },
    {
     "data": {
      "text/html": [
       "<table>\n",
       "<thead><tr><th scope=col>Crop</th><th scope=col>yr_min</th><th scope=col>yr_max</th></tr></thead>\n",
       "<tbody>\n",
       "\t<tr><td>Barley      </td><td>1961        </td><td>2012        </td></tr>\n",
       "\t<tr><td>Buckwheat   </td><td>1961        </td><td>2012        </td></tr>\n",
       "\t<tr><td>Canary seed </td><td>1980        </td><td>2012        </td></tr>\n",
       "\t<tr><td>Grain, mixed</td><td>1961        </td><td>2012        </td></tr>\n",
       "\t<tr><td>Maize       </td><td>1961        </td><td>2012        </td></tr>\n",
       "\t<tr><td>Millet      </td><td>1961        </td><td>2012        </td></tr>\n",
       "\t<tr><td>Oats        </td><td>1961        </td><td>2012        </td></tr>\n",
       "\t<tr><td>Popcorn     </td><td>1961        </td><td>1982        </td></tr>\n",
       "\t<tr><td>Rye         </td><td>1961        </td><td>2012        </td></tr>\n",
       "\t<tr><td>Sorghum     </td><td>1961        </td><td>2012        </td></tr>\n",
       "\t<tr><td>Triticale   </td><td>1989        </td><td>2012        </td></tr>\n",
       "</tbody>\n",
       "</table>\n"
      ],
      "text/latex": [
       "\\begin{tabular}{r|lll}\n",
       " Crop & yr\\_min & yr\\_max\\\\\n",
       "\\hline\n",
       "\t Barley       & 1961         & 2012        \\\\\n",
       "\t Buckwheat    & 1961         & 2012        \\\\\n",
       "\t Canary seed  & 1980         & 2012        \\\\\n",
       "\t Grain, mixed & 1961         & 2012        \\\\\n",
       "\t Maize        & 1961         & 2012        \\\\\n",
       "\t Millet       & 1961         & 2012        \\\\\n",
       "\t Oats         & 1961         & 2012        \\\\\n",
       "\t Popcorn      & 1961         & 1982        \\\\\n",
       "\t Rye          & 1961         & 2012        \\\\\n",
       "\t Sorghum      & 1961         & 2012        \\\\\n",
       "\t Triticale    & 1989         & 2012        \\\\\n",
       "\\end{tabular}\n"
      ],
      "text/markdown": [
       "\n",
       "| Crop | yr_min | yr_max |\n",
       "|---|---|---|\n",
       "| Barley       | 1961         | 2012         |\n",
       "| Buckwheat    | 1961         | 2012         |\n",
       "| Canary seed  | 1980         | 2012         |\n",
       "| Grain, mixed | 1961         | 2012         |\n",
       "| Maize        | 1961         | 2012         |\n",
       "| Millet       | 1961         | 2012         |\n",
       "| Oats         | 1961         | 2012         |\n",
       "| Popcorn      | 1961         | 1982         |\n",
       "| Rye          | 1961         | 2012         |\n",
       "| Sorghum      | 1961         | 2012         |\n",
       "| Triticale    | 1989         | 2012         |\n",
       "\n"
      ],
      "text/plain": [
       "   Crop         yr_min yr_max\n",
       "1  Barley       1961   2012  \n",
       "2  Buckwheat    1961   2012  \n",
       "3  Canary seed  1980   2012  \n",
       "4  Grain, mixed 1961   2012  \n",
       "5  Maize        1961   2012  \n",
       "6  Millet       1961   2012  \n",
       "7  Oats         1961   2012  \n",
       "8  Popcorn      1961   1982  \n",
       "9  Rye          1961   2012  \n",
       "10 Sorghum      1961   2012  \n",
       "11 Triticale    1989   2012  "
      ]
     },
     "metadata": {},
     "output_type": "display_data"
    }
   ],
   "source": [
    "dat %>%\n",
    "group_by(Crop)%>%\n",
    "summarise(yr_min = min(Year),yr_max = max(Year))"
   ]
  },
  {
   "cell_type": "markdown",
   "metadata": {},
   "source": [
    "### Count the number of records in each group"
   ]
  },
  {
   "cell_type": "code",
   "execution_count": 9,
   "metadata": {},
   "outputs": [
    {
     "data": {
      "text/html": [
       "<table>\n",
       "<thead><tr><th scope=col>Crop</th><th scope=col>n</th></tr></thead>\n",
       "<tbody>\n",
       "\t<tr><td>Barley   </td><td>6        </td></tr>\n",
       "\t<tr><td>Buckwheat</td><td>6        </td></tr>\n",
       "\t<tr><td>Maize    </td><td>6        </td></tr>\n",
       "\t<tr><td>Millet   </td><td>6        </td></tr>\n",
       "\t<tr><td>Oats     </td><td>6        </td></tr>\n",
       "\t<tr><td>Rye      </td><td>6        </td></tr>\n",
       "\t<tr><td>Sorghum  </td><td>6        </td></tr>\n",
       "</tbody>\n",
       "</table>\n"
      ],
      "text/latex": [
       "\\begin{tabular}{r|ll}\n",
       " Crop & n\\\\\n",
       "\\hline\n",
       "\t Barley    & 6        \\\\\n",
       "\t Buckwheat & 6        \\\\\n",
       "\t Maize     & 6        \\\\\n",
       "\t Millet    & 6        \\\\\n",
       "\t Oats      & 6        \\\\\n",
       "\t Rye       & 6        \\\\\n",
       "\t Sorghum   & 6        \\\\\n",
       "\\end{tabular}\n"
      ],
      "text/markdown": [
       "\n",
       "| Crop | n |\n",
       "|---|---|\n",
       "| Barley    | 6         |\n",
       "| Buckwheat | 6         |\n",
       "| Maize     | 6         |\n",
       "| Millet    | 6         |\n",
       "| Oats      | 6         |\n",
       "| Rye       | 6         |\n",
       "| Sorghum   | 6         |\n",
       "\n"
      ],
      "text/plain": [
       "  Crop      n\n",
       "1 Barley    6\n",
       "2 Buckwheat 6\n",
       "3 Maize     6\n",
       "4 Millet    6\n",
       "5 Oats      6\n",
       "6 Rye       6\n",
       "7 Sorghum   6"
      ]
     },
     "metadata": {},
     "output_type": "display_data"
    }
   ],
   "source": [
    "dat%>%\n",
    "filter(Information == \"Yield (Hg/Ha)\",\n",
    "      Year >=2005 & Year <=2010,\n",
    "      Country ==\"United States of America\")%>%\n",
    "group_by(Crop)%>%\n",
    "count()"
   ]
  },
  {
   "cell_type": "code",
   "execution_count": null,
   "metadata": {},
   "outputs": [],
   "source": []
  }
 ],
 "metadata": {
  "kernelspec": {
   "display_name": "R",
   "language": "R",
   "name": "ir"
  },
  "language_info": {
   "codemirror_mode": "r",
   "file_extension": ".r",
   "mimetype": "text/x-r-source",
   "name": "R",
   "pygments_lexer": "r",
   "version": "3.6.1"
  }
 },
 "nbformat": 4,
 "nbformat_minor": 2
}
