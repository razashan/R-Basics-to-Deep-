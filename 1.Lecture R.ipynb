{
 "cells": [
  {
   "cell_type": "markdown",
   "metadata": {},
   "source": [
    "# Naming Vectors"
   ]
  },
  {
   "cell_type": "code",
   "execution_count": 1,
   "metadata": {},
   "outputs": [],
   "source": [
    "list_data <- list(c(\"red\",\"green\",\"Blue\"),\n",
    "                  matrix(c(1,3,5,7,9,11),nrow=2),\n",
    "                  list(\"Python\",\"R\",\"Power Bi\"))"
   ]
  },
  {
   "cell_type": "code",
   "execution_count": 2,
   "metadata": {
    "scrolled": true
   },
   "outputs": [
    {
     "name": "stdout",
     "output_type": "stream",
     "text": [
      "[[1]]\n",
      "[1] \"red\"   \"green\" \"Blue\" \n",
      "\n",
      "[[2]]\n",
      "     [,1] [,2] [,3]\n",
      "[1,]    1    5    9\n",
      "[2,]    3    7   11\n",
      "\n",
      "[[3]]\n",
      "[[3]][[1]]\n",
      "[1] \"Python\"\n",
      "\n",
      "[[3]][[2]]\n",
      "[1] \"R\"\n",
      "\n",
      "[[3]][[3]]\n",
      "[1] \"Power Bi\"\n",
      "\n",
      "\n"
     ]
    }
   ],
   "source": [
    "print(list_data)"
   ]
  },
  {
   "cell_type": "code",
   "execution_count": 3,
   "metadata": {},
   "outputs": [
    {
     "name": "stdout",
     "output_type": "stream",
     "text": [
      "$Color\n",
      "[1] \"red\"   \"green\" \"Blue\" \n",
      "\n",
      "$`Odd Numbers`\n",
      "     [,1] [,2] [,3]\n",
      "[1,]    1    5    9\n",
      "[2,]    3    7   11\n",
      "\n",
      "$`Languages(s)`\n",
      "$`Languages(s)`[[1]]\n",
      "[1] \"Python\"\n",
      "\n",
      "$`Languages(s)`[[2]]\n",
      "[1] \"R\"\n",
      "\n",
      "$`Languages(s)`[[3]]\n",
      "[1] \"Power Bi\"\n",
      "\n",
      "\n"
     ]
    }
   ],
   "source": [
    "names(list_data) =c(\"Color\",\"Odd Numbers\",\"Languages(s)\")\n",
    "print(list_data)"
   ]
  },
  {
   "cell_type": "markdown",
   "metadata": {},
   "source": [
    "## FOr LOOP"
   ]
  },
  {
   "cell_type": "code",
   "execution_count": 1,
   "metadata": {},
   "outputs": [
    {
     "name": "stdout",
     "output_type": "stream",
     "text": [
      "[1] \"one run\"\n",
      "[1] \"one run\"\n",
      "[1] \"one run\"\n",
      "[1] \"one run\"\n"
     ]
    }
   ],
   "source": [
    "for (value in c(\"My\",\"first\",\"for\",\"loop\"))\n",
    "    {\n",
    "    print(\"one run\")\n",
    "}"
   ]
  },
  {
   "cell_type": "code",
   "execution_count": 2,
   "metadata": {},
   "outputs": [
    {
     "name": "stdout",
     "output_type": "stream",
     "text": [
      "[1] \"My\"\n",
      "[1] \"first\"\n",
      "[1] \"for\"\n",
      "[1] \"loop\"\n"
     ]
    }
   ],
   "source": [
    "for (value in c(\"My\",\"first\",\"for\",\"loop\"))\n",
    "    {\n",
    "    print(value)\n",
    "}"
   ]
  },
  {
   "cell_type": "markdown",
   "metadata": {},
   "source": [
    "### Write a program to find the first 10 natural numbers"
   ]
  },
  {
   "cell_type": "code",
   "execution_count": 1,
   "metadata": {},
   "outputs": [
    {
     "name": "stdout",
     "output_type": "stream",
     "text": [
      "[1] 1\n",
      "[1] 2\n",
      "[1] 3\n",
      "[1] 4\n",
      "[1] 5\n",
      "[1] 6\n",
      "[1] 7\n",
      "[1] 8\n",
      "[1] 9\n",
      "[1] 10\n"
     ]
    }
   ],
   "source": [
    "v <- c(1:10)\n",
    "for (i in v){\n",
    "    print(i)\n",
    "}"
   ]
  },
  {
   "cell_type": "markdown",
   "metadata": {},
   "source": [
    "### Write a program in  to display n terms of natural number and their sum"
   ]
  },
  {
   "cell_type": "code",
   "execution_count": 5,
   "metadata": {},
   "outputs": [
    {
     "name": "stdout",
     "output_type": "stream",
     "text": [
      "[1] 136\n"
     ]
    }
   ],
   "source": [
    "n <- 16\n",
    "sum = 0\n",
    "for (i in 1:n){\n",
    "    sum = sum + i ## 1 2 3 4\n",
    "    \n",
    "}\n",
    "print(sum)"
   ]
  },
  {
   "cell_type": "code",
   "execution_count": 10,
   "metadata": {},
   "outputs": [
    {
     "name": "stdout",
     "output_type": "stream",
     "text": [
      "Enter any number5\n",
      "[1] 15\n"
     ]
    }
   ],
   "source": [
    "n <- readline(prompt = \"Enter any number\")\n",
    "sum = 0\n",
    "for( i in 1:n)\n",
    "    {\n",
    "    sum = sum +i\n",
    "    \n",
    "}\n",
    "print(sum)"
   ]
  },
  {
   "cell_type": "code",
   "execution_count": 20,
   "metadata": {},
   "outputs": [
    {
     "name": "stdout",
     "output_type": "stream",
     "text": [
      "Enter the number9\n",
      "[1] 9\n",
      "[1] 18\n",
      "[1] 27\n",
      "[1] 36\n",
      "[1] 45\n",
      "[1] 54\n",
      "[1] 63\n",
      "[1] 72\n",
      "[1] 81\n",
      "[1] 90\n"
     ]
    }
   ],
   "source": [
    "n <- as.numeric(readline(prompt = \"Enter the number\"))\n",
    "\n",
    "\n",
    "for (i in 1:10){\n",
    "    print(n*i)\n",
    "}"
   ]
  },
  {
   "cell_type": "markdown",
   "metadata": {},
   "source": [
    "\n",
    "### Using next statement in For Loop"
   ]
  },
  {
   "cell_type": "code",
   "execution_count": 2,
   "metadata": {},
   "outputs": [
    {
     "name": "stdout",
     "output_type": "stream",
     "text": [
      "[1] 1\n",
      "[1] 2\n",
      "[1] 3\n",
      "[1] 4\n",
      "[1] 6\n",
      "[1] 7\n",
      "[1] 8\n",
      "[1] 9\n",
      "[1] 10\n"
     ]
    }
   ],
   "source": [
    "vc <- c(1:10)\n",
    "for (i in vc){\n",
    "    if (i ==5){\n",
    "        next\n",
    "    }\n",
    "    print(i)\n",
    "}"
   ]
  },
  {
   "cell_type": "code",
   "execution_count": 1,
   "metadata": {},
   "outputs": [
    {
     "name": "stdout",
     "output_type": "stream",
     "text": [
      "[1] 1\n",
      "[1] 2\n",
      "[1] 3\n",
      "[1] 4\n"
     ]
    }
   ],
   "source": [
    "g <- c(1:10)\n",
    "for (i in g){\n",
    "    if (i ==5){\n",
    "        break\n",
    "    }\n",
    "print(i)\n",
    "        }\n"
   ]
  },
  {
   "cell_type": "code",
   "execution_count": 5,
   "metadata": {},
   "outputs": [
    {
     "name": "stdout",
     "output_type": "stream",
     "text": [
      "[1] \"A\"\n",
      "[1] \"B\"\n",
      "[1] \"C\"\n",
      "[1] \"D\"\n",
      "[1] \"E\"\n",
      "[1] \"F\"\n",
      "[1] \"H\"\n",
      "[1] \"I\"\n",
      "[1] \"J\"\n",
      "[1] \"K\"\n",
      "[1] \"L\"\n",
      "[1] \"M\"\n",
      "[1] \"N\"\n",
      "[1] \"O\"\n"
     ]
    }
   ],
   "source": [
    "v <- LETTERS[1:15]\n",
    "for (i in v){\n",
    "    if (i == \"G\"){\n",
    "        next\n",
    "        }\n",
    "    print(i)\n",
    "}"
   ]
  },
  {
   "cell_type": "markdown",
   "metadata": {},
   "source": [
    "### Arithmetic Operators"
   ]
  },
  {
   "cell_type": "markdown",
   "metadata": {},
   "source": [
    "*  \"+\" ---> Addition,\n",
    "*  \"-\" ---> Subtraction,\n",
    "*  \"*\" ---> Multiplication, \n",
    "*  / ---> Divide the first vector with second,\n",
    "*  %% ---> Give the remainder of first vector with second,\n",
    "*  %/% ---> The result of division of first vector with second (quotient)\n",
    "*  ^ ---> The first vector raised to the exponent of second vector "
   ]
  },
  {
   "cell_type": "code",
   "execution_count": 6,
   "metadata": {},
   "outputs": [
    {
     "name": "stdout",
     "output_type": "stream",
     "text": [
      "[1] 10.0  8.5 10.0\n"
     ]
    }
   ],
   "source": [
    "v <- c( 2,5.5,6)\n",
    "t <- c(8, 3, 4)\n",
    "print(v+t)"
   ]
  },
  {
   "cell_type": "code",
   "execution_count": 8,
   "metadata": {},
   "outputs": [
    {
     "name": "stdout",
     "output_type": "stream",
     "text": [
      "[1] -6.0  2.5  2.0\n"
     ]
    }
   ],
   "source": [
    "v <- c( 2,5.5,6)\n",
    "t <- c(8, 3, 4)\n",
    "print(v-t)"
   ]
  },
  {
   "cell_type": "code",
   "execution_count": 9,
   "metadata": {},
   "outputs": [
    {
     "name": "stdout",
     "output_type": "stream",
     "text": [
      "[1] 16.0 16.5 24.0\n"
     ]
    }
   ],
   "source": [
    "v <- c( 2,5.5,6)\n",
    "t <- c(8, 3, 4)\n",
    "print(v*t)"
   ]
  },
  {
   "cell_type": "code",
   "execution_count": 10,
   "metadata": {},
   "outputs": [
    {
     "name": "stdout",
     "output_type": "stream",
     "text": [
      "[1] 0.250000 1.833333 1.500000\n"
     ]
    }
   ],
   "source": [
    "v <- c( 2,5.5,6)\n",
    "t <- c(8, 3, 4)\n",
    "print(v/t)"
   ]
  },
  {
   "cell_type": "code",
   "execution_count": 11,
   "metadata": {},
   "outputs": [
    {
     "name": "stdout",
     "output_type": "stream",
     "text": [
      "[1] 2.0 2.5 2.0\n"
     ]
    }
   ],
   "source": [
    "v <- c( 2,5.5,6)\n",
    "t <- c(8, 3, 4)\n",
    "print(v%%t)"
   ]
  },
  {
   "cell_type": "code",
   "execution_count": 12,
   "metadata": {},
   "outputs": [
    {
     "name": "stdout",
     "output_type": "stream",
     "text": [
      "[1] 0 1 1\n"
     ]
    }
   ],
   "source": [
    "v <- c( 2,5.5,6)\n",
    "t <- c(8, 3, 4)\n",
    "print(v%/%t)"
   ]
  },
  {
   "cell_type": "code",
   "execution_count": 13,
   "metadata": {},
   "outputs": [
    {
     "name": "stdout",
     "output_type": "stream",
     "text": [
      "[1]  256.000  166.375 1296.000\n"
     ]
    }
   ],
   "source": [
    "v <- c( 2,5.5,6)\n",
    "t <- c(8, 3, 4)\n",
    "print(v^t)"
   ]
  },
  {
   "cell_type": "markdown",
   "metadata": {},
   "source": [
    "### Relational Operators"
   ]
  },
  {
   "cell_type": "markdown",
   "metadata": {},
   "source": [
    "* \">\" ---> Checks if each element of the first vector is greater than the corresponding element of the second vector<br>\n",
    "* < ---> Checks if each element of the first vector is less than the corresponding element of the second vector.<br>\n",
    "* == ---> Checks if each element of the first vector is equal to the corresponding element of the second vector.<br>\n",
    "* <= ---> Checks if each element of the first vector is less than or equal to the corresponding element of the second vector.<br>\n",
    "* \">=\" --->Checks if each element of the first vector is greater than or equal to the corresponding element of the second vector.<br>\n",
    "* != ---> Checks if each element of the first vector is unequal to the corresponding element of the second vector."
   ]
  },
  {
   "cell_type": "code",
   "execution_count": 15,
   "metadata": {},
   "outputs": [
    {
     "name": "stdout",
     "output_type": "stream",
     "text": [
      "[1] FALSE  TRUE FALSE FALSE\n"
     ]
    }
   ],
   "source": [
    "v <- c(2,5.5,6,9)\n",
    "t <- c(8,2.5,14,9)\n",
    "print(v>t)"
   ]
  },
  {
   "cell_type": "code",
   "execution_count": 16,
   "metadata": {},
   "outputs": [
    {
     "name": "stdout",
     "output_type": "stream",
     "text": [
      "[1]  TRUE FALSE  TRUE FALSE\n"
     ]
    }
   ],
   "source": [
    "v <- c(2,5.5,6,9)\n",
    "t <- c(8,2.5,14,9)\n",
    "print(v < t)"
   ]
  },
  {
   "cell_type": "code",
   "execution_count": 17,
   "metadata": {},
   "outputs": [
    {
     "name": "stdout",
     "output_type": "stream",
     "text": [
      "[1] FALSE FALSE FALSE  TRUE\n"
     ]
    }
   ],
   "source": [
    "v <- c(2,5.5,6,9)\n",
    "t <- c(8,2.5,14,9)\n",
    "print(v == t)"
   ]
  },
  {
   "cell_type": "code",
   "execution_count": 18,
   "metadata": {},
   "outputs": [
    {
     "name": "stdout",
     "output_type": "stream",
     "text": [
      "[1]  TRUE FALSE  TRUE  TRUE\n"
     ]
    }
   ],
   "source": [
    "v <- c(2,5.5,6,9)\n",
    "t <- c(8,2.5,14,9)\n",
    "print(v<=t)"
   ]
  },
  {
   "cell_type": "code",
   "execution_count": 19,
   "metadata": {},
   "outputs": [
    {
     "name": "stdout",
     "output_type": "stream",
     "text": [
      "[1] FALSE  TRUE FALSE  TRUE\n"
     ]
    }
   ],
   "source": [
    "v <- c(2,5.5,6,9)\n",
    "t <- c(8,2.5,14,9)\n",
    "print(v>=t)"
   ]
  },
  {
   "cell_type": "code",
   "execution_count": 20,
   "metadata": {},
   "outputs": [
    {
     "name": "stdout",
     "output_type": "stream",
     "text": [
      "[1]  TRUE  TRUE  TRUE FALSE\n"
     ]
    }
   ],
   "source": [
    "v <- c(2,5.5,6,9)\n",
    "t <- c(8,2.5,14,9)\n",
    "print(v!=t)"
   ]
  },
  {
   "cell_type": "markdown",
   "metadata": {},
   "source": [
    "### Logical Operators"
   ]
  },
  {
   "cell_type": "markdown",
   "metadata": {},
   "source": [
    "* \"&\" --> It is called Element-wise Logical AND operator. It combines each element of the first vector with the corresponding element of the second vector and gives a output TRUE if both the elements are TRUE.<br>\n",
    "* \"|\" --> It is called Element-wise Logical OR operator. It combines each element of the first vector with the corresponding element of the second vector and gives a output TRUE if one the elements is TRUE.<br>\n",
    "* \"!\" --> It is called Logical NOT operator. Takes each element of the vector and gives the opposite logical value."
   ]
  },
  {
   "cell_type": "code",
   "execution_count": 21,
   "metadata": {},
   "outputs": [
    {
     "name": "stdout",
     "output_type": "stream",
     "text": [
      "[1]  TRUE  TRUE FALSE  TRUE\n"
     ]
    }
   ],
   "source": [
    "v <- c(3,1,TRUE,2+3i)\n",
    "t <- c(4,1,FALSE,2+3i)\n",
    "print(v&t)"
   ]
  },
  {
   "cell_type": "code",
   "execution_count": 23,
   "metadata": {},
   "outputs": [
    {
     "name": "stdout",
     "output_type": "stream",
     "text": [
      "[1] TRUE TRUE TRUE\n"
     ]
    }
   ],
   "source": [
    "v <- c(3,TRUE,2+2i)\n",
    "t <- c(4,FALSE,2+3i)\n",
    "print(v|t)"
   ]
  },
  {
   "cell_type": "code",
   "execution_count": 24,
   "metadata": {},
   "outputs": [
    {
     "name": "stdout",
     "output_type": "stream",
     "text": [
      "[1] FALSE  TRUE FALSE FALSE\n"
     ]
    }
   ],
   "source": [
    "v <- c(3,0,TRUE,2+2i)\n",
    "print(!v)"
   ]
  },
  {
   "cell_type": "markdown",
   "metadata": {},
   "source": [
    "* && --> Called Logical AND operator. Takes first element of both the vectors and gives the TRUE only if both are TRUE.<br>\n",
    "* || --> Called Logical OR operator. Takes first element of both the vectors and gives the TRUE if one of them is TRUE."
   ]
  },
  {
   "cell_type": "code",
   "execution_count": 25,
   "metadata": {},
   "outputs": [
    {
     "name": "stdout",
     "output_type": "stream",
     "text": [
      "[1] TRUE\n"
     ]
    }
   ],
   "source": [
    "v <- c(3,0,TRUE,2+2i)\n",
    "t <- c(1,3,TRUE,2+3i)\n",
    "print(v&&t)"
   ]
  },
  {
   "cell_type": "code",
   "execution_count": 26,
   "metadata": {},
   "outputs": [
    {
     "name": "stdout",
     "output_type": "stream",
     "text": [
      "[1] FALSE\n"
     ]
    }
   ],
   "source": [
    "v <- c(0,0,TRUE,2+2i)\n",
    "t <- c(0,3,TRUE,2+3i)\n",
    "print(v||t)"
   ]
  },
  {
   "cell_type": "markdown",
   "metadata": {},
   "source": [
    "### Assignment Operators"
   ]
  },
  {
   "cell_type": "markdown",
   "metadata": {},
   "source": [
    "* <−\n",
    "\n",
    "* or\n",
    "\n",
    "* =           '      '    Left Assignment\n",
    "\n",
    "* or\n",
    "\n",
    "* <<−"
   ]
  },
  {
   "cell_type": "code",
   "execution_count": 32,
   "metadata": {},
   "outputs": [
    {
     "name": "stdout",
     "output_type": "stream",
     "text": [
      "[1] 3+0i 1+0i 1+0i 2+3i\n",
      "[1] 3+0i 1+0i 1+0i 2+3i\n",
      "[1] 3+0i 1+0i 1+0i 2+3i\n"
     ]
    }
   ],
   "source": [
    "v1 <- c(3,1,TRUE,2+3i)\n",
    "v2 <<- c(3,1,TRUE,2+3i)\n",
    "v3 = c(3,1,TRUE,2+3i)\n",
    "print(v1)\n",
    "print(v2)\n",
    "print(v3)"
   ]
  },
  {
   "cell_type": "markdown",
   "metadata": {},
   "source": [
    "*  ->\n",
    "\n",
    "*  or            -----> Right Assignment\n",
    "\n",
    "*  ->>"
   ]
  },
  {
   "cell_type": "code",
   "execution_count": 33,
   "metadata": {},
   "outputs": [
    {
     "name": "stdout",
     "output_type": "stream",
     "text": [
      "[1] 3+0i 1+0i 1+0i 2+3i\n",
      "[1] 3+0i 1+0i 1+0i 2+3i\n"
     ]
    }
   ],
   "source": [
    "c(3,1,TRUE,2+3i) -> v1\n",
    "c(3,1,TRUE,2+3i) ->> v2 \n",
    "print(v1)\n",
    "print(v2)"
   ]
  },
  {
   "cell_type": "markdown",
   "metadata": {},
   "source": [
    "### Miscellaneous Operators"
   ]
  },
  {
   "cell_type": "markdown",
   "metadata": {},
   "source": [
    "These operators are used to for specific purpose and not general mathematical or logical computation."
   ]
  },
  {
   "cell_type": "markdown",
   "metadata": {},
   "source": [
    "* : Colon operator. It creates the series of numbers in sequence for a vector\n",
    "* %in% This operator is used to identify if an element belongs to a vector."
   ]
  },
  {
   "cell_type": "code",
   "execution_count": 34,
   "metadata": {},
   "outputs": [
    {
     "name": "stdout",
     "output_type": "stream",
     "text": [
      "[1] 2 3 4 5 6 7 8\n"
     ]
    }
   ],
   "source": [
    "v <- 2:8\n",
    "print(v)"
   ]
  },
  {
   "cell_type": "code",
   "execution_count": 3,
   "metadata": {},
   "outputs": [
    {
     "name": "stdout",
     "output_type": "stream",
     "text": [
      "[1] 2\n",
      "[1] 3\n",
      "[1] 4\n",
      "[1] 5\n",
      "[1] 6\n",
      "[1] 7\n",
      "[1] 8\n"
     ]
    }
   ],
   "source": [
    "m <- 2:8\n",
    "for (i in m){\n",
    "    print(i)\n",
    "}"
   ]
  },
  {
   "cell_type": "code",
   "execution_count": 35,
   "metadata": {},
   "outputs": [
    {
     "name": "stdout",
     "output_type": "stream",
     "text": [
      "[1] TRUE\n",
      "[1] FALSE\n"
     ]
    }
   ],
   "source": [
    "v1 <- 8\n",
    "v2 <- 12\n",
    "t <- 1:10\n",
    "print(v1 %in% t) \n",
    "print(v2 %in% t)"
   ]
  },
  {
   "cell_type": "code",
   "execution_count": 6,
   "metadata": {},
   "outputs": [
    {
     "name": "stdout",
     "output_type": "stream",
     "text": [
      "[1] \"X1 is not in Z\"\n"
     ]
    }
   ],
   "source": [
    "x1 <- 11\n",
    "x2 <- 3\n",
    "z <- 1:10\n",
    "if (x1 %in% z){\n",
    "    print(\"X1 is the part of Z\")\n",
    "} else if(x1 > 15){\n",
    "    print(\"X1 is out of Range from Z\")\n",
    "} else{\n",
    "    print(\"X1 is not in Z\")\n",
    "}\n",
    "\n"
   ]
  },
  {
   "cell_type": "code",
   "execution_count": 43,
   "metadata": {},
   "outputs": [
    {
     "name": "stdout",
     "output_type": "stream",
     "text": [
      "[1] \"truth is found the second time\"\n"
     ]
    }
   ],
   "source": [
    "x <- c(\"what\",\"is\",\"truth\")\n",
    "\n",
    "if(\"Truth\" %in% x) {\n",
    "   print(\"Truth is found the first time\")\n",
    "} else if (\"truth\" %in% x) {\n",
    "   print(\"truth is found the second time\")\n",
    "} else {\n",
    "   print(\"No truth found\")\n",
    "}"
   ]
  },
  {
   "cell_type": "code",
   "execution_count": 45,
   "metadata": {},
   "outputs": [
    {
     "name": "stdout",
     "output_type": "stream",
     "text": [
      "[1] \"C is greater\"\n"
     ]
    }
   ],
   "source": [
    "A <- 10\n",
    "B <- 20\n",
    "C <- 30\n",
    "\n",
    "if (A > B & A>C){\n",
    "    print(\"A is greater\")\n",
    "} else if (B >A & B>C){\n",
    "    print(\"B is greater\")\n",
    "} else {\n",
    "    print(\"C is greater\")\n",
    "}"
   ]
  },
  {
   "cell_type": "markdown",
   "metadata": {},
   "source": [
    "### Creating DataFrame"
   ]
  },
  {
   "cell_type": "code",
   "execution_count": 48,
   "metadata": {},
   "outputs": [],
   "source": [
    "sales <- c(100,121,130,136,140,146,151,160,170,180,188,196,201,211,220)\n",
    "temp <- c(23,24,26,27,28,30,31,32,33,33,34,35,37,39,39)"
   ]
  },
  {
   "cell_type": "code",
   "execution_count": 49,
   "metadata": {},
   "outputs": [],
   "source": [
    "df <- data.frame(sales,temp)"
   ]
  },
  {
   "cell_type": "code",
   "execution_count": 50,
   "metadata": {},
   "outputs": [
    {
     "name": "stderr",
     "output_type": "stream",
     "text": [
      "corrplot 0.84 loaded\n"
     ]
    }
   ],
   "source": [
    "library(corrplot)"
   ]
  },
  {
   "cell_type": "markdown",
   "metadata": {},
   "source": [
    "**sapply()** function takes list, vector or data frame as input and gives output in vector or matrix. "
   ]
  },
  {
   "cell_type": "markdown",
   "metadata": {},
   "source": [
    "Correlation coefficient can be computed using the functions **cor()**"
   ]
  },
  {
   "cell_type": "code",
   "execution_count": 51,
   "metadata": {},
   "outputs": [
    {
     "data": {
      "image/png": "[encoded data removed]",
      "text/plain": [
       "Plot with title \"\n",
       "\n",
       " Correlation Plot for Numerical Values\""
      ]
     },
     "metadata": {},
     "output_type": "display_data"
    }
   ],
   "source": [
    "numeric.var <- sapply(df,is.numeric)\n",
    "corr.matrix <- cor(df[,numeric.var])\n",
    "corrplot(corr.matrix,main=\"\\n\\n Correlation Plot for Numerical Values\",order=\"hclust\",tl.col=\"black\",tl.srt=45,tl.cex=0.5,cl.cex=0.5)"
   ]
  },
  {
   "cell_type": "markdown",
   "metadata": {},
   "source": [
    "## Apply Function apply()"
   ]
  },
  {
   "cell_type": "markdown",
   "metadata": {},
   "source": [
    "The **apply()** function in R is used in case of matrices to apply a user-specified function on the rows or columns of the matrix. The following is the general syntax for **apply()** function."
   ]
  },
  {
   "cell_type": "markdown",
   "metadata": {},
   "source": [
    "**apply(matrix, code, f, fargs)**"
   ]
  },
  {
   "cell_type": "code",
   "execution_count": 52,
   "metadata": {},
   "outputs": [],
   "source": [
    "x <- matrix(c(4,5,6,10,12,16),nrow=2 ,ncol=3)"
   ]
  },
  {
   "cell_type": "code",
   "execution_count": 53,
   "metadata": {},
   "outputs": [
    {
     "data": {
      "text/html": [
       "<table>\n",
       "<tbody>\n",
       "\t<tr><td>4 </td><td> 6</td><td>12</td></tr>\n",
       "\t<tr><td>5 </td><td>10</td><td>16</td></tr>\n",
       "</tbody>\n",
       "</table>\n"
      ],
      "text/latex": [
       "\\begin{tabular}{lll}\n",
       "\t 4  &  6 & 12\\\\\n",
       "\t 5  & 10 & 16\\\\\n",
       "\\end{tabular}\n"
      ],
      "text/markdown": [
       "\n",
       "| 4  |  6 | 12 |\n",
       "| 5  | 10 | 16 |\n",
       "\n"
      ],
      "text/plain": [
       "     [,1] [,2] [,3]\n",
       "[1,] 4     6   12  \n",
       "[2,] 5    10   16  "
      ]
     },
     "metadata": {},
     "output_type": "display_data"
    }
   ],
   "source": [
    "x"
   ]
  },
  {
   "cell_type": "markdown",
   "metadata": {},
   "source": [
    "**matrix(data, nrow, ncol, byrow, dimnames)**"
   ]
  },
  {
   "cell_type": "markdown",
   "metadata": {},
   "source": [
    "* data is the input vector which becomes the data elements of the matrix.<br>\n",
    "\n",
    "* nrow is the number of rows to be created.<br>\n",
    "\n",
    "* ncol is the number of columns to be created.<br>\n",
    "\n",
    "* byrow is a logical clue. If TRUE then the input vector elements are arranged by row.<br>\n",
    "\n",
    "* dimname is the names assigned to the rows and columns."
   ]
  },
  {
   "cell_type": "code",
   "execution_count": 54,
   "metadata": {},
   "outputs": [],
   "source": [
    "M <- matrix(c(3:14), nrow=4,byrow=TRUE)"
   ]
  },
  {
   "cell_type": "code",
   "execution_count": 55,
   "metadata": {},
   "outputs": [
    {
     "data": {
      "text/html": [
       "<table>\n",
       "<tbody>\n",
       "\t<tr><td> 3</td><td> 4</td><td> 5</td></tr>\n",
       "\t<tr><td> 6</td><td> 7</td><td> 8</td></tr>\n",
       "\t<tr><td> 9</td><td>10</td><td>11</td></tr>\n",
       "\t<tr><td>12</td><td>13</td><td>14</td></tr>\n",
       "</tbody>\n",
       "</table>\n"
      ],
      "text/latex": [
       "\\begin{tabular}{lll}\n",
       "\t  3 &  4 &  5\\\\\n",
       "\t  6 &  7 &  8\\\\\n",
       "\t  9 & 10 & 11\\\\\n",
       "\t 12 & 13 & 14\\\\\n",
       "\\end{tabular}\n"
      ],
      "text/markdown": [
       "\n",
       "|  3 |  4 |  5 |\n",
       "|  6 |  7 |  8 |\n",
       "|  9 | 10 | 11 |\n",
       "| 12 | 13 | 14 |\n",
       "\n"
      ],
      "text/plain": [
       "     [,1] [,2] [,3]\n",
       "[1,]  3    4    5  \n",
       "[2,]  6    7    8  \n",
       "[3,]  9   10   11  \n",
       "[4,] 12   13   14  "
      ]
     },
     "metadata": {},
     "output_type": "display_data"
    }
   ],
   "source": [
    "M"
   ]
  },
  {
   "cell_type": "code",
   "execution_count": 57,
   "metadata": {},
   "outputs": [],
   "source": [
    "M <- matrix(c(3:14), nrow=4)"
   ]
  },
  {
   "cell_type": "code",
   "execution_count": 58,
   "metadata": {},
   "outputs": [
    {
     "data": {
      "text/html": [
       "<table>\n",
       "<tbody>\n",
       "\t<tr><td>3 </td><td> 7</td><td>11</td></tr>\n",
       "\t<tr><td>4 </td><td> 8</td><td>12</td></tr>\n",
       "\t<tr><td>5 </td><td> 9</td><td>13</td></tr>\n",
       "\t<tr><td>6 </td><td>10</td><td>14</td></tr>\n",
       "</tbody>\n",
       "</table>\n"
      ],
      "text/latex": [
       "\\begin{tabular}{lll}\n",
       "\t 3  &  7 & 11\\\\\n",
       "\t 4  &  8 & 12\\\\\n",
       "\t 5  &  9 & 13\\\\\n",
       "\t 6  & 10 & 14\\\\\n",
       "\\end{tabular}\n"
      ],
      "text/markdown": [
       "\n",
       "| 3  |  7 | 11 |\n",
       "| 4  |  8 | 12 |\n",
       "| 5  |  9 | 13 |\n",
       "| 6  | 10 | 14 |\n",
       "\n"
      ],
      "text/plain": [
       "     [,1] [,2] [,3]\n",
       "[1,] 3     7   11  \n",
       "[2,] 4     8   12  \n",
       "[3,] 5     9   13  \n",
       "[4,] 6    10   14  "
      ]
     },
     "metadata": {},
     "output_type": "display_data"
    }
   ],
   "source": [
    "M"
   ]
  },
  {
   "cell_type": "code",
   "execution_count": 59,
   "metadata": {},
   "outputs": [],
   "source": [
    "rownames = c(\"row1\", \"row2\", \"row3\", \"row4\")\n",
    "colnames = c(\"col1\", \"col2\", \"col3\")"
   ]
  },
  {
   "cell_type": "code",
   "execution_count": 60,
   "metadata": {},
   "outputs": [],
   "source": [
    "p <- matrix(c(3:14),nrow=4,byrow=TRUE, dimnames=list(rownames,colnames))"
   ]
  },
  {
   "cell_type": "code",
   "execution_count": 61,
   "metadata": {},
   "outputs": [
    {
     "data": {
      "text/html": [
       "<table>\n",
       "<thead><tr><th></th><th scope=col>col1</th><th scope=col>col2</th><th scope=col>col3</th></tr></thead>\n",
       "<tbody>\n",
       "\t<tr><th scope=row>row1</th><td> 3</td><td> 4</td><td> 5</td></tr>\n",
       "\t<tr><th scope=row>row2</th><td> 6</td><td> 7</td><td> 8</td></tr>\n",
       "\t<tr><th scope=row>row3</th><td> 9</td><td>10</td><td>11</td></tr>\n",
       "\t<tr><th scope=row>row4</th><td>12</td><td>13</td><td>14</td></tr>\n",
       "</tbody>\n",
       "</table>\n"
      ],
      "text/latex": [
       "\\begin{tabular}{r|lll}\n",
       "  & col1 & col2 & col3\\\\\n",
       "\\hline\n",
       "\trow1 &  3 &  4 &  5\\\\\n",
       "\trow2 &  6 &  7 &  8\\\\\n",
       "\trow3 &  9 & 10 & 11\\\\\n",
       "\trow4 & 12 & 13 & 14\\\\\n",
       "\\end{tabular}\n"
      ],
      "text/markdown": [
       "\n",
       "| <!--/--> | col1 | col2 | col3 |\n",
       "|---|---|---|---|\n",
       "| row1 |  3 |  4 |  5 |\n",
       "| row2 |  6 |  7 |  8 |\n",
       "| row3 |  9 | 10 | 11 |\n",
       "| row4 | 12 | 13 | 14 |\n",
       "\n"
      ],
      "text/plain": [
       "     col1 col2 col3\n",
       "row1  3    4    5  \n",
       "row2  6    7    8  \n",
       "row3  9   10   11  \n",
       "row4 12   13   14  "
      ]
     },
     "metadata": {},
     "output_type": "display_data"
    }
   ],
   "source": [
    "p"
   ]
  },
  {
   "cell_type": "code",
   "execution_count": 14,
   "metadata": {},
   "outputs": [],
   "source": [
    "X <- matrix(c(4,5,6,10,12,16),nrow=2,ncol=3)"
   ]
  },
  {
   "cell_type": "code",
   "execution_count": 15,
   "metadata": {},
   "outputs": [
    {
     "data": {
      "text/html": [
       "<table>\n",
       "<tbody>\n",
       "\t<tr><td>4 </td><td> 6</td><td>12</td></tr>\n",
       "\t<tr><td>5 </td><td>10</td><td>16</td></tr>\n",
       "</tbody>\n",
       "</table>\n"
      ],
      "text/latex": [
       "\\begin{tabular}{lll}\n",
       "\t 4  &  6 & 12\\\\\n",
       "\t 5  & 10 & 16\\\\\n",
       "\\end{tabular}\n"
      ],
      "text/markdown": [
       "\n",
       "| 4  |  6 | 12 |\n",
       "| 5  | 10 | 16 |\n",
       "\n"
      ],
      "text/plain": [
       "     [,1] [,2] [,3]\n",
       "[1,] 4     6   12  \n",
       "[2,] 5    10   16  "
      ]
     },
     "metadata": {},
     "output_type": "display_data"
    }
   ],
   "source": [
    "X"
   ]
  },
  {
   "cell_type": "code",
   "execution_count": 8,
   "metadata": {},
   "outputs": [],
   "source": [
    "f <- function(x){\n",
    "    return (x^2*3/4)\n",
    "    }\n",
    "fc <- function(x){\n",
    "    return (x-1)\n",
    "}\n"
   ]
  },
  {
   "cell_type": "code",
   "execution_count": 66,
   "metadata": {},
   "outputs": [
    {
     "data": {
      "text/html": [
       "18.75"
      ],
      "text/latex": [
       "18.75"
      ],
      "text/markdown": [
       "18.75"
      ],
      "text/plain": [
       "[1] 18.75"
      ]
     },
     "metadata": {},
     "output_type": "display_data"
    }
   ],
   "source": [
    "f(5)"
   ]
  },
  {
   "cell_type": "code",
   "execution_count": 17,
   "metadata": {},
   "outputs": [
    {
     "data": {
      "text/html": [
       "2"
      ],
      "text/latex": [
       "2"
      ],
      "text/markdown": [
       "2"
      ],
      "text/plain": [
       "[1] 2"
      ]
     },
     "metadata": {},
     "output_type": "display_data"
    }
   ],
   "source": [
    "fc(3)"
   ]
  },
  {
   "cell_type": "code",
   "execution_count": 21,
   "metadata": {},
   "outputs": [
    {
     "data": {
      "text/html": [
       "<table>\n",
       "<tbody>\n",
       "\t<tr><td>3 </td><td>5 </td><td>11</td></tr>\n",
       "\t<tr><td>4 </td><td>9 </td><td>15</td></tr>\n",
       "</tbody>\n",
       "</table>\n"
      ],
      "text/latex": [
       "\\begin{tabular}{lll}\n",
       "\t 3  & 5  & 11\\\\\n",
       "\t 4  & 9  & 15\\\\\n",
       "\\end{tabular}\n"
      ],
      "text/markdown": [
       "\n",
       "| 3  | 5  | 11 |\n",
       "| 4  | 9  | 15 |\n",
       "\n"
      ],
      "text/plain": [
       "     [,1] [,2] [,3]\n",
       "[1,] 3    5    11  \n",
       "[2,] 4    9    15  "
      ]
     },
     "metadata": {},
     "output_type": "display_data"
    }
   ],
   "source": [
    "apply(X,2,fc)"
   ]
  },
  {
   "cell_type": "markdown",
   "metadata": {},
   "source": [
    "* matrix is the matrix object which we are using the apply() function"
   ]
  },
  {
   "cell_type": "markdown",
   "metadata": {},
   "source": [
    "* Code represents whether we wish to apply the function for rows (code set to 1) or columns (code set to 2)."
   ]
  },
  {
   "cell_type": "markdown",
   "metadata": {},
   "source": [
    "* F represents the function we need to apply"
   ]
  },
  {
   "cell_type": "code",
   "execution_count": 72,
   "metadata": {},
   "outputs": [
    {
     "data": {
      "text/html": [
       "<table>\n",
       "<tbody>\n",
       "\t<tr><td> 12   </td><td> 18.75</td></tr>\n",
       "\t<tr><td> 27   </td><td> 75.00</td></tr>\n",
       "\t<tr><td>108   </td><td>192.00</td></tr>\n",
       "</tbody>\n",
       "</table>\n"
      ],
      "text/latex": [
       "\\begin{tabular}{ll}\n",
       "\t  12    &  18.75\\\\\n",
       "\t  27    &  75.00\\\\\n",
       "\t 108    & 192.00\\\\\n",
       "\\end{tabular}\n"
      ],
      "text/markdown": [
       "\n",
       "|  12    |  18.75 |\n",
       "|  27    |  75.00 |\n",
       "| 108    | 192.00 |\n",
       "\n"
      ],
      "text/plain": [
       "     [,1] [,2]  \n",
       "[1,]  12   18.75\n",
       "[2,]  27   75.00\n",
       "[3,] 108  192.00"
      ]
     },
     "metadata": {},
     "output_type": "display_data"
    }
   ],
   "source": [
    "apply(x,1,f)"
   ]
  },
  {
   "cell_type": "markdown",
   "metadata": {},
   "source": [
    "### Working with Lists"
   ]
  },
  {
   "cell_type": "markdown",
   "metadata": {},
   "source": [
    "The **lapply()** function in R is short for **list** apply. This works in a manner similar to the **apply()** function above, but uses lists instead of matrices."
   ]
  },
  {
   "cell_type": "code",
   "execution_count": 73,
   "metadata": {},
   "outputs": [
    {
     "data": {
      "text/html": [
       "<ol>\n",
       "\t<li>2.5</li>\n",
       "\t<li>25</li>\n",
       "\t<li>5</li>\n",
       "</ol>\n"
      ],
      "text/latex": [
       "\\begin{enumerate}\n",
       "\\item 2.5\n",
       "\\item 25\n",
       "\\item 5\n",
       "\\end{enumerate}\n"
      ],
      "text/markdown": [
       "1. 2.5\n",
       "2. 25\n",
       "3. 5\n",
       "\n",
       "\n"
      ],
      "text/plain": [
       "[[1]]\n",
       "[1] 2.5\n",
       "\n",
       "[[2]]\n",
       "[1] 25\n",
       "\n",
       "[[3]]\n",
       "[1] 5\n"
      ]
     },
     "metadata": {},
     "output_type": "display_data"
    }
   ],
   "source": [
    "mylist <- list(c(1,2,3,4),c(10,20,30,40),c(5,5,5,5))\n",
    "lapply(mylist,mean)"
   ]
  },
  {
   "cell_type": "code",
   "execution_count": 74,
   "metadata": {},
   "outputs": [
    {
     "data": {
      "text/html": [
       "<ol>\n",
       "\t<li><ol class=list-inline>\n",
       "\t<li>0.75</li>\n",
       "\t<li>3</li>\n",
       "\t<li>6.75</li>\n",
       "\t<li>12</li>\n",
       "</ol>\n",
       "</li>\n",
       "\t<li><ol class=list-inline>\n",
       "\t<li>75</li>\n",
       "\t<li>300</li>\n",
       "\t<li>675</li>\n",
       "\t<li>1200</li>\n",
       "</ol>\n",
       "</li>\n",
       "\t<li><ol class=list-inline>\n",
       "\t<li>18.75</li>\n",
       "\t<li>18.75</li>\n",
       "\t<li>18.75</li>\n",
       "\t<li>18.75</li>\n",
       "</ol>\n",
       "</li>\n",
       "</ol>\n"
      ],
      "text/latex": [
       "\\begin{enumerate}\n",
       "\\item \\begin{enumerate*}\n",
       "\\item 0.75\n",
       "\\item 3\n",
       "\\item 6.75\n",
       "\\item 12\n",
       "\\end{enumerate*}\n",
       "\n",
       "\\item \\begin{enumerate*}\n",
       "\\item 75\n",
       "\\item 300\n",
       "\\item 675\n",
       "\\item 1200\n",
       "\\end{enumerate*}\n",
       "\n",
       "\\item \\begin{enumerate*}\n",
       "\\item 18.75\n",
       "\\item 18.75\n",
       "\\item 18.75\n",
       "\\item 18.75\n",
       "\\end{enumerate*}\n",
       "\n",
       "\\end{enumerate}\n"
      ],
      "text/markdown": [
       "1. 1. 0.75\n",
       "2. 3\n",
       "3. 6.75\n",
       "4. 12\n",
       "\n",
       "\n",
       "\n",
       "2. 1. 75\n",
       "2. 300\n",
       "3. 675\n",
       "4. 1200\n",
       "\n",
       "\n",
       "\n",
       "3. 1. 18.75\n",
       "2. 18.75\n",
       "3. 18.75\n",
       "4. 18.75\n",
       "\n",
       "\n",
       "\n",
       "\n",
       "\n"
      ],
      "text/plain": [
       "[[1]]\n",
       "[1]  0.75  3.00  6.75 12.00\n",
       "\n",
       "[[2]]\n",
       "[1]   75  300  675 1200\n",
       "\n",
       "[[3]]\n",
       "[1] 18.75 18.75 18.75 18.75\n"
      ]
     },
     "metadata": {},
     "output_type": "display_data"
    }
   ],
   "source": [
    "lapply(mylist,f)"
   ]
  },
  {
   "cell_type": "markdown",
   "metadata": {},
   "source": [
    " **sapply()** function in R is short for for simplified apply. Instead of obtaining a separate mean value for each vector, sapply returns a vector containing the mean values."
   ]
  },
  {
   "cell_type": "code",
   "execution_count": 75,
   "metadata": {},
   "outputs": [
    {
     "data": {
      "text/html": [
       "<ol class=list-inline>\n",
       "\t<li>2.5</li>\n",
       "\t<li>25</li>\n",
       "\t<li>5</li>\n",
       "</ol>\n"
      ],
      "text/latex": [
       "\\begin{enumerate*}\n",
       "\\item 2.5\n",
       "\\item 25\n",
       "\\item 5\n",
       "\\end{enumerate*}\n"
      ],
      "text/markdown": [
       "1. 2.5\n",
       "2. 25\n",
       "3. 5\n",
       "\n",
       "\n"
      ],
      "text/plain": [
       "[1]  2.5 25.0  5.0"
      ]
     },
     "metadata": {},
     "output_type": "display_data"
    }
   ],
   "source": [
    "sapply(mylist,mean)"
   ]
  },
  {
   "cell_type": "markdown",
   "metadata": {},
   "source": [
    "### Working with Data Frames"
   ]
  },
  {
   "cell_type": "markdown",
   "metadata": {},
   "source": [
    "Since data frames can be treated as a special case of lists, the functions lapply() and sapply() work in both cases. Let us look at an example."
   ]
  },
  {
   "cell_type": "code",
   "execution_count": 76,
   "metadata": {},
   "outputs": [],
   "source": [
    "names <- c(\"Mohammaed\",\"Ali\",\"Raza\",\"Shan\",\"Ahmed\")\n",
    "ages <- c(20,21,23,41,14)\n",
    "data <- data.frame(names,ages)"
   ]
  },
  {
   "cell_type": "code",
   "execution_count": 77,
   "metadata": {},
   "outputs": [
    {
     "data": {
      "text/html": [
       "<dl>\n",
       "\t<dt>$names</dt>\n",
       "\t\t<dd><ol class=list-inline>\n",
       "\t<li>Ahmed</li>\n",
       "\t<li>Ali</li>\n",
       "\t<li>Mohammaed</li>\n",
       "\t<li>Raza</li>\n",
       "\t<li>Shan</li>\n",
       "</ol>\n",
       "\n",
       "<details>\n",
       "\t<summary style=display:list-item;cursor:pointer>\n",
       "\t\t<strong>Levels</strong>:\n",
       "\t</summary>\n",
       "\t<ol class=list-inline>\n",
       "\t\t<li>'Ahmed'</li>\n",
       "\t\t<li>'Ali'</li>\n",
       "\t\t<li>'Mohammaed'</li>\n",
       "\t\t<li>'Raza'</li>\n",
       "\t\t<li>'Shan'</li>\n",
       "\t</ol>\n",
       "</details></dd>\n",
       "\t<dt>$ages</dt>\n",
       "\t\t<dd><ol class=list-inline>\n",
       "\t<li>14</li>\n",
       "\t<li>20</li>\n",
       "\t<li>21</li>\n",
       "\t<li>23</li>\n",
       "\t<li>41</li>\n",
       "</ol>\n",
       "</dd>\n",
       "</dl>\n"
      ],
      "text/latex": [
       "\\begin{description}\n",
       "\\item[\\$names] \\begin{enumerate*}\n",
       "\\item Ahmed\n",
       "\\item Ali\n",
       "\\item Mohammaed\n",
       "\\item Raza\n",
       "\\item Shan\n",
       "\\end{enumerate*}\n",
       "\n",
       "\\emph{Levels}: \\begin{enumerate*}\n",
       "\\item 'Ahmed'\n",
       "\\item 'Ali'\n",
       "\\item 'Mohammaed'\n",
       "\\item 'Raza'\n",
       "\\item 'Shan'\n",
       "\\end{enumerate*}\n",
       "\n",
       "\\item[\\$ages] \\begin{enumerate*}\n",
       "\\item 14\n",
       "\\item 20\n",
       "\\item 21\n",
       "\\item 23\n",
       "\\item 41\n",
       "\\end{enumerate*}\n",
       "\n",
       "\\end{description}\n"
      ],
      "text/markdown": [
       "$names\n",
       ":   1. Ahmed\n",
       "2. Ali\n",
       "3. Mohammaed\n",
       "4. Raza\n",
       "5. Shan\n",
       "\n",
       "\n",
       "\n",
       "**Levels**: 1. 'Ahmed'\n",
       "2. 'Ali'\n",
       "3. 'Mohammaed'\n",
       "4. 'Raza'\n",
       "5. 'Shan'\n",
       "\n",
       "\n",
       "\n",
       "$ages\n",
       ":   1. 14\n",
       "2. 20\n",
       "3. 21\n",
       "4. 23\n",
       "5. 41\n",
       "\n",
       "\n",
       "\n",
       "\n",
       "\n"
      ],
      "text/plain": [
       "$names\n",
       "[1] Ahmed     Ali       Mohammaed Raza      Shan     \n",
       "Levels: Ahmed Ali Mohammaed Raza Shan\n",
       "\n",
       "$ages\n",
       "[1] 14 20 21 23 41\n"
      ]
     },
     "metadata": {},
     "output_type": "display_data"
    }
   ],
   "source": [
    "lapply(data,sort)"
   ]
  },
  {
   "cell_type": "code",
   "execution_count": 78,
   "metadata": {},
   "outputs": [],
   "source": [
    "names <- c(\"Mohammaed\",\"Ali\",\"Raza\",\"Shan\",\"Ahmed\")\n",
    "ages <- c(20,21,23,41,14)\n",
    "data <- data.frame(names,ages,stringsAsFactors = FALSE)"
   ]
  },
  {
   "cell_type": "code",
   "execution_count": 79,
   "metadata": {},
   "outputs": [
    {
     "data": {
      "text/html": [
       "<table>\n",
       "<thead><tr><th scope=col>names</th><th scope=col>ages</th></tr></thead>\n",
       "<tbody>\n",
       "\t<tr><td>Mohammaed</td><td>20       </td></tr>\n",
       "\t<tr><td>Ali      </td><td>21       </td></tr>\n",
       "\t<tr><td>Raza     </td><td>23       </td></tr>\n",
       "\t<tr><td>Shan     </td><td>41       </td></tr>\n",
       "\t<tr><td>Ahmed    </td><td>14       </td></tr>\n",
       "</tbody>\n",
       "</table>\n"
      ],
      "text/latex": [
       "\\begin{tabular}{r|ll}\n",
       " names & ages\\\\\n",
       "\\hline\n",
       "\t Mohammaed & 20       \\\\\n",
       "\t Ali       & 21       \\\\\n",
       "\t Raza      & 23       \\\\\n",
       "\t Shan      & 41       \\\\\n",
       "\t Ahmed     & 14       \\\\\n",
       "\\end{tabular}\n"
      ],
      "text/markdown": [
       "\n",
       "| names | ages |\n",
       "|---|---|\n",
       "| Mohammaed | 20        |\n",
       "| Ali       | 21        |\n",
       "| Raza      | 23        |\n",
       "| Shan      | 41        |\n",
       "| Ahmed     | 14        |\n",
       "\n"
      ],
      "text/plain": [
       "  names     ages\n",
       "1 Mohammaed 20  \n",
       "2 Ali       21  \n",
       "3 Raza      23  \n",
       "4 Shan      41  \n",
       "5 Ahmed     14  "
      ]
     },
     "metadata": {},
     "output_type": "display_data"
    }
   ],
   "source": [
    "data"
   ]
  },
  {
   "cell_type": "code",
   "execution_count": 80,
   "metadata": {},
   "outputs": [
    {
     "data": {
      "text/html": [
       "<dl>\n",
       "\t<dt>$names</dt>\n",
       "\t\t<dd><ol class=list-inline>\n",
       "\t<li>'Ahmed'</li>\n",
       "\t<li>'Ali'</li>\n",
       "\t<li>'Mohammaed'</li>\n",
       "\t<li>'Raza'</li>\n",
       "\t<li>'Shan'</li>\n",
       "</ol>\n",
       "</dd>\n",
       "\t<dt>$ages</dt>\n",
       "\t\t<dd><ol class=list-inline>\n",
       "\t<li>14</li>\n",
       "\t<li>20</li>\n",
       "\t<li>21</li>\n",
       "\t<li>23</li>\n",
       "\t<li>41</li>\n",
       "</ol>\n",
       "</dd>\n",
       "</dl>\n"
      ],
      "text/latex": [
       "\\begin{description}\n",
       "\\item[\\$names] \\begin{enumerate*}\n",
       "\\item 'Ahmed'\n",
       "\\item 'Ali'\n",
       "\\item 'Mohammaed'\n",
       "\\item 'Raza'\n",
       "\\item 'Shan'\n",
       "\\end{enumerate*}\n",
       "\n",
       "\\item[\\$ages] \\begin{enumerate*}\n",
       "\\item 14\n",
       "\\item 20\n",
       "\\item 21\n",
       "\\item 23\n",
       "\\item 41\n",
       "\\end{enumerate*}\n",
       "\n",
       "\\end{description}\n"
      ],
      "text/markdown": [
       "$names\n",
       ":   1. 'Ahmed'\n",
       "2. 'Ali'\n",
       "3. 'Mohammaed'\n",
       "4. 'Raza'\n",
       "5. 'Shan'\n",
       "\n",
       "\n",
       "\n",
       "$ages\n",
       ":   1. 14\n",
       "2. 20\n",
       "3. 21\n",
       "4. 23\n",
       "5. 41\n",
       "\n",
       "\n",
       "\n",
       "\n",
       "\n"
      ],
      "text/plain": [
       "$names\n",
       "[1] \"Ahmed\"     \"Ali\"       \"Mohammaed\" \"Raza\"      \"Shan\"     \n",
       "\n",
       "$ages\n",
       "[1] 14 20 21 23 41\n"
      ]
     },
     "metadata": {},
     "output_type": "display_data"
    }
   ],
   "source": [
    "lapply(data,sort)"
   ]
  },
  {
   "cell_type": "markdown",
   "metadata": {},
   "source": [
    "Similarly, calling **sapply()** provides a compact list with each column sorted separately"
   ]
  },
  {
   "cell_type": "code",
   "execution_count": 81,
   "metadata": {},
   "outputs": [
    {
     "data": {
      "text/html": [
       "<table>\n",
       "<thead><tr><th scope=col>names</th><th scope=col>ages</th></tr></thead>\n",
       "<tbody>\n",
       "\t<tr><td>Ahmed    </td><td>14       </td></tr>\n",
       "\t<tr><td>Ali      </td><td>20       </td></tr>\n",
       "\t<tr><td>Mohammaed</td><td>21       </td></tr>\n",
       "\t<tr><td>Raza     </td><td>23       </td></tr>\n",
       "\t<tr><td>Shan     </td><td>41       </td></tr>\n",
       "</tbody>\n",
       "</table>\n"
      ],
      "text/latex": [
       "\\begin{tabular}{ll}\n",
       " names & ages\\\\\n",
       "\\hline\n",
       "\t Ahmed     & 14       \\\\\n",
       "\t Ali       & 20       \\\\\n",
       "\t Mohammaed & 21       \\\\\n",
       "\t Raza      & 23       \\\\\n",
       "\t Shan      & 41       \\\\\n",
       "\\end{tabular}\n"
      ],
      "text/markdown": [
       "\n",
       "| names | ages |\n",
       "|---|---|\n",
       "| Ahmed     | 14        |\n",
       "| Ali       | 20        |\n",
       "| Mohammaed | 21        |\n",
       "| Raza      | 23        |\n",
       "| Shan      | 41        |\n",
       "\n"
      ],
      "text/plain": [
       "     names     ages\n",
       "[1,] Ahmed     14  \n",
       "[2,] Ali       20  \n",
       "[3,] Mohammaed 21  \n",
       "[4,] Raza      23  \n",
       "[5,] Shan      41  "
      ]
     },
     "metadata": {},
     "output_type": "display_data"
    }
   ],
   "source": [
    "sapply(data,sort)"
   ]
  },
  {
   "cell_type": "code",
   "execution_count": 10,
   "metadata": {},
   "outputs": [],
   "source": [
    "func <- function(x){\n",
    "    return (x+3)\n",
    "}"
   ]
  },
  {
   "cell_type": "code",
   "execution_count": 4,
   "metadata": {},
   "outputs": [],
   "source": [
    "f <- function(x){\n",
    "    return (x^2*3/4)\n",
    "    }\n",
    "fc <- function(x){\n",
    "    return (x-1)\n",
    "}\n"
   ]
  },
  {
   "cell_type": "code",
   "execution_count": 5,
   "metadata": {},
   "outputs": [],
   "source": [
    "M <- matrix(c(3:14), nrow=4)"
   ]
  },
  {
   "cell_type": "code",
   "execution_count": 6,
   "metadata": {},
   "outputs": [
    {
     "data": {
      "text/html": [
       "<table>\n",
       "<tbody>\n",
       "\t<tr><td>3 </td><td> 7</td><td>11</td></tr>\n",
       "\t<tr><td>4 </td><td> 8</td><td>12</td></tr>\n",
       "\t<tr><td>5 </td><td> 9</td><td>13</td></tr>\n",
       "\t<tr><td>6 </td><td>10</td><td>14</td></tr>\n",
       "</tbody>\n",
       "</table>\n"
      ],
      "text/latex": [
       "\\begin{tabular}{lll}\n",
       "\t 3  &  7 & 11\\\\\n",
       "\t 4  &  8 & 12\\\\\n",
       "\t 5  &  9 & 13\\\\\n",
       "\t 6  & 10 & 14\\\\\n",
       "\\end{tabular}\n"
      ],
      "text/markdown": [
       "\n",
       "| 3  |  7 | 11 |\n",
       "| 4  |  8 | 12 |\n",
       "| 5  |  9 | 13 |\n",
       "| 6  | 10 | 14 |\n",
       "\n"
      ],
      "text/plain": [
       "     [,1] [,2] [,3]\n",
       "[1,] 3     7   11  \n",
       "[2,] 4     8   12  \n",
       "[3,] 5     9   13  \n",
       "[4,] 6    10   14  "
      ]
     },
     "metadata": {},
     "output_type": "display_data"
    }
   ],
   "source": [
    "M"
   ]
  },
  {
   "cell_type": "code",
   "execution_count": 11,
   "metadata": {},
   "outputs": [
    {
     "data": {
      "text/html": [
       "6"
      ],
      "text/latex": [
       "6"
      ],
      "text/markdown": [
       "6"
      ],
      "text/plain": [
       "[1] 6"
      ]
     },
     "metadata": {},
     "output_type": "display_data"
    }
   ],
   "source": [
    "func(3)"
   ]
  },
  {
   "cell_type": "code",
   "execution_count": 12,
   "metadata": {},
   "outputs": [
    {
     "data": {
      "text/html": [
       "<table>\n",
       "<tbody>\n",
       "\t<tr><td>6 </td><td>10</td><td>14</td></tr>\n",
       "\t<tr><td>7 </td><td>11</td><td>15</td></tr>\n",
       "\t<tr><td>8 </td><td>12</td><td>16</td></tr>\n",
       "\t<tr><td>9 </td><td>13</td><td>17</td></tr>\n",
       "</tbody>\n",
       "</table>\n"
      ],
      "text/latex": [
       "\\begin{tabular}{lll}\n",
       "\t 6  & 10 & 14\\\\\n",
       "\t 7  & 11 & 15\\\\\n",
       "\t 8  & 12 & 16\\\\\n",
       "\t 9  & 13 & 17\\\\\n",
       "\\end{tabular}\n"
      ],
      "text/markdown": [
       "\n",
       "| 6  | 10 | 14 |\n",
       "| 7  | 11 | 15 |\n",
       "| 8  | 12 | 16 |\n",
       "| 9  | 13 | 17 |\n",
       "\n"
      ],
      "text/plain": [
       "     [,1] [,2] [,3]\n",
       "[1,] 6    10   14  \n",
       "[2,] 7    11   15  \n",
       "[3,] 8    12   16  \n",
       "[4,] 9    13   17  "
      ]
     },
     "metadata": {},
     "output_type": "display_data"
    }
   ],
   "source": [
    "apply(M,2,func)"
   ]
  },
  {
   "cell_type": "markdown",
   "metadata": {},
   "source": [
    "# Creating DataFrame"
   ]
  },
  {
   "cell_type": "code",
   "execution_count": 40,
   "metadata": {},
   "outputs": [
    {
     "data": {
      "text/html": [
       "<table>\n",
       "<thead><tr><th scope=col>a</th><th scope=col>b</th><th scope=col>c</th><th scope=col>d</th></tr></thead>\n",
       "<tbody>\n",
       "\t<tr><td>10      </td><td>book    </td><td> TRUE   </td><td> 2.5    </td></tr>\n",
       "\t<tr><td>20      </td><td>chips   </td><td> TRUE   </td><td> 8.0    </td></tr>\n",
       "\t<tr><td>30      </td><td>textbook</td><td>FALSE   </td><td>10.0    </td></tr>\n",
       "\t<tr><td>40      </td><td>pencil  </td><td> TRUE   </td><td> 7.0    </td></tr>\n",
       "</tbody>\n",
       "</table>\n"
      ],
      "text/latex": [
       "\\begin{tabular}{r|llll}\n",
       " a & b & c & d\\\\\n",
       "\\hline\n",
       "\t 10       & book     &  TRUE    &  2.5    \\\\\n",
       "\t 20       & chips    &  TRUE    &  8.0    \\\\\n",
       "\t 30       & textbook & FALSE    & 10.0    \\\\\n",
       "\t 40       & pencil   &  TRUE    &  7.0    \\\\\n",
       "\\end{tabular}\n"
      ],
      "text/markdown": [
       "\n",
       "| a | b | c | d |\n",
       "|---|---|---|---|\n",
       "| 10       | book     |  TRUE    |  2.5     |\n",
       "| 20       | chips    |  TRUE    |  8.0     |\n",
       "| 30       | textbook | FALSE    | 10.0     |\n",
       "| 40       | pencil   |  TRUE    |  7.0     |\n",
       "\n"
      ],
      "text/plain": [
       "  a  b        c     d   \n",
       "1 10 book      TRUE  2.5\n",
       "2 20 chips     TRUE  8.0\n",
       "3 30 textbook FALSE 10.0\n",
       "4 40 pencil    TRUE  7.0"
      ]
     },
     "metadata": {},
     "output_type": "display_data"
    }
   ],
   "source": [
    "a <- c(10,20,30,40)\n",
    "b <- c('book','chips','textbook','pencil')\n",
    "c <- c(TRUE,TRUE,FALSE,TRUE)\n",
    "d <- c(2.5,8,10,7)\n",
    "\n",
    "df <- data.frame(a,b,c,d)\n",
    "df"
   ]
  },
  {
   "cell_type": "markdown",
   "metadata": {},
   "source": [
    "### Naming the dataframe"
   ]
  },
  {
   "cell_type": "code",
   "execution_count": 41,
   "metadata": {},
   "outputs": [],
   "source": [
    "names(df) <-c ('ID','Items','store','price')"
   ]
  },
  {
   "cell_type": "code",
   "execution_count": 42,
   "metadata": {},
   "outputs": [
    {
     "data": {
      "text/html": [
       "<table>\n",
       "<thead><tr><th scope=col>ID</th><th scope=col>Items</th><th scope=col>store</th><th scope=col>price</th></tr></thead>\n",
       "<tbody>\n",
       "\t<tr><td>10      </td><td>book    </td><td> TRUE   </td><td> 2.5    </td></tr>\n",
       "\t<tr><td>20      </td><td>chips   </td><td> TRUE   </td><td> 8.0    </td></tr>\n",
       "\t<tr><td>30      </td><td>textbook</td><td>FALSE   </td><td>10.0    </td></tr>\n",
       "\t<tr><td>40      </td><td>pencil  </td><td> TRUE   </td><td> 7.0    </td></tr>\n",
       "</tbody>\n",
       "</table>\n"
      ],
      "text/latex": [
       "\\begin{tabular}{r|llll}\n",
       " ID & Items & store & price\\\\\n",
       "\\hline\n",
       "\t 10       & book     &  TRUE    &  2.5    \\\\\n",
       "\t 20       & chips    &  TRUE    &  8.0    \\\\\n",
       "\t 30       & textbook & FALSE    & 10.0    \\\\\n",
       "\t 40       & pencil   &  TRUE    &  7.0    \\\\\n",
       "\\end{tabular}\n"
      ],
      "text/markdown": [
       "\n",
       "| ID | Items | store | price |\n",
       "|---|---|---|---|\n",
       "| 10       | book     |  TRUE    |  2.5     |\n",
       "| 20       | chips    |  TRUE    |  8.0     |\n",
       "| 30       | textbook | FALSE    | 10.0     |\n",
       "| 40       | pencil   |  TRUE    |  7.0     |\n",
       "\n"
      ],
      "text/plain": [
       "  ID Items    store price\n",
       "1 10 book      TRUE  2.5 \n",
       "2 20 chips     TRUE  8.0 \n",
       "3 30 textbook FALSE 10.0 \n",
       "4 40 pencil    TRUE  7.0 "
      ]
     },
     "metadata": {},
     "output_type": "display_data"
    }
   ],
   "source": [
    "df"
   ]
  },
  {
   "cell_type": "code",
   "execution_count": 43,
   "metadata": {},
   "outputs": [
    {
     "name": "stdout",
     "output_type": "stream",
     "text": [
      "'data.frame':\t4 obs. of  4 variables:\n",
      " $ ID   : num  10 20 30 40\n",
      " $ Items: Factor w/ 4 levels \"book\",\"chips\",..: 1 2 4 3\n",
      " $ store: logi  TRUE TRUE FALSE TRUE\n",
      " $ price: num  2.5 8 10 7\n"
     ]
    }
   ],
   "source": [
    "###print the structure\n",
    "str(df)"
   ]
  },
  {
   "cell_type": "markdown",
   "metadata": {},
   "source": [
    "### Slice DataFrame"
   ]
  },
  {
   "cell_type": "code",
   "execution_count": 44,
   "metadata": {},
   "outputs": [
    {
     "data": {
      "text/html": [
       "book\n",
       "<details>\n",
       "\t<summary style=display:list-item;cursor:pointer>\n",
       "\t\t<strong>Levels</strong>:\n",
       "\t</summary>\n",
       "\t<ol class=list-inline>\n",
       "\t\t<li>'book'</li>\n",
       "\t\t<li>'chips'</li>\n",
       "\t\t<li>'pencil'</li>\n",
       "\t\t<li>'textbook'</li>\n",
       "\t</ol>\n",
       "</details>"
      ],
      "text/latex": [
       "book\n",
       "\\emph{Levels}: \\begin{enumerate*}\n",
       "\\item 'book'\n",
       "\\item 'chips'\n",
       "\\item 'pencil'\n",
       "\\item 'textbook'\n",
       "\\end{enumerate*}\n"
      ],
      "text/markdown": [
       "book\n",
       "**Levels**: 1. 'book'\n",
       "2. 'chips'\n",
       "3. 'pencil'\n",
       "4. 'textbook'\n",
       "\n",
       "\n"
      ],
      "text/plain": [
       "[1] book\n",
       "Levels: book chips pencil textbook"
      ]
     },
     "metadata": {},
     "output_type": "display_data"
    }
   ],
   "source": [
    "df[1,2]"
   ]
  },
  {
   "cell_type": "code",
   "execution_count": 45,
   "metadata": {},
   "outputs": [
    {
     "data": {
      "text/html": [
       "<table>\n",
       "<thead><tr><th scope=col>ID</th><th scope=col>Items</th><th scope=col>store</th><th scope=col>price</th></tr></thead>\n",
       "<tbody>\n",
       "\t<tr><td>10   </td><td>book </td><td>TRUE </td><td>2.5  </td></tr>\n",
       "\t<tr><td>20   </td><td>chips</td><td>TRUE </td><td>8.0  </td></tr>\n",
       "</tbody>\n",
       "</table>\n"
      ],
      "text/latex": [
       "\\begin{tabular}{r|llll}\n",
       " ID & Items & store & price\\\\\n",
       "\\hline\n",
       "\t 10    & book  & TRUE  & 2.5  \\\\\n",
       "\t 20    & chips & TRUE  & 8.0  \\\\\n",
       "\\end{tabular}\n"
      ],
      "text/markdown": [
       "\n",
       "| ID | Items | store | price |\n",
       "|---|---|---|---|\n",
       "| 10    | book  | TRUE  | 2.5   |\n",
       "| 20    | chips | TRUE  | 8.0   |\n",
       "\n"
      ],
      "text/plain": [
       "  ID Items store price\n",
       "1 10 book  TRUE  2.5  \n",
       "2 20 chips TRUE  8.0  "
      ]
     },
     "metadata": {},
     "output_type": "display_data"
    }
   ],
   "source": [
    "df[1:2,]"
   ]
  },
  {
   "cell_type": "code",
   "execution_count": 46,
   "metadata": {},
   "outputs": [
    {
     "data": {
      "text/html": [
       "<ol class=list-inline>\n",
       "\t<li>10</li>\n",
       "\t<li>20</li>\n",
       "\t<li>30</li>\n",
       "\t<li>40</li>\n",
       "</ol>\n"
      ],
      "text/latex": [
       "\\begin{enumerate*}\n",
       "\\item 10\n",
       "\\item 20\n",
       "\\item 30\n",
       "\\item 40\n",
       "\\end{enumerate*}\n"
      ],
      "text/markdown": [
       "1. 10\n",
       "2. 20\n",
       "3. 30\n",
       "4. 40\n",
       "\n",
       "\n"
      ],
      "text/plain": [
       "[1] 10 20 30 40"
      ]
     },
     "metadata": {},
     "output_type": "display_data"
    }
   ],
   "source": [
    "df[,1]"
   ]
  },
  {
   "cell_type": "code",
   "execution_count": 47,
   "metadata": {},
   "outputs": [
    {
     "data": {
      "text/html": [
       "<table>\n",
       "<thead><tr><th scope=col>store</th><th scope=col>price</th></tr></thead>\n",
       "<tbody>\n",
       "\t<tr><td> TRUE</td><td> 2.5 </td></tr>\n",
       "\t<tr><td> TRUE</td><td> 8.0 </td></tr>\n",
       "\t<tr><td>FALSE</td><td>10.0 </td></tr>\n",
       "</tbody>\n",
       "</table>\n"
      ],
      "text/latex": [
       "\\begin{tabular}{r|ll}\n",
       " store & price\\\\\n",
       "\\hline\n",
       "\t  TRUE &  2.5 \\\\\n",
       "\t  TRUE &  8.0 \\\\\n",
       "\t FALSE & 10.0 \\\\\n",
       "\\end{tabular}\n"
      ],
      "text/markdown": [
       "\n",
       "| store | price |\n",
       "|---|---|\n",
       "|  TRUE |  2.5  |\n",
       "|  TRUE |  8.0  |\n",
       "| FALSE | 10.0  |\n",
       "\n"
      ],
      "text/plain": [
       "  store price\n",
       "1  TRUE  2.5 \n",
       "2  TRUE  8.0 \n",
       "3 FALSE 10.0 "
      ]
     },
     "metadata": {},
     "output_type": "display_data"
    }
   ],
   "source": [
    "df[1:3, 3:4]"
   ]
  },
  {
   "cell_type": "markdown",
   "metadata": {},
   "source": [
    "It is also possible to select the columns with their names"
   ]
  },
  {
   "cell_type": "code",
   "execution_count": 48,
   "metadata": {},
   "outputs": [
    {
     "data": {
      "text/html": [
       "<table>\n",
       "<thead><tr><th scope=col>ID</th><th scope=col>store</th></tr></thead>\n",
       "<tbody>\n",
       "\t<tr><td>10   </td><td> TRUE</td></tr>\n",
       "\t<tr><td>20   </td><td> TRUE</td></tr>\n",
       "\t<tr><td>30   </td><td>FALSE</td></tr>\n",
       "\t<tr><td>40   </td><td> TRUE</td></tr>\n",
       "</tbody>\n",
       "</table>\n"
      ],
      "text/latex": [
       "\\begin{tabular}{r|ll}\n",
       " ID & store\\\\\n",
       "\\hline\n",
       "\t 10    &  TRUE\\\\\n",
       "\t 20    &  TRUE\\\\\n",
       "\t 30    & FALSE\\\\\n",
       "\t 40    &  TRUE\\\\\n",
       "\\end{tabular}\n"
      ],
      "text/markdown": [
       "\n",
       "| ID | store |\n",
       "|---|---|\n",
       "| 10    |  TRUE |\n",
       "| 20    |  TRUE |\n",
       "| 30    | FALSE |\n",
       "| 40    |  TRUE |\n",
       "\n"
      ],
      "text/plain": [
       "  ID store\n",
       "1 10  TRUE\n",
       "2 20  TRUE\n",
       "3 30 FALSE\n",
       "4 40  TRUE"
      ]
     },
     "metadata": {},
     "output_type": "display_data"
    }
   ],
   "source": [
    "df[, c('ID', 'store')]"
   ]
  },
  {
   "cell_type": "markdown",
   "metadata": {},
   "source": [
    "### Append a Column to Data Frame"
   ]
  },
  {
   "cell_type": "code",
   "execution_count": 49,
   "metadata": {},
   "outputs": [],
   "source": [
    "quantity <- c(10, 35, 40, 5)"
   ]
  },
  {
   "cell_type": "code",
   "execution_count": 50,
   "metadata": {},
   "outputs": [
    {
     "data": {
      "text/html": [
       "<table>\n",
       "<thead><tr><th scope=col>ID</th><th scope=col>Items</th><th scope=col>store</th><th scope=col>price</th><th scope=col>quantity</th></tr></thead>\n",
       "<tbody>\n",
       "\t<tr><td>10      </td><td>book    </td><td> TRUE   </td><td> 2.5    </td><td>10      </td></tr>\n",
       "\t<tr><td>20      </td><td>chips   </td><td> TRUE   </td><td> 8.0    </td><td>35      </td></tr>\n",
       "\t<tr><td>30      </td><td>textbook</td><td>FALSE   </td><td>10.0    </td><td>40      </td></tr>\n",
       "\t<tr><td>40      </td><td>pencil  </td><td> TRUE   </td><td> 7.0    </td><td> 5      </td></tr>\n",
       "</tbody>\n",
       "</table>\n"
      ],
      "text/latex": [
       "\\begin{tabular}{r|lllll}\n",
       " ID & Items & store & price & quantity\\\\\n",
       "\\hline\n",
       "\t 10       & book     &  TRUE    &  2.5     & 10      \\\\\n",
       "\t 20       & chips    &  TRUE    &  8.0     & 35      \\\\\n",
       "\t 30       & textbook & FALSE    & 10.0     & 40      \\\\\n",
       "\t 40       & pencil   &  TRUE    &  7.0     &  5      \\\\\n",
       "\\end{tabular}\n"
      ],
      "text/markdown": [
       "\n",
       "| ID | Items | store | price | quantity |\n",
       "|---|---|---|---|---|\n",
       "| 10       | book     |  TRUE    |  2.5     | 10       |\n",
       "| 20       | chips    |  TRUE    |  8.0     | 35       |\n",
       "| 30       | textbook | FALSE    | 10.0     | 40       |\n",
       "| 40       | pencil   |  TRUE    |  7.0     |  5       |\n",
       "\n"
      ],
      "text/plain": [
       "  ID Items    store price quantity\n",
       "1 10 book      TRUE  2.5  10      \n",
       "2 20 chips     TRUE  8.0  35      \n",
       "3 30 textbook FALSE 10.0  40      \n",
       "4 40 pencil    TRUE  7.0   5      "
      ]
     },
     "metadata": {},
     "output_type": "display_data"
    }
   ],
   "source": [
    "df$quantity <- quantity\n",
    "df"
   ]
  },
  {
   "cell_type": "markdown",
   "metadata": {},
   "source": [
    "**Note:** The number of elements in the vector has to be equal to the no of elements in data frame"
   ]
  },
  {
   "cell_type": "code",
   "execution_count": 51,
   "metadata": {},
   "outputs": [
    {
     "ename": "ERROR",
     "evalue": "Error in `$<-.data.frame`(`*tmp*`, quantity, value = c(10, 35, 40)): replacement has 3 rows, data has 4\n",
     "output_type": "error",
     "traceback": [
      "Error in `$<-.data.frame`(`*tmp*`, quantity, value = c(10, 35, 40)): replacement has 3 rows, data has 4\nTraceback:\n",
      "1. `$<-`(`*tmp*`, quantity, value = c(10, 35, 40))",
      "2. `$<-.data.frame`(`*tmp*`, quantity, value = c(10, 35, 40))",
      "3. stop(sprintf(ngettext(N, \"replacement has %d row, data has %d\", \n .     \"replacement has %d rows, data has %d\"), N, nrows), domain = NA)"
     ]
    }
   ],
   "source": [
    "quantity <- c(10, 35, 40)\n",
    "# Add `quantity` to the `df` data frame\n",
    "df$quantity <- quantity"
   ]
  },
  {
   "cell_type": "markdown",
   "metadata": {},
   "source": [
    "### Select a Column of a Data Frame"
   ]
  },
  {
   "cell_type": "code",
   "execution_count": 52,
   "metadata": {},
   "outputs": [
    {
     "data": {
      "text/html": [
       "<ol class=list-inline>\n",
       "\t<li>10</li>\n",
       "\t<li>20</li>\n",
       "\t<li>30</li>\n",
       "\t<li>40</li>\n",
       "</ol>\n"
      ],
      "text/latex": [
       "\\begin{enumerate*}\n",
       "\\item 10\n",
       "\\item 20\n",
       "\\item 30\n",
       "\\item 40\n",
       "\\end{enumerate*}\n"
      ],
      "text/markdown": [
       "1. 10\n",
       "2. 20\n",
       "3. 30\n",
       "4. 40\n",
       "\n",
       "\n"
      ],
      "text/plain": [
       "[1] 10 20 30 40"
      ]
     },
     "metadata": {},
     "output_type": "display_data"
    }
   ],
   "source": [
    "df$ID"
   ]
  },
  {
   "cell_type": "code",
   "execution_count": 15,
   "metadata": {},
   "outputs": [],
   "source": [
    "names <- c(\"Mohammaed\",\"Ali\",\"Raza\",\"Shan\",\"Ahmed\")\n",
    "ages <- c(20,21,23,41,14)\n",
    "data <- data.frame(names,ages,stringsAsFactors = FALSE)"
   ]
  },
  {
   "cell_type": "code",
   "execution_count": 16,
   "metadata": {},
   "outputs": [
    {
     "data": {
      "text/html": [
       "<table>\n",
       "<thead><tr><th scope=col>names</th><th scope=col>ages</th></tr></thead>\n",
       "<tbody>\n",
       "\t<tr><td>Mohammaed</td><td>20       </td></tr>\n",
       "\t<tr><td>Ali      </td><td>21       </td></tr>\n",
       "\t<tr><td>Raza     </td><td>23       </td></tr>\n",
       "\t<tr><td>Shan     </td><td>41       </td></tr>\n",
       "\t<tr><td>Ahmed    </td><td>14       </td></tr>\n",
       "</tbody>\n",
       "</table>\n"
      ],
      "text/latex": [
       "\\begin{tabular}{r|ll}\n",
       " names & ages\\\\\n",
       "\\hline\n",
       "\t Mohammaed & 20       \\\\\n",
       "\t Ali       & 21       \\\\\n",
       "\t Raza      & 23       \\\\\n",
       "\t Shan      & 41       \\\\\n",
       "\t Ahmed     & 14       \\\\\n",
       "\\end{tabular}\n"
      ],
      "text/markdown": [
       "\n",
       "| names | ages |\n",
       "|---|---|\n",
       "| Mohammaed | 20        |\n",
       "| Ali       | 21        |\n",
       "| Raza      | 23        |\n",
       "| Shan      | 41        |\n",
       "| Ahmed     | 14        |\n",
       "\n"
      ],
      "text/plain": [
       "  names     ages\n",
       "1 Mohammaed 20  \n",
       "2 Ali       21  \n",
       "3 Raza      23  \n",
       "4 Shan      41  \n",
       "5 Ahmed     14  "
      ]
     },
     "metadata": {},
     "output_type": "display_data"
    }
   ],
   "source": [
    "data"
   ]
  },
  {
   "cell_type": "code",
   "execution_count": 23,
   "metadata": {},
   "outputs": [],
   "source": [
    "library(tidyverse)\n"
   ]
  },
  {
   "cell_type": "code",
   "execution_count": 28,
   "metadata": {},
   "outputs": [
    {
     "name": "stdout",
     "output_type": "stream",
     "text": [
      "package 'palmerpenguins' successfully unpacked and MD5 sums checked\n",
      "\n",
      "The downloaded binary packages are in\n",
      "\tC:\\Users\\Microsoft\\AppData\\Local\\Temp\\Rtmp0YiQhI\\downloaded_packages\n"
     ]
    }
   ],
   "source": [
    "install.packages(\"palmerpenguins\")\n"
   ]
  },
  {
   "cell_type": "code",
   "execution_count": 29,
   "metadata": {},
   "outputs": [
    {
     "name": "stderr",
     "output_type": "stream",
     "text": [
      "Warning message:\n",
      "\"package 'palmerpenguins' was built under R version 3.6.3\""
     ]
    }
   ],
   "source": [
    "library(palmerpenguins)"
   ]
  },
  {
   "cell_type": "code",
   "execution_count": 30,
   "metadata": {},
   "outputs": [
    {
     "data": {
      "text/html": [
       "<table>\n",
       "<thead><tr><th scope=col>species</th><th scope=col>island</th><th scope=col>bill_length_mm</th><th scope=col>bill_depth_mm</th><th scope=col>flipper_length_mm</th><th scope=col>body_mass_g</th><th scope=col>sex</th><th scope=col>year</th></tr></thead>\n",
       "<tbody>\n",
       "\t<tr><td>Adelie   </td><td>Torgersen</td><td>39.1     </td><td>18.7     </td><td>181      </td><td>3750     </td><td>male     </td><td>2007     </td></tr>\n",
       "\t<tr><td>Adelie   </td><td>Torgersen</td><td>39.5     </td><td>17.4     </td><td>186      </td><td>3800     </td><td>female   </td><td>2007     </td></tr>\n",
       "\t<tr><td>Adelie   </td><td>Torgersen</td><td>40.3     </td><td>18.0     </td><td>195      </td><td>3250     </td><td>female   </td><td>2007     </td></tr>\n",
       "\t<tr><td>Adelie   </td><td>Torgersen</td><td>  NA     </td><td>  NA     </td><td> NA      </td><td>  NA     </td><td>NA       </td><td>2007     </td></tr>\n",
       "\t<tr><td>Adelie   </td><td>Torgersen</td><td>36.7     </td><td>19.3     </td><td>193      </td><td>3450     </td><td>female   </td><td>2007     </td></tr>\n",
       "\t<tr><td>Adelie   </td><td>Torgersen</td><td>39.3     </td><td>20.6     </td><td>190      </td><td>3650     </td><td>male     </td><td>2007     </td></tr>\n",
       "\t<tr><td>Adelie   </td><td>Torgersen</td><td>38.9     </td><td>17.8     </td><td>181      </td><td>3625     </td><td>female   </td><td>2007     </td></tr>\n",
       "\t<tr><td>Adelie   </td><td>Torgersen</td><td>39.2     </td><td>19.6     </td><td>195      </td><td>4675     </td><td>male     </td><td>2007     </td></tr>\n",
       "\t<tr><td>Adelie   </td><td>Torgersen</td><td>34.1     </td><td>18.1     </td><td>193      </td><td>3475     </td><td>NA       </td><td>2007     </td></tr>\n",
       "\t<tr><td>Adelie   </td><td>Torgersen</td><td>42.0     </td><td>20.2     </td><td>190      </td><td>4250     </td><td>NA       </td><td>2007     </td></tr>\n",
       "\t<tr><td>Adelie   </td><td>Torgersen</td><td>37.8     </td><td>17.1     </td><td>186      </td><td>3300     </td><td>NA       </td><td>2007     </td></tr>\n",
       "\t<tr><td>Adelie   </td><td>Torgersen</td><td>37.8     </td><td>17.3     </td><td>180      </td><td>3700     </td><td>NA       </td><td>2007     </td></tr>\n",
       "\t<tr><td>Adelie   </td><td>Torgersen</td><td>41.1     </td><td>17.6     </td><td>182      </td><td>3200     </td><td>female   </td><td>2007     </td></tr>\n",
       "\t<tr><td>Adelie   </td><td>Torgersen</td><td>38.6     </td><td>21.2     </td><td>191      </td><td>3800     </td><td>male     </td><td>2007     </td></tr>\n",
       "\t<tr><td>Adelie   </td><td>Torgersen</td><td>34.6     </td><td>21.1     </td><td>198      </td><td>4400     </td><td>male     </td><td>2007     </td></tr>\n",
       "\t<tr><td>Adelie   </td><td>Torgersen</td><td>36.6     </td><td>17.8     </td><td>185      </td><td>3700     </td><td>female   </td><td>2007     </td></tr>\n",
       "\t<tr><td>Adelie   </td><td>Torgersen</td><td>38.7     </td><td>19.0     </td><td>195      </td><td>3450     </td><td>female   </td><td>2007     </td></tr>\n",
       "\t<tr><td>Adelie   </td><td>Torgersen</td><td>42.5     </td><td>20.7     </td><td>197      </td><td>4500     </td><td>male     </td><td>2007     </td></tr>\n",
       "\t<tr><td>Adelie   </td><td>Torgersen</td><td>34.4     </td><td>18.4     </td><td>184      </td><td>3325     </td><td>female   </td><td>2007     </td></tr>\n",
       "\t<tr><td>Adelie   </td><td>Torgersen</td><td>46.0     </td><td>21.5     </td><td>194      </td><td>4200     </td><td>male     </td><td>2007     </td></tr>\n",
       "\t<tr><td>Adelie   </td><td>Biscoe   </td><td>37.8     </td><td>18.3     </td><td>174      </td><td>3400     </td><td>female   </td><td>2007     </td></tr>\n",
       "\t<tr><td>Adelie   </td><td>Biscoe   </td><td>37.7     </td><td>18.7     </td><td>180      </td><td>3600     </td><td>male     </td><td>2007     </td></tr>\n",
       "\t<tr><td>Adelie   </td><td>Biscoe   </td><td>35.9     </td><td>19.2     </td><td>189      </td><td>3800     </td><td>female   </td><td>2007     </td></tr>\n",
       "\t<tr><td>Adelie   </td><td>Biscoe   </td><td>38.2     </td><td>18.1     </td><td>185      </td><td>3950     </td><td>male     </td><td>2007     </td></tr>\n",
       "\t<tr><td>Adelie   </td><td>Biscoe   </td><td>38.8     </td><td>17.2     </td><td>180      </td><td>3800     </td><td>male     </td><td>2007     </td></tr>\n",
       "\t<tr><td>Adelie   </td><td>Biscoe   </td><td>35.3     </td><td>18.9     </td><td>187      </td><td>3800     </td><td>female   </td><td>2007     </td></tr>\n",
       "\t<tr><td>Adelie   </td><td>Biscoe   </td><td>40.6     </td><td>18.6     </td><td>183      </td><td>3550     </td><td>male     </td><td>2007     </td></tr>\n",
       "\t<tr><td>Adelie   </td><td>Biscoe   </td><td>40.5     </td><td>17.9     </td><td>187      </td><td>3200     </td><td>female   </td><td>2007     </td></tr>\n",
       "\t<tr><td>Adelie   </td><td>Biscoe   </td><td>37.9     </td><td>18.6     </td><td>172      </td><td>3150     </td><td>female   </td><td>2007     </td></tr>\n",
       "\t<tr><td>Adelie   </td><td>Biscoe   </td><td>40.5     </td><td>18.9     </td><td>180      </td><td>3950     </td><td>male     </td><td>2007     </td></tr>\n",
       "\t<tr><td>...</td><td>...</td><td>...</td><td>...</td><td>...</td><td>...</td><td>...</td><td>...</td></tr>\n",
       "\t<tr><td>Chinstrap</td><td>Dream    </td><td>46.9     </td><td>16.6     </td><td>192      </td><td>2700     </td><td>female   </td><td>2008     </td></tr>\n",
       "\t<tr><td>Chinstrap</td><td>Dream    </td><td>53.5     </td><td>19.9     </td><td>205      </td><td>4500     </td><td>male     </td><td>2008     </td></tr>\n",
       "\t<tr><td>Chinstrap</td><td>Dream    </td><td>49.0     </td><td>19.5     </td><td>210      </td><td>3950     </td><td>male     </td><td>2008     </td></tr>\n",
       "\t<tr><td>Chinstrap</td><td>Dream    </td><td>46.2     </td><td>17.5     </td><td>187      </td><td>3650     </td><td>female   </td><td>2008     </td></tr>\n",
       "\t<tr><td>Chinstrap</td><td>Dream    </td><td>50.9     </td><td>19.1     </td><td>196      </td><td>3550     </td><td>male     </td><td>2008     </td></tr>\n",
       "\t<tr><td>Chinstrap</td><td>Dream    </td><td>45.5     </td><td>17.0     </td><td>196      </td><td>3500     </td><td>female   </td><td>2008     </td></tr>\n",
       "\t<tr><td>Chinstrap</td><td>Dream    </td><td>50.9     </td><td>17.9     </td><td>196      </td><td>3675     </td><td>female   </td><td>2009     </td></tr>\n",
       "\t<tr><td>Chinstrap</td><td>Dream    </td><td>50.8     </td><td>18.5     </td><td>201      </td><td>4450     </td><td>male     </td><td>2009     </td></tr>\n",
       "\t<tr><td>Chinstrap</td><td>Dream    </td><td>50.1     </td><td>17.9     </td><td>190      </td><td>3400     </td><td>female   </td><td>2009     </td></tr>\n",
       "\t<tr><td>Chinstrap</td><td>Dream    </td><td>49.0     </td><td>19.6     </td><td>212      </td><td>4300     </td><td>male     </td><td>2009     </td></tr>\n",
       "\t<tr><td>Chinstrap</td><td>Dream    </td><td>51.5     </td><td>18.7     </td><td>187      </td><td>3250     </td><td>male     </td><td>2009     </td></tr>\n",
       "\t<tr><td>Chinstrap</td><td>Dream    </td><td>49.8     </td><td>17.3     </td><td>198      </td><td>3675     </td><td>female   </td><td>2009     </td></tr>\n",
       "\t<tr><td>Chinstrap</td><td>Dream    </td><td>48.1     </td><td>16.4     </td><td>199      </td><td>3325     </td><td>female   </td><td>2009     </td></tr>\n",
       "\t<tr><td>Chinstrap</td><td>Dream    </td><td>51.4     </td><td>19.0     </td><td>201      </td><td>3950     </td><td>male     </td><td>2009     </td></tr>\n",
       "\t<tr><td>Chinstrap</td><td>Dream    </td><td>45.7     </td><td>17.3     </td><td>193      </td><td>3600     </td><td>female   </td><td>2009     </td></tr>\n",
       "\t<tr><td>Chinstrap</td><td>Dream    </td><td>50.7     </td><td>19.7     </td><td>203      </td><td>4050     </td><td>male     </td><td>2009     </td></tr>\n",
       "\t<tr><td>Chinstrap</td><td>Dream    </td><td>42.5     </td><td>17.3     </td><td>187      </td><td>3350     </td><td>female   </td><td>2009     </td></tr>\n",
       "\t<tr><td>Chinstrap</td><td>Dream    </td><td>52.2     </td><td>18.8     </td><td>197      </td><td>3450     </td><td>male     </td><td>2009     </td></tr>\n",
       "\t<tr><td>Chinstrap</td><td>Dream    </td><td>45.2     </td><td>16.6     </td><td>191      </td><td>3250     </td><td>female   </td><td>2009     </td></tr>\n",
       "\t<tr><td>Chinstrap</td><td>Dream    </td><td>49.3     </td><td>19.9     </td><td>203      </td><td>4050     </td><td>male     </td><td>2009     </td></tr>\n",
       "\t<tr><td>Chinstrap</td><td>Dream    </td><td>50.2     </td><td>18.8     </td><td>202      </td><td>3800     </td><td>male     </td><td>2009     </td></tr>\n",
       "\t<tr><td>Chinstrap</td><td>Dream    </td><td>45.6     </td><td>19.4     </td><td>194      </td><td>3525     </td><td>female   </td><td>2009     </td></tr>\n",
       "\t<tr><td>Chinstrap</td><td>Dream    </td><td>51.9     </td><td>19.5     </td><td>206      </td><td>3950     </td><td>male     </td><td>2009     </td></tr>\n",
       "\t<tr><td>Chinstrap</td><td>Dream    </td><td>46.8     </td><td>16.5     </td><td>189      </td><td>3650     </td><td>female   </td><td>2009     </td></tr>\n",
       "\t<tr><td>Chinstrap</td><td>Dream    </td><td>45.7     </td><td>17.0     </td><td>195      </td><td>3650     </td><td>female   </td><td>2009     </td></tr>\n",
       "\t<tr><td>Chinstrap</td><td>Dream    </td><td>55.8     </td><td>19.8     </td><td>207      </td><td>4000     </td><td>male     </td><td>2009     </td></tr>\n",
       "\t<tr><td>Chinstrap</td><td>Dream    </td><td>43.5     </td><td>18.1     </td><td>202      </td><td>3400     </td><td>female   </td><td>2009     </td></tr>\n",
       "\t<tr><td>Chinstrap</td><td>Dream    </td><td>49.6     </td><td>18.2     </td><td>193      </td><td>3775     </td><td>male     </td><td>2009     </td></tr>\n",
       "\t<tr><td>Chinstrap</td><td>Dream    </td><td>50.8     </td><td>19.0     </td><td>210      </td><td>4100     </td><td>male     </td><td>2009     </td></tr>\n",
       "\t<tr><td>Chinstrap</td><td>Dream    </td><td>50.2     </td><td>18.7     </td><td>198      </td><td>3775     </td><td>female   </td><td>2009     </td></tr>\n",
       "</tbody>\n",
       "</table>\n"
      ],
      "text/latex": [
       "\\begin{tabular}{r|llllllll}\n",
       " species & island & bill\\_length\\_mm & bill\\_depth\\_mm & flipper\\_length\\_mm & body\\_mass\\_g & sex & year\\\\\n",
       "\\hline\n",
       "\t Adelie    & Torgersen & 39.1      & 18.7      & 181       & 3750      & male      & 2007     \\\\\n",
       "\t Adelie    & Torgersen & 39.5      & 17.4      & 186       & 3800      & female    & 2007     \\\\\n",
       "\t Adelie    & Torgersen & 40.3      & 18.0      & 195       & 3250      & female    & 2007     \\\\\n",
       "\t Adelie    & Torgersen &   NA      &   NA      &  NA       &   NA      & NA        & 2007     \\\\\n",
       "\t Adelie    & Torgersen & 36.7      & 19.3      & 193       & 3450      & female    & 2007     \\\\\n",
       "\t Adelie    & Torgersen & 39.3      & 20.6      & 190       & 3650      & male      & 2007     \\\\\n",
       "\t Adelie    & Torgersen & 38.9      & 17.8      & 181       & 3625      & female    & 2007     \\\\\n",
       "\t Adelie    & Torgersen & 39.2      & 19.6      & 195       & 4675      & male      & 2007     \\\\\n",
       "\t Adelie    & Torgersen & 34.1      & 18.1      & 193       & 3475      & NA        & 2007     \\\\\n",
       "\t Adelie    & Torgersen & 42.0      & 20.2      & 190       & 4250      & NA        & 2007     \\\\\n",
       "\t Adelie    & Torgersen & 37.8      & 17.1      & 186       & 3300      & NA        & 2007     \\\\\n",
       "\t Adelie    & Torgersen & 37.8      & 17.3      & 180       & 3700      & NA        & 2007     \\\\\n",
       "\t Adelie    & Torgersen & 41.1      & 17.6      & 182       & 3200      & female    & 2007     \\\\\n",
       "\t Adelie    & Torgersen & 38.6      & 21.2      & 191       & 3800      & male      & 2007     \\\\\n",
       "\t Adelie    & Torgersen & 34.6      & 21.1      & 198       & 4400      & male      & 2007     \\\\\n",
       "\t Adelie    & Torgersen & 36.6      & 17.8      & 185       & 3700      & female    & 2007     \\\\\n",
       "\t Adelie    & Torgersen & 38.7      & 19.0      & 195       & 3450      & female    & 2007     \\\\\n",
       "\t Adelie    & Torgersen & 42.5      & 20.7      & 197       & 4500      & male      & 2007     \\\\\n",
       "\t Adelie    & Torgersen & 34.4      & 18.4      & 184       & 3325      & female    & 2007     \\\\\n",
       "\t Adelie    & Torgersen & 46.0      & 21.5      & 194       & 4200      & male      & 2007     \\\\\n",
       "\t Adelie    & Biscoe    & 37.8      & 18.3      & 174       & 3400      & female    & 2007     \\\\\n",
       "\t Adelie    & Biscoe    & 37.7      & 18.7      & 180       & 3600      & male      & 2007     \\\\\n",
       "\t Adelie    & Biscoe    & 35.9      & 19.2      & 189       & 3800      & female    & 2007     \\\\\n",
       "\t Adelie    & Biscoe    & 38.2      & 18.1      & 185       & 3950      & male      & 2007     \\\\\n",
       "\t Adelie    & Biscoe    & 38.8      & 17.2      & 180       & 3800      & male      & 2007     \\\\\n",
       "\t Adelie    & Biscoe    & 35.3      & 18.9      & 187       & 3800      & female    & 2007     \\\\\n",
       "\t Adelie    & Biscoe    & 40.6      & 18.6      & 183       & 3550      & male      & 2007     \\\\\n",
       "\t Adelie    & Biscoe    & 40.5      & 17.9      & 187       & 3200      & female    & 2007     \\\\\n",
       "\t Adelie    & Biscoe    & 37.9      & 18.6      & 172       & 3150      & female    & 2007     \\\\\n",
       "\t Adelie    & Biscoe    & 40.5      & 18.9      & 180       & 3950      & male      & 2007     \\\\\n",
       "\t ... & ... & ... & ... & ... & ... & ... & ...\\\\\n",
       "\t Chinstrap & Dream     & 46.9      & 16.6      & 192       & 2700      & female    & 2008     \\\\\n",
       "\t Chinstrap & Dream     & 53.5      & 19.9      & 205       & 4500      & male      & 2008     \\\\\n",
       "\t Chinstrap & Dream     & 49.0      & 19.5      & 210       & 3950      & male      & 2008     \\\\\n",
       "\t Chinstrap & Dream     & 46.2      & 17.5      & 187       & 3650      & female    & 2008     \\\\\n",
       "\t Chinstrap & Dream     & 50.9      & 19.1      & 196       & 3550      & male      & 2008     \\\\\n",
       "\t Chinstrap & Dream     & 45.5      & 17.0      & 196       & 3500      & female    & 2008     \\\\\n",
       "\t Chinstrap & Dream     & 50.9      & 17.9      & 196       & 3675      & female    & 2009     \\\\\n",
       "\t Chinstrap & Dream     & 50.8      & 18.5      & 201       & 4450      & male      & 2009     \\\\\n",
       "\t Chinstrap & Dream     & 50.1      & 17.9      & 190       & 3400      & female    & 2009     \\\\\n",
       "\t Chinstrap & Dream     & 49.0      & 19.6      & 212       & 4300      & male      & 2009     \\\\\n",
       "\t Chinstrap & Dream     & 51.5      & 18.7      & 187       & 3250      & male      & 2009     \\\\\n",
       "\t Chinstrap & Dream     & 49.8      & 17.3      & 198       & 3675      & female    & 2009     \\\\\n",
       "\t Chinstrap & Dream     & 48.1      & 16.4      & 199       & 3325      & female    & 2009     \\\\\n",
       "\t Chinstrap & Dream     & 51.4      & 19.0      & 201       & 3950      & male      & 2009     \\\\\n",
       "\t Chinstrap & Dream     & 45.7      & 17.3      & 193       & 3600      & female    & 2009     \\\\\n",
       "\t Chinstrap & Dream     & 50.7      & 19.7      & 203       & 4050      & male      & 2009     \\\\\n",
       "\t Chinstrap & Dream     & 42.5      & 17.3      & 187       & 3350      & female    & 2009     \\\\\n",
       "\t Chinstrap & Dream     & 52.2      & 18.8      & 197       & 3450      & male      & 2009     \\\\\n",
       "\t Chinstrap & Dream     & 45.2      & 16.6      & 191       & 3250      & female    & 2009     \\\\\n",
       "\t Chinstrap & Dream     & 49.3      & 19.9      & 203       & 4050      & male      & 2009     \\\\\n",
       "\t Chinstrap & Dream     & 50.2      & 18.8      & 202       & 3800      & male      & 2009     \\\\\n",
       "\t Chinstrap & Dream     & 45.6      & 19.4      & 194       & 3525      & female    & 2009     \\\\\n",
       "\t Chinstrap & Dream     & 51.9      & 19.5      & 206       & 3950      & male      & 2009     \\\\\n",
       "\t Chinstrap & Dream     & 46.8      & 16.5      & 189       & 3650      & female    & 2009     \\\\\n",
       "\t Chinstrap & Dream     & 45.7      & 17.0      & 195       & 3650      & female    & 2009     \\\\\n",
       "\t Chinstrap & Dream     & 55.8      & 19.8      & 207       & 4000      & male      & 2009     \\\\\n",
       "\t Chinstrap & Dream     & 43.5      & 18.1      & 202       & 3400      & female    & 2009     \\\\\n",
       "\t Chinstrap & Dream     & 49.6      & 18.2      & 193       & 3775      & male      & 2009     \\\\\n",
       "\t Chinstrap & Dream     & 50.8      & 19.0      & 210       & 4100      & male      & 2009     \\\\\n",
       "\t Chinstrap & Dream     & 50.2      & 18.7      & 198       & 3775      & female    & 2009     \\\\\n",
       "\\end{tabular}\n"
      ],
      "text/markdown": [
       "\n",
       "| species | island | bill_length_mm | bill_depth_mm | flipper_length_mm | body_mass_g | sex | year |\n",
       "|---|---|---|---|---|---|---|---|\n",
       "| Adelie    | Torgersen | 39.1      | 18.7      | 181       | 3750      | male      | 2007      |\n",
       "| Adelie    | Torgersen | 39.5      | 17.4      | 186       | 3800      | female    | 2007      |\n",
       "| Adelie    | Torgersen | 40.3      | 18.0      | 195       | 3250      | female    | 2007      |\n",
       "| Adelie    | Torgersen |   NA      |   NA      |  NA       |   NA      | NA        | 2007      |\n",
       "| Adelie    | Torgersen | 36.7      | 19.3      | 193       | 3450      | female    | 2007      |\n",
       "| Adelie    | Torgersen | 39.3      | 20.6      | 190       | 3650      | male      | 2007      |\n",
       "| Adelie    | Torgersen | 38.9      | 17.8      | 181       | 3625      | female    | 2007      |\n",
       "| Adelie    | Torgersen | 39.2      | 19.6      | 195       | 4675      | male      | 2007      |\n",
       "| Adelie    | Torgersen | 34.1      | 18.1      | 193       | 3475      | NA        | 2007      |\n",
       "| Adelie    | Torgersen | 42.0      | 20.2      | 190       | 4250      | NA        | 2007      |\n",
       "| Adelie    | Torgersen | 37.8      | 17.1      | 186       | 3300      | NA        | 2007      |\n",
       "| Adelie    | Torgersen | 37.8      | 17.3      | 180       | 3700      | NA        | 2007      |\n",
       "| Adelie    | Torgersen | 41.1      | 17.6      | 182       | 3200      | female    | 2007      |\n",
       "| Adelie    | Torgersen | 38.6      | 21.2      | 191       | 3800      | male      | 2007      |\n",
       "| Adelie    | Torgersen | 34.6      | 21.1      | 198       | 4400      | male      | 2007      |\n",
       "| Adelie    | Torgersen | 36.6      | 17.8      | 185       | 3700      | female    | 2007      |\n",
       "| Adelie    | Torgersen | 38.7      | 19.0      | 195       | 3450      | female    | 2007      |\n",
       "| Adelie    | Torgersen | 42.5      | 20.7      | 197       | 4500      | male      | 2007      |\n",
       "| Adelie    | Torgersen | 34.4      | 18.4      | 184       | 3325      | female    | 2007      |\n",
       "| Adelie    | Torgersen | 46.0      | 21.5      | 194       | 4200      | male      | 2007      |\n",
       "| Adelie    | Biscoe    | 37.8      | 18.3      | 174       | 3400      | female    | 2007      |\n",
       "| Adelie    | Biscoe    | 37.7      | 18.7      | 180       | 3600      | male      | 2007      |\n",
       "| Adelie    | Biscoe    | 35.9      | 19.2      | 189       | 3800      | female    | 2007      |\n",
       "| Adelie    | Biscoe    | 38.2      | 18.1      | 185       | 3950      | male      | 2007      |\n",
       "| Adelie    | Biscoe    | 38.8      | 17.2      | 180       | 3800      | male      | 2007      |\n",
       "| Adelie    | Biscoe    | 35.3      | 18.9      | 187       | 3800      | female    | 2007      |\n",
       "| Adelie    | Biscoe    | 40.6      | 18.6      | 183       | 3550      | male      | 2007      |\n",
       "| Adelie    | Biscoe    | 40.5      | 17.9      | 187       | 3200      | female    | 2007      |\n",
       "| Adelie    | Biscoe    | 37.9      | 18.6      | 172       | 3150      | female    | 2007      |\n",
       "| Adelie    | Biscoe    | 40.5      | 18.9      | 180       | 3950      | male      | 2007      |\n",
       "| ... | ... | ... | ... | ... | ... | ... | ... |\n",
       "| Chinstrap | Dream     | 46.9      | 16.6      | 192       | 2700      | female    | 2008      |\n",
       "| Chinstrap | Dream     | 53.5      | 19.9      | 205       | 4500      | male      | 2008      |\n",
       "| Chinstrap | Dream     | 49.0      | 19.5      | 210       | 3950      | male      | 2008      |\n",
       "| Chinstrap | Dream     | 46.2      | 17.5      | 187       | 3650      | female    | 2008      |\n",
       "| Chinstrap | Dream     | 50.9      | 19.1      | 196       | 3550      | male      | 2008      |\n",
       "| Chinstrap | Dream     | 45.5      | 17.0      | 196       | 3500      | female    | 2008      |\n",
       "| Chinstrap | Dream     | 50.9      | 17.9      | 196       | 3675      | female    | 2009      |\n",
       "| Chinstrap | Dream     | 50.8      | 18.5      | 201       | 4450      | male      | 2009      |\n",
       "| Chinstrap | Dream     | 50.1      | 17.9      | 190       | 3400      | female    | 2009      |\n",
       "| Chinstrap | Dream     | 49.0      | 19.6      | 212       | 4300      | male      | 2009      |\n",
       "| Chinstrap | Dream     | 51.5      | 18.7      | 187       | 3250      | male      | 2009      |\n",
       "| Chinstrap | Dream     | 49.8      | 17.3      | 198       | 3675      | female    | 2009      |\n",
       "| Chinstrap | Dream     | 48.1      | 16.4      | 199       | 3325      | female    | 2009      |\n",
       "| Chinstrap | Dream     | 51.4      | 19.0      | 201       | 3950      | male      | 2009      |\n",
       "| Chinstrap | Dream     | 45.7      | 17.3      | 193       | 3600      | female    | 2009      |\n",
       "| Chinstrap | Dream     | 50.7      | 19.7      | 203       | 4050      | male      | 2009      |\n",
       "| Chinstrap | Dream     | 42.5      | 17.3      | 187       | 3350      | female    | 2009      |\n",
       "| Chinstrap | Dream     | 52.2      | 18.8      | 197       | 3450      | male      | 2009      |\n",
       "| Chinstrap | Dream     | 45.2      | 16.6      | 191       | 3250      | female    | 2009      |\n",
       "| Chinstrap | Dream     | 49.3      | 19.9      | 203       | 4050      | male      | 2009      |\n",
       "| Chinstrap | Dream     | 50.2      | 18.8      | 202       | 3800      | male      | 2009      |\n",
       "| Chinstrap | Dream     | 45.6      | 19.4      | 194       | 3525      | female    | 2009      |\n",
       "| Chinstrap | Dream     | 51.9      | 19.5      | 206       | 3950      | male      | 2009      |\n",
       "| Chinstrap | Dream     | 46.8      | 16.5      | 189       | 3650      | female    | 2009      |\n",
       "| Chinstrap | Dream     | 45.7      | 17.0      | 195       | 3650      | female    | 2009      |\n",
       "| Chinstrap | Dream     | 55.8      | 19.8      | 207       | 4000      | male      | 2009      |\n",
       "| Chinstrap | Dream     | 43.5      | 18.1      | 202       | 3400      | female    | 2009      |\n",
       "| Chinstrap | Dream     | 49.6      | 18.2      | 193       | 3775      | male      | 2009      |\n",
       "| Chinstrap | Dream     | 50.8      | 19.0      | 210       | 4100      | male      | 2009      |\n",
       "| Chinstrap | Dream     | 50.2      | 18.7      | 198       | 3775      | female    | 2009      |\n",
       "\n"
      ],
      "text/plain": [
       "    species   island    bill_length_mm bill_depth_mm flipper_length_mm\n",
       "1   Adelie    Torgersen 39.1           18.7          181              \n",
       "2   Adelie    Torgersen 39.5           17.4          186              \n",
       "3   Adelie    Torgersen 40.3           18.0          195              \n",
       "4   Adelie    Torgersen   NA             NA           NA              \n",
       "5   Adelie    Torgersen 36.7           19.3          193              \n",
       "6   Adelie    Torgersen 39.3           20.6          190              \n",
       "7   Adelie    Torgersen 38.9           17.8          181              \n",
       "8   Adelie    Torgersen 39.2           19.6          195              \n",
       "9   Adelie    Torgersen 34.1           18.1          193              \n",
       "10  Adelie    Torgersen 42.0           20.2          190              \n",
       "11  Adelie    Torgersen 37.8           17.1          186              \n",
       "12  Adelie    Torgersen 37.8           17.3          180              \n",
       "13  Adelie    Torgersen 41.1           17.6          182              \n",
       "14  Adelie    Torgersen 38.6           21.2          191              \n",
       "15  Adelie    Torgersen 34.6           21.1          198              \n",
       "16  Adelie    Torgersen 36.6           17.8          185              \n",
       "17  Adelie    Torgersen 38.7           19.0          195              \n",
       "18  Adelie    Torgersen 42.5           20.7          197              \n",
       "19  Adelie    Torgersen 34.4           18.4          184              \n",
       "20  Adelie    Torgersen 46.0           21.5          194              \n",
       "21  Adelie    Biscoe    37.8           18.3          174              \n",
       "22  Adelie    Biscoe    37.7           18.7          180              \n",
       "23  Adelie    Biscoe    35.9           19.2          189              \n",
       "24  Adelie    Biscoe    38.2           18.1          185              \n",
       "25  Adelie    Biscoe    38.8           17.2          180              \n",
       "26  Adelie    Biscoe    35.3           18.9          187              \n",
       "27  Adelie    Biscoe    40.6           18.6          183              \n",
       "28  Adelie    Biscoe    40.5           17.9          187              \n",
       "29  Adelie    Biscoe    37.9           18.6          172              \n",
       "30  Adelie    Biscoe    40.5           18.9          180              \n",
       "... ...       ...       ...            ...           ...              \n",
       "315 Chinstrap Dream     46.9           16.6          192              \n",
       "316 Chinstrap Dream     53.5           19.9          205              \n",
       "317 Chinstrap Dream     49.0           19.5          210              \n",
       "318 Chinstrap Dream     46.2           17.5          187              \n",
       "319 Chinstrap Dream     50.9           19.1          196              \n",
       "320 Chinstrap Dream     45.5           17.0          196              \n",
       "321 Chinstrap Dream     50.9           17.9          196              \n",
       "322 Chinstrap Dream     50.8           18.5          201              \n",
       "323 Chinstrap Dream     50.1           17.9          190              \n",
       "324 Chinstrap Dream     49.0           19.6          212              \n",
       "325 Chinstrap Dream     51.5           18.7          187              \n",
       "326 Chinstrap Dream     49.8           17.3          198              \n",
       "327 Chinstrap Dream     48.1           16.4          199              \n",
       "328 Chinstrap Dream     51.4           19.0          201              \n",
       "329 Chinstrap Dream     45.7           17.3          193              \n",
       "330 Chinstrap Dream     50.7           19.7          203              \n",
       "331 Chinstrap Dream     42.5           17.3          187              \n",
       "332 Chinstrap Dream     52.2           18.8          197              \n",
       "333 Chinstrap Dream     45.2           16.6          191              \n",
       "334 Chinstrap Dream     49.3           19.9          203              \n",
       "335 Chinstrap Dream     50.2           18.8          202              \n",
       "336 Chinstrap Dream     45.6           19.4          194              \n",
       "337 Chinstrap Dream     51.9           19.5          206              \n",
       "338 Chinstrap Dream     46.8           16.5          189              \n",
       "339 Chinstrap Dream     45.7           17.0          195              \n",
       "340 Chinstrap Dream     55.8           19.8          207              \n",
       "341 Chinstrap Dream     43.5           18.1          202              \n",
       "342 Chinstrap Dream     49.6           18.2          193              \n",
       "343 Chinstrap Dream     50.8           19.0          210              \n",
       "344 Chinstrap Dream     50.2           18.7          198              \n",
       "    body_mass_g sex    year\n",
       "1   3750        male   2007\n",
       "2   3800        female 2007\n",
       "3   3250        female 2007\n",
       "4     NA        NA     2007\n",
       "5   3450        female 2007\n",
       "6   3650        male   2007\n",
       "7   3625        female 2007\n",
       "8   4675        male   2007\n",
       "9   3475        NA     2007\n",
       "10  4250        NA     2007\n",
       "11  3300        NA     2007\n",
       "12  3700        NA     2007\n",
       "13  3200        female 2007\n",
       "14  3800        male   2007\n",
       "15  4400        male   2007\n",
       "16  3700        female 2007\n",
       "17  3450        female 2007\n",
       "18  4500        male   2007\n",
       "19  3325        female 2007\n",
       "20  4200        male   2007\n",
       "21  3400        female 2007\n",
       "22  3600        male   2007\n",
       "23  3800        female 2007\n",
       "24  3950        male   2007\n",
       "25  3800        male   2007\n",
       "26  3800        female 2007\n",
       "27  3550        male   2007\n",
       "28  3200        female 2007\n",
       "29  3150        female 2007\n",
       "30  3950        male   2007\n",
       "... ...         ...    ... \n",
       "315 2700        female 2008\n",
       "316 4500        male   2008\n",
       "317 3950        male   2008\n",
       "318 3650        female 2008\n",
       "319 3550        male   2008\n",
       "320 3500        female 2008\n",
       "321 3675        female 2009\n",
       "322 4450        male   2009\n",
       "323 3400        female 2009\n",
       "324 4300        male   2009\n",
       "325 3250        male   2009\n",
       "326 3675        female 2009\n",
       "327 3325        female 2009\n",
       "328 3950        male   2009\n",
       "329 3600        female 2009\n",
       "330 4050        male   2009\n",
       "331 3350        female 2009\n",
       "332 3450        male   2009\n",
       "333 3250        female 2009\n",
       "334 4050        male   2009\n",
       "335 3800        male   2009\n",
       "336 3525        female 2009\n",
       "337 3950        male   2009\n",
       "338 3650        female 2009\n",
       "339 3650        female 2009\n",
       "340 4000        male   2009\n",
       "341 3400        female 2009\n",
       "342 3775        male   2009\n",
       "343 4100        male   2009\n",
       "344 3775        female 2009"
      ]
     },
     "metadata": {},
     "output_type": "display_data"
    }
   ],
   "source": [
    "penguins"
   ]
  },
  {
   "cell_type": "code",
   "execution_count": 31,
   "metadata": {},
   "outputs": [],
   "source": [
    "penguins_1 <- filter(penguins, species == \"Adelie\")"
   ]
  },
  {
   "cell_type": "code",
   "execution_count": 32,
   "metadata": {},
   "outputs": [
    {
     "data": {
      "text/html": [
       "<table>\n",
       "<thead><tr><th scope=col>species</th><th scope=col>island</th><th scope=col>bill_length_mm</th><th scope=col>bill_depth_mm</th><th scope=col>flipper_length_mm</th><th scope=col>body_mass_g</th><th scope=col>sex</th><th scope=col>year</th></tr></thead>\n",
       "<tbody>\n",
       "\t<tr><td>Adelie   </td><td>Torgersen</td><td>39.1     </td><td>18.7     </td><td>181      </td><td>3750     </td><td>male     </td><td>2007     </td></tr>\n",
       "\t<tr><td>Adelie   </td><td>Torgersen</td><td>39.5     </td><td>17.4     </td><td>186      </td><td>3800     </td><td>female   </td><td>2007     </td></tr>\n",
       "\t<tr><td>Adelie   </td><td>Torgersen</td><td>40.3     </td><td>18.0     </td><td>195      </td><td>3250     </td><td>female   </td><td>2007     </td></tr>\n",
       "\t<tr><td>Adelie   </td><td>Torgersen</td><td>  NA     </td><td>  NA     </td><td> NA      </td><td>  NA     </td><td>NA       </td><td>2007     </td></tr>\n",
       "\t<tr><td>Adelie   </td><td>Torgersen</td><td>36.7     </td><td>19.3     </td><td>193      </td><td>3450     </td><td>female   </td><td>2007     </td></tr>\n",
       "\t<tr><td>Adelie   </td><td>Torgersen</td><td>39.3     </td><td>20.6     </td><td>190      </td><td>3650     </td><td>male     </td><td>2007     </td></tr>\n",
       "\t<tr><td>Adelie   </td><td>Torgersen</td><td>38.9     </td><td>17.8     </td><td>181      </td><td>3625     </td><td>female   </td><td>2007     </td></tr>\n",
       "\t<tr><td>Adelie   </td><td>Torgersen</td><td>39.2     </td><td>19.6     </td><td>195      </td><td>4675     </td><td>male     </td><td>2007     </td></tr>\n",
       "\t<tr><td>Adelie   </td><td>Torgersen</td><td>34.1     </td><td>18.1     </td><td>193      </td><td>3475     </td><td>NA       </td><td>2007     </td></tr>\n",
       "\t<tr><td>Adelie   </td><td>Torgersen</td><td>42.0     </td><td>20.2     </td><td>190      </td><td>4250     </td><td>NA       </td><td>2007     </td></tr>\n",
       "\t<tr><td>Adelie   </td><td>Torgersen</td><td>37.8     </td><td>17.1     </td><td>186      </td><td>3300     </td><td>NA       </td><td>2007     </td></tr>\n",
       "\t<tr><td>Adelie   </td><td>Torgersen</td><td>37.8     </td><td>17.3     </td><td>180      </td><td>3700     </td><td>NA       </td><td>2007     </td></tr>\n",
       "\t<tr><td>Adelie   </td><td>Torgersen</td><td>41.1     </td><td>17.6     </td><td>182      </td><td>3200     </td><td>female   </td><td>2007     </td></tr>\n",
       "\t<tr><td>Adelie   </td><td>Torgersen</td><td>38.6     </td><td>21.2     </td><td>191      </td><td>3800     </td><td>male     </td><td>2007     </td></tr>\n",
       "\t<tr><td>Adelie   </td><td>Torgersen</td><td>34.6     </td><td>21.1     </td><td>198      </td><td>4400     </td><td>male     </td><td>2007     </td></tr>\n",
       "\t<tr><td>Adelie   </td><td>Torgersen</td><td>36.6     </td><td>17.8     </td><td>185      </td><td>3700     </td><td>female   </td><td>2007     </td></tr>\n",
       "\t<tr><td>Adelie   </td><td>Torgersen</td><td>38.7     </td><td>19.0     </td><td>195      </td><td>3450     </td><td>female   </td><td>2007     </td></tr>\n",
       "\t<tr><td>Adelie   </td><td>Torgersen</td><td>42.5     </td><td>20.7     </td><td>197      </td><td>4500     </td><td>male     </td><td>2007     </td></tr>\n",
       "\t<tr><td>Adelie   </td><td>Torgersen</td><td>34.4     </td><td>18.4     </td><td>184      </td><td>3325     </td><td>female   </td><td>2007     </td></tr>\n",
       "\t<tr><td>Adelie   </td><td>Torgersen</td><td>46.0     </td><td>21.5     </td><td>194      </td><td>4200     </td><td>male     </td><td>2007     </td></tr>\n",
       "\t<tr><td>Adelie   </td><td>Biscoe   </td><td>37.8     </td><td>18.3     </td><td>174      </td><td>3400     </td><td>female   </td><td>2007     </td></tr>\n",
       "\t<tr><td>Adelie   </td><td>Biscoe   </td><td>37.7     </td><td>18.7     </td><td>180      </td><td>3600     </td><td>male     </td><td>2007     </td></tr>\n",
       "\t<tr><td>Adelie   </td><td>Biscoe   </td><td>35.9     </td><td>19.2     </td><td>189      </td><td>3800     </td><td>female   </td><td>2007     </td></tr>\n",
       "\t<tr><td>Adelie   </td><td>Biscoe   </td><td>38.2     </td><td>18.1     </td><td>185      </td><td>3950     </td><td>male     </td><td>2007     </td></tr>\n",
       "\t<tr><td>Adelie   </td><td>Biscoe   </td><td>38.8     </td><td>17.2     </td><td>180      </td><td>3800     </td><td>male     </td><td>2007     </td></tr>\n",
       "\t<tr><td>Adelie   </td><td>Biscoe   </td><td>35.3     </td><td>18.9     </td><td>187      </td><td>3800     </td><td>female   </td><td>2007     </td></tr>\n",
       "\t<tr><td>Adelie   </td><td>Biscoe   </td><td>40.6     </td><td>18.6     </td><td>183      </td><td>3550     </td><td>male     </td><td>2007     </td></tr>\n",
       "\t<tr><td>Adelie   </td><td>Biscoe   </td><td>40.5     </td><td>17.9     </td><td>187      </td><td>3200     </td><td>female   </td><td>2007     </td></tr>\n",
       "\t<tr><td>Adelie   </td><td>Biscoe   </td><td>37.9     </td><td>18.6     </td><td>172      </td><td>3150     </td><td>female   </td><td>2007     </td></tr>\n",
       "\t<tr><td>Adelie   </td><td>Biscoe   </td><td>40.5     </td><td>18.9     </td><td>180      </td><td>3950     </td><td>male     </td><td>2007     </td></tr>\n",
       "\t<tr><td>...</td><td>...</td><td>...</td><td>...</td><td>...</td><td>...</td><td>...</td><td>...</td></tr>\n",
       "\t<tr><td>Adelie   </td><td>Torgersen</td><td>40.2     </td><td>17.0     </td><td>176      </td><td>3450     </td><td>female   </td><td>2009     </td></tr>\n",
       "\t<tr><td>Adelie   </td><td>Torgersen</td><td>41.4     </td><td>18.5     </td><td>202      </td><td>3875     </td><td>male     </td><td>2009     </td></tr>\n",
       "\t<tr><td>Adelie   </td><td>Torgersen</td><td>35.2     </td><td>15.9     </td><td>186      </td><td>3050     </td><td>female   </td><td>2009     </td></tr>\n",
       "\t<tr><td>Adelie   </td><td>Torgersen</td><td>40.6     </td><td>19.0     </td><td>199      </td><td>4000     </td><td>male     </td><td>2009     </td></tr>\n",
       "\t<tr><td>Adelie   </td><td>Torgersen</td><td>38.8     </td><td>17.6     </td><td>191      </td><td>3275     </td><td>female   </td><td>2009     </td></tr>\n",
       "\t<tr><td>Adelie   </td><td>Torgersen</td><td>41.5     </td><td>18.3     </td><td>195      </td><td>4300     </td><td>male     </td><td>2009     </td></tr>\n",
       "\t<tr><td>Adelie   </td><td>Torgersen</td><td>39.0     </td><td>17.1     </td><td>191      </td><td>3050     </td><td>female   </td><td>2009     </td></tr>\n",
       "\t<tr><td>Adelie   </td><td>Torgersen</td><td>44.1     </td><td>18.0     </td><td>210      </td><td>4000     </td><td>male     </td><td>2009     </td></tr>\n",
       "\t<tr><td>Adelie   </td><td>Torgersen</td><td>38.5     </td><td>17.9     </td><td>190      </td><td>3325     </td><td>female   </td><td>2009     </td></tr>\n",
       "\t<tr><td>Adelie   </td><td>Torgersen</td><td>43.1     </td><td>19.2     </td><td>197      </td><td>3500     </td><td>male     </td><td>2009     </td></tr>\n",
       "\t<tr><td>Adelie   </td><td>Dream    </td><td>36.8     </td><td>18.5     </td><td>193      </td><td>3500     </td><td>female   </td><td>2009     </td></tr>\n",
       "\t<tr><td>Adelie   </td><td>Dream    </td><td>37.5     </td><td>18.5     </td><td>199      </td><td>4475     </td><td>male     </td><td>2009     </td></tr>\n",
       "\t<tr><td>Adelie   </td><td>Dream    </td><td>38.1     </td><td>17.6     </td><td>187      </td><td>3425     </td><td>female   </td><td>2009     </td></tr>\n",
       "\t<tr><td>Adelie   </td><td>Dream    </td><td>41.1     </td><td>17.5     </td><td>190      </td><td>3900     </td><td>male     </td><td>2009     </td></tr>\n",
       "\t<tr><td>Adelie   </td><td>Dream    </td><td>35.6     </td><td>17.5     </td><td>191      </td><td>3175     </td><td>female   </td><td>2009     </td></tr>\n",
       "\t<tr><td>Adelie   </td><td>Dream    </td><td>40.2     </td><td>20.1     </td><td>200      </td><td>3975     </td><td>male     </td><td>2009     </td></tr>\n",
       "\t<tr><td>Adelie   </td><td>Dream    </td><td>37.0     </td><td>16.5     </td><td>185      </td><td>3400     </td><td>female   </td><td>2009     </td></tr>\n",
       "\t<tr><td>Adelie   </td><td>Dream    </td><td>39.7     </td><td>17.9     </td><td>193      </td><td>4250     </td><td>male     </td><td>2009     </td></tr>\n",
       "\t<tr><td>Adelie   </td><td>Dream    </td><td>40.2     </td><td>17.1     </td><td>193      </td><td>3400     </td><td>female   </td><td>2009     </td></tr>\n",
       "\t<tr><td>Adelie   </td><td>Dream    </td><td>40.6     </td><td>17.2     </td><td>187      </td><td>3475     </td><td>male     </td><td>2009     </td></tr>\n",
       "\t<tr><td>Adelie   </td><td>Dream    </td><td>32.1     </td><td>15.5     </td><td>188      </td><td>3050     </td><td>female   </td><td>2009     </td></tr>\n",
       "\t<tr><td>Adelie   </td><td>Dream    </td><td>40.7     </td><td>17.0     </td><td>190      </td><td>3725     </td><td>male     </td><td>2009     </td></tr>\n",
       "\t<tr><td>Adelie   </td><td>Dream    </td><td>37.3     </td><td>16.8     </td><td>192      </td><td>3000     </td><td>female   </td><td>2009     </td></tr>\n",
       "\t<tr><td>Adelie   </td><td>Dream    </td><td>39.0     </td><td>18.7     </td><td>185      </td><td>3650     </td><td>male     </td><td>2009     </td></tr>\n",
       "\t<tr><td>Adelie   </td><td>Dream    </td><td>39.2     </td><td>18.6     </td><td>190      </td><td>4250     </td><td>male     </td><td>2009     </td></tr>\n",
       "\t<tr><td>Adelie   </td><td>Dream    </td><td>36.6     </td><td>18.4     </td><td>184      </td><td>3475     </td><td>female   </td><td>2009     </td></tr>\n",
       "\t<tr><td>Adelie   </td><td>Dream    </td><td>36.0     </td><td>17.8     </td><td>195      </td><td>3450     </td><td>female   </td><td>2009     </td></tr>\n",
       "\t<tr><td>Adelie   </td><td>Dream    </td><td>37.8     </td><td>18.1     </td><td>193      </td><td>3750     </td><td>male     </td><td>2009     </td></tr>\n",
       "\t<tr><td>Adelie   </td><td>Dream    </td><td>36.0     </td><td>17.1     </td><td>187      </td><td>3700     </td><td>female   </td><td>2009     </td></tr>\n",
       "\t<tr><td>Adelie   </td><td>Dream    </td><td>41.5     </td><td>18.5     </td><td>201      </td><td>4000     </td><td>male     </td><td>2009     </td></tr>\n",
       "</tbody>\n",
       "</table>\n"
      ],
      "text/latex": [
       "\\begin{tabular}{r|llllllll}\n",
       " species & island & bill\\_length\\_mm & bill\\_depth\\_mm & flipper\\_length\\_mm & body\\_mass\\_g & sex & year\\\\\n",
       "\\hline\n",
       "\t Adelie    & Torgersen & 39.1      & 18.7      & 181       & 3750      & male      & 2007     \\\\\n",
       "\t Adelie    & Torgersen & 39.5      & 17.4      & 186       & 3800      & female    & 2007     \\\\\n",
       "\t Adelie    & Torgersen & 40.3      & 18.0      & 195       & 3250      & female    & 2007     \\\\\n",
       "\t Adelie    & Torgersen &   NA      &   NA      &  NA       &   NA      & NA        & 2007     \\\\\n",
       "\t Adelie    & Torgersen & 36.7      & 19.3      & 193       & 3450      & female    & 2007     \\\\\n",
       "\t Adelie    & Torgersen & 39.3      & 20.6      & 190       & 3650      & male      & 2007     \\\\\n",
       "\t Adelie    & Torgersen & 38.9      & 17.8      & 181       & 3625      & female    & 2007     \\\\\n",
       "\t Adelie    & Torgersen & 39.2      & 19.6      & 195       & 4675      & male      & 2007     \\\\\n",
       "\t Adelie    & Torgersen & 34.1      & 18.1      & 193       & 3475      & NA        & 2007     \\\\\n",
       "\t Adelie    & Torgersen & 42.0      & 20.2      & 190       & 4250      & NA        & 2007     \\\\\n",
       "\t Adelie    & Torgersen & 37.8      & 17.1      & 186       & 3300      & NA        & 2007     \\\\\n",
       "\t Adelie    & Torgersen & 37.8      & 17.3      & 180       & 3700      & NA        & 2007     \\\\\n",
       "\t Adelie    & Torgersen & 41.1      & 17.6      & 182       & 3200      & female    & 2007     \\\\\n",
       "\t Adelie    & Torgersen & 38.6      & 21.2      & 191       & 3800      & male      & 2007     \\\\\n",
       "\t Adelie    & Torgersen & 34.6      & 21.1      & 198       & 4400      & male      & 2007     \\\\\n",
       "\t Adelie    & Torgersen & 36.6      & 17.8      & 185       & 3700      & female    & 2007     \\\\\n",
       "\t Adelie    & Torgersen & 38.7      & 19.0      & 195       & 3450      & female    & 2007     \\\\\n",
       "\t Adelie    & Torgersen & 42.5      & 20.7      & 197       & 4500      & male      & 2007     \\\\\n",
       "\t Adelie    & Torgersen & 34.4      & 18.4      & 184       & 3325      & female    & 2007     \\\\\n",
       "\t Adelie    & Torgersen & 46.0      & 21.5      & 194       & 4200      & male      & 2007     \\\\\n",
       "\t Adelie    & Biscoe    & 37.8      & 18.3      & 174       & 3400      & female    & 2007     \\\\\n",
       "\t Adelie    & Biscoe    & 37.7      & 18.7      & 180       & 3600      & male      & 2007     \\\\\n",
       "\t Adelie    & Biscoe    & 35.9      & 19.2      & 189       & 3800      & female    & 2007     \\\\\n",
       "\t Adelie    & Biscoe    & 38.2      & 18.1      & 185       & 3950      & male      & 2007     \\\\\n",
       "\t Adelie    & Biscoe    & 38.8      & 17.2      & 180       & 3800      & male      & 2007     \\\\\n",
       "\t Adelie    & Biscoe    & 35.3      & 18.9      & 187       & 3800      & female    & 2007     \\\\\n",
       "\t Adelie    & Biscoe    & 40.6      & 18.6      & 183       & 3550      & male      & 2007     \\\\\n",
       "\t Adelie    & Biscoe    & 40.5      & 17.9      & 187       & 3200      & female    & 2007     \\\\\n",
       "\t Adelie    & Biscoe    & 37.9      & 18.6      & 172       & 3150      & female    & 2007     \\\\\n",
       "\t Adelie    & Biscoe    & 40.5      & 18.9      & 180       & 3950      & male      & 2007     \\\\\n",
       "\t ... & ... & ... & ... & ... & ... & ... & ...\\\\\n",
       "\t Adelie    & Torgersen & 40.2      & 17.0      & 176       & 3450      & female    & 2009     \\\\\n",
       "\t Adelie    & Torgersen & 41.4      & 18.5      & 202       & 3875      & male      & 2009     \\\\\n",
       "\t Adelie    & Torgersen & 35.2      & 15.9      & 186       & 3050      & female    & 2009     \\\\\n",
       "\t Adelie    & Torgersen & 40.6      & 19.0      & 199       & 4000      & male      & 2009     \\\\\n",
       "\t Adelie    & Torgersen & 38.8      & 17.6      & 191       & 3275      & female    & 2009     \\\\\n",
       "\t Adelie    & Torgersen & 41.5      & 18.3      & 195       & 4300      & male      & 2009     \\\\\n",
       "\t Adelie    & Torgersen & 39.0      & 17.1      & 191       & 3050      & female    & 2009     \\\\\n",
       "\t Adelie    & Torgersen & 44.1      & 18.0      & 210       & 4000      & male      & 2009     \\\\\n",
       "\t Adelie    & Torgersen & 38.5      & 17.9      & 190       & 3325      & female    & 2009     \\\\\n",
       "\t Adelie    & Torgersen & 43.1      & 19.2      & 197       & 3500      & male      & 2009     \\\\\n",
       "\t Adelie    & Dream     & 36.8      & 18.5      & 193       & 3500      & female    & 2009     \\\\\n",
       "\t Adelie    & Dream     & 37.5      & 18.5      & 199       & 4475      & male      & 2009     \\\\\n",
       "\t Adelie    & Dream     & 38.1      & 17.6      & 187       & 3425      & female    & 2009     \\\\\n",
       "\t Adelie    & Dream     & 41.1      & 17.5      & 190       & 3900      & male      & 2009     \\\\\n",
       "\t Adelie    & Dream     & 35.6      & 17.5      & 191       & 3175      & female    & 2009     \\\\\n",
       "\t Adelie    & Dream     & 40.2      & 20.1      & 200       & 3975      & male      & 2009     \\\\\n",
       "\t Adelie    & Dream     & 37.0      & 16.5      & 185       & 3400      & female    & 2009     \\\\\n",
       "\t Adelie    & Dream     & 39.7      & 17.9      & 193       & 4250      & male      & 2009     \\\\\n",
       "\t Adelie    & Dream     & 40.2      & 17.1      & 193       & 3400      & female    & 2009     \\\\\n",
       "\t Adelie    & Dream     & 40.6      & 17.2      & 187       & 3475      & male      & 2009     \\\\\n",
       "\t Adelie    & Dream     & 32.1      & 15.5      & 188       & 3050      & female    & 2009     \\\\\n",
       "\t Adelie    & Dream     & 40.7      & 17.0      & 190       & 3725      & male      & 2009     \\\\\n",
       "\t Adelie    & Dream     & 37.3      & 16.8      & 192       & 3000      & female    & 2009     \\\\\n",
       "\t Adelie    & Dream     & 39.0      & 18.7      & 185       & 3650      & male      & 2009     \\\\\n",
       "\t Adelie    & Dream     & 39.2      & 18.6      & 190       & 4250      & male      & 2009     \\\\\n",
       "\t Adelie    & Dream     & 36.6      & 18.4      & 184       & 3475      & female    & 2009     \\\\\n",
       "\t Adelie    & Dream     & 36.0      & 17.8      & 195       & 3450      & female    & 2009     \\\\\n",
       "\t Adelie    & Dream     & 37.8      & 18.1      & 193       & 3750      & male      & 2009     \\\\\n",
       "\t Adelie    & Dream     & 36.0      & 17.1      & 187       & 3700      & female    & 2009     \\\\\n",
       "\t Adelie    & Dream     & 41.5      & 18.5      & 201       & 4000      & male      & 2009     \\\\\n",
       "\\end{tabular}\n"
      ],
      "text/markdown": [
       "\n",
       "| species | island | bill_length_mm | bill_depth_mm | flipper_length_mm | body_mass_g | sex | year |\n",
       "|---|---|---|---|---|---|---|---|\n",
       "| Adelie    | Torgersen | 39.1      | 18.7      | 181       | 3750      | male      | 2007      |\n",
       "| Adelie    | Torgersen | 39.5      | 17.4      | 186       | 3800      | female    | 2007      |\n",
       "| Adelie    | Torgersen | 40.3      | 18.0      | 195       | 3250      | female    | 2007      |\n",
       "| Adelie    | Torgersen |   NA      |   NA      |  NA       |   NA      | NA        | 2007      |\n",
       "| Adelie    | Torgersen | 36.7      | 19.3      | 193       | 3450      | female    | 2007      |\n",
       "| Adelie    | Torgersen | 39.3      | 20.6      | 190       | 3650      | male      | 2007      |\n",
       "| Adelie    | Torgersen | 38.9      | 17.8      | 181       | 3625      | female    | 2007      |\n",
       "| Adelie    | Torgersen | 39.2      | 19.6      | 195       | 4675      | male      | 2007      |\n",
       "| Adelie    | Torgersen | 34.1      | 18.1      | 193       | 3475      | NA        | 2007      |\n",
       "| Adelie    | Torgersen | 42.0      | 20.2      | 190       | 4250      | NA        | 2007      |\n",
       "| Adelie    | Torgersen | 37.8      | 17.1      | 186       | 3300      | NA        | 2007      |\n",
       "| Adelie    | Torgersen | 37.8      | 17.3      | 180       | 3700      | NA        | 2007      |\n",
       "| Adelie    | Torgersen | 41.1      | 17.6      | 182       | 3200      | female    | 2007      |\n",
       "| Adelie    | Torgersen | 38.6      | 21.2      | 191       | 3800      | male      | 2007      |\n",
       "| Adelie    | Torgersen | 34.6      | 21.1      | 198       | 4400      | male      | 2007      |\n",
       "| Adelie    | Torgersen | 36.6      | 17.8      | 185       | 3700      | female    | 2007      |\n",
       "| Adelie    | Torgersen | 38.7      | 19.0      | 195       | 3450      | female    | 2007      |\n",
       "| Adelie    | Torgersen | 42.5      | 20.7      | 197       | 4500      | male      | 2007      |\n",
       "| Adelie    | Torgersen | 34.4      | 18.4      | 184       | 3325      | female    | 2007      |\n",
       "| Adelie    | Torgersen | 46.0      | 21.5      | 194       | 4200      | male      | 2007      |\n",
       "| Adelie    | Biscoe    | 37.8      | 18.3      | 174       | 3400      | female    | 2007      |\n",
       "| Adelie    | Biscoe    | 37.7      | 18.7      | 180       | 3600      | male      | 2007      |\n",
       "| Adelie    | Biscoe    | 35.9      | 19.2      | 189       | 3800      | female    | 2007      |\n",
       "| Adelie    | Biscoe    | 38.2      | 18.1      | 185       | 3950      | male      | 2007      |\n",
       "| Adelie    | Biscoe    | 38.8      | 17.2      | 180       | 3800      | male      | 2007      |\n",
       "| Adelie    | Biscoe    | 35.3      | 18.9      | 187       | 3800      | female    | 2007      |\n",
       "| Adelie    | Biscoe    | 40.6      | 18.6      | 183       | 3550      | male      | 2007      |\n",
       "| Adelie    | Biscoe    | 40.5      | 17.9      | 187       | 3200      | female    | 2007      |\n",
       "| Adelie    | Biscoe    | 37.9      | 18.6      | 172       | 3150      | female    | 2007      |\n",
       "| Adelie    | Biscoe    | 40.5      | 18.9      | 180       | 3950      | male      | 2007      |\n",
       "| ... | ... | ... | ... | ... | ... | ... | ... |\n",
       "| Adelie    | Torgersen | 40.2      | 17.0      | 176       | 3450      | female    | 2009      |\n",
       "| Adelie    | Torgersen | 41.4      | 18.5      | 202       | 3875      | male      | 2009      |\n",
       "| Adelie    | Torgersen | 35.2      | 15.9      | 186       | 3050      | female    | 2009      |\n",
       "| Adelie    | Torgersen | 40.6      | 19.0      | 199       | 4000      | male      | 2009      |\n",
       "| Adelie    | Torgersen | 38.8      | 17.6      | 191       | 3275      | female    | 2009      |\n",
       "| Adelie    | Torgersen | 41.5      | 18.3      | 195       | 4300      | male      | 2009      |\n",
       "| Adelie    | Torgersen | 39.0      | 17.1      | 191       | 3050      | female    | 2009      |\n",
       "| Adelie    | Torgersen | 44.1      | 18.0      | 210       | 4000      | male      | 2009      |\n",
       "| Adelie    | Torgersen | 38.5      | 17.9      | 190       | 3325      | female    | 2009      |\n",
       "| Adelie    | Torgersen | 43.1      | 19.2      | 197       | 3500      | male      | 2009      |\n",
       "| Adelie    | Dream     | 36.8      | 18.5      | 193       | 3500      | female    | 2009      |\n",
       "| Adelie    | Dream     | 37.5      | 18.5      | 199       | 4475      | male      | 2009      |\n",
       "| Adelie    | Dream     | 38.1      | 17.6      | 187       | 3425      | female    | 2009      |\n",
       "| Adelie    | Dream     | 41.1      | 17.5      | 190       | 3900      | male      | 2009      |\n",
       "| Adelie    | Dream     | 35.6      | 17.5      | 191       | 3175      | female    | 2009      |\n",
       "| Adelie    | Dream     | 40.2      | 20.1      | 200       | 3975      | male      | 2009      |\n",
       "| Adelie    | Dream     | 37.0      | 16.5      | 185       | 3400      | female    | 2009      |\n",
       "| Adelie    | Dream     | 39.7      | 17.9      | 193       | 4250      | male      | 2009      |\n",
       "| Adelie    | Dream     | 40.2      | 17.1      | 193       | 3400      | female    | 2009      |\n",
       "| Adelie    | Dream     | 40.6      | 17.2      | 187       | 3475      | male      | 2009      |\n",
       "| Adelie    | Dream     | 32.1      | 15.5      | 188       | 3050      | female    | 2009      |\n",
       "| Adelie    | Dream     | 40.7      | 17.0      | 190       | 3725      | male      | 2009      |\n",
       "| Adelie    | Dream     | 37.3      | 16.8      | 192       | 3000      | female    | 2009      |\n",
       "| Adelie    | Dream     | 39.0      | 18.7      | 185       | 3650      | male      | 2009      |\n",
       "| Adelie    | Dream     | 39.2      | 18.6      | 190       | 4250      | male      | 2009      |\n",
       "| Adelie    | Dream     | 36.6      | 18.4      | 184       | 3475      | female    | 2009      |\n",
       "| Adelie    | Dream     | 36.0      | 17.8      | 195       | 3450      | female    | 2009      |\n",
       "| Adelie    | Dream     | 37.8      | 18.1      | 193       | 3750      | male      | 2009      |\n",
       "| Adelie    | Dream     | 36.0      | 17.1      | 187       | 3700      | female    | 2009      |\n",
       "| Adelie    | Dream     | 41.5      | 18.5      | 201       | 4000      | male      | 2009      |\n",
       "\n"
      ],
      "text/plain": [
       "    species island    bill_length_mm bill_depth_mm flipper_length_mm\n",
       "1   Adelie  Torgersen 39.1           18.7          181              \n",
       "2   Adelie  Torgersen 39.5           17.4          186              \n",
       "3   Adelie  Torgersen 40.3           18.0          195              \n",
       "4   Adelie  Torgersen   NA             NA           NA              \n",
       "5   Adelie  Torgersen 36.7           19.3          193              \n",
       "6   Adelie  Torgersen 39.3           20.6          190              \n",
       "7   Adelie  Torgersen 38.9           17.8          181              \n",
       "8   Adelie  Torgersen 39.2           19.6          195              \n",
       "9   Adelie  Torgersen 34.1           18.1          193              \n",
       "10  Adelie  Torgersen 42.0           20.2          190              \n",
       "11  Adelie  Torgersen 37.8           17.1          186              \n",
       "12  Adelie  Torgersen 37.8           17.3          180              \n",
       "13  Adelie  Torgersen 41.1           17.6          182              \n",
       "14  Adelie  Torgersen 38.6           21.2          191              \n",
       "15  Adelie  Torgersen 34.6           21.1          198              \n",
       "16  Adelie  Torgersen 36.6           17.8          185              \n",
       "17  Adelie  Torgersen 38.7           19.0          195              \n",
       "18  Adelie  Torgersen 42.5           20.7          197              \n",
       "19  Adelie  Torgersen 34.4           18.4          184              \n",
       "20  Adelie  Torgersen 46.0           21.5          194              \n",
       "21  Adelie  Biscoe    37.8           18.3          174              \n",
       "22  Adelie  Biscoe    37.7           18.7          180              \n",
       "23  Adelie  Biscoe    35.9           19.2          189              \n",
       "24  Adelie  Biscoe    38.2           18.1          185              \n",
       "25  Adelie  Biscoe    38.8           17.2          180              \n",
       "26  Adelie  Biscoe    35.3           18.9          187              \n",
       "27  Adelie  Biscoe    40.6           18.6          183              \n",
       "28  Adelie  Biscoe    40.5           17.9          187              \n",
       "29  Adelie  Biscoe    37.9           18.6          172              \n",
       "30  Adelie  Biscoe    40.5           18.9          180              \n",
       "... ...     ...       ...            ...           ...              \n",
       "123 Adelie  Torgersen 40.2           17.0          176              \n",
       "124 Adelie  Torgersen 41.4           18.5          202              \n",
       "125 Adelie  Torgersen 35.2           15.9          186              \n",
       "126 Adelie  Torgersen 40.6           19.0          199              \n",
       "127 Adelie  Torgersen 38.8           17.6          191              \n",
       "128 Adelie  Torgersen 41.5           18.3          195              \n",
       "129 Adelie  Torgersen 39.0           17.1          191              \n",
       "130 Adelie  Torgersen 44.1           18.0          210              \n",
       "131 Adelie  Torgersen 38.5           17.9          190              \n",
       "132 Adelie  Torgersen 43.1           19.2          197              \n",
       "133 Adelie  Dream     36.8           18.5          193              \n",
       "134 Adelie  Dream     37.5           18.5          199              \n",
       "135 Adelie  Dream     38.1           17.6          187              \n",
       "136 Adelie  Dream     41.1           17.5          190              \n",
       "137 Adelie  Dream     35.6           17.5          191              \n",
       "138 Adelie  Dream     40.2           20.1          200              \n",
       "139 Adelie  Dream     37.0           16.5          185              \n",
       "140 Adelie  Dream     39.7           17.9          193              \n",
       "141 Adelie  Dream     40.2           17.1          193              \n",
       "142 Adelie  Dream     40.6           17.2          187              \n",
       "143 Adelie  Dream     32.1           15.5          188              \n",
       "144 Adelie  Dream     40.7           17.0          190              \n",
       "145 Adelie  Dream     37.3           16.8          192              \n",
       "146 Adelie  Dream     39.0           18.7          185              \n",
       "147 Adelie  Dream     39.2           18.6          190              \n",
       "148 Adelie  Dream     36.6           18.4          184              \n",
       "149 Adelie  Dream     36.0           17.8          195              \n",
       "150 Adelie  Dream     37.8           18.1          193              \n",
       "151 Adelie  Dream     36.0           17.1          187              \n",
       "152 Adelie  Dream     41.5           18.5          201              \n",
       "    body_mass_g sex    year\n",
       "1   3750        male   2007\n",
       "2   3800        female 2007\n",
       "3   3250        female 2007\n",
       "4     NA        NA     2007\n",
       "5   3450        female 2007\n",
       "6   3650        male   2007\n",
       "7   3625        female 2007\n",
       "8   4675        male   2007\n",
       "9   3475        NA     2007\n",
       "10  4250        NA     2007\n",
       "11  3300        NA     2007\n",
       "12  3700        NA     2007\n",
       "13  3200        female 2007\n",
       "14  3800        male   2007\n",
       "15  4400        male   2007\n",
       "16  3700        female 2007\n",
       "17  3450        female 2007\n",
       "18  4500        male   2007\n",
       "19  3325        female 2007\n",
       "20  4200        male   2007\n",
       "21  3400        female 2007\n",
       "22  3600        male   2007\n",
       "23  3800        female 2007\n",
       "24  3950        male   2007\n",
       "25  3800        male   2007\n",
       "26  3800        female 2007\n",
       "27  3550        male   2007\n",
       "28  3200        female 2007\n",
       "29  3150        female 2007\n",
       "30  3950        male   2007\n",
       "... ...         ...    ... \n",
       "123 3450        female 2009\n",
       "124 3875        male   2009\n",
       "125 3050        female 2009\n",
       "126 4000        male   2009\n",
       "127 3275        female 2009\n",
       "128 4300        male   2009\n",
       "129 3050        female 2009\n",
       "130 4000        male   2009\n",
       "131 3325        female 2009\n",
       "132 3500        male   2009\n",
       "133 3500        female 2009\n",
       "134 4475        male   2009\n",
       "135 3425        female 2009\n",
       "136 3900        male   2009\n",
       "137 3175        female 2009\n",
       "138 3975        male   2009\n",
       "139 3400        female 2009\n",
       "140 4250        male   2009\n",
       "141 3400        female 2009\n",
       "142 3475        male   2009\n",
       "143 3050        female 2009\n",
       "144 3725        male   2009\n",
       "145 3000        female 2009\n",
       "146 3650        male   2009\n",
       "147 4250        male   2009\n",
       "148 3475        female 2009\n",
       "149 3450        female 2009\n",
       "150 3750        male   2009\n",
       "151 3700        female 2009\n",
       "152 4000        male   2009"
      ]
     },
     "metadata": {},
     "output_type": "display_data"
    }
   ],
   "source": [
    "penguins_1"
   ]
  },
  {
   "cell_type": "code",
   "execution_count": 33,
   "metadata": {},
   "outputs": [],
   "source": [
    "penguins_2 <- filter(penguins,island == 'Dream')"
   ]
  },
  {
   "cell_type": "code",
   "execution_count": 34,
   "metadata": {},
   "outputs": [
    {
     "data": {
      "text/html": [
       "<table>\n",
       "<thead><tr><th scope=col>species</th><th scope=col>island</th><th scope=col>bill_length_mm</th><th scope=col>bill_depth_mm</th><th scope=col>flipper_length_mm</th><th scope=col>body_mass_g</th><th scope=col>sex</th><th scope=col>year</th></tr></thead>\n",
       "<tbody>\n",
       "\t<tr><td>Adelie</td><td>Dream </td><td>39.5  </td><td>16.7  </td><td>178   </td><td>3250  </td><td>female</td><td>2007  </td></tr>\n",
       "\t<tr><td>Adelie</td><td>Dream </td><td>37.2  </td><td>18.1  </td><td>178   </td><td>3900  </td><td>male  </td><td>2007  </td></tr>\n",
       "\t<tr><td>Adelie</td><td>Dream </td><td>39.5  </td><td>17.8  </td><td>188   </td><td>3300  </td><td>female</td><td>2007  </td></tr>\n",
       "\t<tr><td>Adelie</td><td>Dream </td><td>40.9  </td><td>18.9  </td><td>184   </td><td>3900  </td><td>male  </td><td>2007  </td></tr>\n",
       "\t<tr><td>Adelie</td><td>Dream </td><td>36.4  </td><td>17.0  </td><td>195   </td><td>3325  </td><td>female</td><td>2007  </td></tr>\n",
       "\t<tr><td>Adelie</td><td>Dream </td><td>39.2  </td><td>21.1  </td><td>196   </td><td>4150  </td><td>male  </td><td>2007  </td></tr>\n",
       "\t<tr><td>Adelie</td><td>Dream </td><td>38.8  </td><td>20.0  </td><td>190   </td><td>3950  </td><td>male  </td><td>2007  </td></tr>\n",
       "\t<tr><td>Adelie</td><td>Dream </td><td>42.2  </td><td>18.5  </td><td>180   </td><td>3550  </td><td>female</td><td>2007  </td></tr>\n",
       "\t<tr><td>Adelie</td><td>Dream </td><td>37.6  </td><td>19.3  </td><td>181   </td><td>3300  </td><td>female</td><td>2007  </td></tr>\n",
       "\t<tr><td>Adelie</td><td>Dream </td><td>39.8  </td><td>19.1  </td><td>184   </td><td>4650  </td><td>male  </td><td>2007  </td></tr>\n",
       "\t<tr><td>Adelie</td><td>Dream </td><td>36.5  </td><td>18.0  </td><td>182   </td><td>3150  </td><td>female</td><td>2007  </td></tr>\n",
       "\t<tr><td>Adelie</td><td>Dream </td><td>40.8  </td><td>18.4  </td><td>195   </td><td>3900  </td><td>male  </td><td>2007  </td></tr>\n",
       "\t<tr><td>Adelie</td><td>Dream </td><td>36.0  </td><td>18.5  </td><td>186   </td><td>3100  </td><td>female</td><td>2007  </td></tr>\n",
       "\t<tr><td>Adelie</td><td>Dream </td><td>44.1  </td><td>19.7  </td><td>196   </td><td>4400  </td><td>male  </td><td>2007  </td></tr>\n",
       "\t<tr><td>Adelie</td><td>Dream </td><td>37.0  </td><td>16.9  </td><td>185   </td><td>3000  </td><td>female</td><td>2007  </td></tr>\n",
       "\t<tr><td>Adelie</td><td>Dream </td><td>39.6  </td><td>18.8  </td><td>190   </td><td>4600  </td><td>male  </td><td>2007  </td></tr>\n",
       "\t<tr><td>Adelie</td><td>Dream </td><td>41.1  </td><td>19.0  </td><td>182   </td><td>3425  </td><td>male  </td><td>2007  </td></tr>\n",
       "\t<tr><td>Adelie</td><td>Dream </td><td>37.5  </td><td>18.9  </td><td>179   </td><td>2975  </td><td>NA    </td><td>2007  </td></tr>\n",
       "\t<tr><td>Adelie</td><td>Dream </td><td>36.0  </td><td>17.9  </td><td>190   </td><td>3450  </td><td>female</td><td>2007  </td></tr>\n",
       "\t<tr><td>Adelie</td><td>Dream </td><td>42.3  </td><td>21.2  </td><td>191   </td><td>4150  </td><td>male  </td><td>2007  </td></tr>\n",
       "\t<tr><td>Adelie</td><td>Dream </td><td>37.3  </td><td>17.8  </td><td>191   </td><td>3350  </td><td>female</td><td>2008  </td></tr>\n",
       "\t<tr><td>Adelie</td><td>Dream </td><td>41.3  </td><td>20.3  </td><td>194   </td><td>3550  </td><td>male  </td><td>2008  </td></tr>\n",
       "\t<tr><td>Adelie</td><td>Dream </td><td>36.3  </td><td>19.5  </td><td>190   </td><td>3800  </td><td>male  </td><td>2008  </td></tr>\n",
       "\t<tr><td>Adelie</td><td>Dream </td><td>36.9  </td><td>18.6  </td><td>189   </td><td>3500  </td><td>female</td><td>2008  </td></tr>\n",
       "\t<tr><td>Adelie</td><td>Dream </td><td>38.3  </td><td>19.2  </td><td>189   </td><td>3950  </td><td>male  </td><td>2008  </td></tr>\n",
       "\t<tr><td>Adelie</td><td>Dream </td><td>38.9  </td><td>18.8  </td><td>190   </td><td>3600  </td><td>female</td><td>2008  </td></tr>\n",
       "\t<tr><td>Adelie</td><td>Dream </td><td>35.7  </td><td>18.0  </td><td>202   </td><td>3550  </td><td>female</td><td>2008  </td></tr>\n",
       "\t<tr><td>Adelie</td><td>Dream </td><td>41.1  </td><td>18.1  </td><td>205   </td><td>4300  </td><td>male  </td><td>2008  </td></tr>\n",
       "\t<tr><td>Adelie</td><td>Dream </td><td>34.0  </td><td>17.1  </td><td>185   </td><td>3400  </td><td>female</td><td>2008  </td></tr>\n",
       "\t<tr><td>Adelie</td><td>Dream </td><td>39.6  </td><td>18.1  </td><td>186   </td><td>4450  </td><td>male  </td><td>2008  </td></tr>\n",
       "\t<tr><td>...</td><td>...</td><td>...</td><td>...</td><td>...</td><td>...</td><td>...</td><td>...</td></tr>\n",
       "\t<tr><td>Chinstrap</td><td>Dream    </td><td>46.9     </td><td>16.6     </td><td>192      </td><td>2700     </td><td>female   </td><td>2008     </td></tr>\n",
       "\t<tr><td>Chinstrap</td><td>Dream    </td><td>53.5     </td><td>19.9     </td><td>205      </td><td>4500     </td><td>male     </td><td>2008     </td></tr>\n",
       "\t<tr><td>Chinstrap</td><td>Dream    </td><td>49.0     </td><td>19.5     </td><td>210      </td><td>3950     </td><td>male     </td><td>2008     </td></tr>\n",
       "\t<tr><td>Chinstrap</td><td>Dream    </td><td>46.2     </td><td>17.5     </td><td>187      </td><td>3650     </td><td>female   </td><td>2008     </td></tr>\n",
       "\t<tr><td>Chinstrap</td><td>Dream    </td><td>50.9     </td><td>19.1     </td><td>196      </td><td>3550     </td><td>male     </td><td>2008     </td></tr>\n",
       "\t<tr><td>Chinstrap</td><td>Dream    </td><td>45.5     </td><td>17.0     </td><td>196      </td><td>3500     </td><td>female   </td><td>2008     </td></tr>\n",
       "\t<tr><td>Chinstrap</td><td>Dream    </td><td>50.9     </td><td>17.9     </td><td>196      </td><td>3675     </td><td>female   </td><td>2009     </td></tr>\n",
       "\t<tr><td>Chinstrap</td><td>Dream    </td><td>50.8     </td><td>18.5     </td><td>201      </td><td>4450     </td><td>male     </td><td>2009     </td></tr>\n",
       "\t<tr><td>Chinstrap</td><td>Dream    </td><td>50.1     </td><td>17.9     </td><td>190      </td><td>3400     </td><td>female   </td><td>2009     </td></tr>\n",
       "\t<tr><td>Chinstrap</td><td>Dream    </td><td>49.0     </td><td>19.6     </td><td>212      </td><td>4300     </td><td>male     </td><td>2009     </td></tr>\n",
       "\t<tr><td>Chinstrap</td><td>Dream    </td><td>51.5     </td><td>18.7     </td><td>187      </td><td>3250     </td><td>male     </td><td>2009     </td></tr>\n",
       "\t<tr><td>Chinstrap</td><td>Dream    </td><td>49.8     </td><td>17.3     </td><td>198      </td><td>3675     </td><td>female   </td><td>2009     </td></tr>\n",
       "\t<tr><td>Chinstrap</td><td>Dream    </td><td>48.1     </td><td>16.4     </td><td>199      </td><td>3325     </td><td>female   </td><td>2009     </td></tr>\n",
       "\t<tr><td>Chinstrap</td><td>Dream    </td><td>51.4     </td><td>19.0     </td><td>201      </td><td>3950     </td><td>male     </td><td>2009     </td></tr>\n",
       "\t<tr><td>Chinstrap</td><td>Dream    </td><td>45.7     </td><td>17.3     </td><td>193      </td><td>3600     </td><td>female   </td><td>2009     </td></tr>\n",
       "\t<tr><td>Chinstrap</td><td>Dream    </td><td>50.7     </td><td>19.7     </td><td>203      </td><td>4050     </td><td>male     </td><td>2009     </td></tr>\n",
       "\t<tr><td>Chinstrap</td><td>Dream    </td><td>42.5     </td><td>17.3     </td><td>187      </td><td>3350     </td><td>female   </td><td>2009     </td></tr>\n",
       "\t<tr><td>Chinstrap</td><td>Dream    </td><td>52.2     </td><td>18.8     </td><td>197      </td><td>3450     </td><td>male     </td><td>2009     </td></tr>\n",
       "\t<tr><td>Chinstrap</td><td>Dream    </td><td>45.2     </td><td>16.6     </td><td>191      </td><td>3250     </td><td>female   </td><td>2009     </td></tr>\n",
       "\t<tr><td>Chinstrap</td><td>Dream    </td><td>49.3     </td><td>19.9     </td><td>203      </td><td>4050     </td><td>male     </td><td>2009     </td></tr>\n",
       "\t<tr><td>Chinstrap</td><td>Dream    </td><td>50.2     </td><td>18.8     </td><td>202      </td><td>3800     </td><td>male     </td><td>2009     </td></tr>\n",
       "\t<tr><td>Chinstrap</td><td>Dream    </td><td>45.6     </td><td>19.4     </td><td>194      </td><td>3525     </td><td>female   </td><td>2009     </td></tr>\n",
       "\t<tr><td>Chinstrap</td><td>Dream    </td><td>51.9     </td><td>19.5     </td><td>206      </td><td>3950     </td><td>male     </td><td>2009     </td></tr>\n",
       "\t<tr><td>Chinstrap</td><td>Dream    </td><td>46.8     </td><td>16.5     </td><td>189      </td><td>3650     </td><td>female   </td><td>2009     </td></tr>\n",
       "\t<tr><td>Chinstrap</td><td>Dream    </td><td>45.7     </td><td>17.0     </td><td>195      </td><td>3650     </td><td>female   </td><td>2009     </td></tr>\n",
       "\t<tr><td>Chinstrap</td><td>Dream    </td><td>55.8     </td><td>19.8     </td><td>207      </td><td>4000     </td><td>male     </td><td>2009     </td></tr>\n",
       "\t<tr><td>Chinstrap</td><td>Dream    </td><td>43.5     </td><td>18.1     </td><td>202      </td><td>3400     </td><td>female   </td><td>2009     </td></tr>\n",
       "\t<tr><td>Chinstrap</td><td>Dream    </td><td>49.6     </td><td>18.2     </td><td>193      </td><td>3775     </td><td>male     </td><td>2009     </td></tr>\n",
       "\t<tr><td>Chinstrap</td><td>Dream    </td><td>50.8     </td><td>19.0     </td><td>210      </td><td>4100     </td><td>male     </td><td>2009     </td></tr>\n",
       "\t<tr><td>Chinstrap</td><td>Dream    </td><td>50.2     </td><td>18.7     </td><td>198      </td><td>3775     </td><td>female   </td><td>2009     </td></tr>\n",
       "</tbody>\n",
       "</table>\n"
      ],
      "text/latex": [
       "\\begin{tabular}{r|llllllll}\n",
       " species & island & bill\\_length\\_mm & bill\\_depth\\_mm & flipper\\_length\\_mm & body\\_mass\\_g & sex & year\\\\\n",
       "\\hline\n",
       "\t Adelie & Dream  & 39.5   & 16.7   & 178    & 3250   & female & 2007  \\\\\n",
       "\t Adelie & Dream  & 37.2   & 18.1   & 178    & 3900   & male   & 2007  \\\\\n",
       "\t Adelie & Dream  & 39.5   & 17.8   & 188    & 3300   & female & 2007  \\\\\n",
       "\t Adelie & Dream  & 40.9   & 18.9   & 184    & 3900   & male   & 2007  \\\\\n",
       "\t Adelie & Dream  & 36.4   & 17.0   & 195    & 3325   & female & 2007  \\\\\n",
       "\t Adelie & Dream  & 39.2   & 21.1   & 196    & 4150   & male   & 2007  \\\\\n",
       "\t Adelie & Dream  & 38.8   & 20.0   & 190    & 3950   & male   & 2007  \\\\\n",
       "\t Adelie & Dream  & 42.2   & 18.5   & 180    & 3550   & female & 2007  \\\\\n",
       "\t Adelie & Dream  & 37.6   & 19.3   & 181    & 3300   & female & 2007  \\\\\n",
       "\t Adelie & Dream  & 39.8   & 19.1   & 184    & 4650   & male   & 2007  \\\\\n",
       "\t Adelie & Dream  & 36.5   & 18.0   & 182    & 3150   & female & 2007  \\\\\n",
       "\t Adelie & Dream  & 40.8   & 18.4   & 195    & 3900   & male   & 2007  \\\\\n",
       "\t Adelie & Dream  & 36.0   & 18.5   & 186    & 3100   & female & 2007  \\\\\n",
       "\t Adelie & Dream  & 44.1   & 19.7   & 196    & 4400   & male   & 2007  \\\\\n",
       "\t Adelie & Dream  & 37.0   & 16.9   & 185    & 3000   & female & 2007  \\\\\n",
       "\t Adelie & Dream  & 39.6   & 18.8   & 190    & 4600   & male   & 2007  \\\\\n",
       "\t Adelie & Dream  & 41.1   & 19.0   & 182    & 3425   & male   & 2007  \\\\\n",
       "\t Adelie & Dream  & 37.5   & 18.9   & 179    & 2975   & NA     & 2007  \\\\\n",
       "\t Adelie & Dream  & 36.0   & 17.9   & 190    & 3450   & female & 2007  \\\\\n",
       "\t Adelie & Dream  & 42.3   & 21.2   & 191    & 4150   & male   & 2007  \\\\\n",
       "\t Adelie & Dream  & 37.3   & 17.8   & 191    & 3350   & female & 2008  \\\\\n",
       "\t Adelie & Dream  & 41.3   & 20.3   & 194    & 3550   & male   & 2008  \\\\\n",
       "\t Adelie & Dream  & 36.3   & 19.5   & 190    & 3800   & male   & 2008  \\\\\n",
       "\t Adelie & Dream  & 36.9   & 18.6   & 189    & 3500   & female & 2008  \\\\\n",
       "\t Adelie & Dream  & 38.3   & 19.2   & 189    & 3950   & male   & 2008  \\\\\n",
       "\t Adelie & Dream  & 38.9   & 18.8   & 190    & 3600   & female & 2008  \\\\\n",
       "\t Adelie & Dream  & 35.7   & 18.0   & 202    & 3550   & female & 2008  \\\\\n",
       "\t Adelie & Dream  & 41.1   & 18.1   & 205    & 4300   & male   & 2008  \\\\\n",
       "\t Adelie & Dream  & 34.0   & 17.1   & 185    & 3400   & female & 2008  \\\\\n",
       "\t Adelie & Dream  & 39.6   & 18.1   & 186    & 4450   & male   & 2008  \\\\\n",
       "\t ... & ... & ... & ... & ... & ... & ... & ...\\\\\n",
       "\t Chinstrap & Dream     & 46.9      & 16.6      & 192       & 2700      & female    & 2008     \\\\\n",
       "\t Chinstrap & Dream     & 53.5      & 19.9      & 205       & 4500      & male      & 2008     \\\\\n",
       "\t Chinstrap & Dream     & 49.0      & 19.5      & 210       & 3950      & male      & 2008     \\\\\n",
       "\t Chinstrap & Dream     & 46.2      & 17.5      & 187       & 3650      & female    & 2008     \\\\\n",
       "\t Chinstrap & Dream     & 50.9      & 19.1      & 196       & 3550      & male      & 2008     \\\\\n",
       "\t Chinstrap & Dream     & 45.5      & 17.0      & 196       & 3500      & female    & 2008     \\\\\n",
       "\t Chinstrap & Dream     & 50.9      & 17.9      & 196       & 3675      & female    & 2009     \\\\\n",
       "\t Chinstrap & Dream     & 50.8      & 18.5      & 201       & 4450      & male      & 2009     \\\\\n",
       "\t Chinstrap & Dream     & 50.1      & 17.9      & 190       & 3400      & female    & 2009     \\\\\n",
       "\t Chinstrap & Dream     & 49.0      & 19.6      & 212       & 4300      & male      & 2009     \\\\\n",
       "\t Chinstrap & Dream     & 51.5      & 18.7      & 187       & 3250      & male      & 2009     \\\\\n",
       "\t Chinstrap & Dream     & 49.8      & 17.3      & 198       & 3675      & female    & 2009     \\\\\n",
       "\t Chinstrap & Dream     & 48.1      & 16.4      & 199       & 3325      & female    & 2009     \\\\\n",
       "\t Chinstrap & Dream     & 51.4      & 19.0      & 201       & 3950      & male      & 2009     \\\\\n",
       "\t Chinstrap & Dream     & 45.7      & 17.3      & 193       & 3600      & female    & 2009     \\\\\n",
       "\t Chinstrap & Dream     & 50.7      & 19.7      & 203       & 4050      & male      & 2009     \\\\\n",
       "\t Chinstrap & Dream     & 42.5      & 17.3      & 187       & 3350      & female    & 2009     \\\\\n",
       "\t Chinstrap & Dream     & 52.2      & 18.8      & 197       & 3450      & male      & 2009     \\\\\n",
       "\t Chinstrap & Dream     & 45.2      & 16.6      & 191       & 3250      & female    & 2009     \\\\\n",
       "\t Chinstrap & Dream     & 49.3      & 19.9      & 203       & 4050      & male      & 2009     \\\\\n",
       "\t Chinstrap & Dream     & 50.2      & 18.8      & 202       & 3800      & male      & 2009     \\\\\n",
       "\t Chinstrap & Dream     & 45.6      & 19.4      & 194       & 3525      & female    & 2009     \\\\\n",
       "\t Chinstrap & Dream     & 51.9      & 19.5      & 206       & 3950      & male      & 2009     \\\\\n",
       "\t Chinstrap & Dream     & 46.8      & 16.5      & 189       & 3650      & female    & 2009     \\\\\n",
       "\t Chinstrap & Dream     & 45.7      & 17.0      & 195       & 3650      & female    & 2009     \\\\\n",
       "\t Chinstrap & Dream     & 55.8      & 19.8      & 207       & 4000      & male      & 2009     \\\\\n",
       "\t Chinstrap & Dream     & 43.5      & 18.1      & 202       & 3400      & female    & 2009     \\\\\n",
       "\t Chinstrap & Dream     & 49.6      & 18.2      & 193       & 3775      & male      & 2009     \\\\\n",
       "\t Chinstrap & Dream     & 50.8      & 19.0      & 210       & 4100      & male      & 2009     \\\\\n",
       "\t Chinstrap & Dream     & 50.2      & 18.7      & 198       & 3775      & female    & 2009     \\\\\n",
       "\\end{tabular}\n"
      ],
      "text/markdown": [
       "\n",
       "| species | island | bill_length_mm | bill_depth_mm | flipper_length_mm | body_mass_g | sex | year |\n",
       "|---|---|---|---|---|---|---|---|\n",
       "| Adelie | Dream  | 39.5   | 16.7   | 178    | 3250   | female | 2007   |\n",
       "| Adelie | Dream  | 37.2   | 18.1   | 178    | 3900   | male   | 2007   |\n",
       "| Adelie | Dream  | 39.5   | 17.8   | 188    | 3300   | female | 2007   |\n",
       "| Adelie | Dream  | 40.9   | 18.9   | 184    | 3900   | male   | 2007   |\n",
       "| Adelie | Dream  | 36.4   | 17.0   | 195    | 3325   | female | 2007   |\n",
       "| Adelie | Dream  | 39.2   | 21.1   | 196    | 4150   | male   | 2007   |\n",
       "| Adelie | Dream  | 38.8   | 20.0   | 190    | 3950   | male   | 2007   |\n",
       "| Adelie | Dream  | 42.2   | 18.5   | 180    | 3550   | female | 2007   |\n",
       "| Adelie | Dream  | 37.6   | 19.3   | 181    | 3300   | female | 2007   |\n",
       "| Adelie | Dream  | 39.8   | 19.1   | 184    | 4650   | male   | 2007   |\n",
       "| Adelie | Dream  | 36.5   | 18.0   | 182    | 3150   | female | 2007   |\n",
       "| Adelie | Dream  | 40.8   | 18.4   | 195    | 3900   | male   | 2007   |\n",
       "| Adelie | Dream  | 36.0   | 18.5   | 186    | 3100   | female | 2007   |\n",
       "| Adelie | Dream  | 44.1   | 19.7   | 196    | 4400   | male   | 2007   |\n",
       "| Adelie | Dream  | 37.0   | 16.9   | 185    | 3000   | female | 2007   |\n",
       "| Adelie | Dream  | 39.6   | 18.8   | 190    | 4600   | male   | 2007   |\n",
       "| Adelie | Dream  | 41.1   | 19.0   | 182    | 3425   | male   | 2007   |\n",
       "| Adelie | Dream  | 37.5   | 18.9   | 179    | 2975   | NA     | 2007   |\n",
       "| Adelie | Dream  | 36.0   | 17.9   | 190    | 3450   | female | 2007   |\n",
       "| Adelie | Dream  | 42.3   | 21.2   | 191    | 4150   | male   | 2007   |\n",
       "| Adelie | Dream  | 37.3   | 17.8   | 191    | 3350   | female | 2008   |\n",
       "| Adelie | Dream  | 41.3   | 20.3   | 194    | 3550   | male   | 2008   |\n",
       "| Adelie | Dream  | 36.3   | 19.5   | 190    | 3800   | male   | 2008   |\n",
       "| Adelie | Dream  | 36.9   | 18.6   | 189    | 3500   | female | 2008   |\n",
       "| Adelie | Dream  | 38.3   | 19.2   | 189    | 3950   | male   | 2008   |\n",
       "| Adelie | Dream  | 38.9   | 18.8   | 190    | 3600   | female | 2008   |\n",
       "| Adelie | Dream  | 35.7   | 18.0   | 202    | 3550   | female | 2008   |\n",
       "| Adelie | Dream  | 41.1   | 18.1   | 205    | 4300   | male   | 2008   |\n",
       "| Adelie | Dream  | 34.0   | 17.1   | 185    | 3400   | female | 2008   |\n",
       "| Adelie | Dream  | 39.6   | 18.1   | 186    | 4450   | male   | 2008   |\n",
       "| ... | ... | ... | ... | ... | ... | ... | ... |\n",
       "| Chinstrap | Dream     | 46.9      | 16.6      | 192       | 2700      | female    | 2008      |\n",
       "| Chinstrap | Dream     | 53.5      | 19.9      | 205       | 4500      | male      | 2008      |\n",
       "| Chinstrap | Dream     | 49.0      | 19.5      | 210       | 3950      | male      | 2008      |\n",
       "| Chinstrap | Dream     | 46.2      | 17.5      | 187       | 3650      | female    | 2008      |\n",
       "| Chinstrap | Dream     | 50.9      | 19.1      | 196       | 3550      | male      | 2008      |\n",
       "| Chinstrap | Dream     | 45.5      | 17.0      | 196       | 3500      | female    | 2008      |\n",
       "| Chinstrap | Dream     | 50.9      | 17.9      | 196       | 3675      | female    | 2009      |\n",
       "| Chinstrap | Dream     | 50.8      | 18.5      | 201       | 4450      | male      | 2009      |\n",
       "| Chinstrap | Dream     | 50.1      | 17.9      | 190       | 3400      | female    | 2009      |\n",
       "| Chinstrap | Dream     | 49.0      | 19.6      | 212       | 4300      | male      | 2009      |\n",
       "| Chinstrap | Dream     | 51.5      | 18.7      | 187       | 3250      | male      | 2009      |\n",
       "| Chinstrap | Dream     | 49.8      | 17.3      | 198       | 3675      | female    | 2009      |\n",
       "| Chinstrap | Dream     | 48.1      | 16.4      | 199       | 3325      | female    | 2009      |\n",
       "| Chinstrap | Dream     | 51.4      | 19.0      | 201       | 3950      | male      | 2009      |\n",
       "| Chinstrap | Dream     | 45.7      | 17.3      | 193       | 3600      | female    | 2009      |\n",
       "| Chinstrap | Dream     | 50.7      | 19.7      | 203       | 4050      | male      | 2009      |\n",
       "| Chinstrap | Dream     | 42.5      | 17.3      | 187       | 3350      | female    | 2009      |\n",
       "| Chinstrap | Dream     | 52.2      | 18.8      | 197       | 3450      | male      | 2009      |\n",
       "| Chinstrap | Dream     | 45.2      | 16.6      | 191       | 3250      | female    | 2009      |\n",
       "| Chinstrap | Dream     | 49.3      | 19.9      | 203       | 4050      | male      | 2009      |\n",
       "| Chinstrap | Dream     | 50.2      | 18.8      | 202       | 3800      | male      | 2009      |\n",
       "| Chinstrap | Dream     | 45.6      | 19.4      | 194       | 3525      | female    | 2009      |\n",
       "| Chinstrap | Dream     | 51.9      | 19.5      | 206       | 3950      | male      | 2009      |\n",
       "| Chinstrap | Dream     | 46.8      | 16.5      | 189       | 3650      | female    | 2009      |\n",
       "| Chinstrap | Dream     | 45.7      | 17.0      | 195       | 3650      | female    | 2009      |\n",
       "| Chinstrap | Dream     | 55.8      | 19.8      | 207       | 4000      | male      | 2009      |\n",
       "| Chinstrap | Dream     | 43.5      | 18.1      | 202       | 3400      | female    | 2009      |\n",
       "| Chinstrap | Dream     | 49.6      | 18.2      | 193       | 3775      | male      | 2009      |\n",
       "| Chinstrap | Dream     | 50.8      | 19.0      | 210       | 4100      | male      | 2009      |\n",
       "| Chinstrap | Dream     | 50.2      | 18.7      | 198       | 3775      | female    | 2009      |\n",
       "\n"
      ],
      "text/plain": [
       "    species   island bill_length_mm bill_depth_mm flipper_length_mm body_mass_g\n",
       "1   Adelie    Dream  39.5           16.7          178               3250       \n",
       "2   Adelie    Dream  37.2           18.1          178               3900       \n",
       "3   Adelie    Dream  39.5           17.8          188               3300       \n",
       "4   Adelie    Dream  40.9           18.9          184               3900       \n",
       "5   Adelie    Dream  36.4           17.0          195               3325       \n",
       "6   Adelie    Dream  39.2           21.1          196               4150       \n",
       "7   Adelie    Dream  38.8           20.0          190               3950       \n",
       "8   Adelie    Dream  42.2           18.5          180               3550       \n",
       "9   Adelie    Dream  37.6           19.3          181               3300       \n",
       "10  Adelie    Dream  39.8           19.1          184               4650       \n",
       "11  Adelie    Dream  36.5           18.0          182               3150       \n",
       "12  Adelie    Dream  40.8           18.4          195               3900       \n",
       "13  Adelie    Dream  36.0           18.5          186               3100       \n",
       "14  Adelie    Dream  44.1           19.7          196               4400       \n",
       "15  Adelie    Dream  37.0           16.9          185               3000       \n",
       "16  Adelie    Dream  39.6           18.8          190               4600       \n",
       "17  Adelie    Dream  41.1           19.0          182               3425       \n",
       "18  Adelie    Dream  37.5           18.9          179               2975       \n",
       "19  Adelie    Dream  36.0           17.9          190               3450       \n",
       "20  Adelie    Dream  42.3           21.2          191               4150       \n",
       "21  Adelie    Dream  37.3           17.8          191               3350       \n",
       "22  Adelie    Dream  41.3           20.3          194               3550       \n",
       "23  Adelie    Dream  36.3           19.5          190               3800       \n",
       "24  Adelie    Dream  36.9           18.6          189               3500       \n",
       "25  Adelie    Dream  38.3           19.2          189               3950       \n",
       "26  Adelie    Dream  38.9           18.8          190               3600       \n",
       "27  Adelie    Dream  35.7           18.0          202               3550       \n",
       "28  Adelie    Dream  41.1           18.1          205               4300       \n",
       "29  Adelie    Dream  34.0           17.1          185               3400       \n",
       "30  Adelie    Dream  39.6           18.1          186               4450       \n",
       "... ...       ...    ...            ...           ...               ...        \n",
       "95  Chinstrap Dream  46.9           16.6          192               2700       \n",
       "96  Chinstrap Dream  53.5           19.9          205               4500       \n",
       "97  Chinstrap Dream  49.0           19.5          210               3950       \n",
       "98  Chinstrap Dream  46.2           17.5          187               3650       \n",
       "99  Chinstrap Dream  50.9           19.1          196               3550       \n",
       "100 Chinstrap Dream  45.5           17.0          196               3500       \n",
       "101 Chinstrap Dream  50.9           17.9          196               3675       \n",
       "102 Chinstrap Dream  50.8           18.5          201               4450       \n",
       "103 Chinstrap Dream  50.1           17.9          190               3400       \n",
       "104 Chinstrap Dream  49.0           19.6          212               4300       \n",
       "105 Chinstrap Dream  51.5           18.7          187               3250       \n",
       "106 Chinstrap Dream  49.8           17.3          198               3675       \n",
       "107 Chinstrap Dream  48.1           16.4          199               3325       \n",
       "108 Chinstrap Dream  51.4           19.0          201               3950       \n",
       "109 Chinstrap Dream  45.7           17.3          193               3600       \n",
       "110 Chinstrap Dream  50.7           19.7          203               4050       \n",
       "111 Chinstrap Dream  42.5           17.3          187               3350       \n",
       "112 Chinstrap Dream  52.2           18.8          197               3450       \n",
       "113 Chinstrap Dream  45.2           16.6          191               3250       \n",
       "114 Chinstrap Dream  49.3           19.9          203               4050       \n",
       "115 Chinstrap Dream  50.2           18.8          202               3800       \n",
       "116 Chinstrap Dream  45.6           19.4          194               3525       \n",
       "117 Chinstrap Dream  51.9           19.5          206               3950       \n",
       "118 Chinstrap Dream  46.8           16.5          189               3650       \n",
       "119 Chinstrap Dream  45.7           17.0          195               3650       \n",
       "120 Chinstrap Dream  55.8           19.8          207               4000       \n",
       "121 Chinstrap Dream  43.5           18.1          202               3400       \n",
       "122 Chinstrap Dream  49.6           18.2          193               3775       \n",
       "123 Chinstrap Dream  50.8           19.0          210               4100       \n",
       "124 Chinstrap Dream  50.2           18.7          198               3775       \n",
       "    sex    year\n",
       "1   female 2007\n",
       "2   male   2007\n",
       "3   female 2007\n",
       "4   male   2007\n",
       "5   female 2007\n",
       "6   male   2007\n",
       "7   male   2007\n",
       "8   female 2007\n",
       "9   female 2007\n",
       "10  male   2007\n",
       "11  female 2007\n",
       "12  male   2007\n",
       "13  female 2007\n",
       "14  male   2007\n",
       "15  female 2007\n",
       "16  male   2007\n",
       "17  male   2007\n",
       "18  NA     2007\n",
       "19  female 2007\n",
       "20  male   2007\n",
       "21  female 2008\n",
       "22  male   2008\n",
       "23  male   2008\n",
       "24  female 2008\n",
       "25  male   2008\n",
       "26  female 2008\n",
       "27  female 2008\n",
       "28  male   2008\n",
       "29  female 2008\n",
       "30  male   2008\n",
       "... ...    ... \n",
       "95  female 2008\n",
       "96  male   2008\n",
       "97  male   2008\n",
       "98  female 2008\n",
       "99  male   2008\n",
       "100 female 2008\n",
       "101 female 2009\n",
       "102 male   2009\n",
       "103 female 2009\n",
       "104 male   2009\n",
       "105 male   2009\n",
       "106 female 2009\n",
       "107 female 2009\n",
       "108 male   2009\n",
       "109 female 2009\n",
       "110 male   2009\n",
       "111 female 2009\n",
       "112 male   2009\n",
       "113 female 2009\n",
       "114 male   2009\n",
       "115 male   2009\n",
       "116 female 2009\n",
       "117 male   2009\n",
       "118 female 2009\n",
       "119 female 2009\n",
       "120 male   2009\n",
       "121 female 2009\n",
       "122 male   2009\n",
       "123 male   2009\n",
       "124 female 2009"
      ]
     },
     "metadata": {},
     "output_type": "display_data"
    }
   ],
   "source": [
    "penguins_2"
   ]
  },
  {
   "cell_type": "code",
   "execution_count": 35,
   "metadata": {},
   "outputs": [],
   "source": [
    "penguins_3 <- filter(penguins, sex =='male')"
   ]
  },
  {
   "cell_type": "code",
   "execution_count": 36,
   "metadata": {},
   "outputs": [
    {
     "data": {
      "text/html": [
       "<table>\n",
       "<thead><tr><th scope=col>species</th><th scope=col>island</th><th scope=col>bill_length_mm</th><th scope=col>bill_depth_mm</th><th scope=col>flipper_length_mm</th><th scope=col>body_mass_g</th><th scope=col>sex</th><th scope=col>year</th></tr></thead>\n",
       "<tbody>\n",
       "\t<tr><td>Adelie   </td><td>Torgersen</td><td>39.1     </td><td>18.7     </td><td>181      </td><td>3750     </td><td>male     </td><td>2007     </td></tr>\n",
       "\t<tr><td>Adelie   </td><td>Torgersen</td><td>39.3     </td><td>20.6     </td><td>190      </td><td>3650     </td><td>male     </td><td>2007     </td></tr>\n",
       "\t<tr><td>Adelie   </td><td>Torgersen</td><td>39.2     </td><td>19.6     </td><td>195      </td><td>4675     </td><td>male     </td><td>2007     </td></tr>\n",
       "\t<tr><td>Adelie   </td><td>Torgersen</td><td>38.6     </td><td>21.2     </td><td>191      </td><td>3800     </td><td>male     </td><td>2007     </td></tr>\n",
       "\t<tr><td>Adelie   </td><td>Torgersen</td><td>34.6     </td><td>21.1     </td><td>198      </td><td>4400     </td><td>male     </td><td>2007     </td></tr>\n",
       "\t<tr><td>Adelie   </td><td>Torgersen</td><td>42.5     </td><td>20.7     </td><td>197      </td><td>4500     </td><td>male     </td><td>2007     </td></tr>\n",
       "\t<tr><td>Adelie   </td><td>Torgersen</td><td>46.0     </td><td>21.5     </td><td>194      </td><td>4200     </td><td>male     </td><td>2007     </td></tr>\n",
       "\t<tr><td>Adelie   </td><td>Biscoe   </td><td>37.7     </td><td>18.7     </td><td>180      </td><td>3600     </td><td>male     </td><td>2007     </td></tr>\n",
       "\t<tr><td>Adelie   </td><td>Biscoe   </td><td>38.2     </td><td>18.1     </td><td>185      </td><td>3950     </td><td>male     </td><td>2007     </td></tr>\n",
       "\t<tr><td>Adelie   </td><td>Biscoe   </td><td>38.8     </td><td>17.2     </td><td>180      </td><td>3800     </td><td>male     </td><td>2007     </td></tr>\n",
       "\t<tr><td>Adelie   </td><td>Biscoe   </td><td>40.6     </td><td>18.6     </td><td>183      </td><td>3550     </td><td>male     </td><td>2007     </td></tr>\n",
       "\t<tr><td>Adelie   </td><td>Biscoe   </td><td>40.5     </td><td>18.9     </td><td>180      </td><td>3950     </td><td>male     </td><td>2007     </td></tr>\n",
       "\t<tr><td>Adelie   </td><td>Dream    </td><td>37.2     </td><td>18.1     </td><td>178      </td><td>3900     </td><td>male     </td><td>2007     </td></tr>\n",
       "\t<tr><td>Adelie   </td><td>Dream    </td><td>40.9     </td><td>18.9     </td><td>184      </td><td>3900     </td><td>male     </td><td>2007     </td></tr>\n",
       "\t<tr><td>Adelie   </td><td>Dream    </td><td>39.2     </td><td>21.1     </td><td>196      </td><td>4150     </td><td>male     </td><td>2007     </td></tr>\n",
       "\t<tr><td>Adelie   </td><td>Dream    </td><td>38.8     </td><td>20.0     </td><td>190      </td><td>3950     </td><td>male     </td><td>2007     </td></tr>\n",
       "\t<tr><td>Adelie   </td><td>Dream    </td><td>39.8     </td><td>19.1     </td><td>184      </td><td>4650     </td><td>male     </td><td>2007     </td></tr>\n",
       "\t<tr><td>Adelie   </td><td>Dream    </td><td>40.8     </td><td>18.4     </td><td>195      </td><td>3900     </td><td>male     </td><td>2007     </td></tr>\n",
       "\t<tr><td>Adelie   </td><td>Dream    </td><td>44.1     </td><td>19.7     </td><td>196      </td><td>4400     </td><td>male     </td><td>2007     </td></tr>\n",
       "\t<tr><td>Adelie   </td><td>Dream    </td><td>39.6     </td><td>18.8     </td><td>190      </td><td>4600     </td><td>male     </td><td>2007     </td></tr>\n",
       "\t<tr><td>Adelie   </td><td>Dream    </td><td>41.1     </td><td>19.0     </td><td>182      </td><td>3425     </td><td>male     </td><td>2007     </td></tr>\n",
       "\t<tr><td>Adelie   </td><td>Dream    </td><td>42.3     </td><td>21.2     </td><td>191      </td><td>4150     </td><td>male     </td><td>2007     </td></tr>\n",
       "\t<tr><td>Adelie   </td><td>Biscoe   </td><td>40.1     </td><td>18.9     </td><td>188      </td><td>4300     </td><td>male     </td><td>2008     </td></tr>\n",
       "\t<tr><td>Adelie   </td><td>Biscoe   </td><td>42.0     </td><td>19.5     </td><td>200      </td><td>4050     </td><td>male     </td><td>2008     </td></tr>\n",
       "\t<tr><td>Adelie   </td><td>Biscoe   </td><td>41.4     </td><td>18.6     </td><td>191      </td><td>3700     </td><td>male     </td><td>2008     </td></tr>\n",
       "\t<tr><td>Adelie   </td><td>Biscoe   </td><td>40.6     </td><td>18.8     </td><td>193      </td><td>3800     </td><td>male     </td><td>2008     </td></tr>\n",
       "\t<tr><td>Adelie   </td><td>Biscoe   </td><td>37.6     </td><td>19.1     </td><td>194      </td><td>3750     </td><td>male     </td><td>2008     </td></tr>\n",
       "\t<tr><td>Adelie   </td><td>Biscoe   </td><td>41.3     </td><td>21.1     </td><td>195      </td><td>4400     </td><td>male     </td><td>2008     </td></tr>\n",
       "\t<tr><td>Adelie   </td><td>Biscoe   </td><td>41.1     </td><td>18.2     </td><td>192      </td><td>4050     </td><td>male     </td><td>2008     </td></tr>\n",
       "\t<tr><td>Adelie   </td><td>Biscoe   </td><td>41.6     </td><td>18.0     </td><td>192      </td><td>3950     </td><td>male     </td><td>2008     </td></tr>\n",
       "\t<tr><td>...</td><td>...</td><td>...</td><td>...</td><td>...</td><td>...</td><td>...</td><td>...</td></tr>\n",
       "\t<tr><td>Chinstrap</td><td>Dream    </td><td>51.3     </td><td>19.9     </td><td>198      </td><td>3700     </td><td>male     </td><td>2007     </td></tr>\n",
       "\t<tr><td>Chinstrap</td><td>Dream    </td><td>51.7     </td><td>20.3     </td><td>194      </td><td>3775     </td><td>male     </td><td>2007     </td></tr>\n",
       "\t<tr><td>Chinstrap</td><td>Dream    </td><td>52.0     </td><td>18.1     </td><td>201      </td><td>4050     </td><td>male     </td><td>2007     </td></tr>\n",
       "\t<tr><td>Chinstrap</td><td>Dream    </td><td>50.5     </td><td>19.6     </td><td>201      </td><td>4050     </td><td>male     </td><td>2007     </td></tr>\n",
       "\t<tr><td>Chinstrap</td><td>Dream    </td><td>50.3     </td><td>20.0     </td><td>197      </td><td>3300     </td><td>male     </td><td>2007     </td></tr>\n",
       "\t<tr><td>Chinstrap</td><td>Dream    </td><td>49.2     </td><td>18.2     </td><td>195      </td><td>4400     </td><td>male     </td><td>2007     </td></tr>\n",
       "\t<tr><td>Chinstrap</td><td>Dream    </td><td>48.5     </td><td>17.5     </td><td>191      </td><td>3400     </td><td>male     </td><td>2007     </td></tr>\n",
       "\t<tr><td>Chinstrap</td><td>Dream    </td><td>50.6     </td><td>19.4     </td><td>193      </td><td>3800     </td><td>male     </td><td>2007     </td></tr>\n",
       "\t<tr><td>Chinstrap</td><td>Dream    </td><td>52.0     </td><td>19.0     </td><td>197      </td><td>4150     </td><td>male     </td><td>2007     </td></tr>\n",
       "\t<tr><td>Chinstrap</td><td>Dream    </td><td>49.5     </td><td>19.0     </td><td>200      </td><td>3800     </td><td>male     </td><td>2008     </td></tr>\n",
       "\t<tr><td>Chinstrap</td><td>Dream    </td><td>52.8     </td><td>20.0     </td><td>205      </td><td>4550     </td><td>male     </td><td>2008     </td></tr>\n",
       "\t<tr><td>Chinstrap</td><td>Dream    </td><td>54.2     </td><td>20.8     </td><td>201      </td><td>4300     </td><td>male     </td><td>2008     </td></tr>\n",
       "\t<tr><td>Chinstrap</td><td>Dream    </td><td>51.0     </td><td>18.8     </td><td>203      </td><td>4100     </td><td>male     </td><td>2008     </td></tr>\n",
       "\t<tr><td>Chinstrap</td><td>Dream    </td><td>49.7     </td><td>18.6     </td><td>195      </td><td>3600     </td><td>male     </td><td>2008     </td></tr>\n",
       "\t<tr><td>Chinstrap</td><td>Dream    </td><td>52.0     </td><td>20.7     </td><td>210      </td><td>4800     </td><td>male     </td><td>2008     </td></tr>\n",
       "\t<tr><td>Chinstrap</td><td>Dream    </td><td>53.5     </td><td>19.9     </td><td>205      </td><td>4500     </td><td>male     </td><td>2008     </td></tr>\n",
       "\t<tr><td>Chinstrap</td><td>Dream    </td><td>49.0     </td><td>19.5     </td><td>210      </td><td>3950     </td><td>male     </td><td>2008     </td></tr>\n",
       "\t<tr><td>Chinstrap</td><td>Dream    </td><td>50.9     </td><td>19.1     </td><td>196      </td><td>3550     </td><td>male     </td><td>2008     </td></tr>\n",
       "\t<tr><td>Chinstrap</td><td>Dream    </td><td>50.8     </td><td>18.5     </td><td>201      </td><td>4450     </td><td>male     </td><td>2009     </td></tr>\n",
       "\t<tr><td>Chinstrap</td><td>Dream    </td><td>49.0     </td><td>19.6     </td><td>212      </td><td>4300     </td><td>male     </td><td>2009     </td></tr>\n",
       "\t<tr><td>Chinstrap</td><td>Dream    </td><td>51.5     </td><td>18.7     </td><td>187      </td><td>3250     </td><td>male     </td><td>2009     </td></tr>\n",
       "\t<tr><td>Chinstrap</td><td>Dream    </td><td>51.4     </td><td>19.0     </td><td>201      </td><td>3950     </td><td>male     </td><td>2009     </td></tr>\n",
       "\t<tr><td>Chinstrap</td><td>Dream    </td><td>50.7     </td><td>19.7     </td><td>203      </td><td>4050     </td><td>male     </td><td>2009     </td></tr>\n",
       "\t<tr><td>Chinstrap</td><td>Dream    </td><td>52.2     </td><td>18.8     </td><td>197      </td><td>3450     </td><td>male     </td><td>2009     </td></tr>\n",
       "\t<tr><td>Chinstrap</td><td>Dream    </td><td>49.3     </td><td>19.9     </td><td>203      </td><td>4050     </td><td>male     </td><td>2009     </td></tr>\n",
       "\t<tr><td>Chinstrap</td><td>Dream    </td><td>50.2     </td><td>18.8     </td><td>202      </td><td>3800     </td><td>male     </td><td>2009     </td></tr>\n",
       "\t<tr><td>Chinstrap</td><td>Dream    </td><td>51.9     </td><td>19.5     </td><td>206      </td><td>3950     </td><td>male     </td><td>2009     </td></tr>\n",
       "\t<tr><td>Chinstrap</td><td>Dream    </td><td>55.8     </td><td>19.8     </td><td>207      </td><td>4000     </td><td>male     </td><td>2009     </td></tr>\n",
       "\t<tr><td>Chinstrap</td><td>Dream    </td><td>49.6     </td><td>18.2     </td><td>193      </td><td>3775     </td><td>male     </td><td>2009     </td></tr>\n",
       "\t<tr><td>Chinstrap</td><td>Dream    </td><td>50.8     </td><td>19.0     </td><td>210      </td><td>4100     </td><td>male     </td><td>2009     </td></tr>\n",
       "</tbody>\n",
       "</table>\n"
      ],
      "text/latex": [
       "\\begin{tabular}{r|llllllll}\n",
       " species & island & bill\\_length\\_mm & bill\\_depth\\_mm & flipper\\_length\\_mm & body\\_mass\\_g & sex & year\\\\\n",
       "\\hline\n",
       "\t Adelie    & Torgersen & 39.1      & 18.7      & 181       & 3750      & male      & 2007     \\\\\n",
       "\t Adelie    & Torgersen & 39.3      & 20.6      & 190       & 3650      & male      & 2007     \\\\\n",
       "\t Adelie    & Torgersen & 39.2      & 19.6      & 195       & 4675      & male      & 2007     \\\\\n",
       "\t Adelie    & Torgersen & 38.6      & 21.2      & 191       & 3800      & male      & 2007     \\\\\n",
       "\t Adelie    & Torgersen & 34.6      & 21.1      & 198       & 4400      & male      & 2007     \\\\\n",
       "\t Adelie    & Torgersen & 42.5      & 20.7      & 197       & 4500      & male      & 2007     \\\\\n",
       "\t Adelie    & Torgersen & 46.0      & 21.5      & 194       & 4200      & male      & 2007     \\\\\n",
       "\t Adelie    & Biscoe    & 37.7      & 18.7      & 180       & 3600      & male      & 2007     \\\\\n",
       "\t Adelie    & Biscoe    & 38.2      & 18.1      & 185       & 3950      & male      & 2007     \\\\\n",
       "\t Adelie    & Biscoe    & 38.8      & 17.2      & 180       & 3800      & male      & 2007     \\\\\n",
       "\t Adelie    & Biscoe    & 40.6      & 18.6      & 183       & 3550      & male      & 2007     \\\\\n",
       "\t Adelie    & Biscoe    & 40.5      & 18.9      & 180       & 3950      & male      & 2007     \\\\\n",
       "\t Adelie    & Dream     & 37.2      & 18.1      & 178       & 3900      & male      & 2007     \\\\\n",
       "\t Adelie    & Dream     & 40.9      & 18.9      & 184       & 3900      & male      & 2007     \\\\\n",
       "\t Adelie    & Dream     & 39.2      & 21.1      & 196       & 4150      & male      & 2007     \\\\\n",
       "\t Adelie    & Dream     & 38.8      & 20.0      & 190       & 3950      & male      & 2007     \\\\\n",
       "\t Adelie    & Dream     & 39.8      & 19.1      & 184       & 4650      & male      & 2007     \\\\\n",
       "\t Adelie    & Dream     & 40.8      & 18.4      & 195       & 3900      & male      & 2007     \\\\\n",
       "\t Adelie    & Dream     & 44.1      & 19.7      & 196       & 4400      & male      & 2007     \\\\\n",
       "\t Adelie    & Dream     & 39.6      & 18.8      & 190       & 4600      & male      & 2007     \\\\\n",
       "\t Adelie    & Dream     & 41.1      & 19.0      & 182       & 3425      & male      & 2007     \\\\\n",
       "\t Adelie    & Dream     & 42.3      & 21.2      & 191       & 4150      & male      & 2007     \\\\\n",
       "\t Adelie    & Biscoe    & 40.1      & 18.9      & 188       & 4300      & male      & 2008     \\\\\n",
       "\t Adelie    & Biscoe    & 42.0      & 19.5      & 200       & 4050      & male      & 2008     \\\\\n",
       "\t Adelie    & Biscoe    & 41.4      & 18.6      & 191       & 3700      & male      & 2008     \\\\\n",
       "\t Adelie    & Biscoe    & 40.6      & 18.8      & 193       & 3800      & male      & 2008     \\\\\n",
       "\t Adelie    & Biscoe    & 37.6      & 19.1      & 194       & 3750      & male      & 2008     \\\\\n",
       "\t Adelie    & Biscoe    & 41.3      & 21.1      & 195       & 4400      & male      & 2008     \\\\\n",
       "\t Adelie    & Biscoe    & 41.1      & 18.2      & 192       & 4050      & male      & 2008     \\\\\n",
       "\t Adelie    & Biscoe    & 41.6      & 18.0      & 192       & 3950      & male      & 2008     \\\\\n",
       "\t ... & ... & ... & ... & ... & ... & ... & ...\\\\\n",
       "\t Chinstrap & Dream     & 51.3      & 19.9      & 198       & 3700      & male      & 2007     \\\\\n",
       "\t Chinstrap & Dream     & 51.7      & 20.3      & 194       & 3775      & male      & 2007     \\\\\n",
       "\t Chinstrap & Dream     & 52.0      & 18.1      & 201       & 4050      & male      & 2007     \\\\\n",
       "\t Chinstrap & Dream     & 50.5      & 19.6      & 201       & 4050      & male      & 2007     \\\\\n",
       "\t Chinstrap & Dream     & 50.3      & 20.0      & 197       & 3300      & male      & 2007     \\\\\n",
       "\t Chinstrap & Dream     & 49.2      & 18.2      & 195       & 4400      & male      & 2007     \\\\\n",
       "\t Chinstrap & Dream     & 48.5      & 17.5      & 191       & 3400      & male      & 2007     \\\\\n",
       "\t Chinstrap & Dream     & 50.6      & 19.4      & 193       & 3800      & male      & 2007     \\\\\n",
       "\t Chinstrap & Dream     & 52.0      & 19.0      & 197       & 4150      & male      & 2007     \\\\\n",
       "\t Chinstrap & Dream     & 49.5      & 19.0      & 200       & 3800      & male      & 2008     \\\\\n",
       "\t Chinstrap & Dream     & 52.8      & 20.0      & 205       & 4550      & male      & 2008     \\\\\n",
       "\t Chinstrap & Dream     & 54.2      & 20.8      & 201       & 4300      & male      & 2008     \\\\\n",
       "\t Chinstrap & Dream     & 51.0      & 18.8      & 203       & 4100      & male      & 2008     \\\\\n",
       "\t Chinstrap & Dream     & 49.7      & 18.6      & 195       & 3600      & male      & 2008     \\\\\n",
       "\t Chinstrap & Dream     & 52.0      & 20.7      & 210       & 4800      & male      & 2008     \\\\\n",
       "\t Chinstrap & Dream     & 53.5      & 19.9      & 205       & 4500      & male      & 2008     \\\\\n",
       "\t Chinstrap & Dream     & 49.0      & 19.5      & 210       & 3950      & male      & 2008     \\\\\n",
       "\t Chinstrap & Dream     & 50.9      & 19.1      & 196       & 3550      & male      & 2008     \\\\\n",
       "\t Chinstrap & Dream     & 50.8      & 18.5      & 201       & 4450      & male      & 2009     \\\\\n",
       "\t Chinstrap & Dream     & 49.0      & 19.6      & 212       & 4300      & male      & 2009     \\\\\n",
       "\t Chinstrap & Dream     & 51.5      & 18.7      & 187       & 3250      & male      & 2009     \\\\\n",
       "\t Chinstrap & Dream     & 51.4      & 19.0      & 201       & 3950      & male      & 2009     \\\\\n",
       "\t Chinstrap & Dream     & 50.7      & 19.7      & 203       & 4050      & male      & 2009     \\\\\n",
       "\t Chinstrap & Dream     & 52.2      & 18.8      & 197       & 3450      & male      & 2009     \\\\\n",
       "\t Chinstrap & Dream     & 49.3      & 19.9      & 203       & 4050      & male      & 2009     \\\\\n",
       "\t Chinstrap & Dream     & 50.2      & 18.8      & 202       & 3800      & male      & 2009     \\\\\n",
       "\t Chinstrap & Dream     & 51.9      & 19.5      & 206       & 3950      & male      & 2009     \\\\\n",
       "\t Chinstrap & Dream     & 55.8      & 19.8      & 207       & 4000      & male      & 2009     \\\\\n",
       "\t Chinstrap & Dream     & 49.6      & 18.2      & 193       & 3775      & male      & 2009     \\\\\n",
       "\t Chinstrap & Dream     & 50.8      & 19.0      & 210       & 4100      & male      & 2009     \\\\\n",
       "\\end{tabular}\n"
      ],
      "text/markdown": [
       "\n",
       "| species | island | bill_length_mm | bill_depth_mm | flipper_length_mm | body_mass_g | sex | year |\n",
       "|---|---|---|---|---|---|---|---|\n",
       "| Adelie    | Torgersen | 39.1      | 18.7      | 181       | 3750      | male      | 2007      |\n",
       "| Adelie    | Torgersen | 39.3      | 20.6      | 190       | 3650      | male      | 2007      |\n",
       "| Adelie    | Torgersen | 39.2      | 19.6      | 195       | 4675      | male      | 2007      |\n",
       "| Adelie    | Torgersen | 38.6      | 21.2      | 191       | 3800      | male      | 2007      |\n",
       "| Adelie    | Torgersen | 34.6      | 21.1      | 198       | 4400      | male      | 2007      |\n",
       "| Adelie    | Torgersen | 42.5      | 20.7      | 197       | 4500      | male      | 2007      |\n",
       "| Adelie    | Torgersen | 46.0      | 21.5      | 194       | 4200      | male      | 2007      |\n",
       "| Adelie    | Biscoe    | 37.7      | 18.7      | 180       | 3600      | male      | 2007      |\n",
       "| Adelie    | Biscoe    | 38.2      | 18.1      | 185       | 3950      | male      | 2007      |\n",
       "| Adelie    | Biscoe    | 38.8      | 17.2      | 180       | 3800      | male      | 2007      |\n",
       "| Adelie    | Biscoe    | 40.6      | 18.6      | 183       | 3550      | male      | 2007      |\n",
       "| Adelie    | Biscoe    | 40.5      | 18.9      | 180       | 3950      | male      | 2007      |\n",
       "| Adelie    | Dream     | 37.2      | 18.1      | 178       | 3900      | male      | 2007      |\n",
       "| Adelie    | Dream     | 40.9      | 18.9      | 184       | 3900      | male      | 2007      |\n",
       "| Adelie    | Dream     | 39.2      | 21.1      | 196       | 4150      | male      | 2007      |\n",
       "| Adelie    | Dream     | 38.8      | 20.0      | 190       | 3950      | male      | 2007      |\n",
       "| Adelie    | Dream     | 39.8      | 19.1      | 184       | 4650      | male      | 2007      |\n",
       "| Adelie    | Dream     | 40.8      | 18.4      | 195       | 3900      | male      | 2007      |\n",
       "| Adelie    | Dream     | 44.1      | 19.7      | 196       | 4400      | male      | 2007      |\n",
       "| Adelie    | Dream     | 39.6      | 18.8      | 190       | 4600      | male      | 2007      |\n",
       "| Adelie    | Dream     | 41.1      | 19.0      | 182       | 3425      | male      | 2007      |\n",
       "| Adelie    | Dream     | 42.3      | 21.2      | 191       | 4150      | male      | 2007      |\n",
       "| Adelie    | Biscoe    | 40.1      | 18.9      | 188       | 4300      | male      | 2008      |\n",
       "| Adelie    | Biscoe    | 42.0      | 19.5      | 200       | 4050      | male      | 2008      |\n",
       "| Adelie    | Biscoe    | 41.4      | 18.6      | 191       | 3700      | male      | 2008      |\n",
       "| Adelie    | Biscoe    | 40.6      | 18.8      | 193       | 3800      | male      | 2008      |\n",
       "| Adelie    | Biscoe    | 37.6      | 19.1      | 194       | 3750      | male      | 2008      |\n",
       "| Adelie    | Biscoe    | 41.3      | 21.1      | 195       | 4400      | male      | 2008      |\n",
       "| Adelie    | Biscoe    | 41.1      | 18.2      | 192       | 4050      | male      | 2008      |\n",
       "| Adelie    | Biscoe    | 41.6      | 18.0      | 192       | 3950      | male      | 2008      |\n",
       "| ... | ... | ... | ... | ... | ... | ... | ... |\n",
       "| Chinstrap | Dream     | 51.3      | 19.9      | 198       | 3700      | male      | 2007      |\n",
       "| Chinstrap | Dream     | 51.7      | 20.3      | 194       | 3775      | male      | 2007      |\n",
       "| Chinstrap | Dream     | 52.0      | 18.1      | 201       | 4050      | male      | 2007      |\n",
       "| Chinstrap | Dream     | 50.5      | 19.6      | 201       | 4050      | male      | 2007      |\n",
       "| Chinstrap | Dream     | 50.3      | 20.0      | 197       | 3300      | male      | 2007      |\n",
       "| Chinstrap | Dream     | 49.2      | 18.2      | 195       | 4400      | male      | 2007      |\n",
       "| Chinstrap | Dream     | 48.5      | 17.5      | 191       | 3400      | male      | 2007      |\n",
       "| Chinstrap | Dream     | 50.6      | 19.4      | 193       | 3800      | male      | 2007      |\n",
       "| Chinstrap | Dream     | 52.0      | 19.0      | 197       | 4150      | male      | 2007      |\n",
       "| Chinstrap | Dream     | 49.5      | 19.0      | 200       | 3800      | male      | 2008      |\n",
       "| Chinstrap | Dream     | 52.8      | 20.0      | 205       | 4550      | male      | 2008      |\n",
       "| Chinstrap | Dream     | 54.2      | 20.8      | 201       | 4300      | male      | 2008      |\n",
       "| Chinstrap | Dream     | 51.0      | 18.8      | 203       | 4100      | male      | 2008      |\n",
       "| Chinstrap | Dream     | 49.7      | 18.6      | 195       | 3600      | male      | 2008      |\n",
       "| Chinstrap | Dream     | 52.0      | 20.7      | 210       | 4800      | male      | 2008      |\n",
       "| Chinstrap | Dream     | 53.5      | 19.9      | 205       | 4500      | male      | 2008      |\n",
       "| Chinstrap | Dream     | 49.0      | 19.5      | 210       | 3950      | male      | 2008      |\n",
       "| Chinstrap | Dream     | 50.9      | 19.1      | 196       | 3550      | male      | 2008      |\n",
       "| Chinstrap | Dream     | 50.8      | 18.5      | 201       | 4450      | male      | 2009      |\n",
       "| Chinstrap | Dream     | 49.0      | 19.6      | 212       | 4300      | male      | 2009      |\n",
       "| Chinstrap | Dream     | 51.5      | 18.7      | 187       | 3250      | male      | 2009      |\n",
       "| Chinstrap | Dream     | 51.4      | 19.0      | 201       | 3950      | male      | 2009      |\n",
       "| Chinstrap | Dream     | 50.7      | 19.7      | 203       | 4050      | male      | 2009      |\n",
       "| Chinstrap | Dream     | 52.2      | 18.8      | 197       | 3450      | male      | 2009      |\n",
       "| Chinstrap | Dream     | 49.3      | 19.9      | 203       | 4050      | male      | 2009      |\n",
       "| Chinstrap | Dream     | 50.2      | 18.8      | 202       | 3800      | male      | 2009      |\n",
       "| Chinstrap | Dream     | 51.9      | 19.5      | 206       | 3950      | male      | 2009      |\n",
       "| Chinstrap | Dream     | 55.8      | 19.8      | 207       | 4000      | male      | 2009      |\n",
       "| Chinstrap | Dream     | 49.6      | 18.2      | 193       | 3775      | male      | 2009      |\n",
       "| Chinstrap | Dream     | 50.8      | 19.0      | 210       | 4100      | male      | 2009      |\n",
       "\n"
      ],
      "text/plain": [
       "    species   island    bill_length_mm bill_depth_mm flipper_length_mm\n",
       "1   Adelie    Torgersen 39.1           18.7          181              \n",
       "2   Adelie    Torgersen 39.3           20.6          190              \n",
       "3   Adelie    Torgersen 39.2           19.6          195              \n",
       "4   Adelie    Torgersen 38.6           21.2          191              \n",
       "5   Adelie    Torgersen 34.6           21.1          198              \n",
       "6   Adelie    Torgersen 42.5           20.7          197              \n",
       "7   Adelie    Torgersen 46.0           21.5          194              \n",
       "8   Adelie    Biscoe    37.7           18.7          180              \n",
       "9   Adelie    Biscoe    38.2           18.1          185              \n",
       "10  Adelie    Biscoe    38.8           17.2          180              \n",
       "11  Adelie    Biscoe    40.6           18.6          183              \n",
       "12  Adelie    Biscoe    40.5           18.9          180              \n",
       "13  Adelie    Dream     37.2           18.1          178              \n",
       "14  Adelie    Dream     40.9           18.9          184              \n",
       "15  Adelie    Dream     39.2           21.1          196              \n",
       "16  Adelie    Dream     38.8           20.0          190              \n",
       "17  Adelie    Dream     39.8           19.1          184              \n",
       "18  Adelie    Dream     40.8           18.4          195              \n",
       "19  Adelie    Dream     44.1           19.7          196              \n",
       "20  Adelie    Dream     39.6           18.8          190              \n",
       "21  Adelie    Dream     41.1           19.0          182              \n",
       "22  Adelie    Dream     42.3           21.2          191              \n",
       "23  Adelie    Biscoe    40.1           18.9          188              \n",
       "24  Adelie    Biscoe    42.0           19.5          200              \n",
       "25  Adelie    Biscoe    41.4           18.6          191              \n",
       "26  Adelie    Biscoe    40.6           18.8          193              \n",
       "27  Adelie    Biscoe    37.6           19.1          194              \n",
       "28  Adelie    Biscoe    41.3           21.1          195              \n",
       "29  Adelie    Biscoe    41.1           18.2          192              \n",
       "30  Adelie    Biscoe    41.6           18.0          192              \n",
       "... ...       ...       ...            ...           ...              \n",
       "139 Chinstrap Dream     51.3           19.9          198              \n",
       "140 Chinstrap Dream     51.7           20.3          194              \n",
       "141 Chinstrap Dream     52.0           18.1          201              \n",
       "142 Chinstrap Dream     50.5           19.6          201              \n",
       "143 Chinstrap Dream     50.3           20.0          197              \n",
       "144 Chinstrap Dream     49.2           18.2          195              \n",
       "145 Chinstrap Dream     48.5           17.5          191              \n",
       "146 Chinstrap Dream     50.6           19.4          193              \n",
       "147 Chinstrap Dream     52.0           19.0          197              \n",
       "148 Chinstrap Dream     49.5           19.0          200              \n",
       "149 Chinstrap Dream     52.8           20.0          205              \n",
       "150 Chinstrap Dream     54.2           20.8          201              \n",
       "151 Chinstrap Dream     51.0           18.8          203              \n",
       "152 Chinstrap Dream     49.7           18.6          195              \n",
       "153 Chinstrap Dream     52.0           20.7          210              \n",
       "154 Chinstrap Dream     53.5           19.9          205              \n",
       "155 Chinstrap Dream     49.0           19.5          210              \n",
       "156 Chinstrap Dream     50.9           19.1          196              \n",
       "157 Chinstrap Dream     50.8           18.5          201              \n",
       "158 Chinstrap Dream     49.0           19.6          212              \n",
       "159 Chinstrap Dream     51.5           18.7          187              \n",
       "160 Chinstrap Dream     51.4           19.0          201              \n",
       "161 Chinstrap Dream     50.7           19.7          203              \n",
       "162 Chinstrap Dream     52.2           18.8          197              \n",
       "163 Chinstrap Dream     49.3           19.9          203              \n",
       "164 Chinstrap Dream     50.2           18.8          202              \n",
       "165 Chinstrap Dream     51.9           19.5          206              \n",
       "166 Chinstrap Dream     55.8           19.8          207              \n",
       "167 Chinstrap Dream     49.6           18.2          193              \n",
       "168 Chinstrap Dream     50.8           19.0          210              \n",
       "    body_mass_g sex  year\n",
       "1   3750        male 2007\n",
       "2   3650        male 2007\n",
       "3   4675        male 2007\n",
       "4   3800        male 2007\n",
       "5   4400        male 2007\n",
       "6   4500        male 2007\n",
       "7   4200        male 2007\n",
       "8   3600        male 2007\n",
       "9   3950        male 2007\n",
       "10  3800        male 2007\n",
       "11  3550        male 2007\n",
       "12  3950        male 2007\n",
       "13  3900        male 2007\n",
       "14  3900        male 2007\n",
       "15  4150        male 2007\n",
       "16  3950        male 2007\n",
       "17  4650        male 2007\n",
       "18  3900        male 2007\n",
       "19  4400        male 2007\n",
       "20  4600        male 2007\n",
       "21  3425        male 2007\n",
       "22  4150        male 2007\n",
       "23  4300        male 2008\n",
       "24  4050        male 2008\n",
       "25  3700        male 2008\n",
       "26  3800        male 2008\n",
       "27  3750        male 2008\n",
       "28  4400        male 2008\n",
       "29  4050        male 2008\n",
       "30  3950        male 2008\n",
       "... ...         ...  ... \n",
       "139 3700        male 2007\n",
       "140 3775        male 2007\n",
       "141 4050        male 2007\n",
       "142 4050        male 2007\n",
       "143 3300        male 2007\n",
       "144 4400        male 2007\n",
       "145 3400        male 2007\n",
       "146 3800        male 2007\n",
       "147 4150        male 2007\n",
       "148 3800        male 2008\n",
       "149 4550        male 2008\n",
       "150 4300        male 2008\n",
       "151 4100        male 2008\n",
       "152 3600        male 2008\n",
       "153 4800        male 2008\n",
       "154 4500        male 2008\n",
       "155 3950        male 2008\n",
       "156 3550        male 2008\n",
       "157 4450        male 2009\n",
       "158 4300        male 2009\n",
       "159 3250        male 2009\n",
       "160 3950        male 2009\n",
       "161 4050        male 2009\n",
       "162 3450        male 2009\n",
       "163 4050        male 2009\n",
       "164 3800        male 2009\n",
       "165 3950        male 2009\n",
       "166 4000        male 2009\n",
       "167 3775        male 2009\n",
       "168 4100        male 2009"
      ]
     },
     "metadata": {},
     "output_type": "display_data"
    }
   ],
   "source": [
    "penguins_3"
   ]
  },
  {
   "cell_type": "code",
   "execution_count": 37,
   "metadata": {},
   "outputs": [],
   "source": [
    "bill <- filter(penguins, bill_length_mm > 39 & bill_length_mm< 45)"
   ]
  },
  {
   "cell_type": "code",
   "execution_count": 38,
   "metadata": {},
   "outputs": [
    {
     "data": {
      "text/html": [
       "<table>\n",
       "<thead><tr><th scope=col>species</th><th scope=col>island</th><th scope=col>bill_length_mm</th><th scope=col>bill_depth_mm</th><th scope=col>flipper_length_mm</th><th scope=col>body_mass_g</th><th scope=col>sex</th><th scope=col>year</th></tr></thead>\n",
       "<tbody>\n",
       "\t<tr><td>Adelie   </td><td>Torgersen</td><td>39.1     </td><td>18.7     </td><td>181      </td><td>3750     </td><td>male     </td><td>2007     </td></tr>\n",
       "\t<tr><td>Adelie   </td><td>Torgersen</td><td>39.5     </td><td>17.4     </td><td>186      </td><td>3800     </td><td>female   </td><td>2007     </td></tr>\n",
       "\t<tr><td>Adelie   </td><td>Torgersen</td><td>40.3     </td><td>18.0     </td><td>195      </td><td>3250     </td><td>female   </td><td>2007     </td></tr>\n",
       "\t<tr><td>Adelie   </td><td>Torgersen</td><td>39.3     </td><td>20.6     </td><td>190      </td><td>3650     </td><td>male     </td><td>2007     </td></tr>\n",
       "\t<tr><td>Adelie   </td><td>Torgersen</td><td>39.2     </td><td>19.6     </td><td>195      </td><td>4675     </td><td>male     </td><td>2007     </td></tr>\n",
       "\t<tr><td>Adelie   </td><td>Torgersen</td><td>42.0     </td><td>20.2     </td><td>190      </td><td>4250     </td><td>NA       </td><td>2007     </td></tr>\n",
       "\t<tr><td>Adelie   </td><td>Torgersen</td><td>41.1     </td><td>17.6     </td><td>182      </td><td>3200     </td><td>female   </td><td>2007     </td></tr>\n",
       "\t<tr><td>Adelie   </td><td>Torgersen</td><td>42.5     </td><td>20.7     </td><td>197      </td><td>4500     </td><td>male     </td><td>2007     </td></tr>\n",
       "\t<tr><td>Adelie   </td><td>Biscoe   </td><td>40.6     </td><td>18.6     </td><td>183      </td><td>3550     </td><td>male     </td><td>2007     </td></tr>\n",
       "\t<tr><td>Adelie   </td><td>Biscoe   </td><td>40.5     </td><td>17.9     </td><td>187      </td><td>3200     </td><td>female   </td><td>2007     </td></tr>\n",
       "\t<tr><td>Adelie   </td><td>Biscoe   </td><td>40.5     </td><td>18.9     </td><td>180      </td><td>3950     </td><td>male     </td><td>2007     </td></tr>\n",
       "\t<tr><td>Adelie   </td><td>Dream    </td><td>39.5     </td><td>16.7     </td><td>178      </td><td>3250     </td><td>female   </td><td>2007     </td></tr>\n",
       "\t<tr><td>Adelie   </td><td>Dream    </td><td>39.5     </td><td>17.8     </td><td>188      </td><td>3300     </td><td>female   </td><td>2007     </td></tr>\n",
       "\t<tr><td>Adelie   </td><td>Dream    </td><td>40.9     </td><td>18.9     </td><td>184      </td><td>3900     </td><td>male     </td><td>2007     </td></tr>\n",
       "\t<tr><td>Adelie   </td><td>Dream    </td><td>39.2     </td><td>21.1     </td><td>196      </td><td>4150     </td><td>male     </td><td>2007     </td></tr>\n",
       "\t<tr><td>Adelie   </td><td>Dream    </td><td>42.2     </td><td>18.5     </td><td>180      </td><td>3550     </td><td>female   </td><td>2007     </td></tr>\n",
       "\t<tr><td>Adelie   </td><td>Dream    </td><td>39.8     </td><td>19.1     </td><td>184      </td><td>4650     </td><td>male     </td><td>2007     </td></tr>\n",
       "\t<tr><td>Adelie   </td><td>Dream    </td><td>40.8     </td><td>18.4     </td><td>195      </td><td>3900     </td><td>male     </td><td>2007     </td></tr>\n",
       "\t<tr><td>Adelie   </td><td>Dream    </td><td>44.1     </td><td>19.7     </td><td>196      </td><td>4400     </td><td>male     </td><td>2007     </td></tr>\n",
       "\t<tr><td>Adelie   </td><td>Dream    </td><td>39.6     </td><td>18.8     </td><td>190      </td><td>4600     </td><td>male     </td><td>2007     </td></tr>\n",
       "\t<tr><td>Adelie   </td><td>Dream    </td><td>41.1     </td><td>19.0     </td><td>182      </td><td>3425     </td><td>male     </td><td>2007     </td></tr>\n",
       "\t<tr><td>Adelie   </td><td>Dream    </td><td>42.3     </td><td>21.2     </td><td>191      </td><td>4150     </td><td>male     </td><td>2007     </td></tr>\n",
       "\t<tr><td>Adelie   </td><td>Biscoe   </td><td>39.6     </td><td>17.7     </td><td>186      </td><td>3500     </td><td>female   </td><td>2008     </td></tr>\n",
       "\t<tr><td>Adelie   </td><td>Biscoe   </td><td>40.1     </td><td>18.9     </td><td>188      </td><td>4300     </td><td>male     </td><td>2008     </td></tr>\n",
       "\t<tr><td>Adelie   </td><td>Biscoe   </td><td>42.0     </td><td>19.5     </td><td>200      </td><td>4050     </td><td>male     </td><td>2008     </td></tr>\n",
       "\t<tr><td>Adelie   </td><td>Biscoe   </td><td>41.4     </td><td>18.6     </td><td>191      </td><td>3700     </td><td>male     </td><td>2008     </td></tr>\n",
       "\t<tr><td>Adelie   </td><td>Biscoe   </td><td>40.6     </td><td>18.8     </td><td>193      </td><td>3800     </td><td>male     </td><td>2008     </td></tr>\n",
       "\t<tr><td>Adelie   </td><td>Biscoe   </td><td>41.3     </td><td>21.1     </td><td>195      </td><td>4400     </td><td>male     </td><td>2008     </td></tr>\n",
       "\t<tr><td>Adelie   </td><td>Biscoe   </td><td>41.1     </td><td>18.2     </td><td>192      </td><td>4050     </td><td>male     </td><td>2008     </td></tr>\n",
       "\t<tr><td>Adelie   </td><td>Biscoe   </td><td>41.6     </td><td>18.0     </td><td>192      </td><td>3950     </td><td>male     </td><td>2008     </td></tr>\n",
       "\t<tr><td>...</td><td>...</td><td>...</td><td>...</td><td>...</td><td>...</td><td>...</td><td>...</td></tr>\n",
       "\t<tr><td>Adelie   </td><td>Dream    </td><td>39.2     </td><td>18.6     </td><td>190      </td><td>4250     </td><td>male     </td><td>2009     </td></tr>\n",
       "\t<tr><td>Adelie   </td><td>Dream    </td><td>41.5     </td><td>18.5     </td><td>201      </td><td>4000     </td><td>male     </td><td>2009     </td></tr>\n",
       "\t<tr><td>Gentoo   </td><td>Biscoe   </td><td>43.3     </td><td>13.4     </td><td>209      </td><td>4400     </td><td>female   </td><td>2007     </td></tr>\n",
       "\t<tr><td>Gentoo   </td><td>Biscoe   </td><td>40.9     </td><td>13.7     </td><td>214      </td><td>4650     </td><td>female   </td><td>2007     </td></tr>\n",
       "\t<tr><td>Gentoo   </td><td>Biscoe   </td><td>42.0     </td><td>13.5     </td><td>210      </td><td>4150     </td><td>female   </td><td>2007     </td></tr>\n",
       "\t<tr><td>Gentoo   </td><td>Biscoe   </td><td>42.9     </td><td>13.1     </td><td>215      </td><td>5000     </td><td>female   </td><td>2007     </td></tr>\n",
       "\t<tr><td>Gentoo   </td><td>Biscoe   </td><td>44.5     </td><td>14.3     </td><td>216      </td><td>4100     </td><td>NA       </td><td>2007     </td></tr>\n",
       "\t<tr><td>Gentoo   </td><td>Biscoe   </td><td>42.8     </td><td>14.2     </td><td>209      </td><td>4700     </td><td>female   </td><td>2007     </td></tr>\n",
       "\t<tr><td>Gentoo   </td><td>Biscoe   </td><td>42.6     </td><td>13.7     </td><td>213      </td><td>4950     </td><td>female   </td><td>2008     </td></tr>\n",
       "\t<tr><td>Gentoo   </td><td>Biscoe   </td><td>44.4     </td><td>17.3     </td><td>219      </td><td>5250     </td><td>male     </td><td>2008     </td></tr>\n",
       "\t<tr><td>Gentoo   </td><td>Biscoe   </td><td>44.0     </td><td>13.6     </td><td>208      </td><td>4350     </td><td>female   </td><td>2008     </td></tr>\n",
       "\t<tr><td>Gentoo   </td><td>Biscoe   </td><td>42.7     </td><td>13.7     </td><td>208      </td><td>3950     </td><td>female   </td><td>2008     </td></tr>\n",
       "\t<tr><td>Gentoo   </td><td>Biscoe   </td><td>43.6     </td><td>13.9     </td><td>217      </td><td>4900     </td><td>female   </td><td>2008     </td></tr>\n",
       "\t<tr><td>Gentoo   </td><td>Biscoe   </td><td>44.9     </td><td>13.3     </td><td>213      </td><td>5100     </td><td>female   </td><td>2008     </td></tr>\n",
       "\t<tr><td>Gentoo   </td><td>Biscoe   </td><td>43.8     </td><td>13.9     </td><td>208      </td><td>4300     </td><td>female   </td><td>2008     </td></tr>\n",
       "\t<tr><td>Gentoo   </td><td>Biscoe   </td><td>43.2     </td><td>14.5     </td><td>208      </td><td>4450     </td><td>female   </td><td>2008     </td></tr>\n",
       "\t<tr><td>Gentoo   </td><td>Biscoe   </td><td>43.5     </td><td>14.2     </td><td>220      </td><td>4700     </td><td>female   </td><td>2008     </td></tr>\n",
       "\t<tr><td>Gentoo   </td><td>Biscoe   </td><td>44.9     </td><td>13.8     </td><td>212      </td><td>4750     </td><td>female   </td><td>2009     </td></tr>\n",
       "\t<tr><td>Gentoo   </td><td>Biscoe   </td><td>43.4     </td><td>14.4     </td><td>218      </td><td>4600     </td><td>female   </td><td>2009     </td></tr>\n",
       "\t<tr><td>Gentoo   </td><td>Biscoe   </td><td>44.5     </td><td>14.7     </td><td>214      </td><td>4850     </td><td>female   </td><td>2009     </td></tr>\n",
       "\t<tr><td>Gentoo   </td><td>Biscoe   </td><td>41.7     </td><td>14.7     </td><td>210      </td><td>4700     </td><td>female   </td><td>2009     </td></tr>\n",
       "\t<tr><td>Gentoo   </td><td>Biscoe   </td><td>43.3     </td><td>14.0     </td><td>208      </td><td>4575     </td><td>female   </td><td>2009     </td></tr>\n",
       "\t<tr><td>Gentoo   </td><td>Biscoe   </td><td>43.5     </td><td>15.2     </td><td>213      </td><td>4650     </td><td>female   </td><td>2009     </td></tr>\n",
       "\t<tr><td>Gentoo   </td><td>Biscoe   </td><td>44.5     </td><td>15.7     </td><td>217      </td><td>4875     </td><td>NA       </td><td>2009     </td></tr>\n",
       "\t<tr><td>Chinstrap</td><td>Dream    </td><td>42.4     </td><td>17.3     </td><td>181      </td><td>3600     </td><td>female   </td><td>2007     </td></tr>\n",
       "\t<tr><td>Chinstrap</td><td>Dream    </td><td>43.2     </td><td>16.6     </td><td>187      </td><td>2900     </td><td>female   </td><td>2007     </td></tr>\n",
       "\t<tr><td>Chinstrap</td><td>Dream    </td><td>40.9     </td><td>16.6     </td><td>187      </td><td>3200     </td><td>female   </td><td>2008     </td></tr>\n",
       "\t<tr><td>Chinstrap</td><td>Dream    </td><td>42.5     </td><td>16.7     </td><td>187      </td><td>3350     </td><td>female   </td><td>2008     </td></tr>\n",
       "\t<tr><td>Chinstrap</td><td>Dream    </td><td>42.5     </td><td>17.3     </td><td>187      </td><td>3350     </td><td>female   </td><td>2009     </td></tr>\n",
       "\t<tr><td>Chinstrap</td><td>Dream    </td><td>43.5     </td><td>18.1     </td><td>202      </td><td>3400     </td><td>female   </td><td>2009     </td></tr>\n",
       "</tbody>\n",
       "</table>\n"
      ],
      "text/latex": [
       "\\begin{tabular}{r|llllllll}\n",
       " species & island & bill\\_length\\_mm & bill\\_depth\\_mm & flipper\\_length\\_mm & body\\_mass\\_g & sex & year\\\\\n",
       "\\hline\n",
       "\t Adelie    & Torgersen & 39.1      & 18.7      & 181       & 3750      & male      & 2007     \\\\\n",
       "\t Adelie    & Torgersen & 39.5      & 17.4      & 186       & 3800      & female    & 2007     \\\\\n",
       "\t Adelie    & Torgersen & 40.3      & 18.0      & 195       & 3250      & female    & 2007     \\\\\n",
       "\t Adelie    & Torgersen & 39.3      & 20.6      & 190       & 3650      & male      & 2007     \\\\\n",
       "\t Adelie    & Torgersen & 39.2      & 19.6      & 195       & 4675      & male      & 2007     \\\\\n",
       "\t Adelie    & Torgersen & 42.0      & 20.2      & 190       & 4250      & NA        & 2007     \\\\\n",
       "\t Adelie    & Torgersen & 41.1      & 17.6      & 182       & 3200      & female    & 2007     \\\\\n",
       "\t Adelie    & Torgersen & 42.5      & 20.7      & 197       & 4500      & male      & 2007     \\\\\n",
       "\t Adelie    & Biscoe    & 40.6      & 18.6      & 183       & 3550      & male      & 2007     \\\\\n",
       "\t Adelie    & Biscoe    & 40.5      & 17.9      & 187       & 3200      & female    & 2007     \\\\\n",
       "\t Adelie    & Biscoe    & 40.5      & 18.9      & 180       & 3950      & male      & 2007     \\\\\n",
       "\t Adelie    & Dream     & 39.5      & 16.7      & 178       & 3250      & female    & 2007     \\\\\n",
       "\t Adelie    & Dream     & 39.5      & 17.8      & 188       & 3300      & female    & 2007     \\\\\n",
       "\t Adelie    & Dream     & 40.9      & 18.9      & 184       & 3900      & male      & 2007     \\\\\n",
       "\t Adelie    & Dream     & 39.2      & 21.1      & 196       & 4150      & male      & 2007     \\\\\n",
       "\t Adelie    & Dream     & 42.2      & 18.5      & 180       & 3550      & female    & 2007     \\\\\n",
       "\t Adelie    & Dream     & 39.8      & 19.1      & 184       & 4650      & male      & 2007     \\\\\n",
       "\t Adelie    & Dream     & 40.8      & 18.4      & 195       & 3900      & male      & 2007     \\\\\n",
       "\t Adelie    & Dream     & 44.1      & 19.7      & 196       & 4400      & male      & 2007     \\\\\n",
       "\t Adelie    & Dream     & 39.6      & 18.8      & 190       & 4600      & male      & 2007     \\\\\n",
       "\t Adelie    & Dream     & 41.1      & 19.0      & 182       & 3425      & male      & 2007     \\\\\n",
       "\t Adelie    & Dream     & 42.3      & 21.2      & 191       & 4150      & male      & 2007     \\\\\n",
       "\t Adelie    & Biscoe    & 39.6      & 17.7      & 186       & 3500      & female    & 2008     \\\\\n",
       "\t Adelie    & Biscoe    & 40.1      & 18.9      & 188       & 4300      & male      & 2008     \\\\\n",
       "\t Adelie    & Biscoe    & 42.0      & 19.5      & 200       & 4050      & male      & 2008     \\\\\n",
       "\t Adelie    & Biscoe    & 41.4      & 18.6      & 191       & 3700      & male      & 2008     \\\\\n",
       "\t Adelie    & Biscoe    & 40.6      & 18.8      & 193       & 3800      & male      & 2008     \\\\\n",
       "\t Adelie    & Biscoe    & 41.3      & 21.1      & 195       & 4400      & male      & 2008     \\\\\n",
       "\t Adelie    & Biscoe    & 41.1      & 18.2      & 192       & 4050      & male      & 2008     \\\\\n",
       "\t Adelie    & Biscoe    & 41.6      & 18.0      & 192       & 3950      & male      & 2008     \\\\\n",
       "\t ... & ... & ... & ... & ... & ... & ... & ...\\\\\n",
       "\t Adelie    & Dream     & 39.2      & 18.6      & 190       & 4250      & male      & 2009     \\\\\n",
       "\t Adelie    & Dream     & 41.5      & 18.5      & 201       & 4000      & male      & 2009     \\\\\n",
       "\t Gentoo    & Biscoe    & 43.3      & 13.4      & 209       & 4400      & female    & 2007     \\\\\n",
       "\t Gentoo    & Biscoe    & 40.9      & 13.7      & 214       & 4650      & female    & 2007     \\\\\n",
       "\t Gentoo    & Biscoe    & 42.0      & 13.5      & 210       & 4150      & female    & 2007     \\\\\n",
       "\t Gentoo    & Biscoe    & 42.9      & 13.1      & 215       & 5000      & female    & 2007     \\\\\n",
       "\t Gentoo    & Biscoe    & 44.5      & 14.3      & 216       & 4100      & NA        & 2007     \\\\\n",
       "\t Gentoo    & Biscoe    & 42.8      & 14.2      & 209       & 4700      & female    & 2007     \\\\\n",
       "\t Gentoo    & Biscoe    & 42.6      & 13.7      & 213       & 4950      & female    & 2008     \\\\\n",
       "\t Gentoo    & Biscoe    & 44.4      & 17.3      & 219       & 5250      & male      & 2008     \\\\\n",
       "\t Gentoo    & Biscoe    & 44.0      & 13.6      & 208       & 4350      & female    & 2008     \\\\\n",
       "\t Gentoo    & Biscoe    & 42.7      & 13.7      & 208       & 3950      & female    & 2008     \\\\\n",
       "\t Gentoo    & Biscoe    & 43.6      & 13.9      & 217       & 4900      & female    & 2008     \\\\\n",
       "\t Gentoo    & Biscoe    & 44.9      & 13.3      & 213       & 5100      & female    & 2008     \\\\\n",
       "\t Gentoo    & Biscoe    & 43.8      & 13.9      & 208       & 4300      & female    & 2008     \\\\\n",
       "\t Gentoo    & Biscoe    & 43.2      & 14.5      & 208       & 4450      & female    & 2008     \\\\\n",
       "\t Gentoo    & Biscoe    & 43.5      & 14.2      & 220       & 4700      & female    & 2008     \\\\\n",
       "\t Gentoo    & Biscoe    & 44.9      & 13.8      & 212       & 4750      & female    & 2009     \\\\\n",
       "\t Gentoo    & Biscoe    & 43.4      & 14.4      & 218       & 4600      & female    & 2009     \\\\\n",
       "\t Gentoo    & Biscoe    & 44.5      & 14.7      & 214       & 4850      & female    & 2009     \\\\\n",
       "\t Gentoo    & Biscoe    & 41.7      & 14.7      & 210       & 4700      & female    & 2009     \\\\\n",
       "\t Gentoo    & Biscoe    & 43.3      & 14.0      & 208       & 4575      & female    & 2009     \\\\\n",
       "\t Gentoo    & Biscoe    & 43.5      & 15.2      & 213       & 4650      & female    & 2009     \\\\\n",
       "\t Gentoo    & Biscoe    & 44.5      & 15.7      & 217       & 4875      & NA        & 2009     \\\\\n",
       "\t Chinstrap & Dream     & 42.4      & 17.3      & 181       & 3600      & female    & 2007     \\\\\n",
       "\t Chinstrap & Dream     & 43.2      & 16.6      & 187       & 2900      & female    & 2007     \\\\\n",
       "\t Chinstrap & Dream     & 40.9      & 16.6      & 187       & 3200      & female    & 2008     \\\\\n",
       "\t Chinstrap & Dream     & 42.5      & 16.7      & 187       & 3350      & female    & 2008     \\\\\n",
       "\t Chinstrap & Dream     & 42.5      & 17.3      & 187       & 3350      & female    & 2009     \\\\\n",
       "\t Chinstrap & Dream     & 43.5      & 18.1      & 202       & 3400      & female    & 2009     \\\\\n",
       "\\end{tabular}\n"
      ],
      "text/markdown": [
       "\n",
       "| species | island | bill_length_mm | bill_depth_mm | flipper_length_mm | body_mass_g | sex | year |\n",
       "|---|---|---|---|---|---|---|---|\n",
       "| Adelie    | Torgersen | 39.1      | 18.7      | 181       | 3750      | male      | 2007      |\n",
       "| Adelie    | Torgersen | 39.5      | 17.4      | 186       | 3800      | female    | 2007      |\n",
       "| Adelie    | Torgersen | 40.3      | 18.0      | 195       | 3250      | female    | 2007      |\n",
       "| Adelie    | Torgersen | 39.3      | 20.6      | 190       | 3650      | male      | 2007      |\n",
       "| Adelie    | Torgersen | 39.2      | 19.6      | 195       | 4675      | male      | 2007      |\n",
       "| Adelie    | Torgersen | 42.0      | 20.2      | 190       | 4250      | NA        | 2007      |\n",
       "| Adelie    | Torgersen | 41.1      | 17.6      | 182       | 3200      | female    | 2007      |\n",
       "| Adelie    | Torgersen | 42.5      | 20.7      | 197       | 4500      | male      | 2007      |\n",
       "| Adelie    | Biscoe    | 40.6      | 18.6      | 183       | 3550      | male      | 2007      |\n",
       "| Adelie    | Biscoe    | 40.5      | 17.9      | 187       | 3200      | female    | 2007      |\n",
       "| Adelie    | Biscoe    | 40.5      | 18.9      | 180       | 3950      | male      | 2007      |\n",
       "| Adelie    | Dream     | 39.5      | 16.7      | 178       | 3250      | female    | 2007      |\n",
       "| Adelie    | Dream     | 39.5      | 17.8      | 188       | 3300      | female    | 2007      |\n",
       "| Adelie    | Dream     | 40.9      | 18.9      | 184       | 3900      | male      | 2007      |\n",
       "| Adelie    | Dream     | 39.2      | 21.1      | 196       | 4150      | male      | 2007      |\n",
       "| Adelie    | Dream     | 42.2      | 18.5      | 180       | 3550      | female    | 2007      |\n",
       "| Adelie    | Dream     | 39.8      | 19.1      | 184       | 4650      | male      | 2007      |\n",
       "| Adelie    | Dream     | 40.8      | 18.4      | 195       | 3900      | male      | 2007      |\n",
       "| Adelie    | Dream     | 44.1      | 19.7      | 196       | 4400      | male      | 2007      |\n",
       "| Adelie    | Dream     | 39.6      | 18.8      | 190       | 4600      | male      | 2007      |\n",
       "| Adelie    | Dream     | 41.1      | 19.0      | 182       | 3425      | male      | 2007      |\n",
       "| Adelie    | Dream     | 42.3      | 21.2      | 191       | 4150      | male      | 2007      |\n",
       "| Adelie    | Biscoe    | 39.6      | 17.7      | 186       | 3500      | female    | 2008      |\n",
       "| Adelie    | Biscoe    | 40.1      | 18.9      | 188       | 4300      | male      | 2008      |\n",
       "| Adelie    | Biscoe    | 42.0      | 19.5      | 200       | 4050      | male      | 2008      |\n",
       "| Adelie    | Biscoe    | 41.4      | 18.6      | 191       | 3700      | male      | 2008      |\n",
       "| Adelie    | Biscoe    | 40.6      | 18.8      | 193       | 3800      | male      | 2008      |\n",
       "| Adelie    | Biscoe    | 41.3      | 21.1      | 195       | 4400      | male      | 2008      |\n",
       "| Adelie    | Biscoe    | 41.1      | 18.2      | 192       | 4050      | male      | 2008      |\n",
       "| Adelie    | Biscoe    | 41.6      | 18.0      | 192       | 3950      | male      | 2008      |\n",
       "| ... | ... | ... | ... | ... | ... | ... | ... |\n",
       "| Adelie    | Dream     | 39.2      | 18.6      | 190       | 4250      | male      | 2009      |\n",
       "| Adelie    | Dream     | 41.5      | 18.5      | 201       | 4000      | male      | 2009      |\n",
       "| Gentoo    | Biscoe    | 43.3      | 13.4      | 209       | 4400      | female    | 2007      |\n",
       "| Gentoo    | Biscoe    | 40.9      | 13.7      | 214       | 4650      | female    | 2007      |\n",
       "| Gentoo    | Biscoe    | 42.0      | 13.5      | 210       | 4150      | female    | 2007      |\n",
       "| Gentoo    | Biscoe    | 42.9      | 13.1      | 215       | 5000      | female    | 2007      |\n",
       "| Gentoo    | Biscoe    | 44.5      | 14.3      | 216       | 4100      | NA        | 2007      |\n",
       "| Gentoo    | Biscoe    | 42.8      | 14.2      | 209       | 4700      | female    | 2007      |\n",
       "| Gentoo    | Biscoe    | 42.6      | 13.7      | 213       | 4950      | female    | 2008      |\n",
       "| Gentoo    | Biscoe    | 44.4      | 17.3      | 219       | 5250      | male      | 2008      |\n",
       "| Gentoo    | Biscoe    | 44.0      | 13.6      | 208       | 4350      | female    | 2008      |\n",
       "| Gentoo    | Biscoe    | 42.7      | 13.7      | 208       | 3950      | female    | 2008      |\n",
       "| Gentoo    | Biscoe    | 43.6      | 13.9      | 217       | 4900      | female    | 2008      |\n",
       "| Gentoo    | Biscoe    | 44.9      | 13.3      | 213       | 5100      | female    | 2008      |\n",
       "| Gentoo    | Biscoe    | 43.8      | 13.9      | 208       | 4300      | female    | 2008      |\n",
       "| Gentoo    | Biscoe    | 43.2      | 14.5      | 208       | 4450      | female    | 2008      |\n",
       "| Gentoo    | Biscoe    | 43.5      | 14.2      | 220       | 4700      | female    | 2008      |\n",
       "| Gentoo    | Biscoe    | 44.9      | 13.8      | 212       | 4750      | female    | 2009      |\n",
       "| Gentoo    | Biscoe    | 43.4      | 14.4      | 218       | 4600      | female    | 2009      |\n",
       "| Gentoo    | Biscoe    | 44.5      | 14.7      | 214       | 4850      | female    | 2009      |\n",
       "| Gentoo    | Biscoe    | 41.7      | 14.7      | 210       | 4700      | female    | 2009      |\n",
       "| Gentoo    | Biscoe    | 43.3      | 14.0      | 208       | 4575      | female    | 2009      |\n",
       "| Gentoo    | Biscoe    | 43.5      | 15.2      | 213       | 4650      | female    | 2009      |\n",
       "| Gentoo    | Biscoe    | 44.5      | 15.7      | 217       | 4875      | NA        | 2009      |\n",
       "| Chinstrap | Dream     | 42.4      | 17.3      | 181       | 3600      | female    | 2007      |\n",
       "| Chinstrap | Dream     | 43.2      | 16.6      | 187       | 2900      | female    | 2007      |\n",
       "| Chinstrap | Dream     | 40.9      | 16.6      | 187       | 3200      | female    | 2008      |\n",
       "| Chinstrap | Dream     | 42.5      | 16.7      | 187       | 3350      | female    | 2008      |\n",
       "| Chinstrap | Dream     | 42.5      | 17.3      | 187       | 3350      | female    | 2009      |\n",
       "| Chinstrap | Dream     | 43.5      | 18.1      | 202       | 3400      | female    | 2009      |\n",
       "\n"
      ],
      "text/plain": [
       "    species   island    bill_length_mm bill_depth_mm flipper_length_mm\n",
       "1   Adelie    Torgersen 39.1           18.7          181              \n",
       "2   Adelie    Torgersen 39.5           17.4          186              \n",
       "3   Adelie    Torgersen 40.3           18.0          195              \n",
       "4   Adelie    Torgersen 39.3           20.6          190              \n",
       "5   Adelie    Torgersen 39.2           19.6          195              \n",
       "6   Adelie    Torgersen 42.0           20.2          190              \n",
       "7   Adelie    Torgersen 41.1           17.6          182              \n",
       "8   Adelie    Torgersen 42.5           20.7          197              \n",
       "9   Adelie    Biscoe    40.6           18.6          183              \n",
       "10  Adelie    Biscoe    40.5           17.9          187              \n",
       "11  Adelie    Biscoe    40.5           18.9          180              \n",
       "12  Adelie    Dream     39.5           16.7          178              \n",
       "13  Adelie    Dream     39.5           17.8          188              \n",
       "14  Adelie    Dream     40.9           18.9          184              \n",
       "15  Adelie    Dream     39.2           21.1          196              \n",
       "16  Adelie    Dream     42.2           18.5          180              \n",
       "17  Adelie    Dream     39.8           19.1          184              \n",
       "18  Adelie    Dream     40.8           18.4          195              \n",
       "19  Adelie    Dream     44.1           19.7          196              \n",
       "20  Adelie    Dream     39.6           18.8          190              \n",
       "21  Adelie    Dream     41.1           19.0          182              \n",
       "22  Adelie    Dream     42.3           21.2          191              \n",
       "23  Adelie    Biscoe    39.6           17.7          186              \n",
       "24  Adelie    Biscoe    40.1           18.9          188              \n",
       "25  Adelie    Biscoe    42.0           19.5          200              \n",
       "26  Adelie    Biscoe    41.4           18.6          191              \n",
       "27  Adelie    Biscoe    40.6           18.8          193              \n",
       "28  Adelie    Biscoe    41.3           21.1          195              \n",
       "29  Adelie    Biscoe    41.1           18.2          192              \n",
       "30  Adelie    Biscoe    41.6           18.0          192              \n",
       "... ...       ...       ...            ...           ...              \n",
       "65  Adelie    Dream     39.2           18.6          190              \n",
       "66  Adelie    Dream     41.5           18.5          201              \n",
       "67  Gentoo    Biscoe    43.3           13.4          209              \n",
       "68  Gentoo    Biscoe    40.9           13.7          214              \n",
       "69  Gentoo    Biscoe    42.0           13.5          210              \n",
       "70  Gentoo    Biscoe    42.9           13.1          215              \n",
       "71  Gentoo    Biscoe    44.5           14.3          216              \n",
       "72  Gentoo    Biscoe    42.8           14.2          209              \n",
       "73  Gentoo    Biscoe    42.6           13.7          213              \n",
       "74  Gentoo    Biscoe    44.4           17.3          219              \n",
       "75  Gentoo    Biscoe    44.0           13.6          208              \n",
       "76  Gentoo    Biscoe    42.7           13.7          208              \n",
       "77  Gentoo    Biscoe    43.6           13.9          217              \n",
       "78  Gentoo    Biscoe    44.9           13.3          213              \n",
       "79  Gentoo    Biscoe    43.8           13.9          208              \n",
       "80  Gentoo    Biscoe    43.2           14.5          208              \n",
       "81  Gentoo    Biscoe    43.5           14.2          220              \n",
       "82  Gentoo    Biscoe    44.9           13.8          212              \n",
       "83  Gentoo    Biscoe    43.4           14.4          218              \n",
       "84  Gentoo    Biscoe    44.5           14.7          214              \n",
       "85  Gentoo    Biscoe    41.7           14.7          210              \n",
       "86  Gentoo    Biscoe    43.3           14.0          208              \n",
       "87  Gentoo    Biscoe    43.5           15.2          213              \n",
       "88  Gentoo    Biscoe    44.5           15.7          217              \n",
       "89  Chinstrap Dream     42.4           17.3          181              \n",
       "90  Chinstrap Dream     43.2           16.6          187              \n",
       "91  Chinstrap Dream     40.9           16.6          187              \n",
       "92  Chinstrap Dream     42.5           16.7          187              \n",
       "93  Chinstrap Dream     42.5           17.3          187              \n",
       "94  Chinstrap Dream     43.5           18.1          202              \n",
       "    body_mass_g sex    year\n",
       "1   3750        male   2007\n",
       "2   3800        female 2007\n",
       "3   3250        female 2007\n",
       "4   3650        male   2007\n",
       "5   4675        male   2007\n",
       "6   4250        NA     2007\n",
       "7   3200        female 2007\n",
       "8   4500        male   2007\n",
       "9   3550        male   2007\n",
       "10  3200        female 2007\n",
       "11  3950        male   2007\n",
       "12  3250        female 2007\n",
       "13  3300        female 2007\n",
       "14  3900        male   2007\n",
       "15  4150        male   2007\n",
       "16  3550        female 2007\n",
       "17  4650        male   2007\n",
       "18  3900        male   2007\n",
       "19  4400        male   2007\n",
       "20  4600        male   2007\n",
       "21  3425        male   2007\n",
       "22  4150        male   2007\n",
       "23  3500        female 2008\n",
       "24  4300        male   2008\n",
       "25  4050        male   2008\n",
       "26  3700        male   2008\n",
       "27  3800        male   2008\n",
       "28  4400        male   2008\n",
       "29  4050        male   2008\n",
       "30  3950        male   2008\n",
       "... ...         ...    ... \n",
       "65  4250        male   2009\n",
       "66  4000        male   2009\n",
       "67  4400        female 2007\n",
       "68  4650        female 2007\n",
       "69  4150        female 2007\n",
       "70  5000        female 2007\n",
       "71  4100        NA     2007\n",
       "72  4700        female 2007\n",
       "73  4950        female 2008\n",
       "74  5250        male   2008\n",
       "75  4350        female 2008\n",
       "76  3950        female 2008\n",
       "77  4900        female 2008\n",
       "78  5100        female 2008\n",
       "79  4300        female 2008\n",
       "80  4450        female 2008\n",
       "81  4700        female 2008\n",
       "82  4750        female 2009\n",
       "83  4600        female 2009\n",
       "84  4850        female 2009\n",
       "85  4700        female 2009\n",
       "86  4575        female 2009\n",
       "87  4650        female 2009\n",
       "88  4875        NA     2009\n",
       "89  3600        female 2007\n",
       "90  2900        female 2007\n",
       "91  3200        female 2008\n",
       "92  3350        female 2008\n",
       "93  3350        female 2009\n",
       "94  3400        female 2009"
      ]
     },
     "metadata": {},
     "output_type": "display_data"
    }
   ],
   "source": [
    "bill"
   ]
  },
  {
   "cell_type": "code",
   "execution_count": 39,
   "metadata": {},
   "outputs": [
    {
     "data": {
      "text/html": [
       "<table>\n",
       "<thead><tr><th scope=col>species</th><th scope=col>island</th><th scope=col>bill_length_mm</th><th scope=col>bill_depth_mm</th><th scope=col>flipper_length_mm</th><th scope=col>body_mass_g</th><th scope=col>sex</th><th scope=col>year</th></tr></thead>\n",
       "<tbody>\n",
       "\t<tr><td>Adelie   </td><td>Torgersen</td><td>39.1     </td><td>18.7     </td><td>181      </td><td>3750     </td><td>male     </td><td>2007     </td></tr>\n",
       "\t<tr><td>Adelie   </td><td>Torgersen</td><td>39.5     </td><td>17.4     </td><td>186      </td><td>3800     </td><td>female   </td><td>2007     </td></tr>\n",
       "\t<tr><td>Adelie   </td><td>Torgersen</td><td>40.3     </td><td>18.0     </td><td>195      </td><td>3250     </td><td>female   </td><td>2007     </td></tr>\n",
       "\t<tr><td>Adelie   </td><td>Torgersen</td><td>39.3     </td><td>20.6     </td><td>190      </td><td>3650     </td><td>male     </td><td>2007     </td></tr>\n",
       "\t<tr><td>Adelie   </td><td>Torgersen</td><td>39.2     </td><td>19.6     </td><td>195      </td><td>4675     </td><td>male     </td><td>2007     </td></tr>\n",
       "\t<tr><td>Adelie   </td><td>Torgersen</td><td>42.0     </td><td>20.2     </td><td>190      </td><td>4250     </td><td>NA       </td><td>2007     </td></tr>\n",
       "\t<tr><td>Adelie   </td><td>Torgersen</td><td>41.1     </td><td>17.6     </td><td>182      </td><td>3200     </td><td>female   </td><td>2007     </td></tr>\n",
       "\t<tr><td>Adelie   </td><td>Torgersen</td><td>42.5     </td><td>20.7     </td><td>197      </td><td>4500     </td><td>male     </td><td>2007     </td></tr>\n",
       "\t<tr><td>Adelie   </td><td>Biscoe   </td><td>40.6     </td><td>18.6     </td><td>183      </td><td>3550     </td><td>male     </td><td>2007     </td></tr>\n",
       "\t<tr><td>Adelie   </td><td>Biscoe   </td><td>40.5     </td><td>17.9     </td><td>187      </td><td>3200     </td><td>female   </td><td>2007     </td></tr>\n",
       "</tbody>\n",
       "</table>\n"
      ],
      "text/latex": [
       "\\begin{tabular}{r|llllllll}\n",
       " species & island & bill\\_length\\_mm & bill\\_depth\\_mm & flipper\\_length\\_mm & body\\_mass\\_g & sex & year\\\\\n",
       "\\hline\n",
       "\t Adelie    & Torgersen & 39.1      & 18.7      & 181       & 3750      & male      & 2007     \\\\\n",
       "\t Adelie    & Torgersen & 39.5      & 17.4      & 186       & 3800      & female    & 2007     \\\\\n",
       "\t Adelie    & Torgersen & 40.3      & 18.0      & 195       & 3250      & female    & 2007     \\\\\n",
       "\t Adelie    & Torgersen & 39.3      & 20.6      & 190       & 3650      & male      & 2007     \\\\\n",
       "\t Adelie    & Torgersen & 39.2      & 19.6      & 195       & 4675      & male      & 2007     \\\\\n",
       "\t Adelie    & Torgersen & 42.0      & 20.2      & 190       & 4250      & NA        & 2007     \\\\\n",
       "\t Adelie    & Torgersen & 41.1      & 17.6      & 182       & 3200      & female    & 2007     \\\\\n",
       "\t Adelie    & Torgersen & 42.5      & 20.7      & 197       & 4500      & male      & 2007     \\\\\n",
       "\t Adelie    & Biscoe    & 40.6      & 18.6      & 183       & 3550      & male      & 2007     \\\\\n",
       "\t Adelie    & Biscoe    & 40.5      & 17.9      & 187       & 3200      & female    & 2007     \\\\\n",
       "\\end{tabular}\n"
      ],
      "text/markdown": [
       "\n",
       "| species | island | bill_length_mm | bill_depth_mm | flipper_length_mm | body_mass_g | sex | year |\n",
       "|---|---|---|---|---|---|---|---|\n",
       "| Adelie    | Torgersen | 39.1      | 18.7      | 181       | 3750      | male      | 2007      |\n",
       "| Adelie    | Torgersen | 39.5      | 17.4      | 186       | 3800      | female    | 2007      |\n",
       "| Adelie    | Torgersen | 40.3      | 18.0      | 195       | 3250      | female    | 2007      |\n",
       "| Adelie    | Torgersen | 39.3      | 20.6      | 190       | 3650      | male      | 2007      |\n",
       "| Adelie    | Torgersen | 39.2      | 19.6      | 195       | 4675      | male      | 2007      |\n",
       "| Adelie    | Torgersen | 42.0      | 20.2      | 190       | 4250      | NA        | 2007      |\n",
       "| Adelie    | Torgersen | 41.1      | 17.6      | 182       | 3200      | female    | 2007      |\n",
       "| Adelie    | Torgersen | 42.5      | 20.7      | 197       | 4500      | male      | 2007      |\n",
       "| Adelie    | Biscoe    | 40.6      | 18.6      | 183       | 3550      | male      | 2007      |\n",
       "| Adelie    | Biscoe    | 40.5      | 17.9      | 187       | 3200      | female    | 2007      |\n",
       "\n"
      ],
      "text/plain": [
       "   species island    bill_length_mm bill_depth_mm flipper_length_mm body_mass_g\n",
       "1  Adelie  Torgersen 39.1           18.7          181               3750       \n",
       "2  Adelie  Torgersen 39.5           17.4          186               3800       \n",
       "3  Adelie  Torgersen 40.3           18.0          195               3250       \n",
       "4  Adelie  Torgersen 39.3           20.6          190               3650       \n",
       "5  Adelie  Torgersen 39.2           19.6          195               4675       \n",
       "6  Adelie  Torgersen 42.0           20.2          190               4250       \n",
       "7  Adelie  Torgersen 41.1           17.6          182               3200       \n",
       "8  Adelie  Torgersen 42.5           20.7          197               4500       \n",
       "9  Adelie  Biscoe    40.6           18.6          183               3550       \n",
       "10 Adelie  Biscoe    40.5           17.9          187               3200       \n",
       "   sex    year\n",
       "1  male   2007\n",
       "2  female 2007\n",
       "3  female 2007\n",
       "4  male   2007\n",
       "5  male   2007\n",
       "6  NA     2007\n",
       "7  female 2007\n",
       "8  male   2007\n",
       "9  male   2007\n",
       "10 female 2007"
      ]
     },
     "metadata": {},
     "output_type": "display_data"
    }
   ],
   "source": [
    "head(bill,10)"
   ]
  },
  {
   "cell_type": "code",
   "execution_count": null,
   "metadata": {},
   "outputs": [],
   "source": []
  }
 ],
 "metadata": {
  "kernelspec": {
   "display_name": "R",
   "language": "R",
   "name": "ir"
  },
  "language_info": {
   "codemirror_mode": "r",
   "file_extension": ".r",
   "mimetype": "text/x-r-source",
   "name": "R",
   "pygments_lexer": "r",
   "version": "3.6.1"
  }
 },
 "nbformat": 4,
 "nbformat_minor": 2
}
