{
 "cells": [
  {
   "cell_type": "code",
   "execution_count": 2,
   "metadata": {},
   "outputs": [
    {
     "name": "stdout",
     "output_type": "stream",
     "text": [
      "[1] \"Ten Fibonacci Number = \"\n",
      " [1]  1  1  2  3  5  8 13 21 34 55\n"
     ]
    }
   ],
   "source": [
    "Fibonacci <- numeric(10)\n",
    "Fibonacci[1] <- Fibonacci[2] <- 1\n",
    "for (i in 3:10) Fibonacci[i] <- Fibonacci[i - 2] + Fibonacci[i - 1]\n",
    "print(\"Ten Fibonacci Number = \")\n",
    "print(Fibonacci)"
   ]
  },
  {
   "cell_type": "markdown",
   "metadata": {},
   "source": [
    "# Factor in R: Categorical Variable & Continuous Variables"
   ]
  },
  {
   "cell_type": "markdown",
   "metadata": {},
   "source": [
    "### What is Factor in R?\n",
    "Factor in R is a variable used to categorize and store the data, having a limited number of different values. It stores the data as a vector of integer values. Factor in R is also known as a categorical variable that stores both string and integer data values as levels. Factor is mostly used in Statistical Modeling and exploratory data analysis with R."
   ]
  },
  {
   "cell_type": "code",
   "execution_count": 3,
   "metadata": {},
   "outputs": [
    {
     "data": {
      "text/html": [
       "'character'"
      ],
      "text/latex": [
       "'character'"
      ],
      "text/markdown": [
       "'character'"
      ],
      "text/plain": [
       "[1] \"character\""
      ]
     },
     "metadata": {},
     "output_type": "display_data"
    },
    {
     "data": {
      "text/html": [
       "'factor'"
      ],
      "text/latex": [
       "'factor'"
      ],
      "text/markdown": [
       "'factor'"
      ],
      "text/plain": [
       "[1] \"factor\""
      ]
     },
     "metadata": {},
     "output_type": "display_data"
    }
   ],
   "source": [
    "# Create gender vector\n",
    "gender_vector <- c(\"Male\", \"Female\", \"Female\", \"Male\", \"Male\")\n",
    "class(gender_vector)\n",
    "# Convert gender_vector to a factor\n",
    "factor_gender_vector <-factor(gender_vector)\n",
    "class(factor_gender_vector)"
   ]
  },
  {
   "cell_type": "code",
   "execution_count": 4,
   "metadata": {},
   "outputs": [
    {
     "name": "stdout",
     "output_type": "stream",
     "text": [
      "[1] Male   Female Female Male   Male  \n",
      "Levels: Female Male\n"
     ]
    }
   ],
   "source": [
    "print(factor_gender_vector)"
   ]
  },
  {
   "cell_type": "markdown",
   "metadata": {},
   "source": [
    "the lowest to the highest with order = TRUE and highest to lowest with order = FALSE"
   ]
  },
  {
   "cell_type": "code",
   "execution_count": 5,
   "metadata": {},
   "outputs": [
    {
     "data": {
      "text/html": [
       "<ol class=list-inline>\n",
       "\t<li>evening</li>\n",
       "\t<li>morning</li>\n",
       "\t<li>afternoon</li>\n",
       "\t<li>midday</li>\n",
       "\t<li>midnight</li>\n",
       "\t<li>evening</li>\n",
       "</ol>\n",
       "\n",
       "<details>\n",
       "\t<summary style=display:list-item;cursor:pointer>\n",
       "\t\t<strong>Levels</strong>:\n",
       "\t</summary>\n",
       "\t<ol class=list-inline>\n",
       "\t\t<li>'morning'</li>\n",
       "\t\t<li>'midday'</li>\n",
       "\t\t<li>'afternoon'</li>\n",
       "\t\t<li>'evening'</li>\n",
       "\t\t<li>'midnight'</li>\n",
       "\t</ol>\n",
       "</details>"
      ],
      "text/latex": [
       "\\begin{enumerate*}\n",
       "\\item evening\n",
       "\\item morning\n",
       "\\item afternoon\n",
       "\\item midday\n",
       "\\item midnight\n",
       "\\item evening\n",
       "\\end{enumerate*}\n",
       "\n",
       "\\emph{Levels}: \\begin{enumerate*}\n",
       "\\item 'morning'\n",
       "\\item 'midday'\n",
       "\\item 'afternoon'\n",
       "\\item 'evening'\n",
       "\\item 'midnight'\n",
       "\\end{enumerate*}\n"
      ],
      "text/markdown": [
       "1. evening\n",
       "2. morning\n",
       "3. afternoon\n",
       "4. midday\n",
       "5. midnight\n",
       "6. evening\n",
       "\n",
       "\n",
       "\n",
       "**Levels**: 1. 'morning'\n",
       "2. 'midday'\n",
       "3. 'afternoon'\n",
       "4. 'evening'\n",
       "5. 'midnight'\n",
       "\n",
       "\n"
      ],
      "text/plain": [
       "[1] evening   morning   afternoon midday    midnight  evening  \n",
       "Levels: morning < midday < afternoon < evening < midnight"
      ]
     },
     "metadata": {},
     "output_type": "display_data"
    }
   ],
   "source": [
    "day_vector <- c('evening', 'morning', 'afternoon', 'midday', 'midnight', 'evening')\n",
    "# Convert `day_vector` to a factor with ordered level\n",
    "factor_day <- factor(day_vector, order = TRUE, levels =c('morning', 'midday', 'afternoon', 'evening', 'midnight'))\n",
    "# Print the new variable\n",
    "factor_day"
   ]
  },
  {
   "cell_type": "code",
   "execution_count": 6,
   "metadata": {},
   "outputs": [
    {
     "data": {
      "text/html": [
       "<dl class=dl-horizontal>\n",
       "\t<dt>morning</dt>\n",
       "\t\t<dd>1</dd>\n",
       "\t<dt>midday</dt>\n",
       "\t\t<dd>1</dd>\n",
       "\t<dt>afternoon</dt>\n",
       "\t\t<dd>1</dd>\n",
       "\t<dt>evening</dt>\n",
       "\t\t<dd>2</dd>\n",
       "\t<dt>midnight</dt>\n",
       "\t\t<dd>1</dd>\n",
       "</dl>\n"
      ],
      "text/latex": [
       "\\begin{description*}\n",
       "\\item[morning] 1\n",
       "\\item[midday] 1\n",
       "\\item[afternoon] 1\n",
       "\\item[evening] 2\n",
       "\\item[midnight] 1\n",
       "\\end{description*}\n"
      ],
      "text/markdown": [
       "morning\n",
       ":   1midday\n",
       ":   1afternoon\n",
       ":   1evening\n",
       ":   2midnight\n",
       ":   1\n",
       "\n"
      ],
      "text/plain": [
       "  morning    midday afternoon   evening  midnight \n",
       "        1         1         1         2         1 "
      ]
     },
     "metadata": {},
     "output_type": "display_data"
    }
   ],
   "source": [
    "summary(factor_day)"
   ]
  },
  {
   "cell_type": "markdown",
   "metadata": {},
   "source": [
    "#### Write a R program to find the levels of factor of a given vector"
   ]
  },
  {
   "cell_type": "code",
   "execution_count": 7,
   "metadata": {},
   "outputs": [
    {
     "name": "stdout",
     "output_type": "stream",
     "text": [
      "[1] \"Original vector:\"\n",
      " [1]  1  2  3  3  4 NA  3  2  4  5 NA  5\n",
      "[1] \"Levels of factor of the said vector:\"\n",
      "[1] \"1\" \"2\" \"3\" \"4\" \"5\"\n"
     ]
    }
   ],
   "source": [
    "v = c(1, 2, 3, 3, 4, NA, 3, 2, 4, 5, NA, 5)\n",
    "print(\"Original vector:\")\n",
    "print(v)\n",
    "print(\"Levels of factor of the said vector:\")\n",
    "print(levels(factor(v)))"
   ]
  },
  {
   "cell_type": "markdown",
   "metadata": {},
   "source": [
    "#### Write a R program to change the first level of a factor with another level of a given factor"
   ]
  },
  {
   "cell_type": "code",
   "execution_count": 8,
   "metadata": {},
   "outputs": [
    {
     "name": "stdout",
     "output_type": "stream",
     "text": [
      "[1] \"Original vector:\"\n",
      "[1] \"a\" \"b\" \"a\" \"c\" \"b\"\n",
      "[1] \"Factor of the said vector:\"\n",
      "[1] a b a c b\n",
      "Levels: a b c\n",
      "[1] e b e c b\n",
      "Levels: e b c\n"
     ]
    }
   ],
   "source": [
    "v = c(\"a\", \"b\", \"a\", \"c\", \"b\")\n",
    "print(\"Original vector:\")\n",
    "print(v)\n",
    "f = factor(v)\n",
    "print(\"Factor of the said vector:\")\n",
    "print(f)\n",
    "levels(f)[1] = \"e\"\n",
    "print(f)"
   ]
  },
  {
   "cell_type": "markdown",
   "metadata": {},
   "source": [
    "#### Write a R program to create an ordered factor from data consisting of the names of months"
   ]
  },
  {
   "cell_type": "code",
   "execution_count": 9,
   "metadata": {},
   "outputs": [
    {
     "name": "stdout",
     "output_type": "stream",
     "text": [
      "[1] \"Original vector:\"\n",
      " [1] \"March\"     \"April\"     \"January\"   \"November\"  \"January\"   \"September\"\n",
      " [7] \"October\"   \"September\" \"November\"  \"August\"    \"February\"  \"January\"  \n",
      "[13] \"November\"  \"November\"  \"February\"  \"May\"       \"August\"    \"February\" \n",
      "[19] \"July\"      \"December\"  \"August\"    \"August\"    \"September\" \"November\" \n",
      "[25] \"September\" \"February\"  \"April\"    \n"
     ]
    }
   ],
   "source": [
    "mons_v = c(\"March\",\"April\",\"January\",\"November\",\"January\",\n",
    "\"September\",\"October\",\"September\",\"November\",\"August\",\"February\",\n",
    "\"January\",\"November\",\"November\",\"February\",\"May\",\"August\",\"February\",\n",
    "\"July\",\"December\",\"August\",\"August\",\"September\",\"November\",\"September\",\n",
    "\"February\",\"April\")\n",
    "print(\"Original vector:\")\n",
    "print(mons_v)\n",
    "f = factor(mons_v)\n"
   ]
  },
  {
   "cell_type": "code",
   "execution_count": 10,
   "metadata": {},
   "outputs": [
    {
     "name": "stdout",
     "output_type": "stream",
     "text": [
      "[1] \"Ordered factors of the said vector:\"\n",
      "[1] \"----------------------------------\"\n",
      " [1] March     April     January   November  January   September October  \n",
      " [8] September November  August    February  January   November  November \n",
      "[15] February  May       August    February  July      December  August   \n",
      "[22] August    September November  September February  April    \n",
      "11 Levels: April August December February January July March May ... September\n"
     ]
    }
   ],
   "source": [
    "print(\"Ordered factors of the said vector:\")\n",
    "print(\"----------------------------------\")\n",
    "print(f)"
   ]
  },
  {
   "cell_type": "markdown",
   "metadata": {},
   "source": [
    "#### Write a R program to concatenate two given factor in a single factor."
   ]
  },
  {
   "cell_type": "markdown",
   "metadata": {},
   "source": [
    " **replace=TRUE** makes sure that no element occurs twice. "
   ]
  },
  {
   "cell_type": "code",
   "execution_count": 11,
   "metadata": {},
   "outputs": [
    {
     "name": "stdout",
     "output_type": "stream",
     "text": [
      "[1] \"Original factors:\"\n",
      "[1] E W N U O O\n",
      "Levels: E N O U W\n",
      "[1] K W E G D J\n",
      "Levels: D E G J K W\n",
      "[1] \"After concatenate factor becomes:\"\n"
     ]
    }
   ],
   "source": [
    "f1 <- factor(sample(LETTERS, size=6, replace=TRUE))\n",
    "f2 <- factor(sample(LETTERS, size=6, replace=TRUE))\n",
    "print(\"Original factors:\")\n",
    "print(f1)\n",
    "print(f2)\n",
    "f = factor(c(levels(f1)[f1], levels(f2)[f2]))\n",
    "print(\"After concatenate factor becomes:\")"
   ]
  },
  {
   "cell_type": "code",
   "execution_count": 12,
   "metadata": {},
   "outputs": [
    {
     "name": "stdout",
     "output_type": "stream",
     "text": [
      " [1] E W N U O O K W E G D J\n",
      "Levels: D E G J K N O U W\n"
     ]
    }
   ],
   "source": [
    "print(f)"
   ]
  },
  {
   "cell_type": "markdown",
   "metadata": {},
   "source": [
    "#### Write a R program to convert a given pH levels of soil to an ordered factor"
   ]
  },
  {
   "cell_type": "code",
   "execution_count": 13,
   "metadata": {},
   "outputs": [
    {
     "name": "stdout",
     "output_type": "stream",
     "text": [
      "[1] \"Original data:\"\n",
      " [1]  1  3 10  7  5  4  3  7  8  7  5  3 10 10  7\n",
      "[1] \"pH levels of soil to an ordered factor:\"\n",
      " [1] <NA> 3    10   7    <NA> <NA> 3    7    <NA> 7    <NA> 3    10   10   7   \n",
      "Levels: 3 < 7 < 10\n"
     ]
    }
   ],
   "source": [
    "ph = c(1,3,10,7,5,4,3,7,8,7,5,3,10,10,7)\n",
    "print(\"Original data:\")\n",
    "print(ph)\n",
    "ph_f = factor(ph,levels=c(3,7,10),ordered=TRUE)\n",
    "print(\"pH levels of soil to an ordered factor:\")\n",
    "print(ph_f)"
   ]
  },
  {
   "cell_type": "markdown",
   "metadata": {},
   "source": [
    "### Counting"
   ]
  },
  {
   "cell_type": "markdown",
   "metadata": {},
   "source": [
    "A common data manipulation task in R involves merging two data frames together. One of the simplest ways to do this is with the **cbind function.** The cbind function – short for column bind – is a merge function that can be used to combine two data frames with the same number of multiple rows into a single data frame"
   ]
  },
  {
   "cell_type": "code",
   "execution_count": 14,
   "metadata": {},
   "outputs": [],
   "source": [
    "bevs <- data.frame(cbind(name = c(\"Bill\", \"Llib\"), \n",
    "                         drink = c(\"coffee\", \"tea\", \"cocoa\", \"water\"),\n",
    "                         cost = seq(1:8)))\n",
    "bevs$cost <- as.integer(bevs$cost)"
   ]
  },
  {
   "cell_type": "markdown",
   "metadata": {},
   "source": [
    "**as.integer** for object of class truncates decimal part of image values and then converts to type integer."
   ]
  },
  {
   "cell_type": "code",
   "execution_count": 15,
   "metadata": {},
   "outputs": [
    {
     "data": {
      "text/html": [
       "<table>\n",
       "<thead><tr><th scope=col>name</th><th scope=col>drink</th><th scope=col>cost</th></tr></thead>\n",
       "<tbody>\n",
       "\t<tr><td>Bill  </td><td>coffee</td><td>1     </td></tr>\n",
       "\t<tr><td>Llib  </td><td>tea   </td><td>2     </td></tr>\n",
       "\t<tr><td>Bill  </td><td>cocoa </td><td>3     </td></tr>\n",
       "\t<tr><td>Llib  </td><td>water </td><td>4     </td></tr>\n",
       "\t<tr><td>Bill  </td><td>coffee</td><td>5     </td></tr>\n",
       "\t<tr><td>Llib  </td><td>tea   </td><td>6     </td></tr>\n",
       "\t<tr><td>Bill  </td><td>cocoa </td><td>7     </td></tr>\n",
       "\t<tr><td>Llib  </td><td>water </td><td>8     </td></tr>\n",
       "</tbody>\n",
       "</table>\n"
      ],
      "text/latex": [
       "\\begin{tabular}{r|lll}\n",
       " name & drink & cost\\\\\n",
       "\\hline\n",
       "\t Bill   & coffee & 1     \\\\\n",
       "\t Llib   & tea    & 2     \\\\\n",
       "\t Bill   & cocoa  & 3     \\\\\n",
       "\t Llib   & water  & 4     \\\\\n",
       "\t Bill   & coffee & 5     \\\\\n",
       "\t Llib   & tea    & 6     \\\\\n",
       "\t Bill   & cocoa  & 7     \\\\\n",
       "\t Llib   & water  & 8     \\\\\n",
       "\\end{tabular}\n"
      ],
      "text/markdown": [
       "\n",
       "| name | drink | cost |\n",
       "|---|---|---|\n",
       "| Bill   | coffee | 1      |\n",
       "| Llib   | tea    | 2      |\n",
       "| Bill   | cocoa  | 3      |\n",
       "| Llib   | water  | 4      |\n",
       "| Bill   | coffee | 5      |\n",
       "| Llib   | tea    | 6      |\n",
       "| Bill   | cocoa  | 7      |\n",
       "| Llib   | water  | 8      |\n",
       "\n"
      ],
      "text/plain": [
       "  name drink  cost\n",
       "1 Bill coffee 1   \n",
       "2 Llib tea    2   \n",
       "3 Bill cocoa  3   \n",
       "4 Llib water  4   \n",
       "5 Bill coffee 5   \n",
       "6 Llib tea    6   \n",
       "7 Bill cocoa  7   \n",
       "8 Llib water  8   "
      ]
     },
     "metadata": {},
     "output_type": "display_data"
    }
   ],
   "source": [
    "bevs"
   ]
  },
  {
   "cell_type": "code",
   "execution_count": 16,
   "metadata": {},
   "outputs": [],
   "source": [
    "library(plyr)"
   ]
  },
  {
   "cell_type": "markdown",
   "metadata": {},
   "source": [
    "Count the number of occurences."
   ]
  },
  {
   "cell_type": "code",
   "execution_count": 17,
   "metadata": {},
   "outputs": [
    {
     "data": {
      "text/html": [
       "<table>\n",
       "<thead><tr><th scope=col>name</th><th scope=col>freq</th></tr></thead>\n",
       "<tbody>\n",
       "\t<tr><td>Bill</td><td>4   </td></tr>\n",
       "\t<tr><td>Llib</td><td>4   </td></tr>\n",
       "</tbody>\n",
       "</table>\n"
      ],
      "text/latex": [
       "\\begin{tabular}{r|ll}\n",
       " name & freq\\\\\n",
       "\\hline\n",
       "\t Bill & 4   \\\\\n",
       "\t Llib & 4   \\\\\n",
       "\\end{tabular}\n"
      ],
      "text/markdown": [
       "\n",
       "| name | freq |\n",
       "|---|---|\n",
       "| Bill | 4    |\n",
       "| Llib | 4    |\n",
       "\n"
      ],
      "text/plain": [
       "  name freq\n",
       "1 Bill 4   \n",
       "2 Llib 4   "
      ]
     },
     "metadata": {},
     "output_type": "display_data"
    }
   ],
   "source": [
    "count(bevs,\"name\")"
   ]
  },
  {
   "cell_type": "code",
   "execution_count": 18,
   "metadata": {},
   "outputs": [
    {
     "data": {
      "text/html": [
       "<table>\n",
       "<thead><tr><th scope=col>name</th><th scope=col>drink</th><th scope=col>freq</th></tr></thead>\n",
       "<tbody>\n",
       "\t<tr><td>Bill  </td><td>cocoa </td><td>2     </td></tr>\n",
       "\t<tr><td>Bill  </td><td>coffee</td><td>2     </td></tr>\n",
       "\t<tr><td>Llib  </td><td>tea   </td><td>2     </td></tr>\n",
       "\t<tr><td>Llib  </td><td>water </td><td>2     </td></tr>\n",
       "</tbody>\n",
       "</table>\n"
      ],
      "text/latex": [
       "\\begin{tabular}{r|lll}\n",
       " name & drink & freq\\\\\n",
       "\\hline\n",
       "\t Bill   & cocoa  & 2     \\\\\n",
       "\t Bill   & coffee & 2     \\\\\n",
       "\t Llib   & tea    & 2     \\\\\n",
       "\t Llib   & water  & 2     \\\\\n",
       "\\end{tabular}\n"
      ],
      "text/markdown": [
       "\n",
       "| name | drink | freq |\n",
       "|---|---|---|\n",
       "| Bill   | cocoa  | 2      |\n",
       "| Bill   | coffee | 2      |\n",
       "| Llib   | tea    | 2      |\n",
       "| Llib   | water  | 2      |\n",
       "\n"
      ],
      "text/plain": [
       "  name drink  freq\n",
       "1 Bill cocoa  2   \n",
       "2 Bill coffee 2   \n",
       "3 Llib tea    2   \n",
       "4 Llib water  2   "
      ]
     },
     "metadata": {},
     "output_type": "display_data"
    }
   ],
   "source": [
    "count(bevs,c(\"name\",\"drink\"))"
   ]
  },
  {
   "cell_type": "code",
   "execution_count": 19,
   "metadata": {},
   "outputs": [],
   "source": [
    "cars <- data.frame(cbind(name = c(\"BMW\",\"AUDI\",\"MERCIDES\",\"HONDA\"),\n",
    "                        model = c(2000,2003,2004,2005),\n",
    "                        gear = c(3,4,5,6),\n",
    "                        cyl = c(4,6,6,4),\n",
    "                        freq = c(3,4,5,6)))"
   ]
  },
  {
   "cell_type": "code",
   "execution_count": 20,
   "metadata": {},
   "outputs": [],
   "source": [
    "cars$gear <- as.integer(cars$gear)"
   ]
  },
  {
   "cell_type": "code",
   "execution_count": 21,
   "metadata": {},
   "outputs": [],
   "source": [
    "cars$cyl <- as.integer(cars$cyl)\n",
    "cars$freq <- as.integer(cars$freq)"
   ]
  },
  {
   "cell_type": "code",
   "execution_count": 22,
   "metadata": {},
   "outputs": [
    {
     "name": "stderr",
     "output_type": "stream",
     "text": [
      "Using freq as weighting variable\n"
     ]
    }
   ],
   "source": [
    "x = count(cars,c('cyl','gear'))"
   ]
  },
  {
   "cell_type": "code",
   "execution_count": 23,
   "metadata": {},
   "outputs": [
    {
     "data": {
      "text/html": [
       "<table>\n",
       "<thead><tr><th scope=col>cyl</th><th scope=col>gear</th><th scope=col>freq</th></tr></thead>\n",
       "<tbody>\n",
       "\t<tr><td>1</td><td>1</td><td>1</td></tr>\n",
       "\t<tr><td>1</td><td>4</td><td>4</td></tr>\n",
       "\t<tr><td>2</td><td>2</td><td>2</td></tr>\n",
       "\t<tr><td>2</td><td>3</td><td>3</td></tr>\n",
       "</tbody>\n",
       "</table>\n"
      ],
      "text/latex": [
       "\\begin{tabular}{r|lll}\n",
       " cyl & gear & freq\\\\\n",
       "\\hline\n",
       "\t 1 & 1 & 1\\\\\n",
       "\t 1 & 4 & 4\\\\\n",
       "\t 2 & 2 & 2\\\\\n",
       "\t 2 & 3 & 3\\\\\n",
       "\\end{tabular}\n"
      ],
      "text/markdown": [
       "\n",
       "| cyl | gear | freq |\n",
       "|---|---|---|\n",
       "| 1 | 1 | 1 |\n",
       "| 1 | 4 | 4 |\n",
       "| 2 | 2 | 2 |\n",
       "| 2 | 3 | 3 |\n",
       "\n"
      ],
      "text/plain": [
       "  cyl gear freq\n",
       "1 1   1    1   \n",
       "2 1   4    4   \n",
       "3 2   2    2   \n",
       "4 2   3    3   "
      ]
     },
     "metadata": {},
     "output_type": "display_data"
    }
   ],
   "source": [
    "x"
   ]
  },
  {
   "cell_type": "markdown",
   "metadata": {},
   "source": [
    "Alternatively, you can use the count() function in the “plyr” package to get the same frequencies in a list format."
   ]
  },
  {
   "cell_type": "markdown",
   "metadata": {},
   "source": [
    "### Frequency Table"
   ]
  },
  {
   "cell_type": "code",
   "execution_count": 24,
   "metadata": {},
   "outputs": [
    {
     "data": {
      "text/html": [
       "<table>\n",
       "<thead><tr><th scope=col>gear</th></tr></thead>\n",
       "<tbody>\n",
       "\t<tr><td>1</td></tr>\n",
       "\t<tr><td>2</td></tr>\n",
       "\t<tr><td>3</td></tr>\n",
       "\t<tr><td>4</td></tr>\n",
       "</tbody>\n",
       "</table>\n"
      ],
      "text/latex": [
       "\\begin{tabular}{r|l}\n",
       " gear\\\\\n",
       "\\hline\n",
       "\t 1\\\\\n",
       "\t 2\\\\\n",
       "\t 3\\\\\n",
       "\t 4\\\\\n",
       "\\end{tabular}\n"
      ],
      "text/markdown": [
       "\n",
       "| gear |\n",
       "|---|\n",
       "| 1 |\n",
       "| 2 |\n",
       "| 3 |\n",
       "| 4 |\n",
       "\n"
      ],
      "text/plain": [
       "  gear\n",
       "1 1   \n",
       "2 2   \n",
       "3 3   \n",
       "4 4   "
      ]
     },
     "metadata": {},
     "output_type": "display_data"
    }
   ],
   "source": [
    "head(subset(cars, select = 'gear'))"
   ]
  },
  {
   "cell_type": "markdown",
   "metadata": {},
   "source": [
    "We can use the **subset()** function to restrict the data set to show just the row names and “gear”"
   ]
  },
  {
   "cell_type": "code",
   "execution_count": 25,
   "metadata": {},
   "outputs": [],
   "source": [
    "mydata <- data.frame(cbind(gender = c(\"Man\" ,\"Man\", \"Man\" ,\"Man\" ),\n",
    "                          Language = c(\"HTML/CSS;Java;JavaScript;Python\", \"C++;HTML/CSS;Python\", \"HTML/CSS\", \"C;C++;C#;Python;SQL\"),\n",
    "                          Hobbyist = c(\"Yes\",\"No\",\"Yes\" ,\"No\" ),\n",
    "                          Langgroup = c(\"Python\" ,\"Python\", \"Neither\", \"Python\")))"
   ]
  },
  {
   "cell_type": "code",
   "execution_count": 26,
   "metadata": {},
   "outputs": [
    {
     "data": {
      "text/html": [
       "<table>\n",
       "<thead><tr><th scope=col>gender</th><th scope=col>Language</th><th scope=col>Hobbyist</th><th scope=col>Langgroup</th></tr></thead>\n",
       "<tbody>\n",
       "\t<tr><td>Man                            </td><td>HTML/CSS;Java;JavaScript;Python</td><td>Yes                            </td><td>Python                         </td></tr>\n",
       "\t<tr><td>Man                            </td><td>C++;HTML/CSS;Python            </td><td>No                             </td><td>Python                         </td></tr>\n",
       "\t<tr><td>Man                            </td><td>HTML/CSS                       </td><td>Yes                            </td><td>Neither                        </td></tr>\n",
       "\t<tr><td>Man                            </td><td>C;C++;C#;Python;SQL            </td><td>No                             </td><td>Python                         </td></tr>\n",
       "</tbody>\n",
       "</table>\n"
      ],
      "text/latex": [
       "\\begin{tabular}{r|llll}\n",
       " gender & Language & Hobbyist & Langgroup\\\\\n",
       "\\hline\n",
       "\t Man                             & HTML/CSS;Java;JavaScript;Python & Yes                             & Python                         \\\\\n",
       "\t Man                             & C++;HTML/CSS;Python             & No                              & Python                         \\\\\n",
       "\t Man                             & HTML/CSS                        & Yes                             & Neither                        \\\\\n",
       "\t Man                               & C;C++;C\\#;Python;SQL             & No                                & Python                           \\\\\n",
       "\\end{tabular}\n"
      ],
      "text/markdown": [
       "\n",
       "| gender | Language | Hobbyist | Langgroup |\n",
       "|---|---|---|---|\n",
       "| Man                             | HTML/CSS;Java;JavaScript;Python | Yes                             | Python                          |\n",
       "| Man                             | C++;HTML/CSS;Python             | No                              | Python                          |\n",
       "| Man                             | HTML/CSS                        | Yes                             | Neither                         |\n",
       "| Man                             | C;C++;C#;Python;SQL             | No                              | Python                          |\n",
       "\n"
      ],
      "text/plain": [
       "  gender Language                        Hobbyist Langgroup\n",
       "1 Man    HTML/CSS;Java;JavaScript;Python Yes      Python   \n",
       "2 Man    C++;HTML/CSS;Python             No       Python   \n",
       "3 Man    HTML/CSS                        Yes      Neither  \n",
       "4 Man    C;C++;C#;Python;SQL             No       Python   "
      ]
     },
     "metadata": {},
     "output_type": "display_data"
    }
   ],
   "source": [
    "mydata"
   ]
  },
  {
   "cell_type": "code",
   "execution_count": 27,
   "metadata": {},
   "outputs": [
    {
     "data": {
      "text/html": [
       "<table>\n",
       "<thead><tr><th scope=col>gender</th><th scope=col>Hobbyist</th><th scope=col>freq</th></tr></thead>\n",
       "<tbody>\n",
       "\t<tr><td>Man</td><td>No </td><td>2  </td></tr>\n",
       "\t<tr><td>Man</td><td>Yes</td><td>2  </td></tr>\n",
       "</tbody>\n",
       "</table>\n"
      ],
      "text/latex": [
       "\\begin{tabular}{r|lll}\n",
       " gender & Hobbyist & freq\\\\\n",
       "\\hline\n",
       "\t Man & No  & 2  \\\\\n",
       "\t Man & Yes & 2  \\\\\n",
       "\\end{tabular}\n"
      ],
      "text/markdown": [
       "\n",
       "| gender | Hobbyist | freq |\n",
       "|---|---|---|\n",
       "| Man | No  | 2   |\n",
       "| Man | Yes | 2   |\n",
       "\n"
      ],
      "text/plain": [
       "  gender Hobbyist freq\n",
       "1 Man    No       2   \n",
       "2 Man    Yes      2   "
      ]
     },
     "metadata": {},
     "output_type": "display_data"
    }
   ],
   "source": [
    "count(mydata,c('gender','Hobbyist'))"
   ]
  },
  {
   "cell_type": "code",
   "execution_count": 28,
   "metadata": {},
   "outputs": [
    {
     "data": {
      "text/html": [
       "<table>\n",
       "<thead><tr><th scope=col>Language</th></tr></thead>\n",
       "<tbody>\n",
       "\t<tr><td>HTML/CSS;Java;JavaScript;Python</td></tr>\n",
       "\t<tr><td>C++;HTML/CSS;Python            </td></tr>\n",
       "\t<tr><td>HTML/CSS                       </td></tr>\n",
       "\t<tr><td>C;C++;C#;Python;SQL            </td></tr>\n",
       "</tbody>\n",
       "</table>\n"
      ],
      "text/latex": [
       "\\begin{tabular}{r|l}\n",
       " Language\\\\\n",
       "\\hline\n",
       "\t HTML/CSS;Java;JavaScript;Python\\\\\n",
       "\t C++;HTML/CSS;Python            \\\\\n",
       "\t HTML/CSS                       \\\\\n",
       "\t C;C++;C\\#;Python;SQL            \\\\\n",
       "\\end{tabular}\n"
      ],
      "text/markdown": [
       "\n",
       "| Language |\n",
       "|---|\n",
       "| HTML/CSS;Java;JavaScript;Python |\n",
       "| C++;HTML/CSS;Python             |\n",
       "| HTML/CSS                        |\n",
       "| C;C++;C#;Python;SQL             |\n",
       "\n"
      ],
      "text/plain": [
       "  Language                       \n",
       "1 HTML/CSS;Java;JavaScript;Python\n",
       "2 C++;HTML/CSS;Python            \n",
       "3 HTML/CSS                       \n",
       "4 C;C++;C#;Python;SQL            "
      ]
     },
     "metadata": {},
     "output_type": "display_data"
    }
   ],
   "source": [
    "subset(mydata,select = \"Language\")"
   ]
  },
  {
   "cell_type": "code",
   "execution_count": 29,
   "metadata": {},
   "outputs": [
    {
     "data": {
      "text/html": [
       "<table>\n",
       "<thead><tr><th scope=col>gender</th></tr></thead>\n",
       "<tbody>\n",
       "\t<tr><td>Man</td></tr>\n",
       "\t<tr><td>Man</td></tr>\n",
       "\t<tr><td>Man</td></tr>\n",
       "\t<tr><td>Man</td></tr>\n",
       "</tbody>\n",
       "</table>\n"
      ],
      "text/latex": [
       "\\begin{tabular}{r|l}\n",
       " gender\\\\\n",
       "\\hline\n",
       "\t Man\\\\\n",
       "\t Man\\\\\n",
       "\t Man\\\\\n",
       "\t Man\\\\\n",
       "\\end{tabular}\n"
      ],
      "text/markdown": [
       "\n",
       "| gender |\n",
       "|---|\n",
       "| Man |\n",
       "| Man |\n",
       "| Man |\n",
       "| Man |\n",
       "\n"
      ],
      "text/plain": [
       "  gender\n",
       "1 Man   \n",
       "2 Man   \n",
       "3 Man   \n",
       "4 Man   "
      ]
     },
     "metadata": {},
     "output_type": "display_data"
    }
   ],
   "source": [
    "subset(mydata,select = \"gender\")"
   ]
  },
  {
   "cell_type": "code",
   "execution_count": null,
   "metadata": {},
   "outputs": [
    {
     "name": "stderr",
     "output_type": "stream",
     "text": [
      "also installing the dependencies 'processx', 'rprojroot', 'pkgbuild', 'diffobj', 'brio', 'callr', 'cli', 'desc', 'ellipsis', 'pkgload', 'praise', 'ps', 'waldo', 'withr', 'pillar', 'elliptic', 'contfrac', 'deSolve', 'rootSolve', 'e1071', 'lmom', 'testthat', 'rlang', 'glue', 'tibble', 'tidyselect', 'vctrs', 'estimability', 'minqa', 'nloptr', 'statmod', 'coda', 'pbapply', 'mvtnorm', 'MatrixModels', 'hypergeo', 'RcppEigen', 'expm', 'Exact', 'gld', 'productplots', 'isoband', 'prismatic', 'rematch2', 'libcoin', 'Formula', 'inum', 'farver', 'lifecycle', 'bayestestR', 'dplyr', 'effectsize', 'emmeans', 'insight', 'lme4', 'parameters', 'performance', 'sjlabelled', 'sjmisc', 'BayesFactor', 'DescTools', 'ggmosaic', 'ggplot2', 'ggrepel', 'paletteer', 'partykit', 'scales', 'sjstats'\n",
      "\n"
     ]
    }
   ],
   "source": [
    "install.packages(\"CGPfunctions\")"
   ]
  },
  {
   "cell_type": "code",
   "execution_count": null,
   "metadata": {},
   "outputs": [],
   "source": [
    "library(CGPfunctions)\n",
    "PlotXTabs(mydata) "
   ]
  },
  {
   "cell_type": "code",
   "execution_count": null,
   "metadata": {},
   "outputs": [],
   "source": [
    "install.packages(\"vtree\")"
   ]
  },
  {
   "cell_type": "code",
   "execution_count": null,
   "metadata": {},
   "outputs": [],
   "source": [
    "library(vtree)\n",
    "vtree(mydata, \"LanguageGroup\")"
   ]
  },
  {
   "cell_type": "code",
   "execution_count": null,
   "metadata": {},
   "outputs": [],
   "source": [
    "vtree(mydata, \"LanguageGroup\", palette = 3, sortfill = TRUE)\n"
   ]
  },
  {
   "cell_type": "code",
   "execution_count": null,
   "metadata": {},
   "outputs": [],
   "source": [
    "vtree(mydata, c(\"LanguageGroup\", \"Gender\"), \n",
    "   fillcolor = c( LanguageGroup = \"#e7d4e8\", Gender = \"#99d8c9\"),\n",
    "   horiz = FALSE)"
   ]
  },
  {
   "cell_type": "code",
   "execution_count": null,
   "metadata": {},
   "outputs": [],
   "source": [
    "my_data <- data.frame(cbind(gender = c(\"Man\",\"Man\",\"Man\",\"Man\",\"Man\",\"Woman\",\"Woman\",\"Woman\",\"Man\",\"Woman\",\"Man\",\"Woman\",\"Man\",\"Woman\",\"Woman\",\"Woman\"),\n",
    "                           LanguageGroup = c(\"Neither\",\"Python\",\"Neither\",\"Python\",\"Both\",\"Neither\",\"Neither\",\"Python\",\"R\",\"Python\",\"Both\",\"Both\",\"R\",\"Both\",\"R\",\"R\"),\n",
    "                           Hobbyist = c(\"Yes\",\"Yes\",\"No\",\"No\",\"Yes\",\"Yes\",\"No\",\"Yes\",\"Yes\",\"No\",\"No\",\"Yes\",\"No\",\"No\",\"Yes\",\"No\"),\n",
    "                           n = c(43432,43421,456,32276,46743,6763,6731,67831,1002,1004,320,120,450,3420,190,150)))"
   ]
  },
  {
   "cell_type": "code",
   "execution_count": null,
   "metadata": {},
   "outputs": [],
   "source": [
    "library(ggplot2)\n",
    "ggplot(my_data,aes(LanguageGroup,n,fill = Hobbyist))+\n",
    "geom_bar(stat = \"identity\")+\n",
    "facet_wrap(facets = var(Gender))"
   ]
  },
  {
   "cell_type": "markdown",
   "metadata": {},
   "source": [
    "# Easy multi-panel plots in R using facet_wrap() and facet_grid() from ggplot2"
   ]
  },
  {
   "cell_type": "code",
   "execution_count": null,
   "metadata": {},
   "outputs": [],
   "source": [
    "library(\"IRdisplay\")\n",
    "display_png(file='Capture.PNG',width = 700,height=200)"
   ]
  },
  {
   "cell_type": "markdown",
   "metadata": {},
   "source": [
    "One of the most powerful aspects of the R plotting package ggplot2 is the ease with which you can create multi-panel plots. With a single function you can split a single plot into many related plots using facet_wrap() or facet_grid().\n",
    "\n",
    "Although creating multi-panel plots with ggplot2 is easy, understanding the difference between methods and some details about the arguments will help you make more effective plots."
   ]
  },
  {
   "cell_type": "code",
   "execution_count": null,
   "metadata": {},
   "outputs": [],
   "source": [
    "library(ggplot2)\n",
    "library(dplyr)"
   ]
  },
  {
   "cell_type": "code",
   "execution_count": null,
   "metadata": {},
   "outputs": [],
   "source": [
    "marvel <- readr::read_csv('marvel-wikia-data.csv')"
   ]
  },
  {
   "cell_type": "code",
   "execution_count": null,
   "metadata": {},
   "outputs": [],
   "source": [
    "head(marvel)"
   ]
  },
  {
   "cell_type": "code",
   "execution_count": null,
   "metadata": {},
   "outputs": [],
   "source": [
    "marvel <- filter(marvel,SEX !=\"\",ALIGN!= \"\",Year !=\"\")%>%\n",
    "filter(!is.na(APPEARANCES),APPEARANCES >100) %>%\n",
    "mutate(SEX = stringr ::str_replace(SEX,\"Characters\",\"\"))%>%\n",
    "arrange(desc(APPEARANCES))%>%\n",
    "rename(gender = SEX)%>%\n",
    "rename_all(tolower)"
   ]
  },
  {
   "cell_type": "code",
   "execution_count": null,
   "metadata": {},
   "outputs": [],
   "source": [
    "head(marvel)"
   ]
  },
  {
   "cell_type": "markdown",
   "metadata": {},
   "source": [
    "number of character appearances by year"
   ]
  },
  {
   "cell_type": "code",
   "execution_count": null,
   "metadata": {},
   "outputs": [],
   "source": [
    "marvel_count <- count(marvel,year)\n",
    "glimpse(marvel_count)"
   ]
  },
  {
   "cell_type": "markdown",
   "metadata": {},
   "source": [
    "glimpse() is like a transposed version of print() : columns run down the page, and data runs across. This makes it possible to see every column in a data frame."
   ]
  },
  {
   "cell_type": "code",
   "execution_count": null,
   "metadata": {},
   "outputs": [],
   "source": [
    "ggplot(data = marvel_count,aes(year,n))+\n",
    "geom_line(color = \"steelblue\",size=1)+\n",
    "geom_point(color = \"steelblue\")+\n",
    "labs(title=\"New Marvel Characters By Year\",\n",
    "    subtitle=\"(limited to characters with more than 100 apperances)\",\n",
    "    y = 'Count of new characters' ,x= '')"
   ]
  },
  {
   "cell_type": "markdown",
   "metadata": {},
   "source": [
    "Our first multi-panel plot: counts of appearance of “good” and “bad” characters with facet_wrap()"
   ]
  },
  {
   "cell_type": "code",
   "execution_count": null,
   "metadata": {},
   "outputs": [],
   "source": [
    "marvel_count <- count(marvel,year,align)\n",
    "glimpse(marvel_count)"
   ]
  },
  {
   "cell_type": "markdown",
   "metadata": {},
   "source": [
    "By simply adding + facet_wrap(~ align) to the end of our plot from above we can create a multi-panel plot with one pane per “alignment”"
   ]
  },
  {
   "cell_type": "code",
   "execution_count": null,
   "metadata": {},
   "outputs": [],
   "source": [
    "ggplot(data = marvel_count, aes(year, n)) +\n",
    "  geom_line(color = \"steelblue\", size = 1) +\n",
    "  geom_point(color=\"steelblue\") + \n",
    "  labs(title = \"New Marvel characters by alignment\",\n",
    "       subtitle = \"(limited to characters with more than 100 appearances)\",\n",
    "       y = \"Count of new characters\", x = \"\") + \n",
    "  facet_wrap(~ align)"
   ]
  },
  {
   "cell_type": "markdown",
   "metadata": {},
   "source": [
    "# Mutate Function in R"
   ]
  },
  {
   "cell_type": "code",
   "execution_count": null,
   "metadata": {},
   "outputs": [],
   "source": [
    "library(\"IRdisplay\")\n",
    "display_png(file='c1.PNG',width = 600,height=200)"
   ]
  },
  {
   "cell_type": "code",
   "execution_count": null,
   "metadata": {},
   "outputs": [],
   "source": [
    "install.packages(\"ISLR\")"
   ]
  },
  {
   "cell_type": "markdown",
   "metadata": {},
   "source": [
    "ISLR Is a library contain several dataset"
   ]
  },
  {
   "cell_type": "code",
   "execution_count": null,
   "metadata": {},
   "outputs": [],
   "source": [
    "library(ISLR)"
   ]
  },
  {
   "cell_type": "code",
   "execution_count": null,
   "metadata": {},
   "outputs": [],
   "source": [
    "print(Auto)"
   ]
  },
  {
   "cell_type": "markdown",
   "metadata": {},
   "source": [
    " tibbles actually are dataframes, but they are modified dataframes."
   ]
  },
  {
   "cell_type": "code",
   "execution_count": null,
   "metadata": {},
   "outputs": [],
   "source": [
    "library(dplyr)"
   ]
  },
  {
   "cell_type": "code",
   "execution_count": null,
   "metadata": {},
   "outputs": [],
   "source": [
    "library(tidyverse)"
   ]
  },
  {
   "cell_type": "code",
   "execution_count": null,
   "metadata": {},
   "outputs": [],
   "source": [
    "auto_specs <- as.tibble(Auto)"
   ]
  },
  {
   "cell_type": "code",
   "execution_count": null,
   "metadata": {},
   "outputs": [],
   "source": [
    "print(auto_specs)"
   ]
  },
  {
   "cell_type": "code",
   "execution_count": null,
   "metadata": {},
   "outputs": [],
   "source": [
    "auto_specs_new <- mutate(auto_specs, hp_to_weight = horsepower / weight)\n",
    "\n",
    "print(auto_specs_new)"
   ]
  },
  {
   "cell_type": "code",
   "execution_count": null,
   "metadata": {},
   "outputs": [],
   "source": [
    "head(auto_specs_new)"
   ]
  },
  {
   "cell_type": "code",
   "execution_count": null,
   "metadata": {},
   "outputs": [],
   "source": [
    "colnames(auto_specs)"
   ]
  },
  {
   "cell_type": "code",
   "execution_count": null,
   "metadata": {},
   "outputs": [],
   "source": [
    "mutate(auto_specs, hp_to_weight = horsepower / weight)\n",
    "colnames(auto_specs)"
   ]
  },
  {
   "cell_type": "code",
   "execution_count": null,
   "metadata": {},
   "outputs": [],
   "source": []
  }
 ],
 "metadata": {
  "kernelspec": {
   "display_name": "R",
   "language": "R",
   "name": "ir"
  },
  "language_info": {
   "codemirror_mode": "r",
   "file_extension": ".r",
   "mimetype": "text/x-r-source",
   "name": "R",
   "pygments_lexer": "r",
   "version": "3.6.1"
  }
 },
 "nbformat": 4,
 "nbformat_minor": 2
}
